{
 "cells": [
  {
   "cell_type": "markdown",
   "metadata": {
    "kernel": "SoS"
   },
   "source": [
    "# Final tables\n",
    "    \n",
    "## Instruction Notebook\n",
    "\n",
    "The notebook allows the user to construct to different level of aggregation:\n",
    "\n",
    "- `industry`\n",
    "- `geocode4_corr` -> city\n",
    "\n",
    "By default, the `aggregation_param` parameter is set to `industry`. To switch to city, change for `geocode4_corr`. Then launch the notebook for new results\n",
    "\n",
    "In the paper, we define a threshold to distinguish cities or industries. Choose among this set of threshold:\n",
    "\n",
    "- 5\n",
    "- 6\n",
    "- 7\n",
    "- 8\n",
    "- mean\n",
    "\n",
    "By default, the `threshold_full` parameter is set to `6`. To switch to another threshold, change the threshold `threshold_full`. Then launch the notebook for new results\n"
   ]
  },
  {
   "cell_type": "code",
   "execution_count": 1,
   "metadata": {
    "kernel": "SoS"
   },
   "outputs": [],
   "source": [
    "import pandas as pd\n",
    "from Fast_connectCloud import connector\n",
    "import numpy as np"
   ]
  },
  {
   "cell_type": "code",
   "execution_count": 2,
   "metadata": {
    "kernel": "Python 3"
   },
   "outputs": [],
   "source": [
    "import sys, os\n",
    "sys.path.insert(0,'..')"
   ]
  },
  {
   "cell_type": "code",
   "execution_count": 3,
   "metadata": {
    "kernel": "Python 3"
   },
   "outputs": [],
   "source": [
    "import functions.latex_beautify as lb\n",
    "\n",
    "%load_ext autoreload\n",
    "%autoreload 2"
   ]
  },
  {
   "cell_type": "code",
   "execution_count": 4,
   "metadata": {
    "kernel": "R"
   },
   "outputs": [],
   "source": [
    "options(warn=-1)\n",
    "shhh <- suppressPackageStartupMessages\n",
    "shhh(library(tidyverse))\n",
    "shhh(library(lfe))\n",
    "shhh(library(lazyeval))\n",
    "shhh(library('progress'))\n",
    "\n",
    "path = \"../functions/SBC_pollution_R.R\"\n",
    "source(path)\n",
    "path = \"../functions/SBC_pollutiuon_golatex.R\"\n",
    "source(path)"
   ]
  },
  {
   "cell_type": "code",
   "execution_count": 5,
   "metadata": {
    "kernel": "R"
   },
   "outputs": [],
   "source": [
    "change_target <- function(table){\n",
    "    check_target <- grep(\"PeriodAfter:polluted_threAbove:target_c$\", rownames(table$coef))\n",
    "    \n",
    "    if (length(check_target) !=0) {\n",
    "    rownames(table$coefficients)[check_target] <- 'target_c:PeriodAfter:polluted_threAbove'\n",
    "    rownames(table$beta)[check_target] <- 'target_c:PeriodAfter:polluted_threAbove'\n",
    "}\n",
    "    return (table)\n",
    "}"
   ]
  },
  {
   "cell_type": "code",
   "execution_count": 6,
   "metadata": {
    "kernel": "SoS"
   },
   "outputs": [
    {
     "name": "stdout",
     "output_type": "stream",
     "text": [
      "Service account storage and Bigquery are now connected. \n",
      "Service account storage is stored as <google.cloud.storage.client.Client object at 0xa1936bed0> and accessible with \"Storage_account\" \n",
      "Service account Bigquery is stored as <google.cloud.bigquery.client.Client object at 0xa17aefa90> and accessible with \"bigquery_account\"\n"
     ]
    }
   ],
   "source": [
    "gs = connector.open_connection(online_connection = False,\n",
    "                              path_credential = '/Users/thomas/Google Drive/Projects/Client_Oauth/Google_auth')\n",
    "\n",
    "service = gs.connect_remote('GCP')"
   ]
  },
  {
   "cell_type": "markdown",
   "metadata": {
    "kernel": "python3"
   },
   "source": [
    "# Load Data"
   ]
  },
  {
   "cell_type": "markdown",
   "metadata": {
    "kernel": "R"
   },
   "source": [
    "## Paper dataset"
   ]
  },
  {
   "cell_type": "code",
   "execution_count": 7,
   "metadata": {
    "kernel": "SoS"
   },
   "outputs": [
    {
     "name": "stderr",
     "output_type": "stream",
     "text": [
      "/Users/thomas/anaconda3/lib/python3.7/site-packages/pyarrow/feather.py:83: FutureWarning: The SparseDataFrame class is removed from pandas. Accessing it from the top-level namespace will also be removed in the next version\n",
      "  if isinstance(df, _pandas_api.pd.SparseDataFrame):\n"
     ]
    }
   ],
   "source": [
    "%put df_final --to R\n",
    "\n",
    "from GoogleDrivePy.google_platform import connect_cloud_platform\n",
    "project = 'valid-pagoda-132423'\n",
    "gcp = connect_cloud_platform.connect_console(project = project, \n",
    "                                             service_account = service['GoogleCloudP'])    \n",
    "query = (\n",
    "          \"SELECT * \"\n",
    "            \"FROM China.SBC_pollution_China \"\n",
    "\n",
    "        )\n",
    "\n",
    "df_final = gcp.upload_data_from_bigquery(query = query, location = 'US')\n",
    "#df_final.head()"
   ]
  },
  {
   "cell_type": "code",
   "execution_count": 8,
   "metadata": {
    "kernel": "R"
   },
   "outputs": [],
   "source": [
    "df_final <- df_final %>% \n",
    "    mutate_if(is.character, as.factor) %>%\n",
    "    mutate_at(vars(starts_with(\"FE\")), as.factor) %>%\n",
    "    mutate(\n",
    "         Period = relevel(Period, ref='Before'),\n",
    "         TCZ_c = relevel(TCZ_c, ref='No_TCZ'),\n",
    "         effort_c = relevel(effort_c, ref='Below'),\n",
    "         polluted_di = relevel(polluted_di, ref='Below'),\n",
    "         polluted_mi = relevel(polluted_mi, ref='Below'),\n",
    "         polluted_thre = relevel(polluted_thre, ref='Below'),\n",
    "  )\n",
    "#head(df_final)"
   ]
  },
  {
   "cell_type": "code",
   "execution_count": 9,
   "metadata": {
    "kernel": "SoS"
   },
   "outputs": [],
   "source": [
    "#aggregation_param = 'industry'\n",
    "aggregation_param = 'geocode4_corr'\n",
    "list_agg = df_final[aggregation_param].to_list()\n",
    "\n",
    "threshold_full = 6"
   ]
  },
  {
   "cell_type": "code",
   "execution_count": 10,
   "metadata": {
    "kernel": "SoS"
   },
   "outputs": [],
   "source": [
    "%put aggregation_param --to R\n",
    "%put threshold_full --to R"
   ]
  },
  {
   "cell_type": "markdown",
   "metadata": {
    "kernel": "python3"
   },
   "source": [
    "## Compute Herfhindal: proxy Size\n",
    "\n",
    "$$\n",
    "H=\\sum_{i=1}^{N} s_{i}^{2}\n",
    "$$\n",
    "\n",
    "where $s_i$ is the market share of industry[city] $i$ in a city [industry], and $N$ is the number of firms. \n",
    "\n",
    "We proceed as follow:\n",
    "- Step 1: Compute the share [output, capital, employment] by city-industry: `market_share_cit`\n",
    "- Step 2: compute the sum of squared market share by industry[city]: `Herfindahl_agg_t`\n",
    "- Step 3: Compute the average across time: `Herfindahl_agg`\n",
    "- Step 4: Compute the deciles of step 3: `decile_herfhindal_agg`\n",
    "    - Low decile implies a low concentration within sectors\n",
    "    - High decile implies a high concentration within sectors"
   ]
  },
  {
   "cell_type": "code",
   "execution_count": 11,
   "metadata": {
    "kernel": "SoS"
   },
   "outputs": [],
   "source": [
    "query = \"\"\"\n",
    "WITH sum_cit AS (\n",
    "  SELECT geocode4_corr, cic as industry, sum(output) as sum_o_cit, year\n",
    "  FROM China.asif_firm_china \n",
    "  WHERE year >= 2002 AND year <= 2007\n",
    "  AND output > 0 \n",
    "    AND fa_net > 0 \n",
    "    AND employment > 0 \n",
    "  GROUP BY geocode4_corr, cic, year\n",
    ") \n",
    "SELECT * \n",
    "FROM \n",
    "  (WITH sum_agg_t AS (\n",
    "    SELECT {0}, SUM(sum_o_cit) as sum_o_agg_t, year\n",
    "    FROM sum_cit\n",
    "    WHERE year >= 2002 AND year <= 2007\n",
    "    GROUP BY year, {0}\n",
    ")\n",
    "SELECT *\n",
    "FROM\n",
    "  (WITH ms_cit AS (\n",
    "    SELECT  sum_cit.industry, sum_cit.geocode4_corr, sum_cit.year,\n",
    "    sum_cit.sum_o_cit/NULLIF(sum_agg_t.sum_o_agg_t, 0) as market_share_cit\n",
    "    FROM sum_cit\n",
    "    LEFT JOIN sum_agg_t\n",
    "ON (\n",
    "sum_cit.year = sum_agg_t.year AND \n",
    "sum_cit.{0} = sum_agg_t.{0}\n",
    ")\n",
    ")\n",
    "SELECT *\n",
    "FROM\n",
    "  (WITH agg_1 AS (\n",
    "SELECT {0}, SUM(POW(market_share_cit, 2)) as Herfindahl_agg_t,\n",
    "year\n",
    "FROM ms_cit\n",
    "GROUP BY year, {0}\n",
    "ORDER BY year, {0} \n",
    ")\n",
    "SELECT *\n",
    "FROM (\n",
    "SELECT {0},\n",
    "AVG(Herfindahl_agg_t) as Herfindahl_agg\n",
    "FROM agg_1\n",
    "GROUP BY {0}\n",
    "ORDER BY {0}\n",
    ")\n",
    "\n",
    ")))\n",
    "\"\"\"\n",
    "df_herfhindal = (gcp.upload_data_from_bigquery(\n",
    "    query = query.format(aggregation_param),\n",
    "                                         location = 'US')\n",
    "                 .loc[lambda x: x[aggregation_param].isin(list_agg)]\n",
    "                )\n",
    "\n",
    "#df_herfhindal.shape"
   ]
  },
  {
   "cell_type": "markdown",
   "metadata": {
    "kernel": "SoS"
   },
   "source": [
    "## Compute Ownership: proxy Foreign/SOE\n",
    "\n",
    "$$\\sum output_{agg,o}/ \\sum output_{agg}$$\n",
    "\n",
    "- with $agg$ stands for industry[city]\n",
    "- $o$ stands for ownership (Foreign vs Domestic or SOE vs private)\n",
    "\n"
   ]
  },
  {
   "cell_type": "markdown",
   "metadata": {
    "kernel": "SoS"
   },
   "source": [
    "### Foreign vs domestic\n",
    "\n",
    "We proceed as follow:\n",
    "- Step 1: Compute the share [output, capital, employment] by industry[city], ownership (Foreign/Domestic): `Share_X_agg_o`\n",
    "- ~Step 2: Compute dummy when share Foreign above share domestic by industry[city]~\n",
    "- Step 3: Compute decile by industry[city]-ownership\n",
    "    - Note,  high decile in Foreign means the industry[city] has relatively high share of foreign output, but not in absolule value as in step 2. A decile 9 in foreign can be a decile 2 or 3 in Domestic"
   ]
  },
  {
   "cell_type": "code",
   "execution_count": 12,
   "metadata": {
    "kernel": "SoS"
   },
   "outputs": [],
   "source": [
    "OWNERSHIP = 'Foreign'\n",
    "query_share_ = \"\"\" \n",
    "WITH sum_agg_o AS (\n",
    "  SELECT \n",
    "    case WHEN ownership = '{2}' THEN '{2}' ELSE '{3}' END AS OWNERSHIP, \n",
    "    SUM(output / 10000000) as output_agg_o, \n",
    "    SUM(fa_net / 10000000) as fa_net_agg_o, \n",
    "    SUM(employment / 100000) as employment_agg_o,\n",
    "    {1} as {0}\n",
    "  FROM \n",
    "    China.asif_firm_china \n",
    "  WHERE \n",
    "    year >= 2002 \n",
    "    AND year <= 2007 \n",
    "    AND output > 0 \n",
    "    AND fa_net > 0 \n",
    "    AND employment > 0 \n",
    "  GROUP BY \n",
    "    OWNERSHIP, \n",
    "    {0}\n",
    ") \n",
    "SELECT \n",
    "  * \n",
    "FROM \n",
    "  (\n",
    "    WITH sum_agg AS(\n",
    "      SELECT \n",
    "        SUM(output_agg_o) as output_agg, \n",
    "        SUM(fa_net_agg_o) as fa_net_agg, \n",
    "        SUM(employment_agg_o) as employment_agg, \n",
    "        {0} AS {0}_b\n",
    "      FROM \n",
    "        sum_agg_o \n",
    "      GROUP BY \n",
    "        {0}\n",
    "    ) \n",
    "    SELECT \n",
    "      * \n",
    "    FROM \n",
    "      (\n",
    "        WITH share_agg_o AS(\n",
    "          SELECT \n",
    "            OWNERSHIP, \n",
    "            output_agg_o / output_agg AS share_output_agg_o, \n",
    "            fa_net_agg_o / fa_net_agg AS share_fa_net_agg_o, \n",
    "            employment_agg_o / employment_agg AS share_employement_agg_o, \n",
    "            {0}\n",
    "          FROM \n",
    "            sum_agg_o \n",
    "            LEFT JOIN sum_agg ON sum_agg_o.{0} = sum_agg.{0}_b \n",
    "        ) \n",
    "        SELECT \n",
    "        {0},\n",
    "        OWNERSHIP,  \n",
    "        share_output_agg_o,\n",
    "        share_fa_net_agg_o,\n",
    "        share_employement_agg_o\n",
    "        FROM share_agg_o\n",
    "        WHERE OWNERSHIP = '{2}'\n",
    "        )\n",
    "        )\n",
    "\"\"\"\n",
    "if aggregation_param == 'industry':\n",
    "    if OWNERSHIP == 'Foreign':\n",
    "        counterpart = 'DOMESTIC'\n",
    "    else:\n",
    "        counterpart = 'PRIVATE'\n",
    "    query_share_foreign= query_share_.format(aggregation_param,\n",
    "                                             'cic',\n",
    "                                             OWNERSHIP,\n",
    "                                            counterpart)\n",
    "else:\n",
    "    if OWNERSHIP == 'Foreign':\n",
    "        counterpart = 'DOMESTIC'\n",
    "    else:\n",
    "        counterpart = 'PRIVATE'\n",
    "    query_share_foreign = query_share_.format(aggregation_param,\n",
    "                                              aggregation_param,\n",
    "                                              OWNERSHIP,\n",
    "                                             counterpart)\n",
    "df_share_foreign = (gcp.upload_data_from_bigquery(query = query_share_foreign,\n",
    "                                         location = 'US')\n",
    "                    .loc[lambda x: x[aggregation_param].isin(list_agg)]\n",
    "                   )\n",
    "#df_share_foreign.shape "
   ]
  },
  {
   "cell_type": "markdown",
   "metadata": {
    "kernel": "SoS"
   },
   "source": [
    "### SOE vs Private\n",
    "\n",
    "We proceed as follow:\n",
    "- Step 1: Compute the share [output, capital, employment] by industry[city], ownership (SOE/PRIVATE): `Share_X_agg_o`\n",
    "- ~Step 2: Compute dummy when share SOE above share domestic by industry[city]~\n",
    "- Step 3: Compute decile by industry[city]-ownership\n",
    "    - Note,  high decile in SOE means the industry[city] has relatively high share of SOE output, but not in absolule value as in step 2. A decile 9 in SOE can be a decile 2 or 3 in Domestic"
   ]
  },
  {
   "cell_type": "code",
   "execution_count": 13,
   "metadata": {
    "kernel": "SoS"
   },
   "outputs": [],
   "source": [
    "OWNERSHIP = 'SOE'\n",
    "if aggregation_param == 'industry':\n",
    "    if OWNERSHIP == 'Foreign':\n",
    "        counterpart = 'DOMESTIC'\n",
    "    else:\n",
    "        counterpart = 'PRIVATE'\n",
    "    df_share_soe= query_share_.format(aggregation_param,\n",
    "                                             'cic',\n",
    "                                             OWNERSHIP,\n",
    "                                            counterpart)\n",
    "else:\n",
    "    if OWNERSHIP == 'Foreign':\n",
    "        counterpart = 'DOMESTIC'\n",
    "    else:\n",
    "        counterpart = 'PRIVATE'\n",
    "    df_share_soe = query_share_.format(aggregation_param,\n",
    "                                              aggregation_param,\n",
    "                                              OWNERSHIP,\n",
    "                                             counterpart)\n",
    "    \n",
    "df_share_soe = (gcp.upload_data_from_bigquery(query = df_share_soe,\n",
    "                                         location = 'US')\n",
    "                    .loc[lambda x: x[aggregation_param].isin(list_agg)]\n",
    "                   )\n",
    "#df_share_soe.shape \n",
    "\n",
    "#df_share_soe['rank_share_output_i'].value_counts().sort_index()"
   ]
  },
  {
   "cell_type": "markdown",
   "metadata": {
    "kernel": "SoS"
   },
   "source": [
    "## Load TCZ_list_china from Google Spreadsheet\n",
    "\n",
    "Feel free to add description about the dataset or any usefull information.\n",
    "\n",
    "Profiling will be available soon for this dataset"
   ]
  },
  {
   "cell_type": "code",
   "execution_count": 14,
   "metadata": {
    "kernel": "R"
   },
   "outputs": [],
   "source": [
    "#df_TCZ_list_china = read_csv('../df_TCZ_list_china.csv',\n",
    "#                            col_types = cols(\n",
    "#  Province = col_character(),\n",
    "#  City = col_character(),\n",
    "#  geocode4_corr = col_double(),\n",
    "#  TCZ = col_double(),\n",
    "#  SPZ = col_double()\n",
    "#)) %>% \n",
    "#select(-c(TCZ, Province)) %>% \n",
    "#right_join(df_final, by = 'geocode4_corr') "
   ]
  },
  {
   "cell_type": "markdown",
   "metadata": {
    "kernel": "R"
   },
   "source": [
    "## Load chinese_city_characteristics from Google Spreadsheet\n",
    "\n",
    "Feel free to add description about the dataset or any usefull information.\n",
    "\n",
    "Profiling will be available soon for this dataset"
   ]
  },
  {
   "cell_type": "code",
   "execution_count": 15,
   "metadata": {
    "kernel": "R"
   },
   "outputs": [],
   "source": [
    "df_kuznet <- read_csv('../df_chinese_city_characteristics.csv',\n",
    "        col_types = cols(\n",
    "  geocode4_corr = col_double(),\n",
    "  year_lagged = col_double(),\n",
    "  gdp = col_double(),\n",
    "  population = col_double(),\n",
    "  year = col_double(),\n",
    "  gdp_cap = col_double(),\n",
    "  ln_gdp_cap = col_double(),\n",
    "  ln_gdp_cap_sqred = col_double(),\n",
    "  ln_pop = col_double()\n",
    "))  %>% \n",
    "left_join(df_final, by = c('year','geocode4_corr'))\n"
   ]
  },
  {
   "cell_type": "markdown",
   "metadata": {
    "kernel": "SoS"
   },
   "source": [
    "## Create R tables"
   ]
  },
  {
   "cell_type": "code",
   "execution_count": 16,
   "metadata": {
    "kernel": "SoS"
   },
   "outputs": [
    {
     "data": {
      "text/html": [
       "<div class=\"sos_logging sos_info\">INFO: NumExpr defaulting to 8 threads.</div>"
      ]
     },
     "metadata": {},
     "output_type": "display_data"
    }
   ],
   "source": [
    "%put df_herfhindal_final --to R\n",
    "df_herfhindal_final = (df_final.merge(df_herfhindal,\n",
    "                                     on=[aggregation_param],\n",
    "                                     how='left',\n",
    "                                     indicator=True\n",
    "                                     )\n",
    "                       .assign(\n",
    "                       decile_herfhindal = lambda x:\n",
    "                           pd.qcut(x['Herfindahl_agg'],10, labels=False),\n",
    "                       mean_herfhindal= \n",
    "                           lambda x: np.where(\n",
    "                               x[\"Herfindahl_agg\"] > \n",
    "                               x[\"Herfindahl_agg\"].drop_duplicates().mean(),\n",
    "                               1,0\n",
    "                           ),\n",
    "                       third_herfhindal= \n",
    "                           lambda x: np.where(\n",
    "                               x[\"Herfindahl_agg\"] >\n",
    "                               (x[\"Herfindahl_agg\"]\n",
    "                                .drop_duplicates()\n",
    "                                .quantile([.75])\n",
    "                                .values[0]),\n",
    "                               1,0\n",
    "                           )\n",
    "                       )\n",
    "                       .merge(\n",
    "                           pd.read_csv('../df_chinese_city_characteristics.csv'),\n",
    "                       on = ['year', 'geocode4_corr'],\n",
    "                       how = 'left'\n",
    "                       )\n",
    "                      )"
   ]
  },
  {
   "cell_type": "code",
   "execution_count": 17,
   "metadata": {
    "kernel": "SoS"
   },
   "outputs": [],
   "source": [
    "#print('Descriptive statistics:\\n {}'.format(\n",
    "#    df_herfhindal_final['Herfindahl_agg'].describe()))\n",
    "#print('Mean: {}'.format(df_herfhindal_final[\"Herfindahl_agg\"].mean()))\n",
    "#print('Third decile: {}'.format(\n",
    "#    (df_herfhindal_final[\"Herfindahl_agg\"]\n",
    "#     .drop_duplicates().quantile([.75]).values[0])))\n",
    "#print(pd.qcut(df_herfhindal_final['Herfindahl_agg'],\n",
    "#        10).drop_duplicates().sort_values().reset_index(drop = True))\n",
    "\n",
    "#df_herfhindal_final['decile_herfhindal'].value_counts().sort_index()"
   ]
  },
  {
   "cell_type": "code",
   "execution_count": 18,
   "metadata": {
    "kernel": "R"
   },
   "outputs": [],
   "source": [
    "df_herfhindal_r <- df_herfhindal_final %>% \n",
    "    mutate_if(is.character, as.factor) %>%\n",
    "    mutate_at(vars(starts_with(\"FE\")), as.factor) %>%\n",
    "    mutate(\n",
    "         Period = relevel(Period, ref='Before'),\n",
    "         TCZ_c = relevel(TCZ_c, ref='No_TCZ'),\n",
    "         effort_c = relevel(effort_c, ref='Below'),\n",
    "         polluted_di = relevel(polluted_di, ref='Below'),\n",
    "         polluted_mi = relevel(polluted_mi, ref='Below'),\n",
    "         polluted_thre = relevel(polluted_thre, ref='Below'),\n",
    "  )"
   ]
  },
  {
   "cell_type": "code",
   "execution_count": 19,
   "metadata": {
    "kernel": "SoS"
   },
   "outputs": [],
   "source": [
    "%put df_final_SOE --to R\n",
    "#### If industry, we need to use out_share_SOE, cap_share_SOE,lab_share_SOE\n",
    "##### Output share already computed in the paper's table for industry but not\n",
    "##### for city, in the later case, we use the data from ASIF\n",
    "if aggregation_param== 'industry':\n",
    "    out = \"out_share_SOE\"\n",
    "    cap = \"cap_share_SOE\"\n",
    "    emp = \"lab_share_SOE\"\n",
    "else:\n",
    "    out = \"share_output_agg_o\"\n",
    "    cap = \"share_fa_net_agg_o\"\n",
    "    emp = \"share_employement_agg_o\"\n",
    "    \n",
    "df_final_SOE = (df_final.merge(\n",
    "    df_share_soe,\n",
    "    on = [aggregation_param],\n",
    "    how = 'left',\n",
    "    indicator = True\n",
    ")\n",
    "                .assign(\n",
    "                       output = lambda x:\n",
    "                           pd.qcut(x[out],10, labels=False),\n",
    "                       capital = lambda x:\n",
    "                           pd.qcut(x[cap],10, labels=False),\n",
    "                       employment = lambda x:\n",
    "                           pd.qcut(x[emp],10, labels=False),\n",
    "                       mean_output = lambda x:np.where(\n",
    "                    x[out] > x[out].drop_duplicates().mean(),\n",
    "                           1,0\n",
    "                       ),\n",
    "                    mean_capital = lambda x:np.where(\n",
    "                    x[cap] > x[cap].drop_duplicates().mean(),\n",
    "                           1,0\n",
    "                       ),\n",
    "                    mean_employment = lambda x:np.where(\n",
    "                    x[emp] > x[emp].drop_duplicates().mean(),\n",
    "                           1,0\n",
    "                       )\n",
    "                    )\n",
    "    .merge(\n",
    "                           pd.read_csv('../df_chinese_city_characteristics.csv'),\n",
    "                       on = ['year', 'geocode4_corr'],\n",
    "                       how = 'left'\n",
    "                       )\n",
    "\n",
    ")\n",
    "for i in ['output', 'capital', 'employment']:\n",
    "    if i == 'output':\n",
    "        v = out\n",
    "    elif i =='capital':\n",
    "        v = cap\n",
    "    else:\n",
    "        v = emp\n",
    "    #print('Descriptive statistics \\n: {}'.format(df_final_SOE[v].drop_duplicates().describe()))\n",
    "    #print(pd.qcut(df_final_SOE[v],\n",
    "    #    10).drop_duplicates().sort_values().reset_index(drop = True))\n",
    "\n",
    "    #print(df_final_SOE[i].value_counts().sort_index())"
   ]
  },
  {
   "cell_type": "code",
   "execution_count": 20,
   "metadata": {
    "kernel": "R"
   },
   "outputs": [],
   "source": [
    "df_final_SOE <- df_final_SOE %>% \n",
    "    mutate_if(is.character, as.factor) %>%\n",
    "    mutate_at(vars(starts_with(\"FE\")), as.factor) %>%\n",
    "    mutate(\n",
    "         Period = relevel(Period, ref='Before'),\n",
    "         TCZ_c = relevel(TCZ_c, ref='No_TCZ'),\n",
    "         effort_c = relevel(effort_c, ref='Below'),\n",
    "         polluted_di = relevel(polluted_di, ref='Below'),\n",
    "         polluted_mi = relevel(polluted_mi, ref='Below'),\n",
    "         polluted_thre = relevel(polluted_thre, ref='Below'),\n",
    "  )"
   ]
  },
  {
   "cell_type": "code",
   "execution_count": 21,
   "metadata": {
    "kernel": "SoS"
   },
   "outputs": [],
   "source": [
    "%put df_final_FOREIGN --to R\n",
    "df_final_FOREIGN = (df_final.merge(\n",
    "    df_share_foreign,\n",
    "    on = [aggregation_param],\n",
    "    how = 'left',\n",
    "    indicator = True\n",
    ")\n",
    "                .assign(\n",
    "                       output = lambda x:\n",
    "                           pd.qcut(x['share_output_agg_o'],10, labels=False),\n",
    "                       capital = lambda x:\n",
    "                           pd.qcut(x['share_fa_net_agg_o'],10, labels=False),\n",
    "                       employment = lambda x:\n",
    "                           pd.qcut(x['share_employement_agg_o'],10, labels=False),\n",
    "                    mean_output = lambda x:np.where(\n",
    "                    x['share_output_agg_o'] > \n",
    "                        x['share_output_agg_o'].drop_duplicates().mean(),\n",
    "                           1,0\n",
    "                       ),\n",
    "                    mean_capital = lambda x:np.where(\n",
    "                    x['share_fa_net_agg_o'] > \n",
    "                        x['share_fa_net_agg_o'].drop_duplicates().mean(),\n",
    "                           1,0\n",
    "                       ),\n",
    "                    mean_employment = lambda x:np.where(\n",
    "                    x['share_employement_agg_o'] > \n",
    "                        x['share_employement_agg_o'].drop_duplicates().mean(),\n",
    "                           1,0\n",
    "                       )\n",
    "                    )\n",
    ")\n",
    "for i in ['output', 'capital', 'employment']:\n",
    "    if i == 'output':\n",
    "        v = 'share_output_agg_o'\n",
    "    elif i =='capital':\n",
    "        v = 'share_fa_net_agg_o'\n",
    "    else:\n",
    "        v = 'share_employement_agg_o'\n",
    "    #print('Median: {}'.format(df_final_FOREIGN[v].median()))\n",
    "    #print(pd.qcut(df_final_FOREIGN[v],\n",
    "    #    10).drop_duplicates().sort_values().reset_index(drop = True))\n",
    "\n",
    "    #print(df_final_FOREIGN[i].value_counts().sort_index())"
   ]
  },
  {
   "cell_type": "code",
   "execution_count": 22,
   "metadata": {
    "kernel": "R"
   },
   "outputs": [],
   "source": [
    "df_final_FOREIGN <- df_final_FOREIGN %>% \n",
    "    mutate_if(is.character, as.factor) %>%\n",
    "    mutate_at(vars(starts_with(\"FE\")), as.factor) %>%\n",
    "    mutate(\n",
    "         Period = relevel(Period, ref='Before'),\n",
    "         TCZ_c = relevel(TCZ_c, ref='No_TCZ'),\n",
    "         effort_c = relevel(effort_c, ref='Below'),\n",
    "         polluted_di = relevel(polluted_di, ref='Below'),\n",
    "         polluted_mi = relevel(polluted_mi, ref='Below'),\n",
    "         polluted_thre = relevel(polluted_thre, ref='Below'),\n",
    "  )"
   ]
  },
  {
   "cell_type": "markdown",
   "metadata": {
    "kernel": "SoS"
   },
   "source": [
    "# Table 3\n",
    "\n",
    "1. Full sample\n",
    "\n",
    "$$\n",
    "Log SO2 emission _{i k t}=\\alpha\\left(\\text { Period } \\times \\text { Target }_{i} \\times \\text { Polluting sectors }_{k} \\right)+\\nu_{i}+\\lambda_{t}+\\phi_{k}+\\epsilon_{i k t}\n",
    "$$\n",
    "\n",
    "$$\n",
    "Log SO2 emission _{i k t}=\\alpha\\left(\\text { Period } \\times \\text { Target }_{i} \\times \\text { Polluting sectors }_{k} \\right)+\\nu_{ct}+\\lambda_{kt}+\\phi_{ck}+\\epsilon_{i k t}\n",
    "$$\n",
    "\n",
    "2. SOE dominated\n",
    "3. Foreign dominated\n"
   ]
  },
  {
   "cell_type": "code",
   "execution_count": 23,
   "metadata": {
    "kernel": "R"
   },
   "outputs": [
    {
     "data": {
      "text/html": [
       "TRUE"
      ],
      "text/latex": [
       "TRUE"
      ],
      "text/markdown": [
       "TRUE"
      ],
      "text/plain": [
       "[1] TRUE"
      ]
     },
     "metadata": {},
     "output_type": "display_data"
    }
   ],
   "source": [
    "df_to_filter <- df_final_SOE\n",
    "if (aggregation_param == 'geocode4_corr'){\n",
    "    aggregation_param = 'city'\n",
    "}\n",
    "### Remove text, tex and pdf files\n",
    "toremove <- dir(path=getwd(), pattern=\".tex|.pdf|.txt\")\n",
    "file.remove(toremove)\n",
    "\n",
    "fe1 <- list(\n",
    "    c(\"City fixed effects\", \"Yes\", \"Yes\", \"Yes\", \"Yes\", \"Yes\", \"Yes\"),\n",
    "    c(\"Industry fixed effects\", \"Yes\", \"Yes\", \"Yes\", \"Yes\", \"Yes\", \"Yes\"),\n",
    "    c(\"Year fixed effects\",\"Yes\", \"Yes\", \"Yes\", \"Yes\", \"Yes\", \"Yes\")\n",
    "             )\n",
    "\n",
    "#'output', 'capital', 'employment'\n",
    "\n",
    "t1 <- felm(formula=log(tso2_cit) ~ \n",
    "           target_c  * Period * polluted_thre \n",
    "               + output_fcit + capital_fcit + labour_fcit\n",
    "                  |\n",
    "             cityen +  year + industry  | 0 |\n",
    "             industry, data= df_to_filter,\n",
    "             exactDOF=TRUE)\n",
    "\n",
    "t2 <- felm(formula=log(tso2_cit) ~ \n",
    "           target_c  * Period * polluted_thre \n",
    "               + output_fcit + capital_fcit + labour_fcit\n",
    "                  |\n",
    "             FE_t_c + FE_t_i + FE_c_i  | 0 |\n",
    "             industry, data= df_to_filter,\n",
    "             exactDOF=TRUE)\n",
    "\n",
    "### decile Output\n",
    "t3 <- felm(formula=log(tso2_cit) ~ \n",
    "               target_c * Period * polluted_thre \n",
    "               + output_fcit + capital_fcit + labour_fcit\n",
    "                  |\n",
    "             FE_t_c + FE_t_i + FE_c_i  | 0 |\n",
    "             industry, data= df_to_filter %>% filter(output > 6),\n",
    "             exactDOF=TRUE)\n",
    "\n",
    "t4 <- felm(formula=log(tso2_cit) ~ \n",
    "               target_c * Period * polluted_thre \n",
    "               + output_fcit + capital_fcit + labour_fcit\n",
    "                  |\n",
    "             FE_t_c + FE_t_i + FE_c_i  | 0 |\n",
    "             industry, data= df_to_filter %>% filter(output > 7),\n",
    "             exactDOF=TRUE)\n",
    "\n",
    "t5 <- felm(formula=log(tso2_cit) ~ \n",
    "               target_c * Period * polluted_thre \n",
    "               + output_fcit + capital_fcit + labour_fcit\n",
    "                  |\n",
    "             FE_t_c + FE_t_i + FE_c_i  | 0 |\n",
    "             industry, data= df_to_filter %>% filter(output > 8),\n",
    "             exactDOF=TRUE)\n",
    "\n",
    "name = paste0(\"table_\",1,\".txt\")\n",
    "title = paste0(\"Table Baseline\")\n",
    "    \n",
    "tables <- list(t1, t2, t3,t4, t5)\n",
    "table_1 <- go_latex(tables,\n",
    "                dep_var = \"Dependent variable \\\\text { SO2 emission }_{i k t}\",\n",
    "                title=title,\n",
    "                addFE=fe1,\n",
    "                save=TRUE,\n",
    "                note = FALSE,\n",
    "                name=name)\n",
    "\n",
    "### decile Capital\n",
    "\n",
    "### decile Employment"
   ]
  },
  {
   "cell_type": "code",
   "execution_count": 24,
   "metadata": {
    "kernel": "Python 3"
   },
   "outputs": [
    {
     "data": {
      "image/png": "[encoded data removed]",
      "text/plain": [
       "<wand.image.Image: 28a443d 'PDF' (477x331)>"
      ]
     },
     "metadata": {},
     "output_type": "display_data"
    }
   ],
   "source": [
    "new_r = ['& Full sample', 'No SOE', 'SOE']\n",
    "\n",
    "tb = \"\"\"\\\\footnotesize{\n",
    "Due to limited space, only the coefficients of interest are presented \n",
    "for the regressions with city,industry, year fixed effect (i.e. columns 1-3).\n",
    "\\sym{*} Significance at the 10\\%, \\sym{**} Significance at the 5\\%, \\sym{***} Significance at the 1\\% \\\\\n",
    "heteroscedasticity-robust standard errors in parentheses are clustered by city \n",
    "}\n",
    "\"\"\"\n",
    "\n",
    "x = [a for a in os.listdir() if a.endswith(\".txt\")]\n",
    "for i, val in enumerate(x):\n",
    "    lb.beautify(table_number = i+1,\n",
    "            remove_control= True,\n",
    "            constraint = False,\n",
    "            city_industry = False, \n",
    "            new_row = new_r,\n",
    "            table_nte =tb,\n",
    "           jupyter_preview = True,\n",
    "           resolution = 100)"
   ]
  },
  {
   "cell_type": "markdown",
   "metadata": {
    "kernel": "Python 3"
   },
   "source": [
    "# Table 4 parallel trend\n",
    "\n",
    "$$\n",
    "\\begin{aligned}\n",
    "\\log \\mathrm{SO} 2 \\text { emission }_{i k t}=\\sum_{t=2002}^{2007} \\alpha\\left(Target_{i} \\times\\right.& \\text { Polluting sectors }\\left._{k} \\times y e a r_{t}\\right) \\\\\n",
    "&+\\theta X_{i k t}+\\nu_{i k}+\\lambda_{i t}+\\phi_{k t}+\\epsilon_{i k t}\n",
    "\\end{aligned}\n",
    "$$\n",
    "\n",
    "1. Full sample\n",
    "2. SOE dominated vs No SOE dominated\n",
    "    - output\n",
    "    - capital\n",
    "    - employment"
   ]
  },
  {
   "cell_type": "code",
   "execution_count": 25,
   "metadata": {
    "kernel": "R"
   },
   "outputs": [
    {
     "data": {
      "text/html": [
       "<style>\n",
       ".list-inline {list-style: none; margin:0; padding: 0}\n",
       ".list-inline>li {display: inline-block}\n",
       ".list-inline>li:not(:last-child)::after {content: \"\\00b7\"; padding: 0 .5ex}\n",
       "</style>\n",
       "<ol class=list-inline><li>TRUE</li><li>TRUE</li><li>TRUE</li></ol>\n"
      ],
      "text/latex": [
       "\\begin{enumerate*}\n",
       "\\item TRUE\n",
       "\\item TRUE\n",
       "\\item TRUE\n",
       "\\end{enumerate*}\n"
      ],
      "text/markdown": [
       "1. TRUE\n",
       "2. TRUE\n",
       "3. TRUE\n",
       "\n",
       "\n"
      ],
      "text/plain": [
       "[1] TRUE TRUE TRUE"
      ]
     },
     "metadata": {},
     "output_type": "display_data"
    }
   ],
   "source": [
    "cat <- 'SOE'\n",
    "#cut <- 'Mean'\n",
    "#threshold <- 0\n",
    "#var_ <- 'mean_herfhindal'\n",
    "df_to_filter <- df_final_SOE\n",
    "if (aggregation_param == 'geocode4_corr'){\n",
    "    aggregation_param = 'city'\n",
    "}\n",
    "### Remove text, tex and pdf files\n",
    "toremove <- dir(path=getwd(), pattern=\".tex|.pdf|.txt\")\n",
    "file.remove(toremove)\n",
    "\n",
    "fe1 <- list(\n",
    "    c(\"City fixed effects\", \"Yes\", \"Yes\", \"Yes\", \"Yes\", \"Yes\", \"Yes\", \"Yes\"),\n",
    "    c(\"Industry fixed effects\", \"Yes\", \"Yes\", \"Yes\", \"Yes\", \"Yes\", \"Yes\", \"Yes\"),\n",
    "    c(\"Year fixed effects\",\"Yes\", \"Yes\", \"Yes\", \"Yes\", \"Yes\", \"Yes\", \"Yes\")\n",
    "             )\n",
    "\n",
    "t1 <- felm(formula=log(tso2_cit) ~ \n",
    "               target_c * polluted_thre * as.factor(year) \n",
    "               + output_fcit + capital_fcit + labour_fcit\n",
    "                  |\n",
    "             FE_t_c + FE_t_i + FE_c_i  | 0 |\n",
    "             industry, data= df_to_filter,\n",
    "             exactDOF=TRUE)\n",
    "t1 <-change_target(t1)\n",
    "\n",
    "### output\n",
    "t2 <- felm(formula=log(tso2_cit) ~ \n",
    "               target_c * polluted_thre * as.factor(year)\n",
    "               + output_fcit + capital_fcit + labour_fcit\n",
    "                  |\n",
    "             FE_t_c + FE_t_i + FE_c_i  | 0 |\n",
    "             industry, data= df_to_filter %>% filter(output <= threshold_full),\n",
    "             exactDOF=TRUE)\n",
    "t2 <-change_target(t2)\n",
    "    \n",
    "t3 <- felm(formula=log(tso2_cit) ~ \n",
    "               target_c * polluted_thre * as.factor(year)\n",
    "               + output_fcit + capital_fcit + labour_fcit\n",
    "                  |\n",
    "             FE_t_c + FE_t_i + FE_c_i  | 0 |\n",
    "             industry, data= df_to_filter %>% filter(output > threshold_full),\n",
    "             exactDOF=TRUE)\n",
    "t3 <-change_target(t3)\n",
    "    \n",
    "### capital\n",
    "t4 <- felm(formula=log(tso2_cit) ~ \n",
    "               target_c * polluted_thre * as.factor(year)\n",
    "               + output_fcit + capital_fcit + labour_fcit\n",
    "                  |\n",
    "             FE_t_c + FE_t_i + FE_c_i  | 0 |\n",
    "             industry, data= df_to_filter %>% filter(capital <= threshold_full),\n",
    "             exactDOF=TRUE)\n",
    "t4 <-change_target(t4)\n",
    "    \n",
    "t5 <- felm(formula=log(tso2_cit) ~ \n",
    "               target_c * polluted_thre * as.factor(year)\n",
    "               + output_fcit + capital_fcit + labour_fcit\n",
    "                  |\n",
    "             FE_t_c + FE_t_i + FE_c_i  | 0 |\n",
    "             industry, data= df_to_filter %>% filter(capital > threshold_full),\n",
    "             exactDOF=TRUE)\n",
    "t5 <-change_target(t5)\n",
    "    \n",
    "### employment\n",
    "t6 <- felm(formula=log(tso2_cit) ~ \n",
    "               target_c * polluted_thre * as.factor(year)\n",
    "               + output_fcit + capital_fcit + labour_fcit\n",
    "                  |\n",
    "             FE_t_c + FE_t_i + FE_c_i  | 0 |\n",
    "             industry, data= df_to_filter %>% filter(employment <= threshold_full),\n",
    "             exactDOF=TRUE)\n",
    "t6 <-change_target(t6)\n",
    "    \n",
    "t7 <- felm(formula=log(tso2_cit) ~ \n",
    "               target_c * polluted_thre * as.factor(year)\n",
    "               + output_fcit + capital_fcit + labour_fcit\n",
    "                  |\n",
    "             FE_t_c + FE_t_i + FE_c_i  | 0 |\n",
    "             industry, data= df_to_filter %>% filter(employment > threshold_full),\n",
    "             exactDOF=TRUE)\n",
    "t7 <-change_target(t7)\n",
    "    \n",
    "name = paste0(\"table_\",1,\".txt\")\n",
    "    title = paste0(\"Parallel trend threshold used decile \", threshold_full)\n",
    "    \n",
    "tables <- list(t1, t2, t3, t4, t5, t6,t7)\n",
    "table_1 <- go_latex(tables,\n",
    "                dep_var = \"Dependent variable \\\\text { SO2 emission }_{i k t}\",\n",
    "                title=title,\n",
    "                addFE=fe1,\n",
    "                save=TRUE,\n",
    "                note = FALSE,\n",
    "                name=name)"
   ]
  },
  {
   "cell_type": "code",
   "execution_count": 26,
   "metadata": {
    "kernel": "Python 3"
   },
   "outputs": [
    {
     "data": {
      "image/png": "[encoded data removed]",
      "text/plain": [
       "<wand.image.Image: 0257262 'PDF' (716x533)>"
      ]
     },
     "metadata": {},
     "output_type": "display_data"
    }
   ],
   "source": [
    "import os\n",
    "new_r = ['& Full sample', 'No SOE', 'SOE', 'No SOE', 'SOE', 'No SOE', 'SOE']\n",
    "\n",
    "tb = \"\"\"\\\\footnotesize{\n",
    "Due to limited space, only the coefficients of interest are presented \n",
    "for the regressions with city,industry, year fixed effect (i.e. columns 1-3).\n",
    "\\sym{*} Significance at the 10\\%, \\sym{**} Significance at the 5\\%, \\sym{***} Significance at the 1\\% \\\\\n",
    "heteroscedasticity-robust standard errors in parentheses are clustered by city \n",
    "}\n",
    "\"\"\"\n",
    "\n",
    "multicolumn ={\n",
    "    '':1,\n",
    "    'Output': 2,\n",
    "    'Capital': 2,\n",
    "    'employment': 2\n",
    "}\n",
    "#os.remove('table_1.tex')\n",
    "x = [a for a in os.listdir() if a.endswith(\".txt\")]\n",
    "for i, val in enumerate(x):\n",
    "    lb.beautify(table_number = i+1,\n",
    "            remove_control= True,\n",
    "            constraint = False,\n",
    "            city_industry = False, \n",
    "            new_row = new_r,\n",
    "            multicolumn = multicolumn,\n",
    "            table_nte =tb,\n",
    "           jupyter_preview = True,\n",
    "           resolution = 150)"
   ]
  },
  {
   "cell_type": "markdown",
   "metadata": {
    "kernel": "Python 3"
   },
   "source": [
    "# Diffusion chanels\n",
    "\n",
    "- TCZ VS non TCZ\n",
    "- Concentrated VS non concentrated\n",
    "- Kuznet\n",
    "    - TCZ\n",
    "    - Concentration\n",
    "    - SOE\n",
    "- TFP"
   ]
  },
  {
   "cell_type": "markdown",
   "metadata": {
    "kernel": "Python 3"
   },
   "source": [
    "## TCZ VS non TCZ"
   ]
  },
  {
   "cell_type": "code",
   "execution_count": 27,
   "metadata": {
    "kernel": "R"
   },
   "outputs": [
    {
     "data": {
      "text/html": [
       "<style>\n",
       ".list-inline {list-style: none; margin:0; padding: 0}\n",
       ".list-inline>li {display: inline-block}\n",
       ".list-inline>li:not(:last-child)::after {content: \"\\00b7\"; padding: 0 .5ex}\n",
       "</style>\n",
       "<ol class=list-inline><li>TRUE</li><li>TRUE</li><li>TRUE</li></ol>\n"
      ],
      "text/latex": [
       "\\begin{enumerate*}\n",
       "\\item TRUE\n",
       "\\item TRUE\n",
       "\\item TRUE\n",
       "\\end{enumerate*}\n"
      ],
      "text/markdown": [
       "1. TRUE\n",
       "2. TRUE\n",
       "3. TRUE\n",
       "\n",
       "\n"
      ],
      "text/plain": [
       "[1] TRUE TRUE TRUE"
      ]
     },
     "metadata": {},
     "output_type": "display_data"
    }
   ],
   "source": [
    "toremove <- dir(path=getwd(), pattern=\".tex|.pdf|.txt\")\n",
    "file.remove(toremove)\n",
    "\n",
    "df_to_filter <- df_final\n",
    "\n",
    "fe1 <- list(c(\"City fixed effects\", \"Yes\", \"No\", \"Yes\", \"No\"),\n",
    "             c(\"Industry fixed effects\", \"Yes\", \"No\", \"Yes\", \"No\"),\n",
    "             c(\"Year fixed effects\",\"Yes\", \"No\", \"Yes\", \"No\"),\n",
    "             c(\"City-year fixed effects\", \"No\", \"Yes\",\"No\", \"Yes\"),\n",
    "             c(\"Industry-year fixed effects\", \"No\", \"Yes\",\"No\", \"Yes\"),\n",
    "             c(\"City-industry fixed effects\", \"No\", \"Yes\",\"No\", \"Yes\")\n",
    "             )\n",
    "\n",
    "\n",
    "#### TCZ\n",
    "t1 <- felm(formula=log(tso2_cit) ~ \n",
    "           target_c * Period * polluted_thre \n",
    "           + output_fcit + capital_fcit + labour_fcit\n",
    "                  |\n",
    "             cityen +  year + industry  | 0 |\n",
    "             industry, data= df_to_filter %>% filter(TCZ_c == 'TCZ'),\n",
    "             exactDOF=TRUE)\n",
    "t1 <-change_target(t1)\n",
    "\n",
    "t2 <- felm(formula=log(tso2_cit) ~ \n",
    "           target_c * Period * polluted_thre \n",
    "           + output_fcit + capital_fcit + labour_fcit\n",
    "                  |\n",
    "             FE_t_c + FE_t_i + FE_c_i  | 0 |\n",
    "             industry, data= df_to_filter %>% filter(TCZ_c == 'TCZ'),\n",
    "             exactDOF=TRUE)\n",
    "t2 <-change_target(t2)\n",
    "\n",
    "#### No TCZ\n",
    "t3 <- felm(formula=log(tso2_cit) ~ \n",
    "           target_c * Period * polluted_thre \n",
    "           + output_fcit + capital_fcit + labour_fcit\n",
    "                  |\n",
    "             cityen +  year + industry  | 0 |\n",
    "             industry, data= df_to_filter %>% filter(TCZ_c != 'TCZ'),\n",
    "             exactDOF=TRUE)\n",
    "t3 <-change_target(t3)\n",
    "\n",
    "t4 <- felm(formula=log(tso2_cit) ~ \n",
    "           target_c * Period * polluted_thre \n",
    "           + output_fcit + capital_fcit + labour_fcit\n",
    "                  |\n",
    "             FE_t_c + FE_t_i + FE_c_i  | 0 |\n",
    "             industry, data= df_to_filter %>% filter(TCZ_c != 'TCZ'),\n",
    "             exactDOF=TRUE)\n",
    "t4 <-change_target(t4)\n",
    "\n",
    "name = paste0(\"table_\",1,\".txt\")\n",
    "    title = paste0(\"Diffusion Chanel TCZ VS No TCZ \")\n",
    "    \n",
    "tables <- list(t1, t2, t3, t4)\n",
    "table_1 <- go_latex(tables,\n",
    "                dep_var = \"Dependent variable \\\\text { SO2 emission }_{i k t}\",\n",
    "                title=title,\n",
    "                addFE=fe1,\n",
    "                save=TRUE,\n",
    "                note = FALSE,\n",
    "                name=name)"
   ]
  },
  {
   "cell_type": "code",
   "execution_count": 28,
   "metadata": {
    "kernel": "Python 3"
   },
   "outputs": [
    {
     "data": {
      "image/png": "[encoded data removed]",
      "text/plain": [
       "<wand.image.Image: 0a97998 'PDF' (716x639)>"
      ]
     },
     "metadata": {},
     "output_type": "display_data"
    }
   ],
   "source": [
    "multicolumn ={\n",
    "    'TCZ': 2,\n",
    "    'No TCZ': 2,\n",
    "}\n",
    "\n",
    "new_r = ['& TCZ', 'TCZ', 'No TCZ', 'No TCZ']\n",
    "\n",
    "tb = \"\"\"\\\\footnotesize{\n",
    "Due to limited space, only the coefficients of interest are presented \n",
    "for the regressions with city,industry, year fixed effect (i.e. columns 1-3).\n",
    "\\sym{*} Significance at the 10\\%, \\sym{**} Significance at the 5\\%, \\sym{***} Significance at the 1\\% \\\\\n",
    "heteroscedasticity-robust standard errors in parentheses are clustered by city \n",
    "}\n",
    "\"\"\"\n",
    "\n",
    "#os.remove('table_1.tex')\n",
    "x = [a for a in os.listdir() if a.endswith(\".txt\")]\n",
    "for i, val in enumerate(x):\n",
    "    lb.beautify(table_number = i+1,\n",
    "            remove_control= True,\n",
    "            constraint = True,\n",
    "            city_industry = False, \n",
    "            new_row = False,\n",
    "            multicolumn = multicolumn,\n",
    "            table_nte =tb,\n",
    "           jupyter_preview = True,\n",
    "           resolution = 150)"
   ]
  },
  {
   "cell_type": "markdown",
   "metadata": {
    "kernel": "Python 3"
   },
   "source": [
    "## Concentrated VS non concentrated"
   ]
  },
  {
   "cell_type": "code",
   "execution_count": 29,
   "metadata": {
    "kernel": "R"
   },
   "outputs": [
    {
     "data": {
      "text/html": [
       "<style>\n",
       ".list-inline {list-style: none; margin:0; padding: 0}\n",
       ".list-inline>li {display: inline-block}\n",
       ".list-inline>li:not(:last-child)::after {content: \"\\00b7\"; padding: 0 .5ex}\n",
       "</style>\n",
       "<ol class=list-inline><li>TRUE</li><li>TRUE</li><li>TRUE</li></ol>\n"
      ],
      "text/latex": [
       "\\begin{enumerate*}\n",
       "\\item TRUE\n",
       "\\item TRUE\n",
       "\\item TRUE\n",
       "\\end{enumerate*}\n"
      ],
      "text/markdown": [
       "1. TRUE\n",
       "2. TRUE\n",
       "3. TRUE\n",
       "\n",
       "\n"
      ],
      "text/plain": [
       "[1] TRUE TRUE TRUE"
      ]
     },
     "metadata": {},
     "output_type": "display_data"
    }
   ],
   "source": [
    "var_ <- 'decile_herfhindal'\n",
    "df_to_filter <- df_herfhindal_r\n",
    "\n",
    "toremove <- dir(path=getwd(), pattern=\".tex|.pdf|.txt\")\n",
    "file.remove(toremove)\n",
    "\n",
    "### concentration\n",
    "t1 <- felm(formula=log(tso2_cit) ~ \n",
    "           target_c  * Period * polluted_thre \n",
    "               + output_fcit + capital_fcit + labour_fcit\n",
    "                  |\n",
    "             cityen +  year + industry  | 0 |\n",
    "             industry, data= df_to_filter %>% filter(decile_herfhindal > \n",
    "                                                     threshold_full),\n",
    "             exactDOF=TRUE)\n",
    "t1 <-change_target(t1)\n",
    "\n",
    "t2 <- felm(formula=log(tso2_cit) ~ \n",
    "           target_c  * Period * polluted_thre \n",
    "               + output_fcit + capital_fcit + labour_fcit\n",
    "                  |\n",
    "             FE_t_c + FE_t_i + FE_c_i  | 0 |\n",
    "             industry, data= df_to_filter %>% filter(decile_herfhindal > \n",
    "                                                     threshold_full),\n",
    "             exactDOF=TRUE)\n",
    "t2 <-change_target(t2)\n",
    "\n",
    "### Non concentrated\n",
    "t3 <- felm(formula=log(tso2_cit) ~ \n",
    "           target_c  * Period * polluted_thre \n",
    "               + output_fcit + capital_fcit + labour_fcit\n",
    "                  |\n",
    "             cityen +  year + industry  | 0 |\n",
    "             industry, data= df_to_filter %>% filter(decile_herfhindal <= \n",
    "                                                     threshold_full),\n",
    "             exactDOF=TRUE)\n",
    "t3 <-change_target(t3)\n",
    "\n",
    "t4 <- felm(formula=log(tso2_cit) ~ \n",
    "           target_c  * Period * polluted_thre \n",
    "               + output_fcit + capital_fcit + labour_fcit\n",
    "                  |\n",
    "             FE_t_c + FE_t_i + FE_c_i  | 0 |\n",
    "             industry, data= df_to_filter %>% filter(decile_herfhindal <= \n",
    "                                                     threshold_full),\n",
    "             exactDOF=TRUE)\n",
    "t4 <-change_target(t4)\n",
    "\n",
    "name = paste0(\"table_\",1,\".txt\")\n",
    "    title = paste0(\"Diffusion Chanel Concentrated VS non concentrated\")\n",
    "    \n",
    "tables <- list(t1, t2, t3, t4)\n",
    "table_1 <- go_latex(tables,\n",
    "                dep_var = \"Dependent variable \\\\text { SO2 emission }_{i k t}\",\n",
    "                title=title,\n",
    "                addFE=fe1,\n",
    "                save=TRUE,\n",
    "                note = FALSE,\n",
    "                name=name)"
   ]
  },
  {
   "cell_type": "code",
   "execution_count": 30,
   "metadata": {
    "kernel": "Python 3"
   },
   "outputs": [
    {
     "data": {
      "image/png": "[encoded data removed]",
      "text/plain": [
       "<wand.image.Image: cbc8fe4 'PDF' (716x635)>"
      ]
     },
     "metadata": {},
     "output_type": "display_data"
    }
   ],
   "source": [
    "multicolumn ={\n",
    "    'Concentrated': 2,\n",
    "    'No Concentrated': 2,\n",
    "}\n",
    "\n",
    "new_r = ['& TCZ', 'TCZ', 'No TCZ', 'No TCZ']\n",
    "\n",
    "tb = \"\"\"\\\\footnotesize{\n",
    "Due to limited space, only the coefficients of interest are presented \n",
    "for the regressions with city,industry, year fixed effect (i.e. columns 1-3).\n",
    "\\sym{*} Significance at the 10\\%, \\sym{**} Significance at the 5\\%, \\sym{***} Significance at the 1\\% \\\\\n",
    "heteroscedasticity-robust standard errors in parentheses are clustered by city \n",
    "}\n",
    "\"\"\"\n",
    "\n",
    "#os.remove('table_1.tex')\n",
    "x = [a for a in os.listdir() if a.endswith(\".txt\")]\n",
    "for i, val in enumerate(x):\n",
    "    lb.beautify(table_number = i+1,\n",
    "            remove_control= True,\n",
    "            constraint = True,\n",
    "            city_industry = False, \n",
    "            new_row = False,\n",
    "            multicolumn = multicolumn,\n",
    "            table_nte =tb,\n",
    "           jupyter_preview = True,\n",
    "           resolution = 150)"
   ]
  },
  {
   "cell_type": "markdown",
   "metadata": {
    "kernel": "Python 3"
   },
   "source": [
    "## Kuznet \n",
    "\n",
    "Estimate the following model\n",
    "\n",
    "$$ Log SO2 emission _{i k t}=\\alpha\\left(\\text { Period } \\times \\text { Target }{i} \\times \\text { Polluting sectors }{k} \\right)+Kuznet+\\nu{i}+\\lambda_{t}+\\phi_{k}+\\epsilon_{i k t} $$\n",
    "\n",
    "$$ Log SO2 emission _{i k t}=\\alpha\\left(\\text { Period } \\times \\text { Target }{i} \\times \\text { Polluting sectors }{k} \\right)+Kuznet+\\nu_{ct}+\\lambda_{kt}+\\phi_{ck}+\\epsilon_{i k t} $$\n",
    "\n",
    "\n",
    "1. TCZ vs No TCZ\n",
    "2. Concentrated vs No Concentrated\n",
    "3. SOE vs No SOE\n",
    "    - output\n",
    "    - capital\n",
    "    - employment"
   ]
  },
  {
   "cell_type": "code",
   "execution_count": 31,
   "metadata": {
    "kernel": "R"
   },
   "outputs": [],
   "source": [
    "change_target <- function(table){\n",
    "    check_target <- grep(\"PeriodAfter:polluted_threAbove:target_c$\", rownames(table$coef))\n",
    "    check_target_1 <- grep(\"PeriodAfter:target_c$\", rownames(table$coef))\n",
    "    check_target_2 <- grep(\"^polluted_threAbove:target_c$\", rownames(table$coef))\n",
    "    \n",
    "    if (length(check_target) !=0) {\n",
    "    # 1\n",
    "    rownames(table$coefficients)[check_target] <- 'target_c:PeriodAfter:polluted_threAbove'\n",
    "    rownames(table$beta)[check_target] <- 'target_c:PeriodAfter:polluted_threAbove'\n",
    "        \n",
    "    # 2\n",
    "    rownames(table$coefficients)[check_target_1] <- 'target_c:PeriodAfter'\n",
    "    rownames(table$beta)[check_target_1] <- 'target_c:PeriodAfter'\n",
    "        \n",
    "    # 3\n",
    "    rownames(table$coefficients)[check_target_2] <- 'target_c:polluted_threAbove'\n",
    "    rownames(table$beta)[check_target_2] <- 'target_c:polluted_threAbove'    \n",
    "}\n",
    "    return (table)\n",
    "}\n",
    "\n",
    "turning_point <- function(tables, currency ='RMB'){\n",
    "    \n",
    "    turning = c()\n",
    "    turning_dol = c()\n",
    "    for (c in tables){\n",
    "        \n",
    "        rmb <- round(exp(abs(coef(c)[grep(\"ln_gdp_cap$\", names(coef(c)))] / \n",
    "                                   (2 * \n",
    "                                    coef(c)[grep(\"ln_gdp_cap_sqred$\",\n",
    "                                                  names(coef(c)))]))),0)\n",
    "        \n",
    "        dollars <- round(exp(abs(coef(c)[grep(\"ln_gdp_cap$\", names(coef(c)))] / \n",
    "                                   (2 * \n",
    "                                    coef(c)[grep(\"ln_gdp_cap_sqred$\",\n",
    "                                                  names(coef(c)))])))/8.07,0)\n",
    "        if (rmb > 100000 | rmb < 5000){\n",
    "             rmb <- \"-\"\n",
    "             dollars <- \"-\"\n",
    "            \n",
    "         }\n",
    "        turning <- append(turning,rmb\n",
    "                     )\n",
    "        turning_dol <- append(turning_dol,dollars\n",
    "                        )\n",
    "    }\n",
    "    if (currency == 'RMB'){\n",
    "        return(turning)\n",
    "        \n",
    "    }else{\n",
    "        return(turning_dol)\n",
    "    }\n",
    "}"
   ]
  },
  {
   "cell_type": "code",
   "execution_count": 32,
   "metadata": {
    "kernel": "R"
   },
   "outputs": [
    {
     "data": {
      "text/html": [
       "<style>\n",
       ".list-inline {list-style: none; margin:0; padding: 0}\n",
       ".list-inline>li {display: inline-block}\n",
       ".list-inline>li:not(:last-child)::after {content: \"\\00b7\"; padding: 0 .5ex}\n",
       "</style>\n",
       "<ol class=list-inline><li>TRUE</li><li>TRUE</li><li>TRUE</li></ol>\n"
      ],
      "text/latex": [
       "\\begin{enumerate*}\n",
       "\\item TRUE\n",
       "\\item TRUE\n",
       "\\item TRUE\n",
       "\\end{enumerate*}\n"
      ],
      "text/markdown": [
       "1. TRUE\n",
       "2. TRUE\n",
       "3. TRUE\n",
       "\n",
       "\n"
      ],
      "text/plain": [
       "[1] TRUE TRUE TRUE"
      ]
     },
     "metadata": {},
     "output_type": "display_data"
    }
   ],
   "source": [
    "toremove <- dir(path=getwd(), pattern=\".tex|.pdf|.txt\")\n",
    "file.remove(toremove)\n",
    "\n",
    "#### TCZ\n",
    "df_to_filter <- df_kuznet\n",
    "t1 <- felm(formula=log(tso2_cit) ~ \n",
    "               + ln_gdp_cap\n",
    "               + ln_gdp_cap_sqred\n",
    "               + ln_pop\n",
    "               + target_c * Period * polluted_thre \n",
    "               + output_fcit + capital_fcit + labour_fcit\n",
    "                  |\n",
    "             cityen +  year + industry  | 0 |\n",
    "             industry, data= df_to_filter %>% filter(TCZ_c == 'TCZ'),\n",
    "             exactDOF=TRUE)\n",
    "t1 <-change_target(t1)\n",
    "\n",
    "#### No TCZ\n",
    "t2 <- felm(formula=log(tso2_cit) ~ \n",
    "               + ln_gdp_cap\n",
    "               + ln_gdp_cap_sqred\n",
    "               + ln_pop\n",
    "               + target_c * Period * polluted_thre \n",
    "               + output_fcit + capital_fcit + labour_fcit\n",
    "                  |\n",
    "             cityen +  year + industry  | 0 |\n",
    "             industry, data= df_to_filter %>% filter(TCZ_c != 'TCZ'),\n",
    "             exactDOF=TRUE)\n",
    "t2 <-change_target(t2)\n",
    "\n",
    "### concentration\n",
    "df_to_filter <- df_herfhindal_r\n",
    "t3 <- felm(formula=log(tso2_cit) ~ \n",
    "           + ln_gdp_cap\n",
    "           + ln_gdp_cap_sqred\n",
    "           + ln_pop\n",
    "           + target_c  * Period * polluted_thre \n",
    "           + output_fcit + capital_fcit + labour_fcit\n",
    "                  |\n",
    "             cityen +  year + industry  | 0 |\n",
    "             industry, data= df_to_filter %>% filter(decile_herfhindal > \n",
    "                                                     threshold_full),\n",
    "             exactDOF=TRUE)\n",
    "t3 <-change_target(t3)\n",
    "\n",
    "### Non concentrated\n",
    "t4 <- felm(formula=log(tso2_cit) ~ \n",
    "           + ln_gdp_cap\n",
    "           + ln_gdp_cap_sqred\n",
    "           + ln_pop\n",
    "           + target_c  * Period * polluted_thre \n",
    "           + output_fcit + capital_fcit + labour_fcit\n",
    "                  |\n",
    "             cityen +  year + industry  | 0 |\n",
    "             industry, data= df_to_filter %>% filter(decile_herfhindal <= \n",
    "                                                     threshold_full),\n",
    "             exactDOF=TRUE)\n",
    "t4 <-change_target(t4)\n",
    "\n",
    "### SOE\n",
    "df_to_filter <- df_final_SOE\n",
    "### output\n",
    "t5 <- felm(formula=log(tso2_cit) ~ \n",
    "           + ln_gdp_cap\n",
    "           + ln_gdp_cap_sqred\n",
    "           + ln_pop\n",
    "           + target_c  * Period * polluted_thre \n",
    "           + output_fcit + capital_fcit + labour_fcit\n",
    "                  |\n",
    "             cityen +  year + industry  | 0 |\n",
    "             industry, data= df_to_filter %>% filter(output > threshold_full),\n",
    "             exactDOF=TRUE)\n",
    "t5 <-change_target(t5)\n",
    "    \n",
    "t6 <- felm(formula=log(tso2_cit) ~ \n",
    "           + ln_gdp_cap\n",
    "           + ln_gdp_cap_sqred\n",
    "           + ln_pop\n",
    "           + target_c  * Period * polluted_thre \n",
    "           + output_fcit + capital_fcit + labour_fcit\n",
    "                  |\n",
    "             cityen +  year + industry  | 0 |\n",
    "             industry, data= df_to_filter %>% filter(output <= threshold_full),\n",
    "             exactDOF=TRUE)\n",
    "t6 <-change_target(t6)\n",
    "    \n",
    "### capital\n",
    "t7 <- felm(formula=log(tso2_cit) ~ \n",
    "           + ln_gdp_cap\n",
    "           + ln_gdp_cap_sqred\n",
    "           + ln_pop\n",
    "           + target_c  * Period * polluted_thre \n",
    "           + output_fcit + capital_fcit + labour_fcit\n",
    "                  |\n",
    "             cityen +  year + industry  | 0 |\n",
    "             industry, data= df_to_filter %>% filter(capital > threshold_full),\n",
    "             exactDOF=TRUE)\n",
    "t7 <-change_target(t7)\n",
    "    \n",
    "t8 <- felm(formula=log(tso2_cit) ~ \n",
    "           + ln_gdp_cap\n",
    "           + ln_gdp_cap_sqred\n",
    "           + ln_pop\n",
    "           + target_c  * Period * polluted_thre \n",
    "           + output_fcit + capital_fcit + labour_fcit\n",
    "                  |\n",
    "             cityen +  year + industry  | 0 |\n",
    "             industry, data= df_to_filter %>% filter(capital <= threshold_full),\n",
    "             exactDOF=TRUE)\n",
    "t8 <-change_target(t8)\n",
    "    \n",
    "### employment\n",
    "t9 <- felm(formula=log(tso2_cit) ~ \n",
    "           + ln_gdp_cap\n",
    "           + ln_gdp_cap_sqred\n",
    "           + ln_pop\n",
    "           + target_c  * Period * polluted_thre \n",
    "           + output_fcit + capital_fcit + labour_fcit\n",
    "                  |\n",
    "             cityen +  year + industry  | 0 |\n",
    "             industry, data= df_to_filter %>% filter(employment > threshold_full),\n",
    "             exactDOF=TRUE)\n",
    "t9 <-change_target(t9)\n",
    "    \n",
    "t10 <- felm(formula=log(tso2_cit) ~ \n",
    "           + ln_gdp_cap\n",
    "           + ln_gdp_cap_sqred\n",
    "           + ln_pop\n",
    "           + target_c  * Period * polluted_thre \n",
    "           + output_fcit + capital_fcit + labour_fcit\n",
    "                  |\n",
    "             cityen +  year + industry  | 0 |\n",
    "             industry, data= df_to_filter %>% filter(employment <= threshold_full),\n",
    "             exactDOF=TRUE)\n",
    "t10 <-change_target(t10)\n",
    "\n",
    "name = paste0(\"table_\",1,\".txt\")\n",
    "    title = paste0(\"Diffusion Chanel Kuznet\")\n",
    "    \n",
    "tables <- list(t1, t2, t3, t4, t5, t6, t7, t8, t9, t10)\n",
    "turning <- turning_point(tables, currency = 'RMB')\n",
    "turning_dol <- turning_point(tables, currency = 'dollars')\n",
    "fe1 <- list(\n",
    "    c('turning point RMB', turning),\n",
    "    c('turning point Dollar', turning_dol),\n",
    "    c(\"City fixed effects\", \"Yes\", \"Yes\", \"Yes\", \"Yes\", \"Yes\", \"Yes\",\n",
    "      \"Yes\", \"Yes\", \"Yes\", \"Yes\"),\n",
    "    c(\"Industry fixed effects\", \"Yes\", \"Yes\", \"Yes\", \"Yes\", \"Yes\", \"Yes\",\n",
    "      \"Yes\", \"Yes\", \"Yes\", \"Yes\"),\n",
    "    c(\"Year fixed effects\",\"Yes\", \"Yes\", \"Yes\", \"Yes\", \"Yes\", \"Yes\", \"Yes\",\n",
    "      \"Yes\", \"Yes\", \"Yes\")\n",
    ")\n",
    "\n",
    "table_1 <- go_latex(tables,\n",
    "                dep_var = \"Dependent variable \\\\text { SO2 emission }_{i k t}\",\n",
    "                title=title,\n",
    "                addFE=fe1,\n",
    "                save=TRUE,\n",
    "                note = FALSE,\n",
    "                name=name)"
   ]
  },
  {
   "cell_type": "code",
   "execution_count": 33,
   "metadata": {
    "kernel": "Python 3"
   },
   "outputs": [
    {
     "data": {
      "image/png": "[encoded data removed]",
      "text/plain": [
       "<wand.image.Image: bb2680f 'PDF' (955x484)>"
      ]
     },
     "metadata": {},
     "output_type": "display_data"
    }
   ],
   "source": [
    "multicolumn ={\n",
    "    'City': 2,\n",
    "    'Concentration': 2,\n",
    "    'Output': 2,\n",
    "    'Capital': 2,\n",
    "    'Employment': 2,\n",
    "}\n",
    "\n",
    "new_r = ['& TCZ', 'No TCZ', 'Concentrated', 'No Concentrated',\n",
    "        'SOE dominated', 'SOE No dominated',\n",
    "         'SOE dominated', 'SOE No dominated',\n",
    "         'SOE dominated', 'SOE No dominated',\n",
    "        ]\n",
    "\n",
    "tb = \"\"\"\\\\footnotesize{\n",
    "Due to limited space, only the coefficients of interest are presented \n",
    "for the regressions with city,industry, year fixed effect (i.e. columns 1-3).\n",
    "\\sym{*} Significance at the 10\\%, \\sym{**} Significance at the 5\\%, \\sym{***} Significance at the 1\\% \\\\\n",
    "heteroscedasticity-robust standard errors in parentheses are clustered by city \n",
    "}\n",
    "\"\"\"\n",
    "\n",
    "#os.remove('table_1.tex')\n",
    "x = [a for a in os.listdir() if a.endswith(\".txt\")]\n",
    "for i, val in enumerate(x):\n",
    "    lb.beautify(table_number = i+1,\n",
    "            remove_control= True,\n",
    "            constraint = True,\n",
    "            city_industry = False, \n",
    "            new_row = new_r,\n",
    "            multicolumn = multicolumn,\n",
    "            table_nte =tb,\n",
    "           jupyter_preview = True,\n",
    "           resolution = 200)"
   ]
  },
  {
   "cell_type": "markdown",
   "metadata": {
    "kernel": "Python 3"
   },
   "source": [
    "# Create Report"
   ]
  },
  {
   "cell_type": "code",
   "execution_count": 39,
   "metadata": {
    "kernel": "SoS"
   },
   "outputs": [
    {
     "data": {
      "text/plain": [
       "'/Users/thomas/Google Drive/Projects/GitHub/Repositories/SBC_pollution_China/Data_analysis/Reports/10_SBC_final_geocode4_corr_6_.html'"
      ]
     },
     "execution_count": 39,
     "metadata": {},
     "output_type": "execute_result"
    }
   ],
   "source": [
    "import os, time, shutil\n",
    "from pathlib import Path\n",
    "\n",
    "filename = '10_SBC_final'\n",
    "source = filename + '.ipynb'\n",
    "source_to_move = filename +'.html'\n",
    "path = os.getcwd()\n",
    "parent_path = str(Path(path).parent)\n",
    "path_report = \"{}/Reports\".format(parent_path)\n",
    "dest = os.path.join(path_report, filename)+'_{}_{}_.html'.format(\n",
    "    aggregation_param,\n",
    "    threshold_full)\n",
    "\n",
    "dest"
   ]
  },
  {
   "cell_type": "code",
   "execution_count": null,
   "metadata": {
    "kernel": "SoS"
   },
   "outputs": [],
   "source": [
    "os.system('jupyter nbconvert --no-input --to html {}'.format(source))\n",
    "\n",
    "time.sleep(5)\n",
    "shutil.move(source_to_move, dest)\n",
    "for i in range(1, 19):\n",
    "    try:\n",
    "        os.remove(\"table_{}.pdf\".format(i))\n",
    "        os.remove(\"table_{}.tex\".format(i))\n",
    "        os.remove(\"table_{}.txt\".format(i))\n",
    "    except:\n",
    "        pass"
   ]
  }
 ],
 "metadata": {
  "jupytext": {
   "formats": "ipynb,md"
  },
  "kernelspec": {
   "display_name": "SoS",
   "language": "sos",
   "name": "sos"
  },
  "language_info": {
   "codemirror_mode": "sos",
   "file_extension": ".sos",
   "mimetype": "text/x-sos",
   "name": "sos",
   "nbconvert_exporter": "sos_notebook.converter.SoS_Exporter",
   "pygments_lexer": "sos"
  },
  "sos": {
   "kernels": [
    [
     "Python 3",
     "python3",
     "python3",
     "",
     {
      "name": "ipython",
      "version": 3
     }
    ],
    [
     "R",
     "ir",
     "R",
     "#DCDCDA",
     "r"
    ],
    [
     "SoS",
     "sos",
     "",
     "",
     "sos"
    ]
   ],
   "version": "0.21.7"
  }
 },
 "nbformat": 4,
 "nbformat_minor": 4
}
