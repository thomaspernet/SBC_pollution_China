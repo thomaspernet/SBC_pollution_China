{
 "cells": [
  {
   "cell_type": "markdown",
   "metadata": {
    "kernel": "SoS"
   },
   "source": [
    "# Table 1 and 2"
   ]
  },
  {
   "cell_type": "code",
   "execution_count": 1,
   "metadata": {
    "kernel": "Python 3"
   },
   "outputs": [
    {
     "name": "stdout",
     "output_type": "stream",
     "text": [
      "Service Google Drive and Docs, Sheet are now connected. \n",
      "Service Google Drive is stored as <googleapiclient.discovery.Resource object at 0x121e0bbd0> and accessible with \"drive\" \n",
      "Service Google Doc is stored as <googleapiclient.discovery.Resource object at 0x121e8ce90> and accessible with \"doc\" \n",
      "Service Google Sheet is stored as <googleapiclient.discovery.Resource object at 0x121f7ed50>and accessible with \"sheet\"\n",
      "Service account storage and Bigquery are now connected. \n",
      "Service account storage is stored as <google.cloud.storage.client.Client object at 0x121f894d0> and accessible with \"Storage_account\" \n",
      "Service account Bigquery is stored as <google.cloud.bigquery.client.Client object at 0x121f89150> and accessible with \"bigquery_account\"\n"
     ]
    }
   ],
   "source": [
    "from Fast_connectCloud import connector\n",
    "from GoogleDrivePy.google_drive import connect_drive\n",
    "import pandas as pd\n",
    "import numpy as np\n",
    "\n",
    "gs = connector.open_connection(online_connection = False,\n",
    "                              path_credential = \n",
    "                               '/Users/thomas/Google Drive/Projects/Client_Oauth/Google_auth/'\n",
    "                              )\n",
    "service_gd = gs.connect_remote(engine = 'GS')\n",
    "gdr = connect_drive.connect_drive(service_gd['GoogleDrive'])\n",
    "service = gs.connect_remote('GCP')\n",
    "from GoogleDrivePy.google_platform import connect_cloud_platform\n",
    "project = 'valid-pagoda-132423'\n",
    "gcp = connect_cloud_platform.connect_console(project = project, \n",
    "                                             service_account = service['GoogleCloudP'])   "
   ]
  },
  {
   "cell_type": "markdown",
   "metadata": {
    "kernel": "Python 3"
   },
   "source": [
    "# Load data"
   ]
  },
  {
   "cell_type": "markdown",
   "metadata": {
    "kernel": "Python 3"
   },
   "source": [
    "## parameters"
   ]
  },
  {
   "cell_type": "code",
   "execution_count": 2,
   "metadata": {
    "kernel": "Python 3"
   },
   "outputs": [],
   "source": [
    "aggregation_param = 'industry'\n",
    "decile = 6"
   ]
  },
  {
   "cell_type": "markdown",
   "metadata": {
    "kernel": "Python 3"
   },
   "source": [
    "## Load cityname_and_code from Google Spreadsheet\n",
    "\n",
    "Feel free to add description about the dataset or any usefull information.\n",
    "\n",
    "Profiling will be available soon for this dataset"
   ]
  },
  {
   "cell_type": "code",
   "execution_count": 3,
   "metadata": {
    "kernel": "Python 3"
   },
   "outputs": [
    {
     "data": {
      "text/html": [
       "<div>\n",
       "<style scoped>\n",
       "    .dataframe tbody tr th:only-of-type {\n",
       "        vertical-align: middle;\n",
       "    }\n",
       "\n",
       "    .dataframe tbody tr th {\n",
       "        vertical-align: top;\n",
       "    }\n",
       "\n",
       "    .dataframe thead th {\n",
       "        text-align: right;\n",
       "    }\n",
       "</style>\n",
       "<table border=\"1\" class=\"dataframe\">\n",
       "  <thead>\n",
       "    <tr style=\"text-align: right;\">\n",
       "      <th></th>\n",
       "      <th>extra_coda</th>\n",
       "      <th>geocode4_corr</th>\n",
       "      <th>citycn</th>\n",
       "      <th>cityen</th>\n",
       "      <th>citycn_correct</th>\n",
       "      <th>cityen_correct</th>\n",
       "      <th>Province_cn</th>\n",
       "      <th>Province_en</th>\n",
       "    </tr>\n",
       "  </thead>\n",
       "  <tbody>\n",
       "    <tr>\n",
       "      <th>1</th>\n",
       "      <td>1100</td>\n",
       "      <td>1101</td>\n",
       "      <td>北京</td>\n",
       "      <td>Beijing</td>\n",
       "      <td>北京</td>\n",
       "      <td>Beijing</td>\n",
       "      <td>北京市</td>\n",
       "      <td>Beijing</td>\n",
       "    </tr>\n",
       "    <tr>\n",
       "      <th>2</th>\n",
       "      <td>1101</td>\n",
       "      <td>1101</td>\n",
       "      <td>北京</td>\n",
       "      <td>Beijing</td>\n",
       "      <td>北京</td>\n",
       "      <td>Beijing</td>\n",
       "      <td>北京市</td>\n",
       "      <td>Beijing</td>\n",
       "    </tr>\n",
       "    <tr>\n",
       "      <th>3</th>\n",
       "      <td>1102</td>\n",
       "      <td>1101</td>\n",
       "      <td>北京</td>\n",
       "      <td>Beijing</td>\n",
       "      <td>北京</td>\n",
       "      <td>Beijing</td>\n",
       "      <td>北京市</td>\n",
       "      <td>Beijing</td>\n",
       "    </tr>\n",
       "    <tr>\n",
       "      <th>4</th>\n",
       "      <td>1200</td>\n",
       "      <td>1201</td>\n",
       "      <td>天津</td>\n",
       "      <td>Tianjin</td>\n",
       "      <td>天津</td>\n",
       "      <td>Tianjin</td>\n",
       "      <td>天津市</td>\n",
       "      <td>Tianjin</td>\n",
       "    </tr>\n",
       "    <tr>\n",
       "      <th>5</th>\n",
       "      <td>1201</td>\n",
       "      <td>1201</td>\n",
       "      <td>天津</td>\n",
       "      <td>Tianjin</td>\n",
       "      <td>天津</td>\n",
       "      <td>Tianjin</td>\n",
       "      <td>天津市</td>\n",
       "      <td>Tianjin</td>\n",
       "    </tr>\n",
       "  </tbody>\n",
       "</table>\n",
       "</div>"
      ],
      "text/plain": [
       "  extra_coda geocode4_corr citycn   cityen citycn_correct cityen_correct  \\\n",
       "1       1100          1101     北京  Beijing             北京        Beijing   \n",
       "2       1101          1101     北京  Beijing             北京        Beijing   \n",
       "3       1102          1101     北京  Beijing             北京        Beijing   \n",
       "4       1200          1201     天津  Tianjin             天津        Tianjin   \n",
       "5       1201          1201     天津  Tianjin             天津        Tianjin   \n",
       "\n",
       "  Province_cn Province_en  \n",
       "1         北京市     Beijing  \n",
       "2         北京市     Beijing  \n",
       "3         北京市     Beijing  \n",
       "4         天津市     Tianjin  \n",
       "5         天津市     Tianjin  "
      ]
     },
     "execution_count": 3,
     "metadata": {},
     "output_type": "execute_result"
    }
   ],
   "source": [
    "### Please go here https://docs.google.com/spreadsheets/d/1fIziz-Xt99-Rj6NLm52-i6jScOLXgAY20KJi8k3DruA\n",
    "### To change the range\n",
    "\n",
    "sheetid = '1fIziz-Xt99-Rj6NLm52-i6jScOLXgAY20KJi8k3DruA'\n",
    "sheetname = 'final'\n",
    "\n",
    "df_cityname_and_code = gdr.upload_data_from_spreadsheet(sheetID = sheetid,\n",
    "sheetName = sheetname,\n",
    "\t to_dataframe = True)\n",
    "df_cityname_and_code.head()"
   ]
  },
  {
   "cell_type": "markdown",
   "metadata": {
    "kernel": "Python 3"
   },
   "source": [
    "## Load TCZ_list_china from Google Spreadsheet\n",
    "\n",
    "Feel free to add description about the dataset or any usefull information.\n",
    "\n",
    "Profiling will be available soon for this dataset"
   ]
  },
  {
   "cell_type": "code",
   "execution_count": 4,
   "metadata": {
    "kernel": "Python 3"
   },
   "outputs": [
    {
     "data": {
      "text/html": [
       "<div>\n",
       "<style scoped>\n",
       "    .dataframe tbody tr th:only-of-type {\n",
       "        vertical-align: middle;\n",
       "    }\n",
       "\n",
       "    .dataframe tbody tr th {\n",
       "        vertical-align: top;\n",
       "    }\n",
       "\n",
       "    .dataframe thead th {\n",
       "        text-align: right;\n",
       "    }\n",
       "</style>\n",
       "<table border=\"1\" class=\"dataframe\">\n",
       "  <thead>\n",
       "    <tr style=\"text-align: right;\">\n",
       "      <th></th>\n",
       "      <th>Province</th>\n",
       "      <th>City</th>\n",
       "      <th>geocode4_corr</th>\n",
       "      <th>TCZ</th>\n",
       "    </tr>\n",
       "  </thead>\n",
       "  <tbody>\n",
       "    <tr>\n",
       "      <th>1</th>\n",
       "      <td>Beijing</td>\n",
       "      <td>Beijing</td>\n",
       "      <td>1101</td>\n",
       "      <td>1</td>\n",
       "    </tr>\n",
       "    <tr>\n",
       "      <th>2</th>\n",
       "      <td>Tianjin</td>\n",
       "      <td>Tianjin</td>\n",
       "      <td>1201</td>\n",
       "      <td>1</td>\n",
       "    </tr>\n",
       "    <tr>\n",
       "      <th>3</th>\n",
       "      <td>Hebei</td>\n",
       "      <td>Shijiazhuang</td>\n",
       "      <td>1301</td>\n",
       "      <td>1</td>\n",
       "    </tr>\n",
       "    <tr>\n",
       "      <th>4</th>\n",
       "      <td>Hebei</td>\n",
       "      <td>Tangshan</td>\n",
       "      <td>1302</td>\n",
       "      <td>1</td>\n",
       "    </tr>\n",
       "    <tr>\n",
       "      <th>5</th>\n",
       "      <td>Hebei</td>\n",
       "      <td>Qinhuangdao</td>\n",
       "      <td>1303</td>\n",
       "      <td>0</td>\n",
       "    </tr>\n",
       "  </tbody>\n",
       "</table>\n",
       "</div>"
      ],
      "text/plain": [
       "  Province          City geocode4_corr TCZ\n",
       "1  Beijing       Beijing          1101   1\n",
       "2  Tianjin       Tianjin          1201   1\n",
       "3    Hebei  Shijiazhuang          1301   1\n",
       "4    Hebei      Tangshan          1302   1\n",
       "5    Hebei   Qinhuangdao          1303   0"
      ]
     },
     "execution_count": 4,
     "metadata": {},
     "output_type": "execute_result"
    }
   ],
   "source": [
    "### Please go here https://docs.google.com/spreadsheets/d/15bMeS2cMfGfYJkjuY6wOMzcAUWZNRGpO03hZ8rpgv0Q\n",
    "### To change the range\n",
    "\n",
    "sheetid = '15bMeS2cMfGfYJkjuY6wOMzcAUWZNRGpO03hZ8rpgv0Q'\n",
    "sheetname = 'TCZ'\n",
    "\n",
    "df_TCZ_list_china = gdr.upload_data_from_spreadsheet(sheetID = sheetid,\n",
    "sheetName = sheetname,\n",
    "\t to_dataframe = True)\n",
    "df_TCZ_list_china.head()"
   ]
  },
  {
   "cell_type": "markdown",
   "metadata": {
    "kernel": "SoS"
   },
   "source": [
    "## Load yearbook9813 from Google Spreadsheet\n",
    "\n",
    "Feel free to add description about the dataset or any usefull information.\n",
    "\n",
    "Profiling will be available soon for this dataset\n",
    "\n",
    "We need this table for the table 0 -> Need year 2001"
   ]
  },
  {
   "cell_type": "code",
   "execution_count": 5,
   "metadata": {
    "kernel": "Python 3"
   },
   "outputs": [],
   "source": [
    "### Please go here https://docs.google.com/spreadsheets/d/15bMeS2cMfGfYJkjuY6wOMzcAUWZNRGpO03hZ8rpgv0Q\n",
    "### To change the range\n",
    "\n",
    "\n",
    "sheetid = '1NpfDQ6dz7knjZDPSjRz2QanVf7td3ujSQn7hD7Gxkow'\n",
    "sheetname = 'yearbook'\n",
    "\n",
    "yearbook9813 = (gdr.upload_data_from_spreadsheet(sheetID = sheetid,\n",
    "sheetName = sheetname,\n",
    "\t to_dataframe = True).loc[lambda x: x['year'].isin(['2003','2004',\n",
    "                                                       '2005', '2006',\n",
    "                                                       '2007', '2008',\n",
    "                                                       '2009', '2010'])]\n",
    "                .drop(columns = ['代码',\n",
    "                  '简称', \n",
    "                  \"[Envirct06:工业二氧化硫去除量][单位:吨]\",\n",
    "                 '[Envirct08:工业烟尘去除量][单位:吨]',\n",
    "                 '[Envirct09:工业烟尘排放量][单位:吨]']\n",
    "               )\n",
    "                .rename(columns = {'[Envirct07:工业二氧化硫排放量][单位:吨]':\n",
    "                                   'tso2'})\n",
    "                .assign(tso2 = lambda x: pd.to_numeric(x['tso2'],\n",
    "                                                         errors = 'coerce'\n",
    "                                                         )\n",
    "                                                         )\n",
    "               )"
   ]
  },
  {
   "cell_type": "markdown",
   "metadata": {
    "kernel": "Python 3"
   },
   "source": [
    "## Paper dataset"
   ]
  },
  {
   "cell_type": "code",
   "execution_count": 6,
   "metadata": {
    "kernel": "Python 3"
   },
   "outputs": [],
   "source": [
    "query = (\n",
    "          \"SELECT * \"\n",
    "            \"FROM China.SBC_pollution_China \"\n",
    "\n",
    "        )\n",
    "\n",
    "df_final = gcp.upload_data_from_bigquery(query = query, location = 'US')"
   ]
  },
  {
   "cell_type": "code",
   "execution_count": 7,
   "metadata": {
    "kernel": "Python 3"
   },
   "outputs": [],
   "source": [
    "list_agg = df_final[aggregation_param].to_list()"
   ]
  },
  {
   "cell_type": "markdown",
   "metadata": {
    "kernel": "Python 3"
   },
   "source": [
    "## Pollution China 1998-2005"
   ]
  },
  {
   "cell_type": "code",
   "execution_count": 8,
   "metadata": {
    "kernel": "Python 3"
   },
   "outputs": [],
   "source": [
    "query = (\"\"\"SELECT SUM( tso2) sum_so2, year, citycode as geocode4_corr\n",
    "FROM China.pollution_city_cic4_china\n",
    "GROUP BY year, citycode\n",
    "\"\"\"\n",
    "        )\n",
    "df_pol = (gcp.upload_data_from_bigquery(query = query, location = 'US')\n",
    "          .loc[lambda x: ~x['geocode4_corr'].isna()]\n",
    "      .assign(geocode4_corr = lambda x: \n",
    "              x['geocode4_corr'].astype(int).astype('str')\n",
    "             )\n",
    "         )\n",
    "          "
   ]
  },
  {
   "cell_type": "code",
   "execution_count": 9,
   "metadata": {
    "kernel": "Python 3"
   },
   "outputs": [],
   "source": [
    "### Zhaoruili data\n",
    "sheetid = '1kSyGnkWOwoGVe1PgsQUGoWYO3DB8p9fgVh_VE6ilBt8'\n",
    "sheetname = 'SO2_emission'\n",
    "\n",
    "df_TCZ_SO2_Zhaoruili= gdr.upload_data_from_spreadsheet(sheetID = sheetid,\n",
    "sheetName = sheetname,\n",
    "\t to_dataframe = True).apply(lambda x: pd.to_numeric(x, errors ='ignore'))"
   ]
  },
  {
   "cell_type": "markdown",
   "metadata": {
    "kernel": "Python 3"
   },
   "source": [
    "## SOE vs Private\n",
    "\n",
    "We proceed as follow:\n",
    "- Step 1: Compute the share [output, capital, employment] by industry[city], ownership (SOE/PRIVATE): `Share_X_agg_o`\n",
    "- ~Step 2: Compute dummy when share SOE above share domestic by industry[city]~\n",
    "- Step 3: Compute decile by industry[city]-ownership\n",
    "    - Note,  high decile in SOE means the industry[city] has relatively high share of SOE output, but not in absolule value as in step 2. A decile 9 in SOE can be a decile 2 or 3 in Domestic"
   ]
  },
  {
   "cell_type": "code",
   "execution_count": 10,
   "metadata": {
    "kernel": "Python 3"
   },
   "outputs": [],
   "source": [
    "query_share_ = \"\"\" \n",
    "WITH sum_agg_o AS (\n",
    "  SELECT \n",
    "    case WHEN ownership = '{2}' THEN '{2}' ELSE '{3}' END AS OWNERSHIP, \n",
    "    SUM(output / 10000000) as output_agg_o, \n",
    "    SUM(fa_net / 10000000) as fa_net_agg_o, \n",
    "    SUM(employment / 100000) as employment_agg_o,\n",
    "    {1} as {0}\n",
    "  FROM \n",
    "    China.asif_firm_china \n",
    "  WHERE \n",
    "    year >= 2002 \n",
    "    AND year <= 2007 \n",
    "    AND output > 0 \n",
    "    AND fa_net > 0 \n",
    "    AND employment > 0 \n",
    "  GROUP BY \n",
    "    OWNERSHIP, \n",
    "    {0}\n",
    ") \n",
    "SELECT \n",
    "  * \n",
    "FROM \n",
    "  (\n",
    "    WITH sum_agg AS(\n",
    "      SELECT \n",
    "        SUM(output_agg_o) as output_agg, \n",
    "        SUM(fa_net_agg_o) as fa_net_agg, \n",
    "        SUM(employment_agg_o) as employment_agg, \n",
    "        {0} AS {0}_b\n",
    "      FROM \n",
    "        sum_agg_o \n",
    "      GROUP BY \n",
    "        {0}\n",
    "    ) \n",
    "    SELECT \n",
    "      * \n",
    "    FROM \n",
    "      (\n",
    "        WITH share_agg_o AS(\n",
    "          SELECT \n",
    "            OWNERSHIP, \n",
    "            output_agg_o / output_agg AS share_output_agg_o, \n",
    "            fa_net_agg_o / fa_net_agg AS share_fa_net_agg_o, \n",
    "            employment_agg_o / employment_agg AS share_employement_agg_o, \n",
    "            {0}\n",
    "          FROM \n",
    "            sum_agg_o \n",
    "            LEFT JOIN sum_agg ON sum_agg_o.{0} = sum_agg.{0}_b \n",
    "        ) \n",
    "        SELECT \n",
    "        {0},\n",
    "        OWNERSHIP,  \n",
    "        share_output_agg_o,\n",
    "        share_fa_net_agg_o,\n",
    "        share_employement_agg_o\n",
    "        FROM share_agg_o\n",
    "        WHERE OWNERSHIP = '{2}'\n",
    "        )\n",
    "        )\n",
    "\"\"\"\n",
    "OWNERSHIP = 'SOE'\n",
    "counterpart = 'PRIVATE'\n",
    "\n",
    "df_share_soe= query_share_.format(aggregation_param,\n",
    "                                             'cic',\n",
    "                                             OWNERSHIP,\n",
    "                                            counterpart)\n",
    "    \n",
    "df_share_soe = (gcp.upload_data_from_bigquery(query = df_share_soe,\n",
    "                                         location = 'US')\n",
    "                    .loc[lambda x: x[aggregation_param].isin(list_agg)]\n",
    "                   )\n",
    "#df_share_soe.shape "
   ]
  },
  {
   "cell_type": "markdown",
   "metadata": {
    "kernel": "Python 3"
   },
   "source": []
  },
  {
   "cell_type": "markdown",
   "metadata": {
    "kernel": "Python 3"
   },
   "source": [
    "# Table 1"
   ]
  },
  {
   "cell_type": "code",
   "execution_count": 11,
   "metadata": {
    "kernel": "Python 3"
   },
   "outputs": [
    {
     "data": {
      "text/plain": [
       "No SOE dominated    169\n",
       "SOE dominated        59\n",
       "Name: soe_city, dtype: int64"
      ]
     },
     "execution_count": 11,
     "metadata": {},
     "output_type": "execute_result"
    }
   ],
   "source": [
    "#### If industry, we need to use out_share_SOE, cap_share_SOE,lab_share_SOE\n",
    "##### Output share already computed in the paper's table for industry but not\n",
    "##### for city, in the later case, we use the data from ASIF\n",
    "decile =6\n",
    "\n",
    "if aggregation_param== 'industry':\n",
    "    out = \"out_share_SOE\"\n",
    "    cap = \"cap_share_SOE\"\n",
    "    emp = \"lab_share_SOE\"\n",
    "else:\n",
    "    out = \"share_output_agg_o\"\n",
    "    cap = \"share_fa_net_agg_o\"\n",
    "    emp = \"share_employement_agg_o\"\n",
    "    \n",
    "df_final_SOE = (df_final.merge(\n",
    "    df_share_soe,\n",
    "    on = [aggregation_param],\n",
    "    how = 'left',\n",
    "    indicator = True\n",
    ")\n",
    "                .assign(\n",
    "                       output = lambda x:\n",
    "                           pd.qcut(x[out],10, labels=False),\n",
    "                       capital = lambda x:\n",
    "                           pd.qcut(x[cap],10, labels=False),\n",
    "                       employment = lambda x:\n",
    "                           pd.qcut(x[emp],10, labels=False),\n",
    "                       mean_output = lambda x:np.where(\n",
    "                    x[out] > x[out].drop_duplicates().mean(),\n",
    "                           1,0\n",
    "                       ),\n",
    "                    mean_capital = lambda x:np.where(\n",
    "                    x[cap] > x[cap].drop_duplicates().mean(),\n",
    "                           1,0\n",
    "                       ),\n",
    "                    mean_employment = lambda x:np.where(\n",
    "                    x[emp] > x[emp].drop_duplicates().mean(),\n",
    "                           1,0\n",
    "                       ),\n",
    "                    soe_city = lambda x:np.where(\n",
    "                    x['output'] > decile,\n",
    "                           'SOE dominated',\"No SOE dominated\"\n",
    "                       )\n",
    "                    \n",
    "                    )\n",
    "                .drop(columns = '_merge')[['geocode4_corr',\n",
    "                                           'output',\n",
    "                                           'TCZ_c',\n",
    "                                          'soe_city',\n",
    "                                          'target_c']].drop_duplicates(\n",
    "    subset = 'geocode4_corr')\n",
    "                .assign(geocode4_corr = lambda x: \n",
    "                        x['geocode4_corr'].astype('str'))\n",
    "                \n",
    "\n",
    ")\n",
    "df_final_SOE['soe_city'].value_counts()"
   ]
  },
  {
   "cell_type": "markdown",
   "metadata": {
    "kernel": "Python 3"
   },
   "source": [
    "### 1998-2000\n",
    "\n",
    "- TCZ\n",
    "- No TCZ\n",
    "- SOE\n",
    "- No SOE\n",
    "- Full "
   ]
  },
  {
   "cell_type": "code",
   "execution_count": 32,
   "metadata": {
    "kernel": "Python 3"
   },
   "outputs": [],
   "source": [
    "dic_ = {\n",
    "    '1998-2001': [],\n",
    "    '2002-2005': [],\n",
    "    '2006-2010': [],\n",
    "    'Target':[]\n",
    "}"
   ]
  },
  {
   "cell_type": "code",
   "execution_count": 33,
   "metadata": {
    "kernel": "Python 3"
   },
   "outputs": [],
   "source": [
    "t1 = (df_TCZ_SO2_Zhaoruili\n",
    " .loc[lambda x: (~x['tcz'].isin(['OTHER']))\n",
    "     & (x['year'].isin(['1998', '2000'#, '2001', '2005'\n",
    "                       ]))]\n",
    " .set_index(['tcz', 'year'])\n",
    " .groupby(level = 0)\n",
    " .pct_change()\n",
    " .dropna()\n",
    ")\n",
    "\n",
    "dic_['1998-2001'].append(np.round(t1.loc['No_TCZ'].values[0][0], 2))\n",
    "dic_['1998-2001'].append(np.round(t1.loc['TCZ'].values[0][0], 2))"
   ]
  },
  {
   "cell_type": "code",
   "execution_count": 34,
   "metadata": {
    "kernel": "Python 3"
   },
   "outputs": [],
   "source": [
    "t2 = (df_pol\n",
    " .merge(df_final_SOE, \n",
    "        how = 'right'\n",
    "       )\n",
    " .assign(sum_so2 = lambda x: x['sum_so2'].fillna(0))\n",
    " .loc[lambda x: \n",
    " (x['year'].isin(['1998', '2001']))\n",
    "     ]\n",
    "  .groupby(['soe_city',\"year\"])['sum_so2']\n",
    " .sum()\n",
    " .groupby(level = 0)\n",
    " .pct_change()\n",
    " .dropna()\n",
    ")\n",
    "dic_['1998-2001'].append(np.round(t2.loc['No SOE dominated'].values[0], 2))\n",
    "dic_['1998-2001'].append(np.round(t2.loc['SOE dominated'].values[0], 2))"
   ]
  },
  {
   "cell_type": "code",
   "execution_count": 35,
   "metadata": {
    "kernel": "Python 3"
   },
   "outputs": [],
   "source": [
    "t3 = (df_TCZ_SO2_Zhaoruili\n",
    " .loc[lambda x: (~x['tcz'].isin(['OTHER']))\n",
    "     & (x['year'].isin(['1998', '2000'#, '2001', '2005'\n",
    "                       ]))]\n",
    " .set_index(['tcz', 'year'])\n",
    " .groupby(level = 1)\n",
    " .sum()\n",
    " .pct_change()\n",
    " .dropna()\n",
    ")\n",
    "dic_['1998-2001'].append(np.round(t3.loc[2000].values[0], 2))"
   ]
  },
  {
   "cell_type": "markdown",
   "metadata": {
    "kernel": "Python 3"
   },
   "source": [
    "### 2001-2005\n",
    "\n",
    "- TCZ\n",
    "- No TCZ\n",
    "- SOE\n",
    "- No SOE\n",
    "- Full "
   ]
  },
  {
   "cell_type": "code",
   "execution_count": 36,
   "metadata": {
    "kernel": "Python 3"
   },
   "outputs": [],
   "source": [
    "t1 = (df_TCZ_SO2_Zhaoruili\n",
    " .loc[lambda x: (~x['tcz'].isin(['OTHER']))\n",
    "     & (x['year'].isin(['2001', '2005'#, '2001', '2005'\n",
    "                       ]))]\n",
    " .set_index(['tcz', 'year'])\n",
    " .groupby(level = 0)\n",
    " .pct_change()\n",
    " .dropna()\n",
    ")\n",
    "dic_['2002-2005'].append(np.round(t1.loc['No_TCZ'].values[0][0], 2))\n",
    "dic_['2002-2005'].append(np.round(t1.loc['TCZ'].values[0][0], 2))"
   ]
  },
  {
   "cell_type": "code",
   "execution_count": 37,
   "metadata": {
    "kernel": "Python 3"
   },
   "outputs": [],
   "source": [
    "t2 = (df_pol\n",
    " .merge(df_final_SOE, \n",
    "        how = 'right'\n",
    "       )\n",
    " .assign(sum_so2 = lambda x: x['sum_so2'].fillna(0))\n",
    " .loc[lambda x: \n",
    " (x['year'].isin(['2001', '2005']))\n",
    "     ]\n",
    "  .groupby(['soe_city',\"year\"])['sum_so2']\n",
    " .sum()\n",
    " .groupby(level = 0)\n",
    " .pct_change()\n",
    " .dropna()\n",
    ")\n",
    "dic_['2002-2005'].append(np.round(t2.loc['No SOE dominated'].values[0], 2))\n",
    "dic_['2002-2005'].append(np.round(t2.loc['SOE dominated'].values[0], 2))"
   ]
  },
  {
   "cell_type": "code",
   "execution_count": 38,
   "metadata": {
    "kernel": "Python 3"
   },
   "outputs": [],
   "source": [
    "t3 = (df_TCZ_SO2_Zhaoruili\n",
    " .loc[lambda x: (~x['tcz'].isin(['OTHER']))\n",
    "     & (x['year'].isin(['2001', '2005'#, '2001', '2005'\n",
    "                       ]))]\n",
    " .set_index(['tcz', 'year'])\n",
    " .groupby(level = 1)\n",
    " .sum()\n",
    " .pct_change()\n",
    " .dropna()\n",
    ")\n",
    "dic_['2002-2005'].append(np.round(t3.loc[2005].values[0], 2))"
   ]
  },
  {
   "cell_type": "markdown",
   "metadata": {
    "kernel": "Python 3"
   },
   "source": [
    "### 2006-2010"
   ]
  },
  {
   "cell_type": "code",
   "execution_count": 39,
   "metadata": {
    "kernel": "Python 3"
   },
   "outputs": [],
   "source": [
    "t1 = (df_cityname_and_code\n",
    " .drop(\n",
    "    columns=['citycn',\n",
    "             'cityen',\n",
    "             'citycn_correct',\n",
    "             'cityen_correct',\n",
    "             'Province_cn',\n",
    "             'Province_en'])\n",
    " .merge(yearbook9813.rename(columns = {'geocode4_corr' : 'extra_coda'}))\n",
    " .drop(columns = ['extra_coda'])\n",
    " .merge(df_TCZ_list_china[['geocode4_corr', 'TCZ']], how = \"left\")\n",
    " .merge(df_final_SOE, on = ['geocode4_corr'],how = 'left')\n",
    " .apply(lambda x: pd.to_numeric(x, errors = 'coerce'))\n",
    " .assign(TCZ = lambda x: x['TCZ'].fillna(0))\n",
    " .replace({'TCZ': {0: 'No_TCZ', 1:'TCZ'}})\n",
    " .loc[lambda x: \n",
    " (x['year'].isin(['2006', '2010']))]\n",
    "  .groupby(['TCZ',\"year\"])['tso2']\n",
    " .sum()\n",
    " .groupby(level = 0)\n",
    " .pct_change()\n",
    " .dropna()\n",
    ")\n",
    "\n",
    "dic_['2006-2010'].append(np.round(t1.loc['No_TCZ'].values[0], 2))\n",
    "dic_['2006-2010'].append(np.round(t1.loc['TCZ'].values[0], 2))"
   ]
  },
  {
   "cell_type": "code",
   "execution_count": 40,
   "metadata": {
    "kernel": "Python 3"
   },
   "outputs": [],
   "source": [
    "#### average target\n",
    "t1 = (df_cityname_and_code\n",
    " .drop(\n",
    "    columns=['citycn',\n",
    "             'cityen',\n",
    "             'citycn_correct',\n",
    "             'cityen_correct',\n",
    "             'Province_cn',\n",
    "             'Province_en'])\n",
    " .merge(yearbook9813.rename(columns = {'geocode4_corr' : 'extra_coda'}))\n",
    " .drop(columns = ['extra_coda'])\n",
    " .merge(df_TCZ_list_china[['geocode4_corr', 'TCZ']], how = \"left\")\n",
    " .merge(df_final_SOE, on = ['geocode4_corr'],how = 'left')\n",
    " .apply(lambda x: pd.to_numeric(x, errors = 'coerce'))\n",
    " .assign(TCZ = lambda x: x['TCZ'].fillna(0))\n",
    " .replace({'TCZ': {0: 'No_TCZ', 1:'TCZ'}})\n",
    " .loc[lambda x: \n",
    " (x['year'].isin(['2006']))]\n",
    "  .groupby(['TCZ',\"year\"])['target_c']\n",
    ".mean()\n",
    "     )\n",
    "dic_['Target'].append(-np.round(t1.loc['No_TCZ'].values[0], 2))\n",
    "dic_['Target'].append(-np.round(t1.loc['TCZ'].values[0], 2))"
   ]
  },
  {
   "cell_type": "code",
   "execution_count": 41,
   "metadata": {
    "kernel": "Python 3"
   },
   "outputs": [],
   "source": [
    "t2 = (yearbook9813\n",
    " .merge(df_final_SOE, \n",
    "        how = 'right'\n",
    "       )\n",
    " .assign(sum_so2 = lambda x: x['tso2'].fillna(0))\n",
    " .loc[lambda x: \n",
    " (x['year'].isin(['2006', '2010']))\n",
    "     ]\n",
    "  .groupby(['soe_city',\"year\"])['tso2']\n",
    " .sum()\n",
    " .groupby(level = 0)\n",
    " .pct_change()\n",
    " .dropna()\n",
    ")\n",
    "\n",
    "dic_['2006-2010'].append(np.round(t2.loc['No SOE dominated'].values[0], 2))\n",
    "dic_['2006-2010'].append(np.round(t2.loc['SOE dominated'].values[0], 2))"
   ]
  },
  {
   "cell_type": "code",
   "execution_count": 42,
   "metadata": {
    "kernel": "Python 3"
   },
   "outputs": [],
   "source": [
    "### target\n",
    "t2 = (yearbook9813\n",
    " .merge(df_final_SOE, \n",
    "        how = 'right'\n",
    "       )\n",
    " .assign(sum_so2 = lambda x: x['tso2'].fillna(0))\n",
    " .loc[lambda x: \n",
    " (x['year'].isin(['2006']))\n",
    "     ]\n",
    "  .groupby(['soe_city',\"year\"])['target_c']\n",
    "  .mean()\n",
    "     )\n",
    "dic_['Target'].append(-np.round(t2.loc['No SOE dominated'].values[0], 2))\n",
    "dic_['Target'].append(-np.round(t2.loc['SOE dominated'].values[0], 2))"
   ]
  },
  {
   "cell_type": "code",
   "execution_count": 43,
   "metadata": {
    "kernel": "Python 3"
   },
   "outputs": [],
   "source": [
    "t3 = (df_cityname_and_code\n",
    " .drop(\n",
    "    columns=['citycn',\n",
    "             'cityen',\n",
    "             'citycn_correct',\n",
    "             'cityen_correct',\n",
    "             'Province_cn',\n",
    "             'Province_en'])\n",
    " .merge(yearbook9813.rename(columns = {'geocode4_corr' : 'extra_coda'}))\n",
    " .drop(columns = ['extra_coda'])\n",
    " .merge(df_TCZ_list_china[['geocode4_corr', 'TCZ']], how = \"left\")\n",
    " .merge(df_final_SOE, on = ['geocode4_corr'],how = 'left')\n",
    " .apply(lambda x: pd.to_numeric(x, errors = 'coerce'))\n",
    " .assign(TCZ = lambda x: x['TCZ'].fillna(0))\n",
    " .replace({'TCZ': {0: 'No_TCZ', 1:'TCZ'}})\n",
    " .loc[lambda x: \n",
    " (x['year'].isin(['2006', '2010']))]\n",
    "  .groupby([\"year\"])['tso2']\n",
    " .sum()\n",
    " #.groupby(level = 0)\n",
    " .pct_change()\n",
    " .dropna()\n",
    ")\n",
    "dic_['2006-2010'].append(np.round(t3.loc[2010], 2))\n",
    "dic_['Target'].append(-.1)"
   ]
  },
  {
   "cell_type": "code",
   "execution_count": 25,
   "metadata": {
    "kernel": "Python 3"
   },
   "outputs": [],
   "source": [
    "import re, tex2pix, os\n",
    "from PyPDF2 import PdfFileMerger\n",
    "from wand.image import Image as WImage"
   ]
  },
  {
   "cell_type": "code",
   "execution_count": 44,
   "metadata": {
    "kernel": "Python 3"
   },
   "outputs": [],
   "source": [
    "for i in range(1, 19):\n",
    "    try:\n",
    "        os.remove(\"table_{}.pdf\".format(i))\n",
    "        os.remove(\"table_{}.tex\".format(i))\n",
    "        os.remove(\"table_{}.txt\".format(i))\n",
    "    except:\n",
    "        pass\n",
    "\n",
    "title = \"SO2 reduction during the subsequent FYPs\"\n",
    "pd.DataFrame(dic_, index= ['No TCZ','TCZ',\n",
    "                           'No Dominated SOE',\n",
    "                           ' Dominated SOE',\n",
    "                           'Full Sample']).to_latex('table_1.tex',\n",
    "                                                    caption = title,\n",
    "                                                    index=True,\n",
    "                                                    label = \"table_1\",\n",
    "                                                   float_format=\"{:,.2%}\".format)"
   ]
  },
  {
   "cell_type": "code",
   "execution_count": 45,
   "metadata": {
    "kernel": "Python 3"
   },
   "outputs": [],
   "source": [
    "jupyter_preview = True\n",
    "table_nte = \"\"\"\n",
    "Sources: Author's own computation \\\\\n",
    "      The list of TCZ is provided by the State Council, 1998.\n",
    "      \"Official Reply to the State Council Concerning Acid Rain Control Areas\n",
    "      and Sulfur Dioxide Pollution Control Areas\".\n",
    "      The information about the SO2 level are collected using various edition\n",
    "      of the China Environment Statistics Yearbook.\n",
    "      We compute the reduction of SO2 emission using the same methodology\n",
    "      as Chen and al.(2018).\n",
    "\"\"\"\n",
    "\n",
    "with open('table_1.tex', 'r') as f:\n",
    "    lines = f.readlines()\n",
    "len_line = len(lines)    \n",
    "for x, line in enumerate(lines):\n",
    "    if x ==0:\n",
    "        if jupyter_preview:\n",
    "            header= \"\\documentclass[preview]{standalone} \\n\\\\usepackage[utf8]{inputenc}\\n\" \\\n",
    "            \"\\\\usepackage{booktabs,caption,threeparttable, siunitx, adjustbox}\\n\\n\" \\\n",
    "            \"\\\\begin{document}\\n\"\n",
    "        else:\n",
    "            header= \"\\documentclass[12pt]{article} \\n\\\\usepackage[utf8]{inputenc}\\n\" \\\n",
    "            \"\\\\usepackage{booktabs,caption,threeparttable, siunitx, adjustbox}\\n\\n\" \\\n",
    "            \"\\\\begin{document}\"\n",
    "    \n",
    "\n",
    "        lines[x] =   header + lines[x].strip()\n",
    "    if x == len_line- 1:\n",
    "        footer = \"\\n\\n\\\\end{document}\"\n",
    "        lines[x]  =  lines[x].strip() + footer\n",
    "        \n",
    "    label = bool(re.search(r\"label\",\n",
    "                              line))\n",
    "    tabluar = bool(re.search(r\"end{tabular}\",\n",
    "                              line))\n",
    "    #print(label)\n",
    "    if label:\n",
    "        lines[x] = lines[x].strip() + '\\n\\\\begin{adjustbox}{width=\\\\textwidth, totalheight=\\\\textheight-2\\\\baselineskip,keepaspectratio}\\n'\n",
    "\n",
    "    if tabluar:\n",
    "        lines[x] = lines[x].strip() + '\\n\\\\end{adjustbox}\\n'\n",
    "        \n",
    "    \n",
    "        \n",
    "with open('table_1.tex', \"w\") as f:\n",
    "        for line in lines:\n",
    "            f.write(line)\n",
    "            \n",
    "#### Replace\n",
    "with open('table_1.tex', 'r') as file:\n",
    "    lines = file.read()\n",
    "    lines = lines.replace('nan\\%', ' ')\n",
    "\n",
    "with open('table_1.tex', 'w') as file:\n",
    "        file.write(lines)\n",
    "            \n",
    "### add table note\n",
    "if table_nte != None:\n",
    "    with open('table_1.tex', 'r') as f:\n",
    "        lines = f.readlines()\n",
    "\n",
    "\n",
    "    for x, line in enumerate(lines):\n",
    "        adjusted = bool(re.search(r\"end{adjustbox}\",\n",
    "                              line))\n",
    "\n",
    "        if adjusted:\n",
    "            lines[x] = lines[x].strip() + \"\\n\\\\begin{0} \\n \\\\small \\n \\\\item \\\\\\\\ \\n{1} \\n\\\\end{2}\\n\".format(\n",
    "            \"{tablenotes}\",\n",
    "            table_nte,\n",
    "            \"{tablenotes}\")\n",
    "    with open('table_1.tex', \"w\") as f:\n",
    "            for line in lines:\n",
    "                f.write(line)"
   ]
  },
  {
   "cell_type": "code",
   "execution_count": 46,
   "metadata": {
    "kernel": "Python 3"
   },
   "outputs": [
    {
     "data": {
      "image/png": "[encoded data removed]",
      "text/plain": [
       "<wand.image.Image: 8e7ce39 'PDF' (716x380)>"
      ]
     },
     "metadata": {},
     "output_type": "display_data"
    }
   ],
   "source": [
    "table_number = 1\n",
    "resolution = 150\n",
    "\n",
    "f = open('table_{}.tex'.format(table_number))\n",
    "r = tex2pix.Renderer(f, runbibtex=False)\n",
    "r.mkpdf('table_{}.pdf'.format(table_number))\n",
    "r.mkpdf('table_{}.pdf'.format(table_number))\n",
    "img = WImage(filename='table_{}.pdf'.format(table_number),\n",
    "resolution = resolution)\n",
    "display(img)"
   ]
  },
  {
   "cell_type": "markdown",
   "metadata": {
    "kernel": "Python 3"
   },
   "source": [
    "# Create report"
   ]
  },
  {
   "cell_type": "code",
   "execution_count": null,
   "metadata": {
    "kernel": "Python 3"
   },
   "outputs": [],
   "source": [
    "import os, time, shutil\n",
    "from pathlib import Path\n",
    "\n",
    "filename = '10_SBC_final'\n",
    "source = filename + '.ipynb'\n",
    "source_to_move = filename +'.html'\n",
    "path = os.getcwd()\n",
    "parent_path = str(Path(path).parent)\n",
    "path_report = \"{}/Reports\".format(parent_path)\n",
    "dest = os.path.join(path_report, filename)+'_{}_{}_.html'.format(\n",
    "    aggregation_param,\n",
    "    threshold_full)\n",
    "\n",
    "os.system('jupyter nbconvert --no-input --to html {}'.format(source))\n",
    "\n",
    "time.sleep(5)\n",
    "shutil.move(source_to_move, dest)\n",
    "for i in range(1, 19):\n",
    "    try:\n",
    "        os.remove(\"table_{}.pdf\".format(i))\n",
    "        os.remove(\"table_{}.tex\".format(i))\n",
    "        os.remove(\"table_{}.txt\".format(i))\n",
    "    except:\n",
    "        pass"
   ]
  }
 ],
 "metadata": {
  "jupytext": {
   "formats": "ipynb,md"
  },
  "kernelspec": {
   "display_name": "Python 3",
   "language": "python",
   "name": "python3"
  },
  "language_info": {
   "codemirror_mode": {
    "name": "ipython",
    "version": 3
   },
   "file_extension": ".py",
   "mimetype": "text/x-python",
   "name": "python",
   "nbconvert_exporter": "python",
   "pygments_lexer": "ipython3",
   "version": "3.7.7"
  },
  "sos": {
   "kernels": [
    [
     "Python 3",
     "python3",
     "python3",
     "",
     ""
    ]
   ],
   "version": "0.21.7"
  }
 },
 "nbformat": 4,
 "nbformat_minor": 4
}
