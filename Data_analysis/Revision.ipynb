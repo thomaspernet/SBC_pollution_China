{
 "cells": [
  {
   "cell_type": "markdown",
   "metadata": {
    "Collapsed": "false",
    "kernel": "SoS"
   },
   "source": [
    "# SBC_pollution_China Revision Paper\n",
    "\n",
    "Here is the link with all the revisions:\n",
    "\n",
    "- https://coda.io/d/SoftBudgetConstraint_dD-uOwatzMS/Revision_suYyi#_luGfQ\n",
    "\n",
    "## Revision table \n",
    "\n",
    "| Comments_by | URL      | People          | Comments                                                                                                                                                                                                                                                 |\n",
    "|-------------|----------|-----------------|----------------------------------------------------------------------------------------------------------------------------------------------------------------------------------------------------------------------------------------------------------|\n",
    "| Author 1    | Revision | Thomas,Mathilde | Je réfléchis à ce que nous pourrions faire ici, c'est en effet un point intéressant.                                                                                                                                                                     |\n",
    "| Author 1    | Revision | Thomas          | Pouvez vous me rassurer sur ce point? Tos les termes d'interaction sont ils dans l'équation? Je me souviens que nous en avions parlé en effet. J'espère qu'il n'y a pas d'erreurs et que nous pouvons justifier. C'est discutable. Mais on peut essayer. |\n",
    "| Author 1    | Revision | Mathilde        | Je ré-écrirai.                                                                                                                                                                                                                                           |\n",
    "| Author 1    | Revision |                 | Avons nous ces informations? Si non peut on les trouver?                                                                                                                                                                                                 |\n",
    "| Author 1    | Revision |                 | TCZ et Target sont indépendants n'est ce pas?                                                                                                                                                                                                            |\n",
    "| Author 1    | Revision |                 |                                                                                                                                                                                                                                                          |\n",
    "| Author 1    | Revision |                 | Il faut reformuler ici.                                                                                                                                                                                                                                  |\n",
    "| Author 2    | Revision | Thomas          | Avons nous des entreprises étrangères dans l'échantillon?                                                                                                                                                                                                |\n",
    "| Author 2    | Revision | Thomas          | Oui je suppose, pouvez vous regarder?                                                                                                                                                                                                                    |\n",
    "| Author 2    | Revision | Thomas          | Pouvez vous faire ce test?                                                                                                                                                                                                                               |\n",
    "| Author 2    | Revision | Thomas          | Pouvez vous corriger ce point?                                                                                                                                                                                                                           |\n",
    "| Author 2    | Revision | Mathilde        | Très bon commentaire, je m'en occupe.                                                                                                                                                                                                                    |\n",
    "\n",
    "## Proposal \n",
    "\n",
    "The proposal is available [here](https://drive.google.com/open?id=1tmSFvdUMXcL3vMKBSNYmf5xe6OEmYNnD)\n",
    "\n",
    "### Equation to estimate\n",
    "\n",
    "$$\n",
    "\\begin{aligned} \\text { SO2 emission }_{i k t}=& \\alpha T C Z_{i} \\times \\text { Polluted sectors }_{k} \\times \\text { post } \\\\ &+\\beta T C Z_{i} \\times \\text { Polluted sectors }_{k} \\times \\text { post } \\times \\text { Share SOE }_{k} \\\\ & +\\theta {X}_{i k t}+\\nu_{c i}+\\lambda_{t i} +\\phi_{t c} +\\epsilon_{ikt} \\end{aligned}\n",
    "$$\n",
    "\n",
    "city-industry; time-industry and time-city"
   ]
  },
  {
   "cell_type": "markdown",
   "metadata": {
    "Collapsed": "false",
    "kernel": "SoS"
   },
   "source": [
    "# Revision\n",
    "\n",
    "## Load the data"
   ]
  },
  {
   "cell_type": "code",
   "execution_count": 1,
   "metadata": {
    "Collapsed": "false",
    "kernel": "SoS"
   },
   "outputs": [
    {
     "name": "stdout",
     "output_type": "stream",
     "text": [
      "Service account storage and Bigquery are now connected. \n",
      "Service account storage is stored as <google.cloud.storage.client.Client object at 0x125e6c310> and accessible with \"Storage_account\" \n",
      "Service account Bigquery is stored as <google.cloud.bigquery.client.Client object at 0x125e6c750> and accessible with \"bigquery_account\"\n"
     ]
    }
   ],
   "source": [
    "import pandas as pd\n",
    "from Fast_connectCloud import connector\n",
    "\n",
    "gs = connector.open_connection(online_connection = False,\n",
    "                              path_credential = '/Users/thomas/Google Drive/Projects/Data_science/Google_code_n_Oauth/Client_Oauth/Google_auth/')\n",
    "\n",
    "service = gs.connect_remote('GCP')"
   ]
  },
  {
   "cell_type": "code",
   "execution_count": 2,
   "metadata": {
    "Collapsed": "false",
    "kernel": "SoS"
   },
   "outputs": [],
   "source": [
    "%put df_final --to R\n",
    "\n",
    "from GoogleDrivePy.google_platform import connect_cloud_platform\n",
    "project = 'valid-pagoda-132423'\n",
    "gcp = connect_cloud_platform.connect_console(project = project, \n",
    "                                             service_account = service['GoogleCloudP'])    \n",
    "query = (\n",
    "          \"SELECT * \"\n",
    "            \"FROM China.SBC_pollution_China \"\n",
    "\n",
    "        )\n",
    "\n",
    "df_final = gcp.upload_data_from_bigquery(query = query, location = 'US')"
   ]
  },
  {
   "cell_type": "code",
   "execution_count": 3,
   "metadata": {
    "Collapsed": "false",
    "kernel": "SoS"
   },
   "outputs": [
    {
     "data": {
      "text/plain": [
       "(30676, 37)"
      ]
     },
     "execution_count": 3,
     "metadata": {},
     "output_type": "execute_result"
    }
   ],
   "source": [
    "df_final.shape"
   ]
  },
  {
   "cell_type": "code",
   "execution_count": 4,
   "metadata": {
    "Collapsed": "false",
    "kernel": "R"
   },
   "outputs": [
    {
     "name": "stderr",
     "output_type": "stream",
     "text": [
      "── \u001b[1mAttaching packages\u001b[22m ─────────────────────────────────────── tidyverse 1.2.1 ──\n",
      "\u001b[32m✔\u001b[39m \u001b[34mggplot2\u001b[39m 3.0.0     \u001b[32m✔\u001b[39m \u001b[34mpurrr  \u001b[39m 0.3.3\n",
      "\u001b[32m✔\u001b[39m \u001b[34mtibble \u001b[39m 2.1.3     \u001b[32m✔\u001b[39m \u001b[34mdplyr  \u001b[39m 0.8.3\n",
      "\u001b[32m✔\u001b[39m \u001b[34mtidyr  \u001b[39m 1.0.0     \u001b[32m✔\u001b[39m \u001b[34mstringr\u001b[39m 1.4.0\n",
      "\u001b[32m✔\u001b[39m \u001b[34mreadr  \u001b[39m 1.3.1     \u001b[32m✔\u001b[39m \u001b[34mforcats\u001b[39m 0.4.0\n",
      "── \u001b[1mConflicts\u001b[22m ────────────────────────────────────────── tidyverse_conflicts() ──\n",
      "\u001b[31m✖\u001b[39m \u001b[34mdplyr\u001b[39m::\u001b[32mfilter()\u001b[39m masks \u001b[34mstats\u001b[39m::filter()\n",
      "\u001b[31m✖\u001b[39m \u001b[34mdplyr\u001b[39m::\u001b[32mlag()\u001b[39m    masks \u001b[34mstats\u001b[39m::lag()\n",
      "Loading required package: Matrix\n",
      "\n",
      "Attaching package: ‘Matrix’\n",
      "\n",
      "The following objects are masked from ‘package:tidyr’:\n",
      "\n",
      "    expand, pack, unpack\n",
      "\n",
      "\n",
      "Attaching package: ‘lazyeval’\n",
      "\n",
      "The following objects are masked from ‘package:purrr’:\n",
      "\n",
      "    is_atomic, is_formula\n",
      "\n"
     ]
    }
   ],
   "source": [
    "options(warn=-1)\n",
    "library(tidyverse)\n",
    "library(lfe)\n",
    "library(lazyeval)\n",
    "library('progress')"
   ]
  },
  {
   "cell_type": "code",
   "execution_count": 5,
   "metadata": {
    "Collapsed": "false",
    "kernel": "R"
   },
   "outputs": [
    {
     "name": "stderr",
     "output_type": "stream",
     "text": [
      "\n",
      "Please cite as: \n",
      "\n",
      " Hlavac, Marek (2018). stargazer: Well-Formatted Regression and Summary Statistics Tables.\n",
      " R package version 5.2.2. https://CRAN.R-project.org/package=stargazer \n",
      "\n"
     ]
    },
    {
     "data": {
      "text/html": [
       "<table>\n",
       "<caption>A data.frame: 6 × 37</caption>\n",
       "<thead>\n",
       "\t<tr><th scope=col>year</th><th scope=col>Period</th><th scope=col>Province_en</th><th scope=col>Lower_location</th><th scope=col>Larger_location</th><th scope=col>Coastal</th><th scope=col>cityen</th><th scope=col>geocode4_corr</th><th scope=col>TCZ_c</th><th scope=col>target_c</th><th scope=col>⋯</th><th scope=col>polluted_thre</th><th scope=col>FE_c_i</th><th scope=col>FE_t_i</th><th scope=col>FE_t_c</th><th scope=col>out_share_for</th><th scope=col>out_share_soe1</th><th scope=col>cap_share_for</th><th scope=col>cap_share_soe1</th><th scope=col>lab_share_for</th><th scope=col>lab_share_soe1</th></tr>\n",
       "\t<tr><th scope=col>&lt;dbl&gt;</th><th scope=col>&lt;fct&gt;</th><th scope=col>&lt;fct&gt;</th><th scope=col>&lt;fct&gt;</th><th scope=col>&lt;fct&gt;</th><th scope=col>&lt;lgl&gt;</th><th scope=col>&lt;fct&gt;</th><th scope=col>&lt;dbl&gt;</th><th scope=col>&lt;fct&gt;</th><th scope=col>&lt;dbl&gt;</th><th scope=col>⋯</th><th scope=col>&lt;fct&gt;</th><th scope=col>&lt;fct&gt;</th><th scope=col>&lt;fct&gt;</th><th scope=col>&lt;fct&gt;</th><th scope=col>&lt;dbl&gt;</th><th scope=col>&lt;dbl&gt;</th><th scope=col>&lt;dbl&gt;</th><th scope=col>&lt;dbl&gt;</th><th scope=col>&lt;dbl&gt;</th><th scope=col>&lt;dbl&gt;</th></tr>\n",
       "</thead>\n",
       "<tbody>\n",
       "\t<tr><td>2003</td><td>Before</td><td>Hubei</td><td>Central</td><td>Central</td><td>FALSE</td><td>Xiangfan</td><td>4206</td><td>No_TCZ</td><td>0.03837974</td><td>⋯</td><td>Above</td><td>42</td><td>11</td><td>15</td><td>0.4669962</td><td>0.07651133</td><td>0.430344</td><td>0.09843217</td><td>0.2031731</td><td>0.1232675</td></tr>\n",
       "\t<tr><td>2004</td><td>Before</td><td>Hubei</td><td>Central</td><td>Central</td><td>FALSE</td><td>Xiangfan</td><td>4206</td><td>No_TCZ</td><td>0.03837974</td><td>⋯</td><td>Above</td><td>42</td><td>12</td><td>12</td><td>0.4669962</td><td>0.07651133</td><td>0.430344</td><td>0.09843217</td><td>0.2031731</td><td>0.1232675</td></tr>\n",
       "\t<tr><td>2005</td><td>Before</td><td>Hubei</td><td>Central</td><td>Central</td><td>FALSE</td><td>Xiangfan</td><td>4206</td><td>No_TCZ</td><td>0.03837974</td><td>⋯</td><td>Above</td><td>42</td><td>13</td><td>16</td><td>0.4669962</td><td>0.07651133</td><td>0.430344</td><td>0.09843217</td><td>0.2031731</td><td>0.1232675</td></tr>\n",
       "\t<tr><td>2006</td><td>After </td><td>Hubei</td><td>Central</td><td>Central</td><td>FALSE</td><td>Xiangfan</td><td>4206</td><td>No_TCZ</td><td>0.03837974</td><td>⋯</td><td>Above</td><td>42</td><td>14</td><td>13</td><td>0.4669962</td><td>0.07651133</td><td>0.430344</td><td>0.09843217</td><td>0.2031731</td><td>0.1232675</td></tr>\n",
       "\t<tr><td>2007</td><td>After </td><td>Hubei</td><td>Central</td><td>Central</td><td>FALSE</td><td>Xiangfan</td><td>4206</td><td>No_TCZ</td><td>0.03837974</td><td>⋯</td><td>Above</td><td>42</td><td>15</td><td>17</td><td>0.4669962</td><td>0.07651133</td><td>0.430344</td><td>0.09843217</td><td>0.2031731</td><td>0.1232675</td></tr>\n",
       "\t<tr><td>2004</td><td>Before</td><td>Hunan</td><td>Central</td><td>Central</td><td>FALSE</td><td>Yiyang  </td><td>4309</td><td>TCZ   </td><td>0.03222473</td><td>⋯</td><td>Above</td><td>95</td><td>12</td><td>22</td><td>0.4669962</td><td>0.07651133</td><td>0.430344</td><td>0.09843217</td><td>0.2031731</td><td>0.1232675</td></tr>\n",
       "</tbody>\n",
       "</table>\n"
      ],
      "text/latex": [
       "A data.frame: 6 × 37\n",
       "\\begin{tabular}{r|lllllllllllllllllllllllllllllllllllll}\n",
       " year & Period & Province\\_en & Lower\\_location & Larger\\_location & Coastal & cityen & geocode4\\_corr & TCZ\\_c & target\\_c & effort\\_c & industry & ind2 & Short & output\\_fcit & capital\\_fcit & labour\\_fcit & count\\_SOE & out\\_share\\_SOE & cap\\_share\\_SOE & lab\\_share\\_SOE & tso2\\_cit & tso2\\_i & tCOD\\_cit & twaste\\_water\\_cit & polluted\\_di & polluted\\_mi & polluted\\_thre & FE\\_c\\_i & FE\\_t\\_i & FE\\_t\\_c & out\\_share\\_for & out\\_share\\_soe1 & cap\\_share\\_for & cap\\_share\\_soe1 & lab\\_share\\_for & lab\\_share\\_soe1\\\\\n",
       " <dbl> & <fct> & <fct> & <fct> & <fct> & <lgl> & <fct> & <dbl> & <fct> & <dbl> & <fct> & <dbl> & <dbl> & <fct> & <dbl> & <dbl> & <dbl> & <dbl> & <dbl> & <dbl> & <dbl> & <dbl> & <dbl> & <dbl> & <dbl> & <fct> & <fct> & <fct> & <fct> & <fct> & <fct> & <dbl> & <dbl> & <dbl> & <dbl> & <dbl> & <dbl>\\\\\n",
       "\\hline\n",
       "\t 2003 & Before & Hubei & Central & Central & FALSE & Xiangfan & 4206 & No\\_TCZ & 0.03837974 & Below & 1331 & 13 & Processing foods & 0.0244330 & 0.0018212 & 0.00726 & 0.1279158 & 0.07651133 & 0.09843217 & 0.1232675 & 22734 & 1054329 & 2341.7 & 34847 & Above & Above & Above & 42 & 11 & 15 & 0.4669962 & 0.07651133 & 0.430344 & 0.09843217 & 0.2031731 & 0.1232675\\\\\n",
       "\t 2004 & Before & Hubei & Central & Central & FALSE & Xiangfan & 4206 & No\\_TCZ & 0.03837974 & Below & 1331 & 13 & Processing foods & 0.0141537 & 0.0036661 & 0.00382 & 0.1279158 & 0.07651133 & 0.09843217 & 0.1232675 & 21735 & 1054329 & 2300.7 & 34781 & Above & Above & Above & 42 & 12 & 12 & 0.4669962 & 0.07651133 & 0.430344 & 0.09843217 & 0.2031731 & 0.1232675\\\\\n",
       "\t 2005 & Before & Hubei & Central & Central & FALSE & Xiangfan & 4206 & No\\_TCZ & 0.03837974 & Below & 1331 & 13 & Processing foods & 0.0483884 & 0.0063496 & 0.00848 & 0.1279158 & 0.07651133 & 0.09843217 & 0.1232675 & 22665 & 1054329 & 3610.7 & 10331 & Above & Above & Above & 42 & 13 & 16 & 0.4669962 & 0.07651133 & 0.430344 & 0.09843217 & 0.2031731 & 0.1232675\\\\\n",
       "\t 2006 & After  & Hubei & Central & Central & FALSE & Xiangfan & 4206 & No\\_TCZ & 0.03837974 & Below & 1331 & 13 & Processing foods & 0.0683046 & 0.0075107 & 0.00940 & 0.1279158 & 0.07651133 & 0.09843217 & 0.1232675 & 10073 & 1054329 & 3996.2 & 10450 & Above & Above & Above & 42 & 14 & 13 & 0.4669962 & 0.07651133 & 0.430344 & 0.09843217 & 0.2031731 & 0.1232675\\\\\n",
       "\t 2007 & After  & Hubei & Central & Central & FALSE & Xiangfan & 4206 & No\\_TCZ & 0.03837974 & Below & 1331 & 13 & Processing foods & 0.1367653 & 0.0164626 & 0.01244 & 0.1279158 & 0.07651133 & 0.09843217 & 0.1232675 & 15129 & 1054329 &  186.2 &  2500 & Above & Above & Above & 42 & 15 & 17 & 0.4669962 & 0.07651133 & 0.430344 & 0.09843217 & 0.2031731 & 0.1232675\\\\\n",
       "\t 2004 & Before & Hunan & Central & Central & FALSE & Yiyang   & 4309 & TCZ    & 0.03222473 & Below & 1331 & 13 & Processing foods & 0.0033143 & 0.0000016 & 0.00140 & 0.1279158 & 0.07651133 & 0.09843217 & 0.1232675 & 59980 & 1054329 & 8548.0 & 38600 & Above & Above & Above & 95 & 12 & 22 & 0.4669962 & 0.07651133 & 0.430344 & 0.09843217 & 0.2031731 & 0.1232675\\\\\n",
       "\\end{tabular}\n"
      ],
      "text/markdown": [
       "\n",
       "A data.frame: 6 × 37\n",
       "\n",
       "| year &lt;dbl&gt; | Period &lt;fct&gt; | Province_en &lt;fct&gt; | Lower_location &lt;fct&gt; | Larger_location &lt;fct&gt; | Coastal &lt;lgl&gt; | cityen &lt;fct&gt; | geocode4_corr &lt;dbl&gt; | TCZ_c &lt;fct&gt; | target_c &lt;dbl&gt; | ⋯ ⋯ | polluted_thre &lt;fct&gt; | FE_c_i &lt;fct&gt; | FE_t_i &lt;fct&gt; | FE_t_c &lt;fct&gt; | out_share_for &lt;dbl&gt; | out_share_soe1 &lt;dbl&gt; | cap_share_for &lt;dbl&gt; | cap_share_soe1 &lt;dbl&gt; | lab_share_for &lt;dbl&gt; | lab_share_soe1 &lt;dbl&gt; |\n",
       "|---|---|---|---|---|---|---|---|---|---|---|---|---|---|---|---|---|---|---|---|---|\n",
       "| 2003 | Before | Hubei | Central | Central | FALSE | Xiangfan | 4206 | No_TCZ | 0.03837974 | ⋯ | Above | 42 | 11 | 15 | 0.4669962 | 0.07651133 | 0.430344 | 0.09843217 | 0.2031731 | 0.1232675 |\n",
       "| 2004 | Before | Hubei | Central | Central | FALSE | Xiangfan | 4206 | No_TCZ | 0.03837974 | ⋯ | Above | 42 | 12 | 12 | 0.4669962 | 0.07651133 | 0.430344 | 0.09843217 | 0.2031731 | 0.1232675 |\n",
       "| 2005 | Before | Hubei | Central | Central | FALSE | Xiangfan | 4206 | No_TCZ | 0.03837974 | ⋯ | Above | 42 | 13 | 16 | 0.4669962 | 0.07651133 | 0.430344 | 0.09843217 | 0.2031731 | 0.1232675 |\n",
       "| 2006 | After  | Hubei | Central | Central | FALSE | Xiangfan | 4206 | No_TCZ | 0.03837974 | ⋯ | Above | 42 | 14 | 13 | 0.4669962 | 0.07651133 | 0.430344 | 0.09843217 | 0.2031731 | 0.1232675 |\n",
       "| 2007 | After  | Hubei | Central | Central | FALSE | Xiangfan | 4206 | No_TCZ | 0.03837974 | ⋯ | Above | 42 | 15 | 17 | 0.4669962 | 0.07651133 | 0.430344 | 0.09843217 | 0.2031731 | 0.1232675 |\n",
       "| 2004 | Before | Hunan | Central | Central | FALSE | Yiyang   | 4309 | TCZ    | 0.03222473 | ⋯ | Above | 95 | 12 | 22 | 0.4669962 | 0.07651133 | 0.430344 | 0.09843217 | 0.2031731 | 0.1232675 |\n",
       "\n"
      ],
      "text/plain": [
       "  year Period Province_en Lower_location Larger_location Coastal cityen  \n",
       "1 2003 Before Hubei       Central        Central         FALSE   Xiangfan\n",
       "2 2004 Before Hubei       Central        Central         FALSE   Xiangfan\n",
       "3 2005 Before Hubei       Central        Central         FALSE   Xiangfan\n",
       "4 2006 After  Hubei       Central        Central         FALSE   Xiangfan\n",
       "5 2007 After  Hubei       Central        Central         FALSE   Xiangfan\n",
       "6 2004 Before Hunan       Central        Central         FALSE   Yiyang  \n",
       "  geocode4_corr TCZ_c  target_c   ⋯ polluted_thre FE_c_i FE_t_i FE_t_c\n",
       "1 4206          No_TCZ 0.03837974 ⋯ Above         42     11     15    \n",
       "2 4206          No_TCZ 0.03837974 ⋯ Above         42     12     12    \n",
       "3 4206          No_TCZ 0.03837974 ⋯ Above         42     13     16    \n",
       "4 4206          No_TCZ 0.03837974 ⋯ Above         42     14     13    \n",
       "5 4206          No_TCZ 0.03837974 ⋯ Above         42     15     17    \n",
       "6 4309          TCZ    0.03222473 ⋯ Above         95     12     22    \n",
       "  out_share_for out_share_soe1 cap_share_for cap_share_soe1 lab_share_for\n",
       "1 0.4669962     0.07651133     0.430344      0.09843217     0.2031731    \n",
       "2 0.4669962     0.07651133     0.430344      0.09843217     0.2031731    \n",
       "3 0.4669962     0.07651133     0.430344      0.09843217     0.2031731    \n",
       "4 0.4669962     0.07651133     0.430344      0.09843217     0.2031731    \n",
       "5 0.4669962     0.07651133     0.430344      0.09843217     0.2031731    \n",
       "6 0.4669962     0.07651133     0.430344      0.09843217     0.2031731    \n",
       "  lab_share_soe1\n",
       "1 0.1232675     \n",
       "2 0.1232675     \n",
       "3 0.1232675     \n",
       "4 0.1232675     \n",
       "5 0.1232675     \n",
       "6 0.1232675     "
      ]
     },
     "metadata": {},
     "output_type": "display_data"
    }
   ],
   "source": [
    "path = \"SBC_pollution_R.R\"\n",
    "source(path)\n",
    "path = \"SBC_pollutiuon_golatex.R\"\n",
    "source(path)\n",
    "\n",
    "df_final <- df_final %>% \n",
    "    mutate_if(is.character, as.factor) %>%\n",
    "    mutate_at(vars(starts_with(\"FE\")), as.factor) %>%\n",
    "    mutate(\n",
    "         Period = relevel(Period, ref='Before'),\n",
    "         TCZ_c = relevel(TCZ_c, ref='No_TCZ'),\n",
    "         effort_c = relevel(effort_c, ref='Below'),\n",
    "         polluted_di = relevel(polluted_di, ref='Below'),\n",
    "         polluted_mi = relevel(polluted_mi, ref='Below'),\n",
    "         polluted_thre = relevel(polluted_thre, ref='Below'),\n",
    "  )\n",
    "head(df_final)"
   ]
  },
  {
   "cell_type": "markdown",
   "metadata": {
    "Collapsed": "false",
    "kernel": "SoS"
   },
   "source": [
    "## Comment Empirical analysis:\n",
    "\n",
    "First of all, notice again that there is no convincing evidence that SOEs shifts the burden of the environmental adaptation to private firms. In most of the cases, there are interaction terms with three or even form variables in the regression equation. My major concern is if the authors have also included all the sublevel interaction terms in the regression. For instance, in equation (1), there is an interaction term of four variables, TCZi, Polluting sectorsk, Period, Share SOEk. However, it seems in table 3 not all the corresponding triple interaction terms (such as TCZi *Polluting sectorsk *Share SOEk) are controlled. \n",
    "\n",
    "## Answers:\n",
    "\n",
    "Compute the following equation to show the fixed effect tackle the \"missing\" coefficients\n",
    "\n",
    "$$EQUATION$$\n",
    "\n",
    "CF this [paper](https://drive.google.com/file/d/1-SXSlRoS_2ZW7CK6XMhcXpJDPxAEF1xG/view)\n",
    "\n",
    "Output latex table available here\n",
    "\n",
    "- https://www.overleaf.com/project/5deca0097e9f3a0001506527\n"
   ]
  },
  {
   "cell_type": "code",
   "execution_count": null,
   "metadata": {
    "Collapsed": "false",
    "kernel": "R"
   },
   "outputs": [],
   "source": [
    "t1 <- felm(formula=log(tso2_cit) ~ TCZ_c * Period \n",
    "                  + output_fcit + capital_fcit + labour_fcit\n",
    "                  |\n",
    "             cityen +  year + industry | 0 |\n",
    "             cityen, data= df_final,\n",
    "             exactDOF=TRUE)"
   ]
  },
  {
   "cell_type": "code",
   "execution_count": null,
   "metadata": {
    "Collapsed": "false",
    "kernel": "R"
   },
   "outputs": [],
   "source": [
    "t2 <- felm(formula=log(tso2_cit) ~ TCZ_c * Period * polluted_thre\n",
    "                  + output_fcit + capital_fcit + labour_fcit\n",
    "                  |\n",
    "             cityen +  year + industry | 0 |\n",
    "             cityen, data= df_final,\n",
    "             exactDOF=TRUE)"
   ]
  },
  {
   "cell_type": "code",
   "execution_count": null,
   "metadata": {
    "Collapsed": "false",
    "kernel": "R"
   },
   "outputs": [],
   "source": [
    "fe1 <- list(c(\"City fixed effects\", \"Yes\", \"Yes\",\n",
    "               \"Yes\"),\n",
    "             c(\"Industry fixed effects\", \"Yes\", \"Yes\"),\n",
    "             c(\"Year fixed effects\", \"Yes\", \"Yes\")\n",
    "             )\n",
    "\n",
    "table_1 <- go_latex(list(\n",
    "    t1,\n",
    "    t2\n",
    "),\n",
    "    title='Revision results',\n",
    "    addFE=fe1,\n",
    "    save=TRUE,\n",
    "    name=\"table_1_revision.txt\"\n",
    ")"
   ]
  },
  {
   "cell_type": "code",
   "execution_count": null,
   "metadata": {
    "Collapsed": "false",
    "kernel": "python3"
   },
   "outputs": [],
   "source": [
    "import latex_beautify as lb\n",
    "\n",
    "%load_ext autoreload\n",
    "%autoreload 2"
   ]
  },
  {
   "cell_type": "code",
   "execution_count": null,
   "metadata": {
    "Collapsed": "false",
    "kernel": "python3"
   },
   "outputs": [],
   "source": [
    "lb.beautify(table_number = 1)"
   ]
  },
  {
   "cell_type": "markdown",
   "metadata": {
    "Collapsed": "false",
    "kernel": "python3"
   },
   "source": [
    "### Redo table 1"
   ]
  },
  {
   "cell_type": "code",
   "execution_count": null,
   "metadata": {
    "Collapsed": "false",
    "kernel": "R"
   },
   "outputs": [],
   "source": [
    "t0_ <- felm(formula=log(tso2_cit) ~ TCZ_c * Period \n",
    "                  + output_fcit + capital_fcit + labour_fcit\n",
    "                  |\n",
    "             cityen +  year + industry | 0 |\n",
    "             cityen, data= df_final,\n",
    "             exactDOF=TRUE)\n",
    "t1_ <- felm(formula=log(tso2_cit) ~ TCZ_c * Period * polluted_thre\n",
    "                  + output_fcit + capital_fcit + labour_fcit\n",
    "                  |\n",
    "             cityen +  year + industry | 0 |\n",
    "             cityen, data= df_final,\n",
    "             exactDOF=TRUE)\n",
    "\n",
    "t0 <- final_model(df=df_final,\n",
    "                   target='TCZ_c',\n",
    "                   SOE='count_SOE',\n",
    "                   pol='polluted_thre',\n",
    "                   control=TRUE,\n",
    "                   cluster= 'industry',\n",
    "                   print=FALSE)\n",
    "t1 <- final_model(df=df_final,\n",
    "                   target='TCZ_c',\n",
    "                   SOE='out_share_SOE',\n",
    "                   pol='polluted_thre',\n",
    "                   control=TRUE,\n",
    "                  cluster= 'industry',\n",
    "                   print=FALSE)\n",
    "t2 <- final_model(df=df_final,\n",
    "                   target='TCZ_c',\n",
    "                   SOE='cap_share_SOE',\n",
    "                   pol='polluted_thre',\n",
    "                   control=TRUE,\n",
    "                  cluster= 'industry',\n",
    "                   print=FALSE)\n",
    "t3 <- final_model(df=df_final,\n",
    "                   target='TCZ_c',\n",
    "                   SOE='lab_share_SOE',\n",
    "                   pol='polluted_thre',\n",
    "                   control=TRUE,\n",
    "                  cluster= 'industry',\n",
    "                   print=FALSE)\n",
    "fe1 <- list(c(\"City-year fixed effects\", \"No\", \"No\", \"Yes\",\"Yes\", \"Yes\",\"Yes\"),\n",
    "             c(\"Industry-year fixed effects\", \"No\", \"No\", \"Yes\", \"Yes\", \"Yes\",\"Yes\"),\n",
    "             c(\"City-industry fixed effects\", \"No\", \"No\", \"Yes\", \"Yes\", \"Yes\",\"Yes\")\n",
    "             )\n",
    "\n",
    "table_1 <- go_latex(list(\n",
    "    t0_,\n",
    "    t1_,\n",
    "    t0,\n",
    "    t1,\n",
    "    t2,\n",
    "    t3\n",
    "),\n",
    "    title='Baseline results revision',\n",
    "    addFE=fe1,\n",
    "    save=TRUE,\n",
    "    name=\"table_2.txt\"\n",
    ")"
   ]
  },
  {
   "cell_type": "code",
   "execution_count": null,
   "metadata": {
    "Collapsed": "false",
    "kernel": "python3"
   },
   "outputs": [],
   "source": [
    "lb.beautify(table_number = 2)"
   ]
  },
  {
   "cell_type": "markdown",
   "metadata": {
    "Collapsed": "true",
    "kernel": "python3"
   },
   "source": [
    "### Redo table 1: All variables"
   ]
  },
  {
   "cell_type": "code",
   "execution_count": null,
   "metadata": {
    "Collapsed": "false",
    "kernel": "R"
   },
   "outputs": [],
   "source": [
    "t0 <- felm(formula=log(tso2_cit) ~ TCZ_c * Period *polluted_thre * out_share_SOE\n",
    "                  + output_fcit + capital_fcit + labour_fcit\n",
    "                  |\n",
    "             cityen +  year + industry | 0 |\n",
    "             cityen, data= df_final,\n",
    "             exactDOF=TRUE)\n",
    "\n",
    "t1 <- felm(formula=log(tso2_cit) ~ TCZ_c * Period *polluted_thre * cap_share_SOE\n",
    "                  + output_fcit + capital_fcit + labour_fcit\n",
    "                  |\n",
    "             cityen +  year + industry | 0 |\n",
    "             cityen, data= df_final,\n",
    "             exactDOF=TRUE)\n",
    "\n",
    "t2 <- felm(formula=log(tso2_cit) ~ TCZ_c * Period *polluted_thre * lab_share_SOE\n",
    "                  + output_fcit + capital_fcit + labour_fcit\n",
    "                  |\n",
    "             cityen +  year + industry | 0 |\n",
    "             cityen, data= df_final,\n",
    "             exactDOF=TRUE)\n",
    "\n",
    "fe1 <- list(c(\"City fixed effects\", \"Yes\", \"Yes\", \"Yes\"),\n",
    "             c(\"Industry fixed effects\", \"Yes\", \"Yes\", \"Yes\"),\n",
    "             c(\"Yes fixed effects\",\"Yes\", \"Yes\", \"Yes\")\n",
    "             )\n",
    "\n"
   ]
  },
  {
   "cell_type": "code",
   "execution_count": null,
   "metadata": {
    "Collapsed": "false",
    "kernel": "R"
   },
   "outputs": [],
   "source": [
    "summary(t1 )"
   ]
  },
  {
   "cell_type": "code",
   "execution_count": null,
   "metadata": {
    "Collapsed": "false",
    "kernel": "R"
   },
   "outputs": [],
   "source": [
    "table_1 <- go_latex(list(\n",
    "    t0,t1,t2\n",
    "),\n",
    "    title='Baseline results revision, full',\n",
    "    addFE=fe1,\n",
    "    save=TRUE,\n",
    "    name=\"table_6.txt\"\n",
    ")"
   ]
  },
  {
   "cell_type": "code",
   "execution_count": null,
   "metadata": {
    "Collapsed": "false",
    "kernel": "python3"
   },
   "outputs": [],
   "source": [
    "import latex_beautify as lb\n",
    "\n",
    "%load_ext autoreload\n",
    "%autoreload 2"
   ]
  },
  {
   "cell_type": "code",
   "execution_count": null,
   "metadata": {
    "Collapsed": "false",
    "kernel": "python3"
   },
   "outputs": [],
   "source": [
    "lb.beautify(table_number = 6)"
   ]
  },
  {
   "cell_type": "markdown",
   "metadata": {
    "Collapsed": "false",
    "kernel": "python3"
   },
   "source": [
    "## Foreign firms\n",
    "\n",
    " In particular, my main concern is that the author could explore the heterogeneity of response within the private sector and not only between the private and the state-owned sectors. Indeed, foreign firms may react differently to environmental constraints. They may be less sensitive to environmental regulations because they have cleaner technologies (see for instance: Dean et al., 2009, \"Are Foreign Investors Attracted to Weak Environmental Regulations? Evidence from China\", Journal of Development Economics). Another possibility is that foreign firms could negotiate with local authorities to obtain preferential treatment concerning the enforcement of environmental regulation (Wang et al., 2003, quoted in the paper)"
   ]
  },
  {
   "cell_type": "code",
   "execution_count": 12,
   "metadata": {
    "Collapsed": "false",
    "kernel": "R"
   },
   "outputs": [
    {
     "data": {
      "text/plain": [
       "\n",
       "Call:\n",
       "   felm(formula = log(tso2_cit) ~ TCZ_c * Period * polluted_thre *      out_share_for + output_fcit + capital_fcit + labour_fcit |      FE_t_c + FE_t_i + FE_c_i | 0 | cityen, data = df_final, exactDOF = TRUE) \n",
       "\n",
       "Residuals:\n",
       "    Min      1Q  Median      3Q     Max \n",
       "-5.0989 -0.3227  0.0000  0.3492  4.2112 \n",
       "\n",
       "Coefficients:\n",
       "                                                      Estimate Cluster s.e.\n",
       "TCZ_cTCZ                                                    NA      0.00000\n",
       "PeriodAfter                                                 NA      0.00000\n",
       "polluted_threAbove                                          NA      0.00000\n",
       "out_share_for                                               NA      0.00000\n",
       "output_fcit                                           -0.05675      0.08384\n",
       "capital_fcit                                           0.92929      0.35600\n",
       "labour_fcit                                            1.50143      0.71585\n",
       "TCZ_cTCZ:PeriodAfter                                        NA      0.00000\n",
       "TCZ_cTCZ:polluted_threAbove                                 NA      0.00000\n",
       "PeriodAfter:polluted_threAbove                              NA      0.00000\n",
       "TCZ_cTCZ:out_share_for                                      NA      0.00000\n",
       "PeriodAfter:out_share_for                                   NA      0.00000\n",
       "polluted_threAbove:out_share_for                            NA      0.00000\n",
       "TCZ_cTCZ:PeriodAfter:polluted_threAbove                0.18206      0.21091\n",
       "TCZ_cTCZ:PeriodAfter:out_share_for                     1.00146      0.45754\n",
       "TCZ_cTCZ:polluted_threAbove:out_share_for                   NA      0.00000\n",
       "PeriodAfter:polluted_threAbove:out_share_for                NA      0.00000\n",
       "TCZ_cTCZ:PeriodAfter:polluted_threAbove:out_share_for -1.10774      0.60646\n",
       "                                                      t value Pr(>|t|)   \n",
       "TCZ_cTCZ                                                   NA       NA   \n",
       "PeriodAfter                                                NA       NA   \n",
       "polluted_threAbove                                         NA       NA   \n",
       "out_share_for                                              NA       NA   \n",
       "output_fcit                                            -0.677  0.49850   \n",
       "capital_fcit                                            2.610  0.00905 **\n",
       "labour_fcit                                             2.097  0.03597 * \n",
       "TCZ_cTCZ:PeriodAfter                                       NA       NA   \n",
       "TCZ_cTCZ:polluted_threAbove                                NA       NA   \n",
       "PeriodAfter:polluted_threAbove                             NA       NA   \n",
       "TCZ_cTCZ:out_share_for                                     NA       NA   \n",
       "PeriodAfter:out_share_for                                  NA       NA   \n",
       "polluted_threAbove:out_share_for                           NA       NA   \n",
       "TCZ_cTCZ:PeriodAfter:polluted_threAbove                 0.863  0.38804   \n",
       "TCZ_cTCZ:PeriodAfter:out_share_for                      2.189  0.02863 * \n",
       "TCZ_cTCZ:polluted_threAbove:out_share_for                  NA       NA   \n",
       "PeriodAfter:polluted_threAbove:out_share_for               NA       NA   \n",
       "TCZ_cTCZ:PeriodAfter:polluted_threAbove:out_share_for  -1.827  0.06778 . \n",
       "---\n",
       "Signif. codes:  0 ‘***’ 0.001 ‘**’ 0.01 ‘*’ 0.05 ‘.’ 0.1 ‘ ’ 1\n",
       "\n",
       "Residual standard error: 0.9976 on 17134 degrees of freedom\n",
       "Multiple R-squared(full model): 0.8515   Adjusted R-squared: 0.7341 \n",
       "Multiple R-squared(proj model): 0.00303   Adjusted R-squared: -0.7849 \n",
       "F-statistic(full model, *iid*):7.253 on 13541 and 17134 DF, p-value: < 2.2e-16 \n",
       "F-statistic(proj model): 1.498 on 18 and 227 DF, p-value: 0.09163 \n",
       "\n"
      ]
     },
     "metadata": {},
     "output_type": "display_data"
    }
   ],
   "source": [
    "summary(felm(formula=log(tso2_cit) ~ TCZ_c * Period * polluted_thre * out_share_for\n",
    "                  + output_fcit + capital_fcit + labour_fcit\n",
    "                  |\n",
    "             FE_t_c + FE_t_i + FE_c_i  | 0 |\n",
    "             cityen, data= df_final,\n",
    "             exactDOF=TRUE)\n",
    "       )"
   ]
  }
 ],
 "metadata": {
  "kernelspec": {
   "display_name": "SoS",
   "language": "sos",
   "name": "sos"
  },
  "language_info": {
   "codemirror_mode": "sos",
   "file_extension": ".sos",
   "mimetype": "text/x-sos",
   "name": "sos",
   "nbconvert_exporter": "sos_notebook.converter.SoS_Exporter",
   "pygments_lexer": "sos"
  },
  "sos": {
   "kernels": [
    [
     "R",
     "ir",
     "R",
     "#DCDCDA",
     "r"
    ],
    [
     "SoS",
     "sos",
     "",
     "",
     "sos"
    ],
    [
     "python3",
     "python3",
     "python3",
     "",
     {
      "name": "ipython",
      "version": 3
     }
    ]
   ],
   "version": "0.20.6"
  }
 },
 "nbformat": 4,
 "nbformat_minor": 4
}
