{
 "cells": [
  {
   "cell_type": "markdown",
   "metadata": {
    "kernel": "SoS"
   },
   "source": [
    "# SBC_pollution_China Revision Paper\n",
    "\n",
    "Here is the link with all the revisions:\n",
    "\n",
    "- https://coda.io/d/SoftBudgetConstraint_dD-uOwatzMS/Revision_suYyi#_luGfQ\n",
    "\n",
    "- Notebook also available here in html format:\n",
    "    - https://htmlpreview.github.io/?https://github.com/thomaspernet/SBC_pollution_China/blob/master/Data_analysis/SBC_pollution_China_Revision.html\n",
    "\n",
    "## Revision table 7 - Decile analysis\n",
    "\n",
    "| Comments_by | URL      | People          | Comments                                                                                                                                                                                                                                                 |\n",
    "|-------------|----------|-----------------|----------------------------------------------------------------------------------------------------------------------------------------------------------------------------------------------------------------------------------------------------------|\n",
    "| Author 1    | Revision | Thomas,Mathilde | Je réfléchis à ce que nous pourrions faire ici, c'est en effet un point intéressant.                                                                                                                                                                     |\n",
    "| Author 1    | Revision | Thomas          | Pouvez vous me rassurer sur ce point? Tos les termes d'interaction sont ils dans l'équation? Je me souviens que nous en avions parlé en effet. J'espère qu'il n'y a pas d'erreurs et que nous pouvons justifier. C'est discutable. Mais on peut essayer. |\n",
    "| Author 1    | Revision | Mathilde        | Je ré-écrirai.                                                                                                                                                                                                                                           |\n",
    "| Author 1    | Revision |                 | Avons nous ces informations? Si non peut on les trouver?                                                                                                                                                                                                 |\n",
    "| Author 1    | Revision |                 | TCZ et Target sont indépendants n'est ce pas?                                                                                                                                                                                                            |\n",
    "| Author 1    | Revision |                 |                                                                                                                                                                                                                                                          |\n",
    "| Author 1    | Revision |                 | Il faut reformuler ici.                                                                                                                                                                                                                                  |\n",
    "| Author 2    | Revision | Thomas          | Avons nous des entreprises étrangères dans l'échantillon?                                                                                                                                                                                                |\n",
    "| Author 2    | Revision | Thomas          | Oui je suppose, pouvez vous regarder?                                                                                                                                                                                                                    |\n",
    "| Author 2    | Revision | Thomas          | Pouvez vous faire ce test?                                                                                                                                                                                                                               |\n",
    "| Author 2    | Revision | Thomas          | Pouvez vous corriger ce point?                                                                                                                                                                                                                           |\n",
    "| Author 2    | Revision | Mathilde        | Très bon commentaire, je m'en occupe.                                                                                                                                                                                                                    |\n",
    "\n",
    "## Proposal \n",
    "\n",
    "The proposal is available [here](https://drive.google.com/open?id=1tmSFvdUMXcL3vMKBSNYmf5xe6OEmYNnD)\n",
    "\n",
    "### Equation to estimate\n",
    "\n",
    "$$\n",
    "\\begin{aligned} \\text { SO2 emission }_{i k t}=& \\alpha T C Z_{i} \\times \\text { Polluted sectors }_{k} \\times \\text { post } \\\\ &+\\beta T C Z_{i} \\times \\text { Polluted sectors }_{k} \\times \\text { post } \\times \\text { Share Foreign }_{k} \\\\ & +\\theta {X}_{i k t}+\\nu_{c i}+\\lambda_{t i} +\\phi_{t c} +\\epsilon_{ikt} \\end{aligned}\n",
    "$$\n",
    "\n",
    "city-industry; time-industry and time-city"
   ]
  },
  {
   "cell_type": "markdown",
   "metadata": {
    "incorrectly_encoded_metadata": "kernel=\"SoS\" toc-hr-collapsed=true toc-nb-collapsed=true",
    "kernel": "SoS"
   },
   "source": [
    "# Table 7: improvement Decile\n",
    "\n",
    "Instead of reconstructed all the data, we compute the:\n",
    "\n",
    "- share [output, capital, employment] by city, industry, ownership\n",
    "- share  [output, capital, employment] by city, industry\n",
    "- Average share  [output, capital, employment]  by city, ownership\n",
    "\n",
    "from the table `asif_firm_china` -> the one used in the paper\n",
    "\n",
    "and select the pairs city-industry dominated by the SOE.\n",
    "\n",
    "* Sum up table 7 \n",
    "  * Need to compute the [output, capital, employment] at the:\n",
    "    * city,\n",
    "    * industry\n",
    "    * industry, city\n",
    "  * Estimate table 7 with three ascending threshold (less and less private in panel B)\n",
    "  * The coefficient should be larger in absolute value for more restrictive threshold\n",
    "  \n",
    "## Objective\n",
    "\n",
    "Find the elasticities of the private sectors when the share of SOE is either higher (threshold) or increasing (cummulative), characterized by industry; city, city-industry level)\n",
    "\n",
    "Our hypothesis: \n",
    "\n",
    "- The elasticities should decrease when the share of [output, capital, employement] of the State in increasing \n",
    "    - We have two way to test it.\n",
    "        1. Use the exact decile -> Take only the industries belonging to a given decile. Note that, low decile indicate a low output share of the SOE. Say differently, there are industries with a strong output done by the private. For instance, decile 1 indicates that we keep the first 10 percent of the indsutries with the lowest share of [output, capital, employement]\n",
    "    - how to read table: Less observations -> larger coefficients in absolute values because the share is mostly done by the private. More observation implies larger operation by the SOE."
   ]
  },
  {
   "cell_type": "markdown",
   "metadata": {
    "collapsed": "true",
    "incorrectly_encoded_metadata": "kernel=\"SoS\" toc-hr-collapsed=true toc-nb-collapsed=true",
    "kernel": "SoS"
   },
   "source": [
    "## Load the data"
   ]
  },
  {
   "cell_type": "code",
   "execution_count": 1,
   "metadata": {
    "kernel": "SoS"
   },
   "outputs": [
    {
     "name": "stdout",
     "output_type": "stream",
     "text": [
      "Service account storage and Bigquery are now connected. \n",
      "Service account storage is stored as <google.cloud.storage.client.Client object at 0x1269343d0> and accessible with \"Storage_account\" \n",
      "Service account Bigquery is stored as <google.cloud.bigquery.client.Client object at 0x1269344d0> and accessible with \"bigquery_account\"\n"
     ]
    }
   ],
   "source": [
    "import pandas as pd\n",
    "from Fast_connectCloud import connector\n",
    "import numpy as np\n",
    "\n",
    "gs = connector.open_connection(online_connection = False,\n",
    "                              path_credential = '/Users/thomas/Google Drive/Projects/Data_science/Google_code_n_Oauth/Client_Oauth/Google_auth/')\n",
    "service = gs.connect_remote('GCP')"
   ]
  },
  {
   "cell_type": "code",
   "execution_count": 2,
   "metadata": {
    "kernel": "python3"
   },
   "outputs": [],
   "source": [
    "import functions.latex_beautify as lb\n",
    "\n",
    "%load_ext autoreload\n",
    "%autoreload 2"
   ]
  },
  {
   "cell_type": "code",
   "execution_count": 3,
   "metadata": {
    "kernel": "SoS"
   },
   "outputs": [],
   "source": [
    "%put df_final --to R\n",
    "\n",
    "from GoogleDrivePy.google_platform import connect_cloud_platform\n",
    "project = 'valid-pagoda-132423'\n",
    "gcp = connect_cloud_platform.connect_console(project = project, \n",
    "                                             service_account = service['GoogleCloudP'])    \n",
    "query = (\n",
    "          \"SELECT * \"\n",
    "            \"FROM China.SBC_pollution_China \"\n",
    "\n",
    "        )\n",
    "df_final = gcp.upload_data_from_bigquery(query = query, location = 'US')"
   ]
  },
  {
   "cell_type": "code",
   "execution_count": 4,
   "metadata": {
    "kernel": "R"
   },
   "outputs": [
    {
     "name": "stderr",
     "output_type": "stream",
     "text": [
      "── \u001b[1mAttaching packages\u001b[22m ─────────────────────────────────────── tidyverse 1.2.1 ──\n",
      "\u001b[32m✔\u001b[39m \u001b[34mggplot2\u001b[39m 3.0.0     \u001b[32m✔\u001b[39m \u001b[34mpurrr  \u001b[39m 0.3.3\n",
      "\u001b[32m✔\u001b[39m \u001b[34mtibble \u001b[39m 2.1.3     \u001b[32m✔\u001b[39m \u001b[34mdplyr  \u001b[39m 0.8.3\n",
      "\u001b[32m✔\u001b[39m \u001b[34mtidyr  \u001b[39m 1.0.0     \u001b[32m✔\u001b[39m \u001b[34mstringr\u001b[39m 1.4.0\n",
      "\u001b[32m✔\u001b[39m \u001b[34mreadr  \u001b[39m 1.3.1     \u001b[32m✔\u001b[39m \u001b[34mforcats\u001b[39m 0.4.0\n",
      "── \u001b[1mConflicts\u001b[22m ────────────────────────────────────────── tidyverse_conflicts() ──\n",
      "\u001b[31m✖\u001b[39m \u001b[34mdplyr\u001b[39m::\u001b[32mfilter()\u001b[39m masks \u001b[34mstats\u001b[39m::filter()\n",
      "\u001b[31m✖\u001b[39m \u001b[34mdplyr\u001b[39m::\u001b[32mlag()\u001b[39m    masks \u001b[34mstats\u001b[39m::lag()\n",
      "Loading required package: Matrix\n",
      "\n",
      "Attaching package: ‘Matrix’\n",
      "\n",
      "The following objects are masked from ‘package:tidyr’:\n",
      "\n",
      "    expand, pack, unpack\n",
      "\n",
      "\n",
      "Attaching package: ‘lazyeval’\n",
      "\n",
      "The following objects are masked from ‘package:purrr’:\n",
      "\n",
      "    is_atomic, is_formula\n",
      "\n",
      "\n",
      "Please cite as: \n",
      "\n",
      " Hlavac, Marek (2018). stargazer: Well-Formatted Regression and Summary Statistics Tables.\n",
      " R package version 5.2.2. https://CRAN.R-project.org/package=stargazer \n",
      "\n"
     ]
    }
   ],
   "source": [
    "options(warn=-1)\n",
    "library(tidyverse)\n",
    "library(lfe)\n",
    "library(lazyeval)\n",
    "library('progress')\n",
    "\n",
    "path = \"functions/SBC_pollution_R.R\"\n",
    "source(path)\n",
    "path = \"functions/SBC_pollutiuon_golatex.R\"\n",
    "source(path)"
   ]
  },
  {
   "cell_type": "markdown",
   "metadata": {
    "incorrectly_encoded_metadata": "kernel=\"R\" toc-hr-collapsed=true toc-nb-collapsed=true",
    "kernel": "SoS"
   },
   "source": [
    "# Foreign vs Public\n",
    "\n",
    "1.  Pour montrer que le secteur privé doit compenser l'absence de réaction du secteur public, nous allons procéder de la manière suivante: \n",
    "\n",
    "Nous avons Identifié les secteurs où la part des entreprises publiques est inférieure à un seuil critique. Nous allons comparer la réponse du secteur privé dans ces secteurs. \n",
    "\n",
    "- Il s'agit du tableau 7, panel B: deux options (si possible les faire toutes les deux): \n",
    "  \n",
    "    - on regarde les entreprises privées dans les villes-secteurs où la part étatique est plus faible, Elle devrait être plus vigoureuse. Deux estimations donc au lieu d'une seule. \n",
    "    - on change le seuil de dominance privé/public. Moins il y a de privé, plus la réaction de ce dernier doit être forte."
   ]
  },
  {
   "cell_type": "markdown",
   "metadata": {
    "incorrectly_encoded_metadata": "kernel=\"python3\" toc-hr-collapsed=true toc-nb-collapsed=true",
    "kernel": "SoS"
   },
   "source": [
    "## Level industry\n",
    "\n",
    "We proceed as follow:\n",
    "- Step 1: Compute the share [output, capital, employment] by industry, ownership: `Share_io`\n",
    "- Step 2: Compute the deciles of step 1 by  ownership: `Share_io`\n",
    "\n",
    "We only need when `ownership` is equal to `SOE`. First decile indicates a low share of SOE in these sectors. For instance, when the decile is 1, it means this is the bottom 10% of sectors with the lowest share of SOE. The larger the decile, the higher the state presences.\n",
    "\n",
    "In a nutshell, we can run estimate in two ways:\n",
    "\n",
    "- by decile \n",
    "- by cumulated decile"
   ]
  },
  {
   "cell_type": "markdown",
   "metadata": {
    "collapsed": "true",
    "incorrectly_encoded_metadata": "kernel=\"python3\" toc-hr-collapsed=true toc-nb-collapsed=true",
    "kernel": "SoS"
   },
   "source": [
    "### Code load data"
   ]
  },
  {
   "cell_type": "code",
   "execution_count": 5,
   "metadata": {
    "kernel": "SoS"
   },
   "outputs": [],
   "source": [
    "query_share = \"\"\" WITH sum_io AS (\n",
    "  SELECT \n",
    "    case WHEN ownership = 'Foreign' THEN 'FOREIGN' WHEN ownership = 'SOE' \n",
    "    THEN 'SOE' ELSE 'DOMESTIC' END AS OWNERSHIP, \n",
    "    SUM(output / 10000000) as output_io, \n",
    "    SUM(fa_net / 10000000) as fa_net_io, \n",
    "    SUM(employment / 100000) as employment_io,\n",
    "    cic \n",
    "  FROM \n",
    "    China.asif_firm_china \n",
    "  WHERE \n",
    "    year >= 2002 \n",
    "    AND year < 2006 \n",
    "    AND output > 0 \n",
    "    AND fa_net > 0 \n",
    "    AND employment > 0 \n",
    "  GROUP BY \n",
    "    OWNERSHIP, \n",
    "    cic\n",
    ") \n",
    "SELECT \n",
    "  * \n",
    "FROM \n",
    "  (\n",
    "    WITH sum_i AS(\n",
    "      SELECT \n",
    "        SUM(output_io) as output_i, \n",
    "        SUM(fa_net_io) as fa_net_i, \n",
    "        SUM(employment_io) as employment_i, \n",
    "        cic AS cic_b \n",
    "      FROM \n",
    "        sum_io \n",
    "      GROUP BY \n",
    "        cic\n",
    "    ) \n",
    "    SELECT \n",
    "      * \n",
    "    FROM \n",
    "      (\n",
    "        WITH share_io AS(\n",
    "          SELECT \n",
    "            OWNERSHIP, \n",
    "            output_io / output_i AS share_output_io, \n",
    "            fa_net_io / fa_net_i AS share_fa_net_io, \n",
    "            employment_io / employment_i AS share_employement_io, \n",
    "            cic \n",
    "          FROM \n",
    "            sum_io \n",
    "            LEFT JOIN sum_i ON sum_io.cic = sum_i.cic_b\n",
    "        ) \n",
    "        SELECT \n",
    "        cic as industry,\n",
    "        OWNERSHIP,  \n",
    "        NTILE(10)  OVER (PARTITION BY OWNERSHIP ORDER BY share_output_io) \n",
    "          as rank_share_output_io,\n",
    "          NTILE(10)  OVER (PARTITION BY OWNERSHIP ORDER BY share_fa_net_io) \n",
    "          as rank_share_capital_io,\n",
    "          NTILE(10)  OVER (PARTITION BY OWNERSHIP ORDER BY share_employement_io) \n",
    "          as rank_share_employement_io,\n",
    "        share_output_io\n",
    "        FROM share_io\n",
    " \n",
    "        )\n",
    "        )\n",
    "        \n",
    "\"\"\"\n",
    "df_share = gcp.upload_data_from_bigquery(query = query_share,\n",
    "                                         location = 'US')"
   ]
  },
  {
   "cell_type": "code",
   "execution_count": 7,
   "metadata": {
    "kernel": "SoS"
   },
   "outputs": [
    {
     "data": {
      "text/html": [
       "<div class=\"sos_logging sos_info\">INFO: NumExpr defaulting to 8 threads.</div>"
      ]
     },
     "metadata": {},
     "output_type": "display_data"
    }
   ],
   "source": [
    "%put df_final_i --to R\n",
    "df_final_i = (df_final.merge(\n",
    "    df_share.loc[lambda x: x['OWNERSHIP'].isin(['SOE'])][\n",
    "        [\n",
    "            'industry',\n",
    "            'share_output_io',\n",
    "            'rank_share_output_io',\n",
    "            'rank_share_capital_io',\n",
    "            'rank_share_employement_io'\n",
    "             ]],\n",
    "    how = 'left',\n",
    "    indicator = True\n",
    ")\n",
    ")"
   ]
  },
  {
   "cell_type": "code",
   "execution_count": null,
   "metadata": {
    "kernel": "SoS"
   },
   "outputs": [],
   "source": [
    "#temp = (pd.concat([(df_final_i[['industry', 'rank_share_output_io']]\n",
    "# .drop_duplicates()\n",
    "# .sort_values(by = 'rank_share_output_io')\n",
    "# .set_index('industry')\n",
    "#),\n",
    "#          pd.DataFrame((pd.qcut(\n",
    "#    df_share.loc[lambda x: \n",
    "#      x['OWNERSHIP'].isin(['SOE'])]\n",
    "#    .set_index('industry')['share_output_io'],\n",
    "#    10,retbins = True, precision = 5 #,labels=True\n",
    "#)\n",
    "#)\n",
    "#            ).T.drop(columns = ['Unnamed 0'])\n",
    "#         ], axis = 1)\n",
    "# .dropna(subset = ['rank_share_output_io'])\n",
    "# .sort_values(by ='rank_share_output_io')\n",
    "#        .rename(columns = {'rank_share_output_io':'rank',\n",
    "#                           'share_output_io':'decile'})\n",
    "#        .reset_index()\n",
    "#)\n",
    "#temp.loc[lambda x: x['rank'].isin([3])].head(2)"
   ]
  },
  {
   "cell_type": "code",
   "execution_count": 8,
   "metadata": {
    "kernel": "SoS"
   },
   "outputs": [
    {
     "data": {
      "text/plain": [
       "(30676, 35)"
      ]
     },
     "execution_count": 8,
     "metadata": {},
     "output_type": "execute_result"
    }
   ],
   "source": [
    "df_final_i.shape"
   ]
  },
  {
   "cell_type": "code",
   "execution_count": 9,
   "metadata": {
    "kernel": "SoS"
   },
   "outputs": [
    {
     "data": {
      "text/html": [
       "<div>\n",
       "<style scoped>\n",
       "    .dataframe tbody tr th:only-of-type {\n",
       "        vertical-align: middle;\n",
       "    }\n",
       "\n",
       "    .dataframe tbody tr th {\n",
       "        vertical-align: top;\n",
       "    }\n",
       "\n",
       "    .dataframe thead th {\n",
       "        text-align: right;\n",
       "    }\n",
       "</style>\n",
       "<table border=\"1\" class=\"dataframe\">\n",
       "  <thead>\n",
       "    <tr style=\"text-align: right;\">\n",
       "      <th>TCZ_c</th>\n",
       "      <th>No_TCZ</th>\n",
       "      <th>TCZ</th>\n",
       "    </tr>\n",
       "    <tr>\n",
       "      <th>rank_share_output_io</th>\n",
       "      <th></th>\n",
       "      <th></th>\n",
       "    </tr>\n",
       "  </thead>\n",
       "  <tbody>\n",
       "    <tr>\n",
       "      <th>1</th>\n",
       "      <td>163</td>\n",
       "      <td>766</td>\n",
       "    </tr>\n",
       "    <tr>\n",
       "      <th>2</th>\n",
       "      <td>362</td>\n",
       "      <td>1536</td>\n",
       "    </tr>\n",
       "    <tr>\n",
       "      <th>3</th>\n",
       "      <td>587</td>\n",
       "      <td>2335</td>\n",
       "    </tr>\n",
       "    <tr>\n",
       "      <th>4</th>\n",
       "      <td>448</td>\n",
       "      <td>1815</td>\n",
       "    </tr>\n",
       "    <tr>\n",
       "      <th>5</th>\n",
       "      <td>810</td>\n",
       "      <td>2908</td>\n",
       "    </tr>\n",
       "    <tr>\n",
       "      <th>6</th>\n",
       "      <td>996</td>\n",
       "      <td>2709</td>\n",
       "    </tr>\n",
       "    <tr>\n",
       "      <th>7</th>\n",
       "      <td>1637</td>\n",
       "      <td>3937</td>\n",
       "    </tr>\n",
       "    <tr>\n",
       "      <th>8</th>\n",
       "      <td>728</td>\n",
       "      <td>2730</td>\n",
       "    </tr>\n",
       "    <tr>\n",
       "      <th>9</th>\n",
       "      <td>993</td>\n",
       "      <td>2881</td>\n",
       "    </tr>\n",
       "    <tr>\n",
       "      <th>10</th>\n",
       "      <td>619</td>\n",
       "      <td>1716</td>\n",
       "    </tr>\n",
       "  </tbody>\n",
       "</table>\n",
       "</div>"
      ],
      "text/plain": [
       "TCZ_c                 No_TCZ   TCZ\n",
       "rank_share_output_io              \n",
       "1                        163   766\n",
       "2                        362  1536\n",
       "3                        587  2335\n",
       "4                        448  1815\n",
       "5                        810  2908\n",
       "6                        996  2709\n",
       "7                       1637  3937\n",
       "8                        728  2730\n",
       "9                        993  2881\n",
       "10                       619  1716"
      ]
     },
     "execution_count": 9,
     "metadata": {},
     "output_type": "execute_result"
    }
   ],
   "source": [
    "(df_final_i\n",
    " .groupby([ 'rank_share_output_io', 'TCZ_c'])['rank_share_output_io']\n",
    " .count()\n",
    " .unstack(1))"
   ]
  },
  {
   "cell_type": "code",
   "execution_count": 10,
   "metadata": {
    "kernel": "SoS"
   },
   "outputs": [
    {
     "data": {
      "text/html": [
       "<div>\n",
       "<style scoped>\n",
       "    .dataframe tbody tr th:only-of-type {\n",
       "        vertical-align: middle;\n",
       "    }\n",
       "\n",
       "    .dataframe tbody tr th {\n",
       "        vertical-align: top;\n",
       "    }\n",
       "\n",
       "    .dataframe thead th {\n",
       "        text-align: right;\n",
       "    }\n",
       "</style>\n",
       "<table border=\"1\" class=\"dataframe\">\n",
       "  <thead>\n",
       "    <tr style=\"text-align: right;\">\n",
       "      <th>polluted_thre</th>\n",
       "      <th>Above</th>\n",
       "      <th>Below</th>\n",
       "    </tr>\n",
       "    <tr>\n",
       "      <th>rank_share_output_io</th>\n",
       "      <th></th>\n",
       "      <th></th>\n",
       "    </tr>\n",
       "  </thead>\n",
       "  <tbody>\n",
       "    <tr>\n",
       "      <th>1</th>\n",
       "      <td>257</td>\n",
       "      <td>672</td>\n",
       "    </tr>\n",
       "    <tr>\n",
       "      <th>2</th>\n",
       "      <td>665</td>\n",
       "      <td>1233</td>\n",
       "    </tr>\n",
       "    <tr>\n",
       "      <th>3</th>\n",
       "      <td>512</td>\n",
       "      <td>2410</td>\n",
       "    </tr>\n",
       "    <tr>\n",
       "      <th>4</th>\n",
       "      <td>1067</td>\n",
       "      <td>1196</td>\n",
       "    </tr>\n",
       "    <tr>\n",
       "      <th>5</th>\n",
       "      <td>1665</td>\n",
       "      <td>2053</td>\n",
       "    </tr>\n",
       "    <tr>\n",
       "      <th>6</th>\n",
       "      <td>1994</td>\n",
       "      <td>1711</td>\n",
       "    </tr>\n",
       "    <tr>\n",
       "      <th>7</th>\n",
       "      <td>3486</td>\n",
       "      <td>2088</td>\n",
       "    </tr>\n",
       "    <tr>\n",
       "      <th>8</th>\n",
       "      <td>2604</td>\n",
       "      <td>854</td>\n",
       "    </tr>\n",
       "    <tr>\n",
       "      <th>9</th>\n",
       "      <td>2378</td>\n",
       "      <td>1496</td>\n",
       "    </tr>\n",
       "    <tr>\n",
       "      <th>10</th>\n",
       "      <td>2046</td>\n",
       "      <td>289</td>\n",
       "    </tr>\n",
       "  </tbody>\n",
       "</table>\n",
       "</div>"
      ],
      "text/plain": [
       "polluted_thre         Above  Below\n",
       "rank_share_output_io              \n",
       "1                       257    672\n",
       "2                       665   1233\n",
       "3                       512   2410\n",
       "4                      1067   1196\n",
       "5                      1665   2053\n",
       "6                      1994   1711\n",
       "7                      3486   2088\n",
       "8                      2604    854\n",
       "9                      2378   1496\n",
       "10                     2046    289"
      ]
     },
     "execution_count": 10,
     "metadata": {},
     "output_type": "execute_result"
    }
   ],
   "source": [
    "df_final_i.groupby([ 'rank_share_output_io',\n",
    "                    'polluted_thre'])['rank_share_output_io'].count().unstack(1)"
   ]
  },
  {
   "cell_type": "code",
   "execution_count": 11,
   "metadata": {
    "kernel": "R"
   },
   "outputs": [
    {
     "data": {
      "text/html": [
       "<table>\n",
       "<caption>A data.frame: 6 × 35</caption>\n",
       "<thead>\n",
       "\t<tr><th scope=col>year</th><th scope=col>Period</th><th scope=col>Province_en</th><th scope=col>Lower_location</th><th scope=col>Larger_location</th><th scope=col>Coastal</th><th scope=col>cityen</th><th scope=col>geocode4_corr</th><th scope=col>TCZ_c</th><th scope=col>target_c</th><th scope=col>⋯</th><th scope=col>polluted_mi</th><th scope=col>polluted_thre</th><th scope=col>FE_c_i</th><th scope=col>FE_t_i</th><th scope=col>FE_t_c</th><th scope=col>share_output_io</th><th scope=col>rank_share_output_io</th><th scope=col>rank_share_capital_io</th><th scope=col>rank_share_employement_io</th><th scope=col>_merge</th></tr>\n",
       "\t<tr><th scope=col>&lt;dbl&gt;</th><th scope=col>&lt;fct&gt;</th><th scope=col>&lt;fct&gt;</th><th scope=col>&lt;fct&gt;</th><th scope=col>&lt;fct&gt;</th><th scope=col>&lt;lgl&gt;</th><th scope=col>&lt;fct&gt;</th><th scope=col>&lt;dbl&gt;</th><th scope=col>&lt;fct&gt;</th><th scope=col>&lt;dbl&gt;</th><th scope=col>⋯</th><th scope=col>&lt;fct&gt;</th><th scope=col>&lt;fct&gt;</th><th scope=col>&lt;fct&gt;</th><th scope=col>&lt;fct&gt;</th><th scope=col>&lt;fct&gt;</th><th scope=col>&lt;dbl&gt;</th><th scope=col>&lt;dbl&gt;</th><th scope=col>&lt;dbl&gt;</th><th scope=col>&lt;dbl&gt;</th><th scope=col>&lt;fct&gt;</th></tr>\n",
       "</thead>\n",
       "<tbody>\n",
       "\t<tr><td>2002</td><td>Before</td><td>Shanxi   </td><td>Central  </td><td>Central</td><td>FALSE</td><td>Yuncheng</td><td>1408</td><td>TCZ   </td><td>0.48502998</td><td>⋯</td><td>Below</td><td>Above</td><td>11104</td><td>1573</td><td>889</td><td>0.02127327</td><td>3</td><td>6</td><td>5</td><td>both</td></tr>\n",
       "\t<tr><td>2006</td><td>After </td><td>Hunan    </td><td>Central  </td><td>Central</td><td>FALSE</td><td>Xiangtan</td><td>4303</td><td>TCZ   </td><td>0.09275420</td><td>⋯</td><td>Below</td><td>Above</td><td>11105</td><td>1574</td><td>420</td><td>0.02127327</td><td>3</td><td>6</td><td>5</td><td>both</td></tr>\n",
       "\t<tr><td>2007</td><td>After </td><td>Hunan    </td><td>Central  </td><td>Central</td><td>FALSE</td><td>Xiangtan</td><td>4303</td><td>TCZ   </td><td>0.09275420</td><td>⋯</td><td>Below</td><td>Above</td><td>11105</td><td>1572</td><td>421</td><td>0.02127327</td><td>3</td><td>6</td><td>5</td><td>both</td></tr>\n",
       "\t<tr><td>2007</td><td>After </td><td>Liaoning </td><td>Northeast</td><td>Eastern</td><td> TRUE</td><td>Jinzhou </td><td>2107</td><td>TCZ   </td><td>0.08051164</td><td>⋯</td><td>Below</td><td>Above</td><td>11103</td><td>1572</td><td>287</td><td>0.02127327</td><td>3</td><td>6</td><td>5</td><td>both</td></tr>\n",
       "\t<tr><td>2002</td><td>Before</td><td>Liaoning </td><td>Northeast</td><td>Eastern</td><td> TRUE</td><td>Shenyang</td><td>2101</td><td>TCZ   </td><td>0.23007570</td><td>⋯</td><td>Below</td><td>Above</td><td>11106</td><td>1573</td><td>432</td><td>0.02127327</td><td>3</td><td>6</td><td>5</td><td>both</td></tr>\n",
       "\t<tr><td>2002</td><td>Before</td><td>Guangdong</td><td>Coastal  </td><td>Eastern</td><td> TRUE</td><td>Meizhou </td><td>4414</td><td>No_TCZ</td><td>0.02596999</td><td>⋯</td><td>Below</td><td>Above</td><td>11107</td><td>1573</td><td>909</td><td>0.02127327</td><td>3</td><td>6</td><td>5</td><td>both</td></tr>\n",
       "</tbody>\n",
       "</table>\n"
      ],
      "text/latex": [
       "A data.frame: 6 × 35\n",
       "\\begin{tabular}{r|lllllllllllllllllllllllllllllllllll}\n",
       " year & Period & Province\\_en & Lower\\_location & Larger\\_location & Coastal & cityen & geocode4\\_corr & TCZ\\_c & target\\_c & effort\\_c & industry & ind2 & Short & output\\_fcit & capital\\_fcit & labour\\_fcit & out\\_share\\_SOE & cap\\_share\\_SOE & lab\\_share\\_SOE & tso2\\_cit & tso2\\_i & tCOD\\_cit & twaste\\_water\\_cit & polluted\\_di & polluted\\_mi & polluted\\_thre & FE\\_c\\_i & FE\\_t\\_i & FE\\_t\\_c & share\\_output\\_io & rank\\_share\\_output\\_io & rank\\_share\\_capital\\_io & rank\\_share\\_employement\\_io & \\_merge\\\\\n",
       " <dbl> & <fct> & <fct> & <fct> & <fct> & <lgl> & <fct> & <dbl> & <fct> & <dbl> & <fct> & <dbl> & <dbl> & <fct> & <dbl> & <dbl> & <dbl> & <dbl> & <dbl> & <dbl> & <dbl> & <dbl> & <dbl> & <dbl> & <fct> & <fct> & <fct> & <fct> & <fct> & <fct> & <dbl> & <dbl> & <dbl> & <dbl> & <fct>\\\\\n",
       "\\hline\n",
       "\t 2002 & Before & Shanxi    & Central   & Central & FALSE & Yuncheng & 1408 & TCZ    & 0.48502998 & Above & 3329 & 33 & Smelting Non-ferrous Metals & 0.0006870 & 0.0002926 & 0.00036 & 0.02756701 & 0.2210178 & 0.1134672 & 24500 & 168934.5 &     0 &    500 & Above & Below & Above & 11104 & 1573 & 889 & 0.02127327 & 3 & 6 & 5 & both\\\\\n",
       "\t 2006 & After  & Hunan     & Central   & Central & FALSE & Xiangtan & 4303 & TCZ    & 0.09275420 & Below & 3329 & 33 & Smelting Non-ferrous Metals & 0.0009500 & 0.0001481 & 0.00023 & 0.02756701 & 0.2210178 & 0.1134672 &  2304 & 168934.5 &     0 &    300 & Above & Below & Above & 11105 & 1574 & 420 & 0.02127327 & 3 & 6 & 5 & both\\\\\n",
       "\t 2007 & After  & Hunan     & Central   & Central & FALSE & Xiangtan & 4303 & TCZ    & 0.09275420 & Below & 3329 & 33 & Smelting Non-ferrous Metals & 0.0017150 & 0.0003650 & 0.00023 & 0.02756701 & 0.2210178 & 0.1134672 &  2304 & 168934.5 &     0 &    240 & Above & Below & Above & 11105 & 1572 & 421 & 0.02127327 & 3 & 6 & 5 & both\\\\\n",
       "\t 2007 & After  & Liaoning  & Northeast & Eastern &  TRUE & Jinzhou  & 2107 & TCZ    & 0.08051164 & Below & 3329 & 33 & Smelting Non-ferrous Metals & 0.0077300 & 0.0012959 & 0.00089 & 0.02756701 & 0.2210178 & 0.1134672 &  3200 & 168934.5 &     0 &      0 & Above & Below & Above & 11103 & 1572 & 287 & 0.02127327 & 3 & 6 & 5 & both\\\\\n",
       "\t 2002 & Before & Liaoning  & Northeast & Eastern &  TRUE & Shenyang & 2101 & TCZ    & 0.23007570 & Above & 3329 & 33 & Smelting Non-ferrous Metals & 0.0009967 & 0.0000516 & 0.00135 & 0.02756701 & 0.2210178 & 0.1134672 &  3840 & 168934.5 &     0 &   3500 & Above & Below & Above & 11106 & 1573 & 432 & 0.02127327 & 3 & 6 & 5 & both\\\\\n",
       "\t 2002 & Before & Guangdong & Coastal   & Eastern &  TRUE & Meizhou  & 4414 & No\\_TCZ & 0.02596999 & Below & 3329 & 33 & Smelting Non-ferrous Metals & 0.0002903 & 0.0013790 & 0.00125 & 0.02756701 & 0.2210178 & 0.1134672 & 72752 & 168934.5 & 15500 & 115000 & Above & Below & Above & 11107 & 1573 & 909 & 0.02127327 & 3 & 6 & 5 & both\\\\\n",
       "\\end{tabular}\n"
      ],
      "text/markdown": [
       "\n",
       "A data.frame: 6 × 35\n",
       "\n",
       "| year &lt;dbl&gt; | Period &lt;fct&gt; | Province_en &lt;fct&gt; | Lower_location &lt;fct&gt; | Larger_location &lt;fct&gt; | Coastal &lt;lgl&gt; | cityen &lt;fct&gt; | geocode4_corr &lt;dbl&gt; | TCZ_c &lt;fct&gt; | target_c &lt;dbl&gt; | ⋯ ⋯ | polluted_mi &lt;fct&gt; | polluted_thre &lt;fct&gt; | FE_c_i &lt;fct&gt; | FE_t_i &lt;fct&gt; | FE_t_c &lt;fct&gt; | share_output_io &lt;dbl&gt; | rank_share_output_io &lt;dbl&gt; | rank_share_capital_io &lt;dbl&gt; | rank_share_employement_io &lt;dbl&gt; | _merge &lt;fct&gt; |\n",
       "|---|---|---|---|---|---|---|---|---|---|---|---|---|---|---|---|---|---|---|---|---|\n",
       "| 2002 | Before | Shanxi    | Central   | Central | FALSE | Yuncheng | 1408 | TCZ    | 0.48502998 | ⋯ | Below | Above | 11104 | 1573 | 889 | 0.02127327 | 3 | 6 | 5 | both |\n",
       "| 2006 | After  | Hunan     | Central   | Central | FALSE | Xiangtan | 4303 | TCZ    | 0.09275420 | ⋯ | Below | Above | 11105 | 1574 | 420 | 0.02127327 | 3 | 6 | 5 | both |\n",
       "| 2007 | After  | Hunan     | Central   | Central | FALSE | Xiangtan | 4303 | TCZ    | 0.09275420 | ⋯ | Below | Above | 11105 | 1572 | 421 | 0.02127327 | 3 | 6 | 5 | both |\n",
       "| 2007 | After  | Liaoning  | Northeast | Eastern |  TRUE | Jinzhou  | 2107 | TCZ    | 0.08051164 | ⋯ | Below | Above | 11103 | 1572 | 287 | 0.02127327 | 3 | 6 | 5 | both |\n",
       "| 2002 | Before | Liaoning  | Northeast | Eastern |  TRUE | Shenyang | 2101 | TCZ    | 0.23007570 | ⋯ | Below | Above | 11106 | 1573 | 432 | 0.02127327 | 3 | 6 | 5 | both |\n",
       "| 2002 | Before | Guangdong | Coastal   | Eastern |  TRUE | Meizhou  | 4414 | No_TCZ | 0.02596999 | ⋯ | Below | Above | 11107 | 1573 | 909 | 0.02127327 | 3 | 6 | 5 | both |\n",
       "\n"
      ],
      "text/plain": [
       "  year Period Province_en Lower_location Larger_location Coastal cityen  \n",
       "1 2002 Before Shanxi      Central        Central         FALSE   Yuncheng\n",
       "2 2006 After  Hunan       Central        Central         FALSE   Xiangtan\n",
       "3 2007 After  Hunan       Central        Central         FALSE   Xiangtan\n",
       "4 2007 After  Liaoning    Northeast      Eastern          TRUE   Jinzhou \n",
       "5 2002 Before Liaoning    Northeast      Eastern          TRUE   Shenyang\n",
       "6 2002 Before Guangdong   Coastal        Eastern          TRUE   Meizhou \n",
       "  geocode4_corr TCZ_c  target_c   ⋯ polluted_mi polluted_thre FE_c_i FE_t_i\n",
       "1 1408          TCZ    0.48502998 ⋯ Below       Above         11104  1573  \n",
       "2 4303          TCZ    0.09275420 ⋯ Below       Above         11105  1574  \n",
       "3 4303          TCZ    0.09275420 ⋯ Below       Above         11105  1572  \n",
       "4 2107          TCZ    0.08051164 ⋯ Below       Above         11103  1572  \n",
       "5 2101          TCZ    0.23007570 ⋯ Below       Above         11106  1573  \n",
       "6 4414          No_TCZ 0.02596999 ⋯ Below       Above         11107  1573  \n",
       "  FE_t_c share_output_io rank_share_output_io rank_share_capital_io\n",
       "1 889    0.02127327      3                    6                    \n",
       "2 420    0.02127327      3                    6                    \n",
       "3 421    0.02127327      3                    6                    \n",
       "4 287    0.02127327      3                    6                    \n",
       "5 432    0.02127327      3                    6                    \n",
       "6 909    0.02127327      3                    6                    \n",
       "  rank_share_employement_io _merge\n",
       "1 5                         both  \n",
       "2 5                         both  \n",
       "3 5                         both  \n",
       "4 5                         both  \n",
       "5 5                         both  \n",
       "6 5                         both  "
      ]
     },
     "metadata": {},
     "output_type": "display_data"
    }
   ],
   "source": [
    "df_final <- df_final_i %>% \n",
    "    mutate_if(is.character, as.factor) %>%\n",
    "    mutate_at(vars(starts_with(\"FE\")), as.factor) %>%\n",
    "    mutate(\n",
    "         Period = relevel(Period, ref='Before'),\n",
    "         TCZ_c = relevel(TCZ_c, ref='No_TCZ'),\n",
    "         effort_c = relevel(effort_c, ref='Below'),\n",
    "         polluted_di = relevel(polluted_di, ref='Below'),\n",
    "         polluted_mi = relevel(polluted_mi, ref='Below'),\n",
    "         polluted_thre = relevel(polluted_thre, ref='Below'),\n",
    "  )\n",
    "head(df_final)"
   ]
  },
  {
   "cell_type": "markdown",
   "metadata": {
    "incorrectly_encoded_metadata": "kernel=\"python3\" toc-hr-collapsed=true",
    "kernel": "SoS",
    "toc-hr-collapsed": true,
    "toc-nb-collapsed": true
   },
   "source": [
    "### Output\n",
    "\n",
    "Output latex table available here\n",
    "\n",
    "- https://www.overleaf.com/project/5deca0097e9f3a0001506527\n",
    "    - 010_output_industry_thresh_\n",
    "    - 011_output_industry_cum\n",
    "    \n",
    "**Threshold**\n",
    "\n",
    "In Google Drive:\n",
    "\n",
    "![](https://drive.google.com/uc?export=view&id=1g7zQH-RkmQeY6tM5KzIU6tEdWhumsNEl)\n",
    "\n",
    "**Cumulative**\n",
    "\n",
    "![](https://drive.google.com/uc?export=view&id=1wkvLZRe8ftyqXBtY3I5iM4RFKD4Ki7al)\n"
   ]
  },
  {
   "cell_type": "markdown",
   "metadata": {
    "incorrectly_encoded_metadata": "kernel=\"R\" toc-hr-collapsed=true toc-nb-collapsed=true",
    "kernel": "SoS"
   },
   "source": [
    "#### Code"
   ]
  },
  {
   "cell_type": "markdown",
   "metadata": {
    "collapsed": "true",
    "incorrectly_encoded_metadata": "kernel=\"R\" toc-hr-collapsed=true toc-nb-collapsed=true",
    "kernel": "SoS"
   },
   "source": [
    "##### Private - Output - threshold"
   ]
  },
  {
   "cell_type": "code",
   "execution_count": 12,
   "metadata": {
    "kernel": "R"
   },
   "outputs": [],
   "source": [
    "i <- 1\n",
    "l = list()\n",
    "while(i < 10) {\n",
    "    t1 <- felm(formula=log(tso2_cit) ~ TCZ_c * Period * polluted_thre \n",
    "                  + output_fcit + capital_fcit + labour_fcit\n",
    "                  |\n",
    "             FE_t_c + FE_t_i + FE_c_i | 0 |\n",
    "             industry, data= df_final %>% filter(rank_share_output_io == i),\n",
    "             exactDOF=TRUE)\n",
    "    \n",
    "    l[[i]] <- t1\n",
    "    i <- i + 1\n",
    "}"
   ]
  },
  {
   "cell_type": "code",
   "execution_count": null,
   "metadata": {
    "kernel": "python3"
   },
   "outputs": [],
   "source": [
    "import os\n",
    "decile=['& decile .1','decile .2', ' decile .3', 'decile .4',\n",
    "        'decile .5','decile .6', ' decile .7', 'decile .8',\n",
    "        'decile .9']\n",
    "try:\n",
    "    os.remove(\"table_2.txt\")\n",
    "except:\n",
    "    pass\n",
    "try:\n",
    "    os.remove(\"table_2.tex\")\n",
    "except:\n",
    "    pass"
   ]
  },
  {
   "cell_type": "code",
   "execution_count": null,
   "metadata": {
    "kernel": "R"
   },
   "outputs": [],
   "source": [
    "fe1 <- list(c(\"City-year fixed effects\", \"Yes\", \"Yes\", \"Yes\", 'Yes',\n",
    "              \"Yes\", \"Yes\", \"Yes\", 'Yes',\n",
    "              \"Yes\", \"Yes\"),\n",
    "             c(\"Industry-year fixed effects\", \"Yes\", \"Yes\", \"Yes\", 'Yes',\n",
    "              \"Yes\", \"Yes\", \"Yes\", 'Yes',\n",
    "              \"Yes\", \"Yes\"),\n",
    "             c(\"City-industry fixed effects\", \"Yes\", \"Yes\", \"Yes\", 'Yes',\n",
    "              \"Yes\", \"Yes\", \"Yes\", 'Yes',\n",
    "              \"Yes\", \"Yes\")\n",
    "             )\n",
    "table_1 <- go_latex(l,\n",
    "    dep_var = \"Dependent variable: \\\\text { SO2 emission }_{i k t}\",\n",
    "    title='Deciles output',\n",
    "    addFE=fe1,\n",
    "    save=TRUE,\n",
    "                    note = FALSE,\n",
    "    name=\"table_2.txt\"\n",
    ")"
   ]
  },
  {
   "cell_type": "code",
   "execution_count": null,
   "metadata": {
    "kernel": "python3"
   },
   "outputs": [],
   "source": [
    "tb = \"\"\"\\\\footnotesize{\n",
    "A decile indicates the rank share of [output, capital, employement] of the SOEs \\\\\n",
    "More specifically, the low deciles means a low presence of SOEs firms in the industries. \\\\\n",
    "Deciles close to one, however, implies a stronger share of [output, capital, employement] in the \\\\\n",
    "industries belong to those deciles.\n",
    "\\sym{*} Significance at the 10\\%, \\sym{**} Significance at the 5\\%, \\sym{***} Significance at the 1\\%\n",
    "}\n",
    "\"\"\"\n",
    "lb.beautify(table_number = 2,\n",
    "    constraint = False,\n",
    "    city_industry = False, \n",
    "    new_row = decile,\n",
    "    table_nte =tb)"
   ]
  },
  {
   "cell_type": "markdown",
   "metadata": {
    "collapsed": "true",
    "kernel": "python3"
   },
   "source": [
    "##### Private - Output - cumulative"
   ]
  },
  {
   "cell_type": "code",
   "execution_count": null,
   "metadata": {
    "kernel": "R"
   },
   "outputs": [],
   "source": [
    "i <- 1\n",
    "l = list()\n",
    "while(i < 10) {\n",
    "    t1 <- felm(formula=log(tso2_cit) ~ TCZ_c * Period * polluted_thre \n",
    "                  + output_fcit + capital_fcit + labour_fcit\n",
    "                  |\n",
    "             FE_t_c + FE_t_i + FE_c_i | 0 |\n",
    "             industry, data= df_final %>% filter(rank_share_output_io <= i),\n",
    "             exactDOF=TRUE)\n",
    "    \n",
    "    l[[i]] <- t1\n",
    "    i <- i + 1\n",
    "}"
   ]
  },
  {
   "cell_type": "code",
   "execution_count": null,
   "metadata": {
    "kernel": "python3"
   },
   "outputs": [],
   "source": [
    "import os\n",
    "decile=['& decile .1','decile .2', ' decile .3', 'decile .4',\n",
    "        'decile .5','decile .6', ' decile .7', 'decile .8',\n",
    "        'decile .9']\n",
    "try:\n",
    "    os.remove(\"table_2.txt\")\n",
    "except:\n",
    "    pass\n",
    "try:\n",
    "    os.remove(\"table_2.tex\")\n",
    "except:\n",
    "    pass"
   ]
  },
  {
   "cell_type": "code",
   "execution_count": null,
   "metadata": {
    "kernel": "R"
   },
   "outputs": [],
   "source": [
    "fe1 <- list(c(\"City-year fixed effects\", \"Yes\", \"Yes\", \"Yes\", 'Yes',\n",
    "              \"Yes\", \"Yes\", \"Yes\", 'Yes',\n",
    "              \"Yes\", \"Yes\"),\n",
    "             c(\"Industry-year fixed effects\", \"Yes\", \"Yes\", \"Yes\", 'Yes',\n",
    "              \"Yes\", \"Yes\", \"Yes\", 'Yes',\n",
    "              \"Yes\", \"Yes\"),\n",
    "             c(\"City-industry fixed effects\", \"Yes\", \"Yes\", \"Yes\", 'Yes',\n",
    "              \"Yes\", \"Yes\", \"Yes\", 'Yes',\n",
    "              \"Yes\", \"Yes\")\n",
    "             )\n",
    "table_1 <- go_latex(l,\n",
    "    dep_var = \"Dependent variable: \\\\text { SO2 emission }_{i k t}\",\n",
    "    title='Cumulative Deciles output',\n",
    "    addFE=fe1,\n",
    "    save=TRUE,\n",
    "                    note = FALSE,\n",
    "    name=\"table_2.txt\"\n",
    ")"
   ]
  },
  {
   "cell_type": "code",
   "execution_count": null,
   "metadata": {
    "kernel": "python3"
   },
   "outputs": [],
   "source": [
    "tb = \"\"\"\\\\footnotesize{\n",
    "A decile indicates the rank share of [output, capital, employement] of the SOEs \\\\\n",
    "More specifically, the low deciles means a low presence of SOEs firms in the industries. \\\\\n",
    "Deciles close to one, however, implies a stronger share of [output, capital, employement] in the \\\\\n",
    "industries belong to those deciles.\n",
    "\\sym{*} Significance at the 10\\%, \\sym{**} Significance at the 5\\%, \\sym{***} Significance at the 1\\%\n",
    "}\n",
    "\"\"\"\n",
    "lb.beautify(table_number = 2,\n",
    "    constraint = False,\n",
    "    city_industry = False, \n",
    "    new_row = decile,\n",
    "    table_nte =tb)"
   ]
  },
  {
   "cell_type": "markdown",
   "metadata": {
    "kernel": "python3",
    "toc-hr-collapsed": true,
    "toc-nb-collapsed": true
   },
   "source": [
    "### Capital\n",
    "\n",
    "Output latex table available here\n",
    "\n",
    "- https://www.overleaf.com/project/5deca0097e9f3a0001506527\n",
    "    - 020_capital_industry_thresh\n",
    "    - 021_capital_industry_cum\n",
    "    \n",
    "**Threshold**\n",
    "\n",
    "In Google Drive:\n",
    "\n",
    "![](https://drive.google.com/uc?export=view&id=1SpsDjKPnS9guANOUMAdHEaZr2KxFJejg)\n",
    "\n",
    "**Cumulative**\n",
    "\n",
    "![](https://drive.google.com/uc?export=view&id=1E-A5gREVvfHxj5dKQ6Sc39zymoh8Vayc)"
   ]
  },
  {
   "cell_type": "markdown",
   "metadata": {
    "kernel": "python3",
    "toc-hr-collapsed": true,
    "toc-nb-collapsed": true
   },
   "source": [
    "#### Code"
   ]
  },
  {
   "cell_type": "markdown",
   "metadata": {
    "collapsed": "true",
    "kernel": "python3",
    "toc-hr-collapsed": true,
    "toc-nb-collapsed": true
   },
   "source": [
    "##### Private - capital - threshold"
   ]
  },
  {
   "cell_type": "code",
   "execution_count": 13,
   "metadata": {
    "kernel": "R"
   },
   "outputs": [],
   "source": [
    "i <- 1\n",
    "l = list()\n",
    "while(i < 10) {\n",
    "    t1 <- felm(formula=log(tso2_cit) ~ TCZ_c * Period * polluted_thre \n",
    "                  + output_fcit + capital_fcit + labour_fcit\n",
    "                  |\n",
    "             FE_t_c + FE_t_i + FE_c_i | 0 |\n",
    "             industry, data= df_final %>% filter(rank_share_capital_io == i),\n",
    "             exactDOF=TRUE)\n",
    "    \n",
    "    l[[i]] <- t1\n",
    "    i <- i + 1\n",
    "}"
   ]
  },
  {
   "cell_type": "code",
   "execution_count": 14,
   "metadata": {
    "kernel": "python3"
   },
   "outputs": [],
   "source": [
    "import os\n",
    "decile=['& decile .1','decile .2', ' decile .3', 'decile .4',\n",
    "        'decile .5','decile .6', ' decile .7', 'decile .8',\n",
    "        'decile .9']\n",
    "try:\n",
    "    os.remove(\"table_2.txt\")\n",
    "except:\n",
    "    pass\n",
    "try:\n",
    "    os.remove(\"table_2.tex\")\n",
    "except:\n",
    "    pass"
   ]
  },
  {
   "cell_type": "code",
   "execution_count": 15,
   "metadata": {
    "kernel": "R"
   },
   "outputs": [],
   "source": [
    "fe1 <- list(c(\"City-year fixed effects\", \"Yes\", \"Yes\", \"Yes\", 'Yes',\n",
    "              \"Yes\", \"Yes\", \"Yes\", 'Yes',\n",
    "              \"Yes\", \"Yes\"),\n",
    "             c(\"Industry-year fixed effects\", \"Yes\", \"Yes\", \"Yes\", 'Yes',\n",
    "              \"Yes\", \"Yes\", \"Yes\", 'Yes',\n",
    "              \"Yes\", \"Yes\"),\n",
    "             c(\"City-industry fixed effects\", \"Yes\", \"Yes\", \"Yes\", 'Yes',\n",
    "              \"Yes\", \"Yes\", \"Yes\", 'Yes',\n",
    "              \"Yes\", \"Yes\")\n",
    "             )\n",
    "table_1 <- go_latex(l,\n",
    "    dep_var = \"Dependent variable: \\\\text { SO2 emission }_{i k t}\",\n",
    "    title='Deciles capital',\n",
    "    addFE=fe1,\n",
    "    save=TRUE,\n",
    "                    note = FALSE,\n",
    "    name=\"table_2.txt\"\n",
    ")"
   ]
  },
  {
   "cell_type": "code",
   "execution_count": 16,
   "metadata": {
    "kernel": "python3"
   },
   "outputs": [],
   "source": [
    "tb = \"\"\"\\\\footnotesize{\n",
    "A decile indicates the rank share of [output, capital, employement] of the SOEs \\\\\n",
    "More specifically, the low deciles means a low presence of SOEs firms in the industries. \\\\\n",
    "Deciles close to one, however, implies a stronger share of [output, capital, employement] in the \\\\\n",
    "industries belong to those deciles.\n",
    "\\sym{*} Significance at the 10\\%, \\sym{**} Significance at the 5\\%, \\sym{***} Significance at the 1\\%\n",
    "}\n",
    "\"\"\"\n",
    "lb.beautify(table_number = 2,\n",
    "    constraint = False,\n",
    "    city_industry = False, \n",
    "    new_row = decile,\n",
    "    table_nte =tb)"
   ]
  },
  {
   "cell_type": "markdown",
   "metadata": {
    "kernel": "python3",
    "toc-hr-collapsed": true,
    "toc-nb-collapsed": true
   },
   "source": [
    "##### Private - capital - cumulative"
   ]
  },
  {
   "cell_type": "code",
   "execution_count": 27,
   "metadata": {
    "kernel": "R"
   },
   "outputs": [],
   "source": [
    "i <- 1\n",
    "l = list()\n",
    "while(i < 10) {\n",
    "    t1 <- felm(formula=log(tso2_cit) ~ TCZ_c * Period * polluted_thre \n",
    "                  + output_fcit + capital_fcit + labour_fcit\n",
    "                  |\n",
    "             FE_t_c + FE_t_i + FE_c_i | 0 |\n",
    "             industry, data= df_final %>% filter(rank_share_capital_io <= i),\n",
    "             exactDOF=TRUE)\n",
    "    \n",
    "    l[[i]] <- t1\n",
    "    i <- i + 1\n",
    "}"
   ]
  },
  {
   "cell_type": "code",
   "execution_count": 19,
   "metadata": {
    "kernel": "python3"
   },
   "outputs": [],
   "source": [
    "import os\n",
    "decile=['& decile .1','decile .2', ' decile .3', 'decile .4',\n",
    "        'decile .5','decile .6', ' decile .7', 'decile .8',\n",
    "        'decile .9']\n",
    "try:\n",
    "    os.remove(\"table_2.txt\")\n",
    "except:\n",
    "    pass\n",
    "try:\n",
    "    os.remove(\"table_2.tex\")\n",
    "except:\n",
    "    pass"
   ]
  },
  {
   "cell_type": "code",
   "execution_count": 20,
   "metadata": {
    "kernel": "R"
   },
   "outputs": [],
   "source": [
    "fe1 <- list(c(\"City-year fixed effects\", \"Yes\", \"Yes\", \"Yes\", 'Yes',\n",
    "              \"Yes\", \"Yes\", \"Yes\", 'Yes',\n",
    "              \"Yes\", \"Yes\"),\n",
    "             c(\"Industry-year fixed effects\", \"Yes\", \"Yes\", \"Yes\", 'Yes',\n",
    "              \"Yes\", \"Yes\", \"Yes\", 'Yes',\n",
    "              \"Yes\", \"Yes\"),\n",
    "             c(\"City-industry fixed effects\", \"Yes\", \"Yes\", \"Yes\", 'Yes',\n",
    "              \"Yes\", \"Yes\", \"Yes\", 'Yes',\n",
    "              \"Yes\", \"Yes\")\n",
    "             )\n",
    "table_1 <- go_latex(l,\n",
    "    dep_var = \"Dependent variable: \\\\text { SO2 emission }_{i k t}\",\n",
    "    title='Cumulative Deciles output',\n",
    "    addFE=fe1,\n",
    "    save=TRUE,\n",
    "                    note = FALSE,\n",
    "    name=\"table_2.txt\"\n",
    ")"
   ]
  },
  {
   "cell_type": "code",
   "execution_count": 21,
   "metadata": {
    "kernel": "python3"
   },
   "outputs": [],
   "source": [
    "tb = \"\"\"\\\\footnotesize{\n",
    "A decile indicates the rank share of [output, capital, employement] of the SOEs \\\\\n",
    "More specifically, the low deciles means a low presence of SOEs firms in the industries. \\\\\n",
    "Deciles close to one, however, implies a stronger share of [output, capital, employement] in the \\\\\n",
    "industries belong to those deciles.\n",
    "\\sym{*} Significance at the 10\\%, \\sym{**} Significance at the 5\\%, \\sym{***} Significance at the 1\\%\n",
    "}\n",
    "\"\"\"\n",
    "lb.beautify(table_number = 2,\n",
    "    constraint = False,\n",
    "    city_industry = False, \n",
    "    new_row = decile,\n",
    "    table_nte =tb)"
   ]
  },
  {
   "cell_type": "markdown",
   "metadata": {
    "kernel": "python3"
   },
   "source": [
    "### Employement\n",
    "\n",
    "Output latex table available here\n",
    "\n",
    "- https://www.overleaf.com/project/5deca0097e9f3a0001506527\n",
    "    - 030_employement_industry_thresh\n",
    "    - 031_employement_industry_thresh\n",
    "    \n",
    "**Threshold**\n",
    "\n",
    "In Google Drive:\n",
    "\n",
    "![](https://drive.google.com/uc?export=view&id=1uJz3NDW3hlPMscdvBAF5HPjDyqZ664HG)\n",
    "\n",
    "**Cumulative**\n",
    "\n",
    "![](https://drive.google.com/uc?export=view&id=1d_C-H8LkIrcL_cXdlLC3j1OLgefE4NfB)"
   ]
  },
  {
   "cell_type": "markdown",
   "metadata": {
    "collapsed": "true",
    "kernel": "python3"
   },
   "source": [
    "#### Code"
   ]
  },
  {
   "cell_type": "markdown",
   "metadata": {
    "collapsed": "true",
    "kernel": "python3"
   },
   "source": [
    "##### Private - employment - threshold"
   ]
  },
  {
   "cell_type": "code",
   "execution_count": 32,
   "metadata": {
    "kernel": "R"
   },
   "outputs": [],
   "source": [
    "i <- 1\n",
    "l = list()\n",
    "while(i < 10) {\n",
    "    t1 <- felm(formula=log(tso2_cit) ~ TCZ_c * Period * polluted_thre \n",
    "                  + output_fcit + capital_fcit + labour_fcit\n",
    "                  |\n",
    "             FE_t_c + FE_t_i + FE_c_i | 0 |\n",
    "             industry, data= df_final %>% filter(rank_share_employement_io == i),\n",
    "             exactDOF=TRUE)\n",
    "    \n",
    "    l[[i]] <- t1\n",
    "    i <- i + 1\n",
    "}"
   ]
  },
  {
   "cell_type": "code",
   "execution_count": 33,
   "metadata": {
    "kernel": "python3"
   },
   "outputs": [],
   "source": [
    "import os\n",
    "decile=['& decile .1','decile .2', ' decile .3', 'decile .4',\n",
    "        'decile .5','decile .6', ' decile .7', 'decile .8',\n",
    "        'decile .9']\n",
    "try:\n",
    "    os.remove(\"table_2.txt\")\n",
    "except:\n",
    "    pass\n",
    "try:\n",
    "    os.remove(\"table_2.tex\")\n",
    "except:\n",
    "    pass"
   ]
  },
  {
   "cell_type": "code",
   "execution_count": 34,
   "metadata": {
    "kernel": "R"
   },
   "outputs": [],
   "source": [
    "fe1 <- list(c(\"City-year fixed effects\", \"Yes\", \"Yes\", \"Yes\", 'Yes',\n",
    "              \"Yes\", \"Yes\", \"Yes\", 'Yes',\n",
    "              \"Yes\", \"Yes\"),\n",
    "             c(\"Industry-year fixed effects\", \"Yes\", \"Yes\", \"Yes\", 'Yes',\n",
    "              \"Yes\", \"Yes\", \"Yes\", 'Yes',\n",
    "              \"Yes\", \"Yes\"),\n",
    "             c(\"City-industry fixed effects\", \"Yes\", \"Yes\", \"Yes\", 'Yes',\n",
    "              \"Yes\", \"Yes\", \"Yes\", 'Yes',\n",
    "              \"Yes\", \"Yes\")\n",
    "             )\n",
    "table_1 <- go_latex(l,\n",
    "    dep_var = \"Dependent variable: \\\\text { SO2 emission }_{i k t}\",\n",
    "    title='Deciles Employment',\n",
    "    addFE=fe1,\n",
    "    save=TRUE,\n",
    "                    note = FALSE,\n",
    "    name=\"table_2.txt\"\n",
    ")"
   ]
  },
  {
   "cell_type": "code",
   "execution_count": 35,
   "metadata": {
    "kernel": "python3"
   },
   "outputs": [],
   "source": [
    "tb = \"\"\"\\\\footnotesize{\n",
    "A decile indicates the rank share of [output, capital, employement] of the SOEs \\\\\n",
    "More specifically, the low deciles means a low presence of SOEs firms in the industries. \\\\\n",
    "Deciles close to one, however, implies a stronger share of [output, capital, employement] in the \\\\\n",
    "industries belong to those deciles.\n",
    "\\sym{*} Significance at the 10\\%, \\sym{**} Significance at the 5\\%, \\sym{***} Significance at the 1\\%\n",
    "}\n",
    "\"\"\"\n",
    "lb.beautify(table_number = 2,\n",
    "    constraint = False,\n",
    "    city_industry = False, \n",
    "    new_row = decile,\n",
    "    table_nte =tb)"
   ]
  },
  {
   "cell_type": "markdown",
   "metadata": {
    "collapsed": "true",
    "kernel": "python3"
   },
   "source": [
    "##### Private - employment - cumulative"
   ]
  },
  {
   "cell_type": "code",
   "execution_count": 36,
   "metadata": {
    "kernel": "R"
   },
   "outputs": [],
   "source": [
    "i <- 1\n",
    "l = list()\n",
    "while(i < 10) {\n",
    "    t1 <- felm(formula=log(tso2_cit) ~ TCZ_c * Period * polluted_thre \n",
    "                  + output_fcit + capital_fcit + labour_fcit\n",
    "                  |\n",
    "             FE_t_c + FE_t_i + FE_c_i | 0 |\n",
    "             industry, data= df_final %>% filter(rank_share_employement_io <= i),\n",
    "             exactDOF=TRUE)\n",
    "    \n",
    "    l[[i]] <- t1\n",
    "    i <- i + 1\n",
    "}"
   ]
  },
  {
   "cell_type": "code",
   "execution_count": 37,
   "metadata": {
    "kernel": "python3"
   },
   "outputs": [],
   "source": [
    "import os\n",
    "decile=['& decile .1','decile .2', ' decile .3', 'decile .4',\n",
    "        'decile .5','decile .6', ' decile .7', 'decile .8',\n",
    "        'decile .9']\n",
    "try:\n",
    "    os.remove(\"table_2.txt\")\n",
    "except:\n",
    "    pass\n",
    "try:\n",
    "    os.remove(\"table_2.tex\")\n",
    "except:\n",
    "    pass"
   ]
  },
  {
   "cell_type": "code",
   "execution_count": 38,
   "metadata": {
    "kernel": "R"
   },
   "outputs": [],
   "source": [
    "fe1 <- list(c(\"City-year fixed effects\", \"Yes\", \"Yes\", \"Yes\", 'Yes',\n",
    "              \"Yes\", \"Yes\", \"Yes\", 'Yes',\n",
    "              \"Yes\", \"Yes\"),\n",
    "             c(\"Industry-year fixed effects\", \"Yes\", \"Yes\", \"Yes\", 'Yes',\n",
    "              \"Yes\", \"Yes\", \"Yes\", 'Yes',\n",
    "              \"Yes\", \"Yes\"),\n",
    "             c(\"City-industry fixed effects\", \"Yes\", \"Yes\", \"Yes\", 'Yes',\n",
    "              \"Yes\", \"Yes\", \"Yes\", 'Yes',\n",
    "              \"Yes\", \"Yes\")\n",
    "             )\n",
    "table_1 <- go_latex(l,\n",
    "    dep_var = \"Dependent variable: \\\\text { SO2 emission }_{i k t}\",\n",
    "    title='Cumulative Deciles employment',\n",
    "    addFE=fe1,\n",
    "    save=TRUE,\n",
    "                    note = FALSE,\n",
    "    name=\"table_2.txt\"\n",
    ")"
   ]
  },
  {
   "cell_type": "code",
   "execution_count": 39,
   "metadata": {
    "kernel": "python3"
   },
   "outputs": [],
   "source": [
    "tb = \"\"\"\\\\footnotesize{\n",
    "A decile indicates the rank share of [output, capital, employement] of the SOEs \\\\\n",
    "More specifically, the low deciles means a low presence of SOEs firms in the industries. \\\\\n",
    "Deciles close to one, however, implies a stronger share of [output, capital, employement] in the \\\\\n",
    "industries belong to those deciles.\n",
    "\\sym{*} Significance at the 10\\%, \\sym{**} Significance at the 5\\%, \\sym{***} Significance at the 1\\%\n",
    "}\n",
    "\"\"\"\n",
    "lb.beautify(table_number = 2,\n",
    "    constraint = False,\n",
    "    city_industry = False, \n",
    "    new_row = decile,\n",
    "    table_nte =tb)"
   ]
  },
  {
   "cell_type": "markdown",
   "metadata": {
    "incorrectly_encoded_metadata": "kernel=\"python3\" toc-hr-collapsed=true toc-nb-collapsed=true",
    "kernel": "SoS"
   },
   "source": [
    "## Level City\n",
    "\n",
    "We proceed as follow:\n",
    "- Step 1: Compute the share [output, capital, employment] by industry, ownership: `Share_io`\n",
    "- Step 2: Compute the deciles of step 1 by  ownership: `Share_io`\n",
    "\n",
    "We only need when `ownership` is equal to `SOE`. First decile indicates a low share of SOE in these sectors. For instance, when the decile is 1, it means this is the bottom 10% of sectors with the lowest share of SOE. The larger the decile, the higher the state presences.\n",
    "\n",
    "In a nutshell, we can run estimate in two ways:\n",
    "\n",
    "- by decile \n",
    "- by cumulated decile"
   ]
  },
  {
   "cell_type": "markdown",
   "metadata": {
    "collapsed": "true",
    "incorrectly_encoded_metadata": "kernel=\"python3\" toc-hr-collapsed=true",
    "kernel": "SoS"
   },
   "source": [
    "### Code load data"
   ]
  },
  {
   "cell_type": "code",
   "execution_count": 40,
   "metadata": {
    "kernel": "SoS"
   },
   "outputs": [],
   "source": [
    "query_share = \"\"\" WITH sum_co AS (\n",
    "  SELECT \n",
    "    case WHEN ownership = 'Foreign' THEN 'FOREIGN' WHEN ownership = 'SOE' \n",
    "    THEN 'SOE' ELSE 'DOMESTIC' END AS OWNERSHIP, \n",
    "    SUM(output / 10000000) as output_co, \n",
    "    SUM(fa_net / 10000000) as fa_net_co, \n",
    "    SUM(employment / 100000) as employment_co,\n",
    "    geocode4_corr \n",
    "  FROM \n",
    "    China.asif_firm_china \n",
    "  WHERE \n",
    "    year >= 2002 \n",
    "    AND year < 2006 \n",
    "    AND output > 0 \n",
    "    AND fa_net > 0 \n",
    "    AND employment > 0 \n",
    "  GROUP BY \n",
    "    OWNERSHIP, \n",
    "    geocode4_corr\n",
    ") \n",
    "SELECT \n",
    "  * \n",
    "FROM \n",
    "  (\n",
    "    WITH sum_c AS(\n",
    "      SELECT \n",
    "        SUM(output_co) as output_c, \n",
    "        SUM(fa_net_co) as fa_net_c, \n",
    "        SUM(employment_co) as employment_c, \n",
    "        geocode4_corr AS geocode4_corr_b \n",
    "      FROM \n",
    "        sum_co \n",
    "      GROUP BY \n",
    "        geocode4_corr\n",
    "    ) \n",
    "    SELECT \n",
    "      * \n",
    "    FROM \n",
    "      (\n",
    "        WITH share_co AS(\n",
    "          SELECT \n",
    "            OWNERSHIP, \n",
    "            output_co / output_c AS share_output_co, \n",
    "            fa_net_co / fa_net_c AS share_fa_net_co, \n",
    "            employment_co / employment_c AS share_employement_co, \n",
    "            geocode4_corr \n",
    "          FROM \n",
    "            sum_co \n",
    "            LEFT JOIN sum_c ON sum_co.geocode4_corr = sum_c.geocode4_corr_b\n",
    "        ) \n",
    "        SELECT \n",
    "        geocode4_corr,\n",
    "        OWNERSHIP,  \n",
    "        NTILE(10)  OVER (PARTITION BY OWNERSHIP ORDER BY share_output_co) \n",
    "          as rank_share_output_co,\n",
    "          NTILE(10)  OVER (PARTITION BY OWNERSHIP ORDER BY share_fa_net_co) \n",
    "          as rank_share_capital_co,\n",
    "          NTILE(10)  OVER (PARTITION BY OWNERSHIP ORDER BY share_employement_co) \n",
    "          as rank_share_employement_co,\n",
    "        share_output_co\n",
    "        FROM share_co\n",
    " \n",
    "        )\n",
    "        )\n",
    "        \n",
    "\"\"\"\n",
    "df_share = gcp.upload_data_from_bigquery(query = query_share,\n",
    "                                         location = 'US')"
   ]
  },
  {
   "cell_type": "code",
   "execution_count": 42,
   "metadata": {
    "kernel": "SoS"
   },
   "outputs": [],
   "source": [
    "%put df_final_c --to R\n",
    "df_final_c = (df_final.merge(\n",
    "    df_share.loc[lambda x: x['OWNERSHIP'].isin(['SOE'])][\n",
    "        [\n",
    "            'geocode4_corr',\n",
    "            'share_output_co',\n",
    "            'rank_share_output_co',\n",
    "            'rank_share_capital_co',\n",
    "            'rank_share_employement_co'\n",
    "             ]],\n",
    "    how = 'left',\n",
    "    indicator = True\n",
    ")\n",
    ")"
   ]
  },
  {
   "cell_type": "code",
   "execution_count": 43,
   "metadata": {
    "kernel": "SoS"
   },
   "outputs": [
    {
     "data": {
      "text/plain": [
       "(30676, 35)"
      ]
     },
     "execution_count": 43,
     "metadata": {},
     "output_type": "execute_result"
    }
   ],
   "source": [
    "df_final_c.shape"
   ]
  },
  {
   "cell_type": "code",
   "execution_count": 44,
   "metadata": {
    "kernel": "R"
   },
   "outputs": [
    {
     "data": {
      "text/html": [
       "<table>\n",
       "<caption>A data.frame: 6 × 35</caption>\n",
       "<thead>\n",
       "\t<tr><th scope=col>year</th><th scope=col>Period</th><th scope=col>Province_en</th><th scope=col>Lower_location</th><th scope=col>Larger_location</th><th scope=col>Coastal</th><th scope=col>cityen</th><th scope=col>geocode4_corr</th><th scope=col>TCZ_c</th><th scope=col>target_c</th><th scope=col>⋯</th><th scope=col>polluted_mi</th><th scope=col>polluted_thre</th><th scope=col>FE_c_i</th><th scope=col>FE_t_i</th><th scope=col>FE_t_c</th><th scope=col>share_output_co</th><th scope=col>rank_share_output_co</th><th scope=col>rank_share_capital_co</th><th scope=col>rank_share_employement_co</th><th scope=col>_merge</th></tr>\n",
       "\t<tr><th scope=col>&lt;dbl&gt;</th><th scope=col>&lt;fct&gt;</th><th scope=col>&lt;fct&gt;</th><th scope=col>&lt;fct&gt;</th><th scope=col>&lt;fct&gt;</th><th scope=col>&lt;lgl&gt;</th><th scope=col>&lt;fct&gt;</th><th scope=col>&lt;dbl&gt;</th><th scope=col>&lt;fct&gt;</th><th scope=col>&lt;dbl&gt;</th><th scope=col>⋯</th><th scope=col>&lt;fct&gt;</th><th scope=col>&lt;fct&gt;</th><th scope=col>&lt;fct&gt;</th><th scope=col>&lt;fct&gt;</th><th scope=col>&lt;fct&gt;</th><th scope=col>&lt;dbl&gt;</th><th scope=col>&lt;dbl&gt;</th><th scope=col>&lt;dbl&gt;</th><th scope=col>&lt;dbl&gt;</th><th scope=col>&lt;fct&gt;</th></tr>\n",
       "</thead>\n",
       "<tbody>\n",
       "\t<tr><td>2002</td><td>Before</td><td>Shanxi   </td><td>Central  </td><td>Central</td><td>FALSE</td><td>Yuncheng</td><td>1408</td><td>TCZ   </td><td>0.48502998</td><td>⋯</td><td>Below</td><td>Above</td><td>11104</td><td>1573</td><td>889</td><td>0.2726174</td><td>6</td><td> 5</td><td>6</td><td>both</td></tr>\n",
       "\t<tr><td>2006</td><td>After </td><td>Hunan    </td><td>Central  </td><td>Central</td><td>FALSE</td><td>Xiangtan</td><td>4303</td><td>TCZ   </td><td>0.09275420</td><td>⋯</td><td>Below</td><td>Above</td><td>11105</td><td>1574</td><td>420</td><td>0.6112105</td><td>9</td><td>10</td><td>9</td><td>both</td></tr>\n",
       "\t<tr><td>2007</td><td>After </td><td>Hunan    </td><td>Central  </td><td>Central</td><td>FALSE</td><td>Xiangtan</td><td>4303</td><td>TCZ   </td><td>0.09275420</td><td>⋯</td><td>Below</td><td>Above</td><td>11105</td><td>1572</td><td>421</td><td>0.6112105</td><td>9</td><td>10</td><td>9</td><td>both</td></tr>\n",
       "\t<tr><td>2007</td><td>After </td><td>Liaoning </td><td>Northeast</td><td>Eastern</td><td> TRUE</td><td>Jinzhou </td><td>2107</td><td>TCZ   </td><td>0.08051164</td><td>⋯</td><td>Below</td><td>Above</td><td>11103</td><td>1572</td><td>287</td><td>0.1127161</td><td>3</td><td> 4</td><td>5</td><td>both</td></tr>\n",
       "\t<tr><td>2002</td><td>Before</td><td>Liaoning </td><td>Northeast</td><td>Eastern</td><td> TRUE</td><td>Shenyang</td><td>2101</td><td>TCZ   </td><td>0.23007570</td><td>⋯</td><td>Below</td><td>Above</td><td>11106</td><td>1573</td><td>432</td><td>0.1660252</td><td>4</td><td> 5</td><td>6</td><td>both</td></tr>\n",
       "\t<tr><td>2002</td><td>Before</td><td>Guangdong</td><td>Coastal  </td><td>Eastern</td><td> TRUE</td><td>Meizhou </td><td>4414</td><td>No_TCZ</td><td>0.02596999</td><td>⋯</td><td>Below</td><td>Above</td><td>11107</td><td>1573</td><td>909</td><td>0.2831852</td><td>6</td><td> 4</td><td>3</td><td>both</td></tr>\n",
       "</tbody>\n",
       "</table>\n"
      ],
      "text/latex": [
       "A data.frame: 6 × 35\n",
       "\\begin{tabular}{r|lllllllllllllllllllllllllllllllllll}\n",
       " year & Period & Province\\_en & Lower\\_location & Larger\\_location & Coastal & cityen & geocode4\\_corr & TCZ\\_c & target\\_c & effort\\_c & industry & ind2 & Short & output\\_fcit & capital\\_fcit & labour\\_fcit & out\\_share\\_SOE & cap\\_share\\_SOE & lab\\_share\\_SOE & tso2\\_cit & tso2\\_i & tCOD\\_cit & twaste\\_water\\_cit & polluted\\_di & polluted\\_mi & polluted\\_thre & FE\\_c\\_i & FE\\_t\\_i & FE\\_t\\_c & share\\_output\\_co & rank\\_share\\_output\\_co & rank\\_share\\_capital\\_co & rank\\_share\\_employement\\_co & \\_merge\\\\\n",
       " <dbl> & <fct> & <fct> & <fct> & <fct> & <lgl> & <fct> & <dbl> & <fct> & <dbl> & <fct> & <dbl> & <dbl> & <fct> & <dbl> & <dbl> & <dbl> & <dbl> & <dbl> & <dbl> & <dbl> & <dbl> & <dbl> & <dbl> & <fct> & <fct> & <fct> & <fct> & <fct> & <fct> & <dbl> & <dbl> & <dbl> & <dbl> & <fct>\\\\\n",
       "\\hline\n",
       "\t 2002 & Before & Shanxi    & Central   & Central & FALSE & Yuncheng & 1408 & TCZ    & 0.48502998 & Above & 3329 & 33 & Smelting Non-ferrous Metals & 0.0006870 & 0.0002926 & 0.00036 & 0.02756701 & 0.2210178 & 0.1134672 & 24500 & 168934.5 &     0 &    500 & Above & Below & Above & 11104 & 1573 & 889 & 0.2726174 & 6 &  5 & 6 & both\\\\\n",
       "\t 2006 & After  & Hunan     & Central   & Central & FALSE & Xiangtan & 4303 & TCZ    & 0.09275420 & Below & 3329 & 33 & Smelting Non-ferrous Metals & 0.0009500 & 0.0001481 & 0.00023 & 0.02756701 & 0.2210178 & 0.1134672 &  2304 & 168934.5 &     0 &    300 & Above & Below & Above & 11105 & 1574 & 420 & 0.6112105 & 9 & 10 & 9 & both\\\\\n",
       "\t 2007 & After  & Hunan     & Central   & Central & FALSE & Xiangtan & 4303 & TCZ    & 0.09275420 & Below & 3329 & 33 & Smelting Non-ferrous Metals & 0.0017150 & 0.0003650 & 0.00023 & 0.02756701 & 0.2210178 & 0.1134672 &  2304 & 168934.5 &     0 &    240 & Above & Below & Above & 11105 & 1572 & 421 & 0.6112105 & 9 & 10 & 9 & both\\\\\n",
       "\t 2007 & After  & Liaoning  & Northeast & Eastern &  TRUE & Jinzhou  & 2107 & TCZ    & 0.08051164 & Below & 3329 & 33 & Smelting Non-ferrous Metals & 0.0077300 & 0.0012959 & 0.00089 & 0.02756701 & 0.2210178 & 0.1134672 &  3200 & 168934.5 &     0 &      0 & Above & Below & Above & 11103 & 1572 & 287 & 0.1127161 & 3 &  4 & 5 & both\\\\\n",
       "\t 2002 & Before & Liaoning  & Northeast & Eastern &  TRUE & Shenyang & 2101 & TCZ    & 0.23007570 & Above & 3329 & 33 & Smelting Non-ferrous Metals & 0.0009967 & 0.0000516 & 0.00135 & 0.02756701 & 0.2210178 & 0.1134672 &  3840 & 168934.5 &     0 &   3500 & Above & Below & Above & 11106 & 1573 & 432 & 0.1660252 & 4 &  5 & 6 & both\\\\\n",
       "\t 2002 & Before & Guangdong & Coastal   & Eastern &  TRUE & Meizhou  & 4414 & No\\_TCZ & 0.02596999 & Below & 3329 & 33 & Smelting Non-ferrous Metals & 0.0002903 & 0.0013790 & 0.00125 & 0.02756701 & 0.2210178 & 0.1134672 & 72752 & 168934.5 & 15500 & 115000 & Above & Below & Above & 11107 & 1573 & 909 & 0.2831852 & 6 &  4 & 3 & both\\\\\n",
       "\\end{tabular}\n"
      ],
      "text/markdown": [
       "\n",
       "A data.frame: 6 × 35\n",
       "\n",
       "| year &lt;dbl&gt; | Period &lt;fct&gt; | Province_en &lt;fct&gt; | Lower_location &lt;fct&gt; | Larger_location &lt;fct&gt; | Coastal &lt;lgl&gt; | cityen &lt;fct&gt; | geocode4_corr &lt;dbl&gt; | TCZ_c &lt;fct&gt; | target_c &lt;dbl&gt; | ⋯ ⋯ | polluted_mi &lt;fct&gt; | polluted_thre &lt;fct&gt; | FE_c_i &lt;fct&gt; | FE_t_i &lt;fct&gt; | FE_t_c &lt;fct&gt; | share_output_co &lt;dbl&gt; | rank_share_output_co &lt;dbl&gt; | rank_share_capital_co &lt;dbl&gt; | rank_share_employement_co &lt;dbl&gt; | _merge &lt;fct&gt; |\n",
       "|---|---|---|---|---|---|---|---|---|---|---|---|---|---|---|---|---|---|---|---|---|\n",
       "| 2002 | Before | Shanxi    | Central   | Central | FALSE | Yuncheng | 1408 | TCZ    | 0.48502998 | ⋯ | Below | Above | 11104 | 1573 | 889 | 0.2726174 | 6 |  5 | 6 | both |\n",
       "| 2006 | After  | Hunan     | Central   | Central | FALSE | Xiangtan | 4303 | TCZ    | 0.09275420 | ⋯ | Below | Above | 11105 | 1574 | 420 | 0.6112105 | 9 | 10 | 9 | both |\n",
       "| 2007 | After  | Hunan     | Central   | Central | FALSE | Xiangtan | 4303 | TCZ    | 0.09275420 | ⋯ | Below | Above | 11105 | 1572 | 421 | 0.6112105 | 9 | 10 | 9 | both |\n",
       "| 2007 | After  | Liaoning  | Northeast | Eastern |  TRUE | Jinzhou  | 2107 | TCZ    | 0.08051164 | ⋯ | Below | Above | 11103 | 1572 | 287 | 0.1127161 | 3 |  4 | 5 | both |\n",
       "| 2002 | Before | Liaoning  | Northeast | Eastern |  TRUE | Shenyang | 2101 | TCZ    | 0.23007570 | ⋯ | Below | Above | 11106 | 1573 | 432 | 0.1660252 | 4 |  5 | 6 | both |\n",
       "| 2002 | Before | Guangdong | Coastal   | Eastern |  TRUE | Meizhou  | 4414 | No_TCZ | 0.02596999 | ⋯ | Below | Above | 11107 | 1573 | 909 | 0.2831852 | 6 |  4 | 3 | both |\n",
       "\n"
      ],
      "text/plain": [
       "  year Period Province_en Lower_location Larger_location Coastal cityen  \n",
       "1 2002 Before Shanxi      Central        Central         FALSE   Yuncheng\n",
       "2 2006 After  Hunan       Central        Central         FALSE   Xiangtan\n",
       "3 2007 After  Hunan       Central        Central         FALSE   Xiangtan\n",
       "4 2007 After  Liaoning    Northeast      Eastern          TRUE   Jinzhou \n",
       "5 2002 Before Liaoning    Northeast      Eastern          TRUE   Shenyang\n",
       "6 2002 Before Guangdong   Coastal        Eastern          TRUE   Meizhou \n",
       "  geocode4_corr TCZ_c  target_c   ⋯ polluted_mi polluted_thre FE_c_i FE_t_i\n",
       "1 1408          TCZ    0.48502998 ⋯ Below       Above         11104  1573  \n",
       "2 4303          TCZ    0.09275420 ⋯ Below       Above         11105  1574  \n",
       "3 4303          TCZ    0.09275420 ⋯ Below       Above         11105  1572  \n",
       "4 2107          TCZ    0.08051164 ⋯ Below       Above         11103  1572  \n",
       "5 2101          TCZ    0.23007570 ⋯ Below       Above         11106  1573  \n",
       "6 4414          No_TCZ 0.02596999 ⋯ Below       Above         11107  1573  \n",
       "  FE_t_c share_output_co rank_share_output_co rank_share_capital_co\n",
       "1 889    0.2726174       6                     5                   \n",
       "2 420    0.6112105       9                    10                   \n",
       "3 421    0.6112105       9                    10                   \n",
       "4 287    0.1127161       3                     4                   \n",
       "5 432    0.1660252       4                     5                   \n",
       "6 909    0.2831852       6                     4                   \n",
       "  rank_share_employement_co _merge\n",
       "1 6                         both  \n",
       "2 9                         both  \n",
       "3 9                         both  \n",
       "4 5                         both  \n",
       "5 6                         both  \n",
       "6 3                         both  "
      ]
     },
     "metadata": {},
     "output_type": "display_data"
    }
   ],
   "source": [
    "df_final <- df_final_c %>% \n",
    "    mutate_if(is.character, as.factor) %>%\n",
    "    mutate_at(vars(starts_with(\"FE\")), as.factor) %>%\n",
    "    mutate(\n",
    "         Period = relevel(Period, ref='Before'),\n",
    "         TCZ_c = relevel(TCZ_c, ref='No_TCZ'),\n",
    "         effort_c = relevel(effort_c, ref='Below'),\n",
    "         polluted_di = relevel(polluted_di, ref='Below'),\n",
    "         polluted_mi = relevel(polluted_mi, ref='Below'),\n",
    "         polluted_thre = relevel(polluted_thre, ref='Below'),\n",
    "  )\n",
    "head(df_final)"
   ]
  },
  {
   "cell_type": "markdown",
   "metadata": {
    "collapsed": "true",
    "incorrectly_encoded_metadata": "kernel=\"python3\" toc-hr-collapsed=true",
    "kernel": "SoS",
    "toc-hr-collapsed": true,
    "toc-nb-collapsed": true
   },
   "source": [
    "### Output\n",
    "\n",
    "Output latex table available here\n",
    "\n",
    "- https://www.overleaf.com/project/5deca0097e9f3a0001506527\n",
    "    - 040_output_city_thresh\n",
    "    - 041_output_city_cum\n",
    "    \n",
    "**Threshold**\n",
    "\n",
    "In Google Drive:\n",
    "\n",
    "![](https://drive.google.com/uc?export=view&id=1B7yGNh6iXDAh5Otf2yd3XprDkh-OSEUp)\n",
    "\n",
    "**Cumulative**\n",
    "\n",
    "![](https://drive.google.com/uc?export=view&id=17u9cRVeTZIm_xo1XhZacgvqx2lwNQAH_)"
   ]
  },
  {
   "cell_type": "markdown",
   "metadata": {
    "collapsed": "true",
    "incorrectly_encoded_metadata": "kernel=\"R\" toc-hr-collapsed=true",
    "kernel": "SoS"
   },
   "source": [
    "#### Code"
   ]
  },
  {
   "cell_type": "markdown",
   "metadata": {
    "collapsed": "true",
    "kernel": "R"
   },
   "source": [
    "##### Private - Output - threshold"
   ]
  },
  {
   "cell_type": "code",
   "execution_count": 45,
   "metadata": {
    "kernel": "R"
   },
   "outputs": [],
   "source": [
    "i <- 1\n",
    "l = list()\n",
    "while(i < 10) {\n",
    "    t1 <- felm(formula=log(tso2_cit) ~ TCZ_c * Period * polluted_thre \n",
    "                  + output_fcit + capital_fcit + labour_fcit\n",
    "                  |\n",
    "             FE_t_c + FE_t_i + FE_c_i | 0 |\n",
    "             industry, data= df_final %>% filter(rank_share_output_co == i),\n",
    "             exactDOF=TRUE)\n",
    "    \n",
    "    l[[i]] <- t1\n",
    "    i <- i + 1\n",
    "}"
   ]
  },
  {
   "cell_type": "code",
   "execution_count": 46,
   "metadata": {
    "kernel": "python3"
   },
   "outputs": [],
   "source": [
    "import os\n",
    "decile=['& decile .1','decile .2', ' decile .3', 'decile .4',\n",
    "        'decile .5','decile .6', ' decile .7', 'decile .8',\n",
    "        'decile .9']\n",
    "try:\n",
    "    os.remove(\"table_2.txt\")\n",
    "except:\n",
    "    pass\n",
    "try:\n",
    "    os.remove(\"table_2.tex\")\n",
    "except:\n",
    "    pass"
   ]
  },
  {
   "cell_type": "code",
   "execution_count": 47,
   "metadata": {
    "kernel": "R"
   },
   "outputs": [],
   "source": [
    "fe1 <- list(c(\"City-year fixed effects\", \"Yes\", \"Yes\", \"Yes\", 'Yes',\n",
    "              \"Yes\", \"Yes\", \"Yes\", 'Yes',\n",
    "              \"Yes\", \"Yes\"),\n",
    "             c(\"Industry-year fixed effects\", \"Yes\", \"Yes\", \"Yes\", 'Yes',\n",
    "              \"Yes\", \"Yes\", \"Yes\", 'Yes',\n",
    "              \"Yes\", \"Yes\"),\n",
    "             c(\"City-industry fixed effects\", \"Yes\", \"Yes\", \"Yes\", 'Yes',\n",
    "              \"Yes\", \"Yes\", \"Yes\", 'Yes',\n",
    "              \"Yes\", \"Yes\")\n",
    "             )\n",
    "table_1 <- go_latex(l,\n",
    "    dep_var = \"Dependent variable: \\\\text { SO2 emission }_{i k t}\",\n",
    "    title='Deciles output',\n",
    "    addFE=fe1,\n",
    "    save=TRUE,\n",
    "                    note = FALSE,\n",
    "    name=\"table_2.txt\"\n",
    ")"
   ]
  },
  {
   "cell_type": "code",
   "execution_count": 48,
   "metadata": {
    "kernel": "python3"
   },
   "outputs": [],
   "source": [
    "tb = \"\"\"\\\\footnotesize{\n",
    "A decile indicates the rank share of [output, capital, employement] of the SOEs \\\\\n",
    "More specifically, the low deciles means a low presence of SOEs firms in the industries. \\\\\n",
    "Deciles close to one, however, implies a stronger share of [output, capital, employement] in the \\\\\n",
    "industries belong to those deciles.\n",
    "\\sym{*} Significance at the 10\\%, \\sym{**} Significance at the 5\\%, \\sym{***} Significance at the 1\\%\n",
    "}\n",
    "\"\"\"\n",
    "lb.beautify(table_number = 2,\n",
    "    constraint = False,\n",
    "    city_industry = False, \n",
    "    new_row = decile,\n",
    "    table_nte =tb)"
   ]
  },
  {
   "cell_type": "markdown",
   "metadata": {
    "collapsed": "true",
    "kernel": "python3"
   },
   "source": [
    "##### Private - Output - cumulative"
   ]
  },
  {
   "cell_type": "code",
   "execution_count": 50,
   "metadata": {
    "kernel": "R"
   },
   "outputs": [],
   "source": [
    "i <- 1\n",
    "l = list()\n",
    "while(i < 10) {\n",
    "    t1 <- felm(formula=log(tso2_cit) ~ TCZ_c * Period * polluted_thre \n",
    "                  + output_fcit + capital_fcit + labour_fcit\n",
    "                  |\n",
    "             FE_t_c + FE_t_i + FE_c_i | 0 |\n",
    "             industry, data= df_final %>% filter(rank_share_output_co <= i),\n",
    "             exactDOF=TRUE)\n",
    "    \n",
    "    l[[i]] <- t1\n",
    "    i <- i + 1\n",
    "}"
   ]
  },
  {
   "cell_type": "code",
   "execution_count": 51,
   "metadata": {
    "kernel": "python3"
   },
   "outputs": [],
   "source": [
    "import os\n",
    "decile=['& decile .1','decile .2', ' decile .3', 'decile .4',\n",
    "        'decile .5','decile .6', ' decile .7', 'decile .8',\n",
    "        'decile .9']\n",
    "try:\n",
    "    os.remove(\"table_2.txt\")\n",
    "except:\n",
    "    pass\n",
    "try:\n",
    "    os.remove(\"table_2.tex\")\n",
    "except:\n",
    "    pass"
   ]
  },
  {
   "cell_type": "code",
   "execution_count": 52,
   "metadata": {
    "kernel": "R"
   },
   "outputs": [],
   "source": [
    "fe1 <- list(c(\"City-year fixed effects\", \"Yes\", \"Yes\", \"Yes\", 'Yes',\n",
    "              \"Yes\", \"Yes\", \"Yes\", 'Yes',\n",
    "              \"Yes\", \"Yes\"),\n",
    "             c(\"Industry-year fixed effects\", \"Yes\", \"Yes\", \"Yes\", 'Yes',\n",
    "              \"Yes\", \"Yes\", \"Yes\", 'Yes',\n",
    "              \"Yes\", \"Yes\"),\n",
    "             c(\"City-industry fixed effects\", \"Yes\", \"Yes\", \"Yes\", 'Yes',\n",
    "              \"Yes\", \"Yes\", \"Yes\", 'Yes',\n",
    "              \"Yes\", \"Yes\")\n",
    "             )\n",
    "table_1 <- go_latex(l,\n",
    "    dep_var = \"Dependent variable: \\\\text { SO2 emission }_{i k t}\",\n",
    "    title='Cumulative Deciles output',\n",
    "    addFE=fe1,\n",
    "    save=TRUE,\n",
    "                    note = FALSE,\n",
    "    name=\"table_2.txt\"\n",
    ")"
   ]
  },
  {
   "cell_type": "code",
   "execution_count": 53,
   "metadata": {
    "kernel": "python3"
   },
   "outputs": [],
   "source": [
    "tb = \"\"\"\\\\footnotesize{\n",
    "A decile indicates the rank share of [output, capital, employement] of the SOEs \\\\\n",
    "More specifically, the low deciles means a low presence of SOEs firms in the industries. \\\\\n",
    "Deciles close to one, however, implies a stronger share of [output, capital, employement] in the \\\\\n",
    "industries belong to those deciles.\n",
    "\\sym{*} Significance at the 10\\%, \\sym{**} Significance at the 5\\%, \\sym{***} Significance at the 1\\%\n",
    "}\n",
    "\"\"\"\n",
    "lb.beautify(table_number = 2,\n",
    "    constraint = False,\n",
    "    city_industry = False, \n",
    "    new_row = decile,\n",
    "    table_nte =tb)"
   ]
  },
  {
   "cell_type": "markdown",
   "metadata": {
    "collapsed": "true",
    "kernel": "python3",
    "toc-hr-collapsed": true,
    "toc-nb-collapsed": true
   },
   "source": [
    "### Capital\n",
    "\n",
    "Output latex table available here\n",
    "\n",
    "- https://www.overleaf.com/project/5deca0097e9f3a0001506527\n",
    "    - 050_capital_city_thresh\n",
    "    - 051_city_industry_cum\n",
    "    \n",
    "**Threshold**\n",
    "\n",
    "In Google Drive:\n",
    "\n",
    "![](https://drive.google.com/uc?export=view&id=1nW2NqDZ_KGWTSJGDgDoct53UauplCh2G)\n",
    "\n",
    "**Cumulative**\n",
    "\n",
    "![](https://drive.google.com/uc?export=view&id=1f-GnYoE7i5E0kOCVVP70DrCzYpd_VC9Y)"
   ]
  },
  {
   "cell_type": "markdown",
   "metadata": {
    "kernel": "python3"
   },
   "source": [
    "#### Code"
   ]
  },
  {
   "cell_type": "markdown",
   "metadata": {
    "kernel": "python3"
   },
   "source": [
    "##### Private - capital - threshold"
   ]
  },
  {
   "cell_type": "code",
   "execution_count": 55,
   "metadata": {
    "kernel": "R"
   },
   "outputs": [],
   "source": [
    "i <- 1\n",
    "l = list()\n",
    "while(i < 10) {\n",
    "    t1 <- felm(formula=log(tso2_cit) ~ TCZ_c * Period * polluted_thre \n",
    "                  + output_fcit + capital_fcit + labour_fcit\n",
    "                  |\n",
    "             FE_t_c + FE_t_i + FE_c_i | 0 |\n",
    "             industry, data= df_final %>% filter(rank_share_capital_co == i),\n",
    "             exactDOF=TRUE)\n",
    "    \n",
    "    l[[i]] <- t1\n",
    "    i <- i + 1\n",
    "}"
   ]
  },
  {
   "cell_type": "code",
   "execution_count": 56,
   "metadata": {
    "kernel": "python3"
   },
   "outputs": [],
   "source": [
    "import os\n",
    "decile=['& decile .1','decile .2', ' decile .3', 'decile .4',\n",
    "        'decile .5','decile .6', ' decile .7', 'decile .8',\n",
    "        'decile .9']\n",
    "try:\n",
    "    os.remove(\"table_2.txt\")\n",
    "except:\n",
    "    pass\n",
    "try:\n",
    "    os.remove(\"table_2.tex\")\n",
    "except:\n",
    "    pass"
   ]
  },
  {
   "cell_type": "code",
   "execution_count": 57,
   "metadata": {
    "kernel": "R"
   },
   "outputs": [],
   "source": [
    "fe1 <- list(c(\"City-year fixed effects\", \"Yes\", \"Yes\", \"Yes\", 'Yes',\n",
    "              \"Yes\", \"Yes\", \"Yes\", 'Yes',\n",
    "              \"Yes\", \"Yes\"),\n",
    "             c(\"Industry-year fixed effects\", \"Yes\", \"Yes\", \"Yes\", 'Yes',\n",
    "              \"Yes\", \"Yes\", \"Yes\", 'Yes',\n",
    "              \"Yes\", \"Yes\"),\n",
    "             c(\"City-industry fixed effects\", \"Yes\", \"Yes\", \"Yes\", 'Yes',\n",
    "              \"Yes\", \"Yes\", \"Yes\", 'Yes',\n",
    "              \"Yes\", \"Yes\")\n",
    "             )\n",
    "table_1 <- go_latex(l,\n",
    "    dep_var = \"Dependent variable: \\\\text { SO2 emission }_{i k t}\",\n",
    "    title='Deciles capital',\n",
    "    addFE=fe1,\n",
    "    save=TRUE,\n",
    "                    note = FALSE,\n",
    "    name=\"table_2.txt\"\n",
    ")"
   ]
  },
  {
   "cell_type": "code",
   "execution_count": 58,
   "metadata": {
    "kernel": "python3"
   },
   "outputs": [],
   "source": [
    "tb = \"\"\"\\\\footnotesize{\n",
    "A decile indicates the rank share of [output, capital, employement] of the SOEs \\\\\n",
    "More specifically, the low deciles means a low presence of SOEs firms in the industries. \\\\\n",
    "Deciles close to one, however, implies a stronger share of [output, capital, employement] in the \\\\\n",
    "industries belong to those deciles.\n",
    "\\sym{*} Significance at the 10\\%, \\sym{**} Significance at the 5\\%, \\sym{***} Significance at the 1\\%\n",
    "}\n",
    "\"\"\"\n",
    "lb.beautify(table_number = 2,\n",
    "    constraint = False,\n",
    "    city_industry = False, \n",
    "    new_row = decile,\n",
    "    table_nte =tb)"
   ]
  },
  {
   "cell_type": "markdown",
   "metadata": {
    "kernel": "python3"
   },
   "source": [
    "##### Private - capital - cumulative"
   ]
  },
  {
   "cell_type": "code",
   "execution_count": 62,
   "metadata": {
    "kernel": "R"
   },
   "outputs": [],
   "source": [
    "i <- 1\n",
    "l = list()\n",
    "while(i < 10) {\n",
    "    t1 <- felm(formula=log(tso2_cit) ~ TCZ_c * Period * polluted_thre \n",
    "                  + output_fcit + capital_fcit + labour_fcit\n",
    "                  |\n",
    "             FE_t_c + FE_t_i + FE_c_i | 0 |\n",
    "             industry, data= df_final %>% filter(rank_share_capital_co <= i),\n",
    "             exactDOF=TRUE)\n",
    "    \n",
    "    l[[i]] <- t1\n",
    "    i <- i + 1\n",
    "}"
   ]
  },
  {
   "cell_type": "code",
   "execution_count": 63,
   "metadata": {
    "kernel": "python3"
   },
   "outputs": [],
   "source": [
    "import os\n",
    "decile=['& decile .1','decile .2', ' decile .3', 'decile .4',\n",
    "        'decile .5','decile .6', ' decile .7', 'decile .8',\n",
    "        'decile .9']\n",
    "try:\n",
    "    os.remove(\"table_2.txt\")\n",
    "except:\n",
    "    pass\n",
    "try:\n",
    "    os.remove(\"table_2.tex\")\n",
    "except:\n",
    "    pass"
   ]
  },
  {
   "cell_type": "code",
   "execution_count": 64,
   "metadata": {
    "kernel": "R"
   },
   "outputs": [],
   "source": [
    "fe1 <- list(c(\"City-year fixed effects\", \"Yes\", \"Yes\", \"Yes\", 'Yes',\n",
    "              \"Yes\", \"Yes\", \"Yes\", 'Yes',\n",
    "              \"Yes\", \"Yes\"),\n",
    "             c(\"Industry-year fixed effects\", \"Yes\", \"Yes\", \"Yes\", 'Yes',\n",
    "              \"Yes\", \"Yes\", \"Yes\", 'Yes',\n",
    "              \"Yes\", \"Yes\"),\n",
    "             c(\"City-industry fixed effects\", \"Yes\", \"Yes\", \"Yes\", 'Yes',\n",
    "              \"Yes\", \"Yes\", \"Yes\", 'Yes',\n",
    "              \"Yes\", \"Yes\")\n",
    "             )\n",
    "table_1 <- go_latex(l,\n",
    "    dep_var = \"Dependent variable: \\\\text { SO2 emission }_{i k t}\",\n",
    "    title='Cumulative Deciles capital',\n",
    "    addFE=fe1,\n",
    "    save=TRUE,\n",
    "                    note = FALSE,\n",
    "    name=\"table_2.txt\"\n",
    ")"
   ]
  },
  {
   "cell_type": "code",
   "execution_count": 65,
   "metadata": {
    "kernel": "python3"
   },
   "outputs": [],
   "source": [
    "tb = \"\"\"\\\\footnotesize{\n",
    "A decile indicates the rank share of [output, capital, employement] of the SOEs \\\\\n",
    "More specifically, the low deciles means a low presence of SOEs firms in the industries. \\\\\n",
    "Deciles close to one, however, implies a stronger share of [output, capital, employement] in the \\\\\n",
    "industries belong to those deciles.\n",
    "\\sym{*} Significance at the 10\\%, \\sym{**} Significance at the 5\\%, \\sym{***} Significance at the 1\\%\n",
    "}\n",
    "\"\"\"\n",
    "lb.beautify(table_number = 2,\n",
    "    constraint = False,\n",
    "    city_industry = False, \n",
    "    new_row = decile,\n",
    "    table_nte =tb)"
   ]
  },
  {
   "cell_type": "markdown",
   "metadata": {
    "collapsed": "true",
    "kernel": "python3"
   },
   "source": [
    "### Employement\n",
    "\n",
    "Output latex table available here\n",
    "\n",
    "- https://www.overleaf.com/project/5deca0097e9f3a0001506527\n",
    "    - 060_employement_city_thresh\n",
    "    - 061_employement_city_thresh\n",
    "    \n",
    "**Threshold**\n",
    "\n",
    "In Google Drive:\n",
    "\n",
    "![](https://drive.google.com/uc?export=view&id=1pUCoFUZAQ71i2PpOP4xLcXgk9ZhAMSVS)\n",
    "\n",
    "**Cumulative**\n",
    "\n",
    "![](https://drive.google.com/uc?export=view&id=1psm8mYl-wSc-T42CfLELmR5dzyRLOz6U)"
   ]
  },
  {
   "cell_type": "markdown",
   "metadata": {
    "collapsed": "true",
    "kernel": "python3"
   },
   "source": [
    "#### Code"
   ]
  },
  {
   "cell_type": "markdown",
   "metadata": {
    "collapsed": "true",
    "kernel": "python3",
    "toc-hr-collapsed": true,
    "toc-nb-collapsed": true
   },
   "source": [
    "##### Private - employement - threshold"
   ]
  },
  {
   "cell_type": "code",
   "execution_count": 66,
   "metadata": {
    "kernel": "R"
   },
   "outputs": [],
   "source": [
    "i <- 1\n",
    "l = list()\n",
    "while(i < 10) {\n",
    "    t1 <- felm(formula=log(tso2_cit) ~ TCZ_c * Period * polluted_thre \n",
    "                  + output_fcit + capital_fcit + labour_fcit\n",
    "                  |\n",
    "             FE_t_c + FE_t_i + FE_c_i | 0 |\n",
    "             industry, data= df_final %>% filter(rank_share_employement_co == i),\n",
    "             exactDOF=TRUE)\n",
    "    \n",
    "    l[[i]] <- t1\n",
    "    i <- i + 1\n",
    "}"
   ]
  },
  {
   "cell_type": "code",
   "execution_count": 67,
   "metadata": {
    "kernel": "python3"
   },
   "outputs": [],
   "source": [
    "import os\n",
    "decile=['& decile .1','decile .2', ' decile .3', 'decile .4',\n",
    "        'decile .5','decile .6', ' decile .7', 'decile .8',\n",
    "        'decile .9']\n",
    "try:\n",
    "    os.remove(\"table_2.txt\")\n",
    "except:\n",
    "    pass\n",
    "try:\n",
    "    os.remove(\"table_2.tex\")\n",
    "except:\n",
    "    pass"
   ]
  },
  {
   "cell_type": "code",
   "execution_count": 68,
   "metadata": {
    "kernel": "R"
   },
   "outputs": [],
   "source": [
    "fe1 <- list(c(\"City-year fixed effects\", \"Yes\", \"Yes\", \"Yes\", 'Yes',\n",
    "              \"Yes\", \"Yes\", \"Yes\", 'Yes',\n",
    "              \"Yes\", \"Yes\"),\n",
    "             c(\"Industry-year fixed effects\", \"Yes\", \"Yes\", \"Yes\", 'Yes',\n",
    "              \"Yes\", \"Yes\", \"Yes\", 'Yes',\n",
    "              \"Yes\", \"Yes\"),\n",
    "             c(\"City-industry fixed effects\", \"Yes\", \"Yes\", \"Yes\", 'Yes',\n",
    "              \"Yes\", \"Yes\", \"Yes\", 'Yes',\n",
    "              \"Yes\", \"Yes\")\n",
    "             )\n",
    "table_1 <- go_latex(l,\n",
    "    dep_var = \"Dependent variable: \\\\text { SO2 emission }_{i k t}\",\n",
    "    title='Deciles Employment',\n",
    "    addFE=fe1,\n",
    "    save=TRUE,\n",
    "                    note = FALSE,\n",
    "    name=\"table_2.txt\"\n",
    ")"
   ]
  },
  {
   "cell_type": "code",
   "execution_count": 69,
   "metadata": {
    "kernel": "python3"
   },
   "outputs": [],
   "source": [
    "tb = \"\"\"\\\\footnotesize{\n",
    "A decile indicates the rank share of [output, capital, employement] of the SOEs \\\\\n",
    "More specifically, the low deciles means a low presence of SOEs firms in the industries. \\\\\n",
    "Deciles close to one, however, implies a stronger share of [output, capital, employement] in the \\\\\n",
    "industries belong to those deciles.\n",
    "\\sym{*} Significance at the 10\\%, \\sym{**} Significance at the 5\\%, \\sym{***} Significance at the 1\\%\n",
    "}\n",
    "\"\"\"\n",
    "lb.beautify(table_number = 2,\n",
    "    constraint = False,\n",
    "    city_industry = False, \n",
    "    new_row = decile,\n",
    "    table_nte =tb)"
   ]
  },
  {
   "cell_type": "markdown",
   "metadata": {
    "collapsed": "true",
    "kernel": "python3"
   },
   "source": [
    "##### Private - employement - Cumulatice"
   ]
  },
  {
   "cell_type": "code",
   "execution_count": 70,
   "metadata": {
    "kernel": "R"
   },
   "outputs": [],
   "source": [
    "i <- 1\n",
    "l = list()\n",
    "while(i < 10) {\n",
    "    t1 <- felm(formula=log(tso2_cit) ~ TCZ_c * Period * polluted_thre \n",
    "                  + output_fcit + capital_fcit + labour_fcit\n",
    "                  |\n",
    "             FE_t_c + FE_t_i + FE_c_i | 0 |\n",
    "             industry, data= df_final %>% filter(rank_share_employement_co <= i),\n",
    "             exactDOF=TRUE)\n",
    "    \n",
    "    l[[i]] <- t1\n",
    "    i <- i + 1\n",
    "}"
   ]
  },
  {
   "cell_type": "code",
   "execution_count": 71,
   "metadata": {
    "kernel": "python3"
   },
   "outputs": [],
   "source": [
    "import os\n",
    "decile=['& decile .1','decile .2', ' decile .3', 'decile .4',\n",
    "        'decile .5','decile .6', ' decile .7', 'decile .8',\n",
    "        'decile .9']\n",
    "try:\n",
    "    os.remove(\"table_2.txt\")\n",
    "except:\n",
    "    pass\n",
    "try:\n",
    "    os.remove(\"table_2.tex\")\n",
    "except:\n",
    "    pass"
   ]
  },
  {
   "cell_type": "code",
   "execution_count": 72,
   "metadata": {
    "kernel": "R"
   },
   "outputs": [],
   "source": [
    "fe1 <- list(c(\"City-year fixed effects\", \"Yes\", \"Yes\", \"Yes\", 'Yes',\n",
    "              \"Yes\", \"Yes\", \"Yes\", 'Yes',\n",
    "              \"Yes\", \"Yes\"),\n",
    "             c(\"Industry-year fixed effects\", \"Yes\", \"Yes\", \"Yes\", 'Yes',\n",
    "              \"Yes\", \"Yes\", \"Yes\", 'Yes',\n",
    "              \"Yes\", \"Yes\"),\n",
    "             c(\"City-industry fixed effects\", \"Yes\", \"Yes\", \"Yes\", 'Yes',\n",
    "              \"Yes\", \"Yes\", \"Yes\", 'Yes',\n",
    "              \"Yes\", \"Yes\")\n",
    "             )\n",
    "table_1 <- go_latex(l,\n",
    "    dep_var = \"Dependent variable: \\\\text { SO2 emission }_{i k t}\",\n",
    "    title='Cumulative Deciles employment',\n",
    "    addFE=fe1,\n",
    "    save=TRUE,\n",
    "                    note = FALSE,\n",
    "    name=\"table_2.txt\"\n",
    ")"
   ]
  },
  {
   "cell_type": "code",
   "execution_count": 73,
   "metadata": {
    "kernel": "python3"
   },
   "outputs": [],
   "source": [
    "tb = \"\"\"\\\\footnotesize{\n",
    "A decile indicates the rank share of [output, capital, employement] of the SOEs \\\\\n",
    "More specifically, the low deciles means a low presence of SOEs firms in the industries. \\\\\n",
    "Deciles close to one, however, implies a stronger share of [output, capital, employement] in the \\\\\n",
    "industries belong to those deciles.\n",
    "\\sym{*} Significance at the 10\\%, \\sym{**} Significance at the 5\\%, \\sym{***} Significance at the 1\\%\n",
    "}\n",
    "\"\"\"\n",
    "lb.beautify(table_number = 2,\n",
    "    constraint = False,\n",
    "    city_industry = False, \n",
    "    new_row = decile,\n",
    "    table_nte =tb)"
   ]
  }
 ],
 "metadata": {
  "jupytext": {
   "formats": "ipynb,md"
  },
  "kernelspec": {
   "display_name": "SoS",
   "language": "sos",
   "name": "sos"
  },
  "language_info": {
   "codemirror_mode": "sos",
   "file_extension": ".sos",
   "mimetype": "text/x-sos",
   "name": "sos",
   "nbconvert_exporter": "sos_notebook.converter.SoS_Exporter",
   "pygments_lexer": "sos"
  },
  "sos": {
   "kernels": [
    [
     "R",
     "ir",
     "R",
     "#DCDCDA",
     "r"
    ],
    [
     "SoS",
     "sos",
     "",
     "",
     "sos"
    ],
    [
     "python3",
     "python3",
     "python3",
     "",
     {
      "name": "ipython",
      "version": 3
     }
    ]
   ],
   "version": "0.20.6"
  }
 },
 "nbformat": 4,
 "nbformat_minor": 4
}
