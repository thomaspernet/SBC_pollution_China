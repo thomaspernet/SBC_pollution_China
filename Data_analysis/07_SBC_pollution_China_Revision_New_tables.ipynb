{
 "cells": [
  {
   "cell_type": "markdown",
   "metadata": {
    "kernel": "SoS"
   },
   "source": [
    "# New Tables\n",
    "\n",
    "* Faire les tableaux suivants:\n",
    "  * Tableau 4: Kuznet: benchmark → Revision\n",
    "      * Trouver un tableau avec les déciles pour montrer:\n",
    "        * turning point croissant pour des villes avec une dominance étatique de plus en plus large\n",
    "      * Regarder si gdp/cap prix constant\n",
    "      * Indiquer les turning points dans les tableaux\n",
    "* Partie 6:\n",
    "  * Tableau 8: \n",
    "    * estimer 2 modèles sur des échantillons differents\n",
    "      * modèle 1 →  TCZ * Polluted * Period\n",
    "      * modèle 2 → Target * polluted*Period  \n",
    "    * Echantillonnage → prendre soit industry soit city industry\n",
    "      * Big\n",
    "        * Via Herfhindal \n",
    "          * benchmark →Revision\n",
    "      * Foreign \n",
    "        * via output/capital/employment \n",
    "      * SOEs\n",
    "        * via output/capital/employment \n",
    "      * SPZ\n",
    "      * Coastal\n",
    "    * Chaque tableau avec Panel A pour supérieur threshold, Panel B pour inférieur threshold\n",
    "  * Tableau 9:\n",
    "    * Enlever SPZ & Coastal\n",
    "    * estimer 2 modèles sur des échantillons differents\n",
    "      * modèle 1 →  TCZ * Polluted * Period\n",
    "      * modèle 2 → Target * polluted*Period  \n",
    "    * Idem tableau 8"
   ]
  },
  {
   "cell_type": "code",
   "execution_count": 1,
   "metadata": {
    "kernel": "SoS"
   },
   "outputs": [],
   "source": [
    "import pandas as pd\n",
    "from Fast_connectCloud import connector\n",
    "import numpy as np"
   ]
  },
  {
   "cell_type": "code",
   "execution_count": 2,
   "metadata": {
    "kernel": "python3"
   },
   "outputs": [],
   "source": [
    "import functions.latex_beautify as lb\n",
    "\n",
    "%load_ext autoreload\n",
    "%autoreload 2"
   ]
  },
  {
   "cell_type": "code",
   "execution_count": 3,
   "metadata": {
    "kernel": "SoS"
   },
   "outputs": [
    {
     "name": "stdout",
     "output_type": "stream",
     "text": [
      "Service account storage and Bigquery are now connected. \n",
      "Service account storage is stored as <google.cloud.storage.client.Client object at 0x123801250> and accessible with \"Storage_account\" \n",
      "Service account Bigquery is stored as <google.cloud.bigquery.client.Client object at 0x123811890> and accessible with \"bigquery_account\"\n"
     ]
    }
   ],
   "source": [
    "gs = connector.open_connection(online_connection = False,\n",
    "                              path_credential = '/Users/thomas/Google Drive/Projects/Client_Oauth/Google_auth')\n",
    "\n",
    "service = gs.connect_remote('GCP')"
   ]
  },
  {
   "cell_type": "code",
   "execution_count": 4,
   "metadata": {
    "kernel": "SoS"
   },
   "outputs": [
    {
     "data": {
      "text/html": [
       "<div>\n",
       "<style scoped>\n",
       "    .dataframe tbody tr th:only-of-type {\n",
       "        vertical-align: middle;\n",
       "    }\n",
       "\n",
       "    .dataframe tbody tr th {\n",
       "        vertical-align: top;\n",
       "    }\n",
       "\n",
       "    .dataframe thead th {\n",
       "        text-align: right;\n",
       "    }\n",
       "</style>\n",
       "<table border=\"1\" class=\"dataframe\">\n",
       "  <thead>\n",
       "    <tr style=\"text-align: right;\">\n",
       "      <th></th>\n",
       "      <th>year</th>\n",
       "      <th>Period</th>\n",
       "      <th>Province_en</th>\n",
       "      <th>Lower_location</th>\n",
       "      <th>Larger_location</th>\n",
       "      <th>Coastal</th>\n",
       "      <th>cityen</th>\n",
       "      <th>geocode4_corr</th>\n",
       "      <th>TCZ_c</th>\n",
       "      <th>target_c</th>\n",
       "      <th>effort_c</th>\n",
       "      <th>industry</th>\n",
       "      <th>ind2</th>\n",
       "      <th>Short</th>\n",
       "      <th>output_fcit</th>\n",
       "      <th>capital_fcit</th>\n",
       "      <th>labour_fcit</th>\n",
       "      <th>out_share_SOE</th>\n",
       "      <th>cap_share_SOE</th>\n",
       "      <th>lab_share_SOE</th>\n",
       "      <th>tso2_cit</th>\n",
       "      <th>tso2_i</th>\n",
       "      <th>tCOD_cit</th>\n",
       "      <th>twaste_water_cit</th>\n",
       "      <th>polluted_di</th>\n",
       "      <th>polluted_mi</th>\n",
       "      <th>polluted_thre</th>\n",
       "      <th>FE_c_i</th>\n",
       "      <th>FE_t_i</th>\n",
       "      <th>FE_t_c</th>\n",
       "    </tr>\n",
       "  </thead>\n",
       "  <tbody>\n",
       "    <tr>\n",
       "      <th>0</th>\n",
       "      <td>2002</td>\n",
       "      <td>Before</td>\n",
       "      <td>Shanxi</td>\n",
       "      <td>Central</td>\n",
       "      <td>Central</td>\n",
       "      <td>False</td>\n",
       "      <td>Yuncheng</td>\n",
       "      <td>1408</td>\n",
       "      <td>TCZ</td>\n",
       "      <td>0.485030</td>\n",
       "      <td>Above</td>\n",
       "      <td>3329</td>\n",
       "      <td>33</td>\n",
       "      <td>Smelting Non-ferrous Metals</td>\n",
       "      <td>0.000687</td>\n",
       "      <td>0.000293</td>\n",
       "      <td>0.00036</td>\n",
       "      <td>0.027567</td>\n",
       "      <td>0.221018</td>\n",
       "      <td>0.113467</td>\n",
       "      <td>24500</td>\n",
       "      <td>168934.454545</td>\n",
       "      <td>0.0</td>\n",
       "      <td>500</td>\n",
       "      <td>Above</td>\n",
       "      <td>Below</td>\n",
       "      <td>Above</td>\n",
       "      <td>11104</td>\n",
       "      <td>1573</td>\n",
       "      <td>889</td>\n",
       "    </tr>\n",
       "    <tr>\n",
       "      <th>1</th>\n",
       "      <td>2006</td>\n",
       "      <td>After</td>\n",
       "      <td>Hunan</td>\n",
       "      <td>Central</td>\n",
       "      <td>Central</td>\n",
       "      <td>False</td>\n",
       "      <td>Xiangtan</td>\n",
       "      <td>4303</td>\n",
       "      <td>TCZ</td>\n",
       "      <td>0.092754</td>\n",
       "      <td>Below</td>\n",
       "      <td>3329</td>\n",
       "      <td>33</td>\n",
       "      <td>Smelting Non-ferrous Metals</td>\n",
       "      <td>0.000950</td>\n",
       "      <td>0.000148</td>\n",
       "      <td>0.00023</td>\n",
       "      <td>0.027567</td>\n",
       "      <td>0.221018</td>\n",
       "      <td>0.113467</td>\n",
       "      <td>2304</td>\n",
       "      <td>168934.454545</td>\n",
       "      <td>0.0</td>\n",
       "      <td>300</td>\n",
       "      <td>Above</td>\n",
       "      <td>Below</td>\n",
       "      <td>Above</td>\n",
       "      <td>11105</td>\n",
       "      <td>1574</td>\n",
       "      <td>420</td>\n",
       "    </tr>\n",
       "    <tr>\n",
       "      <th>2</th>\n",
       "      <td>2007</td>\n",
       "      <td>After</td>\n",
       "      <td>Hunan</td>\n",
       "      <td>Central</td>\n",
       "      <td>Central</td>\n",
       "      <td>False</td>\n",
       "      <td>Xiangtan</td>\n",
       "      <td>4303</td>\n",
       "      <td>TCZ</td>\n",
       "      <td>0.092754</td>\n",
       "      <td>Below</td>\n",
       "      <td>3329</td>\n",
       "      <td>33</td>\n",
       "      <td>Smelting Non-ferrous Metals</td>\n",
       "      <td>0.001715</td>\n",
       "      <td>0.000365</td>\n",
       "      <td>0.00023</td>\n",
       "      <td>0.027567</td>\n",
       "      <td>0.221018</td>\n",
       "      <td>0.113467</td>\n",
       "      <td>2304</td>\n",
       "      <td>168934.454545</td>\n",
       "      <td>0.0</td>\n",
       "      <td>240</td>\n",
       "      <td>Above</td>\n",
       "      <td>Below</td>\n",
       "      <td>Above</td>\n",
       "      <td>11105</td>\n",
       "      <td>1572</td>\n",
       "      <td>421</td>\n",
       "    </tr>\n",
       "    <tr>\n",
       "      <th>3</th>\n",
       "      <td>2007</td>\n",
       "      <td>After</td>\n",
       "      <td>Liaoning</td>\n",
       "      <td>Northeast</td>\n",
       "      <td>Eastern</td>\n",
       "      <td>True</td>\n",
       "      <td>Jinzhou</td>\n",
       "      <td>2107</td>\n",
       "      <td>TCZ</td>\n",
       "      <td>0.080512</td>\n",
       "      <td>Below</td>\n",
       "      <td>3329</td>\n",
       "      <td>33</td>\n",
       "      <td>Smelting Non-ferrous Metals</td>\n",
       "      <td>0.007730</td>\n",
       "      <td>0.001296</td>\n",
       "      <td>0.00089</td>\n",
       "      <td>0.027567</td>\n",
       "      <td>0.221018</td>\n",
       "      <td>0.113467</td>\n",
       "      <td>3200</td>\n",
       "      <td>168934.454545</td>\n",
       "      <td>0.0</td>\n",
       "      <td>0</td>\n",
       "      <td>Above</td>\n",
       "      <td>Below</td>\n",
       "      <td>Above</td>\n",
       "      <td>11103</td>\n",
       "      <td>1572</td>\n",
       "      <td>287</td>\n",
       "    </tr>\n",
       "    <tr>\n",
       "      <th>4</th>\n",
       "      <td>2002</td>\n",
       "      <td>Before</td>\n",
       "      <td>Liaoning</td>\n",
       "      <td>Northeast</td>\n",
       "      <td>Eastern</td>\n",
       "      <td>True</td>\n",
       "      <td>Shenyang</td>\n",
       "      <td>2101</td>\n",
       "      <td>TCZ</td>\n",
       "      <td>0.230076</td>\n",
       "      <td>Above</td>\n",
       "      <td>3329</td>\n",
       "      <td>33</td>\n",
       "      <td>Smelting Non-ferrous Metals</td>\n",
       "      <td>0.000997</td>\n",
       "      <td>0.000052</td>\n",
       "      <td>0.00135</td>\n",
       "      <td>0.027567</td>\n",
       "      <td>0.221018</td>\n",
       "      <td>0.113467</td>\n",
       "      <td>3840</td>\n",
       "      <td>168934.454545</td>\n",
       "      <td>0.0</td>\n",
       "      <td>3500</td>\n",
       "      <td>Above</td>\n",
       "      <td>Below</td>\n",
       "      <td>Above</td>\n",
       "      <td>11106</td>\n",
       "      <td>1573</td>\n",
       "      <td>432</td>\n",
       "    </tr>\n",
       "  </tbody>\n",
       "</table>\n",
       "</div>"
      ],
      "text/plain": [
       "   year  Period Province_en  ... FE_c_i FE_t_i  FE_t_c\n",
       "0  2002  Before      Shanxi  ...  11104   1573     889\n",
       "1  2006   After       Hunan  ...  11105   1574     420\n",
       "2  2007   After       Hunan  ...  11105   1572     421\n",
       "3  2007   After    Liaoning  ...  11103   1572     287\n",
       "4  2002  Before    Liaoning  ...  11106   1573     432\n",
       "\n",
       "[5 rows x 30 columns]"
      ]
     },
     "execution_count": 4,
     "metadata": {},
     "output_type": "execute_result"
    }
   ],
   "source": [
    "%put df_final --to R\n",
    "\n",
    "from GoogleDrivePy.google_platform import connect_cloud_platform\n",
    "project = 'valid-pagoda-132423'\n",
    "gcp = connect_cloud_platform.connect_console(project = project, \n",
    "                                             service_account = service['GoogleCloudP'])    \n",
    "query = (\n",
    "          \"SELECT * \"\n",
    "            \"FROM China.SBC_pollution_China \"\n",
    "\n",
    "        )\n",
    "\n",
    "df_final = gcp.upload_data_from_bigquery(query = query, location = 'US')\n",
    "df_final.head()"
   ]
  },
  {
   "cell_type": "code",
   "execution_count": 5,
   "metadata": {
    "kernel": "R"
   },
   "outputs": [
    {
     "name": "stderr",
     "output_type": "stream",
     "text": [
      "── \u001b[1mAttaching packages\u001b[22m ─────────────────────────────────────── tidyverse 1.2.1 ──\n",
      "\u001b[32m✔\u001b[39m \u001b[34mggplot2\u001b[39m 3.0.0     \u001b[32m✔\u001b[39m \u001b[34mpurrr  \u001b[39m 0.3.3\n",
      "\u001b[32m✔\u001b[39m \u001b[34mtibble \u001b[39m 2.1.3     \u001b[32m✔\u001b[39m \u001b[34mdplyr  \u001b[39m 0.8.3\n",
      "\u001b[32m✔\u001b[39m \u001b[34mtidyr  \u001b[39m 1.0.0     \u001b[32m✔\u001b[39m \u001b[34mstringr\u001b[39m 1.4.0\n",
      "\u001b[32m✔\u001b[39m \u001b[34mreadr  \u001b[39m 1.3.1     \u001b[32m✔\u001b[39m \u001b[34mforcats\u001b[39m 0.4.0\n",
      "── \u001b[1mConflicts\u001b[22m ────────────────────────────────────────── tidyverse_conflicts() ──\n",
      "\u001b[31m✖\u001b[39m \u001b[34mdplyr\u001b[39m::\u001b[32mfilter()\u001b[39m masks \u001b[34mstats\u001b[39m::filter()\n",
      "\u001b[31m✖\u001b[39m \u001b[34mdplyr\u001b[39m::\u001b[32mlag()\u001b[39m    masks \u001b[34mstats\u001b[39m::lag()\n",
      "Loading required package: Matrix\n",
      "\n",
      "Attaching package: ‘Matrix’\n",
      "\n",
      "The following objects are masked from ‘package:tidyr’:\n",
      "\n",
      "    expand, pack, unpack\n",
      "\n",
      "\n",
      "Attaching package: ‘lazyeval’\n",
      "\n",
      "The following objects are masked from ‘package:purrr’:\n",
      "\n",
      "    is_atomic, is_formula\n",
      "\n",
      "\n",
      "Please cite as: \n",
      "\n",
      " Hlavac, Marek (2018). stargazer: Well-Formatted Regression and Summary Statistics Tables.\n",
      " R package version 5.2.2. https://CRAN.R-project.org/package=stargazer \n",
      "\n"
     ]
    }
   ],
   "source": [
    "options(warn=-1)\n",
    "library(tidyverse)\n",
    "library(lfe)\n",
    "library(lazyeval)\n",
    "library('progress')\n",
    "\n",
    "path = \"functions/SBC_pollution_R.R\"\n",
    "source(path)\n",
    "path = \"functions/SBC_pollutiuon_golatex.R\"\n",
    "source(path)"
   ]
  },
  {
   "cell_type": "code",
   "execution_count": 6,
   "metadata": {
    "kernel": "R"
   },
   "outputs": [
    {
     "data": {
      "text/html": [
       "<table>\n",
       "<caption>A data.frame: 6 × 30</caption>\n",
       "<thead>\n",
       "\t<tr><th scope=col>year</th><th scope=col>Period</th><th scope=col>Province_en</th><th scope=col>Lower_location</th><th scope=col>Larger_location</th><th scope=col>Coastal</th><th scope=col>cityen</th><th scope=col>geocode4_corr</th><th scope=col>TCZ_c</th><th scope=col>target_c</th><th scope=col>⋯</th><th scope=col>tso2_cit</th><th scope=col>tso2_i</th><th scope=col>tCOD_cit</th><th scope=col>twaste_water_cit</th><th scope=col>polluted_di</th><th scope=col>polluted_mi</th><th scope=col>polluted_thre</th><th scope=col>FE_c_i</th><th scope=col>FE_t_i</th><th scope=col>FE_t_c</th></tr>\n",
       "\t<tr><th scope=col>&lt;dbl&gt;</th><th scope=col>&lt;fct&gt;</th><th scope=col>&lt;fct&gt;</th><th scope=col>&lt;fct&gt;</th><th scope=col>&lt;fct&gt;</th><th scope=col>&lt;lgl&gt;</th><th scope=col>&lt;fct&gt;</th><th scope=col>&lt;dbl&gt;</th><th scope=col>&lt;fct&gt;</th><th scope=col>&lt;dbl&gt;</th><th scope=col>⋯</th><th scope=col>&lt;dbl&gt;</th><th scope=col>&lt;dbl&gt;</th><th scope=col>&lt;dbl&gt;</th><th scope=col>&lt;dbl&gt;</th><th scope=col>&lt;fct&gt;</th><th scope=col>&lt;fct&gt;</th><th scope=col>&lt;fct&gt;</th><th scope=col>&lt;fct&gt;</th><th scope=col>&lt;fct&gt;</th><th scope=col>&lt;fct&gt;</th></tr>\n",
       "</thead>\n",
       "<tbody>\n",
       "\t<tr><td>2002</td><td>Before</td><td>Shanxi   </td><td>Central  </td><td>Central</td><td>FALSE</td><td>Yuncheng</td><td>1408</td><td>TCZ   </td><td>0.48502998</td><td>⋯</td><td>24500</td><td>168934.5</td><td>    0</td><td>   500</td><td>Above</td><td>Below</td><td>Above</td><td>11104</td><td>1573</td><td>889</td></tr>\n",
       "\t<tr><td>2006</td><td>After </td><td>Hunan    </td><td>Central  </td><td>Central</td><td>FALSE</td><td>Xiangtan</td><td>4303</td><td>TCZ   </td><td>0.09275420</td><td>⋯</td><td> 2304</td><td>168934.5</td><td>    0</td><td>   300</td><td>Above</td><td>Below</td><td>Above</td><td>11105</td><td>1574</td><td>420</td></tr>\n",
       "\t<tr><td>2007</td><td>After </td><td>Hunan    </td><td>Central  </td><td>Central</td><td>FALSE</td><td>Xiangtan</td><td>4303</td><td>TCZ   </td><td>0.09275420</td><td>⋯</td><td> 2304</td><td>168934.5</td><td>    0</td><td>   240</td><td>Above</td><td>Below</td><td>Above</td><td>11105</td><td>1572</td><td>421</td></tr>\n",
       "\t<tr><td>2007</td><td>After </td><td>Liaoning </td><td>Northeast</td><td>Eastern</td><td> TRUE</td><td>Jinzhou </td><td>2107</td><td>TCZ   </td><td>0.08051164</td><td>⋯</td><td> 3200</td><td>168934.5</td><td>    0</td><td>     0</td><td>Above</td><td>Below</td><td>Above</td><td>11103</td><td>1572</td><td>287</td></tr>\n",
       "\t<tr><td>2002</td><td>Before</td><td>Liaoning </td><td>Northeast</td><td>Eastern</td><td> TRUE</td><td>Shenyang</td><td>2101</td><td>TCZ   </td><td>0.23007570</td><td>⋯</td><td> 3840</td><td>168934.5</td><td>    0</td><td>  3500</td><td>Above</td><td>Below</td><td>Above</td><td>11106</td><td>1573</td><td>432</td></tr>\n",
       "\t<tr><td>2002</td><td>Before</td><td>Guangdong</td><td>Coastal  </td><td>Eastern</td><td> TRUE</td><td>Meizhou </td><td>4414</td><td>No_TCZ</td><td>0.02596999</td><td>⋯</td><td>72752</td><td>168934.5</td><td>15500</td><td>115000</td><td>Above</td><td>Below</td><td>Above</td><td>11107</td><td>1573</td><td>909</td></tr>\n",
       "</tbody>\n",
       "</table>\n"
      ],
      "text/latex": [
       "A data.frame: 6 × 30\n",
       "\\begin{tabular}{r|llllllllllllllllllllllllllllll}\n",
       " year & Period & Province\\_en & Lower\\_location & Larger\\_location & Coastal & cityen & geocode4\\_corr & TCZ\\_c & target\\_c & effort\\_c & industry & ind2 & Short & output\\_fcit & capital\\_fcit & labour\\_fcit & out\\_share\\_SOE & cap\\_share\\_SOE & lab\\_share\\_SOE & tso2\\_cit & tso2\\_i & tCOD\\_cit & twaste\\_water\\_cit & polluted\\_di & polluted\\_mi & polluted\\_thre & FE\\_c\\_i & FE\\_t\\_i & FE\\_t\\_c\\\\\n",
       " <dbl> & <fct> & <fct> & <fct> & <fct> & <lgl> & <fct> & <dbl> & <fct> & <dbl> & <fct> & <dbl> & <dbl> & <fct> & <dbl> & <dbl> & <dbl> & <dbl> & <dbl> & <dbl> & <dbl> & <dbl> & <dbl> & <dbl> & <fct> & <fct> & <fct> & <fct> & <fct> & <fct>\\\\\n",
       "\\hline\n",
       "\t 2002 & Before & Shanxi    & Central   & Central & FALSE & Yuncheng & 1408 & TCZ    & 0.48502998 & Above & 3329 & 33 & Smelting Non-ferrous Metals & 0.0006870 & 0.0002926 & 0.00036 & 0.02756701 & 0.2210178 & 0.1134672 & 24500 & 168934.5 &     0 &    500 & Above & Below & Above & 11104 & 1573 & 889\\\\\n",
       "\t 2006 & After  & Hunan     & Central   & Central & FALSE & Xiangtan & 4303 & TCZ    & 0.09275420 & Below & 3329 & 33 & Smelting Non-ferrous Metals & 0.0009500 & 0.0001481 & 0.00023 & 0.02756701 & 0.2210178 & 0.1134672 &  2304 & 168934.5 &     0 &    300 & Above & Below & Above & 11105 & 1574 & 420\\\\\n",
       "\t 2007 & After  & Hunan     & Central   & Central & FALSE & Xiangtan & 4303 & TCZ    & 0.09275420 & Below & 3329 & 33 & Smelting Non-ferrous Metals & 0.0017150 & 0.0003650 & 0.00023 & 0.02756701 & 0.2210178 & 0.1134672 &  2304 & 168934.5 &     0 &    240 & Above & Below & Above & 11105 & 1572 & 421\\\\\n",
       "\t 2007 & After  & Liaoning  & Northeast & Eastern &  TRUE & Jinzhou  & 2107 & TCZ    & 0.08051164 & Below & 3329 & 33 & Smelting Non-ferrous Metals & 0.0077300 & 0.0012959 & 0.00089 & 0.02756701 & 0.2210178 & 0.1134672 &  3200 & 168934.5 &     0 &      0 & Above & Below & Above & 11103 & 1572 & 287\\\\\n",
       "\t 2002 & Before & Liaoning  & Northeast & Eastern &  TRUE & Shenyang & 2101 & TCZ    & 0.23007570 & Above & 3329 & 33 & Smelting Non-ferrous Metals & 0.0009967 & 0.0000516 & 0.00135 & 0.02756701 & 0.2210178 & 0.1134672 &  3840 & 168934.5 &     0 &   3500 & Above & Below & Above & 11106 & 1573 & 432\\\\\n",
       "\t 2002 & Before & Guangdong & Coastal   & Eastern &  TRUE & Meizhou  & 4414 & No\\_TCZ & 0.02596999 & Below & 3329 & 33 & Smelting Non-ferrous Metals & 0.0002903 & 0.0013790 & 0.00125 & 0.02756701 & 0.2210178 & 0.1134672 & 72752 & 168934.5 & 15500 & 115000 & Above & Below & Above & 11107 & 1573 & 909\\\\\n",
       "\\end{tabular}\n"
      ],
      "text/markdown": [
       "\n",
       "A data.frame: 6 × 30\n",
       "\n",
       "| year &lt;dbl&gt; | Period &lt;fct&gt; | Province_en &lt;fct&gt; | Lower_location &lt;fct&gt; | Larger_location &lt;fct&gt; | Coastal &lt;lgl&gt; | cityen &lt;fct&gt; | geocode4_corr &lt;dbl&gt; | TCZ_c &lt;fct&gt; | target_c &lt;dbl&gt; | ⋯ ⋯ | tso2_cit &lt;dbl&gt; | tso2_i &lt;dbl&gt; | tCOD_cit &lt;dbl&gt; | twaste_water_cit &lt;dbl&gt; | polluted_di &lt;fct&gt; | polluted_mi &lt;fct&gt; | polluted_thre &lt;fct&gt; | FE_c_i &lt;fct&gt; | FE_t_i &lt;fct&gt; | FE_t_c &lt;fct&gt; |\n",
       "|---|---|---|---|---|---|---|---|---|---|---|---|---|---|---|---|---|---|---|---|---|\n",
       "| 2002 | Before | Shanxi    | Central   | Central | FALSE | Yuncheng | 1408 | TCZ    | 0.48502998 | ⋯ | 24500 | 168934.5 |     0 |    500 | Above | Below | Above | 11104 | 1573 | 889 |\n",
       "| 2006 | After  | Hunan     | Central   | Central | FALSE | Xiangtan | 4303 | TCZ    | 0.09275420 | ⋯ |  2304 | 168934.5 |     0 |    300 | Above | Below | Above | 11105 | 1574 | 420 |\n",
       "| 2007 | After  | Hunan     | Central   | Central | FALSE | Xiangtan | 4303 | TCZ    | 0.09275420 | ⋯ |  2304 | 168934.5 |     0 |    240 | Above | Below | Above | 11105 | 1572 | 421 |\n",
       "| 2007 | After  | Liaoning  | Northeast | Eastern |  TRUE | Jinzhou  | 2107 | TCZ    | 0.08051164 | ⋯ |  3200 | 168934.5 |     0 |      0 | Above | Below | Above | 11103 | 1572 | 287 |\n",
       "| 2002 | Before | Liaoning  | Northeast | Eastern |  TRUE | Shenyang | 2101 | TCZ    | 0.23007570 | ⋯ |  3840 | 168934.5 |     0 |   3500 | Above | Below | Above | 11106 | 1573 | 432 |\n",
       "| 2002 | Before | Guangdong | Coastal   | Eastern |  TRUE | Meizhou  | 4414 | No_TCZ | 0.02596999 | ⋯ | 72752 | 168934.5 | 15500 | 115000 | Above | Below | Above | 11107 | 1573 | 909 |\n",
       "\n"
      ],
      "text/plain": [
       "  year Period Province_en Lower_location Larger_location Coastal cityen  \n",
       "1 2002 Before Shanxi      Central        Central         FALSE   Yuncheng\n",
       "2 2006 After  Hunan       Central        Central         FALSE   Xiangtan\n",
       "3 2007 After  Hunan       Central        Central         FALSE   Xiangtan\n",
       "4 2007 After  Liaoning    Northeast      Eastern          TRUE   Jinzhou \n",
       "5 2002 Before Liaoning    Northeast      Eastern          TRUE   Shenyang\n",
       "6 2002 Before Guangdong   Coastal        Eastern          TRUE   Meizhou \n",
       "  geocode4_corr TCZ_c  target_c   ⋯ tso2_cit tso2_i   tCOD_cit twaste_water_cit\n",
       "1 1408          TCZ    0.48502998 ⋯ 24500    168934.5     0       500          \n",
       "2 4303          TCZ    0.09275420 ⋯  2304    168934.5     0       300          \n",
       "3 4303          TCZ    0.09275420 ⋯  2304    168934.5     0       240          \n",
       "4 2107          TCZ    0.08051164 ⋯  3200    168934.5     0         0          \n",
       "5 2101          TCZ    0.23007570 ⋯  3840    168934.5     0      3500          \n",
       "6 4414          No_TCZ 0.02596999 ⋯ 72752    168934.5 15500    115000          \n",
       "  polluted_di polluted_mi polluted_thre FE_c_i FE_t_i FE_t_c\n",
       "1 Above       Below       Above         11104  1573   889   \n",
       "2 Above       Below       Above         11105  1574   420   \n",
       "3 Above       Below       Above         11105  1572   421   \n",
       "4 Above       Below       Above         11103  1572   287   \n",
       "5 Above       Below       Above         11106  1573   432   \n",
       "6 Above       Below       Above         11107  1573   909   "
      ]
     },
     "metadata": {},
     "output_type": "display_data"
    }
   ],
   "source": [
    "df_final <- df_final %>% \n",
    "    mutate_if(is.character, as.factor) %>%\n",
    "    mutate_at(vars(starts_with(\"FE\")), as.factor) %>%\n",
    "    mutate(\n",
    "         Period = relevel(Period, ref='Before'),\n",
    "         TCZ_c = relevel(TCZ_c, ref='No_TCZ'),\n",
    "         effort_c = relevel(effort_c, ref='Below'),\n",
    "         polluted_di = relevel(polluted_di, ref='Below'),\n",
    "         polluted_mi = relevel(polluted_mi, ref='Below'),\n",
    "         polluted_thre = relevel(polluted_thre, ref='Below'),\n",
    "  )\n",
    "head(df_final)"
   ]
  },
  {
   "cell_type": "markdown",
   "metadata": {
    "kernel": "R"
   },
   "source": [
    "# Partie 3"
   ]
  },
  {
   "cell_type": "markdown",
   "metadata": {
    "collapsed": "true",
    "kernel": "R"
   },
   "source": [
    "## Tableau 4: Kuznet: benchmark \n",
    "\n",
    "Output latex table available here\n",
    "\n",
    "- https://www.overleaf.com/project/5deca0097e9f3a0001506527\n",
    "    - Temp_tables_revision/06_new_tables/01_kuznet\n",
    "\n",
    "In Google Drive:\n",
    "\n",
    "![](https://drive.google.com/uc?export=view&id=)\n",
    "\n",
    "Note, we download the file `df_TCZ_list_china` from Google spreadsheet because SOS kernel has trouble loading the json file to connect to the remote."
   ]
  },
  {
   "cell_type": "code",
   "execution_count": null,
   "metadata": {
    "kernel": "python3"
   },
   "outputs": [],
   "source": [
    "from Fast_connectCloud import connector\n",
    "from GoogleDrivePy.google_drive import connect_drive\n",
    "import pandas as pd\n",
    "\n",
    "gs = connector.open_connection(online_connection = False, \n",
    "\tpath_credential = '/Users/thomas/Google Drive/Projects/Client_Oauth/Google_auth/')\n",
    "\n",
    "service_gd = gs.connect_remote(engine = 'GS')\n",
    "\n",
    "gdr = connect_drive.connect_drive(service_gd['GoogleDrive'])"
   ]
  },
  {
   "cell_type": "markdown",
   "metadata": {
    "kernel": "R"
   },
   "source": [
    "### Load chinese_city_characteristics from Google Spreadsheet\n",
    "\n",
    "Feel free to add description about the dataset or any usefull information.\n",
    "\n",
    "Profiling will be available soon for this dataset"
   ]
  },
  {
   "cell_type": "code",
   "execution_count": null,
   "metadata": {
    "kernel": "python3"
   },
   "outputs": [],
   "source": [
    "# Please go here https://docs.google.com/spreadsheets/d/1-x9DCX4cun6Ed9iH5MiI4g21fXm7seRHHz7WXGiVKVU\n",
    "# To change the range\n",
    "\n",
    "sheetid = \"1-x9DCX4cun6Ed9iH5MiI4g21fXm7seRHHz7WXGiVKVU\"\n",
    "sheetname = \"chinese_city_characteristics\"\n",
    "\n",
    "df_chinese_city_characteristics = (gdr.upload_data_from_spreadsheet(\n",
    "    sheetID=sheetid, sheetName=sheetname, to_dataframe=True\n",
    ").loc[\n",
    "    lambda x: x[\"year\"].isin(\n",
    "        [\"2001\", \"2002\", \"2003\", \"2004\", \"2005\", \"2006\"])\n",
    "][\n",
    "    [\"cityen\", \"geocode4_corr\", \"year\", \"gdp\", \"population\"]\n",
    "].rename(columns={'year': 'year_lagged'})\n",
    "    .apply(pd.to_numeric, errors='ignore')\n",
    "    .assign(year=lambda x:\n",
    "            x['year_lagged'] + 1,\n",
    "            gdp_cap=lambda x: x['gdp'] / x['population']\n",
    "            )\n",
    ").to_csv('df_chinese_city_characteristics.csv', index = False)"
   ]
  },
  {
   "cell_type": "code",
   "execution_count": null,
   "metadata": {
    "kernel": "R"
   },
   "outputs": [],
   "source": [
    "df_chinese_city_characteristics = read_csv('df_chinese_city_characteristics.csv') %>% \n",
    "select(-cityen) %>%\n",
    "left_join(df_final, by = c('year', 'geocode4_corr')) %>%\n",
    "mutate(\n",
    "    ln_gdp_cap= log(gdp_cap),\n",
    "    ln_gdp_cap_sqred = ln_gdp_cap * ln_gdp_cap,\n",
    "    ln_pop = log(population)\n",
    ")"
   ]
  },
  {
   "cell_type": "code",
   "execution_count": null,
   "metadata": {
    "kernel": "R"
   },
   "outputs": [],
   "source": [
    "### Low FE\n",
    "t0 <- felm(formula=log(tso2_cit) ~ \n",
    "           TCZ_c * Period *polluted_thre * out_share_SOE\n",
    "          + ln_gdp_cap\n",
    "          + ln_gdp_cap_sqred\n",
    "          + ln_pop\n",
    "          + output_fcit + capital_fcit + labour_fcit\n",
    "                  |\n",
    "             cityen +  year + industry | 0 |\n",
    "             industry, data= df_chinese_city_characteristics,\n",
    "             exactDOF=TRUE)\n",
    "\n",
    "t1 <- felm(formula=log(tso2_cit) ~ TCZ_c * Period *polluted_thre * cap_share_SOE\n",
    "           + ln_gdp_cap\n",
    "           + ln_gdp_cap_sqred\n",
    "           + ln_pop\n",
    "           + output_fcit + capital_fcit + labour_fcit\n",
    "                  |\n",
    "             cityen +  year + industry | 0 |\n",
    "             industry, data= df_chinese_city_characteristics,\n",
    "             exactDOF=TRUE)\n",
    "\n",
    "t2 <- felm(formula=log(tso2_cit) ~ TCZ_c * Period *polluted_thre * lab_share_SOE\n",
    "          + ln_gdp_cap\n",
    "           + ln_gdp_cap_sqred\n",
    "           + ln_pop\n",
    "           + output_fcit + capital_fcit + labour_fcit\n",
    "                  |\n",
    "             cityen +  year + industry | 0 |\n",
    "             industry, data= df_chinese_city_characteristics,\n",
    "             exactDOF=TRUE)"
   ]
  },
  {
   "cell_type": "code",
   "execution_count": null,
   "metadata": {
    "kernel": "python3"
   },
   "outputs": [],
   "source": [
    "import os\n",
    "decile=['& Output','Capital', 'Labour'#,\n",
    "        #'Output','Capital', 'Labour'\n",
    "       ]\n",
    "try:\n",
    "    os.remove(\"table_1.txt\")\n",
    "except:\n",
    "    pass\n",
    "try:\n",
    "    os.remove(\"table_1.tex\")\n",
    "except:\n",
    "    pass"
   ]
  },
  {
   "cell_type": "code",
   "execution_count": null,
   "metadata": {
    "kernel": "R"
   },
   "outputs": [],
   "source": [
    "test <- list(t0, t1, t2)\n",
    "turning = c()\n",
    "turning_dol = c()\n",
    "for (c in test){\n",
    "   turning <- append(turning, round(exp(abs(c$beta[5] / (2 * c$beta[6]))), 0))\n",
    "    turning_dol <- append(turning_dol, round(exp(abs(c$beta[5] / (2 * c$beta[6])))/8.07,0))\n",
    "}\n",
    "\n",
    "fe1 <- list(\n",
    "    c('turning point RMB', turning),\n",
    "    c('turning point Dollar', turning_dol),\n",
    "    c(\"City fixed effects\", \"Yes\", \"Yes\", \"Yes\"),\n",
    "    c(\"Industry fixed effects\", \"Yes\", \"Yes\", \"Yes\"),\n",
    "    c(\"Yes fixed effects\",\"Yes\", \"Yes\", \"Yes\", \"No\")\n",
    ")\n",
    "\n",
    "table_1 <- go_latex(\n",
    "    test,\n",
    "    dep_var = \"Dependent variable: \\\\text { SO2 emission }_{i k t}\",\n",
    "    title=\"Kuznet Curve hypothesis\",\n",
    "    addFE=fe1,\n",
    "    save=TRUE,\n",
    "                    note = FALSE,\n",
    "    name=\"table_1.txt\"\n",
    ")"
   ]
  },
  {
   "cell_type": "code",
   "execution_count": null,
   "metadata": {
    "kernel": "python3"
   },
   "outputs": [],
   "source": [
    "tb = \"\"\"\\\\footnotesize{\n",
    "Due to limited space, only the coefficients of interest are presented \n",
    "for the regressions with city,industry, year fixed effect (i.e. columns 1-3).\n",
    "\\sym{*} Significance at the 10\\%, \\sym{**} Significance at the 5\\%, \\sym{***} Significance at the 1\\% \\\\\n",
    "heteroscedasticity-robust standard errors in parentheses are clustered by city \n",
    "}\n",
    "\"\"\"\n",
    "lb.beautify(table_number = 1,\n",
    "            remove_control= True,\n",
    "            constraint = True,\n",
    "            city_industry = False, \n",
    "            new_row = decile,\n",
    "            table_nte =tb)\n",
    "\n",
    "#try:\n",
    "#    os.remove(\"df_TCZ_list_china.csv\")\n",
    "#except:\n",
    "#    pass"
   ]
  },
  {
   "cell_type": "markdown",
   "metadata": {
    "kernel": "python3"
   },
   "source": [
    "# Partie 6"
   ]
  },
  {
   "cell_type": "markdown",
   "metadata": {
    "kernel": "python3"
   },
   "source": [
    "## Tableau 8 A and B \n",
    "\n",
    "Estimate the following models using different subsamples:\n",
    "\n",
    "### Model A \n",
    "\n",
    "$$\n",
    "Log SO2 emission _{i k t}=\\alpha\\left(\\text { Period } \\times \\text { TCZ }_{i} \\times \\text { Polluting sectors }_{k}\\right)+\\nu_{i k}+\\lambda_{i t}+\\phi_{k t}+\\epsilon_{i k t}\n",
    "$$\n",
    "\n",
    "### Model B\n",
    "\n",
    "$$\n",
    "Log SO2 emission _{i k t}=\\alpha\\left(\\text { Period } \\times \\text { Target }_{i} \\times \\text { Polluting sectors }_{k}\\right)+\\nu_{i k}+\\lambda_{i t}+\\phi_{k t}+\\epsilon_{i k t}\n",
    "$$\n",
    "\n",
    "* Size\n",
    "    * Via Herfhindal \n",
    "        * benchmark →Revision\n",
    "* Foreign \n",
    "    * via output/capital/employment \n",
    "* SOEs\n",
    "    * via output/capital/employment \n",
    "* SPZ\n",
    "* Coastal"
   ]
  },
  {
   "cell_type": "markdown",
   "metadata": {
    "kernel": "python3"
   },
   "source": [
    "## Load Data"
   ]
  },
  {
   "cell_type": "markdown",
   "metadata": {
    "kernel": "python3"
   },
   "source": [
    "### Compute Herfhindal: proxy Size\n",
    "\n",
    "$$\n",
    "H=\\sum_{i=1}^{N} s_{ci}^{2}\n",
    "$$\n",
    "\n",
    "where $s_i$ is the market share of firm $i$ in the market, and $N$ is the number of firms. \n",
    "\n",
    "We proceed as follow:\n",
    "- Step 1: Compute the share [output, capital, employment] by firm-industry: `market_share_fit`\n",
    "- Step 2: compute the sum of squared market share by industry: `Herfindahl_it`\n",
    "- Step 3: Compute the average across time: `Herfindahl_i`\n",
    "- Step 4: Compute the deciles of step 3: `decile_herfhindal_i`\n",
    "    - Low decile implies a low concentration within sectors\n",
    "    - High decile implies a high concentration within sectors"
   ]
  },
  {
   "cell_type": "code",
   "execution_count": 7,
   "metadata": {
    "kernel": "SoS"
   },
   "outputs": [
    {
     "data": {
      "text/plain": [
       "1     6425\n",
       "2     6400\n",
       "3     6378\n",
       "4     6346\n",
       "5     6321\n",
       "6     6289\n",
       "7     6262\n",
       "8     6235\n",
       "9     6201\n",
       "10    6170\n",
       "Name: decile_herfhindal_c, dtype: int64"
      ]
     },
     "execution_count": 7,
     "metadata": {},
     "output_type": "execute_result"
    }
   ],
   "source": [
    "query = \"\"\"\n",
    "WITH data AS (\n",
    "  SELECT id, geocode4_corr, cic, output, year\n",
    "  FROM China.asif_firm_china \n",
    "  WHERE year >= 2002 AND year <= 2005\n",
    ") \n",
    "SELECT * \n",
    "FROM \n",
    "  (WITH sum_cit AS (\n",
    "    SELECT geocode4_corr, cic, SUM(output) as sum_o_cit, year\n",
    "    FROM China.asif_firm_china\n",
    "    WHERE year >= 2002 AND year <= 2005\n",
    "    GROUP BY year, geocode4_corr, cic\n",
    ")\n",
    "SELECT *\n",
    "FROM\n",
    "  (WITH ms_fcit AS (\n",
    "    SELECT  data.id, data.cic, data.geocode4_corr, data.year,\n",
    "    data.output/NULLIF(sum_cit.sum_o_cit, 0) as market_share_fcit\n",
    "    FROM data\n",
    "    LEFT JOIN sum_cit\n",
    "ON (\n",
    "data.year = sum_cit.year AND \n",
    "data.cic = sum_cit.cic AND \n",
    "data.geocode4_corr = sum_cit.geocode4_corr\n",
    ")\n",
    ")\n",
    "SELECT *\n",
    "FROM\n",
    "  (WITH agg_1 AS (\n",
    "SELECT cic, geocode4_corr, SUM(POW(market_share_fcit, 2)) as Herfindahl_cit,\n",
    "year\n",
    "FROM ms_fcit\n",
    "GROUP BY year, cic, geocode4_corr\n",
    "ORDER BY year, geocode4_corr\t, cic \n",
    ")\n",
    "SELECT *\n",
    "FROM (\n",
    "WITH avg_H_ci AS (\n",
    "SELECT cic, geocode4_corr, AVG(Herfindahl_cit) as Herfindahl_ci\n",
    "FROM agg_1\n",
    "GROUP BY cic, geocode4_corr\n",
    ")\n",
    "SELECT cic as industry,geocode4_corr, Herfindahl_ci ,\n",
    "NTILE(10)  OVER (PARTITION BY geocode4_corr ORDER BY Herfindahl_ci) as\n",
    "decile_herfhindal_c\n",
    "FROM avg_H_ci\n",
    "ORDER BY Herfindahl_ci\n",
    "))))\n",
    "\"\"\"\n",
    "df_herfhindal = gcp.upload_data_from_bigquery(query = query,\n",
    "                                         location = 'US')\n",
    "df_herfhindal['decile_herfhindal_c'].value_counts()"
   ]
  },
  {
   "cell_type": "markdown",
   "metadata": {
    "kernel": "SoS"
   },
   "source": [
    "### Compute Ownership: proxy Foreign/SOE\n",
    "\n",
    "$$\\sum output_{cio}/ \\sum output_ci$$\n",
    "\n",
    "- with $i$ stands for industry\n",
    "- with $c$ stands for city\n",
    "- $o$ stands for ownership (Foreign vs Domestic or SOE vs private)\n",
    "\n"
   ]
  },
  {
   "cell_type": "markdown",
   "metadata": {
    "kernel": "SoS"
   },
   "source": [
    "#### Foreign vs domestic\n",
    "\n",
    "We proceed as follow:\n",
    "- Step 1: Compute the share [output, capital, employment] by industry, ownership (Foreign/Domestic): `Share_io`\n",
    "- Step 2: Compute the deciles of step 1 `Share_io`\n",
    "- Step 3: filter on Foreign\n",
    "    - Low decile implies sector high share of domestic firms\n",
    "    - High decile implies a high share of foreign firms"
   ]
  },
  {
   "cell_type": "code",
   "execution_count": 8,
   "metadata": {
    "kernel": "SoS"
   },
   "outputs": [
    {
     "data": {
      "text/plain": [
       "1     7600\n",
       "2     7571\n",
       "3     7545\n",
       "4     7512\n",
       "5     7480\n",
       "6     7460\n",
       "7     7425\n",
       "8     7397\n",
       "9     7370\n",
       "10    7340\n",
       "Name: rank_share_output_ci, dtype: int64"
      ]
     },
     "execution_count": 8,
     "metadata": {},
     "output_type": "execute_result"
    }
   ],
   "source": [
    "query_share_foreign = \"\"\" \n",
    "WITH sum_cio AS (\n",
    "  SELECT \n",
    "    case WHEN ownership = 'Foreign' THEN 'FOREIGN' ELSE 'DOMESTIC' END AS OWNERSHIP, \n",
    "    SUM(output / 10000000) as output_cio, \n",
    "    SUM(fa_net / 10000000) as fa_net_cio, \n",
    "    SUM(employment / 100000) as employment_cio,\n",
    "    cic,\n",
    "    geocode4_corr\n",
    "  FROM \n",
    "    China.asif_firm_china \n",
    "  WHERE \n",
    "    year >= 2002 \n",
    "    AND year < 2006 \n",
    "    AND output > 0 \n",
    "    AND fa_net > 0 \n",
    "    AND employment > 0 \n",
    "  GROUP BY \n",
    "    OWNERSHIP, \n",
    "    cic,\n",
    "    geocode4_corr\n",
    ") \n",
    "SELECT \n",
    "  * \n",
    "FROM \n",
    "  (\n",
    "    WITH sum_ci AS(\n",
    "      SELECT \n",
    "        SUM(output_cio) as output_ci, \n",
    "        SUM(fa_net_cio) as fa_net_ci, \n",
    "        SUM(employment_cio) as employment_ci, \n",
    "        cic AS cic_b,\n",
    "        geocode4_corr AS geocode4_corr_b\n",
    "      FROM \n",
    "        sum_cio \n",
    "      GROUP BY \n",
    "        cic,\n",
    "        geocode4_corr\n",
    "    ) \n",
    "    SELECT \n",
    "      * \n",
    "    FROM \n",
    "      (\n",
    "        WITH share_cio AS(\n",
    "          SELECT \n",
    "            OWNERSHIP, \n",
    "            output_cio / output_ci AS share_output_cio, \n",
    "            fa_net_cio / fa_net_ci AS share_fa_net_cio, \n",
    "            employment_cio / employment_ci AS share_employement_cio, \n",
    "            cic,\n",
    "            geocode4_corr\n",
    "          FROM \n",
    "            sum_cio \n",
    "            LEFT JOIN sum_ci ON sum_cio.cic = sum_ci.cic_b AND\n",
    "            sum_cio.geocode4_corr = sum_ci.geocode4_corr_b\n",
    "        ) \n",
    "        SELECT \n",
    "        * \n",
    "        FROM(\n",
    "        WITH decile_ci AS (\n",
    "        SELECT \n",
    "        cic as industry,\n",
    "        geocode4_corr,\n",
    "        OWNERSHIP,  \n",
    "        NTILE(10)  OVER (PARTITION BY geocode4_corr ORDER BY share_output_cio) \n",
    "          as rank_share_output_ci,\n",
    "          NTILE(10)  OVER (PARTITION BY geocode4_corr ORDER BY share_fa_net_cio) \n",
    "          as rank_share_capital_ci,\n",
    "          NTILE(10)  OVER (PARTITION BY geocode4_corr ORDER BY share_employement_cio) \n",
    "          as rank_share_employement_ci,\n",
    "          share_output_cio, share_fa_net_cio, share_employement_cio\n",
    "        FROM share_cio\n",
    "        ORDER BY geocode4_corr, industry\n",
    "        )\n",
    "        SELECT * \n",
    "        FROM decile_ci \n",
    "        )\n",
    "        )\n",
    "        )\n",
    "\"\"\"\n",
    "df_share_foreign = gcp.upload_data_from_bigquery(query = query_share_foreign,\n",
    "                                         location = 'US')\n",
    "df_share_foreign['rank_share_output_ci'].value_counts()"
   ]
  },
  {
   "cell_type": "code",
   "execution_count": 9,
   "metadata": {
    "kernel": "SoS"
   },
   "outputs": [],
   "source": [
    "df_share_foreign = (df_share_foreign\n",
    " .set_index(['industry', 'geocode4_corr', 'OWNERSHIP'])\n",
    " .drop(columns = ['rank_share_output_ci',\n",
    "                  'rank_share_capital_ci',\n",
    "                  'rank_share_employement_ci'])\n",
    " .unstack(-1)\n",
    " .fillna(0)\n",
    " .assign(\n",
    " foreign_output = lambda x: np.where(\n",
    "     x.iloc[:,1] > x.iloc[:,0],\n",
    "     'Above', 'Below'\n",
    " ),\n",
    "     foreign_capital = lambda x: np.where(\n",
    "     x.iloc[:,1] > x.iloc[:,0],\n",
    "     'Above', 'Below'\n",
    " ),\n",
    "     foreign_employment = lambda x: np.where(\n",
    "     x.iloc[:,1] > x.iloc[:,0],\n",
    "     'Above', 'Below'\n",
    " )\n",
    " )\n",
    " .iloc[:, -3:]\n",
    " .droplevel(level = 1, axis = 1)\n",
    " .reset_index()\n",
    ")"
   ]
  },
  {
   "cell_type": "markdown",
   "metadata": {
    "kernel": "SoS"
   },
   "source": [
    "#### SOE\n",
    "\n",
    "We proceed as follow:\n",
    "- Step 1: Compute the share [output, capital, employment] by industry, ownership (SOE/Private): `Share_io`\n",
    "- Step 2: Compute the deciles of step 1 `Share_io`\n",
    "- Step 3: filter on Foreign\n",
    "    - Low decile implies sector high share of SOE firms\n",
    "    - High decile implies a high share of Private firms"
   ]
  },
  {
   "cell_type": "code",
   "execution_count": 10,
   "metadata": {
    "kernel": "SoS"
   },
   "outputs": [
    {
     "data": {
      "text/plain": [
       "1     7667\n",
       "2     7635\n",
       "3     7610\n",
       "4     7576\n",
       "5     7542\n",
       "6     7518\n",
       "7     7498\n",
       "8     7468\n",
       "9     7443\n",
       "10    7418\n",
       "Name: rank_share_output_ci, dtype: int64"
      ]
     },
     "execution_count": 10,
     "metadata": {},
     "output_type": "execute_result"
    }
   ],
   "source": [
    "query_share_soe = \"\"\" \n",
    "WITH sum_cio AS (\n",
    "  SELECT \n",
    "    case WHEN ownership = 'SOE' THEN 'SOE' ELSE 'DOMESTIC' END AS OWNERSHIP, \n",
    "    SUM(output / 10000000) as output_cio, \n",
    "    SUM(fa_net / 10000000) as fa_net_cio, \n",
    "    SUM(employment / 100000) as employment_cio,\n",
    "    cic,\n",
    "    geocode4_corr\n",
    "  FROM \n",
    "    China.asif_firm_china \n",
    "  WHERE \n",
    "    year >= 2002 \n",
    "    AND year < 2006 \n",
    "    AND output > 0 \n",
    "    AND fa_net > 0 \n",
    "    AND employment > 0 \n",
    "  GROUP BY \n",
    "    OWNERSHIP, \n",
    "    cic,\n",
    "    geocode4_corr\n",
    ") \n",
    "SELECT \n",
    "  * \n",
    "FROM \n",
    "  (\n",
    "    WITH sum_ci AS(\n",
    "      SELECT \n",
    "        SUM(output_cio) as output_ci, \n",
    "        SUM(fa_net_cio) as fa_net_ci, \n",
    "        SUM(employment_cio) as employment_ci, \n",
    "        cic AS cic_b,\n",
    "        geocode4_corr AS geocode4_corr_b\n",
    "      FROM \n",
    "        sum_cio \n",
    "      GROUP BY \n",
    "        cic,\n",
    "        geocode4_corr\n",
    "    ) \n",
    "    SELECT \n",
    "      * \n",
    "    FROM \n",
    "      (\n",
    "        WITH share_cio AS(\n",
    "          SELECT \n",
    "            OWNERSHIP, \n",
    "            output_cio / output_ci AS share_output_cio, \n",
    "            fa_net_cio / fa_net_ci AS share_fa_net_cio, \n",
    "            employment_cio / employment_ci AS share_employement_cio, \n",
    "            cic,\n",
    "            geocode4_corr\n",
    "          FROM \n",
    "            sum_cio \n",
    "            LEFT JOIN sum_ci ON sum_cio.cic = sum_ci.cic_b AND\n",
    "            sum_cio.geocode4_corr = sum_ci.geocode4_corr_b\n",
    "        ) \n",
    "        SELECT \n",
    "        * \n",
    "        FROM(\n",
    "        WITH decile_ci AS (\n",
    "        SELECT \n",
    "        cic as industry,\n",
    "        geocode4_corr,\n",
    "        OWNERSHIP,  \n",
    "        NTILE(10)  OVER (PARTITION BY geocode4_corr ORDER BY share_output_cio) \n",
    "          as rank_share_output_ci,\n",
    "          NTILE(10)  OVER (PARTITION BY geocode4_corr ORDER BY share_fa_net_cio) \n",
    "          as rank_share_capital_ci,\n",
    "          NTILE(10)  OVER (PARTITION BY geocode4_corr ORDER BY share_employement_cio) \n",
    "          as rank_share_employement_ci,\n",
    "          share_output_cio,share_fa_net_cio,share_employement_cio\n",
    "        FROM share_cio\n",
    "        ORDER BY geocode4_corr, industry\n",
    "        )\n",
    "        SELECT * \n",
    "        FROM decile_ci \n",
    "        )\n",
    "        )\n",
    "        )\n",
    "\"\"\"\n",
    "df_share_soe = gcp.upload_data_from_bigquery(query = query_share_soe,\n",
    "                                         location = 'US')\n",
    "df_share_soe['rank_share_output_ci'].value_counts()"
   ]
  },
  {
   "cell_type": "code",
   "execution_count": 11,
   "metadata": {
    "kernel": "SoS"
   },
   "outputs": [],
   "source": [
    "df_share_soe = (df_share_soe\n",
    " .set_index(['industry', 'geocode4_corr', 'OWNERSHIP'])\n",
    " .drop(columns = ['rank_share_output_ci',\n",
    "                  'rank_share_capital_ci',\n",
    "                  'rank_share_employement_ci'])\n",
    " .unstack(-1)\n",
    " .fillna(0)\n",
    " .assign(\n",
    " soe_output = lambda x: np.where(\n",
    "     x.iloc[:,1] > x.iloc[:,0],\n",
    "     'Above', 'Below'\n",
    " ),\n",
    "     soe_capital = lambda x: np.where(\n",
    "     x.iloc[:,1] > x.iloc[:,0],\n",
    "     'Above', 'Below'\n",
    " ),\n",
    "     soe_employment = lambda x: np.where(\n",
    "     x.iloc[:,1] > x.iloc[:,0],\n",
    "     'Above', 'Below'\n",
    " )\n",
    " )\n",
    " .iloc[:, -3:]\n",
    " .droplevel(level = 1, axis = 1)\n",
    " .reset_index()\n",
    ")"
   ]
  },
  {
   "cell_type": "markdown",
   "metadata": {
    "kernel": "SoS"
   },
   "source": [
    "### Load TCZ_list_china from Google Spreadsheet\n",
    "\n",
    "Feel free to add description about the dataset or any usefull information.\n",
    "\n",
    "Profiling will be available soon for this dataset"
   ]
  },
  {
   "cell_type": "code",
   "execution_count": null,
   "metadata": {
    "kernel": "python3"
   },
   "outputs": [],
   "source": [
    "### Please go here https://docs.google.com/spreadsheets/d/15bMeS2cMfGfYJkjuY6wOMzcAUWZNRGpO03hZ8rpgv0Q\n",
    "### To change the range\n",
    "\n",
    "sheetid = '15bMeS2cMfGfYJkjuY6wOMzcAUWZNRGpO03hZ8rpgv0Q'\n",
    "sheetname = 'All_cities'\n",
    "\n",
    "df_TCZ_list_china = gdr.upload_data_from_spreadsheet(sheetID = sheetid,\n",
    "sheetName = sheetname,\n",
    "\t to_dataframe = True)\n",
    "df_TCZ_list_china.to_csv('df_TCZ_list_china.csv', index = False)"
   ]
  },
  {
   "cell_type": "code",
   "execution_count": 12,
   "metadata": {
    "kernel": "R"
   },
   "outputs": [
    {
     "name": "stderr",
     "output_type": "stream",
     "text": [
      "Parsed with column specification:\n",
      "cols(\n",
      "  Province = \u001b[31mcol_character()\u001b[39m,\n",
      "  City = \u001b[31mcol_character()\u001b[39m,\n",
      "  geocode4_corr = \u001b[32mcol_double()\u001b[39m,\n",
      "  TCZ = \u001b[32mcol_double()\u001b[39m,\n",
      "  SPZ = \u001b[32mcol_double()\u001b[39m\n",
      ")\n",
      "Joining, by = \"geocode4_corr\""
     ]
    }
   ],
   "source": [
    "df_TCZ_list_china = read_csv('df_TCZ_list_china.csv') %>% \n",
    "select(-c(TCZ, Province)) %>% \n",
    "left_join(df_final)"
   ]
  },
  {
   "cell_type": "markdown",
   "metadata": {
    "kernel": "SoS"
   },
   "source": [
    "### Add to table"
   ]
  },
  {
   "cell_type": "code",
   "execution_count": 13,
   "metadata": {
    "kernel": "SoS"
   },
   "outputs": [
    {
     "data": {
      "text/html": [
       "<div class=\"sos_logging sos_info\">INFO: NumExpr defaulting to 8 threads.</div>"
      ]
     },
     "metadata": {},
     "output_type": "display_data"
    }
   ],
   "source": [
    "%put df_herfhindal_final --to R\n",
    "df_herfhindal_final = df_final.merge(df_herfhindal,\n",
    "                                     on=['geocode4_corr','industry'],\n",
    "                                     how='left',\n",
    "                                     indicator=True\n",
    "                                     )"
   ]
  },
  {
   "cell_type": "code",
   "execution_count": 14,
   "metadata": {
    "kernel": "R"
   },
   "outputs": [],
   "source": [
    "df_herfhindal_r <- df_herfhindal_final %>% \n",
    "    mutate_if(is.character, as.factor) %>%\n",
    "    mutate_at(vars(starts_with(\"FE\")), as.factor) %>%\n",
    "    mutate(\n",
    "         Period = relevel(Period, ref='Before'),\n",
    "         TCZ_c = relevel(TCZ_c, ref='No_TCZ'),\n",
    "         effort_c = relevel(effort_c, ref='Below'),\n",
    "         polluted_di = relevel(polluted_di, ref='Below'),\n",
    "         polluted_mi = relevel(polluted_mi, ref='Below'),\n",
    "         polluted_thre = relevel(polluted_thre, ref='Below'),\n",
    "  )"
   ]
  },
  {
   "cell_type": "code",
   "execution_count": 15,
   "metadata": {
    "kernel": "SoS"
   },
   "outputs": [
    {
     "data": {
      "text/plain": [
       "Below    26193\n",
       "Above     4022\n",
       "Name: soe_output, dtype: int64"
      ]
     },
     "execution_count": 15,
     "metadata": {},
     "output_type": "execute_result"
    }
   ],
   "source": [
    "%put df_final_SOE --to R\n",
    "df_final_SOE = (df_final.merge(\n",
    "    df_share_soe[\n",
    "        ['geocode4_corr',\n",
    "            'industry', \n",
    "            'soe_output',\n",
    "            'soe_capital',\n",
    "            'soe_employment'\n",
    "             ]],\n",
    "    how = 'left',\n",
    "    indicator = True\n",
    ")\n",
    "                #.assign(\n",
    "                #    rank_share_output_ci= lambda x: \n",
    "                #    x['rank_share_output_ci'].fillna(0),\n",
    "                #    rank_share_capital_ci= lambda x: \n",
    "                #    x['rank_share_output_ci'].fillna(0),\n",
    "                #    rank_share_employement_ci= lambda x: \n",
    "                #    x['rank_share_output_ci'].fillna(0),\n",
    "                #)\n",
    ")\n",
    "df_final_SOE['soe_output'].value_counts()"
   ]
  },
  {
   "cell_type": "code",
   "execution_count": 16,
   "metadata": {
    "kernel": "R"
   },
   "outputs": [],
   "source": [
    "df_final_SOE <- df_final_SOE %>% \n",
    "    mutate_if(is.character, as.factor) %>%\n",
    "    mutate_at(vars(starts_with(\"FE\")), as.factor) %>%\n",
    "    mutate(\n",
    "         Period = relevel(Period, ref='Before'),\n",
    "         TCZ_c = relevel(TCZ_c, ref='No_TCZ'),\n",
    "         effort_c = relevel(effort_c, ref='Below'),\n",
    "         polluted_di = relevel(polluted_di, ref='Below'),\n",
    "         polluted_mi = relevel(polluted_mi, ref='Below'),\n",
    "         polluted_thre = relevel(polluted_thre, ref='Below'),\n",
    "  )"
   ]
  },
  {
   "cell_type": "code",
   "execution_count": 17,
   "metadata": {
    "kernel": "SoS"
   },
   "outputs": [
    {
     "data": {
      "text/plain": [
       "Below    27869\n",
       "Above     2346\n",
       "Name: foreign_output, dtype: int64"
      ]
     },
     "execution_count": 17,
     "metadata": {},
     "output_type": "execute_result"
    }
   ],
   "source": [
    "%put df_final_FOREIGN --to R\n",
    "df_final_FOREIGN = (df_final.merge(\n",
    "    df_share_foreign[\n",
    "        ['geocode4_corr',\n",
    "            'industry', \n",
    "            'foreign_output',\n",
    "            'foreign_capital',\n",
    "            'foreign_employment'\n",
    "             ]],\n",
    "    how = 'left',\n",
    "    on = ['geocode4_corr', 'industry'],\n",
    "    indicator = True\n",
    ")\n",
    "                #.assign(\n",
    "                #    rank_share_output_ci= lambda x: \n",
    "                #    x['rank_share_output_ci'].fillna(0),\n",
    "                #    rank_share_capital_ci= lambda x: \n",
    "                #    x['rank_share_output_ci'].fillna(0),\n",
    "                #    rank_share_employement_ci= lambda x: \n",
    "                #    x['rank_share_output_ci'].fillna(0),\n",
    "                #)\n",
    ")\n",
    "df_final_FOREIGN['foreign_output'].value_counts()"
   ]
  },
  {
   "cell_type": "code",
   "execution_count": 18,
   "metadata": {
    "kernel": "R"
   },
   "outputs": [],
   "source": [
    "df_final_FOREIGN <- df_final_FOREIGN %>% \n",
    "    mutate_if(is.character, as.factor) %>%\n",
    "    mutate_at(vars(starts_with(\"FE\")), as.factor) %>%\n",
    "    mutate(\n",
    "         Period = relevel(Period, ref='Before'),\n",
    "         TCZ_c = relevel(TCZ_c, ref='No_TCZ'),\n",
    "         effort_c = relevel(effort_c, ref='Below'),\n",
    "         polluted_di = relevel(polluted_di, ref='Below'),\n",
    "         polluted_mi = relevel(polluted_mi, ref='Below'),\n",
    "         polluted_thre = relevel(polluted_thre, ref='Below'),\n",
    "  )"
   ]
  },
  {
   "cell_type": "markdown",
   "metadata": {
    "kernel": "SoS"
   },
   "source": [
    "## Table 8 Model A: Panel A\n",
    "\n",
    "Output latex table available here\n",
    "\n",
    "- https://www.overleaf.com/project/5deca0097e9f3a0001506527\n",
    "    - Temp_tables_revision/06_new_tables/02_table_8_model_A_panel_A\n",
    "\n",
    "In Google Drive:\n",
    "\n",
    "![](https://drive.google.com/uc?export=view&id=)\n"
   ]
  },
  {
   "cell_type": "markdown",
   "metadata": {
    "kernel": "SoS"
   },
   "source": [
    "#### Codes"
   ]
  },
  {
   "cell_type": "code",
   "execution_count": null,
   "metadata": {
    "kernel": "R"
   },
   "outputs": [],
   "source": [
    "### Big\n",
    "t0 <- felm(formula=log(tso2_cit) ~ TCZ_c * Period * polluted_thre\n",
    "                  + output_fcit + capital_fcit + labour_fcit\n",
    "                  |\n",
    "             FE_t_c + FE_t_i + FE_c_i  | 0 |\n",
    "             industry, data= df_herfhindal_r %>% filter(decile_herfhindal_c >= 5),\n",
    "             exactDOF=TRUE)\n",
    "t1 <- felm(formula=log(tso2_cit) ~ TCZ_c * Period * polluted_thre\n",
    "                  + output_fcit + capital_fcit + labour_fcit\n",
    "                  |\n",
    "             FE_t_c + FE_t_i + FE_c_i  | 0 |\n",
    "             industry, data= df_herfhindal_r %>% filter(decile_herfhindal_c >= 5),\n",
    "             exactDOF=TRUE)\n",
    "t2 <- felm(formula=log(tso2_cit) ~ TCZ_c * Period * polluted_thre\n",
    "                  + output_fcit + capital_fcit + labour_fcit\n",
    "                  |\n",
    "             FE_t_c + FE_t_i + FE_c_i  | 0 |\n",
    "             industry, data= df_herfhindal_r %>% filter(decile_herfhindal_c >= 5),\n",
    "             exactDOF=TRUE)\n",
    "\n",
    "### Foreign\n",
    "t3 <- felm(formula=log(tso2_cit) ~ TCZ_c * Period * polluted_thre\n",
    "                  + output_fcit + capital_fcit + labour_fcit\n",
    "                  |\n",
    "             FE_t_c + FE_t_i + FE_c_i  | 0 |\n",
    "             industry, data= df_final_FOREIGN %>% filter(foreign_output == 'Above'),\n",
    "             exactDOF=TRUE)\n",
    "t4 <- felm(formula=log(tso2_cit) ~ TCZ_c * Period * polluted_thre\n",
    "                  + output_fcit + capital_fcit + labour_fcit\n",
    "                  |\n",
    "             FE_t_c + FE_t_i + FE_c_i  | 0 |\n",
    "             industry, data= df_final_FOREIGN %>% filter(foreign_capital == 'Above'),\n",
    "             exactDOF=TRUE)\n",
    "t5 <- felm(formula=log(tso2_cit) ~ TCZ_c * Period * polluted_thre\n",
    "                  + output_fcit + capital_fcit + labour_fcit\n",
    "                  |\n",
    "             FE_t_c + FE_t_i + FE_c_i  | 0 |\n",
    "             industry, data= df_final_FOREIGN %>% filter(foreign_employment == 'Above'),\n",
    "             exactDOF=TRUE)\n",
    "### SOE\n",
    "t6 <- felm(formula=log(tso2_cit) ~ TCZ_c * Period * polluted_thre\n",
    "                  + output_fcit + capital_fcit + labour_fcit\n",
    "                  |\n",
    "             FE_t_c + FE_t_i + FE_c_i  | 0 |\n",
    "             industry, data= df_final_SOE %>% filter(soe_output == 'Above'),\n",
    "             exactDOF=TRUE)\n",
    "t7 <- felm(formula=log(tso2_cit) ~ TCZ_c * Period * polluted_thre\n",
    "                  + output_fcit + capital_fcit + labour_fcit\n",
    "                  |\n",
    "             FE_t_c + FE_t_i + FE_c_i  | 0 |\n",
    "             industry, data= df_final_SOE %>% filter(soe_capital == 'Above'),\n",
    "             exactDOF=TRUE)\n",
    "t8 <- felm(formula=log(tso2_cit) ~ TCZ_c * Period * polluted_thre\n",
    "                  + output_fcit + capital_fcit + labour_fcit\n",
    "                  |\n",
    "             FE_t_c + FE_t_i + FE_c_i  | 0 |\n",
    "             industry, data= df_final_SOE %>% filter(soe_employment == 'Above'),\n",
    "             exactDOF=TRUE)\n",
    "### SPZ\n",
    "t9 <- felm(formula=log(tso2_cit) ~ TCZ_c * Period * polluted_thre\n",
    "                  + output_fcit + capital_fcit + labour_fcit\n",
    "                  |\n",
    "             FE_t_c + FE_t_i + FE_c_i  | 0 |\n",
    "             industry, data= df_TCZ_list_china %>% filter(SPZ == 1),\n",
    "             exactDOF=TRUE)\n",
    "t10 <- felm(formula=log(tso2_cit) ~ TCZ_c * Period * polluted_thre\n",
    "                  + output_fcit + capital_fcit + labour_fcit\n",
    "                  |\n",
    "             FE_t_c + FE_t_i + FE_c_i  | 0 |\n",
    "             industry, data= df_TCZ_list_china %>% filter(SPZ == 1),\n",
    "             exactDOF=TRUE)\n",
    "t11 <- felm(formula=log(tso2_cit) ~ TCZ_c * Period * polluted_thre\n",
    "                  + output_fcit + capital_fcit + labour_fcit\n",
    "                  |\n",
    "             FE_t_c + FE_t_i + FE_c_i  | 0 |\n",
    "             industry, data= df_TCZ_list_china %>% filter(SPZ == 1),\n",
    "             exactDOF=TRUE)\n",
    "\n",
    "### Coastal\n",
    "t12 <- felm(formula=log(tso2_cit) ~ TCZ_c * Period * polluted_thre\n",
    "                  + output_fcit + capital_fcit + labour_fcit\n",
    "                  |\n",
    "             FE_t_c + FE_t_i + FE_c_i  | 0 |\n",
    "             industry, data= df_TCZ_list_china %>% filter(Coastal == TRUE),\n",
    "             exactDOF=TRUE)\n",
    "t13 <- felm(formula=log(tso2_cit) ~ TCZ_c * Period * polluted_thre\n",
    "                  + output_fcit + capital_fcit + labour_fcit\n",
    "                  |\n",
    "             FE_t_c + FE_t_i + FE_c_i  | 0 |\n",
    "             industry, data= df_TCZ_list_china %>% filter(Coastal == TRUE),\n",
    "             exactDOF=TRUE)\n",
    "t14 <- felm(formula=log(tso2_cit) ~ TCZ_c * Period * polluted_thre\n",
    "                  + output_fcit + capital_fcit + labour_fcit\n",
    "                  |\n",
    "             FE_t_c + FE_t_i + FE_c_i  | 0 |\n",
    "             industry, data= df_TCZ_list_china %>% filter(Coastal == TRUE),\n",
    "             exactDOF=TRUE)"
   ]
  },
  {
   "cell_type": "code",
   "execution_count": null,
   "metadata": {
    "kernel": "R"
   },
   "outputs": [],
   "source": [
    "test <- list(t0, t1, t2, t3,t4, t5, t6, t7, t8, t9, t10, t11, t12, t13, t14)"
   ]
  },
  {
   "cell_type": "code",
   "execution_count": null,
   "metadata": {
    "kernel": "python3"
   },
   "outputs": [],
   "source": [
    "import os\n",
    "decile=['& Output','Capital', 'Labour',\n",
    "        'Output','Capital', 'Labour',\n",
    "        'Output','Capital', 'Labour',\n",
    "        'Output','Capital', 'Labour',\n",
    "        'Output','Capital', 'Labour'\n",
    "       ]\n",
    "try:\n",
    "    os.remove(\"table_2.txt\")\n",
    "except:\n",
    "    pass\n",
    "try:\n",
    "    os.remove(\"table_2.tex\")\n",
    "except:\n",
    "    pass"
   ]
  },
  {
   "cell_type": "code",
   "execution_count": null,
   "metadata": {
    "kernel": "R"
   },
   "outputs": [],
   "source": [
    "fe1 <- list(\n",
    "    c(\"City fixed effects\", \"Yes\", \"Yes\", \"Yes\", \"Yes\", \"Yes\", \"Yes\", \"Yes\",\n",
    "      \"Yes\", \"Yes\", \"Yes\", \"Yes\", \"Yes\", \"Yes\", \"Yes\", \"Yes\"),\n",
    "    c(\"Industry fixed effects\", \"Yes\", \"Yes\", \"Yes\", \"Yes\", \"Yes\", \"Yes\", \"Yes\",\n",
    "      \"Yes\", \"Yes\", \"Yes\", \"Yes\", \"Yes\", \"Yes\", \"Yes\", \"Yes\"),\n",
    "    c(\"Yes fixed effects\",\"Yes\", \"Yes\", \"Yes\", \"Yes\", \"Yes\", \"Yes\", \"Yes\",\n",
    "      \"Yes\", \"Yes\", \"Yes\", \"Yes\", \"Yes\", \"Yes\", \"Yes\", \"Yes\")\n",
    ")\n",
    "\n",
    "table_1 <- go_latex(\n",
    "    test,\n",
    "    dep_var = \"Dependent variable: \\\\text { SO2 emission }_{i k t}\",\n",
    "    title=\"Test Median city\",\n",
    "    addFE=fe1,\n",
    "    save=TRUE,\n",
    "                    note = FALSE,\n",
    "    name=\"table_2.txt\"\n",
    ")"
   ]
  },
  {
   "cell_type": "code",
   "execution_count": null,
   "metadata": {
    "kernel": "python3"
   },
   "outputs": [],
   "source": [
    "tb = \"\"\"\\\\footnotesize{\n",
    "Due to limited space, only the coefficients of interest are presented \n",
    "for the regressions with city,industry, year fixed effect (i.e. columns 1-3).\n",
    "\\sym{*} Significance at the 10\\%, \\sym{**} Significance at the 5\\%, \\sym{***} Significance at the 1\\% \\\\\n",
    "heteroscedasticity-robust standard errors in parentheses are clustered by city \n",
    "}\n",
    "\"\"\"\n",
    "lb.beautify(table_number = 2,\n",
    "            remove_control= True,\n",
    "            constraint = True,\n",
    "            city_industry = False, \n",
    "            new_row = decile,\n",
    "            table_nte =tb)"
   ]
  },
  {
   "cell_type": "markdown",
   "metadata": {
    "kernel": "python3"
   },
   "source": [
    "## Table 8 Model A: Panel B\n",
    "\n",
    "Output latex table available here\n",
    "\n",
    "- https://www.overleaf.com/project/5deca0097e9f3a0001506527\n",
    "    - Temp_tables_revision/06_new_tables/02_table_8_model_A_panel_B\n",
    "\n",
    "In Google Drive:\n",
    "\n",
    "![](https://drive.google.com/uc?export=view&id=)"
   ]
  },
  {
   "cell_type": "code",
   "execution_count": null,
   "metadata": {
    "kernel": "R"
   },
   "outputs": [],
   "source": [
    "### Big\n",
    "t0 <- felm(formula=log(tso2_cit) ~ TCZ_c * Period * polluted_thre\n",
    "           +TCZ_c * Period *polluted_thre * out_share_SOE\n",
    "                  + output_fcit + capital_fcit + labour_fcit\n",
    "                  |\n",
    "             FE_t_c + FE_t_i + FE_c_i  | 0 |\n",
    "             industry, data= df_herfhindal_r %>% filter(decile_herfhindal_c < 5),\n",
    "             exactDOF=TRUE)\n",
    "t1 <- felm(formula=log(tso2_cit) ~ TCZ_c * Period * polluted_thre\n",
    "           +TCZ_c * Period *polluted_thre * cap_share_SOE\n",
    "                  + output_fcit + capital_fcit + labour_fcit\n",
    "                  |\n",
    "             FE_t_c + FE_t_i + FE_c_i  | 0 |\n",
    "             industry, data= df_herfhindal_r %>% filter(decile_herfhindal_c < 5),\n",
    "             exactDOF=TRUE)\n",
    "t2 <- felm(formula=log(tso2_cit) ~ TCZ_c * Period * polluted_thre\n",
    "           +TCZ_c * Period *polluted_thre * lab_share_SOE\n",
    "                  + output_fcit + capital_fcit + labour_fcit\n",
    "                  |\n",
    "             FE_t_c + FE_t_i + FE_c_i  | 0 |\n",
    "             industry, data= df_herfhindal_r %>% filter(decile_herfhindal_c < 5),\n",
    "             exactDOF=TRUE)\n",
    "\n",
    "### Foreign\n",
    "t3 <- felm(formula=log(tso2_cit) ~ TCZ_c * Period * polluted_thre\n",
    "           +TCZ_c * Period *polluted_thre * out_share_SOE\n",
    "                  + output_fcit + capital_fcit + labour_fcit\n",
    "                  |\n",
    "             FE_t_c + FE_t_i + FE_c_i  | 0 |\n",
    "             industry, data= df_final_FOREIGN %>% filter(foreign_output == 'Below'),\n",
    "             exactDOF=TRUE)\n",
    "t4 <- felm(formula=log(tso2_cit) ~ TCZ_c * Period * polluted_thre\n",
    "           +TCZ_c * Period *polluted_thre * cap_share_SOE\n",
    "                  + output_fcit + capital_fcit + labour_fcit\n",
    "                  |\n",
    "             FE_t_c + FE_t_i + FE_c_i  | 0 |\n",
    "             industry, data= df_final_FOREIGN %>% filter(foreign_capital == 'Below'),\n",
    "             exactDOF=TRUE)\n",
    "t5 <- felm(formula=log(tso2_cit) ~ TCZ_c * Period * polluted_thre\n",
    "           +TCZ_c * Period *polluted_thre * lab_share_SOE\n",
    "                  + output_fcit + capital_fcit + labour_fcit\n",
    "                  |\n",
    "             FE_t_c + FE_t_i + FE_c_i  | 0 |\n",
    "             industry, data= df_final_FOREIGN %>% filter(foreign_employment == 'Below'),\n",
    "             exactDOF=TRUE)\n",
    "### SOE\n",
    "t6 <- felm(formula=log(tso2_cit) ~ TCZ_c * Period * polluted_thre\n",
    "           +TCZ_c * Period *polluted_thre * out_share_SOE\n",
    "                  + output_fcit + capital_fcit + labour_fcit\n",
    "                  |\n",
    "             FE_t_c + FE_t_i + FE_c_i  | 0 |\n",
    "             industry, data= df_final_SOE %>% filter(soe_output == 'Below'),\n",
    "             exactDOF=TRUE)\n",
    "t7 <- felm(formula=log(tso2_cit) ~ TCZ_c * Period * polluted_thre\n",
    "           +TCZ_c * Period *polluted_thre * cap_share_SOE\n",
    "                  + output_fcit + capital_fcit + labour_fcit\n",
    "                  |\n",
    "             FE_t_c + FE_t_i + FE_c_i  | 0 |\n",
    "             industry, data= df_final_SOE %>% filter(soe_capital == 'Below'),\n",
    "             exactDOF=TRUE)\n",
    "t8 <- felm(formula=log(tso2_cit) ~ TCZ_c * Period * polluted_thre\n",
    "           +TCZ_c * Period *polluted_thre * lab_share_SOE\n",
    "                  + output_fcit + capital_fcit + labour_fcit\n",
    "                  |\n",
    "             FE_t_c + FE_t_i + FE_c_i  | 0 |\n",
    "             industry, data= df_final_SOE %>% filter(soe_employment == 'Below'),\n",
    "             exactDOF=TRUE)\n",
    "### SPZ\n",
    "t9 <- felm(formula=log(tso2_cit) ~ TCZ_c * Period * polluted_thre\n",
    "           +TCZ_c * Period *polluted_thre * out_share_SOE\n",
    "                  + output_fcit + capital_fcit + labour_fcit\n",
    "                  |\n",
    "             FE_t_c + FE_t_i + FE_c_i  | 0 |\n",
    "             industry, data= df_TCZ_list_china %>% filter(SPZ == 0),\n",
    "             exactDOF=TRUE)\n",
    "t10 <- felm(formula=log(tso2_cit) ~ TCZ_c * Period * polluted_thre\n",
    "           +TCZ_c * Period *polluted_thre * cap_share_SOE\n",
    "                  + output_fcit + capital_fcit + labour_fcit\n",
    "                  |\n",
    "             FE_t_c + FE_t_i + FE_c_i  | 0 |\n",
    "             industry, data= df_TCZ_list_china %>% filter(SPZ == 0),\n",
    "             exactDOF=TRUE)\n",
    "t11 <- felm(formula=log(tso2_cit) ~ TCZ_c * Period * polluted_thre\n",
    "           +TCZ_c * Period *polluted_thre * lab_share_SOE\n",
    "                  + output_fcit + capital_fcit + labour_fcit\n",
    "                  |\n",
    "             FE_t_c + FE_t_i + FE_c_i  | 0 |\n",
    "             industry, data= df_TCZ_list_china %>% filter(SPZ == 0),\n",
    "             exactDOF=TRUE)\n",
    "\n",
    "### Coastal\n",
    "t12 <- felm(formula=log(tso2_cit) ~ TCZ_c * Period * polluted_thre\n",
    "           +TCZ_c * Period *polluted_thre * out_share_SOE\n",
    "                  + output_fcit + capital_fcit + labour_fcit\n",
    "                  |\n",
    "             FE_t_c + FE_t_i + FE_c_i  | 0 |\n",
    "             industry, data= df_TCZ_list_china %>% filter(Coastal == FALSE),\n",
    "             exactDOF=TRUE)\n",
    "t13 <- felm(formula=log(tso2_cit) ~ TCZ_c * Period * polluted_thre\n",
    "           +TCZ_c * Period *polluted_thre * cap_share_SOE\n",
    "                  + output_fcit + capital_fcit + labour_fcit\n",
    "                  |\n",
    "             FE_t_c + FE_t_i + FE_c_i  | 0 |\n",
    "             industry, data= df_TCZ_list_china %>% filter(Coastal == FALSE),\n",
    "             exactDOF=TRUE)\n",
    "t14 <- felm(formula=log(tso2_cit) ~ TCZ_c * Period * polluted_thre\n",
    "           +TCZ_c * Period *polluted_thre * lab_share_SOE\n",
    "                  + output_fcit + capital_fcit + labour_fcit\n",
    "                  |\n",
    "             FE_t_c + FE_t_i + FE_c_i  | 0 |\n",
    "             industry, data= df_TCZ_list_china %>% filter(Coastal == FALSE),\n",
    "             exactDOF=TRUE)"
   ]
  },
  {
   "cell_type": "code",
   "execution_count": null,
   "metadata": {
    "kernel": "R"
   },
   "outputs": [],
   "source": [
    "test <- list(t0, t1, t2, t3,t4, t5, t6, t7, t8, t9, t10, t11, t12, t13, t14)"
   ]
  },
  {
   "cell_type": "code",
   "execution_count": null,
   "metadata": {
    "kernel": "python3"
   },
   "outputs": [],
   "source": [
    "import os\n",
    "decile=['& Output','Capital', 'Labour',\n",
    "        'Output','Capital', 'Labour',\n",
    "        'Output','Capital', 'Labour',\n",
    "        'Output','Capital', 'Labour',\n",
    "        'Output','Capital', 'Labour'\n",
    "       ]\n",
    "try:\n",
    "    os.remove(\"table_3.txt\")\n",
    "except:\n",
    "    pass\n",
    "try:\n",
    "    os.remove(\"table_3.tex\")\n",
    "except:\n",
    "    pass"
   ]
  },
  {
   "cell_type": "code",
   "execution_count": null,
   "metadata": {
    "kernel": "R"
   },
   "outputs": [],
   "source": [
    "fe1 <- list(\n",
    "    c(\"City fixed effects\", \"Yes\", \"Yes\", \"Yes\", \"Yes\", \"Yes\", \"Yes\", \"Yes\",\n",
    "      \"Yes\", \"Yes\", \"Yes\", \"Yes\", \"Yes\", \"Yes\", \"Yes\", \"Yes\"),\n",
    "    c(\"Industry fixed effects\", \"Yes\", \"Yes\", \"Yes\", \"Yes\", \"Yes\", \"Yes\", \"Yes\",\n",
    "      \"Yes\", \"Yes\", \"Yes\", \"Yes\", \"Yes\", \"Yes\", \"Yes\", \"Yes\"),\n",
    "    c(\"Yes fixed effects\",\"Yes\", \"Yes\", \"Yes\", \"Yes\", \"Yes\", \"Yes\", \"Yes\",\n",
    "      \"Yes\", \"Yes\", \"Yes\", \"Yes\", \"Yes\", \"Yes\", \"Yes\", \"Yes\")\n",
    ")\n",
    "\n",
    "table_1 <- go_latex(\n",
    "    test,\n",
    "    dep_var = \"Dependent variable: \\\\text { SO2 emission }_{i k t}\",\n",
    "    title=\"Test Median city\",\n",
    "    addFE=fe1,\n",
    "    save=TRUE,\n",
    "                    note = FALSE,\n",
    "    name=\"table_3.txt\"\n",
    ")"
   ]
  },
  {
   "cell_type": "code",
   "execution_count": null,
   "metadata": {
    "kernel": "python3"
   },
   "outputs": [],
   "source": [
    "tb = \"\"\"\\\\footnotesize{\n",
    "Due to limited space, only the coefficients of interest are presented \n",
    "for the regressions with city,industry, year fixed effect (i.e. columns 1-3).\n",
    "\\sym{*} Significance at the 10\\%, \\sym{**} Significance at the 5\\%, \\sym{***} Significance at the 1\\% \\\\\n",
    "heteroscedasticity-robust standard errors in parentheses are clustered by city \n",
    "}\n",
    "\"\"\"\n",
    "lb.beautify(table_number = 3,\n",
    "            remove_control= True,\n",
    "            constraint = True,\n",
    "            city_industry = False, \n",
    "            new_row = decile,\n",
    "            table_nte =tb)"
   ]
  },
  {
   "cell_type": "markdown",
   "metadata": {
    "kernel": "python3"
   },
   "source": [
    "## Table 8 Model B: Panel A\n",
    "\n",
    "Output latex table available here\n",
    "\n",
    "- https://www.overleaf.com/project/5deca0097e9f3a0001506527\n",
    "    - Temp_tables_revision/06_new_tables/02_table_8_model_B_panel_A\n",
    "\n",
    "In Google Drive:\n",
    "\n",
    "![](https://drive.google.com/uc?export=view&id=)"
   ]
  },
  {
   "cell_type": "code",
   "execution_count": null,
   "metadata": {
    "kernel": "R"
   },
   "outputs": [],
   "source": [
    "### Big\n",
    "t0 <- felm(formula=log(tso2_cit) ~ target_c * Period * polluted_thre\n",
    "           +target_c * Period *polluted_thre * out_share_SOE\n",
    "                  + output_fcit + capital_fcit + labour_fcit\n",
    "                  |\n",
    "             FE_t_c + FE_t_i + FE_c_i  | 0 |\n",
    "             industry, data= df_herfhindal_r %>% filter(decile_herfhindal_c > 5),\n",
    "             exactDOF=TRUE)\n",
    "t1 <- felm(formula=log(tso2_cit) ~ target_c * Period * polluted_thre\n",
    "           +target_c * Period *polluted_thre * cap_share_SOE\n",
    "                  + output_fcit + capital_fcit + labour_fcit\n",
    "                  |\n",
    "             FE_t_c + FE_t_i + FE_c_i  | 0 |\n",
    "             industry, data= df_herfhindal_r %>% filter(decile_herfhindal_c > 5),\n",
    "             exactDOF=TRUE)\n",
    "t2 <- felm(formula=log(tso2_cit) ~ target_c * Period * polluted_thre\n",
    "           +target_c * Period *polluted_thre * lab_share_SOE\n",
    "                  + output_fcit + capital_fcit + labour_fcit\n",
    "                  |\n",
    "             FE_t_c + FE_t_i + FE_c_i  | 0 |\n",
    "             industry, data= df_herfhindal_r %>% filter(decile_herfhindal_c > 5),\n",
    "             exactDOF=TRUE)\n",
    "\n",
    "### Foreign\n",
    "t3 <- felm(formula=log(tso2_cit) ~ target_c * Period * polluted_thre\n",
    "           +target_c * Period *polluted_thre * out_share_SOE\n",
    "                  + output_fcit + capital_fcit + labour_fcit\n",
    "                  |\n",
    "             FE_t_c + FE_t_i + FE_c_i  | 0 |\n",
    "             industry, data= df_final_FOREIGN %>% filter(foreign_output == 'Above'),\n",
    "             exactDOF=TRUE)\n",
    "t4 <- felm(formula=log(tso2_cit) ~ target_c * Period * polluted_thre\n",
    "           +target_c * Period *polluted_thre * cap_share_SOE\n",
    "                  + output_fcit + capital_fcit + labour_fcit\n",
    "                  |\n",
    "             FE_t_c + FE_t_i + FE_c_i  | 0 |\n",
    "             industry, data= df_final_FOREIGN %>% filter(foreign_capital == 'Above'),\n",
    "             exactDOF=TRUE)\n",
    "t5 <- felm(formula=log(tso2_cit) ~ target_c * Period * polluted_thre\n",
    "           +target_c * Period *polluted_thre * lab_share_SOE\n",
    "                  + output_fcit + capital_fcit + labour_fcit\n",
    "                  |\n",
    "             FE_t_c + FE_t_i + FE_c_i  | 0 |\n",
    "             industry, data= df_final_FOREIGN %>% filter(foreign_employment == 'Above'),\n",
    "             exactDOF=TRUE)\n",
    "### SOE\n",
    "t6 <- felm(formula=log(tso2_cit) ~ target_c * Period * polluted_thre\n",
    "           +target_c * Period *polluted_thre * out_share_SOE\n",
    "                  + output_fcit + capital_fcit + labour_fcit\n",
    "                  |\n",
    "             FE_t_c + FE_t_i + FE_c_i  | 0 |\n",
    "             industry, data= df_final_SOE %>% filter(soe_output == 'Above'),\n",
    "             exactDOF=TRUE)\n",
    "t7 <- felm(formula=log(tso2_cit) ~ target_c * Period * polluted_thre\n",
    "           +target_c * Period *polluted_thre * cap_share_SOE\n",
    "                  + output_fcit + capital_fcit + labour_fcit\n",
    "                  |\n",
    "             FE_t_c + FE_t_i + FE_c_i  | 0 |\n",
    "             industry, data= df_final_SOE %>% filter(soe_capital == 'Above'),\n",
    "             exactDOF=TRUE)\n",
    "t8 <- felm(formula=log(tso2_cit) ~ target_c * Period * polluted_thre\n",
    "           +target_c * Period *polluted_thre * lab_share_SOE\n",
    "                  + output_fcit + capital_fcit + labour_fcit\n",
    "                  |\n",
    "             FE_t_c + FE_t_i + FE_c_i  | 0 |\n",
    "             industry, data= df_final_SOE %>% filter(soe_employment == 'Above'),\n",
    "             exactDOF=TRUE)\n",
    "### SPZ\n",
    "t9 <- felm(formula=log(tso2_cit) ~ target_c * Period * polluted_thre\n",
    "           +target_c * Period *polluted_thre * out_share_SOE\n",
    "                  + output_fcit + capital_fcit + labour_fcit\n",
    "                  |\n",
    "             FE_t_c + FE_t_i + FE_c_i  | 0 |\n",
    "             industry, data= df_TCZ_list_china %>% filter(SPZ == 1),\n",
    "             exactDOF=TRUE)\n",
    "t10 <- felm(formula=log(tso2_cit) ~ target_c * Period * polluted_thre\n",
    "           +target_c * Period *polluted_thre * cap_share_SOE\n",
    "                  + output_fcit + capital_fcit + labour_fcit\n",
    "                  |\n",
    "             FE_t_c + FE_t_i + FE_c_i  | 0 |\n",
    "             industry, data= df_TCZ_list_china %>% filter(SPZ == 1),\n",
    "             exactDOF=TRUE)\n",
    "t11 <- felm(formula=log(tso2_cit) ~ target_c * Period * polluted_thre\n",
    "           +target_c * Period *polluted_thre * lab_share_SOE\n",
    "                  + output_fcit + capital_fcit + labour_fcit\n",
    "                  |\n",
    "             FE_t_c + FE_t_i + FE_c_i  | 0 |\n",
    "             industry, data= df_TCZ_list_china %>% filter(SPZ == 1),\n",
    "             exactDOF=TRUE)\n",
    "\n",
    "### Coastal\n",
    "t12 <- felm(formula=log(tso2_cit) ~ target_c * Period * polluted_thre\n",
    "           +target_c * Period *polluted_thre * out_share_SOE\n",
    "                  + output_fcit + capital_fcit + labour_fcit\n",
    "                  |\n",
    "             FE_t_c + FE_t_i + FE_c_i  | 0 |\n",
    "             industry, data= df_TCZ_list_china %>% filter(Coastal == TRUE),\n",
    "             exactDOF=TRUE)\n",
    "t13 <- felm(formula=log(tso2_cit) ~ target_c * Period * polluted_thre\n",
    "           +target_c * Period *polluted_thre * cap_share_SOE\n",
    "                  + output_fcit + capital_fcit + labour_fcit\n",
    "                  |\n",
    "             FE_t_c + FE_t_i + FE_c_i  | 0 |\n",
    "             industry, data= df_TCZ_list_china %>% filter(Coastal == TRUE),\n",
    "             exactDOF=TRUE)\n",
    "t14 <- felm(formula=log(tso2_cit) ~ target_c * Period * polluted_thre\n",
    "           +target_c * Period *polluted_thre * lab_share_SOE\n",
    "                  + output_fcit + capital_fcit + labour_fcit\n",
    "                  |\n",
    "             FE_t_c + FE_t_i + FE_c_i  | 0 |\n",
    "             industry, data= df_TCZ_list_china %>% filter(Coastal == TRUE),\n",
    "             exactDOF=TRUE)"
   ]
  },
  {
   "cell_type": "code",
   "execution_count": null,
   "metadata": {
    "kernel": "R"
   },
   "outputs": [],
   "source": [
    "test <- list(t0, t1, t2, t3,t4, t5, t6, t7, t8, t9, t10, t11, t12, t13, t14)"
   ]
  },
  {
   "cell_type": "code",
   "execution_count": null,
   "metadata": {
    "kernel": "python3"
   },
   "outputs": [],
   "source": [
    "import os\n",
    "decile=['& Output','Capital', 'Labour',\n",
    "        'Output','Capital', 'Labour',\n",
    "        'Output','Capital', 'Labour',\n",
    "        'Output','Capital', 'Labour',\n",
    "        'Output','Capital', 'Labour'\n",
    "       ]\n",
    "try:\n",
    "    os.remove(\"table_4.txt\")\n",
    "except:\n",
    "    pass\n",
    "try:\n",
    "    os.remove(\"table_4.tex\")\n",
    "except:\n",
    "    pass"
   ]
  },
  {
   "cell_type": "code",
   "execution_count": null,
   "metadata": {
    "kernel": "R"
   },
   "outputs": [],
   "source": [
    "fe1 <- list(\n",
    "    c(\"City fixed effects\", \"Yes\", \"Yes\", \"Yes\", \"Yes\", \"Yes\", \"Yes\", \"Yes\",\n",
    "      \"Yes\", \"Yes\", \"Yes\", \"Yes\", \"Yes\", \"Yes\", \"Yes\", \"Yes\"),\n",
    "    c(\"Industry fixed effects\", \"Yes\", \"Yes\", \"Yes\", \"Yes\", \"Yes\", \"Yes\", \"Yes\",\n",
    "      \"Yes\", \"Yes\", \"Yes\", \"Yes\", \"Yes\", \"Yes\", \"Yes\", \"Yes\"),\n",
    "    c(\"Yes fixed effects\",\"Yes\", \"Yes\", \"Yes\", \"Yes\", \"Yes\", \"Yes\", \"Yes\",\n",
    "      \"Yes\", \"Yes\", \"Yes\", \"Yes\", \"Yes\", \"Yes\", \"Yes\", \"Yes\")\n",
    ")\n",
    "\n",
    "table_1 <- go_latex(\n",
    "    test,\n",
    "    dep_var = \"Dependent variable: \\\\text { SO2 emission }_{i k t}\",\n",
    "    title=\"Test Median city\",\n",
    "    addFE=fe1,\n",
    "    save=TRUE,\n",
    "                    note = FALSE,\n",
    "    name=\"table_4.txt\"\n",
    ")"
   ]
  },
  {
   "cell_type": "code",
   "execution_count": null,
   "metadata": {
    "kernel": "python3"
   },
   "outputs": [],
   "source": [
    "tb = \"\"\"\\\\footnotesize{\n",
    "Due to limited space, only the coefficients of interest are presented \n",
    "for the regressions with city,industry, year fixed effect (i.e. columns 1-3).\n",
    "\\sym{*} Significance at the 10\\%, \\sym{**} Significance at the 5\\%, \\sym{***} Significance at the 1\\% \\\\\n",
    "heteroscedasticity-robust standard errors in parentheses are clustered by city \n",
    "}\n",
    "\"\"\"\n",
    "lb.beautify(table_number = 4,\n",
    "            remove_control= True,\n",
    "            constraint = True,\n",
    "            city_industry = False, \n",
    "            new_row = decile,\n",
    "            table_nte =tb)"
   ]
  },
  {
   "cell_type": "markdown",
   "metadata": {
    "kernel": "R"
   },
   "source": [
    "## Table 8 Model B: Panel B\n",
    "\n",
    "Output latex table available here\n",
    "\n",
    "- https://www.overleaf.com/project/5deca0097e9f3a0001506527\n",
    "    - Temp_tables_revision/06_new_tables/02_table_8_model_B_panel_B\n",
    "\n",
    "In Google Drive:\n",
    "\n",
    "![](https://drive.google.com/uc?export=view&id=)"
   ]
  },
  {
   "cell_type": "code",
   "execution_count": null,
   "metadata": {
    "kernel": "R"
   },
   "outputs": [],
   "source": [
    "### Big\n",
    "t0 <- felm(formula=log(tso2_cit) ~ target_c * Period * polluted_thre\n",
    "           +target_c * Period *polluted_thre * out_share_SOE\n",
    "                  + output_fcit + capital_fcit + labour_fcit\n",
    "                  |\n",
    "             FE_t_c + FE_t_i + FE_c_i  | 0 |\n",
    "             industry, data= df_herfhindal_r %>% filter(decile_herfhindal_c <= 5),\n",
    "             exactDOF=TRUE)\n",
    "t1 <- felm(formula=log(tso2_cit) ~ target_c * Period * polluted_thre\n",
    "           +target_c * Period *polluted_thre * cap_share_SOE\n",
    "                  + output_fcit + capital_fcit + labour_fcit\n",
    "                  |\n",
    "             FE_t_c + FE_t_i + FE_c_i  | 0 |\n",
    "             industry, data= df_herfhindal_r %>% filter(decile_herfhindal_c <= 5),\n",
    "             exactDOF=TRUE)\n",
    "t2 <- felm(formula=log(tso2_cit) ~ target_c * Period * polluted_thre\n",
    "           +target_c * Period *polluted_thre * lab_share_SOE\n",
    "                  + output_fcit + capital_fcit + labour_fcit\n",
    "                  |\n",
    "             FE_t_c + FE_t_i + FE_c_i  | 0 |\n",
    "             industry, data= df_herfhindal_r %>% filter(decile_herfhindal_c <= 5),\n",
    "             exactDOF=TRUE)\n",
    "\n",
    "### Foreign\n",
    "t3 <- felm(formula=log(tso2_cit) ~ target_c * Period * polluted_thre\n",
    "           +target_c * Period *polluted_thre * out_share_SOE\n",
    "                  + output_fcit + capital_fcit + labour_fcit\n",
    "                  |\n",
    "             FE_t_c + FE_t_i + FE_c_i  | 0 |\n",
    "             industry, data= df_final_FOREIGN %>% filter(foreign_output == 'Below'),\n",
    "             exactDOF=TRUE)\n",
    "t4 <- felm(formula=log(tso2_cit) ~ target_c * Period * polluted_thre\n",
    "           +target_c * Period *polluted_thre * cap_share_SOE\n",
    "                  + output_fcit + capital_fcit + labour_fcit\n",
    "                  |\n",
    "             FE_t_c + FE_t_i + FE_c_i  | 0 |\n",
    "             industry, data= df_final_FOREIGN %>% filter(foreign_capital == 'Below'),\n",
    "             exactDOF=TRUE)\n",
    "t5 <- felm(formula=log(tso2_cit) ~ target_c * Period * polluted_thre\n",
    "           +target_c * Period *polluted_thre * lab_share_SOE\n",
    "                  + output_fcit + capital_fcit + labour_fcit\n",
    "                  |\n",
    "             FE_t_c + FE_t_i + FE_c_i  | 0 |\n",
    "             industry, data= df_final_FOREIGN %>% filter(foreign_employment == 'Below'),\n",
    "             exactDOF=TRUE)\n",
    "### SOE\n",
    "t6 <- felm(formula=log(tso2_cit) ~ target_c * Period * polluted_thre\n",
    "           +target_c * Period *polluted_thre * out_share_SOE\n",
    "                  + output_fcit + capital_fcit + labour_fcit\n",
    "                  |\n",
    "             FE_t_c + FE_t_i + FE_c_i  | 0 |\n",
    "             industry, data= df_final_SOE %>% filter(soe_output == 'Below'),\n",
    "             exactDOF=TRUE)\n",
    "t7 <- felm(formula=log(tso2_cit) ~ target_c * Period * polluted_thre\n",
    "           +target_c * Period *polluted_thre * cap_share_SOE\n",
    "                  + output_fcit + capital_fcit + labour_fcit\n",
    "                  |\n",
    "             FE_t_c + FE_t_i + FE_c_i  | 0 |\n",
    "             industry, data= df_final_SOE %>% filter(soe_capital == 'Below'),\n",
    "             exactDOF=TRUE)\n",
    "t8 <- felm(formula=log(tso2_cit) ~ target_c * Period * polluted_thre\n",
    "           +target_c * Period *polluted_thre * lab_share_SOE\n",
    "                  + output_fcit + capital_fcit + labour_fcit\n",
    "                  |\n",
    "             FE_t_c + FE_t_i + FE_c_i  | 0 |\n",
    "             industry, data= df_final_SOE %>% filter(soe_employment == 'Below'),\n",
    "             exactDOF=TRUE)\n",
    "### SPZ\n",
    "t9 <- felm(formula=log(tso2_cit) ~ target_c * Period * polluted_thre\n",
    "           +target_c * Period *polluted_thre * out_share_SOE\n",
    "                  + output_fcit + capital_fcit + labour_fcit\n",
    "                  |\n",
    "             FE_t_c + FE_t_i + FE_c_i  | 0 |\n",
    "             industry, data= df_TCZ_list_china %>% filter(SPZ == 0),\n",
    "             exactDOF=TRUE)\n",
    "t10 <- felm(formula=log(tso2_cit) ~ target_c * Period * polluted_thre\n",
    "           +target_c * Period *polluted_thre * cap_share_SOE\n",
    "                  + output_fcit + capital_fcit + labour_fcit\n",
    "                  |\n",
    "             FE_t_c + FE_t_i + FE_c_i  | 0 |\n",
    "             industry, data= df_TCZ_list_china %>% filter(SPZ == 0),\n",
    "             exactDOF=TRUE)\n",
    "t11 <- felm(formula=log(tso2_cit) ~ target_c * Period * polluted_thre\n",
    "           +target_c * Period *polluted_thre * lab_share_SOE\n",
    "                  + output_fcit + capital_fcit + labour_fcit\n",
    "                  |\n",
    "             FE_t_c + FE_t_i + FE_c_i  | 0 |\n",
    "             industry, data= df_TCZ_list_china %>% filter(SPZ == 0),\n",
    "             exactDOF=TRUE)\n",
    "\n",
    "### Coastal\n",
    "t12 <- felm(formula=log(tso2_cit) ~ target_c * Period * polluted_thre\n",
    "           +target_c * Period *polluted_thre * out_share_SOE\n",
    "                  + output_fcit + capital_fcit + labour_fcit\n",
    "                  |\n",
    "             FE_t_c + FE_t_i + FE_c_i  | 0 |\n",
    "             industry, data= df_TCZ_list_china %>% filter(Coastal == FALSE),\n",
    "             exactDOF=TRUE)\n",
    "t13 <- felm(formula=log(tso2_cit) ~ target_c * Period * polluted_thre\n",
    "           +target_c * Period *polluted_thre * cap_share_SOE\n",
    "                  + output_fcit + capital_fcit + labour_fcit\n",
    "                  |\n",
    "             FE_t_c + FE_t_i + FE_c_i  | 0 |\n",
    "             industry, data= df_TCZ_list_china %>% filter(Coastal == FALSE),\n",
    "             exactDOF=TRUE)\n",
    "t14 <- felm(formula=log(tso2_cit) ~ target_c * Period * polluted_thre\n",
    "           +target_c * Period *polluted_thre * lab_share_SOE\n",
    "                  + output_fcit + capital_fcit + labour_fcit\n",
    "                  |\n",
    "             FE_t_c + FE_t_i + FE_c_i  | 0 |\n",
    "             industry, data= df_TCZ_list_china %>% filter(Coastal == FALSE),\n",
    "             exactDOF=TRUE)"
   ]
  },
  {
   "cell_type": "code",
   "execution_count": null,
   "metadata": {
    "kernel": "R"
   },
   "outputs": [],
   "source": [
    "test <- list(t0, t1, t2, t3,t4, t5, t6, t7, t8, t9, t10, t11, t12, t13, t14)"
   ]
  },
  {
   "cell_type": "code",
   "execution_count": null,
   "metadata": {
    "kernel": "python3"
   },
   "outputs": [],
   "source": [
    "import os\n",
    "decile=['& Output','Capital', 'Labour',\n",
    "        'Output','Capital', 'Labour',\n",
    "        'Output','Capital', 'Labour',\n",
    "        'Output','Capital', 'Labour',\n",
    "        'Output','Capital', 'Labour'\n",
    "       ]\n",
    "try:\n",
    "    os.remove(\"table_5.txt\")\n",
    "except:\n",
    "    pass\n",
    "try:\n",
    "    os.remove(\"table_5.tex\")\n",
    "except:\n",
    "    pass"
   ]
  },
  {
   "cell_type": "code",
   "execution_count": null,
   "metadata": {
    "kernel": "R"
   },
   "outputs": [],
   "source": [
    "fe1 <- list(\n",
    "    c(\"City fixed effects\", \"Yes\", \"Yes\", \"Yes\", \"Yes\", \"Yes\", \"Yes\", \"Yes\",\n",
    "      \"Yes\", \"Yes\", \"Yes\", \"Yes\", \"Yes\", \"Yes\", \"Yes\", \"Yes\"),\n",
    "    c(\"Industry fixed effects\", \"Yes\", \"Yes\", \"Yes\", \"Yes\", \"Yes\", \"Yes\", \"Yes\",\n",
    "      \"Yes\", \"Yes\", \"Yes\", \"Yes\", \"Yes\", \"Yes\", \"Yes\", \"Yes\"),\n",
    "    c(\"Yes fixed effects\",\"Yes\", \"Yes\", \"Yes\", \"Yes\", \"Yes\", \"Yes\", \"Yes\",\n",
    "      \"Yes\", \"Yes\", \"Yes\", \"Yes\", \"Yes\", \"Yes\", \"Yes\", \"Yes\")\n",
    ")\n",
    "\n",
    "table_1 <- go_latex(\n",
    "    test,\n",
    "    dep_var = \"Dependent variable: \\\\text { SO2 emission }_{i k t}\",\n",
    "    title=\"Test Median city\",\n",
    "    addFE=fe1,\n",
    "    save=TRUE,\n",
    "                    note = FALSE,\n",
    "    name=\"table_5.txt\"\n",
    ")"
   ]
  },
  {
   "cell_type": "code",
   "execution_count": null,
   "metadata": {
    "kernel": "python3"
   },
   "outputs": [],
   "source": [
    "tb = \"\"\"\\\\footnotesize{\n",
    "Due to limited space, only the coefficients of interest are presented \n",
    "for the regressions with city,industry, year fixed effect (i.e. columns 1-3).\n",
    "\\sym{*} Significance at the 10\\%, \\sym{**} Significance at the 5\\%, \\sym{***} Significance at the 1\\% \\\\\n",
    "heteroscedasticity-robust standard errors in parentheses are clustered by city \n",
    "}\n",
    "\"\"\"\n",
    "lb.beautify(table_number = 5,\n",
    "            remove_control= True,\n",
    "            constraint = True,\n",
    "            city_industry = False, \n",
    "            new_row = decile,\n",
    "            table_nte =tb)"
   ]
  }
 ],
 "metadata": {
  "jupytext": {
   "formats": "ipynb,md"
  },
  "kernelspec": {
   "display_name": "SoS",
   "language": "sos",
   "name": "sos"
  },
  "language_info": {
   "codemirror_mode": "sos",
   "file_extension": ".sos",
   "mimetype": "text/x-sos",
   "name": "sos",
   "nbconvert_exporter": "sos_notebook.converter.SoS_Exporter",
   "pygments_lexer": "sos"
  },
  "sos": {
   "kernels": [
    [
     "R",
     "ir",
     "R",
     "#DCDCDA",
     "r"
    ],
    [
     "SoS",
     "sos",
     "",
     "",
     "sos"
    ],
    [
     "python3",
     "python3",
     "python3",
     "",
     {
      "name": "ipython",
      "version": 3
     }
    ]
   ],
   "version": "0.20.6"
  }
 },
 "nbformat": 4,
 "nbformat_minor": 4
}
