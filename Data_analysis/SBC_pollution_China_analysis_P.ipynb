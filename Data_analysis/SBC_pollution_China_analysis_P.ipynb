{
 "cells": [
  {
   "cell_type": "markdown",
   "metadata": {},
   "source": [
    "# SBC_pollution_China data analysis\n",
    "\n",
    "This notebook has been generated on 2019-11-12 08:29 \n",
    "\n",
    "The objective of this notebook is to YYY\n",
    "\n",
    "## Proposal \n",
    "\n",
    "The proposal is available [here](https://drive.google.com/open?id=1tmSFvdUMXcL3vMKBSNYmf5xe6OEmYNnD)\n",
    "\n",
    "### Equation to estimate\n",
    "\n",
    "$$\n",
    "\\begin{aligned} \\text { SO2 emission }_{i k t}=& \\alpha T C Z_{i} \\times \\text { Polluted sectors }_{k} \\times \\text { post } \\\\ &+\\beta T C Z_{i} \\times \\text { Polluted sectors }_{k} \\times \\text { post } \\times \\text { Share SOE }_{k} \\\\ & +\\theta {X}_{i k t}+\\nu_{c i}+\\lambda_{t i} +\\phi_{t c} \\end{aligned}\n",
    "$$\n",
    "\n",
    "city-industry; time-industry and time-city\n",
    "\n",
    "## Analysis steps\n",
    "\n",
    "The analysis steps performed in this notebook are the following\n",
    "\n",
    "- Lorem ipsum dolor sit amet\n",
    "- Lorem ipsum dolor sit amet\n",
    "- Lorem ipsum dolor sit amet\n",
    "\n",
    "## Data source \n",
    "\n",
    "The data source of this dataset is:\n",
    "\n",
    "- [SBC_pollution_China](HERE)\n",
    "\n",
    "### Variable name\n",
    "\n",
    "The variables names and labels are the following:"
   ]
  },
  {
   "cell_type": "markdown",
   "metadata": {
    "collapsed": "false"
   },
   "source": [
    "<table border=\"1\" class=\"dataframe\">\n",
    "  <thead>\n",
    "    <tr style=\"text-align: right;\">\n",
    "      <th></th>\n",
    "      <th>Variables</th>\n",
    "      <th>Labels</th>\n",
    "      <th>Types</th>\n",
    "    </tr>\n",
    "  </thead>\n",
    "  <tbody>\n",
    "    <tr>\n",
    "      <th>0</th>\n",
    "      <td>year</td>\n",
    "      <td>year</td>\n",
    "      <td>int64</td>\n",
    "    </tr>\n",
    "    <tr>\n",
    "      <th>1</th>\n",
    "      <td>Period</td>\n",
    "      <td>Period</td>\n",
    "      <td>object</td>\n",
    "    </tr>\n",
    "    <tr>\n",
    "      <th>2</th>\n",
    "      <td>Province_en</td>\n",
    "      <td>Province_en</td>\n",
    "      <td>object</td>\n",
    "    </tr>\n",
    "    <tr>\n",
    "      <th>3</th>\n",
    "      <td>Lower_location</td>\n",
    "      <td>Lower_location</td>\n",
    "      <td>object</td>\n",
    "    </tr>\n",
    "    <tr>\n",
    "      <th>4</th>\n",
    "      <td>Larger_location</td>\n",
    "      <td>Larger_location</td>\n",
    "      <td>object</td>\n",
    "    </tr>\n",
    "    <tr>\n",
    "      <th>5</th>\n",
    "      <td>Coastal</td>\n",
    "      <td>Coastal</td>\n",
    "      <td>bool</td>\n",
    "    </tr>\n",
    "    <tr>\n",
    "      <th>6</th>\n",
    "      <td>cityen</td>\n",
    "      <td>cityen</td>\n",
    "      <td>object</td>\n",
    "    </tr>\n",
    "    <tr>\n",
    "      <th>7</th>\n",
    "      <td>geocode4_corr</td>\n",
    "      <td>geocode4_corr</td>\n",
    "      <td>int64</td>\n",
    "    </tr>\n",
    "    <tr>\n",
    "      <th>8</th>\n",
    "      <td>TCZ_c</td>\n",
    "      <td>TCZ_c</td>\n",
    "      <td>object</td>\n",
    "    </tr>\n",
    "    <tr>\n",
    "      <th>9</th>\n",
    "      <td>industry</td>\n",
    "      <td>industry</td>\n",
    "      <td>int64</td>\n",
    "    </tr>\n",
    "    <tr>\n",
    "      <th>10</th>\n",
    "      <td>ind2</td>\n",
    "      <td>ind2</td>\n",
    "      <td>int64</td>\n",
    "    </tr>\n",
    "    <tr>\n",
    "      <th>11</th>\n",
    "      <td>Short</td>\n",
    "      <td>Short</td>\n",
    "      <td>object</td>\n",
    "    </tr>\n",
    "    <tr>\n",
    "      <th>12</th>\n",
    "      <td>output_fcit</td>\n",
    "      <td>output_fcit</td>\n",
    "      <td>float64</td>\n",
    "    </tr>\n",
    "    <tr>\n",
    "      <th>13</th>\n",
    "      <td>capital_fcit</td>\n",
    "      <td>capital_fcit</td>\n",
    "      <td>float64</td>\n",
    "    </tr>\n",
    "    <tr>\n",
    "      <th>14</th>\n",
    "      <td>labour_fcit</td>\n",
    "      <td>labour_fcit</td>\n",
    "      <td>float64</td>\n",
    "    </tr>\n",
    "    <tr>\n",
    "      <th>15</th>\n",
    "      <td>count_SOE</td>\n",
    "      <td>count_SOE</td>\n",
    "      <td>float64</td>\n",
    "    </tr>\n",
    "    <tr>\n",
    "      <th>16</th>\n",
    "      <td>out_share_SOE</td>\n",
    "      <td>out_share_SOE</td>\n",
    "      <td>float64</td>\n",
    "    </tr>\n",
    "    <tr>\n",
    "      <th>17</th>\n",
    "      <td>cap_share_SOE</td>\n",
    "      <td>cap_share_SOE</td>\n",
    "      <td>float64</td>\n",
    "    </tr>\n",
    "    <tr>\n",
    "      <th>18</th>\n",
    "      <td>lab_share_SOE</td>\n",
    "      <td>lab_share_SOE</td>\n",
    "      <td>float64</td>\n",
    "    </tr>\n",
    "    <tr>\n",
    "      <th>19</th>\n",
    "      <td>tso2_cit</td>\n",
    "      <td>tso2_cit</td>\n",
    "      <td>int64</td>\n",
    "    </tr>\n",
    "    <tr>\n",
    "      <th>20</th>\n",
    "      <td>tCOD_cit</td>\n",
    "      <td>tCOD_cit</td>\n",
    "      <td>float64</td>\n",
    "    </tr>\n",
    "    <tr>\n",
    "      <th>21</th>\n",
    "      <td>twaste_water_cit</td>\n",
    "      <td>twaste_water_cit</td>\n",
    "      <td>int64</td>\n",
    "    </tr>\n",
    "    <tr>\n",
    "      <th>22</th>\n",
    "      <td>polluted_di</td>\n",
    "      <td>polluted_di</td>\n",
    "      <td>object</td>\n",
    "    </tr>\n",
    "    <tr>\n",
    "      <th>23</th>\n",
    "      <td>polluted_mi</td>\n",
    "      <td>polluted_mi</td>\n",
    "      <td>object</td>\n",
    "    </tr>\n",
    "    <tr>\n",
    "      <th>24</th>\n",
    "      <td>polluted_thre</td>\n",
    "      <td>polluted_thre</td>\n",
    "      <td>object</td>\n",
    "    </tr>\n",
    "    <tr>\n",
    "      <th>25</th>\n",
    "      <td>FE_c_i</td>\n",
    "      <td>FE_c_i</td>\n",
    "      <td>int64</td>\n",
    "    </tr>\n",
    "    <tr>\n",
    "      <th>26</th>\n",
    "      <td>FE_t_i</td>\n",
    "      <td>FE_t_i</td>\n",
    "      <td>int64</td>\n",
    "    </tr>\n",
    "    <tr>\n",
    "      <th>27</th>\n",
    "      <td>FE_t_c</td>\n",
    "      <td>FE_t_c</td>\n",
    "      <td>int64</td>\n",
    "    </tr>\n",
    "  </tbody>\n",
    "</table>"
   ]
  },
  {
   "cell_type": "markdown",
   "metadata": {},
   "source": [
    "# Analysis\n",
    "\n",
    "## Load the data"
   ]
  },
  {
   "cell_type": "code",
   "execution_count": null,
   "metadata": {},
   "outputs": [],
   "source": [
    "import pandas as pd\n",
    "from Fast_connectCloud import connector\n",
    "from GoogleDrivePy.google_drive import connect_drive\n",
    "import plotly.express as px\n",
    "import matplotlib.pyplot as plt\n",
    "import seaborn as sns; sns.set(color_codes=True)\n",
    "\n",
    "import numpy as np"
   ]
  },
  {
   "cell_type": "code",
   "execution_count": null,
   "metadata": {},
   "outputs": [],
   "source": [
    "gs = connector.open_connection(online_connection = False,\n",
    "                              path_credential = '/Users/thomas/Google Drive/Projects/Client_Oauth/Google_auth/')\n",
    "\n",
    "service = gs.connect_remote('GCP')\n",
    "service_gd = gs.connect_remote(engine = 'GS')\n",
    "gdr = connect_drive.connect_drive(service_gd['GoogleDrive'])"
   ]
  },
  {
   "cell_type": "code",
   "execution_count": null,
   "metadata": {},
   "outputs": [],
   "source": [
    "\n",
    "from GoogleDrivePy.google_platform import connect_cloud_platform\n",
    "project = 'valid-pagoda-132423'\n",
    "gcp = connect_cloud_platform.connect_console(project = project, \n",
    "                                             service_account = service['GoogleCloudP'])    \n",
    "query = (\n",
    "          \"SELECT * \"\n",
    "            \"FROM China.SBC_pollution_China \"\n",
    "\n",
    "        )\n",
    "\n",
    "df_final = gcp.upload_data_from_bigquery(query = query, location = 'US')\n",
    "df_final.head()\n",
    "    "
   ]
  },
  {
   "cell_type": "markdown",
   "metadata": {
    "collapsed": "false"
   },
   "source": [
    "## Load TCZ_list_china from Google Spreadsheet\n",
    "\n",
    "Feel free to add description about the dataset or any usefull information.\n",
    "\n",
    "Profiling will be available soon for this dataset"
   ]
  },
  {
   "cell_type": "code",
   "execution_count": null,
   "metadata": {},
   "outputs": [],
   "source": [
    "### Please go here https://docs.google.com/spreadsheets/d/15bMeS2cMfGfYJkjuY6wOMzcAUWZNRGpO03hZ8rpgv0Q\n",
    "### To change the range\n",
    "\n",
    "sheetid = '15bMeS2cMfGfYJkjuY6wOMzcAUWZNRGpO03hZ8rpgv0Q'\n",
    "sheetname = 'TCZ'\n",
    "\n",
    "df_TCZ_list_china = gdr.upload_data_from_spreadsheet(sheetID = sheetid,\n",
    "sheetName = sheetname,\n",
    "\t to_dataframe = True)\n",
    "df_TCZ_list_china.head()"
   ]
  },
  {
   "cell_type": "markdown",
   "metadata": {
    "collapsed": "false"
   },
   "source": [
    "## Load SO2_emission_macrodata from Google Big Query\n",
    "\n",
    "Feel free to add description about the dataset or any usefull information."
   ]
  },
  {
   "cell_type": "code",
   "execution_count": null,
   "metadata": {},
   "outputs": [],
   "source": [
    "\n",
    "  query = (\n",
    "          \"SELECT * \\\n",
    "           FROM China.SO2_emission_macrodata \"\n",
    "\n",
    "        )\n",
    "\n",
    "df_SO2_emission_macrodata = gcp.upload_data_from_bigquery(query = query, location = 'US')\n",
    "df_SO2_emission_macrodata.head()"
   ]
  },
  {
   "cell_type": "markdown",
   "metadata": {
    "collapsed": "false"
   },
   "source": [
    "## Load cityname_and_code from Google Spreadsheet\n",
    "\n",
    "Feel free to add description about the dataset or any usefull information.\n",
    "\n",
    "Profiling will be available soon for this dataset"
   ]
  },
  {
   "cell_type": "code",
   "execution_count": null,
   "metadata": {},
   "outputs": [],
   "source": [
    "### Please go here https://docs.google.com/spreadsheets/d/1fIziz-Xt99-Rj6NLm52-i6jScOLXgAY20KJi8k3DruA\n",
    "### To change the range\n",
    "\n",
    "sheetid = '1fIziz-Xt99-Rj6NLm52-i6jScOLXgAY20KJi8k3DruA'\n",
    "sheetname = 'final'\n",
    "\n",
    "df_cityname_and_code = gdr.upload_data_from_spreadsheet(sheetID = sheetid,\n",
    "sheetName = sheetname,\n",
    "\t to_dataframe = True)\n",
    "df_cityname_and_code.head()"
   ]
  },
  {
   "cell_type": "markdown",
   "metadata": {
    "collapsed": "false"
   },
   "source": [
    "## Load chinese_city_characteristics from Google Spreadsheet\n",
    "\n",
    "Feel free to add description about the dataset or any usefull information.\n",
    "\n",
    "Profiling will be available soon for this dataset"
   ]
  },
  {
   "cell_type": "code",
   "execution_count": null,
   "metadata": {},
   "outputs": [],
   "source": [
    "### Please go here https://docs.google.com/spreadsheets/d/15bMeS2cMfGfYJkjuY6wOMzcAUWZNRGpO03hZ8rpgv0Q\n",
    "### To change the range\n",
    "\n",
    "sheetid = '1-x9DCX4cun6Ed9iH5MiI4g21fXm7seRHHz7WXGiVKVU'\n",
    "sheetname = 'chinese_city_characteristics'\n",
    "\n",
    "df_chinese_city_characteristics = gdr.upload_data_from_spreadsheet(sheetID = sheetid,\n",
    "sheetName = sheetname,\n",
    "\t to_dataframe = True)\n",
    "df_chinese_city_characteristics.head()"
   ]
  },
  {
   "cell_type": "markdown",
   "metadata": {
    "collapsed": "false"
   },
   "source": [
    "## Load pollution_city_cic4_china from Google Spreadsheet\n",
    "\n",
    "Feel free to add description about the dataset or any usefull information.\n",
    "\n",
    "Profiling will be available soon for this dataset\n",
    "\n",
    "We need this table for the table 0 -> Need year 2001"
   ]
  },
  {
   "cell_type": "code",
   "execution_count": null,
   "metadata": {},
   "outputs": [],
   "source": [
    "  query = (\n",
    "          \"SELECT * \\\n",
    "           FROM China.pollution_city_cic4_china \"\n",
    "\n",
    "        )\n",
    "\n",
    "df_pollution_city_cic4_china = gcp.upload_data_from_bigquery(query = query, location = 'US')\n",
    "df_pollution_city_cic4_china.head()"
   ]
  },
  {
   "cell_type": "markdown",
   "metadata": {
    "collapsed": "false"
   },
   "source": [
    "## Load yearbook9813 from Google Spreadsheet\n",
    "\n",
    "Feel free to add description about the dataset or any usefull information.\n",
    "\n",
    "Profiling will be available soon for this dataset\n",
    "\n",
    "We need this table for the table 0 -> Need year 2001"
   ]
  },
  {
   "cell_type": "code",
   "execution_count": null,
   "metadata": {},
   "outputs": [],
   "source": [
    "### Please go here https://docs.google.com/spreadsheets/d/15bMeS2cMfGfYJkjuY6wOMzcAUWZNRGpO03hZ8rpgv0Q\n",
    "### To change the range\n",
    "\n",
    "sheetid = '1NpfDQ6dz7knjZDPSjRz2QanVf7td3ujSQn7hD7Gxkow'\n",
    "sheetname = 'yearbook'\n",
    "\n",
    "yearbook9813 = gdr.upload_data_from_spreadsheet(sheetID = sheetid,\n",
    "sheetName = sheetname,\n",
    "\t to_dataframe = True)\n",
    "yearbook9813.head()"
   ]
  },
  {
   "cell_type": "code",
   "execution_count": null,
   "metadata": {},
   "outputs": [],
   "source": []
  },
  {
   "cell_type": "markdown",
   "metadata": {
    "collapsed": "false"
   },
   "source": [
    "### Temp"
   ]
  },
  {
   "cell_type": "code",
   "execution_count": null,
   "metadata": {},
   "outputs": [],
   "source": [
    "list(df_final)"
   ]
  },
  {
   "cell_type": "code",
   "execution_count": null,
   "metadata": {},
   "outputs": [],
   "source": [
    "df_final['polluted_thre'].unique()"
   ]
  },
  {
   "cell_type": "code",
   "execution_count": null,
   "metadata": {},
   "outputs": [],
   "source": [
    "df_final.loc[lambda x : x['polluted_thre'].isin(['Above'])]['tso2_cit'].mean()"
   ]
  },
  {
   "cell_type": "code",
   "execution_count": null,
   "metadata": {},
   "outputs": [],
   "source": []
  },
  {
   "cell_type": "markdown",
   "metadata": {
    "collapsed": "false"
   },
   "source": [
    "## Analysis 1: Figures paper\n",
    "\n",
    "Create the figure for the stylised fact part"
   ]
  },
  {
   "cell_type": "markdown",
   "metadata": {
    "collapsed": "true"
   },
   "source": [
    "### Figure 0: SO2 Emission TCZ/No TCZ with growth"
   ]
  },
  {
   "cell_type": "code",
   "execution_count": null,
   "metadata": {
    "Collapsed": "false"
   },
   "outputs": [],
   "source": [
    "df_SO2_emission_macrodata.dtypes"
   ]
  },
  {
   "cell_type": "code",
   "execution_count": null,
   "metadata": {
    "Collapsed": "false"
   },
   "outputs": [],
   "source": [
    "df_SO2_emission_macrodata = df_SO2_emission_macrodata.apply(lambda x:\n",
    "                                                            pd.to_numeric(x, errors= 'ignore' )\n",
    "                                                           )"
   ]
  },
  {
   "cell_type": "code",
   "execution_count": null,
   "metadata": {
    "Collapsed": "false"
   },
   "outputs": [],
   "source": [
    "df_cityname_and_code.dtypes"
   ]
  },
  {
   "cell_type": "code",
   "execution_count": null,
   "metadata": {
    "Collapsed": "false"
   },
   "outputs": [],
   "source": [
    "so2_ = (df_SO2_emission_macrodata\n",
    "        .assign(extra_coda=lambda x: x['extra_coda'].astype('str'))\n",
    "        .merge(df_cityname_and_code.drop(columns=['Province_en',\n",
    "                                                  'Province_cn',\n",
    "                                                  'cityen_correct',\n",
    "                                                  'citycn_correct',\n",
    "                                                  'cityen',\n",
    "                                                  'citycn',\n",
    "                                                  # 'extra_coda'\n",
    "                                                  ]).drop_duplicates()\n",
    "               ).drop(columns='extra_coda')\n",
    "        )\n",
    "so2_.shape"
   ]
  },
  {
   "cell_type": "code",
   "execution_count": null,
   "metadata": {
    "Collapsed": "false"
   },
   "outputs": [],
   "source": [
    "df_chinese_city_characteristics_ = (df_chinese_city_characteristics\n",
    "                                    .rename(columns={'geocode4_corr': 'extra_coda'})\n",
    "                                    .merge(df_cityname_and_code.drop(\n",
    "                                        columns=['citycn',\n",
    "                                                 'cityen',\n",
    "                                                 'citycn_correct',\n",
    "                                                 'cityen_correct',\n",
    "                                                 'Province_cn',\n",
    "                                                 'Province_en']).drop_duplicates(),\n",
    "                                           on='extra_coda')\n",
    "                                    .reindex(columns=['year', 'cityen', 'geocode4_corr', 'gdp'])\n",
    "                                    .assign(year=lambda x: x['year'].astype('int'))\n",
    "                                    )\n",
    "df_chinese_city_characteristics_.shape"
   ]
  },
  {
   "cell_type": "code",
   "execution_count": null,
   "metadata": {
    "Collapsed": "false"
   },
   "outputs": [],
   "source": [
    "#(df_chinese_city_characteristics\n",
    "# .loc[lambda x:x['cityen']\n",
    "#      .isin(['Guangan', 'guangan'])]\n",
    "#)"
   ]
  },
  {
   "cell_type": "code",
   "execution_count": null,
   "metadata": {
    "Collapsed": "false"
   },
   "outputs": [],
   "source": [
    "temp = (so2_.merge(df_chinese_city_characteristics_,\n",
    "                   on=['year', 'geocode4_corr'],\n",
    "                   how='inner', #indicator=True\n",
    "                  )\n",
    "        )\n",
    "temp.shape\n",
    "#(temp[temp\n",
    "#      .duplicated(subset=['year', 'geocode4_corr'], keep='first')]\n",
    "# .drop_duplicates(subset=['geocode4_corr', 'cityen'])\n",
    "# )"
   ]
  },
  {
   "cell_type": "code",
   "execution_count": null,
   "metadata": {
    "Collapsed": "false"
   },
   "outputs": [],
   "source": [
    "temp.loc[lambda x : x['cityen'].isin(['hulunbeier', 'bayannaoer', 'wulanchabu'])]"
   ]
  },
  {
   "cell_type": "code",
   "execution_count": null,
   "metadata": {
    "Collapsed": "false"
   },
   "outputs": [],
   "source": [
    "df_TCZ_list_china_ = (df_TCZ_list_china\n",
    "                      .rename(columns = {'geocode4_corr' : 'extra_coda'})\n",
    "                      .merge(df_cityname_and_code.drop(\n",
    "                                        columns=['citycn',\n",
    "                                                 'cityen',\n",
    "                                                 'citycn_correct',\n",
    "                                                 'cityen_correct',\n",
    "                                                 'Province_cn',\n",
    "                                                 'Province_en']).drop_duplicates(),\n",
    "                            on = 'extra_coda')\n",
    "                     )\n",
    "df_TCZ_list_china_.shape"
   ]
  },
  {
   "cell_type": "code",
   "execution_count": null,
   "metadata": {
    "Collapsed": "false"
   },
   "outputs": [],
   "source": [
    "df_ = (temp\n",
    "       .merge(df_TCZ_list_china_,\n",
    "              on = 'geocode4_corr',\n",
    "              how = 'left', #indicator = True\n",
    "             )\n",
    "      )\n",
    "df_['gdp'] = pd.to_numeric(df_['gdp'])\n",
    "df_.head()"
   ]
  },
  {
   "cell_type": "code",
   "execution_count": null,
   "metadata": {
    "Collapsed": "false"
   },
   "outputs": [],
   "source": [
    "df_.dtypes"
   ]
  },
  {
   "cell_type": "code",
   "execution_count": null,
   "metadata": {
    "Collapsed": "false"
   },
   "outputs": [],
   "source": [
    "so2year = (df_\n",
    "           .groupby('year')['so2exhau_p']\n",
    "           .sum()\n",
    "           #.reset_index()\n",
    "           .rename(\"totalso2\"\n",
    "                   #,columns = {'so2exhau_p': 'totalso2'}\n",
    "                  )\n",
    "          )\n",
    "so2year.head()"
   ]
  },
  {
   "cell_type": "code",
   "execution_count": null,
   "metadata": {
    "Collapsed": "false"
   },
   "outputs": [],
   "source": [
    "fig1 = (df_\n",
    "        .groupby(['year', 'TCZ'])['so2exhau_p', 'gdp']\n",
    "        .sum()\n",
    "        .unstack()\n",
    "        # .reset_index()\n",
    "        .merge(so2year, left_index=True, right_index=True)\n",
    "        .assign(\n",
    "            no_tcz=lambda x: (x.iloc[:, 4] - x.iloc[:, 1])/1000000,\n",
    "            TCZ=lambda x: (x.iloc[:, 1])/1000000,\n",
    "            pct_change_tcz=lambda x: x.iloc[:, 2].pct_change(),\n",
    "            pct_change_no_tcz=lambda x: x.iloc[:, 3].pct_change(),\n",
    "            pct_change_tcz_so2=lambda x: x.iloc[:, 1].pct_change(),\n",
    "            pct_change_no_tcz_so2=lambda x: x.iloc[:, 0].pct_change(),\n",
    "        )\n",
    "         .iloc[5:, 5:]\n",
    "        # .drop(columns = ['0', 'totalso2'])\n",
    "        # .set_index('year')\n",
    "        # .style\n",
    "        # .format('{0:,.0f}')\n",
    "        )\n",
    "\n",
    "fig1.columns = ['No TCZ','TCZ','GDP growth TCZ',\n",
    "                'GDP growth No TCZ', 'SO2 growth TCZ',\n",
    "                'SO2 growth No TCZ']\n",
    "fig1"
   ]
  },
  {
   "cell_type": "code",
   "execution_count": null,
   "metadata": {
    "Collapsed": "false"
   },
   "outputs": [],
   "source": [
    "sns.set_style(\"white\")\n",
    "fig, ax1 = plt.subplots()\n",
    "ax1.bar(fig1.index, fig1['TCZ'], 0.35, label = 'TCZ')\n",
    "ax1.bar(fig1.index + .35, fig1['No TCZ'], 0.35, label = 'No TCZ')\n",
    "ax1.legend(bbox_to_anchor=(1, 1.05))\n",
    "#ax2 = ax1.twinx() \n",
    "#ax2.plot(fig1.index, fig1['GDP growth TCZ'])\n",
    "#ax2.plot(fig1.index, fig1['GDP growth No TCZ'])\n",
    "\n",
    "plt.xlabel('Year')\n",
    "# Set y-axis label\n",
    "plt.ylabel('Actual SO2 emission (Millions of tons)')\n",
    "\n",
    "plt.savefig(\"images/fig_0.png\",\n",
    "            bbox_inches='tight',\n",
    "            dpi=600)"
   ]
  },
  {
   "cell_type": "code",
   "execution_count": null,
   "metadata": {
    "Collapsed": "false"
   },
   "outputs": [],
   "source": [
    "# Lazy to think\n",
    "TCZ = fig1[['TCZ', 'GDP growth TCZ',\n",
    "            'SO2 growth TCZ']].assign(g1=1).rename(columns={'TCZ': 'SO2',\n",
    "                                                            'GDP growth TCZ': 'GDP growth',\n",
    "                                                            'SO2 growth TCZ': 'SO2 growth'\n",
    "                                                            })\n",
    "noTCZ = fig1[['No TCZ', 'GDP growth No TCZ',\n",
    "              'SO2 growth No TCZ']].assign(g1=0).rename(columns={'No TCZ': 'SO2',\n",
    "                                                                 'GDP growth No TCZ': 'GDP growth',\n",
    "                                                                 'SO2 growth No TCZ': 'SO2 growth'})\n",
    "fig1_ = pd.concat([TCZ, noTCZ], sort=True)\n",
    "fig1_\n",
    "sns.scatterplot(x=\"GDP growth\", y=\"SO2 growth\", hue=\"g1\",\n",
    "                      data=fig1_)"
   ]
  },
  {
   "cell_type": "markdown",
   "metadata": {
    "collapsed": "true"
   },
   "source": [
    "### Figure 1: SO2 emission for a TCZ and Non TCZ city"
   ]
  },
  {
   "cell_type": "code",
   "execution_count": null,
   "metadata": {
    "Collapsed": "false"
   },
   "outputs": [],
   "source": [
    "tcz = df_final.loc[lambda x:x['TCZ_c'] == 'TCZ']['geocode4_corr'].drop_duplicates().tolist()\n",
    "notcz = df_final.loc[lambda x:x['TCZ_c'] != 'TCZ']['geocode4_corr'].drop_duplicates().tolist()"
   ]
  },
  {
   "cell_type": "code",
   "execution_count": null,
   "metadata": {
    "Collapsed": "false"
   },
   "outputs": [],
   "source": [
    "(df_chinese_city_characteristics[['geocode4_corr', 'cityen', 'year', 'gdp','population']]\n",
    " .apply(pd.to_numeric, errors ='ignore')\n",
    " .set_index(['geocode4_corr', 'year'])\n",
    " .assign(gdp_cap = lambda x: x['gdp'].divide(x['population'], fill_value=0))\n",
    " .loc[(slice(None), 2005), :]\n",
    " .reset_index('year')\n",
    " .sort_values(by ='gdp_cap')\n",
    " #.loc[lambda x: x['cityen']=='changsha']\n",
    " .loc[lambda x: \n",
    "     (x['gdp_cap'] > 55000) &\n",
    "     (x.index.isin(tcz))]\n",
    ")"
   ]
  },
  {
   "cell_type": "code",
   "execution_count": null,
   "metadata": {
    "Collapsed": "false"
   },
   "outputs": [],
   "source": [
    "(df_final\n",
    " .loc[lambda x:x['geocode4_corr']\n",
    "      .isin(tcz)]\n",
    " .groupby(['cityen','year'])['tso2_cit']\n",
    " .sum()\n",
    " .loc['Ningbo']\n",
    " .plot()\n",
    ")"
   ]
  },
  {
   "cell_type": "markdown",
   "metadata": {
    "Collapsed": "false"
   },
   "source": [
    "Find a city with same characteristics as Ningbo but not TCZ\n",
    "\n",
    "- GDP per cap: Nongbo: 64885\n",
    "- GDP per cap: weihai: 58431"
   ]
  },
  {
   "cell_type": "code",
   "execution_count": null,
   "metadata": {
    "Collapsed": "false"
   },
   "outputs": [],
   "source": [
    "(df_chinese_city_characteristics[['geocode4_corr', 'cityen', 'year', 'gdp','population']]\n",
    " .apply(pd.to_numeric, errors ='ignore')\n",
    " .set_index(['geocode4_corr', 'year'])\n",
    " .assign(gdp_cap = lambda x: x['gdp'].divide(x['population'], fill_value=0))\n",
    " .loc[(slice(None), 2005), :]\n",
    " .reset_index('year')\n",
    " .sort_values(by ='gdp_cap')\n",
    " #.loc[lambda x: x['cityen']=='changsha']\n",
    " .loc[lambda x: \n",
    "     (x['gdp_cap'] > 35000) &\n",
    "     (x.index.isin(notcz))]\n",
    ")"
   ]
  },
  {
   "cell_type": "code",
   "execution_count": null,
   "metadata": {
    "Collapsed": "false"
   },
   "outputs": [],
   "source": [
    "(df_final\n",
    " .loc[lambda x:x['geocode4_corr']\n",
    "      .isin(notcz)]\n",
    " .groupby(['cityen','year'])['tso2_cit']\n",
    " .sum()\n",
    " .loc['Weihai']\n",
    " .plot()\n",
    ")"
   ]
  },
  {
   "cell_type": "code",
   "execution_count": null,
   "metadata": {
    "Collapsed": "false"
   },
   "outputs": [],
   "source": [
    "f1 = (df_final\n",
    " #.loc[lambda x:x['geocode4_corr']\n",
    " #     .isin(notcz)]\n",
    " .groupby(['cityen','TCZ_c', 'year'])['tso2_cit']\n",
    " .sum()\n",
    " .reset_index()\n",
    " .loc[lambda x:x['cityen'].isin(['Weihai', 'Ningbo'])]\n",
    " #.set_index('year', append = True)\n",
    " .assign(\n",
    " city_type = lambda x: x['cityen'].str.cat(x['TCZ_c'], sep='-'),\n",
    " tso2_cit = lambda x: x['tso2_cit']/10000\n",
    "     \n",
    " )     \n",
    " #.unstack(0)\n",
    " #.plot()\n",
    ")\n",
    "f1"
   ]
  },
  {
   "cell_type": "code",
   "execution_count": null,
   "metadata": {
    "Collapsed": "false"
   },
   "outputs": [],
   "source": [
    "sns.set_style(\"white\")"
   ]
  },
  {
   "cell_type": "code",
   "execution_count": null,
   "metadata": {
    "Collapsed": "false"
   },
   "outputs": [],
   "source": [
    "sns.lineplot(x=\"year\",\n",
    "             y=\"tso2_cit\",\n",
    "             hue = 'city_type',\n",
    "             data=f1)\n",
    "plt.xlabel('Year')\n",
    "# Set y-axis label\n",
    "plt.ylabel('Actual SO2 emission (10.000 tons)')\n",
    "\n",
    "plt.savefig(\"images/fig_1.png\",\n",
    "            bbox_inches='tight',\n",
    "            dpi=600)"
   ]
  },
  {
   "cell_type": "markdown",
   "metadata": {
    "collapsed": "true"
   },
   "source": [
    "### Figure 2: SOE Output share for a TCZ and Non TCZ\n",
    "\n",
    "The second sylised fact is about ploting the evolution of SO2 emission in a TCZ city and non-TCZ city over time tacking into account the SOE participation by industry. We should except a decrease after 2006\n",
    "\n",
    "For instance, we take:\n",
    "\n",
    "- Kunming: GDP per cap: 35027\n",
    "- Qinhuangdao: GDP per cap: 39585"
   ]
  },
  {
   "cell_type": "code",
   "execution_count": null,
   "metadata": {
    "Collapsed": "false"
   },
   "outputs": [],
   "source": [
    "def graph_share_perc(years=['2005', '2007'],\n",
    "                     cities=['Qinhuangdao', 'Kunming'],\n",
    "                     var='out_share_SOE'):\n",
    "    \"\"\"\n",
    "    Plot graph relationship betwee SOE industry share and\n",
    "    variation of SO2 emission\n",
    "    \n",
    "    Positive value for pct change means SO2 has decreased\n",
    "    between 2005 and 2007\n",
    "    \n",
    "    \"\"\"\n",
    "\n",
    "    test = (df_final\n",
    "            .loc[lambda x:x['year'].isin(years)]\n",
    "            .sort_values(by=['cityen', 'industry', 'year'])\n",
    "            .set_index(['cityen',\n",
    "                        'industry',\n",
    "                        'TCZ_c'])\n",
    "            .groupby(level=[0, 1, 2])\n",
    "            .agg(pct_change=('tso2_cit', 'pct_change'),\n",
    "                 )\n",
    "            .assign( \n",
    "            pct_change = lambda x: np.negative(x['pct_change'])\n",
    "            )\n",
    "            .dropna()\n",
    "            ).merge(\n",
    "        (df_final\n",
    "         .set_index([\n",
    "             'industry'])\n",
    "            .groupby(level=[0])\n",
    "            .agg(\n",
    "             out_share_SOE=('out_share_SOE', 'min'),\n",
    "             cap_share_SOE=('cap_share_SOE', 'min'),\n",
    "             lab_share_SOE=('lab_share_SOE', 'min')\n",
    "         )\n",
    "         ),\n",
    "        left_index=True, right_index=True\n",
    "    )\n",
    "    \n",
    "    df_test = (test.reset_index(['industry', 'TCZ_c'])\n",
    "           .loc[lambda x:x.index.isin(cities)]\n",
    "               .reset_index()\n",
    "               .assign(\n",
    "                   city_type = lambda x: \n",
    "                   x['cityen'].str.cat(x['TCZ_c'], sep='-'),\n",
    "     \n",
    " )\n",
    "           )\n",
    "    \n",
    "    sns.lmplot(x=var,\n",
    "               y=\"pct_change\",\n",
    "               hue=\"city_type\",\n",
    "           data=df_test.loc[lambda x:x['pct_change'] < 10], ci=None)\n",
    "    \n",
    "    #plt.title('Relationship between Financial dependencies and variation of SO2 between 2005 and 2007, in log')\n",
    "    # Set x-axis label\n",
    "    plt.xlabel('Industry SOE output share')\n",
    "    # Set y-axis label\n",
    "    plt.ylabel('Actual Pollution Reduction (%)')\n",
    "    #plt.savefig('fig1.svg', format='svg', dpi=1200)\n",
    "    plt.axhline(y=0, color = 'r', linewidth  = 1)\n",
    "\n",
    "    #plt.savefig('destination_path.eps', format='eps', dpi=1000)\n",
    "    #plt.savefig(\"images/fig_2.png\",\n",
    "    #        bbox_inches='tight',\n",
    "    #        dpi=600)\n",
    "    "
   ]
  },
  {
   "cell_type": "code",
   "execution_count": null,
   "metadata": {
    "Collapsed": "false"
   },
   "outputs": [],
   "source": [
    "graph_share_perc(years=['2005', '2007'],\n",
    "                     cities=['Xiamen', 'Tangshan'],\n",
    "                     var='out_share_SOE')"
   ]
  },
  {
   "cell_type": "markdown",
   "metadata": {
    "collapsed": "false"
   },
   "source": [
    "### Figure 3: city mandate distribution TCZ"
   ]
  },
  {
   "cell_type": "code",
   "execution_count": null,
   "metadata": {},
   "outputs": [],
   "source": [
    "test = df_final[['TCZ_c', 'target_c']].drop_duplicates()"
   ]
  },
  {
   "cell_type": "code",
   "execution_count": null,
   "metadata": {},
   "outputs": [],
   "source": [
    "import seaborn as sns"
   ]
  },
  {
   "cell_type": "code",
   "execution_count": null,
   "metadata": {},
   "outputs": [],
   "source": [
    "test.groupby(\"TCZ_c\").describe().T"
   ]
  },
  {
   "cell_type": "code",
   "execution_count": null,
   "metadata": {},
   "outputs": [],
   "source": [
    "sns.distplot(df_final[lambda x: x['TCZ_c'] == \"TCZ\"]['target_c'], hist=False)\n",
    "sns.distplot(df_final[lambda x: x['TCZ_c'] == \"No_TCZ\"]['target_c'], hist=False)"
   ]
  },
  {
   "cell_type": "markdown",
   "metadata": {
    "collapsed": "false"
   },
   "source": [
    "## Analysis 2: Summary table paper\n",
    "\n",
    "Pandas to latex with formater\n",
    "\n",
    "- https://github.com/pandas-dev/pandas/issues/21625"
   ]
  },
  {
   "cell_type": "code",
   "execution_count": null,
   "metadata": {},
   "outputs": [],
   "source": [
    "### Please go here https://docs.google.com/spreadsheets/d/15bMeS2cMfGfYJkjuY6wOMzcAUWZNRGpO03hZ8rpgv0Q\n",
    "### To change the range\n",
    "\n",
    "sheetid = '15bMeS2cMfGfYJkjuY6wOMzcAUWZNRGpO03hZ8rpgv0Q'\n",
    "sheetname = 'All_cities'\n",
    "\n",
    "df_TCZ_list_china = gdr.upload_data_from_spreadsheet(sheetID = sheetid,\n",
    "sheetName = sheetname,\n",
    "\t to_dataframe = True)"
   ]
  },
  {
   "cell_type": "markdown",
   "metadata": {
    "collapsed": "false"
   },
   "source": [
    "### Table 0 \n",
    "\n",
    "Need to compare with the data from Zhao Ruili\n",
    "\n",
    "https://docs.google.com/spreadsheets/d/1kSyGnkWOwoGVe1PgsQUGoWYO3DB8p9fgVh_VE6ilBt8/edit?usp=sharing"
   ]
  },
  {
   "cell_type": "markdown",
   "metadata": {
    "collapsed": "false"
   },
   "source": [
    "### Data 周凌- Yearbook"
   ]
  },
  {
   "cell_type": "code",
   "execution_count": null,
   "metadata": {},
   "outputs": [],
   "source": [
    "df_cityname_and_code.head()"
   ]
  },
  {
   "cell_type": "code",
   "execution_count": null,
   "metadata": {},
   "outputs": [],
   "source": [
    "df_TCZ_list_china_ = (df_cityname_and_code\n",
    "                      .drop(\n",
    "    columns=['citycn',\n",
    "             'cityen',\n",
    "             'citycn_correct',\n",
    "             'cityen_correct',\n",
    "             'Province_cn',\n",
    "             'Province_en'])\n",
    "                      .merge(\n",
    "    yearbook9813.rename(columns = {'geocode4_corr' : 'extra_coda'}))\n",
    "                      .drop(columns = ['extra_coda'])\n",
    "                     )\n",
    "df_TCZ_list_china_.head(10)"
   ]
  },
  {
   "cell_type": "code",
   "execution_count": null,
   "metadata": {},
   "outputs": [],
   "source": [
    "yearbook_so2 = (df_TCZ_list_china_\n",
    "                .merge(df_TCZ_list_china, how = \"left\")\n",
    "                .apply(lambda x: pd.to_numeric(x, errors = 'coerce'))\n",
    "               )#.head(10)"
   ]
  },
  {
   "cell_type": "code",
   "execution_count": null,
   "metadata": {},
   "outputs": [],
   "source": [
    "yearbook_so2['TCZ'] = yearbook_so2['TCZ'].fillna(0)"
   ]
  },
  {
   "cell_type": "code",
   "execution_count": null,
   "metadata": {},
   "outputs": [],
   "source": [
    "yearbook_so2['TCZ'].value_counts()"
   ]
  },
  {
   "cell_type": "code",
   "execution_count": null,
   "metadata": {},
   "outputs": [],
   "source": [
    "(yearbook_so2\n",
    " .loc[lambda x: \n",
    "      #(~x['tcz'].isin(['OTHER']))\n",
    " #    & \n",
    " (x['year'].isin(['2006', '2010']))]\n",
    " .drop(columns = ['代码',\n",
    "                  '简称', \n",
    "                  'Province',\n",
    "                  'City',\n",
    "                  'geocode4_corr',\n",
    "                  \"[Envirct06:工业二氧化硫去除量][单位:吨]\",\n",
    "                 '[Envirct08:工业烟尘去除量][单位:吨]',\n",
    "                 '[Envirct09:工业烟尘排放量][单位:吨]'])\n",
    " .groupby([\"year\", 'TCZ'])\n",
    " .sum()\n",
    " #.set_index(['year', 'TCZ'])\n",
    " #.drop(columns = ['代码', '简称', 'Province', 'City'])\n",
    " .unstack(1)\n",
    " #.droplevel(0, axis=1)\n",
    " .assign(\n",
    "     pct_notcz_dioxyde = lambda x: x.iloc[:,0].pct_change(),\n",
    "     pct_tcz_dioxyde = lambda x: x.iloc[:,1].pct_change()\n",
    "        )\n",
    " .style\n",
    " .format('{0:,.0f}', subset = ['NO_TCZ', 'TCZ'])\n",
    " .format('{0:,.0%}', subset = ['pct_notcz_dioxyde', 'pct_tcz_dioxyde'])\n",
    ")"
   ]
  },
  {
   "cell_type": "code",
   "execution_count": null,
   "metadata": {},
   "outputs": [],
   "source": [
    "(yearbook_so2\n",
    " .loc[lambda x: \n",
    "      #(~x['tcz'].isin(['OTHER']))\n",
    " #    & \n",
    " (x['year'].isin(['2006', '2010']))]\n",
    " .drop(columns = ['代码',\n",
    "                  '简称', \n",
    "                  'Province',\n",
    "                  'City',\n",
    "                  'geocode4_corr',\n",
    "                  \"[Envirct06:工业二氧化硫去除量][单位:吨]\",\n",
    "                 '[Envirct08:工业烟尘去除量][单位:吨]',\n",
    "                 '[Envirct09:工业烟尘排放量][单位:吨]',\n",
    "                 'TCZ'])\n",
    " .groupby([\"year\"])\n",
    " .sum()\n",
    " #.set_index(['year', 'TCZ'])\n",
    " #.drop(columns = ['代码', '简称', 'Province', 'City'])\n",
    " #.unstack(1)\n",
    " #.droplevel(0, axis=1)\n",
    " .assign(\n",
    "     pct_dioxyde = lambda x: x.iloc[:,0].pct_change(),\n",
    " #    pct_tcz_dioxyde = lambda x: x.iloc[:,1].pct_change()\n",
    "        )\n",
    " .style\n",
    " #.format('{0:,.0f}', subset = ['NO_TCZ', 'TCZ'])\n",
    " .format('{0:,.0%}', subset = ['pct_dioxyde'])\n",
    ")"
   ]
  },
  {
   "cell_type": "markdown",
   "metadata": {
    "collapsed": "false"
   },
   "source": [
    "### Data ZhaoRuili"
   ]
  },
  {
   "cell_type": "code",
   "execution_count": null,
   "metadata": {},
   "outputs": [],
   "source": [
    "sheetid = '1kSyGnkWOwoGVe1PgsQUGoWYO3DB8p9fgVh_VE6ilBt8'\n",
    "sheetname = 'SO2_emission'\n",
    "\n",
    "df_TCZ_SO2_Zhaoruili= gdr.upload_data_from_spreadsheet(sheetID = sheetid,\n",
    "sheetName = sheetname,\n",
    "\t to_dataframe = True).apply(lambda x: pd.to_numeric(x, errors ='ignore'))"
   ]
  },
  {
   "cell_type": "code",
   "execution_count": null,
   "metadata": {},
   "outputs": [],
   "source": [
    "df_TCZ_SO2_Zhaoruili.head()"
   ]
  },
  {
   "cell_type": "code",
   "execution_count": null,
   "metadata": {},
   "outputs": [],
   "source": [
    "(df_TCZ_SO2_Zhaoruili\n",
    " .loc[lambda x: ~x['tcz'].isin(['OTHER'])]\n",
    " .set_index(['year', 'tcz'])\n",
    " .unstack(1)\n",
    " .droplevel(0, axis=1)\n",
    " .plot()\n",
    ")"
   ]
  },
  {
   "cell_type": "code",
   "execution_count": null,
   "metadata": {},
   "outputs": [],
   "source": [
    "(df_TCZ_SO2_Zhaoruili\n",
    " .loc[lambda x: (~x['tcz'].isin(['OTHER']))\n",
    "     & (x['year'].isin(['1998', '2000', '2001', '2005']))]\n",
    " .set_index(['year', 'tcz'])\n",
    " .unstack(1)\n",
    " .droplevel(0, axis=1)\n",
    " .assign(\n",
    "     full = lambda x:x.iloc[:,0]+x.iloc[:, 1],\n",
    "     pct_notcz = lambda x: x.iloc[:,0].pct_change(),\n",
    "     pct_tcz = lambda x: x.iloc[:,1].pct_change(),\n",
    "     pct_full = lambda x: x.iloc[:,2].pct_change()\n",
    "        )\n",
    " .style\n",
    " .format('{0:,.0f}', subset = ['NO_TCZ', 'TCZ', 'full'])\n",
    " .format('{0:,.0%}', subset = ['pct_notcz', 'pct_tcz', 'pct_full'])\n",
    ")"
   ]
  },
  {
   "cell_type": "markdown",
   "metadata": {
    "collapsed": "false"
   },
   "source": [
    "### Data Thomas"
   ]
  },
  {
   "cell_type": "code",
   "execution_count": null,
   "metadata": {},
   "outputs": [],
   "source": [
    "df_TCZ_list_china_ = (df_cityname_and_code\n",
    "                      .drop(\n",
    "    columns=['citycn',\n",
    "             'cityen',\n",
    "             'citycn_correct',\n",
    "             'cityen_correct',\n",
    "             'Province_cn',\n",
    "             'Province_en'])\n",
    "                      .merge(\n",
    "    df_TCZ_list_china.rename(columns = {'geocode4_corr' : 'extra_coda'}))\n",
    "                      .drop(columns = ['extra_coda'])\n",
    "                     )"
   ]
  },
  {
   "cell_type": "code",
   "execution_count": null,
   "metadata": {},
   "outputs": [],
   "source": [
    "df_pollution_city_cic4_china.groupby('year')['tso2'].sum().plot()"
   ]
  },
  {
   "cell_type": "code",
   "execution_count": null,
   "metadata": {},
   "outputs": [],
   "source": [
    "(df_pollution_city_cic4_china\n",
    " .assign(geocode4_corr = lambda x :x['citycode'].astype('str').str.rstrip('.0'))\n",
    " .merge(df_TCZ_list_china_)\n",
    " #.loc[lambda x : x['year'].isin(['2001', '2005'])]\n",
    " .groupby(['TCZ', 'year'])['tso2']\n",
    " .sum()\n",
    " .unstack(0)\n",
    " .plot()\n",
    ")"
   ]
  },
  {
   "cell_type": "code",
   "execution_count": null,
   "metadata": {},
   "outputs": [],
   "source": [
    "(df_pollution_city_cic4_china\n",
    " .assign(geocode4_corr = lambda x :x['citycode'].astype('str').str.rstrip('.0'))\n",
    " .merge(df_TCZ_list_china_)\n",
    " .loc[lambda x : x['year'].isin(['2001', '2005'])]\n",
    " .groupby(['TCZ', 'year'])['tso2']\n",
    " .sum()\n",
    " .groupby(level = 0)\n",
    " .pct_change() * 100\n",
    ")"
   ]
  },
  {
   "cell_type": "code",
   "execution_count": null,
   "metadata": {},
   "outputs": [],
   "source": [
    "(df_pollution_city_cic4_china\n",
    " .loc[lambda x : x['year'].isin(['2001', '2005'])]\n",
    " .groupby([ 'year'])['tso2']\n",
    " .sum()\n",
    " .pct_change() * 100\n",
    ")"
   ]
  },
  {
   "cell_type": "code",
   "execution_count": null,
   "metadata": {},
   "outputs": [],
   "source": [
    "(df_pollution_city_cic4_china\n",
    " .assign(geocode4_corr = lambda x :x['citycode'].astype('str').str.rstrip('.0'))\n",
    " .merge(df_TCZ_list_china_) \n",
    " .loc[lambda x : x['year'].isin(['1998', '2000'])]\n",
    " .groupby(['TCZ', 'year'])['tso2']\n",
    " .sum()\n",
    " .groupby(level = 0)\n",
    " .pct_change() * 100\n",
    ")"
   ]
  },
  {
   "cell_type": "code",
   "execution_count": null,
   "metadata": {},
   "outputs": [],
   "source": [
    "(df_pollution_city_cic4_china\n",
    " .loc[lambda x : x['year'].isin(['1998', '2000'])]\n",
    " .groupby([ 'year'])['tso2']\n",
    " .sum()\n",
    " .pct_change() * 100\n",
    ")"
   ]
  },
  {
   "cell_type": "markdown",
   "metadata": {
    "collapsed": "false"
   },
   "source": [
    "### Table 1 in paper"
   ]
  },
  {
   "cell_type": "code",
   "execution_count": null,
   "metadata": {},
   "outputs": [],
   "source": [
    "tab_ = (df_final\n",
    "        .assign(\n",
    "            geocode4_corr=lambda x: x['geocode4_corr'].astype('str')\n",
    "        ).merge(df_TCZ_list_china)\n",
    "        )"
   ]
  },
  {
   "cell_type": "code",
   "execution_count": null,
   "metadata": {},
   "outputs": [],
   "source": [
    "sumStat = (\n",
    "tab_\n",
    "    .groupby(['TCZ_c'])\n",
    "    .agg(\n",
    "        {\n",
    "            'tso2_cit':['mean', 'std'],\n",
    "            'count_SOE':['mean', 'std'],\n",
    "            'out_share_SOE':['mean', 'std'],\n",
    "            'cap_share_SOE':['mean', 'std'],\n",
    "            'lab_share_SOE':['mean', 'std'],\n",
    "            'output_fcit':['mean', 'std'],\n",
    "            'capital_fcit':['mean', 'std'],\n",
    "            'labour_fcit':['mean', 'std'],            \n",
    "        }\n",
    "    )\n",
    "    .T\n",
    "    .unstack(1)\n",
    "    .rename(index={\n",
    "        'tso2_cit': 'SO2_{cit}',\n",
    "        'count_SOE': '\\text{count share SOE}_{i}',\n",
    "        'out_share_SOE': '\\text{output share SOE}_{i}',\n",
    "        'cap_share_SOE': '\\text{capital share SOE}_{i}',\n",
    "        'lab_share_SOE': '\\text{labour share SOE}_{i}',\n",
    "        'output_fcit': '\\text{output}_{cit}',\n",
    "        'capital_fcit': '\\text{capital}_{cit}',\n",
    "        'labour_fcit': '\\text{labour}_{cit}',\n",
    "    \n",
    "    },columns = {\n",
    "            'No_TCZ':'No TCZ',\n",
    "        })\n",
    "    #.style\n",
    "    #.format('{0:,.3f}')\n",
    "    .to_latex(index=True,\n",
    "              float_format='%.3f'\n",
    "             )\n",
    ")\n",
    "sumStat = sumStat.replace('\\_\\{i\\}','_i')\n",
    "sumStat = sumStat.replace('\\{','{')\n",
    "sumStat = sumStat.replace('\\}','}')\n",
    "sumStat = sumStat.replace('\\\\textbackslash','')\n",
    "sumStat = sumStat.replace('text','\\\\text')\n",
    "sumStat = sumStat.replace('\\_{cit}','_{cit}')\n",
    "#sumStat = sumStat.replace('No\\_TCZ','No TCZ')\n",
    "sumStat = sumStat.replace('TCZ\\_c','')\n",
    "\n",
    "print(sumStat)"
   ]
  },
  {
   "cell_type": "markdown",
   "metadata": {},
   "source": [
    "### Table 1 in paper\n",
    "\n",
    "Need to combine with table above"
   ]
  },
  {
   "cell_type": "code",
   "execution_count": null,
   "metadata": {},
   "outputs": [],
   "source": [
    "tcz = (\n",
    "    tab_\n",
    "    .groupby(['TCZ_c'])\n",
    "    .agg(\n",
    "        TCZ_count=('cityen', 'nunique'),\n",
    "    )\n",
    "    .T\n",
    ")\n",
    "tcz"
   ]
  },
  {
   "cell_type": "code",
   "execution_count": null,
   "metadata": {},
   "outputs": [],
   "source": [
    "spz = (\n",
    "    tab_\n",
    "    .groupby(['TCZ_c', 'SPZ'])\n",
    "    .agg(\n",
    "        SPZ_count=('cityen', 'nunique'),\n",
    "    )\n",
    "    #.xs('1', level='SPZ')\n",
    "    #.T\n",
    ")\n",
    "spz"
   ]
  },
  {
   "cell_type": "code",
   "execution_count": null,
   "metadata": {},
   "outputs": [],
   "source": [
    "coastal = (\n",
    "    tab_\n",
    "    .groupby(['TCZ_c', 'Coastal'])\n",
    "    .agg(\n",
    "        coastal_count=('cityen', 'nunique'),\n",
    "    )\n",
    "    .iloc[[1, 3], :]\n",
    "    .T\n",
    "    .droplevel('Coastal', axis = 1)\n",
    "\n",
    ")"
   ]
  },
  {
   "cell_type": "code",
   "execution_count": null,
   "metadata": {},
   "outputs": [],
   "source": [
    "city_count = (pd.concat([tcz, spz, coastal], axis=0,sort = False)\n",
    "              .assign( \n",
    "              total = lambda x : x['No_TCZ'] + x['TCZ']\n",
    "              )\n",
    "       .rename(index={\n",
    "           'TCZ_count': 'TCZ',\n",
    "           'SPZ_count': 'SPZ',\n",
    "           'coastal_count': 'Coastal',\n",
    "       },\n",
    "    columns={\n",
    "           'No_TCZ': 'No TCZ',\n",
    "       })\n",
    "       ).to_latex()\n",
    "city_count = city_count.replace('TCZ\\_c','')\n",
    "print(city_count)"
   ]
  },
  {
   "cell_type": "markdown",
   "metadata": {},
   "source": [
    "### Table 2 in paper\n",
    "\n",
    "SO2 emission by TCZ before and after the 11th FYP, full sample"
   ]
  },
  {
   "cell_type": "code",
   "execution_count": null,
   "metadata": {},
   "outputs": [],
   "source": [
    "t1 = (df_final\n",
    "      .assign(tso2_cit = lambda x: x['tso2_cit']/10000)\n",
    "      .groupby(['TCZ_c', 'Period', 'cityen'])\n",
    "      .agg(\n",
    "          sum_tso2_c=('tso2_cit', np.sum),\n",
    "      )\n",
    "      .groupby(level=[0, 1])\n",
    "      .agg(\n",
    "          avg_tso2=('sum_tso2_c', np.mean)\n",
    "      )\n",
    "      .sort_values(by=['TCZ_c', 'Period'], ascending=True)\n",
    "      .unstack(-1)\n",
    "      .assign(difference=lambda x: np.round(x.iloc[:, 0] - x.iloc[:, 1], 0),\n",
    "              variance=lambda x: 1-(x.iloc[:, 0] / x.iloc[:, 1])\n",
    "              )\n",
    "      .round(2)\n",
    "      .iloc[:, 2:]\n",
    "      .stack()\n",
    "      .unstack(0)\n",
    "      .rename(index={'':'Full sample'})\n",
    "      .rename_axis(\"Location\")\n",
    "      )\n",
    "t1"
   ]
  },
  {
   "cell_type": "markdown",
   "metadata": {
    "collapsed": "false"
   },
   "source": [
    "SO2 emission by TCZ before and after the 11th FYP, by city location"
   ]
  },
  {
   "cell_type": "code",
   "execution_count": null,
   "metadata": {},
   "outputs": [],
   "source": [
    "t2 = (df_final\n",
    "      .assign(tso2_cit = lambda x: x['tso2_cit']/10000)\n",
    "      .groupby(['TCZ_c', 'Period', 'Lower_location', 'cityen'])\n",
    "      .agg(\n",
    "          sum_tso2_c=('tso2_cit', np.sum),\n",
    "      )\n",
    "      .groupby(level=[0, 1, 2])\n",
    "      .agg(\n",
    "          avg_tso2=('sum_tso2_c', np.mean)\n",
    "      )\n",
    "      .sort_values(by=['TCZ_c', 'Period'], ascending=True)\n",
    "      .unstack(-2)\n",
    "      .assign(difference=lambda x:  np.round(x.iloc[:, 0] - x.iloc[:, 1], 0),\n",
    "              variance=lambda x: 1-(x.iloc[:, 0] / x.iloc[:, 1])\n",
    "              )\n",
    "      .sort_values(by='Lower_location')\n",
    "      .round(2)\n",
    "      .iloc[:, 2:]\n",
    "      .unstack(0)\n",
    "      .droplevel(level=1, axis=1)\n",
    "      .rename_axis(\"Location\")\n",
    "      )\n",
    "t2"
   ]
  },
  {
   "cell_type": "markdown",
   "metadata": {
    "collapsed": "false"
   },
   "source": [
    "SO2 emission by TCZ before and after the 11th FYP, by coastal area"
   ]
  },
  {
   "cell_type": "code",
   "execution_count": null,
   "metadata": {},
   "outputs": [],
   "source": [
    "t3 = (df_final\n",
    "      .assign(tso2_cit = lambda x: x['tso2_cit']/10000)\n",
    "      .groupby(['TCZ_c', 'Period', 'Coastal', 'cityen'])\n",
    "      .agg(\n",
    "          sum_tso2_c=('tso2_cit', np.sum),\n",
    "      )\n",
    "      .groupby(level=[0, 1, 2])\n",
    "      .agg(\n",
    "          avg_tso2=('sum_tso2_c', np.mean)\n",
    "      )\n",
    "      .sort_values(by=['TCZ_c', 'Period'], ascending=True)\n",
    "      .unstack(-2)\n",
    "      .assign(difference=lambda x: np.round(x.iloc[:, 0] - x.iloc[:, 1], 0),\n",
    "              variance=lambda x: 1-(x.iloc[:, 0] / x.iloc[:, 1]))\n",
    "      .sort_values(by='Coastal')\n",
    "      .round(2)\n",
    "      .iloc[:, 2:]\n",
    "      .unstack(0)\n",
    "      .droplevel(level=1, axis=1)\n",
    "      .rename_axis(\"Location\")\n",
    "      .rename(index={True:'Coastal',\n",
    "                    False: 'Non Coastal'}\n",
    "             )\n",
    "      )\n",
    "t3"
   ]
  },
  {
   "cell_type": "code",
   "execution_count": null,
   "metadata": {},
   "outputs": [],
   "source": [
    "t = (pd.concat([t1, t2, t3])\n",
    " .to_latex(index=True,\n",
    "              float_format='%.2f'\n",
    "             )\n",
    ")\n",
    "t = t.replace('\\_',' ')\n",
    "t = t.replace('.00','')\n",
    "t = t.replace('TCZ c','TCZ')\n",
    "print(t)"
   ]
  },
  {
   "cell_type": "markdown",
   "metadata": {
    "collapsed": "false"
   },
   "source": [
    "### Differencial model 1"
   ]
  },
  {
   "cell_type": "code",
   "execution_count": null,
   "metadata": {},
   "outputs": [],
   "source": [
    "df_final['tso2_cit'].std()"
   ]
  },
  {
   "cell_type": "code",
   "execution_count": null,
   "metadata": {},
   "outputs": [],
   "source": [
    "df_final[['out_share_SOE',\n",
    "         'cap_share_SOE',\n",
    "         'labour_fcit']].quantile([.1, .2, .3, .4, .5, .6, .7, .8, .9]).reset_index()"
   ]
  },
  {
   "cell_type": "markdown",
   "metadata": {
    "collapsed": "false"
   },
   "source": [
    "## Fill the XX in paper\n",
    "\n",
    "Panel B gives a more in-depth overview of the SO2 reduction in the major areas of China. Following Wu et al. (2017), we split cities between Coastal, Southwest, Central, Northwest, and Northwest areas. In our sample, the Coastal area of China is composed of 10 provinces and has a total of XX TCZ cities."
   ]
  },
  {
   "cell_type": "code",
   "execution_count": null,
   "metadata": {},
   "outputs": [],
   "source": [
    "df_final.groupby([\n",
    "    #'Lower_location',\n",
    "    'Coastal',\n",
    "    'TCZ_c'])[['Province_en','cityen']].nunique()"
   ]
  },
  {
   "cell_type": "markdown",
   "metadata": {
    "collapsed": "false"
   },
   "source": [
    "The Southwestern area has five provinces and XX TCZ cities, while the Central area has six provinces and XX TCZ cities."
   ]
  },
  {
   "cell_type": "code",
   "execution_count": null,
   "metadata": {},
   "outputs": [],
   "source": [
    "df_final.groupby([\n",
    "    'Lower_location',\n",
    "    #'Coastal',\n",
    "    'TCZ_c'])[['Province_en','cityen']].nunique()"
   ]
  },
  {
   "cell_type": "markdown",
   "metadata": {
    "collapsed": "false"
   },
   "source": [
    "The Northern part of China is split into the western area with six provinces and XX cities and the Eastern area with three provinces and 34 cities."
   ]
  },
  {
   "cell_type": "code",
   "execution_count": null,
   "metadata": {},
   "outputs": [],
   "source": [
    "df_final.groupby([\n",
    "    'Lower_location',\n",
    "    #'Coastal',\n",
    "    #'TCZ_c'\n",
    "])[['Province_en','cityen']].nunique()"
   ]
  },
  {
   "cell_type": "code",
   "execution_count": null,
   "metadata": {},
   "outputs": [],
   "source": [
    "df_final.groupby([\n",
    "    'Lower_location',\n",
    "    #'Coastal',\n",
    "    'TCZ_c'\n",
    "])[['Province_en','cityen']].nunique()"
   ]
  },
  {
   "cell_type": "markdown",
   "metadata": {
    "collapsed": "false"
   },
   "source": [
    "We further defined cities according to whether or not they benefit from the title of SPZ or the sea borders them. Our sample included XX SPZ cities, and XX are adjacent to the sea."
   ]
  },
  {
   "cell_type": "code",
   "execution_count": null,
   "metadata": {},
   "outputs": [],
   "source": [
    "sheetid = '15bMeS2cMfGfYJkjuY6wOMzcAUWZNRGpO03hZ8rpgv0Q'\n",
    "sheetname = 'All_cities'\n",
    "\n",
    "df_TCZ_list_china['geocode4_corr'] = df_TCZ_list_china['geocode4_corr'].astype('int64')"
   ]
  },
  {
   "cell_type": "code",
   "execution_count": null,
   "metadata": {},
   "outputs": [],
   "source": [
    "df_final.shape"
   ]
  },
  {
   "cell_type": "code",
   "execution_count": null,
   "metadata": {},
   "outputs": [],
   "source": [
    "df_final.merge(df_TCZ_list_china).groupby([\n",
    "    #'Lower_location',\n",
    "    'SPZ'])[['Province_en','cityen']].nunique()"
   ]
  },
  {
   "cell_type": "code",
   "execution_count": null,
   "metadata": {},
   "outputs": [],
   "source": [
    "df_final.merge(df_TCZ_list_china).groupby([\n",
    "    #'Lower_location',\n",
    "    'Coastal',\n",
    "    'SPZ'])[['Province_en','cityen']].nunique()"
   ]
  },
  {
   "cell_type": "code",
   "execution_count": null,
   "metadata": {},
   "outputs": [],
   "source": []
  },
  {
   "cell_type": "markdown",
   "metadata": {},
   "source": [
    "## Analysis 3: Stylised fact: SO2 emission through time TCZ vs Non TCZ [ARCHIVED]\n",
    "\n",
    "\n",
    "None of the graphs below back up our story"
   ]
  },
  {
   "cell_type": "code",
   "execution_count": null,
   "metadata": {},
   "outputs": [],
   "source": [
    "(df_final\n",
    " #.loc[lambda x : x['polluted_thre'].isin(['Above'])]\n",
    " .groupby(['TCZ_c',\n",
    "           'year',\n",
    "           #'industry'\n",
    "           #'cityen',\n",
    "           #'polluted_thre'\n",
    "          ])\n",
    " .agg(\n",
    "     sum_tso2_c = ('tso2_cit', np.sum)\n",
    " )\n",
    " #.groupby(level = [0])\n",
    " #.agg(\n",
    " #    avg_tso2 = ('sum_tso2_c', np.mean),\n",
    " #)\n",
    " #.assign(ln_avg_tso2 = lambda x: np.log(x['avg_tso2']))\n",
    " #.drop(columns = 'avg_tso2')\n",
    " .unstack(0)\n",
    " .plot()\n",
    ")"
   ]
  },
  {
   "cell_type": "code",
   "execution_count": null,
   "metadata": {},
   "outputs": [],
   "source": [
    "(df_final\n",
    " .loc[lambda x : x['polluted_thre'].isin(['Above'])]\n",
    " .groupby(['TCZ_c',\n",
    "           'year',\n",
    "           #'industry'\n",
    "           'cityen',\n",
    "           #'polluted_thre'\n",
    "          ])\n",
    " .agg(\n",
    "     sum_tso2_c = ('tso2_cit', np.sum)\n",
    " )\n",
    " .groupby(level = [0, 1])\n",
    " .agg(\n",
    "     avg_tso2 = ('sum_tso2_c', np.mean),\n",
    " )\n",
    " #.assign(ln_avg_tso2 = lambda x: np.log(x['avg_tso2']))\n",
    " #.drop(columns = 'avg_tso2')\n",
    " .unstack(0)\n",
    " .plot()\n",
    ")"
   ]
  },
  {
   "cell_type": "code",
   "execution_count": null,
   "metadata": {},
   "outputs": [],
   "source": [
    "(df_final\n",
    " .loc[lambda x : x['polluted_thre'].isin(['Below'])]\n",
    " .groupby(['TCZ_c',\n",
    "           'year',\n",
    "           'cityen',\n",
    "           #'polluted_thre'\n",
    "          ])\n",
    " .agg(\n",
    "     sum_tso2_c = ('tso2_cit', np.sum)\n",
    " )\n",
    " .groupby(level = [0, 1])\n",
    " .agg(\n",
    "     avg_tso2 = ('sum_tso2_c', np.mean),\n",
    " )\n",
    " .assign(ln_avg_tso2 = lambda x: np.log(x['avg_tso2']))\n",
    " .drop(columns = 'avg_tso2')\n",
    " .unstack(0)\n",
    " .plot()\n",
    ")"
   ]
  },
  {
   "cell_type": "code",
   "execution_count": null,
   "metadata": {},
   "outputs": [],
   "source": [
    "(df_final\n",
    " #.loc[lambda x : x['polluted_thre'].isin(['Above'])]\n",
    " .loc[lambda x : x['TCZ_c'].isin(['TCZ'])]\n",
    " .groupby(['TCZ_c',\n",
    "           'year',\n",
    "           #'cityen',\n",
    "           'polluted_thre'\n",
    "          ])\n",
    " .agg(\n",
    "     sum_tso2_c = ('tso2_cit', np.sum)\n",
    " )\n",
    " #.groupby(level = [0, 1])\n",
    " #.agg(\n",
    " #    avg_tso2 = ('sum_tso2_c', np.mean),\n",
    " #)\n",
    " #.assign(ln_avg_tso2 = lambda x: np.log(x['avg_tso2']))\n",
    " #.drop(columns = 'avg_tso2')\n",
    " .unstack(2)\n",
    " .plot()\n",
    ")"
   ]
  },
  {
   "cell_type": "code",
   "execution_count": null,
   "metadata": {},
   "outputs": [],
   "source": [
    "(df_chinese_city_characteristics[['geocode4_corr', 'cityen', 'year', 'gdp','population']]\n",
    " .apply(pd.to_numeric, errors ='ignore')\n",
    " .set_index(['geocode4_corr', 'year'])\n",
    " .assign(gdp_cap = lambda x: x['gdp'].divide(x['population'], fill_value=0))\n",
    " .loc[(slice(None), 2005), :]\n",
    " .reset_index('year')\n",
    " .sort_values(by ='gdp_cap')\n",
    " #.loc[lambda x: x['cityen']=='qinhuangdao']\n",
    " .loc[lambda x: \n",
    "     (x['gdp_cap'] > 35000) &\n",
    "     (x.index.isin(tcz))]\n",
    ")"
   ]
  }
 ],
 "metadata": {
  "kernelspec": {
   "display_name": "Python 3",
   "language": "python",
   "name": "python3"
  },
  "language_info": {
   "codemirror_mode": {
    "name": "ipython",
    "version": 3
   },
   "file_extension": ".py",
   "mimetype": "text/x-python",
   "name": "python",
   "nbconvert_exporter": "python",
   "pygments_lexer": "ipython3",
   "version": "3.7.7"
  }
 },
 "nbformat": 4,
 "nbformat_minor": 4
}
