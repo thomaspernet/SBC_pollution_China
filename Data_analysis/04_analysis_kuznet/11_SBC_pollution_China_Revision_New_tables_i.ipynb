{
 "cells": [
  {
   "cell_type": "markdown",
   "metadata": {
    "kernel": "SoS"
   },
   "source": [
    "# New Tables: Industry level\n",
    "\n",
    "* Faire les tableaux suivants:\n",
    "  * Tableau 4: Kuznet: benchmark → Revision\n",
    "      * Trouver un tableau avec les déciles pour montrer:\n",
    "        * turning point croissant pour des villes avec une dominance étatique de plus en plus large\n",
    "      * Regarder si gdp/cap prix constant\n",
    "      * Indiquer les turning points dans les tableaux\n",
    "* Partie 6:\n",
    "  * Tableau 8: \n",
    "    * estimer 2 modèles sur des échantillons differents\n",
    "      * modèle 1 →  TCZ * Polluted * Period\n",
    "      * modèle 2 → Target * polluted*Period  \n",
    "    * Echantillonnage → prendre soit industry soit city industry\n",
    "      * Big\n",
    "        * Via Herfhindal \n",
    "          * benchmark →Revision\n",
    "      * Foreign \n",
    "        * via output/capital/employment \n",
    "      * SOEs\n",
    "        * via output/capital/employment \n",
    "      * SPZ\n",
    "      * Coastal\n",
    "    * Chaque tableau avec Panel A pour supérieur threshold, Panel B pour inférieur threshold\n",
    "  * Tableau 9:\n",
    "    * Enlever SPZ & Coastal\n",
    "    * estimer 2 modèles sur des échantillons differents\n",
    "      * modèle 1 →  TCZ * Polluted * Period\n",
    "      * modèle 2 → Target * polluted*Period  \n",
    "    * Idem tableau 8\n",
    "    \n",
    "## Summary\n",
    "\n",
    "### Size\n",
    "\n",
    "\n",
    "\n",
    "### Output\n",
    "\n",
    "\n",
    "\n",
    "### Capital\n",
    "\n",
    "\n",
    "\n",
    "### employment\n",
    "\n"
   ]
  },
  {
   "cell_type": "code",
   "execution_count": null,
   "metadata": {
    "kernel": "SoS"
   },
   "outputs": [],
   "source": [
    "import pandas as pd\n",
    "from Fast_connectCloud import connector\n",
    "import numpy as np"
   ]
  },
  {
   "cell_type": "code",
   "execution_count": null,
   "metadata": {
    "kernel": "Python 3"
   },
   "outputs": [],
   "source": [
    "import sys\n",
    "sys.path.insert(0,'..')"
   ]
  },
  {
   "cell_type": "code",
   "execution_count": null,
   "metadata": {
    "kernel": "Python 3"
   },
   "outputs": [],
   "source": [
    "import functions.latex_beautify as lb\n",
    "\n",
    "%load_ext autoreload\n",
    "%autoreload 2"
   ]
  },
  {
   "cell_type": "code",
   "execution_count": null,
   "metadata": {
    "kernel": "SoS"
   },
   "outputs": [],
   "source": [
    "gs = connector.open_connection(online_connection = False,\n",
    "                              path_credential = '/Users/thomas/Google Drive/Projects/Client_Oauth/Google_auth')\n",
    "\n",
    "service = gs.connect_remote('GCP')"
   ]
  },
  {
   "cell_type": "code",
   "execution_count": null,
   "metadata": {
    "kernel": "SoS"
   },
   "outputs": [],
   "source": [
    "%put df_final --to R\n",
    "\n",
    "from GoogleDrivePy.google_platform import connect_cloud_platform\n",
    "project = 'valid-pagoda-132423'\n",
    "gcp = connect_cloud_platform.connect_console(project = project, \n",
    "                                             service_account = service['GoogleCloudP'])    \n",
    "query = (\n",
    "          \"SELECT * \"\n",
    "            \"FROM China.SBC_pollution_China \"\n",
    "\n",
    "        )\n",
    "\n",
    "df_final = gcp.upload_data_from_bigquery(query = query, location = 'US')\n",
    "df_final.head()"
   ]
  },
  {
   "cell_type": "markdown",
   "metadata": {
    "kernel": "SoS"
   },
   "source": [
    "Get the industries available in our dataset, so that we match the firm level table"
   ]
  },
  {
   "cell_type": "code",
   "execution_count": null,
   "metadata": {
    "kernel": "SoS"
   },
   "outputs": [],
   "source": [
    "list_industry = df_final['industry'].to_list()"
   ]
  },
  {
   "cell_type": "code",
   "execution_count": null,
   "metadata": {
    "kernel": "R"
   },
   "outputs": [],
   "source": [
    "options(warn=-1)\n",
    "library(tidyverse)\n",
    "library(lfe)\n",
    "library(lazyeval)\n",
    "library('progress')\n",
    "\n",
    "path = \"../functions/SBC_pollution_R.R\"\n",
    "source(path)\n",
    "path = \"../functions/SBC_pollutiuon_golatex.R\"\n",
    "source(path)"
   ]
  },
  {
   "cell_type": "code",
   "execution_count": null,
   "metadata": {
    "kernel": "R"
   },
   "outputs": [],
   "source": [
    "df_final <- df_final %>% \n",
    "    mutate_if(is.character, as.factor) %>%\n",
    "    mutate_at(vars(starts_with(\"FE\")), as.factor) %>%\n",
    "    mutate(\n",
    "         Period = relevel(Period, ref='Before'),\n",
    "         TCZ_c = relevel(TCZ_c, ref='No_TCZ'),\n",
    "         effort_c = relevel(effort_c, ref='Below'),\n",
    "         polluted_di = relevel(polluted_di, ref='Below'),\n",
    "         polluted_mi = relevel(polluted_mi, ref='Below'),\n",
    "         polluted_thre = relevel(polluted_thre, ref='Below'),\n",
    "  )\n",
    "head(df_final)"
   ]
  },
  {
   "cell_type": "markdown",
   "metadata": {
    "kernel": "python3"
   },
   "source": [
    "# Partie 6"
   ]
  },
  {
   "cell_type": "markdown",
   "metadata": {
    "kernel": "python3"
   },
   "source": [
    "## Tableau 9 A and B \n",
    "\n",
    "Estimate the following models using different subsamples:\n",
    "\n",
    "### Model A \n",
    "\n",
    "$$\n",
    "Log SO2 emission _{i k t}=\\alpha\\left(\\text { Period } \\times \\text { Target }_{i} \\times \\text { Polluting sectors }_{k} \\right)+ Kuznet +\\nu_{i k}+\\lambda_{i t}+\\phi_{k t}+\\epsilon_{i k t}\n",
    "$$\n",
    "\n",
    "$$\n",
    "Log SO2 emission _{i k t}=\\alpha\\left(\\text { Period } \\times \\text { Target }_{i} \\times \\text { Polluting sectors }_{k} \\times \\text{ Share X}_i \\right)+\\nu_{i k}+\\lambda_{i t}+\\phi_{k t}+\\epsilon_{i k t}\n",
    "$$\n",
    "\n",
    "* Size\n",
    "    * Via Herfhindal \n",
    "        * benchmark →Revision\n",
    "* Foreign \n",
    "    * via output/capital/employment \n",
    "* SOEs\n",
    "    * via output/capital/employment \n",
    "* SPZ\n",
    "* Coastal"
   ]
  },
  {
   "cell_type": "markdown",
   "metadata": {
    "kernel": "python3"
   },
   "source": [
    "## Load Data"
   ]
  },
  {
   "cell_type": "markdown",
   "metadata": {
    "kernel": "R"
   },
   "source": [
    "### Load chinese_city_characteristics from Google Spreadsheet\n",
    "\n",
    "Feel free to add description about the dataset or any usefull information.\n",
    "\n",
    "Profiling will be available soon for this dataset"
   ]
  },
  {
   "cell_type": "code",
   "execution_count": null,
   "metadata": {
    "kernel": "Python 3"
   },
   "outputs": [],
   "source": [
    "from Fast_connectCloud import connector\n",
    "from GoogleDrivePy.google_drive import connect_drive\n",
    "import pandas as pd\n",
    "import numpy as np\n",
    "\n",
    "gs = connector.open_connection(online_connection = False, \n",
    "\tpath_credential = '/Users/thomas/Google Drive/Projects/Client_Oauth/Google_auth/')\n",
    "\n",
    "service_gd = gs.connect_remote(engine = 'GS')\n",
    "\n",
    "gdr = connect_drive.connect_drive(service_gd['GoogleDrive'])"
   ]
  },
  {
   "cell_type": "code",
   "execution_count": null,
   "metadata": {
    "kernel": "Python 3"
   },
   "outputs": [],
   "source": [
    "# Please go here https://docs.google.com/spreadsheets/d/1-x9DCX4cun6Ed9iH5MiI4g21fXm7seRHHz7WXGiVKVU\n",
    "# To change the range\n",
    "\n",
    "#sheetid = \"1-x9DCX4cun6Ed9iH5MiI4g21fXm7seRHHz7WXGiVKVU\"\n",
    "#sheetname = \"chinese_city_characteristics\"\n",
    "\n",
    "#df_chinese_city_characteristics = (gdr.upload_data_from_spreadsheet(\n",
    "#    sheetID=sheetid, sheetName=sheetname, to_dataframe=True\n",
    "#).loc[\n",
    "#    lambda x: x[\"year\"].isin(\n",
    "#        [\"2001\", \"2002\", \"2003\", \"2004\", \"2005\", \"2006\"])\n",
    "#][\n",
    "#    [\"cityen\", \"geocode4_corr\", \"year\", \"gdp\", \"population\"]\n",
    "#].rename(columns={'year': 'year_lagged'})\n",
    "# .apply(pd.to_numeric, errors='ignore')\n",
    "# .assign(year=lambda x:\n",
    "#            x['year_lagged'] + 1,\n",
    "#            gdp_cap=lambda x: x['gdp'] / x['population'],\n",
    "#            ln_gdp_cap= lambda x:np.log(x['gdp_cap']),\n",
    "#            ln_gdp_cap_sqred = lambda x: x['ln_gdp_cap'] * x['ln_gdp_cap'],\n",
    "#            ln_pop = lambda x: np.log(x['population'])\n",
    "#            )\n",
    "#  .drop(columns= 'cityen')\n",
    "#                                   .to_csv(\n",
    "#    'df_chinese_city_characteristics.csv', index = False)\n",
    "#                                  )"
   ]
  },
  {
   "cell_type": "code",
   "execution_count": null,
   "metadata": {
    "kernel": "SoS"
   },
   "outputs": [],
   "source": [
    "df_chinese_city_characteristics = df_final.merge(\n",
    "    pd.read_csv('../df_chinese_city_characteristics.csv'),\n",
    "    on = ['year','geocode4_corr']\n",
    ")\n",
    "df_chinese_city_characteristics.shape"
   ]
  },
  {
   "cell_type": "markdown",
   "metadata": {
    "kernel": "python3"
   },
   "source": [
    "### Compute Herfhindal: proxy Size\n",
    "\n",
    "$$\n",
    "H=\\sum_{i=1}^{N} s_{i}^{2}\n",
    "$$\n",
    "\n",
    "where $s_i$ is the market share of industry $i$ in a city, and $N$ is the number of firms. \n",
    "\n",
    "We proceed as follow:\n",
    "- Step 1: Compute the share [output, capital, employment] by city-industry: `market_share_cit`\n",
    "- Step 2: compute the sum of squared market share by industry: `Herfindahl_it`\n",
    "- Step 3: Compute the average across time: `Herfindahl_i`\n",
    "- Step 4: Compute the deciles of step 3: `decile_herfhindal_i`\n",
    "    - Low decile implies a low concentration within sectors\n",
    "    - High decile implies a high concentration within sectors"
   ]
  },
  {
   "cell_type": "code",
   "execution_count": null,
   "metadata": {
    "kernel": "SoS"
   },
   "outputs": [],
   "source": [
    "query = \"\"\"\n",
    "WITH sum_cit AS (\n",
    "  SELECT geocode4_corr, cic, sum(output) as sum_o_cit, year\n",
    "  FROM China.asif_firm_china \n",
    "  WHERE year >= 2002 AND year <= 2007\n",
    "  AND output > 0 \n",
    "    AND fa_net > 0 \n",
    "    AND employment > 0 \n",
    "  GROUP BY geocode4_corr, cic, year\n",
    ") \n",
    "SELECT * \n",
    "FROM \n",
    "  (WITH sum_it AS (\n",
    "    SELECT cic, SUM(sum_o_cit) as sum_o_it, year\n",
    "    FROM sum_cit\n",
    "    WHERE year >= 2002 AND year <= 2007\n",
    "    GROUP BY year, cic\n",
    ")\n",
    "SELECT *\n",
    "FROM\n",
    "  (WITH ms_cit AS (\n",
    "    SELECT  sum_cit.cic, sum_cit.geocode4_corr, sum_cit.year,\n",
    "    sum_cit.sum_o_cit/NULLIF(sum_it.sum_o_it, 0) as market_share_cit\n",
    "    FROM sum_cit\n",
    "    LEFT JOIN sum_it\n",
    "ON (\n",
    "sum_cit.year = sum_it.year AND \n",
    "sum_cit.cic = sum_it.cic\n",
    ")\n",
    ")\n",
    "SELECT *\n",
    "FROM\n",
    "  (WITH agg_1 AS (\n",
    "SELECT cic, SUM(POW(market_share_cit, 2)) as Herfindahl_it,\n",
    "year\n",
    "FROM ms_cit\n",
    "GROUP BY year, cic\n",
    "ORDER BY year, cic \n",
    ")\n",
    "SELECT *\n",
    "FROM (\n",
    "SELECT cic as industry,\n",
    "AVG(Herfindahl_it) as Herfindahl_i\n",
    "FROM agg_1\n",
    "GROUP BY cic\n",
    "ORDER BY cic\n",
    ")\n",
    "\n",
    ")))\n",
    "\"\"\"\n",
    "df_herfhindal = (gcp.upload_data_from_bigquery(query = query,\n",
    "                                         location = 'US')\n",
    "                 .loc[lambda x: x['industry'].isin(list_industry)]\n",
    "                )\n",
    "df_herfhindal.shape"
   ]
  },
  {
   "cell_type": "markdown",
   "metadata": {
    "kernel": "SoS"
   },
   "source": [
    "### Compute Ownership: proxy Foreign/SOE\n",
    "\n",
    "$$\\sum output_{io}/ \\sum output_i$$\n",
    "\n",
    "- with $i$ stands for industry\n",
    "- $o$ stands for ownership (Foreign vs Domestic or SOE vs private)\n",
    "\n"
   ]
  },
  {
   "cell_type": "markdown",
   "metadata": {
    "kernel": "SoS"
   },
   "source": [
    "#### Foreign vs domestic\n",
    "\n",
    "We proceed as follow:\n",
    "- Step 1: Compute the share [output, capital, employment] by industry, ownership (Foreign/Domestic): `Share_X_io`\n",
    "- Step 2: Compute dummy when share Foreign above share domestic by industry\n",
    "- Step 3: Compute decile by industry-ownership\n",
    "    - Note,  high decile in Foreign means the industry has relatively high share of foreign output, but not in absolule value as in step 2. A decile 9 in foreign can be a decile 2 or 3 in Domestic"
   ]
  },
  {
   "cell_type": "code",
   "execution_count": null,
   "metadata": {
    "kernel": "SoS"
   },
   "outputs": [],
   "source": [
    "query_share_foreign = \"\"\" \n",
    "WITH sum_io AS (\n",
    "  SELECT \n",
    "    case WHEN ownership = 'Foreign' THEN 'FOREIGN' ELSE 'DOMESTIC' END AS OWNERSHIP, \n",
    "    SUM(output / 10000000) as output_io, \n",
    "    SUM(fa_net / 10000000) as fa_net_io, \n",
    "    SUM(employment / 100000) as employment_io,\n",
    "    cic\n",
    "  FROM \n",
    "    China.asif_firm_china \n",
    "  WHERE \n",
    "    year >= 2002 \n",
    "    AND year <= 2007 \n",
    "    AND output > 0 \n",
    "    AND fa_net > 0 \n",
    "    AND employment > 0 \n",
    "  GROUP BY \n",
    "    OWNERSHIP, \n",
    "    cic\n",
    ") \n",
    "SELECT \n",
    "  * \n",
    "FROM \n",
    "  (\n",
    "    WITH sum_i AS(\n",
    "      SELECT \n",
    "        SUM(output_io) as output_i, \n",
    "        SUM(fa_net_io) as fa_net_i, \n",
    "        SUM(employment_io) as employment_i, \n",
    "        cic AS cic_b\n",
    "      FROM \n",
    "        sum_io \n",
    "      GROUP BY \n",
    "        cic\n",
    "    ) \n",
    "    SELECT \n",
    "      * \n",
    "    FROM \n",
    "      (\n",
    "        WITH share_io AS(\n",
    "          SELECT \n",
    "            OWNERSHIP, \n",
    "            output_io / output_i AS share_output_io, \n",
    "            fa_net_io / fa_net_i AS share_fa_net_io, \n",
    "            employment_io / employment_i AS share_employement_io, \n",
    "            cic\n",
    "          FROM \n",
    "            sum_io \n",
    "            LEFT JOIN sum_i ON sum_io.cic = sum_i.cic_b \n",
    "        ) \n",
    "        SELECT \n",
    "        cic as industry,\n",
    "        OWNERSHIP,  \n",
    "        share_output_io,\n",
    "        share_fa_net_io,\n",
    "        share_employement_io\n",
    "        FROM share_io\n",
    "        WHERE OWNERSHIP = 'FOREIGN'\n",
    "        )\n",
    "        )\n",
    "\"\"\"\n",
    "df_share_foreign = (gcp.upload_data_from_bigquery(query = query_share_foreign,\n",
    "                                         location = 'US')\n",
    "                    .loc[lambda x: x['industry'].isin(list_industry)]\n",
    "                   )\n",
    "df_share_foreign.shape\n",
    "#df_share_foreign['rank_share_output_i'].value_counts().sort_index()"
   ]
  },
  {
   "cell_type": "code",
   "execution_count": null,
   "metadata": {
    "kernel": "SoS"
   },
   "outputs": [],
   "source": [
    "#df_share_foreign_ = (df_share_foreign\n",
    "# .set_index(['industry', 'OWNERSHIP'])\n",
    "# .drop(columns = ['rank_share_output_i',\n",
    "#                  'rank_share_capital_i',\n",
    "#                  'rank_share_employement_i'])\n",
    "# .unstack(-1)\n",
    "# .fillna(0)\n",
    "# .assign(\n",
    "# output = lambda x: np.where(\n",
    "#     x.iloc[:,1] > x.iloc[:,0],\n",
    "#     'Above', 'Below'\n",
    "# ),\n",
    "#     capital = lambda x: np.where(\n",
    "#     x.iloc[:,3] > x.iloc[:,0],\n",
    "#     'Above', 'Below'\n",
    "# ),\n",
    "#     employment = lambda x: np.where(\n",
    "#     x.iloc[:,5] > x.iloc[:,0],\n",
    "#     'Above', 'Below'\n",
    "# )\n",
    "# )\n",
    "# .iloc[:, -3:]\n",
    "# .droplevel(level = 1, axis = 1)\n",
    "# .reset_index()\n",
    "#)\n",
    "#for i in ['output','capital', 'employment']:\n",
    "#    print(df_share_foreign_[i].value_counts().sort_index())"
   ]
  },
  {
   "cell_type": "code",
   "execution_count": null,
   "metadata": {
    "kernel": "SoS"
   },
   "outputs": [],
   "source": [
    "#df_share_foreign =  (df_share_foreign\n",
    "# .set_index(['industry','OWNERSHIP'])\n",
    "# .drop(columns = ['share_output_io',\n",
    "#                  'share_fa_net_io',\n",
    "#                  'share_employement_io'])\n",
    "# .xs('FOREIGN', level='OWNERSHIP', axis=0)\n",
    "# .reset_index()\n",
    "# .merge(df_share_foreign_)\n",
    "#)"
   ]
  },
  {
   "cell_type": "markdown",
   "metadata": {
    "kernel": "SoS"
   },
   "source": [
    "#### SOE\n",
    "\n",
    "We proceed as follow:\n",
    "- Step 1: Compute the share [output, capital, employment] by industry, ownership (SOE/Private): `Share_X_io`\n",
    "- Step 2: Compute dummy when share SOE above share Private by industry\n",
    "- Step 3: Compute decile by industry-ownership\n",
    "    - Note,  high decile in SOE means the industry has relatively high share of SOE output, but not in absolule value as in step 2. A decile 9 in SOE can be a decile 2 or 3 in Private"
   ]
  },
  {
   "cell_type": "code",
   "execution_count": null,
   "metadata": {
    "kernel": "SoS"
   },
   "outputs": [],
   "source": [
    "query_share_soe = \"\"\" \n",
    "WITH sum_io AS (\n",
    "  SELECT \n",
    "    case WHEN ownership = 'SOE' THEN 'SOE' ELSE 'DOMESTIC' END AS OWNERSHIP, \n",
    "    SUM(output / 10000000) as output_io, \n",
    "    SUM(fa_net / 10000000) as fa_net_io, \n",
    "    SUM(employment / 100000) as employment_io,\n",
    "    cic\n",
    "  FROM \n",
    "    China.asif_firm_china \n",
    "  WHERE \n",
    "    year >= 2002 \n",
    "    AND year <= 2007 \n",
    "    AND output > 0 \n",
    "    AND fa_net > 0 \n",
    "    AND employment > 0 \n",
    "  GROUP BY \n",
    "    OWNERSHIP, \n",
    "    cic\n",
    ") \n",
    "SELECT \n",
    "  * \n",
    "FROM \n",
    "  (\n",
    "    WITH sum_i AS(\n",
    "      SELECT \n",
    "        SUM(output_io) as output_i, \n",
    "        SUM(fa_net_io) as fa_net_i, \n",
    "        SUM(employment_io) as employment_i, \n",
    "        cic AS cic_b\n",
    "      FROM \n",
    "        sum_io \n",
    "      GROUP BY \n",
    "        cic\n",
    "    ) \n",
    "    SELECT \n",
    "      * \n",
    "    FROM \n",
    "      (\n",
    "        WITH share_io AS(\n",
    "          SELECT \n",
    "            OWNERSHIP, \n",
    "            output_io / output_i AS share_output_io, \n",
    "            fa_net_io / fa_net_i AS share_fa_net_io, \n",
    "            employment_io / employment_i AS share_employement_io, \n",
    "            cic\n",
    "          FROM \n",
    "            sum_io \n",
    "            LEFT JOIN sum_i ON sum_io.cic = sum_i.cic_b \n",
    "        ) \n",
    "        SELECT \n",
    "        * \n",
    "        FROM(\n",
    "        SELECT \n",
    "        cic as industry,\n",
    "        OWNERSHIP,  \n",
    "          share_output_io,\n",
    "          share_fa_net_io,\n",
    "          share_employement_io\n",
    "        FROM share_io\n",
    "        WHERE OWNERSHIP = 'SOE'\n",
    "        )\n",
    "        )\n",
    "        )\n",
    "\"\"\"\n",
    "df_share_soe = (gcp.upload_data_from_bigquery(query = query_share_soe,\n",
    "                                         location = 'US')\n",
    "                .loc[lambda x: x['industry'].isin(list_industry)]\n",
    "                   )\n",
    "df_share_soe.shape\n",
    "#df_share_soe['rank_share_output_i'].value_counts().sort_index()"
   ]
  },
  {
   "cell_type": "code",
   "execution_count": null,
   "metadata": {
    "kernel": "SoS"
   },
   "outputs": [],
   "source": [
    "#df_share_soe_ = (df_share_soe\n",
    "# .set_index(['industry', 'OWNERSHIP'])\n",
    "# .drop(columns = ['rank_share_output_i',\n",
    "#                  'rank_share_capital_i',\n",
    "#                  'rank_share_employement_i'])\n",
    "# .unstack(-1)\n",
    "# .fillna(0)\n",
    "# .assign(\n",
    "# output = lambda x: np.where(\n",
    "#     x.iloc[:,1] > x.iloc[:,0],\n",
    "#     'Above', 'Below'\n",
    "# ),\n",
    "#     capital = lambda x: np.where(\n",
    "#     x.iloc[:,3] > x.iloc[:,0],\n",
    "#     'Above', 'Below'\n",
    "# ),\n",
    "#     employment = lambda x: np.where(\n",
    "#     x.iloc[:,5] > x.iloc[:,0],\n",
    "#     'Above', 'Below'\n",
    "# )\n",
    "# )\n",
    "# .iloc[:, -3:]\n",
    "# .droplevel(level = 1, axis = 1)\n",
    "# .reset_index()\n",
    "#)\n",
    "\n",
    "#for i in ['output','capital', 'employment']:\n",
    "#    print(df_share_soe_[i].value_counts().sort_index())"
   ]
  },
  {
   "cell_type": "code",
   "execution_count": null,
   "metadata": {
    "kernel": "SoS"
   },
   "outputs": [],
   "source": [
    "#df_share_soe = (df_share_soe\n",
    "# .set_index(['industry','OWNERSHIP'])\n",
    "# .drop(columns = ['share_output_io',\n",
    "#                  'share_fa_net_io',\n",
    "#                  'share_employement_io'])\n",
    "# .xs('SOE', level='OWNERSHIP', axis=0)\n",
    "# .reset_index()\n",
    "# .merge(df_share_soe_)\n",
    " #.loc[lambda x: x.index.get_level_values('OWNERSHIP').isin(['FOREIGN'])]\n",
    "#)\n",
    "#df_share_soe.head()"
   ]
  },
  {
   "cell_type": "markdown",
   "metadata": {
    "kernel": "SoS"
   },
   "source": [
    "### Load TCZ_list_china from Google Spreadsheet\n",
    "\n",
    "Feel free to add description about the dataset or any usefull information.\n",
    "\n",
    "Profiling will be available soon for this dataset"
   ]
  },
  {
   "cell_type": "code",
   "execution_count": null,
   "metadata": {
    "kernel": "Python 3"
   },
   "outputs": [],
   "source": [
    "### Please go here https://docs.google.com/spreadsheets/d/15bMeS2cMfGfYJkjuY6wOMzcAUWZNRGpO03hZ8rpgv0Q\n",
    "### To change the range\n",
    "\n",
    "#sheetid = '15bMeS2cMfGfYJkjuY6wOMzcAUWZNRGpO03hZ8rpgv0Q'\n",
    "#sheetname = 'All_cities'\n",
    "\n",
    "#df_TCZ_list_china = gdr.upload_data_from_spreadsheet(sheetID = sheetid,\n",
    "#sheetName = sheetname,\n",
    "#\t to_dataframe = True)\n",
    "#df_TCZ_list_china.to_csv('df_TCZ_list_china.csv', index = False)"
   ]
  },
  {
   "cell_type": "code",
   "execution_count": null,
   "metadata": {
    "kernel": "R"
   },
   "outputs": [],
   "source": [
    "df_TCZ_list_china = read_csv('../df_TCZ_list_china.csv') %>% \n",
    "select(-c(TCZ, Province)) %>% \n",
    "left_join(df_final)"
   ]
  },
  {
   "cell_type": "markdown",
   "metadata": {
    "kernel": "SoS"
   },
   "source": [
    "### Add to table"
   ]
  },
  {
   "cell_type": "code",
   "execution_count": null,
   "metadata": {
    "kernel": "SoS"
   },
   "outputs": [],
   "source": [
    "%put df_herfhindal_final --to R\n",
    "df_herfhindal_final = (df_chinese_city_characteristics.merge(df_herfhindal,\n",
    "                                     on=['industry'],\n",
    "                                     how='left',\n",
    "                                     indicator=True\n",
    "                                     )\n",
    "                       .assign(\n",
    "                       decile_herfhindal_i = lambda x:\n",
    "                           pd.qcut(x['Herfindahl_i'],10, labels=False)\n",
    "                       )\n",
    "                      )"
   ]
  },
  {
   "cell_type": "code",
   "execution_count": null,
   "metadata": {
    "kernel": "SoS"
   },
   "outputs": [],
   "source": [
    "print('Median: {}'.format(df_herfhindal_final['Herfindahl_i'].median()))\n",
    "print(pd.qcut(df_herfhindal_final['Herfindahl_i'],\n",
    "        10).drop_duplicates().sort_values().reset_index(drop = True))\n",
    "\n",
    "df_herfhindal_final['decile_herfhindal_i'].value_counts().sort_index()"
   ]
  },
  {
   "cell_type": "code",
   "execution_count": null,
   "metadata": {
    "kernel": "R"
   },
   "outputs": [],
   "source": [
    "df_herfhindal_r <- df_herfhindal_final %>% \n",
    "    mutate_if(is.character, as.factor) %>%\n",
    "    mutate_at(vars(starts_with(\"FE\")), as.factor) %>%\n",
    "    mutate(\n",
    "         Period = relevel(Period, ref='Before'),\n",
    "         TCZ_c = relevel(TCZ_c, ref='No_TCZ'),\n",
    "         effort_c = relevel(effort_c, ref='Below'),\n",
    "         polluted_di = relevel(polluted_di, ref='Below'),\n",
    "         polluted_mi = relevel(polluted_mi, ref='Below'),\n",
    "         polluted_thre = relevel(polluted_thre, ref='Below'),\n",
    "  )"
   ]
  },
  {
   "cell_type": "code",
   "execution_count": null,
   "metadata": {
    "kernel": "SoS"
   },
   "outputs": [],
   "source": [
    "%put df_final_SOE --to R\n",
    "df_final_SOE = (df_chinese_city_characteristics.merge(\n",
    "    df_share_soe,\n",
    "    on = ['industry'],\n",
    "    how = 'left',\n",
    "    indicator = True\n",
    ")\n",
    "                .assign(\n",
    "                       output = lambda x:\n",
    "                           pd.qcut(x['share_output_io'],10, labels=False),\n",
    "                       capital = lambda x:\n",
    "                           pd.qcut(x['share_fa_net_io'],10, labels=False),\n",
    "                       employment = lambda x:\n",
    "                           pd.qcut(x['share_employement_io'],10, labels=False),\n",
    "                       )\n",
    "\n",
    ")\n",
    "for i in ['output', 'capital', 'employment']:\n",
    "    if i == 'output':\n",
    "        v = 'share_output_io'\n",
    "    elif i =='capital':\n",
    "        v = 'share_fa_net_io'\n",
    "    else:\n",
    "        v = 'share_employement_io'\n",
    "    print('Median: {}'.format(df_final_SOE[v].median()))\n",
    "    print(pd.qcut(df_final_SOE[v],\n",
    "        10).drop_duplicates().sort_values().reset_index(drop = True))\n",
    "\n",
    "    print(df_final_SOE[i].value_counts().sort_index())"
   ]
  },
  {
   "cell_type": "code",
   "execution_count": null,
   "metadata": {
    "kernel": "R"
   },
   "outputs": [],
   "source": [
    "df_final_SOE <- df_final_SOE %>% \n",
    "    mutate_if(is.character, as.factor) %>%\n",
    "    mutate_at(vars(starts_with(\"FE\")), as.factor) %>%\n",
    "    mutate(\n",
    "         Period = relevel(Period, ref='Before'),\n",
    "         TCZ_c = relevel(TCZ_c, ref='No_TCZ'),\n",
    "         effort_c = relevel(effort_c, ref='Below'),\n",
    "         polluted_di = relevel(polluted_di, ref='Below'),\n",
    "         polluted_mi = relevel(polluted_mi, ref='Below'),\n",
    "         polluted_thre = relevel(polluted_thre, ref='Below'),\n",
    "  )"
   ]
  },
  {
   "cell_type": "code",
   "execution_count": null,
   "metadata": {
    "kernel": "SoS"
   },
   "outputs": [],
   "source": [
    "%put df_final_FOREIGN --to R\n",
    "df_final_FOREIGN = (df_chinese_city_characteristics.merge(\n",
    "    df_share_foreign,\n",
    "    on = ['industry'],\n",
    "    how = 'left',\n",
    "    indicator = True\n",
    ")\n",
    "                .assign(\n",
    "                       output = lambda x:\n",
    "                           pd.qcut(x['share_output_io'],10, labels=False),\n",
    "                       capital = lambda x:\n",
    "                           pd.qcut(x['share_fa_net_io'],10, labels=False),\n",
    "                       employment = lambda x:\n",
    "                           pd.qcut(x['share_employement_io'],10, labels=False),\n",
    "                       )\n",
    "\n",
    ")\n",
    "for i in ['output', 'capital', 'employment']:\n",
    "    if i == 'output':\n",
    "        v = 'share_output_io'\n",
    "    elif i =='capital':\n",
    "        v = 'share_fa_net_io'\n",
    "    else:\n",
    "        v = 'share_employement_io'\n",
    "    print('Median: {}'.format(df_final_FOREIGN[v].median()))\n",
    "    print(pd.qcut(df_final_FOREIGN[v],\n",
    "        10).drop_duplicates().sort_values().reset_index(drop = True))\n",
    "\n",
    "    print(df_final_FOREIGN[i].value_counts().sort_index())"
   ]
  },
  {
   "cell_type": "code",
   "execution_count": null,
   "metadata": {
    "kernel": "R"
   },
   "outputs": [],
   "source": [
    "df_final_FOREIGN <- df_final_FOREIGN %>% \n",
    "    mutate_if(is.character, as.factor) %>%\n",
    "    mutate_at(vars(starts_with(\"FE\")), as.factor) %>%\n",
    "    mutate(\n",
    "         Period = relevel(Period, ref='Before'),\n",
    "         TCZ_c = relevel(TCZ_c, ref='No_TCZ'),\n",
    "         effort_c = relevel(effort_c, ref='Below'),\n",
    "         polluted_di = relevel(polluted_di, ref='Below'),\n",
    "         polluted_mi = relevel(polluted_mi, ref='Below'),\n",
    "         polluted_thre = relevel(polluted_thre, ref='Below'),\n",
    "  )"
   ]
  },
  {
   "cell_type": "markdown",
   "metadata": {
    "kernel": "SoS"
   },
   "source": [
    "## Table 8 Model A: Panel A\n",
    "\n"
   ]
  },
  {
   "cell_type": "markdown",
   "metadata": {
    "kernel": "R"
   },
   "source": [
    "### Median"
   ]
  },
  {
   "cell_type": "markdown",
   "metadata": {
    "kernel": "python3"
   },
   "source": [
    "#### Size"
   ]
  },
  {
   "cell_type": "code",
   "execution_count": null,
   "metadata": {
    "kernel": "R"
   },
   "outputs": [],
   "source": [
    "change_target <- function(table){\n",
    "    check_target <- grep(\"PeriodAfter:polluted_threAbove:target_c$\", rownames(table$coef))\n",
    "    check_target_1 <- grep(\"PeriodAfter:target_c$\", rownames(table$coef))\n",
    "    check_target_2 <- grep(\"^polluted_threAbove:target_c$\", rownames(table$coef))\n",
    "    \n",
    "    if (length(check_target) !=0) {\n",
    "    # 1\n",
    "    rownames(table$coefficients)[check_target] <- 'target_c:PeriodAfter:polluted_threAbove'\n",
    "    rownames(table$beta)[check_target] <- 'target_c:PeriodAfter:polluted_threAbove'\n",
    "        \n",
    "    # 2\n",
    "    rownames(table$coefficients)[check_target_1] <- 'target_c:PeriodAfter'\n",
    "    rownames(table$beta)[check_target_1] <- 'target_c:PeriodAfter'\n",
    "        \n",
    "    # 3\n",
    "    rownames(table$coefficients)[check_target_2] <- 'target_c:polluted_threAbove'\n",
    "    rownames(table$beta)[check_target_2] <- 'target_c:polluted_threAbove'    \n",
    "}\n",
    "    return (table)\n",
    "}\n",
    "\n",
    "turning_point <- function(tables, currency ='RMB'){\n",
    "    \n",
    "    turning = c()\n",
    "    turning_dol = c()\n",
    "    for (c in tables){\n",
    "        turning <- append(turning,\n",
    "                     round(exp(abs(coef(c)[grep(\"ln_gdp_cap$\", names(coef(c)))] / \n",
    "                                   (2 * \n",
    "                                    coef(c)[grep(\"ln_gdp_cap_sqred$\",\n",
    "                                                  names(coef(c)))]))),\n",
    "                           0))\n",
    "       turning_dol <- append(turning_dol,\n",
    "                        round(exp(abs(coef(c)[grep(\"ln_gdp_cap$\", names(coef(c)))] / \n",
    "                                   (2 * \n",
    "                                    coef(c)[grep(\"ln_gdp_cap_sqred$\",\n",
    "                                                  names(coef(c)))])))/8.07,\n",
    "                           0))\n",
    "    }\n",
    "    if (currency == 'RMB'){\n",
    "        return(turning)\n",
    "        \n",
    "    }else{\n",
    "        return(turning_dol)\n",
    "    }\n",
    "    \n",
    "}\n",
    "\n",
    "turning_point(tables, currency = 'dollars')"
   ]
  },
  {
   "cell_type": "code",
   "execution_count": null,
   "metadata": {
    "kernel": "R"
   },
   "outputs": [],
   "source": [
    "cat <- 'Size'\n",
    "df_to_filter <- df_herfhindal_r\n",
    "\n",
    "### inferior median\n",
    "t1 <- felm(formula=log(tso2_cit) ~ \n",
    "           + ln_gdp_cap\n",
    "           + ln_gdp_cap_sqred\n",
    "           + ln_pop\n",
    "           + TCZ_c * Period * polluted_thre \n",
    "           + output_fcit + capital_fcit + labour_fcit\n",
    "                  |\n",
    "             cityen +  year + industry  | 0 |\n",
    "             industry, data= df_to_filter %>% filter(decile_herfhindal_i <= 5),\n",
    "             exactDOF=TRUE)\n",
    "t1 <-change_target(t1)\n",
    "t2 <- felm(formula=log(tso2_cit) ~ \n",
    "           + ln_gdp_cap\n",
    "           + ln_gdp_cap_sqred\n",
    "           + ln_pop\n",
    "           + target_c  * Period * polluted_thre \n",
    "           + output_fcit + capital_fcit + labour_fcit\n",
    "                  |\n",
    "             cityen +  year + industry  | 0 |\n",
    "             industry, data= df_to_filter %>% filter(decile_herfhindal_i <= 5),\n",
    "             exactDOF=TRUE)\n",
    "t2 <-change_target(t2)\n",
    "\n",
    "t3 <- felm(formula=log(tso2_cit) ~ \n",
    "           + ln_gdp_cap\n",
    "           + ln_gdp_cap_sqred\n",
    "           + ln_pop\n",
    "           + TCZ_c * Period * polluted_thre \n",
    "           + target_c  * Period * polluted_thre \n",
    "           + output_fcit + capital_fcit + labour_fcit\n",
    "                  |\n",
    "             cityen +  year + industry  | 0 |\n",
    "             industry, data= df_to_filter %>% filter(decile_herfhindal_i <= 5),\n",
    "             exactDOF=TRUE)\n",
    "t3 <-change_target(t3)\n",
    "\n",
    "### superior median\n",
    "t4 <- felm(formula=log(tso2_cit) ~ \n",
    "           + ln_gdp_cap\n",
    "           + ln_gdp_cap_sqred\n",
    "           + ln_pop\n",
    "           + TCZ_c * Period * polluted_thre \n",
    "           + output_fcit + capital_fcit + labour_fcit\n",
    "                  |\n",
    "             cityen +  year + industry  | 0 |\n",
    "             industry, data= df_to_filter %>% filter(decile_herfhindal_i > 5),\n",
    "             exactDOF=TRUE)\n",
    "t4 <-change_target(t4)\n",
    "\n",
    "t5 <- felm(formula=log(tso2_cit) ~ \n",
    "           + ln_gdp_cap\n",
    "           + ln_gdp_cap_sqred\n",
    "           + ln_pop\n",
    "           + target_c  * Period * polluted_thre \n",
    "           + output_fcit + capital_fcit + labour_fcit\n",
    "                  |\n",
    "             cityen +  year + industry  | 0 |\n",
    "             industry, data= df_to_filter %>% filter(decile_herfhindal_i > 5),\n",
    "             exactDOF=TRUE)\n",
    "t5 <-change_target(t5)\n",
    "\n",
    "t6 <- felm(formula=log(tso2_cit) ~ \n",
    "           + ln_gdp_cap\n",
    "           + ln_gdp_cap_sqred\n",
    "           + ln_pop\n",
    "           + TCZ_c * Period * polluted_thre \n",
    "           + target_c  * Period * polluted_thre \n",
    "           + output_fcit + capital_fcit + labour_fcit\n",
    "                  |\n",
    "             cityen +  year + industry  | 0 |\n",
    "             industry, data= df_to_filter %>% filter(decile_herfhindal_i > 5),\n",
    "             exactDOF=TRUE)\n",
    "t6 <-change_target(t6)\n",
    "\n",
    "turning <- turning_point(tables, currency = 'RMB')\n",
    "turning_dol <- turning_point(tables, currency = 'dollars')\n",
    "fe1 <- list(\n",
    "    c('turning point RMB', turning),\n",
    "    c('turning point Dollar', turning_dol),\n",
    "    c(\"City fixed effects\", \"Yes\", \"Yes\", \"Yes\", \"Yes\", \"Yes\", \"Yes\"),\n",
    "    c(\"Industry fixed effects\", \"Yes\", \"Yes\", \"Yes\", \"Yes\", \"Yes\", \"Yes\"),\n",
    "    c(\"Year fixed effects\",\"Yes\", \"Yes\", \"Yes\", \"Yes\", \"Yes\", \"Yes\")\n",
    "            )\n",
    "\n",
    "\n",
    "table_1 <- go_latex(tables,\n",
    "                dep_var = \"Dependent variable \\\\text { SO2 emission }_{i k t}\",\n",
    "                title=paste0(\"Kuznet Median Herfhindal - \", cat),\n",
    "                addFE=fe1,\n",
    "                save=TRUE,\n",
    "                note = FALSE,\n",
    "                name=\"table_1.txt\"\n",
    "                            )"
   ]
  },
  {
   "cell_type": "code",
   "execution_count": null,
   "metadata": {
    "kernel": "Python 3"
   },
   "outputs": [],
   "source": [
    "import os\n",
    "decile=['& below median (inc.)', 'below median (inc.)', 'below median (inc.)',\n",
    "        'above median (exc.)', 'above median (exc.)', 'above median (exc.)']\n",
    "\n",
    "tb = \"\"\"\\\\footnotesize{\n",
    "Due to limited space, only the coefficients of interest are presented \n",
    "for the regressions with city,industry, year fixed effect (i.e. columns 1-3).\n",
    "\\sym{*} Significance at the 10\\%, \\sym{**} Significance at the 5\\%, \\sym{***} Significance at the 1\\% \\\\\n",
    "heteroscedasticity-robust standard errors in parentheses are clustered by city \n",
    "}\n",
    "\"\"\"\n",
    "lb.beautify(table_number = 1,\n",
    "            remove_control= True,\n",
    "            constraint = True,\n",
    "            city_industry = False, \n",
    "            new_row = decile,\n",
    "            table_nte =tb,\n",
    "           jupyter_preview = True,\n",
    "           resolution = 200)"
   ]
  },
  {
   "cell_type": "markdown",
   "metadata": {
    "kernel": "python3"
   },
   "source": [
    "#### Foreign\n"
   ]
  },
  {
   "cell_type": "code",
   "execution_count": null,
   "metadata": {
    "kernel": "R"
   },
   "outputs": [],
   "source": [
    "cat <- 'Foreign'\n",
    "df_to_filter <- df_final_FOREIGN\n",
    "\n",
    "fe1 <- list(\n",
    "    c(\"City fixed effects\", \"Yes\", \"Yes\", \"Yes\", \"Yes\", \"Yes\", \"Yes\"),\n",
    "    c(\"Industry fixed effects\", \"Yes\", \"Yes\", \"Yes\", \"Yes\", \"Yes\", \"Yes\"),\n",
    "    c(\"Year fixed effects\",\"Yes\", \"Yes\", \"Yes\", \"Yes\", \"Yes\", \"Yes\")\n",
    "             )\n",
    "\n",
    "### Remove text, tex and pdf files\n",
    "toremove <- dir(path=getwd(), pattern=\".tex|.pdf|.txt\")\n",
    "file.remove(toremove)\n",
    "\n",
    "for (var in list('output', 'capital', 'employment')){\n",
    "    \n",
    "    ### inferior median\n",
    "    t1 <- felm(formula=log(tso2_cit) ~ \n",
    "               + ln_gdp_cap\n",
    "               + ln_gdp_cap_sqred\n",
    "               + ln_pop\n",
    "               + TCZ_c * Period * polluted_thre \n",
    "               + output_fcit + capital_fcit + labour_fcit\n",
    "                  |\n",
    "             cityen +  year + industry  | 0 |\n",
    "             industry, data= df_to_filter %>% filter(get(var) <= 5),\n",
    "             exactDOF=TRUE)\n",
    "    t1 <-change_target(t1)\n",
    "    t2 <- felm(formula=log(tso2_cit) ~ \n",
    "               + ln_gdp_cap\n",
    "               + ln_gdp_cap_sqred\n",
    "               + ln_pop\n",
    "           + target_c  * Period * polluted_thre \n",
    "               + output_fcit + capital_fcit + labour_fcit\n",
    "                  |\n",
    "             cityen +  year + industry  | 0 |\n",
    "             industry, data= df_to_filter %>% filter(get(var) <= 5),\n",
    "             exactDOF=TRUE)\n",
    "    t2 <-change_target(t2)\n",
    "    t3 <- felm(formula=log(tso2_cit) ~ \n",
    "               + ln_gdp_cap\n",
    "               + ln_gdp_cap_sqred\n",
    "               + ln_pop\n",
    "           + TCZ_c * Period * polluted_thre \n",
    "           + target_c  * Period * polluted_thre \n",
    "                  + output_fcit + capital_fcit + labour_fcit\n",
    "                  |\n",
    "             cityen +  year + industry  | 0 |\n",
    "             industry, data= df_to_filter %>% filter(get(var) <= 5),\n",
    "             exactDOF=TRUE)\n",
    "    t3 <-change_target(t3)\n",
    "\n",
    "    ### superior median\n",
    "    t4 <- felm(formula=log(tso2_cit) ~ \n",
    "               + ln_gdp_cap\n",
    "               + ln_gdp_cap_sqred\n",
    "               + ln_pop\n",
    "           + TCZ_c * Period * polluted_thre \n",
    "                  + output_fcit + capital_fcit + labour_fcit\n",
    "                  |\n",
    "             cityen +  year + industry  | 0 |\n",
    "             industry, data= df_to_filter %>% filter(get(var) > 5),\n",
    "             exactDOF=TRUE)\n",
    "    t4 <-change_target(t4)\n",
    "    t5 <- felm(formula=log(tso2_cit) ~ \n",
    "               + ln_gdp_cap\n",
    "               + ln_gdp_cap_sqred\n",
    "               + ln_pop\n",
    "           + target_c  * Period * polluted_thre \n",
    "                  + output_fcit + capital_fcit + labour_fcit\n",
    "                  |\n",
    "             cityen +  year + industry  | 0 |\n",
    "             industry, data= df_to_filter %>% filter(get(var) > 5),\n",
    "             exactDOF=TRUE)\n",
    "    t5 <-change_target(t5)\n",
    "\n",
    "    t6 <- felm(formula=log(tso2_cit) ~ \n",
    "               + ln_gdp_cap\n",
    "               + ln_gdp_cap_sqred\n",
    "               + ln_pop\n",
    "           + TCZ_c * Period * polluted_thre \n",
    "           + target_c  * Period * polluted_thre \n",
    "                  + output_fcit + capital_fcit + labour_fcit\n",
    "                  |\n",
    "             cityen +  year + industry  | 0 |\n",
    "             industry, data= df_to_filter %>% filter(get(var) > 5),\n",
    "             exactDOF=TRUE)\n",
    "    t6 <-change_target(t6)\n",
    "    \n",
    "    \n",
    "    \n",
    "    if (var == 'output'){\n",
    "        tables_o <- list(t1, t2, t3,t4, t5, t6)\n",
    "        turning <- turning_point(tables_o, currency = 'RMB')\n",
    "        turning_dol <- turning_point(tables_o, currency = 'dollars')\n",
    "        fe1 <- list(\n",
    "            c('turning point RMB', turning),\n",
    "            c('turning point Dollar', turning_dol),\n",
    "            c(\"City fixed effects\", \"Yes\", \"Yes\", \"Yes\", \"Yes\", \"Yes\", \"Yes\"),\n",
    "            c(\"Industry fixed effects\", \"Yes\", \"Yes\", \"Yes\", \"Yes\", \"Yes\", \"Yes\"),\n",
    "            c(\"Year fixed effects\",\"Yes\", \"Yes\", \"Yes\", \"Yes\", \"Yes\", \"Yes\")\n",
    "            )\n",
    "        \n",
    "        table_1 <- go_latex(tables_o,\n",
    "                dep_var = \"Dependent variable \\\\text { SO2 emission }_{i k t}\",\n",
    "                title=paste0(\"Median \", var, \"- \", cat),\n",
    "                addFE=fe1,\n",
    "                save=TRUE,\n",
    "                note = FALSE,\n",
    "                name=\"table_1.txt\"\n",
    "                           )\n",
    "    }else if ( var == 'capital'){\n",
    "        tables_c <- list(t1, t2, t3,t4, t5, t6)\n",
    "        turning <- turning_point(tables_c, currency = 'RMB')\n",
    "        turning_dol <- turning_point(tables_c, currency = 'dollars')\n",
    "        fe1 <- list(\n",
    "            c('turning point RMB', turning),\n",
    "            c('turning point Dollar', turning_dol),\n",
    "            c(\"City fixed effects\", \"Yes\", \"Yes\", \"Yes\", \"Yes\", \"Yes\", \"Yes\"),\n",
    "            c(\"Industry fixed effects\", \"Yes\", \"Yes\", \"Yes\", \"Yes\", \"Yes\", \"Yes\"),\n",
    "            c(\"Year fixed effects\",\"Yes\", \"Yes\", \"Yes\", \"Yes\", \"Yes\", \"Yes\")\n",
    "            )        \n",
    "\n",
    "        table_1 <- go_latex(tables_c,\n",
    "                dep_var = \"Dependent variable \\\\text { SO2 emission }_{i k t}\",\n",
    "                title=paste0(\"Median \", var, \"- \", cat),\n",
    "                addFE=fe1,\n",
    "                save=TRUE,\n",
    "                note = FALSE,\n",
    "                name=\"table_2.txt\"\n",
    "                            )\n",
    "    }else{\n",
    "        tables_e <- list(t1, t2, t3,t4, t5, t6)\n",
    "        turning <- turning_point(tables_e, currency = 'RMB')\n",
    "        turning_dol <- turning_point(tables_e, currency = 'dollars')\n",
    "        fe1 <- list(\n",
    "            c('turning point RMB', turning),\n",
    "            c('turning point Dollar', turning_dol),\n",
    "            c(\"City fixed effects\", \"Yes\", \"Yes\", \"Yes\", \"Yes\", \"Yes\", \"Yes\"),\n",
    "            c(\"Industry fixed effects\", \"Yes\", \"Yes\", \"Yes\", \"Yes\", \"Yes\", \"Yes\"),\n",
    "            c(\"Year fixed effects\",\"Yes\", \"Yes\", \"Yes\", \"Yes\", \"Yes\", \"Yes\")\n",
    "            )        \n",
    "        \n",
    "        table_1 <- go_latex(tables_e,\n",
    "                dep_var = \"Dependent variable \\\\text { SO2 emission }_{i k t}\",\n",
    "                title=paste0(\"Kuznet Median \", var, \"- \", cat),\n",
    "                addFE=fe1,\n",
    "                save=TRUE,\n",
    "                note = FALSE,\n",
    "                name=\"table_3.txt\"\n",
    "                            )\n",
    "    }\n",
    "}"
   ]
  },
  {
   "cell_type": "code",
   "execution_count": null,
   "metadata": {
    "kernel": "Python 3"
   },
   "outputs": [],
   "source": [
    "import os\n",
    "decile=['& below median (inc.)', 'below median (inc.)', 'below median (inc.)',\n",
    "        'above median (exc.)', 'above median (exc.)', 'above median (exc.)']\n",
    "\n",
    "tb = \"\"\"\\\\footnotesize{\n",
    "Due to limited space, only the coefficients of interest are presented \n",
    "for the regressions with city,industry, year fixed effect (i.e. columns 1-3).\n",
    "\\sym{*} Significance at the 10\\%, \\sym{**} Significance at the 5\\%, \\sym{***} Significance at the 1\\% \\\\\n",
    "heteroscedasticity-robust standard errors in parentheses are clustered by city \n",
    "}\n",
    "\"\"\"\n",
    "lb.beautify(table_number = 1,\n",
    "            remove_control= True,\n",
    "            constraint = True,\n",
    "            city_industry = False, \n",
    "            new_row = decile,\n",
    "            table_nte =tb,\n",
    "           jupyter_preview = True,\n",
    "           resolution = 200)"
   ]
  },
  {
   "cell_type": "code",
   "execution_count": null,
   "metadata": {
    "kernel": "Python 3"
   },
   "outputs": [],
   "source": [
    "lb.beautify(table_number = 2,\n",
    "            remove_control= True,\n",
    "            constraint = True,\n",
    "            city_industry = False, \n",
    "            new_row = decile,\n",
    "            table_nte =tb,\n",
    "            jupyter_preview = True,\n",
    "            resolution = 200)"
   ]
  },
  {
   "cell_type": "code",
   "execution_count": null,
   "metadata": {
    "kernel": "Python 3"
   },
   "outputs": [],
   "source": [
    "lb.beautify(table_number = 3,\n",
    "            remove_control= True,\n",
    "            constraint = True,\n",
    "            city_industry = False, \n",
    "            new_row = decile,\n",
    "            table_nte =tb,\n",
    "            jupyter_preview = True,\n",
    "            resolution = 200)"
   ]
  },
  {
   "cell_type": "markdown",
   "metadata": {
    "kernel": "Python 3"
   },
   "source": [
    "#### SOE"
   ]
  },
  {
   "cell_type": "code",
   "execution_count": null,
   "metadata": {
    "kernel": "R"
   },
   "outputs": [],
   "source": [
    "cat <- 'SOE'\n",
    "df_to_filter <- df_final_SOE\n",
    "\n",
    "fe1 <- list(\n",
    "    c(\"City fixed effects\", \"Yes\", \"Yes\", \"Yes\", \"Yes\", \"Yes\", \"Yes\"),\n",
    "    c(\"Industry fixed effects\", \"Yes\", \"Yes\", \"Yes\", \"Yes\", \"Yes\", \"Yes\"),\n",
    "    c(\"Year fixed effects\",\"Yes\", \"Yes\", \"Yes\", \"Yes\", \"Yes\", \"Yes\")\n",
    "             )\n",
    "\n",
    "### Remove text, tex and pdf files\n",
    "toremove <- dir(path=getwd(), pattern=\".tex|.pdf|.txt\")\n",
    "file.remove(toremove)\n",
    "\n",
    "for (var in list('output', 'capital', 'employment')){\n",
    "    \n",
    "    ### inferior median\n",
    "    t1 <- felm(formula=log(tso2_cit) ~ \n",
    "               + ln_gdp_cap\n",
    "               + ln_gdp_cap_sqred\n",
    "               + ln_pop\n",
    "               + TCZ_c * Period * polluted_thre \n",
    "               + output_fcit + capital_fcit + labour_fcit\n",
    "                  |\n",
    "             cityen +  year + industry  | 0 |\n",
    "             industry, data= df_to_filter %>% filter(get(var) <= 5),\n",
    "             exactDOF=TRUE)\n",
    "    t1 <-change_target(t1)\n",
    "    t2 <- felm(formula=log(tso2_cit) ~ \n",
    "               + ln_gdp_cap\n",
    "               + ln_gdp_cap_sqred\n",
    "               + ln_pop\n",
    "           + target_c  * Period * polluted_thre \n",
    "               + output_fcit + capital_fcit + labour_fcit\n",
    "                  |\n",
    "             cityen +  year + industry  | 0 |\n",
    "             industry, data= df_to_filter %>% filter(get(var) <= 5),\n",
    "             exactDOF=TRUE)\n",
    "    t2 <-change_target(t2)\n",
    "    t3 <- felm(formula=log(tso2_cit) ~ \n",
    "               + ln_gdp_cap\n",
    "               + ln_gdp_cap_sqred\n",
    "               + ln_pop\n",
    "           + TCZ_c * Period * polluted_thre \n",
    "           + target_c  * Period * polluted_thre \n",
    "                  + output_fcit + capital_fcit + labour_fcit\n",
    "                  |\n",
    "             cityen +  year + industry  | 0 |\n",
    "             industry, data= df_to_filter %>% filter(get(var) <= 5),\n",
    "             exactDOF=TRUE)\n",
    "    t3 <-change_target(t3)\n",
    "\n",
    "    ### superior median\n",
    "    t4 <- felm(formula=log(tso2_cit) ~ \n",
    "               + ln_gdp_cap\n",
    "               + ln_gdp_cap_sqred\n",
    "               + ln_pop\n",
    "           + TCZ_c * Period * polluted_thre \n",
    "                  + output_fcit + capital_fcit + labour_fcit\n",
    "                  |\n",
    "             cityen +  year + industry  | 0 |\n",
    "             industry, data= df_to_filter %>% filter(get(var) > 5),\n",
    "             exactDOF=TRUE)\n",
    "    t4 <-change_target(t4)\n",
    "    t5 <- felm(formula=log(tso2_cit) ~\n",
    "               + ln_gdp_cap\n",
    "               + ln_gdp_cap_sqred\n",
    "               + ln_pop\n",
    "           + target_c  * Period * polluted_thre \n",
    "                  + output_fcit + capital_fcit + labour_fcit\n",
    "                  |\n",
    "             cityen +  year + industry  | 0 |\n",
    "             industry, data= df_to_filter %>% filter(get(var) > 5),\n",
    "             exactDOF=TRUE)\n",
    "    t5 <-change_target(t5)\n",
    "\n",
    "    t6 <- felm(formula=log(tso2_cit) ~ \n",
    "               + ln_gdp_cap\n",
    "               + ln_gdp_cap_sqred\n",
    "               + ln_pop\n",
    "           + TCZ_c * Period * polluted_thre \n",
    "           + target_c  * Period * polluted_thre \n",
    "                  + output_fcit + capital_fcit + labour_fcit\n",
    "                  |\n",
    "             cityen +  year + industry  | 0 |\n",
    "             industry, data= df_to_filter %>% filter(get(var) > 5),\n",
    "             exactDOF=TRUE)\n",
    "    t6 <-change_target(t6)\n",
    "    \n",
    "    if (var == 'output'){\n",
    "        tables_o <- list(t1, t2, t3,t4, t5, t6)\n",
    "        turning <- turning_point(tables_o, currency = 'RMB')\n",
    "        turning_dol <- turning_point(tables_o, currency = 'dollars')\n",
    "        fe1 <- list(\n",
    "            c('turning point RMB', turning),\n",
    "            c('turning point Dollar', turning_dol),\n",
    "            c(\"City fixed effects\", \"Yes\", \"Yes\", \"Yes\", \"Yes\", \"Yes\", \"Yes\"),\n",
    "            c(\"Industry fixed effects\", \"Yes\", \"Yes\", \"Yes\", \"Yes\", \"Yes\", \"Yes\"),\n",
    "            c(\"Year fixed effects\",\"Yes\", \"Yes\", \"Yes\", \"Yes\", \"Yes\", \"Yes\")\n",
    "            )\n",
    "        \n",
    "        table_1 <- go_latex(tables_o,\n",
    "                dep_var = \"Dependent variable \\\\text { SO2 emission }_{i k t}\",\n",
    "                title=paste0(\"Median \", var, \"- \", cat),\n",
    "                addFE=fe1,\n",
    "                save=TRUE,\n",
    "                note = FALSE,\n",
    "                name=\"table_1.txt\"\n",
    "                           )\n",
    "    }else if ( var == 'capital'){\n",
    "        tables_c <- list(t1, t2, t3,t4, t5, t6)\n",
    "        turning <- turning_point(tables_c, currency = 'RMB')\n",
    "        turning_dol <- turning_point(tables_c, currency = 'dollars')\n",
    "        fe1 <- list(\n",
    "            c('turning point RMB', turning),\n",
    "            c('turning point Dollar', turning_dol),\n",
    "            c(\"City fixed effects\", \"Yes\", \"Yes\", \"Yes\", \"Yes\", \"Yes\", \"Yes\"),\n",
    "            c(\"Industry fixed effects\", \"Yes\", \"Yes\", \"Yes\", \"Yes\", \"Yes\", \"Yes\"),\n",
    "            c(\"Year fixed effects\",\"Yes\", \"Yes\", \"Yes\", \"Yes\", \"Yes\", \"Yes\")\n",
    "            )        \n",
    "\n",
    "        table_1 <- go_latex(tables_c,\n",
    "                dep_var = \"Dependent variable \\\\text { SO2 emission }_{i k t}\",\n",
    "                title=paste0(\"Median \", var, \"- \", cat),\n",
    "                addFE=fe1,\n",
    "                save=TRUE,\n",
    "                note = FALSE,\n",
    "                name=\"table_2.txt\"\n",
    "                            )\n",
    "    }else{\n",
    "        tables_e <- list(t1, t2, t3,t4, t5, t6)\n",
    "        turning <- turning_point(tables_e, currency = 'RMB')\n",
    "        turning_dol <- turning_point(tables_e, currency = 'dollars')\n",
    "        fe1 <- list(\n",
    "            c('turning point RMB', turning),\n",
    "            c('turning point Dollar', turning_dol),\n",
    "            c(\"City fixed effects\", \"Yes\", \"Yes\", \"Yes\", \"Yes\", \"Yes\", \"Yes\"),\n",
    "            c(\"Industry fixed effects\", \"Yes\", \"Yes\", \"Yes\", \"Yes\", \"Yes\", \"Yes\"),\n",
    "            c(\"Year fixed effects\",\"Yes\", \"Yes\", \"Yes\", \"Yes\", \"Yes\", \"Yes\")\n",
    "            )        \n",
    "        \n",
    "        table_1 <- go_latex(tables_e,\n",
    "                dep_var = \"Dependent variable \\\\text { SO2 emission }_{i k t}\",\n",
    "                title=paste0(\"Kuznet Median \", var, \"- \", cat),\n",
    "                addFE=fe1,\n",
    "                save=TRUE,\n",
    "                note = FALSE,\n",
    "                name=\"table_3.txt\"\n",
    "                            )\n",
    "    }\n",
    "}"
   ]
  },
  {
   "cell_type": "code",
   "execution_count": null,
   "metadata": {
    "kernel": "Python 3"
   },
   "outputs": [],
   "source": [
    "import os\n",
    "decile=['& below median (inc.)', 'below median (inc.)', 'below median (inc.)',\n",
    "        'above median (exc.)', 'above median (exc.)', 'above median (exc.)']\n",
    "\n",
    "tb = \"\"\"\\\\footnotesize{\n",
    "Due to limited space, only the coefficients of interest are presented \n",
    "for the regressions with city,industry, year fixed effect (i.e. columns 1-3).\n",
    "\\sym{*} Significance at the 10\\%, \\sym{**} Significance at the 5\\%, \\sym{***} Significance at the 1\\% \\\\\n",
    "heteroscedasticity-robust standard errors in parentheses are clustered by city \n",
    "}\n",
    "\"\"\"\n",
    "lb.beautify(table_number = 1,\n",
    "            remove_control= True,\n",
    "            constraint = False,\n",
    "            city_industry = False, \n",
    "            new_row = decile,\n",
    "            table_nte =tb,\n",
    "           jupyter_preview = True,\n",
    "           resolution = 200)"
   ]
  },
  {
   "cell_type": "code",
   "execution_count": null,
   "metadata": {
    "kernel": "Python 3"
   },
   "outputs": [],
   "source": [
    "import os\n",
    "decile=['& below median (inc.)', 'below median (inc.)', 'below median (inc.)',\n",
    "        'above median (exc.)', 'above median (exc.)', 'above median (exc.)']\n",
    "\n",
    "tb = \"\"\"\\\\footnotesize{\n",
    "Due to limited space, only the coefficients of interest are presented \n",
    "for the regressions with city,industry, year fixed effect (i.e. columns 1-3).\n",
    "\\sym{*} Significance at the 10\\%, \\sym{**} Significance at the 5\\%, \\sym{***} Significance at the 1\\% \\\\\n",
    "heteroscedasticity-robust standard errors in parentheses are clustered by city \n",
    "}\n",
    "\"\"\"\n",
    "lb.beautify(table_number = 2,\n",
    "            remove_control= True,\n",
    "            constraint = True,\n",
    "            city_industry = False, \n",
    "            new_row = decile,\n",
    "            table_nte =tb,\n",
    "           jupyter_preview = True,\n",
    "           resolution = 200)"
   ]
  },
  {
   "cell_type": "code",
   "execution_count": null,
   "metadata": {
    "kernel": "Python 3"
   },
   "outputs": [],
   "source": [
    "import os\n",
    "decile=['& below median (inc.)', 'below median (inc.)', 'below median (inc.)',\n",
    "        'above median (exc.)', 'above median (exc.)', 'above median (exc.)']\n",
    "\n",
    "tb = \"\"\"\\\\footnotesize{\n",
    "Due to limited space, only the coefficients of interest are presented \n",
    "for the regressions with city,industry, year fixed effect (i.e. columns 1-3).\n",
    "\\sym{*} Significance at the 10\\%, \\sym{**} Significance at the 5\\%, \\sym{***} Significance at the 1\\% \\\\\n",
    "heteroscedasticity-robust standard errors in parentheses are clustered by city \n",
    "}\n",
    "\"\"\"\n",
    "lb.beautify(table_number = 3,\n",
    "            remove_control= True,\n",
    "            constraint = True,\n",
    "            city_industry = False, \n",
    "            new_row = decile,\n",
    "            table_nte =tb,\n",
    "           jupyter_preview = True,\n",
    "           resolution = 200)"
   ]
  },
  {
   "cell_type": "markdown",
   "metadata": {
    "kernel": "Python 3"
   },
   "source": [
    "## SPZ/Coastal"
   ]
  },
  {
   "cell_type": "code",
   "execution_count": null,
   "metadata": {
    "kernel": "SoS"
   },
   "outputs": [],
   "source": [
    "%put df_chinese_city_characteristics --to R"
   ]
  },
  {
   "cell_type": "code",
   "execution_count": null,
   "metadata": {
    "kernel": "R"
   },
   "outputs": [],
   "source": [
    "%put df_TCZ_list_china --to R\n",
    "df_TCZ_list_china = read_csv('../df_TCZ_list_china.csv') %>% \n",
    "select(-c(TCZ, Province)) %>% \n",
    "left_join(df_chinese_city_characteristics) %>%\n",
    "mutate_if(is.character, as.factor) %>%\n",
    "    mutate_at(vars(starts_with(\"FE\")), as.factor) %>%\n",
    "    mutate(\n",
    "         Period = relevel(Period, ref='Before'),\n",
    "         TCZ_c = relevel(TCZ_c, ref='No_TCZ'),\n",
    "         effort_c = relevel(effort_c, ref='Below'),\n",
    "         polluted_di = relevel(polluted_di, ref='Below'),\n",
    "         polluted_mi = relevel(polluted_mi, ref='Below'),\n",
    "         polluted_thre = relevel(polluted_thre, ref='Below'),\n",
    "  )"
   ]
  },
  {
   "cell_type": "code",
   "execution_count": null,
   "metadata": {
    "kernel": "R"
   },
   "outputs": [],
   "source": [
    "df_chinese_city_characteristics <- df_chinese_city_characteristics %>%\n",
    "mutate_if(is.character, as.factor) %>%\n",
    "mutate_at(vars(starts_with(\"FE\")), as.factor) %>%\n",
    "mutate(\n",
    "         Period = relevel(Period, ref='Before'),\n",
    "         TCZ_c = relevel(TCZ_c, ref='No_TCZ'),\n",
    "         effort_c = relevel(effort_c, ref='Below'),\n",
    "         polluted_di = relevel(polluted_di, ref='Below'),\n",
    "         polluted_mi = relevel(polluted_mi, ref='Below'),\n",
    "         polluted_thre = relevel(polluted_thre, ref='Below'),\n",
    "  )"
   ]
  },
  {
   "cell_type": "code",
   "execution_count": null,
   "metadata": {
    "kernel": "R"
   },
   "outputs": [],
   "source": [
    "df_to_filter <- df_TCZ_list_china\n",
    "### SPZ\n",
    "\n",
    "### Remove text, tex and pdf files\n",
    "toremove <- dir(path=getwd(), pattern=\".tex|.pdf|.txt\")\n",
    "file.remove(toremove)\n",
    "\n",
    "fe1 <- list(\n",
    "    c(\"City fixed effects\", \"Yes\", \"Yes\", \"Yes\", \"Yes\", \"Yes\", \"Yes\", \"Yes\"),\n",
    "    c(\"Industry fixed effects\", \"Yes\", \"Yes\", \"Yes\", \"Yes\", \"Yes\", \"Yes\", \"Yes\"),\n",
    "    c(\"Year fixed effects\",\"Yes\", \"Yes\", \"Yes\", \"Yes\", \"Yes\", \"Yes\", \"Yes\")\n",
    "             )\n",
    "\n",
    "for (var in range(1,2)){\n",
    "    \n",
    "    if (var == 1){\n",
    "        filter_spz = 1\n",
    "        filter_coast = TRUE\n",
    "        filter_tcz = 'TCZ'\n",
    "        \n",
    "    }else if ( var == 2){\n",
    "        \n",
    "        filter_spz = 0\n",
    "        filter_coast = FALSE\n",
    "        filter_tcz = 'No_TCZ'\n",
    "    }\n",
    "\n",
    "\n",
    "    t1 <- felm(formula=log(tso2_cit) ~ \n",
    "               + ln_gdp_cap\n",
    "               + ln_gdp_cap_sqred\n",
    "               + ln_pop\n",
    "               + TCZ_c * Period * polluted_thre \n",
    "               + output_fcit + capital_fcit + labour_fcit\n",
    "                  |\n",
    "             cityen +  year + industry  | 0 |\n",
    "             industry, data= df_to_filter %>% filter(SPZ == filter_spz),\n",
    "             exactDOF=TRUE)\n",
    "    t1 <-change_target(t1)\n",
    "    t2 <- felm(formula=log(tso2_cit) ~ \n",
    "               + ln_gdp_cap\n",
    "               + ln_gdp_cap_sqred\n",
    "               + ln_pop\n",
    "           + target_c  * Period * polluted_thre \n",
    "               + output_fcit + capital_fcit + labour_fcit\n",
    "                  |\n",
    "             cityen +  year + industry  | 0 |\n",
    "             industry, data= df_to_filter %>% filter(SPZ == filter_spz),\n",
    "             exactDOF=TRUE)\n",
    "    t2 <-change_target(t2)\n",
    "\n",
    "    t3 <- felm(formula=log(tso2_cit) ~ \n",
    "               + ln_gdp_cap\n",
    "               + ln_gdp_cap_sqred\n",
    "               + ln_pop\n",
    "           + TCZ_c * Period * polluted_thre \n",
    "           + target_c  * Period * polluted_thre \n",
    "                  + output_fcit + capital_fcit + labour_fcit\n",
    "                  |\n",
    "             cityen +  year + industry  | 0 |\n",
    "             industry, data= df_to_filter %>% filter(SPZ == filter_spz),\n",
    "             exactDOF=TRUE)\n",
    "    t3 <-change_target(t3)\n",
    "\n",
    "    ### Coastal\n",
    "    t4 <- felm(formula=log(tso2_cit) ~ \n",
    "               + ln_gdp_cap\n",
    "               + ln_gdp_cap_sqred\n",
    "               + ln_pop\n",
    "           + TCZ_c * Period * polluted_thre \n",
    "                  + output_fcit + capital_fcit + labour_fcit\n",
    "                  |\n",
    "             cityen +  year + industry  | 0 |\n",
    "             industry, data= df_to_filter %>% filter(Coastal == filter_coast),\n",
    "             exactDOF=TRUE)\n",
    "    t4 <-change_target(t4)\n",
    "\n",
    "    t5 <- felm(formula=log(tso2_cit) ~ \n",
    "               + ln_gdp_cap\n",
    "               + ln_gdp_cap_sqred\n",
    "               + ln_pop\n",
    "           + target_c  * Period * polluted_thre \n",
    "                  + output_fcit + capital_fcit + labour_fcit\n",
    "                  |\n",
    "             cityen +  year + industry  | 0 |\n",
    "             industry, data= df_to_filter %>% filter(Coastal == filter_coast),\n",
    "             exactDOF=TRUE)\n",
    "    t5 <-change_target(t5)\n",
    "\n",
    "    t6 <- felm(formula=log(tso2_cit) ~\n",
    "               + ln_gdp_cap\n",
    "               + ln_gdp_cap_sqred\n",
    "               + ln_pop\n",
    "           + TCZ_c * Period * polluted_thre \n",
    "           + target_c  * Period * polluted_thre \n",
    "                  + output_fcit + capital_fcit + labour_fcit\n",
    "                  |\n",
    "             cityen +  year + industry  | 0 |\n",
    "             industry, data= df_to_filter %>% filter(Coastal == filter_coast),\n",
    "             exactDOF=TRUE)\n",
    "    t6 <-change_target(t6)\n",
    "\n",
    "    t7 <- felm(formula=log(tso2_cit) ~\n",
    "               + ln_gdp_cap\n",
    "               + ln_gdp_cap_sqred\n",
    "               + ln_pop\n",
    "           + target_c  * Period * polluted_thre \n",
    "           + output_fcit + capital_fcit + labour_fcit\n",
    "                  |\n",
    "             cityen +  year + industry  | 0 |\n",
    "             industry, data= df_chinese_city_characteristics %>% filter(TCZ_c == filter_tcz),\n",
    "             exactDOF=TRUE)\n",
    "    t7 <-change_target(t7)\n",
    "    \n",
    "     if (var == 1){\n",
    "        tables_1 <- list(t1, t2, t3,t4, t5, t6, t7)\n",
    "        table_1 <- go_latex(tables_1,\n",
    "                dep_var = \"Dependent variable \\\\text { SO2 emission }_{i k t}\",\n",
    "                title=\"SPZ/Coastal/TCZ True\",\n",
    "                addFE=fe1,\n",
    "                save=TRUE,\n",
    "                note = FALSE,\n",
    "                name=\"table_1.txt\"\n",
    "                            )\n",
    "        \n",
    "    }else if (var == 2){\n",
    "        \n",
    "        tables_2 <- list(t1, t2, t3,t4, t5, t6, t7)\n",
    "        table_1 <- go_latex(tables_2,\n",
    "                dep_var = \"Dependent variable \\\\text { SO2 emission }_{i k t}\",\n",
    "                title=\"SPZ/Coastal/TCZ False\",\n",
    "                addFE=fe1,\n",
    "                save=TRUE,\n",
    "                note = FALSE,\n",
    "                name=\"table_2.txt\"\n",
    "                            )\n",
    "    }\n",
    "    \n",
    "}"
   ]
  },
  {
   "cell_type": "code",
   "execution_count": null,
   "metadata": {
    "kernel": "Python 3"
   },
   "outputs": [],
   "source": [
    "import os\n",
    "decile=['& SPZ', 'SPZ', 'SPZ',\n",
    "        'Coastal', 'Coastal', 'Coastal', 'TCZ']\n",
    "\n",
    "tb = \"\"\"\\\\footnotesize{\n",
    "Due to limited space, only the coefficients of interest are presented \n",
    "for the regressions with city,industry, year fixed effect (i.e. columns 1-3).\n",
    "\\sym{*} Significance at the 10\\%, \\sym{**} Significance at the 5\\%, \\sym{***} Significance at the 1\\% \\\\\n",
    "heteroscedasticity-robust standard errors in parentheses are clustered by city \n",
    "}\n",
    "\"\"\"\n",
    "lb.beautify(table_number = 1,\n",
    "            remove_control= True,\n",
    "            constraint = True,\n",
    "            city_industry = False, \n",
    "            new_row = decile,\n",
    "            table_nte =tb,\n",
    "           jupyter_preview = True,\n",
    "           resolution = 200)"
   ]
  },
  {
   "cell_type": "code",
   "execution_count": null,
   "metadata": {
    "kernel": "Python 3"
   },
   "outputs": [],
   "source": [
    "import os\n",
    "decile=['& SPZ', 'SPZ', 'SPZ',\n",
    "        'Coastal', 'Coastal', 'Coastal']\n",
    "\n",
    "tb = \"\"\"\\\\footnotesize{\n",
    "Due to limited space, only the coefficients of interest are presented \n",
    "for the regressions with city,industry, year fixed effect (i.e. columns 1-3).\n",
    "\\sym{*} Significance at the 10\\%, \\sym{**} Significance at the 5\\%, \\sym{***} Significance at the 1\\% \\\\\n",
    "heteroscedasticity-robust standard errors in parentheses are clustered by city \n",
    "}\n",
    "\"\"\"\n",
    "lb.beautify(table_number = 2,\n",
    "            remove_control= True,\n",
    "            constraint = True,\n",
    "            city_industry = False, \n",
    "            new_row = decile,\n",
    "            table_nte =tb,\n",
    "           jupyter_preview = True,\n",
    "           resolution = 200)"
   ]
  },
  {
   "cell_type": "markdown",
   "metadata": {
    "kernel": "Python 3"
   },
   "source": [
    "# Create Report"
   ]
  },
  {
   "cell_type": "code",
   "execution_count": null,
   "metadata": {
    "kernel": "Python 3"
   },
   "outputs": [],
   "source": [
    "import os, time, shutil\n",
    "from pathlib import Path\n",
    "\n",
    "filename = '08_SBC_pollution_China_Revision_New_tables_i'\n",
    "source = filename + '.ipynb'\n",
    "source_to_move = filename + '.html'\n",
    "path = os.getcwd()\n",
    "parent_path = str(Path(path).parent)\n",
    "path_report = \"{}/Reports\".format(parent_path)\n",
    "dest = os.path.join(path_report, filename)+'.html'\n",
    "\n",
    "os.system('jupyter nbconvert --no-input --to html {}'.format(source))\n",
    "shutil.move(source_to_move, dest)\n",
    "\n",
    "time.sleep(5)\n",
    "for i in range(1, 19):\n",
    "    try:\n",
    "        os.remove(\"table_{}.pdf\".format(i))\n",
    "        os.remove(\"table_{}.tex\".format(i))\n",
    "        os.remove(\"table_{}.txt\".format(i))\n",
    "    except:\n",
    "        pass"
   ]
  }
 ],
 "metadata": {
  "jupytext": {
   "formats": "ipynb,md"
  },
  "kernelspec": {
   "display_name": "SoS",
   "language": "sos",
   "name": "sos"
  },
  "language_info": {
   "codemirror_mode": "sos",
   "file_extension": ".sos",
   "mimetype": "text/x-sos",
   "name": "sos",
   "nbconvert_exporter": "sos_notebook.converter.SoS_Exporter",
   "pygments_lexer": "sos"
  },
  "sos": {
   "kernels": [
    [
     "Python 3",
     "python3",
     "python3",
     "",
     {
      "name": "ipython",
      "version": 3
     }
    ],
    [
     "R",
     "ir",
     "R",
     "#DCDCDA",
     "r"
    ],
    [
     "SoS",
     "sos",
     "",
     "",
     "sos"
    ]
   ],
   "version": "0.21.7"
  }
 },
 "nbformat": 4,
 "nbformat_minor": 4
}
