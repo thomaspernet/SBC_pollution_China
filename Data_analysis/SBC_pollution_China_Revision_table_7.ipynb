{
 "cells": [
  {
   "cell_type": "markdown",
   "metadata": {
    "kernel": "SoS"
   },
   "source": [
    "# SBC_pollution_China Revision Paper\n",
    "\n",
    "Here is the link with all the revisions:\n",
    "\n",
    "- https://coda.io/d/SoftBudgetConstraint_dD-uOwatzMS/Revision_suYyi#_luGfQ\n",
    "\n",
    "- Notebook also available here in html format:\n",
    "    - https://htmlpreview.github.io/?https://github.com/thomaspernet/SBC_pollution_China/blob/master/Data_analysis/SBC_pollution_China_Revision.html\n",
    "\n",
    "## Revision table \n",
    "\n",
    "| Comments_by | URL      | People          | Comments                                                                                                                                                                                                                                                 |\n",
    "|-------------|----------|-----------------|----------------------------------------------------------------------------------------------------------------------------------------------------------------------------------------------------------------------------------------------------------|\n",
    "| Author 1    | Revision | Thomas,Mathilde | Je réfléchis à ce que nous pourrions faire ici, c'est en effet un point intéressant.                                                                                                                                                                     |\n",
    "| Author 1    | Revision | Thomas          | Pouvez vous me rassurer sur ce point? Tos les termes d'interaction sont ils dans l'équation? Je me souviens que nous en avions parlé en effet. J'espère qu'il n'y a pas d'erreurs et que nous pouvons justifier. C'est discutable. Mais on peut essayer. |\n",
    "| Author 1    | Revision | Mathilde        | Je ré-écrirai.                                                                                                                                                                                                                                           |\n",
    "| Author 1    | Revision |                 | Avons nous ces informations? Si non peut on les trouver?                                                                                                                                                                                                 |\n",
    "| Author 1    | Revision |                 | TCZ et Target sont indépendants n'est ce pas?                                                                                                                                                                                                            |\n",
    "| Author 1    | Revision |                 |                                                                                                                                                                                                                                                          |\n",
    "| Author 1    | Revision |                 | Il faut reformuler ici.                                                                                                                                                                                                                                  |\n",
    "| Author 2    | Revision | Thomas          | Avons nous des entreprises étrangères dans l'échantillon?                                                                                                                                                                                                |\n",
    "| Author 2    | Revision | Thomas          | Oui je suppose, pouvez vous regarder?                                                                                                                                                                                                                    |\n",
    "| Author 2    | Revision | Thomas          | Pouvez vous faire ce test?                                                                                                                                                                                                                               |\n",
    "| Author 2    | Revision | Thomas          | Pouvez vous corriger ce point?                                                                                                                                                                                                                           |\n",
    "| Author 2    | Revision | Mathilde        | Très bon commentaire, je m'en occupe.                                                                                                                                                                                                                    |\n",
    "\n",
    "## Proposal \n",
    "\n",
    "The proposal is available [here](https://drive.google.com/open?id=1tmSFvdUMXcL3vMKBSNYmf5xe6OEmYNnD)\n",
    "\n",
    "### Equation to estimate\n",
    "\n",
    "$$\n",
    "\\begin{aligned} \\text { SO2 emission }_{i k t}=& \\alpha T C Z_{i} \\times \\text { Polluted sectors }_{k} \\times \\text { post } \\\\ &+\\beta T C Z_{i} \\times \\text { Polluted sectors }_{k} \\times \\text { post } \\times \\text { Share Foreign }_{k} \\\\ & +\\theta {X}_{i k t}+\\nu_{c i}+\\lambda_{t i} +\\phi_{t c} +\\epsilon_{ikt} \\end{aligned}\n",
    "$$\n",
    "\n",
    "city-industry; time-industry and time-city"
   ]
  },
  {
   "cell_type": "markdown",
   "metadata": {
    "kernel": "SoS"
   },
   "source": [
    "# Table 7: improvement\n",
    "\n",
    "Instead of reconstructed all the data, we compute the:\n",
    "\n",
    "- share [output, capital, employment] by city, industry, ownership\n",
    "- share  [output, capital, employment] by city, industry\n",
    "- Average share  [output, capital, employment]  by city, ownership\n",
    "\n",
    "from the table `asif_firm_china` -> the one used in the paper\n",
    "\n",
    "and select the pairs city-industry dominated by the SOE.\n",
    "\n",
    "* Sum up table 7 \n",
    "  * Need to compute the [output, capital, employment] at the:\n",
    "    * city,\n",
    "    * industry\n",
    "    * industry, city\n",
    "  * Estimate table 7 with three ascending threshold (less and less private in panel B)\n",
    "  * The coefficient should be larger in absolute value for more restrictive threshold"
   ]
  },
  {
   "cell_type": "markdown",
   "metadata": {
    "kernel": "SoS"
   },
   "source": [
    "## Load the data"
   ]
  },
  {
   "cell_type": "code",
   "execution_count": 1,
   "metadata": {
    "kernel": "SoS"
   },
   "outputs": [
    {
     "name": "stdout",
     "output_type": "stream",
     "text": [
      "Service account storage and Bigquery are now connected. \n",
      "Service account storage is stored as <google.cloud.storage.client.Client object at 0x1270e6d90> and accessible with \"Storage_account\" \n",
      "Service account Bigquery is stored as <google.cloud.bigquery.client.Client object at 0x1270fd150> and accessible with \"bigquery_account\"\n"
     ]
    }
   ],
   "source": [
    "import pandas as pd\n",
    "from Fast_connectCloud import connector\n",
    "import numpy as np\n",
    "\n",
    "gs = connector.open_connection(online_connection = False,\n",
    "                              path_credential = '/Users/thomas/Google Drive/Projects/Data_science/Google_code_n_Oauth/Client_Oauth/Google_auth/')\n",
    "service = gs.connect_remote('GCP')"
   ]
  },
  {
   "cell_type": "code",
   "execution_count": 2,
   "metadata": {
    "kernel": "python3"
   },
   "outputs": [],
   "source": [
    "import functions.latex_beautify as lb\n",
    "\n",
    "%load_ext autoreload\n",
    "%autoreload 2"
   ]
  },
  {
   "cell_type": "code",
   "execution_count": 3,
   "metadata": {
    "kernel": "SoS"
   },
   "outputs": [],
   "source": [
    "%put df_final --to R\n",
    "\n",
    "from GoogleDrivePy.google_platform import connect_cloud_platform\n",
    "project = 'valid-pagoda-132423'\n",
    "gcp = connect_cloud_platform.connect_console(project = project, \n",
    "                                             service_account = service['GoogleCloudP'])    \n",
    "query = (\n",
    "          \"SELECT * \"\n",
    "            \"FROM China.SBC_pollution_China \"\n",
    "\n",
    "        )\n",
    "df_final = gcp.upload_data_from_bigquery(query = query, location = 'US')"
   ]
  },
  {
   "cell_type": "code",
   "execution_count": 4,
   "metadata": {
    "kernel": "R"
   },
   "outputs": [
    {
     "name": "stderr",
     "output_type": "stream",
     "text": [
      "── \u001b[1mAttaching packages\u001b[22m ─────────────────────────────────────── tidyverse 1.2.1 ──\n",
      "\u001b[32m✔\u001b[39m \u001b[34mggplot2\u001b[39m 3.0.0     \u001b[32m✔\u001b[39m \u001b[34mpurrr  \u001b[39m 0.3.3\n",
      "\u001b[32m✔\u001b[39m \u001b[34mtibble \u001b[39m 2.1.3     \u001b[32m✔\u001b[39m \u001b[34mdplyr  \u001b[39m 0.8.3\n",
      "\u001b[32m✔\u001b[39m \u001b[34mtidyr  \u001b[39m 1.0.0     \u001b[32m✔\u001b[39m \u001b[34mstringr\u001b[39m 1.4.0\n",
      "\u001b[32m✔\u001b[39m \u001b[34mreadr  \u001b[39m 1.3.1     \u001b[32m✔\u001b[39m \u001b[34mforcats\u001b[39m 0.4.0\n",
      "── \u001b[1mConflicts\u001b[22m ────────────────────────────────────────── tidyverse_conflicts() ──\n",
      "\u001b[31m✖\u001b[39m \u001b[34mdplyr\u001b[39m::\u001b[32mfilter()\u001b[39m masks \u001b[34mstats\u001b[39m::filter()\n",
      "\u001b[31m✖\u001b[39m \u001b[34mdplyr\u001b[39m::\u001b[32mlag()\u001b[39m    masks \u001b[34mstats\u001b[39m::lag()\n",
      "Loading required package: Matrix\n",
      "\n",
      "Attaching package: ‘Matrix’\n",
      "\n",
      "The following objects are masked from ‘package:tidyr’:\n",
      "\n",
      "    expand, pack, unpack\n",
      "\n",
      "\n",
      "Attaching package: ‘lazyeval’\n",
      "\n",
      "The following objects are masked from ‘package:purrr’:\n",
      "\n",
      "    is_atomic, is_formula\n",
      "\n",
      "\n",
      "Please cite as: \n",
      "\n",
      " Hlavac, Marek (2018). stargazer: Well-Formatted Regression and Summary Statistics Tables.\n",
      " R package version 5.2.2. https://CRAN.R-project.org/package=stargazer \n",
      "\n"
     ]
    }
   ],
   "source": [
    "options(warn=-1)\n",
    "library(tidyverse)\n",
    "library(lfe)\n",
    "library(lazyeval)\n",
    "library('progress')\n",
    "\n",
    "path = \"functions/SBC_pollution_R.R\"\n",
    "source(path)\n",
    "path = \"functions/SBC_pollutiuon_golatex.R\"\n",
    "source(path)"
   ]
  },
  {
   "cell_type": "markdown",
   "metadata": {
    "kernel": "R"
   },
   "source": [
    "# Foreign vs Public\n",
    "\n",
    "1.  Pour montrer que le secteur privé doit compenser l'absence de réaction du secteur public, nous allons procéder de la manière suivante: \n",
    "\n",
    "Nous avons Identifié les secteurs où la part des entreprises publiques est inférieure à un seuil critique. Nous allons comparer la réponse du secteur privé dans ces secteurs. \n",
    "\n",
    "- Il s'agit du tableau 7, panel B: deux options (si possible les faire toutes les deux): \n",
    "  \n",
    "    - on regarde les entreprises privées dans les villes-secteurs où la part étatique est plus faible, Elle devrait être plus vigoureuse. Deux estimations donc au lieu d'une seule. \n",
    "    - on change le seuil de dominance privé/public. Moins il y a de privé, plus la réaction de ce dernier doit être forte."
   ]
  },
  {
   "cell_type": "markdown",
   "metadata": {
    "collapsed": "true",
    "kernel": "R"
   },
   "source": [
    "## Replicate table 7"
   ]
  },
  {
   "cell_type": "markdown",
   "metadata": {
    "collapsed": "true",
    "kernel": "R"
   },
   "source": [
    "### SOE\n",
    "\n",
    "Output latex table available here\n",
    "\n",
    "- https://www.overleaf.com/project/5deca0097e9f3a0001506527\n",
    "    - 10_reproduce_Table_7_SOE\n",
    "\n",
    "In Google Drive:\n",
    "\n",
    "![](https://drive.google.com/uc?export=view&id=1rIRHIeIJVtA6V4cH_WcjgWRWI1ZIIn3i)"
   ]
  },
  {
   "cell_type": "code",
   "execution_count": null,
   "metadata": {
    "kernel": "R"
   },
   "outputs": [],
   "source": [
    "t1<-SOE_dominate(df_final, 'out_share_SOE', TRUE, 'cityen', print_ = FALSE)\n",
    "t2<-SOE_dominate(df_final, 'cap_share_SOE', TRUE, 'cityen', print_ = FALSE)\n",
    "t3<-SOE_dominate(df_final, 'lab_share_SOE', TRUE, 'cityen', print_ = FALSE)\n",
    "\n",
    "fe1 <- list(c(\"City-year fixed effects\", \"Yes\", \"Yes\", \"Yes\"),\n",
    "             c(\"Industry-year fixed effects\", \"Yes\", \"Yes\", \"Yes\"),\n",
    "             c(\"City-industry fixed effects\", \"Yes\", \"Yes\", \"Yes\")\n",
    "             )\n",
    "table_1 <- go_latex(list(\n",
    "    t1,\n",
    "    t2,\n",
    "    t3\n",
    "),\n",
    "    title='SOE dominating sectors',\n",
    "    addFE=fe1,\n",
    "    save=TRUE,\n",
    "    name=\"table_1.txt\"\n",
    ")"
   ]
  },
  {
   "cell_type": "code",
   "execution_count": null,
   "metadata": {
    "kernel": "python3"
   },
   "outputs": [],
   "source": [
    "import os\n",
    "try:\n",
    "    os.remove(\"table_1.tex\")\n",
    "except:\n",
    "    pass\n",
    "lb.beautify(table_number = 1, constraint = False, city_industry = False)"
   ]
  },
  {
   "cell_type": "markdown",
   "metadata": {
    "collapsed": "true",
    "kernel": "R"
   },
   "source": [
    "### Private\n",
    "\n",
    "Output latex table available here\n",
    "\n",
    "- https://www.overleaf.com/project/5deca0097e9f3a0001506527\n",
    "    - 10_reproduce_Table_7_SOE\n",
    "\n",
    "In Google Drive:\n",
    "\n",
    "![](https://drive.google.com/uc?export=view&id=1-exJrPengwvGeUbTky7NtOeLeedZaHey)"
   ]
  },
  {
   "cell_type": "code",
   "execution_count": null,
   "metadata": {
    "kernel": "R"
   },
   "outputs": [],
   "source": [
    "t1<-SOE_dominate(df_final, 'out_share_SOE', FALSE, 'cityen', print_ = FALSE)\n",
    "t2<-SOE_dominate(df_final, 'cap_share_SOE', FALSE, 'cityen', print_ = FALSE)\n",
    "t3<-SOE_dominate(df_final, 'lab_share_SOE', FALSE, 'cityen', print_ = FALSE)\n",
    "\n",
    "fe1 <- list(c(\"City-year fixed effects\", \"Yes\", \"Yes\", \"Yes\"),\n",
    "             c(\"Industry-year fixed effects\", \"Yes\", \"Yes\", \"Yes\"),\n",
    "             c(\"City-industry fixed effects\", \"Yes\", \"Yes\", \"Yes\")\n",
    "             )\n",
    "table_1 <- go_latex(list(\n",
    "    t1,\n",
    "    t2,\n",
    "    t3\n",
    "),\n",
    "    title='Private dominating sectors',\n",
    "    addFE=fe1,\n",
    "    save=TRUE,\n",
    "    name=\"table_2.txt\"\n",
    ")"
   ]
  },
  {
   "cell_type": "code",
   "execution_count": null,
   "metadata": {
    "kernel": "R"
   },
   "outputs": [],
   "source": [
    "import os\n",
    "try:\n",
    "    os.remove(\"table_2.tex\")\n",
    "except:\n",
    "    pass\n",
    "lb.beautify(table_number = 2, constraint = False, city_industry = False)"
   ]
  },
  {
   "cell_type": "markdown",
   "metadata": {
    "kernel": "R"
   },
   "source": [
    "## City-industry\n",
    "\n",
    "We proceed as follow:\n",
    "- Step 1: Compute the share [output, capital, employment] by city, industry, ownership\n",
    "- Step 2: Compute the average of step 1 by city, industry\n",
    "- Step 3: if Step 1 > step 2, then Above\n",
    "\n",
    "Three threshold:\n",
    "\n",
    "- mean\n",
    "- median\n",
    "- decile .3\n",
    "- decile .7"
   ]
  },
  {
   "cell_type": "markdown",
   "metadata": {
    "collapsed": "true",
    "kernel": "R"
   },
   "source": [
    "### code Load data"
   ]
  },
  {
   "cell_type": "code",
   "execution_count": 5,
   "metadata": {
    "kernel": "SoS"
   },
   "outputs": [],
   "source": [
    "query_share = \"\"\" WITH sum_cio AS (\n",
    "  SELECT \n",
    "    case WHEN ownership = 'Foreign' THEN 'FOREIGN' WHEN ownership = 'SOE' THEN 'SOE' ELSE 'DOMESTIC' END AS OWNERSHIP, \n",
    "    SUM(output / 10000000) as output_cio, \n",
    "    SUM(fa_net / 10000000) as fa_net_cio, \n",
    "    SUM(employment / 100000) as employment_cio, \n",
    "    geocode4_corr, \n",
    "    cic \n",
    "  FROM \n",
    "    China.asif_firm_china \n",
    "  WHERE \n",
    "    year >= 2002 \n",
    "    AND year < 2006 \n",
    "    AND output > 0 \n",
    "    AND fa_net > 0 \n",
    "    AND employment > 0 \n",
    "  GROUP BY \n",
    "    geocode4_corr, \n",
    "    OWNERSHIP, \n",
    "    cic\n",
    ") \n",
    "SELECT \n",
    "  * \n",
    "FROM \n",
    "  (\n",
    "    WITH sum_ci AS(\n",
    "      SELECT \n",
    "        SUM(output_cio) as output_ci, \n",
    "        SUM(fa_net_cio) as fa_net_ci, \n",
    "        SUM(employment_cio) as employment_ci, \n",
    "        geocode4_corr AS geocode4_corr_b, \n",
    "        cic AS cic_b \n",
    "      FROM \n",
    "        sum_cio \n",
    "      GROUP BY \n",
    "        geocode4_corr, \n",
    "        cic\n",
    "    ) \n",
    "    SELECT \n",
    "      * \n",
    "    FROM \n",
    "      (\n",
    "        WITH share_cio AS(\n",
    "          SELECT \n",
    "            OWNERSHIP, \n",
    "            output_cio / output_ci AS share_output_cio, \n",
    "            fa_net_cio / fa_net_ci AS share_fa_net_cio, \n",
    "            employment_cio / employment_ci AS share_employement_cio, \n",
    "            geocode4_corr, \n",
    "            cic \n",
    "          FROM \n",
    "            sum_cio \n",
    "            LEFT JOIN sum_ci ON sum_cio.geocode4_corr = sum_ci.geocode4_corr_b \n",
    "            AND sum_cio.cic = sum_ci.cic_b\n",
    "        ) \n",
    "        SELECT \n",
    "          * \n",
    "        FROM \n",
    "          (\n",
    "            WITH share_io AS (\n",
    "              SELECT \n",
    "                AVG(share_output_cio) AS share_output_ci_mean, \n",
    "                AVG(share_fa_net_cio) AS share_fa_net_ci_mean, \n",
    "                AVG(share_employement_cio) AS share_employement_ci_mean, \n",
    "                cic AS cic_b, \n",
    "                OWNERSHIP AS OWNERSHIP_b \n",
    "              FROM \n",
    "                share_cio \n",
    "              GROUP BY \n",
    "                cic, \n",
    "                OWNERSHIP\n",
    "            ) \n",
    "            SELECT \n",
    "              * \n",
    "            FROM \n",
    "              (\n",
    "                WITH percentile AS (\n",
    "                  SELECT \n",
    "                    cic, \n",
    "                    OWNERSHIP, \n",
    "                    \n",
    "                    ANY_VALUE(share_output_ci_03) AS share_output_ci_03,\n",
    "                    ANY_VALUE(share_output_ci_median) AS share_output_ci_median, \n",
    "                    ANY_VALUE(share_output_ci_07) AS share_output_ci_07, \n",
    "                    \n",
    "                    ANY_VALUE(share_fa_net_ci_03) AS share_fa_net_ci_03,\n",
    "                    ANY_VALUE(share_fa_net_ci_median) AS share_fa_net_ci_median, \n",
    "                    ANY_VALUE(share_fa_net_ci_07) AS share_fa_net_ci_07, \n",
    "                    \n",
    "                    ANY_VALUE(share_employement_ci_03) AS share_employement_ci_03,\n",
    "                    ANY_VALUE(share_employement_ci_median) AS share_employement_ci_median, \n",
    "                    ANY_VALUE(share_employement_ci_07) AS share_employement_ci_07 \n",
    "                  FROM \n",
    "                    (\n",
    "                      SELECT \n",
    "                        cic, \n",
    "                        OWNERSHIP, \n",
    "                        \n",
    "                        PERCENTILE_CONT(share_output_cio, 0.3) \n",
    "                        OVER(PARTITION BY cic, OWNERSHIP) AS share_output_ci_03,\n",
    "                        PERCENTILE_CONT(share_output_cio, 0.5) \n",
    "                        OVER(PARTITION BY cic, OWNERSHIP) AS share_output_ci_median, \n",
    "                        PERCENTILE_CONT(share_output_cio, 0.7) \n",
    "                        OVER(PARTITION BY cic, OWNERSHIP) AS share_output_ci_07, \n",
    "                        \n",
    "                        PERCENTILE_CONT(share_fa_net_cio, 0.3) \n",
    "                        OVER(PARTITION BY cic, OWNERSHIP) AS share_fa_net_ci_03,\n",
    "                        PERCENTILE_CONT(share_fa_net_cio, 0.5) \n",
    "                        OVER(PARTITION BY cic, OWNERSHIP) AS share_fa_net_ci_median, \n",
    "                        PERCENTILE_CONT(share_fa_net_cio, 0.7) \n",
    "                        OVER(PARTITION BY cic, OWNERSHIP) AS share_fa_net_ci_07, \n",
    "                        \n",
    "                        PERCENTILE_CONT(share_employement_cio, 0.3) \n",
    "                        OVER(PARTITION BY cic, OWNERSHIP) AS share_employement_ci_03,\n",
    "                        PERCENTILE_CONT(share_employement_cio, 0.5) \n",
    "                        OVER(PARTITION BY cic, OWNERSHIP) AS share_employement_ci_median, \n",
    "                        PERCENTILE_CONT(share_employement_cio, 0.7) \n",
    "                        OVER(PARTITION BY cic, OWNERSHIP) AS share_employement_ci_07 \n",
    "                      FROM \n",
    "                        share_cio\n",
    "                    ) \n",
    "                  GROUP BY \n",
    "                    cic, \n",
    "                    OWNERSHIP\n",
    "                ) \n",
    "                SELECT \n",
    "                  * \n",
    "                FROM \n",
    "                  (\n",
    "                    WITH avg_pct AS(\n",
    "                      SELECT \n",
    "                        cic_b, \n",
    "                        OWNERSHIP_b, \n",
    "                        share_output_ci_mean, \n",
    "                        share_fa_net_ci_mean, \n",
    "                        share_employement_ci_mean, \n",
    "                        share_output_ci_median, \n",
    "                        share_output_ci_03, \n",
    "                        share_output_ci_07, \n",
    "                        share_fa_net_ci_median, \n",
    "                        share_fa_net_ci_03, \n",
    "                        share_fa_net_ci_07, \n",
    "                        share_employement_ci_median, \n",
    "                        share_employement_ci_03, \n",
    "                        share_employement_ci_07 \n",
    "                      FROM \n",
    "                        percentile \n",
    "                        LEFT JOIN share_io ON percentile.cic = share_io.cic_b \n",
    "                        AND percentile.OWNERSHIP = share_io.OWNERSHIP_b\n",
    "                    ) \n",
    "                    SELECT \n",
    "                      geocode4_corr, \n",
    "                      cic AS industry, \n",
    "                      OWNERSHIP, \n",
    "                      share_output_ci_mean,\n",
    "                      CASE WHEN share_output_cio > share_output_ci_mean THEN \n",
    "                      'ABOVE' ELSE 'BELOW' END AS output_dominated_mean, \n",
    "                      CASE WHEN share_output_cio > share_output_ci_median THEN \n",
    "                      'ABOVE' ELSE 'BELOW' END AS output_dominated_median, \n",
    "                      CASE WHEN share_output_cio > share_output_ci_03 THEN \n",
    "                      'ABOVE' ELSE 'BELOW' END AS output_dominated_03,\n",
    "                      CASE WHEN share_output_cio > share_output_ci_07 THEN \n",
    "                      'ABOVE' ELSE 'BELOW' END AS output_dominated_07, \n",
    "                      \n",
    "                      \n",
    "                      share_fa_net_ci_mean, \n",
    "                      CASE WHEN share_fa_net_cio > share_fa_net_ci_mean THEN \n",
    "                      'ABOVE' ELSE 'BELOW' END AS capital_dominated_mean, \n",
    "                      CASE WHEN share_fa_net_cio > share_fa_net_ci_median THEN \n",
    "                      'ABOVE' ELSE 'BELOW' END AS capital_dominated_median, \n",
    "                      CASE WHEN share_fa_net_cio > share_fa_net_ci_03 THEN \n",
    "                      'ABOVE' ELSE 'BELOW' END AS capital_dominated_03,\n",
    "                      CASE WHEN share_fa_net_cio > share_fa_net_ci_07 THEN \n",
    "                      'ABOVE' ELSE 'BELOW' END AS capital_dominated_07, \n",
    "                      \n",
    "                      share_employement_ci_mean, \n",
    "                      CASE WHEN share_employement_cio > share_employement_ci_mean THEN \n",
    "                      'ABOVE' ELSE 'BELOW' END AS employement_dominated_mean, \n",
    "                      CASE WHEN share_employement_cio > share_employement_ci_median THEN\n",
    "                      'ABOVE' ELSE 'BELOW' END AS employement_dominated_median, \n",
    "                      CASE WHEN share_employement_cio > share_employement_ci_03 THEN \n",
    "                      'ABOVE' ELSE 'BELOW' END AS employement_dominated_03,\n",
    "                      CASE WHEN share_employement_cio > share_employement_ci_07 THEN \n",
    "                      'ABOVE' ELSE 'BELOW' END AS employement_dominated_07, \n",
    "                    FROM \n",
    "                      share_cio \n",
    "                      LEFT JOIN avg_pct ON share_cio.cic = avg_pct.cic_b \n",
    "                      AND share_cio.OWNERSHIP = avg_pct.OWNERSHIP_b \n",
    "                    ORDER BY \n",
    "                      OWNERSHIP, \n",
    "                      cic, \n",
    "                      geocode4_corr\n",
    "                  )\n",
    "              )\n",
    "          )\n",
    "      )\n",
    "  )\n",
    "\n",
    "\"\"\"\n",
    "df_share = gcp.upload_data_from_bigquery(query = query_share,\n",
    "                                         location = 'US')"
   ]
  },
  {
   "cell_type": "code",
   "execution_count": 6,
   "metadata": {
    "kernel": "SoS"
   },
   "outputs": [
    {
     "data": {
      "text/html": [
       "<div class=\"sos_logging sos_info\">INFO: NumExpr defaulting to 8 threads.</div>"
      ]
     },
     "metadata": {},
     "output_type": "display_data"
    }
   ],
   "source": [
    "%put df_final --to R\n",
    "df_final = (df_final.merge(\n",
    "    df_share.loc[lambda x: x['OWNERSHIP'].isin(['SOE'])][\n",
    "        ['geocode4_corr',\n",
    "               'industry',\n",
    " 'output_dominated_mean',\n",
    " 'output_dominated_median',\n",
    "              'output_dominated_03',\n",
    " 'output_dominated_07',\n",
    " 'capital_dominated_mean',\n",
    " 'capital_dominated_median',\n",
    "              'capital_dominated_03',\n",
    " 'capital_dominated_07',\n",
    " 'employement_dominated_mean',\n",
    " 'employement_dominated_median',\n",
    "              'employement_dominated_03',\n",
    " 'employement_dominated_07'\n",
    "             ]],\n",
    "    how = 'left',\n",
    "    indicator = True\n",
    ").assign(\n",
    "    output_dominated_mean = lambda x: np.where(\n",
    "        x['_merge'] == 'left_only',\n",
    "        'BELOW',\n",
    "        x['output_dominated_mean']\n",
    "    ),\n",
    "    capital_dominated_mean = lambda x: np.where(\n",
    "        x['_merge'] == 'left_only',\n",
    "        'BELOW',\n",
    "        x['capital_dominated_mean']\n",
    "    )\n",
    "    ,\n",
    "    employement_dominated_mean = lambda x: np.where(\n",
    "        x['_merge'] == 'left_only',\n",
    "        'BELOW',\n",
    "        x['employement_dominated_mean']\n",
    "    ),\n",
    "    output_dominated_median = lambda x: np.where(\n",
    "        x['_merge'] == 'left_only',\n",
    "        'BELOW',\n",
    "        x['output_dominated_median']\n",
    "    ),\n",
    "    capital_dominated_median = lambda x: np.where(\n",
    "        x['_merge'] == 'left_only',\n",
    "        'BELOW',\n",
    "        x['capital_dominated_median']\n",
    "    )\n",
    "    ,\n",
    "    employement_dominated_median = lambda x: np.where(\n",
    "        x['_merge'] == 'left_only',\n",
    "        'BELOW',\n",
    "        x['employement_dominated_median']\n",
    "    ),\n",
    "     output_dominated_03 = lambda x: np.where(\n",
    "        x['_merge'] == 'left_only',\n",
    "        'BELOW',\n",
    "        x['output_dominated_03']\n",
    "    ),\n",
    "    capital_dominated_03 = lambda x: np.where(\n",
    "        x['_merge'] == 'left_only',\n",
    "        'BELOW',\n",
    "        x['capital_dominated_03']\n",
    "    )\n",
    "    ,\n",
    "    employement_dominated_03 = lambda x: np.where(\n",
    "        x['_merge'] == 'left_only',\n",
    "        'BELOW',\n",
    "        x['employement_dominated_03']\n",
    "    ),\n",
    "    output_dominated_07 = lambda x: np.where(\n",
    "        x['_merge'] == 'left_only',\n",
    "        'BELOW',\n",
    "        x['output_dominated_07']\n",
    "    ),\n",
    "    capital_dominated_07 = lambda x: np.where(\n",
    "        x['_merge'] == 'left_only',\n",
    "        'BELOW',\n",
    "        x['capital_dominated_07']\n",
    "    )\n",
    "    ,\n",
    "    employement_dominated_07 = lambda x: np.where(\n",
    "        x['_merge'] == 'left_only',\n",
    "        'BELOW',\n",
    "        x['employement_dominated_07']\n",
    "    )\n",
    ")\n",
    ")"
   ]
  },
  {
   "cell_type": "code",
   "execution_count": 9,
   "metadata": {
    "kernel": "SoS"
   },
   "outputs": [
    {
     "data": {
      "text/plain": [
       "(30676, 43)"
      ]
     },
     "execution_count": 9,
     "metadata": {},
     "output_type": "execute_result"
    }
   ],
   "source": [
    "df_final.shape"
   ]
  },
  {
   "cell_type": "code",
   "execution_count": 7,
   "metadata": {
    "kernel": "SoS"
   },
   "outputs": [
    {
     "data": {
      "text/plain": [
       "output_dominated_07\n",
       "ABOVE     1842\n",
       "BELOW    28834\n",
       "Name: output_dominated_07, dtype: int64"
      ]
     },
     "execution_count": 7,
     "metadata": {},
     "output_type": "execute_result"
    }
   ],
   "source": [
    "df_final.groupby([\n",
    "                  'output_dominated_mean'])['output_dominated_mean'].count()\n",
    "df_final.groupby([\n",
    "                  'output_dominated_median'])['output_dominated_median'].count()\n",
    "df_final.groupby([\n",
    "                  'output_dominated_03'])['output_dominated_03'].count()\n",
    "df_final.groupby([\n",
    "                  'output_dominated_07'])['output_dominated_07'].count()"
   ]
  },
  {
   "cell_type": "code",
   "execution_count": 8,
   "metadata": {
    "kernel": "R"
   },
   "outputs": [
    {
     "data": {
      "text/html": [
       "<table>\n",
       "<caption>A data.frame: 6 × 43</caption>\n",
       "<thead>\n",
       "\t<tr><th scope=col>year</th><th scope=col>Period</th><th scope=col>Province_en</th><th scope=col>Lower_location</th><th scope=col>Larger_location</th><th scope=col>Coastal</th><th scope=col>cityen</th><th scope=col>geocode4_corr</th><th scope=col>TCZ_c</th><th scope=col>target_c</th><th scope=col>⋯</th><th scope=col>output_dominated_07</th><th scope=col>capital_dominated_mean</th><th scope=col>capital_dominated_median</th><th scope=col>capital_dominated_03</th><th scope=col>capital_dominated_07</th><th scope=col>employement_dominated_mean</th><th scope=col>employement_dominated_median</th><th scope=col>employement_dominated_03</th><th scope=col>employement_dominated_07</th><th scope=col>_merge</th></tr>\n",
       "\t<tr><th scope=col>&lt;dbl&gt;</th><th scope=col>&lt;fct&gt;</th><th scope=col>&lt;fct&gt;</th><th scope=col>&lt;fct&gt;</th><th scope=col>&lt;fct&gt;</th><th scope=col>&lt;lgl&gt;</th><th scope=col>&lt;fct&gt;</th><th scope=col>&lt;dbl&gt;</th><th scope=col>&lt;fct&gt;</th><th scope=col>&lt;dbl&gt;</th><th scope=col>⋯</th><th scope=col>&lt;fct&gt;</th><th scope=col>&lt;fct&gt;</th><th scope=col>&lt;fct&gt;</th><th scope=col>&lt;fct&gt;</th><th scope=col>&lt;fct&gt;</th><th scope=col>&lt;fct&gt;</th><th scope=col>&lt;fct&gt;</th><th scope=col>&lt;fct&gt;</th><th scope=col>&lt;fct&gt;</th><th scope=col>&lt;fct&gt;</th></tr>\n",
       "</thead>\n",
       "<tbody>\n",
       "\t<tr><td>2002</td><td>Before</td><td>Shanxi   </td><td>Central  </td><td>Central</td><td>FALSE</td><td>Yuncheng</td><td>1408</td><td>TCZ   </td><td>0.48502998</td><td>⋯</td><td>BELOW</td><td>BELOW</td><td>BELOW</td><td>BELOW</td><td>BELOW</td><td>BELOW</td><td>BELOW</td><td>BELOW</td><td>BELOW</td><td>left_only</td></tr>\n",
       "\t<tr><td>2006</td><td>After </td><td>Hunan    </td><td>Central  </td><td>Central</td><td>FALSE</td><td>Xiangtan</td><td>4303</td><td>TCZ   </td><td>0.09275420</td><td>⋯</td><td>BELOW</td><td>BELOW</td><td>BELOW</td><td>BELOW</td><td>BELOW</td><td>BELOW</td><td>BELOW</td><td>BELOW</td><td>BELOW</td><td>left_only</td></tr>\n",
       "\t<tr><td>2007</td><td>After </td><td>Hunan    </td><td>Central  </td><td>Central</td><td>FALSE</td><td>Xiangtan</td><td>4303</td><td>TCZ   </td><td>0.09275420</td><td>⋯</td><td>BELOW</td><td>BELOW</td><td>BELOW</td><td>BELOW</td><td>BELOW</td><td>BELOW</td><td>BELOW</td><td>BELOW</td><td>BELOW</td><td>left_only</td></tr>\n",
       "\t<tr><td>2007</td><td>After </td><td>Liaoning </td><td>Northeast</td><td>Eastern</td><td> TRUE</td><td>Jinzhou </td><td>2107</td><td>TCZ   </td><td>0.08051164</td><td>⋯</td><td>BELOW</td><td>BELOW</td><td>BELOW</td><td>BELOW</td><td>BELOW</td><td>BELOW</td><td>BELOW</td><td>BELOW</td><td>BELOW</td><td>left_only</td></tr>\n",
       "\t<tr><td>2002</td><td>Before</td><td>Liaoning </td><td>Northeast</td><td>Eastern</td><td> TRUE</td><td>Shenyang</td><td>2101</td><td>TCZ   </td><td>0.23007570</td><td>⋯</td><td>BELOW</td><td>ABOVE</td><td>BELOW</td><td>ABOVE</td><td>BELOW</td><td>ABOVE</td><td>BELOW</td><td>ABOVE</td><td>BELOW</td><td>both     </td></tr>\n",
       "\t<tr><td>2002</td><td>Before</td><td>Guangdong</td><td>Coastal  </td><td>Eastern</td><td> TRUE</td><td>Meizhou </td><td>4414</td><td>No_TCZ</td><td>0.02596999</td><td>⋯</td><td>BELOW</td><td>BELOW</td><td>BELOW</td><td>BELOW</td><td>BELOW</td><td>BELOW</td><td>BELOW</td><td>ABOVE</td><td>BELOW</td><td>both     </td></tr>\n",
       "</tbody>\n",
       "</table>\n"
      ],
      "text/latex": [
       "A data.frame: 6 × 43\n",
       "\\begin{tabular}{r|lllllllllllllllllllllllllllllllllllllllllll}\n",
       " year & Period & Province\\_en & Lower\\_location & Larger\\_location & Coastal & cityen & geocode4\\_corr & TCZ\\_c & target\\_c & effort\\_c & industry & ind2 & Short & output\\_fcit & capital\\_fcit & labour\\_fcit & out\\_share\\_SOE & cap\\_share\\_SOE & lab\\_share\\_SOE & tso2\\_cit & tso2\\_i & tCOD\\_cit & twaste\\_water\\_cit & polluted\\_di & polluted\\_mi & polluted\\_thre & FE\\_c\\_i & FE\\_t\\_i & FE\\_t\\_c & output\\_dominated\\_mean & output\\_dominated\\_median & output\\_dominated\\_03 & output\\_dominated\\_07 & capital\\_dominated\\_mean & capital\\_dominated\\_median & capital\\_dominated\\_03 & capital\\_dominated\\_07 & employement\\_dominated\\_mean & employement\\_dominated\\_median & employement\\_dominated\\_03 & employement\\_dominated\\_07 & \\_merge\\\\\n",
       " <dbl> & <fct> & <fct> & <fct> & <fct> & <lgl> & <fct> & <dbl> & <fct> & <dbl> & <fct> & <dbl> & <dbl> & <fct> & <dbl> & <dbl> & <dbl> & <dbl> & <dbl> & <dbl> & <dbl> & <dbl> & <dbl> & <dbl> & <fct> & <fct> & <fct> & <fct> & <fct> & <fct> & <fct> & <fct> & <fct> & <fct> & <fct> & <fct> & <fct> & <fct> & <fct> & <fct> & <fct> & <fct> & <fct>\\\\\n",
       "\\hline\n",
       "\t 2002 & Before & Shanxi    & Central   & Central & FALSE & Yuncheng & 1408 & TCZ    & 0.48502998 & Above & 3329 & 33 & Smelting Non-ferrous Metals & 0.0006870 & 0.0002926 & 0.00036 & 0.02756701 & 0.2210178 & 0.1134672 & 24500 & 168934.5 &     0 &    500 & Above & Below & Above & 11104 & 1573 & 889 & BELOW & BELOW & BELOW & BELOW & BELOW & BELOW & BELOW & BELOW & BELOW & BELOW & BELOW & BELOW & left\\_only\\\\\n",
       "\t 2006 & After  & Hunan     & Central   & Central & FALSE & Xiangtan & 4303 & TCZ    & 0.09275420 & Below & 3329 & 33 & Smelting Non-ferrous Metals & 0.0009500 & 0.0001481 & 0.00023 & 0.02756701 & 0.2210178 & 0.1134672 &  2304 & 168934.5 &     0 &    300 & Above & Below & Above & 11105 & 1574 & 420 & BELOW & BELOW & BELOW & BELOW & BELOW & BELOW & BELOW & BELOW & BELOW & BELOW & BELOW & BELOW & left\\_only\\\\\n",
       "\t 2007 & After  & Hunan     & Central   & Central & FALSE & Xiangtan & 4303 & TCZ    & 0.09275420 & Below & 3329 & 33 & Smelting Non-ferrous Metals & 0.0017150 & 0.0003650 & 0.00023 & 0.02756701 & 0.2210178 & 0.1134672 &  2304 & 168934.5 &     0 &    240 & Above & Below & Above & 11105 & 1572 & 421 & BELOW & BELOW & BELOW & BELOW & BELOW & BELOW & BELOW & BELOW & BELOW & BELOW & BELOW & BELOW & left\\_only\\\\\n",
       "\t 2007 & After  & Liaoning  & Northeast & Eastern &  TRUE & Jinzhou  & 2107 & TCZ    & 0.08051164 & Below & 3329 & 33 & Smelting Non-ferrous Metals & 0.0077300 & 0.0012959 & 0.00089 & 0.02756701 & 0.2210178 & 0.1134672 &  3200 & 168934.5 &     0 &      0 & Above & Below & Above & 11103 & 1572 & 287 & BELOW & BELOW & BELOW & BELOW & BELOW & BELOW & BELOW & BELOW & BELOW & BELOW & BELOW & BELOW & left\\_only\\\\\n",
       "\t 2002 & Before & Liaoning  & Northeast & Eastern &  TRUE & Shenyang & 2101 & TCZ    & 0.23007570 & Above & 3329 & 33 & Smelting Non-ferrous Metals & 0.0009967 & 0.0000516 & 0.00135 & 0.02756701 & 0.2210178 & 0.1134672 &  3840 & 168934.5 &     0 &   3500 & Above & Below & Above & 11106 & 1573 & 432 & BELOW & BELOW & ABOVE & BELOW & ABOVE & BELOW & ABOVE & BELOW & ABOVE & BELOW & ABOVE & BELOW & both     \\\\\n",
       "\t 2002 & Before & Guangdong & Coastal   & Eastern &  TRUE & Meizhou  & 4414 & No\\_TCZ & 0.02596999 & Below & 3329 & 33 & Smelting Non-ferrous Metals & 0.0002903 & 0.0013790 & 0.00125 & 0.02756701 & 0.2210178 & 0.1134672 & 72752 & 168934.5 & 15500 & 115000 & Above & Below & Above & 11107 & 1573 & 909 & BELOW & BELOW & ABOVE & BELOW & BELOW & BELOW & BELOW & BELOW & BELOW & BELOW & ABOVE & BELOW & both     \\\\\n",
       "\\end{tabular}\n"
      ],
      "text/markdown": [
       "\n",
       "A data.frame: 6 × 43\n",
       "\n",
       "| year &lt;dbl&gt; | Period &lt;fct&gt; | Province_en &lt;fct&gt; | Lower_location &lt;fct&gt; | Larger_location &lt;fct&gt; | Coastal &lt;lgl&gt; | cityen &lt;fct&gt; | geocode4_corr &lt;dbl&gt; | TCZ_c &lt;fct&gt; | target_c &lt;dbl&gt; | ⋯ ⋯ | output_dominated_07 &lt;fct&gt; | capital_dominated_mean &lt;fct&gt; | capital_dominated_median &lt;fct&gt; | capital_dominated_03 &lt;fct&gt; | capital_dominated_07 &lt;fct&gt; | employement_dominated_mean &lt;fct&gt; | employement_dominated_median &lt;fct&gt; | employement_dominated_03 &lt;fct&gt; | employement_dominated_07 &lt;fct&gt; | _merge &lt;fct&gt; |\n",
       "|---|---|---|---|---|---|---|---|---|---|---|---|---|---|---|---|---|---|---|---|---|\n",
       "| 2002 | Before | Shanxi    | Central   | Central | FALSE | Yuncheng | 1408 | TCZ    | 0.48502998 | ⋯ | BELOW | BELOW | BELOW | BELOW | BELOW | BELOW | BELOW | BELOW | BELOW | left_only |\n",
       "| 2006 | After  | Hunan     | Central   | Central | FALSE | Xiangtan | 4303 | TCZ    | 0.09275420 | ⋯ | BELOW | BELOW | BELOW | BELOW | BELOW | BELOW | BELOW | BELOW | BELOW | left_only |\n",
       "| 2007 | After  | Hunan     | Central   | Central | FALSE | Xiangtan | 4303 | TCZ    | 0.09275420 | ⋯ | BELOW | BELOW | BELOW | BELOW | BELOW | BELOW | BELOW | BELOW | BELOW | left_only |\n",
       "| 2007 | After  | Liaoning  | Northeast | Eastern |  TRUE | Jinzhou  | 2107 | TCZ    | 0.08051164 | ⋯ | BELOW | BELOW | BELOW | BELOW | BELOW | BELOW | BELOW | BELOW | BELOW | left_only |\n",
       "| 2002 | Before | Liaoning  | Northeast | Eastern |  TRUE | Shenyang | 2101 | TCZ    | 0.23007570 | ⋯ | BELOW | ABOVE | BELOW | ABOVE | BELOW | ABOVE | BELOW | ABOVE | BELOW | both      |\n",
       "| 2002 | Before | Guangdong | Coastal   | Eastern |  TRUE | Meizhou  | 4414 | No_TCZ | 0.02596999 | ⋯ | BELOW | BELOW | BELOW | BELOW | BELOW | BELOW | BELOW | ABOVE | BELOW | both      |\n",
       "\n"
      ],
      "text/plain": [
       "  year Period Province_en Lower_location Larger_location Coastal cityen  \n",
       "1 2002 Before Shanxi      Central        Central         FALSE   Yuncheng\n",
       "2 2006 After  Hunan       Central        Central         FALSE   Xiangtan\n",
       "3 2007 After  Hunan       Central        Central         FALSE   Xiangtan\n",
       "4 2007 After  Liaoning    Northeast      Eastern          TRUE   Jinzhou \n",
       "5 2002 Before Liaoning    Northeast      Eastern          TRUE   Shenyang\n",
       "6 2002 Before Guangdong   Coastal        Eastern          TRUE   Meizhou \n",
       "  geocode4_corr TCZ_c  target_c   ⋯ output_dominated_07 capital_dominated_mean\n",
       "1 1408          TCZ    0.48502998 ⋯ BELOW               BELOW                 \n",
       "2 4303          TCZ    0.09275420 ⋯ BELOW               BELOW                 \n",
       "3 4303          TCZ    0.09275420 ⋯ BELOW               BELOW                 \n",
       "4 2107          TCZ    0.08051164 ⋯ BELOW               BELOW                 \n",
       "5 2101          TCZ    0.23007570 ⋯ BELOW               ABOVE                 \n",
       "6 4414          No_TCZ 0.02596999 ⋯ BELOW               BELOW                 \n",
       "  capital_dominated_median capital_dominated_03 capital_dominated_07\n",
       "1 BELOW                    BELOW                BELOW               \n",
       "2 BELOW                    BELOW                BELOW               \n",
       "3 BELOW                    BELOW                BELOW               \n",
       "4 BELOW                    BELOW                BELOW               \n",
       "5 BELOW                    ABOVE                BELOW               \n",
       "6 BELOW                    BELOW                BELOW               \n",
       "  employement_dominated_mean employement_dominated_median\n",
       "1 BELOW                      BELOW                       \n",
       "2 BELOW                      BELOW                       \n",
       "3 BELOW                      BELOW                       \n",
       "4 BELOW                      BELOW                       \n",
       "5 ABOVE                      BELOW                       \n",
       "6 BELOW                      BELOW                       \n",
       "  employement_dominated_03 employement_dominated_07 _merge   \n",
       "1 BELOW                    BELOW                    left_only\n",
       "2 BELOW                    BELOW                    left_only\n",
       "3 BELOW                    BELOW                    left_only\n",
       "4 BELOW                    BELOW                    left_only\n",
       "5 ABOVE                    BELOW                    both     \n",
       "6 ABOVE                    BELOW                    both     "
      ]
     },
     "metadata": {},
     "output_type": "display_data"
    }
   ],
   "source": [
    "df_final <- df_final %>% \n",
    "    mutate_if(is.character, as.factor) %>%\n",
    "    mutate_at(vars(starts_with(\"FE\")), as.factor) %>%\n",
    "    mutate(\n",
    "         Period = relevel(Period, ref='Before'),\n",
    "         TCZ_c = relevel(TCZ_c, ref='No_TCZ'),\n",
    "         effort_c = relevel(effort_c, ref='Below'),\n",
    "         polluted_di = relevel(polluted_di, ref='Below'),\n",
    "         polluted_mi = relevel(polluted_mi, ref='Below'),\n",
    "         polluted_thre = relevel(polluted_thre, ref='Below'),\n",
    "  )\n",
    "head(df_final)"
   ]
  },
  {
   "cell_type": "markdown",
   "metadata": {
    "collapsed": "true",
    "kernel": "R"
   },
   "source": [
    "### City-industry\n",
    "\n",
    "Output latex table available here\n",
    "\n",
    "- https://www.overleaf.com/project/5deca0097e9f3a0001506527\n",
    "    - 010_SOE_city_industry\n",
    "    - 011_PRIVATE_city_industry\n",
    "    \n",
    "#### SOE\n",
    "\n",
    "In Google Drive:\n",
    "\n",
    "![](https://drive.google.com/uc?export=view&id=1jJ5WR3ka22qL9Rsfhg3Rwdg6M4QY1QdW)\n",
    "\n",
    "#### Private\n",
    "\n",
    "In Google Drive:\n",
    "\n",
    "![](https://drive.google.com/uc?export=view&id=1pwjPnAlCIqlh0ixodV-VNldVtKxYx412)"
   ]
  },
  {
   "cell_type": "markdown",
   "metadata": {
    "collapsed": "true",
    "kernel": "R"
   },
   "source": [
    "### Code"
   ]
  },
  {
   "cell_type": "markdown",
   "metadata": {
    "collapsed": "true",
    "kernel": "R"
   },
   "source": [
    "#### SOE"
   ]
  },
  {
   "cell_type": "code",
   "execution_count": 10,
   "metadata": {
    "kernel": "R"
   },
   "outputs": [],
   "source": [
    "t1 <- felm(formula=log(tso2_cit) ~ TCZ_c * Period * polluted_thre \n",
    "                  + output_fcit + capital_fcit + labour_fcit\n",
    "                  |\n",
    "             FE_t_c + FE_t_i + FE_c_i | 0 |\n",
    "             industry, data= df_final %>% filter(output_dominated_mean == 'ABOVE'),\n",
    "             exactDOF=TRUE)\n",
    "t2 <- felm(formula=log(tso2_cit) ~ TCZ_c * Period * polluted_thre \n",
    "                  + output_fcit + capital_fcit + labour_fcit\n",
    "                  |\n",
    "             FE_t_c + FE_t_i + FE_c_i | 0 |\n",
    "             industry, data= df_final %>% filter(output_dominated_median == 'ABOVE'),\n",
    "             exactDOF=TRUE)\n",
    "t3 <- felm(formula=log(tso2_cit) ~ TCZ_c * Period * polluted_thre \n",
    "                  + output_fcit + capital_fcit + labour_fcit\n",
    "                  |\n",
    "             FE_t_c + FE_t_i + FE_c_i | 0 |\n",
    "             industry, data= df_final %>% filter(output_dominated_03 == 'ABOVE'),\n",
    "             exactDOF=TRUE)\n",
    "t4 <- felm(formula=log(tso2_cit) ~ TCZ_c * Period * polluted_thre \n",
    "                  + output_fcit + capital_fcit + labour_fcit\n",
    "                  |\n",
    "             FE_t_c + FE_t_i + FE_c_i | 0 |\n",
    "             industry, data= df_final %>% filter(output_dominated_07 == 'ABOVE'),\n",
    "             exactDOF=TRUE)\n",
    "t5 <- felm(formula=log(tso2_cit) ~ TCZ_c * Period * polluted_thre \n",
    "                  + output_fcit + capital_fcit + labour_fcit\n",
    "                  |\n",
    "             FE_t_c + FE_t_i + FE_c_i | 0 |\n",
    "             industry, data= df_final %>% filter(capital_dominated_mean == 'ABOVE'),\n",
    "             exactDOF=TRUE)\n",
    "t6 <- felm(formula=log(tso2_cit) ~ TCZ_c * Period * polluted_thre \n",
    "                  + output_fcit + capital_fcit + labour_fcit\n",
    "                  |\n",
    "             FE_t_c + FE_t_i + FE_c_i | 0 |\n",
    "             industry, data= df_final %>% filter(capital_dominated_median == 'ABOVE'),\n",
    "             exactDOF=TRUE)\n",
    "t7 <- felm(formula=log(tso2_cit) ~ TCZ_c * Period * polluted_thre \n",
    "                  + output_fcit + capital_fcit + labour_fcit\n",
    "                  |\n",
    "             FE_t_c + FE_t_i + FE_c_i | 0 |\n",
    "             industry, data= df_final %>% filter(capital_dominated_03 == 'ABOVE'),\n",
    "             exactDOF=TRUE)\n",
    "t8 <- felm(formula=log(tso2_cit) ~ TCZ_c * Period * polluted_thre \n",
    "                  + output_fcit + capital_fcit + labour_fcit\n",
    "                  |\n",
    "             FE_t_c + FE_t_i + FE_c_i | 0 |\n",
    "             industry, data= df_final %>% filter(capital_dominated_07 == 'ABOVE'),\n",
    "             exactDOF=TRUE)\n",
    "t9 <- felm(formula=log(tso2_cit) ~ TCZ_c * Period * polluted_thre \n",
    "                  + output_fcit + capital_fcit + labour_fcit\n",
    "                  |\n",
    "             FE_t_c + FE_t_i + FE_c_i | 0 |\n",
    "             industry, data= df_final %>% filter(employement_dominated_mean == 'ABOVE'),\n",
    "             exactDOF=TRUE)\n",
    "t10 <- felm(formula=log(tso2_cit) ~ TCZ_c * Period * polluted_thre \n",
    "                  + output_fcit + capital_fcit + labour_fcit\n",
    "                  |\n",
    "             FE_t_c + FE_t_i + FE_c_i | 0 |\n",
    "             industry, data= df_final %>% filter(employement_dominated_median == 'ABOVE'),\n",
    "             exactDOF=TRUE)\n",
    "t11 <- felm(formula=log(tso2_cit) ~ TCZ_c * Period * polluted_thre \n",
    "                  + output_fcit + capital_fcit + labour_fcit\n",
    "                  |\n",
    "             FE_t_c + FE_t_i + FE_c_i | 0 |\n",
    "             industry, data= df_final %>% filter(employement_dominated_03 == 'ABOVE'),\n",
    "             exactDOF=TRUE)\n",
    "t12 <- felm(formula=log(tso2_cit) ~ TCZ_c * Period * polluted_thre \n",
    "                  + output_fcit + capital_fcit + labour_fcit\n",
    "                  |\n",
    "             FE_t_c + FE_t_i + FE_c_i | 0 |\n",
    "             industry, data= df_final %>% filter(employement_dominated_07 == 'ABOVE'),\n",
    "             exactDOF=TRUE)"
   ]
  },
  {
   "cell_type": "code",
   "execution_count": 11,
   "metadata": {
    "kernel": "python3"
   },
   "outputs": [],
   "source": [
    "import os\n",
    "decile= ['& mean', 'median','decile .3', 'decile .7',\n",
    "        'mean', 'median','decile .3', 'decile .7',\n",
    "        'mean', 'median','decile .3', 'decile .7']\n",
    "try:\n",
    "    os.remove(\"table_1.txt\")\n",
    "except:\n",
    "    pass\n",
    "try:\n",
    "    os.remove(\"table_1.tex\")\n",
    "except:\n",
    "    pass\n"
   ]
  },
  {
   "cell_type": "code",
   "execution_count": 12,
   "metadata": {
    "kernel": "R"
   },
   "outputs": [],
   "source": [
    "fe1 <- list(c(\"City-year fixed effects\", \"Yes\", \"Yes\", \"Yes\", 'Yes',\n",
    "              \"Yes\", \"Yes\", \"Yes\", 'Yes',\n",
    "              \"Yes\", \"Yes\", \"Yes\", 'Yes'),\n",
    "             c(\"Industry-year fixed effects\", \"Yes\", \"Yes\", \"Yes\", 'Yes',\n",
    "              \"Yes\", \"Yes\", \"Yes\", 'Yes',\n",
    "              \"Yes\", \"Yes\", \"Yes\", 'Yes'),\n",
    "             c(\"City-industry fixed effects\", \"Yes\", \"Yes\", \"Yes\", 'Yes',\n",
    "              \"Yes\", \"Yes\", \"Yes\", 'Yes',\n",
    "              \"Yes\", \"Yes\", \"Yes\", 'Yes')\n",
    "             )\n",
    "table_1 <- go_latex(list(\n",
    "    t1,\n",
    "    t2,\n",
    "    t3, \n",
    "    t4,\n",
    "    t5,\n",
    "    t6,\n",
    "    t7, \n",
    "    t8,\n",
    "    t9,\n",
    "    t10,\n",
    "    t11, \n",
    "    t12\n",
    "),\n",
    "    title='SOE dominating sectors',\n",
    "    addFE=fe1,\n",
    "    save=TRUE,\n",
    "    name=\"table_1.txt\"\n",
    ")"
   ]
  },
  {
   "cell_type": "markdown",
   "metadata": {
    "collapsed": "true",
    "kernel": "R"
   },
   "source": [
    "#### Private"
   ]
  },
  {
   "cell_type": "code",
   "execution_count": 13,
   "metadata": {
    "kernel": "R"
   },
   "outputs": [],
   "source": [
    "#### Output\n",
    "t1 <- felm(formula=log(tso2_cit) ~ TCZ_c * Period * polluted_thre \n",
    "                  + output_fcit + capital_fcit + labour_fcit\n",
    "                  |\n",
    "             FE_t_c + FE_t_i + FE_c_i | 0 |\n",
    "             industry, data= df_final %>% filter(output_dominated_mean == 'BELOW'),\n",
    "             exactDOF=TRUE)\n",
    "t2 <- felm(formula=log(tso2_cit) ~ TCZ_c * Period * polluted_thre \n",
    "                  + output_fcit + capital_fcit + labour_fcit\n",
    "                  |\n",
    "             FE_t_c + FE_t_i + FE_c_i | 0 |\n",
    "             industry, data= df_final %>% filter(output_dominated_median == 'BELOW'),\n",
    "             exactDOF=TRUE)\n",
    "t3 <- felm(formula=log(tso2_cit) ~ TCZ_c * Period * polluted_thre \n",
    "                  + output_fcit + capital_fcit + labour_fcit\n",
    "                  |\n",
    "             FE_t_c + FE_t_i + FE_c_i | 0 |\n",
    "             industry, data= df_final %>% filter(output_dominated_03 == 'BELOW'),\n",
    "             exactDOF=TRUE)\n",
    "t4 <- felm(formula=log(tso2_cit) ~ TCZ_c * Period * polluted_thre \n",
    "                  + output_fcit + capital_fcit + labour_fcit\n",
    "                  |\n",
    "             FE_t_c + FE_t_i + FE_c_i | 0 |\n",
    "             industry, data= df_final %>% filter(output_dominated_07 == 'BELOW'),\n",
    "             exactDOF=TRUE)\n",
    "\n",
    "#### Capital\n",
    "t5 <- felm(formula=log(tso2_cit) ~ TCZ_c * Period * polluted_thre \n",
    "                  + output_fcit + capital_fcit + labour_fcit\n",
    "                  |\n",
    "             FE_t_c + FE_t_i + FE_c_i | 0 |\n",
    "             industry, data= df_final %>% filter(capital_dominated_mean == 'BELOW'),\n",
    "             exactDOF=TRUE)\n",
    "t6 <- felm(formula=log(tso2_cit) ~ TCZ_c * Period * polluted_thre \n",
    "                  + output_fcit + capital_fcit + labour_fcit\n",
    "                  |\n",
    "             FE_t_c + FE_t_i + FE_c_i | 0 |\n",
    "             industry, data= df_final %>% filter(capital_dominated_median == 'BELOW'),\n",
    "             exactDOF=TRUE)\n",
    "t7 <- felm(formula=log(tso2_cit) ~ TCZ_c * Period * polluted_thre \n",
    "                  + output_fcit + capital_fcit + labour_fcit\n",
    "                  |\n",
    "             FE_t_c + FE_t_i + FE_c_i | 0 |\n",
    "             industry, data= df_final %>% filter(capital_dominated_03 == 'BELOW'),\n",
    "             exactDOF=TRUE)\n",
    "t8 <- felm(formula=log(tso2_cit) ~ TCZ_c * Period * polluted_thre \n",
    "                  + output_fcit + capital_fcit + labour_fcit\n",
    "                  |\n",
    "             FE_t_c + FE_t_i + FE_c_i | 0 |\n",
    "             industry, data= df_final %>% filter(capital_dominated_07 == 'BELOW'),\n",
    "             exactDOF=TRUE)\n",
    "\n",
    "#### Employement\n",
    "t9 <- felm(formula=log(tso2_cit) ~ TCZ_c * Period * polluted_thre \n",
    "                  + output_fcit + capital_fcit + labour_fcit\n",
    "                  |\n",
    "             FE_t_c + FE_t_i + FE_c_i | 0 |\n",
    "             industry, data= df_final %>% filter(employement_dominated_mean == 'BELOW'),\n",
    "             exactDOF=TRUE)\n",
    "t10 <- felm(formula=log(tso2_cit) ~ TCZ_c * Period * polluted_thre \n",
    "                  + output_fcit + capital_fcit + labour_fcit\n",
    "                  |\n",
    "             FE_t_c + FE_t_i + FE_c_i | 0 |\n",
    "             industry, data= df_final %>% filter(employement_dominated_median == 'BELOW'),\n",
    "             exactDOF=TRUE)\n",
    "t11 <- felm(formula=log(tso2_cit) ~ TCZ_c * Period * polluted_thre \n",
    "                  + output_fcit + capital_fcit + labour_fcit\n",
    "                  |\n",
    "             FE_t_c + FE_t_i + FE_c_i | 0 |\n",
    "             industry, data= df_final %>% filter(employement_dominated_03 == 'BELOW'),\n",
    "             exactDOF=TRUE)\n",
    "t12 <- felm(formula=log(tso2_cit) ~ TCZ_c * Period * polluted_thre \n",
    "                  + output_fcit + capital_fcit + labour_fcit\n",
    "                  |\n",
    "             FE_t_c + FE_t_i + FE_c_i | 0 |\n",
    "             industry, data= df_final %>% filter(employement_dominated_07 == 'BELOW'),\n",
    "             exactDOF=TRUE)"
   ]
  },
  {
   "cell_type": "code",
   "execution_count": 14,
   "metadata": {
    "kernel": "python3"
   },
   "outputs": [],
   "source": [
    "import os\n",
    "decile= ['& mean', 'median','decile .3', 'decile .7',\n",
    "        'mean', 'median','decile .3', 'decile .7',\n",
    "        'mean', 'median','decile .3', 'decile .7']\n",
    "try:\n",
    "    os.remove(\"table_2.txt\")\n",
    "except:\n",
    "    pass\n",
    "try:\n",
    "    os.remove(\"table_2.tex\")\n",
    "except:\n",
    "    pass"
   ]
  },
  {
   "cell_type": "code",
   "execution_count": 15,
   "metadata": {
    "kernel": "R"
   },
   "outputs": [],
   "source": [
    "fe1 <- list(c(\"City-year fixed effects\", \"Yes\", \"Yes\", \"Yes\", 'Yes',\n",
    "              \"Yes\", \"Yes\", \"Yes\", 'Yes',\n",
    "              \"Yes\", \"Yes\", \"Yes\", 'Yes'),\n",
    "             c(\"Industry-year fixed effects\", \"Yes\", \"Yes\", \"Yes\", 'Yes',\n",
    "              \"Yes\", \"Yes\", \"Yes\", 'Yes',\n",
    "              \"Yes\", \"Yes\", \"Yes\", 'Yes'),\n",
    "             c(\"City-industry fixed effects\", \"Yes\", \"Yes\", \"Yes\", 'Yes',\n",
    "              \"Yes\", \"Yes\", \"Yes\", 'Yes',\n",
    "              \"Yes\", \"Yes\", \"Yes\", 'Yes')\n",
    "             )\n",
    "table_1 <- go_latex(list(\n",
    "    t1,\n",
    "    t2,\n",
    "    t3, \n",
    "    t4,\n",
    "    t5,\n",
    "    t6,\n",
    "    t7, \n",
    "    t8,\n",
    "    t9,\n",
    "    t10,\n",
    "    t11, \n",
    "    t12\n",
    "),\n",
    "    title='Private dominating sectors',\n",
    "    addFE=fe1,\n",
    "    save=TRUE,\n",
    "    name=\"table_2.txt\"\n",
    ")"
   ]
  },
  {
   "cell_type": "code",
   "execution_count": 18,
   "metadata": {
    "kernel": "python3"
   },
   "outputs": [],
   "source": [
    "for i in range(1,3):\n",
    "    lb.beautify(table_number = i,\n",
    "    constraint = False,\n",
    "    city_industry = False, \n",
    "    new_row = decile)"
   ]
  },
  {
   "cell_type": "markdown",
   "metadata": {
    "kernel": "python3"
   },
   "source": [
    "### Industry\n",
    "\n",
    "Output latex table available here\n",
    "\n",
    "- https://www.overleaf.com/project/5deca0097e9f3a0001506527\n",
    "    - 020_SOE_industry\n",
    "    - 021_PRIVATE_industry\n",
    "\n",
    "#### SOE\n",
    "\n",
    "In Google Drive:\n",
    "\n",
    "![](https://drive.google.com/uc?export=view&id=)\n",
    "\n",
    "#### Private\n",
    "\n",
    "In Google Drive:\n",
    "\n",
    "![](https://drive.google.com/uc?export=view&id=)"
   ]
  },
  {
   "cell_type": "markdown",
   "metadata": {
    "kernel": "python3"
   },
   "source": [
    "### City\n",
    "\n",
    "Output latex table available here\n",
    "\n",
    "- https://www.overleaf.com/project/5deca0097e9f3a0001506527\n",
    "    - 030_SOE_city\n",
    "    - 031_PRIVATE_city\n",
    "\n",
    "#### SOE\n",
    "\n",
    "In Google Drive:\n",
    "\n",
    "![](https://drive.google.com/uc?export=view&id=)\n",
    "\n",
    "#### Private\n",
    "\n",
    "In Google Drive:\n",
    "\n",
    "![](https://drive.google.com/uc?export=view&id=)"
   ]
  }
 ],
 "metadata": {
  "jupytext": {
   "formats": "ipynb,md"
  },
  "kernelspec": {
   "display_name": "SoS",
   "language": "sos",
   "name": "sos"
  },
  "language_info": {
   "codemirror_mode": "sos",
   "file_extension": ".sos",
   "mimetype": "text/x-sos",
   "name": "sos",
   "nbconvert_exporter": "sos_notebook.converter.SoS_Exporter",
   "pygments_lexer": "sos"
  },
  "sos": {
   "kernels": [
    [
     "R",
     "ir",
     "R",
     "#DCDCDA",
     "r"
    ],
    [
     "SoS",
     "sos",
     "",
     "",
     "sos"
    ],
    [
     "python3",
     "python3",
     "python3",
     "",
     {
      "name": "ipython",
      "version": 3
     }
    ]
   ],
   "version": "0.20.6"
  }
 },
 "nbformat": 4,
 "nbformat_minor": 4
}
