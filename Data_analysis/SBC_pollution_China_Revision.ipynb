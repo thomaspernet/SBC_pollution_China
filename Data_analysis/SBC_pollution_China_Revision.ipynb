{
 "cells": [
  {
   "cell_type": "markdown",
   "metadata": {
    "Collapsed": "false",
    "kernel": "SoS"
   },
   "source": [
    "# SBC_pollution_China Revision Paper\n",
    "\n",
    "Here is the link with all the revisions:\n",
    "\n",
    "- https://coda.io/d/SoftBudgetConstraint_dD-uOwatzMS/Revision_suYyi#_luGfQ\n",
    "\n",
    "## Revision table \n",
    "\n",
    "| Comments_by | URL      | People          | Comments                                                                                                                                                                                                                                                 |\n",
    "|-------------|----------|-----------------|----------------------------------------------------------------------------------------------------------------------------------------------------------------------------------------------------------------------------------------------------------|\n",
    "| Author 1    | Revision | Thomas,Mathilde | Je réfléchis à ce que nous pourrions faire ici, c'est en effet un point intéressant.                                                                                                                                                                     |\n",
    "| Author 1    | Revision | Thomas          | Pouvez vous me rassurer sur ce point? Tos les termes d'interaction sont ils dans l'équation? Je me souviens que nous en avions parlé en effet. J'espère qu'il n'y a pas d'erreurs et que nous pouvons justifier. C'est discutable. Mais on peut essayer. |\n",
    "| Author 1    | Revision | Mathilde        | Je ré-écrirai.                                                                                                                                                                                                                                           |\n",
    "| Author 1    | Revision |                 | Avons nous ces informations? Si non peut on les trouver?                                                                                                                                                                                                 |\n",
    "| Author 1    | Revision |                 | TCZ et Target sont indépendants n'est ce pas?                                                                                                                                                                                                            |\n",
    "| Author 1    | Revision |                 |                                                                                                                                                                                                                                                          |\n",
    "| Author 1    | Revision |                 | Il faut reformuler ici.                                                                                                                                                                                                                                  |\n",
    "| Author 2    | Revision | Thomas          | Avons nous des entreprises étrangères dans l'échantillon?                                                                                                                                                                                                |\n",
    "| Author 2    | Revision | Thomas          | Oui je suppose, pouvez vous regarder?                                                                                                                                                                                                                    |\n",
    "| Author 2    | Revision | Thomas          | Pouvez vous faire ce test?                                                                                                                                                                                                                               |\n",
    "| Author 2    | Revision | Thomas          | Pouvez vous corriger ce point?                                                                                                                                                                                                                           |\n",
    "| Author 2    | Revision | Mathilde        | Très bon commentaire, je m'en occupe.                                                                                                                                                                                                                    |\n",
    "\n",
    "## Proposal \n",
    "\n",
    "The proposal is available [here](https://drive.google.com/open?id=1tmSFvdUMXcL3vMKBSNYmf5xe6OEmYNnD)\n",
    "\n",
    "### Equation to estimate\n",
    "\n",
    "$$\n",
    "\\begin{aligned} \\text { SO2 emission }_{i k t}=& \\alpha T C Z_{i} \\times \\text { Polluted sectors }_{k} \\times \\text { post } \\\\ &+\\beta T C Z_{i} \\times \\text { Polluted sectors }_{k} \\times \\text { post } \\times \\text { Share Foreign }_{k} \\\\ & +\\theta {X}_{i k t}+\\nu_{c i}+\\lambda_{t i} +\\phi_{t c} +\\epsilon_{ikt} \\end{aligned}\n",
    "$$\n",
    "\n",
    "city-industry; time-industry and time-city"
   ]
  },
  {
   "cell_type": "markdown",
   "metadata": {
    "Collapsed": "false",
    "kernel": "SoS"
   },
   "source": [
    "# Revision\n",
    "\n",
    "## Load the data\n",
    "\n"
   ]
  },
  {
   "cell_type": "code",
   "execution_count": null,
   "metadata": {
    "Collapsed": "false",
    "kernel": "SoS"
   },
   "outputs": [],
   "source": [
    "import pandas as pd\n",
    "from Fast_connectCloud import connector\n",
    "\n",
    "gs = connector.open_connection(online_connection = False,\n",
    "                              path_credential = '/Users/thomas/Google Drive/Projects/Data_science/Google_code_n_Oauth/Client_Oauth/Google_auth/')\n",
    "\n",
    "service = gs.connect_remote('GCP')"
   ]
  },
  {
   "cell_type": "code",
   "execution_count": null,
   "metadata": {
    "Collapsed": "false",
    "kernel": "SoS"
   },
   "outputs": [],
   "source": [
    "%put df_final --to R\n",
    "\n",
    "from GoogleDrivePy.google_platform import connect_cloud_platform\n",
    "project = 'valid-pagoda-132423'\n",
    "gcp = connect_cloud_platform.connect_console(project = project, \n",
    "                                             service_account = service['GoogleCloudP'])    \n",
    "query = (\n",
    "          \"SELECT * \"\n",
    "            \"FROM China.SBC_pollution_China \"\n",
    "\n",
    "        )\n",
    "\n",
    "df_final = gcp.upload_data_from_bigquery(query = query, location = 'US')"
   ]
  },
  {
   "cell_type": "code",
   "execution_count": null,
   "metadata": {
    "Collapsed": "false",
    "kernel": "SoS"
   },
   "outputs": [],
   "source": [
    "query_herfindhal = (\n",
    "          \"SELECT * \"\n",
    "            \"FROM China.calcul_herfhindal_2 \"\n",
    "\n",
    "        )\n",
    "df_herfhindal = gcp.upload_data_from_bigquery(query = query_herfindhal,\n",
    "                                         location = 'US').rename(columns = {'cic':'industry',\n",
    "                                'cityen_correct':'cityen'})"
   ]
  },
  {
   "cell_type": "code",
   "execution_count": null,
   "metadata": {
    "Collapsed": "false",
    "kernel": "R"
   },
   "outputs": [],
   "source": [
    "options(warn=-1)\n",
    "library(tidyverse)\n",
    "library(lfe)\n",
    "library(lazyeval)\n",
    "library('progress')"
   ]
  },
  {
   "cell_type": "code",
   "execution_count": null,
   "metadata": {
    "Collapsed": "false",
    "kernel": "R"
   },
   "outputs": [],
   "source": [
    "path = \"SBC_pollution_R.R\"\n",
    "source(path)\n",
    "path = \"SBC_pollutiuon_golatex.R\"\n",
    "source(path)\n",
    "\n",
    "df_final <- df_final %>% \n",
    "    mutate_if(is.character, as.factor) %>%\n",
    "    mutate_at(vars(starts_with(\"FE\")), as.factor) %>%\n",
    "    mutate(\n",
    "         Period = relevel(Period, ref='Before'),\n",
    "         TCZ_c = relevel(TCZ_c, ref='No_TCZ'),\n",
    "         effort_c = relevel(effort_c, ref='Below'),\n",
    "         polluted_di = relevel(polluted_di, ref='Below'),\n",
    "         polluted_mi = relevel(polluted_mi, ref='Below'),\n",
    "         polluted_thre = relevel(polluted_thre, ref='Below'),\n",
    "  )\n",
    "head(df_final)"
   ]
  },
  {
   "cell_type": "markdown",
   "metadata": {
    "Collapsed": "false",
    "kernel": "SoS"
   },
   "source": [
    "## Comment Empirical analysis:\n",
    "\n",
    "First of all, notice again that there is no convincing evidence that SOEs shifts the burden of the environmental adaptation to private firms. In most of the cases, there are interaction terms with three or even form variables in the regression equation. My major concern is if the authors have also included all the sublevel interaction terms in the regression. For instance, in equation (1), there is an interaction term of four variables, TCZi, Polluting sectorsk, Period, Share SOEk. However, it seems in table 3 not all the corresponding triple interaction terms (such as TCZi *Polluting sectorsk *Share SOEk) are controlled. \n",
    "\n",
    "## Answers:\n",
    "\n",
    "Compute the following equation to show the fixed effect tackle the \"missing\" coefficients\n",
    "\n",
    "$$EQUATION$$\n",
    "\n",
    "CF this [paper](https://drive.google.com/file/d/1-SXSlRoS_2ZW7CK6XMhcXpJDPxAEF1xG/view)\n",
    "\n",
    "Output latex table available here\n",
    "\n",
    "- https://www.overleaf.com/project/5deca0097e9f3a0001506527\n"
   ]
  },
  {
   "cell_type": "code",
   "execution_count": null,
   "metadata": {
    "Collapsed": "false",
    "kernel": "R"
   },
   "outputs": [],
   "source": [
    "t1 <- felm(formula=log(tso2_cit) ~ TCZ_c * Period \n",
    "                  + output_fcit + capital_fcit + labour_fcit\n",
    "                  |\n",
    "             cityen +  year + industry | 0 |\n",
    "             cityen, data= df_final,\n",
    "             exactDOF=TRUE)"
   ]
  },
  {
   "cell_type": "code",
   "execution_count": null,
   "metadata": {
    "Collapsed": "false",
    "kernel": "R"
   },
   "outputs": [],
   "source": [
    "t2 <- felm(formula=log(tso2_cit) ~ TCZ_c * Period * polluted_thre\n",
    "                  + output_fcit + capital_fcit + labour_fcit\n",
    "                  |\n",
    "             cityen +  year + industry | 0 |\n",
    "             cityen, data= df_final,\n",
    "             exactDOF=TRUE)"
   ]
  },
  {
   "cell_type": "code",
   "execution_count": null,
   "metadata": {
    "Collapsed": "false",
    "kernel": "R"
   },
   "outputs": [],
   "source": [
    "fe1 <- list(c(\"City fixed effects\", \"Yes\", \"Yes\",\n",
    "               \"Yes\"),\n",
    "             c(\"Industry fixed effects\", \"Yes\", \"Yes\"),\n",
    "             c(\"Year fixed effects\", \"Yes\", \"Yes\")\n",
    "             )\n",
    "\n",
    "table_1 <- go_latex(list(\n",
    "    t1,\n",
    "    t2\n",
    "),\n",
    "    title='Revision results',\n",
    "    addFE=fe1,\n",
    "    save=TRUE,\n",
    "    name=\"table_1_revision.txt\"\n",
    ")"
   ]
  },
  {
   "cell_type": "code",
   "execution_count": null,
   "metadata": {
    "Collapsed": "false",
    "kernel": "python3"
   },
   "outputs": [],
   "source": [
    "import latex_beautify as lb\n",
    "\n",
    "%load_ext autoreload\n",
    "%autoreload 2"
   ]
  },
  {
   "cell_type": "code",
   "execution_count": null,
   "metadata": {
    "Collapsed": "false",
    "kernel": "python3"
   },
   "outputs": [],
   "source": [
    "lb.beautify(table_number = 1)"
   ]
  },
  {
   "cell_type": "markdown",
   "metadata": {
    "Collapsed": "true",
    "kernel": "python3"
   },
   "source": [
    "### Redo table 1"
   ]
  },
  {
   "cell_type": "code",
   "execution_count": null,
   "metadata": {
    "Collapsed": "false",
    "kernel": "R"
   },
   "outputs": [],
   "source": [
    "t0_ <- felm(formula=log(tso2_cit) ~ TCZ_c * Period \n",
    "                  + output_fcit + capital_fcit + labour_fcit\n",
    "                  |\n",
    "             cityen +  year + industry | 0 |\n",
    "             cityen, data= df_final,\n",
    "             exactDOF=TRUE)\n",
    "t1_ <- felm(formula=log(tso2_cit) ~ TCZ_c * Period * polluted_thre\n",
    "                  + output_fcit + capital_fcit + labour_fcit\n",
    "                  |\n",
    "             cityen +  year + industry | 0 |\n",
    "             cityen, data= df_final,\n",
    "             exactDOF=TRUE)\n",
    "\n",
    "t0 <- final_model(df=df_final,\n",
    "                   target='TCZ_c',\n",
    "                   SOE='count_SOE',\n",
    "                   pol='polluted_thre',\n",
    "                   control=TRUE,\n",
    "                   cluster= 'industry',\n",
    "                   print=FALSE)\n",
    "t1 <- final_model(df=df_final,\n",
    "                   target='TCZ_c',\n",
    "                   SOE='out_share_SOE',\n",
    "                   pol='polluted_thre',\n",
    "                   control=TRUE,\n",
    "                  cluster= 'industry',\n",
    "                   print=FALSE)\n",
    "t2 <- final_model(df=df_final,\n",
    "                   target='TCZ_c',\n",
    "                   SOE='cap_share_SOE',\n",
    "                   pol='polluted_thre',\n",
    "                   control=TRUE,\n",
    "                  cluster= 'industry',\n",
    "                   print=FALSE)\n",
    "t3 <- final_model(df=df_final,\n",
    "                   target='TCZ_c',\n",
    "                   SOE='lab_share_SOE',\n",
    "                   pol='polluted_thre',\n",
    "                   control=TRUE,\n",
    "                  cluster= 'industry',\n",
    "                   print=FALSE)\n",
    "fe1 <- list(c(\"City-year fixed effects\", \"No\", \"No\", \"Yes\",\"Yes\", \"Yes\",\"Yes\"),\n",
    "             c(\"Industry-year fixed effects\", \"No\", \"No\", \"Yes\", \"Yes\", \"Yes\",\"Yes\"),\n",
    "             c(\"City-industry fixed effects\", \"No\", \"No\", \"Yes\", \"Yes\", \"Yes\",\"Yes\")\n",
    "             )\n",
    "\n",
    "table_1 <- go_latex(list(\n",
    "    t0_,\n",
    "    t1_,\n",
    "    t0,\n",
    "    t1,\n",
    "    t2,\n",
    "    t3\n",
    "),\n",
    "    title='Baseline results revision',\n",
    "    addFE=fe1,\n",
    "    save=TRUE,\n",
    "    name=\"table_2.txt\"\n",
    ")"
   ]
  },
  {
   "cell_type": "code",
   "execution_count": null,
   "metadata": {
    "Collapsed": "false",
    "kernel": "python3"
   },
   "outputs": [],
   "source": [
    "lb.beautify(table_number = 2)"
   ]
  },
  {
   "cell_type": "markdown",
   "metadata": {
    "Collapsed": "false",
    "kernel": "python3"
   },
   "source": [
    "### Redo table 1: All variables"
   ]
  },
  {
   "cell_type": "code",
   "execution_count": null,
   "metadata": {
    "Collapsed": "false",
    "kernel": "R"
   },
   "outputs": [],
   "source": [
    "t0 <- felm(formula=log(tso2_cit) ~ TCZ_c * Period *polluted_thre * out_share_SOE\n",
    "                  + output_fcit + capital_fcit + labour_fcit\n",
    "                  |\n",
    "             cityen +  year + industry | 0 |\n",
    "             cityen, data= df_final,\n",
    "             exactDOF=TRUE)\n",
    "\n",
    "t1 <- felm(formula=log(tso2_cit) ~ TCZ_c * Period *polluted_thre * cap_share_SOE\n",
    "                  + output_fcit + capital_fcit + labour_fcit\n",
    "                  |\n",
    "             cityen +  year + industry | 0 |\n",
    "             cityen, data= df_final,\n",
    "             exactDOF=TRUE)\n",
    "\n",
    "t2 <- felm(formula=log(tso2_cit) ~ TCZ_c * Period *polluted_thre * lab_share_SOE\n",
    "                  + output_fcit + capital_fcit + labour_fcit\n",
    "                  |\n",
    "             cityen +  year + industry | 0 |\n",
    "             cityen, data= df_final,\n",
    "             exactDOF=TRUE)\n",
    "\n",
    "t3 <- final_model(df=df_final,\n",
    "                   target='TCZ_c',\n",
    "                   SOE='out_share_SOE',\n",
    "                   pol='polluted_thre',\n",
    "                   control=TRUE,\n",
    "                  cluster= 'industry',\n",
    "                   print=FALSE)\n",
    "\n",
    "t4 <- final_model(df=df_final,\n",
    "                   target='TCZ_c',\n",
    "                   SOE='cap_share_SOE',\n",
    "                   pol='polluted_thre',\n",
    "                   control=TRUE,\n",
    "                  cluster= 'industry',\n",
    "                   print=FALSE)\n",
    "\n",
    "t5 <- final_model(df=df_final,\n",
    "                   target='TCZ_c',\n",
    "                   SOE='lab_share_SOE',\n",
    "                   pol='polluted_thre',\n",
    "                   control=TRUE,\n",
    "                  cluster= 'industry',\n",
    "                   print=FALSE)"
   ]
  },
  {
   "cell_type": "code",
   "execution_count": null,
   "metadata": {
    "Collapsed": "false",
    "kernel": "R"
   },
   "outputs": [],
   "source": [
    "fe1 <- list(c(\"City fixed effects\", \"Yes\", \"Yes\", \"Yes\", \"No\", \"No\", \"No\"),\n",
    "             c(\"Industry fixed effects\", \"Yes\", \"Yes\", \"Yes\", \"No\", \"No\", \"No\"),\n",
    "             c(\"Yes fixed effects\",\"Yes\", \"Yes\", \"Yes\", \"No\", \"No\", \"No\"),\n",
    "             c(\"City-year fixed effects\", \"No\", \"No\", \"Yes\",\"Yes\", \"Yes\",\"Yes\"),\n",
    "             c(\"Industry-year fixed effects\", \"No\", \"No\", \"Yes\", \"Yes\", \"Yes\",\"Yes\"),\n",
    "             c(\"City-industry fixed effects\", \"No\", \"No\", \"Yes\", \"Yes\", \"Yes\",\"Yes\")\n",
    "             )\n",
    "\n",
    "table_1 <- go_latex(list(\n",
    "    t0,\n",
    "    t1,\n",
    "    t2,\n",
    "    t3,\n",
    "    t4,\n",
    "    t5\n",
    "),\n",
    "    title='Baseline results revision',\n",
    "    addFE=fe1,\n",
    "    save=TRUE,\n",
    "    name=\"table_3.txt\"\n",
    ")"
   ]
  },
  {
   "cell_type": "code",
   "execution_count": null,
   "metadata": {
    "Collapsed": "false",
    "kernel": "python3"
   },
   "outputs": [],
   "source": [
    "import latex_beautify as lb\n",
    "\n",
    "%load_ext autoreload\n",
    "%autoreload 2"
   ]
  },
  {
   "cell_type": "code",
   "execution_count": null,
   "metadata": {
    "Collapsed": "false",
    "kernel": "python3"
   },
   "outputs": [],
   "source": [
    "lb.beautify(table_number = 3)"
   ]
  },
  {
   "cell_type": "markdown",
   "metadata": {
    "Collapsed": "true",
    "kernel": "python3"
   },
   "source": [
    "## Foreign firms\n",
    "\n",
    " In particular, my main concern is that the author could explore the heterogeneity of response within the private sector and not only between the private and the state-owned sectors. Indeed, foreign firms may react differently to environmental constraints. They may be less sensitive to environmental regulations because they have cleaner technologies (see for instance: Dean et al., 2009, \"Are Foreign Investors Attracted to Weak Environmental Regulations? Evidence from China\", Journal of Development Economics). Another possibility is that foreign firms could negotiate with local authorities to obtain preferential treatment concerning the enforcement of environmental regulation (Wang et al., 2003, quoted in the paper)"
   ]
  },
  {
   "cell_type": "code",
   "execution_count": null,
   "metadata": {
    "Collapsed": "false",
    "kernel": "R"
   },
   "outputs": [],
   "source": [
    "options(warn=-1)\n",
    "library(tidyverse)\n",
    "library(lfe)\n",
    "library(lazyeval)\n",
    "library('progress')"
   ]
  },
  {
   "cell_type": "code",
   "execution_count": null,
   "metadata": {
    "Collapsed": "false",
    "kernel": "SoS"
   },
   "outputs": [],
   "source": [
    "%put df_final --to R\n",
    "\n",
    "from GoogleDrivePy.google_platform import connect_cloud_platform\n",
    "project = 'valid-pagoda-132423'\n",
    "gcp = connect_cloud_platform.connect_console(project = project, \n",
    "                                             service_account = service['GoogleCloudP'])    \n",
    "\n",
    "query = (\n",
    "    \"SELECT * FROM China.SBC_pollution_China_foreign \"\n",
    ")\n",
    "\n",
    "df_final = gcp.upload_data_from_bigquery(query=query, location=\"US\").rename(columns = {\n",
    "    'out_share_soe1':'out_share_SOE',\n",
    "    'cap_share_soe1':'cap_share_SOE',\n",
    "    'lab_share_soe1':'lab_share_SOE',\n",
    "})\n",
    "df_final.head()"
   ]
  },
  {
   "cell_type": "code",
   "execution_count": null,
   "metadata": {
    "Collapsed": "false",
    "kernel": "R"
   },
   "outputs": [],
   "source": [
    "path = \"SBC_pollution_R.R\"\n",
    "source(path)\n",
    "path = \"SBC_pollutiuon_golatex.R\"\n",
    "source(path)\n",
    "\n",
    "df_final <- df_final %>% \n",
    "    mutate_if(is.character, as.factor) %>%\n",
    "    mutate_at(vars(starts_with(\"FE\")), as.factor) %>%\n",
    "    mutate(\n",
    "         Period = relevel(Period, ref='Before'),\n",
    "         TCZ_c = relevel(TCZ_c, ref='No_TCZ'),\n",
    "         effort_c = relevel(effort_c, ref='Below'),\n",
    "         polluted_di = relevel(polluted_di, ref='Below'),\n",
    "         polluted_mi = relevel(polluted_mi, ref='Below'),\n",
    "         polluted_thre = relevel(polluted_thre, ref='Below'),\n",
    "  )\n",
    "head(df_final)"
   ]
  },
  {
   "cell_type": "code",
   "execution_count": null,
   "metadata": {
    "Collapsed": "false",
    "kernel": "R"
   },
   "outputs": [],
   "source": [
    "t1 <- felm(formula=log(tso2_cit) ~ TCZ_c * Period * polluted_thre * out_share_for\t\n",
    "                  + output_fcit + capital_fcit + labour_fcit\n",
    "                  |\n",
    "             FE_t_c + FE_t_i + FE_c_i  | 0 |\n",
    "             cityen, data= df_final,\n",
    "             exactDOF=TRUE)"
   ]
  },
  {
   "cell_type": "code",
   "execution_count": null,
   "metadata": {
    "Collapsed": "false",
    "kernel": "R"
   },
   "outputs": [],
   "source": [
    "t2 <- felm(formula=log(tso2_cit) ~ TCZ_c * Period * polluted_thre * cap_share_for\t\n",
    "                  + output_fcit + capital_fcit + labour_fcit\n",
    "                  |\n",
    "             FE_t_c + FE_t_i + FE_c_i  | 0 |\n",
    "             cityen, data= df_final,\n",
    "             exactDOF=TRUE)"
   ]
  },
  {
   "cell_type": "code",
   "execution_count": null,
   "metadata": {
    "Collapsed": "false",
    "kernel": "R"
   },
   "outputs": [],
   "source": [
    "t3 <-felm(formula=log(tso2_cit) ~ TCZ_c * Period * polluted_thre * lab_share_for\t\n",
    "                  + output_fcit + capital_fcit + labour_fcit\n",
    "                  |\n",
    "             FE_t_c + FE_t_i + FE_c_i  | 0 |\n",
    "             cityen, data= df_final,\n",
    "             exactDOF=TRUE)"
   ]
  },
  {
   "cell_type": "code",
   "execution_count": null,
   "metadata": {
    "Collapsed": "false",
    "kernel": "R"
   },
   "outputs": [],
   "source": [
    "fe1 <- list(c(\"City-year fixed effects\", \"Yes\", \"Yes\", \"Yes\", \"Yes\"),\n",
    "             c(\"Industry-year fixed effects\", \"Yes\", \"Yes\", \"Yes\", \"Yes\"),\n",
    "             c(\"City-industry fixed effects\", \"Yes\", \"Yes\", \"Yes\", \"Yes\")\n",
    "             )\n",
    "\n",
    "table_1 <- go_latex(list(\n",
    "    t1,\n",
    "    t2,\n",
    "    t3\n",
    "),\n",
    "    title='Revision results: Foreign',\n",
    "    addFE=fe1,\n",
    "    save=TRUE,\n",
    "    name=\"table_1.txt\"\n",
    ")"
   ]
  },
  {
   "cell_type": "code",
   "execution_count": null,
   "metadata": {
    "Collapsed": "false",
    "kernel": "python3"
   },
   "outputs": [],
   "source": [
    "import latex_beautify as lb\n",
    "\n",
    "%load_ext autoreload\n",
    "%autoreload 2"
   ]
  },
  {
   "cell_type": "code",
   "execution_count": null,
   "metadata": {
    "Collapsed": "false",
    "kernel": "python3"
   },
   "outputs": [],
   "source": [
    "lb.beautify(table_number = 1)"
   ]
  },
  {
   "cell_type": "code",
   "execution_count": null,
   "metadata": {
    "Collapsed": "false",
    "kernel": "R"
   },
   "outputs": [],
   "source": [
    "t1 <- felm(formula=log(tso2_cit) ~ TCZ_c * Period * polluted_thre * out_share_for\t\n",
    "             + TCZ_c * Period * polluted_thre * out_share_SOE\n",
    "                  + output_fcit + capital_fcit + labour_fcit\n",
    "                  |\n",
    "             FE_t_c + FE_t_i + FE_c_i  | 0 |\n",
    "             cityen, data= df_final,\n",
    "             exactDOF=TRUE)"
   ]
  },
  {
   "cell_type": "code",
   "execution_count": null,
   "metadata": {
    "Collapsed": "false",
    "kernel": "R"
   },
   "outputs": [],
   "source": [
    "t2 <- felm(formula=log(tso2_cit) ~ TCZ_c * Period * polluted_thre * cap_share_for\t\n",
    "             + TCZ_c * Period * polluted_thre * cap_share_SOE\n",
    "                  + output_fcit + capital_fcit + labour_fcit\n",
    "                  |\n",
    "             FE_t_c + FE_t_i + FE_c_i  | 0 |\n",
    "             cityen, data= df_final,\n",
    "             exactDOF=TRUE)"
   ]
  },
  {
   "cell_type": "code",
   "execution_count": null,
   "metadata": {
    "Collapsed": "false",
    "kernel": "R"
   },
   "outputs": [],
   "source": [
    "t3 <- felm(formula=log(tso2_cit) ~ TCZ_c * Period * polluted_thre * lab_share_for\t\n",
    "             + TCZ_c * Period * polluted_thre * lab_share_SOE\t\n",
    "                  + output_fcit + capital_fcit + labour_fcit\n",
    "                  |\n",
    "             FE_t_c + FE_t_i + FE_c_i  | 0 |\n",
    "             cityen, data= df_final,\n",
    "             exactDOF=TRUE)"
   ]
  },
  {
   "cell_type": "code",
   "execution_count": null,
   "metadata": {
    "Collapsed": "false",
    "kernel": "R"
   },
   "outputs": [],
   "source": [
    "fe1 <- list(c(\"City-year fixed effects\", \"Yes\", \"Yes\", \"Yes\", \"Yes\"),\n",
    "             c(\"Industry-year fixed effects\", \"Yes\", \"Yes\", \"Yes\", \"Yes\"),\n",
    "             c(\"City-industry fixed effects\", \"Yes\", \"Yes\", \"Yes\", \"Yes\")\n",
    "             )\n",
    "\n",
    "table_1 <- go_latex(list(\n",
    "    t1,\n",
    "    t2,\n",
    "    t3\n",
    "),\n",
    "    title='Revision results: Foreign - SOE',\n",
    "    addFE=fe1,\n",
    "    save=TRUE,\n",
    "    name=\"table_2.txt\"\n",
    ")"
   ]
  },
  {
   "cell_type": "code",
   "execution_count": null,
   "metadata": {
    "Collapsed": "false",
    "kernel": "python3"
   },
   "outputs": [],
   "source": [
    "lb.beautify(table_number = 2)"
   ]
  },
  {
   "cell_type": "code",
   "execution_count": null,
   "metadata": {
    "Collapsed": "false",
    "kernel": "R"
   },
   "outputs": [],
   "source": [
    "t1 <- felm(formula=log(tso2_cit) ~ TCZ_c * Period * polluted_thre * out_share_for\t\n",
    "             + TCZ_c * Period * polluted_thre * out_share_SOE\n",
    "                  + output_fcit + capital_fcit + labour_fcit\n",
    "                  |\n",
    "              cityen +  year + industry  | 0 |\n",
    "             cityen, data= df_final,\n",
    "             exactDOF=TRUE)\n",
    "\n",
    "t2 <- felm(formula=log(tso2_cit) ~ TCZ_c * Period * polluted_thre * cap_share_for\t\n",
    "             + TCZ_c * Period * polluted_thre * cap_share_SOE\n",
    "                  + output_fcit + capital_fcit + labour_fcit\n",
    "                  |\n",
    "              cityen +  year + industry | 0 |\n",
    "             cityen, data= df_final,\n",
    "             exactDOF=TRUE)\n",
    "\n",
    "t3 <- felm(formula=log(tso2_cit) ~ TCZ_c * Period * polluted_thre * lab_share_for\t\n",
    "             + TCZ_c * Period * polluted_thre * lab_share_SOE\t\n",
    "                  + output_fcit + capital_fcit + labour_fcit\n",
    "                  |\n",
    "              cityen +  year + industry  | 0 |\n",
    "             cityen, data= df_final,\n",
    "             exactDOF=TRUE)\n",
    "\n",
    "fe1 <- list(c(\"City fixed effects\", \"Yes\", \"Yes\", \"Yes\"),\n",
    "             c(\"Industry fixed effects\", \"Yes\", \"Yes\", \"Yes\"),\n",
    "             c(\"Yes fixed effects\",\"Yes\", \"Yes\", \"Yes\")\n",
    "           )\n",
    "\n",
    "table_1 <- go_latex(list(\n",
    "    t1,\n",
    "    t2,\n",
    "    t3\n",
    "),\n",
    "    title='Revision results: Foreign - SOE',\n",
    "    addFE=fe1,\n",
    "    save=TRUE,\n",
    "    name=\"table_2.txt\"\n",
    ")"
   ]
  },
  {
   "cell_type": "code",
   "execution_count": null,
   "metadata": {
    "Collapsed": "false",
    "kernel": "python3"
   },
   "outputs": [],
   "source": [
    "lb.beautify(table_number = 2)"
   ]
  },
  {
   "cell_type": "markdown",
   "metadata": {
    "Collapsed": "false",
    "kernel": "python3"
   },
   "source": [
    "## Herfinhdla"
   ]
  },
  {
   "cell_type": "code",
   "execution_count": null,
   "metadata": {
    "Collapsed": "false",
    "kernel": "SoS"
   },
   "outputs": [],
   "source": [
    "\n",
    "df_test = df_final.merge(df_herfhindal,\n",
    "              on = ['geocode4_corr', 'industry'],\n",
    "               how = 'left'\n",
    "              )\n",
    "df_test['Herfindahl'] = df_test['Herfindahl'].fillna(0)\n"
   ]
  },
  {
   "cell_type": "code",
   "execution_count": null,
   "metadata": {
    "Collapsed": "false",
    "kernel": "SoS"
   },
   "outputs": [],
   "source": [
    "df_test['Herfindahl'].describe()"
   ]
  },
  {
   "cell_type": "code",
   "execution_count": null,
   "metadata": {
    "Collapsed": "false",
    "kernel": "SoS"
   },
   "outputs": [],
   "source": [
    "import seaborn as sns\n",
    "import matplotlib.pyplot as plt\n",
    "sns.distplot(df_test['Herfindahl'])"
   ]
  },
  {
   "cell_type": "code",
   "execution_count": null,
   "metadata": {
    "Collapsed": "false",
    "kernel": "SoS"
   },
   "outputs": [],
   "source": [
    "df_test['Herfindahl'].quantile([.1, .5,.70, .75,.80, .85, .95])"
   ]
  },
  {
   "cell_type": "code",
   "execution_count": null,
   "metadata": {
    "Collapsed": "false",
    "kernel": "SoS"
   },
   "outputs": [],
   "source": [
    "%put df_test --to R\n",
    "import numpy as np\n",
    "df_test = df_test.assign(\n",
    "concentrated_25 = lambda x: np.where(x['Herfindahl'] > 0.280070,\n",
    "                                 \"CONCENTRATED\",\n",
    "                                 'NOT_CONCENTRATED'),\n",
    "concentrated_50 = lambda x: np.where(x['Herfindahl'] > 0.503871,\n",
    "                                 \"CONCENTRATED\",\n",
    "                                 'NOT_CONCENTRATED'),\n",
    "concentrated_75 = lambda x: np.where(x['Herfindahl'] > 0.775389,\n",
    "                                 \"CONCENTRATED\",\n",
    "                                 'NOT_CONCENTRATED'),\n",
    "concentrated_85 = lambda x: np.where(x['Herfindahl'] > .910054,\n",
    "                                 \"CONCENTRATED\",\n",
    "                                 'NOT_CONCENTRATED'),\n",
    ")"
   ]
  },
  {
   "cell_type": "code",
   "execution_count": null,
   "metadata": {
    "Collapsed": "false",
    "kernel": "SoS"
   },
   "outputs": [],
   "source": [
    "df_test.groupby('concentrated_75')['concentrated_75'].count()"
   ]
  },
  {
   "cell_type": "code",
   "execution_count": null,
   "metadata": {
    "Collapsed": "false",
    "kernel": "SoS"
   },
   "outputs": [],
   "source": [
    "df_test.groupby('concentrated_85')['concentrated_85'].count()"
   ]
  },
  {
   "cell_type": "code",
   "execution_count": null,
   "metadata": {
    "Collapsed": "false",
    "kernel": "R"
   },
   "outputs": [],
   "source": [
    "path = \"SBC_pollution_R.R\"\n",
    "source(path)\n",
    "path = \"SBC_pollutiuon_golatex.R\"\n",
    "source(path)\n",
    "\n",
    "df_final <- df_test %>% \n",
    "    mutate_if(is.character, as.factor) %>%\n",
    "    mutate_at(vars(starts_with(\"FE\")), as.factor) %>%\n",
    "    mutate(\n",
    "         Period = relevel(Period, ref='Before'),\n",
    "         TCZ_c = relevel(TCZ_c, ref='No_TCZ'),\n",
    "         effort_c = relevel(effort_c, ref='Below'),\n",
    "         polluted_di = relevel(polluted_di, ref='Below'),\n",
    "         polluted_mi = relevel(polluted_mi, ref='Below'),\n",
    "         polluted_thre = relevel(polluted_thre, ref='Below'),\n",
    "         concentrated_25 = relevel(concentrated_25, ref='NOT_CONCENTRATED'),\n",
    "        concentrated_50 = relevel(concentrated_50, ref='NOT_CONCENTRATED'),\n",
    "        concentrated_75 = relevel(concentrated_75, ref='NOT_CONCENTRATED'),\n",
    "        concentrated_85 = relevel(concentrated_85, ref='NOT_CONCENTRATED'),\n",
    "  )\n",
    "head(df_final)"
   ]
  },
  {
   "cell_type": "code",
   "execution_count": null,
   "metadata": {
    "Collapsed": "false",
    "kernel": "R"
   },
   "outputs": [],
   "source": []
  },
  {
   "cell_type": "code",
   "execution_count": null,
   "metadata": {
    "Collapsed": "false",
    "kernel": "R"
   },
   "outputs": [],
   "source": [
    "t1 <- felm(formula=log(tso2_cit) ~ TCZ_c * Period *polluted_thre * concentrated_25\n",
    "                  + output_fcit + capital_fcit + labour_fcit\n",
    "                  |\n",
    "             FE_t_c + FE_t_i + FE_c_i | 0 |\n",
    "             cityen, data= df_final,\n",
    "             exactDOF=TRUE)\n",
    "\n",
    "t2 <- felm(formula=log(tso2_cit) ~ TCZ_c * Period *polluted_thre * concentrated_50\n",
    "                  + output_fcit + capital_fcit + labour_fcit\n",
    "                  |\n",
    "             FE_t_c + FE_t_i + FE_c_i | 0 |\n",
    "             cityen, data= df_final,\n",
    "             exactDOF=TRUE)\n",
    "\n",
    "t3 <- felm(formula=log(tso2_cit) ~ TCZ_c * Period *polluted_thre * concentrated_75\n",
    "                  + output_fcit + capital_fcit + labour_fcit\n",
    "                  |\n",
    "               FE_t_c + FE_t_i + FE_c_i | 0 |\n",
    "             cityen, data= df_final,\n",
    "             exactDOF=TRUE)\n",
    "\n",
    "t4 <- felm(formula=log(tso2_cit) ~ TCZ_c * Period *polluted_thre * concentrated_85\n",
    "                  + output_fcit + capital_fcit + labour_fcit\n",
    "                  |\n",
    "               FE_t_c + FE_t_i + FE_c_i | 0 |\n",
    "             cityen, data= df_final,\n",
    "             exactDOF=TRUE)\n",
    "\n",
    "fe1 <- list(\n",
    "             c(\"City-year fixed effects\", \"Yes\", \"Yes\", \"Yes\", \"Yes\"),\n",
    "             c(\"Industry-year fixed effects\", \"Yes\", \"Yes\", \"Yes\", \"Yes\"),\n",
    "             c(\"City-industry fixed effects\", \"Yes\", \"Yes\", \"Yes\", \"Yes\")\n",
    "             )\n",
    "\n",
    "table_1 <- go_latex(list(\n",
    "    t1, t2, t3,t4\n",
    "),\n",
    "    title='Baseline results revision',\n",
    "    addFE=fe1,\n",
    "    save=TRUE,\n",
    "    name=\"table_6.txt\"\n",
    ")"
   ]
  },
  {
   "cell_type": "code",
   "execution_count": null,
   "metadata": {
    "Collapsed": "false",
    "kernel": "python3"
   },
   "outputs": [],
   "source": [
    "lb.beautify(table_number = 6)"
   ]
  },
  {
   "cell_type": "code",
   "execution_count": null,
   "metadata": {
    "Collapsed": "false",
    "kernel": "R"
   },
   "outputs": [],
   "source": [
    "t1 <- felm(formula=log(tso2_cit) ~ TCZ_c * Period *polluted_thre * concentrated_25\n",
    "                  + output_fcit + capital_fcit + labour_fcit\n",
    "                  |\n",
    "             FE_t_c + FE_t_i + FE_c_i | 0 |\n",
    "             cityen, data= df_final,\n",
    "             exactDOF=TRUE)\n",
    "\n",
    "t2 <- felm(formula=log(tso2_cit) ~ TCZ_c * Period *polluted_thre * concentrated_50\n",
    "                  + output_fcit + capital_fcit + labour_fcit\n",
    "                  |\n",
    "             FE_t_c + FE_t_i + FE_c_i | 0 |\n",
    "             cityen, data= df_final,\n",
    "             exactDOF=TRUE)\n",
    "\n",
    "t3 <- felm(formula=log(tso2_cit) ~ TCZ_c * Period *polluted_thre * concentrated_75\n",
    "                  + output_fcit + capital_fcit + labour_fcit\n",
    "                  |\n",
    "             FE_t_c + FE_t_i + FE_c_i | 0 |\n",
    "             cityen, data= df_final,\n",
    "             exactDOF=TRUE)\n",
    "\n",
    "fe1 <- list(\n",
    "             c(\"City-year fixed effects\", \"Yes\", \"Yes\", \"Yes\"),\n",
    "             c(\"Industry-year fixed effects\", \"Yes\", \"Yes\", \"Yes\"),\n",
    "             c(\"City-industry fixed effects\", \"Yes\", \"Yes\", \"Yes\")\n",
    "             )\n",
    "\n",
    "table_1 <- go_latex(list(\n",
    "    t1, t2, t3\n",
    "),\n",
    "    title='Baseline results revision',\n",
    "    addFE=fe1,\n",
    "    save=TRUE,\n",
    "    name=\"table_3.txt\"\n",
    ")"
   ]
  },
  {
   "cell_type": "code",
   "execution_count": null,
   "metadata": {
    "Collapsed": "false",
    "kernel": "python3"
   },
   "outputs": [],
   "source": [
    "lb.beautify(table_number = 3)"
   ]
  },
  {
   "cell_type": "code",
   "execution_count": null,
   "metadata": {
    "Collapsed": "false",
    "kernel": "R"
   },
   "outputs": [],
   "source": [
    "t1 <- felm(formula=log(tso2_cit) ~ TCZ_c * Period *polluted_thre * out_share_SOE\n",
    "                  + output_fcit + capital_fcit + labour_fcit\n",
    "                  |\n",
    "             FE_t_c + FE_t_i + FE_c_i| 0 |\n",
    "             cityen, data= df_final %>% filter(concentrated == 'CONCENTRATED'),\n",
    "             exactDOF=TRUE)\n",
    "summary(t1)"
   ]
  }
 ],
 "metadata": {
  "jupytext": {
   "formats": "ipynb,md"
  },
  "kernelspec": {
   "display_name": "SoS",
   "language": "sos",
   "name": "sos"
  },
  "language_info": {
   "codemirror_mode": "sos",
   "file_extension": ".sos",
   "mimetype": "text/x-sos",
   "name": "sos",
   "nbconvert_exporter": "sos_notebook.converter.SoS_Exporter",
   "pygments_lexer": "sos"
  },
  "sos": {
   "kernels": [
    [
     "R",
     "ir",
     "R",
     "#DCDCDA",
     "r"
    ],
    [
     "SoS",
     "sos",
     "",
     "",
     "sos"
    ],
    [
     "python3",
     "python3",
     "python3",
     "",
     {
      "name": "ipython",
      "version": 3
     }
    ]
   ],
   "version": "0.20.6"
  }
 },
 "nbformat": 4,
 "nbformat_minor": 4
}
