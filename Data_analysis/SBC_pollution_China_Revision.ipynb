{
 "cells": [
  {
   "cell_type": "markdown",
   "metadata": {
    "Collapsed": "false",
    "kernel": "SoS"
   },
   "source": [
    "# SBC_pollution_China Revision Paper\n",
    "\n",
    "Here is the link with all the revisions:\n",
    "\n",
    "- https://coda.io/d/SoftBudgetConstraint_dD-uOwatzMS/Revision_suYyi#_luGfQ\n",
    "\n",
    "## Revision table \n",
    "\n",
    "| Comments_by | URL      | People          | Comments                                                                                                                                                                                                                                                 |\n",
    "|-------------|----------|-----------------|----------------------------------------------------------------------------------------------------------------------------------------------------------------------------------------------------------------------------------------------------------|\n",
    "| Author 1    | Revision | Thomas,Mathilde | Je réfléchis à ce que nous pourrions faire ici, c'est en effet un point intéressant.                                                                                                                                                                     |\n",
    "| Author 1    | Revision | Thomas          | Pouvez vous me rassurer sur ce point? Tos les termes d'interaction sont ils dans l'équation? Je me souviens que nous en avions parlé en effet. J'espère qu'il n'y a pas d'erreurs et que nous pouvons justifier. C'est discutable. Mais on peut essayer. |\n",
    "| Author 1    | Revision | Mathilde        | Je ré-écrirai.                                                                                                                                                                                                                                           |\n",
    "| Author 1    | Revision |                 | Avons nous ces informations? Si non peut on les trouver?                                                                                                                                                                                                 |\n",
    "| Author 1    | Revision |                 | TCZ et Target sont indépendants n'est ce pas?                                                                                                                                                                                                            |\n",
    "| Author 1    | Revision |                 |                                                                                                                                                                                                                                                          |\n",
    "| Author 1    | Revision |                 | Il faut reformuler ici.                                                                                                                                                                                                                                  |\n",
    "| Author 2    | Revision | Thomas          | Avons nous des entreprises étrangères dans l'échantillon?                                                                                                                                                                                                |\n",
    "| Author 2    | Revision | Thomas          | Oui je suppose, pouvez vous regarder?                                                                                                                                                                                                                    |\n",
    "| Author 2    | Revision | Thomas          | Pouvez vous faire ce test?                                                                                                                                                                                                                               |\n",
    "| Author 2    | Revision | Thomas          | Pouvez vous corriger ce point?                                                                                                                                                                                                                           |\n",
    "| Author 2    | Revision | Mathilde        | Très bon commentaire, je m'en occupe.                                                                                                                                                                                                                    |\n",
    "\n",
    "## Proposal \n",
    "\n",
    "The proposal is available [here](https://drive.google.com/open?id=1tmSFvdUMXcL3vMKBSNYmf5xe6OEmYNnD)\n",
    "\n",
    "### Equation to estimate\n",
    "\n",
    "$$\n",
    "\\begin{aligned} \\text { SO2 emission }_{i k t}=& \\alpha T C Z_{i} \\times \\text { Polluted sectors }_{k} \\times \\text { post } \\\\ &+\\beta T C Z_{i} \\times \\text { Polluted sectors }_{k} \\times \\text { post } \\times \\text { Share Foreign }_{k} \\\\ & +\\theta {X}_{i k t}+\\nu_{c i}+\\lambda_{t i} +\\phi_{t c} +\\epsilon_{ikt} \\end{aligned}\n",
    "$$\n",
    "\n",
    "city-industry; time-industry and time-city"
   ]
  },
  {
   "cell_type": "markdown",
   "metadata": {
    "Collapsed": "true",
    "kernel": "SoS"
   },
   "source": [
    "# Revision\n",
    "\n",
    "## Load the data\n",
    "\n"
   ]
  },
  {
   "cell_type": "code",
   "execution_count": 1,
   "metadata": {
    "Collapsed": "false",
    "kernel": "SoS"
   },
   "outputs": [
    {
     "name": "stdout",
     "output_type": "stream",
     "text": [
      "Service account storage and Bigquery are now connected. \n",
      "Service account storage is stored as <google.cloud.storage.client.Client object at 0x1174b1fd0> and accessible with \"Storage_account\" \n",
      "Service account Bigquery is stored as <google.cloud.bigquery.client.Client object at 0x11c2ed290> and accessible with \"bigquery_account\"\n"
     ]
    }
   ],
   "source": [
    "import pandas as pd\n",
    "from Fast_connectCloud import connector\n",
    "\n",
    "gs = connector.open_connection(online_connection = False,\n",
    "                              path_credential = '/Users/thomas/Google Drive/Projects/Data_science/Google_code_n_Oauth/Client_Oauth/Google_auth/')\n",
    "\n",
    "service = gs.connect_remote('GCP')"
   ]
  },
  {
   "cell_type": "markdown",
   "metadata": {
    "Collapsed": "true",
    "kernel": "SoS"
   },
   "source": [
    "## Load SBC_pollution_China from Google Big Query\n",
    "\n",
    "Feel free to add description about the dataset or any usefull information."
   ]
  },
  {
   "cell_type": "code",
   "execution_count": 2,
   "metadata": {
    "Collapsed": "false",
    "kernel": "SoS"
   },
   "outputs": [],
   "source": [
    "%put df_final --to R\n",
    "\n",
    "from GoogleDrivePy.google_platform import connect_cloud_platform\n",
    "project = 'valid-pagoda-132423'\n",
    "gcp = connect_cloud_platform.connect_console(project = project, \n",
    "                                             service_account = service['GoogleCloudP'])    \n",
    "query = (\n",
    "          \"SELECT * \"\n",
    "            \"FROM China.SBC_pollution_China \"\n",
    "\n",
    "        )\n",
    "\n",
    "df_final = gcp.upload_data_from_bigquery(query = query, location = 'US')"
   ]
  },
  {
   "cell_type": "markdown",
   "metadata": {
    "Collapsed": "true",
    "kernel": "SoS"
   },
   "source": [
    "## Load Herfindahl_China_cic_city from Google Big Query\n",
    "\n",
    "Feel free to add description about the dataset or any usefull information."
   ]
  },
  {
   "cell_type": "code",
   "execution_count": 3,
   "metadata": {
    "Collapsed": "false",
    "kernel": "SoS"
   },
   "outputs": [],
   "source": [
    "query_herfindhal = (\n",
    "          \"SELECT * \"\n",
    "            \"FROM China.Herfindahl_China_cic_city \"\n",
    "\n",
    "        )\n",
    "df_herfhindal = gcp.upload_data_from_bigquery(query = query_herfindhal,\n",
    "                                         location = 'US').rename(columns = {'cic':'industry',\n",
    "                                'cityen_correct':'cityen'})"
   ]
  },
  {
   "cell_type": "code",
   "execution_count": 4,
   "metadata": {
    "Collapsed": "false",
    "kernel": "R"
   },
   "outputs": [
    {
     "name": "stderr",
     "output_type": "stream",
     "text": [
      "── \u001b[1mAttaching packages\u001b[22m ─────────────────────────────────────── tidyverse 1.2.1 ──\n",
      "\u001b[32m✔\u001b[39m \u001b[34mggplot2\u001b[39m 3.0.0     \u001b[32m✔\u001b[39m \u001b[34mpurrr  \u001b[39m 0.3.3\n",
      "\u001b[32m✔\u001b[39m \u001b[34mtibble \u001b[39m 2.1.3     \u001b[32m✔\u001b[39m \u001b[34mdplyr  \u001b[39m 0.8.3\n",
      "\u001b[32m✔\u001b[39m \u001b[34mtidyr  \u001b[39m 1.0.0     \u001b[32m✔\u001b[39m \u001b[34mstringr\u001b[39m 1.4.0\n",
      "\u001b[32m✔\u001b[39m \u001b[34mreadr  \u001b[39m 1.3.1     \u001b[32m✔\u001b[39m \u001b[34mforcats\u001b[39m 0.4.0\n",
      "── \u001b[1mConflicts\u001b[22m ────────────────────────────────────────── tidyverse_conflicts() ──\n",
      "\u001b[31m✖\u001b[39m \u001b[34mdplyr\u001b[39m::\u001b[32mfilter()\u001b[39m masks \u001b[34mstats\u001b[39m::filter()\n",
      "\u001b[31m✖\u001b[39m \u001b[34mdplyr\u001b[39m::\u001b[32mlag()\u001b[39m    masks \u001b[34mstats\u001b[39m::lag()\n",
      "Loading required package: Matrix\n",
      "\n",
      "Attaching package: ‘Matrix’\n",
      "\n",
      "The following objects are masked from ‘package:tidyr’:\n",
      "\n",
      "    expand, pack, unpack\n",
      "\n",
      "\n",
      "Attaching package: ‘lazyeval’\n",
      "\n",
      "The following objects are masked from ‘package:purrr’:\n",
      "\n",
      "    is_atomic, is_formula\n",
      "\n"
     ]
    }
   ],
   "source": [
    "options(warn=-1)\n",
    "library(tidyverse)\n",
    "library(lfe)\n",
    "library(lazyeval)\n",
    "library('progress')"
   ]
  },
  {
   "cell_type": "code",
   "execution_count": 5,
   "metadata": {
    "Collapsed": "false",
    "kernel": "R"
   },
   "outputs": [
    {
     "name": "stderr",
     "output_type": "stream",
     "text": [
      "\n",
      "Please cite as: \n",
      "\n",
      " Hlavac, Marek (2018). stargazer: Well-Formatted Regression and Summary Statistics Tables.\n",
      " R package version 5.2.2. https://CRAN.R-project.org/package=stargazer \n",
      "\n"
     ]
    },
    {
     "data": {
      "text/html": [
       "<table>\n",
       "<caption>A data.frame: 6 × 30</caption>\n",
       "<thead>\n",
       "\t<tr><th scope=col>year</th><th scope=col>Period</th><th scope=col>Province_en</th><th scope=col>Lower_location</th><th scope=col>Larger_location</th><th scope=col>Coastal</th><th scope=col>cityen</th><th scope=col>geocode4_corr</th><th scope=col>TCZ_c</th><th scope=col>target_c</th><th scope=col>⋯</th><th scope=col>tso2_cit</th><th scope=col>tso2_i</th><th scope=col>tCOD_cit</th><th scope=col>twaste_water_cit</th><th scope=col>polluted_di</th><th scope=col>polluted_mi</th><th scope=col>polluted_thre</th><th scope=col>FE_c_i</th><th scope=col>FE_t_i</th><th scope=col>FE_t_c</th></tr>\n",
       "\t<tr><th scope=col>&lt;dbl&gt;</th><th scope=col>&lt;fct&gt;</th><th scope=col>&lt;fct&gt;</th><th scope=col>&lt;fct&gt;</th><th scope=col>&lt;fct&gt;</th><th scope=col>&lt;lgl&gt;</th><th scope=col>&lt;fct&gt;</th><th scope=col>&lt;dbl&gt;</th><th scope=col>&lt;fct&gt;</th><th scope=col>&lt;dbl&gt;</th><th scope=col>⋯</th><th scope=col>&lt;dbl&gt;</th><th scope=col>&lt;dbl&gt;</th><th scope=col>&lt;dbl&gt;</th><th scope=col>&lt;dbl&gt;</th><th scope=col>&lt;fct&gt;</th><th scope=col>&lt;fct&gt;</th><th scope=col>&lt;fct&gt;</th><th scope=col>&lt;fct&gt;</th><th scope=col>&lt;fct&gt;</th><th scope=col>&lt;fct&gt;</th></tr>\n",
       "</thead>\n",
       "<tbody>\n",
       "\t<tr><td>2002</td><td>Before</td><td>Shanxi   </td><td>Central  </td><td>Central</td><td>FALSE</td><td>Yuncheng</td><td>1408</td><td>TCZ   </td><td>0.48502998</td><td>⋯</td><td>24500</td><td>168934.5</td><td>    0</td><td>   500</td><td>Above</td><td>Below</td><td>Above</td><td>11104</td><td>1573</td><td>889</td></tr>\n",
       "\t<tr><td>2006</td><td>After </td><td>Hunan    </td><td>Central  </td><td>Central</td><td>FALSE</td><td>Xiangtan</td><td>4303</td><td>TCZ   </td><td>0.09275420</td><td>⋯</td><td> 2304</td><td>168934.5</td><td>    0</td><td>   300</td><td>Above</td><td>Below</td><td>Above</td><td>11105</td><td>1574</td><td>420</td></tr>\n",
       "\t<tr><td>2007</td><td>After </td><td>Hunan    </td><td>Central  </td><td>Central</td><td>FALSE</td><td>Xiangtan</td><td>4303</td><td>TCZ   </td><td>0.09275420</td><td>⋯</td><td> 2304</td><td>168934.5</td><td>    0</td><td>   240</td><td>Above</td><td>Below</td><td>Above</td><td>11105</td><td>1572</td><td>421</td></tr>\n",
       "\t<tr><td>2007</td><td>After </td><td>Liaoning </td><td>Northeast</td><td>Eastern</td><td> TRUE</td><td>Jinzhou </td><td>2107</td><td>TCZ   </td><td>0.08051164</td><td>⋯</td><td> 3200</td><td>168934.5</td><td>    0</td><td>     0</td><td>Above</td><td>Below</td><td>Above</td><td>11103</td><td>1572</td><td>287</td></tr>\n",
       "\t<tr><td>2002</td><td>Before</td><td>Liaoning </td><td>Northeast</td><td>Eastern</td><td> TRUE</td><td>Shenyang</td><td>2101</td><td>TCZ   </td><td>0.23007570</td><td>⋯</td><td> 3840</td><td>168934.5</td><td>    0</td><td>  3500</td><td>Above</td><td>Below</td><td>Above</td><td>11106</td><td>1573</td><td>432</td></tr>\n",
       "\t<tr><td>2002</td><td>Before</td><td>Guangdong</td><td>Coastal  </td><td>Eastern</td><td> TRUE</td><td>Meizhou </td><td>4414</td><td>No_TCZ</td><td>0.02596999</td><td>⋯</td><td>72752</td><td>168934.5</td><td>15500</td><td>115000</td><td>Above</td><td>Below</td><td>Above</td><td>11107</td><td>1573</td><td>909</td></tr>\n",
       "</tbody>\n",
       "</table>\n"
      ],
      "text/latex": [
       "A data.frame: 6 × 30\n",
       "\\begin{tabular}{r|llllllllllllllllllllllllllllll}\n",
       " year & Period & Province\\_en & Lower\\_location & Larger\\_location & Coastal & cityen & geocode4\\_corr & TCZ\\_c & target\\_c & effort\\_c & industry & ind2 & Short & output\\_fcit & capital\\_fcit & labour\\_fcit & out\\_share\\_SOE & cap\\_share\\_SOE & lab\\_share\\_SOE & tso2\\_cit & tso2\\_i & tCOD\\_cit & twaste\\_water\\_cit & polluted\\_di & polluted\\_mi & polluted\\_thre & FE\\_c\\_i & FE\\_t\\_i & FE\\_t\\_c\\\\\n",
       " <dbl> & <fct> & <fct> & <fct> & <fct> & <lgl> & <fct> & <dbl> & <fct> & <dbl> & <fct> & <dbl> & <dbl> & <fct> & <dbl> & <dbl> & <dbl> & <dbl> & <dbl> & <dbl> & <dbl> & <dbl> & <dbl> & <dbl> & <fct> & <fct> & <fct> & <fct> & <fct> & <fct>\\\\\n",
       "\\hline\n",
       "\t 2002 & Before & Shanxi    & Central   & Central & FALSE & Yuncheng & 1408 & TCZ    & 0.48502998 & Above & 3329 & 33 & Smelting Non-ferrous Metals & 0.0006870 & 0.0002926 & 0.00036 & 0.02756701 & 0.2210178 & 0.1134672 & 24500 & 168934.5 &     0 &    500 & Above & Below & Above & 11104 & 1573 & 889\\\\\n",
       "\t 2006 & After  & Hunan     & Central   & Central & FALSE & Xiangtan & 4303 & TCZ    & 0.09275420 & Below & 3329 & 33 & Smelting Non-ferrous Metals & 0.0009500 & 0.0001481 & 0.00023 & 0.02756701 & 0.2210178 & 0.1134672 &  2304 & 168934.5 &     0 &    300 & Above & Below & Above & 11105 & 1574 & 420\\\\\n",
       "\t 2007 & After  & Hunan     & Central   & Central & FALSE & Xiangtan & 4303 & TCZ    & 0.09275420 & Below & 3329 & 33 & Smelting Non-ferrous Metals & 0.0017150 & 0.0003650 & 0.00023 & 0.02756701 & 0.2210178 & 0.1134672 &  2304 & 168934.5 &     0 &    240 & Above & Below & Above & 11105 & 1572 & 421\\\\\n",
       "\t 2007 & After  & Liaoning  & Northeast & Eastern &  TRUE & Jinzhou  & 2107 & TCZ    & 0.08051164 & Below & 3329 & 33 & Smelting Non-ferrous Metals & 0.0077300 & 0.0012959 & 0.00089 & 0.02756701 & 0.2210178 & 0.1134672 &  3200 & 168934.5 &     0 &      0 & Above & Below & Above & 11103 & 1572 & 287\\\\\n",
       "\t 2002 & Before & Liaoning  & Northeast & Eastern &  TRUE & Shenyang & 2101 & TCZ    & 0.23007570 & Above & 3329 & 33 & Smelting Non-ferrous Metals & 0.0009967 & 0.0000516 & 0.00135 & 0.02756701 & 0.2210178 & 0.1134672 &  3840 & 168934.5 &     0 &   3500 & Above & Below & Above & 11106 & 1573 & 432\\\\\n",
       "\t 2002 & Before & Guangdong & Coastal   & Eastern &  TRUE & Meizhou  & 4414 & No\\_TCZ & 0.02596999 & Below & 3329 & 33 & Smelting Non-ferrous Metals & 0.0002903 & 0.0013790 & 0.00125 & 0.02756701 & 0.2210178 & 0.1134672 & 72752 & 168934.5 & 15500 & 115000 & Above & Below & Above & 11107 & 1573 & 909\\\\\n",
       "\\end{tabular}\n"
      ],
      "text/markdown": [
       "\n",
       "A data.frame: 6 × 30\n",
       "\n",
       "| year &lt;dbl&gt; | Period &lt;fct&gt; | Province_en &lt;fct&gt; | Lower_location &lt;fct&gt; | Larger_location &lt;fct&gt; | Coastal &lt;lgl&gt; | cityen &lt;fct&gt; | geocode4_corr &lt;dbl&gt; | TCZ_c &lt;fct&gt; | target_c &lt;dbl&gt; | ⋯ ⋯ | tso2_cit &lt;dbl&gt; | tso2_i &lt;dbl&gt; | tCOD_cit &lt;dbl&gt; | twaste_water_cit &lt;dbl&gt; | polluted_di &lt;fct&gt; | polluted_mi &lt;fct&gt; | polluted_thre &lt;fct&gt; | FE_c_i &lt;fct&gt; | FE_t_i &lt;fct&gt; | FE_t_c &lt;fct&gt; |\n",
       "|---|---|---|---|---|---|---|---|---|---|---|---|---|---|---|---|---|---|---|---|---|\n",
       "| 2002 | Before | Shanxi    | Central   | Central | FALSE | Yuncheng | 1408 | TCZ    | 0.48502998 | ⋯ | 24500 | 168934.5 |     0 |    500 | Above | Below | Above | 11104 | 1573 | 889 |\n",
       "| 2006 | After  | Hunan     | Central   | Central | FALSE | Xiangtan | 4303 | TCZ    | 0.09275420 | ⋯ |  2304 | 168934.5 |     0 |    300 | Above | Below | Above | 11105 | 1574 | 420 |\n",
       "| 2007 | After  | Hunan     | Central   | Central | FALSE | Xiangtan | 4303 | TCZ    | 0.09275420 | ⋯ |  2304 | 168934.5 |     0 |    240 | Above | Below | Above | 11105 | 1572 | 421 |\n",
       "| 2007 | After  | Liaoning  | Northeast | Eastern |  TRUE | Jinzhou  | 2107 | TCZ    | 0.08051164 | ⋯ |  3200 | 168934.5 |     0 |      0 | Above | Below | Above | 11103 | 1572 | 287 |\n",
       "| 2002 | Before | Liaoning  | Northeast | Eastern |  TRUE | Shenyang | 2101 | TCZ    | 0.23007570 | ⋯ |  3840 | 168934.5 |     0 |   3500 | Above | Below | Above | 11106 | 1573 | 432 |\n",
       "| 2002 | Before | Guangdong | Coastal   | Eastern |  TRUE | Meizhou  | 4414 | No_TCZ | 0.02596999 | ⋯ | 72752 | 168934.5 | 15500 | 115000 | Above | Below | Above | 11107 | 1573 | 909 |\n",
       "\n"
      ],
      "text/plain": [
       "  year Period Province_en Lower_location Larger_location Coastal cityen  \n",
       "1 2002 Before Shanxi      Central        Central         FALSE   Yuncheng\n",
       "2 2006 After  Hunan       Central        Central         FALSE   Xiangtan\n",
       "3 2007 After  Hunan       Central        Central         FALSE   Xiangtan\n",
       "4 2007 After  Liaoning    Northeast      Eastern          TRUE   Jinzhou \n",
       "5 2002 Before Liaoning    Northeast      Eastern          TRUE   Shenyang\n",
       "6 2002 Before Guangdong   Coastal        Eastern          TRUE   Meizhou \n",
       "  geocode4_corr TCZ_c  target_c   ⋯ tso2_cit tso2_i   tCOD_cit twaste_water_cit\n",
       "1 1408          TCZ    0.48502998 ⋯ 24500    168934.5     0       500          \n",
       "2 4303          TCZ    0.09275420 ⋯  2304    168934.5     0       300          \n",
       "3 4303          TCZ    0.09275420 ⋯  2304    168934.5     0       240          \n",
       "4 2107          TCZ    0.08051164 ⋯  3200    168934.5     0         0          \n",
       "5 2101          TCZ    0.23007570 ⋯  3840    168934.5     0      3500          \n",
       "6 4414          No_TCZ 0.02596999 ⋯ 72752    168934.5 15500    115000          \n",
       "  polluted_di polluted_mi polluted_thre FE_c_i FE_t_i FE_t_c\n",
       "1 Above       Below       Above         11104  1573   889   \n",
       "2 Above       Below       Above         11105  1574   420   \n",
       "3 Above       Below       Above         11105  1572   421   \n",
       "4 Above       Below       Above         11103  1572   287   \n",
       "5 Above       Below       Above         11106  1573   432   \n",
       "6 Above       Below       Above         11107  1573   909   "
      ]
     },
     "metadata": {},
     "output_type": "display_data"
    }
   ],
   "source": [
    "path = \"functions/SBC_pollution_R.R\"\n",
    "source(path)\n",
    "path = \"functions/SBC_pollutiuon_golatex.R\"\n",
    "source(path)\n",
    "\n",
    "df_final <- df_final %>% \n",
    "    mutate_if(is.character, as.factor) %>%\n",
    "    mutate_at(vars(starts_with(\"FE\")), as.factor) %>%\n",
    "    mutate(\n",
    "         Period = relevel(Period, ref='Before'),\n",
    "         TCZ_c = relevel(TCZ_c, ref='No_TCZ'),\n",
    "         effort_c = relevel(effort_c, ref='Below'),\n",
    "         polluted_di = relevel(polluted_di, ref='Below'),\n",
    "         polluted_mi = relevel(polluted_mi, ref='Below'),\n",
    "         polluted_thre = relevel(polluted_thre, ref='Below'),\n",
    "  )\n",
    "head(df_final)"
   ]
  },
  {
   "cell_type": "markdown",
   "metadata": {
    "Collapsed": "false",
    "kernel": "SoS"
   },
   "source": [
    "# Comment Empirical analysis:\n",
    "\n",
    "First of all, notice again that there is no convincing evidence that SOEs shifts the burden of the environmental adaptation to private firms. In most of the cases, there are interaction terms with three or even form variables in the regression equation. My major concern is if the authors have also included all the sublevel interaction terms in the regression. For instance, in equation (1), there is an interaction term of four variables, TCZi, Polluting sectorsk, Period, Share SOEk. However, it seems in table 3 not all the corresponding triple interaction terms (such as $TCZi *Polluting sectorsk *Share SOEk$) are controlled. \n",
    "\n",
    "## Answers:\n",
    "\n",
    "Compute the following equation to show the fixed effect tackle the \"missing\" coefficients\n",
    "\n",
    "$$EQUATION$$\n",
    "\n",
    "~CF this [paper](https://drive.google.com/file/d/1-SXSlRoS_2ZW7CK6XMhcXpJDPxAEF1xG/view)~ -> no need anymore\n"
   ]
  },
  {
   "cell_type": "code",
   "execution_count": 6,
   "metadata": {
    "Collapsed": "false",
    "kernel": "python3"
   },
   "outputs": [],
   "source": [
    "import functions.latex_beautify as lb\n",
    "\n",
    "%load_ext autoreload\n",
    "%autoreload 2"
   ]
  },
  {
   "cell_type": "markdown",
   "metadata": {
    "Collapsed": "true",
    "kernel": "python3"
   },
   "source": [
    "## 01: All variables: Our new baseline\n",
    "\n",
    "Output latex table available here\n",
    "\n",
    "- https://www.overleaf.com/project/5deca0097e9f3a0001506527\n",
    "    - 01_baseline_revision\n",
    "\n",
    "In Google Drive:\n",
    "\n",
    "![](https://drive.google.com/uc?export=view&id=14x1fwM2cYZBSwyt2XQmb5t3VzCExUtRH)"
   ]
  },
  {
   "cell_type": "markdown",
   "metadata": {
    "Collapsed": "true",
    "kernel": "python3"
   },
   "source": [
    "### Codes"
   ]
  },
  {
   "cell_type": "code",
   "execution_count": 7,
   "metadata": {
    "Collapsed": "false",
    "kernel": "R"
   },
   "outputs": [],
   "source": [
    "t0 <- felm(formula=log(tso2_cit) ~ TCZ_c * Period *polluted_thre * out_share_SOE\n",
    "                  + output_fcit + capital_fcit + labour_fcit\n",
    "                  |\n",
    "             cityen +  year + industry | 0 |\n",
    "             industry, data= df_final,\n",
    "             exactDOF=TRUE)\n",
    "\n",
    "t1 <- felm(formula=log(tso2_cit) ~ TCZ_c * Period *polluted_thre * cap_share_SOE\n",
    "                  + output_fcit + capital_fcit + labour_fcit\n",
    "                  |\n",
    "             cityen +  year + industry | 0 |\n",
    "             industry, data= df_final,\n",
    "             exactDOF=TRUE)\n",
    "\n",
    "t2 <- felm(formula=log(tso2_cit) ~ TCZ_c * Period *polluted_thre * lab_share_SOE\n",
    "                  + output_fcit + capital_fcit + labour_fcit\n",
    "                  |\n",
    "             cityen +  year + industry | 0 |\n",
    "             industry, data= df_final,\n",
    "             exactDOF=TRUE)\n",
    "\n",
    "t3 <- felm(formula=log(tso2_cit) ~ TCZ_c * Period *polluted_thre * out_share_SOE\n",
    "                  + output_fcit + capital_fcit + labour_fcit\n",
    "                  |\n",
    "             FE_t_c + FE_t_i + FE_c_i | 0 |\n",
    "             industry, data= df_final,\n",
    "             exactDOF=TRUE)\n",
    "\n",
    "t4 <- felm(formula=log(tso2_cit) ~ TCZ_c * Period *polluted_thre * cap_share_SOE\n",
    "                  + output_fcit + capital_fcit + labour_fcit\n",
    "                  |\n",
    "             FE_t_c + FE_t_i + FE_c_i | 0 |\n",
    "             industry, data= df_final,\n",
    "             exactDOF=TRUE)\n",
    "\n",
    "t5 <- felm(formula=log(tso2_cit) ~ TCZ_c * Period *polluted_thre * lab_share_SOE\n",
    "                  + output_fcit + capital_fcit + labour_fcit\n",
    "                  |\n",
    "             FE_t_c + FE_t_i + FE_c_i | 0 |\n",
    "             industry, data= df_final,\n",
    "             exactDOF=TRUE)\n",
    "\n",
    "fe1 <- list(c(\"City fixed effects\", \"Yes\", \"Yes\", \"Yes\", \"No\", \"No\", \"No\"),\n",
    "             c(\"Industry fixed effects\", \"Yes\", \"Yes\", \"Yes\", \"No\", \"No\", \"No\"),\n",
    "             c(\"Yes fixed effects\",\"Yes\", \"Yes\", \"Yes\", \"No\", \"No\", \"No\"),\n",
    "             c(\"City-year fixed effects\", \"No\", \"No\", \"No\",\"Yes\", \"Yes\",\"Yes\"),\n",
    "             c(\"Industry-year fixed effects\", \"No\", \"No\", \"No\", \"Yes\", \"Yes\",\"Yes\"),\n",
    "             c(\"City-industry fixed effects\", \"No\", \"No\", \"No\", \"Yes\", \"Yes\",\"Yes\")\n",
    "             )\n",
    "\n",
    "table_1 <- go_latex(list(\n",
    "    t0,\n",
    "    t1,\n",
    "    t2,\n",
    "    t3,\n",
    "    t4,\n",
    "    t5\n",
    "),\n",
    "    title='Baseline results revision',\n",
    "    addFE=fe1,\n",
    "    save=TRUE,\n",
    "    name=\"table_1.txt\"\n",
    ")"
   ]
  },
  {
   "cell_type": "code",
   "execution_count": 8,
   "metadata": {
    "Collapsed": "false",
    "kernel": "python3"
   },
   "outputs": [],
   "source": [
    "import os\n",
    "try:\n",
    "    os.remove(\"table_1.tex\")\n",
    "except:\n",
    "    pass\n",
    "lb.beautify(table_number = 1, constraint = False)"
   ]
  },
  {
   "cell_type": "markdown",
   "metadata": {
    "Collapsed": "false",
    "kernel": "python3"
   },
   "source": [
    "## Foreign firms\n",
    "\n",
    " In particular, my main concern is that the author could explore the heterogeneity of response within the private sector and not only between the private and the state-owned sectors. Indeed, foreign firms may react differently to environmental constraints. They may be less sensitive to environmental regulations because they have cleaner technologies (see for instance: Dean et al., 2009, \"Are Foreign Investors Attracted to Weak Environmental Regulations? Evidence from China\", Journal of Development Economics). Another possibility is that foreign firms could negotiate with local authorities to obtain preferential treatment concerning the enforcement of environmental regulation (Wang et al., 2003, quoted in the paper)"
   ]
  },
  {
   "cell_type": "code",
   "execution_count": 9,
   "metadata": {
    "Collapsed": "false",
    "kernel": "R"
   },
   "outputs": [],
   "source": [
    "options(warn=-1)\n",
    "library(tidyverse)\n",
    "library(lfe)\n",
    "library(lazyeval)\n",
    "library('progress')"
   ]
  },
  {
   "cell_type": "code",
   "execution_count": 10,
   "metadata": {
    "Collapsed": "false",
    "kernel": "SoS"
   },
   "outputs": [
    {
     "data": {
      "text/html": [
       "<div>\n",
       "<style scoped>\n",
       "    .dataframe tbody tr th:only-of-type {\n",
       "        vertical-align: middle;\n",
       "    }\n",
       "\n",
       "    .dataframe tbody tr th {\n",
       "        vertical-align: top;\n",
       "    }\n",
       "\n",
       "    .dataframe thead th {\n",
       "        text-align: right;\n",
       "    }\n",
       "</style>\n",
       "<table border=\"1\" class=\"dataframe\">\n",
       "  <thead>\n",
       "    <tr style=\"text-align: right;\">\n",
       "      <th></th>\n",
       "      <th>year</th>\n",
       "      <th>Period</th>\n",
       "      <th>Province_en</th>\n",
       "      <th>Lower_location</th>\n",
       "      <th>Larger_location</th>\n",
       "      <th>Coastal</th>\n",
       "      <th>cityen</th>\n",
       "      <th>geocode4_corr</th>\n",
       "      <th>TCZ_c</th>\n",
       "      <th>target_c</th>\n",
       "      <th>effort_c</th>\n",
       "      <th>industry</th>\n",
       "      <th>ind2</th>\n",
       "      <th>Short</th>\n",
       "      <th>output_fcit</th>\n",
       "      <th>capital_fcit</th>\n",
       "      <th>labour_fcit</th>\n",
       "      <th>out_share_for</th>\n",
       "      <th>out_share_SOE</th>\n",
       "      <th>cap_share_for</th>\n",
       "      <th>cap_share_SOE</th>\n",
       "      <th>lab_share_for</th>\n",
       "      <th>lab_share_SOE</th>\n",
       "      <th>tso2_cit</th>\n",
       "      <th>tso2_i</th>\n",
       "      <th>tCOD_cit</th>\n",
       "      <th>twaste_water_cit</th>\n",
       "      <th>polluted_di</th>\n",
       "      <th>polluted_mi</th>\n",
       "      <th>polluted_thre</th>\n",
       "      <th>FE_c_i</th>\n",
       "      <th>FE_t_i</th>\n",
       "      <th>FE_t_c</th>\n",
       "    </tr>\n",
       "  </thead>\n",
       "  <tbody>\n",
       "    <tr>\n",
       "      <th>0</th>\n",
       "      <td>2002</td>\n",
       "      <td>Before</td>\n",
       "      <td>Shanxi</td>\n",
       "      <td>Central</td>\n",
       "      <td>Central</td>\n",
       "      <td>False</td>\n",
       "      <td>Yuncheng</td>\n",
       "      <td>1408</td>\n",
       "      <td>TCZ</td>\n",
       "      <td>0.485030</td>\n",
       "      <td>Above</td>\n",
       "      <td>3329</td>\n",
       "      <td>33</td>\n",
       "      <td>Smelting Non-ferrous Metals</td>\n",
       "      <td>0.000687</td>\n",
       "      <td>0.000293</td>\n",
       "      <td>0.00036</td>\n",
       "      <td>0.126481</td>\n",
       "      <td>0.027567</td>\n",
       "      <td>0.162676</td>\n",
       "      <td>0.221018</td>\n",
       "      <td>0.184131</td>\n",
       "      <td>0.113467</td>\n",
       "      <td>24500</td>\n",
       "      <td>168934.454545</td>\n",
       "      <td>0.0</td>\n",
       "      <td>500</td>\n",
       "      <td>Above</td>\n",
       "      <td>Below</td>\n",
       "      <td>Above</td>\n",
       "      <td>11104</td>\n",
       "      <td>1573</td>\n",
       "      <td>889</td>\n",
       "    </tr>\n",
       "    <tr>\n",
       "      <th>1</th>\n",
       "      <td>2006</td>\n",
       "      <td>After</td>\n",
       "      <td>Hunan</td>\n",
       "      <td>Central</td>\n",
       "      <td>Central</td>\n",
       "      <td>False</td>\n",
       "      <td>Xiangtan</td>\n",
       "      <td>4303</td>\n",
       "      <td>TCZ</td>\n",
       "      <td>0.092754</td>\n",
       "      <td>Below</td>\n",
       "      <td>3329</td>\n",
       "      <td>33</td>\n",
       "      <td>Smelting Non-ferrous Metals</td>\n",
       "      <td>0.000950</td>\n",
       "      <td>0.000148</td>\n",
       "      <td>0.00023</td>\n",
       "      <td>0.126481</td>\n",
       "      <td>0.027567</td>\n",
       "      <td>0.162676</td>\n",
       "      <td>0.221018</td>\n",
       "      <td>0.184131</td>\n",
       "      <td>0.113467</td>\n",
       "      <td>2304</td>\n",
       "      <td>168934.454545</td>\n",
       "      <td>0.0</td>\n",
       "      <td>300</td>\n",
       "      <td>Above</td>\n",
       "      <td>Below</td>\n",
       "      <td>Above</td>\n",
       "      <td>11105</td>\n",
       "      <td>1574</td>\n",
       "      <td>420</td>\n",
       "    </tr>\n",
       "    <tr>\n",
       "      <th>2</th>\n",
       "      <td>2007</td>\n",
       "      <td>After</td>\n",
       "      <td>Hunan</td>\n",
       "      <td>Central</td>\n",
       "      <td>Central</td>\n",
       "      <td>False</td>\n",
       "      <td>Xiangtan</td>\n",
       "      <td>4303</td>\n",
       "      <td>TCZ</td>\n",
       "      <td>0.092754</td>\n",
       "      <td>Below</td>\n",
       "      <td>3329</td>\n",
       "      <td>33</td>\n",
       "      <td>Smelting Non-ferrous Metals</td>\n",
       "      <td>0.001715</td>\n",
       "      <td>0.000365</td>\n",
       "      <td>0.00023</td>\n",
       "      <td>0.126481</td>\n",
       "      <td>0.027567</td>\n",
       "      <td>0.162676</td>\n",
       "      <td>0.221018</td>\n",
       "      <td>0.184131</td>\n",
       "      <td>0.113467</td>\n",
       "      <td>2304</td>\n",
       "      <td>168934.454545</td>\n",
       "      <td>0.0</td>\n",
       "      <td>240</td>\n",
       "      <td>Above</td>\n",
       "      <td>Below</td>\n",
       "      <td>Above</td>\n",
       "      <td>11105</td>\n",
       "      <td>1572</td>\n",
       "      <td>421</td>\n",
       "    </tr>\n",
       "    <tr>\n",
       "      <th>3</th>\n",
       "      <td>2007</td>\n",
       "      <td>After</td>\n",
       "      <td>Liaoning</td>\n",
       "      <td>Northeast</td>\n",
       "      <td>Eastern</td>\n",
       "      <td>True</td>\n",
       "      <td>Jinzhou</td>\n",
       "      <td>2107</td>\n",
       "      <td>TCZ</td>\n",
       "      <td>0.080512</td>\n",
       "      <td>Below</td>\n",
       "      <td>3329</td>\n",
       "      <td>33</td>\n",
       "      <td>Smelting Non-ferrous Metals</td>\n",
       "      <td>0.007730</td>\n",
       "      <td>0.001296</td>\n",
       "      <td>0.00089</td>\n",
       "      <td>0.126481</td>\n",
       "      <td>0.027567</td>\n",
       "      <td>0.162676</td>\n",
       "      <td>0.221018</td>\n",
       "      <td>0.184131</td>\n",
       "      <td>0.113467</td>\n",
       "      <td>3200</td>\n",
       "      <td>168934.454545</td>\n",
       "      <td>0.0</td>\n",
       "      <td>0</td>\n",
       "      <td>Above</td>\n",
       "      <td>Below</td>\n",
       "      <td>Above</td>\n",
       "      <td>11103</td>\n",
       "      <td>1572</td>\n",
       "      <td>287</td>\n",
       "    </tr>\n",
       "    <tr>\n",
       "      <th>4</th>\n",
       "      <td>2002</td>\n",
       "      <td>Before</td>\n",
       "      <td>Liaoning</td>\n",
       "      <td>Northeast</td>\n",
       "      <td>Eastern</td>\n",
       "      <td>True</td>\n",
       "      <td>Shenyang</td>\n",
       "      <td>2101</td>\n",
       "      <td>TCZ</td>\n",
       "      <td>0.230076</td>\n",
       "      <td>Above</td>\n",
       "      <td>3329</td>\n",
       "      <td>33</td>\n",
       "      <td>Smelting Non-ferrous Metals</td>\n",
       "      <td>0.000997</td>\n",
       "      <td>0.000052</td>\n",
       "      <td>0.00135</td>\n",
       "      <td>0.126481</td>\n",
       "      <td>0.027567</td>\n",
       "      <td>0.162676</td>\n",
       "      <td>0.221018</td>\n",
       "      <td>0.184131</td>\n",
       "      <td>0.113467</td>\n",
       "      <td>3840</td>\n",
       "      <td>168934.454545</td>\n",
       "      <td>0.0</td>\n",
       "      <td>3500</td>\n",
       "      <td>Above</td>\n",
       "      <td>Below</td>\n",
       "      <td>Above</td>\n",
       "      <td>11106</td>\n",
       "      <td>1573</td>\n",
       "      <td>432</td>\n",
       "    </tr>\n",
       "  </tbody>\n",
       "</table>\n",
       "</div>"
      ],
      "text/plain": [
       "   year  Period Province_en  ... FE_c_i FE_t_i  FE_t_c\n",
       "0  2002  Before      Shanxi  ...  11104   1573     889\n",
       "1  2006   After       Hunan  ...  11105   1574     420\n",
       "2  2007   After       Hunan  ...  11105   1572     421\n",
       "3  2007   After    Liaoning  ...  11103   1572     287\n",
       "4  2002  Before    Liaoning  ...  11106   1573     432\n",
       "\n",
       "[5 rows x 33 columns]"
      ]
     },
     "execution_count": 10,
     "metadata": {},
     "output_type": "execute_result"
    }
   ],
   "source": [
    "%put df_final --to R\n",
    "\n",
    "from GoogleDrivePy.google_platform import connect_cloud_platform\n",
    "project = 'valid-pagoda-132423'\n",
    "gcp = connect_cloud_platform.connect_console(project = project, \n",
    "                                             service_account = service['GoogleCloudP'])    \n",
    "\n",
    "query = (\n",
    "    \"SELECT * FROM China.SBC_pollution_China_foreign \"\n",
    ")\n",
    "\n",
    "df_final = gcp.upload_data_from_bigquery(query=query, location=\"US\").rename(columns = {\n",
    "    'out_share_soe1':'out_share_SOE',\n",
    "    'cap_share_soe1':'cap_share_SOE',\n",
    "    'lab_share_soe1':'lab_share_SOE',\n",
    "})\n",
    "df_final.head()"
   ]
  },
  {
   "cell_type": "code",
   "execution_count": 11,
   "metadata": {
    "Collapsed": "false",
    "kernel": "R"
   },
   "outputs": [
    {
     "data": {
      "text/html": [
       "<table>\n",
       "<caption>A data.frame: 6 × 33</caption>\n",
       "<thead>\n",
       "\t<tr><th scope=col>year</th><th scope=col>Period</th><th scope=col>Province_en</th><th scope=col>Lower_location</th><th scope=col>Larger_location</th><th scope=col>Coastal</th><th scope=col>cityen</th><th scope=col>geocode4_corr</th><th scope=col>TCZ_c</th><th scope=col>target_c</th><th scope=col>⋯</th><th scope=col>tso2_cit</th><th scope=col>tso2_i</th><th scope=col>tCOD_cit</th><th scope=col>twaste_water_cit</th><th scope=col>polluted_di</th><th scope=col>polluted_mi</th><th scope=col>polluted_thre</th><th scope=col>FE_c_i</th><th scope=col>FE_t_i</th><th scope=col>FE_t_c</th></tr>\n",
       "\t<tr><th scope=col>&lt;dbl&gt;</th><th scope=col>&lt;fct&gt;</th><th scope=col>&lt;fct&gt;</th><th scope=col>&lt;fct&gt;</th><th scope=col>&lt;fct&gt;</th><th scope=col>&lt;lgl&gt;</th><th scope=col>&lt;fct&gt;</th><th scope=col>&lt;dbl&gt;</th><th scope=col>&lt;fct&gt;</th><th scope=col>&lt;dbl&gt;</th><th scope=col>⋯</th><th scope=col>&lt;dbl&gt;</th><th scope=col>&lt;dbl&gt;</th><th scope=col>&lt;dbl&gt;</th><th scope=col>&lt;dbl&gt;</th><th scope=col>&lt;fct&gt;</th><th scope=col>&lt;fct&gt;</th><th scope=col>&lt;fct&gt;</th><th scope=col>&lt;fct&gt;</th><th scope=col>&lt;fct&gt;</th><th scope=col>&lt;fct&gt;</th></tr>\n",
       "</thead>\n",
       "<tbody>\n",
       "\t<tr><td>2002</td><td>Before</td><td>Shanxi   </td><td>Central  </td><td>Central</td><td>FALSE</td><td>Yuncheng</td><td>1408</td><td>TCZ   </td><td>0.48502998</td><td>⋯</td><td>24500</td><td>168934.5</td><td>    0</td><td>   500</td><td>Above</td><td>Below</td><td>Above</td><td>11104</td><td>1573</td><td>889</td></tr>\n",
       "\t<tr><td>2006</td><td>After </td><td>Hunan    </td><td>Central  </td><td>Central</td><td>FALSE</td><td>Xiangtan</td><td>4303</td><td>TCZ   </td><td>0.09275420</td><td>⋯</td><td> 2304</td><td>168934.5</td><td>    0</td><td>   300</td><td>Above</td><td>Below</td><td>Above</td><td>11105</td><td>1574</td><td>420</td></tr>\n",
       "\t<tr><td>2007</td><td>After </td><td>Hunan    </td><td>Central  </td><td>Central</td><td>FALSE</td><td>Xiangtan</td><td>4303</td><td>TCZ   </td><td>0.09275420</td><td>⋯</td><td> 2304</td><td>168934.5</td><td>    0</td><td>   240</td><td>Above</td><td>Below</td><td>Above</td><td>11105</td><td>1572</td><td>421</td></tr>\n",
       "\t<tr><td>2007</td><td>After </td><td>Liaoning </td><td>Northeast</td><td>Eastern</td><td> TRUE</td><td>Jinzhou </td><td>2107</td><td>TCZ   </td><td>0.08051164</td><td>⋯</td><td> 3200</td><td>168934.5</td><td>    0</td><td>     0</td><td>Above</td><td>Below</td><td>Above</td><td>11103</td><td>1572</td><td>287</td></tr>\n",
       "\t<tr><td>2002</td><td>Before</td><td>Liaoning </td><td>Northeast</td><td>Eastern</td><td> TRUE</td><td>Shenyang</td><td>2101</td><td>TCZ   </td><td>0.23007570</td><td>⋯</td><td> 3840</td><td>168934.5</td><td>    0</td><td>  3500</td><td>Above</td><td>Below</td><td>Above</td><td>11106</td><td>1573</td><td>432</td></tr>\n",
       "\t<tr><td>2002</td><td>Before</td><td>Guangdong</td><td>Coastal  </td><td>Eastern</td><td> TRUE</td><td>Meizhou </td><td>4414</td><td>No_TCZ</td><td>0.02596999</td><td>⋯</td><td>72752</td><td>168934.5</td><td>15500</td><td>115000</td><td>Above</td><td>Below</td><td>Above</td><td>11107</td><td>1573</td><td>909</td></tr>\n",
       "</tbody>\n",
       "</table>\n"
      ],
      "text/latex": [
       "A data.frame: 6 × 33\n",
       "\\begin{tabular}{r|lllllllllllllllllllllllllllllllll}\n",
       " year & Period & Province\\_en & Lower\\_location & Larger\\_location & Coastal & cityen & geocode4\\_corr & TCZ\\_c & target\\_c & effort\\_c & industry & ind2 & Short & output\\_fcit & capital\\_fcit & labour\\_fcit & out\\_share\\_for & out\\_share\\_SOE & cap\\_share\\_for & cap\\_share\\_SOE & lab\\_share\\_for & lab\\_share\\_SOE & tso2\\_cit & tso2\\_i & tCOD\\_cit & twaste\\_water\\_cit & polluted\\_di & polluted\\_mi & polluted\\_thre & FE\\_c\\_i & FE\\_t\\_i & FE\\_t\\_c\\\\\n",
       " <dbl> & <fct> & <fct> & <fct> & <fct> & <lgl> & <fct> & <dbl> & <fct> & <dbl> & <fct> & <dbl> & <dbl> & <fct> & <dbl> & <dbl> & <dbl> & <dbl> & <dbl> & <dbl> & <dbl> & <dbl> & <dbl> & <dbl> & <dbl> & <dbl> & <dbl> & <fct> & <fct> & <fct> & <fct> & <fct> & <fct>\\\\\n",
       "\\hline\n",
       "\t 2002 & Before & Shanxi    & Central   & Central & FALSE & Yuncheng & 1408 & TCZ    & 0.48502998 & Above & 3329 & 33 & Smelting Non-ferrous Metals & 0.0006870 & 0.0002926 & 0.00036 & 0.1264807 & 0.02756701 & 0.1626764 & 0.2210178 & 0.1841305 & 0.1134672 & 24500 & 168934.5 &     0 &    500 & Above & Below & Above & 11104 & 1573 & 889\\\\\n",
       "\t 2006 & After  & Hunan     & Central   & Central & FALSE & Xiangtan & 4303 & TCZ    & 0.09275420 & Below & 3329 & 33 & Smelting Non-ferrous Metals & 0.0009500 & 0.0001481 & 0.00023 & 0.1264807 & 0.02756701 & 0.1626764 & 0.2210178 & 0.1841305 & 0.1134672 &  2304 & 168934.5 &     0 &    300 & Above & Below & Above & 11105 & 1574 & 420\\\\\n",
       "\t 2007 & After  & Hunan     & Central   & Central & FALSE & Xiangtan & 4303 & TCZ    & 0.09275420 & Below & 3329 & 33 & Smelting Non-ferrous Metals & 0.0017150 & 0.0003650 & 0.00023 & 0.1264807 & 0.02756701 & 0.1626764 & 0.2210178 & 0.1841305 & 0.1134672 &  2304 & 168934.5 &     0 &    240 & Above & Below & Above & 11105 & 1572 & 421\\\\\n",
       "\t 2007 & After  & Liaoning  & Northeast & Eastern &  TRUE & Jinzhou  & 2107 & TCZ    & 0.08051164 & Below & 3329 & 33 & Smelting Non-ferrous Metals & 0.0077300 & 0.0012959 & 0.00089 & 0.1264807 & 0.02756701 & 0.1626764 & 0.2210178 & 0.1841305 & 0.1134672 &  3200 & 168934.5 &     0 &      0 & Above & Below & Above & 11103 & 1572 & 287\\\\\n",
       "\t 2002 & Before & Liaoning  & Northeast & Eastern &  TRUE & Shenyang & 2101 & TCZ    & 0.23007570 & Above & 3329 & 33 & Smelting Non-ferrous Metals & 0.0009967 & 0.0000516 & 0.00135 & 0.1264807 & 0.02756701 & 0.1626764 & 0.2210178 & 0.1841305 & 0.1134672 &  3840 & 168934.5 &     0 &   3500 & Above & Below & Above & 11106 & 1573 & 432\\\\\n",
       "\t 2002 & Before & Guangdong & Coastal   & Eastern &  TRUE & Meizhou  & 4414 & No\\_TCZ & 0.02596999 & Below & 3329 & 33 & Smelting Non-ferrous Metals & 0.0002903 & 0.0013790 & 0.00125 & 0.1264807 & 0.02756701 & 0.1626764 & 0.2210178 & 0.1841305 & 0.1134672 & 72752 & 168934.5 & 15500 & 115000 & Above & Below & Above & 11107 & 1573 & 909\\\\\n",
       "\\end{tabular}\n"
      ],
      "text/markdown": [
       "\n",
       "A data.frame: 6 × 33\n",
       "\n",
       "| year &lt;dbl&gt; | Period &lt;fct&gt; | Province_en &lt;fct&gt; | Lower_location &lt;fct&gt; | Larger_location &lt;fct&gt; | Coastal &lt;lgl&gt; | cityen &lt;fct&gt; | geocode4_corr &lt;dbl&gt; | TCZ_c &lt;fct&gt; | target_c &lt;dbl&gt; | ⋯ ⋯ | tso2_cit &lt;dbl&gt; | tso2_i &lt;dbl&gt; | tCOD_cit &lt;dbl&gt; | twaste_water_cit &lt;dbl&gt; | polluted_di &lt;fct&gt; | polluted_mi &lt;fct&gt; | polluted_thre &lt;fct&gt; | FE_c_i &lt;fct&gt; | FE_t_i &lt;fct&gt; | FE_t_c &lt;fct&gt; |\n",
       "|---|---|---|---|---|---|---|---|---|---|---|---|---|---|---|---|---|---|---|---|---|\n",
       "| 2002 | Before | Shanxi    | Central   | Central | FALSE | Yuncheng | 1408 | TCZ    | 0.48502998 | ⋯ | 24500 | 168934.5 |     0 |    500 | Above | Below | Above | 11104 | 1573 | 889 |\n",
       "| 2006 | After  | Hunan     | Central   | Central | FALSE | Xiangtan | 4303 | TCZ    | 0.09275420 | ⋯ |  2304 | 168934.5 |     0 |    300 | Above | Below | Above | 11105 | 1574 | 420 |\n",
       "| 2007 | After  | Hunan     | Central   | Central | FALSE | Xiangtan | 4303 | TCZ    | 0.09275420 | ⋯ |  2304 | 168934.5 |     0 |    240 | Above | Below | Above | 11105 | 1572 | 421 |\n",
       "| 2007 | After  | Liaoning  | Northeast | Eastern |  TRUE | Jinzhou  | 2107 | TCZ    | 0.08051164 | ⋯ |  3200 | 168934.5 |     0 |      0 | Above | Below | Above | 11103 | 1572 | 287 |\n",
       "| 2002 | Before | Liaoning  | Northeast | Eastern |  TRUE | Shenyang | 2101 | TCZ    | 0.23007570 | ⋯ |  3840 | 168934.5 |     0 |   3500 | Above | Below | Above | 11106 | 1573 | 432 |\n",
       "| 2002 | Before | Guangdong | Coastal   | Eastern |  TRUE | Meizhou  | 4414 | No_TCZ | 0.02596999 | ⋯ | 72752 | 168934.5 | 15500 | 115000 | Above | Below | Above | 11107 | 1573 | 909 |\n",
       "\n"
      ],
      "text/plain": [
       "  year Period Province_en Lower_location Larger_location Coastal cityen  \n",
       "1 2002 Before Shanxi      Central        Central         FALSE   Yuncheng\n",
       "2 2006 After  Hunan       Central        Central         FALSE   Xiangtan\n",
       "3 2007 After  Hunan       Central        Central         FALSE   Xiangtan\n",
       "4 2007 After  Liaoning    Northeast      Eastern          TRUE   Jinzhou \n",
       "5 2002 Before Liaoning    Northeast      Eastern          TRUE   Shenyang\n",
       "6 2002 Before Guangdong   Coastal        Eastern          TRUE   Meizhou \n",
       "  geocode4_corr TCZ_c  target_c   ⋯ tso2_cit tso2_i   tCOD_cit twaste_water_cit\n",
       "1 1408          TCZ    0.48502998 ⋯ 24500    168934.5     0       500          \n",
       "2 4303          TCZ    0.09275420 ⋯  2304    168934.5     0       300          \n",
       "3 4303          TCZ    0.09275420 ⋯  2304    168934.5     0       240          \n",
       "4 2107          TCZ    0.08051164 ⋯  3200    168934.5     0         0          \n",
       "5 2101          TCZ    0.23007570 ⋯  3840    168934.5     0      3500          \n",
       "6 4414          No_TCZ 0.02596999 ⋯ 72752    168934.5 15500    115000          \n",
       "  polluted_di polluted_mi polluted_thre FE_c_i FE_t_i FE_t_c\n",
       "1 Above       Below       Above         11104  1573   889   \n",
       "2 Above       Below       Above         11105  1574   420   \n",
       "3 Above       Below       Above         11105  1572   421   \n",
       "4 Above       Below       Above         11103  1572   287   \n",
       "5 Above       Below       Above         11106  1573   432   \n",
       "6 Above       Below       Above         11107  1573   909   "
      ]
     },
     "metadata": {},
     "output_type": "display_data"
    }
   ],
   "source": [
    "path = \"functions/SBC_pollution_R.R\"\n",
    "source(path)\n",
    "path = \"functions/SBC_pollutiuon_golatex.R\"\n",
    "source(path)\n",
    "\n",
    "df_final <- df_final %>% \n",
    "    mutate_if(is.character, as.factor) %>%\n",
    "    mutate_at(vars(starts_with(\"FE\")), as.factor) %>%\n",
    "    mutate(\n",
    "         Period = relevel(Period, ref='Before'),\n",
    "         TCZ_c = relevel(TCZ_c, ref='No_TCZ'),\n",
    "         effort_c = relevel(effort_c, ref='Below'),\n",
    "         polluted_di = relevel(polluted_di, ref='Below'),\n",
    "         polluted_mi = relevel(polluted_mi, ref='Below'),\n",
    "         polluted_thre = relevel(polluted_thre, ref='Below'),\n",
    "  )\n",
    "head(df_final)"
   ]
  },
  {
   "cell_type": "markdown",
   "metadata": {
    "Collapsed": "false",
    "kernel": "R"
   },
   "source": [
    "## 02 Foreign-SOE\n",
    "\n",
    "In this table, foreign and SOE share\n",
    "\n",
    "Output latex table available here\n",
    "\n",
    "- https://www.overleaf.com/project/5deca0097e9f3a0001506527\n",
    "    - 02_foreign_SOE\n",
    "\n",
    "In Google Drive:\n",
    "\n",
    "![](https://drive.google.com/uc?export=view&id=1KttrgK0dzsnh4-9bInpyvtKgTOyXewPo)"
   ]
  },
  {
   "cell_type": "markdown",
   "metadata": {
    "Collapsed": "false",
    "kernel": "R"
   },
   "source": [
    "### Code"
   ]
  },
  {
   "cell_type": "code",
   "execution_count": 12,
   "metadata": {
    "Collapsed": "false",
    "kernel": "python3"
   },
   "outputs": [
    {
     "name": "stdout",
     "output_type": "stream",
     "text": [
      "The autoreload extension is already loaded. To reload it, use:\n",
      "  %reload_ext autoreload\n"
     ]
    }
   ],
   "source": [
    "import functions.latex_beautify as lb\n",
    "\n",
    "%load_ext autoreload\n",
    "%autoreload 2"
   ]
  },
  {
   "cell_type": "code",
   "execution_count": 13,
   "metadata": {
    "Collapsed": "false",
    "kernel": "R"
   },
   "outputs": [],
   "source": [
    "t1 <- felm(formula=log(tso2_cit) ~ TCZ_c * Period * polluted_thre * out_share_for\t\n",
    "             + TCZ_c * Period * polluted_thre * out_share_SOE\n",
    "                  + output_fcit + capital_fcit + labour_fcit\n",
    "                  |\n",
    "             cityen +  year + industry   | 0 |\n",
    "             industry, data= df_final,\n",
    "             exactDOF=TRUE)\n",
    "t2 <- felm(formula=log(tso2_cit) ~ TCZ_c * Period * polluted_thre * cap_share_for\t\n",
    "             + TCZ_c * Period * polluted_thre * cap_share_SOE\n",
    "                  + output_fcit + capital_fcit + labour_fcit\n",
    "                  |\n",
    "            cityen +  year + industry   | 0 |\n",
    "             industry, data= df_final,\n",
    "             exactDOF=TRUE)\n",
    "t3 <- felm(formula=log(tso2_cit) ~ TCZ_c * Period * polluted_thre * lab_share_for\t\n",
    "             + TCZ_c * Period * polluted_thre * lab_share_SOE\t\n",
    "                  + output_fcit + capital_fcit + labour_fcit\n",
    "                  |\n",
    "             cityen +  year + industry   | 0 |\n",
    "             industry, data= df_final,\n",
    "             exactDOF=TRUE)\n",
    "t4 <- felm(formula=log(tso2_cit) ~ TCZ_c * Period * polluted_thre * out_share_for\t\n",
    "             + TCZ_c * Period * polluted_thre * out_share_SOE\n",
    "                  + output_fcit + capital_fcit + labour_fcit\n",
    "                  |\n",
    "             FE_t_c + FE_t_i + FE_c_i  | 0 |\n",
    "             industry, data= df_final,\n",
    "             exactDOF=TRUE)\n",
    "t5 <- felm(formula=log(tso2_cit) ~ TCZ_c * Period * polluted_thre * cap_share_for\t\n",
    "             + TCZ_c * Period * polluted_thre * cap_share_SOE\n",
    "                  + output_fcit + capital_fcit + labour_fcit\n",
    "                  |\n",
    "             FE_t_c + FE_t_i + FE_c_i  | 0 |\n",
    "             industry, data= df_final,\n",
    "             exactDOF=TRUE)\n",
    "t6 <- felm(formula=log(tso2_cit) ~ TCZ_c * Period * polluted_thre * lab_share_for\t\n",
    "             + TCZ_c * Period * polluted_thre * lab_share_SOE\t\n",
    "                  + output_fcit + capital_fcit + labour_fcit\n",
    "                  |\n",
    "             FE_t_c + FE_t_i + FE_c_i  | 0 |\n",
    "             industry, data= df_final,\n",
    "             exactDOF=TRUE)\n",
    "\n",
    "fe1 <- list(c(\"City fixed effects\", \"Yes\", \"Yes\", \"Yes\", \"No\", \"No\", \"No\"),\n",
    "             c(\"Industry fixed effects\", \"Yes\", \"Yes\", \"Yes\", \"No\", \"No\", \"No\"),\n",
    "             c(\"Yes fixed effects\",\"Yes\", \"Yes\", \"Yes\", \"No\", \"No\", \"No\"),\n",
    "             c(\"City-year fixed effects\", \"No\", \"No\", \"No\",\"Yes\", \"Yes\",\"Yes\"),\n",
    "             c(\"Industry-year fixed effects\", \"No\", \"No\", \"No\", \"Yes\", \"Yes\",\"Yes\"),\n",
    "             c(\"City-industry fixed effects\", \"No\", \"No\", \"No\", \"Yes\", \"Yes\",\"Yes\")\n",
    "             )\n",
    "\n",
    "table_1 <- go_latex(list(\n",
    "    t1,\n",
    "    t2,\n",
    "    t3,\n",
    "    t4,\n",
    "    t5,\n",
    "    t6\n",
    "),\n",
    "    title='Baseline results revision: Foreign-SOE',\n",
    "    addFE=fe1,\n",
    "    save=TRUE,\n",
    "    name=\"table_2.txt\"\n",
    ")"
   ]
  },
  {
   "cell_type": "code",
   "execution_count": 14,
   "metadata": {
    "Collapsed": "false",
    "kernel": "python3"
   },
   "outputs": [],
   "source": [
    "try:\n",
    "    os.remove('table_2.tex')\n",
    "except:\n",
    "    pass\n",
    "lb.beautify(table_number = 2, constraint = False)"
   ]
  },
  {
   "cell_type": "markdown",
   "metadata": {
    "Collapsed": "false",
    "kernel": "python3"
   },
   "source": [
    "## 03: Foreign\n",
    "\n",
    "In this table, only foreign share\n",
    "\n",
    "Output latex table available here\n",
    "\n",
    "- https://www.overleaf.com/project/5deca0097e9f3a0001506527\n",
    "    - 03_foreign\n",
    "\n",
    "In Google Drive:\n",
    "\n",
    "![](https://drive.google.com/uc?export=view&id=1LMR9Os_Koz9FtdXMZLTb6lLC_Loj9c5z)"
   ]
  },
  {
   "cell_type": "markdown",
   "metadata": {
    "Collapsed": "false",
    "kernel": "python3"
   },
   "source": [
    "### Code"
   ]
  },
  {
   "cell_type": "code",
   "execution_count": 15,
   "metadata": {
    "Collapsed": "false",
    "kernel": "R"
   },
   "outputs": [],
   "source": [
    "t1 <- felm(formula=log(tso2_cit) ~ TCZ_c * Period * polluted_thre * out_share_for\t\n",
    "                  + output_fcit + capital_fcit + labour_fcit\n",
    "                  |\n",
    "              cityen +  year + industry  | 0 |\n",
    "             industry, data= df_final,\n",
    "             exactDOF=TRUE)\n",
    "\n",
    "t2 <- felm(formula=log(tso2_cit) ~ TCZ_c * Period * polluted_thre * cap_share_for\t\n",
    "                  + output_fcit + capital_fcit + labour_fcit\n",
    "                  |\n",
    "              cityen +  year + industry | 0 |\n",
    "             industry, data= df_final,\n",
    "             exactDOF=TRUE)\n",
    "\n",
    "t3 <- felm(formula=log(tso2_cit) ~ TCZ_c * Period * polluted_thre * lab_share_for\t\n",
    "                  + output_fcit + capital_fcit + labour_fcit\n",
    "                  |\n",
    "              cityen +  year + industry  | 0 |\n",
    "             industry, data= df_final,\n",
    "             exactDOF=TRUE)\n",
    "\n",
    "t4 <- felm(formula=log(tso2_cit) ~ TCZ_c * Period * polluted_thre * out_share_for\t\n",
    "                  + output_fcit + capital_fcit + labour_fcit\n",
    "                  |\n",
    "              FE_t_c + FE_t_i + FE_c_i | 0 |\n",
    "             industry, data= df_final,\n",
    "             exactDOF=TRUE)\n",
    "\n",
    "t5 <- felm(formula=log(tso2_cit) ~ TCZ_c * Period * polluted_thre * cap_share_for\t\n",
    "                  + output_fcit + capital_fcit + labour_fcit\n",
    "                  |\n",
    "              FE_t_c + FE_t_i + FE_c_i | 0 |\n",
    "             industry, data= df_final,\n",
    "             exactDOF=TRUE)\n",
    "\n",
    "t6 <- felm(formula=log(tso2_cit) ~ TCZ_c * Period * polluted_thre * lab_share_for\t\n",
    "                  + output_fcit + capital_fcit + labour_fcit\n",
    "                  |\n",
    "              FE_t_c + FE_t_i + FE_c_i  | 0 |\n",
    "             industry, data= df_final,\n",
    "             exactDOF=TRUE)\n",
    "\n",
    "fe1 <- list(c(\"City fixed effects\", \"Yes\", \"Yes\", \"Yes\", \"No\", \"No\", \"No\"),\n",
    "             c(\"Industry fixed effects\", \"Yes\", \"Yes\", \"Yes\", \"No\", \"No\", \"No\"),\n",
    "             c(\"Yes fixed effects\",\"Yes\", \"Yes\", \"Yes\", \"No\", \"No\", \"No\"),\n",
    "             c(\"City-year fixed effects\", \"No\", \"No\", \"No\",\"Yes\", \"Yes\",\"Yes\"),\n",
    "             c(\"Industry-year fixed effects\", \"No\", \"No\", \"No\", \"Yes\", \"Yes\",\"Yes\"),\n",
    "             c(\"City-industry fixed effects\", \"No\", \"No\", \"No\", \"Yes\", \"Yes\",\"Yes\")\n",
    "             )\n",
    "\n",
    "table_1 <- go_latex(list(\n",
    "    t1,\n",
    "    t2,\n",
    "    t3,\n",
    "    t4,\n",
    "    t5,\n",
    "    t6\n",
    "),\n",
    "    title='Baseline results revision: Foreign',\n",
    "    addFE=fe1,\n",
    "    save=TRUE,\n",
    "    name=\"table_3.txt\"\n",
    ")"
   ]
  },
  {
   "cell_type": "code",
   "execution_count": 16,
   "metadata": {
    "Collapsed": "false",
    "kernel": "python3"
   },
   "outputs": [],
   "source": [
    "try:\n",
    "    os.remove('table_3.tex')\n",
    "except:\n",
    "    pass\n",
    "lb.beautify(table_number = 3, constraint = False)"
   ]
  },
  {
   "cell_type": "markdown",
   "metadata": {
    "Collapsed": "false",
    "kernel": "python3"
   },
   "source": [
    "## Herfindalh\n",
    "\n",
    "It might be the case that large firms can influence local authorities concerning the effective enforcement of environmental regulation. If possible, I suggest to identify in each city \n",
    "\n",
    "- (i) and for each industry (k), an index of industrial concentration (or the share of large firms in the industry). \n",
    "    - Then, a solution would be to estimate the model on a sub-sample of city-industry characterized by a low industrial concentration. \n",
    "    - A comparison of the results between the total sample and the subsample would allow checking the magnitude of the endogeneity bias. \n",
    "\n",
    "* https://en.wikipedia.org/wiki/Herfindahl%E2%80%93Hirschman_Index\n",
    "\n",
    "We can use the herfindhal index at the industry level, so that we are consistent with our strategy -> the interaction term is at the industry level and not city-industry level. \n",
    "\n",
    "In the first part, we compute the Herfindhal at the industry level -> average by industry. In the second part, we use the city industry, therefore, we estimate one more coefficient with the pair fixed effect\n"
   ]
  },
  {
   "cell_type": "markdown",
   "metadata": {
    "Collapsed": "false",
    "kernel": "python3"
   },
   "source": [
    "## Concentration at the industry level"
   ]
  },
  {
   "cell_type": "code",
   "execution_count": 17,
   "metadata": {
    "Collapsed": "false",
    "kernel": "SoS"
   },
   "outputs": [],
   "source": [
    "import numpy as np"
   ]
  },
  {
   "cell_type": "code",
   "execution_count": 18,
   "metadata": {
    "Collapsed": "false",
    "kernel": "SoS"
   },
   "outputs": [],
   "source": [
    "df_herfhindal_ind = (df_herfhindal\n",
    "                     .groupby('industry')['Herfindahl']\n",
    "                     .mean()\n",
    "                     .reset_index())"
   ]
  },
  {
   "cell_type": "code",
   "execution_count": 19,
   "metadata": {
    "Collapsed": "false",
    "kernel": "SoS"
   },
   "outputs": [
    {
     "data": {
      "text/html": [
       "<div class=\"sos_logging sos_info\">INFO: NumExpr defaulting to 8 threads.</div>"
      ]
     },
     "metadata": {},
     "output_type": "display_data"
    }
   ],
   "source": [
    "df_herfhindal_final = df_final.merge(df_herfhindal_ind,\n",
    "                                     on=['industry'],\n",
    "                                     how='left',\n",
    "                                     indicator=True\n",
    "\n",
    "                                     )\n",
    "df_herfhindal_final['df_herfhindal_final'] = df_herfhindal_final['Herfindahl'].fillna(\n",
    "    0)"
   ]
  },
  {
   "cell_type": "code",
   "execution_count": 20,
   "metadata": {
    "Collapsed": "false",
    "kernel": "SoS"
   },
   "outputs": [
    {
     "data": {
      "text/plain": [
       "0.10    0.541928\n",
       "0.15    0.606191\n",
       "0.25    0.632807\n",
       "0.50    0.728706\n",
       "0.70    0.774909\n",
       "0.75    0.784489\n",
       "0.80    0.794864\n",
       "0.85    0.819006\n",
       "0.95    0.858530\n",
       "Name: Herfindahl, dtype: float64"
      ]
     },
     "execution_count": 20,
     "metadata": {},
     "output_type": "execute_result"
    }
   ],
   "source": [
    "df_herfhindal_final['Herfindahl'].quantile([.1,\n",
    "                                            .15,\n",
    "                                            .25,\n",
    "                                            .5,\n",
    "                                            .70,\n",
    "                                            .75,\n",
    "                                            .80,\n",
    "                                            .85,\n",
    "                                            .95])"
   ]
  },
  {
   "cell_type": "code",
   "execution_count": 21,
   "metadata": {
    "Collapsed": "false",
    "kernel": "SoS"
   },
   "outputs": [],
   "source": [
    "%put df_herfhindal_final --to R\n",
    "df_herfhindal_final = df_herfhindal_final.assign(\n",
    "concentrated_25 = lambda x: np.where(x['Herfindahl'] > 0.632807,\n",
    "                                 \"CONCENTRATED\",\n",
    "                                 'NOT_CONCENTRATED'),\n",
    "concentrated_50 = lambda x: np.where(x['Herfindahl'] > 0.728706,\n",
    "                                 \"CONCENTRATED\",\n",
    "                                 'NOT_CONCENTRATED'),\n",
    "concentrated_75 = lambda x: np.where(x['Herfindahl'] > 0.784489,\n",
    "                                 \"CONCENTRATED\",\n",
    "                                 'NOT_CONCENTRATED'),\n",
    "concentrated_85 = lambda x: np.where(x['Herfindahl'] > 0.819006,\n",
    "                                 \"CONCENTRATED\",\n",
    "                                 'NOT_CONCENTRATED'),\n",
    ")"
   ]
  },
  {
   "cell_type": "code",
   "execution_count": 22,
   "metadata": {
    "Collapsed": "false",
    "kernel": "SoS"
   },
   "outputs": [
    {
     "data": {
      "text/plain": [
       "concentrated_75\n",
       "CONCENTRATED         7562\n",
       "NOT_CONCENTRATED    23114\n",
       "Name: concentrated_75, dtype: int64"
      ]
     },
     "execution_count": 22,
     "metadata": {},
     "output_type": "execute_result"
    }
   ],
   "source": [
    "df_herfhindal_final.groupby('concentrated_75')['concentrated_75'].count()"
   ]
  },
  {
   "cell_type": "code",
   "execution_count": 23,
   "metadata": {
    "Collapsed": "false",
    "kernel": "SoS"
   },
   "outputs": [
    {
     "data": {
      "text/plain": [
       "concentrated_85\n",
       "CONCENTRATED         4615\n",
       "NOT_CONCENTRATED    26061\n",
       "Name: concentrated_85, dtype: int64"
      ]
     },
     "execution_count": 23,
     "metadata": {},
     "output_type": "execute_result"
    }
   ],
   "source": [
    "df_herfhindal_final.groupby('concentrated_85')['concentrated_85'].count()"
   ]
  },
  {
   "cell_type": "code",
   "execution_count": 24,
   "metadata": {
    "Collapsed": "false",
    "kernel": "R"
   },
   "outputs": [
    {
     "data": {
      "text/html": [
       "<table>\n",
       "<caption>A data.frame: 6 × 40</caption>\n",
       "<thead>\n",
       "\t<tr><th scope=col>year</th><th scope=col>Period</th><th scope=col>Province_en</th><th scope=col>Lower_location</th><th scope=col>Larger_location</th><th scope=col>Coastal</th><th scope=col>cityen</th><th scope=col>geocode4_corr</th><th scope=col>TCZ_c</th><th scope=col>target_c</th><th scope=col>⋯</th><th scope=col>FE_c_i</th><th scope=col>FE_t_i</th><th scope=col>FE_t_c</th><th scope=col>Herfindahl</th><th scope=col>_merge</th><th scope=col>df_herfhindal_final</th><th scope=col>concentrated_25</th><th scope=col>concentrated_50</th><th scope=col>concentrated_75</th><th scope=col>concentrated_85</th></tr>\n",
       "\t<tr><th scope=col>&lt;dbl&gt;</th><th scope=col>&lt;fct&gt;</th><th scope=col>&lt;fct&gt;</th><th scope=col>&lt;fct&gt;</th><th scope=col>&lt;fct&gt;</th><th scope=col>&lt;lgl&gt;</th><th scope=col>&lt;fct&gt;</th><th scope=col>&lt;dbl&gt;</th><th scope=col>&lt;fct&gt;</th><th scope=col>&lt;dbl&gt;</th><th scope=col>⋯</th><th scope=col>&lt;fct&gt;</th><th scope=col>&lt;fct&gt;</th><th scope=col>&lt;fct&gt;</th><th scope=col>&lt;dbl&gt;</th><th scope=col>&lt;fct&gt;</th><th scope=col>&lt;dbl&gt;</th><th scope=col>&lt;fct&gt;</th><th scope=col>&lt;fct&gt;</th><th scope=col>&lt;fct&gt;</th><th scope=col>&lt;fct&gt;</th></tr>\n",
       "</thead>\n",
       "<tbody>\n",
       "\t<tr><td>2002</td><td>Before</td><td>Shanxi   </td><td>Central  </td><td>Central</td><td>FALSE</td><td>Yuncheng</td><td>1408</td><td>TCZ   </td><td>0.48502998</td><td>⋯</td><td>11104</td><td>1573</td><td>889</td><td>0.9341769</td><td>both</td><td>0.9341769</td><td>CONCENTRATED</td><td>CONCENTRATED</td><td>CONCENTRATED</td><td>CONCENTRATED</td></tr>\n",
       "\t<tr><td>2006</td><td>After </td><td>Hunan    </td><td>Central  </td><td>Central</td><td>FALSE</td><td>Xiangtan</td><td>4303</td><td>TCZ   </td><td>0.09275420</td><td>⋯</td><td>11105</td><td>1574</td><td>420</td><td>0.9341769</td><td>both</td><td>0.9341769</td><td>CONCENTRATED</td><td>CONCENTRATED</td><td>CONCENTRATED</td><td>CONCENTRATED</td></tr>\n",
       "\t<tr><td>2007</td><td>After </td><td>Hunan    </td><td>Central  </td><td>Central</td><td>FALSE</td><td>Xiangtan</td><td>4303</td><td>TCZ   </td><td>0.09275420</td><td>⋯</td><td>11105</td><td>1572</td><td>421</td><td>0.9341769</td><td>both</td><td>0.9341769</td><td>CONCENTRATED</td><td>CONCENTRATED</td><td>CONCENTRATED</td><td>CONCENTRATED</td></tr>\n",
       "\t<tr><td>2007</td><td>After </td><td>Liaoning </td><td>Northeast</td><td>Eastern</td><td> TRUE</td><td>Jinzhou </td><td>2107</td><td>TCZ   </td><td>0.08051164</td><td>⋯</td><td>11103</td><td>1572</td><td>287</td><td>0.9341769</td><td>both</td><td>0.9341769</td><td>CONCENTRATED</td><td>CONCENTRATED</td><td>CONCENTRATED</td><td>CONCENTRATED</td></tr>\n",
       "\t<tr><td>2002</td><td>Before</td><td>Liaoning </td><td>Northeast</td><td>Eastern</td><td> TRUE</td><td>Shenyang</td><td>2101</td><td>TCZ   </td><td>0.23007570</td><td>⋯</td><td>11106</td><td>1573</td><td>432</td><td>0.9341769</td><td>both</td><td>0.9341769</td><td>CONCENTRATED</td><td>CONCENTRATED</td><td>CONCENTRATED</td><td>CONCENTRATED</td></tr>\n",
       "\t<tr><td>2002</td><td>Before</td><td>Guangdong</td><td>Coastal  </td><td>Eastern</td><td> TRUE</td><td>Meizhou </td><td>4414</td><td>No_TCZ</td><td>0.02596999</td><td>⋯</td><td>11107</td><td>1573</td><td>909</td><td>0.9341769</td><td>both</td><td>0.9341769</td><td>CONCENTRATED</td><td>CONCENTRATED</td><td>CONCENTRATED</td><td>CONCENTRATED</td></tr>\n",
       "</tbody>\n",
       "</table>\n"
      ],
      "text/latex": [
       "A data.frame: 6 × 40\n",
       "\\begin{tabular}{r|llllllllllllllllllllllllllllllllllllllll}\n",
       " year & Period & Province\\_en & Lower\\_location & Larger\\_location & Coastal & cityen & geocode4\\_corr & TCZ\\_c & target\\_c & effort\\_c & industry & ind2 & Short & output\\_fcit & capital\\_fcit & labour\\_fcit & out\\_share\\_for & out\\_share\\_SOE & cap\\_share\\_for & cap\\_share\\_SOE & lab\\_share\\_for & lab\\_share\\_SOE & tso2\\_cit & tso2\\_i & tCOD\\_cit & twaste\\_water\\_cit & polluted\\_di & polluted\\_mi & polluted\\_thre & FE\\_c\\_i & FE\\_t\\_i & FE\\_t\\_c & Herfindahl & \\_merge & df\\_herfhindal\\_final & concentrated\\_25 & concentrated\\_50 & concentrated\\_75 & concentrated\\_85\\\\\n",
       " <dbl> & <fct> & <fct> & <fct> & <fct> & <lgl> & <fct> & <dbl> & <fct> & <dbl> & <fct> & <dbl> & <dbl> & <fct> & <dbl> & <dbl> & <dbl> & <dbl> & <dbl> & <dbl> & <dbl> & <dbl> & <dbl> & <dbl> & <dbl> & <dbl> & <dbl> & <fct> & <fct> & <fct> & <fct> & <fct> & <fct> & <dbl> & <fct> & <dbl> & <fct> & <fct> & <fct> & <fct>\\\\\n",
       "\\hline\n",
       "\t 2002 & Before & Shanxi    & Central   & Central & FALSE & Yuncheng & 1408 & TCZ    & 0.48502998 & Above & 3329 & 33 & Smelting Non-ferrous Metals & 0.0006870 & 0.0002926 & 0.00036 & 0.1264807 & 0.02756701 & 0.1626764 & 0.2210178 & 0.1841305 & 0.1134672 & 24500 & 168934.5 &     0 &    500 & Above & Below & Above & 11104 & 1573 & 889 & 0.9341769 & both & 0.9341769 & CONCENTRATED & CONCENTRATED & CONCENTRATED & CONCENTRATED\\\\\n",
       "\t 2006 & After  & Hunan     & Central   & Central & FALSE & Xiangtan & 4303 & TCZ    & 0.09275420 & Below & 3329 & 33 & Smelting Non-ferrous Metals & 0.0009500 & 0.0001481 & 0.00023 & 0.1264807 & 0.02756701 & 0.1626764 & 0.2210178 & 0.1841305 & 0.1134672 &  2304 & 168934.5 &     0 &    300 & Above & Below & Above & 11105 & 1574 & 420 & 0.9341769 & both & 0.9341769 & CONCENTRATED & CONCENTRATED & CONCENTRATED & CONCENTRATED\\\\\n",
       "\t 2007 & After  & Hunan     & Central   & Central & FALSE & Xiangtan & 4303 & TCZ    & 0.09275420 & Below & 3329 & 33 & Smelting Non-ferrous Metals & 0.0017150 & 0.0003650 & 0.00023 & 0.1264807 & 0.02756701 & 0.1626764 & 0.2210178 & 0.1841305 & 0.1134672 &  2304 & 168934.5 &     0 &    240 & Above & Below & Above & 11105 & 1572 & 421 & 0.9341769 & both & 0.9341769 & CONCENTRATED & CONCENTRATED & CONCENTRATED & CONCENTRATED\\\\\n",
       "\t 2007 & After  & Liaoning  & Northeast & Eastern &  TRUE & Jinzhou  & 2107 & TCZ    & 0.08051164 & Below & 3329 & 33 & Smelting Non-ferrous Metals & 0.0077300 & 0.0012959 & 0.00089 & 0.1264807 & 0.02756701 & 0.1626764 & 0.2210178 & 0.1841305 & 0.1134672 &  3200 & 168934.5 &     0 &      0 & Above & Below & Above & 11103 & 1572 & 287 & 0.9341769 & both & 0.9341769 & CONCENTRATED & CONCENTRATED & CONCENTRATED & CONCENTRATED\\\\\n",
       "\t 2002 & Before & Liaoning  & Northeast & Eastern &  TRUE & Shenyang & 2101 & TCZ    & 0.23007570 & Above & 3329 & 33 & Smelting Non-ferrous Metals & 0.0009967 & 0.0000516 & 0.00135 & 0.1264807 & 0.02756701 & 0.1626764 & 0.2210178 & 0.1841305 & 0.1134672 &  3840 & 168934.5 &     0 &   3500 & Above & Below & Above & 11106 & 1573 & 432 & 0.9341769 & both & 0.9341769 & CONCENTRATED & CONCENTRATED & CONCENTRATED & CONCENTRATED\\\\\n",
       "\t 2002 & Before & Guangdong & Coastal   & Eastern &  TRUE & Meizhou  & 4414 & No\\_TCZ & 0.02596999 & Below & 3329 & 33 & Smelting Non-ferrous Metals & 0.0002903 & 0.0013790 & 0.00125 & 0.1264807 & 0.02756701 & 0.1626764 & 0.2210178 & 0.1841305 & 0.1134672 & 72752 & 168934.5 & 15500 & 115000 & Above & Below & Above & 11107 & 1573 & 909 & 0.9341769 & both & 0.9341769 & CONCENTRATED & CONCENTRATED & CONCENTRATED & CONCENTRATED\\\\\n",
       "\\end{tabular}\n"
      ],
      "text/markdown": [
       "\n",
       "A data.frame: 6 × 40\n",
       "\n",
       "| year &lt;dbl&gt; | Period &lt;fct&gt; | Province_en &lt;fct&gt; | Lower_location &lt;fct&gt; | Larger_location &lt;fct&gt; | Coastal &lt;lgl&gt; | cityen &lt;fct&gt; | geocode4_corr &lt;dbl&gt; | TCZ_c &lt;fct&gt; | target_c &lt;dbl&gt; | ⋯ ⋯ | FE_c_i &lt;fct&gt; | FE_t_i &lt;fct&gt; | FE_t_c &lt;fct&gt; | Herfindahl &lt;dbl&gt; | _merge &lt;fct&gt; | df_herfhindal_final &lt;dbl&gt; | concentrated_25 &lt;fct&gt; | concentrated_50 &lt;fct&gt; | concentrated_75 &lt;fct&gt; | concentrated_85 &lt;fct&gt; |\n",
       "|---|---|---|---|---|---|---|---|---|---|---|---|---|---|---|---|---|---|---|---|---|\n",
       "| 2002 | Before | Shanxi    | Central   | Central | FALSE | Yuncheng | 1408 | TCZ    | 0.48502998 | ⋯ | 11104 | 1573 | 889 | 0.9341769 | both | 0.9341769 | CONCENTRATED | CONCENTRATED | CONCENTRATED | CONCENTRATED |\n",
       "| 2006 | After  | Hunan     | Central   | Central | FALSE | Xiangtan | 4303 | TCZ    | 0.09275420 | ⋯ | 11105 | 1574 | 420 | 0.9341769 | both | 0.9341769 | CONCENTRATED | CONCENTRATED | CONCENTRATED | CONCENTRATED |\n",
       "| 2007 | After  | Hunan     | Central   | Central | FALSE | Xiangtan | 4303 | TCZ    | 0.09275420 | ⋯ | 11105 | 1572 | 421 | 0.9341769 | both | 0.9341769 | CONCENTRATED | CONCENTRATED | CONCENTRATED | CONCENTRATED |\n",
       "| 2007 | After  | Liaoning  | Northeast | Eastern |  TRUE | Jinzhou  | 2107 | TCZ    | 0.08051164 | ⋯ | 11103 | 1572 | 287 | 0.9341769 | both | 0.9341769 | CONCENTRATED | CONCENTRATED | CONCENTRATED | CONCENTRATED |\n",
       "| 2002 | Before | Liaoning  | Northeast | Eastern |  TRUE | Shenyang | 2101 | TCZ    | 0.23007570 | ⋯ | 11106 | 1573 | 432 | 0.9341769 | both | 0.9341769 | CONCENTRATED | CONCENTRATED | CONCENTRATED | CONCENTRATED |\n",
       "| 2002 | Before | Guangdong | Coastal   | Eastern |  TRUE | Meizhou  | 4414 | No_TCZ | 0.02596999 | ⋯ | 11107 | 1573 | 909 | 0.9341769 | both | 0.9341769 | CONCENTRATED | CONCENTRATED | CONCENTRATED | CONCENTRATED |\n",
       "\n"
      ],
      "text/plain": [
       "  year Period Province_en Lower_location Larger_location Coastal cityen  \n",
       "1 2002 Before Shanxi      Central        Central         FALSE   Yuncheng\n",
       "2 2006 After  Hunan       Central        Central         FALSE   Xiangtan\n",
       "3 2007 After  Hunan       Central        Central         FALSE   Xiangtan\n",
       "4 2007 After  Liaoning    Northeast      Eastern          TRUE   Jinzhou \n",
       "5 2002 Before Liaoning    Northeast      Eastern          TRUE   Shenyang\n",
       "6 2002 Before Guangdong   Coastal        Eastern          TRUE   Meizhou \n",
       "  geocode4_corr TCZ_c  target_c   ⋯ FE_c_i FE_t_i FE_t_c Herfindahl _merge\n",
       "1 1408          TCZ    0.48502998 ⋯ 11104  1573   889    0.9341769  both  \n",
       "2 4303          TCZ    0.09275420 ⋯ 11105  1574   420    0.9341769  both  \n",
       "3 4303          TCZ    0.09275420 ⋯ 11105  1572   421    0.9341769  both  \n",
       "4 2107          TCZ    0.08051164 ⋯ 11103  1572   287    0.9341769  both  \n",
       "5 2101          TCZ    0.23007570 ⋯ 11106  1573   432    0.9341769  both  \n",
       "6 4414          No_TCZ 0.02596999 ⋯ 11107  1573   909    0.9341769  both  \n",
       "  df_herfhindal_final concentrated_25 concentrated_50 concentrated_75\n",
       "1 0.9341769           CONCENTRATED    CONCENTRATED    CONCENTRATED   \n",
       "2 0.9341769           CONCENTRATED    CONCENTRATED    CONCENTRATED   \n",
       "3 0.9341769           CONCENTRATED    CONCENTRATED    CONCENTRATED   \n",
       "4 0.9341769           CONCENTRATED    CONCENTRATED    CONCENTRATED   \n",
       "5 0.9341769           CONCENTRATED    CONCENTRATED    CONCENTRATED   \n",
       "6 0.9341769           CONCENTRATED    CONCENTRATED    CONCENTRATED   \n",
       "  concentrated_85\n",
       "1 CONCENTRATED   \n",
       "2 CONCENTRATED   \n",
       "3 CONCENTRATED   \n",
       "4 CONCENTRATED   \n",
       "5 CONCENTRATED   \n",
       "6 CONCENTRATED   "
      ]
     },
     "metadata": {},
     "output_type": "display_data"
    }
   ],
   "source": [
    "path = \"functions/SBC_pollution_R.R\"\n",
    "source(path)\n",
    "path = \"functions/SBC_pollutiuon_golatex.R\"\n",
    "source(path)\n",
    "\n",
    "df_final <- df_herfhindal_final %>% \n",
    "    mutate_if(is.character, as.factor) %>%\n",
    "    mutate_at(vars(starts_with(\"FE\")), as.factor) %>%\n",
    "    mutate(\n",
    "         Period = relevel(Period, ref='Before'),\n",
    "         TCZ_c = relevel(TCZ_c, ref='No_TCZ'),\n",
    "         effort_c = relevel(effort_c, ref='Below'),\n",
    "         polluted_di = relevel(polluted_di, ref='Below'),\n",
    "         polluted_mi = relevel(polluted_mi, ref='Below'),\n",
    "         polluted_thre = relevel(polluted_thre, ref='Below'),\n",
    "         concentrated_25 = relevel(concentrated_25, ref='NOT_CONCENTRATED'),\n",
    "         concentrated_50 = relevel(concentrated_50, ref='NOT_CONCENTRATED'),\n",
    "         concentrated_75 = relevel(concentrated_75, ref='NOT_CONCENTRATED'),\n",
    "         concentrated_85 = relevel(concentrated_85, ref='NOT_CONCENTRATED'),\n",
    "  )\n",
    "head(df_final)"
   ]
  },
  {
   "cell_type": "markdown",
   "metadata": {
    "Collapsed": "false",
    "kernel": "R"
   },
   "source": [
    "### 04: Sector Concentration\n",
    "\n",
    "Interaction with a concentration dummy\n",
    "\n",
    "Output latex table available here\n",
    "\n",
    "- https://www.overleaf.com/project/5deca0097e9f3a0001506527\n",
    "    - 04_concentrated_indu\n",
    "\n",
    "In Google Drive:\n",
    "\n",
    "![](https://drive.google.com/uc?export=view&id=11gh-qQ9lqaltNdXyhfQgYmdtpay677Ap)"
   ]
  },
  {
   "cell_type": "markdown",
   "metadata": {
    "Collapsed": "false",
    "kernel": "R"
   },
   "source": [
    "#### Code"
   ]
  },
  {
   "cell_type": "code",
   "execution_count": 25,
   "metadata": {
    "Collapsed": "false",
    "kernel": "R"
   },
   "outputs": [],
   "source": [
    "t1 <- felm(formula=log(tso2_cit) ~ TCZ_c * Period * polluted_thre * concentrated_25\n",
    "                  + output_fcit + capital_fcit + labour_fcit\n",
    "                  |\n",
    "             cityen +  year + industry | 0 |\n",
    "             industry, data= df_final,\n",
    "             exactDOF=TRUE)\n",
    "\n",
    "t2 <- felm(formula=log(tso2_cit) ~ TCZ_c * Period *polluted_thre * concentrated_50\n",
    "                  + output_fcit + capital_fcit + labour_fcit\n",
    "                  |\n",
    "             cityen +  year + industry | 0 |\n",
    "             industry, data= df_final,\n",
    "             exactDOF=TRUE)\n",
    "\n",
    "t3 <- felm(formula=log(tso2_cit) ~ TCZ_c * Period *polluted_thre * concentrated_75\n",
    "                  + output_fcit + capital_fcit + labour_fcit\n",
    "                  |\n",
    "               cityen +  year + industry | 0 |\n",
    "             industry, data= df_final,\n",
    "             exactDOF=TRUE)\n",
    "\n",
    "t4 <- felm(formula=log(tso2_cit) ~ TCZ_c * Period *polluted_thre * concentrated_85\n",
    "                  + output_fcit + capital_fcit + labour_fcit\n",
    "                  |\n",
    "               cityen +  year + industry | 0 |\n",
    "             industry, data= df_final,\n",
    "             exactDOF=TRUE)\n",
    "\n",
    "t5 <- felm(formula=log(tso2_cit) ~ TCZ_c * Period * polluted_thre * concentrated_25\n",
    "                  + output_fcit + capital_fcit + labour_fcit\n",
    "                  |\n",
    "             FE_t_c + FE_t_i + FE_c_i | 0 |\n",
    "             industry, data= df_final,\n",
    "             exactDOF=TRUE)\n",
    "\n",
    "t6 <- felm(formula=log(tso2_cit) ~ TCZ_c * Period *polluted_thre * concentrated_50\n",
    "                  + output_fcit + capital_fcit + labour_fcit\n",
    "                  |\n",
    "             FE_t_c + FE_t_i + FE_c_i | 0 |\n",
    "             industry, data= df_final,\n",
    "             exactDOF=TRUE)\n",
    "\n",
    "t7 <- felm(formula=log(tso2_cit) ~ TCZ_c * Period *polluted_thre * concentrated_75\n",
    "                  + output_fcit + capital_fcit + labour_fcit\n",
    "                  |\n",
    "               FE_t_c + FE_t_i + FE_c_i | 0 |\n",
    "             industry, data= df_final,\n",
    "             exactDOF=TRUE)\n",
    "\n",
    "t8 <- felm(formula=log(tso2_cit) ~ TCZ_c * Period *polluted_thre * concentrated_85\n",
    "                  + output_fcit + capital_fcit + labour_fcit\n",
    "                  |\n",
    "               FE_t_c + FE_t_i + FE_c_i | 0 |\n",
    "             industry, data= df_final,\n",
    "             exactDOF=TRUE)\n",
    "\n",
    "fe1 <- list(\n",
    "             c(\"City-year fixed effects\", \"No\", \"No\", \"No\", \"No\", \"Yes\", \"Yes\", \"Yes\", \"Yes\"),\n",
    "             c(\"Industry-year fixed effects\", \"No\", \"No\", \"No\", \"No\", \"Yes\", \"Yes\", \"Yes\", \"Yes\"),\n",
    "             c(\"City-industry fixed effects\", \"No\", \"No\", \"No\", \"No\", \"Yes\", \"Yes\", \"Yes\", \"Yes\")\n",
    "             )\n",
    "\n",
    "table_1 <- go_latex(list(\n",
    "    t1, t2, t3,t4, t5, t6, t7, t8\n",
    "),\n",
    "    title='Baseline results revision',\n",
    "    addFE=fe1,\n",
    "    save=TRUE,\n",
    "    name=\"table_4.txt\"\n",
    ")"
   ]
  },
  {
   "cell_type": "code",
   "execution_count": 26,
   "metadata": {
    "Collapsed": "false",
    "kernel": "python3"
   },
   "outputs": [
    {
     "name": "stdout",
     "output_type": "stream",
     "text": [
      "The autoreload extension is already loaded. To reload it, use:\n",
      "  %reload_ext autoreload\n"
     ]
    }
   ],
   "source": [
    "import functions.latex_beautify as lb\n",
    "\n",
    "%load_ext autoreload\n",
    "%autoreload 2"
   ]
  },
  {
   "cell_type": "code",
   "execution_count": 27,
   "metadata": {
    "Collapsed": "false",
    "kernel": "python3"
   },
   "outputs": [],
   "source": [
    "import os\n",
    "try:\n",
    "    os.remove(\"table_4.tex\")\n",
    "except:\n",
    "    pass\n",
    "lb.beautify(table_number = 4, constraint = False)"
   ]
  },
  {
   "cell_type": "markdown",
   "metadata": {
    "Collapsed": "false",
    "kernel": "python3"
   },
   "source": [
    "### 05: Sector Concentration and output share SOE\n",
    "\n",
    "Interaction with a concentration dummy and include SOE output share\n",
    "\n",
    "Output latex table available here\n",
    "\n",
    "- https://www.overleaf.com/project/5deca0097e9f3a0001506527\n",
    "    - 05_concentrated_ind_SOE\n",
    "\n",
    "In Google Drive:\n",
    "\n",
    "![](https://drive.google.com/uc?export=view&id=1I4jFvbnP8CvXbt020gpFWPH6si9pkpS3)"
   ]
  },
  {
   "cell_type": "markdown",
   "metadata": {
    "Collapsed": "false",
    "kernel": "python3"
   },
   "source": [
    "#### Code"
   ]
  },
  {
   "cell_type": "code",
   "execution_count": 28,
   "metadata": {
    "Collapsed": "false",
    "kernel": "R"
   },
   "outputs": [],
   "source": [
    "t1 <- felm(formula=log(tso2_cit) ~ TCZ_c * Period * polluted_thre * concentrated_25\n",
    "           +TCZ_c * Period *polluted_thre * out_share_SOE\n",
    "                  + output_fcit + capital_fcit + labour_fcit\n",
    "                  |\n",
    "             cityen +  year + industry | 0 |\n",
    "             industry, data= df_final,\n",
    "             exactDOF=TRUE)\n",
    "\n",
    "t2 <- felm(formula=log(tso2_cit) ~ TCZ_c * Period *polluted_thre * concentrated_50\n",
    "           +TCZ_c * Period *polluted_thre * out_share_SOE\n",
    "                  + output_fcit + capital_fcit + labour_fcit\n",
    "                  |\n",
    "             cityen +  year + industry | 0 |\n",
    "             industry, data= df_final,\n",
    "             exactDOF=TRUE)\n",
    "\n",
    "t3 <- felm(formula=log(tso2_cit) ~ TCZ_c * Period *polluted_thre * concentrated_75\n",
    "           +TCZ_c * Period *polluted_thre * out_share_SOE\n",
    "                  + output_fcit + capital_fcit + labour_fcit\n",
    "                  |\n",
    "               cityen +  year + industry | 0 |\n",
    "             industry, data= df_final,\n",
    "             exactDOF=TRUE)\n",
    "\n",
    "t4 <- felm(formula=log(tso2_cit) ~ TCZ_c * Period *polluted_thre * concentrated_85\n",
    "           +TCZ_c * Period *polluted_thre * out_share_SOE\n",
    "           +TCZ_c * Period *polluted_thre * out_share_SOE\n",
    "                  + output_fcit + capital_fcit + labour_fcit\n",
    "                  |\n",
    "               cityen +  year + industry | 0 |\n",
    "             industry, data= df_final,\n",
    "             exactDOF=TRUE)\n",
    "\n",
    "t5 <- felm(formula=log(tso2_cit) ~ TCZ_c * Period * polluted_thre * concentrated_25\n",
    "           +TCZ_c * Period *polluted_thre * out_share_SOE\n",
    "                  + output_fcit + capital_fcit + labour_fcit\n",
    "                  |\n",
    "             FE_t_c + FE_t_i + FE_c_i | 0 |\n",
    "             industry, data= df_final,\n",
    "             exactDOF=TRUE)\n",
    "\n",
    "t6 <- felm(formula=log(tso2_cit) ~ TCZ_c * Period *polluted_thre * concentrated_50\n",
    "           +TCZ_c * Period *polluted_thre * out_share_SOE\n",
    "                  + output_fcit + capital_fcit + labour_fcit\n",
    "                  |\n",
    "             FE_t_c + FE_t_i + FE_c_i | 0 |\n",
    "             industry, data= df_final,\n",
    "             exactDOF=TRUE)\n",
    "\n",
    "t7 <- felm(formula=log(tso2_cit) ~ TCZ_c * Period *polluted_thre * concentrated_75\n",
    "           +TCZ_c * Period *polluted_thre * out_share_SOE\n",
    "                  + output_fcit + capital_fcit + labour_fcit\n",
    "                  |\n",
    "               FE_t_c + FE_t_i + FE_c_i | 0 |\n",
    "             industry, data= df_final,\n",
    "             exactDOF=TRUE)\n",
    "\n",
    "t8 <- felm(formula=log(tso2_cit) ~ TCZ_c * Period *polluted_thre * concentrated_85\n",
    "           +TCZ_c * Period *polluted_thre * out_share_SOE\n",
    "                  + output_fcit + capital_fcit + labour_fcit\n",
    "                  |\n",
    "               FE_t_c + FE_t_i + FE_c_i | 0 |\n",
    "             industry, data= df_final,\n",
    "             exactDOF=TRUE)\n",
    "\n",
    "fe1 <- list(\n",
    "             c(\"City-year fixed effects\", \"No\", \"No\", \"No\", \"No\", \"Yes\", \"Yes\", \"Yes\", \"Yes\"),\n",
    "             c(\"Industry-year fixed effects\", \"No\", \"No\", \"No\", \"No\", \"Yes\", \"Yes\", \"Yes\", \"Yes\"),\n",
    "             c(\"City-industry fixed effects\", \"No\", \"No\", \"No\", \"No\", \"Yes\", \"Yes\", \"Yes\", \"Yes\")\n",
    "             )\n",
    "\n",
    "table_1 <- go_latex(list(\n",
    "    t1, t2, t3,t4, t5, t6, t7, t8\n",
    "),\n",
    "    title='Baseline results revision',\n",
    "    addFE=fe1,\n",
    "    save=TRUE,\n",
    "    name=\"table_5.txt\"\n",
    ")"
   ]
  },
  {
   "cell_type": "code",
   "execution_count": 29,
   "metadata": {
    "Collapsed": "false",
    "kernel": "python3"
   },
   "outputs": [],
   "source": [
    "import os\n",
    "try:\n",
    "    os.remove(\"table_5.tex\")\n",
    "except:\n",
    "    pass\n",
    "lb.beautify(table_number = 5, constraint = False)"
   ]
  },
  {
   "cell_type": "markdown",
   "metadata": {
    "Collapsed": "false",
    "kernel": "python3"
   },
   "source": [
    "### 06: Sector Concentration,continuous var and share SOE\n",
    "\n",
    "Use Herfindhal value and interact it with different SOE share\n",
    "\n",
    "Output latex table available here\n",
    "\n",
    "- https://www.overleaf.com/project/5deca0097e9f3a0001506527\n",
    "    - 06_conc_ind_soe\n",
    "\n",
    "In Google Drive:\n",
    "\n",
    "![](https://drive.google.com/uc?export=view&id=1I3cyQya2ctpWqxDrXkDUtpznZSaRaH7J)"
   ]
  },
  {
   "cell_type": "markdown",
   "metadata": {
    "Collapsed": "false",
    "kernel": "python3"
   },
   "source": [
    "#### Code"
   ]
  },
  {
   "cell_type": "code",
   "execution_count": 30,
   "metadata": {
    "Collapsed": "false",
    "kernel": "R"
   },
   "outputs": [],
   "source": [
    "t1 <- felm(formula=log(tso2_cit) ~ TCZ_c * Period * polluted_thre * Herfindahl\n",
    "           +TCZ_c * Period *polluted_thre * out_share_SOE\n",
    "                  + output_fcit + capital_fcit + labour_fcit\n",
    "                  |\n",
    "             cityen +  year + industry | 0 |\n",
    "             industry, data= df_final,\n",
    "             exactDOF=TRUE)\n",
    "\n",
    "t2 <- felm(formula=log(tso2_cit) ~ TCZ_c * Period * polluted_thre * Herfindahl\n",
    "           +TCZ_c * Period *polluted_thre * cap_share_SOE\n",
    "                  + output_fcit + capital_fcit + labour_fcit\n",
    "                  |\n",
    "             cityen +  year + industry | 0 |\n",
    "             industry, data= df_final,\n",
    "             exactDOF=TRUE)\n",
    "\n",
    "t3 <- felm(formula=log(tso2_cit) ~ TCZ_c * Period * polluted_thre * Herfindahl\n",
    "           +TCZ_c * Period *polluted_thre * lab_share_SOE\n",
    "                  + output_fcit + capital_fcit + labour_fcit\n",
    "                  |\n",
    "             cityen +  year + industry | 0 |\n",
    "             industry, data= df_final,\n",
    "             exactDOF=TRUE)\n",
    "\n",
    "t4 <- felm(formula=log(tso2_cit) ~ TCZ_c * Period * polluted_thre * Herfindahl\n",
    "           +TCZ_c * Period *polluted_thre * out_share_SOE\n",
    "                  + output_fcit + capital_fcit + labour_fcit\n",
    "                  |\n",
    "              FE_t_c + FE_t_i + FE_c_i | 0 |\n",
    "             industry, data= df_final,\n",
    "             exactDOF=TRUE)\n",
    "\n",
    "t5 <- felm(formula=log(tso2_cit) ~ TCZ_c * Period * polluted_thre * Herfindahl\n",
    "           +TCZ_c * Period *polluted_thre * cap_share_SOE\n",
    "                  + output_fcit + capital_fcit + labour_fcit\n",
    "                  |\n",
    "              FE_t_c + FE_t_i + FE_c_i | 0 |\n",
    "             industry, data= df_final,\n",
    "             exactDOF=TRUE)\n",
    "\n",
    "t6 <- felm(formula=log(tso2_cit) ~ TCZ_c * Period * polluted_thre * Herfindahl\n",
    "           +TCZ_c * Period *polluted_thre * lab_share_SOE\n",
    "                  + output_fcit + capital_fcit + labour_fcit\n",
    "                  |\n",
    "              FE_t_c + FE_t_i + FE_c_i | 0 |\n",
    "             industry, data= df_final,\n",
    "             exactDOF=TRUE)\n",
    "\n",
    "fe1 <- list(c(\"City fixed effects\", \"Yes\", \"Yes\", \"Yes\", \"No\", \"No\", \"No\"),\n",
    "             c(\"Industry fixed effects\", \"Yes\", \"Yes\", \"Yes\", \"No\", \"No\", \"No\"),\n",
    "             c(\"Yes fixed effects\",\"Yes\", \"Yes\", \"Yes\", \"No\", \"No\", \"No\"),\n",
    "             c(\"City-year fixed effects\", \"No\", \"No\", \"No\",\"Yes\", \"Yes\",\"Yes\"),\n",
    "             c(\"Industry-year fixed effects\", \"No\", \"No\", \"No\", \"Yes\", \"Yes\",\"Yes\"),\n",
    "             c(\"City-industry fixed effects\", \"No\", \"No\", \"No\", \"Yes\", \"Yes\",\"Yes\")\n",
    "             )\n",
    "\n",
    "table_1 <- go_latex(list(\n",
    "    t1,\n",
    "    t2,\n",
    "    t3,\n",
    "    t4,\n",
    "    t5,\n",
    "    t6\n",
    "),\n",
    "    title='Baseline results revision: concentration',\n",
    "    addFE=fe1,\n",
    "    save=TRUE,\n",
    "    name=\"table_6.txt\"\n",
    ")"
   ]
  },
  {
   "cell_type": "code",
   "execution_count": 31,
   "metadata": {
    "Collapsed": "false",
    "kernel": "python3"
   },
   "outputs": [],
   "source": [
    "import os\n",
    "try:\n",
    "    os.remove(\"table_6.tex\")\n",
    "except:\n",
    "    pass\n",
    "lb.beautify(table_number = 6, constraint = False)"
   ]
  },
  {
   "cell_type": "markdown",
   "metadata": {
    "Collapsed": "false",
    "kernel": "python3"
   },
   "source": [
    "## Herfindhal city-industry\n",
    "\n",
    "We replicate the above three tables but instead of using the herfindahl at the industry level, we use the industry-city. Since we now have a variation city-industry, we estimate a new coefficient -> `Period * polluted * concentration`"
   ]
  },
  {
   "cell_type": "code",
   "execution_count": 32,
   "metadata": {
    "Collapsed": "false",
    "kernel": "SoS"
   },
   "outputs": [],
   "source": [
    "import numpy as np"
   ]
  },
  {
   "cell_type": "code",
   "execution_count": 33,
   "metadata": {
    "Collapsed": "false",
    "kernel": "SoS"
   },
   "outputs": [
    {
     "data": {
      "text/plain": [
       "count    30218.000000\n",
       "mean         0.536110\n",
       "std          0.291507\n",
       "min          0.004463\n",
       "25%          0.287788\n",
       "50%          0.511218\n",
       "75%          0.779449\n",
       "max          1.000000\n",
       "Name: Herfindahl, dtype: float64"
      ]
     },
     "execution_count": 33,
     "metadata": {},
     "output_type": "execute_result"
    }
   ],
   "source": [
    "df_herfhindal_final = df_final.merge(df_herfhindal,\n",
    "                                     on=['geocode4_corr', 'industry'],\n",
    "                                     how='left',\n",
    "                                     indicator=True\n",
    "\n",
    "                                     )\n",
    "df_herfhindal_final['df_herfhindal_final'] = df_herfhindal_final['Herfindahl'].fillna(\n",
    "    0)\n",
    "df_herfhindal_final['Herfindahl'].describe()"
   ]
  },
  {
   "cell_type": "code",
   "execution_count": 34,
   "metadata": {
    "Collapsed": "false",
    "kernel": "SoS"
   },
   "outputs": [
    {
     "data": {
      "text/plain": [
       "0.10    0.152107\n",
       "0.15    0.204283\n",
       "0.25    0.287788\n",
       "0.50    0.511218\n",
       "0.70    0.719013\n",
       "0.75    0.779449\n",
       "0.80    0.840460\n",
       "0.85    0.916762\n",
       "0.95    1.000000\n",
       "Name: Herfindahl, dtype: float64"
      ]
     },
     "execution_count": 34,
     "metadata": {},
     "output_type": "execute_result"
    }
   ],
   "source": [
    "df_herfhindal_final['Herfindahl'].quantile([.1,\n",
    "                                            .15,\n",
    "                                            .25,\n",
    "                                            .5,\n",
    "                                            .70,\n",
    "                                            .75,\n",
    "                                            .80,\n",
    "                                            .85,\n",
    "                                            .95])"
   ]
  },
  {
   "cell_type": "code",
   "execution_count": 35,
   "metadata": {
    "Collapsed": "false",
    "kernel": "SoS"
   },
   "outputs": [],
   "source": [
    "%put df_herfhindal_final --to R\n",
    "df_herfhindal_final = df_herfhindal_final.assign(\n",
    "concentrated_25 = lambda x: np.where(x['Herfindahl'] > 0.287788,\n",
    "                                 \"CONCENTRATED\",\n",
    "                                 'NOT_CONCENTRATED'),\n",
    "concentrated_50 = lambda x: np.where(x['Herfindahl'] > 0.511218,\n",
    "                                 \"CONCENTRATED\",\n",
    "                                 'NOT_CONCENTRATED'),\n",
    "concentrated_75 = lambda x: np.where(x['Herfindahl'] > 0.779449,\n",
    "                                 \"CONCENTRATED\",\n",
    "                                 'NOT_CONCENTRATED'),\n",
    "concentrated_85 = lambda x: np.where(x['Herfindahl'] > 0.916762,\n",
    "                                 \"CONCENTRATED\",\n",
    "                                 'NOT_CONCENTRATED'),\n",
    ")"
   ]
  },
  {
   "cell_type": "code",
   "execution_count": 36,
   "metadata": {
    "Collapsed": "false",
    "kernel": "R"
   },
   "outputs": [
    {
     "data": {
      "text/html": [
       "<table>\n",
       "<caption>A data.frame: 6 × 40</caption>\n",
       "<thead>\n",
       "\t<tr><th scope=col>year</th><th scope=col>Period</th><th scope=col>Province_en</th><th scope=col>Lower_location</th><th scope=col>Larger_location</th><th scope=col>Coastal</th><th scope=col>cityen</th><th scope=col>geocode4_corr</th><th scope=col>TCZ_c</th><th scope=col>target_c</th><th scope=col>⋯</th><th scope=col>FE_c_i</th><th scope=col>FE_t_i</th><th scope=col>FE_t_c</th><th scope=col>Herfindahl</th><th scope=col>_merge</th><th scope=col>df_herfhindal_final</th><th scope=col>concentrated_25</th><th scope=col>concentrated_50</th><th scope=col>concentrated_75</th><th scope=col>concentrated_85</th></tr>\n",
       "\t<tr><th scope=col>&lt;dbl&gt;</th><th scope=col>&lt;fct&gt;</th><th scope=col>&lt;fct&gt;</th><th scope=col>&lt;fct&gt;</th><th scope=col>&lt;fct&gt;</th><th scope=col>&lt;lgl&gt;</th><th scope=col>&lt;fct&gt;</th><th scope=col>&lt;dbl&gt;</th><th scope=col>&lt;fct&gt;</th><th scope=col>&lt;dbl&gt;</th><th scope=col>⋯</th><th scope=col>&lt;fct&gt;</th><th scope=col>&lt;fct&gt;</th><th scope=col>&lt;fct&gt;</th><th scope=col>&lt;dbl&gt;</th><th scope=col>&lt;fct&gt;</th><th scope=col>&lt;dbl&gt;</th><th scope=col>&lt;fct&gt;</th><th scope=col>&lt;fct&gt;</th><th scope=col>&lt;fct&gt;</th><th scope=col>&lt;fct&gt;</th></tr>\n",
       "</thead>\n",
       "<tbody>\n",
       "\t<tr><td>2002</td><td>Before</td><td>Shanxi   </td><td>Central  </td><td>Central</td><td>FALSE</td><td>Yuncheng</td><td>1408</td><td>TCZ   </td><td>0.48502998</td><td>⋯</td><td>11104</td><td>1573</td><td>889</td><td> 1</td><td>both     </td><td>1</td><td>CONCENTRATED    </td><td>CONCENTRATED    </td><td>CONCENTRATED    </td><td>CONCENTRATED    </td></tr>\n",
       "\t<tr><td>2006</td><td>After </td><td>Hunan    </td><td>Central  </td><td>Central</td><td>FALSE</td><td>Xiangtan</td><td>4303</td><td>TCZ   </td><td>0.09275420</td><td>⋯</td><td>11105</td><td>1574</td><td>420</td><td> 1</td><td>both     </td><td>1</td><td>CONCENTRATED    </td><td>CONCENTRATED    </td><td>CONCENTRATED    </td><td>CONCENTRATED    </td></tr>\n",
       "\t<tr><td>2007</td><td>After </td><td>Hunan    </td><td>Central  </td><td>Central</td><td>FALSE</td><td>Xiangtan</td><td>4303</td><td>TCZ   </td><td>0.09275420</td><td>⋯</td><td>11105</td><td>1572</td><td>421</td><td> 1</td><td>both     </td><td>1</td><td>CONCENTRATED    </td><td>CONCENTRATED    </td><td>CONCENTRATED    </td><td>CONCENTRATED    </td></tr>\n",
       "\t<tr><td>2007</td><td>After </td><td>Liaoning </td><td>Northeast</td><td>Eastern</td><td> TRUE</td><td>Jinzhou </td><td>2107</td><td>TCZ   </td><td>0.08051164</td><td>⋯</td><td>11103</td><td>1572</td><td>287</td><td>NA</td><td>left_only</td><td>0</td><td>NOT_CONCENTRATED</td><td>NOT_CONCENTRATED</td><td>NOT_CONCENTRATED</td><td>NOT_CONCENTRATED</td></tr>\n",
       "\t<tr><td>2002</td><td>Before</td><td>Liaoning </td><td>Northeast</td><td>Eastern</td><td> TRUE</td><td>Shenyang</td><td>2101</td><td>TCZ   </td><td>0.23007570</td><td>⋯</td><td>11106</td><td>1573</td><td>432</td><td> 1</td><td>both     </td><td>1</td><td>CONCENTRATED    </td><td>CONCENTRATED    </td><td>CONCENTRATED    </td><td>CONCENTRATED    </td></tr>\n",
       "\t<tr><td>2002</td><td>Before</td><td>Guangdong</td><td>Coastal  </td><td>Eastern</td><td> TRUE</td><td>Meizhou </td><td>4414</td><td>No_TCZ</td><td>0.02596999</td><td>⋯</td><td>11107</td><td>1573</td><td>909</td><td> 1</td><td>both     </td><td>1</td><td>CONCENTRATED    </td><td>CONCENTRATED    </td><td>CONCENTRATED    </td><td>CONCENTRATED    </td></tr>\n",
       "</tbody>\n",
       "</table>\n"
      ],
      "text/latex": [
       "A data.frame: 6 × 40\n",
       "\\begin{tabular}{r|llllllllllllllllllllllllllllllllllllllll}\n",
       " year & Period & Province\\_en & Lower\\_location & Larger\\_location & Coastal & cityen & geocode4\\_corr & TCZ\\_c & target\\_c & effort\\_c & industry & ind2 & Short & output\\_fcit & capital\\_fcit & labour\\_fcit & out\\_share\\_for & out\\_share\\_SOE & cap\\_share\\_for & cap\\_share\\_SOE & lab\\_share\\_for & lab\\_share\\_SOE & tso2\\_cit & tso2\\_i & tCOD\\_cit & twaste\\_water\\_cit & polluted\\_di & polluted\\_mi & polluted\\_thre & FE\\_c\\_i & FE\\_t\\_i & FE\\_t\\_c & Herfindahl & \\_merge & df\\_herfhindal\\_final & concentrated\\_25 & concentrated\\_50 & concentrated\\_75 & concentrated\\_85\\\\\n",
       " <dbl> & <fct> & <fct> & <fct> & <fct> & <lgl> & <fct> & <dbl> & <fct> & <dbl> & <fct> & <dbl> & <dbl> & <fct> & <dbl> & <dbl> & <dbl> & <dbl> & <dbl> & <dbl> & <dbl> & <dbl> & <dbl> & <dbl> & <dbl> & <dbl> & <dbl> & <fct> & <fct> & <fct> & <fct> & <fct> & <fct> & <dbl> & <fct> & <dbl> & <fct> & <fct> & <fct> & <fct>\\\\\n",
       "\\hline\n",
       "\t 2002 & Before & Shanxi    & Central   & Central & FALSE & Yuncheng & 1408 & TCZ    & 0.48502998 & Above & 3329 & 33 & Smelting Non-ferrous Metals & 0.0006870 & 0.0002926 & 0.00036 & 0.1264807 & 0.02756701 & 0.1626764 & 0.2210178 & 0.1841305 & 0.1134672 & 24500 & 168934.5 &     0 &    500 & Above & Below & Above & 11104 & 1573 & 889 &  1 & both      & 1 & CONCENTRATED     & CONCENTRATED     & CONCENTRATED     & CONCENTRATED    \\\\\n",
       "\t 2006 & After  & Hunan     & Central   & Central & FALSE & Xiangtan & 4303 & TCZ    & 0.09275420 & Below & 3329 & 33 & Smelting Non-ferrous Metals & 0.0009500 & 0.0001481 & 0.00023 & 0.1264807 & 0.02756701 & 0.1626764 & 0.2210178 & 0.1841305 & 0.1134672 &  2304 & 168934.5 &     0 &    300 & Above & Below & Above & 11105 & 1574 & 420 &  1 & both      & 1 & CONCENTRATED     & CONCENTRATED     & CONCENTRATED     & CONCENTRATED    \\\\\n",
       "\t 2007 & After  & Hunan     & Central   & Central & FALSE & Xiangtan & 4303 & TCZ    & 0.09275420 & Below & 3329 & 33 & Smelting Non-ferrous Metals & 0.0017150 & 0.0003650 & 0.00023 & 0.1264807 & 0.02756701 & 0.1626764 & 0.2210178 & 0.1841305 & 0.1134672 &  2304 & 168934.5 &     0 &    240 & Above & Below & Above & 11105 & 1572 & 421 &  1 & both      & 1 & CONCENTRATED     & CONCENTRATED     & CONCENTRATED     & CONCENTRATED    \\\\\n",
       "\t 2007 & After  & Liaoning  & Northeast & Eastern &  TRUE & Jinzhou  & 2107 & TCZ    & 0.08051164 & Below & 3329 & 33 & Smelting Non-ferrous Metals & 0.0077300 & 0.0012959 & 0.00089 & 0.1264807 & 0.02756701 & 0.1626764 & 0.2210178 & 0.1841305 & 0.1134672 &  3200 & 168934.5 &     0 &      0 & Above & Below & Above & 11103 & 1572 & 287 & NA & left\\_only & 0 & NOT\\_CONCENTRATED & NOT\\_CONCENTRATED & NOT\\_CONCENTRATED & NOT\\_CONCENTRATED\\\\\n",
       "\t 2002 & Before & Liaoning  & Northeast & Eastern &  TRUE & Shenyang & 2101 & TCZ    & 0.23007570 & Above & 3329 & 33 & Smelting Non-ferrous Metals & 0.0009967 & 0.0000516 & 0.00135 & 0.1264807 & 0.02756701 & 0.1626764 & 0.2210178 & 0.1841305 & 0.1134672 &  3840 & 168934.5 &     0 &   3500 & Above & Below & Above & 11106 & 1573 & 432 &  1 & both      & 1 & CONCENTRATED     & CONCENTRATED     & CONCENTRATED     & CONCENTRATED    \\\\\n",
       "\t 2002 & Before & Guangdong & Coastal   & Eastern &  TRUE & Meizhou  & 4414 & No\\_TCZ & 0.02596999 & Below & 3329 & 33 & Smelting Non-ferrous Metals & 0.0002903 & 0.0013790 & 0.00125 & 0.1264807 & 0.02756701 & 0.1626764 & 0.2210178 & 0.1841305 & 0.1134672 & 72752 & 168934.5 & 15500 & 115000 & Above & Below & Above & 11107 & 1573 & 909 &  1 & both      & 1 & CONCENTRATED     & CONCENTRATED     & CONCENTRATED     & CONCENTRATED    \\\\\n",
       "\\end{tabular}\n"
      ],
      "text/markdown": [
       "\n",
       "A data.frame: 6 × 40\n",
       "\n",
       "| year &lt;dbl&gt; | Period &lt;fct&gt; | Province_en &lt;fct&gt; | Lower_location &lt;fct&gt; | Larger_location &lt;fct&gt; | Coastal &lt;lgl&gt; | cityen &lt;fct&gt; | geocode4_corr &lt;dbl&gt; | TCZ_c &lt;fct&gt; | target_c &lt;dbl&gt; | ⋯ ⋯ | FE_c_i &lt;fct&gt; | FE_t_i &lt;fct&gt; | FE_t_c &lt;fct&gt; | Herfindahl &lt;dbl&gt; | _merge &lt;fct&gt; | df_herfhindal_final &lt;dbl&gt; | concentrated_25 &lt;fct&gt; | concentrated_50 &lt;fct&gt; | concentrated_75 &lt;fct&gt; | concentrated_85 &lt;fct&gt; |\n",
       "|---|---|---|---|---|---|---|---|---|---|---|---|---|---|---|---|---|---|---|---|---|\n",
       "| 2002 | Before | Shanxi    | Central   | Central | FALSE | Yuncheng | 1408 | TCZ    | 0.48502998 | ⋯ | 11104 | 1573 | 889 |  1 | both      | 1 | CONCENTRATED     | CONCENTRATED     | CONCENTRATED     | CONCENTRATED     |\n",
       "| 2006 | After  | Hunan     | Central   | Central | FALSE | Xiangtan | 4303 | TCZ    | 0.09275420 | ⋯ | 11105 | 1574 | 420 |  1 | both      | 1 | CONCENTRATED     | CONCENTRATED     | CONCENTRATED     | CONCENTRATED     |\n",
       "| 2007 | After  | Hunan     | Central   | Central | FALSE | Xiangtan | 4303 | TCZ    | 0.09275420 | ⋯ | 11105 | 1572 | 421 |  1 | both      | 1 | CONCENTRATED     | CONCENTRATED     | CONCENTRATED     | CONCENTRATED     |\n",
       "| 2007 | After  | Liaoning  | Northeast | Eastern |  TRUE | Jinzhou  | 2107 | TCZ    | 0.08051164 | ⋯ | 11103 | 1572 | 287 | NA | left_only | 0 | NOT_CONCENTRATED | NOT_CONCENTRATED | NOT_CONCENTRATED | NOT_CONCENTRATED |\n",
       "| 2002 | Before | Liaoning  | Northeast | Eastern |  TRUE | Shenyang | 2101 | TCZ    | 0.23007570 | ⋯ | 11106 | 1573 | 432 |  1 | both      | 1 | CONCENTRATED     | CONCENTRATED     | CONCENTRATED     | CONCENTRATED     |\n",
       "| 2002 | Before | Guangdong | Coastal   | Eastern |  TRUE | Meizhou  | 4414 | No_TCZ | 0.02596999 | ⋯ | 11107 | 1573 | 909 |  1 | both      | 1 | CONCENTRATED     | CONCENTRATED     | CONCENTRATED     | CONCENTRATED     |\n",
       "\n"
      ],
      "text/plain": [
       "  year Period Province_en Lower_location Larger_location Coastal cityen  \n",
       "1 2002 Before Shanxi      Central        Central         FALSE   Yuncheng\n",
       "2 2006 After  Hunan       Central        Central         FALSE   Xiangtan\n",
       "3 2007 After  Hunan       Central        Central         FALSE   Xiangtan\n",
       "4 2007 After  Liaoning    Northeast      Eastern          TRUE   Jinzhou \n",
       "5 2002 Before Liaoning    Northeast      Eastern          TRUE   Shenyang\n",
       "6 2002 Before Guangdong   Coastal        Eastern          TRUE   Meizhou \n",
       "  geocode4_corr TCZ_c  target_c   ⋯ FE_c_i FE_t_i FE_t_c Herfindahl _merge   \n",
       "1 1408          TCZ    0.48502998 ⋯ 11104  1573   889     1         both     \n",
       "2 4303          TCZ    0.09275420 ⋯ 11105  1574   420     1         both     \n",
       "3 4303          TCZ    0.09275420 ⋯ 11105  1572   421     1         both     \n",
       "4 2107          TCZ    0.08051164 ⋯ 11103  1572   287    NA         left_only\n",
       "5 2101          TCZ    0.23007570 ⋯ 11106  1573   432     1         both     \n",
       "6 4414          No_TCZ 0.02596999 ⋯ 11107  1573   909     1         both     \n",
       "  df_herfhindal_final concentrated_25  concentrated_50  concentrated_75 \n",
       "1 1                   CONCENTRATED     CONCENTRATED     CONCENTRATED    \n",
       "2 1                   CONCENTRATED     CONCENTRATED     CONCENTRATED    \n",
       "3 1                   CONCENTRATED     CONCENTRATED     CONCENTRATED    \n",
       "4 0                   NOT_CONCENTRATED NOT_CONCENTRATED NOT_CONCENTRATED\n",
       "5 1                   CONCENTRATED     CONCENTRATED     CONCENTRATED    \n",
       "6 1                   CONCENTRATED     CONCENTRATED     CONCENTRATED    \n",
       "  concentrated_85 \n",
       "1 CONCENTRATED    \n",
       "2 CONCENTRATED    \n",
       "3 CONCENTRATED    \n",
       "4 NOT_CONCENTRATED\n",
       "5 CONCENTRATED    \n",
       "6 CONCENTRATED    "
      ]
     },
     "metadata": {},
     "output_type": "display_data"
    }
   ],
   "source": [
    "path = \"functions/SBC_pollution_R.R\"\n",
    "source(path)\n",
    "path = \"functions/SBC_pollutiuon_golatex.R\"\n",
    "source(path)\n",
    "\n",
    "df_final <- df_herfhindal_final %>% \n",
    "    mutate_if(is.character, as.factor) %>%\n",
    "    mutate_at(vars(starts_with(\"FE\")), as.factor) %>%\n",
    "    mutate(\n",
    "         Period = relevel(Period, ref='Before'),\n",
    "         TCZ_c = relevel(TCZ_c, ref='No_TCZ'),\n",
    "         effort_c = relevel(effort_c, ref='Below'),\n",
    "         polluted_di = relevel(polluted_di, ref='Below'),\n",
    "         polluted_mi = relevel(polluted_mi, ref='Below'),\n",
    "         polluted_thre = relevel(polluted_thre, ref='Below'),\n",
    "         concentrated_25 = relevel(concentrated_25, ref='NOT_CONCENTRATED'),\n",
    "         concentrated_50 = relevel(concentrated_50, ref='NOT_CONCENTRATED'),\n",
    "         concentrated_75 = relevel(concentrated_75, ref='NOT_CONCENTRATED'),\n",
    "         concentrated_85 = relevel(concentrated_85, ref='NOT_CONCENTRATED'),\n",
    "  )\n",
    "head(df_final)"
   ]
  },
  {
   "cell_type": "markdown",
   "metadata": {
    "Collapsed": "false",
    "kernel": "R"
   },
   "source": [
    "### 07: Sector Concentration: city-industry\n",
    "\n",
    "Interaction with a concentration dummy\n",
    "\n",
    "Output latex table available here\n",
    "\n",
    "- https://www.overleaf.com/project/5deca0097e9f3a0001506527\n",
    "    - 07_concentration_city_ind\n",
    "\n",
    "In Google Drive:\n",
    "\n",
    "![](https://drive.google.com/uc?export=view&id=1FkB09EXfUmsxOsHd8FfWN4rDoX8Gtq97)"
   ]
  },
  {
   "cell_type": "markdown",
   "metadata": {
    "Collapsed": "false",
    "kernel": "R"
   },
   "source": [
    "#### Code"
   ]
  },
  {
   "cell_type": "code",
   "execution_count": 37,
   "metadata": {
    "Collapsed": "false",
    "kernel": "R"
   },
   "outputs": [],
   "source": [
    "t1 <- felm(formula=log(tso2_cit) ~ TCZ_c * Period * polluted_thre * concentrated_25\n",
    "                  + output_fcit + capital_fcit + labour_fcit\n",
    "                  |\n",
    "             cityen +  year + industry | 0 |\n",
    "             industry, data= df_final,\n",
    "             exactDOF=TRUE)\n",
    "\n",
    "t2 <- felm(formula=log(tso2_cit) ~ TCZ_c * Period *polluted_thre * concentrated_50\n",
    "                  + output_fcit + capital_fcit + labour_fcit\n",
    "                  |\n",
    "             cityen +  year + industry | 0 |\n",
    "             industry, data= df_final,\n",
    "             exactDOF=TRUE)\n",
    "\n",
    "t3 <- felm(formula=log(tso2_cit) ~ TCZ_c * Period *polluted_thre * concentrated_75\n",
    "                  + output_fcit + capital_fcit + labour_fcit\n",
    "                  |\n",
    "               cityen +  year + industry | 0 |\n",
    "             industry, data= df_final,\n",
    "             exactDOF=TRUE)\n",
    "\n",
    "t4 <- felm(formula=log(tso2_cit) ~ TCZ_c * Period *polluted_thre * concentrated_85\n",
    "                  + output_fcit + capital_fcit + labour_fcit\n",
    "                  |\n",
    "               cityen +  year + industry | 0 |\n",
    "             industry, data= df_final,\n",
    "             exactDOF=TRUE)\n",
    "\n",
    "t5 <- felm(formula=log(tso2_cit) ~ TCZ_c * Period * polluted_thre * concentrated_25\n",
    "                  + output_fcit + capital_fcit + labour_fcit\n",
    "                  |\n",
    "             FE_t_c + FE_t_i + FE_c_i | 0 |\n",
    "             industry, data= df_final,\n",
    "             exactDOF=TRUE)\n",
    "\n",
    "t6 <- felm(formula=log(tso2_cit) ~ TCZ_c * Period *polluted_thre * concentrated_50\n",
    "                  + output_fcit + capital_fcit + labour_fcit\n",
    "                  |\n",
    "             FE_t_c + FE_t_i + FE_c_i | 0 |\n",
    "             industry, data= df_final,\n",
    "             exactDOF=TRUE)\n",
    "\n",
    "t7 <- felm(formula=log(tso2_cit) ~ TCZ_c * Period *polluted_thre * concentrated_75\n",
    "                  + output_fcit + capital_fcit + labour_fcit\n",
    "                  |\n",
    "               FE_t_c + FE_t_i + FE_c_i | 0 |\n",
    "             industry, data= df_final,\n",
    "             exactDOF=TRUE)\n",
    "\n",
    "t8 <- felm(formula=log(tso2_cit) ~ TCZ_c * Period *polluted_thre * concentrated_85\n",
    "                  + output_fcit + capital_fcit + labour_fcit\n",
    "                  |\n",
    "               FE_t_c + FE_t_i + FE_c_i | 0 |\n",
    "             industry, data= df_final,\n",
    "             exactDOF=TRUE)\n",
    "\n",
    "fe1 <- list(\n",
    "             c(\"City-year fixed effects\", \"No\", \"No\", \"No\", \"No\", \"Yes\", \"Yes\", \"Yes\", \"Yes\"),\n",
    "             c(\"Industry-year fixed effects\", \"No\", \"No\", \"No\", \"No\", \"Yes\", \"Yes\", \"Yes\", \"Yes\"),\n",
    "             c(\"City-industry fixed effects\", \"No\", \"No\", \"No\", \"No\", \"Yes\", \"Yes\", \"Yes\", \"Yes\")\n",
    "             )\n",
    "\n",
    "table_1 <- go_latex(list(\n",
    "    t1, t2, t3,t4, t5, t6, t7, t8\n",
    "),\n",
    "    title='Baseline results revision: concentration city-industry',\n",
    "    addFE=fe1,\n",
    "    save=TRUE,\n",
    "    name=\"table_2.txt\"\n",
    ")"
   ]
  },
  {
   "cell_type": "code",
   "execution_count": 38,
   "metadata": {
    "Collapsed": "false",
    "kernel": "python3"
   },
   "outputs": [
    {
     "name": "stdout",
     "output_type": "stream",
     "text": [
      "The autoreload extension is already loaded. To reload it, use:\n",
      "  %reload_ext autoreload\n"
     ]
    }
   ],
   "source": [
    "import functions.latex_beautify as lb\n",
    "\n",
    "%load_ext autoreload\n",
    "%autoreload 2"
   ]
  },
  {
   "cell_type": "code",
   "execution_count": 39,
   "metadata": {
    "Collapsed": "false",
    "kernel": "python3"
   },
   "outputs": [],
   "source": [
    "import os\n",
    "try:\n",
    "    os.remove(\"table_2.tex\")\n",
    "except:\n",
    "    pass\n",
    "lb.beautify(table_number = 2, constraint = False, city_industry = True)"
   ]
  },
  {
   "cell_type": "markdown",
   "metadata": {
    "Collapsed": "false",
    "kernel": "python3"
   },
   "source": [
    "### 08: Sector Concentration and output share: city-industry\n",
    "\n",
    "Interaction with a concentration dummy and include SOE output share\n",
    "\n",
    "Output latex table available here\n",
    "\n",
    "- https://www.overleaf.com/project/5deca0097e9f3a0001506527\n",
    "    - 08_concentrated_ind_SOE_city_ind\n",
    "\n",
    "In Google Drive:\n",
    "\n",
    "![](https://drive.google.com/uc?export=view&id=1_WqkGLG26pLXNNRPRRDRmQII4p7n0mIp)"
   ]
  },
  {
   "cell_type": "markdown",
   "metadata": {
    "Collapsed": "false",
    "kernel": "python3"
   },
   "source": [
    "#### Code"
   ]
  },
  {
   "cell_type": "code",
   "execution_count": 40,
   "metadata": {
    "Collapsed": "false",
    "kernel": "R"
   },
   "outputs": [],
   "source": [
    "t1 <- felm(formula=log(tso2_cit) ~ TCZ_c * Period * polluted_thre * concentrated_25\n",
    "           +TCZ_c * Period *polluted_thre * out_share_SOE\n",
    "                  + output_fcit + capital_fcit + labour_fcit\n",
    "                  |\n",
    "             cityen +  year + industry | 0 |\n",
    "             industry, data= df_final,\n",
    "             exactDOF=TRUE)\n",
    "\n",
    "t2 <- felm(formula=log(tso2_cit) ~ TCZ_c * Period *polluted_thre * concentrated_50\n",
    "           +TCZ_c * Period *polluted_thre * out_share_SOE\n",
    "                  + output_fcit + capital_fcit + labour_fcit\n",
    "                  |\n",
    "             cityen +  year + industry | 0 |\n",
    "             industry, data= df_final,\n",
    "             exactDOF=TRUE)\n",
    "\n",
    "t3 <- felm(formula=log(tso2_cit) ~ TCZ_c * Period *polluted_thre * concentrated_75\n",
    "           +TCZ_c * Period *polluted_thre * out_share_SOE\n",
    "                  + output_fcit + capital_fcit + labour_fcit\n",
    "                  |\n",
    "               cityen +  year + industry | 0 |\n",
    "             industry, data= df_final,\n",
    "             exactDOF=TRUE)\n",
    "\n",
    "t4 <- felm(formula=log(tso2_cit) ~ TCZ_c * Period *polluted_thre * concentrated_85\n",
    "           +TCZ_c * Period *polluted_thre * out_share_SOE\n",
    "           +TCZ_c * Period *polluted_thre * out_share_SOE\n",
    "                  + output_fcit + capital_fcit + labour_fcit\n",
    "                  |\n",
    "               cityen +  year + industry | 0 |\n",
    "             industry, data= df_final,\n",
    "             exactDOF=TRUE)\n",
    "\n",
    "t5 <- felm(formula=log(tso2_cit) ~ TCZ_c * Period * polluted_thre * concentrated_25\n",
    "           +TCZ_c * Period *polluted_thre * out_share_SOE\n",
    "                  + output_fcit + capital_fcit + labour_fcit\n",
    "                  |\n",
    "             FE_t_c + FE_t_i + FE_c_i | 0 |\n",
    "             industry, data= df_final,\n",
    "             exactDOF=TRUE)\n",
    "\n",
    "t6 <- felm(formula=log(tso2_cit) ~ TCZ_c * Period *polluted_thre * concentrated_50\n",
    "           +TCZ_c * Period *polluted_thre * out_share_SOE\n",
    "                  + output_fcit + capital_fcit + labour_fcit\n",
    "                  |\n",
    "             FE_t_c + FE_t_i + FE_c_i | 0 |\n",
    "             industry, data= df_final,\n",
    "             exactDOF=TRUE)\n",
    "\n",
    "t7 <- felm(formula=log(tso2_cit) ~ TCZ_c * Period *polluted_thre * concentrated_75\n",
    "           +TCZ_c * Period *polluted_thre * out_share_SOE\n",
    "                  + output_fcit + capital_fcit + labour_fcit\n",
    "                  |\n",
    "               FE_t_c + FE_t_i + FE_c_i | 0 |\n",
    "             industry, data= df_final,\n",
    "             exactDOF=TRUE)\n",
    "\n",
    "t8 <- felm(formula=log(tso2_cit) ~ TCZ_c * Period *polluted_thre * concentrated_85\n",
    "           +TCZ_c * Period *polluted_thre * out_share_SOE\n",
    "                  + output_fcit + capital_fcit + labour_fcit\n",
    "                  |\n",
    "               FE_t_c + FE_t_i + FE_c_i | 0 |\n",
    "             industry, data= df_final,\n",
    "             exactDOF=TRUE)\n",
    "\n",
    "fe1 <- list(\n",
    "             c(\"City-year fixed effects\", \"No\", \"No\", \"No\", \"No\", \"Yes\", \"Yes\", \"Yes\", \"Yes\"),\n",
    "             c(\"Industry-year fixed effects\", \"No\", \"No\", \"No\", \"No\", \"Yes\", \"Yes\", \"Yes\", \"Yes\"),\n",
    "             c(\"City-industry fixed effects\", \"No\", \"No\", \"No\", \"No\", \"Yes\", \"Yes\", \"Yes\", \"Yes\")\n",
    "             )\n",
    "\n",
    "table_1 <- go_latex(list(\n",
    "    t1, t2, t3,t4, t5, t6, t7, t8\n",
    "),\n",
    "    title='Baseline results revision',\n",
    "    addFE=fe1,\n",
    "    save=TRUE,\n",
    "    name=\"table_3.txt\"\n",
    ")"
   ]
  },
  {
   "cell_type": "code",
   "execution_count": 41,
   "metadata": {
    "Collapsed": "false",
    "kernel": "python3"
   },
   "outputs": [],
   "source": [
    "import os\n",
    "try:\n",
    "    os.remove(\"table_3.tex\")\n",
    "except:\n",
    "    pass\n",
    "lb.beautify(table_number = 3, constraint = False, city_industry = True)"
   ]
  },
  {
   "cell_type": "markdown",
   "metadata": {
    "Collapsed": "false",
    "kernel": "python3"
   },
   "source": [
    "### 09: Sector Concentration, continuous var and share SOE: city-industry\n",
    "\n",
    "Use Herfindhal value and interact it with different SOE share\n",
    "\n",
    "Output latex table available here\n",
    "\n",
    "- https://www.overleaf.com/project/5deca0097e9f3a0001506527\n",
    "    - 09_conc_ind_soe_city_ind\n",
    "\n",
    "In Google Drive:\n",
    "\n",
    "![](https://drive.google.com/uc?export=view&id=18qgSIo_0ZTeuXXDsf6MTnEDZjYJoD0ab)"
   ]
  },
  {
   "cell_type": "markdown",
   "metadata": {
    "Collapsed": "false",
    "kernel": "python3"
   },
   "source": [
    "#### Code"
   ]
  },
  {
   "cell_type": "code",
   "execution_count": 42,
   "metadata": {
    "Collapsed": "false",
    "kernel": "R"
   },
   "outputs": [],
   "source": [
    "t1 <- felm(formula=log(tso2_cit) ~ TCZ_c * Period * polluted_thre * Herfindahl\n",
    "           +TCZ_c * Period *polluted_thre * out_share_SOE\n",
    "                  + output_fcit + capital_fcit + labour_fcit\n",
    "                  |\n",
    "             cityen +  year + industry | 0 |\n",
    "             industry, data= df_final,\n",
    "             exactDOF=TRUE)\n",
    "\n",
    "t2 <- felm(formula=log(tso2_cit) ~ TCZ_c * Period * polluted_thre * Herfindahl\n",
    "           +TCZ_c * Period *polluted_thre * cap_share_SOE\n",
    "                  + output_fcit + capital_fcit + labour_fcit\n",
    "                  |\n",
    "             cityen +  year + industry | 0 |\n",
    "             industry, data= df_final,\n",
    "             exactDOF=TRUE)\n",
    "\n",
    "t3 <- felm(formula=log(tso2_cit) ~ TCZ_c * Period * polluted_thre * Herfindahl\n",
    "           +TCZ_c * Period *polluted_thre * lab_share_SOE\n",
    "                  + output_fcit + capital_fcit + labour_fcit\n",
    "                  |\n",
    "             cityen +  year + industry | 0 |\n",
    "             industry, data= df_final,\n",
    "             exactDOF=TRUE)\n",
    "\n",
    "t4 <- felm(formula=log(tso2_cit) ~ TCZ_c * Period * polluted_thre * Herfindahl\n",
    "           +TCZ_c * Period *polluted_thre * out_share_SOE\n",
    "                  + output_fcit + capital_fcit + labour_fcit\n",
    "                  |\n",
    "              FE_t_c + FE_t_i + FE_c_i | 0 |\n",
    "             industry, data= df_final,\n",
    "             exactDOF=TRUE)\n",
    "\n",
    "t5 <- felm(formula=log(tso2_cit) ~ TCZ_c * Period * polluted_thre * Herfindahl\n",
    "           +TCZ_c * Period *polluted_thre * cap_share_SOE\n",
    "                  + output_fcit + capital_fcit + labour_fcit\n",
    "                  |\n",
    "              FE_t_c + FE_t_i + FE_c_i | 0 |\n",
    "             industry, data= df_final,\n",
    "             exactDOF=TRUE)\n",
    "\n",
    "t6 <- felm(formula=log(tso2_cit) ~ TCZ_c * Period * polluted_thre * Herfindahl\n",
    "           +TCZ_c * Period *polluted_thre * lab_share_SOE\n",
    "                  + output_fcit + capital_fcit + labour_fcit\n",
    "                  |\n",
    "              FE_t_c + FE_t_i + FE_c_i | 0 |\n",
    "             industry, data= df_final,\n",
    "             exactDOF=TRUE)\n",
    "\n",
    "fe1 <- list(c(\"City fixed effects\", \"Yes\", \"Yes\", \"Yes\", \"No\", \"No\", \"No\"),\n",
    "             c(\"Industry fixed effects\", \"Yes\", \"Yes\", \"Yes\", \"No\", \"No\", \"No\"),\n",
    "             c(\"Yes fixed effects\",\"Yes\", \"Yes\", \"Yes\", \"No\", \"No\", \"No\"),\n",
    "             c(\"City-year fixed effects\", \"No\", \"No\", \"No\",\"Yes\", \"Yes\",\"Yes\"),\n",
    "             c(\"Industry-year fixed effects\", \"No\", \"No\", \"No\", \"Yes\", \"Yes\",\"Yes\"),\n",
    "             c(\"City-industry fixed effects\", \"No\", \"No\", \"No\", \"Yes\", \"Yes\",\"Yes\")\n",
    "             )\n",
    "\n",
    "table_1 <- go_latex(list(\n",
    "    t1,\n",
    "    t2,\n",
    "    t3,\n",
    "    t4,\n",
    "    t5,\n",
    "    t6\n",
    "),\n",
    "    title='Baseline results revision: concentration',\n",
    "    addFE=fe1,\n",
    "    save=TRUE,\n",
    "    name=\"table_4.txt\"\n",
    ")"
   ]
  },
  {
   "cell_type": "code",
   "execution_count": 43,
   "metadata": {
    "Collapsed": "false",
    "kernel": "python3"
   },
   "outputs": [],
   "source": [
    "import os\n",
    "try:\n",
    "    os.remove(\"table_4.tex\")\n",
    "except:\n",
    "    pass\n",
    "lb.beautify(table_number = 4, constraint = False, city_industry = True)"
   ]
  }
 ],
 "metadata": {
  "jupytext": {
   "formats": "ipynb,md"
  },
  "kernelspec": {
   "display_name": "SoS",
   "language": "sos",
   "name": "sos"
  },
  "language_info": {
   "codemirror_mode": "sos",
   "file_extension": ".sos",
   "mimetype": "text/x-sos",
   "name": "sos",
   "nbconvert_exporter": "sos_notebook.converter.SoS_Exporter",
   "pygments_lexer": "sos"
  },
  "sos": {
   "kernels": [
    [
     "R",
     "ir",
     "R",
     "#DCDCDA",
     "r"
    ],
    [
     "SoS",
     "sos",
     "",
     "",
     "sos"
    ],
    [
     "python3",
     "python3",
     "python3",
     "",
     {
      "name": "ipython",
      "version": 3
     }
    ]
   ],
   "version": "0.20.6"
  }
 },
 "nbformat": 4,
 "nbformat_minor": 4
}
