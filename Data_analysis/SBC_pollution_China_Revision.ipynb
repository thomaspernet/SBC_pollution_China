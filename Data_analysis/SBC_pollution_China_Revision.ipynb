{
 "cells": [
  {
   "cell_type": "markdown",
   "metadata": {
    "kernel": "SoS"
   },
   "source": [
    "# SBC_pollution_China Revision Paper\n",
    "\n",
    "Here is the link with all the revisions:\n",
    "\n",
    "- https://coda.io/d/SoftBudgetConstraint_dD-uOwatzMS/Revision_suYyi#_luGfQ\n",
    "\n",
    "- Notebook also available here in html format:\n",
    "    - https://htmlpreview.github.io/?https://github.com/thomaspernet/SBC_pollution_China/blob/master/Data_analysis/SBC_pollution_China_Revision.html\n",
    "\n",
    "## Revision table \n",
    "\n",
    "| Comments_by | URL      | People          | Comments                                                                                                                                                                                                                                                 |\n",
    "|-------------|----------|-----------------|----------------------------------------------------------------------------------------------------------------------------------------------------------------------------------------------------------------------------------------------------------|\n",
    "| Author 1    | Revision | Thomas,Mathilde | Je réfléchis à ce que nous pourrions faire ici, c'est en effet un point intéressant.                                                                                                                                                                     |\n",
    "| Author 1    | Revision | Thomas          | Pouvez vous me rassurer sur ce point? Tos les termes d'interaction sont ils dans l'équation? Je me souviens que nous en avions parlé en effet. J'espère qu'il n'y a pas d'erreurs et que nous pouvons justifier. C'est discutable. Mais on peut essayer. |\n",
    "| Author 1    | Revision | Mathilde        | Je ré-écrirai.                                                                                                                                                                                                                                           |\n",
    "| Author 1    | Revision |                 | Avons nous ces informations? Si non peut on les trouver?                                                                                                                                                                                                 |\n",
    "| Author 1    | Revision |                 | TCZ et Target sont indépendants n'est ce pas?                                                                                                                                                                                                            |\n",
    "| Author 1    | Revision |                 |                                                                                                                                                                                                                                                          |\n",
    "| Author 1    | Revision |                 | Il faut reformuler ici.                                                                                                                                                                                                                                  |\n",
    "| Author 2    | Revision | Thomas          | Avons nous des entreprises étrangères dans l'échantillon?                                                                                                                                                                                                |\n",
    "| Author 2    | Revision | Thomas          | Oui je suppose, pouvez vous regarder?                                                                                                                                                                                                                    |\n",
    "| Author 2    | Revision | Thomas          | Pouvez vous faire ce test?                                                                                                                                                                                                                               |\n",
    "| Author 2    | Revision | Thomas          | Pouvez vous corriger ce point?                                                                                                                                                                                                                           |\n",
    "| Author 2    | Revision | Mathilde        | Très bon commentaire, je m'en occupe.                                                                                                                                                                                                                    |\n",
    "\n",
    "## Proposal \n",
    "\n",
    "The proposal is available [here](https://drive.google.com/open?id=1tmSFvdUMXcL3vMKBSNYmf5xe6OEmYNnD)\n",
    "\n",
    "### Equation to estimate\n",
    "\n",
    "$$\n",
    "\\begin{aligned} \\text { SO2 emission }_{i k t}=& \\alpha T C Z_{i} \\times \\text { Polluted sectors }_{k} \\times \\text { post } \\\\ &+\\beta T C Z_{i} \\times \\text { Polluted sectors }_{k} \\times \\text { post } \\times \\text { Share Foreign }_{k} \\\\ & +\\theta {X}_{i k t}+\\nu_{c i}+\\lambda_{t i} +\\phi_{t c} +\\epsilon_{ikt} \\end{aligned}\n",
    "$$\n",
    "\n",
    "city-industry; time-industry and time-city"
   ]
  },
  {
   "cell_type": "markdown",
   "metadata": {
    "kernel": "SoS"
   },
   "source": [
    "# Revision"
   ]
  },
  {
   "cell_type": "markdown",
   "metadata": {
    "kernel": "SoS"
   },
   "source": [
    "## Load the data"
   ]
  },
  {
   "cell_type": "code",
   "execution_count": null,
   "metadata": {
    "kernel": "SoS"
   },
   "outputs": [],
   "source": [
    "import pandas as pd\n",
    "from Fast_connectCloud import connector\n",
    "import numpy as np\n",
    "\n",
    "gs = connector.open_connection(online_connection = False,\n",
    "                              path_credential = '/Users/thomas/Google Drive/Projects/Data_science/Google_code_n_Oauth/Client_Oauth/Google_auth/')\n",
    "service = gs.connect_remote('GCP')\n"
   ]
  },
  {
   "cell_type": "markdown",
   "metadata": {
    "kernel": "SoS"
   },
   "source": [
    "### Load SBC_pollution_China from Google Big Query\n",
    "\n",
    "Feel free to add description about the dataset or any usefull information."
   ]
  },
  {
   "cell_type": "code",
   "execution_count": null,
   "metadata": {
    "kernel": "SoS"
   },
   "outputs": [],
   "source": [
    "%put df_final --to R\n",
    "\n",
    "from GoogleDrivePy.google_platform import connect_cloud_platform\n",
    "project = 'valid-pagoda-132423'\n",
    "gcp = connect_cloud_platform.connect_console(project = project, \n",
    "                                             service_account = service['GoogleCloudP'])    \n",
    "query = (\n",
    "          \"SELECT * \"\n",
    "            \"FROM China.SBC_pollution_China \"\n",
    "\n",
    "        )\n",
    "df_final = gcp.upload_data_from_bigquery(query = query, location = 'US')\n"
   ]
  },
  {
   "cell_type": "markdown",
   "metadata": {
    "kernel": "SoS"
   },
   "source": [
    "### Load Herfindahl_China_cic_city from Google Big Query\n",
    "\n",
    "Feel free to add description about the dataset or any usefull information."
   ]
  },
  {
   "cell_type": "code",
   "execution_count": null,
   "metadata": {
    "kernel": "SoS"
   },
   "outputs": [],
   "source": [
    "query_herfindhal = (\n",
    "          \"SELECT * \"\n",
    "            \"FROM China.Herfindahl_China_cic_city \"\n",
    "\n",
    "        )\n",
    "df_herfhindal = gcp.upload_data_from_bigquery(query = query_herfindhal,\n",
    "                                         location = 'US').rename(columns = {'cic':'industry',\n",
    "                                'cityen_correct':'cityen'})"
   ]
  },
  {
   "cell_type": "code",
   "execution_count": null,
   "metadata": {
    "kernel": "R"
   },
   "outputs": [],
   "source": [
    "\n",
    "options(warn=-1)\n",
    "library(tidyverse)\n",
    "library(lfe)\n",
    "library(lazyeval)\n",
    "library('progress')\n",
    "\n",
    "path = \"functions/SBC_pollution_R.R\"\n",
    "source(path)\n",
    "path = \"functions/SBC_pollutiuon_golatex.R\"\n",
    "source(path)\n",
    "\n",
    "df_final <- df_final %>% \n",
    "    mutate_if(is.character, as.factor) %>%\n",
    "    mutate_at(vars(starts_with(\"FE\")), as.factor) %>%\n",
    "    mutate(\n",
    "         Period = relevel(Period, ref='Before'),\n",
    "         TCZ_c = relevel(TCZ_c, ref='No_TCZ'),\n",
    "         effort_c = relevel(effort_c, ref='Below'),\n",
    "         polluted_di = relevel(polluted_di, ref='Below'),\n",
    "         polluted_mi = relevel(polluted_mi, ref='Below'),\n",
    "         polluted_thre = relevel(polluted_thre, ref='Below'),\n",
    "  )\n",
    "head(df_final)\n"
   ]
  },
  {
   "cell_type": "markdown",
   "metadata": {
    "kernel": "SoS"
   },
   "source": [
    "# Comment Empirical analysis:\n",
    "\n",
    "First of all, notice again that there is no convincing evidence that SOEs shifts the burden of the environmental adaptation to private firms. In most of the cases, there are interaction terms with three or even form variables in the regression equation. My major concern is if the authors have also included all the sublevel interaction terms in the regression. For instance, in equation (1), there is an interaction term of four variables, TCZi, Polluting sectorsk, Period, Share SOEk. However, it seems in table 3 not all the corresponding triple interaction terms (such as $TCZi *Polluting sectorsk *Share SOEk$) are controlled. \n",
    "\n",
    "## Answers:\n",
    "\n",
    "Compute the following equation to show the fixed effect tackle the \"missing\" coefficients\n",
    "\n",
    "$$EQUATION$$\n",
    "\n",
    "~CF this [paper](https://drive.google.com/file/d/1-SXSlRoS_2ZW7CK6XMhcXpJDPxAEF1xG/view)~ -> no need anymore\n"
   ]
  },
  {
   "cell_type": "code",
   "execution_count": null,
   "metadata": {
    "kernel": "python3"
   },
   "outputs": [],
   "source": [
    "import functions.latex_beautify as lb\n",
    "\n",
    "%load_ext autoreload\n",
    "%autoreload 2\n"
   ]
  },
  {
   "cell_type": "markdown",
   "metadata": {
    "kernel": "python3"
   },
   "source": [
    "## 01: All variables: Our new baseline\n",
    "\n",
    "Output latex table available here\n",
    "\n",
    "- https://www.overleaf.com/project/5deca0097e9f3a0001506527\n",
    "    - 01_baseline_revision\n",
    "\n",
    "In Google Drive:\n",
    "\n",
    "![](https://drive.google.com/uc?export=view&id=14x1fwM2cYZBSwyt2XQmb5t3VzCExUtRH)"
   ]
  },
  {
   "cell_type": "markdown",
   "metadata": {
    "kernel": "python3"
   },
   "source": [
    "### Codes"
   ]
  },
  {
   "cell_type": "code",
   "execution_count": null,
   "metadata": {
    "kernel": "R"
   },
   "outputs": [],
   "source": [
    "t0 <- felm(formula=log(tso2_cit) ~ TCZ_c * Period *polluted_thre * out_share_SOE\n",
    "                  + output_fcit + capital_fcit + labour_fcit\n",
    "                  |\n",
    "             cityen +  year + industry | 0 |\n",
    "             industry, data= df_final,\n",
    "             exactDOF=TRUE)\n",
    "\n",
    "t1 <- felm(formula=log(tso2_cit) ~ TCZ_c * Period *polluted_thre * cap_share_SOE\n",
    "                  + output_fcit + capital_fcit + labour_fcit\n",
    "                  |\n",
    "             cityen +  year + industry | 0 |\n",
    "             industry, data= df_final,\n",
    "             exactDOF=TRUE)\n",
    "\n",
    "t2 <- felm(formula=log(tso2_cit) ~ TCZ_c * Period *polluted_thre * lab_share_SOE\n",
    "                  + output_fcit + capital_fcit + labour_fcit\n",
    "                  |\n",
    "             cityen +  year + industry | 0 |\n",
    "             industry, data= df_final,\n",
    "             exactDOF=TRUE)\n",
    "\n",
    "t3 <- felm(formula=log(tso2_cit) ~ TCZ_c * Period *polluted_thre * out_share_SOE\n",
    "                  + output_fcit + capital_fcit + labour_fcit\n",
    "                  |\n",
    "             FE_t_c + FE_t_i + FE_c_i | 0 |\n",
    "             industry, data= df_final,\n",
    "             exactDOF=TRUE)\n",
    "\n",
    "t4 <- felm(formula=log(tso2_cit) ~ TCZ_c * Period *polluted_thre * cap_share_SOE\n",
    "                  + output_fcit + capital_fcit + labour_fcit\n",
    "                  |\n",
    "             FE_t_c + FE_t_i + FE_c_i | 0 |\n",
    "             industry, data= df_final,\n",
    "             exactDOF=TRUE)\n",
    "\n",
    "t5 <- felm(formula=log(tso2_cit) ~ TCZ_c * Period *polluted_thre * lab_share_SOE\n",
    "                  + output_fcit + capital_fcit + labour_fcit\n",
    "                  |\n",
    "             FE_t_c + FE_t_i + FE_c_i | 0 |\n",
    "             industry, data= df_final,\n",
    "             exactDOF=TRUE)\n",
    "\n",
    "fe1 <- list(c(\"City fixed effects\", \"Yes\", \"Yes\", \"Yes\", \"No\", \"No\", \"No\"),\n",
    "             c(\"Industry fixed effects\", \"Yes\", \"Yes\", \"Yes\", \"No\", \"No\", \"No\"),\n",
    "             c(\"Yes fixed effects\",\"Yes\", \"Yes\", \"Yes\", \"No\", \"No\", \"No\"),\n",
    "             c(\"City-year fixed effects\", \"No\", \"No\", \"No\",\"Yes\", \"Yes\",\"Yes\"),\n",
    "             c(\"Industry-year fixed effects\", \"No\", \"No\", \"No\", \"Yes\", \"Yes\",\"Yes\"),\n",
    "             c(\"City-industry fixed effects\", \"No\", \"No\", \"No\", \"Yes\", \"Yes\",\"Yes\")\n",
    "             )\n",
    "\n",
    "table_1 <- go_latex(list(\n",
    "    t0,\n",
    "    t1,\n",
    "    t2,\n",
    "    t3,\n",
    "    t4,\n",
    "    t5\n",
    "),\n",
    "    title='Baseline results revision',\n",
    "    addFE=fe1,\n",
    "    save=TRUE,\n",
    "    name=\"table_1.txt\"\n",
    ")\n",
    "\n"
   ]
  },
  {
   "cell_type": "code",
   "execution_count": null,
   "metadata": {
    "kernel": "python3"
   },
   "outputs": [],
   "source": [
    "\n",
    "import os\n",
    "try:\n",
    "    os.remove(\"table_1.tex\")\n",
    "except:\n",
    "    pass\n",
    "lb.beautify(table_number = 1, constraint = False)\n"
   ]
  },
  {
   "cell_type": "markdown",
   "metadata": {
    "kernel": "python3"
   },
   "source": [
    "## Foreign firms\n",
    "\n",
    " In particular, my main concern is that the author could explore the heterogeneity of response within the private sector and not only between the private and the state-owned sectors. Indeed, foreign firms may react differently to environmental constraints. They may be less sensitive to environmental regulations because they have cleaner technologies (see for instance: Dean et al., 2009, \"Are Foreign Investors Attracted to Weak Environmental Regulations? Evidence from China\", Journal of Development Economics). Another possibility is that foreign firms could negotiate with local authorities to obtain preferential treatment concerning the enforcement of environmental regulation (Wang et al., 2003, quoted in the paper)"
   ]
  },
  {
   "cell_type": "markdown",
   "metadata": {
    "kernel": "SoS"
   },
   "source": [
    "```sos kernel=\"R\"\n",
    "options(warn=-1)\n",
    "library(tidyverse)\n",
    "library(lfe)\n",
    "library(lazyeval)\n",
    "library('progress')\n",
    "```\n",
    "\n",
    "```sos kernel=\"SoS\"\n",
    "%put df_final --to R\n",
    "\n",
    "from GoogleDrivePy.google_platform import connect_cloud_platform\n",
    "project = 'valid-pagoda-132423'\n",
    "gcp = connect_cloud_platform.connect_console(project = project, \n",
    "                                             service_account = service['GoogleCloudP'])    \n",
    "\n",
    "query = (\n",
    "    \"SELECT * FROM China.SBC_pollution_China_foreign \"\n",
    ")\n",
    "\n",
    "df_final = gcp.upload_data_from_bigquery(query=query, location=\"US\").rename(columns = {\n",
    "    'out_share_soe1':'out_share_SOE',\n",
    "    'cap_share_soe1':'cap_share_SOE',\n",
    "    'lab_share_soe1':'lab_share_SOE',\n",
    "})\n",
    "df_final.head()\n",
    "```\n",
    "\n",
    "```sos kernel=\"R\"\n",
    "path = \"functions/SBC_pollution_R.R\"\n",
    "source(path)\n",
    "path = \"functions/SBC_pollutiuon_golatex.R\"\n",
    "source(path)\n",
    "\n",
    "df_final <- df_final %>% \n",
    "    mutate_if(is.character, as.factor) %>%\n",
    "    mutate_at(vars(starts_with(\"FE\")), as.factor) %>%\n",
    "    mutate(\n",
    "         Period = relevel(Period, ref='Before'),\n",
    "         TCZ_c = relevel(TCZ_c, ref='No_TCZ'),\n",
    "         effort_c = relevel(effort_c, ref='Below'),\n",
    "         polluted_di = relevel(polluted_di, ref='Below'),\n",
    "         polluted_mi = relevel(polluted_mi, ref='Below'),\n",
    "         polluted_thre = relevel(polluted_thre, ref='Below'),\n",
    "  )\n",
    "head(df_final)\n",
    "```"
   ]
  },
  {
   "cell_type": "markdown",
   "metadata": {
    "kernel": "R"
   },
   "source": [
    "## 02 Foreign-SOE\n",
    "\n",
    "In this table, foreign and SOE share\n",
    "\n",
    "Output latex table available here\n",
    "\n",
    "- https://www.overleaf.com/project/5deca0097e9f3a0001506527\n",
    "    - 02_foreign_SOE\n",
    "\n",
    "In Google Drive:\n",
    "\n",
    "![](https://drive.google.com/uc?export=view&id=1KttrgK0dzsnh4-9bInpyvtKgTOyXewPo)"
   ]
  },
  {
   "cell_type": "markdown",
   "metadata": {
    "kernel": "R"
   },
   "source": [
    "### Code"
   ]
  },
  {
   "cell_type": "markdown",
   "metadata": {
    "kernel": "SoS"
   },
   "source": [
    "```sos kernel=\"python3\"\n",
    "import functions.latex_beautify as lb\n",
    "\n",
    "%load_ext autoreload\n",
    "%autoreload 2\n",
    "```\n",
    "\n",
    "```sos kernel=\"R\"\n",
    "t1 <- felm(formula=log(tso2_cit) ~ TCZ_c * Period * polluted_thre * out_share_for\t\n",
    "             + TCZ_c * Period * polluted_thre * out_share_SOE\n",
    "                  + output_fcit + capital_fcit + labour_fcit\n",
    "                  |\n",
    "             cityen +  year + industry   | 0 |\n",
    "             industry, data= df_final,\n",
    "             exactDOF=TRUE)\n",
    "t2 <- felm(formula=log(tso2_cit) ~ TCZ_c * Period * polluted_thre * cap_share_for\t\n",
    "             + TCZ_c * Period * polluted_thre * cap_share_SOE\n",
    "                  + output_fcit + capital_fcit + labour_fcit\n",
    "                  |\n",
    "            cityen +  year + industry   | 0 |\n",
    "             industry, data= df_final,\n",
    "             exactDOF=TRUE)\n",
    "t3 <- felm(formula=log(tso2_cit) ~ TCZ_c * Period * polluted_thre * lab_share_for\t\n",
    "             + TCZ_c * Period * polluted_thre * lab_share_SOE\t\n",
    "                  + output_fcit + capital_fcit + labour_fcit\n",
    "                  |\n",
    "             cityen +  year + industry   | 0 |\n",
    "             industry, data= df_final,\n",
    "             exactDOF=TRUE)\n",
    "t4 <- felm(formula=log(tso2_cit) ~ TCZ_c * Period * polluted_thre * out_share_for\t\n",
    "             + TCZ_c * Period * polluted_thre * out_share_SOE\n",
    "                  + output_fcit + capital_fcit + labour_fcit\n",
    "                  |\n",
    "             FE_t_c + FE_t_i + FE_c_i  | 0 |\n",
    "             industry, data= df_final,\n",
    "             exactDOF=TRUE)\n",
    "t5 <- felm(formula=log(tso2_cit) ~ TCZ_c * Period * polluted_thre * cap_share_for\t\n",
    "             + TCZ_c * Period * polluted_thre * cap_share_SOE\n",
    "                  + output_fcit + capital_fcit + labour_fcit\n",
    "                  |\n",
    "             FE_t_c + FE_t_i + FE_c_i  | 0 |\n",
    "             industry, data= df_final,\n",
    "             exactDOF=TRUE)\n",
    "t6 <- felm(formula=log(tso2_cit) ~ TCZ_c * Period * polluted_thre * lab_share_for\t\n",
    "             + TCZ_c * Period * polluted_thre * lab_share_SOE\t\n",
    "                  + output_fcit + capital_fcit + labour_fcit\n",
    "                  |\n",
    "             FE_t_c + FE_t_i + FE_c_i  | 0 |\n",
    "             industry, data= df_final,\n",
    "             exactDOF=TRUE)\n",
    "\n",
    "fe1 <- list(c(\"City fixed effects\", \"Yes\", \"Yes\", \"Yes\", \"No\", \"No\", \"No\"),\n",
    "             c(\"Industry fixed effects\", \"Yes\", \"Yes\", \"Yes\", \"No\", \"No\", \"No\"),\n",
    "             c(\"Yes fixed effects\",\"Yes\", \"Yes\", \"Yes\", \"No\", \"No\", \"No\"),\n",
    "             c(\"City-year fixed effects\", \"No\", \"No\", \"No\",\"Yes\", \"Yes\",\"Yes\"),\n",
    "             c(\"Industry-year fixed effects\", \"No\", \"No\", \"No\", \"Yes\", \"Yes\",\"Yes\"),\n",
    "             c(\"City-industry fixed effects\", \"No\", \"No\", \"No\", \"Yes\", \"Yes\",\"Yes\")\n",
    "             )\n",
    "\n",
    "table_1 <- go_latex(list(\n",
    "    t1,\n",
    "    t2,\n",
    "    t3,\n",
    "    t4,\n",
    "    t5,\n",
    "    t6\n",
    "),\n",
    "    title='Baseline results revision: Foreign-SOE',\n",
    "    addFE=fe1,\n",
    "    save=TRUE,\n",
    "    name=\"table_2.txt\"\n",
    ")\n",
    "```\n",
    "\n",
    "```sos kernel=\"python3\"\n",
    "try:\n",
    "    os.remove('table_2.tex')\n",
    "except:\n",
    "    pass\n",
    "lb.beautify(table_number = 2, constraint = False)\n",
    "```"
   ]
  },
  {
   "cell_type": "markdown",
   "metadata": {
    "kernel": "python3"
   },
   "source": [
    "## 03: Foreign\n",
    "\n",
    "In this table, only foreign share\n",
    "\n",
    "Output latex table available here\n",
    "\n",
    "- https://www.overleaf.com/project/5deca0097e9f3a0001506527\n",
    "    - 03_foreign\n",
    "\n",
    "In Google Drive:\n",
    "\n",
    "![](https://drive.google.com/uc?export=view&id=1LMR9Os_Koz9FtdXMZLTb6lLC_Loj9c5z)"
   ]
  },
  {
   "cell_type": "markdown",
   "metadata": {
    "kernel": "python3"
   },
   "source": [
    "### Code"
   ]
  },
  {
   "cell_type": "markdown",
   "metadata": {
    "kernel": "SoS"
   },
   "source": [
    "```sos kernel=\"R\" Collapsed=\"false\"\n",
    "t1 <- felm(formula=log(tso2_cit) ~ TCZ_c * Period * polluted_thre * out_share_for\t\n",
    "                  + output_fcit + capital_fcit + labour_fcit\n",
    "                  |\n",
    "              cityen +  year + industry  | 0 |\n",
    "             industry, data= df_final,\n",
    "             exactDOF=TRUE)\n",
    "\n",
    "t2 <- felm(formula=log(tso2_cit) ~ TCZ_c * Period * polluted_thre * cap_share_for\t\n",
    "                  + output_fcit + capital_fcit + labour_fcit\n",
    "                  |\n",
    "              cityen +  year + industry | 0 |\n",
    "             industry, data= df_final,\n",
    "             exactDOF=TRUE)\n",
    "\n",
    "t3 <- felm(formula=log(tso2_cit) ~ TCZ_c * Period * polluted_thre * lab_share_for\t\n",
    "                  + output_fcit + capital_fcit + labour_fcit\n",
    "                  |\n",
    "              cityen +  year + industry  | 0 |\n",
    "             industry, data= df_final,\n",
    "             exactDOF=TRUE)\n",
    "\n",
    "t4 <- felm(formula=log(tso2_cit) ~ TCZ_c * Period * polluted_thre * out_share_for\t\n",
    "                  + output_fcit + capital_fcit + labour_fcit\n",
    "                  |\n",
    "              FE_t_c + FE_t_i + FE_c_i | 0 |\n",
    "             industry, data= df_final,\n",
    "             exactDOF=TRUE)\n",
    "\n",
    "t5 <- felm(formula=log(tso2_cit) ~ TCZ_c * Period * polluted_thre * cap_share_for\t\n",
    "                  + output_fcit + capital_fcit + labour_fcit\n",
    "                  |\n",
    "              FE_t_c + FE_t_i + FE_c_i | 0 |\n",
    "             industry, data= df_final,\n",
    "             exactDOF=TRUE)\n",
    "\n",
    "t6 <- felm(formula=log(tso2_cit) ~ TCZ_c * Period * polluted_thre * lab_share_for\t\n",
    "                  + output_fcit + capital_fcit + labour_fcit\n",
    "                  |\n",
    "              FE_t_c + FE_t_i + FE_c_i  | 0 |\n",
    "             industry, data= df_final,\n",
    "             exactDOF=TRUE)\n",
    "\n",
    "fe1 <- list(c(\"City fixed effects\", \"Yes\", \"Yes\", \"Yes\", \"No\", \"No\", \"No\"),\n",
    "             c(\"Industry fixed effects\", \"Yes\", \"Yes\", \"Yes\", \"No\", \"No\", \"No\"),\n",
    "             c(\"Yes fixed effects\",\"Yes\", \"Yes\", \"Yes\", \"No\", \"No\", \"No\"),\n",
    "             c(\"City-year fixed effects\", \"No\", \"No\", \"No\",\"Yes\", \"Yes\",\"Yes\"),\n",
    "             c(\"Industry-year fixed effects\", \"No\", \"No\", \"No\", \"Yes\", \"Yes\",\"Yes\"),\n",
    "             c(\"City-industry fixed effects\", \"No\", \"No\", \"No\", \"Yes\", \"Yes\",\"Yes\")\n",
    "             )\n",
    "\n",
    "table_1 <- go_latex(list(\n",
    "    t1,\n",
    "    t2,\n",
    "    t3,\n",
    "    t4,\n",
    "    t5,\n",
    "    t6\n",
    "),\n",
    "    title='Baseline results revision: Foreign',\n",
    "    addFE=fe1,\n",
    "    save=TRUE,\n",
    "    name=\"table_3.txt\"\n",
    ")\n",
    "```\n",
    "\n",
    "```sos kernel=\"python3\" Collapsed=\"false\"\n",
    "try:\n",
    "    os.remove('table_3.tex')\n",
    "except:\n",
    "    pass\n",
    "lb.beautify(table_number = 3, constraint = False)\n",
    "```"
   ]
  },
  {
   "cell_type": "markdown",
   "metadata": {
    "kernel": "python3"
   },
   "source": [
    "## Herfindalh\n",
    "\n",
    "It might be the case that large firms can influence local authorities concerning the effective enforcement of environmental regulation. If possible, I suggest to identify in each city \n",
    "\n",
    "- (i) and for each industry (k), an index of industrial concentration (or the share of large firms in the industry). \n",
    "    - Then, a solution would be to estimate the model on a sub-sample of city-industry characterized by a low industrial concentration. \n",
    "    - A comparison of the results between the total sample and the subsample would allow checking the magnitude of the endogeneity bias. \n",
    "\n",
    "* https://en.wikipedia.org/wiki/Herfindahl%E2%80%93Hirschman_Index\n",
    "\n",
    "We can use the herfindhal index at the industry level, so that we are consistent with our strategy -> the interaction term is at the industry level and not city-industry level. \n",
    "\n",
    "In the first part, we compute the Herfindhal at the industry level -> average by industry. In the second part, we use the city industry, therefore, we estimate one more coefficient with the pair fixed effect\n"
   ]
  },
  {
   "cell_type": "markdown",
   "metadata": {
    "kernel": "python3"
   },
   "source": [
    "## Concentration at the industry level"
   ]
  },
  {
   "cell_type": "code",
   "execution_count": null,
   "metadata": {
    "kernel": "SoS"
   },
   "outputs": [],
   "source": [
    "import numpy as np\n",
    "\n",
    "df_herfhindal_ind = (df_herfhindal\n",
    "                     .groupby('industry')['Herfindahl']\n",
    "                     .mean()\n",
    "                     .reset_index())\n",
    "df_herfhindal_final = df_final.merge(df_herfhindal_ind,\n",
    "                                     on=['industry'],\n",
    "                                     how='left',\n",
    "                                     indicator=True\n",
    "\n",
    "                                     )\n",
    "df_herfhindal_final['df_herfhindal_final'] = df_herfhindal_final['Herfindahl'].fillna(\n",
    "    0)\n",
    "df_herfhindal_final['Herfindahl'].quantile([.1,\n",
    "                                            .15,\n",
    "                                            .25,\n",
    "                                            .5,\n",
    "                                            .70,\n",
    "                                            .75,\n",
    "                                            .80,\n",
    "                                            .85,\n",
    "                                            .95])"
   ]
  },
  {
   "cell_type": "code",
   "execution_count": null,
   "metadata": {
    "kernel": "SoS"
   },
   "outputs": [],
   "source": [
    "%put df_herfhindal_final --to R\n",
    "df_herfhindal_final = df_herfhindal_final.assign(\n",
    "concentrated_25 = lambda x: np.where(x['Herfindahl'] > 0.632807,\n",
    "                                 \"CONCENTRATED\",\n",
    "                                 'NOT_CONCENTRATED'),\n",
    "concentrated_50 = lambda x: np.where(x['Herfindahl'] > 0.728706,\n",
    "                                 \"CONCENTRATED\",\n",
    "                                 'NOT_CONCENTRATED'),\n",
    "concentrated_75 = lambda x: np.where(x['Herfindahl'] > 0.784489,\n",
    "                                 \"CONCENTRATED\",\n",
    "                                 'NOT_CONCENTRATED'),\n",
    "concentrated_85 = lambda x: np.where(x['Herfindahl'] > 0.819006,\n",
    "                                 \"CONCENTRATED\",\n",
    "                                 'NOT_CONCENTRATED'),\n",
    ")\n",
    "df_herfhindal_final.groupby('concentrated_75')['concentrated_75'].count()\n"
   ]
  },
  {
   "cell_type": "code",
   "execution_count": null,
   "metadata": {
    "kernel": "SoS"
   },
   "outputs": [],
   "source": [
    "df_herfhindal_final.groupby('concentrated_85')['concentrated_85'].count()\n"
   ]
  },
  {
   "cell_type": "code",
   "execution_count": null,
   "metadata": {
    "kernel": "R"
   },
   "outputs": [],
   "source": [
    "path = \"functions/SBC_pollution_R.R\"\n",
    "source(path)\n",
    "path = \"functions/SBC_pollutiuon_golatex.R\"\n",
    "source(path)\n",
    "\n",
    "df_final <- df_herfhindal_final %>% \n",
    "    mutate_if(is.character, as.factor) %>%\n",
    "    mutate_at(vars(starts_with(\"FE\")), as.factor) %>%\n",
    "    mutate(\n",
    "         Period = relevel(Period, ref='Before'),\n",
    "         TCZ_c = relevel(TCZ_c, ref='No_TCZ'),\n",
    "         effort_c = relevel(effort_c, ref='Below'),\n",
    "         polluted_di = relevel(polluted_di, ref='Below'),\n",
    "         polluted_mi = relevel(polluted_mi, ref='Below'),\n",
    "         polluted_thre = relevel(polluted_thre, ref='Below'),\n",
    "         concentrated_25 = relevel(concentrated_25, ref='NOT_CONCENTRATED'),\n",
    "         concentrated_50 = relevel(concentrated_50, ref='NOT_CONCENTRATED'),\n",
    "         concentrated_75 = relevel(concentrated_75, ref='NOT_CONCENTRATED'),\n",
    "         concentrated_85 = relevel(concentrated_85, ref='NOT_CONCENTRATED'),\n",
    "  )\n",
    "head(df_final)"
   ]
  },
  {
   "cell_type": "markdown",
   "metadata": {
    "kernel": "R"
   },
   "source": [
    "### 04: Sector Concentration\n",
    "\n",
    "Interaction with a concentration dummy\n",
    "\n",
    "Output latex table available here\n",
    "\n",
    "- https://www.overleaf.com/project/5deca0097e9f3a0001506527\n",
    "    - 04_concentrated_indu\n",
    "\n",
    "In Google Drive:\n",
    "\n",
    "![](https://drive.google.com/uc?export=view&id=11gh-qQ9lqaltNdXyhfQgYmdtpay677Ap)"
   ]
  },
  {
   "cell_type": "markdown",
   "metadata": {
    "kernel": "R"
   },
   "source": [
    "#### Code"
   ]
  },
  {
   "cell_type": "markdown",
   "metadata": {
    "kernel": "SoS"
   },
   "source": [
    "```sos kernel=\"R\" Collapsed=\"false\"\n",
    "t1 <- felm(formula=log(tso2_cit) ~ TCZ_c * Period * polluted_thre * concentrated_25\n",
    "                  + output_fcit + capital_fcit + labour_fcit\n",
    "                  |\n",
    "             cityen +  year + industry | 0 |\n",
    "             industry, data= df_final,\n",
    "             exactDOF=TRUE)\n",
    "\n",
    "t2 <- felm(formula=log(tso2_cit) ~ TCZ_c * Period *polluted_thre * concentrated_50\n",
    "                  + output_fcit + capital_fcit + labour_fcit\n",
    "                  |\n",
    "             cityen +  year + industry | 0 |\n",
    "             industry, data= df_final,\n",
    "             exactDOF=TRUE)\n",
    "\n",
    "t3 <- felm(formula=log(tso2_cit) ~ TCZ_c * Period *polluted_thre * concentrated_75\n",
    "                  + output_fcit + capital_fcit + labour_fcit\n",
    "                  |\n",
    "               cityen +  year + industry | 0 |\n",
    "             industry, data= df_final,\n",
    "             exactDOF=TRUE)\n",
    "\n",
    "t4 <- felm(formula=log(tso2_cit) ~ TCZ_c * Period *polluted_thre * concentrated_85\n",
    "                  + output_fcit + capital_fcit + labour_fcit\n",
    "                  |\n",
    "               cityen +  year + industry | 0 |\n",
    "             industry, data= df_final,\n",
    "             exactDOF=TRUE)\n",
    "\n",
    "t5 <- felm(formula=log(tso2_cit) ~ TCZ_c * Period * polluted_thre * concentrated_25\n",
    "                  + output_fcit + capital_fcit + labour_fcit\n",
    "                  |\n",
    "             FE_t_c + FE_t_i + FE_c_i | 0 |\n",
    "             industry, data= df_final,\n",
    "             exactDOF=TRUE)\n",
    "\n",
    "t6 <- felm(formula=log(tso2_cit) ~ TCZ_c * Period *polluted_thre * concentrated_50\n",
    "                  + output_fcit + capital_fcit + labour_fcit\n",
    "                  |\n",
    "             FE_t_c + FE_t_i + FE_c_i | 0 |\n",
    "             industry, data= df_final,\n",
    "             exactDOF=TRUE)\n",
    "\n",
    "t7 <- felm(formula=log(tso2_cit) ~ TCZ_c * Period *polluted_thre * concentrated_75\n",
    "                  + output_fcit + capital_fcit + labour_fcit\n",
    "                  |\n",
    "               FE_t_c + FE_t_i + FE_c_i | 0 |\n",
    "             industry, data= df_final,\n",
    "             exactDOF=TRUE)\n",
    "\n",
    "t8 <- felm(formula=log(tso2_cit) ~ TCZ_c * Period *polluted_thre * concentrated_85\n",
    "                  + output_fcit + capital_fcit + labour_fcit\n",
    "                  |\n",
    "               FE_t_c + FE_t_i + FE_c_i | 0 |\n",
    "             industry, data= df_final,\n",
    "             exactDOF=TRUE)\n",
    "\n",
    "fe1 <- list(\n",
    "             c(\"City-year fixed effects\", \"No\", \"No\", \"No\", \"No\", \"Yes\", \"Yes\", \"Yes\", \"Yes\"),\n",
    "             c(\"Industry-year fixed effects\", \"No\", \"No\", \"No\", \"No\", \"Yes\", \"Yes\", \"Yes\", \"Yes\"),\n",
    "             c(\"City-industry fixed effects\", \"No\", \"No\", \"No\", \"No\", \"Yes\", \"Yes\", \"Yes\", \"Yes\")\n",
    "             )\n",
    "\n",
    "table_1 <- go_latex(list(\n",
    "    t1, t2, t3,t4, t5, t6, t7, t8\n",
    "),\n",
    "    title='Baseline results revision',\n",
    "    addFE=fe1,\n",
    "    save=TRUE,\n",
    "    name=\"table_4.txt\"\n",
    ")\n",
    "```\n",
    "\n",
    "```sos kernel=\"python3\" Collapsed=\"false\"\n",
    "import functions.latex_beautify as lb\n",
    "\n",
    "%load_ext autoreload\n",
    "%autoreload 2\n",
    "```\n",
    "\n",
    "```sos kernel=\"python3\" Collapsed=\"false\"\n",
    "import os\n",
    "try:\n",
    "    os.remove(\"table_4.tex\")\n",
    "except:\n",
    "    pass\n",
    "lb.beautify(table_number = 4, constraint = False)\n",
    "```"
   ]
  },
  {
   "cell_type": "markdown",
   "metadata": {
    "kernel": "python3"
   },
   "source": [
    "### 05: Sector Concentration and output share SOE\n",
    "\n",
    "Interaction with a concentration dummy and include SOE output share\n",
    "\n",
    "Output latex table available here\n",
    "\n",
    "- https://www.overleaf.com/project/5deca0097e9f3a0001506527\n",
    "    - 05_concentrated_ind_SOE\n",
    "\n",
    "In Google Drive:\n",
    "\n",
    "![](https://drive.google.com/uc?export=view&id=1I4jFvbnP8CvXbt020gpFWPH6si9pkpS3)"
   ]
  },
  {
   "cell_type": "markdown",
   "metadata": {
    "kernel": "python3"
   },
   "source": [
    "#### Code"
   ]
  },
  {
   "cell_type": "markdown",
   "metadata": {
    "kernel": "SoS"
   },
   "source": [
    "```sos kernel=\"R\" Collapsed=\"false\"\n",
    "\n",
    "t1 <- felm(formula=log(tso2_cit) ~ TCZ_c * Period * polluted_thre * concentrated_25\n",
    "           +TCZ_c * Period *polluted_thre * out_share_SOE\n",
    "                  + output_fcit + capital_fcit + labour_fcit\n",
    "                  |\n",
    "             cityen +  year + industry | 0 |\n",
    "             industry, data= df_final,\n",
    "             exactDOF=TRUE)\n",
    "\n",
    "t2 <- felm(formula=log(tso2_cit) ~ TCZ_c * Period *polluted_thre * concentrated_50\n",
    "           +TCZ_c * Period *polluted_thre * out_share_SOE\n",
    "                  + output_fcit + capital_fcit + labour_fcit\n",
    "                  |\n",
    "             cityen +  year + industry | 0 |\n",
    "             industry, data= df_final,\n",
    "             exactDOF=TRUE)\n",
    "\n",
    "t3 <- felm(formula=log(tso2_cit) ~ TCZ_c * Period *polluted_thre * concentrated_75\n",
    "           +TCZ_c * Period *polluted_thre * out_share_SOE\n",
    "                  + output_fcit + capital_fcit + labour_fcit\n",
    "                  |\n",
    "               cityen +  year + industry | 0 |\n",
    "             industry, data= df_final,\n",
    "             exactDOF=TRUE)\n",
    "\n",
    "t4 <- felm(formula=log(tso2_cit) ~ TCZ_c * Period *polluted_thre * concentrated_85\n",
    "           +TCZ_c * Period *polluted_thre * out_share_SOE\n",
    "           +TCZ_c * Period *polluted_thre * out_share_SOE\n",
    "                  + output_fcit + capital_fcit + labour_fcit\n",
    "                  |\n",
    "               cityen +  year + industry | 0 |\n",
    "             industry, data= df_final,\n",
    "             exactDOF=TRUE)\n",
    "\n",
    "t5 <- felm(formula=log(tso2_cit) ~ TCZ_c * Period * polluted_thre * concentrated_25\n",
    "           +TCZ_c * Period *polluted_thre * out_share_SOE\n",
    "                  + output_fcit + capital_fcit + labour_fcit\n",
    "                  |\n",
    "             FE_t_c + FE_t_i + FE_c_i | 0 |\n",
    "             industry, data= df_final,\n",
    "             exactDOF=TRUE)\n",
    "\n",
    "t6 <- felm(formula=log(tso2_cit) ~ TCZ_c * Period *polluted_thre * concentrated_50\n",
    "           +TCZ_c * Period *polluted_thre * out_share_SOE\n",
    "                  + output_fcit + capital_fcit + labour_fcit\n",
    "                  |\n",
    "             FE_t_c + FE_t_i + FE_c_i | 0 |\n",
    "             industry, data= df_final,\n",
    "             exactDOF=TRUE)\n",
    "\n",
    "t7 <- felm(formula=log(tso2_cit) ~ TCZ_c * Period *polluted_thre * concentrated_75\n",
    "           +TCZ_c * Period *polluted_thre * out_share_SOE\n",
    "                  + output_fcit + capital_fcit + labour_fcit\n",
    "                  |\n",
    "               FE_t_c + FE_t_i + FE_c_i | 0 |\n",
    "             industry, data= df_final,\n",
    "             exactDOF=TRUE)\n",
    "\n",
    "t8 <- felm(formula=log(tso2_cit) ~ TCZ_c * Period *polluted_thre * concentrated_85\n",
    "           +TCZ_c * Period *polluted_thre * out_share_SOE\n",
    "                  + output_fcit + capital_fcit + labour_fcit\n",
    "                  |\n",
    "               FE_t_c + FE_t_i + FE_c_i | 0 |\n",
    "             industry, data= df_final,\n",
    "             exactDOF=TRUE)\n",
    "\n",
    "fe1 <- list(\n",
    "             c(\"City-year fixed effects\", \"No\", \"No\", \"No\", \"No\", \"Yes\", \"Yes\", \"Yes\", \"Yes\"),\n",
    "             c(\"Industry-year fixed effects\", \"No\", \"No\", \"No\", \"No\", \"Yes\", \"Yes\", \"Yes\", \"Yes\"),\n",
    "             c(\"City-industry fixed effects\", \"No\", \"No\", \"No\", \"No\", \"Yes\", \"Yes\", \"Yes\", \"Yes\")\n",
    "             )\n",
    "\n",
    "table_1 <- go_latex(list(\n",
    "    t1, t2, t3,t4, t5, t6, t7, t8\n",
    "),\n",
    "    title='Baseline results revision',\n",
    "    addFE=fe1,\n",
    "    save=TRUE,\n",
    "    name=\"table_5.txt\"\n",
    ")\n",
    "\n",
    "```\n",
    "\n",
    "```sos kernel=\"python3\" Collapsed=\"false\"\n",
    "\n",
    "import os\n",
    "try:\n",
    "    os.remove(\"table_5.tex\")\n",
    "except:\n",
    "    pass\n",
    "lb.beautify(table_number = 5, constraint = False)\n",
    "```"
   ]
  },
  {
   "cell_type": "markdown",
   "metadata": {
    "kernel": "python3"
   },
   "source": [
    "### 06: Sector Concentration,continuous var and share SOE\n",
    "\n",
    "Use Herfindhal value and interact it with different SOE share\n",
    "\n",
    "Output latex table available here\n",
    "\n",
    "- https://www.overleaf.com/project/5deca0097e9f3a0001506527\n",
    "    - 06_conc_ind_soe\n",
    "\n",
    "In Google Drive:\n",
    "\n",
    "![](https://drive.google.com/uc?export=view&id=1I3cyQya2ctpWqxDrXkDUtpznZSaRaH7J)"
   ]
  },
  {
   "cell_type": "markdown",
   "metadata": {
    "kernel": "python3"
   },
   "source": [
    "#### Code"
   ]
  },
  {
   "cell_type": "markdown",
   "metadata": {
    "kernel": "SoS"
   },
   "source": [
    "```sos kernel=\"R\" Collapsed=\"false\"\n",
    "\n",
    "t1 <- felm(formula=log(tso2_cit) ~ TCZ_c * Period * polluted_thre * Herfindahl\n",
    "           +TCZ_c * Period *polluted_thre * out_share_SOE\n",
    "                  + output_fcit + capital_fcit + labour_fcit\n",
    "                  |\n",
    "             cityen +  year + industry | 0 |\n",
    "             industry, data= df_final,\n",
    "             exactDOF=TRUE)\n",
    "\n",
    "t2 <- felm(formula=log(tso2_cit) ~ TCZ_c * Period * polluted_thre * Herfindahl\n",
    "           +TCZ_c * Period *polluted_thre * cap_share_SOE\n",
    "                  + output_fcit + capital_fcit + labour_fcit\n",
    "                  |\n",
    "             cityen +  year + industry | 0 |\n",
    "             industry, data= df_final,\n",
    "             exactDOF=TRUE)\n",
    "\n",
    "t3 <- felm(formula=log(tso2_cit) ~ TCZ_c * Period * polluted_thre * Herfindahl\n",
    "           +TCZ_c * Period *polluted_thre * lab_share_SOE\n",
    "                  + output_fcit + capital_fcit + labour_fcit\n",
    "                  |\n",
    "             cityen +  year + industry | 0 |\n",
    "             industry, data= df_final,\n",
    "             exactDOF=TRUE)\n",
    "\n",
    "t4 <- felm(formula=log(tso2_cit) ~ TCZ_c * Period * polluted_thre * Herfindahl\n",
    "           +TCZ_c * Period *polluted_thre * out_share_SOE\n",
    "                  + output_fcit + capital_fcit + labour_fcit\n",
    "                  |\n",
    "              FE_t_c + FE_t_i + FE_c_i | 0 |\n",
    "             industry, data= df_final,\n",
    "             exactDOF=TRUE)\n",
    "\n",
    "t5 <- felm(formula=log(tso2_cit) ~ TCZ_c * Period * polluted_thre * Herfindahl\n",
    "           +TCZ_c * Period *polluted_thre * cap_share_SOE\n",
    "                  + output_fcit + capital_fcit + labour_fcit\n",
    "                  |\n",
    "              FE_t_c + FE_t_i + FE_c_i | 0 |\n",
    "             industry, data= df_final,\n",
    "             exactDOF=TRUE)\n",
    "\n",
    "t6 <- felm(formula=log(tso2_cit) ~ TCZ_c * Period * polluted_thre * Herfindahl\n",
    "           +TCZ_c * Period *polluted_thre * lab_share_SOE\n",
    "                  + output_fcit + capital_fcit + labour_fcit\n",
    "                  |\n",
    "              FE_t_c + FE_t_i + FE_c_i | 0 |\n",
    "             industry, data= df_final,\n",
    "             exactDOF=TRUE)\n",
    "\n",
    "fe1 <- list(c(\"City fixed effects\", \"Yes\", \"Yes\", \"Yes\", \"No\", \"No\", \"No\"),\n",
    "             c(\"Industry fixed effects\", \"Yes\", \"Yes\", \"Yes\", \"No\", \"No\", \"No\"),\n",
    "             c(\"Yes fixed effects\",\"Yes\", \"Yes\", \"Yes\", \"No\", \"No\", \"No\"),\n",
    "             c(\"City-year fixed effects\", \"No\", \"No\", \"No\",\"Yes\", \"Yes\",\"Yes\"),\n",
    "             c(\"Industry-year fixed effects\", \"No\", \"No\", \"No\", \"Yes\", \"Yes\",\"Yes\"),\n",
    "             c(\"City-industry fixed effects\", \"No\", \"No\", \"No\", \"Yes\", \"Yes\",\"Yes\")\n",
    "             )\n",
    "\n",
    "table_1 <- go_latex(list(\n",
    "    t1,\n",
    "    t2,\n",
    "    t3,\n",
    "    t4,\n",
    "    t5,\n",
    "    t6\n",
    "),\n",
    "    title='Baseline results revision: concentration',\n",
    "    addFE=fe1,\n",
    "    save=TRUE,\n",
    "    name=\"table_6.txt\"\n",
    ")\n",
    "\n",
    "```\n",
    "\n",
    "```sos kernel=\"python3\" Collapsed=\"false\"\n",
    "\n",
    "import os\n",
    "try:\n",
    "    os.remove(\"table_6.tex\")\n",
    "except:\n",
    "    pass\n",
    "lb.beautify(table_number = 6, constraint = False)\n",
    "\n",
    "```"
   ]
  },
  {
   "cell_type": "markdown",
   "metadata": {
    "kernel": "python3"
   },
   "source": [
    "## Herfindhal city-industry\n",
    "\n",
    "We replicate the above three tables but instead of using the herfindahl at the industry level, we use the industry-city. Since we now have a variation city-industry, we estimate a new coefficient -> `Period * polluted * concentration`"
   ]
  },
  {
   "cell_type": "markdown",
   "metadata": {
    "kernel": "SoS"
   },
   "source": [
    "```sos kernel=\"SoS\" Collapsed=\"false\"\n",
    "import numpy as np\n",
    "df_herfhindal_final = df_final.merge(df_herfhindal,\n",
    "                                     on=['geocode4_corr', 'industry'],\n",
    "                                     how='left',\n",
    "                                     indicator=True\n",
    "\n",
    "                                     )\n",
    "df_herfhindal_final['df_herfhindal_final'] = df_herfhindal_final['Herfindahl'].fillna(\n",
    "    0)\n",
    "df_herfhindal_final['Herfindahl'].describe()\n",
    "\n",
    "df_herfhindal_final['Herfindahl'].quantile([.1,\n",
    "                                            .15,\n",
    "                                            .25,\n",
    "                                            .5,\n",
    "                                            .70,\n",
    "                                            .75,\n",
    "                                            .80,\n",
    "                                            .85,\n",
    "                                            .95])\n",
    "```\n",
    "\n",
    "```sos kernel=\"SoS\" Collapsed=\"false\"\n",
    "%put df_herfhindal_final --to R\n",
    "df_herfhindal_final = df_herfhindal_final.assign(\n",
    "concentrated_25 = lambda x: np.where(x['Herfindahl'] > 0.287788,\n",
    "                                 \"CONCENTRATED\",\n",
    "                                 'NOT_CONCENTRATED'),\n",
    "concentrated_50 = lambda x: np.where(x['Herfindahl'] > 0.511218,\n",
    "                                 \"CONCENTRATED\",\n",
    "                                 'NOT_CONCENTRATED'),\n",
    "concentrated_75 = lambda x: np.where(x['Herfindahl'] > 0.779449,\n",
    "                                 \"CONCENTRATED\",\n",
    "                                 'NOT_CONCENTRATED'),\n",
    "concentrated_85 = lambda x: np.where(x['Herfindahl'] > 0.916762,\n",
    "                                 \"CONCENTRATED\",\n",
    "                                 'NOT_CONCENTRATED'),\n",
    ")\n",
    "\n",
    "```\n",
    "\n",
    "```sos kernel=\"R\" Collapsed=\"false\"\n",
    "path = \"functions/SBC_pollution_R.R\"\n",
    "source(path)\n",
    "path = \"functions/SBC_pollutiuon_golatex.R\"\n",
    "source(path)\n",
    "\n",
    "df_final <- df_herfhindal_final %>% \n",
    "    mutate_if(is.character, as.factor) %>%\n",
    "    mutate_at(vars(starts_with(\"FE\")), as.factor) %>%\n",
    "    mutate(\n",
    "         Period = relevel(Period, ref='Before'),\n",
    "         TCZ_c = relevel(TCZ_c, ref='No_TCZ'),\n",
    "         effort_c = relevel(effort_c, ref='Below'),\n",
    "         polluted_di = relevel(polluted_di, ref='Below'),\n",
    "         polluted_mi = relevel(polluted_mi, ref='Below'),\n",
    "         polluted_thre = relevel(polluted_thre, ref='Below'),\n",
    "         concentrated_25 = relevel(concentrated_25, ref='NOT_CONCENTRATED'),\n",
    "         concentrated_50 = relevel(concentrated_50, ref='NOT_CONCENTRATED'),\n",
    "         concentrated_75 = relevel(concentrated_75, ref='NOT_CONCENTRATED'),\n",
    "         concentrated_85 = relevel(concentrated_85, ref='NOT_CONCENTRATED'),\n",
    "  )\n",
    "head(df_final)\n",
    "```"
   ]
  },
  {
   "cell_type": "markdown",
   "metadata": {
    "kernel": "R"
   },
   "source": [
    "### 07: Sector Concentration: city-industry\n",
    "\n",
    "Interaction with a concentration dummy\n",
    "\n",
    "Output latex table available here\n",
    "\n",
    "- https://www.overleaf.com/project/5deca0097e9f3a0001506527\n",
    "    - 07_concentration_city_ind\n",
    "\n",
    "In Google Drive:\n",
    "\n",
    "![](https://drive.google.com/uc?export=view&id=1FkB09EXfUmsxOsHd8FfWN4rDoX8Gtq97)"
   ]
  },
  {
   "cell_type": "markdown",
   "metadata": {
    "kernel": "R"
   },
   "source": [
    "#### Code"
   ]
  },
  {
   "cell_type": "markdown",
   "metadata": {
    "kernel": "SoS"
   },
   "source": [
    "```sos kernel=\"R\" Collapsed=\"false\"\n",
    "t1 <- felm(formula=log(tso2_cit) ~ TCZ_c * Period * polluted_thre * concentrated_25\n",
    "                  + output_fcit + capital_fcit + labour_fcit\n",
    "                  |\n",
    "             cityen +  year + industry | 0 |\n",
    "             industry, data= df_final,\n",
    "             exactDOF=TRUE)\n",
    "\n",
    "t2 <- felm(formula=log(tso2_cit) ~ TCZ_c * Period *polluted_thre * concentrated_50\n",
    "                  + output_fcit + capital_fcit + labour_fcit\n",
    "                  |\n",
    "             cityen +  year + industry | 0 |\n",
    "             industry, data= df_final,\n",
    "             exactDOF=TRUE)\n",
    "\n",
    "t3 <- felm(formula=log(tso2_cit) ~ TCZ_c * Period *polluted_thre * concentrated_75\n",
    "                  + output_fcit + capital_fcit + labour_fcit\n",
    "                  |\n",
    "               cityen +  year + industry | 0 |\n",
    "             industry, data= df_final,\n",
    "             exactDOF=TRUE)\n",
    "\n",
    "t4 <- felm(formula=log(tso2_cit) ~ TCZ_c * Period *polluted_thre * concentrated_85\n",
    "                  + output_fcit + capital_fcit + labour_fcit\n",
    "                  |\n",
    "               cityen +  year + industry | 0 |\n",
    "             industry, data= df_final,\n",
    "             exactDOF=TRUE)\n",
    "\n",
    "t5 <- felm(formula=log(tso2_cit) ~ TCZ_c * Period * polluted_thre * concentrated_25\n",
    "                  + output_fcit + capital_fcit + labour_fcit\n",
    "                  |\n",
    "             FE_t_c + FE_t_i + FE_c_i | 0 |\n",
    "             industry, data= df_final,\n",
    "             exactDOF=TRUE)\n",
    "\n",
    "t6 <- felm(formula=log(tso2_cit) ~ TCZ_c * Period *polluted_thre * concentrated_50\n",
    "                  + output_fcit + capital_fcit + labour_fcit\n",
    "                  |\n",
    "             FE_t_c + FE_t_i + FE_c_i | 0 |\n",
    "             industry, data= df_final,\n",
    "             exactDOF=TRUE)\n",
    "\n",
    "t7 <- felm(formula=log(tso2_cit) ~ TCZ_c * Period *polluted_thre * concentrated_75\n",
    "                  + output_fcit + capital_fcit + labour_fcit\n",
    "                  |\n",
    "               FE_t_c + FE_t_i + FE_c_i | 0 |\n",
    "             industry, data= df_final,\n",
    "             exactDOF=TRUE)\n",
    "\n",
    "t8 <- felm(formula=log(tso2_cit) ~ TCZ_c * Period *polluted_thre * concentrated_85\n",
    "                  + output_fcit + capital_fcit + labour_fcit\n",
    "                  |\n",
    "               FE_t_c + FE_t_i + FE_c_i | 0 |\n",
    "             industry, data= df_final,\n",
    "             exactDOF=TRUE)\n",
    "\n",
    "fe1 <- list(\n",
    "             c(\"City-year fixed effects\", \"No\", \"No\", \"No\", \"No\", \"Yes\", \"Yes\", \"Yes\", \"Yes\"),\n",
    "             c(\"Industry-year fixed effects\", \"No\", \"No\", \"No\", \"No\", \"Yes\", \"Yes\", \"Yes\", \"Yes\"),\n",
    "             c(\"City-industry fixed effects\", \"No\", \"No\", \"No\", \"No\", \"Yes\", \"Yes\", \"Yes\", \"Yes\")\n",
    "             )\n",
    "\n",
    "table_1 <- go_latex(list(\n",
    "    t1, t2, t3,t4, t5, t6, t7, t8\n",
    "),\n",
    "    title='Baseline results revision: concentration city-industry',\n",
    "    addFE=fe1,\n",
    "    save=TRUE,\n",
    "    name=\"table_2.txt\"\n",
    ")\n",
    "```\n",
    "\n",
    "```sos kernel=\"python3\" Collapsed=\"false\"\n",
    "import functions.latex_beautify as lb\n",
    "\n",
    "%load_ext autoreload\n",
    "%autoreload 2\n",
    "\n",
    "```\n",
    "\n",
    "```sos kernel=\"python3\" Collapsed=\"false\"\n",
    "import os\n",
    "try:\n",
    "    os.remove(\"table_2.tex\")\n",
    "except:\n",
    "    pass\n",
    "lb.beautify(table_number = 2, constraint = False, city_industry = True)\n",
    "```"
   ]
  },
  {
   "cell_type": "markdown",
   "metadata": {
    "kernel": "python3"
   },
   "source": [
    "### 08: Sector Concentration and output share: city-industry\n",
    "\n",
    "Interaction with a concentration dummy and include SOE output share\n",
    "\n",
    "Output latex table available here\n",
    "\n",
    "- https://www.overleaf.com/project/5deca0097e9f3a0001506527\n",
    "    - 08_concentrated_ind_SOE_city_ind\n",
    "\n",
    "In Google Drive:\n",
    "\n",
    "![](https://drive.google.com/uc?export=view&id=1_WqkGLG26pLXNNRPRRDRmQII4p7n0mIp)"
   ]
  },
  {
   "cell_type": "markdown",
   "metadata": {
    "kernel": "python3"
   },
   "source": [
    "#### Code"
   ]
  },
  {
   "cell_type": "markdown",
   "metadata": {
    "kernel": "SoS"
   },
   "source": [
    "```sos kernel=\"R\" Collapsed=\"false\"\n",
    "t1 <- felm(formula=log(tso2_cit) ~ TCZ_c * Period * polluted_thre * concentrated_25\n",
    "           +TCZ_c * Period *polluted_thre * out_share_SOE\n",
    "                  + output_fcit + capital_fcit + labour_fcit\n",
    "                  |\n",
    "             cityen +  year + industry | 0 |\n",
    "             industry, data= df_final,\n",
    "             exactDOF=TRUE)\n",
    "\n",
    "t2 <- felm(formula=log(tso2_cit) ~ TCZ_c * Period *polluted_thre * concentrated_50\n",
    "           +TCZ_c * Period *polluted_thre * out_share_SOE\n",
    "                  + output_fcit + capital_fcit + labour_fcit\n",
    "                  |\n",
    "             cityen +  year + industry | 0 |\n",
    "             industry, data= df_final,\n",
    "             exactDOF=TRUE)\n",
    "\n",
    "t3 <- felm(formula=log(tso2_cit) ~ TCZ_c * Period *polluted_thre * concentrated_75\n",
    "           +TCZ_c * Period *polluted_thre * out_share_SOE\n",
    "                  + output_fcit + capital_fcit + labour_fcit\n",
    "                  |\n",
    "               cityen +  year + industry | 0 |\n",
    "             industry, data= df_final,\n",
    "             exactDOF=TRUE)\n",
    "\n",
    "t4 <- felm(formula=log(tso2_cit) ~ TCZ_c * Period *polluted_thre * concentrated_85\n",
    "           +TCZ_c * Period *polluted_thre * out_share_SOE\n",
    "           +TCZ_c * Period *polluted_thre * out_share_SOE\n",
    "                  + output_fcit + capital_fcit + labour_fcit\n",
    "                  |\n",
    "               cityen +  year + industry | 0 |\n",
    "             industry, data= df_final,\n",
    "             exactDOF=TRUE)\n",
    "\n",
    "t5 <- felm(formula=log(tso2_cit) ~ TCZ_c * Period * polluted_thre * concentrated_25\n",
    "           +TCZ_c * Period *polluted_thre * out_share_SOE\n",
    "                  + output_fcit + capital_fcit + labour_fcit\n",
    "                  |\n",
    "             FE_t_c + FE_t_i + FE_c_i | 0 |\n",
    "             industry, data= df_final,\n",
    "             exactDOF=TRUE)\n",
    "\n",
    "t6 <- felm(formula=log(tso2_cit) ~ TCZ_c * Period *polluted_thre * concentrated_50\n",
    "           +TCZ_c * Period *polluted_thre * out_share_SOE\n",
    "                  + output_fcit + capital_fcit + labour_fcit\n",
    "                  |\n",
    "             FE_t_c + FE_t_i + FE_c_i | 0 |\n",
    "             industry, data= df_final,\n",
    "             exactDOF=TRUE)\n",
    "\n",
    "t7 <- felm(formula=log(tso2_cit) ~ TCZ_c * Period *polluted_thre * concentrated_75\n",
    "           +TCZ_c * Period *polluted_thre * out_share_SOE\n",
    "                  + output_fcit + capital_fcit + labour_fcit\n",
    "                  |\n",
    "               FE_t_c + FE_t_i + FE_c_i | 0 |\n",
    "             industry, data= df_final,\n",
    "             exactDOF=TRUE)\n",
    "\n",
    "t8 <- felm(formula=log(tso2_cit) ~ TCZ_c * Period *polluted_thre * concentrated_85\n",
    "           +TCZ_c * Period *polluted_thre * out_share_SOE\n",
    "                  + output_fcit + capital_fcit + labour_fcit\n",
    "                  |\n",
    "               FE_t_c + FE_t_i + FE_c_i | 0 |\n",
    "             industry, data= df_final,\n",
    "             exactDOF=TRUE)\n",
    "\n",
    "fe1 <- list(\n",
    "             c(\"City-year fixed effects\", \"No\", \"No\", \"No\", \"No\", \"Yes\", \"Yes\", \"Yes\", \"Yes\"),\n",
    "             c(\"Industry-year fixed effects\", \"No\", \"No\", \"No\", \"No\", \"Yes\", \"Yes\", \"Yes\", \"Yes\"),\n",
    "             c(\"City-industry fixed effects\", \"No\", \"No\", \"No\", \"No\", \"Yes\", \"Yes\", \"Yes\", \"Yes\")\n",
    "             )\n",
    "\n",
    "table_1 <- go_latex(list(\n",
    "    t1, t2, t3,t4, t5, t6, t7, t8\n",
    "),\n",
    "    title='Baseline results revision',\n",
    "    addFE=fe1,\n",
    "    save=TRUE,\n",
    "    name=\"table_3.txt\"\n",
    ")\n",
    "```\n",
    "\n",
    "```sos kernel=\"R\" Collapsed=\"false\"\n",
    "import os\n",
    "try:\n",
    "    os.remove(\"table_3.tex\")\n",
    "except:\n",
    "    pass\n",
    "lb.beautify(table_number = 3, constraint = False, city_industry = True)\n",
    "```"
   ]
  },
  {
   "cell_type": "markdown",
   "metadata": {
    "kernel": "python3"
   },
   "source": [
    "### 09: Sector Concentration, continuous var and share SOE: city-industry\n",
    "\n",
    "Use Herfindhal value and interact it with different SOE share\n",
    "\n",
    "Output latex table available here\n",
    "\n",
    "- https://www.overleaf.com/project/5deca0097e9f3a0001506527\n",
    "    - 09_conc_ind_soe_city_ind\n",
    "\n",
    "In Google Drive:\n",
    "\n",
    "![](https://drive.google.com/uc?export=view&id=18qgSIo_0ZTeuXXDsf6MTnEDZjYJoD0ab)"
   ]
  },
  {
   "cell_type": "markdown",
   "metadata": {
    "kernel": "python3"
   },
   "source": [
    "#### Code"
   ]
  },
  {
   "cell_type": "code",
   "execution_count": null,
   "metadata": {
    "kernel": "R"
   },
   "outputs": [],
   "source": [
    "t1 <- felm(formula=log(tso2_cit) ~ TCZ_c * Period * polluted_thre * Herfindahl\n",
    "           +TCZ_c * Period *polluted_thre * out_share_SOE\n",
    "                  + output_fcit + capital_fcit + labour_fcit\n",
    "                  |\n",
    "             cityen +  year + industry | 0 |\n",
    "             industry, data= df_final,\n",
    "             exactDOF=TRUE)\n",
    "\n",
    "t2 <- felm(formula=log(tso2_cit) ~ TCZ_c * Period * polluted_thre * Herfindahl\n",
    "           +TCZ_c * Period *polluted_thre * cap_share_SOE\n",
    "                  + output_fcit + capital_fcit + labour_fcit\n",
    "                  |\n",
    "             cityen +  year + industry | 0 |\n",
    "             industry, data= df_final,\n",
    "             exactDOF=TRUE)\n",
    "\n",
    "t3 <- felm(formula=log(tso2_cit) ~ TCZ_c * Period * polluted_thre * Herfindahl\n",
    "           +TCZ_c * Period *polluted_thre * lab_share_SOE\n",
    "                  + output_fcit + capital_fcit + labour_fcit\n",
    "                  |\n",
    "             cityen +  year + industry | 0 |\n",
    "             industry, data= df_final,\n",
    "             exactDOF=TRUE)\n",
    "\n",
    "t4 <- felm(formula=log(tso2_cit) ~ TCZ_c * Period * polluted_thre * Herfindahl\n",
    "           +TCZ_c * Period *polluted_thre * out_share_SOE\n",
    "                  + output_fcit + capital_fcit + labour_fcit\n",
    "                  |\n",
    "              FE_t_c + FE_t_i + FE_c_i | 0 |\n",
    "             industry, data= df_final,\n",
    "             exactDOF=TRUE)\n",
    "\n",
    "t5 <- felm(formula=log(tso2_cit) ~ TCZ_c * Period * polluted_thre * Herfindahl\n",
    "           +TCZ_c * Period *polluted_thre * cap_share_SOE\n",
    "                  + output_fcit + capital_fcit + labour_fcit\n",
    "                  |\n",
    "              FE_t_c + FE_t_i + FE_c_i | 0 |\n",
    "             industry, data= df_final,\n",
    "             exactDOF=TRUE)\n",
    "\n",
    "t6 <- felm(formula=log(tso2_cit) ~ TCZ_c * Period * polluted_thre * Herfindahl\n",
    "           +TCZ_c * Period *polluted_thre * lab_share_SOE\n",
    "                  + output_fcit + capital_fcit + labour_fcit\n",
    "                  |\n",
    "              FE_t_c + FE_t_i + FE_c_i | 0 |\n",
    "             industry, data= df_final,\n",
    "             exactDOF=TRUE)\n",
    "\n",
    "fe1 <- list(c(\"City fixed effects\", \"Yes\", \"Yes\", \"Yes\", \"No\", \"No\", \"No\"),\n",
    "             c(\"Industry fixed effects\", \"Yes\", \"Yes\", \"Yes\", \"No\", \"No\", \"No\"),\n",
    "             c(\"Yes fixed effects\",\"Yes\", \"Yes\", \"Yes\", \"No\", \"No\", \"No\"),\n",
    "             c(\"City-year fixed effects\", \"No\", \"No\", \"No\",\"Yes\", \"Yes\",\"Yes\"),\n",
    "             c(\"Industry-year fixed effects\", \"No\", \"No\", \"No\", \"Yes\", \"Yes\",\"Yes\"),\n",
    "             c(\"City-industry fixed effects\", \"No\", \"No\", \"No\", \"Yes\", \"Yes\",\"Yes\")\n",
    "             )\n",
    "\n",
    "table_1 <- go_latex(list(\n",
    "    t1,\n",
    "    t2,\n",
    "    t3,\n",
    "    t4,\n",
    "    t5,\n",
    "    t6\n",
    "),\n",
    "    title='Baseline results revision: concentration',\n",
    "    addFE=fe1,\n",
    "    save=TRUE,\n",
    "    name=\"table_4.txt\"\n",
    ")\n"
   ]
  },
  {
   "cell_type": "code",
   "execution_count": null,
   "metadata": {
    "kernel": "SoS"
   },
   "outputs": [],
   "source": [
    "import os\n",
    "try:\n",
    "    os.remove(\"table_4.tex\")\n",
    "except:\n",
    "    pass\n",
    "lb.beautify(table_number = 4, constraint = False, city_industry = True)"
   ]
  },
  {
   "cell_type": "markdown",
   "metadata": {
    "kernel": "python3"
   },
   "source": [
    "# Pollution intensity "
   ]
  },
  {
   "cell_type": "markdown",
   "metadata": {
    "kernel": "python3"
   },
   "source": [
    "### code Load data"
   ]
  },
  {
   "cell_type": "code",
   "execution_count": null,
   "metadata": {
    "kernel": "python3"
   },
   "outputs": [],
   "source": [
    "import pandas as pd\n",
    "\n",
    "(pd.read_csv('SBC_pollution_China.gz')\n",
    " .groupby('industry')['pollution_intensity_i']\n",
    " .min()\n",
    " .quantile([.1,\n",
    "            .15,\n",
    "            .25,\n",
    "            .5,\n",
    "            .70,\n",
    "            .75,\n",
    "            .80,\n",
    "            .85,\n",
    "            .95])\n",
    " )"
   ]
  },
  {
   "cell_type": "code",
   "execution_count": null,
   "metadata": {
    "kernel": "python3"
   },
   "outputs": [],
   "source": [
    "(pd.read_csv('SBC_pollution_China.gz')\n",
    " .groupby('industry')['tso2_i']\n",
    " .min()\n",
    " .quantile([.1,\n",
    "            .15,\n",
    "            .25,\n",
    "            .5,\n",
    "            .70,\n",
    "            .75,\n",
    "            .80,\n",
    "            .85,\n",
    "            .95])\n",
    " )"
   ]
  },
  {
   "cell_type": "code",
   "execution_count": null,
   "metadata": {
    "kernel": "R"
   },
   "outputs": [],
   "source": [
    "options(warn=-1)\n",
    "library(tidyverse)\n",
    "library(lfe)\n",
    "library(lazyeval)\n",
    "library('progress')\n",
    "\n",
    "path = \"functions/SBC_pollution_R.R\"\n",
    "source(path)\n",
    "path = \"functions/SBC_pollutiuon_golatex.R\"\n",
    "source(path)\n",
    "\n",
    "df_final <- read_csv('SBC_pollution_China.gz') %>% \n",
    "    mutate_if(is.character, as.factor) %>%\n",
    "    mutate_at(vars(starts_with(\"FE\")), as.factor) %>%\n",
    "    mutate(\n",
    "         Period = relevel(Period, ref='Before'),\n",
    "         TCZ_c = relevel(TCZ_c, ref='No_TCZ'),\n",
    "         effort_c = relevel(effort_c, ref='Below'),\n",
    "         polluted_di = relevel(polluted_di, ref='Below'),\n",
    "         polluted_mi = relevel(polluted_mi, ref='Below'),\n",
    "         polluted_thre = relevel(polluted_thre, ref='Below'),\n",
    "        intensity = tso2_i/ va_i,\n",
    "         test = factor(ifelse(pollution_intensity_i > 4.706910,\n",
    "                    'Above',\n",
    "                    'Below'),\n",
    "                       levels = c(\"Above\",\"Below\")\n",
    "                       ),\n",
    "        test = relevel(test, ref='Below'),\n",
    "        test1 = factor(ifelse(tso2_i > 85663.755682,\n",
    "                    'Above',\n",
    "                    'Below'),\n",
    "                       levels = c(\"Above\",\"Below\")\n",
    "                       ),\n",
    "        test1 = relevel(test1, ref='Below'),\n",
    "        test2 = factor(ifelse(tso2_i > 130995.159574,\n",
    "                    'Above',\n",
    "                    'Below'),\n",
    "                       levels = c(\"Above\",\"Below\")\n",
    "                       ),\n",
    "        test2 = relevel(test2, ref='Below'),\n",
    "        test3 = factor(ifelse(tso2_i > 192945.487500,\n",
    "                    'Above',\n",
    "                    'Below'),\n",
    "                       levels = c(\"Above\",\"Below\")\n",
    "                       ),\n",
    "        test3 = relevel(test3, ref='Below')\n",
    "  ) \n",
    "glimpse(df_final)"
   ]
  },
  {
   "cell_type": "code",
   "execution_count": null,
   "metadata": {
    "kernel": "R"
   },
   "outputs": [],
   "source": [
    "t0 <- felm(formula=log(tso2_cit) ~ TCZ_c * Period * intensity * out_share_SOE\n",
    "                  + output_fcit + capital_fcit + labour_fcit\n",
    "                  |\n",
    "             FE_t_c + FE_t_i + FE_c_i  | 0 |\n",
    "             industry, data= df_final,\n",
    "             exactDOF=TRUE)\n",
    "summary(t0)"
   ]
  },
  {
   "cell_type": "code",
   "execution_count": null,
   "metadata": {
    "kernel": "R"
   },
   "outputs": [],
   "source": [
    "t0 <- felm(formula=log(tso2_cit) ~ TCZ_c * Period * test1 * out_share_SOE\n",
    "                  + output_fcit + capital_fcit + labour_fcit\n",
    "                  |\n",
    "             FE_t_c + FE_t_i + FE_c_i  | 0 |\n",
    "             industry, data= df_final,\n",
    "             exactDOF=TRUE)\n",
    "summary(t0)"
   ]
  },
  {
   "cell_type": "code",
   "execution_count": null,
   "metadata": {
    "kernel": "R"
   },
   "outputs": [],
   "source": [
    "t0 <- felm(formula=log(tso2_cit) ~ TCZ_c * Period * test2 * out_share_SOE\n",
    "                  + output_fcit + capital_fcit + labour_fcit\n",
    "                  |\n",
    "             FE_t_c + FE_t_i + FE_c_i  | 0 |\n",
    "             industry, data= df_final,\n",
    "             exactDOF=TRUE)\n",
    "summary(t0)"
   ]
  },
  {
   "cell_type": "code",
   "execution_count": null,
   "metadata": {
    "kernel": "R"
   },
   "outputs": [],
   "source": [
    "t0 <- felm(formula=log(tso2_cit) ~ TCZ_c * Period * test3 * out_share_SOE\n",
    "                  + output_fcit + capital_fcit + labour_fcit\n",
    "                  |\n",
    "             FE_t_c + FE_t_i + FE_c_i  | 0 |\n",
    "             industry, data= df_final,\n",
    "             exactDOF=TRUE)\n",
    "summary(t0)"
   ]
  },
  {
   "cell_type": "code",
   "execution_count": null,
   "metadata": {
    "kernel": "R"
   },
   "outputs": [],
   "source": [
    "t0 <- felm(formula=log(tso2_cit) ~ TCZ_c * Period * log(tso2_i) * out_share_SOE\n",
    "                  + output_fcit + capital_fcit + labour_fcit\n",
    "                  |\n",
    "             FE_t_c + FE_t_i + FE_c_i  | 0 |\n",
    "             industry, data= df_final,\n",
    "             exactDOF=TRUE)\n",
    "summary(t0)"
   ]
  },
  {
   "cell_type": "code",
   "execution_count": null,
   "metadata": {
    "kernel": "R"
   },
   "outputs": [],
   "source": [
    "t0 <- felm(formula=log(tso2_cit) ~ TCZ_c * Period * test * out_share_SOE\n",
    "                  + output_fcit + capital_fcit + labour_fcit\n",
    "                  |\n",
    "             FE_t_c + FE_t_i + FE_c_i  | 0 |\n",
    "             industry, data= df_final,\n",
    "             exactDOF=TRUE)\n",
    "summary(t0)"
   ]
  }
 ],
 "metadata": {
  "jupytext": {
   "cell_metadata_filter": "-all",
   "notebook_metadata_filter": "-all"
  },
  "kernelspec": {
   "display_name": "SoS",
   "language": "sos",
   "name": "sos"
  },
  "language_info": {
   "codemirror_mode": "sos",
   "file_extension": ".sos",
   "mimetype": "text/x-sos",
   "name": "sos",
   "nbconvert_exporter": "sos_notebook.converter.SoS_Exporter",
   "pygments_lexer": "sos"
  },
  "sos": {
   "kernels": [
    [
     "R",
     "ir",
     "R",
     "#DCDCDA",
     "r"
    ],
    [
     "SoS",
     "sos",
     "",
     "",
     "sos"
    ],
    [
     "python3",
     "python3",
     "python3",
     "",
     {
      "name": "ipython",
      "version": 3
     }
    ]
   ],
   "panel": {
    "displayed": true,
    "height": 0
   },
   "version": "0.20.6"
  },
  "toc": {
   "base_numbering": 1,
   "nav_menu": {},
   "number_sections": true,
   "sideBar": true,
   "skip_h1_title": false,
   "title_cell": "Table of Contents",
   "title_sidebar": "Contents",
   "toc_cell": false,
   "toc_position": {},
   "toc_section_display": true,
   "toc_window_display": true
  }
 },
 "nbformat": 4,
 "nbformat_minor": 4
}
