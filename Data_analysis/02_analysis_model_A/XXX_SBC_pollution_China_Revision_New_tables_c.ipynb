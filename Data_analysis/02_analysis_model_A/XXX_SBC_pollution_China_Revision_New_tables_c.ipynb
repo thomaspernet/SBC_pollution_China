{
 "cells": [
  {
   "cell_type": "markdown",
   "metadata": {
    "kernel": "SoS"
   },
   "source": [
    "# New Tables: City level\n",
    "\n",
    "* Faire les tableaux suivants:\n",
    "  * Tableau 4: Kuznet: benchmark → Revision\n",
    "      * Trouver un tableau avec les déciles pour montrer:\n",
    "        * turning point croissant pour des villes avec une dominance étatique de plus en plus large\n",
    "      * Regarder si gdp/cap prix constant\n",
    "      * Indiquer les turning points dans les tableaux\n",
    "* Partie 6:\n",
    "  * Tableau 8: \n",
    "    * estimer 2 modèles sur des échantillons differents\n",
    "      * modèle 1 →  TCZ * Polluted * Period\n",
    "      * modèle 2 → Target * polluted*Period  \n",
    "    * Echantillonnage → prendre soit industry soit city industry\n",
    "      * Big\n",
    "        * Via Herfhindal \n",
    "          * benchmark →Revision\n",
    "      * Foreign \n",
    "        * via output/capital/employment \n",
    "      * SOEs\n",
    "        * via output/capital/employment \n",
    "      * SPZ\n",
    "      * Coastal\n",
    "    * Chaque tableau avec Panel A pour supérieur threshold, Panel B pour inférieur threshold\n",
    "  * Tableau 9:\n",
    "    * Enlever SPZ & Coastal\n",
    "    * estimer 2 modèles sur des échantillons differents\n",
    "      * modèle 1 →  TCZ * Polluted * Period\n",
    "      * modèle 2 → Target * polluted*Period  \n",
    "    * Idem tableau 8\n",
    "    \n",
    "## Summary\n",
    "\n",
    "### Size\n",
    "\n",
    "| Size                       |              |              |              |              |              |              |\n",
    "|----------------------------|--------------|--------------|--------------|--------------|--------------|--------------|\n",
    "|                            | Below Median | Below Median | Below Median | Above Median | Above Median | Above Median |\n",
    "| TCZ * Period * Polluted    | -            |              | -            | -            |              | -*           |\n",
    "| Target * Period * Polluted |              | -***         | -***         |              | +            | +            |\n",
    "\n",
    "### Output\n",
    "\n",
    "|                            | Below median |     |         |     |         |     | Above Median |     |         |     |         |     |\n",
    "|----------------------------|--------------|-----|---------|-----|---------|-----|--------------|-----|---------|-----|---------|-----|\n",
    "|                            | Foreign      | SOE | Foreign | SOE | Foreign | SOE | Foreign      | SOE | Foreign | SOE | Foreign | SOE |\n",
    "| TCZ * Period * Polluted    | -            | -   |         |     | -       | -   | -            | -** |         |     | -       | -   |\n",
    "| Target * Period * Polluted |              |     | -       | -** | -       | -** |              |     | -**     | -** | -**     | -*  |\n",
    "\n",
    "### Capital\n",
    "\n",
    "|                            | Below median |     |         |     |         |     | Above Median |     |         |     |         |     |\n",
    "|----------------------------|--------------|-----|---------|-----|---------|-----|--------------|-----|---------|-----|---------|-----|\n",
    "|                            | Foreign      | SOE | Foreign | SOE | Foreign | SOE | Foreign      | SOE | Foreign | SOE | Foreign | SOE |\n",
    "| TCZ * Period * Polluted    | -            | -   |         |     | -       | -   | -**          | -*  |         |     | -**     | -   |\n",
    "| Target * Period * Polluted |              |     | -       | -** | -       | -** |              |     | -**     | -** | -*      | -*  |\n",
    "\n",
    "\n",
    "### employment\n",
    "\n",
    "|                            | Below median |     |         |     |         |     | Above Median |     |         |     |         |     |\n",
    "|----------------------------|--------------|-----|---------|-----|---------|-----|--------------|-----|---------|-----|---------|-----|\n",
    "|                            | Foreign      | SOE | Foreign | SOE | Foreign | SOE | Foreign      | SOE | Foreign | SOE | Foreign | SOE |\n",
    "| TCZ * Period * Polluted    | -            | -   |         |     | -       |     | -**          | -*  |         |     | -*      | -   |\n",
    "| Target * Period * Polluted |              |     | **      | -** | -**     | -** |              |     | -**     | -** | -*      | -*  |\n",
    "\n"
   ]
  },
  {
   "cell_type": "code",
   "execution_count": 1,
   "metadata": {
    "kernel": "SoS"
   },
   "outputs": [],
   "source": [
    "import pandas as pd\n",
    "from Fast_connectCloud import connector\n",
    "import numpy as np"
   ]
  },
  {
   "cell_type": "code",
   "execution_count": 2,
   "metadata": {
    "kernel": "Python 3"
   },
   "outputs": [],
   "source": [
    "import sys\n",
    "sys.path.insert(0,'..')"
   ]
  },
  {
   "cell_type": "code",
   "execution_count": 3,
   "metadata": {
    "kernel": "Python 3"
   },
   "outputs": [],
   "source": [
    "import functions.latex_beautify as lb\n",
    "\n",
    "%load_ext autoreload\n",
    "%autoreload 2"
   ]
  },
  {
   "cell_type": "code",
   "execution_count": 4,
   "metadata": {
    "kernel": "SoS"
   },
   "outputs": [
    {
     "name": "stdout",
     "output_type": "stream",
     "text": [
      "Service account storage and Bigquery are now connected. \n",
      "Service account storage is stored as <google.cloud.storage.client.Client object at 0xa27f22190> and accessible with \"Storage_account\" \n",
      "Service account Bigquery is stored as <google.cloud.bigquery.client.Client object at 0xa27f22ad0> and accessible with \"bigquery_account\"\n"
     ]
    }
   ],
   "source": [
    "gs = connector.open_connection(online_connection = False,\n",
    "                              path_credential = '/Users/thomas/Google Drive/Projects/Client_Oauth/Google_auth')\n",
    "\n",
    "service = gs.connect_remote('GCP')"
   ]
  },
  {
   "cell_type": "code",
   "execution_count": 5,
   "metadata": {
    "kernel": "SoS"
   },
   "outputs": [
    {
     "data": {
      "text/html": [
       "<div>\n",
       "<style scoped>\n",
       "    .dataframe tbody tr th:only-of-type {\n",
       "        vertical-align: middle;\n",
       "    }\n",
       "\n",
       "    .dataframe tbody tr th {\n",
       "        vertical-align: top;\n",
       "    }\n",
       "\n",
       "    .dataframe thead th {\n",
       "        text-align: right;\n",
       "    }\n",
       "</style>\n",
       "<table border=\"1\" class=\"dataframe\">\n",
       "  <thead>\n",
       "    <tr style=\"text-align: right;\">\n",
       "      <th></th>\n",
       "      <th>year</th>\n",
       "      <th>Period</th>\n",
       "      <th>Province_en</th>\n",
       "      <th>Lower_location</th>\n",
       "      <th>Larger_location</th>\n",
       "      <th>Coastal</th>\n",
       "      <th>cityen</th>\n",
       "      <th>geocode4_corr</th>\n",
       "      <th>TCZ_c</th>\n",
       "      <th>target_c</th>\n",
       "      <th>effort_c</th>\n",
       "      <th>industry</th>\n",
       "      <th>ind2</th>\n",
       "      <th>Short</th>\n",
       "      <th>output_fcit</th>\n",
       "      <th>capital_fcit</th>\n",
       "      <th>labour_fcit</th>\n",
       "      <th>out_share_SOE</th>\n",
       "      <th>cap_share_SOE</th>\n",
       "      <th>lab_share_SOE</th>\n",
       "      <th>tso2_cit</th>\n",
       "      <th>tso2_i</th>\n",
       "      <th>tCOD_cit</th>\n",
       "      <th>twaste_water_cit</th>\n",
       "      <th>polluted_di</th>\n",
       "      <th>polluted_mi</th>\n",
       "      <th>polluted_thre</th>\n",
       "      <th>FE_c_i</th>\n",
       "      <th>FE_t_i</th>\n",
       "      <th>FE_t_c</th>\n",
       "    </tr>\n",
       "  </thead>\n",
       "  <tbody>\n",
       "    <tr>\n",
       "      <th>0</th>\n",
       "      <td>2002</td>\n",
       "      <td>Before</td>\n",
       "      <td>Shanxi</td>\n",
       "      <td>Central</td>\n",
       "      <td>Central</td>\n",
       "      <td>False</td>\n",
       "      <td>Yuncheng</td>\n",
       "      <td>1408</td>\n",
       "      <td>TCZ</td>\n",
       "      <td>0.485030</td>\n",
       "      <td>Above</td>\n",
       "      <td>3329</td>\n",
       "      <td>33</td>\n",
       "      <td>Smelting Non-ferrous Metals</td>\n",
       "      <td>0.000687</td>\n",
       "      <td>0.000293</td>\n",
       "      <td>0.00036</td>\n",
       "      <td>0.027567</td>\n",
       "      <td>0.221018</td>\n",
       "      <td>0.113467</td>\n",
       "      <td>24500</td>\n",
       "      <td>168934.454545</td>\n",
       "      <td>0.0</td>\n",
       "      <td>500</td>\n",
       "      <td>Above</td>\n",
       "      <td>Below</td>\n",
       "      <td>Above</td>\n",
       "      <td>11104</td>\n",
       "      <td>1573</td>\n",
       "      <td>889</td>\n",
       "    </tr>\n",
       "    <tr>\n",
       "      <th>1</th>\n",
       "      <td>2006</td>\n",
       "      <td>After</td>\n",
       "      <td>Hunan</td>\n",
       "      <td>Central</td>\n",
       "      <td>Central</td>\n",
       "      <td>False</td>\n",
       "      <td>Xiangtan</td>\n",
       "      <td>4303</td>\n",
       "      <td>TCZ</td>\n",
       "      <td>0.092754</td>\n",
       "      <td>Below</td>\n",
       "      <td>3329</td>\n",
       "      <td>33</td>\n",
       "      <td>Smelting Non-ferrous Metals</td>\n",
       "      <td>0.000950</td>\n",
       "      <td>0.000148</td>\n",
       "      <td>0.00023</td>\n",
       "      <td>0.027567</td>\n",
       "      <td>0.221018</td>\n",
       "      <td>0.113467</td>\n",
       "      <td>2304</td>\n",
       "      <td>168934.454545</td>\n",
       "      <td>0.0</td>\n",
       "      <td>300</td>\n",
       "      <td>Above</td>\n",
       "      <td>Below</td>\n",
       "      <td>Above</td>\n",
       "      <td>11105</td>\n",
       "      <td>1574</td>\n",
       "      <td>420</td>\n",
       "    </tr>\n",
       "    <tr>\n",
       "      <th>2</th>\n",
       "      <td>2007</td>\n",
       "      <td>After</td>\n",
       "      <td>Hunan</td>\n",
       "      <td>Central</td>\n",
       "      <td>Central</td>\n",
       "      <td>False</td>\n",
       "      <td>Xiangtan</td>\n",
       "      <td>4303</td>\n",
       "      <td>TCZ</td>\n",
       "      <td>0.092754</td>\n",
       "      <td>Below</td>\n",
       "      <td>3329</td>\n",
       "      <td>33</td>\n",
       "      <td>Smelting Non-ferrous Metals</td>\n",
       "      <td>0.001715</td>\n",
       "      <td>0.000365</td>\n",
       "      <td>0.00023</td>\n",
       "      <td>0.027567</td>\n",
       "      <td>0.221018</td>\n",
       "      <td>0.113467</td>\n",
       "      <td>2304</td>\n",
       "      <td>168934.454545</td>\n",
       "      <td>0.0</td>\n",
       "      <td>240</td>\n",
       "      <td>Above</td>\n",
       "      <td>Below</td>\n",
       "      <td>Above</td>\n",
       "      <td>11105</td>\n",
       "      <td>1572</td>\n",
       "      <td>421</td>\n",
       "    </tr>\n",
       "    <tr>\n",
       "      <th>3</th>\n",
       "      <td>2007</td>\n",
       "      <td>After</td>\n",
       "      <td>Liaoning</td>\n",
       "      <td>Northeast</td>\n",
       "      <td>Eastern</td>\n",
       "      <td>True</td>\n",
       "      <td>Jinzhou</td>\n",
       "      <td>2107</td>\n",
       "      <td>TCZ</td>\n",
       "      <td>0.080512</td>\n",
       "      <td>Below</td>\n",
       "      <td>3329</td>\n",
       "      <td>33</td>\n",
       "      <td>Smelting Non-ferrous Metals</td>\n",
       "      <td>0.007730</td>\n",
       "      <td>0.001296</td>\n",
       "      <td>0.00089</td>\n",
       "      <td>0.027567</td>\n",
       "      <td>0.221018</td>\n",
       "      <td>0.113467</td>\n",
       "      <td>3200</td>\n",
       "      <td>168934.454545</td>\n",
       "      <td>0.0</td>\n",
       "      <td>0</td>\n",
       "      <td>Above</td>\n",
       "      <td>Below</td>\n",
       "      <td>Above</td>\n",
       "      <td>11103</td>\n",
       "      <td>1572</td>\n",
       "      <td>287</td>\n",
       "    </tr>\n",
       "    <tr>\n",
       "      <th>4</th>\n",
       "      <td>2002</td>\n",
       "      <td>Before</td>\n",
       "      <td>Liaoning</td>\n",
       "      <td>Northeast</td>\n",
       "      <td>Eastern</td>\n",
       "      <td>True</td>\n",
       "      <td>Shenyang</td>\n",
       "      <td>2101</td>\n",
       "      <td>TCZ</td>\n",
       "      <td>0.230076</td>\n",
       "      <td>Above</td>\n",
       "      <td>3329</td>\n",
       "      <td>33</td>\n",
       "      <td>Smelting Non-ferrous Metals</td>\n",
       "      <td>0.000997</td>\n",
       "      <td>0.000052</td>\n",
       "      <td>0.00135</td>\n",
       "      <td>0.027567</td>\n",
       "      <td>0.221018</td>\n",
       "      <td>0.113467</td>\n",
       "      <td>3840</td>\n",
       "      <td>168934.454545</td>\n",
       "      <td>0.0</td>\n",
       "      <td>3500</td>\n",
       "      <td>Above</td>\n",
       "      <td>Below</td>\n",
       "      <td>Above</td>\n",
       "      <td>11106</td>\n",
       "      <td>1573</td>\n",
       "      <td>432</td>\n",
       "    </tr>\n",
       "  </tbody>\n",
       "</table>\n",
       "</div>"
      ],
      "text/plain": [
       "   year  Period Province_en  ... FE_c_i FE_t_i  FE_t_c\n",
       "0  2002  Before      Shanxi  ...  11104   1573     889\n",
       "1  2006   After       Hunan  ...  11105   1574     420\n",
       "2  2007   After       Hunan  ...  11105   1572     421\n",
       "3  2007   After    Liaoning  ...  11103   1572     287\n",
       "4  2002  Before    Liaoning  ...  11106   1573     432\n",
       "\n",
       "[5 rows x 30 columns]"
      ]
     },
     "execution_count": 5,
     "metadata": {},
     "output_type": "execute_result"
    },
    {
     "name": "stderr",
     "output_type": "stream",
     "text": [
      "/Users/thomas/anaconda3/lib/python3.7/site-packages/pyarrow/feather.py:83: FutureWarning: The SparseDataFrame class is removed from pandas. Accessing it from the top-level namespace will also be removed in the next version\n",
      "  if isinstance(df, _pandas_api.pd.SparseDataFrame):\n"
     ]
    }
   ],
   "source": [
    "%put df_final --to R\n",
    "\n",
    "from GoogleDrivePy.google_platform import connect_cloud_platform\n",
    "project = 'valid-pagoda-132423'\n",
    "gcp = connect_cloud_platform.connect_console(project = project, \n",
    "                                             service_account = service['GoogleCloudP'])    \n",
    "query = (\n",
    "          \"SELECT * \"\n",
    "            \"FROM China.SBC_pollution_China \"\n",
    "\n",
    "        )\n",
    "\n",
    "df_final = gcp.upload_data_from_bigquery(query = query, location = 'US')\n",
    "df_final.head()"
   ]
  },
  {
   "cell_type": "markdown",
   "metadata": {
    "kernel": "SoS"
   },
   "source": [
    "Get the industries available in our dataset, so that we match the firm level table"
   ]
  },
  {
   "cell_type": "code",
   "execution_count": 6,
   "metadata": {
    "kernel": "SoS"
   },
   "outputs": [],
   "source": [
    "list_city = df_final['geocode4_corr'].to_list()"
   ]
  },
  {
   "cell_type": "code",
   "execution_count": 7,
   "metadata": {
    "kernel": "R"
   },
   "outputs": [
    {
     "name": "stderr",
     "output_type": "stream",
     "text": [
      "── \u001b[1mAttaching packages\u001b[22m ─────────────────────────────────────── tidyverse 1.3.0 ──\n",
      "\n",
      "\u001b[32m✔\u001b[39m \u001b[34mggplot2\u001b[39m 3.3.0     \u001b[32m✔\u001b[39m \u001b[34mpurrr  \u001b[39m 0.3.3\n",
      "\u001b[32m✔\u001b[39m \u001b[34mtibble \u001b[39m 3.0.0     \u001b[32m✔\u001b[39m \u001b[34mdplyr  \u001b[39m 0.8.5\n",
      "\u001b[32m✔\u001b[39m \u001b[34mtidyr  \u001b[39m 1.0.2     \u001b[32m✔\u001b[39m \u001b[34mstringr\u001b[39m 1.4.0\n",
      "\u001b[32m✔\u001b[39m \u001b[34mreadr  \u001b[39m 1.3.1     \u001b[32m✔\u001b[39m \u001b[34mforcats\u001b[39m 0.5.0\n",
      "\n",
      "── \u001b[1mConflicts\u001b[22m ────────────────────────────────────────── tidyverse_conflicts() ──\n",
      "\u001b[31m✖\u001b[39m \u001b[34mdplyr\u001b[39m::\u001b[32mfilter()\u001b[39m masks \u001b[34mstats\u001b[39m::filter()\n",
      "\u001b[31m✖\u001b[39m \u001b[34mdplyr\u001b[39m::\u001b[32mlag()\u001b[39m    masks \u001b[34mstats\u001b[39m::lag()\n",
      "\n",
      "Loading required package: Matrix\n",
      "\n",
      "\n",
      "Attaching package: ‘Matrix’\n",
      "\n",
      "\n",
      "The following objects are masked from ‘package:tidyr’:\n",
      "\n",
      "    expand, pack, unpack\n",
      "\n",
      "\n",
      "\n",
      "Attaching package: ‘lazyeval’\n",
      "\n",
      "\n",
      "The following objects are masked from ‘package:purrr’:\n",
      "\n",
      "    is_atomic, is_formula\n",
      "\n",
      "\n",
      "\n",
      "Please cite as: \n",
      "\n",
      "\n",
      " Hlavac, Marek (2018). stargazer: Well-Formatted Regression and Summary Statistics Tables.\n",
      "\n",
      " R package version 5.2.2. https://CRAN.R-project.org/package=stargazer \n",
      "\n",
      "\n"
     ]
    }
   ],
   "source": [
    "options(warn=-1)\n",
    "library(tidyverse)\n",
    "library(lfe)\n",
    "library(lazyeval)\n",
    "library('progress')\n",
    "\n",
    "path = \"../functions/SBC_pollution_R.R\"\n",
    "source(path)\n",
    "path = \"../functions/SBC_pollutiuon_golatex.R\"\n",
    "source(path)"
   ]
  },
  {
   "cell_type": "code",
   "execution_count": 8,
   "metadata": {
    "kernel": "R"
   },
   "outputs": [
    {
     "data": {
      "text/html": [
       "<table>\n",
       "<caption>A data.frame: 6 × 30</caption>\n",
       "<thead>\n",
       "\t<tr><th></th><th scope=col>year</th><th scope=col>Period</th><th scope=col>Province_en</th><th scope=col>Lower_location</th><th scope=col>Larger_location</th><th scope=col>Coastal</th><th scope=col>cityen</th><th scope=col>geocode4_corr</th><th scope=col>TCZ_c</th><th scope=col>target_c</th><th scope=col>⋯</th><th scope=col>tso2_cit</th><th scope=col>tso2_i</th><th scope=col>tCOD_cit</th><th scope=col>twaste_water_cit</th><th scope=col>polluted_di</th><th scope=col>polluted_mi</th><th scope=col>polluted_thre</th><th scope=col>FE_c_i</th><th scope=col>FE_t_i</th><th scope=col>FE_t_c</th></tr>\n",
       "\t<tr><th></th><th scope=col>&lt;dbl&gt;</th><th scope=col>&lt;fct&gt;</th><th scope=col>&lt;fct&gt;</th><th scope=col>&lt;fct&gt;</th><th scope=col>&lt;fct&gt;</th><th scope=col>&lt;lgl&gt;</th><th scope=col>&lt;fct&gt;</th><th scope=col>&lt;dbl&gt;</th><th scope=col>&lt;fct&gt;</th><th scope=col>&lt;dbl&gt;</th><th scope=col>⋯</th><th scope=col>&lt;dbl&gt;</th><th scope=col>&lt;dbl&gt;</th><th scope=col>&lt;dbl&gt;</th><th scope=col>&lt;dbl&gt;</th><th scope=col>&lt;fct&gt;</th><th scope=col>&lt;fct&gt;</th><th scope=col>&lt;fct&gt;</th><th scope=col>&lt;fct&gt;</th><th scope=col>&lt;fct&gt;</th><th scope=col>&lt;fct&gt;</th></tr>\n",
       "</thead>\n",
       "<tbody>\n",
       "\t<tr><th scope=row>1</th><td>2002</td><td>Before</td><td>Shanxi   </td><td>Central  </td><td>Central</td><td>FALSE</td><td>Yuncheng</td><td>1408</td><td>TCZ   </td><td>0.48502998</td><td>⋯</td><td>24500</td><td>168934.5</td><td>    0</td><td>   500</td><td>Above</td><td>Below</td><td>Above</td><td>11104</td><td>1573</td><td>889</td></tr>\n",
       "\t<tr><th scope=row>2</th><td>2006</td><td>After </td><td>Hunan    </td><td>Central  </td><td>Central</td><td>FALSE</td><td>Xiangtan</td><td>4303</td><td>TCZ   </td><td>0.09275420</td><td>⋯</td><td> 2304</td><td>168934.5</td><td>    0</td><td>   300</td><td>Above</td><td>Below</td><td>Above</td><td>11105</td><td>1574</td><td>420</td></tr>\n",
       "\t<tr><th scope=row>3</th><td>2007</td><td>After </td><td>Hunan    </td><td>Central  </td><td>Central</td><td>FALSE</td><td>Xiangtan</td><td>4303</td><td>TCZ   </td><td>0.09275420</td><td>⋯</td><td> 2304</td><td>168934.5</td><td>    0</td><td>   240</td><td>Above</td><td>Below</td><td>Above</td><td>11105</td><td>1572</td><td>421</td></tr>\n",
       "\t<tr><th scope=row>4</th><td>2007</td><td>After </td><td>Liaoning </td><td>Northeast</td><td>Eastern</td><td> TRUE</td><td>Jinzhou </td><td>2107</td><td>TCZ   </td><td>0.08051164</td><td>⋯</td><td> 3200</td><td>168934.5</td><td>    0</td><td>     0</td><td>Above</td><td>Below</td><td>Above</td><td>11103</td><td>1572</td><td>287</td></tr>\n",
       "\t<tr><th scope=row>5</th><td>2002</td><td>Before</td><td>Liaoning </td><td>Northeast</td><td>Eastern</td><td> TRUE</td><td>Shenyang</td><td>2101</td><td>TCZ   </td><td>0.23007570</td><td>⋯</td><td> 3840</td><td>168934.5</td><td>    0</td><td>  3500</td><td>Above</td><td>Below</td><td>Above</td><td>11106</td><td>1573</td><td>432</td></tr>\n",
       "\t<tr><th scope=row>6</th><td>2002</td><td>Before</td><td>Guangdong</td><td>Coastal  </td><td>Eastern</td><td> TRUE</td><td>Meizhou </td><td>4414</td><td>No_TCZ</td><td>0.02596999</td><td>⋯</td><td>72752</td><td>168934.5</td><td>15500</td><td>115000</td><td>Above</td><td>Below</td><td>Above</td><td>11107</td><td>1573</td><td>909</td></tr>\n",
       "</tbody>\n",
       "</table>\n"
      ],
      "text/latex": [
       "A data.frame: 6 × 30\n",
       "\\begin{tabular}{r|lllllllllllllllllllll}\n",
       "  & year & Period & Province\\_en & Lower\\_location & Larger\\_location & Coastal & cityen & geocode4\\_corr & TCZ\\_c & target\\_c & ⋯ & tso2\\_cit & tso2\\_i & tCOD\\_cit & twaste\\_water\\_cit & polluted\\_di & polluted\\_mi & polluted\\_thre & FE\\_c\\_i & FE\\_t\\_i & FE\\_t\\_c\\\\\n",
       "  & <dbl> & <fct> & <fct> & <fct> & <fct> & <lgl> & <fct> & <dbl> & <fct> & <dbl> & ⋯ & <dbl> & <dbl> & <dbl> & <dbl> & <fct> & <fct> & <fct> & <fct> & <fct> & <fct>\\\\\n",
       "\\hline\n",
       "\t1 & 2002 & Before & Shanxi    & Central   & Central & FALSE & Yuncheng & 1408 & TCZ    & 0.48502998 & ⋯ & 24500 & 168934.5 &     0 &    500 & Above & Below & Above & 11104 & 1573 & 889\\\\\n",
       "\t2 & 2006 & After  & Hunan     & Central   & Central & FALSE & Xiangtan & 4303 & TCZ    & 0.09275420 & ⋯ &  2304 & 168934.5 &     0 &    300 & Above & Below & Above & 11105 & 1574 & 420\\\\\n",
       "\t3 & 2007 & After  & Hunan     & Central   & Central & FALSE & Xiangtan & 4303 & TCZ    & 0.09275420 & ⋯ &  2304 & 168934.5 &     0 &    240 & Above & Below & Above & 11105 & 1572 & 421\\\\\n",
       "\t4 & 2007 & After  & Liaoning  & Northeast & Eastern &  TRUE & Jinzhou  & 2107 & TCZ    & 0.08051164 & ⋯ &  3200 & 168934.5 &     0 &      0 & Above & Below & Above & 11103 & 1572 & 287\\\\\n",
       "\t5 & 2002 & Before & Liaoning  & Northeast & Eastern &  TRUE & Shenyang & 2101 & TCZ    & 0.23007570 & ⋯ &  3840 & 168934.5 &     0 &   3500 & Above & Below & Above & 11106 & 1573 & 432\\\\\n",
       "\t6 & 2002 & Before & Guangdong & Coastal   & Eastern &  TRUE & Meizhou  & 4414 & No\\_TCZ & 0.02596999 & ⋯ & 72752 & 168934.5 & 15500 & 115000 & Above & Below & Above & 11107 & 1573 & 909\\\\\n",
       "\\end{tabular}\n"
      ],
      "text/markdown": [
       "\n",
       "A data.frame: 6 × 30\n",
       "\n",
       "| <!--/--> | year &lt;dbl&gt; | Period &lt;fct&gt; | Province_en &lt;fct&gt; | Lower_location &lt;fct&gt; | Larger_location &lt;fct&gt; | Coastal &lt;lgl&gt; | cityen &lt;fct&gt; | geocode4_corr &lt;dbl&gt; | TCZ_c &lt;fct&gt; | target_c &lt;dbl&gt; | ⋯ ⋯ | tso2_cit &lt;dbl&gt; | tso2_i &lt;dbl&gt; | tCOD_cit &lt;dbl&gt; | twaste_water_cit &lt;dbl&gt; | polluted_di &lt;fct&gt; | polluted_mi &lt;fct&gt; | polluted_thre &lt;fct&gt; | FE_c_i &lt;fct&gt; | FE_t_i &lt;fct&gt; | FE_t_c &lt;fct&gt; |\n",
       "|---|---|---|---|---|---|---|---|---|---|---|---|---|---|---|---|---|---|---|---|---|---|\n",
       "| 1 | 2002 | Before | Shanxi    | Central   | Central | FALSE | Yuncheng | 1408 | TCZ    | 0.48502998 | ⋯ | 24500 | 168934.5 |     0 |    500 | Above | Below | Above | 11104 | 1573 | 889 |\n",
       "| 2 | 2006 | After  | Hunan     | Central   | Central | FALSE | Xiangtan | 4303 | TCZ    | 0.09275420 | ⋯ |  2304 | 168934.5 |     0 |    300 | Above | Below | Above | 11105 | 1574 | 420 |\n",
       "| 3 | 2007 | After  | Hunan     | Central   | Central | FALSE | Xiangtan | 4303 | TCZ    | 0.09275420 | ⋯ |  2304 | 168934.5 |     0 |    240 | Above | Below | Above | 11105 | 1572 | 421 |\n",
       "| 4 | 2007 | After  | Liaoning  | Northeast | Eastern |  TRUE | Jinzhou  | 2107 | TCZ    | 0.08051164 | ⋯ |  3200 | 168934.5 |     0 |      0 | Above | Below | Above | 11103 | 1572 | 287 |\n",
       "| 5 | 2002 | Before | Liaoning  | Northeast | Eastern |  TRUE | Shenyang | 2101 | TCZ    | 0.23007570 | ⋯ |  3840 | 168934.5 |     0 |   3500 | Above | Below | Above | 11106 | 1573 | 432 |\n",
       "| 6 | 2002 | Before | Guangdong | Coastal   | Eastern |  TRUE | Meizhou  | 4414 | No_TCZ | 0.02596999 | ⋯ | 72752 | 168934.5 | 15500 | 115000 | Above | Below | Above | 11107 | 1573 | 909 |\n",
       "\n"
      ],
      "text/plain": [
       "  year Period Province_en Lower_location Larger_location Coastal cityen  \n",
       "1 2002 Before Shanxi      Central        Central         FALSE   Yuncheng\n",
       "2 2006 After  Hunan       Central        Central         FALSE   Xiangtan\n",
       "3 2007 After  Hunan       Central        Central         FALSE   Xiangtan\n",
       "4 2007 After  Liaoning    Northeast      Eastern          TRUE   Jinzhou \n",
       "5 2002 Before Liaoning    Northeast      Eastern          TRUE   Shenyang\n",
       "6 2002 Before Guangdong   Coastal        Eastern          TRUE   Meizhou \n",
       "  geocode4_corr TCZ_c  target_c   ⋯ tso2_cit tso2_i   tCOD_cit twaste_water_cit\n",
       "1 1408          TCZ    0.48502998 ⋯ 24500    168934.5     0       500          \n",
       "2 4303          TCZ    0.09275420 ⋯  2304    168934.5     0       300          \n",
       "3 4303          TCZ    0.09275420 ⋯  2304    168934.5     0       240          \n",
       "4 2107          TCZ    0.08051164 ⋯  3200    168934.5     0         0          \n",
       "5 2101          TCZ    0.23007570 ⋯  3840    168934.5     0      3500          \n",
       "6 4414          No_TCZ 0.02596999 ⋯ 72752    168934.5 15500    115000          \n",
       "  polluted_di polluted_mi polluted_thre FE_c_i FE_t_i FE_t_c\n",
       "1 Above       Below       Above         11104  1573   889   \n",
       "2 Above       Below       Above         11105  1574   420   \n",
       "3 Above       Below       Above         11105  1572   421   \n",
       "4 Above       Below       Above         11103  1572   287   \n",
       "5 Above       Below       Above         11106  1573   432   \n",
       "6 Above       Below       Above         11107  1573   909   "
      ]
     },
     "metadata": {},
     "output_type": "display_data"
    }
   ],
   "source": [
    "df_final <- df_final %>% \n",
    "    mutate_if(is.character, as.factor) %>%\n",
    "    mutate_at(vars(starts_with(\"FE\")), as.factor) %>%\n",
    "    mutate(\n",
    "         Period = relevel(Period, ref='Before'),\n",
    "         TCZ_c = relevel(TCZ_c, ref='No_TCZ'),\n",
    "         effort_c = relevel(effort_c, ref='Below'),\n",
    "         polluted_di = relevel(polluted_di, ref='Below'),\n",
    "         polluted_mi = relevel(polluted_mi, ref='Below'),\n",
    "         polluted_thre = relevel(polluted_thre, ref='Below'),\n",
    "  )\n",
    "head(df_final)"
   ]
  },
  {
   "cell_type": "markdown",
   "metadata": {
    "kernel": "python3"
   },
   "source": [
    "# Partie 6"
   ]
  },
  {
   "cell_type": "markdown",
   "metadata": {
    "kernel": "python3"
   },
   "source": [
    "## Tableau 8 A and B \n",
    "\n",
    "Estimate the following models using different subsamples:\n",
    "\n",
    "### Model A \n",
    "\n",
    "$$\n",
    "Log SO2 emission _{i k t}=\\alpha\\left(\\text { Period } \\times \\text { TCZ }_{i} \\times \\text { Polluting sectors }_{k} \\right)+\\nu_{i k}+\\lambda_{i t}+\\phi_{k t}+\\epsilon_{i k t}\n",
    "$$\n",
    "\n",
    "$$\n",
    "Log SO2 emission _{i k t}=\\alpha\\left(\\text { Period } \\times \\text { TCZ }_{i} \\times \\text { Polluting sectors }_{k} \\times \\text{ Share X}_i \\right)+\\nu_{i k}+\\lambda_{i t}+\\phi_{k t}+\\epsilon_{i k t}\n",
    "$$\n",
    "\n",
    "* Size\n",
    "    * Via Herfhindal \n",
    "        * benchmark →Revision\n",
    "* Foreign \n",
    "    * via output/capital/employment \n",
    "* SOEs\n",
    "    * via output/capital/employment \n",
    "* SPZ\n",
    "* Coastal"
   ]
  },
  {
   "cell_type": "markdown",
   "metadata": {
    "kernel": "python3"
   },
   "source": [
    "## Load Data"
   ]
  },
  {
   "cell_type": "markdown",
   "metadata": {
    "kernel": "python3"
   },
   "source": [
    "### Compute Herfhindal: proxy Size\n",
    "\n",
    "$$\n",
    "H=\\sum_{i=1}^{N} s_{i}^{2}\n",
    "$$\n",
    "\n",
    "where $s_i$ is the market share of industry $i$ in a city, and $N$ is the number of firms. \n",
    "\n",
    "We proceed as follow:\n",
    "- Step 1: Compute the share [output, capital, employment] by city-industry: `market_share_cit`\n",
    "- Step 2: compute the sum of squared market share by city: `Herfindahl_ct`\n",
    "- Step 3: Compute the average across time: `Herfindahl_c`\n",
    "- Step 4: Compute the deciles of step 3: `decile_herfhindal_c`\n",
    "    - Low decile implies a low concentration within sectors\n",
    "    - High decile implies a high concentration within sectors"
   ]
  },
  {
   "cell_type": "code",
   "execution_count": 9,
   "metadata": {
    "kernel": "SoS"
   },
   "outputs": [
    {
     "data": {
      "text/plain": [
       "(228, 2)"
      ]
     },
     "execution_count": 9,
     "metadata": {},
     "output_type": "execute_result"
    }
   ],
   "source": [
    "query = \"\"\"\n",
    "WITH sum_cit AS (\n",
    "  SELECT geocode4_corr, cic, sum(output) as sum_o_cit, year\n",
    "  FROM China.asif_firm_china \n",
    "  WHERE year >= 2002 AND year <= 2007\n",
    "  GROUP BY geocode4_corr, cic, year\n",
    ") \n",
    "SELECT * \n",
    "FROM \n",
    "  (WITH sum_ct AS (\n",
    "    SELECT geocode4_corr, SUM(sum_o_cit) as sum_o_ct, year\n",
    "    FROM sum_cit\n",
    "    WHERE year >= 2002 AND year <= 2007\n",
    "    GROUP BY year, geocode4_corr\n",
    ")\n",
    "SELECT *\n",
    "FROM\n",
    "  (WITH ms_cit AS (\n",
    "    SELECT  sum_cit.cic, sum_cit.geocode4_corr, sum_cit.year,\n",
    "    sum_cit.sum_o_cit/NULLIF(sum_ct.sum_o_ct, 0) as market_share_cit\n",
    "    FROM sum_cit\n",
    "    LEFT JOIN sum_ct\n",
    "ON (\n",
    "sum_cit.year = sum_ct.year AND \n",
    "sum_cit.geocode4_corr = sum_ct.geocode4_corr\n",
    ")\n",
    ")\n",
    "SELECT *\n",
    "FROM\n",
    "  (WITH agg_1 AS (\n",
    "SELECT geocode4_corr, SUM(POW(market_share_cit, 2)) as Herfindahl_ct,\n",
    "year\n",
    "FROM ms_cit\n",
    "GROUP BY year, geocode4_corr\n",
    "ORDER BY year, geocode4_corr \n",
    ")\n",
    "SELECT geocode4_corr, AVG(Herfindahl_ct) as Herfindahl_c\n",
    "FROM agg_1\n",
    "GROUP BY geocode4_corr\n",
    "ORDER BY geocode4_corr\n",
    ")))\n",
    "\"\"\"\n",
    "df_herfhindal = (gcp.upload_data_from_bigquery(query = query,\n",
    "                                         location = 'US')\n",
    "                 .loc[lambda x: x['geocode4_corr'].isin(list_city)]\n",
    "                )\n",
    "df_herfhindal.shape"
   ]
  },
  {
   "cell_type": "markdown",
   "metadata": {
    "kernel": "SoS"
   },
   "source": [
    "### Compute Ownership: proxy Foreign/SOE\n",
    "\n",
    "$$\\sum output_{io}/ \\sum output_i$$\n",
    "\n",
    "- with $i$ stands for industry\n",
    "- $o$ stands for ownership (Foreign vs Domestic or SOE vs private)\n",
    "\n"
   ]
  },
  {
   "cell_type": "markdown",
   "metadata": {
    "kernel": "SoS"
   },
   "source": [
    "#### Foreign vs domestic\n",
    "\n",
    "We proceed as follow:\n",
    "- Step 1: Compute the share [output, capital, employment] by city, ownership (Foreign/Domestic): `Share_X_co`\n",
    "- Step 2: Compute dummy when share Foreign above share domestic by city\n",
    "- Step 3: Compute decile by city-ownership\n",
    "    - Note,  high decile in Foreign means the city has relatively high share of foreign output, but not in absolule value as in step 2. A decile 9 in foreign can be a decile 2 or 3 in Domestic"
   ]
  },
  {
   "cell_type": "code",
   "execution_count": 10,
   "metadata": {
    "kernel": "SoS"
   },
   "outputs": [
    {
     "data": {
      "text/plain": [
       "(220, 5)"
      ]
     },
     "execution_count": 10,
     "metadata": {},
     "output_type": "execute_result"
    }
   ],
   "source": [
    "query_share_foreign = \"\"\" \n",
    "WITH sum_co AS (\n",
    "  SELECT \n",
    "    case WHEN ownership = 'Foreign' THEN 'FOREIGN' ELSE 'DOMESTIC' END AS OWNERSHIP, \n",
    "    SUM(output / 10000000) as output_co, \n",
    "    SUM(fa_net / 10000000) as fa_net_co, \n",
    "    SUM(employment / 100000) as employment_co,\n",
    "    geocode4_corr\n",
    "  FROM \n",
    "    China.asif_firm_china \n",
    "  WHERE \n",
    "    year >= 2002 \n",
    "    AND year <= 2007\n",
    "    AND output > 0 \n",
    "    AND fa_net > 0 \n",
    "    AND employment > 0 \n",
    "  GROUP BY \n",
    "    OWNERSHIP, \n",
    "    geocode4_corr\n",
    ") \n",
    "SELECT \n",
    "  * \n",
    "FROM \n",
    "  (\n",
    "    WITH sum_c AS(\n",
    "      SELECT \n",
    "        SUM(output_co) as output_c, \n",
    "        SUM(fa_net_co) as fa_net_c, \n",
    "        SUM(employment_co) as employment_c, \n",
    "        geocode4_corr AS geocode4_corr_b\n",
    "      FROM \n",
    "        sum_co \n",
    "      GROUP BY \n",
    "        geocode4_corr\n",
    "    ) \n",
    "    SELECT \n",
    "      * \n",
    "    FROM \n",
    "      (\n",
    "        WITH share_co AS(\n",
    "          SELECT \n",
    "            OWNERSHIP, \n",
    "            output_co / output_c AS share_output_co, \n",
    "            fa_net_co / fa_net_c AS share_fa_net_co, \n",
    "            employment_co / employment_c AS share_employement_co, \n",
    "            geocode4_corr\n",
    "          FROM \n",
    "            sum_co \n",
    "            LEFT JOIN sum_c ON sum_co.geocode4_corr = sum_c.geocode4_corr_b \n",
    "        ) \n",
    "        SELECT \n",
    "        geocode4_corr,\n",
    "        OWNERSHIP,  \n",
    "          share_output_co,\n",
    "          share_fa_net_co,\n",
    "          share_employement_co\n",
    "        FROM share_co\n",
    "        WHERE OWNERSHIP = 'FOREIGN'\n",
    "        )\n",
    "        )\n",
    "\"\"\"\n",
    "df_share_foreign = (gcp.upload_data_from_bigquery(query = query_share_foreign,\n",
    "                                         location = 'US')\n",
    "                    .loc[lambda x: x['geocode4_corr'].isin(list_city)]\n",
    "                   )\n",
    "df_share_foreign.shape\n",
    "#df_share_foreign['rank_share_output_i'].value_counts().sort_index()"
   ]
  },
  {
   "cell_type": "code",
   "execution_count": 11,
   "metadata": {
    "kernel": "SoS"
   },
   "outputs": [],
   "source": [
    "#df_share_foreign_ = (df_share_foreign\n",
    "# .set_index(['industry', 'OWNERSHIP'])\n",
    "# .drop(columns = ['rank_share_output_i',\n",
    "#                  'rank_share_capital_i',\n",
    "#                  'rank_share_employement_i'])\n",
    "# .unstack(-1)\n",
    "# .fillna(0)\n",
    "# .assign(\n",
    "# output = lambda x: np.where(\n",
    "#     x.iloc[:,1] > x.iloc[:,0],\n",
    "#     'Above', 'Below'\n",
    "# ),\n",
    "#     capital = lambda x: np.where(\n",
    "#     x.iloc[:,3] > x.iloc[:,0],\n",
    "#     'Above', 'Below'\n",
    "# ),\n",
    "#     employment = lambda x: np.where(\n",
    "#     x.iloc[:,5] > x.iloc[:,0],\n",
    "#     'Above', 'Below'\n",
    "# )\n",
    "# )\n",
    "# .iloc[:, -3:]\n",
    "# .droplevel(level = 1, axis = 1)\n",
    "# .reset_index()\n",
    "#)\n",
    "#for i in ['output','capital', 'employment']:\n",
    "#    print(df_share_foreign_[i].value_counts().sort_index())"
   ]
  },
  {
   "cell_type": "code",
   "execution_count": 12,
   "metadata": {
    "kernel": "SoS"
   },
   "outputs": [],
   "source": [
    "#df_share_foreign =  (df_share_foreign\n",
    "# .set_index(['industry','OWNERSHIP'])\n",
    "# .drop(columns = ['share_output_io',\n",
    "#                  'share_fa_net_io',\n",
    "#                  'share_employement_io'])\n",
    "# .xs('FOREIGN', level='OWNERSHIP', axis=0)\n",
    "# .reset_index()\n",
    "# .merge(df_share_foreign_)\n",
    "#)"
   ]
  },
  {
   "cell_type": "markdown",
   "metadata": {
    "kernel": "SoS"
   },
   "source": [
    "#### SOE\n",
    "\n",
    "We proceed as follow:\n",
    "- Step 1: Compute the share [output, capital, employment] by city, ownership (SOE/Private): `Share_X_co`\n",
    "- Step 2: Compute dummy when share SOE above share Private by city\n",
    "- Step 3: Compute decile by city-ownership\n",
    "    - Note,  high decile in SOE means the city has relatively high share of SOE output, but not in absolule value as in step 2. A decile 9 in SOE can be a decile 2 or 3 in Private"
   ]
  },
  {
   "cell_type": "code",
   "execution_count": 13,
   "metadata": {
    "kernel": "SoS"
   },
   "outputs": [
    {
     "data": {
      "text/plain": [
       "(228, 5)"
      ]
     },
     "execution_count": 13,
     "metadata": {},
     "output_type": "execute_result"
    }
   ],
   "source": [
    "query_share_soe = \"\"\" \n",
    "WITH sum_co AS (\n",
    "  SELECT \n",
    "    case WHEN ownership = 'SOE' THEN 'SOE' ELSE 'PRIVATE' END AS OWNERSHIP, \n",
    "    SUM(output / 10000000) as output_co, \n",
    "    SUM(fa_net / 10000000) as fa_net_co, \n",
    "    SUM(employment / 100000) as employment_co,\n",
    "    geocode4_corr\n",
    "  FROM \n",
    "    China.asif_firm_china \n",
    "  WHERE \n",
    "    year >= 2002 \n",
    "    AND year <= 2007\n",
    "    AND output > 0 \n",
    "    AND fa_net > 0 \n",
    "    AND employment > 0 \n",
    "  GROUP BY \n",
    "    OWNERSHIP, \n",
    "    geocode4_corr\n",
    ") \n",
    "SELECT \n",
    "  * \n",
    "FROM \n",
    "  (\n",
    "    WITH sum_c AS(\n",
    "      SELECT \n",
    "        SUM(output_co) as output_c, \n",
    "        SUM(fa_net_co) as fa_net_c, \n",
    "        SUM(employment_co) as employment_c, \n",
    "        geocode4_corr AS geocode4_corr_b\n",
    "      FROM \n",
    "        sum_co \n",
    "      GROUP BY \n",
    "        geocode4_corr\n",
    "    ) \n",
    "    SELECT \n",
    "      * \n",
    "    FROM \n",
    "      (\n",
    "        WITH share_co AS(\n",
    "          SELECT \n",
    "            OWNERSHIP, \n",
    "            output_co / output_c AS share_output_co, \n",
    "            fa_net_co / fa_net_c AS share_fa_net_co, \n",
    "            employment_co / employment_c AS share_employement_co, \n",
    "            geocode4_corr\n",
    "          FROM \n",
    "            sum_co \n",
    "            LEFT JOIN sum_c ON sum_co.geocode4_corr = sum_c.geocode4_corr_b \n",
    "        ) \n",
    "        SELECT \n",
    "        geocode4_corr,\n",
    "        OWNERSHIP,  \n",
    "          share_output_co,\n",
    "          share_fa_net_co,\n",
    "          share_employement_co\n",
    "        FROM share_co\n",
    "        WHERE OWNERSHIP = 'SOE'\n",
    "        )\n",
    "        )\n",
    "\"\"\"\n",
    "df_share_soe = (gcp.upload_data_from_bigquery(query = query_share_soe,\n",
    "                                         location = 'US')\n",
    "                .loc[lambda x: x['geocode4_corr'].isin(list_city)]\n",
    "                   )\n",
    "df_share_soe.shape\n",
    "#df_share_soe['rank_share_output_i'].value_counts().sort_index()"
   ]
  },
  {
   "cell_type": "code",
   "execution_count": 14,
   "metadata": {
    "kernel": "SoS"
   },
   "outputs": [],
   "source": [
    "#df_share_soe_ = (df_share_soe\n",
    "# .set_index(['industry', 'OWNERSHIP'])\n",
    "# .drop(columns = ['rank_share_output_i',\n",
    "#                  'rank_share_capital_i',\n",
    "#                  'rank_share_employement_i'])\n",
    "# .unstack(-1)\n",
    "# .fillna(0)\n",
    "# .assign(\n",
    "# output = lambda x: np.where(\n",
    "#     x.iloc[:,1] > x.iloc[:,0],\n",
    "#     'Above', 'Below'\n",
    "# ),\n",
    "#     capital = lambda x: np.where(\n",
    "#     x.iloc[:,3] > x.iloc[:,0],\n",
    "#     'Above', 'Below'\n",
    "# ),\n",
    "#     employment = lambda x: np.where(\n",
    "#     x.iloc[:,5] > x.iloc[:,0],\n",
    "#     'Above', 'Below'\n",
    "# )\n",
    "# )\n",
    "# .iloc[:, -3:]\n",
    "# .droplevel(level = 1, axis = 1)\n",
    "# .reset_index()\n",
    "#)\n",
    "\n",
    "#for i in ['output','capital', 'employment']:\n",
    "#    print(df_share_soe_[i].value_counts().sort_index())"
   ]
  },
  {
   "cell_type": "code",
   "execution_count": 15,
   "metadata": {
    "kernel": "SoS"
   },
   "outputs": [],
   "source": [
    "#df_share_soe = (df_share_soe\n",
    "# .set_index(['industry','OWNERSHIP'])\n",
    "# .drop(columns = ['share_output_io',\n",
    "#                  'share_fa_net_io',\n",
    "#                  'share_employement_io'])\n",
    "# .xs('SOE', level='OWNERSHIP', axis=0)\n",
    "# .reset_index()\n",
    "# .merge(df_share_soe_)\n",
    " #.loc[lambda x: x.index.get_level_values('OWNERSHIP').isin(['FOREIGN'])]\n",
    "#)\n",
    "#df_share_soe.head()"
   ]
  },
  {
   "cell_type": "markdown",
   "metadata": {
    "kernel": "SoS"
   },
   "source": [
    "### Load TCZ_list_china from Google Spreadsheet\n",
    "\n",
    "Feel free to add description about the dataset or any usefull information.\n",
    "\n",
    "Profiling will be available soon for this dataset"
   ]
  },
  {
   "cell_type": "code",
   "execution_count": 16,
   "metadata": {
    "kernel": "Python 3"
   },
   "outputs": [],
   "source": [
    "### Please go here https://docs.google.com/spreadsheets/d/15bMeS2cMfGfYJkjuY6wOMzcAUWZNRGpO03hZ8rpgv0Q\n",
    "### To change the range\n",
    "\n",
    "#sheetid = '15bMeS2cMfGfYJkjuY6wOMzcAUWZNRGpO03hZ8rpgv0Q'\n",
    "#sheetname = 'All_cities'\n",
    "\n",
    "#df_TCZ_list_china = gdr.upload_data_from_spreadsheet(sheetID = sheetid,\n",
    "#sheetName = sheetname,\n",
    "#\t to_dataframe = True)\n",
    "#df_TCZ_list_china.to_csv('df_TCZ_list_china.csv', index = False)"
   ]
  },
  {
   "cell_type": "code",
   "execution_count": 17,
   "metadata": {
    "kernel": "R"
   },
   "outputs": [
    {
     "name": "stderr",
     "output_type": "stream",
     "text": [
      "Parsed with column specification:\n",
      "cols(\n",
      "  Province = \u001b[31mcol_character()\u001b[39m,\n",
      "  City = \u001b[31mcol_character()\u001b[39m,\n",
      "  geocode4_corr = \u001b[32mcol_double()\u001b[39m,\n",
      "  TCZ = \u001b[32mcol_double()\u001b[39m,\n",
      "  SPZ = \u001b[32mcol_double()\u001b[39m\n",
      ")\n",
      "\n",
      "Joining, by = \"geocode4_corr\"\n",
      "\n"
     ]
    }
   ],
   "source": [
    "df_TCZ_list_china = read_csv('../df_TCZ_list_china.csv') %>% \n",
    "select(-c(TCZ, Province)) %>% \n",
    "left_join(df_final)"
   ]
  },
  {
   "cell_type": "markdown",
   "metadata": {
    "kernel": "SoS"
   },
   "source": [
    "### Add to table"
   ]
  },
  {
   "cell_type": "code",
   "execution_count": 18,
   "metadata": {
    "kernel": "SoS"
   },
   "outputs": [
    {
     "data": {
      "text/html": [
       "<div class=\"sos_logging sos_info\">INFO: NumExpr defaulting to 8 threads.</div>"
      ]
     },
     "metadata": {},
     "output_type": "display_data"
    }
   ],
   "source": [
    "%put df_herfhindal_final --to R\n",
    "df_herfhindal_final = (df_final.merge(df_herfhindal,\n",
    "                                     on=['geocode4_corr'],\n",
    "                                     how='left',\n",
    "                                     indicator=True\n",
    "                                     )\n",
    "                       .assign(\n",
    "                       decile_herfhindal_c = lambda x:\n",
    "                           pd.qcut(x['Herfindahl_c'],10, labels=False)\n",
    "                       )\n",
    "                      )"
   ]
  },
  {
   "cell_type": "code",
   "execution_count": 19,
   "metadata": {
    "kernel": "SoS"
   },
   "outputs": [
    {
     "name": "stdout",
     "output_type": "stream",
     "text": [
      "Median: 0.053892241145775545\n",
      "0    (0.0162, 0.0245]\n",
      "1    (0.0245, 0.0313]\n",
      "2    (0.0313, 0.0367]\n",
      "3    (0.0367, 0.0428]\n",
      "4    (0.0428, 0.0539]\n",
      "5    (0.0539, 0.0688]\n",
      "6    (0.0688, 0.0737]\n",
      "7     (0.0737, 0.101]\n",
      "8      (0.101, 0.158]\n",
      "9      (0.158, 0.828]\n",
      "Name: Herfindahl_c, dtype: category\n",
      "Categories (10, interval[float64]): [(0.0162, 0.0245] < (0.0245, 0.0313] < (0.0313, 0.0367] <\n",
      "                                     (0.0367, 0.0428] ... (0.0688, 0.0737] < (0.0737, 0.101] <\n",
      "                                     (0.101, 0.158] < (0.158, 0.828]]\n"
     ]
    },
    {
     "data": {
      "text/plain": [
       "0    3118\n",
       "1    3045\n",
       "2    3220\n",
       "3    2918\n",
       "4    3172\n",
       "5    2964\n",
       "6    3113\n",
       "7    3022\n",
       "8    3045\n",
       "9    3059\n",
       "Name: decile_herfhindal_c, dtype: int64"
      ]
     },
     "execution_count": 19,
     "metadata": {},
     "output_type": "execute_result"
    }
   ],
   "source": [
    "print('Median: {}'.format(df_herfhindal_final['Herfindahl_c'].median()))\n",
    "print(pd.qcut(df_herfhindal_final['Herfindahl_c'],\n",
    "        10).drop_duplicates().sort_values().reset_index(drop = True))\n",
    "\n",
    "df_herfhindal_final['decile_herfhindal_c'].value_counts().sort_index()"
   ]
  },
  {
   "cell_type": "code",
   "execution_count": 20,
   "metadata": {
    "kernel": "R"
   },
   "outputs": [],
   "source": [
    "df_herfhindal_r <- df_herfhindal_final %>% \n",
    "    mutate_if(is.character, as.factor) %>%\n",
    "    mutate_at(vars(starts_with(\"FE\")), as.factor) %>%\n",
    "    mutate(\n",
    "         Period = relevel(Period, ref='Before'),\n",
    "         TCZ_c = relevel(TCZ_c, ref='No_TCZ'),\n",
    "         effort_c = relevel(effort_c, ref='Below'),\n",
    "         polluted_di = relevel(polluted_di, ref='Below'),\n",
    "         polluted_mi = relevel(polluted_mi, ref='Below'),\n",
    "         polluted_thre = relevel(polluted_thre, ref='Below'),\n",
    "  )"
   ]
  },
  {
   "cell_type": "code",
   "execution_count": 21,
   "metadata": {
    "kernel": "SoS"
   },
   "outputs": [
    {
     "name": "stdout",
     "output_type": "stream",
     "text": [
      "Median: 0.13739489160073137\n",
      "0    (0.00017, 0.0186]\n",
      "1     (0.0186, 0.0548]\n",
      "2     (0.0548, 0.0755]\n",
      "3      (0.0755, 0.104]\n",
      "4       (0.104, 0.137]\n",
      "5       (0.137, 0.198]\n",
      "6        (0.198, 0.26]\n",
      "7         (0.26, 0.39]\n",
      "8          (0.39, 0.5]\n",
      "9         (0.5, 0.955]\n",
      "Name: share_output_co, dtype: category\n",
      "Categories (10, interval[float64]): [(0.00017, 0.0186] < (0.0186, 0.0548] < (0.0548, 0.0755] <\n",
      "                                     (0.0755, 0.104] ... (0.198, 0.26] < (0.26, 0.39] < (0.39, 0.5] <\n",
      "                                     (0.5, 0.955]]\n",
      "0    3068\n",
      "1    3124\n",
      "2    3289\n",
      "3    2868\n",
      "4    3069\n",
      "5    3236\n",
      "6    2857\n",
      "7    3120\n",
      "8    2982\n",
      "9    3063\n",
      "Name: output, dtype: int64\n",
      "Median: 0.27773265829152016\n",
      "0    (0.00119, 0.0448]\n",
      "1     (0.0448, 0.0917]\n",
      "2      (0.0917, 0.128]\n",
      "3       (0.128, 0.184]\n",
      "4       (0.184, 0.278]\n",
      "5       (0.278, 0.333]\n",
      "6       (0.333, 0.431]\n",
      "7       (0.431, 0.518]\n",
      "8       (0.518, 0.664]\n",
      "9       (0.664, 0.942]\n",
      "Name: share_fa_net_co, dtype: category\n",
      "Categories (10, interval[float64]): [(0.00119, 0.0448] < (0.0448, 0.0917] < (0.0917, 0.128] <\n",
      "                                     (0.128, 0.184] ... (0.333, 0.431] < (0.431, 0.518] <\n",
      "                                     (0.518, 0.664] < (0.664, 0.942]]\n",
      "0    3302\n",
      "1    2979\n",
      "2    2972\n",
      "3    3151\n",
      "4    3091\n",
      "5    3069\n",
      "6    2963\n",
      "7    3109\n",
      "8    3216\n",
      "9    2824\n",
      "Name: capital, dtype: int64\n",
      "Median: 0.20964785547099724\n",
      "0    (0.0005399999999999999, 0.0243]\n",
      "1                   (0.0243, 0.0635]\n",
      "2                    (0.0635, 0.105]\n",
      "3                      (0.105, 0.16]\n",
      "4                       (0.16, 0.21]\n",
      "5                      (0.21, 0.271]\n",
      "6                     (0.271, 0.337]\n",
      "7                     (0.337, 0.388]\n",
      "8                     (0.388, 0.542]\n",
      "9                     (0.542, 0.878]\n",
      "Name: share_employement_co, dtype: category\n",
      "Categories (10, interval[float64]): [(0.0005399999999999999, 0.0243] < (0.0243, 0.0635] < (0.0635, 0.105] <\n",
      "                                     (0.105, 0.16] ... (0.271, 0.337] < (0.337, 0.388] <\n",
      "                                     (0.388, 0.542] < (0.542, 0.878]]\n",
      "0    3198\n",
      "1    3127\n",
      "2    3520\n",
      "3    2525\n",
      "4    3221\n",
      "5    3193\n",
      "6    2881\n",
      "7    2885\n",
      "8    3109\n",
      "9    3017\n",
      "Name: employment, dtype: int64\n"
     ]
    }
   ],
   "source": [
    "%put df_final_SOE --to R\n",
    "df_final_SOE = (df_final.merge(\n",
    "    df_share_soe,\n",
    "    on = ['geocode4_corr'],\n",
    "    how = 'left',\n",
    "    indicator = True\n",
    ")\n",
    "                .assign(\n",
    "                       output = lambda x:\n",
    "                           pd.qcut(x['share_output_co'],10, labels=False),\n",
    "                       capital = lambda x:\n",
    "                           pd.qcut(x['share_fa_net_co'],10, labels=False),\n",
    "                       employment = lambda x:\n",
    "                           pd.qcut(x['share_employement_co'],10, labels=False)                    \n",
    "                    \n",
    "                       )\n",
    "\n",
    ")\n",
    "for i in ['output', 'capital', 'employment']:\n",
    "    if i == 'output':\n",
    "        v = 'share_output_co'\n",
    "    elif i =='capital':\n",
    "        v = 'share_fa_net_co'\n",
    "    else:\n",
    "        v = 'share_employement_co'\n",
    "    print('Median: {}'.format(df_final_SOE[v].median()))\n",
    "    print(pd.qcut(df_final_SOE[v],\n",
    "        10).drop_duplicates().sort_values().reset_index(drop = True))\n",
    "\n",
    "    print(df_final_SOE[i].value_counts().sort_index())"
   ]
  },
  {
   "cell_type": "code",
   "execution_count": 47,
   "metadata": {
    "kernel": "SoS"
   },
   "outputs": [
    {
     "data": {
      "text/plain": [
       "count    30676.000000\n",
       "mean         0.138741\n",
       "std          0.151847\n",
       "min          0.000000\n",
       "25%          0.035187\n",
       "50%          0.084363\n",
       "75%          0.190183\n",
       "max          0.998977\n",
       "Name: out_share_SOE, dtype: float64"
      ]
     },
     "execution_count": 47,
     "metadata": {},
     "output_type": "execute_result"
    }
   ],
   "source": [
    "df_final['out_share_SOE'].describe()"
   ]
  },
  {
   "cell_type": "code",
   "execution_count": 49,
   "metadata": {
    "kernel": "SoS"
   },
   "outputs": [
    {
     "data": {
      "text/plain": [
       "0.211815687347217"
      ]
     },
     "execution_count": 49,
     "metadata": {},
     "output_type": "execute_result"
    }
   ],
   "source": [
    "df_final['cap_share_SOE'].mean()"
   ]
  },
  {
   "cell_type": "code",
   "execution_count": 50,
   "metadata": {
    "kernel": "SoS"
   },
   "outputs": [
    {
     "data": {
      "text/plain": [
       "0.17900359817137876"
      ]
     },
     "execution_count": 50,
     "metadata": {},
     "output_type": "execute_result"
    }
   ],
   "source": [
    "df_final['lab_share_SOE'].mean()"
   ]
  },
  {
   "cell_type": "code",
   "execution_count": 22,
   "metadata": {
    "kernel": "R"
   },
   "outputs": [],
   "source": [
    "df_final_SOE <- df_final_SOE %>% \n",
    "    mutate_if(is.character, as.factor) %>%\n",
    "    mutate_at(vars(starts_with(\"FE\")), as.factor) %>%\n",
    "    mutate(\n",
    "         Period = relevel(Period, ref='Before'),\n",
    "         TCZ_c = relevel(TCZ_c, ref='No_TCZ'),\n",
    "         effort_c = relevel(effort_c, ref='Below'),\n",
    "         polluted_di = relevel(polluted_di, ref='Below'),\n",
    "         polluted_mi = relevel(polluted_mi, ref='Below'),\n",
    "         polluted_thre = relevel(polluted_thre, ref='Below'),\n",
    "  )"
   ]
  },
  {
   "cell_type": "code",
   "execution_count": 23,
   "metadata": {
    "kernel": "SoS"
   },
   "outputs": [
    {
     "name": "stdout",
     "output_type": "stream",
     "text": [
      "Median: 0.07527693738975534\n",
      "0     (-0.000849, 0.0222]\n",
      "1        (0.0222, 0.0334]\n",
      "2        (0.0334, 0.0518]\n",
      "3        (0.0518, 0.0695]\n",
      "4        (0.0695, 0.0753]\n",
      "5        (0.0753, 0.0889]\n",
      "6         (0.0889, 0.126]\n",
      "7          (0.126, 0.163]\n",
      "8          (0.163, 0.252]\n",
      "9          (0.252, 0.696]\n",
      "10                    NaN\n",
      "Name: share_output_co, dtype: category\n",
      "Categories (10, interval[float64]): [(-0.000849, 0.0222] < (0.0222, 0.0334] < (0.0334, 0.0518] <\n",
      "                                     (0.0518, 0.0695] ... (0.0889, 0.126] < (0.126, 0.163] <\n",
      "                                     (0.163, 0.252] < (0.252, 0.696]]\n",
      "0.0    3053\n",
      "1.0    3092\n",
      "2.0    3187\n",
      "3.0    3008\n",
      "4.0    3167\n",
      "5.0    2873\n",
      "6.0    3251\n",
      "7.0    3000\n",
      "8.0    2882\n",
      "9.0    2960\n",
      "Name: output, dtype: int64\n",
      "Median: 0.08430729065815916\n",
      "0     (-0.000468, 0.0215]\n",
      "1        (0.0215, 0.0354]\n",
      "2        (0.0354, 0.0566]\n",
      "3        (0.0566, 0.0706]\n",
      "4        (0.0706, 0.0843]\n",
      "5        (0.0843, 0.0929]\n",
      "6          (0.0929, 0.13]\n",
      "7           (0.13, 0.164]\n",
      "8          (0.164, 0.286]\n",
      "9          (0.286, 0.742]\n",
      "10                    NaN\n",
      "Name: share_fa_net_co, dtype: category\n",
      "Categories (10, interval[float64]): [(-0.000468, 0.0215] < (0.0215, 0.0354] < (0.0354, 0.0566] <\n",
      "                                     (0.0566, 0.0706] ... (0.0929, 0.13] < (0.13, 0.164] <\n",
      "                                     (0.164, 0.286] < (0.286, 0.742]]\n",
      "0.0    3115\n",
      "1.0    3037\n",
      "2.0    3004\n",
      "3.0    3040\n",
      "4.0    3208\n",
      "5.0    2943\n",
      "6.0    3060\n",
      "7.0    2981\n",
      "8.0    3053\n",
      "9.0    3032\n",
      "Name: capital, dtype: int64\n",
      "Median: 0.07104094380745828\n",
      "0     (0.00065, 0.0203]\n",
      "1      (0.0203, 0.0331]\n",
      "2      (0.0331, 0.0493]\n",
      "3      (0.0493, 0.0601]\n",
      "4       (0.0601, 0.071]\n",
      "5       (0.071, 0.0883]\n",
      "6       (0.0883, 0.115]\n",
      "7        (0.115, 0.147]\n",
      "8        (0.147, 0.266]\n",
      "9        (0.266, 0.693]\n",
      "10                  NaN\n",
      "Name: share_employement_co, dtype: category\n",
      "Categories (10, interval[float64]): [(0.00065, 0.0203] < (0.0203, 0.0331] < (0.0331, 0.0493] <\n",
      "                                     (0.0493, 0.0601] ... (0.0883, 0.115] < (0.115, 0.147] <\n",
      "                                     (0.147, 0.266] < (0.266, 0.693]]\n",
      "0.0    3072\n",
      "1.0    3086\n",
      "2.0    3094\n",
      "3.0    2974\n",
      "4.0    3246\n",
      "5.0    2858\n",
      "6.0    3270\n",
      "7.0    2884\n",
      "8.0    3002\n",
      "9.0    2987\n",
      "Name: employment, dtype: int64\n"
     ]
    }
   ],
   "source": [
    "%put df_final_FOREIGN --to R\n",
    "df_final_FOREIGN = (df_final.merge(\n",
    "    df_share_foreign,\n",
    "    on = ['geocode4_corr'],\n",
    "    how = 'left',\n",
    "    indicator = True\n",
    ")\n",
    "                .assign(\n",
    "                       output = lambda x:\n",
    "                           pd.qcut(x['share_output_co'],10, labels=False),\n",
    "                       capital = lambda x:\n",
    "                           pd.qcut(x['share_fa_net_co'],10, labels=False),\n",
    "                       employment = lambda x:\n",
    "                           pd.qcut(x['share_employement_co'],10, labels=False),\n",
    "                       )\n",
    "\n",
    ")\n",
    "for i in ['output', 'capital', 'employment']:\n",
    "    if i == 'output':\n",
    "        v = 'share_output_co'\n",
    "    elif i =='capital':\n",
    "        v = 'share_fa_net_co'\n",
    "    else:\n",
    "        v = 'share_employement_co'\n",
    "    print('Median: {}'.format(df_final_FOREIGN[v].median()))\n",
    "    print(pd.qcut(df_final_FOREIGN[v],\n",
    "        10).drop_duplicates().sort_values().reset_index(drop = True))\n",
    "\n",
    "    print(df_final_FOREIGN[i].value_counts().sort_index())"
   ]
  },
  {
   "cell_type": "code",
   "execution_count": 24,
   "metadata": {
    "kernel": "R"
   },
   "outputs": [],
   "source": [
    "df_final_FOREIGN <- df_final_FOREIGN %>% \n",
    "    mutate_if(is.character, as.factor) %>%\n",
    "    mutate_at(vars(starts_with(\"FE\")), as.factor) %>%\n",
    "    mutate(\n",
    "         Period = relevel(Period, ref='Before'),\n",
    "         TCZ_c = relevel(TCZ_c, ref='No_TCZ'),\n",
    "         effort_c = relevel(effort_c, ref='Below'),\n",
    "         polluted_di = relevel(polluted_di, ref='Below'),\n",
    "         polluted_mi = relevel(polluted_mi, ref='Below'),\n",
    "         polluted_thre = relevel(polluted_thre, ref='Below'),\n",
    "  )"
   ]
  },
  {
   "cell_type": "markdown",
   "metadata": {
    "kernel": "SoS"
   },
   "source": [
    "## Table 8 Model A: Panel A\n",
    "\n"
   ]
  },
  {
   "cell_type": "markdown",
   "metadata": {
    "kernel": "R"
   },
   "source": [
    "### Decile"
   ]
  },
  {
   "cell_type": "markdown",
   "metadata": {
    "kernel": "python3"
   },
   "source": [
    "#### Size"
   ]
  },
  {
   "cell_type": "code",
   "execution_count": 25,
   "metadata": {
    "kernel": "R"
   },
   "outputs": [],
   "source": [
    "change_target <- function(table){\n",
    "    check_target <- grep(\"PeriodAfter:polluted_threAbove:target_c$\", rownames(table$coef))\n",
    "    \n",
    "    if (length(check_target) !=0) {\n",
    "    rownames(table$coefficients)[check_target] <- 'target_c:PeriodAfter:polluted_threAbove'\n",
    "    rownames(table$beta)[check_target] <- 'target_c:PeriodAfter:polluted_threAbove'\n",
    "}\n",
    "    return (table)\n",
    "}"
   ]
  },
  {
   "cell_type": "code",
   "execution_count": 26,
   "metadata": {
    "kernel": "R"
   },
   "outputs": [],
   "source": [
    "cat <- 'Size'\n",
    "df_to_filter <- df_herfhindal_r\n",
    "\n",
    "### inferior median\n",
    "t1 <- felm(formula=log(tso2_cit) ~ \n",
    "           TCZ_c * Period * polluted_thre \n",
    "           + output_fcit + capital_fcit + labour_fcit\n",
    "                  |\n",
    "             FE_t_c + FE_t_i + FE_c_i  | 0 |\n",
    "             industry, data= df_to_filter %>% filter(decile_herfhindal_c <= 5),\n",
    "             exactDOF=TRUE)\n",
    "t1 <-change_target(t1)\n",
    "t2 <- felm(formula=log(tso2_cit) ~ \n",
    "           target_c  * Period * polluted_thre \n",
    "           + output_fcit + capital_fcit + labour_fcit\n",
    "                  |\n",
    "             FE_t_c + FE_t_i + FE_c_i  | 0 |\n",
    "             industry, data= df_to_filter %>% filter(decile_herfhindal_c <= 5),\n",
    "             exactDOF=TRUE)\n",
    "t2 <-change_target(t2)\n",
    "\n",
    "t3 <- felm(formula=log(tso2_cit) ~ \n",
    "           TCZ_c * Period * polluted_thre \n",
    "           + target_c  * Period * polluted_thre \n",
    "           + output_fcit + capital_fcit + labour_fcit\n",
    "                  |\n",
    "             FE_t_c + FE_t_i + FE_c_i  | 0 |\n",
    "             industry, data= df_to_filter %>% filter(decile_herfhindal_c <= 5),\n",
    "             exactDOF=TRUE)\n",
    "t3 <-change_target(t3)\n",
    "\n",
    "### superior median\n",
    "t4 <- felm(formula=log(tso2_cit) ~ \n",
    "           TCZ_c * Period * polluted_thre \n",
    "           + output_fcit + capital_fcit + labour_fcit\n",
    "                  |\n",
    "             FE_t_c + FE_t_i + FE_c_i  | 0 |\n",
    "             industry, data= df_to_filter %>% filter(decile_herfhindal_c > 5),\n",
    "             exactDOF=TRUE)\n",
    "t4 <-change_target(t4)\n",
    "\n",
    "t5 <- felm(formula=log(tso2_cit) ~ \n",
    "           target_c  * Period * polluted_thre \n",
    "           + output_fcit + capital_fcit + labour_fcit\n",
    "                  |\n",
    "             FE_t_c + FE_t_i + FE_c_i  | 0 |\n",
    "             industry, data= df_to_filter %>% filter(decile_herfhindal_c > 5),\n",
    "             exactDOF=TRUE)\n",
    "t5 <-change_target(t5)\n",
    "\n",
    "t6 <- felm(formula=log(tso2_cit) ~ \n",
    "           TCZ_c * Period * polluted_thre \n",
    "           + target_c  * Period * polluted_thre \n",
    "                  + output_fcit + capital_fcit + labour_fcit\n",
    "                  |\n",
    "             FE_t_c + FE_t_i + FE_c_i  | 0 |\n",
    "             industry, data= df_to_filter %>% filter(decile_herfhindal_c > 5),\n",
    "             exactDOF=TRUE)\n",
    "t6 <-change_target(t6)\n",
    "\n",
    "tables <- list(t1, t2, t3,t4, t5, t6)\n",
    "\n",
    "fe1 <- list(\n",
    "    c(\"City fixed effects\", \"Yes\", \"Yes\", \"Yes\", \"Yes\", \"Yes\", \"Yes\"),\n",
    "    c(\"Industry fixed effects\", \"Yes\", \"Yes\", \"Yes\", \"Yes\", \"Yes\", \"Yes\"),\n",
    "    c(\"Year fixed effects\",\"Yes\", \"Yes\", \"Yes\", \"Yes\", \"Yes\", \"Yes\")\n",
    "            )\n",
    "\n",
    "\n",
    "table_1 <- go_latex(tables,\n",
    "                dep_var = \"Dependent variable \\\\text { SO2 emission }_{i k t}\",\n",
    "                title=paste0(\"Median Herfhindal - \", cat),\n",
    "                addFE=fe1,\n",
    "                save=TRUE,\n",
    "                note = FALSE,\n",
    "                name=\"table_1.txt\"\n",
    "                            )"
   ]
  },
  {
   "cell_type": "code",
   "execution_count": 27,
   "metadata": {
    "kernel": "Python 3"
   },
   "outputs": [
    {
     "data": {
      "image/png": "[encoded data removed]",
      "text/plain": [
       "<wand.image.Image: 85850e5 'PDF' (955x401)>"
      ]
     },
     "execution_count": 27,
     "metadata": {},
     "output_type": "execute_result"
    }
   ],
   "source": [
    "import os\n",
    "decile=['& below median (inc.)', 'below median (inc.)', 'below median (inc.)',\n",
    "        'above median (exc.)', 'above median (exc.)', 'above median (exc.)']\n",
    "\n",
    "tb = \"\"\"\\\\footnotesize{\n",
    "Due to limited space, only the coefficients of interest are presented \n",
    "for the regressions with city,industry, year fixed effect (i.e. columns 1-3).\n",
    "\\sym{*} Significance at the 10\\%, \\sym{**} Significance at the 5\\%, \\sym{***} Significance at the 1\\% \\\\\n",
    "heteroscedasticity-robust standard errors in parentheses are clustered by city \n",
    "}\n",
    "\"\"\"\n",
    "lb.beautify(table_number = 1,\n",
    "            remove_control= True,\n",
    "            constraint = False,\n",
    "            city_industry = False, \n",
    "            new_row = decile,\n",
    "            table_nte =tb,\n",
    "           jupyter_preview = True,\n",
    "           resolution = 200)"
   ]
  },
  {
   "cell_type": "code",
   "execution_count": 85,
   "metadata": {
    "kernel": "R"
   },
   "outputs": [
    {
     "data": {
      "text/plain": [
       " geocode4_corr   Herfindahl_c    \n",
       " Min.   :1101   Min.   :0.01718  \n",
       " 1st Qu.:3176   1st Qu.:0.04804  \n",
       " Median :3712   Median :0.07784  \n",
       " Mean   :3728   Mean   :0.12958  \n",
       " 3rd Qu.:4417   3rd Qu.:0.14812  \n",
       " Max.   :6501   Max.   :0.82787  "
      ]
     },
     "metadata": {},
     "output_type": "display_data"
    }
   ],
   "source": [
    "Herfhindal_option_distinct <- df_herfhindal_r %>%\n",
    "select(geocode4_corr, Herfindahl_c) %>%\n",
    "distinct() %>%\n",
    "summary(mean(share_output_co))\n",
    "\n",
    "Herfhindal_option_distinct"
   ]
  },
  {
   "cell_type": "code",
   "execution_count": 86,
   "metadata": {
    "kernel": "R"
   },
   "outputs": [
    {
     "data": {
      "text/html": [
       "<style>\n",
       ".list-inline {list-style: none; margin:0; padding: 0}\n",
       ".list-inline>li {display: inline-block}\n",
       ".list-inline>li:not(:last-child)::after {content: \"\\00b7\"; padding: 0 .5ex}\n",
       "</style>\n",
       "<ol class=list-inline><li>TRUE</li><li>TRUE</li><li>TRUE</li></ol>\n"
      ],
      "text/latex": [
       "\\begin{enumerate*}\n",
       "\\item TRUE\n",
       "\\item TRUE\n",
       "\\item TRUE\n",
       "\\end{enumerate*}\n"
      ],
      "text/markdown": [
       "1. TRUE\n",
       "2. TRUE\n",
       "3. TRUE\n",
       "\n",
       "\n"
      ],
      "text/plain": [
       "[1] TRUE TRUE TRUE"
      ]
     },
     "metadata": {},
     "output_type": "display_data"
    }
   ],
   "source": [
    "mean <- 0.12958\n",
    "df_to_filter <- df_herfhindal_r\n",
    "var <- 'Herfhindal'\n",
    "cat <- 'Size'\n",
    "\n",
    "toremove <- dir(path=getwd(), pattern=\".tex|.pdf|.txt\")\n",
    "file.remove(toremove)\n",
    "\n",
    "t1 <- felm(formula=log(tso2_cit) ~ \n",
    "               TCZ_c * Period * polluted_thre \n",
    "               + output_fcit + capital_fcit + labour_fcit\n",
    "                  |\n",
    "             FE_t_c + FE_t_i + FE_c_i  | 0 |\n",
    "             industry, data= df_to_filter %>% filter(Herfindahl_c < mean),\n",
    "             exactDOF=TRUE)\n",
    "t1 <-change_target(t1)\n",
    "t2 <- felm(formula=log(tso2_cit) ~ \n",
    "           target_c  * Period * polluted_thre \n",
    "               + output_fcit + capital_fcit + labour_fcit\n",
    "                  |\n",
    "             FE_t_c + FE_t_i + FE_c_i  | 0 |\n",
    "             industry, data= df_to_filter %>% filter(Herfindahl_c < mean),\n",
    "             exactDOF=TRUE)\n",
    "t2 <-change_target(t2)\n",
    "t3 <- felm(formula=log(tso2_cit) ~ \n",
    "           TCZ_c * Period * polluted_thre \n",
    "           + target_c  * Period * polluted_thre \n",
    "                  + output_fcit + capital_fcit + labour_fcit\n",
    "                  |\n",
    "             FE_t_c + FE_t_i + FE_c_i  | 0 |\n",
    "             industry, data= df_to_filter %>% filter(Herfindahl_c < mean),\n",
    "             exactDOF=TRUE)\n",
    "t3 <-change_target(t3)\n",
    "\n",
    "    ### superior median\n",
    "t4 <- felm(formula=log(tso2_cit) ~ \n",
    "           TCZ_c * Period * polluted_thre \n",
    "                  + output_fcit + capital_fcit + labour_fcit\n",
    "                  |\n",
    "             FE_t_c + FE_t_i + FE_c_i  | 0 |\n",
    "             industry, data= df_to_filter %>% filter(Herfindahl_c >= mean),\n",
    "             exactDOF=TRUE)\n",
    "t4 <-change_target(t4)\n",
    "t5 <- felm(formula=log(tso2_cit) ~ \n",
    "           target_c  * Period * polluted_thre \n",
    "                  + output_fcit + capital_fcit + labour_fcit\n",
    "                  |\n",
    "             FE_t_c + FE_t_i + FE_c_i  | 0 |\n",
    "             industry, data= df_to_filter %>% filter(Herfindahl_c >= mean),\n",
    "             exactDOF=TRUE)\n",
    "t5 <-change_target(t5)\n",
    "\n",
    "t6 <- felm(formula=log(tso2_cit) ~ \n",
    "           TCZ_c * Period * polluted_thre \n",
    "           + target_c  * Period * polluted_thre \n",
    "                  + output_fcit + capital_fcit + labour_fcit\n",
    "                  |\n",
    "             FE_t_c + FE_t_i + FE_c_i  | 0 |\n",
    "             industry, data= df_to_filter %>% filter(Herfindahl_c >= mean),\n",
    "             exactDOF=TRUE)\n",
    "t6 <-change_target(t6)\n",
    "\n",
    "tables_o <- list(t1, t2, t3,t4, t5, t6)\n",
    "table_1 <- go_latex(tables_o,\n",
    "                dep_var = \"Dependent variable \\\\text { SO2 emission }_{i k t}\",\n",
    "                title=paste0(\"Mean \", var, \"- \", cat),\n",
    "                addFE=fe1,\n",
    "                save=TRUE,\n",
    "                note = FALSE,\n",
    "                name=\"table_1.txt\"\n",
    "                           )"
   ]
  },
  {
   "cell_type": "code",
   "execution_count": 88,
   "metadata": {
    "kernel": "Python 3"
   },
   "outputs": [
    {
     "data": {
      "image/png": "[encoded data removed]",
      "text/plain": [
       "<wand.image.Image: b681626 'PDF' (955x417)>"
      ]
     },
     "execution_count": 88,
     "metadata": {},
     "output_type": "execute_result"
    }
   ],
   "source": [
    "import os\n",
    "decile=['& below mean (exc.)', 'below mean (exc.)', 'below mean (exc.)',\n",
    "        'above mean (inc.)', 'above mean (inc.)', 'above mean (inc.)']\n",
    "\n",
    "tb = \"\"\"\\\\footnotesize{\n",
    "Due to limited space, only the coefficients of interest are presented \n",
    "for the regressions with city,industry, year fixed effect (i.e. columns 1-3).\n",
    "\\sym{*} Significance at the 10\\%, \\sym{**} Significance at the 5\\%, \\sym{***} Significance at the 1\\% \\\\\n",
    "heteroscedasticity-robust standard errors in parentheses are clustered by city \n",
    "}\n",
    "\"\"\"\n",
    "lb.beautify(table_number = 1,\n",
    "            remove_control= True,\n",
    "            constraint = False,\n",
    "            city_industry = False, \n",
    "            new_row = decile,\n",
    "            table_nte =tb,\n",
    "           jupyter_preview = True,\n",
    "           resolution = 200)"
   ]
  },
  {
   "cell_type": "markdown",
   "metadata": {
    "kernel": "python3"
   },
   "source": [
    "#### Foreign\n"
   ]
  },
  {
   "cell_type": "code",
   "execution_count": 28,
   "metadata": {
    "kernel": "R"
   },
   "outputs": [
    {
     "data": {
      "text/html": [
       "<style>\n",
       ".list-inline {list-style: none; margin:0; padding: 0}\n",
       ".list-inline>li {display: inline-block}\n",
       ".list-inline>li:not(:last-child)::after {content: \"\\00b7\"; padding: 0 .5ex}\n",
       "</style>\n",
       "<ol class=list-inline><li>TRUE</li><li>TRUE</li><li>TRUE</li></ol>\n"
      ],
      "text/latex": [
       "\\begin{enumerate*}\n",
       "\\item TRUE\n",
       "\\item TRUE\n",
       "\\item TRUE\n",
       "\\end{enumerate*}\n"
      ],
      "text/markdown": [
       "1. TRUE\n",
       "2. TRUE\n",
       "3. TRUE\n",
       "\n",
       "\n"
      ],
      "text/plain": [
       "[1] TRUE TRUE TRUE"
      ]
     },
     "metadata": {},
     "output_type": "display_data"
    }
   ],
   "source": [
    "cat <- 'Foreign'\n",
    "df_to_filter <- df_final_FOREIGN\n",
    "\n",
    "fe1 <- list(\n",
    "    c(\"City fixed effects\", \"Yes\", \"Yes\", \"Yes\", \"Yes\", \"Yes\", \"Yes\"),\n",
    "    c(\"Industry fixed effects\", \"Yes\", \"Yes\", \"Yes\", \"Yes\", \"Yes\", \"Yes\"),\n",
    "    c(\"Year fixed effects\",\"Yes\", \"Yes\", \"Yes\", \"Yes\", \"Yes\", \"Yes\")\n",
    "             )\n",
    "\n",
    "### Remove text, tex and pdf files\n",
    "toremove <- dir(path=getwd(), pattern=\".tex|.pdf|.txt\")\n",
    "file.remove(toremove)\n",
    "\n",
    "for (var in list('output', 'capital', 'employment')){\n",
    "    \n",
    "    ### inferior median\n",
    "    t1 <- felm(formula=log(tso2_cit) ~ \n",
    "               TCZ_c * Period * polluted_thre \n",
    "               + output_fcit + capital_fcit + labour_fcit\n",
    "                  |\n",
    "             FE_t_c + FE_t_i + FE_c_i  | 0 |\n",
    "             industry, data= df_to_filter %>% filter(get(var) <= 5),\n",
    "             exactDOF=TRUE)\n",
    "    t1 <-change_target(t1)\n",
    "    t2 <- felm(formula=log(tso2_cit) ~ \n",
    "           target_c  * Period * polluted_thre \n",
    "               + output_fcit + capital_fcit + labour_fcit\n",
    "                  |\n",
    "             FE_t_c + FE_t_i + FE_c_i  | 0 |\n",
    "             industry, data= df_to_filter %>% filter(get(var) <= 5),\n",
    "             exactDOF=TRUE)\n",
    "    t2 <-change_target(t2)\n",
    "    t3 <- felm(formula=log(tso2_cit) ~ \n",
    "           TCZ_c * Period * polluted_thre \n",
    "           + target_c  * Period * polluted_thre \n",
    "                  + output_fcit + capital_fcit + labour_fcit\n",
    "                  |\n",
    "             FE_t_c + FE_t_i + FE_c_i  | 0 |\n",
    "             industry, data= df_to_filter %>% filter(get(var) <= 5),\n",
    "             exactDOF=TRUE)\n",
    "    t3 <-change_target(t3)\n",
    "\n",
    "    ### superior median\n",
    "    t4 <- felm(formula=log(tso2_cit) ~ \n",
    "           TCZ_c * Period * polluted_thre \n",
    "                  + output_fcit + capital_fcit + labour_fcit\n",
    "                  |\n",
    "             FE_t_c + FE_t_i + FE_c_i  | 0 |\n",
    "             industry, data= df_to_filter %>% filter(get(var) > 5),\n",
    "             exactDOF=TRUE)\n",
    "    t4 <-change_target(t4)\n",
    "    t5 <- felm(formula=log(tso2_cit) ~ \n",
    "           target_c  * Period * polluted_thre \n",
    "                  + output_fcit + capital_fcit + labour_fcit\n",
    "                  |\n",
    "             FE_t_c + FE_t_i + FE_c_i  | 0 |\n",
    "             industry, data= df_to_filter %>% filter(get(var) > 5),\n",
    "             exactDOF=TRUE)\n",
    "    t5 <-change_target(t5)\n",
    "\n",
    "    t6 <- felm(formula=log(tso2_cit) ~ \n",
    "           TCZ_c * Period * polluted_thre \n",
    "           + target_c  * Period * polluted_thre \n",
    "                  + output_fcit + capital_fcit + labour_fcit\n",
    "                  |\n",
    "             FE_t_c + FE_t_i + FE_c_i  | 0 |\n",
    "             industry, data= df_to_filter %>% filter(get(var) > 5),\n",
    "             exactDOF=TRUE)\n",
    "    t6 <-change_target(t6)\n",
    "    \n",
    "    if (var == 'output'){\n",
    "        tables_o <- list(t1, t2, t3,t4, t5, t6)\n",
    "        table_1 <- go_latex(tables_o,\n",
    "                dep_var = \"Dependent variable \\\\text { SO2 emission }_{i k t}\",\n",
    "                title=paste0(\"Median \", var, \"- \", cat),\n",
    "                addFE=fe1,\n",
    "                save=TRUE,\n",
    "                note = FALSE,\n",
    "                name=\"table_1.txt\"\n",
    "                           )\n",
    "    }else if ( var == 'capital'){\n",
    "        tables_c <- list(t1, t2, t3,t4, t5, t6)\n",
    "        table_1 <- go_latex(tables_c,\n",
    "                dep_var = \"Dependent variable \\\\text { SO2 emission }_{i k t}\",\n",
    "                title=paste0(\"Median \", var, \"- \", cat),\n",
    "                addFE=fe1,\n",
    "                save=TRUE,\n",
    "                note = FALSE,\n",
    "                name=\"table_2.txt\"\n",
    "                            )\n",
    "    }else{\n",
    "        tables_e <- list(t1, t2, t3,t4, t5, t6)\n",
    "        table_1 <- go_latex(tables_e,\n",
    "                dep_var = \"Dependent variable \\\\text { SO2 emission }_{i k t}\",\n",
    "                title=paste0(\"Median \", var, \"- \", cat),\n",
    "                addFE=fe1,\n",
    "                save=TRUE,\n",
    "                note = FALSE,\n",
    "                name=\"table_3.txt\"\n",
    "                            )\n",
    "    }\n",
    "}"
   ]
  },
  {
   "cell_type": "code",
   "execution_count": 29,
   "metadata": {
    "kernel": "Python 3"
   },
   "outputs": [
    {
     "data": {
      "image/png": "[encoded data removed]",
      "text/plain": [
       "<wand.image.Image: 6f799d1 'PDF' (955x401)>"
      ]
     },
     "execution_count": 29,
     "metadata": {},
     "output_type": "execute_result"
    }
   ],
   "source": [
    "import os\n",
    "decile=['& below median (inc.)', 'below median (inc.)', 'below median (inc.)',\n",
    "        'above median (exc.)', 'above median (exc.)', 'above median (exc.)']\n",
    "\n",
    "tb = \"\"\"\\\\footnotesize{\n",
    "Due to limited space, only the coefficients of interest are presented \n",
    "for the regressions with city,industry, year fixed effect (i.e. columns 1-3).\n",
    "\\sym{*} Significance at the 10\\%, \\sym{**} Significance at the 5\\%, \\sym{***} Significance at the 1\\% \\\\\n",
    "heteroscedasticity-robust standard errors in parentheses are clustered by city \n",
    "}\n",
    "\"\"\"\n",
    "lb.beautify(table_number = 1,\n",
    "            remove_control= True,\n",
    "            constraint = False,\n",
    "            city_industry = False, \n",
    "            new_row = decile,\n",
    "            table_nte =tb,\n",
    "           jupyter_preview = True,\n",
    "           resolution = 200)"
   ]
  },
  {
   "cell_type": "code",
   "execution_count": 30,
   "metadata": {
    "kernel": "Python 3"
   },
   "outputs": [
    {
     "data": {
      "image/png": "[encoded data removed]",
      "text/plain": [
       "<wand.image.Image: cf610b1 'PDF' (955x401)>"
      ]
     },
     "execution_count": 30,
     "metadata": {},
     "output_type": "execute_result"
    }
   ],
   "source": [
    "lb.beautify(table_number = 2,\n",
    "            remove_control= True,\n",
    "            constraint = False,\n",
    "            city_industry = False, \n",
    "            new_row = decile,\n",
    "            table_nte =tb,\n",
    "            jupyter_preview = True,\n",
    "            resolution = 200)"
   ]
  },
  {
   "cell_type": "code",
   "execution_count": 31,
   "metadata": {
    "kernel": "Python 3"
   },
   "outputs": [
    {
     "data": {
      "image/png": "[encoded data removed]",
      "text/plain": [
       "<wand.image.Image: 29ebb76 'PDF' (955x401)>"
      ]
     },
     "execution_count": 31,
     "metadata": {},
     "output_type": "execute_result"
    }
   ],
   "source": [
    "lb.beautify(table_number = 3,\n",
    "            remove_control= True,\n",
    "            constraint = False,\n",
    "            city_industry = False, \n",
    "            new_row = decile,\n",
    "            table_nte =tb,\n",
    "            jupyter_preview = True,\n",
    "            resolution = 200)"
   ]
  },
  {
   "cell_type": "markdown",
   "metadata": {
    "kernel": "Python 3"
   },
   "source": [
    "Mean"
   ]
  },
  {
   "cell_type": "code",
   "execution_count": 80,
   "metadata": {
    "kernel": "R"
   },
   "outputs": [
    {
     "data": {
      "text/plain": [
       " geocode4_corr  share_output_co   \n",
       " Min.   :1101   Min.   :0.000151  \n",
       " 1st Qu.:3176   1st Qu.:0.028716  \n",
       " Median :3712   Median :0.063378  \n",
       " Mean   :3728   Mean   :0.104255  \n",
       " 3rd Qu.:4417   3rd Qu.:0.127195  \n",
       " Max.   :6501   Max.   :0.695520  \n",
       "                NA's   :8         "
      ]
     },
     "metadata": {},
     "output_type": "display_data"
    }
   ],
   "source": [
    "Foreign_option_distinct <- df_final_FOREIGN %>%\n",
    "select(geocode4_corr, share_output_co) %>%\n",
    "distinct() %>%\n",
    "summary(mean(share_output_co))\n",
    "\n",
    "Foreign_option_distinct"
   ]
  },
  {
   "cell_type": "code",
   "execution_count": 83,
   "metadata": {
    "kernel": "R"
   },
   "outputs": [
    {
     "data": {
      "text/html": [
       "<style>\n",
       ".list-inline {list-style: none; margin:0; padding: 0}\n",
       ".list-inline>li {display: inline-block}\n",
       ".list-inline>li:not(:last-child)::after {content: \"\\00b7\"; padding: 0 .5ex}\n",
       "</style>\n",
       "<ol class=list-inline><li>TRUE</li><li>TRUE</li><li>TRUE</li></ol>\n"
      ],
      "text/latex": [
       "\\begin{enumerate*}\n",
       "\\item TRUE\n",
       "\\item TRUE\n",
       "\\item TRUE\n",
       "\\end{enumerate*}\n"
      ],
      "text/markdown": [
       "1. TRUE\n",
       "2. TRUE\n",
       "3. TRUE\n",
       "\n",
       "\n"
      ],
      "text/plain": [
       "[1] TRUE TRUE TRUE"
      ]
     },
     "metadata": {},
     "output_type": "display_data"
    }
   ],
   "source": [
    "mean <- 0.104255\n",
    "df_to_filter <- df_final_FOREIGN\n",
    "var <- 'output'\n",
    "cat <- 'Foreign'\n",
    "\n",
    "toremove <- dir(path=getwd(), pattern=\".tex|.pdf|.txt\")\n",
    "file.remove(toremove)\n",
    "\n",
    "t1 <- felm(formula=log(tso2_cit) ~ \n",
    "               TCZ_c * Period * polluted_thre \n",
    "               + output_fcit + capital_fcit + labour_fcit\n",
    "                  |\n",
    "             FE_t_c + FE_t_i + FE_c_i  | 0 |\n",
    "             industry, data= df_to_filter %>% filter(share_output_co < mean),\n",
    "             exactDOF=TRUE)\n",
    "t1 <-change_target(t1)\n",
    "t2 <- felm(formula=log(tso2_cit) ~ \n",
    "           target_c  * Period * polluted_thre \n",
    "               + output_fcit + capital_fcit + labour_fcit\n",
    "                  |\n",
    "             FE_t_c + FE_t_i + FE_c_i  | 0 |\n",
    "             industry, data= df_to_filter %>% filter(share_output_co < mean),\n",
    "             exactDOF=TRUE)\n",
    "t2 <-change_target(t2)\n",
    "t3 <- felm(formula=log(tso2_cit) ~ \n",
    "           TCZ_c * Period * polluted_thre \n",
    "           + target_c  * Period * polluted_thre \n",
    "                  + output_fcit + capital_fcit + labour_fcit\n",
    "                  |\n",
    "             FE_t_c + FE_t_i + FE_c_i  | 0 |\n",
    "             industry, data= df_to_filter %>% filter(share_output_co < mean),\n",
    "             exactDOF=TRUE)\n",
    "t3 <-change_target(t3)\n",
    "\n",
    "    ### superior median\n",
    "t4 <- felm(formula=log(tso2_cit) ~ \n",
    "           TCZ_c * Period * polluted_thre \n",
    "                  + output_fcit + capital_fcit + labour_fcit\n",
    "                  |\n",
    "             FE_t_c + FE_t_i + FE_c_i  | 0 |\n",
    "             industry, data= df_to_filter %>% filter(share_output_co >= mean),\n",
    "             exactDOF=TRUE)\n",
    "t4 <-change_target(t4)\n",
    "t5 <- felm(formula=log(tso2_cit) ~ \n",
    "           target_c  * Period * polluted_thre \n",
    "                  + output_fcit + capital_fcit + labour_fcit\n",
    "                  |\n",
    "             FE_t_c + FE_t_i + FE_c_i  | 0 |\n",
    "             industry, data= df_to_filter %>% filter(share_output_co >= mean),\n",
    "             exactDOF=TRUE)\n",
    "t5 <-change_target(t5)\n",
    "\n",
    "t6 <- felm(formula=log(tso2_cit) ~ \n",
    "           TCZ_c * Period * polluted_thre \n",
    "           + target_c  * Period * polluted_thre \n",
    "                  + output_fcit + capital_fcit + labour_fcit\n",
    "                  |\n",
    "             FE_t_c + FE_t_i + FE_c_i  | 0 |\n",
    "             industry, data= df_to_filter %>% filter(share_output_co >= mean),\n",
    "             exactDOF=TRUE)\n",
    "t6 <-change_target(t6)\n",
    "\n",
    "tables_o <- list(t1, t2, t3,t4, t5, t6)\n",
    "table_1 <- go_latex(tables_o,\n",
    "                dep_var = \"Dependent variable \\\\text { SO2 emission }_{i k t}\",\n",
    "                title=paste0(\"Mean \", var, \"- \", cat),\n",
    "                addFE=fe1,\n",
    "                save=TRUE,\n",
    "                note = FALSE,\n",
    "                name=\"table_1.txt\"\n",
    "                           )"
   ]
  },
  {
   "cell_type": "code",
   "execution_count": 84,
   "metadata": {
    "kernel": "Python 3"
   },
   "outputs": [
    {
     "data": {
      "image/png": "[encoded data removed]",
      "text/plain": [
       "<wand.image.Image: f7a839d 'PDF' (955x417)>"
      ]
     },
     "execution_count": 84,
     "metadata": {},
     "output_type": "execute_result"
    }
   ],
   "source": [
    "import os\n",
    "decile=['& below mean (exc.)', 'below mean (exc.)', 'below mean (exc.)',\n",
    "        'above mean (inc.)', 'above mean (inc.)', 'above mean (inc.)']\n",
    "\n",
    "tb = \"\"\"\\\\footnotesize{\n",
    "Due to limited space, only the coefficients of interest are presented \n",
    "for the regressions with city,industry, year fixed effect (i.e. columns 1-3).\n",
    "\\sym{*} Significance at the 10\\%, \\sym{**} Significance at the 5\\%, \\sym{***} Significance at the 1\\% \\\\\n",
    "heteroscedasticity-robust standard errors in parentheses are clustered by city \n",
    "}\n",
    "\"\"\"\n",
    "lb.beautify(table_number = 1,\n",
    "            remove_control= True,\n",
    "            constraint = False,\n",
    "            city_industry = False, \n",
    "            new_row = decile,\n",
    "            table_nte =tb,\n",
    "           jupyter_preview = True,\n",
    "           resolution = 200)"
   ]
  },
  {
   "cell_type": "markdown",
   "metadata": {
    "kernel": "Python 3"
   },
   "source": [
    "#### SOE"
   ]
  },
  {
   "cell_type": "markdown",
   "metadata": {
    "kernel": "Python 3"
   },
   "source": [
    "Test mean"
   ]
  },
  {
   "cell_type": "code",
   "execution_count": 59,
   "metadata": {
    "kernel": "R"
   },
   "outputs": [],
   "source": [
    "#head(df_final_SOE)"
   ]
  },
  {
   "cell_type": "code",
   "execution_count": 74,
   "metadata": {
    "kernel": "R"
   },
   "outputs": [
    {
     "data": {
      "text/plain": [
       " geocode4_corr  share_output_co  \n",
       " Min.   :1101   Min.   :0.00117  \n",
       " 1st Qu.:3176   1st Qu.:0.08091  \n",
       " Median :3712   Median :0.17592  \n",
       " Mean   :3728   Mean   :0.24950  \n",
       " 3rd Qu.:4417   3rd Qu.:0.37849  \n",
       " Max.   :6501   Max.   :0.95502  "
      ]
     },
     "metadata": {},
     "output_type": "display_data"
    }
   ],
   "source": [
    "SOE_option_distinct <- df_final_SOE %>%\n",
    "select(geocode4_corr, share_output_co) %>%\n",
    "distinct() %>%\n",
    "summary(mean(share_output_co))\n",
    "\n",
    "SOE_option_distinct"
   ]
  },
  {
   "cell_type": "code",
   "execution_count": 77,
   "metadata": {
    "kernel": "R"
   },
   "outputs": [
    {
     "data": {
      "text/html": [
       "<style>\n",
       ".list-inline {list-style: none; margin:0; padding: 0}\n",
       ".list-inline>li {display: inline-block}\n",
       ".list-inline>li:not(:last-child)::after {content: \"\\00b7\"; padding: 0 .5ex}\n",
       "</style>\n",
       "<ol class=list-inline><li>TRUE</li><li>TRUE</li><li>TRUE</li></ol>\n"
      ],
      "text/latex": [
       "\\begin{enumerate*}\n",
       "\\item TRUE\n",
       "\\item TRUE\n",
       "\\item TRUE\n",
       "\\end{enumerate*}\n"
      ],
      "text/markdown": [
       "1. TRUE\n",
       "2. TRUE\n",
       "3. TRUE\n",
       "\n",
       "\n"
      ],
      "text/plain": [
       "[1] TRUE TRUE TRUE"
      ]
     },
     "metadata": {},
     "output_type": "display_data"
    }
   ],
   "source": [
    "mean <- 0.24950\n",
    "df_to_filter <- df_final_SOE\n",
    "var <- 'output'\n",
    "\n",
    "toremove <- dir(path=getwd(), pattern=\".tex|.pdf|.txt\")\n",
    "file.remove(toremove)\n",
    "\n",
    "t1 <- felm(formula=log(tso2_cit) ~ \n",
    "               TCZ_c * Period * polluted_thre \n",
    "               + output_fcit + capital_fcit + labour_fcit\n",
    "                  |\n",
    "             FE_t_c + FE_t_i + FE_c_i  | 0 |\n",
    "             industry, data= df_to_filter %>% filter(share_output_co < mean),\n",
    "             exactDOF=TRUE)\n",
    "t1 <-change_target(t1)\n",
    "t2 <- felm(formula=log(tso2_cit) ~ \n",
    "           target_c  * Period * polluted_thre \n",
    "               + output_fcit + capital_fcit + labour_fcit\n",
    "                  |\n",
    "             FE_t_c + FE_t_i + FE_c_i  | 0 |\n",
    "             industry, data= df_to_filter %>% filter(share_output_co < mean),\n",
    "             exactDOF=TRUE)\n",
    "t2 <-change_target(t2)\n",
    "t3 <- felm(formula=log(tso2_cit) ~ \n",
    "           TCZ_c * Period * polluted_thre \n",
    "           + target_c  * Period * polluted_thre \n",
    "                  + output_fcit + capital_fcit + labour_fcit\n",
    "                  |\n",
    "             FE_t_c + FE_t_i + FE_c_i  | 0 |\n",
    "             industry, data= df_to_filter %>% filter(share_output_co < mean),\n",
    "             exactDOF=TRUE)\n",
    "t3 <-change_target(t3)\n",
    "\n",
    "    ### superior median\n",
    "t4 <- felm(formula=log(tso2_cit) ~ \n",
    "           TCZ_c * Period * polluted_thre \n",
    "                  + output_fcit + capital_fcit + labour_fcit\n",
    "                  |\n",
    "             FE_t_c + FE_t_i + FE_c_i  | 0 |\n",
    "             industry, data= df_to_filter %>% filter(share_output_co >= mean),\n",
    "             exactDOF=TRUE)\n",
    "t4 <-change_target(t4)\n",
    "t5 <- felm(formula=log(tso2_cit) ~ \n",
    "           target_c  * Period * polluted_thre \n",
    "                  + output_fcit + capital_fcit + labour_fcit\n",
    "                  |\n",
    "             FE_t_c + FE_t_i + FE_c_i  | 0 |\n",
    "             industry, data= df_to_filter %>% filter(share_output_co >= mean),\n",
    "             exactDOF=TRUE)\n",
    "t5 <-change_target(t5)\n",
    "\n",
    "t6 <- felm(formula=log(tso2_cit) ~ \n",
    "           TCZ_c * Period * polluted_thre \n",
    "           + target_c  * Period * polluted_thre \n",
    "                  + output_fcit + capital_fcit + labour_fcit\n",
    "                  |\n",
    "             FE_t_c + FE_t_i + FE_c_i  | 0 |\n",
    "             industry, data= df_to_filter %>% filter(share_output_co >= mean),\n",
    "             exactDOF=TRUE)\n",
    "t6 <-change_target(t6)\n",
    "\n",
    "tables_o <- list(t1, t2, t3,t4, t5, t6)\n",
    "table_1 <- go_latex(tables_o,\n",
    "                dep_var = \"Dependent variable \\\\text { SO2 emission }_{i k t}\",\n",
    "                title=paste0(\"Mean \", var, \"- \", cat),\n",
    "                addFE=fe1,\n",
    "                save=TRUE,\n",
    "                note = FALSE,\n",
    "                name=\"table_1.txt\"\n",
    "                           )"
   ]
  },
  {
   "cell_type": "code",
   "execution_count": 78,
   "metadata": {
    "kernel": "Python 3"
   },
   "outputs": [
    {
     "data": {
      "image/png": "[encoded data removed]",
      "text/plain": [
       "<wand.image.Image: 439bcd8 'PDF' (955x417)>"
      ]
     },
     "execution_count": 78,
     "metadata": {},
     "output_type": "execute_result"
    }
   ],
   "source": [
    "import os\n",
    "decile=['& below mean (exc.)', 'below mean (exc.)', 'below mean (exc.)',\n",
    "        'above mean (inc.)', 'above mean (inc.)', 'above mean (inc.)']\n",
    "\n",
    "tb = \"\"\"\\\\footnotesize{\n",
    "Due to limited space, only the coefficients of interest are presented \n",
    "for the regressions with city,industry, year fixed effect (i.e. columns 1-3).\n",
    "\\sym{*} Significance at the 10\\%, \\sym{**} Significance at the 5\\%, \\sym{***} Significance at the 1\\% \\\\\n",
    "heteroscedasticity-robust standard errors in parentheses are clustered by city \n",
    "}\n",
    "\"\"\"\n",
    "lb.beautify(table_number = 1,\n",
    "            remove_control= True,\n",
    "            constraint = False,\n",
    "            city_industry = False, \n",
    "            new_row = decile,\n",
    "            table_nte =tb,\n",
    "           jupyter_preview = True,\n",
    "           resolution = 200)"
   ]
  },
  {
   "cell_type": "code",
   "execution_count": 41,
   "metadata": {
    "kernel": "R"
   },
   "outputs": [
    {
     "data": {
      "text/html": [
       "<style>\n",
       ".list-inline {list-style: none; margin:0; padding: 0}\n",
       ".list-inline>li {display: inline-block}\n",
       ".list-inline>li:not(:last-child)::after {content: \"\\00b7\"; padding: 0 .5ex}\n",
       "</style>\n",
       "<ol class=list-inline><li>TRUE</li><li>TRUE</li><li>TRUE</li><li>TRUE</li><li>TRUE</li></ol>\n"
      ],
      "text/latex": [
       "\\begin{enumerate*}\n",
       "\\item TRUE\n",
       "\\item TRUE\n",
       "\\item TRUE\n",
       "\\item TRUE\n",
       "\\item TRUE\n",
       "\\end{enumerate*}\n"
      ],
      "text/markdown": [
       "1. TRUE\n",
       "2. TRUE\n",
       "3. TRUE\n",
       "4. TRUE\n",
       "5. TRUE\n",
       "\n",
       "\n"
      ],
      "text/plain": [
       "[1] TRUE TRUE TRUE TRUE TRUE"
      ]
     },
     "metadata": {},
     "output_type": "display_data"
    }
   ],
   "source": [
    "cat <- 'SOE'\n",
    "df_to_filter <- df_final_SOE\n",
    "\n",
    "fe1 <- list(\n",
    "    c(\"City fixed effects\", \"Yes\", \"Yes\", \"Yes\", \"Yes\", \"Yes\", \"Yes\"),\n",
    "    c(\"Industry fixed effects\", \"Yes\", \"Yes\", \"Yes\", \"Yes\", \"Yes\", \"Yes\"),\n",
    "    c(\"Year fixed effects\",\"Yes\", \"Yes\", \"Yes\", \"Yes\", \"Yes\", \"Yes\")\n",
    "             )\n",
    "\n",
    "decile <- 7\n",
    "### Remove text, tex and pdf files\n",
    "toremove <- dir(path=getwd(), pattern=\".tex|.pdf|.txt\")\n",
    "file.remove(toremove)\n",
    "\n",
    "for (var in list('output', 'capital', 'employment')){\n",
    "    \n",
    "    ### inferior median\n",
    "    t1 <- felm(formula=log(tso2_cit) ~ \n",
    "               TCZ_c * Period * polluted_thre \n",
    "               + output_fcit + capital_fcit + labour_fcit\n",
    "                  |\n",
    "             FE_t_c + FE_t_i + FE_c_i  | 0 |\n",
    "             industry, data= df_to_filter %>% filter(get(var) <= decile),\n",
    "             exactDOF=TRUE)\n",
    "    t1 <-change_target(t1)\n",
    "    t2 <- felm(formula=log(tso2_cit) ~ \n",
    "           target_c  * Period * polluted_thre \n",
    "               + output_fcit + capital_fcit + labour_fcit\n",
    "                  |\n",
    "             FE_t_c + FE_t_i + FE_c_i  | 0 |\n",
    "             industry, data= df_to_filter %>% filter(get(var) <= decile),\n",
    "             exactDOF=TRUE)\n",
    "    t2 <-change_target(t2)\n",
    "    t3 <- felm(formula=log(tso2_cit) ~ \n",
    "           TCZ_c * Period * polluted_thre \n",
    "           + target_c  * Period * polluted_thre \n",
    "                  + output_fcit + capital_fcit + labour_fcit\n",
    "                  |\n",
    "             FE_t_c + FE_t_i + FE_c_i  | 0 |\n",
    "             industry, data= df_to_filter %>% filter(get(var) <= decile),\n",
    "             exactDOF=TRUE)\n",
    "    t3 <-change_target(t3)\n",
    "\n",
    "    ### superior median\n",
    "    t4 <- felm(formula=log(tso2_cit) ~ \n",
    "           TCZ_c * Period * polluted_thre \n",
    "                  + output_fcit + capital_fcit + labour_fcit\n",
    "                  |\n",
    "             FE_t_c + FE_t_i + FE_c_i  | 0 |\n",
    "             industry, data= df_to_filter %>% filter(get(var) > decile),\n",
    "             exactDOF=TRUE)\n",
    "    t4 <-change_target(t4)\n",
    "    t5 <- felm(formula=log(tso2_cit) ~ \n",
    "           target_c  * Period * polluted_thre \n",
    "                  + output_fcit + capital_fcit + labour_fcit\n",
    "                  |\n",
    "             FE_t_c + FE_t_i + FE_c_i  | 0 |\n",
    "             industry, data= df_to_filter %>% filter(get(var) > decile),\n",
    "             exactDOF=TRUE)\n",
    "    t5 <-change_target(t5)\n",
    "\n",
    "    t6 <- felm(formula=log(tso2_cit) ~ \n",
    "           TCZ_c * Period * polluted_thre \n",
    "           + target_c  * Period * polluted_thre \n",
    "                  + output_fcit + capital_fcit + labour_fcit\n",
    "                  |\n",
    "             FE_t_c + FE_t_i + FE_c_i  | 0 |\n",
    "             industry, data= df_to_filter %>% filter(get(var) > decile),\n",
    "             exactDOF=TRUE)\n",
    "    t6 <-change_target(t6)\n",
    "    \n",
    "    if (var == 'output'){\n",
    "        tables_o <- list(t1, t2, t3,t4, t5, t6)\n",
    "        table_1 <- go_latex(tables_o,\n",
    "                dep_var = \"Dependent variable \\\\text { SO2 emission }_{i k t}\",\n",
    "                title=paste0(\"Decile \", decile, \" & \" , var, \"- \", cat),\n",
    "                addFE=fe1,\n",
    "                save=TRUE,\n",
    "                note = FALSE,\n",
    "                name=\"table_1.txt\"\n",
    "                           )\n",
    "    }else if ( var == 'capital'){\n",
    "        tables_c <- list(t1, t2, t3,t4, t5, t6)\n",
    "        table_1 <- go_latex(tables_c,\n",
    "                dep_var = \"Dependent variable \\\\text { SO2 emission }_{i k t}\",\n",
    "                title=paste0(\"Decile \", decile, \" & \" , var, \"- \", cat),\n",
    "                addFE=fe1,\n",
    "                save=TRUE,\n",
    "                note = FALSE,\n",
    "                name=\"table_2.txt\"\n",
    "                            )\n",
    "    }else{\n",
    "        tables_e <- list(t1, t2, t3,t4, t5, t6)\n",
    "        table_1 <- go_latex(tables_e,\n",
    "                dep_var = \"Dependent variable \\\\text { SO2 emission }_{i k t}\",\n",
    "                title=paste0(\"Decile \", decile, \" & \" , var, \"- \", cat),\n",
    "                addFE=fe1,\n",
    "                save=TRUE,\n",
    "                note = FALSE,\n",
    "                name=\"table_3.txt\"\n",
    "                            )\n",
    "    }\n",
    "}"
   ]
  },
  {
   "cell_type": "code",
   "execution_count": 42,
   "metadata": {
    "kernel": "Python 3"
   },
   "outputs": [
    {
     "data": {
      "image/png": "[encoded data removed]",
      "text/plain": [
       "<wand.image.Image: 04aa642 'PDF' (955x401)>"
      ]
     },
     "execution_count": 42,
     "metadata": {},
     "output_type": "execute_result"
    }
   ],
   "source": [
    "import os\n",
    "decile=['& below median (inc.)', 'below median (inc.)', 'below median (inc.)',\n",
    "        'above median (exc.)', 'above median (exc.)', 'above median (exc.)']\n",
    "\n",
    "tb = \"\"\"\\\\footnotesize{\n",
    "Due to limited space, only the coefficients of interest are presented \n",
    "for the regressions with city,industry, year fixed effect (i.e. columns 1-3).\n",
    "\\sym{*} Significance at the 10\\%, \\sym{**} Significance at the 5\\%, \\sym{***} Significance at the 1\\% \\\\\n",
    "heteroscedasticity-robust standard errors in parentheses are clustered by city \n",
    "}\n",
    "\"\"\"\n",
    "lb.beautify(table_number = 1,\n",
    "            remove_control= True,\n",
    "            constraint = False,\n",
    "            city_industry = False, \n",
    "            new_row = decile,\n",
    "            table_nte =tb,\n",
    "           jupyter_preview = True,\n",
    "           resolution = 200)"
   ]
  },
  {
   "cell_type": "code",
   "execution_count": 43,
   "metadata": {
    "kernel": "Python 3"
   },
   "outputs": [
    {
     "data": {
      "image/png": "[encoded data removed]",
      "text/plain": [
       "<wand.image.Image: 26b6118 'PDF' (955x401)>"
      ]
     },
     "execution_count": 43,
     "metadata": {},
     "output_type": "execute_result"
    }
   ],
   "source": [
    "import os\n",
    "decile=['& below median (inc.)', 'below median (inc.)', 'below median (inc.)',\n",
    "        'above median (exc.)', 'above median (exc.)', 'above median (exc.)']\n",
    "\n",
    "tb = \"\"\"\\\\footnotesize{\n",
    "Due to limited space, only the coefficients of interest are presented \n",
    "for the regressions with city,industry, year fixed effect (i.e. columns 1-3).\n",
    "\\sym{*} Significance at the 10\\%, \\sym{**} Significance at the 5\\%, \\sym{***} Significance at the 1\\% \\\\\n",
    "heteroscedasticity-robust standard errors in parentheses are clustered by city \n",
    "}\n",
    "\"\"\"\n",
    "lb.beautify(table_number = 2,\n",
    "            remove_control= True,\n",
    "            constraint = False,\n",
    "            city_industry = False, \n",
    "            new_row = decile,\n",
    "            table_nte =tb,\n",
    "           jupyter_preview = True,\n",
    "           resolution = 200)"
   ]
  },
  {
   "cell_type": "code",
   "execution_count": 44,
   "metadata": {
    "kernel": "Python 3"
   },
   "outputs": [
    {
     "data": {
      "image/png": "[encoded data removed]",
      "text/plain": [
       "<wand.image.Image: ad12ece 'PDF' (955x401)>"
      ]
     },
     "execution_count": 44,
     "metadata": {},
     "output_type": "execute_result"
    }
   ],
   "source": [
    "import os\n",
    "decile=['& below median (inc.)', 'below median (inc.)', 'below median (inc.)',\n",
    "        'above median (exc.)', 'above median (exc.)', 'above median (exc.)']\n",
    "\n",
    "tb = \"\"\"\\\\footnotesize{\n",
    "Due to limited space, only the coefficients of interest are presented \n",
    "for the regressions with city,industry, year fixed effect (i.e. columns 1-3).\n",
    "\\sym{*} Significance at the 10\\%, \\sym{**} Significance at the 5\\%, \\sym{***} Significance at the 1\\% \\\\\n",
    "heteroscedasticity-robust standard errors in parentheses are clustered by city \n",
    "}\n",
    "\"\"\"\n",
    "lb.beautify(table_number = 3,\n",
    "            remove_control= True,\n",
    "            constraint = False,\n",
    "            city_industry = False, \n",
    "            new_row = decile,\n",
    "            table_nte =tb,\n",
    "           jupyter_preview = True,\n",
    "           resolution = 200)"
   ]
  },
  {
   "cell_type": "markdown",
   "metadata": {
    "kernel": "Python 3"
   },
   "source": [
    "## SPZ/Coastal"
   ]
  },
  {
   "cell_type": "code",
   "execution_count": 36,
   "metadata": {
    "kernel": "R"
   },
   "outputs": [
    {
     "data": {
      "text/html": [
       "<style>\n",
       ".list-inline {list-style: none; margin:0; padding: 0}\n",
       ".list-inline>li {display: inline-block}\n",
       ".list-inline>li:not(:last-child)::after {content: \"\\00b7\"; padding: 0 .5ex}\n",
       "</style>\n",
       "<ol class=list-inline><li>TRUE</li><li>TRUE</li><li>TRUE</li><li>TRUE</li><li>TRUE</li><li>TRUE</li><li>TRUE</li><li>TRUE</li><li>TRUE</li></ol>\n"
      ],
      "text/latex": [
       "\\begin{enumerate*}\n",
       "\\item TRUE\n",
       "\\item TRUE\n",
       "\\item TRUE\n",
       "\\item TRUE\n",
       "\\item TRUE\n",
       "\\item TRUE\n",
       "\\item TRUE\n",
       "\\item TRUE\n",
       "\\item TRUE\n",
       "\\end{enumerate*}\n"
      ],
      "text/markdown": [
       "1. TRUE\n",
       "2. TRUE\n",
       "3. TRUE\n",
       "4. TRUE\n",
       "5. TRUE\n",
       "6. TRUE\n",
       "7. TRUE\n",
       "8. TRUE\n",
       "9. TRUE\n",
       "\n",
       "\n"
      ],
      "text/plain": [
       "[1] TRUE TRUE TRUE TRUE TRUE TRUE TRUE TRUE TRUE"
      ]
     },
     "metadata": {},
     "output_type": "display_data"
    }
   ],
   "source": [
    "df_to_filter <- df_TCZ_list_china\n",
    "### SPZ\n",
    "\n",
    "### Remove text, tex and pdf files\n",
    "toremove <- dir(path=getwd(), pattern=\".tex|.pdf|.txt\")\n",
    "file.remove(toremove)\n",
    "\n",
    "fe1 <- list(\n",
    "    c(\"City fixed effects\", \"Yes\", \"Yes\", \"Yes\", \"Yes\", \"Yes\", \"Yes\", \"Yes\"),\n",
    "    c(\"Industry fixed effects\", \"Yes\", \"Yes\", \"Yes\", \"Yes\", \"Yes\", \"Yes\", \"Yes\"),\n",
    "    c(\"Year fixed effects\",\"Yes\", \"Yes\", \"Yes\", \"Yes\", \"Yes\", \"Yes\", \"Yes\")\n",
    "             )\n",
    "\n",
    "for (var in range(1,2)){\n",
    "    \n",
    "    if (var == 1){\n",
    "        filter_spz = 1\n",
    "        filter_coast = TRUE\n",
    "        filter_tcz = 'TCZ'\n",
    "        \n",
    "    }else if ( var == 2){\n",
    "        \n",
    "        filter_spz = 0\n",
    "        filter_coast = FALSE\n",
    "        filter_tcz = 'No_TCZ'\n",
    "    }\n",
    "\n",
    "\n",
    "    t1 <- felm(formula=log(tso2_cit) ~ \n",
    "               TCZ_c * Period * polluted_thre \n",
    "               + output_fcit + capital_fcit + labour_fcit\n",
    "                  |\n",
    "             FE_t_c + FE_t_i + FE_c_i  | 0 |\n",
    "             industry, data= df_to_filter %>% filter(SPZ == filter_spz),\n",
    "             exactDOF=TRUE)\n",
    "    t1 <-change_target(t1)\n",
    "    t2 <- felm(formula=log(tso2_cit) ~ \n",
    "           target_c  * Period * polluted_thre \n",
    "               + output_fcit + capital_fcit + labour_fcit\n",
    "                  |\n",
    "             FE_t_c + FE_t_i + FE_c_i  | 0 |\n",
    "             industry, data= df_to_filter %>% filter(SPZ == filter_spz),\n",
    "             exactDOF=TRUE)\n",
    "    t2 <-change_target(t2)\n",
    "\n",
    "    t3 <- felm(formula=log(tso2_cit) ~ \n",
    "           TCZ_c * Period * polluted_thre \n",
    "           + target_c  * Period * polluted_thre \n",
    "                  + output_fcit + capital_fcit + labour_fcit\n",
    "                  |\n",
    "             FE_t_c + FE_t_i + FE_c_i  | 0 |\n",
    "             industry, data= df_to_filter %>% filter(SPZ == filter_spz),\n",
    "             exactDOF=TRUE)\n",
    "    t3 <-change_target(t3)\n",
    "\n",
    "    ### Coastal\n",
    "    t4 <- felm(formula=log(tso2_cit) ~ \n",
    "           TCZ_c * Period * polluted_thre \n",
    "                  + output_fcit + capital_fcit + labour_fcit\n",
    "                  |\n",
    "             FE_t_c + FE_t_i + FE_c_i  | 0 |\n",
    "             industry, data= df_to_filter %>% filter(Coastal == filter_coast),\n",
    "             exactDOF=TRUE)\n",
    "    t4 <-change_target(t4)\n",
    "\n",
    "    t5 <- felm(formula=log(tso2_cit) ~ \n",
    "           target_c  * Period * polluted_thre \n",
    "                  + output_fcit + capital_fcit + labour_fcit\n",
    "                  |\n",
    "             FE_t_c + FE_t_i + FE_c_i  | 0 |\n",
    "             industry, data= df_to_filter %>% filter(Coastal == filter_coast),\n",
    "             exactDOF=TRUE)\n",
    "    t5 <-change_target(t5)\n",
    "\n",
    "    t6 <- felm(formula=log(tso2_cit) ~ \n",
    "           TCZ_c * Period * polluted_thre \n",
    "           + target_c  * Period * polluted_thre \n",
    "                  + output_fcit + capital_fcit + labour_fcit\n",
    "                  |\n",
    "             FE_t_c + FE_t_i + FE_c_i  | 0 |\n",
    "             industry, data= df_to_filter %>% filter(Coastal == filter_coast),\n",
    "             exactDOF=TRUE)\n",
    "    t6 <-change_target(t6)\n",
    "\n",
    "    t7 <- felm(formula=log(tso2_cit) ~ \n",
    "           + target_c  * Period * polluted_thre \n",
    "                  + output_fcit + capital_fcit + labour_fcit\n",
    "                  |\n",
    "             FE_t_c + FE_t_i + FE_c_i  | 0 |\n",
    "             industry, data= df_final %>% filter(TCZ_c == filter_tcz),\n",
    "             exactDOF=TRUE)\n",
    "    t7 <-change_target(t7)\n",
    "    \n",
    "     if (var == 1){\n",
    "        tables_1 <- list(t1, t2, t3,t4, t5, t6, t7)\n",
    "        table_1 <- go_latex(tables_1,\n",
    "                dep_var = \"Dependent variable \\\\text { SO2 emission }_{i k t}\",\n",
    "                title=\"SPZ/Coastal/TCZ True\",\n",
    "                addFE=fe1,\n",
    "                save=TRUE,\n",
    "                note = FALSE,\n",
    "                name=\"table_1.txt\"\n",
    "                            )\n",
    "        \n",
    "    }else if (var == 2){\n",
    "        \n",
    "        tables_2 <- list(t1, t2, t3,t4, t5, t6, t7)\n",
    "        table_1 <- go_latex(tables_2,\n",
    "                dep_var = \"Dependent variable \\\\text { SO2 emission }_{i k t}\",\n",
    "                title=\"SPZ/Coastal/TCZ False\",\n",
    "                addFE=fe1,\n",
    "                save=TRUE,\n",
    "                note = FALSE,\n",
    "                name=\"table_2.txt\"\n",
    "                            )\n",
    "    }\n",
    "    \n",
    "}"
   ]
  },
  {
   "cell_type": "code",
   "execution_count": 37,
   "metadata": {
    "kernel": "Python 3"
   },
   "outputs": [
    {
     "data": {
      "image/png": "[encoded data removed]",
      "text/plain": [
       "<wand.image.Image: 92750ba 'PDF' (955x498)>"
      ]
     },
     "execution_count": 37,
     "metadata": {},
     "output_type": "execute_result"
    }
   ],
   "source": [
    "import os\n",
    "decile=['& SPZ', 'SPZ', 'SPZ',\n",
    "        'Coastal', 'Coastal', 'Coastal', 'TCZ']\n",
    "\n",
    "tb = \"\"\"\\\\footnotesize{\n",
    "Due to limited space, only the coefficients of interest are presented \n",
    "for the regressions with city,industry, year fixed effect (i.e. columns 1-3).\n",
    "\\sym{*} Significance at the 10\\%, \\sym{**} Significance at the 5\\%, \\sym{***} Significance at the 1\\% \\\\\n",
    "heteroscedasticity-robust standard errors in parentheses are clustered by city \n",
    "}\n",
    "\"\"\"\n",
    "lb.beautify(table_number = 1,\n",
    "            remove_control= True,\n",
    "            constraint = False,\n",
    "            city_industry = False, \n",
    "            new_row = decile,\n",
    "            table_nte =tb,\n",
    "           jupyter_preview = True,\n",
    "           resolution = 200)"
   ]
  },
  {
   "cell_type": "code",
   "execution_count": 38,
   "metadata": {
    "kernel": "Python 3"
   },
   "outputs": [
    {
     "data": {
      "image/png": "[encoded data removed]",
      "text/plain": [
       "<wand.image.Image: 87d2677 'PDF' (955x504)>"
      ]
     },
     "execution_count": 38,
     "metadata": {},
     "output_type": "execute_result"
    }
   ],
   "source": [
    "import os\n",
    "decile=['& SPZ', 'SPZ', 'SPZ',\n",
    "        'Coastal', 'Coastal', 'Coastal']\n",
    "\n",
    "tb = \"\"\"\\\\footnotesize{\n",
    "Due to limited space, only the coefficients of interest are presented \n",
    "for the regressions with city,industry, year fixed effect (i.e. columns 1-3).\n",
    "\\sym{*} Significance at the 10\\%, \\sym{**} Significance at the 5\\%, \\sym{***} Significance at the 1\\% \\\\\n",
    "heteroscedasticity-robust standard errors in parentheses are clustered by city \n",
    "}\n",
    "\"\"\"\n",
    "lb.beautify(table_number = 2,\n",
    "            remove_control= True,\n",
    "            constraint = False,\n",
    "            city_industry = False, \n",
    "            new_row = decile,\n",
    "            table_nte =tb,\n",
    "           jupyter_preview = True,\n",
    "           resolution = 200)"
   ]
  },
  {
   "cell_type": "markdown",
   "metadata": {
    "kernel": "Python 3"
   },
   "source": [
    "# Create Report"
   ]
  },
  {
   "cell_type": "code",
   "execution_count": null,
   "metadata": {
    "kernel": "Python 3"
   },
   "outputs": [],
   "source": [
    "import os, time, shutil\n",
    "from pathlib import Path\n",
    "\n",
    "filename = '09_SBC_pollution_China_Revision_New_tables_c'\n",
    "source = filename + '.ipynb'\n",
    "source_to_move = filename + '.html'\n",
    "path = os.getcwd()\n",
    "parent_path = str(Path(path).parent)\n",
    "path_report = \"{}/Reports\".format(parent_path)\n",
    "dest = os.path.join(path_report, filename)+'.html'\n",
    "\n",
    "os.system('jupyter nbconvert --no-input --to html {}'.format(source))\n",
    "shutil.move(source_to_move, dest)\n",
    "\n",
    "time.sleep(5)\n",
    "for i in range(1, 19):\n",
    "    try:\n",
    "        os.remove(\"table_{}.pdf\".format(i))\n",
    "        os.remove(\"table_{}.tex\".format(i))\n",
    "        os.remove(\"table_{}.txt\".format(i))\n",
    "    except:\n",
    "        pass"
   ]
  }
 ],
 "metadata": {
  "jupytext": {
   "formats": "ipynb,md"
  },
  "kernelspec": {
   "display_name": "SoS",
   "language": "sos",
   "name": "sos"
  },
  "language_info": {
   "codemirror_mode": "sos",
   "file_extension": ".sos",
   "mimetype": "text/x-sos",
   "name": "sos",
   "nbconvert_exporter": "sos_notebook.converter.SoS_Exporter",
   "pygments_lexer": "sos"
  },
  "sos": {
   "kernels": [
    [
     "Python 3",
     "python3",
     "python3",
     "",
     {
      "name": "ipython",
      "version": 3
     }
    ],
    [
     "R",
     "ir",
     "R",
     "#DCDCDA",
     "r"
    ],
    [
     "SoS",
     "sos",
     "",
     "",
     "sos"
    ]
   ],
   "version": "0.21.7"
  }
 },
 "nbformat": 4,
 "nbformat_minor": 4
}
