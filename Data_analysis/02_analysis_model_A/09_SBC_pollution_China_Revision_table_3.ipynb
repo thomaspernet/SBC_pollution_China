{
 "cells": [
  {
   "cell_type": "markdown",
   "metadata": {
    "kernel": "SoS"
   },
   "source": [
    "# Re-estimate table 3\n",
    "\n",
    "* Table 3: estimate two models\n",
    "  * Model 1: target x period x polluted \n",
    "  * Model 2: target x polluted x period x share \n",
    "    * output/capital/employment\n",
    "* All sample\n",
    "* Subsample\n",
    "  * TCZ\n",
    "  * SPZ\n",
    "  * Coastal\n",
    "* Table 4: testing for parallel trend\n",
    "    * Whole sample\n",
    "    * SOEs\n",
    "    * non SOEs"
   ]
  },
  {
   "cell_type": "code",
   "execution_count": 1,
   "metadata": {
    "kernel": "SoS"
   },
   "outputs": [],
   "source": [
    "import pandas as pd\n",
    "from Fast_connectCloud import connector\n",
    "import numpy as np"
   ]
  },
  {
   "cell_type": "code",
   "execution_count": 2,
   "metadata": {
    "kernel": "Python 3"
   },
   "outputs": [],
   "source": [
    "import sys\n",
    "sys.path.insert(0,'..')"
   ]
  },
  {
   "cell_type": "markdown",
   "metadata": {
    "kernel": "Python 3"
   },
   "source": [
    "# Load Data"
   ]
  },
  {
   "cell_type": "code",
   "execution_count": 3,
   "metadata": {
    "kernel": "Python 3"
   },
   "outputs": [],
   "source": [
    "import functions.latex_beautify as lb\n",
    "\n",
    "%load_ext autoreload\n",
    "%autoreload 2"
   ]
  },
  {
   "cell_type": "code",
   "execution_count": 4,
   "metadata": {
    "kernel": "SoS"
   },
   "outputs": [
    {
     "name": "stdout",
     "output_type": "stream",
     "text": [
      "Service account storage and Bigquery are now connected. \n",
      "Service account storage is stored as <google.cloud.storage.client.Client object at 0xa2816ced0> and accessible with \"Storage_account\" \n",
      "Service account Bigquery is stored as <google.cloud.bigquery.client.Client object at 0xa2a8030d0> and accessible with \"bigquery_account\"\n"
     ]
    }
   ],
   "source": [
    "gs = connector.open_connection(online_connection = False,\n",
    "                              path_credential = '/Users/thomas/Google Drive/Projects/Client_Oauth/Google_auth')\n",
    "\n",
    "service = gs.connect_remote('GCP')"
   ]
  },
  {
   "cell_type": "code",
   "execution_count": 5,
   "metadata": {
    "kernel": "SoS"
   },
   "outputs": [
    {
     "name": "stderr",
     "output_type": "stream",
     "text": [
      "/Users/thomas/anaconda3/lib/python3.7/site-packages/pyarrow/feather.py:83: FutureWarning: The SparseDataFrame class is removed from pandas. Accessing it from the top-level namespace will also be removed in the next version\n",
      "  if isinstance(df, _pandas_api.pd.SparseDataFrame):\n"
     ]
    }
   ],
   "source": [
    "%put df_final --to R\n",
    "\n",
    "from GoogleDrivePy.google_platform import connect_cloud_platform\n",
    "project = 'valid-pagoda-132423'\n",
    "gcp = connect_cloud_platform.connect_console(project = project, \n",
    "                                             service_account = service['GoogleCloudP'])    \n",
    "query = (\n",
    "          \"SELECT * \"\n",
    "            \"FROM China.SBC_pollution_China \"\n",
    "\n",
    "        )\n",
    "\n",
    "df_final = gcp.upload_data_from_bigquery(query = query, location = 'US')"
   ]
  },
  {
   "cell_type": "code",
   "execution_count": 6,
   "metadata": {
    "kernel": "R"
   },
   "outputs": [],
   "source": [
    "options(warn=-1)\n",
    "shhh <- suppressPackageStartupMessages\n",
    "shhh(library(tidyverse))\n",
    "shhh(library(lfe))\n",
    "shhh(library(lazyeval))\n",
    "shhh(library('progress'))\n",
    "\n",
    "path = \"../functions/SBC_pollution_R.R\"\n",
    "source(path)\n",
    "path = \"../functions/SBC_pollutiuon_golatex.R\"\n",
    "source(path)"
   ]
  },
  {
   "cell_type": "markdown",
   "metadata": {
    "kernel": "R"
   },
   "source": [
    "### Load TCZ_list_china from Google Spreadsheet\n",
    "\n",
    "Feel free to add description about the dataset or any usefull information.\n",
    "\n",
    "Profiling will be available soon for this dataset"
   ]
  },
  {
   "cell_type": "code",
   "execution_count": 8,
   "metadata": {
    "kernel": "R"
   },
   "outputs": [],
   "source": [
    "df_TCZ_list_china = read_csv('../df_TCZ_list_china.csv',\n",
    "                            col_types = cols(\n",
    "  Province = col_character(),\n",
    "  City = col_character(),\n",
    "  geocode4_corr = col_double(),\n",
    "  TCZ = col_double(),\n",
    "  SPZ = col_double()\n",
    ")) %>% \n",
    "select(-c(TCZ, Province)) %>% \n",
    "left_join(df_final, by = 'geocode4_corr') %>%\n",
    "mutate_if(is.character, as.factor) %>%\n",
    "    mutate_at(vars(starts_with(\"FE\")), as.factor) %>%\n",
    "    mutate(\n",
    "         Period = relevel(Period, ref='Before'),\n",
    "         TCZ_c = relevel(TCZ_c, ref='No_TCZ'),\n",
    "         effort_c = relevel(effort_c, ref='Below'),\n",
    "         polluted_di = relevel(polluted_di, ref='Below'),\n",
    "         polluted_mi = relevel(polluted_mi, ref='Below'),\n",
    "         polluted_thre = relevel(polluted_thre, ref='Below'),\n",
    "  )"
   ]
  },
  {
   "cell_type": "markdown",
   "metadata": {
    "kernel": "R"
   },
   "source": [
    "# Table 3\n",
    "\n",
    "## Models to estimate \n",
    "\n",
    "$$\n",
    "Log SO2 emission _{i k t}=\\alpha\\left(\\text { Period } \\times \\text { Target }_{i} \\times \\text { Polluting sectors }_{k} \\right)+\\nu_{it}+\\lambda_{kt}+\\phi_{ck}+\\epsilon_{i k t}\n",
    "$$\n",
    "\n",
    "$$\n",
    "Log SO2 emission _{i k t}=\\alpha\\left(\\text { Period } \\times \\text { Target }_{i} \\times \\text { Polluting sectors }_{k} \\times \\text{Share X}_{i}\\right)+\\nu_{it}+\\lambda_{kt}+\\phi_{ck}+\\epsilon_{i k t}\n",
    "$$\n",
    "\n",
    "- Estimate full sample\n",
    "- Estimate subsample\n",
    "    * TCZ\n",
    "    * SPZ\n",
    "    * Coastal"
   ]
  },
  {
   "cell_type": "code",
   "execution_count": null,
   "metadata": {
    "kernel": "SoS"
   },
   "outputs": [],
   "source": [
    "list(df_final)"
   ]
  },
  {
   "cell_type": "code",
   "execution_count": 7,
   "metadata": {
    "kernel": "R"
   },
   "outputs": [],
   "source": [
    "change_target <- function(table){\n",
    "    check_target <- grep(\"PeriodAfter:polluted_threAbove:target_c$\", rownames(table$coef))\n",
    "    \n",
    "    if (length(check_target) !=0) {\n",
    "    rownames(table$coefficients)[check_target] <- 'target_c:PeriodAfter:polluted_threAbove'\n",
    "    rownames(table$beta)[check_target] <- 'target_c:PeriodAfter:polluted_threAbove'\n",
    "}\n",
    "    return (table)\n",
    "}"
   ]
  },
  {
   "cell_type": "markdown",
   "metadata": {
    "kernel": "R"
   },
   "source": [
    "## Full Sample "
   ]
  },
  {
   "cell_type": "code",
   "execution_count": null,
   "metadata": {
    "kernel": "R"
   },
   "outputs": [],
   "source": [
    "toremove <- dir(path=getwd(), pattern=\".tex|.pdf|.txt\")\n",
    "file.remove(toremove)\n",
    "\n",
    "t1 <- felm(formula=log(tso2_cit) ~ \n",
    "           target_c * Period * polluted_thre \n",
    "           + output_fcit + capital_fcit + labour_fcit\n",
    "                  |\n",
    "             FE_t_c + FE_t_i + FE_c_i  | 0 |\n",
    "             industry, data= df_TCZ_list_china,\n",
    "             exactDOF=TRUE)\n",
    "t1 <-change_target(t1)\n",
    "\n",
    "t2 <- felm(formula=log(tso2_cit) ~ \n",
    "           target_c * Period * polluted_thre * out_share_SOE\n",
    "           + output_fcit + capital_fcit + labour_fcit\n",
    "                  |\n",
    "             FE_t_c + FE_t_i + FE_c_i  | 0 |\n",
    "             industry, data= df_TCZ_list_china,\n",
    "             exactDOF=TRUE)\n",
    "t2 <-change_target(t2)\n",
    "\n",
    "t3 <- felm(formula=log(tso2_cit) ~ \n",
    "           target_c * Period * polluted_thre * cap_share_SOE\n",
    "           + output_fcit + capital_fcit + labour_fcit\n",
    "                  |\n",
    "             FE_t_c + FE_t_i + FE_c_i  | 0 |\n",
    "             industry, data= df_TCZ_list_china,\n",
    "             exactDOF=TRUE)\n",
    "t3 <-change_target(t3)\n",
    "\n",
    "t4 <- felm(formula=log(tso2_cit) ~ \n",
    "           target_c * Period * polluted_thre * lab_share_SOE\n",
    "           + output_fcit + capital_fcit + labour_fcit\n",
    "                  |\n",
    "             FE_t_c + FE_t_i + FE_c_i  | 0 |\n",
    "             industry, data= df_TCZ_list_china,\n",
    "             exactDOF=TRUE)\n",
    "t4 <-change_target(t4)\n",
    "\n",
    "tables <- list(t1, t2, t3,t4)\n",
    "\n",
    "fe1 <-  list(c(\"City-year fixed effects\", \"Yes\", \"Yes\", \"Yes\", \"Yes\"),\n",
    "             c(\"Industry-year fixed effects\", \"Yes\", \"Yes\", \"Yes\", \"Yes\"),\n",
    "             c(\"City-industry fixed effects\", \"Yes\", \"Yes\", \"Yes\", \"Yes\")\n",
    "             )\n",
    "\n",
    "\n",
    "table_1 <- go_latex(tables,\n",
    "                dep_var = \"Dependent variable \\\\text { SO2 emission }_{i k t}\",\n",
    "                title=\"Table 3- Replicate Target Full sample\",\n",
    "                addFE=fe1,\n",
    "                save=TRUE,\n",
    "                note = FALSE,\n",
    "                name=\"table_1.txt\"\n",
    "                            )"
   ]
  },
  {
   "cell_type": "code",
   "execution_count": null,
   "metadata": {
    "kernel": "Python 3"
   },
   "outputs": [],
   "source": [
    "import os\n",
    "decile=['& Full', 'Output', 'Capital',\n",
    "        'Employment']\n",
    "\n",
    "tb = \"\"\"\\\\footnotesize{\n",
    "Due to limited space, only the coefficients of interest are presented \n",
    "for the regressions with city,industry, year fixed effect (i.e. columns 1-3).\n",
    "\\sym{*} Significance at the 10\\%, \\sym{**} Significance at the 5\\%, \\sym{***} Significance at the 1\\% \\\\\n",
    "heteroscedasticity-robust standard errors in parentheses are clustered by city \n",
    "}\n",
    "\"\"\"\n",
    "lb.beautify(table_number = 1,\n",
    "            remove_control= True,\n",
    "            constraint = False,\n",
    "            city_industry = False, \n",
    "            new_row = decile,\n",
    "            table_nte =tb,\n",
    "           jupyter_preview = True,\n",
    "           resolution = 200)"
   ]
  },
  {
   "cell_type": "markdown",
   "metadata": {
    "kernel": "Python 3"
   },
   "source": [
    "## SubSample \n",
    "\n",
    "- Three subsamples\n",
    "    * TCZ\n",
    "    * SPZ\n",
    "    * Coastal\n",
    "\n",
    "- 4 models\n",
    "    * target x period x polluted\n",
    "    * target x period x polluted x share Output\n",
    "    * target x period x polluted x share Capital\n",
    "    * target x period x polluted x share Employment"
   ]
  },
  {
   "cell_type": "code",
   "execution_count": null,
   "metadata": {
    "kernel": "R"
   },
   "outputs": [],
   "source": [
    "fe1 <-  list(c(\"City-year fixed effects\", \"Yes\", \"Yes\", \"Yes\", \"Yes\"),\n",
    "             c(\"Industry-year fixed effects\", \"Yes\", \"Yes\", \"Yes\", \"Yes\"),\n",
    "             c(\"City-industry fixed effects\", \"Yes\", \"Yes\", \"Yes\", \"Yes\")\n",
    "             )\n",
    "\n",
    "toremove <- dir(path=getwd(), pattern=\".tex|.pdf|.txt\")\n",
    "file.remove(toremove)\n",
    "i = 1\n",
    "for (c in list(1,2)){\n",
    "    for (subsample in list(\"TCZ_c\", \"Coastal\", \"SPZ\")){\n",
    "        if (subsample == \"TCZ_c\"){\n",
    "            if (c == 1){\n",
    "                filter_ = 'TCZ'\n",
    "                n = \"Yes\"\n",
    "            }else{\n",
    "                filter_ = 'No_TCZ'\n",
    "                n = \"No\"\n",
    "                }\n",
    "        }else if (subsample == \"Coastal\"){\n",
    "            if (c == 1){\n",
    "                filter_ = TRUE\n",
    "                n = \"Yes\"\n",
    "            }else{\n",
    "                filter_ = FALSE\n",
    "                n = \"No\"\n",
    "                }\n",
    "        }else if (subsample == \"SPZ\"){\n",
    "            if (c == 1){\n",
    "                filter_ = 1\n",
    "                n = \"Yes\"\n",
    "            }else{\n",
    "                filter_ = 0\n",
    "                n = \"No\"\n",
    "            }\n",
    "        }\n",
    "        \n",
    "        t1 <- felm(formula=log(tso2_cit) ~ \n",
    "           target_c * Period * polluted_thre \n",
    "           + output_fcit + capital_fcit + labour_fcit\n",
    "                  |\n",
    "             FE_t_c + FE_t_i + FE_c_i  | 0 |\n",
    "             industry, data= df_TCZ_list_china %>% filter(get(subsample) == filter_),\n",
    "             exactDOF=TRUE)\n",
    "        t1 <-change_target(t1)\n",
    "\n",
    "        t2 <- felm(formula=log(tso2_cit) ~ \n",
    "           target_c * Period * polluted_thre * out_share_SOE\n",
    "           + output_fcit + capital_fcit + labour_fcit\n",
    "                  |\n",
    "             FE_t_c + FE_t_i + FE_c_i  | 0 |\n",
    "             industry, data= df_TCZ_list_china %>% filter(get(subsample) == filter_),\n",
    "             exactDOF=TRUE)\n",
    "        t2 <-change_target(t2)\n",
    "\n",
    "        t3 <- felm(formula=log(tso2_cit) ~ \n",
    "           target_c * Period * polluted_thre * cap_share_SOE\n",
    "           + output_fcit + capital_fcit + labour_fcit\n",
    "                  |\n",
    "             FE_t_c + FE_t_i + FE_c_i  | 0 |\n",
    "             industry, data= df_TCZ_list_china %>% filter(get(subsample) == filter_),\n",
    "             exactDOF=TRUE)\n",
    "        t3 <-change_target(t3)\n",
    "\n",
    "        t4 <- felm(formula=log(tso2_cit) ~ \n",
    "           target_c * Period * polluted_thre * lab_share_SOE\n",
    "           + output_fcit + capital_fcit + labour_fcit\n",
    "                  |\n",
    "             FE_t_c + FE_t_i + FE_c_i  | 0 |\n",
    "             industry, data= df_TCZ_list_china %>% filter(get(subsample) == filter_),\n",
    "             exactDOF=TRUE)\n",
    "        t4 <-change_target(t4)\n",
    "\n",
    "        tables <- list(t1, t2, t3,t4)\n",
    "\n",
    "        name = paste0(\"table_\", i, \".txt\")\n",
    "        table_1 <- go_latex(tables,\n",
    "                dep_var = \"Dependent variable \\\\text { SO2 emission }_{i k t}\",\n",
    "                title=paste0(\"Table 3- Replicate Target \", subsample, \" \", n),\n",
    "                addFE=fe1,\n",
    "                save=TRUE,\n",
    "                note = FALSE,\n",
    "                name=name\n",
    "                            )\n",
    "        i = i+1\n",
    "    }\n",
    "}"
   ]
  },
  {
   "cell_type": "code",
   "execution_count": null,
   "metadata": {
    "kernel": "Python 3"
   },
   "outputs": [],
   "source": [
    "decile=['& Full', 'Output', 'Capital',\n",
    "        'Employment']\n",
    "\n",
    "tb = \"\"\"\\\\footnotesize{\n",
    "Due to limited space, only the coefficients of interest are presented \n",
    "for the regressions with city,industry, year fixed effect (i.e. columns 1-3).\n",
    "\\sym{*} Significance at the 10\\%, \\sym{**} Significance at the 5\\%, \\sym{***} Significance at the 1\\% \\\\\n",
    "heteroscedasticity-robust standard errors in parentheses are clustered by city \n",
    "}\n",
    "\"\"\"\n",
    "x = [a for a in os.listdir() if a.endswith(\".txt\")]\n",
    "for i, val in enumerate(x):\n",
    "    lb.beautify(table_number = i+1,\n",
    "            remove_control= True,\n",
    "            constraint = False,\n",
    "            city_industry = False, \n",
    "            new_row = decile,\n",
    "            table_nte =tb,\n",
    "           jupyter_preview = True,\n",
    "           resolution = 200)"
   ]
  },
  {
   "cell_type": "markdown",
   "metadata": {
    "kernel": "Python 3"
   },
   "source": [
    "# table 4"
   ]
  },
  {
   "cell_type": "code",
   "execution_count": 11,
   "metadata": {
    "kernel": "R"
   },
   "outputs": [
    {
     "data": {
      "text/plain": [
       "\n",
       "Call:\n",
       "   felm(formula = log(tso2_cit) ~ target_c * as.factor(year) * polluted_thre +      output_fcit + capital_fcit + labour_fcit | FE_t_c + FE_t_i +      FE_c_i | 0 | industry, data = df_TCZ_list_china, exactDOF = TRUE) \n",
       "\n",
       "Residuals:\n",
       "    Min      1Q  Median      3Q     Max \n",
       "-5.1086 -0.3221  0.0000  0.3500  4.1993 \n",
       "\n",
       "Coefficients:\n",
       "                                                Estimate Cluster s.e. t value\n",
       "target_c                                              NA      0.00000      NA\n",
       "as.factor(year)2003                                   NA      0.00000      NA\n",
       "as.factor(year)2004                                   NA      0.00000      NA\n",
       "as.factor(year)2005                                   NA      0.00000      NA\n",
       "as.factor(year)2006                                   NA      0.00000      NA\n",
       "as.factor(year)2007                                   NA      0.00000      NA\n",
       "polluted_threAbove                                    NA      0.00000      NA\n",
       "output_fcit                                     -0.06938      0.08982  -0.772\n",
       "capital_fcit                                     0.98829      0.37044   2.668\n",
       "labour_fcit                                      1.52594      0.77086   1.980\n",
       "target_c:as.factor(year)2003                          NA      0.00000      NA\n",
       "target_c:as.factor(year)2004                          NA      0.00000      NA\n",
       "target_c:as.factor(year)2005                          NA      0.00000      NA\n",
       "target_c:as.factor(year)2006                          NA      0.00000      NA\n",
       "target_c:as.factor(year)2007                          NA      0.00000      NA\n",
       "target_c:polluted_threAbove                           NA      0.00000      NA\n",
       "as.factor(year)2003:polluted_threAbove                NA      0.00000      NA\n",
       "as.factor(year)2004:polluted_threAbove                NA      0.00000      NA\n",
       "as.factor(year)2005:polluted_threAbove                NA      0.00000      NA\n",
       "as.factor(year)2006:polluted_threAbove                NA      0.00000      NA\n",
       "as.factor(year)2007:polluted_threAbove                NA      0.00000      NA\n",
       "target_c:as.factor(year)2003:polluted_threAbove -0.22992      0.22179  -1.037\n",
       "target_c:as.factor(year)2004:polluted_threAbove -0.15563      0.22182  -0.702\n",
       "target_c:as.factor(year)2005:polluted_threAbove -0.34713      0.25808  -1.345\n",
       "target_c:as.factor(year)2006:polluted_threAbove -0.59790      0.26265  -2.276\n",
       "target_c:as.factor(year)2007:polluted_threAbove -0.71525      0.26515  -2.698\n",
       "                                                Pr(>|t|)   \n",
       "target_c                                              NA   \n",
       "as.factor(year)2003                                   NA   \n",
       "as.factor(year)2004                                   NA   \n",
       "as.factor(year)2005                                   NA   \n",
       "as.factor(year)2006                                   NA   \n",
       "as.factor(year)2007                                   NA   \n",
       "polluted_threAbove                                    NA   \n",
       "output_fcit                                      0.44047   \n",
       "capital_fcit                                     0.00805 **\n",
       "labour_fcit                                      0.04869 * \n",
       "target_c:as.factor(year)2003                          NA   \n",
       "target_c:as.factor(year)2004                          NA   \n",
       "target_c:as.factor(year)2005                          NA   \n",
       "target_c:as.factor(year)2006                          NA   \n",
       "target_c:as.factor(year)2007                          NA   \n",
       "target_c:polluted_threAbove                           NA   \n",
       "as.factor(year)2003:polluted_threAbove                NA   \n",
       "as.factor(year)2004:polluted_threAbove                NA   \n",
       "as.factor(year)2005:polluted_threAbove                NA   \n",
       "as.factor(year)2006:polluted_threAbove                NA   \n",
       "as.factor(year)2007:polluted_threAbove                NA   \n",
       "target_c:as.factor(year)2003:polluted_threAbove  0.30074   \n",
       "target_c:as.factor(year)2004:polluted_threAbove  0.48349   \n",
       "target_c:as.factor(year)2005:polluted_threAbove  0.17965   \n",
       "target_c:as.factor(year)2006:polluted_threAbove  0.02354 * \n",
       "target_c:as.factor(year)2007:polluted_threAbove  0.00739 **\n",
       "---\n",
       "Signif. codes:  0 ‘***’ 0.001 ‘**’ 0.01 ‘*’ 0.05 ‘.’ 0.1 ‘ ’ 1\n",
       "\n",
       "Residual standard error: 0.9974 on 17132 degrees of freedom\n",
       "  (34 observations deleted due to missingness)\n",
       "Multiple R-squared(full model): 0.8515   Adjusted R-squared: 0.7342 \n",
       "Multiple R-squared(proj model): 0.003486   Adjusted R-squared: -0.7843 \n",
       "F-statistic(full model, *iid*):7.255 on 13543 and 17132 DF, p-value: < 2.2e-16 \n",
       "F-statistic(proj model): 1.084 on 26 and 295 DF, p-value: 0.3584 \n",
       "\n"
      ]
     },
     "metadata": {},
     "output_type": "display_data"
    }
   ],
   "source": [
    "t1 <- felm(formula=log(tso2_cit) ~ \n",
    "           target_c * as.factor(year) * polluted_thre \n",
    "           + output_fcit + capital_fcit + labour_fcit\n",
    "                  |\n",
    "             FE_t_c + FE_t_i + FE_c_i  | 0 |\n",
    "             industry, data= df_TCZ_list_china,\n",
    "             exactDOF=TRUE)\n",
    "t1 <-change_target(t1)\n",
    "summary(t1)"
   ]
  },
  {
   "cell_type": "markdown",
   "metadata": {
    "kernel": "Python 3"
   },
   "source": [
    "# Create Report"
   ]
  },
  {
   "cell_type": "code",
   "execution_count": null,
   "metadata": {
    "kernel": "SoS"
   },
   "outputs": [],
   "source": [
    "import os, time, shutil\n",
    "from pathlib import Path\n",
    "\n",
    "filename = '09_SBC_pollution_China_Revision_table_3'\n",
    "source = filename + '.ipynb'\n",
    "source_to_move = filename +'.html'\n",
    "path = os.getcwd()\n",
    "parent_path = str(Path(path).parent)\n",
    "path_report = \"{}/Reports\".format(parent_path)\n",
    "dest = os.path.join(path_report, filename)+'_.html'\n",
    "\n",
    "os.system('jupyter nbconvert --no-input --to html {}'.format(source))\n",
    "\n",
    "time.sleep(5)\n",
    "shutil.move(source_to_move, dest)\n",
    "for i in range(1, 19):\n",
    "    try:\n",
    "        os.remove(\"table_{}.pdf\".format(i))\n",
    "        os.remove(\"table_{}.tex\".format(i))\n",
    "        os.remove(\"table_{}.txt\".format(i))\n",
    "    except:\n",
    "        pass"
   ]
  }
 ],
 "metadata": {
  "jupytext": {
   "formats": "ipynb,md"
  },
  "kernelspec": {
   "display_name": "SoS",
   "language": "sos",
   "name": "sos"
  },
  "language_info": {
   "codemirror_mode": "sos",
   "file_extension": ".sos",
   "mimetype": "text/x-sos",
   "name": "sos",
   "nbconvert_exporter": "sos_notebook.converter.SoS_Exporter",
   "pygments_lexer": "sos"
  },
  "sos": {
   "kernels": [
    [
     "Python 3",
     "python3",
     "python3",
     "",
     {
      "name": "ipython",
      "version": 3
     }
    ],
    [
     "R",
     "ir",
     "R",
     "#DCDCDA",
     "r"
    ],
    [
     "SoS",
     "sos",
     "",
     "",
     "sos"
    ]
   ],
   "version": "0.21.7"
  }
 },
 "nbformat": 4,
 "nbformat_minor": 4
}
