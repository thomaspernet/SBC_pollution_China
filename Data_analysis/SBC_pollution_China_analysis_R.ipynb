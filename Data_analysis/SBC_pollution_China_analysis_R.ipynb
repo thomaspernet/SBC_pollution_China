{
  "cells": [
    {
      "cell_type": "markdown",
      "source": [
        "# SBC_pollution_China data analysis\n",
        "\n",
        "This notebook has been generated on 2019-11-12 08:29 \n",
        "\n",
        "The objective of this notebook is to YYY\n",
        "\n",
        "## Proposal \n",
        "\n",
        "The proposal is available [here](https://drive.google.com/open?id=1tmSFvdUMXcL3vMKBSNYmf5xe6OEmYNnD)\n",
        "\n",
        "### Equation to estimate\n",
        "\n",
        "$$\n",
        "\\begin{aligned} \\text { SO2 emission }_{i k t}=& \\alpha T C Z_{i} \\times \\text { Polluted sectors }_{k} \\times \\text { post } \\\\ &+\\beta T C Z_{i} \\times \\text { Polluted sectors }_{k} \\times \\text { post } \\times \\text { Share SOE }_{k} \\\\ & +\\theta {X}_{i k t}+\\nu_{c i}+\\lambda_{t i} +\\phi_{t c} +\\epsilon_{ikt} \\end{aligned}\n",
        "$$\n",
        "\n",
        "city-industry; time-industry and time-city\n",
        "\n",
        "## Analysis steps\n",
        "\n",
        "The analysis steps performed in this notebook are the following\n",
        "\n",
        "- Lorem ipsum dolor sit amet\n",
        "- Lorem ipsum dolor sit amet\n",
        "- Lorem ipsum dolor sit amet\n",
        "\n",
        "## Data source \n",
        "\n",
        "The data source of this dataset is:\n",
        "\n",
        "- [SBC_pollution_China](HERE)\n",
        "\n",
        "### Variable name\n",
        "\n",
        "The variables names and labels are the following:"
      ],
      "metadata": {
        "Collapsed": "false",
        "kernel": "SoS"
      }
    },
    {
      "cell_type": "markdown",
      "source": [
        "<table border=\"1\" class=\"dataframe\">\n",
        "  <thead>\n",
        "    <tr style=\"text-align: right;\">\n",
        "      <th></th>\n",
        "      <th>Variables</th>\n",
        "      <th>Labels</th>\n",
        "      <th>Types</th>\n",
        "    </tr>\n",
        "  </thead>\n",
        "  <tbody>\n",
        "    <tr>\n",
        "      <th>0</th>\n",
        "      <td>year</td>\n",
        "      <td>year</td>\n",
        "      <td>int64</td>\n",
        "    </tr>\n",
        "    <tr>\n",
        "      <th>1</th>\n",
        "      <td>Period</td>\n",
        "      <td>Period</td>\n",
        "      <td>object</td>\n",
        "    </tr>\n",
        "    <tr>\n",
        "      <th>2</th>\n",
        "      <td>Province_en</td>\n",
        "      <td>Province_en</td>\n",
        "      <td>object</td>\n",
        "    </tr>\n",
        "    <tr>\n",
        "      <th>3</th>\n",
        "      <td>Lower_location</td>\n",
        "      <td>Lower_location</td>\n",
        "      <td>object</td>\n",
        "    </tr>\n",
        "    <tr>\n",
        "      <th>4</th>\n",
        "      <td>Larger_location</td>\n",
        "      <td>Larger_location</td>\n",
        "      <td>object</td>\n",
        "    </tr>\n",
        "    <tr>\n",
        "      <th>5</th>\n",
        "      <td>Coastal</td>\n",
        "      <td>Coastal</td>\n",
        "      <td>bool</td>\n",
        "    </tr>\n",
        "    <tr>\n",
        "      <th>6</th>\n",
        "      <td>cityen</td>\n",
        "      <td>cityen</td>\n",
        "      <td>object</td>\n",
        "    </tr>\n",
        "    <tr>\n",
        "      <th>7</th>\n",
        "      <td>geocode4_corr</td>\n",
        "      <td>geocode4_corr</td>\n",
        "      <td>int64</td>\n",
        "    </tr>\n",
        "    <tr>\n",
        "      <th>8</th>\n",
        "      <td>TCZ_c</td>\n",
        "      <td>TCZ_c</td>\n",
        "      <td>object</td>\n",
        "    </tr>\n",
        "    <tr>\n",
        "      <th>9</th>\n",
        "      <td>industry</td>\n",
        "      <td>industry</td>\n",
        "      <td>int64</td>\n",
        "    </tr>\n",
        "    <tr>\n",
        "      <th>10</th>\n",
        "      <td>ind2</td>\n",
        "      <td>ind2</td>\n",
        "      <td>int64</td>\n",
        "    </tr>\n",
        "    <tr>\n",
        "      <th>11</th>\n",
        "      <td>Short</td>\n",
        "      <td>Short</td>\n",
        "      <td>object</td>\n",
        "    </tr>\n",
        "    <tr>\n",
        "      <th>12</th>\n",
        "      <td>output_fcit</td>\n",
        "      <td>output_fcit</td>\n",
        "      <td>float64</td>\n",
        "    </tr>\n",
        "    <tr>\n",
        "      <th>13</th>\n",
        "      <td>capital_fcit</td>\n",
        "      <td>capital_fcit</td>\n",
        "      <td>float64</td>\n",
        "    </tr>\n",
        "    <tr>\n",
        "      <th>14</th>\n",
        "      <td>labour_fcit</td>\n",
        "      <td>labour_fcit</td>\n",
        "      <td>float64</td>\n",
        "    </tr>\n",
        "    <tr>\n",
        "      <th>15</th>\n",
        "      <td>count_SOE</td>\n",
        "      <td>count_SOE</td>\n",
        "      <td>float64</td>\n",
        "    </tr>\n",
        "    <tr>\n",
        "      <th>16</th>\n",
        "      <td>out_share_SOE</td>\n",
        "      <td>out_share_SOE</td>\n",
        "      <td>float64</td>\n",
        "    </tr>\n",
        "    <tr>\n",
        "      <th>17</th>\n",
        "      <td>cap_share_SOE</td>\n",
        "      <td>cap_share_SOE</td>\n",
        "      <td>float64</td>\n",
        "    </tr>\n",
        "    <tr>\n",
        "      <th>18</th>\n",
        "      <td>lab_share_SOE</td>\n",
        "      <td>lab_share_SOE</td>\n",
        "      <td>float64</td>\n",
        "    </tr>\n",
        "    <tr>\n",
        "      <th>19</th>\n",
        "      <td>tso2_cit</td>\n",
        "      <td>tso2_cit</td>\n",
        "      <td>int64</td>\n",
        "    </tr>\n",
        "    <tr>\n",
        "      <th>20</th>\n",
        "      <td>tCOD_cit</td>\n",
        "      <td>tCOD_cit</td>\n",
        "      <td>float64</td>\n",
        "    </tr>\n",
        "    <tr>\n",
        "      <th>21</th>\n",
        "      <td>twaste_water_cit</td>\n",
        "      <td>twaste_water_cit</td>\n",
        "      <td>int64</td>\n",
        "    </tr>\n",
        "    <tr>\n",
        "      <th>22</th>\n",
        "      <td>polluted_di</td>\n",
        "      <td>polluted_di</td>\n",
        "      <td>object</td>\n",
        "    </tr>\n",
        "    <tr>\n",
        "      <th>23</th>\n",
        "      <td>polluted_mi</td>\n",
        "      <td>polluted_mi</td>\n",
        "      <td>object</td>\n",
        "    </tr>\n",
        "    <tr>\n",
        "      <th>24</th>\n",
        "      <td>polluted_thre</td>\n",
        "      <td>polluted_thre</td>\n",
        "      <td>object</td>\n",
        "    </tr>\n",
        "    <tr>\n",
        "      <th>25</th>\n",
        "      <td>FE_c_i</td>\n",
        "      <td>FE_c_i</td>\n",
        "      <td>int64</td>\n",
        "    </tr>\n",
        "    <tr>\n",
        "      <th>26</th>\n",
        "      <td>FE_t_i</td>\n",
        "      <td>FE_t_i</td>\n",
        "      <td>int64</td>\n",
        "    </tr>\n",
        "    <tr>\n",
        "      <th>27</th>\n",
        "      <td>FE_t_c</td>\n",
        "      <td>FE_t_c</td>\n",
        "      <td>int64</td>\n",
        "    </tr>\n",
        "  </tbody>\n",
        "</table>"
      ],
      "metadata": {
        "Collapsed": "false",
        "kernel": "SoS"
      }
    },
    {
      "cell_type": "markdown",
      "source": [
        "# Analysis\n",
        "\n",
        "## Load the data"
      ],
      "metadata": {
        "Collapsed": "false",
        "kernel": "SoS"
      }
    },
    {
      "cell_type": "code",
      "source": [
        "import pandas as pd\n",
        "from Fast_connectCloud import connector"
      ],
      "outputs": [],
      "execution_count": 1,
      "metadata": {
        "Collapsed": "false",
        "kernel": "SoS"
      }
    },
    {
      "cell_type": "code",
      "source": [
        "gs = connector.open_connection(online_connection = False,\n",
        "                              path_credential = '/Users/thomas/Google Drive/Projects/Data_science/Google_code_n_Oauth/Client_Oauth/Google_auth/')\n",
        "\n",
        "service = gs.connect_remote('GCP')"
      ],
      "outputs": [
        {
          "output_type": "stream",
          "name": "stdout",
          "text": [
            "Service account storage and Bigquery are now connected. \n",
            "Service account storage is stored as <google.cloud.storage.client.Client object at 0x12216d710> and accessible with \"Storage_account\" \n",
            "Service account Bigquery is stored as <google.cloud.bigquery.client.Client object at 0x11d284a90> and accessible with \"bigquery_account\"\n"
          ]
        }
      ],
      "execution_count": 2,
      "metadata": {
        "Collapsed": "false",
        "kernel": "SoS"
      }
    },
    {
      "cell_type": "code",
      "source": [
        "%put df_final --to R\n",
        "\n",
        "from GoogleDrivePy.google_platform import connect_cloud_platform\n",
        "project = 'valid-pagoda-132423'\n",
        "gcp = connect_cloud_platform.connect_console(project = project, \n",
        "                                             service_account = service['GoogleCloudP'])    \n",
        "query = (\n",
        "          \"SELECT * \"\n",
        "            \"FROM China.SBC_pollution_China \"\n",
        "\n",
        "        )\n",
        "\n",
        "df_final = gcp.upload_data_from_bigquery(query = query, location = 'US')\n",
        "df_final.head()\n"
      ],
      "outputs": [],
      "execution_count": null,
      "metadata": {
        "Collapsed": "false",
        "kernel": "SoS"
      }
    },
    {
      "cell_type": "code",
      "source": [
        "df_final.shape"
      ],
      "outputs": [],
      "execution_count": null,
      "metadata": {
        "Collapsed": "false",
        "kernel": "SoS"
      }
    },
    {
      "cell_type": "markdown",
      "source": [
        "## Analysis 1: "
      ],
      "metadata": {
        "Collapsed": "false",
        "kernel": "SoS"
      }
    },
    {
      "cell_type": "code",
      "source": [
        "options(warn=-1)\n",
        "library(tidyverse)\n",
        "library(lfe)\n",
        "library(lazyeval)\n",
        "library('progress')"
      ],
      "outputs": [],
      "execution_count": null,
      "metadata": {
        "Collapsed": "false",
        "kernel": "R"
      }
    },
    {
      "cell_type": "code",
      "source": [
        "%put df_final\n",
        "\n",
        "path = \"SBC_pollution_R.R\"\n",
        "source(path)\n",
        "path = \"SBC_pollutiuon_golatex.R\"\n",
        "source(path)\n",
        "\n",
        "df_final <- df_final %>% \n",
        "    mutate_if(is.character, as.factor) %>%\n",
        "    mutate_at(vars(starts_with(\"FE\")), as.factor) %>%\n",
        "    mutate(\n",
        "         Period = relevel(Period, ref='Before'),\n",
        "         TCZ_c = relevel(TCZ_c, ref='No_TCZ'),\n",
        "         effort_c = relevel(effort_c, ref='Below'),\n",
        "         polluted_di = relevel(polluted_di, ref='Below'),\n",
        "         polluted_mi = relevel(polluted_mi, ref='Below'),\n",
        "         polluted_thre = relevel(polluted_thre, ref='Below'),\n",
        "  )\n",
        "head(df_final)"
      ],
      "outputs": [],
      "execution_count": null,
      "metadata": {
        "Collapsed": "false",
        "kernel": "R"
      }
    },
    {
      "cell_type": "markdown",
      "source": [
        "# Main Results"
      ],
      "metadata": {
        "Collapsed": "false",
        "kernel": "SoS"
      }
    },
    {
      "cell_type": "code",
      "source": [
        "#df_final <- df_final %>% mutate(polluted_thre = as.factor(ifelse(tso2_i > 68070.78, 'Above', 'Below')),\n",
        "#                        polluted_thre = relevel(polluted_thre, ref='Below'))"
      ],
      "outputs": [],
      "execution_count": null,
      "metadata": {
        "Collapsed": "false",
        "kernel": "R"
      }
    },
    {
      "cell_type": "code",
      "source": [
        "%put df_final\n",
        "t0 <- final_model(df=df_final,\n",
        "                   target='TCZ_c',\n",
        "                   SOE='count_SOE',\n",
        "                   pol='polluted_thre',\n",
        "                   control=TRUE,\n",
        "                   cluster= 'industry',\n",
        "                   print=FALSE)"
      ],
      "outputs": [],
      "execution_count": null,
      "metadata": {
        "Collapsed": "false",
        "kernel": "R"
      }
    },
    {
      "cell_type": "code",
      "source": [
        "%put df_final\n",
        "t1 <- final_model(df=df_final,\n",
        "                   target='TCZ_c',\n",
        "                   SOE='out_share_SOE',\n",
        "                   pol='polluted_thre',\n",
        "                   control=TRUE,\n",
        "                  cluster= 'industry',\n",
        "                   print=FALSE)"
      ],
      "outputs": [],
      "execution_count": null,
      "metadata": {
        "Collapsed": "false",
        "kernel": "R"
      }
    },
    {
      "cell_type": "code",
      "source": [
        "t2 <- final_model(df=df_final,\n",
        "                   target='TCZ_c',\n",
        "                   SOE='cap_share_SOE',\n",
        "                   pol='polluted_thre',\n",
        "                   control=TRUE,\n",
        "                  cluster= 'industry',\n",
        "                   print=FALSE)"
      ],
      "outputs": [],
      "execution_count": null,
      "metadata": {
        "Collapsed": "false",
        "kernel": "R"
      }
    },
    {
      "cell_type": "code",
      "source": [
        "t3 <- final_model(df=df_final,\n",
        "                   target='TCZ_c',\n",
        "                   SOE='lab_share_SOE',\n",
        "                   pol='polluted_thre',\n",
        "                   control=TRUE,\n",
        "                  cluster= 'industry',\n",
        "                   print=FALSE)"
      ],
      "outputs": [],
      "execution_count": null,
      "metadata": {
        "Collapsed": "false",
        "kernel": "R"
      }
    },
    {
      "cell_type": "code",
      "source": [
        "fe1 <- list(c(\"City-year fixed effects\", \"Yes\", \"Yes\", \"Yes\",\n",
        "               \"Yes\"),\n",
        "             c(\"Industry-year fixed effects\", \"Yes\", \"Yes\", \"Yes\", \"Yes\"),\n",
        "             c(\"City-industry fixed effects\", \"Yes\", \"Yes\", \"Yes\", \"Yes\")\n",
        "             )\n",
        "\n",
        "table_1 <- go_latex(list(\n",
        "    t0,\n",
        "    t1,\n",
        "    t2,\n",
        "    t3\n",
        "),\n",
        "    title='Baseline results',\n",
        "    addFE=fe1,\n",
        "    save=TRUE,\n",
        "    name=\"table_1.txt\"\n",
        ")"
      ],
      "outputs": [],
      "execution_count": null,
      "metadata": {
        "Collapsed": "false",
        "kernel": "R"
      }
    },
    {
      "cell_type": "markdown",
      "source": [
        "# Robustness check\n",
        "\n",
        "- Parallel trend\n",
        "- Add extra control\n",
        "- Remove some observation?\n"
      ],
      "metadata": {
        "Collapsed": "false",
        "kernel": "python3"
      }
    },
    {
      "cell_type": "markdown",
      "source": [
        "## Parallel trends"
      ],
      "metadata": {
        "Collapsed": "true",
        "kernel": "R"
      }
    },
    {
      "cell_type": "code",
      "source": [
        "t1 <- parallel_trend(df_final, \"All\", print_ = FALSE)"
      ],
      "outputs": [],
      "execution_count": null,
      "metadata": {
        "Collapsed": "false",
        "kernel": "R"
      }
    },
    {
      "cell_type": "code",
      "source": [
        "t2 <- parallel_trend(df_final, \"TCZ\", print_ = FALSE)"
      ],
      "outputs": [],
      "execution_count": null,
      "metadata": {
        "Collapsed": "false",
        "kernel": "R"
      }
    },
    {
      "cell_type": "code",
      "source": [
        "t3 <- parallel_trend(df_final, \"No_TCZ\", print_ = FALSE)"
      ],
      "outputs": [],
      "execution_count": null,
      "metadata": {
        "Collapsed": "false",
        "kernel": "R"
      }
    },
    {
      "cell_type": "code",
      "source": [
        "fe1 <- list(c(\"City-year fixed effects\", \"Yes\", \"Yes\", \"Yes\"),\n",
        "             c(\"Industry-year fixed effects\", \"Yes\", \"No\", \"No\"),\n",
        "             c(\"City-industry fixed effects\", \"Yes\", \"Yes\", \"Yes\")\n",
        "             )\n",
        "\n",
        "table_2 <- go_latex(list(\n",
        "    t1,\n",
        "    t2,\n",
        "    t3\n",
        "),\n",
        "    title='Parallel trend',\n",
        "    addFE=fe1,\n",
        "    save=TRUE,\n",
        "    name=\"table_2.txt\"\n",
        ")"
      ],
      "outputs": [],
      "execution_count": null,
      "metadata": {
        "Collapsed": "false",
        "kernel": "R"
      }
    },
    {
      "cell_type": "markdown",
      "source": [
        "## Additional Robustness\n",
        "\n",
        "The next round of additional test includes:\n",
        "\n",
        "- Add control variables\n",
        "- Split the Dataset"
      ],
      "metadata": {
        "Collapsed": "false",
        "kernel": "R"
      }
    },
    {
      "cell_type": "markdown",
      "source": [
        "### Add other control variables\n",
        "\n",
        "The first table controls for coastal and SPZ area\n",
        "\n",
        "* Coast\n",
        "* SPZ\n",
        "\n",
        "The second table controls for the city gdp per cap and pop\n",
        "* ln (gdp per cap)\n",
        "* ln (city pop)\n",
        "\n",
        "The thrid table split the dataset between sector dominated by SOE and the other sectors (using the mean)\n",
        "\n",
        "Note there is an issue with SOS and Google Drive connector. We need to save the file localy to use it with SOS.."
      ],
      "metadata": {
        "Collapsed": "false",
        "kernel": "R"
      }
    },
    {
      "cell_type": "code",
      "source": [
        "from Fast_connectCloud import connector\n",
        "from GoogleDrivePy.google_drive import connect_drive\n",
        "import pandas as pd"
      ],
      "outputs": [],
      "execution_count": 1,
      "metadata": {
        "Collapsed": "false",
        "kernel": "python3"
      }
    },
    {
      "cell_type": "code",
      "source": [
        "gs = connector.open_connection(online_connection = False, \n",
        "\tpath_credential = '/Users/Thomas/Google Drive/Projects/Data_science/Google_code_n_Oauth/Client_Oauth/Google_auth/')\n",
        "\n",
        "service_gd = gs.connect_remote(engine = 'GS')\n",
        "\n",
        "gdr = connect_drive.connect_drive(service_gd['GoogleDrive'])"
      ],
      "outputs": [],
      "execution_count": null,
      "metadata": {
        "Collapsed": "false",
        "kernel": "python3"
      }
    },
    {
      "cell_type": "markdown",
      "source": [
        "#### Load TCZ_list_china from Google Spreadsheet\n",
        "\n",
        "Feel free to add description about the dataset or any usefull information.\n",
        "\n",
        "Profiling will be available soon for this dataset"
      ],
      "metadata": {
        "Collapsed": "false",
        "kernel": "R"
      }
    },
    {
      "cell_type": "code",
      "source": [
        "### Please go here https://docs.google.com/spreadsheets/d/15bMeS2cMfGfYJkjuY6wOMzcAUWZNRGpO03hZ8rpgv0Q\n",
        "### To change the range\n",
        "\n",
        "sheetid = '15bMeS2cMfGfYJkjuY6wOMzcAUWZNRGpO03hZ8rpgv0Q'\n",
        "sheetname = 'All_cities'\n",
        "\n",
        "df_TCZ_list_china = gdr.upload_data_from_spreadsheet(sheetID = sheetid,\n",
        "sheetName = sheetname,\n",
        "\t to_dataframe = True).to_csv('df_TCZ_list_china.csv', index = False)"
      ],
      "outputs": [],
      "execution_count": null,
      "metadata": {
        "Collapsed": "false",
        "kernel": "python3"
      }
    },
    {
      "cell_type": "markdown",
      "source": [
        "#### Load chinese_city_characteristics from Google Spreadsheet\n",
        "\n",
        "Feel free to add description about the dataset or any usefull information.\n",
        "\n",
        "Profiling will be available soon for this dataset"
      ],
      "metadata": {
        "Collapsed": "true",
        "kernel": "R"
      }
    },
    {
      "cell_type": "code",
      "source": [
        "# Please go here https://docs.google.com/spreadsheets/d/1-x9DCX4cun6Ed9iH5MiI4g21fXm7seRHHz7WXGiVKVU\n",
        "# To change the range\n",
        "\n",
        "sheetid = \"1-x9DCX4cun6Ed9iH5MiI4g21fXm7seRHHz7WXGiVKVU\"\n",
        "sheetname = \"chinese_city_characteristics\"\n",
        "\n",
        "df_chinese_city_characteristics = (gdr.upload_data_from_spreadsheet(\n",
        "    sheetID=sheetid, sheetName=sheetname, to_dataframe=True\n",
        ").loc[\n",
        "    lambda x: x[\"year\"].isin(\n",
        "        [\"2001\", \"2002\", \"2003\", \"2004\", \"2005\", \"2006\"])\n",
        "][\n",
        "    [\"cityen\", \"geocode4_corr\", \"year\", \"gdp\", \"population\"]\n",
        "].rename(columns={'year': 'year_lagged'})\n",
        "    .apply(pd.to_numeric, errors='ignore')\n",
        "    .assign(year=lambda x:\n",
        "            x['year_lagged'] + 1,\n",
        "            gdp_cap=lambda x: x['gdp'] / x['population']\n",
        "            )\n",
        ").to_csv('df_chinese_city_characteristics.csv', index = False)"
      ],
      "outputs": [],
      "execution_count": null,
      "metadata": {
        "Collapsed": "false",
        "kernel": "python3"
      }
    },
    {
      "cell_type": "markdown",
      "source": [
        "### Table 1: Add Coastal and SPZ"
      ],
      "metadata": {
        "Collapsed": "false",
        "kernel": "R"
      }
    },
    {
      "cell_type": "code",
      "source": [
        "df_TCZ_list_china = read_csv('df_TCZ_list_china.csv') %>% \n",
        "select(-c(TCZ, Province)) %>% \n",
        "left_join(df_final)"
      ],
      "outputs": [],
      "execution_count": null,
      "metadata": {
        "Collapsed": "false",
        "kernel": "R"
      }
    },
    {
      "cell_type": "code",
      "source": [
        "t1 <- add_control_city_1(df_TCZ_list_china, 'count_SOE', 'cityen', FALSE)"
      ],
      "outputs": [],
      "execution_count": null,
      "metadata": {
        "Collapsed": "false",
        "kernel": "R"
      }
    },
    {
      "cell_type": "code",
      "source": [
        "t2 <-add_control_city_1(df_TCZ_list_china, 'out_share_SOE', 'cityen', FALSE)"
      ],
      "outputs": [],
      "execution_count": null,
      "metadata": {
        "Collapsed": "false",
        "kernel": "R"
      }
    },
    {
      "cell_type": "code",
      "source": [
        "t3 <-add_control_city_1(df_TCZ_list_china, 'cap_share_SOE', 'cityen', FALSE)"
      ],
      "outputs": [],
      "execution_count": null,
      "metadata": {
        "Collapsed": "false",
        "kernel": "R"
      }
    },
    {
      "cell_type": "code",
      "source": [
        "t4 <-add_control_city_1(df_TCZ_list_china, 'lab_share_SOE', 'cityen', FALSE)"
      ],
      "outputs": [],
      "execution_count": null,
      "metadata": {
        "Collapsed": "false",
        "kernel": "R"
      }
    },
    {
      "cell_type": "code",
      "source": [
        "fe1 <- list(c(\"City-year fixed effects\", \"Yes\", \"Yes\", \"Yes\", \"Yes\"),\n",
        "             c(\"Industry-year fixed effects\", \"Yes\", \"Yes\", \"Yes\", \"Yes\"),\n",
        "             c(\"City-industry fixed effects\", \"Yes\", \"Yes\", \"Yes\", \"Yes\")\n",
        "             )\n",
        "\n",
        "table_3 <- go_latex(list(\n",
        "    t1,\n",
        "    t2,\n",
        "    t3,\n",
        "    t4\n",
        "),\n",
        "    title='Additional controls',\n",
        "    addFE=fe1,\n",
        "    save=TRUE,\n",
        "    name=\"table_3.txt\"\n",
        ")"
      ],
      "outputs": [],
      "execution_count": null,
      "metadata": {
        "Collapsed": "false",
        "kernel": "R"
      }
    },
    {
      "cell_type": "markdown",
      "source": [
        "### Table 2: GDP and population"
      ],
      "metadata": {
        "Collapsed": "true",
        "kernel": "R"
      }
    },
    {
      "cell_type": "code",
      "source": [
        "df_chinese_city_characteristics = read_csv('df_chinese_city_characteristics.csv') %>% \n",
        "select(-cityen) %>%\n",
        "left_join(df_final, by = c('year', 'geocode4_corr'))"
      ],
      "outputs": [],
      "execution_count": null,
      "metadata": {
        "Collapsed": "false",
        "kernel": "R"
      }
    },
    {
      "cell_type": "code",
      "source": [
        "t1 <- add_control_city_2(df_chinese_city_characteristics, 'count_SOE', 'cityen', FALSE)"
      ],
      "outputs": [],
      "execution_count": null,
      "metadata": {
        "Collapsed": "false",
        "kernel": "R"
      }
    },
    {
      "cell_type": "code",
      "source": [
        "t2 <-add_control_city_2(df_chinese_city_characteristics, 'out_share_SOE', 'cityen', FALSE)"
      ],
      "outputs": [],
      "execution_count": null,
      "metadata": {
        "Collapsed": "false",
        "kernel": "R"
      }
    },
    {
      "cell_type": "code",
      "source": [
        "t3 <-add_control_city_2(df_chinese_city_characteristics, 'cap_share_SOE', 'cityen', FALSE)"
      ],
      "outputs": [],
      "execution_count": null,
      "metadata": {
        "Collapsed": "false",
        "kernel": "R"
      }
    },
    {
      "cell_type": "code",
      "source": [
        "t4 <-add_control_city_2(df_chinese_city_characteristics, 'lab_share_SOE', 'cityen', FALSE)"
      ],
      "outputs": [],
      "execution_count": null,
      "metadata": {
        "Collapsed": "false",
        "kernel": "R"
      }
    },
    {
      "cell_type": "code",
      "source": [
        "fe1 <- list(c(\"City-year fixed effects\", \"Yes\", \"Yes\", \"Yes\", \"Yes\"),\n",
        "             c(\"Industry-year fixed effects\", \"Yes\", \"Yes\", \"Yes\", \"Yes\"),\n",
        "             c(\"City-industry fixed effects\", \"Yes\", \"Yes\", \"Yes\", \"Yes\")\n",
        "             )\n",
        "\n",
        "table_4 <- go_latex(list(\n",
        "    t1,\n",
        "    t2,\n",
        "    t3,\n",
        "    t4\n",
        "),\n",
        "    title='Additional controls (2)',\n",
        "    addFE=fe1,\n",
        "    save=TRUE,\n",
        "    name=\"table_4.txt\"\n",
        ")"
      ],
      "outputs": [],
      "execution_count": null,
      "metadata": {
        "Collapsed": "false",
        "kernel": "R"
      }
    },
    {
      "cell_type": "code",
      "source": [
        "import os \n",
        "os.remove(\"df_chinese_city_characteristics.csv\")"
      ],
      "outputs": [],
      "execution_count": null,
      "metadata": {
        "Collapsed": "false",
        "kernel": "python3"
      }
    },
    {
      "cell_type": "markdown",
      "source": [
        "### Table 3: SOE dominated sectors\n",
        " \n",
        "- Using the mean\n",
        "\n",
        "dominant industries"
      ],
      "metadata": {
        "Collapsed": "true",
        "kernel": "R"
      }
    },
    {
      "cell_type": "code",
      "source": [
        "df_final['industry'].nunique()"
      ],
      "outputs": [],
      "execution_count": null,
      "metadata": {
        "Collapsed": "false",
        "kernel": "SoS"
      }
    },
    {
      "cell_type": "code",
      "source": [
        "df_final.loc[lambda x : x['out_share_SOE'] > 0.1443589]['industry'].nunique()"
      ],
      "outputs": [],
      "execution_count": null,
      "metadata": {
        "Collapsed": "false",
        "kernel": "SoS"
      }
    },
    {
      "cell_type": "code",
      "source": [
        "df_final.loc[lambda x : x['cap_share_SOE'] > 0.2203902]['industry'].nunique()"
      ],
      "outputs": [],
      "execution_count": null,
      "metadata": {
        "Collapsed": "false",
        "kernel": "SoS"
      }
    },
    {
      "cell_type": "code",
      "source": [
        "df_final.loc[lambda x : x['lab_share_SOE'] > 0.18886]['industry'].nunique()"
      ],
      "outputs": [],
      "execution_count": null,
      "metadata": {
        "Collapsed": "false",
        "kernel": "SoS"
      }
    },
    {
      "cell_type": "code",
      "source": [
        "SOE_dominate(df_final, 'lab_share_SOE', TRUE, 'cityen', print_ = FALSE)"
      ],
      "outputs": [],
      "execution_count": null,
      "metadata": {
        "Collapsed": "false",
        "kernel": "R"
      }
    },
    {
      "cell_type": "code",
      "source": [
        "t1<-SOE_dominate(df_final, 'count_SOE', TRUE, 'cityen', print_ = FALSE)"
      ],
      "outputs": [],
      "execution_count": null,
      "metadata": {
        "Collapsed": "false",
        "kernel": "R"
      }
    },
    {
      "cell_type": "code",
      "source": [
        "t2<-SOE_dominate(df_final, 'out_share_SOE', TRUE, 'cityen', print_ = FALSE)"
      ],
      "outputs": [],
      "execution_count": null,
      "metadata": {
        "Collapsed": "false",
        "kernel": "R"
      }
    },
    {
      "cell_type": "code",
      "source": [
        "t3<-SOE_dominate(df_final, 'cap_share_SOE', TRUE, 'cityen', print_ = FALSE)"
      ],
      "outputs": [],
      "execution_count": null,
      "metadata": {
        "Collapsed": "false",
        "kernel": "R"
      }
    },
    {
      "cell_type": "code",
      "source": [
        "t4<-SOE_dominate(df_final, 'lab_share_SOE', TRUE, 'cityen', print_ = FALSE)"
      ],
      "outputs": [],
      "execution_count": null,
      "metadata": {
        "Collapsed": "false",
        "kernel": "R"
      }
    },
    {
      "cell_type": "code",
      "source": [
        "fe1 <- list(c(\"City-year fixed effects\", \"Yes\", \"Yes\", \"Yes\", \"Yes\"),\n",
        "             c(\"Industry-year fixed effects\", \"Yes\", \"Yes\", \"Yes\", \"Yes\"),\n",
        "             c(\"City-industry fixed effects\", \"Yes\", \"Yes\", \"Yes\", \"Yes\")\n",
        "             )\n",
        "\n",
        "table_5 <- go_latex(list(\n",
        "    t1,\n",
        "    t2,\n",
        "    t3,\n",
        "    t4\n",
        "),\n",
        "    title='SOE dominating sectors',\n",
        "    addFE=fe1,\n",
        "    save=TRUE,\n",
        "    name=\"table_5.txt\"\n",
        ")"
      ],
      "outputs": [],
      "execution_count": null,
      "metadata": {
        "Collapsed": "false",
        "kernel": "R"
      }
    },
    {
      "cell_type": "markdown",
      "source": [
        "Non dominant industries"
      ],
      "metadata": {
        "Collapsed": "false",
        "kernel": "R"
      }
    },
    {
      "cell_type": "code",
      "source": [
        "t1 <- SOE_dominate(df_final, 'count_SOE', FALSE, 'cityen', print_ = FALSE)"
      ],
      "outputs": [],
      "execution_count": null,
      "metadata": {
        "Collapsed": "false",
        "kernel": "R"
      }
    },
    {
      "cell_type": "code",
      "source": [
        "t2 <- SOE_dominate(df_final, 'out_share_SOE', FALSE, 'cityen', print_ = FALSE)"
      ],
      "outputs": [],
      "execution_count": null,
      "metadata": {
        "Collapsed": "false",
        "kernel": "R"
      }
    },
    {
      "cell_type": "code",
      "source": [
        "t3<-SOE_dominate(df_final, 'cap_share_SOE', FALSE, 'cityen', print_ = FALSE)"
      ],
      "outputs": [],
      "execution_count": null,
      "metadata": {
        "Collapsed": "false",
        "kernel": "R"
      }
    },
    {
      "cell_type": "code",
      "source": [
        "t4<-SOE_dominate(df_final, 'lab_share_SOE', FALSE, 'cityen', print_ = FALSE)"
      ],
      "outputs": [],
      "execution_count": null,
      "metadata": {
        "Collapsed": "false",
        "kernel": "R"
      }
    },
    {
      "cell_type": "code",
      "source": [
        "fe1 <- list(c(\"City-year fixed effects\", \"Yes\", \"Yes\", \"Yes\", \"Yes\"),\n",
        "             c(\"Industry-year fixed effects\", \"Yes\", \"Yes\", \"Yes\", \"Yes\"),\n",
        "             c(\"City-industry fixed effects\", \"Yes\", \"Yes\", \"Yes\", \"Yes\")\n",
        "             )\n",
        "\n",
        "table_6 <- go_latex(list(\n",
        "    t1,\n",
        "    t2,\n",
        "    t3,\n",
        "    t4\n",
        "),\n",
        "    title='SOE dominating sectors',\n",
        "    addFE=fe1,\n",
        "    save=TRUE,\n",
        "    name=\"table_6.txt\"\n",
        ")"
      ],
      "outputs": [],
      "execution_count": null,
      "metadata": {
        "Collapsed": "false",
        "kernel": "R"
      }
    },
    {
      "cell_type": "markdown",
      "source": [
        "# SO2 policy in TCZ\n",
        "\n",
        "Effect of stringent policy in TCZ and Non TCZ city"
      ],
      "metadata": {
        "Collapsed": "false",
        "kernel": "SoS"
      }
    },
    {
      "cell_type": "code",
      "source": [
        "df_final <- df_final %>% mutate(\n",
        "                        effort_c = relevel(effort_c, ref='Below'))"
      ],
      "outputs": [],
      "execution_count": null,
      "metadata": {
        "Collapsed": "false",
        "kernel": "R"
      }
    },
    {
      "cell_type": "code",
      "source": [
        "t1 <- felm(formula = log(tso2_cit) ~  Period * target_c * polluted_thre\n",
        "     + output_fcit + capital_fcit + labour_fcit \n",
        "             | \n",
        "             FE_t_c + FE_t_i + FE_c_i| 0 | \n",
        "             cityen, data = df_final %>% filter(TCZ_c == 'TCZ'),exactDOF = TRUE)"
      ],
      "outputs": [],
      "execution_count": null,
      "metadata": {
        "Collapsed": "false",
        "kernel": "R"
      }
    },
    {
      "cell_type": "code",
      "source": [
        "t2 <- felm(formula = log(tso2_cit) ~  Period * target_c * polluted_thre\n",
        "     + output_fcit + capital_fcit + labour_fcit \n",
        "             | \n",
        "              FE_t_c + FE_t_i + FE_c_i| 0 | \n",
        "             cityen, data = df_final %>% filter(TCZ_c == 'No_TCZ'),exactDOF = TRUE)"
      ],
      "outputs": [],
      "execution_count": null,
      "metadata": {
        "Collapsed": "false",
        "kernel": "R"
      }
    },
    {
      "cell_type": "code",
      "source": [
        "fe1 <- list(c(\"City-year fixed effects\", \"Yes\", \"Yes\"),\n",
        "             c(\"Industry-year fixed effects\", \"Yes\", \"Yes\"),\n",
        "             c(\"City-industry fixed effects\", \"Yes\", \"Yes\")\n",
        "             )\n",
        "\n",
        "table_7 <- go_latex(list(\n",
        "    t1,\n",
        "    t2\n",
        "),\n",
        "    title='11th FYP city pollution reduction mandate',\n",
        "    addFE=fe1,\n",
        "    save=TRUE,\n",
        "    name=\"table_7.txt\"\n",
        ")"
      ],
      "outputs": [],
      "execution_count": null,
      "metadata": {
        "Collapsed": "false",
        "kernel": "R"
      }
    },
    {
      "cell_type": "markdown",
      "source": [
        "# Beautify latex"
      ],
      "metadata": {
        "Collapsed": "false",
        "kernel": "R"
      }
    },
    {
      "cell_type": "code",
      "source": [
        "%load_ext autoreload\n",
        "%autoreload 2"
      ],
      "outputs": [],
      "execution_count": null,
      "metadata": {
        "Collapsed": "false",
        "kernel": "python3"
      }
    },
    {
      "cell_type": "code",
      "source": [
        "import latex_beautify as lb\n",
        "\n",
        "for i in range(1, 8):\n",
        "    lb.beautify(table_number = i)\n",
        "    rm_ = \"table_{}.txt\".format(i)\n",
        "    os.remove(rm_)"
      ],
      "outputs": [],
      "execution_count": null,
      "metadata": {
        "Collapsed": "false",
        "kernel": "python3"
      }
    },
    {
      "cell_type": "markdown",
      "source": [
        "# TFP"
      ],
      "metadata": {
        "Collapsed": "false",
        "kernel": "SoS"
      }
    },
    {
      "cell_type": "code",
      "source": [
        "import latex_beautify as lb\n",
        "import os"
      ],
      "outputs": [],
      "execution_count": 3,
      "metadata": {
        "Collapsed": "false",
        "kernel": "python3"
      }
    },
    {
      "cell_type": "code",
      "source": [
        "%put df_final --to R\n",
        "\n",
        "from GoogleDrivePy.google_platform import connect_cloud_platform\n",
        "project = 'valid-pagoda-132423'\n",
        "gcp = connect_cloud_platform.connect_console(project = project, \n",
        "                                             service_account = service['GoogleCloudP'])    \n",
        "query = (\n",
        "          \"SELECT * \"\n",
        "            \"FROM China.SBC_TFP_china \"\n",
        "\n",
        "        )\n",
        "\n",
        "df_final = gcp.upload_data_from_bigquery(query = query, location = 'US')\n",
        "df_final.head()"
      ],
      "outputs": [
        {
          "output_type": "execute_result",
          "execution_count": 4,
          "data": {
            "text/html": [
              "<div>\n",
              "<style scoped>\n",
              "    .dataframe tbody tr th:only-of-type {\n",
              "        vertical-align: middle;\n",
              "    }\n",
              "\n",
              "    .dataframe tbody tr th {\n",
              "        vertical-align: top;\n",
              "    }\n",
              "\n",
              "    .dataframe thead th {\n",
              "        text-align: right;\n",
              "    }\n",
              "</style>\n",
              "<table border=\"1\" class=\"dataframe\">\n",
              "  <thead>\n",
              "    <tr style=\"text-align: right;\">\n",
              "      <th></th>\n",
              "      <th>cityen</th>\n",
              "      <th>industry</th>\n",
              "      <th>count</th>\n",
              "      <th>id</th>\n",
              "      <th>year</th>\n",
              "      <th>bdat</th>\n",
              "      <th>geocode4_corr</th>\n",
              "      <th>Province_en</th>\n",
              "      <th>Lower_location</th>\n",
              "      <th>Larger_location</th>\n",
              "      <th>Coastal</th>\n",
              "      <th>SOE</th>\n",
              "      <th>cic</th>\n",
              "      <th>indu_2</th>\n",
              "      <th>Industry_Name</th>\n",
              "      <th>Short</th>\n",
              "      <th>output_fcit</th>\n",
              "      <th>capital_fcit</th>\n",
              "      <th>labour_fcit</th>\n",
              "      <th>input</th>\n",
              "      <th>ownership</th>\n",
              "      <th>Period</th>\n",
              "      <th>TCZ_c</th>\n",
              "      <th>tso2_i</th>\n",
              "      <th>polluted_di</th>\n",
              "      <th>polluted_mi</th>\n",
              "      <th>polluted_thre</th>\n",
              "      <th>target_c</th>\n",
              "      <th>effort_c</th>\n",
              "      <th>FE_c_i</th>\n",
              "      <th>FE_t_i</th>\n",
              "      <th>FE_t_c</th>\n",
              "      <th>FE_c_i_o</th>\n",
              "      <th>FE_t_o</th>\n",
              "      <th>id_</th>\n",
              "      <th>tfp</th>\n",
              "      <th>tfp_OP</th>\n",
              "      <th>tfp_LP</th>\n",
              "    </tr>\n",
              "  </thead>\n",
              "  <tbody>\n",
              "    <tr>\n",
              "      <th>0</th>\n",
              "      <td>Tianjin</td>\n",
              "      <td>3131</td>\n",
              "      <td>2</td>\n",
              "      <td>104036585</td>\n",
              "      <td>2007</td>\n",
              "      <td>1976</td>\n",
              "      <td>1201</td>\n",
              "      <td>Tianjin</td>\n",
              "      <td>Coastal</td>\n",
              "      <td>Eastern</td>\n",
              "      <td>True</td>\n",
              "      <td>PRIVATE</td>\n",
              "      <td>3131</td>\n",
              "      <td>31</td>\n",
              "      <td>Non-metallic Mineral Products</td>\n",
              "      <td>Non-metallic Products</td>\n",
              "      <td>5100</td>\n",
              "      <td>1600</td>\n",
              "      <td>117</td>\n",
              "      <td>3950.0</td>\n",
              "      <td>Collective</td>\n",
              "      <td>After</td>\n",
              "      <td>TCZ</td>\n",
              "      <td>1134685.046</td>\n",
              "      <td>Above</td>\n",
              "      <td>Above</td>\n",
              "      <td>Above</td>\n",
              "      <td>0.249607</td>\n",
              "      <td>Above</td>\n",
              "      <td>4865</td>\n",
              "      <td>375</td>\n",
              "      <td>429</td>\n",
              "      <td>6802</td>\n",
              "      <td>0</td>\n",
              "      <td>73950</td>\n",
              "      <td>7.074598</td>\n",
              "      <td>6.979764</td>\n",
              "      <td>7.074598</td>\n",
              "    </tr>\n",
              "    <tr>\n",
              "      <th>1</th>\n",
              "      <td>Tianjin</td>\n",
              "      <td>3131</td>\n",
              "      <td>2</td>\n",
              "      <td>104126185</td>\n",
              "      <td>2007</td>\n",
              "      <td>1985</td>\n",
              "      <td>1201</td>\n",
              "      <td>Tianjin</td>\n",
              "      <td>Coastal</td>\n",
              "      <td>Eastern</td>\n",
              "      <td>True</td>\n",
              "      <td>PRIVATE</td>\n",
              "      <td>3131</td>\n",
              "      <td>31</td>\n",
              "      <td>Non-metallic Mineral Products</td>\n",
              "      <td>Non-metallic Products</td>\n",
              "      <td>4120</td>\n",
              "      <td>1586</td>\n",
              "      <td>100</td>\n",
              "      <td>1702.0</td>\n",
              "      <td>Collective</td>\n",
              "      <td>After</td>\n",
              "      <td>TCZ</td>\n",
              "      <td>1134685.046</td>\n",
              "      <td>Above</td>\n",
              "      <td>Above</td>\n",
              "      <td>Above</td>\n",
              "      <td>0.249607</td>\n",
              "      <td>Above</td>\n",
              "      <td>4865</td>\n",
              "      <td>375</td>\n",
              "      <td>429</td>\n",
              "      <td>6802</td>\n",
              "      <td>0</td>\n",
              "      <td>73956</td>\n",
              "      <td>6.871739</td>\n",
              "      <td>6.777019</td>\n",
              "      <td>6.871739</td>\n",
              "    </tr>\n",
              "    <tr>\n",
              "      <th>2</th>\n",
              "      <td>Tianjin</td>\n",
              "      <td>3131</td>\n",
              "      <td>2</td>\n",
              "      <td>104181643</td>\n",
              "      <td>2007</td>\n",
              "      <td>1994</td>\n",
              "      <td>1201</td>\n",
              "      <td>Tianjin</td>\n",
              "      <td>Coastal</td>\n",
              "      <td>Eastern</td>\n",
              "      <td>True</td>\n",
              "      <td>PRIVATE</td>\n",
              "      <td>3131</td>\n",
              "      <td>31</td>\n",
              "      <td>Non-metallic Mineral Products</td>\n",
              "      <td>Non-metallic Products</td>\n",
              "      <td>17390</td>\n",
              "      <td>2523</td>\n",
              "      <td>58</td>\n",
              "      <td>4259.0</td>\n",
              "      <td>Collective</td>\n",
              "      <td>After</td>\n",
              "      <td>TCZ</td>\n",
              "      <td>1134685.046</td>\n",
              "      <td>Above</td>\n",
              "      <td>Above</td>\n",
              "      <td>Above</td>\n",
              "      <td>0.249607</td>\n",
              "      <td>Above</td>\n",
              "      <td>4865</td>\n",
              "      <td>375</td>\n",
              "      <td>429</td>\n",
              "      <td>6802</td>\n",
              "      <td>0</td>\n",
              "      <td>73967</td>\n",
              "      <td>8.268788</td>\n",
              "      <td>8.168100</td>\n",
              "      <td>8.268788</td>\n",
              "    </tr>\n",
              "    <tr>\n",
              "      <th>3</th>\n",
              "      <td>Tianjin</td>\n",
              "      <td>3131</td>\n",
              "      <td>2</td>\n",
              "      <td>104030626</td>\n",
              "      <td>2007</td>\n",
              "      <td>1978</td>\n",
              "      <td>1201</td>\n",
              "      <td>Tianjin</td>\n",
              "      <td>Coastal</td>\n",
              "      <td>Eastern</td>\n",
              "      <td>True</td>\n",
              "      <td>PRIVATE</td>\n",
              "      <td>3131</td>\n",
              "      <td>31</td>\n",
              "      <td>Non-metallic Mineral Products</td>\n",
              "      <td>Non-metallic Products</td>\n",
              "      <td>5100</td>\n",
              "      <td>1800</td>\n",
              "      <td>62</td>\n",
              "      <td>4250.0</td>\n",
              "      <td>Private</td>\n",
              "      <td>After</td>\n",
              "      <td>TCZ</td>\n",
              "      <td>1134685.046</td>\n",
              "      <td>Above</td>\n",
              "      <td>Above</td>\n",
              "      <td>Above</td>\n",
              "      <td>0.249607</td>\n",
              "      <td>Above</td>\n",
              "      <td>4865</td>\n",
              "      <td>375</td>\n",
              "      <td>429</td>\n",
              "      <td>6802</td>\n",
              "      <td>0</td>\n",
              "      <td>73973</td>\n",
              "      <td>7.092537</td>\n",
              "      <td>6.996189</td>\n",
              "      <td>7.092537</td>\n",
              "    </tr>\n",
              "    <tr>\n",
              "      <th>4</th>\n",
              "      <td>Tianjin</td>\n",
              "      <td>3131</td>\n",
              "      <td>2</td>\n",
              "      <td>738483010</td>\n",
              "      <td>2007</td>\n",
              "      <td>2002</td>\n",
              "      <td>1201</td>\n",
              "      <td>Tianjin</td>\n",
              "      <td>Coastal</td>\n",
              "      <td>Eastern</td>\n",
              "      <td>True</td>\n",
              "      <td>PRIVATE</td>\n",
              "      <td>3131</td>\n",
              "      <td>31</td>\n",
              "      <td>Non-metallic Mineral Products</td>\n",
              "      <td>Non-metallic Products</td>\n",
              "      <td>35640</td>\n",
              "      <td>64530</td>\n",
              "      <td>73</td>\n",
              "      <td>32835.0</td>\n",
              "      <td>HTM</td>\n",
              "      <td>After</td>\n",
              "      <td>TCZ</td>\n",
              "      <td>1134685.046</td>\n",
              "      <td>Above</td>\n",
              "      <td>Above</td>\n",
              "      <td>Above</td>\n",
              "      <td>0.249607</td>\n",
              "      <td>Above</td>\n",
              "      <td>4865</td>\n",
              "      <td>375</td>\n",
              "      <td>429</td>\n",
              "      <td>6802</td>\n",
              "      <td>0</td>\n",
              "      <td>73974</td>\n",
              "      <td>8.451939</td>\n",
              "      <td>8.309583</td>\n",
              "      <td>8.451939</td>\n",
              "    </tr>\n",
              "  </tbody>\n",
              "</table>\n",
              "</div>"
            ],
            "text/plain": [
              "    cityen  industry  count         id  ...    id_       tfp    tfp_OP    tfp_LP\n",
              "0  Tianjin      3131      2  104036585  ...  73950  7.074598  6.979764  7.074598\n",
              "1  Tianjin      3131      2  104126185  ...  73956  6.871739  6.777019  6.871739\n",
              "2  Tianjin      3131      2  104181643  ...  73967  8.268788  8.168100  8.268788\n",
              "3  Tianjin      3131      2  104030626  ...  73973  7.092537  6.996189  7.092537\n",
              "4  Tianjin      3131      2  738483010  ...  73974  8.451939  8.309583  8.451939\n",
              "\n",
              "[5 rows x 38 columns]"
            ]
          },
          "metadata": {}
        }
      ],
      "execution_count": 4,
      "metadata": {
        "Collapsed": "false",
        "kernel": "SoS"
      }
    },
    {
      "cell_type": "code",
      "source": [
        "df_final['SOE'].unique()"
      ],
      "outputs": [
        {
          "output_type": "execute_result",
          "execution_count": 6,
          "data": {
            "text/plain": [
              "array(['PRIVATE', 'SOE'], dtype=object)"
            ]
          },
          "metadata": {}
        }
      ],
      "execution_count": 6,
      "metadata": {
        "Collapsed": "false",
        "kernel": "SoS"
      }
    },
    {
      "cell_type": "code",
      "source": [
        "df_final.shape"
      ],
      "outputs": [
        {
          "output_type": "execute_result",
          "execution_count": 7,
          "data": {
            "text/plain": [
              "(36852, 38)"
            ]
          },
          "metadata": {}
        }
      ],
      "execution_count": 7,
      "metadata": {
        "Collapsed": "false",
        "kernel": "SoS"
      }
    },
    {
      "cell_type": "markdown",
      "source": [
        "Brief summary about tfp"
      ],
      "metadata": {
        "Collapsed": "false",
        "kernel": "SoS"
      }
    },
    {
      "cell_type": "code",
      "source": [
        "for x in ['tfp_OP', 'tfp_LP']:\n",
        "    print(df_final.groupby(['year'])[x].mean().pct_change() * 100)"
      ],
      "outputs": [
        {
          "output_type": "display_data",
          "data": {
            "text/html": [
              "<div class=\"sos_logging sos_info\">INFO: NumExpr defaulting to 8 threads.</div>"
            ]
          },
          "metadata": {}
        },
        {
          "output_type": "stream",
          "name": "stdout",
          "text": [
            "year\n",
            "2002         NaN\n",
            "2003    1.280188\n",
            "2004   -0.680426\n",
            "2005    1.827959\n",
            "2006    1.329633\n",
            "2007    1.393066\n",
            "Name: tfp_OP, dtype: float64\n",
            "year\n",
            "2002         NaN\n",
            "2003    1.277503\n",
            "2004   -0.699417\n",
            "2005    1.832192\n",
            "2006    1.330506\n",
            "2007    1.381835\n",
            "Name: tfp_LP, dtype: float64\n"
          ]
        }
      ],
      "execution_count": 9,
      "metadata": {
        "Collapsed": "false",
        "kernel": "SoS"
      }
    },
    {
      "cell_type": "code",
      "source": [
        "(df_final.groupby(['year', 'SOE'])['tfp_OP']\n",
        "     .mean()\n",
        "     .unstack(-1)\n",
        "     .pct_change() * 100\n",
        "     #\n",
        "    )#.plot()"
      ],
      "outputs": [
        {
          "output_type": "execute_result",
          "execution_count": 66,
          "data": {
            "text/html": [
              "<div>\n",
              "<style scoped>\n",
              "    .dataframe tbody tr th:only-of-type {\n",
              "        vertical-align: middle;\n",
              "    }\n",
              "\n",
              "    .dataframe tbody tr th {\n",
              "        vertical-align: top;\n",
              "    }\n",
              "\n",
              "    .dataframe thead th {\n",
              "        text-align: right;\n",
              "    }\n",
              "</style>\n",
              "<table border=\"1\" class=\"dataframe\">\n",
              "  <thead>\n",
              "    <tr style=\"text-align: right;\">\n",
              "      <th>SOE</th>\n",
              "      <th>PRIVATE</th>\n",
              "      <th>SOE</th>\n",
              "    </tr>\n",
              "    <tr>\n",
              "      <th>year</th>\n",
              "      <th></th>\n",
              "      <th></th>\n",
              "    </tr>\n",
              "  </thead>\n",
              "  <tbody>\n",
              "    <tr>\n",
              "      <th>2002.0</th>\n",
              "      <td>NaN</td>\n",
              "      <td>NaN</td>\n",
              "    </tr>\n",
              "    <tr>\n",
              "      <th>2003.0</th>\n",
              "      <td>0.817519</td>\n",
              "      <td>2.945755</td>\n",
              "    </tr>\n",
              "    <tr>\n",
              "      <th>2004.0</th>\n",
              "      <td>-0.694332</td>\n",
              "      <td>-2.099398</td>\n",
              "    </tr>\n",
              "    <tr>\n",
              "      <th>2005.0</th>\n",
              "      <td>1.539045</td>\n",
              "      <td>5.351745</td>\n",
              "    </tr>\n",
              "    <tr>\n",
              "      <th>2006.0</th>\n",
              "      <td>1.164496</td>\n",
              "      <td>4.022614</td>\n",
              "    </tr>\n",
              "    <tr>\n",
              "      <th>2007.0</th>\n",
              "      <td>1.323645</td>\n",
              "      <td>3.024216</td>\n",
              "    </tr>\n",
              "  </tbody>\n",
              "</table>\n",
              "</div>"
            ],
            "text/plain": [
              "SOE      PRIVATE       SOE\n",
              "year                      \n",
              "2002.0       NaN       NaN\n",
              "2003.0  0.817519  2.945755\n",
              "2004.0 -0.694332 -2.099398\n",
              "2005.0  1.539045  5.351745\n",
              "2006.0  1.164496  4.022614\n",
              "2007.0  1.323645  3.024216"
            ]
          },
          "metadata": {}
        }
      ],
      "execution_count": 66,
      "metadata": {
        "Collapsed": "false",
        "kernel": "SoS"
      }
    },
    {
      "cell_type": "code",
      "source": [
        "df_final.groupby(['Period', 'polluted_thre', 'TCZ_c'])['tfp_OP'].mean().unstack([1, 2])"
      ],
      "outputs": [
        {
          "output_type": "execute_result",
          "execution_count": 11,
          "data": {
            "text/html": [
              "<div>\n",
              "<style scoped>\n",
              "    .dataframe tbody tr th:only-of-type {\n",
              "        vertical-align: middle;\n",
              "    }\n",
              "\n",
              "    .dataframe tbody tr th {\n",
              "        vertical-align: top;\n",
              "    }\n",
              "\n",
              "    .dataframe thead tr th {\n",
              "        text-align: left;\n",
              "    }\n",
              "\n",
              "    .dataframe thead tr:last-of-type th {\n",
              "        text-align: right;\n",
              "    }\n",
              "</style>\n",
              "<table border=\"1\" class=\"dataframe\">\n",
              "  <thead>\n",
              "    <tr>\n",
              "      <th>polluted_thre</th>\n",
              "      <th colspan=\"2\" halign=\"left\">Above</th>\n",
              "      <th colspan=\"2\" halign=\"left\">Below</th>\n",
              "    </tr>\n",
              "    <tr>\n",
              "      <th>TCZ_c</th>\n",
              "      <th>No_TCZ</th>\n",
              "      <th>TCZ</th>\n",
              "      <th>No_TCZ</th>\n",
              "      <th>TCZ</th>\n",
              "    </tr>\n",
              "    <tr>\n",
              "      <th>Period</th>\n",
              "      <th></th>\n",
              "      <th></th>\n",
              "      <th></th>\n",
              "      <th></th>\n",
              "    </tr>\n",
              "  </thead>\n",
              "  <tbody>\n",
              "    <tr>\n",
              "      <th>After</th>\n",
              "      <td>8.568800</td>\n",
              "      <td>8.851728</td>\n",
              "      <td>8.541547</td>\n",
              "      <td>8.471935</td>\n",
              "    </tr>\n",
              "    <tr>\n",
              "      <th>Before</th>\n",
              "      <td>8.278304</td>\n",
              "      <td>8.457776</td>\n",
              "      <td>8.118653</td>\n",
              "      <td>8.235905</td>\n",
              "    </tr>\n",
              "  </tbody>\n",
              "</table>\n",
              "</div>"
            ],
            "text/plain": [
              "polluted_thre     Above               Below          \n",
              "TCZ_c            No_TCZ       TCZ    No_TCZ       TCZ\n",
              "Period                                               \n",
              "After          8.568800  8.851728  8.541547  8.471935\n",
              "Before         8.278304  8.457776  8.118653  8.235905"
            ]
          },
          "metadata": {}
        }
      ],
      "execution_count": 11,
      "metadata": {
        "Collapsed": "false",
        "kernel": "SoS"
      }
    },
    {
      "cell_type": "code",
      "source": [
        "(df_final\n",
        " .groupby(['year', 'SOE', 'polluted_thre',\n",
        "           'TCZ_c'])['tfp_OP']\n",
        " .mean()\n",
        " .unstack([1, 2])\n",
        " .style.format('{0:,.2f}')\n",
        " #.to_latex()\n",
        ")"
      ],
      "outputs": [
        {
          "output_type": "execute_result",
          "execution_count": 74,
          "data": {
            "text/html": [
              "<style  type=\"text/css\" >\n",
              "</style><table id=\"T_303f56e8_390e_11ea_9920_acde48001122\" ><thead>    <tr>        <th class=\"blank\" ></th>        <th class=\"index_name level0\" >SOE</th>        <th class=\"col_heading level0 col0\" colspan=2>PRIVATE</th>        <th class=\"col_heading level0 col2\" colspan=2>SOE</th>    </tr>    <tr>        <th class=\"blank\" ></th>        <th class=\"index_name level1\" >polluted_thre</th>        <th class=\"col_heading level1 col0\" >Below</th>        <th class=\"col_heading level1 col1\" >Above</th>        <th class=\"col_heading level1 col2\" >Below</th>        <th class=\"col_heading level1 col3\" >Above</th>    </tr>    <tr>        <th class=\"index_name level0\" >year</th>        <th class=\"index_name level1\" >TCZ_c</th>        <th class=\"blank\" ></th>        <th class=\"blank\" ></th>        <th class=\"blank\" ></th>        <th class=\"blank\" ></th>    </tr></thead><tbody>\n",
              "                <tr>\n",
              "                        <th id=\"T_303f56e8_390e_11ea_9920_acde48001122level0_row0\" class=\"row_heading level0 row0\" rowspan=2>2002.0</th>\n",
              "                        <th id=\"T_303f56e8_390e_11ea_9920_acde48001122level1_row0\" class=\"row_heading level1 row0\" >No_TCZ</th>\n",
              "                        <td id=\"T_303f56e8_390e_11ea_9920_acde48001122row0_col0\" class=\"data row0 col0\" >8.03</td>\n",
              "                        <td id=\"T_303f56e8_390e_11ea_9920_acde48001122row0_col1\" class=\"data row0 col1\" >8.00</td>\n",
              "                        <td id=\"T_303f56e8_390e_11ea_9920_acde48001122row0_col2\" class=\"data row0 col2\" >7.08</td>\n",
              "                        <td id=\"T_303f56e8_390e_11ea_9920_acde48001122row0_col3\" class=\"data row0 col3\" >7.27</td>\n",
              "            </tr>\n",
              "            <tr>\n",
              "                                <th id=\"T_303f56e8_390e_11ea_9920_acde48001122level1_row1\" class=\"row_heading level1 row1\" >TCZ</th>\n",
              "                        <td id=\"T_303f56e8_390e_11ea_9920_acde48001122row1_col0\" class=\"data row1 col0\" >8.24</td>\n",
              "                        <td id=\"T_303f56e8_390e_11ea_9920_acde48001122row1_col1\" class=\"data row1 col1\" >8.38</td>\n",
              "                        <td id=\"T_303f56e8_390e_11ea_9920_acde48001122row1_col2\" class=\"data row1 col2\" >7.37</td>\n",
              "                        <td id=\"T_303f56e8_390e_11ea_9920_acde48001122row1_col3\" class=\"data row1 col3\" >8.14</td>\n",
              "            </tr>\n",
              "            <tr>\n",
              "                        <th id=\"T_303f56e8_390e_11ea_9920_acde48001122level0_row2\" class=\"row_heading level0 row2\" rowspan=2>2003.0</th>\n",
              "                        <th id=\"T_303f56e8_390e_11ea_9920_acde48001122level1_row2\" class=\"row_heading level1 row2\" >No_TCZ</th>\n",
              "                        <td id=\"T_303f56e8_390e_11ea_9920_acde48001122row2_col0\" class=\"data row2 col0\" >8.22</td>\n",
              "                        <td id=\"T_303f56e8_390e_11ea_9920_acde48001122row2_col1\" class=\"data row2 col1\" >8.44</td>\n",
              "                        <td id=\"T_303f56e8_390e_11ea_9920_acde48001122row2_col2\" class=\"data row2 col2\" >7.58</td>\n",
              "                        <td id=\"T_303f56e8_390e_11ea_9920_acde48001122row2_col3\" class=\"data row2 col3\" >7.82</td>\n",
              "            </tr>\n",
              "            <tr>\n",
              "                                <th id=\"T_303f56e8_390e_11ea_9920_acde48001122level1_row3\" class=\"row_heading level1 row3\" >TCZ</th>\n",
              "                        <td id=\"T_303f56e8_390e_11ea_9920_acde48001122row3_col0\" class=\"data row3 col0\" >8.29</td>\n",
              "                        <td id=\"T_303f56e8_390e_11ea_9920_acde48001122row3_col1\" class=\"data row3 col1\" >8.47</td>\n",
              "                        <td id=\"T_303f56e8_390e_11ea_9920_acde48001122row3_col2\" class=\"data row3 col2\" >7.64</td>\n",
              "                        <td id=\"T_303f56e8_390e_11ea_9920_acde48001122row3_col3\" class=\"data row3 col3\" >8.20</td>\n",
              "            </tr>\n",
              "            <tr>\n",
              "                        <th id=\"T_303f56e8_390e_11ea_9920_acde48001122level0_row4\" class=\"row_heading level0 row4\" rowspan=2>2004.0</th>\n",
              "                        <th id=\"T_303f56e8_390e_11ea_9920_acde48001122level1_row4\" class=\"row_heading level1 row4\" >No_TCZ</th>\n",
              "                        <td id=\"T_303f56e8_390e_11ea_9920_acde48001122row4_col0\" class=\"data row4 col0\" >8.04</td>\n",
              "                        <td id=\"T_303f56e8_390e_11ea_9920_acde48001122row4_col1\" class=\"data row4 col1\" >8.48</td>\n",
              "                        <td id=\"T_303f56e8_390e_11ea_9920_acde48001122row4_col2\" class=\"data row4 col2\" >6.80</td>\n",
              "                        <td id=\"T_303f56e8_390e_11ea_9920_acde48001122row4_col3\" class=\"data row4 col3\" >8.01</td>\n",
              "            </tr>\n",
              "            <tr>\n",
              "                                <th id=\"T_303f56e8_390e_11ea_9920_acde48001122level1_row5\" class=\"row_heading level1 row5\" >TCZ</th>\n",
              "                        <td id=\"T_303f56e8_390e_11ea_9920_acde48001122row5_col0\" class=\"data row5 col0\" >8.22</td>\n",
              "                        <td id=\"T_303f56e8_390e_11ea_9920_acde48001122row5_col1\" class=\"data row5 col1\" >8.49</td>\n",
              "                        <td id=\"T_303f56e8_390e_11ea_9920_acde48001122row5_col2\" class=\"data row5 col2\" >7.52</td>\n",
              "                        <td id=\"T_303f56e8_390e_11ea_9920_acde48001122row5_col3\" class=\"data row5 col3\" >8.12</td>\n",
              "            </tr>\n",
              "            <tr>\n",
              "                        <th id=\"T_303f56e8_390e_11ea_9920_acde48001122level0_row6\" class=\"row_heading level0 row6\" rowspan=2>2005.0</th>\n",
              "                        <th id=\"T_303f56e8_390e_11ea_9920_acde48001122level1_row6\" class=\"row_heading level1 row6\" >No_TCZ</th>\n",
              "                        <td id=\"T_303f56e8_390e_11ea_9920_acde48001122row6_col0\" class=\"data row6 col0\" >8.45</td>\n",
              "                        <td id=\"T_303f56e8_390e_11ea_9920_acde48001122row6_col1\" class=\"data row6 col1\" >8.37</td>\n",
              "                        <td id=\"T_303f56e8_390e_11ea_9920_acde48001122row6_col2\" class=\"data row6 col2\" >7.79</td>\n",
              "                        <td id=\"T_303f56e8_390e_11ea_9920_acde48001122row6_col3\" class=\"data row6 col3\" >8.30</td>\n",
              "            </tr>\n",
              "            <tr>\n",
              "                                <th id=\"T_303f56e8_390e_11ea_9920_acde48001122level1_row7\" class=\"row_heading level1 row7\" >TCZ</th>\n",
              "                        <td id=\"T_303f56e8_390e_11ea_9920_acde48001122row7_col0\" class=\"data row7 col0\" >8.34</td>\n",
              "                        <td id=\"T_303f56e8_390e_11ea_9920_acde48001122row7_col1\" class=\"data row7 col1\" >8.59</td>\n",
              "                        <td id=\"T_303f56e8_390e_11ea_9920_acde48001122row7_col2\" class=\"data row7 col2\" >7.91</td>\n",
              "                        <td id=\"T_303f56e8_390e_11ea_9920_acde48001122row7_col3\" class=\"data row7 col3\" >8.41</td>\n",
              "            </tr>\n",
              "            <tr>\n",
              "                        <th id=\"T_303f56e8_390e_11ea_9920_acde48001122level0_row8\" class=\"row_heading level0 row8\" rowspan=2>2006.0</th>\n",
              "                        <th id=\"T_303f56e8_390e_11ea_9920_acde48001122level1_row8\" class=\"row_heading level1 row8\" >No_TCZ</th>\n",
              "                        <td id=\"T_303f56e8_390e_11ea_9920_acde48001122row8_col0\" class=\"data row8 col0\" >8.47</td>\n",
              "                        <td id=\"T_303f56e8_390e_11ea_9920_acde48001122row8_col1\" class=\"data row8 col1\" >8.49</td>\n",
              "                        <td id=\"T_303f56e8_390e_11ea_9920_acde48001122row8_col2\" class=\"data row8 col2\" >8.54</td>\n",
              "                        <td id=\"T_303f56e8_390e_11ea_9920_acde48001122row8_col3\" class=\"data row8 col3\" >8.26</td>\n",
              "            </tr>\n",
              "            <tr>\n",
              "                                <th id=\"T_303f56e8_390e_11ea_9920_acde48001122level1_row9\" class=\"row_heading level1 row9\" >TCZ</th>\n",
              "                        <td id=\"T_303f56e8_390e_11ea_9920_acde48001122row9_col0\" class=\"data row9 col0\" >8.42</td>\n",
              "                        <td id=\"T_303f56e8_390e_11ea_9920_acde48001122row9_col1\" class=\"data row9 col1\" >8.78</td>\n",
              "                        <td id=\"T_303f56e8_390e_11ea_9920_acde48001122row9_col2\" class=\"data row9 col2\" >8.25</td>\n",
              "                        <td id=\"T_303f56e8_390e_11ea_9920_acde48001122row9_col3\" class=\"data row9 col3\" >8.70</td>\n",
              "            </tr>\n",
              "            <tr>\n",
              "                        <th id=\"T_303f56e8_390e_11ea_9920_acde48001122level0_row10\" class=\"row_heading level0 row10\" rowspan=2>2007.0</th>\n",
              "                        <th id=\"T_303f56e8_390e_11ea_9920_acde48001122level1_row10\" class=\"row_heading level1 row10\" >No_TCZ</th>\n",
              "                        <td id=\"T_303f56e8_390e_11ea_9920_acde48001122row10_col0\" class=\"data row10 col0\" >8.60</td>\n",
              "                        <td id=\"T_303f56e8_390e_11ea_9920_acde48001122row10_col1\" class=\"data row10 col1\" >8.67</td>\n",
              "                        <td id=\"T_303f56e8_390e_11ea_9920_acde48001122row10_col2\" class=\"data row10 col2\" >8.44</td>\n",
              "                        <td id=\"T_303f56e8_390e_11ea_9920_acde48001122row10_col3\" class=\"data row10 col3\" >8.45</td>\n",
              "            </tr>\n",
              "            <tr>\n",
              "                                <th id=\"T_303f56e8_390e_11ea_9920_acde48001122level1_row11\" class=\"row_heading level1 row11\" >TCZ</th>\n",
              "                        <td id=\"T_303f56e8_390e_11ea_9920_acde48001122row11_col0\" class=\"data row11 col0\" >8.52</td>\n",
              "                        <td id=\"T_303f56e8_390e_11ea_9920_acde48001122row11_col1\" class=\"data row11 col1\" >8.92</td>\n",
              "                        <td id=\"T_303f56e8_390e_11ea_9920_acde48001122row11_col2\" class=\"data row11 col2\" >8.51</td>\n",
              "                        <td id=\"T_303f56e8_390e_11ea_9920_acde48001122row11_col3\" class=\"data row11 col3\" >8.98</td>\n",
              "            </tr>\n",
              "    </tbody></table>"
            ],
            "text/plain": [
              "<pandas.io.formats.style.Styler at 0x123e04050>"
            ]
          },
          "metadata": {}
        }
      ],
      "execution_count": 74,
      "metadata": {
        "Collapsed": "false",
        "kernel": "SoS"
      }
    },
    {
      "cell_type": "code",
      "source": [
        "options(warn=-1)\n",
        "library(tidyverse)\n",
        "library(lfe)\n",
        "library(lazyeval)\n",
        "library('progress')"
      ],
      "outputs": [
        {
          "output_type": "stream",
          "name": "stderr",
          "text": [
            "── \u001b[1mAttaching packages\u001b[22m ─────────────────────────────────────── tidyverse 1.2.1 ──\n",
            "\u001b[32m✔\u001b[39m \u001b[34mggplot2\u001b[39m 3.0.0     \u001b[32m✔\u001b[39m \u001b[34mpurrr  \u001b[39m 0.3.3\n",
            "\u001b[32m✔\u001b[39m \u001b[34mtibble \u001b[39m 2.1.3     \u001b[32m✔\u001b[39m \u001b[34mdplyr  \u001b[39m 0.8.3\n",
            "\u001b[32m✔\u001b[39m \u001b[34mtidyr  \u001b[39m 1.0.0     \u001b[32m✔\u001b[39m \u001b[34mstringr\u001b[39m 1.4.0\n",
            "\u001b[32m✔\u001b[39m \u001b[34mreadr  \u001b[39m 1.3.1     \u001b[32m✔\u001b[39m \u001b[34mforcats\u001b[39m 0.4.0\n",
            "── \u001b[1mConflicts\u001b[22m ────────────────────────────────────────── tidyverse_conflicts() ──\n",
            "\u001b[31m✖\u001b[39m \u001b[34mdplyr\u001b[39m::\u001b[32mfilter()\u001b[39m masks \u001b[34mstats\u001b[39m::filter()\n",
            "\u001b[31m✖\u001b[39m \u001b[34mdplyr\u001b[39m::\u001b[32mlag()\u001b[39m    masks \u001b[34mstats\u001b[39m::lag()\n",
            "Loading required package: Matrix\n",
            "\n",
            "Attaching package: ‘Matrix’\n",
            "\n",
            "The following objects are masked from ‘package:tidyr’:\n",
            "\n",
            "    expand, pack, unpack\n",
            "\n",
            "\n",
            "Attaching package: ‘lazyeval’\n",
            "\n",
            "The following objects are masked from ‘package:purrr’:\n",
            "\n",
            "    is_atomic, is_formula\n",
            "\n"
          ]
        }
      ],
      "execution_count": 13,
      "metadata": {
        "Collapsed": "false",
        "kernel": "R"
      }
    },
    {
      "cell_type": "code",
      "source": [
        "%put df_final\n",
        "\n",
        "path = \"SBC_pollution_R.R\"\n",
        "source(path)\n",
        "path = \"SBC_pollutiuon_golatex.R\"\n",
        "source(path)\n",
        "\n",
        "df_TCZ_list_china = read_csv('df_TCZ_list_china.csv') %>% \n",
        "select(-c(TCZ, Province))\n",
        "\n",
        "df_final <- df_final %>% \n",
        "    mutate_if(is.character, as.factor) %>%\n",
        "    mutate_at(vars(starts_with(\"FE\")), as.factor) %>%\n",
        "    mutate(\n",
        "         Period = relevel(Period, ref='Before'),\n",
        "         TCZ_c = relevel(TCZ_c, ref='No_TCZ'),\n",
        "         effort_c = relevel(effort_c, ref='Below'),\n",
        "         #polluted_di = relevel(polluted_di, ref='Below'),\n",
        "         #polluted_mi = relevel(polluted_mi, ref='Below'),\n",
        "         polluted_thre = relevel(polluted_thre, ref='Below'),\n",
        "  ) %>% left_join(df_TCZ_list_china)\n",
        "head(df_final)"
      ],
      "outputs": [
        {
          "output_type": "stream",
          "name": "stderr",
          "text": [
            "\n",
            "Please cite as: \n",
            "\n",
            " Hlavac, Marek (2018). stargazer: Well-Formatted Regression and Summary Statistics Tables.\n",
            " R package version 5.2.2. https://CRAN.R-project.org/package=stargazer \n",
            "\n",
            "Parsed with column specification:\n",
            "cols(\n",
            "  Province = \u001b[31mcol_character()\u001b[39m,\n",
            "  City = \u001b[31mcol_character()\u001b[39m,\n",
            "  geocode4_corr = \u001b[32mcol_double()\u001b[39m,\n",
            "  TCZ = \u001b[32mcol_double()\u001b[39m,\n",
            "  SPZ = \u001b[32mcol_double()\u001b[39m\n",
            ")\n",
            "Joining, by = \"geocode4_corr\""
          ]
        },
        {
          "output_type": "display_data",
          "data": {
            "text/html": [
              "<table>\n",
              "<caption>A data.frame: 6 × 40</caption>\n",
              "<thead>\n",
              "\t<tr><th scope=col>cityen</th><th scope=col>industry</th><th scope=col>count</th><th scope=col>id</th><th scope=col>year</th><th scope=col>bdat</th><th scope=col>geocode4_corr</th><th scope=col>Province_en</th><th scope=col>Lower_location</th><th scope=col>Larger_location</th><th scope=col>⋯</th><th scope=col>FE_t_i</th><th scope=col>FE_t_c</th><th scope=col>FE_c_i_o</th><th scope=col>FE_t_o</th><th scope=col>id_</th><th scope=col>tfp</th><th scope=col>tfp_OP</th><th scope=col>tfp_LP</th><th scope=col>City</th><th scope=col>SPZ</th></tr>\n",
              "\t<tr><th scope=col>&lt;fct&gt;</th><th scope=col>&lt;dbl&gt;</th><th scope=col>&lt;dbl&gt;</th><th scope=col>&lt;fct&gt;</th><th scope=col>&lt;dbl&gt;</th><th scope=col>&lt;dbl&gt;</th><th scope=col>&lt;dbl&gt;</th><th scope=col>&lt;fct&gt;</th><th scope=col>&lt;fct&gt;</th><th scope=col>&lt;fct&gt;</th><th scope=col>⋯</th><th scope=col>&lt;fct&gt;</th><th scope=col>&lt;fct&gt;</th><th scope=col>&lt;fct&gt;</th><th scope=col>&lt;fct&gt;</th><th scope=col>&lt;dbl&gt;</th><th scope=col>&lt;dbl&gt;</th><th scope=col>&lt;dbl&gt;</th><th scope=col>&lt;dbl&gt;</th><th scope=col>&lt;chr&gt;</th><th scope=col>&lt;dbl&gt;</th></tr>\n",
              "</thead>\n",
              "<tbody>\n",
              "\t<tr><td>Tianjin</td><td>3131</td><td>2</td><td>104036585</td><td>2007</td><td>1976</td><td>1201</td><td>Tianjin</td><td>Coastal</td><td>Eastern</td><td>⋯</td><td>375</td><td>429</td><td>6802</td><td>0</td><td>73950</td><td>7.074598</td><td>6.979764</td><td>7.074598</td><td>Tianjin</td><td>1</td></tr>\n",
              "\t<tr><td>Tianjin</td><td>3131</td><td>2</td><td>104126185</td><td>2007</td><td>1985</td><td>1201</td><td>Tianjin</td><td>Coastal</td><td>Eastern</td><td>⋯</td><td>375</td><td>429</td><td>6802</td><td>0</td><td>73956</td><td>6.871739</td><td>6.777019</td><td>6.871739</td><td>Tianjin</td><td>1</td></tr>\n",
              "\t<tr><td>Tianjin</td><td>3131</td><td>2</td><td>104181643</td><td>2007</td><td>1994</td><td>1201</td><td>Tianjin</td><td>Coastal</td><td>Eastern</td><td>⋯</td><td>375</td><td>429</td><td>6802</td><td>0</td><td>73967</td><td>8.268788</td><td>8.168100</td><td>8.268788</td><td>Tianjin</td><td>1</td></tr>\n",
              "\t<tr><td>Tianjin</td><td>3131</td><td>2</td><td>104030626</td><td>2007</td><td>1978</td><td>1201</td><td>Tianjin</td><td>Coastal</td><td>Eastern</td><td>⋯</td><td>375</td><td>429</td><td>6802</td><td>0</td><td>73973</td><td>7.092537</td><td>6.996189</td><td>7.092537</td><td>Tianjin</td><td>1</td></tr>\n",
              "\t<tr><td>Tianjin</td><td>3131</td><td>2</td><td>738483010</td><td>2007</td><td>2002</td><td>1201</td><td>Tianjin</td><td>Coastal</td><td>Eastern</td><td>⋯</td><td>375</td><td>429</td><td>6802</td><td>0</td><td>73974</td><td>8.451939</td><td>8.309583</td><td>8.451939</td><td>Tianjin</td><td>1</td></tr>\n",
              "\t<tr><td>Tianjin</td><td>3131</td><td>2</td><td>752228876</td><td>2007</td><td>2003</td><td>1201</td><td>Tianjin</td><td>Coastal</td><td>Eastern</td><td>⋯</td><td>375</td><td>429</td><td>6802</td><td>0</td><td>73975</td><td>7.846095</td><td>7.723648</td><td>7.846095</td><td>Tianjin</td><td>1</td></tr>\n",
              "</tbody>\n",
              "</table>\n"
            ],
            "text/latex": [
              "A data.frame: 6 × 40\n",
              "\\begin{tabular}{r|llllllllllllllllllllllllllllllllllllllll}\n",
              " cityen & industry & count & id & year & bdat & geocode4\\_corr & Province\\_en & Lower\\_location & Larger\\_location & Coastal & SOE & cic & indu\\_2 & Industry\\_Name & Short & output\\_fcit & capital\\_fcit & labour\\_fcit & input & ownership & Period & TCZ\\_c & tso2\\_i & polluted\\_di & polluted\\_mi & polluted\\_thre & target\\_c & effort\\_c & FE\\_c\\_i & FE\\_t\\_i & FE\\_t\\_c & FE\\_c\\_i\\_o & FE\\_t\\_o & id\\_ & tfp & tfp\\_OP & tfp\\_LP & City & SPZ\\\\\n",
              " <fct> & <dbl> & <dbl> & <fct> & <dbl> & <dbl> & <dbl> & <fct> & <fct> & <fct> & <lgl> & <fct> & <dbl> & <dbl> & <fct> & <fct> & <dbl> & <dbl> & <dbl> & <dbl> & <fct> & <fct> & <fct> & <dbl> & <fct> & <fct> & <fct> & <dbl> & <fct> & <fct> & <fct> & <fct> & <fct> & <fct> & <dbl> & <dbl> & <dbl> & <dbl> & <chr> & <dbl>\\\\\n",
              "\\hline\n",
              "\t Tianjin & 3131 & 2 & 104036585 & 2007 & 1976 & 1201 & Tianjin & Coastal & Eastern & TRUE & PRIVATE & 3131 & 31 & Non-metallic Mineral Products & Non-metallic Products &  5100 &  1600 & 117 &  3950 & Collective & After & TCZ & 1134685 & Above & Above & Above & 0.2496068 & Above & 4865 & 375 & 429 & 6802 & 0 & 73950 & 7.074598 & 6.979764 & 7.074598 & Tianjin & 1\\\\\n",
              "\t Tianjin & 3131 & 2 & 104126185 & 2007 & 1985 & 1201 & Tianjin & Coastal & Eastern & TRUE & PRIVATE & 3131 & 31 & Non-metallic Mineral Products & Non-metallic Products &  4120 &  1586 & 100 &  1702 & Collective & After & TCZ & 1134685 & Above & Above & Above & 0.2496068 & Above & 4865 & 375 & 429 & 6802 & 0 & 73956 & 6.871739 & 6.777019 & 6.871739 & Tianjin & 1\\\\\n",
              "\t Tianjin & 3131 & 2 & 104181643 & 2007 & 1994 & 1201 & Tianjin & Coastal & Eastern & TRUE & PRIVATE & 3131 & 31 & Non-metallic Mineral Products & Non-metallic Products & 17390 &  2523 &  58 &  4259 & Collective & After & TCZ & 1134685 & Above & Above & Above & 0.2496068 & Above & 4865 & 375 & 429 & 6802 & 0 & 73967 & 8.268788 & 8.168100 & 8.268788 & Tianjin & 1\\\\\n",
              "\t Tianjin & 3131 & 2 & 104030626 & 2007 & 1978 & 1201 & Tianjin & Coastal & Eastern & TRUE & PRIVATE & 3131 & 31 & Non-metallic Mineral Products & Non-metallic Products &  5100 &  1800 &  62 &  4250 & Private    & After & TCZ & 1134685 & Above & Above & Above & 0.2496068 & Above & 4865 & 375 & 429 & 6802 & 0 & 73973 & 7.092537 & 6.996189 & 7.092537 & Tianjin & 1\\\\\n",
              "\t Tianjin & 3131 & 2 & 738483010 & 2007 & 2002 & 1201 & Tianjin & Coastal & Eastern & TRUE & PRIVATE & 3131 & 31 & Non-metallic Mineral Products & Non-metallic Products & 35640 & 64530 &  73 & 32835 & HTM        & After & TCZ & 1134685 & Above & Above & Above & 0.2496068 & Above & 4865 & 375 & 429 & 6802 & 0 & 73974 & 8.451939 & 8.309583 & 8.451939 & Tianjin & 1\\\\\n",
              "\t Tianjin & 3131 & 2 & 752228876 & 2007 & 2003 & 1201 & Tianjin & Coastal & Eastern & TRUE & PRIVATE & 3131 & 31 & Non-metallic Mineral Products & Non-metallic Products & 16050 & 13712 & 195 & 11733 & Private    & After & TCZ & 1134685 & Above & Above & Above & 0.2496068 & Above & 4865 & 375 & 429 & 6802 & 0 & 73975 & 7.846095 & 7.723648 & 7.846095 & Tianjin & 1\\\\\n",
              "\\end{tabular}\n"
            ],
            "text/markdown": [
              "\n",
              "A data.frame: 6 × 40\n",
              "\n",
              "| cityen &lt;fct&gt; | industry &lt;dbl&gt; | count &lt;dbl&gt; | id &lt;fct&gt; | year &lt;dbl&gt; | bdat &lt;dbl&gt; | geocode4_corr &lt;dbl&gt; | Province_en &lt;fct&gt; | Lower_location &lt;fct&gt; | Larger_location &lt;fct&gt; | ⋯ ⋯ | FE_t_i &lt;fct&gt; | FE_t_c &lt;fct&gt; | FE_c_i_o &lt;fct&gt; | FE_t_o &lt;fct&gt; | id_ &lt;dbl&gt; | tfp &lt;dbl&gt; | tfp_OP &lt;dbl&gt; | tfp_LP &lt;dbl&gt; | City &lt;chr&gt; | SPZ &lt;dbl&gt; |\n",
              "|---|---|---|---|---|---|---|---|---|---|---|---|---|---|---|---|---|---|---|---|---|\n",
              "| Tianjin | 3131 | 2 | 104036585 | 2007 | 1976 | 1201 | Tianjin | Coastal | Eastern | ⋯ | 375 | 429 | 6802 | 0 | 73950 | 7.074598 | 6.979764 | 7.074598 | Tianjin | 1 |\n",
              "| Tianjin | 3131 | 2 | 104126185 | 2007 | 1985 | 1201 | Tianjin | Coastal | Eastern | ⋯ | 375 | 429 | 6802 | 0 | 73956 | 6.871739 | 6.777019 | 6.871739 | Tianjin | 1 |\n",
              "| Tianjin | 3131 | 2 | 104181643 | 2007 | 1994 | 1201 | Tianjin | Coastal | Eastern | ⋯ | 375 | 429 | 6802 | 0 | 73967 | 8.268788 | 8.168100 | 8.268788 | Tianjin | 1 |\n",
              "| Tianjin | 3131 | 2 | 104030626 | 2007 | 1978 | 1201 | Tianjin | Coastal | Eastern | ⋯ | 375 | 429 | 6802 | 0 | 73973 | 7.092537 | 6.996189 | 7.092537 | Tianjin | 1 |\n",
              "| Tianjin | 3131 | 2 | 738483010 | 2007 | 2002 | 1201 | Tianjin | Coastal | Eastern | ⋯ | 375 | 429 | 6802 | 0 | 73974 | 8.451939 | 8.309583 | 8.451939 | Tianjin | 1 |\n",
              "| Tianjin | 3131 | 2 | 752228876 | 2007 | 2003 | 1201 | Tianjin | Coastal | Eastern | ⋯ | 375 | 429 | 6802 | 0 | 73975 | 7.846095 | 7.723648 | 7.846095 | Tianjin | 1 |\n",
              "\n"
            ],
            "text/plain": [
              "  cityen  industry count id        year bdat geocode4_corr Province_en\n",
              "1 Tianjin 3131     2     104036585 2007 1976 1201          Tianjin    \n",
              "2 Tianjin 3131     2     104126185 2007 1985 1201          Tianjin    \n",
              "3 Tianjin 3131     2     104181643 2007 1994 1201          Tianjin    \n",
              "4 Tianjin 3131     2     104030626 2007 1978 1201          Tianjin    \n",
              "5 Tianjin 3131     2     738483010 2007 2002 1201          Tianjin    \n",
              "6 Tianjin 3131     2     752228876 2007 2003 1201          Tianjin    \n",
              "  Lower_location Larger_location ⋯ FE_t_i FE_t_c FE_c_i_o FE_t_o id_   tfp     \n",
              "1 Coastal        Eastern         ⋯ 375    429    6802     0      73950 7.074598\n",
              "2 Coastal        Eastern         ⋯ 375    429    6802     0      73956 6.871739\n",
              "3 Coastal        Eastern         ⋯ 375    429    6802     0      73967 8.268788\n",
              "4 Coastal        Eastern         ⋯ 375    429    6802     0      73973 7.092537\n",
              "5 Coastal        Eastern         ⋯ 375    429    6802     0      73974 8.451939\n",
              "6 Coastal        Eastern         ⋯ 375    429    6802     0      73975 7.846095\n",
              "  tfp_OP   tfp_LP   City    SPZ\n",
              "1 6.979764 7.074598 Tianjin 1  \n",
              "2 6.777019 6.871739 Tianjin 1  \n",
              "3 8.168100 8.268788 Tianjin 1  \n",
              "4 6.996189 7.092537 Tianjin 1  \n",
              "5 8.309583 8.451939 Tianjin 1  \n",
              "6 7.723648 7.846095 Tianjin 1  "
            ]
          },
          "metadata": {}
        }
      ],
      "execution_count": 14,
      "metadata": {
        "Collapsed": "false",
        "kernel": "R"
      }
    },
    {
      "cell_type": "code",
      "source": [
        "dim(df_final)"
      ],
      "outputs": [
        {
          "output_type": "display_data",
          "data": {
            "text/html": [
              "<ol class=list-inline>\n",
              "\t<li>36852</li>\n",
              "\t<li>40</li>\n",
              "</ol>\n"
            ],
            "text/latex": [
              "\\begin{enumerate*}\n",
              "\\item 36852\n",
              "\\item 40\n",
              "\\end{enumerate*}\n"
            ],
            "text/markdown": [
              "1. 36852\n",
              "2. 40\n",
              "\n",
              "\n"
            ],
            "text/plain": [
              "[1] 36852    40"
            ]
          },
          "metadata": {}
        }
      ],
      "execution_count": 15,
      "metadata": {
        "Collapsed": "false",
        "kernel": "R"
      }
    },
    {
      "cell_type": "code",
      "source": [
        "t1 = felm(formula= tfp_OP ~ TCZ_c * polluted_thre * Period\n",
        "                  |\n",
        "          FE_c_i + FE_t_i + FE_t_c\n",
        "          | 0 |\n",
        "             cityen, data= df_final,\n",
        "             exactDOF=TRUE)"
      ],
      "outputs": [],
      "execution_count": 31,
      "metadata": {
        "Collapsed": "false",
        "kernel": "R"
      }
    },
    {
      "cell_type": "code",
      "source": [
        "t2 = felm(formula= tfp_OP ~ \n",
        "          TCZ_c * polluted_thre * Period \n",
        "                  |\n",
        "             FE_t_c + FE_t_i + FE_c_i | 0 |\n",
        "             cityen, data= df_final %>% filter(SOE == \"SOE\")\n",
        "             ,\n",
        "             exactDOF=TRUE)"
      ],
      "outputs": [],
      "execution_count": 32,
      "metadata": {
        "Collapsed": "false",
        "kernel": "R"
      }
    },
    {
      "cell_type": "code",
      "source": [
        "t3 = felm(formula= tfp_OP ~ \n",
        "          TCZ_c * polluted_thre * Period \n",
        "                  |\n",
        "             FE_t_c + FE_t_i + FE_c_i | 0 |\n",
        "             cityen, data= df_final %>% filter(SOE != \"SOE\")\n",
        "             ,\n",
        "             exactDOF=TRUE)"
      ],
      "outputs": [],
      "execution_count": 33,
      "metadata": {
        "Collapsed": "false",
        "kernel": "R"
      }
    },
    {
      "cell_type": "code",
      "source": [
        "t4 = felm(formula= tfp_OP ~ \n",
        "            SPZ  * polluted_thre * Period\n",
        "                  |\n",
        "             FE_t_c + FE_t_i + FE_c_i | 0 |\n",
        "             cityen, data= df_final %>% filter(SOE == \"SOE\")\n",
        "             ,\n",
        "             exactDOF=TRUE)"
      ],
      "outputs": [],
      "execution_count": 34,
      "metadata": {
        "Collapsed": "false",
        "kernel": "R"
      }
    },
    {
      "cell_type": "code",
      "source": [
        "t5 = felm(formula= tfp_OP ~ \n",
        "            SPZ  * polluted_thre * Period\n",
        "                  |\n",
        "             FE_t_c + FE_t_i + FE_c_i | 0 |\n",
        "             cityen, data= df_final %>% filter(SOE != \"SOE\")\n",
        "             ,\n",
        "             exactDOF=TRUE)"
      ],
      "outputs": [],
      "execution_count": 35,
      "metadata": {
        "Collapsed": "false",
        "kernel": "R"
      }
    },
    {
      "cell_type": "code",
      "source": [
        "t6 = felm(formula= tfp_OP ~ \n",
        "            Coastal * polluted_thre* Period \n",
        "                  |\n",
        "             FE_t_c + FE_t_i + FE_c_i | 0 |\n",
        "             cityen, data= df_final %>% filter(SOE == \"SOE\")\n",
        "             ,\n",
        "             exactDOF=TRUE)"
      ],
      "outputs": [],
      "execution_count": 36,
      "metadata": {
        "Collapsed": "false",
        "kernel": "R"
      }
    },
    {
      "cell_type": "code",
      "source": [
        "t7 = felm(formula= tfp_OP ~ \n",
        "            Coastal * polluted_thre* Period \n",
        "                  |\n",
        "             FE_t_c + FE_t_i + FE_c_i | 0 |\n",
        "             cityen, data= df_final %>% filter(SOE != \"SOE\")\n",
        "             ,\n",
        "             exactDOF=TRUE)"
      ],
      "outputs": [],
      "execution_count": 38,
      "metadata": {
        "Collapsed": "false",
        "kernel": "R"
      }
    },
    {
      "cell_type": "code",
      "source": [
        "t8 = felm(formula= tfp_OP ~ \n",
        "            TCZ_c * polluted_thre * Period +\n",
        "            SPZ  * polluted_thre * Period +\n",
        "            Coastal * polluted_thre* Period \n",
        "                  |\n",
        "             FE_t_c + FE_t_i + FE_c_i | 0 |\n",
        "             cityen, data= df_final %>% filter(SOE == \"SOE\")\n",
        "             ,\n",
        "             exactDOF=TRUE)"
      ],
      "outputs": [],
      "execution_count": 39,
      "metadata": {
        "Collapsed": "false",
        "kernel": "R"
      }
    },
    {
      "cell_type": "code",
      "source": [
        "t9 = felm(formula= tfp_OP ~ \n",
        "            TCZ_c * polluted_thre * Period +\n",
        "            SPZ  * polluted_thre * Period +\n",
        "            Coastal * polluted_thre* Period \n",
        "                  |\n",
        "             FE_t_c + FE_t_i + FE_c_i | 0 |\n",
        "             cityen, data= df_final %>% filter(SOE != \"SOE\")\n",
        "             ,\n",
        "             exactDOF=TRUE)"
      ],
      "outputs": [],
      "execution_count": 40,
      "metadata": {
        "Collapsed": "false",
        "kernel": "R"
      }
    },
    {
      "cell_type": "code",
      "source": [
        "#summary(felm(formula= tfp_OP ~ \n",
        "#          TCZ_c * polluted_thre * Period * SOE\n",
        "        #+ SPZ  * polluted_thre * Period * SOE\n",
        "        #+ Coastal * polluted_thre* Period * SOE\n",
        "#                  |\n",
        "#             FE_c_i_o+ FE_t_c + FE_t_i + FE_t_o\t | 0 |\n",
        "#             cityen, data= df_final ,\n",
        "#             exactDOF=TRUE))"
      ],
      "outputs": [],
      "execution_count": 29,
      "metadata": {
        "Collapsed": "false",
        "kernel": "R"
      }
    },
    {
      "cell_type": "code",
      "source": [
        "fe1 <- list( c(\"City-year fixed effects\", \"Yes\", \"Yes\", \"Yes\", \"Yes\", \n",
        "               \"Yes\", \"Yes\",\"Yes\", \"Yes\"),\n",
        "             c(\"Industry-year fixed effects\", \"Yes\", \"Yes\", \"Yes\", \"Yes\", \n",
        "               \"Yes\", \"Yes\",\"Yes\", \"Yes\"),\n",
        "             c(\"City-industry fixed effects\", \"Yes\", \"Yes\", \"Yes\", \"Yes\", \n",
        "               \"Yes\", \"Yes\",\"Yes\", \"Yes\")\n",
        "             #c(\"City-industry Ownership fixed effects\", \"No\", \"Yes\", \"Yes\"),\n",
        "             #c(\"year-Ownership fixed effects\", \"No\", \"Yes\", \"Yes\")\n",
        "             )\n",
        "\n",
        "table_8 <- go_latex(list(\n",
        "    #t1,\n",
        "    t2,\n",
        "    t3,\n",
        "    t4,\n",
        "    t5,\n",
        "    t6,\n",
        "    t7,\n",
        "    t8,\n",
        "    t9\n",
        "),\n",
        "    title='TFP effect: explanation chanel: TFP_{fcit}',\n",
        "    addFE=fe1,\n",
        "    save=TRUE,\n",
        "    name=\"table_8.txt\"\n",
        ")"
      ],
      "outputs": [],
      "execution_count": 58,
      "metadata": {
        "Collapsed": "false",
        "kernel": "R"
      }
    },
    {
      "cell_type": "code",
      "source": [
        "%load_ext autoreload\n",
        "%autoreload 2"
      ],
      "outputs": [],
      "execution_count": 43,
      "metadata": {
        "Collapsed": "false",
        "kernel": "python3"
      }
    },
    {
      "cell_type": "code",
      "source": [
        "lb.beautify(table_number = 8)\n",
        "#os.remove(\"table_8.txt\")"
      ],
      "outputs": [],
      "execution_count": 59,
      "metadata": {
        "Collapsed": "false",
        "kernel": "python3"
      }
    }
  ],
  "metadata": {
    "kernel_info": {
      "name": "sos"
    },
    "kernelspec": {
      "display_name": "SoS",
      "language": "sos",
      "name": "sos"
    },
    "language_info": {
      "codemirror_mode": "sos",
      "file_extension": ".sos",
      "mimetype": "text/x-sos",
      "name": "sos",
      "nbconvert_exporter": "sos_notebook.converter.SoS_Exporter",
      "pygments_lexer": "sos"
    },
    "nteract": {
      "version": "0.21.0"
    },
    "sos": {
      "kernels": [
        [
          "R",
          "ir",
          "R",
          "#DCDCDA",
          "r"
        ],
        [
          "SoS",
          "sos",
          "",
          "",
          "sos"
        ],
        [
          "python3",
          "python3",
          "python3",
          "",
          {
            "name": "ipython",
            "version": 3
          }
        ]
      ],
      "version": "0.20.6"
    }
  },
  "nbformat": 4,
  "nbformat_minor": 4
}