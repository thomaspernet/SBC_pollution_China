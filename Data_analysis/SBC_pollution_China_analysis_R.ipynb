{
 "cells": [
  {
   "cell_type": "markdown",
   "metadata": {
    "kernel": "SoS"
   },
   "source": [
    "# SBC_pollution_China data analysis\n",
    "\n",
    "This notebook has been generated on 2019-11-12 08:29 \n",
    "\n",
    "The objective of this notebook is to YYY\n",
    "\n",
    "## Proposal \n",
    "\n",
    "The proposal is available [here](https://drive.google.com/open?id=1tmSFvdUMXcL3vMKBSNYmf5xe6OEmYNnD)\n",
    "\n",
    "### Equation to estimate\n",
    "\n",
    "$$\n",
    "\\begin{aligned} \\text { SO2 emission }_{i k t}=& \\alpha T C Z_{i} \\times \\text { Polluted sectors }_{k} \\times \\text { post } \\\\ &+\\beta T C Z_{i} \\times \\text { Polluted sectors }_{k} \\times \\text { post } \\times \\text { Share SOE }_{k} \\\\ & +\\theta {X}_{i k t}+\\nu_{c i}+\\lambda_{t i} +\\phi_{t c} +\\epsilon_{ikt} \\end{aligned}\n",
    "$$\n",
    "\n",
    "city-industry; time-industry and time-city\n",
    "\n",
    "## Analysis steps\n",
    "\n",
    "The analysis steps performed in this notebook are the following\n",
    "\n",
    "- Lorem ipsum dolor sit amet\n",
    "- Lorem ipsum dolor sit amet\n",
    "- Lorem ipsum dolor sit amet\n",
    "\n",
    "## Data source \n",
    "\n",
    "The data source of this dataset is:\n",
    "\n",
    "- [SBC_pollution_China](HERE)\n",
    "\n",
    "### Variable name\n",
    "\n",
    "The variables names and labels are the following:"
   ]
  },
  {
   "cell_type": "markdown",
   "metadata": {
    "collapsed": "false",
    "kernel": "SoS"
   },
   "source": [
    "<table border=\"1\" class=\"dataframe\">\n",
    "  <thead>\n",
    "    <tr style=\"text-align: right;\">\n",
    "      <th></th>\n",
    "      <th>Variables</th>\n",
    "      <th>Labels</th>\n",
    "      <th>Types</th>\n",
    "    </tr>\n",
    "  </thead>\n",
    "  <tbody>\n",
    "    <tr>\n",
    "      <th>0</th>\n",
    "      <td>year</td>\n",
    "      <td>year</td>\n",
    "      <td>int64</td>\n",
    "    </tr>\n",
    "    <tr>\n",
    "      <th>1</th>\n",
    "      <td>Period</td>\n",
    "      <td>Period</td>\n",
    "      <td>object</td>\n",
    "    </tr>\n",
    "    <tr>\n",
    "      <th>2</th>\n",
    "      <td>Province_en</td>\n",
    "      <td>Province_en</td>\n",
    "      <td>object</td>\n",
    "    </tr>\n",
    "    <tr>\n",
    "      <th>3</th>\n",
    "      <td>Lower_location</td>\n",
    "      <td>Lower_location</td>\n",
    "      <td>object</td>\n",
    "    </tr>\n",
    "    <tr>\n",
    "      <th>4</th>\n",
    "      <td>Larger_location</td>\n",
    "      <td>Larger_location</td>\n",
    "      <td>object</td>\n",
    "    </tr>\n",
    "    <tr>\n",
    "      <th>5</th>\n",
    "      <td>Coastal</td>\n",
    "      <td>Coastal</td>\n",
    "      <td>bool</td>\n",
    "    </tr>\n",
    "    <tr>\n",
    "      <th>6</th>\n",
    "      <td>cityen</td>\n",
    "      <td>cityen</td>\n",
    "      <td>object</td>\n",
    "    </tr>\n",
    "    <tr>\n",
    "      <th>7</th>\n",
    "      <td>geocode4_corr</td>\n",
    "      <td>geocode4_corr</td>\n",
    "      <td>int64</td>\n",
    "    </tr>\n",
    "    <tr>\n",
    "      <th>8</th>\n",
    "      <td>TCZ_c</td>\n",
    "      <td>TCZ_c</td>\n",
    "      <td>object</td>\n",
    "    </tr>\n",
    "    <tr>\n",
    "      <th>9</th>\n",
    "      <td>industry</td>\n",
    "      <td>industry</td>\n",
    "      <td>int64</td>\n",
    "    </tr>\n",
    "    <tr>\n",
    "      <th>10</th>\n",
    "      <td>ind2</td>\n",
    "      <td>ind2</td>\n",
    "      <td>int64</td>\n",
    "    </tr>\n",
    "    <tr>\n",
    "      <th>11</th>\n",
    "      <td>Short</td>\n",
    "      <td>Short</td>\n",
    "      <td>object</td>\n",
    "    </tr>\n",
    "    <tr>\n",
    "      <th>12</th>\n",
    "      <td>output_fcit</td>\n",
    "      <td>output_fcit</td>\n",
    "      <td>float64</td>\n",
    "    </tr>\n",
    "    <tr>\n",
    "      <th>13</th>\n",
    "      <td>capital_fcit</td>\n",
    "      <td>capital_fcit</td>\n",
    "      <td>float64</td>\n",
    "    </tr>\n",
    "    <tr>\n",
    "      <th>14</th>\n",
    "      <td>labour_fcit</td>\n",
    "      <td>labour_fcit</td>\n",
    "      <td>float64</td>\n",
    "    </tr>\n",
    "    <tr>\n",
    "      <th>15</th>\n",
    "      <td>count_SOE</td>\n",
    "      <td>count_SOE</td>\n",
    "      <td>float64</td>\n",
    "    </tr>\n",
    "    <tr>\n",
    "      <th>16</th>\n",
    "      <td>out_share_SOE</td>\n",
    "      <td>out_share_SOE</td>\n",
    "      <td>float64</td>\n",
    "    </tr>\n",
    "    <tr>\n",
    "      <th>17</th>\n",
    "      <td>cap_share_SOE</td>\n",
    "      <td>cap_share_SOE</td>\n",
    "      <td>float64</td>\n",
    "    </tr>\n",
    "    <tr>\n",
    "      <th>18</th>\n",
    "      <td>lab_share_SOE</td>\n",
    "      <td>lab_share_SOE</td>\n",
    "      <td>float64</td>\n",
    "    </tr>\n",
    "    <tr>\n",
    "      <th>19</th>\n",
    "      <td>tso2_cit</td>\n",
    "      <td>tso2_cit</td>\n",
    "      <td>int64</td>\n",
    "    </tr>\n",
    "    <tr>\n",
    "      <th>20</th>\n",
    "      <td>tCOD_cit</td>\n",
    "      <td>tCOD_cit</td>\n",
    "      <td>float64</td>\n",
    "    </tr>\n",
    "    <tr>\n",
    "      <th>21</th>\n",
    "      <td>twaste_water_cit</td>\n",
    "      <td>twaste_water_cit</td>\n",
    "      <td>int64</td>\n",
    "    </tr>\n",
    "    <tr>\n",
    "      <th>22</th>\n",
    "      <td>polluted_di</td>\n",
    "      <td>polluted_di</td>\n",
    "      <td>object</td>\n",
    "    </tr>\n",
    "    <tr>\n",
    "      <th>23</th>\n",
    "      <td>polluted_mi</td>\n",
    "      <td>polluted_mi</td>\n",
    "      <td>object</td>\n",
    "    </tr>\n",
    "    <tr>\n",
    "      <th>24</th>\n",
    "      <td>polluted_thre</td>\n",
    "      <td>polluted_thre</td>\n",
    "      <td>object</td>\n",
    "    </tr>\n",
    "    <tr>\n",
    "      <th>25</th>\n",
    "      <td>FE_c_i</td>\n",
    "      <td>FE_c_i</td>\n",
    "      <td>int64</td>\n",
    "    </tr>\n",
    "    <tr>\n",
    "      <th>26</th>\n",
    "      <td>FE_t_i</td>\n",
    "      <td>FE_t_i</td>\n",
    "      <td>int64</td>\n",
    "    </tr>\n",
    "    <tr>\n",
    "      <th>27</th>\n",
    "      <td>FE_t_c</td>\n",
    "      <td>FE_t_c</td>\n",
    "      <td>int64</td>\n",
    "    </tr>\n",
    "  </tbody>\n",
    "</table>"
   ]
  },
  {
   "cell_type": "markdown",
   "metadata": {
    "kernel": "SoS"
   },
   "source": [
    "# Analysis\n",
    "\n",
    "## Load the data"
   ]
  },
  {
   "cell_type": "code",
   "execution_count": null,
   "metadata": {
    "collapsed": true,
    "jupyter": {
     "outputs_hidden": true
    },
    "kernel": "SoS"
   },
   "outputs": [],
   "source": [
    "import pandas as pd\n",
    "from Fast_connectCloud import connector"
   ]
  },
  {
   "cell_type": "code",
   "execution_count": null,
   "metadata": {
    "collapsed": true,
    "jupyter": {
     "outputs_hidden": true
    },
    "kernel": "SoS"
   },
   "outputs": [],
   "source": [
    "gs = connector.open_connection(online_connection = False,\n",
    "                              path_credential = '/Users/thomas/Google Drive/Projects/Data_science/Google_code_n_Oauth/Client_Oauth/Google_auth/')\n",
    "\n",
    "service = gs.connect_remote('GCP')"
   ]
  },
  {
   "cell_type": "code",
   "execution_count": null,
   "metadata": {
    "collapsed": true,
    "jupyter": {
     "outputs_hidden": true
    },
    "kernel": "SoS"
   },
   "outputs": [],
   "source": [
    "%put df_final --to R\n",
    "\n",
    "from GoogleDrivePy.google_platform import connect_cloud_platform\n",
    "project = 'valid-pagoda-132423'\n",
    "gcp = connect_cloud_platform.connect_console(project = project, \n",
    "                                             service_account = service['GoogleCloudP'])    \n",
    "query = (\n",
    "          \"SELECT * \"\n",
    "            \"FROM China.SBC_pollution_China \"\n",
    "\n",
    "        )\n",
    "\n",
    "df_final = gcp.upload_data_from_bigquery(query = query, location = 'US')\n",
    "df_final.head()\n"
   ]
  },
  {
   "cell_type": "code",
   "execution_count": null,
   "metadata": {
    "collapsed": true,
    "jupyter": {
     "outputs_hidden": true
    },
    "kernel": "SoS"
   },
   "outputs": [],
   "source": [
    "df_final.shape"
   ]
  },
  {
   "cell_type": "markdown",
   "metadata": {
    "collapsed": "false",
    "kernel": "SoS"
   },
   "source": [
    "## Analysis 1: "
   ]
  },
  {
   "cell_type": "code",
   "execution_count": null,
   "metadata": {
    "collapsed": true,
    "jupyter": {
     "outputs_hidden": true
    },
    "kernel": "R"
   },
   "outputs": [],
   "source": [
    "options(warn=-1)\n",
    "library(tidyverse)\n",
    "library(lfe)\n",
    "library(lazyeval)\n",
    "library('progress')"
   ]
  },
  {
   "cell_type": "code",
   "execution_count": null,
   "metadata": {
    "collapsed": true,
    "jupyter": {
     "outputs_hidden": true
    },
    "kernel": "R"
   },
   "outputs": [],
   "source": [
    "%put df_final\n",
    "\n",
    "path = \"SBC_pollution_R.R\"\n",
    "source(path)\n",
    "path = \"SBC_pollutiuon_golatex.R\"\n",
    "source(path)\n",
    "\n",
    "df_final <- df_final %>% \n",
    "    mutate_if(is.character, as.factor) %>%\n",
    "    mutate_at(vars(starts_with(\"FE\")), as.factor) %>%\n",
    "    mutate(\n",
    "         Period = relevel(Period, ref='Before'),\n",
    "         TCZ_c = relevel(TCZ_c, ref='No_TCZ'),\n",
    "         effort_c = relevel(effort_c, ref='Below'),\n",
    "         polluted_di = relevel(polluted_di, ref='Below'),\n",
    "         polluted_mi = relevel(polluted_mi, ref='Below'),\n",
    "         polluted_thre = relevel(polluted_thre, ref='Below'),\n",
    "  )\n",
    "head(df_final)"
   ]
  },
  {
   "cell_type": "markdown",
   "metadata": {
    "kernel": "SoS"
   },
   "source": [
    "# Main Results"
   ]
  },
  {
   "cell_type": "code",
   "execution_count": null,
   "metadata": {
    "collapsed": true,
    "jupyter": {
     "outputs_hidden": true
    },
    "kernel": "R"
   },
   "outputs": [],
   "source": [
    "#df_final <- df_final %>% mutate(polluted_thre = as.factor(ifelse(tso2_i > 68070.78, 'Above', 'Below')),\n",
    "#                        polluted_thre = relevel(polluted_thre, ref='Below'))"
   ]
  },
  {
   "cell_type": "code",
   "execution_count": null,
   "metadata": {
    "collapsed": true,
    "jupyter": {
     "outputs_hidden": true
    },
    "kernel": "R"
   },
   "outputs": [],
   "source": [
    "%put df_final\n",
    "t0 <- final_model(df=df_final,\n",
    "                   target='TCZ_c',\n",
    "                   SOE='count_SOE',\n",
    "                   pol='polluted_thre',\n",
    "                   control=TRUE,\n",
    "                   cluster= 'industry',\n",
    "                   print=FALSE)"
   ]
  },
  {
   "cell_type": "code",
   "execution_count": null,
   "metadata": {
    "collapsed": true,
    "jupyter": {
     "outputs_hidden": true
    },
    "kernel": "R"
   },
   "outputs": [],
   "source": [
    "%put df_final\n",
    "t1 <- final_model(df=df_final,\n",
    "                   target='TCZ_c',\n",
    "                   SOE='out_share_SOE',\n",
    "                   pol='polluted_thre',\n",
    "                   control=TRUE,\n",
    "                  cluster= 'industry',\n",
    "                   print=FALSE)"
   ]
  },
  {
   "cell_type": "code",
   "execution_count": null,
   "metadata": {
    "collapsed": true,
    "jupyter": {
     "outputs_hidden": true
    },
    "kernel": "R"
   },
   "outputs": [],
   "source": [
    "t2 <- final_model(df=df_final,\n",
    "                   target='TCZ_c',\n",
    "                   SOE='cap_share_SOE',\n",
    "                   pol='polluted_thre',\n",
    "                   control=TRUE,\n",
    "                  cluster= 'industry',\n",
    "                   print=FALSE)"
   ]
  },
  {
   "cell_type": "code",
   "execution_count": null,
   "metadata": {
    "collapsed": true,
    "jupyter": {
     "outputs_hidden": true
    },
    "kernel": "R"
   },
   "outputs": [],
   "source": [
    "t3 <- final_model(df=df_final,\n",
    "                   target='TCZ_c',\n",
    "                   SOE='lab_share_SOE',\n",
    "                   pol='polluted_thre',\n",
    "                   control=TRUE,\n",
    "                  cluster= 'industry',\n",
    "                   print=FALSE)"
   ]
  },
  {
   "cell_type": "code",
   "execution_count": null,
   "metadata": {
    "collapsed": true,
    "jupyter": {
     "outputs_hidden": true
    },
    "kernel": "R"
   },
   "outputs": [],
   "source": [
    "fe1 <- list(c(\"City-year fixed effects\", \"Yes\", \"Yes\", \"Yes\"),\n",
    "             c(\"Industry-year fixed effects\", \"Yes\", \"Yes\", \"Yes\"),\n",
    "             c(\"City-industry fixed effects\", \"Yes\", \"Yes\", \"Yes\")\n",
    "             )\n",
    "\n",
    "table_1 <- go_latex(list(\n",
    "    #t0,\n",
    "    t1,\n",
    "    t2,\n",
    "    t3\n",
    "),\n",
    "    title='Baseline results',\n",
    "    addFE=fe1,\n",
    "    save=TRUE,\n",
    "    name=\"table_1.txt\"\n",
    ")"
   ]
  },
  {
   "cell_type": "code",
   "execution_count": null,
   "metadata": {
    "collapsed": true,
    "jupyter": {
     "outputs_hidden": true
    },
    "kernel": "python3"
   },
   "outputs": [],
   "source": [
    "import latex_beautify as lb\n",
    "lb.beautify(table_number = 1)"
   ]
  },
  {
   "cell_type": "markdown",
   "metadata": {
    "kernel": "python3"
   },
   "source": [
    "# Robustness check\n",
    "\n",
    "- Parallel trend\n",
    "- Add extra control\n",
    "- Remove some observation?\n"
   ]
  },
  {
   "cell_type": "markdown",
   "metadata": {
    "collapsed": "true",
    "kernel": "R"
   },
   "source": [
    "## Parallel trends"
   ]
  },
  {
   "cell_type": "code",
   "execution_count": null,
   "metadata": {
    "Collapsed": "false",
    "kernel": "R"
   },
   "outputs": [],
   "source": [
    "t1 <- parallel_trend(df_final, \"All\", print_ = FALSE)"
   ]
  },
  {
   "cell_type": "code",
   "execution_count": null,
   "metadata": {
    "Collapsed": "false",
    "kernel": "R"
   },
   "outputs": [],
   "source": [
    "t2 <- parallel_trend(df_final, \"TCZ\", print_ = FALSE)"
   ]
  },
  {
   "cell_type": "code",
   "execution_count": null,
   "metadata": {
    "Collapsed": "false",
    "kernel": "R"
   },
   "outputs": [],
   "source": [
    "t3 <- parallel_trend(df_final, \"No_TCZ\", print_ = FALSE)"
   ]
  },
  {
   "cell_type": "code",
   "execution_count": null,
   "metadata": {
    "Collapsed": "false",
    "kernel": "R"
   },
   "outputs": [],
   "source": [
    "fe1 <- list(c(\"City-year fixed effects\", \"Yes\", \"Yes\", \"Yes\"),\n",
    "             c(\"Industry-year fixed effects\", \"Yes\", \"No\", \"No\"),\n",
    "             c(\"City-industry fixed effects\", \"Yes\", \"Yes\", \"Yes\")\n",
    "             )\n",
    "\n",
    "table_2 <- go_latex(list(\n",
    "    t1,\n",
    "    t2,\n",
    "    t3\n",
    "),\n",
    "    title='Parallel trend',\n",
    "    addFE=fe1,\n",
    "    save=TRUE,\n",
    "    name=\"table_2.txt\"\n",
    ")"
   ]
  },
  {
   "cell_type": "markdown",
   "metadata": {
    "collapsed": "false",
    "kernel": "R"
   },
   "source": [
    "## Additional Robustness\n",
    "\n",
    "The next round of additional test includes:\n",
    "\n",
    "- Add control variables\n",
    "- Split the Dataset"
   ]
  },
  {
   "cell_type": "markdown",
   "metadata": {
    "collapsed": "false",
    "kernel": "R"
   },
   "source": [
    "### Add other control variables\n",
    "\n",
    "The first table controls for coastal and SPZ area\n",
    "\n",
    "* Coast\n",
    "* SPZ\n",
    "\n",
    "The second table controls for the city gdp per cap and pop\n",
    "* ln (gdp per cap)\n",
    "* ln (city pop)\n",
    "\n",
    "The thrid table split the dataset between sector dominated by SOE and the other sectors (using the mean)\n",
    "\n",
    "Note there is an issue with SOS and Google Drive connector. We need to save the file localy to use it with SOS.."
   ]
  },
  {
   "cell_type": "code",
   "execution_count": null,
   "metadata": {
    "collapsed": true,
    "jupyter": {
     "outputs_hidden": true
    },
    "kernel": "python3"
   },
   "outputs": [],
   "source": [
    "from Fast_connectCloud import connector\n",
    "from GoogleDrivePy.google_drive import connect_drive\n",
    "import pandas as pd"
   ]
  },
  {
   "cell_type": "code",
   "execution_count": null,
   "metadata": {
    "collapsed": true,
    "jupyter": {
     "outputs_hidden": true
    },
    "kernel": "python3"
   },
   "outputs": [],
   "source": [
    "gs = connector.open_connection(online_connection = False, \n",
    "\tpath_credential = '/Users/Thomas/Google Drive/Projects/Data_science/Google_code_n_Oauth/Client_Oauth/Google_auth/')\n",
    "\n",
    "service_gd = gs.connect_remote(engine = 'GS')\n",
    "\n",
    "gdr = connect_drive.connect_drive(service_gd['GoogleDrive'])"
   ]
  },
  {
   "cell_type": "markdown",
   "metadata": {
    "collapsed": "false",
    "kernel": "R"
   },
   "source": [
    "#### Load TCZ_list_china from Google Spreadsheet\n",
    "\n",
    "Feel free to add description about the dataset or any usefull information.\n",
    "\n",
    "Profiling will be available soon for this dataset"
   ]
  },
  {
   "cell_type": "code",
   "execution_count": null,
   "metadata": {
    "collapsed": true,
    "jupyter": {
     "outputs_hidden": true
    },
    "kernel": "python3"
   },
   "outputs": [],
   "source": [
    "### Please go here https://docs.google.com/spreadsheets/d/15bMeS2cMfGfYJkjuY6wOMzcAUWZNRGpO03hZ8rpgv0Q\n",
    "### To change the range\n",
    "\n",
    "sheetid = '15bMeS2cMfGfYJkjuY6wOMzcAUWZNRGpO03hZ8rpgv0Q'\n",
    "sheetname = 'All_cities'\n",
    "\n",
    "df_TCZ_list_china = gdr.upload_data_from_spreadsheet(sheetID = sheetid,\n",
    "sheetName = sheetname,\n",
    "\t to_dataframe = True).to_csv('df_TCZ_list_china.csv', index = False)"
   ]
  },
  {
   "cell_type": "markdown",
   "metadata": {
    "collapsed": "true",
    "kernel": "R"
   },
   "source": [
    "#### Load chinese_city_characteristics from Google Spreadsheet\n",
    "\n",
    "Feel free to add description about the dataset or any usefull information.\n",
    "\n",
    "Profiling will be available soon for this dataset"
   ]
  },
  {
   "cell_type": "code",
   "execution_count": null,
   "metadata": {
    "Collapsed": "false",
    "kernel": "python3"
   },
   "outputs": [],
   "source": [
    "# Please go here https://docs.google.com/spreadsheets/d/1-x9DCX4cun6Ed9iH5MiI4g21fXm7seRHHz7WXGiVKVU\n",
    "# To change the range\n",
    "\n",
    "sheetid = \"1-x9DCX4cun6Ed9iH5MiI4g21fXm7seRHHz7WXGiVKVU\"\n",
    "sheetname = \"chinese_city_characteristics\"\n",
    "\n",
    "df_chinese_city_characteristics = (gdr.upload_data_from_spreadsheet(\n",
    "    sheetID=sheetid, sheetName=sheetname, to_dataframe=True\n",
    ").loc[\n",
    "    lambda x: x[\"year\"].isin(\n",
    "        [\"2001\", \"2002\", \"2003\", \"2004\", \"2005\", \"2006\"])\n",
    "][\n",
    "    [\"cityen\", \"geocode4_corr\", \"year\", \"gdp\", \"population\"]\n",
    "].rename(columns={'year': 'year_lagged'})\n",
    "    .apply(pd.to_numeric, errors='ignore')\n",
    "    .assign(year=lambda x:\n",
    "            x['year_lagged'] + 1,\n",
    "            gdp_cap=lambda x: x['gdp'] / x['population']\n",
    "            )\n",
    ").to_csv('df_chinese_city_characteristics.csv', index = False)"
   ]
  },
  {
   "cell_type": "markdown",
   "metadata": {
    "collapsed": "false",
    "kernel": "R"
   },
   "source": [
    "### Table 1: Add Coastal and SPZ"
   ]
  },
  {
   "cell_type": "code",
   "execution_count": null,
   "metadata": {
    "collapsed": true,
    "jupyter": {
     "outputs_hidden": true
    },
    "kernel": "R"
   },
   "outputs": [],
   "source": [
    "df_TCZ_list_china = read_csv('df_TCZ_list_china.csv') %>% \n",
    "select(-c(TCZ, Province)) %>% \n",
    "left_join(df_final)"
   ]
  },
  {
   "cell_type": "code",
   "execution_count": null,
   "metadata": {
    "collapsed": true,
    "jupyter": {
     "outputs_hidden": true
    },
    "kernel": "R"
   },
   "outputs": [],
   "source": [
    "t1 <- add_control_city_1(df_TCZ_list_china, 'count_SOE', 'cityen', FALSE)"
   ]
  },
  {
   "cell_type": "code",
   "execution_count": null,
   "metadata": {
    "collapsed": true,
    "jupyter": {
     "outputs_hidden": true
    },
    "kernel": "R"
   },
   "outputs": [],
   "source": [
    "t2 <-add_control_city_1(df_TCZ_list_china, 'out_share_SOE', 'cityen', FALSE)"
   ]
  },
  {
   "cell_type": "code",
   "execution_count": null,
   "metadata": {
    "collapsed": true,
    "jupyter": {
     "outputs_hidden": true
    },
    "kernel": "R"
   },
   "outputs": [],
   "source": [
    "t3 <-add_control_city_1(df_TCZ_list_china, 'cap_share_SOE', 'cityen', FALSE)"
   ]
  },
  {
   "cell_type": "code",
   "execution_count": null,
   "metadata": {
    "collapsed": true,
    "jupyter": {
     "outputs_hidden": true
    },
    "kernel": "R"
   },
   "outputs": [],
   "source": [
    "t4 <-add_control_city_1(df_TCZ_list_china, 'lab_share_SOE', 'cityen', FALSE)"
   ]
  },
  {
   "cell_type": "code",
   "execution_count": null,
   "metadata": {
    "kernel": "R"
   },
   "outputs": [],
   "source": [
    "fe1 <- list(c(\"City-year fixed effects\", \"Yes\", \"Yes\", \"Yes\", \"Yes\"),\n",
    "             c(\"Industry-year fixed effects\", \"Yes\", \"Yes\", \"Yes\", \"Yes\"),\n",
    "             c(\"City-industry fixed effects\", \"Yes\", \"Yes\", \"Yes\", \"Yes\")\n",
    "             )\n",
    "\n",
    "table_3 <- go_latex(list(\n",
    "    t1,\n",
    "    t2,\n",
    "    t3,\n",
    "    t4\n",
    "),\n",
    "    title='Additional controls',\n",
    "    addFE=fe1,\n",
    "    save=TRUE,\n",
    "    name=\"table_3.txt\"\n",
    ")"
   ]
  },
  {
   "cell_type": "markdown",
   "metadata": {
    "collapsed": "true",
    "kernel": "R"
   },
   "source": [
    "### Table 2: GDP and population"
   ]
  },
  {
   "cell_type": "code",
   "execution_count": null,
   "metadata": {
    "Collapsed": "false",
    "kernel": "R"
   },
   "outputs": [],
   "source": [
    "df_chinese_city_characteristics = read_csv('df_chinese_city_characteristics.csv') %>% \n",
    "select(-cityen) %>%\n",
    "left_join(df_final, by = c('year', 'geocode4_corr'))"
   ]
  },
  {
   "cell_type": "code",
   "execution_count": null,
   "metadata": {
    "Collapsed": "false",
    "kernel": "R"
   },
   "outputs": [],
   "source": [
    "t1 <- add_control_city_2(df_chinese_city_characteristics, 'count_SOE', 'cityen', FALSE)"
   ]
  },
  {
   "cell_type": "code",
   "execution_count": null,
   "metadata": {
    "Collapsed": "false",
    "kernel": "R"
   },
   "outputs": [],
   "source": [
    "t2 <-add_control_city_2(df_chinese_city_characteristics, 'out_share_SOE', 'cityen', FALSE)"
   ]
  },
  {
   "cell_type": "code",
   "execution_count": null,
   "metadata": {
    "Collapsed": "false",
    "kernel": "R"
   },
   "outputs": [],
   "source": [
    "t3 <-add_control_city_2(df_chinese_city_characteristics, 'cap_share_SOE', 'cityen', FALSE)"
   ]
  },
  {
   "cell_type": "code",
   "execution_count": null,
   "metadata": {
    "Collapsed": "false",
    "kernel": "R"
   },
   "outputs": [],
   "source": [
    "t4 <-add_control_city_2(df_chinese_city_characteristics, 'lab_share_SOE', 'cityen', FALSE)"
   ]
  },
  {
   "cell_type": "code",
   "execution_count": null,
   "metadata": {
    "Collapsed": "false",
    "kernel": "R"
   },
   "outputs": [],
   "source": [
    "fe1 <- list(c(\"City-year fixed effects\", \"Yes\", \"Yes\", \"Yes\", \"Yes\"),\n",
    "             c(\"Industry-year fixed effects\", \"Yes\", \"Yes\", \"Yes\", \"Yes\"),\n",
    "             c(\"City-industry fixed effects\", \"Yes\", \"Yes\", \"Yes\", \"Yes\")\n",
    "             )\n",
    "\n",
    "table_4 <- go_latex(list(\n",
    "    t1,\n",
    "    t2,\n",
    "    t3,\n",
    "    t4\n",
    "),\n",
    "    title='Additional controls (2)',\n",
    "    addFE=fe1,\n",
    "    save=TRUE,\n",
    "    name=\"table_4.txt\"\n",
    ")"
   ]
  },
  {
   "cell_type": "code",
   "execution_count": null,
   "metadata": {
    "Collapsed": "false",
    "kernel": "python3"
   },
   "outputs": [],
   "source": [
    "import os \n",
    "os.remove(\"df_chinese_city_characteristics.csv\")"
   ]
  },
  {
   "cell_type": "markdown",
   "metadata": {
    "kernel": "R"
   },
   "source": [
    "### Table 3: SOE dominated sectors\n",
    " \n",
    "- Using the mean\n",
    "\n",
    "dominant industries"
   ]
  },
  {
   "cell_type": "code",
   "execution_count": null,
   "metadata": {
    "kernel": "SoS"
   },
   "outputs": [],
   "source": [
    "df_final['industry'].nunique()"
   ]
  },
  {
   "cell_type": "code",
   "execution_count": null,
   "metadata": {
    "kernel": "SoS"
   },
   "outputs": [],
   "source": [
    "df_final.loc[lambda x : x['out_share_SOE'] > 0.1443589]['industry'].nunique()"
   ]
  },
  {
   "cell_type": "code",
   "execution_count": null,
   "metadata": {
    "kernel": "SoS"
   },
   "outputs": [],
   "source": [
    "df_final.loc[lambda x : x['cap_share_SOE'] > 0.2203902]['industry'].nunique()"
   ]
  },
  {
   "cell_type": "code",
   "execution_count": null,
   "metadata": {
    "kernel": "SoS"
   },
   "outputs": [],
   "source": [
    "df_final.loc[lambda x : x['lab_share_SOE'] > 0.18886]['industry'].nunique()"
   ]
  },
  {
   "cell_type": "code",
   "execution_count": null,
   "metadata": {
    "kernel": "R"
   },
   "outputs": [],
   "source": [
    "SOE_dominate(df_final, 'lab_share_SOE', TRUE, 'cityen', print_ = FALSE)"
   ]
  },
  {
   "cell_type": "code",
   "execution_count": null,
   "metadata": {
    "kernel": "R"
   },
   "outputs": [],
   "source": [
    "t1<-SOE_dominate(df_final, 'count_SOE', TRUE, 'cityen', print_ = FALSE)"
   ]
  },
  {
   "cell_type": "code",
   "execution_count": null,
   "metadata": {
    "kernel": "R"
   },
   "outputs": [],
   "source": [
    "t2<-SOE_dominate(df_final, 'out_share_SOE', TRUE, 'cityen', print_ = FALSE)"
   ]
  },
  {
   "cell_type": "code",
   "execution_count": null,
   "metadata": {
    "kernel": "R"
   },
   "outputs": [],
   "source": [
    "t3<-SOE_dominate(df_final, 'cap_share_SOE', TRUE, 'cityen', print_ = FALSE)"
   ]
  },
  {
   "cell_type": "code",
   "execution_count": null,
   "metadata": {
    "kernel": "R"
   },
   "outputs": [],
   "source": [
    "t4<-SOE_dominate(df_final, 'lab_share_SOE', TRUE, 'cityen', print_ = FALSE)"
   ]
  },
  {
   "cell_type": "code",
   "execution_count": null,
   "metadata": {
    "kernel": "R"
   },
   "outputs": [],
   "source": [
    "fe1 <- list(c(\"City-year fixed effects\", \"Yes\", \"Yes\", \"Yes\", \"Yes\"),\n",
    "             c(\"Industry-year fixed effects\", \"Yes\", \"Yes\", \"Yes\", \"Yes\"),\n",
    "             c(\"City-industry fixed effects\", \"Yes\", \"Yes\", \"Yes\", \"Yes\")\n",
    "             )\n",
    "\n",
    "table_5 <- go_latex(list(\n",
    "    t1,\n",
    "    t2,\n",
    "    t3,\n",
    "    t4\n",
    "),\n",
    "    title='SOE dominating sectors',\n",
    "    addFE=fe1,\n",
    "    save=TRUE,\n",
    "    name=\"table_5.txt\"\n",
    ")"
   ]
  },
  {
   "cell_type": "markdown",
   "metadata": {
    "collapsed": "false",
    "kernel": "R"
   },
   "source": [
    "Non dominant industries"
   ]
  },
  {
   "cell_type": "code",
   "execution_count": null,
   "metadata": {
    "kernel": "R"
   },
   "outputs": [],
   "source": [
    "t1 <- SOE_dominate(df_final, 'count_SOE', FALSE, 'cityen', print_ = FALSE)"
   ]
  },
  {
   "cell_type": "code",
   "execution_count": null,
   "metadata": {
    "kernel": "R"
   },
   "outputs": [],
   "source": [
    "t2 <- SOE_dominate(df_final, 'out_share_SOE', FALSE, 'cityen', print_ = FALSE)"
   ]
  },
  {
   "cell_type": "code",
   "execution_count": null,
   "metadata": {
    "kernel": "R"
   },
   "outputs": [],
   "source": [
    "t3<-SOE_dominate(df_final, 'cap_share_SOE', FALSE, 'cityen', print_ = FALSE)"
   ]
  },
  {
   "cell_type": "code",
   "execution_count": null,
   "metadata": {
    "kernel": "R"
   },
   "outputs": [],
   "source": [
    "t4<-SOE_dominate(df_final, 'lab_share_SOE', FALSE, 'cityen', print_ = FALSE)"
   ]
  },
  {
   "cell_type": "code",
   "execution_count": null,
   "metadata": {
    "kernel": "R"
   },
   "outputs": [],
   "source": [
    "fe1 <- list(c(\"City-year fixed effects\", \"Yes\", \"Yes\", \"Yes\", \"Yes\"),\n",
    "             c(\"Industry-year fixed effects\", \"Yes\", \"Yes\", \"Yes\", \"Yes\"),\n",
    "             c(\"City-industry fixed effects\", \"Yes\", \"Yes\", \"Yes\", \"Yes\")\n",
    "             )\n",
    "\n",
    "table_6 <- go_latex(list(\n",
    "    t1,\n",
    "    t2,\n",
    "    t3,\n",
    "    t4\n",
    "),\n",
    "    title='SOE dominating sectors',\n",
    "    addFE=fe1,\n",
    "    save=TRUE,\n",
    "    name=\"table_6.txt\"\n",
    ")"
   ]
  },
  {
   "cell_type": "markdown",
   "metadata": {
    "collapsed": "true",
    "kernel": "SoS"
   },
   "source": [
    "# SO2 policy in TCZ\n",
    "\n",
    "Effect of stringent policy in TCZ and Non TCZ city"
   ]
  },
  {
   "cell_type": "code",
   "execution_count": null,
   "metadata": {
    "kernel": "R"
   },
   "outputs": [],
   "source": [
    "df_final <- df_final %>% mutate(\n",
    "                        effort_c = relevel(effort_c, ref='Below'))"
   ]
  },
  {
   "cell_type": "code",
   "execution_count": null,
   "metadata": {
    "kernel": "R"
   },
   "outputs": [],
   "source": [
    "t1 <- felm(formula = log(tso2_cit) ~  Period * target_c * polluted_thre\n",
    "     + output_fcit + capital_fcit + labour_fcit \n",
    "             | \n",
    "             FE_t_c + FE_t_i + FE_c_i| 0 | \n",
    "             cityen, data = df_final %>% filter(TCZ_c == 'TCZ'),exactDOF = TRUE)"
   ]
  },
  {
   "cell_type": "code",
   "execution_count": null,
   "metadata": {
    "kernel": "R"
   },
   "outputs": [],
   "source": [
    "t2 <- felm(formula = log(tso2_cit) ~  Period * target_c * polluted_thre\n",
    "     + output_fcit + capital_fcit + labour_fcit \n",
    "             | \n",
    "              FE_t_c + FE_t_i + FE_c_i| 0 | \n",
    "             cityen, data = df_final %>% filter(TCZ_c == 'No_TCZ'),exactDOF = TRUE)"
   ]
  },
  {
   "cell_type": "code",
   "execution_count": null,
   "metadata": {
    "kernel": "R"
   },
   "outputs": [],
   "source": [
    "fe1 <- list(c(\"City-year fixed effects\", \"Yes\", \"Yes\"),\n",
    "             c(\"Industry-year fixed effects\", \"Yes\", \"Yes\"),\n",
    "             c(\"City-industry fixed effects\", \"Yes\", \"Yes\")\n",
    "             )\n",
    "\n",
    "table_7 <- go_latex(list(\n",
    "    t1,\n",
    "    t2\n",
    "),\n",
    "    title='11th FYP city pollution reduction mandate',\n",
    "    addFE=fe1,\n",
    "    save=TRUE,\n",
    "    name=\"table_7.txt\"\n",
    ")"
   ]
  },
  {
   "cell_type": "markdown",
   "metadata": {
    "kernel": "R"
   },
   "source": [
    "# Beautify latex"
   ]
  },
  {
   "cell_type": "code",
   "execution_count": null,
   "metadata": {
    "kernel": "python3"
   },
   "outputs": [],
   "source": [
    "%load_ext autoreload\n",
    "%autoreload 2"
   ]
  },
  {
   "cell_type": "code",
   "execution_count": null,
   "metadata": {
    "kernel": "python3"
   },
   "outputs": [],
   "source": [
    "import latex_beautify as lb\n",
    "\n",
    "for i in range(1, 8):\n",
    "    lb.beautify(table_number = i)\n",
    "    rm_ = \"table_{}.txt\".format(i)\n",
    "    os.remove(rm_)"
   ]
  },
  {
   "cell_type": "markdown",
   "metadata": {
    "kernel": "SoS"
   },
   "source": [
    "# TFP"
   ]
  },
  {
   "cell_type": "code",
   "execution_count": null,
   "metadata": {
    "kernel": "python3"
   },
   "outputs": [],
   "source": [
    "import latex_beautify as lb\n",
    "import os"
   ]
  },
  {
   "cell_type": "code",
   "execution_count": null,
   "metadata": {
    "collapsed": true,
    "jupyter": {
     "outputs_hidden": true
    },
    "kernel": "SoS"
   },
   "outputs": [],
   "source": [
    "%put df_final --to R\n",
    "\n",
    "from GoogleDrivePy.google_platform import connect_cloud_platform\n",
    "project = 'valid-pagoda-132423'\n",
    "gcp = connect_cloud_platform.connect_console(project = project, \n",
    "                                             service_account = service['GoogleCloudP'])    \n",
    "query = (\n",
    "          \"SELECT * \"\n",
    "            \"FROM China.SBC_TFP_china \"\n",
    "\n",
    "        )\n",
    "\n",
    "df_final = gcp.upload_data_from_bigquery(query = query, location = 'US')\n",
    "df_final.head()"
   ]
  },
  {
   "cell_type": "code",
   "execution_count": null,
   "metadata": {
    "collapsed": true,
    "jupyter": {
     "outputs_hidden": true
    },
    "kernel": "SoS"
   },
   "outputs": [],
   "source": [
    "df_final['SOE'].unique()"
   ]
  },
  {
   "cell_type": "code",
   "execution_count": null,
   "metadata": {
    "collapsed": true,
    "jupyter": {
     "outputs_hidden": true
    },
    "kernel": "SoS"
   },
   "outputs": [],
   "source": [
    "df_final.shape"
   ]
  },
  {
   "cell_type": "markdown",
   "metadata": {
    "collapsed": "false",
    "kernel": "SoS"
   },
   "source": [
    "Brief summary about tfp"
   ]
  },
  {
   "cell_type": "code",
   "execution_count": null,
   "metadata": {
    "collapsed": true,
    "jupyter": {
     "outputs_hidden": true
    },
    "kernel": "SoS"
   },
   "outputs": [],
   "source": [
    "for x in ['tfp_OP', 'tfp_LP']:\n",
    "    print(df_final.groupby(['year'])[x].mean().pct_change() * 100)"
   ]
  },
  {
   "cell_type": "code",
   "execution_count": null,
   "metadata": {
    "collapsed": true,
    "jupyter": {
     "outputs_hidden": true
    },
    "kernel": "SoS"
   },
   "outputs": [],
   "source": [
    "(df_final.groupby(['year', 'SOE'])['tfp_OP']\n",
    "     .mean()\n",
    "     .unstack(-1)\n",
    "     .pct_change() * 100\n",
    "     #\n",
    "    )#.plot()"
   ]
  },
  {
   "cell_type": "code",
   "execution_count": null,
   "metadata": {
    "collapsed": true,
    "jupyter": {
     "outputs_hidden": true
    },
    "kernel": "SoS"
   },
   "outputs": [],
   "source": [
    "df_final.groupby(['Period', 'polluted_thre', 'TCZ_c'])['tfp_OP'].mean().unstack([1, 2])"
   ]
  },
  {
   "cell_type": "code",
   "execution_count": null,
   "metadata": {
    "collapsed": true,
    "jupyter": {
     "outputs_hidden": true
    },
    "kernel": "SoS"
   },
   "outputs": [],
   "source": [
    "(df_final\n",
    " .groupby(['year', 'SOE', 'polluted_thre',\n",
    "           'TCZ_c'])['tfp_OP']\n",
    " .mean()\n",
    " .unstack([1, 2])\n",
    " .style.format('{0:,.2f}')\n",
    " #.to_latex()\n",
    ")"
   ]
  },
  {
   "cell_type": "code",
   "execution_count": null,
   "metadata": {
    "collapsed": true,
    "jupyter": {
     "outputs_hidden": true
    },
    "kernel": "R"
   },
   "outputs": [],
   "source": [
    "options(warn=-1)\n",
    "library(tidyverse)\n",
    "library(lfe)\n",
    "library(lazyeval)\n",
    "library('progress')"
   ]
  },
  {
   "cell_type": "code",
   "execution_count": null,
   "metadata": {
    "collapsed": true,
    "jupyter": {
     "outputs_hidden": true
    },
    "kernel": "R"
   },
   "outputs": [],
   "source": [
    "%put df_final\n",
    "\n",
    "path = \"SBC_pollution_R.R\"\n",
    "source(path)\n",
    "path = \"SBC_pollutiuon_golatex.R\"\n",
    "source(path)\n",
    "\n",
    "df_TCZ_list_china = read_csv('df_TCZ_list_china.csv') %>% \n",
    "select(-c(TCZ, Province))\n",
    "\n",
    "df_final <- df_final %>% \n",
    "    mutate_if(is.character, as.factor) %>%\n",
    "    mutate_at(vars(starts_with(\"FE\")), as.factor) %>%\n",
    "    mutate(\n",
    "         Period = relevel(Period, ref='Before'),\n",
    "         TCZ_c = relevel(TCZ_c, ref='No_TCZ'),\n",
    "         effort_c = relevel(effort_c, ref='Below'),\n",
    "         #polluted_di = relevel(polluted_di, ref='Below'),\n",
    "         #polluted_mi = relevel(polluted_mi, ref='Below'),\n",
    "         polluted_thre = relevel(polluted_thre, ref='Below'),\n",
    "  ) %>% left_join(df_TCZ_list_china)\n",
    "head(df_final)"
   ]
  },
  {
   "cell_type": "code",
   "execution_count": null,
   "metadata": {
    "collapsed": true,
    "jupyter": {
     "outputs_hidden": true
    },
    "kernel": "R"
   },
   "outputs": [],
   "source": [
    "dim(df_final)"
   ]
  },
  {
   "cell_type": "code",
   "execution_count": null,
   "metadata": {
    "collapsed": true,
    "jupyter": {
     "outputs_hidden": true
    },
    "kernel": "R"
   },
   "outputs": [],
   "source": [
    "t1 = felm(formula= tfp_OP ~ TCZ_c * polluted_thre * Period\n",
    "                  |\n",
    "          FE_c_i + FE_t_i + FE_t_c\n",
    "          | 0 |\n",
    "             cityen, data= df_final,\n",
    "             exactDOF=TRUE)"
   ]
  },
  {
   "cell_type": "code",
   "execution_count": null,
   "metadata": {
    "collapsed": true,
    "jupyter": {
     "outputs_hidden": true
    },
    "kernel": "R"
   },
   "outputs": [],
   "source": [
    "t2 = felm(formula= tfp_OP ~ \n",
    "          TCZ_c * polluted_thre * Period \n",
    "                  |\n",
    "             FE_t_c + FE_t_i + FE_c_i | 0 |\n",
    "             cityen, data= df_final %>% filter(SOE == \"SOE\")\n",
    "             ,\n",
    "             exactDOF=TRUE)"
   ]
  },
  {
   "cell_type": "code",
   "execution_count": null,
   "metadata": {
    "collapsed": true,
    "jupyter": {
     "outputs_hidden": true
    },
    "kernel": "R"
   },
   "outputs": [],
   "source": [
    "t3 = felm(formula= tfp_OP ~ \n",
    "          TCZ_c * polluted_thre * Period \n",
    "                  |\n",
    "             FE_t_c + FE_t_i + FE_c_i | 0 |\n",
    "             cityen, data= df_final %>% filter(SOE != \"SOE\")\n",
    "             ,\n",
    "             exactDOF=TRUE)"
   ]
  },
  {
   "cell_type": "code",
   "execution_count": null,
   "metadata": {
    "collapsed": true,
    "jupyter": {
     "outputs_hidden": true
    },
    "kernel": "R"
   },
   "outputs": [],
   "source": [
    "t4 = felm(formula= tfp_OP ~ \n",
    "            SPZ  * polluted_thre * Period\n",
    "                  |\n",
    "             FE_t_c + FE_t_i + FE_c_i | 0 |\n",
    "             cityen, data= df_final %>% filter(SOE == \"SOE\")\n",
    "             ,\n",
    "             exactDOF=TRUE)"
   ]
  },
  {
   "cell_type": "code",
   "execution_count": null,
   "metadata": {
    "collapsed": true,
    "jupyter": {
     "outputs_hidden": true
    },
    "kernel": "R"
   },
   "outputs": [],
   "source": [
    "t5 = felm(formula= tfp_OP ~ \n",
    "            SPZ  * polluted_thre * Period\n",
    "                  |\n",
    "             FE_t_c + FE_t_i + FE_c_i | 0 |\n",
    "             cityen, data= df_final %>% filter(SOE != \"SOE\")\n",
    "             ,\n",
    "             exactDOF=TRUE)"
   ]
  },
  {
   "cell_type": "code",
   "execution_count": null,
   "metadata": {
    "collapsed": true,
    "jupyter": {
     "outputs_hidden": true
    },
    "kernel": "R"
   },
   "outputs": [],
   "source": [
    "t6 = felm(formula= tfp_OP ~ \n",
    "            Coastal * polluted_thre* Period \n",
    "                  |\n",
    "             FE_t_c + FE_t_i + FE_c_i | 0 |\n",
    "             cityen, data= df_final %>% filter(SOE == \"SOE\")\n",
    "             ,\n",
    "             exactDOF=TRUE)"
   ]
  },
  {
   "cell_type": "code",
   "execution_count": null,
   "metadata": {
    "collapsed": true,
    "jupyter": {
     "outputs_hidden": true
    },
    "kernel": "R"
   },
   "outputs": [],
   "source": [
    "t7 = felm(formula= tfp_OP ~ \n",
    "            Coastal * polluted_thre* Period \n",
    "                  |\n",
    "             FE_t_c + FE_t_i + FE_c_i | 0 |\n",
    "             cityen, data= df_final %>% filter(SOE != \"SOE\")\n",
    "             ,\n",
    "             exactDOF=TRUE)"
   ]
  },
  {
   "cell_type": "code",
   "execution_count": null,
   "metadata": {
    "collapsed": true,
    "jupyter": {
     "outputs_hidden": true
    },
    "kernel": "R"
   },
   "outputs": [],
   "source": [
    "t8 = felm(formula= tfp_OP ~ \n",
    "            TCZ_c * polluted_thre * Period +\n",
    "            SPZ  * polluted_thre * Period +\n",
    "            Coastal * polluted_thre* Period \n",
    "                  |\n",
    "             FE_t_c + FE_t_i + FE_c_i | 0 |\n",
    "             cityen, data= df_final %>% filter(SOE == \"SOE\")\n",
    "             ,\n",
    "             exactDOF=TRUE)"
   ]
  },
  {
   "cell_type": "code",
   "execution_count": null,
   "metadata": {
    "collapsed": true,
    "jupyter": {
     "outputs_hidden": true
    },
    "kernel": "R"
   },
   "outputs": [],
   "source": [
    "t9 = felm(formula= tfp_OP ~ \n",
    "            TCZ_c * polluted_thre * Period +\n",
    "            SPZ  * polluted_thre * Period +\n",
    "            Coastal * polluted_thre* Period \n",
    "                  |\n",
    "             FE_t_c + FE_t_i + FE_c_i | 0 |\n",
    "             cityen, data= df_final %>% filter(SOE != \"SOE\")\n",
    "             ,\n",
    "             exactDOF=TRUE)"
   ]
  },
  {
   "cell_type": "code",
   "execution_count": null,
   "metadata": {
    "collapsed": true,
    "jupyter": {
     "outputs_hidden": true
    },
    "kernel": "R"
   },
   "outputs": [],
   "source": [
    "#summary(felm(formula= tfp_OP ~ \n",
    "#          TCZ_c * polluted_thre * Period * SOE\n",
    "        #+ SPZ  * polluted_thre * Period * SOE\n",
    "        #+ Coastal * polluted_thre* Period * SOE\n",
    "#                  |\n",
    "#             FE_c_i_o+ FE_t_c + FE_t_i + FE_t_o\t | 0 |\n",
    "#             cityen, data= df_final ,\n",
    "#             exactDOF=TRUE))"
   ]
  },
  {
   "cell_type": "code",
   "execution_count": null,
   "metadata": {
    "collapsed": true,
    "jupyter": {
     "outputs_hidden": true
    },
    "kernel": "R"
   },
   "outputs": [],
   "source": [
    "fe1 <- list( c(\"City-year fixed effects\", \"Yes\", \"Yes\", \"Yes\", \"Yes\", \n",
    "               \"Yes\", \"Yes\",\"Yes\", \"Yes\"),\n",
    "             c(\"Industry-year fixed effects\", \"Yes\", \"Yes\", \"Yes\", \"Yes\", \n",
    "               \"Yes\", \"Yes\",\"Yes\", \"Yes\"),\n",
    "             c(\"City-industry fixed effects\", \"Yes\", \"Yes\", \"Yes\", \"Yes\", \n",
    "               \"Yes\", \"Yes\",\"Yes\", \"Yes\")\n",
    "             #c(\"City-industry Ownership fixed effects\", \"No\", \"Yes\", \"Yes\"),\n",
    "             #c(\"year-Ownership fixed effects\", \"No\", \"Yes\", \"Yes\")\n",
    "             )\n",
    "\n",
    "table_8 <- go_latex(list(\n",
    "    #t1,\n",
    "    t2,\n",
    "    t3,\n",
    "    t4,\n",
    "    t5,\n",
    "    t6,\n",
    "    t7,\n",
    "    t8,\n",
    "    t9\n",
    "),\n",
    "    title='TFP effect: explanation chanel: TFP_{fcit}',\n",
    "    addFE=fe1,\n",
    "    save=TRUE,\n",
    "    name=\"table_8.txt\"\n",
    ")"
   ]
  },
  {
   "cell_type": "code",
   "execution_count": null,
   "metadata": {
    "collapsed": true,
    "jupyter": {
     "outputs_hidden": true
    },
    "kernel": "python3"
   },
   "outputs": [],
   "source": [
    "%load_ext autoreload\n",
    "%autoreload 2"
   ]
  },
  {
   "cell_type": "code",
   "execution_count": null,
   "metadata": {
    "collapsed": true,
    "jupyter": {
     "outputs_hidden": true
    },
    "kernel": "python3"
   },
   "outputs": [],
   "source": [
    "lb.beautify(table_number = 8)\n",
    "#os.remove(\"table_8.txt\")"
   ]
  }
 ],
 "metadata": {
  "kernel_info": {
   "name": "sos"
  },
  "kernelspec": {
   "display_name": "SoS",
   "language": "sos",
   "name": "sos"
  },
  "language_info": {
   "codemirror_mode": "sos",
   "file_extension": ".sos",
   "mimetype": "text/x-sos",
   "name": "sos",
   "nbconvert_exporter": "sos_notebook.converter.SoS_Exporter",
   "pygments_lexer": "sos"
  },
  "nteract": {
   "version": "0.21.0"
  },
  "sos": {
   "kernels": [
    [
     "R",
     "ir",
     "R",
     "#DCDCDA",
     "r"
    ],
    [
     "SoS",
     "sos",
     "",
     "",
     "sos"
    ],
    [
     "python3",
     "python3",
     "python3",
     "",
     {
      "name": "ipython",
      "version": 3
     }
    ]
   ],
   "version": "0.20.6"
  }
 },
 "nbformat": 4,
 "nbformat_minor": 4
}
