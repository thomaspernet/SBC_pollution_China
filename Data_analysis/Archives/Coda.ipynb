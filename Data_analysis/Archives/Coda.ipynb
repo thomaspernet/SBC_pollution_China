{
  "cells": [
    {
      "cell_type": "markdown",
      "source": [
        "# Test Update Coda"
      ],
      "metadata": {
        "Collapsed": "false"
      }
    },
    {
      "cell_type": "code",
      "source": [
        "from Fast_connectCloud import connector\n",
        "from GoogleDrivePy.google_drive import connect_drive\n",
        "from GoogleDrivePy.google_platform import connect_cloud_platform\n",
        "import pandas as pd \n",
        "import numpy as np\n",
        "import pandas_profiling"
      ],
      "outputs": [],
      "execution_count": null,
      "metadata": {
        "Collapsed": "false"
      }
    },
    {
      "cell_type": "code",
      "source": [
        "gs = connector.open_connection(online_connection = False, \n",
        "\tpath_credential = '/Users/Thomas/Google Drive/Projects/Data_science/Google_code_n_Oauth/Client_Oauth/Google_auth/')\n",
        "\n",
        "service_gd = gs.connect_remote(engine = 'GS')\n",
        "service_gcp = gs.connect_remote(engine = 'GCP')\n",
        "\n",
        "gdr = connect_drive.connect_drive(service_gd['GoogleDrive'])\n",
        "\n",
        "project = 'valid-pagoda-132423'\n",
        "gcp = connect_cloud_platform.connect_console(project = project,\n",
        "\t\t\t\t\t\t\t\t\t\t\t service_account = service_gcp['GoogleCloudP'])"
      ],
      "outputs": [],
      "execution_count": null,
      "metadata": {
        "Collapsed": "false"
      }
    },
    {
      "cell_type": "code",
      "source": [
        "query = (\n",
        "    \"SELECT * FROM China.SBC_pollution_China_foreign \"\n",
        ")\n",
        "\n",
        "df_asif_firm_china = gcp.upload_data_from_bigquery(query=query, location=\"US\")\n",
        "df_asif_firm_china.head()"
      ],
      "outputs": [],
      "execution_count": null,
      "metadata": {
        "Collapsed": "false"
      }
    },
    {
      "cell_type": "code",
      "source": [
        "import requests\n",
        "\n",
        "token = '370ab90e-bba5-4081-9db3-a2389b6bbf9a'\n",
        "headers = {\"Authorization\": \"Bearer \" + token}\n",
        "params = {\n",
        "  'isOwner': True\n",
        "}"
      ],
      "outputs": [],
      "execution_count": 1,
      "metadata": {
        "Collapsed": "false",
        "execution": {
          "iopub.status.busy": "2020-03-07T12:22:47.277Z",
          "iopub.execute_input": "2020-03-07T12:22:47.287Z",
          "iopub.status.idle": "2020-03-07T12:22:47.445Z",
          "shell.execute_reply": "2020-03-07T12:22:47.453Z"
        }
      }
    },
    {
      "cell_type": "code",
      "source": [
        "uri = 'https://coda.io/apis/v1beta1/docs'\n",
        "\n",
        "res = requests.get(uri, headers=headers, params=params).json()['items']\n",
        "res[0]"
      ],
      "outputs": [],
      "execution_count": null,
      "metadata": {
        "Collapsed": "false"
      }
    },
    {
      "cell_type": "code",
      "source": [
        "for i in res:\n",
        "    if i['name'] == 'MasterFile_Database':\n",
        "        print(i['id'])"
      ],
      "outputs": [],
      "execution_count": null,
      "metadata": {
        "Collapsed": "false"
      }
    },
    {
      "cell_type": "code",
      "source": [
        "uri = f'https://coda.io/apis/v1beta1/docs/vfMWDBnHh8/tables'\n",
        "res = requests.get(uri, headers=headers, params=params).json()['items']"
      ],
      "outputs": [],
      "execution_count": 5,
      "metadata": {
        "Collapsed": "false",
        "execution": {
          "iopub.status.busy": "2020-03-07T12:23:06.441Z",
          "iopub.execute_input": "2020-03-07T12:23:06.446Z",
          "iopub.status.idle": "2020-03-07T12:23:07.481Z",
          "shell.execute_reply": "2020-03-07T12:23:07.494Z"
        }
      }
    },
    {
      "cell_type": "code",
      "source": [
        "for i in res:\n",
        "    if i['name'] == 'DataSource':\n",
        "        print(i['id'])"
      ],
      "outputs": [
        {
          "output_type": "stream",
          "name": "stdout",
          "text": [
            "grid-HgpAnIEhpP\n"
          ]
        }
      ],
      "execution_count": 6,
      "metadata": {
        "Collapsed": "false",
        "execution": {
          "iopub.status.busy": "2020-03-07T12:23:08.440Z",
          "iopub.execute_input": "2020-03-07T12:23:08.445Z",
          "iopub.status.idle": "2020-03-07T12:23:08.460Z",
          "shell.execute_reply": "2020-03-07T12:23:08.465Z"
        }
      }
    },
    {
      "cell_type": "code",
      "source": [
        "uri = f'https://coda.io/apis/v1beta1/docs/vfMWDBnHh8/tables/grid-HgpAnIEhpP'\n",
        "res = requests.get(uri, headers=headers).json()"
      ],
      "outputs": [],
      "execution_count": null,
      "metadata": {
        "Collapsed": "false"
      }
    },
    {
      "cell_type": "code",
      "source": [
        "#res"
      ],
      "outputs": [],
      "execution_count": null,
      "metadata": {
        "Collapsed": "false"
      }
    },
    {
      "cell_type": "markdown",
      "source": [
        "# Add data to catalogue\n",
        "\n",
        "Now that the dataset is ready, you need to add the underlying information to the data catalogue. The data catalogue is stored in [Coda](https://coda.io/d/MasterFile-Database_dvfMWDBnHh8/MetaDatabase_suYFO#_ludIZ), more precisely, in the table named `DataSource`. \n",
        "\n",
        "The cells below helps you to push the information directly to the table using Coda API.\n",
        "\n",
        "The columns are as follow:\n",
        "\n",
        "- `Storage`: Define the location of the table\n",
        "    - GBQ, GS, MongoDB\n",
        "- `Theme`: Define a theme attached to the table\n",
        "    - Accountancy, Complexity, Correspondance, Customer_prediction, Distance, Environment, Finance, Macro, Production, Productivity, Survey, Trade\n",
        "- `Database`: Name of the dataset. Use only for GBQ or MongoDB (collection)\n",
        "    - Business, China, Steamforged, Trade\n",
        "- `Path`:A URL with the path of the location of the dataset\n",
        "- `Filename`: Name of the table\n",
        "- `Description`: Description of the table. Be very specific. \n",
        "- `Source_data`: A list of the data sources used to construct the table.\n",
        "- `Link_methodology`: URL linked to the notebook\n",
        "- `Dataset_documentation`: Github repository attached to the table\n",
        "- `Status`: Status of the table. \n",
        "    - `Closed` if the table won't be altered in the future\n",
        "    - `Active` if the table will be altered in the future\n",
        "- `Profiling`: Specify if the user created a Pandas profiling\n",
        "    - `True` if the profiling has been created\n",
        "    - `False` otherwise\n",
        "- `Profiling_URL`: Profiling URL (link to Github). Always located in `Data_catalogue/table_profiling`\n",
        "- `JupyterStudio`: Specify if the user created a notebook to open the studio\n",
        "    - `True` if the notebook has been created\n",
        "    - `False` otherwise\n",
        "- `JupyterStudio_launcher`: Notebook URL (link to Github). Always located in `Notebooks_Ready_to_use_studio`\n",
        "- `Nb_projects`: Number of projects using this dataset. A Coda formula. Do not update this row\n",
        "- `Created on`: Date of creation. A Coda formula. Do not update this row\n",
        "\n",
        "Remember to commit in GitHub to activate the URL link for the profiling and Studio"
      ],
      "metadata": {
        "Collapsed": "false"
      }
    },
    {
      "cell_type": "code",
      "source": [
        "Storage = 'GBQ'\n",
        "Theme = 'Trade' \n",
        "Database = 'China'\n",
        "Description = \"The table is related to\"\n",
        "Filename = 'this_is_a_test'\n",
        "Status = 'Active'"
      ],
      "outputs": [],
      "execution_count": null,
      "metadata": {
        "Collapsed": "false"
      }
    },
    {
      "cell_type": "code",
      "source": [
        "from pathlib import Path\n",
        "import os, re,  requests\n",
        "regex = r\"(.*)/(.*)\"\n",
        "path = os.getcwd()\n",
        "parent_path = Path(path_).parent\n",
        "test_str = str(parent_path)\n",
        "matches = re.search(regex, test_str)\n",
        "github_repo = matches.group(2)\n",
        "\n",
        "Source_data = ['']\n",
        "Profiling = True\n",
        "if Profiling:\n",
        "    Profiling_URL = 'http://htmlpreview.github.io/?https://github.com/' \\\n",
        "    'thomaspernet/{}/blob/master/Data_catalogue/table_profiling/{}.html'.format(github_repo,\n",
        "                                                                               Filename)\n",
        "else:\n",
        "    Profiling_URL = ''\n",
        "JupyterStudio = False\n",
        "if JupyterStudio:\n",
        "    JupyterStudio_URL = '\"https://mybinder.org/v2/gh/thomaspernet/{0}/' \\\n",
        "    'master?filepath=Notebooks_Ready_to_use_studio%2F{1}_studio.ipynb'.format(github_repo, Filename)\n",
        "else:\n",
        "    JupyterStudio_URL = ''\n",
        "### BigQuery only \n",
        "path_url = 'https://console.cloud.google.com/bigquery?project=valid-pagoda-132423' \\\n",
        "'&p=valid-pagoda-132423&d=China&t={}&page=table'.format(Filename)\n",
        "\n",
        "Link_methodology = 'https://mybinder.org/v2/gh/thomaspernet/{0}/' \\\n",
        "    'master?filepath=Data_preprocessing%2F{1}.ipynb'.format(github_repo, Filename)\n",
        "Dataset_documentation = 'https://github.com/thomaspernet/{}'.format(github_repo)"
      ],
      "outputs": [],
      "execution_count": null,
      "metadata": {
        "Collapsed": "false"
      }
    },
    {
      "cell_type": "code",
      "source": [
        "to_add = {\n",
        "    'Storage': Storage,\n",
        "    'Theme': Theme,\n",
        "    'Database': Database,\n",
        "    'Path_url': path_url,\n",
        "    'Filename': Filename,\n",
        "    'Description': Description,\n",
        "    'Source_data': Source_data,\n",
        "    'Link_methodology': Link_methodology,\n",
        "    'Dataset_documentation': Dataset_documentation,\n",
        "    'Status': Status,\n",
        "    'Profiling_URL': Profiling_URL,\n",
        "    'JupyterStudio_launcher': JupyterStudio_URL\n",
        "\n",
        "}\n",
        "cols= []\n",
        "for key, value in to_add.items():\n",
        "    coda = {\n",
        "    'column': key,\n",
        "    'value':value\n",
        "    }\n",
        "    cols.append(coda)\n",
        "\n",
        "uri = f'https://coda.io/apis/v1beta1/docs/vfMWDBnHh8/tables/grid-ERfagZzDK4/rows'\n",
        "payload = {\n",
        "  'rows': [\n",
        "    {\n",
        "      'cells': cols,\n",
        "    },\n",
        "  ],\n",
        "}\n",
        "req = requests.post(uri, headers=headers, json=payload)\n",
        "req.raise_for_status() # Throw if there was an error.\n",
        "res = req.json()"
      ],
      "outputs": [],
      "execution_count": null,
      "metadata": {
        "Collapsed": "false"
      }
    },
    {
      "cell_type": "code",
      "source": [],
      "outputs": [],
      "execution_count": null,
      "metadata": {
        "Collapsed": "false"
      }
    }
  ],
  "metadata": {
    "kernelspec": {
      "display_name": "Python 3",
      "language": "python",
      "name": "python3"
    },
    "language_info": {
      "name": "python",
      "version": "3.7.4",
      "mimetype": "text/x-python",
      "codemirror_mode": {
        "name": "ipython",
        "version": 3
      },
      "pygments_lexer": "ipython3",
      "nbconvert_exporter": "python",
      "file_extension": ".py"
    },
    "nteract": {
      "version": "0.22.0"
    }
  },
  "nbformat": 4,
  "nbformat_minor": 4
}