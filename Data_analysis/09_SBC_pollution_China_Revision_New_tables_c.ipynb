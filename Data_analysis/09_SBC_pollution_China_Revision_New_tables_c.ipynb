{
 "cells": [
  {
   "cell_type": "markdown",
   "metadata": {
    "kernel": "SoS"
   },
   "source": [
    "# New Tables: city level\n",
    "\n",
    "* Faire les tableaux suivants:\n",
    "  * Tableau 4: Kuznet: benchmark → Revision\n",
    "      * Trouver un tableau avec les déciles pour montrer:\n",
    "        * turning point croissant pour des villes avec une dominance étatique de plus en plus large\n",
    "      * Regarder si gdp/cap prix constant\n",
    "      * Indiquer les turning points dans les tableaux\n",
    "* Partie 6:\n",
    "  * Tableau 8: \n",
    "    * estimer 2 modèles sur des échantillons differents\n",
    "      * modèle 1 →  TCZ * Polluted * Period\n",
    "      * modèle 2 → Target * polluted*Period  \n",
    "    * Echantillonnage → prendre soit industry soit city industry\n",
    "      * Big\n",
    "        * Via Herfhindal \n",
    "          * benchmark →Revision\n",
    "      * Foreign \n",
    "        * via output/capital/employment \n",
    "      * SOEs\n",
    "        * via output/capital/employment \n",
    "      * SPZ\n",
    "      * Coastal\n",
    "    * Chaque tableau avec Panel A pour supérieur threshold, Panel B pour inférieur threshold\n",
    "  * Tableau 9:\n",
    "    * Enlever SPZ & Coastal\n",
    "    * estimer 2 modèles sur des échantillons differents\n",
    "      * modèle 1 →  TCZ * Polluted * Period\n",
    "      * modèle 2 → Target * polluted*Period  \n",
    "    * Idem tableau 8"
   ]
  },
  {
   "cell_type": "code",
   "execution_count": 2,
   "metadata": {
    "kernel": "SoS"
   },
   "outputs": [],
   "source": [
    "import pandas as pd\n",
    "from Fast_connectCloud import connector\n",
    "import numpy as np"
   ]
  },
  {
   "cell_type": "code",
   "execution_count": 3,
   "metadata": {
    "kernel": "Python 3"
   },
   "outputs": [],
   "source": [
    "import functions.latex_beautify as lb\n",
    "\n",
    "%load_ext autoreload\n",
    "%autoreload 2"
   ]
  },
  {
   "cell_type": "code",
   "execution_count": 4,
   "metadata": {
    "kernel": "SoS"
   },
   "outputs": [
    {
     "name": "stdout",
     "output_type": "stream",
     "text": [
      "Service account storage and Bigquery are now connected. \n",
      "Service account storage is stored as <google.cloud.storage.client.Client object at 0xa1bfb6b90> and accessible with \"Storage_account\" \n",
      "Service account Bigquery is stored as <google.cloud.bigquery.client.Client object at 0xa17300e10> and accessible with \"bigquery_account\"\n"
     ]
    }
   ],
   "source": [
    "gs = connector.open_connection(online_connection = False,\n",
    "                              path_credential = '/Users/thomas/Google Drive/Projects/Client_Oauth/Google_auth')\n",
    "\n",
    "service = gs.connect_remote('GCP')"
   ]
  },
  {
   "cell_type": "code",
   "execution_count": 5,
   "metadata": {
    "kernel": "SoS"
   },
   "outputs": [
    {
     "data": {
      "text/html": [
       "<div>\n",
       "<style scoped>\n",
       "    .dataframe tbody tr th:only-of-type {\n",
       "        vertical-align: middle;\n",
       "    }\n",
       "\n",
       "    .dataframe tbody tr th {\n",
       "        vertical-align: top;\n",
       "    }\n",
       "\n",
       "    .dataframe thead th {\n",
       "        text-align: right;\n",
       "    }\n",
       "</style>\n",
       "<table border=\"1\" class=\"dataframe\">\n",
       "  <thead>\n",
       "    <tr style=\"text-align: right;\">\n",
       "      <th></th>\n",
       "      <th>year</th>\n",
       "      <th>Period</th>\n",
       "      <th>Province_en</th>\n",
       "      <th>Lower_location</th>\n",
       "      <th>Larger_location</th>\n",
       "      <th>Coastal</th>\n",
       "      <th>cityen</th>\n",
       "      <th>geocode4_corr</th>\n",
       "      <th>TCZ_c</th>\n",
       "      <th>target_c</th>\n",
       "      <th>effort_c</th>\n",
       "      <th>industry</th>\n",
       "      <th>ind2</th>\n",
       "      <th>Short</th>\n",
       "      <th>output_fcit</th>\n",
       "      <th>capital_fcit</th>\n",
       "      <th>labour_fcit</th>\n",
       "      <th>out_share_SOE</th>\n",
       "      <th>cap_share_SOE</th>\n",
       "      <th>lab_share_SOE</th>\n",
       "      <th>tso2_cit</th>\n",
       "      <th>tso2_i</th>\n",
       "      <th>tCOD_cit</th>\n",
       "      <th>twaste_water_cit</th>\n",
       "      <th>polluted_di</th>\n",
       "      <th>polluted_mi</th>\n",
       "      <th>polluted_thre</th>\n",
       "      <th>FE_c_i</th>\n",
       "      <th>FE_t_i</th>\n",
       "      <th>FE_t_c</th>\n",
       "    </tr>\n",
       "  </thead>\n",
       "  <tbody>\n",
       "    <tr>\n",
       "      <th>0</th>\n",
       "      <td>2002</td>\n",
       "      <td>Before</td>\n",
       "      <td>Shanxi</td>\n",
       "      <td>Central</td>\n",
       "      <td>Central</td>\n",
       "      <td>False</td>\n",
       "      <td>Yuncheng</td>\n",
       "      <td>1408</td>\n",
       "      <td>TCZ</td>\n",
       "      <td>0.485030</td>\n",
       "      <td>Above</td>\n",
       "      <td>3329</td>\n",
       "      <td>33</td>\n",
       "      <td>Smelting Non-ferrous Metals</td>\n",
       "      <td>0.000687</td>\n",
       "      <td>0.000293</td>\n",
       "      <td>0.00036</td>\n",
       "      <td>0.027567</td>\n",
       "      <td>0.221018</td>\n",
       "      <td>0.113467</td>\n",
       "      <td>24500</td>\n",
       "      <td>168934.454545</td>\n",
       "      <td>0.0</td>\n",
       "      <td>500</td>\n",
       "      <td>Above</td>\n",
       "      <td>Below</td>\n",
       "      <td>Above</td>\n",
       "      <td>11104</td>\n",
       "      <td>1573</td>\n",
       "      <td>889</td>\n",
       "    </tr>\n",
       "    <tr>\n",
       "      <th>1</th>\n",
       "      <td>2006</td>\n",
       "      <td>After</td>\n",
       "      <td>Hunan</td>\n",
       "      <td>Central</td>\n",
       "      <td>Central</td>\n",
       "      <td>False</td>\n",
       "      <td>Xiangtan</td>\n",
       "      <td>4303</td>\n",
       "      <td>TCZ</td>\n",
       "      <td>0.092754</td>\n",
       "      <td>Below</td>\n",
       "      <td>3329</td>\n",
       "      <td>33</td>\n",
       "      <td>Smelting Non-ferrous Metals</td>\n",
       "      <td>0.000950</td>\n",
       "      <td>0.000148</td>\n",
       "      <td>0.00023</td>\n",
       "      <td>0.027567</td>\n",
       "      <td>0.221018</td>\n",
       "      <td>0.113467</td>\n",
       "      <td>2304</td>\n",
       "      <td>168934.454545</td>\n",
       "      <td>0.0</td>\n",
       "      <td>300</td>\n",
       "      <td>Above</td>\n",
       "      <td>Below</td>\n",
       "      <td>Above</td>\n",
       "      <td>11105</td>\n",
       "      <td>1574</td>\n",
       "      <td>420</td>\n",
       "    </tr>\n",
       "    <tr>\n",
       "      <th>2</th>\n",
       "      <td>2007</td>\n",
       "      <td>After</td>\n",
       "      <td>Hunan</td>\n",
       "      <td>Central</td>\n",
       "      <td>Central</td>\n",
       "      <td>False</td>\n",
       "      <td>Xiangtan</td>\n",
       "      <td>4303</td>\n",
       "      <td>TCZ</td>\n",
       "      <td>0.092754</td>\n",
       "      <td>Below</td>\n",
       "      <td>3329</td>\n",
       "      <td>33</td>\n",
       "      <td>Smelting Non-ferrous Metals</td>\n",
       "      <td>0.001715</td>\n",
       "      <td>0.000365</td>\n",
       "      <td>0.00023</td>\n",
       "      <td>0.027567</td>\n",
       "      <td>0.221018</td>\n",
       "      <td>0.113467</td>\n",
       "      <td>2304</td>\n",
       "      <td>168934.454545</td>\n",
       "      <td>0.0</td>\n",
       "      <td>240</td>\n",
       "      <td>Above</td>\n",
       "      <td>Below</td>\n",
       "      <td>Above</td>\n",
       "      <td>11105</td>\n",
       "      <td>1572</td>\n",
       "      <td>421</td>\n",
       "    </tr>\n",
       "    <tr>\n",
       "      <th>3</th>\n",
       "      <td>2007</td>\n",
       "      <td>After</td>\n",
       "      <td>Liaoning</td>\n",
       "      <td>Northeast</td>\n",
       "      <td>Eastern</td>\n",
       "      <td>True</td>\n",
       "      <td>Jinzhou</td>\n",
       "      <td>2107</td>\n",
       "      <td>TCZ</td>\n",
       "      <td>0.080512</td>\n",
       "      <td>Below</td>\n",
       "      <td>3329</td>\n",
       "      <td>33</td>\n",
       "      <td>Smelting Non-ferrous Metals</td>\n",
       "      <td>0.007730</td>\n",
       "      <td>0.001296</td>\n",
       "      <td>0.00089</td>\n",
       "      <td>0.027567</td>\n",
       "      <td>0.221018</td>\n",
       "      <td>0.113467</td>\n",
       "      <td>3200</td>\n",
       "      <td>168934.454545</td>\n",
       "      <td>0.0</td>\n",
       "      <td>0</td>\n",
       "      <td>Above</td>\n",
       "      <td>Below</td>\n",
       "      <td>Above</td>\n",
       "      <td>11103</td>\n",
       "      <td>1572</td>\n",
       "      <td>287</td>\n",
       "    </tr>\n",
       "    <tr>\n",
       "      <th>4</th>\n",
       "      <td>2002</td>\n",
       "      <td>Before</td>\n",
       "      <td>Liaoning</td>\n",
       "      <td>Northeast</td>\n",
       "      <td>Eastern</td>\n",
       "      <td>True</td>\n",
       "      <td>Shenyang</td>\n",
       "      <td>2101</td>\n",
       "      <td>TCZ</td>\n",
       "      <td>0.230076</td>\n",
       "      <td>Above</td>\n",
       "      <td>3329</td>\n",
       "      <td>33</td>\n",
       "      <td>Smelting Non-ferrous Metals</td>\n",
       "      <td>0.000997</td>\n",
       "      <td>0.000052</td>\n",
       "      <td>0.00135</td>\n",
       "      <td>0.027567</td>\n",
       "      <td>0.221018</td>\n",
       "      <td>0.113467</td>\n",
       "      <td>3840</td>\n",
       "      <td>168934.454545</td>\n",
       "      <td>0.0</td>\n",
       "      <td>3500</td>\n",
       "      <td>Above</td>\n",
       "      <td>Below</td>\n",
       "      <td>Above</td>\n",
       "      <td>11106</td>\n",
       "      <td>1573</td>\n",
       "      <td>432</td>\n",
       "    </tr>\n",
       "  </tbody>\n",
       "</table>\n",
       "</div>"
      ],
      "text/plain": [
       "   year  Period Province_en Lower_location Larger_location  Coastal    cityen  ...  twaste_water_cit polluted_di  polluted_mi polluted_thre  FE_c_i  FE_t_i FE_t_c\n",
       "0  2002  Before      Shanxi        Central         Central    False  Yuncheng  ...               500       Above        Below         Above   11104    1573    889\n",
       "1  2006   After       Hunan        Central         Central    False  Xiangtan  ...               300       Above        Below         Above   11105    1574    420\n",
       "2  2007   After       Hunan        Central         Central    False  Xiangtan  ...               240       Above        Below         Above   11105    1572    421\n",
       "3  2007   After    Liaoning      Northeast         Eastern     True   Jinzhou  ...                 0       Above        Below         Above   11103    1572    287\n",
       "4  2002  Before    Liaoning      Northeast         Eastern     True  Shenyang  ...              3500       Above        Below         Above   11106    1573    432\n",
       "\n",
       "[5 rows x 30 columns]"
      ]
     },
     "execution_count": 5,
     "metadata": {},
     "output_type": "execute_result"
    },
    {
     "name": "stderr",
     "output_type": "stream",
     "text": [
      "/Users/thomas/anaconda3/lib/python3.7/site-packages/pyarrow/feather.py:83: FutureWarning: The SparseDataFrame class is removed from pandas. Accessing it from the top-level namespace will also be removed in the next version\n",
      "  if isinstance(df, _pandas_api.pd.SparseDataFrame):\n"
     ]
    }
   ],
   "source": [
    "%put df_final --to R\n",
    "\n",
    "from GoogleDrivePy.google_platform import connect_cloud_platform\n",
    "project = 'valid-pagoda-132423'\n",
    "gcp = connect_cloud_platform.connect_console(project = project, \n",
    "                                             service_account = service['GoogleCloudP'])    \n",
    "query = (\n",
    "          \"SELECT * \"\n",
    "            \"FROM China.SBC_pollution_China \"\n",
    "\n",
    "        )\n",
    "\n",
    "df_final = gcp.upload_data_from_bigquery(query = query, location = 'US')\n",
    "df_final.head()"
   ]
  },
  {
   "cell_type": "code",
   "execution_count": 6,
   "metadata": {
    "kernel": "R"
   },
   "outputs": [
    {
     "name": "stderr",
     "output_type": "stream",
     "text": [
      "── \u001b[1mAttaching packages\u001b[22m ─────────────────────────────────────── tidyverse 1.3.0 ──\n",
      "\n",
      "\u001b[32m✔\u001b[39m \u001b[34mggplot2\u001b[39m 3.3.0     \u001b[32m✔\u001b[39m \u001b[34mpurrr  \u001b[39m 0.3.3\n",
      "\u001b[32m✔\u001b[39m \u001b[34mtibble \u001b[39m 3.0.0     \u001b[32m✔\u001b[39m \u001b[34mdplyr  \u001b[39m 0.8.5\n",
      "\u001b[32m✔\u001b[39m \u001b[34mtidyr  \u001b[39m 1.0.2     \u001b[32m✔\u001b[39m \u001b[34mstringr\u001b[39m 1.4.0\n",
      "\u001b[32m✔\u001b[39m \u001b[34mreadr  \u001b[39m 1.3.1     \u001b[32m✔\u001b[39m \u001b[34mforcats\u001b[39m 0.5.0\n",
      "\n",
      "── \u001b[1mConflicts\u001b[22m ────────────────────────────────────────── tidyverse_conflicts() ──\n",
      "\u001b[31m✖\u001b[39m \u001b[34mdplyr\u001b[39m::\u001b[32mfilter()\u001b[39m masks \u001b[34mstats\u001b[39m::filter()\n",
      "\u001b[31m✖\u001b[39m \u001b[34mdplyr\u001b[39m::\u001b[32mlag()\u001b[39m    masks \u001b[34mstats\u001b[39m::lag()\n",
      "\n",
      "Loading required package: Matrix\n",
      "\n",
      "\n",
      "Attaching package: ‘Matrix’\n",
      "\n",
      "\n",
      "The following objects are masked from ‘package:tidyr’:\n",
      "\n",
      "    expand, pack, unpack\n",
      "\n",
      "\n",
      "\n",
      "Attaching package: ‘lazyeval’\n",
      "\n",
      "\n",
      "The following objects are masked from ‘package:purrr’:\n",
      "\n",
      "    is_atomic, is_formula\n",
      "\n",
      "\n",
      "\n",
      "Please cite as: \n",
      "\n",
      "\n",
      " Hlavac, Marek (2018). stargazer: Well-Formatted Regression and Summary Statistics Tables.\n",
      "\n",
      " R package version 5.2.2. https://CRAN.R-project.org/package=stargazer \n",
      "\n",
      "\n"
     ]
    }
   ],
   "source": [
    "options(warn=-1)\n",
    "library(tidyverse)\n",
    "library(lfe)\n",
    "library(lazyeval)\n",
    "library('progress')\n",
    "\n",
    "path = \"functions/SBC_pollution_R.R\"\n",
    "source(path)\n",
    "path = \"functions/SBC_pollutiuon_golatex.R\"\n",
    "source(path)"
   ]
  },
  {
   "cell_type": "code",
   "execution_count": 7,
   "metadata": {
    "kernel": "R"
   },
   "outputs": [
    {
     "data": {
      "text/html": [
       "<table>\n",
       "<caption>A data.frame: 6 × 30</caption>\n",
       "<thead>\n",
       "\t<tr><th></th><th scope=col>year</th><th scope=col>Period</th><th scope=col>Province_en</th><th scope=col>Lower_location</th><th scope=col>Larger_location</th><th scope=col>Coastal</th><th scope=col>cityen</th><th scope=col>geocode4_corr</th><th scope=col>TCZ_c</th><th scope=col>target_c</th><th scope=col>⋯</th><th scope=col>tso2_cit</th><th scope=col>tso2_i</th><th scope=col>tCOD_cit</th><th scope=col>twaste_water_cit</th><th scope=col>polluted_di</th><th scope=col>polluted_mi</th><th scope=col>polluted_thre</th><th scope=col>FE_c_i</th><th scope=col>FE_t_i</th><th scope=col>FE_t_c</th></tr>\n",
       "\t<tr><th></th><th scope=col>&lt;dbl&gt;</th><th scope=col>&lt;fct&gt;</th><th scope=col>&lt;fct&gt;</th><th scope=col>&lt;fct&gt;</th><th scope=col>&lt;fct&gt;</th><th scope=col>&lt;lgl&gt;</th><th scope=col>&lt;fct&gt;</th><th scope=col>&lt;dbl&gt;</th><th scope=col>&lt;fct&gt;</th><th scope=col>&lt;dbl&gt;</th><th scope=col>⋯</th><th scope=col>&lt;dbl&gt;</th><th scope=col>&lt;dbl&gt;</th><th scope=col>&lt;dbl&gt;</th><th scope=col>&lt;dbl&gt;</th><th scope=col>&lt;fct&gt;</th><th scope=col>&lt;fct&gt;</th><th scope=col>&lt;fct&gt;</th><th scope=col>&lt;fct&gt;</th><th scope=col>&lt;fct&gt;</th><th scope=col>&lt;fct&gt;</th></tr>\n",
       "</thead>\n",
       "<tbody>\n",
       "\t<tr><th scope=row>1</th><td>2002</td><td>Before</td><td>Shanxi   </td><td>Central  </td><td>Central</td><td>FALSE</td><td>Yuncheng</td><td>1408</td><td>TCZ   </td><td>0.48502998</td><td>⋯</td><td>24500</td><td>168934.5</td><td>    0</td><td>   500</td><td>Above</td><td>Below</td><td>Above</td><td>11104</td><td>1573</td><td>889</td></tr>\n",
       "\t<tr><th scope=row>2</th><td>2006</td><td>After </td><td>Hunan    </td><td>Central  </td><td>Central</td><td>FALSE</td><td>Xiangtan</td><td>4303</td><td>TCZ   </td><td>0.09275420</td><td>⋯</td><td> 2304</td><td>168934.5</td><td>    0</td><td>   300</td><td>Above</td><td>Below</td><td>Above</td><td>11105</td><td>1574</td><td>420</td></tr>\n",
       "\t<tr><th scope=row>3</th><td>2007</td><td>After </td><td>Hunan    </td><td>Central  </td><td>Central</td><td>FALSE</td><td>Xiangtan</td><td>4303</td><td>TCZ   </td><td>0.09275420</td><td>⋯</td><td> 2304</td><td>168934.5</td><td>    0</td><td>   240</td><td>Above</td><td>Below</td><td>Above</td><td>11105</td><td>1572</td><td>421</td></tr>\n",
       "\t<tr><th scope=row>4</th><td>2007</td><td>After </td><td>Liaoning </td><td>Northeast</td><td>Eastern</td><td> TRUE</td><td>Jinzhou </td><td>2107</td><td>TCZ   </td><td>0.08051164</td><td>⋯</td><td> 3200</td><td>168934.5</td><td>    0</td><td>     0</td><td>Above</td><td>Below</td><td>Above</td><td>11103</td><td>1572</td><td>287</td></tr>\n",
       "\t<tr><th scope=row>5</th><td>2002</td><td>Before</td><td>Liaoning </td><td>Northeast</td><td>Eastern</td><td> TRUE</td><td>Shenyang</td><td>2101</td><td>TCZ   </td><td>0.23007570</td><td>⋯</td><td> 3840</td><td>168934.5</td><td>    0</td><td>  3500</td><td>Above</td><td>Below</td><td>Above</td><td>11106</td><td>1573</td><td>432</td></tr>\n",
       "\t<tr><th scope=row>6</th><td>2002</td><td>Before</td><td>Guangdong</td><td>Coastal  </td><td>Eastern</td><td> TRUE</td><td>Meizhou </td><td>4414</td><td>No_TCZ</td><td>0.02596999</td><td>⋯</td><td>72752</td><td>168934.5</td><td>15500</td><td>115000</td><td>Above</td><td>Below</td><td>Above</td><td>11107</td><td>1573</td><td>909</td></tr>\n",
       "</tbody>\n",
       "</table>\n"
      ],
      "text/latex": [
       "A data.frame: 6 × 30\n",
       "\\begin{tabular}{r|lllllllllllllllllllll}\n",
       "  & year & Period & Province\\_en & Lower\\_location & Larger\\_location & Coastal & cityen & geocode4\\_corr & TCZ\\_c & target\\_c & ⋯ & tso2\\_cit & tso2\\_i & tCOD\\_cit & twaste\\_water\\_cit & polluted\\_di & polluted\\_mi & polluted\\_thre & FE\\_c\\_i & FE\\_t\\_i & FE\\_t\\_c\\\\\n",
       "  & <dbl> & <fct> & <fct> & <fct> & <fct> & <lgl> & <fct> & <dbl> & <fct> & <dbl> & ⋯ & <dbl> & <dbl> & <dbl> & <dbl> & <fct> & <fct> & <fct> & <fct> & <fct> & <fct>\\\\\n",
       "\\hline\n",
       "\t1 & 2002 & Before & Shanxi    & Central   & Central & FALSE & Yuncheng & 1408 & TCZ    & 0.48502998 & ⋯ & 24500 & 168934.5 &     0 &    500 & Above & Below & Above & 11104 & 1573 & 889\\\\\n",
       "\t2 & 2006 & After  & Hunan     & Central   & Central & FALSE & Xiangtan & 4303 & TCZ    & 0.09275420 & ⋯ &  2304 & 168934.5 &     0 &    300 & Above & Below & Above & 11105 & 1574 & 420\\\\\n",
       "\t3 & 2007 & After  & Hunan     & Central   & Central & FALSE & Xiangtan & 4303 & TCZ    & 0.09275420 & ⋯ &  2304 & 168934.5 &     0 &    240 & Above & Below & Above & 11105 & 1572 & 421\\\\\n",
       "\t4 & 2007 & After  & Liaoning  & Northeast & Eastern &  TRUE & Jinzhou  & 2107 & TCZ    & 0.08051164 & ⋯ &  3200 & 168934.5 &     0 &      0 & Above & Below & Above & 11103 & 1572 & 287\\\\\n",
       "\t5 & 2002 & Before & Liaoning  & Northeast & Eastern &  TRUE & Shenyang & 2101 & TCZ    & 0.23007570 & ⋯ &  3840 & 168934.5 &     0 &   3500 & Above & Below & Above & 11106 & 1573 & 432\\\\\n",
       "\t6 & 2002 & Before & Guangdong & Coastal   & Eastern &  TRUE & Meizhou  & 4414 & No\\_TCZ & 0.02596999 & ⋯ & 72752 & 168934.5 & 15500 & 115000 & Above & Below & Above & 11107 & 1573 & 909\\\\\n",
       "\\end{tabular}\n"
      ],
      "text/markdown": [
       "\n",
       "A data.frame: 6 × 30\n",
       "\n",
       "| <!--/--> | year &lt;dbl&gt; | Period &lt;fct&gt; | Province_en &lt;fct&gt; | Lower_location &lt;fct&gt; | Larger_location &lt;fct&gt; | Coastal &lt;lgl&gt; | cityen &lt;fct&gt; | geocode4_corr &lt;dbl&gt; | TCZ_c &lt;fct&gt; | target_c &lt;dbl&gt; | ⋯ ⋯ | tso2_cit &lt;dbl&gt; | tso2_i &lt;dbl&gt; | tCOD_cit &lt;dbl&gt; | twaste_water_cit &lt;dbl&gt; | polluted_di &lt;fct&gt; | polluted_mi &lt;fct&gt; | polluted_thre &lt;fct&gt; | FE_c_i &lt;fct&gt; | FE_t_i &lt;fct&gt; | FE_t_c &lt;fct&gt; |\n",
       "|---|---|---|---|---|---|---|---|---|---|---|---|---|---|---|---|---|---|---|---|---|---|\n",
       "| 1 | 2002 | Before | Shanxi    | Central   | Central | FALSE | Yuncheng | 1408 | TCZ    | 0.48502998 | ⋯ | 24500 | 168934.5 |     0 |    500 | Above | Below | Above | 11104 | 1573 | 889 |\n",
       "| 2 | 2006 | After  | Hunan     | Central   | Central | FALSE | Xiangtan | 4303 | TCZ    | 0.09275420 | ⋯ |  2304 | 168934.5 |     0 |    300 | Above | Below | Above | 11105 | 1574 | 420 |\n",
       "| 3 | 2007 | After  | Hunan     | Central   | Central | FALSE | Xiangtan | 4303 | TCZ    | 0.09275420 | ⋯ |  2304 | 168934.5 |     0 |    240 | Above | Below | Above | 11105 | 1572 | 421 |\n",
       "| 4 | 2007 | After  | Liaoning  | Northeast | Eastern |  TRUE | Jinzhou  | 2107 | TCZ    | 0.08051164 | ⋯ |  3200 | 168934.5 |     0 |      0 | Above | Below | Above | 11103 | 1572 | 287 |\n",
       "| 5 | 2002 | Before | Liaoning  | Northeast | Eastern |  TRUE | Shenyang | 2101 | TCZ    | 0.23007570 | ⋯ |  3840 | 168934.5 |     0 |   3500 | Above | Below | Above | 11106 | 1573 | 432 |\n",
       "| 6 | 2002 | Before | Guangdong | Coastal   | Eastern |  TRUE | Meizhou  | 4414 | No_TCZ | 0.02596999 | ⋯ | 72752 | 168934.5 | 15500 | 115000 | Above | Below | Above | 11107 | 1573 | 909 |\n",
       "\n"
      ],
      "text/plain": [
       "  year Period Province_en Lower_location Larger_location Coastal cityen  \n",
       "1 2002 Before Shanxi      Central        Central         FALSE   Yuncheng\n",
       "2 2006 After  Hunan       Central        Central         FALSE   Xiangtan\n",
       "3 2007 After  Hunan       Central        Central         FALSE   Xiangtan\n",
       "4 2007 After  Liaoning    Northeast      Eastern          TRUE   Jinzhou \n",
       "5 2002 Before Liaoning    Northeast      Eastern          TRUE   Shenyang\n",
       "6 2002 Before Guangdong   Coastal        Eastern          TRUE   Meizhou \n",
       "  geocode4_corr TCZ_c  target_c   ⋯ tso2_cit tso2_i   tCOD_cit twaste_water_cit\n",
       "1 1408          TCZ    0.48502998 ⋯ 24500    168934.5     0       500          \n",
       "2 4303          TCZ    0.09275420 ⋯  2304    168934.5     0       300          \n",
       "3 4303          TCZ    0.09275420 ⋯  2304    168934.5     0       240          \n",
       "4 2107          TCZ    0.08051164 ⋯  3200    168934.5     0         0          \n",
       "5 2101          TCZ    0.23007570 ⋯  3840    168934.5     0      3500          \n",
       "6 4414          No_TCZ 0.02596999 ⋯ 72752    168934.5 15500    115000          \n",
       "  polluted_di polluted_mi polluted_thre FE_c_i FE_t_i FE_t_c\n",
       "1 Above       Below       Above         11104  1573   889   \n",
       "2 Above       Below       Above         11105  1574   420   \n",
       "3 Above       Below       Above         11105  1572   421   \n",
       "4 Above       Below       Above         11103  1572   287   \n",
       "5 Above       Below       Above         11106  1573   432   \n",
       "6 Above       Below       Above         11107  1573   909   "
      ]
     },
     "metadata": {},
     "output_type": "display_data"
    }
   ],
   "source": [
    "df_final <- df_final %>% \n",
    "    mutate_if(is.character, as.factor) %>%\n",
    "    mutate_at(vars(starts_with(\"FE\")), as.factor) %>%\n",
    "    mutate(\n",
    "         Period = relevel(Period, ref='Before'),\n",
    "         TCZ_c = relevel(TCZ_c, ref='No_TCZ'),\n",
    "         effort_c = relevel(effort_c, ref='Below'),\n",
    "         polluted_di = relevel(polluted_di, ref='Below'),\n",
    "         polluted_mi = relevel(polluted_mi, ref='Below'),\n",
    "         polluted_thre = relevel(polluted_thre, ref='Below'),\n",
    "  )\n",
    "head(df_final)"
   ]
  },
  {
   "cell_type": "markdown",
   "metadata": {
    "kernel": "python3"
   },
   "source": [
    "# Partie 6"
   ]
  },
  {
   "cell_type": "markdown",
   "metadata": {
    "kernel": "python3"
   },
   "source": [
    "## Tableau 8 A and B \n",
    "\n",
    "Estimate the following models using different subsamples:\n",
    "\n",
    "### Model A \n",
    "\n",
    "$$\n",
    "Log SO2 emission _{i k t}=\\alpha\\left(\\text { Period } \\times \\text { TCZ }_{i} \\times \\text { Polluting sectors }_{k} \\right)+\\nu_{i k}+\\lambda_{i t}+\\phi_{k t}+\\epsilon_{i k t}\n",
    "$$\n",
    "\n",
    "$$\n",
    "Log SO2 emission _{i k t}=\\alpha\\left(\\text { Period } \\times \\text { TCZ }_{i} \\times \\text { Polluting sectors }_{k} \\times \\text{ Share X}_i \\right)+\\nu_{i k}+\\lambda_{i t}+\\phi_{k t}+\\epsilon_{i k t}\n",
    "$$\n",
    "\n",
    "### Model B\n",
    "\n",
    "$$\n",
    "Log SO2 emission _{i k t}=\\alpha\\left(\\text { Period } \\times \\text { Target }_{i} \\times \\text { Polluting sectors }_{k}\\right)+\\nu_{i k}+\\lambda_{i t}+\\phi_{k t}+\\epsilon_{i k t}\n",
    "$$\n",
    "\n",
    "* Size\n",
    "    * Via Herfhindal \n",
    "        * benchmark →Revision\n",
    "* Foreign \n",
    "    * via output/capital/employment \n",
    "* SOEs\n",
    "    * via output/capital/employment \n",
    "* SPZ\n",
    "* Coastal"
   ]
  },
  {
   "cell_type": "markdown",
   "metadata": {
    "kernel": "python3"
   },
   "source": [
    "## Load Data"
   ]
  },
  {
   "cell_type": "markdown",
   "metadata": {
    "kernel": "python3"
   },
   "source": [
    "### Compute Herfhindal: proxy Size\n",
    "\n",
    "$$\n",
    "H=\\sum_{i=1}^{N} s_{i}^{2}\n",
    "$$\n",
    "\n",
    "where $s_i$ is the market share of city $i$ in the industry, and $N$ is the number of firms. \n",
    "\n",
    "We proceed as follow:\n",
    "- Step 1: Compute the share [output, capital, employment] by city-industry: `market_share_cit`\n",
    "- Step 2: compute the sum of squared market share by city: `Herfindahl_ct`\n",
    "- Step 3: Compute the average across time: `Herfindahl_c`\n",
    "- Step 4: Compute the deciles of step 3: `decile_herfhindal_c`\n",
    "    - Low decile implies a low concentration within sectors\n",
    "    - High decile implies a high concentration within sectors"
   ]
  },
  {
   "cell_type": "code",
   "execution_count": 12,
   "metadata": {
    "kernel": "SoS"
   },
   "outputs": [
    {
     "data": {
      "text/plain": [
       "1     29\n",
       "2     29\n",
       "3     29\n",
       "4     29\n",
       "5     28\n",
       "6     28\n",
       "7     28\n",
       "8     28\n",
       "9     28\n",
       "10    28\n",
       "Name: decile_herfhindal_c, dtype: int64"
      ]
     },
     "execution_count": 12,
     "metadata": {},
     "output_type": "execute_result"
    }
   ],
   "source": [
    "query = \"\"\"\n",
    "WITH sum_cit AS (\n",
    "  SELECT geocode4_corr, cic, sum(output) as sum_o_cit, year\n",
    "  FROM China.asif_firm_china \n",
    "  WHERE year >= 2002 AND year <= 2007\n",
    "  GROUP BY geocode4_corr, cic, year\n",
    ") \n",
    "SELECT * \n",
    "FROM \n",
    "  (WITH sum_ct AS (\n",
    "    SELECT geocode4_corr, SUM(sum_o_cit) as sum_o_ct, year\n",
    "    FROM sum_cit\n",
    "    WHERE year >= 2002 AND year <= 2007\n",
    "    GROUP BY year, geocode4_corr\n",
    ")\n",
    "SELECT *\n",
    "FROM\n",
    "  (WITH ms_cit AS (\n",
    "    SELECT  sum_cit.cic, sum_cit.geocode4_corr, sum_cit.year,\n",
    "    sum_cit.sum_o_cit/NULLIF(sum_ct.sum_o_ct, 0) as market_share_cit\n",
    "    FROM sum_cit\n",
    "    LEFT JOIN sum_ct\n",
    "ON (\n",
    "sum_cit.year = sum_ct.year AND \n",
    "sum_cit.geocode4_corr = sum_ct.geocode4_corr\n",
    ")\n",
    ")\n",
    "SELECT *\n",
    "FROM\n",
    "  (WITH agg_1 AS (\n",
    "SELECT geocode4_corr, SUM(POW(market_share_cit, 2)) as Herfindahl_ct,\n",
    "year\n",
    "FROM ms_cit\n",
    "GROUP BY year, geocode4_corr\n",
    "ORDER BY year, geocode4_corr \n",
    ")\n",
    "SELECT *\n",
    "FROM (\n",
    "WITH avg_H_c AS (\n",
    "SELECT geocode4_corr, AVG(Herfindahl_ct) as Herfindahl_c\n",
    "FROM agg_1\n",
    "GROUP BY geocode4_corr\n",
    ")\n",
    "SELECT geocode4_corr, Herfindahl_c ,\n",
    "NTILE(10)  OVER (ORDER BY Herfindahl_c) as\n",
    "decile_herfhindal_c\n",
    "FROM avg_H_c\n",
    "ORDER BY decile_herfhindal_c\n",
    "))))\n",
    "\"\"\"\n",
    "df_herfhindal = gcp.upload_data_from_bigquery(query = query,\n",
    "                                         location = 'US')\n",
    "df_herfhindal['decile_herfhindal_c'].value_counts().sort_index()"
   ]
  },
  {
   "cell_type": "markdown",
   "metadata": {
    "kernel": "SoS"
   },
   "source": [
    "### Compute Ownership: proxy Foreign/SOE\n",
    "\n",
    "$$\\sum output_{co}/ \\sum output_c$$\n",
    "\n",
    "- with $c$ stands for city\n",
    "- $o$ stands for ownership (Foreign vs Domestic or SOE vs private)\n",
    "\n"
   ]
  },
  {
   "cell_type": "markdown",
   "metadata": {
    "kernel": "SoS"
   },
   "source": [
    "#### Foreign vs domestic\n",
    "\n",
    "We proceed as follow:\n",
    "- Step 1: Compute the share [output, capital, employment] by city, ownership (Foreign/Domestic): `Share_X_co`\n",
    "- Step 2: Compute dummy when share Foreign above share domestic by city\n"
   ]
  },
  {
   "cell_type": "code",
   "execution_count": 9,
   "metadata": {
    "kernel": "SoS"
   },
   "outputs": [
    {
     "data": {
      "text/plain": [
       "1     57\n",
       "2     57\n",
       "3     57\n",
       "4     57\n",
       "5     56\n",
       "6     55\n",
       "7     55\n",
       "8     55\n",
       "9     55\n",
       "10    55\n",
       "Name: rank_share_output_c, dtype: int64"
      ]
     },
     "execution_count": 9,
     "metadata": {},
     "output_type": "execute_result"
    }
   ],
   "source": [
    "query_share_foreign = \"\"\" \n",
    "WITH sum_co AS (\n",
    "  SELECT \n",
    "    case WHEN ownership = 'Foreign' THEN 'FOREIGN' ELSE 'DOMESTIC' END AS OWNERSHIP, \n",
    "    SUM(output / 10000000) as output_co, \n",
    "    SUM(fa_net / 10000000) as fa_net_co, \n",
    "    SUM(employment / 100000) as employment_co,\n",
    "    geocode4_corr\n",
    "  FROM \n",
    "    China.asif_firm_china \n",
    "  WHERE \n",
    "    year >= 2002 \n",
    "    AND year <= 2007\n",
    "    AND output > 0 \n",
    "    AND fa_net > 0 \n",
    "    AND employment > 0 \n",
    "  GROUP BY \n",
    "    OWNERSHIP, \n",
    "    geocode4_corr\n",
    ") \n",
    "SELECT \n",
    "  * \n",
    "FROM \n",
    "  (\n",
    "    WITH sum_c AS(\n",
    "      SELECT \n",
    "        SUM(output_co) as output_c, \n",
    "        SUM(fa_net_co) as fa_net_c, \n",
    "        SUM(employment_co) as employment_c, \n",
    "        geocode4_corr AS geocode4_corr_b\n",
    "      FROM \n",
    "        sum_co \n",
    "      GROUP BY \n",
    "        geocode4_corr\n",
    "    ) \n",
    "    SELECT \n",
    "      * \n",
    "    FROM \n",
    "      (\n",
    "        WITH share_co AS(\n",
    "          SELECT \n",
    "            OWNERSHIP, \n",
    "            output_co / output_c AS share_output_co, \n",
    "            fa_net_co / fa_net_c AS share_fa_net_co, \n",
    "            employment_co / employment_c AS share_employement_co, \n",
    "            geocode4_corr\n",
    "          FROM \n",
    "            sum_co \n",
    "            LEFT JOIN sum_c ON sum_co.geocode4_corr = sum_c.geocode4_corr_b \n",
    "        ) \n",
    "        SELECT \n",
    "        * \n",
    "        FROM(\n",
    "        WITH decile_c AS (\n",
    "        SELECT \n",
    "        geocode4_corr,\n",
    "        OWNERSHIP,  \n",
    "        NTILE(10)  OVER (PARTITION BY OWNERSHIP ORDER BY share_output_co) \n",
    "          as rank_share_output_c,\n",
    "          NTILE(10)  OVER (PARTITION BY OWNERSHIP ORDER BY share_fa_net_co) \n",
    "          as rank_share_capital_c,\n",
    "          NTILE(10)  OVER (PARTITION BY OWNERSHIP ORDER BY share_employement_co) \n",
    "          as rank_share_employement_c,\n",
    "          share_output_co,\n",
    "          share_fa_net_co,\n",
    "          share_employement_co\n",
    "        FROM share_co\n",
    "        )\n",
    "        SELECT * \n",
    "        FROM decile_c \n",
    "        /*WHERE OWNERSHIP = 'FOREIGN'*/\n",
    "        )\n",
    "        )\n",
    "        )\n",
    "\"\"\"\n",
    "df_share_foreign = gcp.upload_data_from_bigquery(query = query_share_foreign,\n",
    "                                         location = 'US')\n",
    "df_share_foreign['rank_share_output_c'].value_counts().sort_index()"
   ]
  },
  {
   "cell_type": "code",
   "execution_count": 11,
   "metadata": {
    "kernel": "SoS"
   },
   "outputs": [
    {
     "name": "stdout",
     "output_type": "stream",
     "text": [
      "Above      7\n",
      "Below    277\n",
      "Name: output, dtype: int64\n",
      "Above      5\n",
      "Below    279\n",
      "Name: capital, dtype: int64\n",
      "Above      7\n",
      "Below    277\n",
      "Name: employment, dtype: int64\n"
     ]
    }
   ],
   "source": [
    "df_share_foreign = (df_share_foreign\n",
    " .set_index(['geocode4_corr', 'OWNERSHIP'])\n",
    " .drop(columns = ['rank_share_output_c',\n",
    "                  'rank_share_capital_c',\n",
    "                  'rank_share_employement_c'])\n",
    " .unstack(-1)\n",
    " .fillna(0)\n",
    " .assign(\n",
    " output = lambda x: np.where(\n",
    "     x.iloc[:,1] > x.iloc[:,0],\n",
    "     'Above', 'Below'\n",
    " ),\n",
    "     capital = lambda x: np.where(\n",
    "     x.iloc[:,3] > x.iloc[:,0],\n",
    "     'Above', 'Below'\n",
    " ),\n",
    "     employment = lambda x: np.where(\n",
    "     x.iloc[:,5] > x.iloc[:,0],\n",
    "     'Above', 'Below'\n",
    " )\n",
    " )\n",
    " .iloc[:, -3:]\n",
    " .droplevel(level = 1, axis = 1)\n",
    " .reset_index()\n",
    ")\n",
    "for i in ['output','capital', 'employment']:\n",
    "    print(df_share_foreign[i].value_counts().sort_index())"
   ]
  },
  {
   "cell_type": "markdown",
   "metadata": {
    "kernel": "SoS"
   },
   "source": [
    "#### SOE\n",
    "\n",
    "We proceed as follow:\n",
    "- Step 1: Compute the share [output, capital, employment] by city, ownership (SOE/Private): `Share_X_co`\n",
    "- Step 2: Compute dummy when share SOE above share Private by city"
   ]
  },
  {
   "cell_type": "code",
   "execution_count": 13,
   "metadata": {
    "kernel": "SoS"
   },
   "outputs": [
    {
     "data": {
      "text/plain": [
       "1     58\n",
       "2     58\n",
       "3     58\n",
       "4     58\n",
       "5     56\n",
       "6     56\n",
       "7     56\n",
       "8     56\n",
       "9     56\n",
       "10    56\n",
       "Name: rank_share_output_c, dtype: int64"
      ]
     },
     "execution_count": 13,
     "metadata": {},
     "output_type": "execute_result"
    }
   ],
   "source": [
    "query_share_soe = \"\"\" \n",
    "WITH sum_co AS (\n",
    "  SELECT \n",
    "    case WHEN ownership = 'SOE' THEN 'SOE' ELSE 'PRIVATE' END AS OWNERSHIP, \n",
    "    SUM(output / 10000000) as output_co, \n",
    "    SUM(fa_net / 10000000) as fa_net_co, \n",
    "    SUM(employment / 100000) as employment_co,\n",
    "    geocode4_corr\n",
    "  FROM \n",
    "    China.asif_firm_china \n",
    "  WHERE \n",
    "    year >= 2002 \n",
    "    AND year <= 2007\n",
    "    AND output > 0 \n",
    "    AND fa_net > 0 \n",
    "    AND employment > 0 \n",
    "  GROUP BY \n",
    "    OWNERSHIP, \n",
    "    geocode4_corr\n",
    ") \n",
    "SELECT \n",
    "  * \n",
    "FROM \n",
    "  (\n",
    "    WITH sum_c AS(\n",
    "      SELECT \n",
    "        SUM(output_co) as output_c, \n",
    "        SUM(fa_net_co) as fa_net_c, \n",
    "        SUM(employment_co) as employment_c, \n",
    "        geocode4_corr AS geocode4_corr_b\n",
    "      FROM \n",
    "        sum_co \n",
    "      GROUP BY \n",
    "        geocode4_corr\n",
    "    ) \n",
    "    SELECT \n",
    "      * \n",
    "    FROM \n",
    "      (\n",
    "        WITH share_co AS(\n",
    "          SELECT \n",
    "            OWNERSHIP, \n",
    "            output_co / output_c AS share_output_co, \n",
    "            fa_net_co / fa_net_c AS share_fa_net_co, \n",
    "            employment_co / employment_c AS share_employement_co, \n",
    "            geocode4_corr\n",
    "          FROM \n",
    "            sum_co \n",
    "            LEFT JOIN sum_c ON sum_co.geocode4_corr = sum_c.geocode4_corr_b \n",
    "        ) \n",
    "        SELECT \n",
    "        * \n",
    "        FROM(\n",
    "        WITH decile_c AS (\n",
    "        SELECT \n",
    "        geocode4_corr,\n",
    "        OWNERSHIP,  \n",
    "        NTILE(10)  OVER (PARTITION BY OWNERSHIP ORDER BY share_output_co) \n",
    "          as rank_share_output_c,\n",
    "          NTILE(10)  OVER (PARTITION BY OWNERSHIP ORDER BY share_fa_net_co) \n",
    "          as rank_share_capital_c,\n",
    "          NTILE(10)  OVER (PARTITION BY OWNERSHIP ORDER BY share_employement_co) \n",
    "          as rank_share_employement_c,\n",
    "          share_output_co,\n",
    "          share_fa_net_co,\n",
    "          share_employement_co\n",
    "        FROM share_co\n",
    "        )\n",
    "        SELECT * \n",
    "        FROM decile_c \n",
    "        /*WHERE OWNERSHIP = 'FOREIGN'*/\n",
    "        )\n",
    "        )\n",
    "        )\n",
    "\"\"\"\n",
    "df_share_soe = gcp.upload_data_from_bigquery(query = query_share_soe,\n",
    "                                         location = 'US')\n",
    "df_share_soe['rank_share_output_c'].value_counts().sort_index()"
   ]
  },
  {
   "cell_type": "code",
   "execution_count": 14,
   "metadata": {
    "kernel": "SoS"
   },
   "outputs": [
    {
     "name": "stdout",
     "output_type": "stream",
     "text": [
      "Above     41\n",
      "Below    243\n",
      "Name: output, dtype: int64\n",
      "Above     57\n",
      "Below    227\n",
      "Name: capital, dtype: int64\n",
      "Above     39\n",
      "Below    245\n",
      "Name: employment, dtype: int64\n"
     ]
    }
   ],
   "source": [
    "df_share_soe = (df_share_soe\n",
    " .set_index(['geocode4_corr', 'OWNERSHIP'])\n",
    " .drop(columns = ['rank_share_output_c',\n",
    "                  'rank_share_capital_c',\n",
    "                  'rank_share_employement_c'])\n",
    " .unstack(-1)\n",
    " .fillna(0)\n",
    " .assign(\n",
    " output = lambda x: np.where(\n",
    "     x.iloc[:,1] > x.iloc[:,0],\n",
    "     'Above', 'Below'\n",
    " ),\n",
    "     capital = lambda x: np.where(\n",
    "     x.iloc[:,3] > x.iloc[:,0],\n",
    "     'Above', 'Below'\n",
    " ),\n",
    "     employment = lambda x: np.where(\n",
    "     x.iloc[:,5] > x.iloc[:,0],\n",
    "     'Above', 'Below'\n",
    " )\n",
    " )\n",
    " .iloc[:, -3:]\n",
    " .droplevel(level = 1, axis = 1)\n",
    " .reset_index()\n",
    ")\n",
    "\n",
    "for i in ['output','capital', 'employment']:\n",
    "    print(df_share_soe[i].value_counts().sort_index())"
   ]
  },
  {
   "cell_type": "markdown",
   "metadata": {
    "kernel": "SoS"
   },
   "source": [
    "### Add to table"
   ]
  },
  {
   "cell_type": "code",
   "execution_count": 15,
   "metadata": {
    "kernel": "SoS"
   },
   "outputs": [
    {
     "data": {
      "text/html": [
       "<div class=\"sos_logging sos_info\">INFO: NumExpr defaulting to 8 threads.</div>"
      ]
     },
     "metadata": {},
     "output_type": "display_data"
    }
   ],
   "source": [
    "%put df_herfhindal_final --to R\n",
    "df_herfhindal_final = df_final.merge(df_herfhindal,\n",
    "                                     on=['geocode4_corr'],\n",
    "                                     how='left',\n",
    "                                     indicator=True\n",
    "                                     )"
   ]
  },
  {
   "cell_type": "code",
   "execution_count": 16,
   "metadata": {
    "kernel": "R"
   },
   "outputs": [],
   "source": [
    "df_herfhindal_r <- df_herfhindal_final %>% \n",
    "    mutate_if(is.character, as.factor) %>%\n",
    "    mutate_at(vars(starts_with(\"FE\")), as.factor) %>%\n",
    "    mutate(\n",
    "         Period = relevel(Period, ref='Before'),\n",
    "         TCZ_c = relevel(TCZ_c, ref='No_TCZ'),\n",
    "         effort_c = relevel(effort_c, ref='Below'),\n",
    "         polluted_di = relevel(polluted_di, ref='Below'),\n",
    "         polluted_mi = relevel(polluted_mi, ref='Below'),\n",
    "         polluted_thre = relevel(polluted_thre, ref='Below'),\n",
    "  )"
   ]
  },
  {
   "cell_type": "code",
   "execution_count": 23,
   "metadata": {
    "kernel": "SoS"
   },
   "outputs": [
    {
     "name": "stdout",
     "output_type": "stream",
     "text": [
      "Below    27613\n",
      "Above     3063\n",
      "Name: output, dtype: int64\n",
      "Below    25705\n",
      "Above     4971\n",
      "Name: capital, dtype: int64\n",
      "Below    27140\n",
      "Above     3536\n",
      "Name: employment, dtype: int64\n"
     ]
    }
   ],
   "source": [
    "%put df_final_SOE --to R\n",
    "df_final_SOE = (df_final.merge(\n",
    "    df_share_soe,\n",
    "    how = 'left',\n",
    "    indicator = True\n",
    ")\n",
    "                #.assign(\n",
    "                #    rank_share_output_ci= lambda x: \n",
    "                #    x['rank_share_output_i'].fillna(0),\n",
    "                #    rank_share_capital_ci= lambda x: \n",
    "                #    x['rank_share_output_i'].fillna(0),\n",
    "                #    rank_share_employement_ci= lambda x: \n",
    "                #    x['rank_share_output_i'].fillna(0),\n",
    "                #)\n",
    ")\n",
    "for i in ['output', 'capital', 'employment']:\n",
    "    print(df_final_SOE[i].value_counts())"
   ]
  },
  {
   "cell_type": "code",
   "execution_count": 24,
   "metadata": {
    "kernel": "R"
   },
   "outputs": [],
   "source": [
    "df_final_SOE <- df_final_SOE %>% \n",
    "    mutate_if(is.character, as.factor) %>%\n",
    "    mutate_at(vars(starts_with(\"FE\")), as.factor) %>%\n",
    "    mutate(\n",
    "         Period = relevel(Period, ref='Before'),\n",
    "         TCZ_c = relevel(TCZ_c, ref='No_TCZ'),\n",
    "         effort_c = relevel(effort_c, ref='Below'),\n",
    "         polluted_di = relevel(polluted_di, ref='Below'),\n",
    "         polluted_mi = relevel(polluted_mi, ref='Below'),\n",
    "         polluted_thre = relevel(polluted_thre, ref='Below'),\n",
    "  )"
   ]
  },
  {
   "cell_type": "code",
   "execution_count": 25,
   "metadata": {
    "kernel": "SoS"
   },
   "outputs": [
    {
     "name": "stdout",
     "output_type": "stream",
     "text": [
      "Below    30228\n",
      "Above      448\n",
      "Name: output, dtype: int64\n",
      "Below    30478\n",
      "Above      198\n",
      "Name: capital, dtype: int64\n",
      "Below    30238\n",
      "Above      438\n",
      "Name: employment, dtype: int64\n"
     ]
    }
   ],
   "source": [
    "%put df_final_FOREIGN --to R\n",
    "df_final_FOREIGN = (df_final.merge(\n",
    "    df_share_foreign,\n",
    "    how = 'left',\n",
    "    on = ['geocode4_corr'],\n",
    "    indicator = True\n",
    ")\n",
    "                #.assign(\n",
    "                #    rank_share_output_ci= lambda x: \n",
    "                #    x['rank_share_output_i'].fillna(0),\n",
    "                #    rank_share_capital_ci= lambda x: \n",
    "                #    x['rank_share_output_i'].fillna(0),\n",
    "                #    rank_share_employement_ci= lambda x: \n",
    "                #    x['rank_share_output_i'].fillna(0),\n",
    "                #)\n",
    "\n",
    ")\n",
    "for i in ['output', 'capital', 'employment']:\n",
    "    print(df_final_FOREIGN[i].value_counts())"
   ]
  },
  {
   "cell_type": "code",
   "execution_count": 26,
   "metadata": {
    "kernel": "R"
   },
   "outputs": [],
   "source": [
    "df_final_FOREIGN <- df_final_FOREIGN %>% \n",
    "    mutate_if(is.character, as.factor) %>%\n",
    "    mutate_at(vars(starts_with(\"FE\")), as.factor) %>%\n",
    "    mutate(\n",
    "         Period = relevel(Period, ref='Before'),\n",
    "         TCZ_c = relevel(TCZ_c, ref='No_TCZ'),\n",
    "         effort_c = relevel(effort_c, ref='Below'),\n",
    "         polluted_di = relevel(polluted_di, ref='Below'),\n",
    "         polluted_mi = relevel(polluted_mi, ref='Below'),\n",
    "         polluted_thre = relevel(polluted_thre, ref='Below'),\n",
    "  )"
   ]
  },
  {
   "cell_type": "markdown",
   "metadata": {
    "kernel": "SoS"
   },
   "source": [
    "## Table 8 Model A: Panel A\n",
    "\n"
   ]
  },
  {
   "cell_type": "markdown",
   "metadata": {
    "kernel": "python3"
   },
   "source": [
    "### Test Size"
   ]
  },
  {
   "cell_type": "code",
   "execution_count": 27,
   "metadata": {
    "kernel": "R"
   },
   "outputs": [
    {
     "data": {
      "text/html": [
       "FALSE"
      ],
      "text/latex": [
       "FALSE"
      ],
      "text/markdown": [
       "FALSE"
      ],
      "text/plain": [
       "[1] FALSE"
      ]
     },
     "metadata": {},
     "output_type": "display_data"
    },
    {
     "data": {
      "text/html": [
       "FALSE"
      ],
      "text/latex": [
       "FALSE"
      ],
      "text/markdown": [
       "FALSE"
      ],
      "text/plain": [
       "[1] FALSE"
      ]
     },
     "metadata": {},
     "output_type": "display_data"
    },
    {
     "data": {
      "text/html": [
       "FALSE"
      ],
      "text/latex": [
       "FALSE"
      ],
      "text/markdown": [
       "FALSE"
      ],
      "text/plain": [
       "[1] FALSE"
      ]
     },
     "metadata": {},
     "output_type": "display_data"
    },
    {
     "data": {
      "text/html": [
       "FALSE"
      ],
      "text/latex": [
       "FALSE"
      ],
      "text/markdown": [
       "FALSE"
      ],
      "text/plain": [
       "[1] FALSE"
      ]
     },
     "metadata": {},
     "output_type": "display_data"
    },
    {
     "data": {
      "text/html": [
       "FALSE"
      ],
      "text/latex": [
       "FALSE"
      ],
      "text/markdown": [
       "FALSE"
      ],
      "text/plain": [
       "[1] FALSE"
      ]
     },
     "metadata": {},
     "output_type": "display_data"
    },
    {
     "data": {
      "text/html": [
       "FALSE"
      ],
      "text/latex": [
       "FALSE"
      ],
      "text/markdown": [
       "FALSE"
      ],
      "text/plain": [
       "[1] FALSE"
      ]
     },
     "metadata": {},
     "output_type": "display_data"
    },
    {
     "data": {
      "text/html": [
       "FALSE"
      ],
      "text/latex": [
       "FALSE"
      ],
      "text/markdown": [
       "FALSE"
      ],
      "text/plain": [
       "[1] FALSE"
      ]
     },
     "metadata": {},
     "output_type": "display_data"
    },
    {
     "data": {
      "text/html": [
       "FALSE"
      ],
      "text/latex": [
       "FALSE"
      ],
      "text/markdown": [
       "FALSE"
      ],
      "text/plain": [
       "[1] FALSE"
      ]
     },
     "metadata": {},
     "output_type": "display_data"
    }
   ],
   "source": [
    "#### Output\n",
    "l <- list()\n",
    "l1 <- list()\n",
    "for (i in seq(3, 9)){\n",
    "    \n",
    "    t1 <- felm(formula=log(tso2_cit) ~ TCZ_c * Period * polluted_thre \n",
    "                  + output_fcit + capital_fcit + labour_fcit\n",
    "                  |\n",
    "             FE_t_c + FE_t_i + FE_c_i  | 0 |\n",
    "             industry, data= df_herfhindal_r %>% filter(decile_herfhindal_c < i),\n",
    "             exactDOF=TRUE)\n",
    "    \n",
    "    t2 <- felm(formula=log(tso2_cit) ~ TCZ_c * Period *polluted_thre * out_share_SOE\n",
    "                  + output_fcit + capital_fcit + labour_fcit\n",
    "                  |\n",
    "             FE_t_c + FE_t_i + FE_c_i  | 0 |\n",
    "             industry, data= df_herfhindal_r %>% filter(decile_herfhindal_c < i),\n",
    "             exactDOF=TRUE)\n",
    "    \n",
    "    l[[i - 2]] <- t1\n",
    "    l1[[i-2]] <- t2\n",
    "}\n",
    "\n",
    "#### Capital\n",
    "l2 <- list()\n",
    "for (i in seq(3, 9)){\n",
    "    \n",
    "    t1 <- felm(formula=log(tso2_cit) ~ TCZ_c * Period *polluted_thre * cap_share_SOE\n",
    "                  + output_fcit + capital_fcit + labour_fcit\n",
    "                  |\n",
    "             FE_t_c + FE_t_i + FE_c_i  | 0 |\n",
    "             industry, data= df_herfhindal_r %>% filter(decile_herfhindal_c < i),\n",
    "             exactDOF=TRUE)\n",
    "\n",
    "    l2[[i - 2]] <- t1\n",
    "}\n",
    "\n",
    "#### Employment\n",
    "l3 <- list()\n",
    "for (i in seq(3, 9)){\n",
    "    \n",
    "    t1 <- felm(formula=log(tso2_cit) ~ TCZ_c * Period *polluted_thre * lab_share_SOE\n",
    "                  + output_fcit + capital_fcit + labour_fcit\n",
    "                  |\n",
    "             FE_t_c + FE_t_i + FE_c_i  | 0 |\n",
    "             industry, data= df_herfhindal_r %>% filter(decile_herfhindal_c < i),\n",
    "             exactDOF=TRUE)\n",
    "    \n",
    "    l3[[i - 2]] <- t1\n",
    "}\n",
    "\n",
    "file.remove(\"table_1.txt\")\n",
    "file.remove(\"table_1.tex\")\n",
    "file.remove(\"table_2.txt\")\n",
    "file.remove(\"table_2.tex\")\n",
    "file.remove(\"table_3.txt\")\n",
    "file.remove(\"table_3.tex\")\n",
    "file.remove(\"table_4.txt\")\n",
    "file.remove(\"table_4.tex\")\n",
    "\n",
    "fe1 <- list(\n",
    "    c(\"City fixed effects\", \"Yes\", \"Yes\", \"Yes\", \"Yes\", \"Yes\", \"Yes\", \"Yes\", \"Yes\", \"Yes\", \"Yes\"),\n",
    "             c(\"Industry fixed effects\", \"Yes\", \"Yes\", \"Yes\", \"Yes\", \"Yes\", \"Yes\", \"Yes\", \"Yes\", \"Yes\", \"Yes\"),\n",
    "             c(\"Year fixed effects\",\"Yes\", \"Yes\", \"Yes\", \"Yes\", \"Yes\", \"Yes\", \"Yes\", \"Yes\", \"Yes\", \"Yes\")\n",
    "             )\n",
    "\n",
    "table_1 <- go_latex(l,\n",
    "    dep_var = \"Dependent variable: \\\\text { SO2 emission }_{i k t}\",\n",
    "    title='Deciles output: Size',\n",
    "    addFE=fe1,\n",
    "    save=TRUE,\n",
    "                    note = FALSE,\n",
    "    name=\"table_1.txt\"\n",
    ")\n",
    "\n",
    "table_1 <- go_latex(l1,\n",
    "    dep_var = \"Dependent variable: \\\\text { SO2 emission }_{i k t}\",\n",
    "    title='Deciles output: Size',\n",
    "    addFE=fe1,\n",
    "    save=TRUE,\n",
    "                    note = FALSE,\n",
    "    name=\"table_2.txt\"\n",
    ")\n",
    "\n",
    "table_1 <- go_latex(l2,\n",
    "    dep_var = \"Dependent variable: \\\\text { SO2 emission }_{i k t}\",\n",
    "    title='Deciles Capital: Size',\n",
    "    addFE=fe1,\n",
    "    save=TRUE,\n",
    "                    note = FALSE,\n",
    "    name=\"table_3.txt\"\n",
    ")\n",
    "table_1 <- go_latex(l3,\n",
    "    dep_var = \"Dependent variable: \\\\text { SO2 emission }_{i k t}\",\n",
    "    title='Deciles Employement: Size',\n",
    "    addFE=fe1,\n",
    "    save=TRUE,\n",
    "                    note = FALSE,\n",
    "    name=\"table_4.txt\"\n",
    ")"
   ]
  },
  {
   "cell_type": "code",
   "execution_count": 28,
   "metadata": {
    "kernel": "Python 3"
   },
   "outputs": [
    {
     "data": {
      "image/png": "[encoded data removed]",
      "text/plain": [
       "<wand.image.Image: 9dd4a28 'PDF' (955x472)>"
      ]
     },
     "execution_count": 28,
     "metadata": {},
     "output_type": "execute_result"
    }
   ],
   "source": [
    "import os\n",
    "decile=['& decile .3', 'decile .4',\n",
    "        'decile .5','decile .6', ' decile .7', \n",
    "       'decile .8','decile .9']\n",
    "\n",
    "tb = \"\"\"\\\\footnotesize{\n",
    "Due to limited space, only the coefficients of interest are presented \n",
    "for the regressions with city,industry, year fixed effect (i.e. columns 1-3).\n",
    "\\sym{*} Significance at the 10\\%, \\sym{**} Significance at the 5\\%, \\sym{***} Significance at the 1\\% \\\\\n",
    "heteroscedasticity-robust standard errors in parentheses are clustered by city \n",
    "}\n",
    "\"\"\"\n",
    "lb.beautify(table_number = 1,\n",
    "            remove_control= True,\n",
    "            constraint = False,\n",
    "            city_industry = False, \n",
    "            new_row = decile,\n",
    "            table_nte =tb,\n",
    "           jupyter_preview = True,\n",
    "           resolution = 200)"
   ]
  },
  {
   "cell_type": "code",
   "execution_count": 29,
   "metadata": {
    "kernel": "Python 3"
   },
   "outputs": [
    {
     "data": {
      "image/png": "[encoded data removed]",
      "text/plain": [
       "<wand.image.Image: fea3bd4 'PDF' (955x485)>"
      ]
     },
     "execution_count": 29,
     "metadata": {},
     "output_type": "execute_result"
    }
   ],
   "source": [
    "lb.beautify(table_number = 2,\n",
    "            remove_control= True,\n",
    "            constraint = False,\n",
    "            city_industry = False, \n",
    "            new_row = decile,\n",
    "            table_nte =tb,\n",
    "           jupyter_preview = True, \n",
    "           resolution = 200)"
   ]
  },
  {
   "cell_type": "code",
   "execution_count": 30,
   "metadata": {
    "kernel": "Python 3"
   },
   "outputs": [
    {
     "data": {
      "image/png": "[encoded data removed]",
      "text/plain": [
       "<wand.image.Image: a2fc76d 'PDF' (955x485)>"
      ]
     },
     "execution_count": 30,
     "metadata": {},
     "output_type": "execute_result"
    }
   ],
   "source": [
    "lb.beautify(table_number = 3,\n",
    "            remove_control= True,\n",
    "            constraint = False,\n",
    "            city_industry = False, \n",
    "            new_row = decile,\n",
    "            table_nte =tb,\n",
    "           jupyter_preview = True, \n",
    "           resolution = 200)"
   ]
  },
  {
   "cell_type": "code",
   "execution_count": 31,
   "metadata": {
    "kernel": "Python 3"
   },
   "outputs": [
    {
     "data": {
      "image/png": "[encoded data removed]",
      "text/plain": [
       "<wand.image.Image: 51da99a 'PDF' (955x479)>"
      ]
     },
     "execution_count": 31,
     "metadata": {},
     "output_type": "execute_result"
    }
   ],
   "source": [
    "lb.beautify(table_number = 4,\n",
    "            remove_control= True,\n",
    "            constraint = False,\n",
    "            city_industry = False, \n",
    "            new_row = decile,\n",
    "            table_nte =tb,\n",
    "           jupyter_preview = True, \n",
    "           resolution = 200)"
   ]
  },
  {
   "cell_type": "markdown",
   "metadata": {
    "kernel": "python3"
   },
   "source": [
    "#### Foreign: Not applicable\n",
    "\n",
    "Not enough observation, or say differently, no sectors are dominated by Foreign firms solenly"
   ]
  },
  {
   "cell_type": "markdown",
   "metadata": {
    "kernel": "python3"
   },
   "source": [
    "#### SOE\n",
    "\n",
    "Reminder, in the table below, we include sectors solenly dominated by SOE -> Share output/cap/emp of SOE stricly superior with Private"
   ]
  },
  {
   "cell_type": "code",
   "execution_count": 32,
   "metadata": {
    "kernel": "R"
   },
   "outputs": [
    {
     "data": {
      "text/html": [
       "FALSE"
      ],
      "text/latex": [
       "FALSE"
      ],
      "text/markdown": [
       "FALSE"
      ],
      "text/plain": [
       "[1] FALSE"
      ]
     },
     "metadata": {},
     "output_type": "display_data"
    },
    {
     "data": {
      "text/html": [
       "FALSE"
      ],
      "text/latex": [
       "FALSE"
      ],
      "text/markdown": [
       "FALSE"
      ],
      "text/plain": [
       "[1] FALSE"
      ]
     },
     "metadata": {},
     "output_type": "display_data"
    },
    {
     "data": {
      "text/html": [
       "FALSE"
      ],
      "text/latex": [
       "FALSE"
      ],
      "text/markdown": [
       "FALSE"
      ],
      "text/plain": [
       "[1] FALSE"
      ]
     },
     "metadata": {},
     "output_type": "display_data"
    },
    {
     "data": {
      "text/html": [
       "FALSE"
      ],
      "text/latex": [
       "FALSE"
      ],
      "text/markdown": [
       "FALSE"
      ],
      "text/plain": [
       "[1] FALSE"
      ]
     },
     "metadata": {},
     "output_type": "display_data"
    }
   ],
   "source": [
    "##### Panel A\n",
    "## Output\n",
    "t1 <- felm(formula=log(tso2_cit) ~ TCZ_c * Period *polluted_thre \n",
    "                  + output_fcit + capital_fcit + labour_fcit\n",
    "                  |\n",
    "             FE_t_c + FE_t_i + FE_c_i  | 0 |\n",
    "             industry, data= df_final_SOE %>% filter(output =='Above'),\n",
    "             exactDOF=TRUE)\n",
    "    \n",
    "t2 <- felm(formula=log(tso2_cit) ~ TCZ_c * Period *polluted_thre * out_share_SOE\n",
    "                  + output_fcit + capital_fcit + labour_fcit\n",
    "                  |\n",
    "             FE_t_c + FE_t_i + FE_c_i  | 0 |\n",
    "             industry, data= df_final_SOE %>% filter(output =='Above'),\n",
    "             exactDOF=TRUE)\n",
    "## Capital\n",
    "t3 <- felm(formula=log(tso2_cit) ~ TCZ_c * Period *polluted_thre \n",
    "                  + output_fcit + capital_fcit + labour_fcit\n",
    "                  |\n",
    "             FE_t_c + FE_t_i + FE_c_i  | 0 |\n",
    "             industry, data= df_final_SOE %>% filter(capital =='Above'),\n",
    "             exactDOF=TRUE)\n",
    "    \n",
    "t4 <- felm(formula=log(tso2_cit) ~ TCZ_c * Period *polluted_thre * cap_share_SOE\n",
    "                  + output_fcit + capital_fcit + labour_fcit\n",
    "                  |\n",
    "             FE_t_c + FE_t_i + FE_c_i  | 0 |\n",
    "             industry, data= df_final_SOE %>% filter(capital =='Above'),\n",
    "             exactDOF=TRUE)\n",
    "\n",
    "## Employment\n",
    "t5 <- felm(formula=log(tso2_cit) ~ TCZ_c * Period *polluted_thre \n",
    "                  + output_fcit + capital_fcit + labour_fcit\n",
    "                  |\n",
    "             FE_t_c + FE_t_i + FE_c_i  | 0 |\n",
    "             industry, data= df_final_SOE %>% filter(employment =='Above'),\n",
    "             exactDOF=TRUE)\n",
    "    \n",
    "t6 <- felm(formula=log(tso2_cit) ~ TCZ_c * Period *polluted_thre * lab_share_SOE\n",
    "                  + output_fcit + capital_fcit + labour_fcit\n",
    "                  |\n",
    "             FE_t_c + FE_t_i + FE_c_i  | 0 |\n",
    "             industry, data= df_final_SOE %>% filter(employment =='Above'),\n",
    "             exactDOF=TRUE)\n",
    "la <- list(t1, t2, t3, t4, t5, t6)\n",
    "##### ##### ##### ##### ##### ##### ##### ##### ##### ##### ##### ##### ##### \n",
    "##### ##### ##### ##### ##### ##### ##### ##### ##### ##### ##### ##### ##### \n",
    "##### Panel B\n",
    "t1 <- felm(formula=log(tso2_cit) ~ TCZ_c * Period *polluted_thre \n",
    "                  + output_fcit + capital_fcit + labour_fcit\n",
    "                  |\n",
    "             FE_t_c + FE_t_i + FE_c_i  | 0 |\n",
    "             industry, data= df_final_SOE %>% filter(output =='Below'),\n",
    "             exactDOF=TRUE)\n",
    "    \n",
    "t2 <- felm(formula=log(tso2_cit) ~ TCZ_c * Period *polluted_thre * out_share_SOE\n",
    "                  + output_fcit + capital_fcit + labour_fcit\n",
    "                  |\n",
    "             FE_t_c + FE_t_i + FE_c_i  | 0 |\n",
    "             industry, data= df_final_SOE %>% filter(output =='Below'),\n",
    "             exactDOF=TRUE)\n",
    "## Capital\n",
    "t3 <- felm(formula=log(tso2_cit) ~ TCZ_c * Period *polluted_thre \n",
    "                  + output_fcit + capital_fcit + labour_fcit\n",
    "                  |\n",
    "             FE_t_c + FE_t_i + FE_c_i  | 0 |\n",
    "             industry, data= df_final_SOE %>% filter(capital =='Below'),\n",
    "             exactDOF=TRUE)\n",
    "    \n",
    "t4 <- felm(formula=log(tso2_cit) ~ TCZ_c * Period *polluted_thre * cap_share_SOE\n",
    "                  + output_fcit + capital_fcit + labour_fcit\n",
    "                  |\n",
    "             FE_t_c + FE_t_i + FE_c_i  | 0 |\n",
    "             industry, data= df_final_SOE %>% filter(capital =='Below'),\n",
    "             exactDOF=TRUE)\n",
    "\n",
    "## Employment\n",
    "t5 <- felm(formula=log(tso2_cit) ~ TCZ_c * Period *polluted_thre \n",
    "                  + output_fcit + capital_fcit + labour_fcit\n",
    "                  |\n",
    "             FE_t_c + FE_t_i + FE_c_i  | 0 |\n",
    "             industry, data= df_final_SOE %>% filter(employment =='Below'),\n",
    "             exactDOF=TRUE)\n",
    "    \n",
    "t6 <- felm(formula=log(tso2_cit) ~ TCZ_c * Period *polluted_thre * lab_share_SOE\n",
    "                  + output_fcit + capital_fcit + labour_fcit\n",
    "                  |\n",
    "             FE_t_c + FE_t_i + FE_c_i  | 0 |\n",
    "             industry, data= df_final_SOE %>% filter(employment =='Below'),\n",
    "             exactDOF=TRUE)\n",
    "lb <- list(t1, t2, t3, t4, t5, t6)\n",
    "\n",
    "file.remove(\"table_5.txt\")\n",
    "file.remove(\"table_5.tex\")\n",
    "file.remove(\"table_6.txt\")\n",
    "file.remove(\"table_6.tex\")\n",
    "fe1 <- list(\n",
    "    c(\"City fixed effects\", \"Yes\", \"Yes\", \"Yes\", \"Yes\", \"Yes\", \"Yes\"),\n",
    "             c(\"Industry fixed effects\", \"Yes\", \"Yes\", \"Yes\", \"Yes\", \"Yes\", \"Yes\"),\n",
    "             c(\"Year fixed effects\", \"Yes\", \"Yes\", \"Yes\", \"Yes\", \"Yes\", \"Yes\")\n",
    "             )\n",
    "\n",
    "table_1 <- go_latex(la,\n",
    "    dep_var = \"Dependent variable: \\\\text { SO2 emission }_{i k t}\",\n",
    "    title='Panel A: SOE',\n",
    "    addFE=fe1,\n",
    "    save=TRUE,\n",
    "                    note = FALSE,\n",
    "    name=\"table_5.txt\"\n",
    ")\n",
    "table_1 <- go_latex(lb,\n",
    "    dep_var = \"Dependent variable: \\\\text { SO2 emission }_{i k t}\",\n",
    "    title='Panel B: SOE',\n",
    "    addFE=fe1,\n",
    "    save=TRUE,\n",
    "                    note = FALSE,\n",
    "    name=\"table_6.txt\"\n",
    ")"
   ]
  },
  {
   "cell_type": "code",
   "execution_count": 33,
   "metadata": {
    "kernel": "Python 3"
   },
   "outputs": [
    {
     "data": {
      "image/png": "[encoded data removed]",
      "text/plain": [
       "<wand.image.Image: 62750f1 'PDF' (955x659)>"
      ]
     },
     "execution_count": 33,
     "metadata": {},
     "output_type": "execute_result"
    }
   ],
   "source": [
    "import os\n",
    "decile=['& Output','Output',\n",
    "        'Capital', 'Capital',\n",
    "       'Employment','Employment']\n",
    "\n",
    "tb = \"\"\"\\\\footnotesize{\n",
    "Due to limited space, only the coefficients of interest are presented \n",
    "for the regressions with city,industry, year fixed effect (i.e. columns 1-3).\n",
    "\\sym{*} Significance at the 10\\%, \\sym{**} Significance at the 5\\%, \\sym{***} Significance at the 1\\% \\\\\n",
    "heteroscedasticity-robust standard errors in parentheses are clustered by city \n",
    "}\n",
    "\"\"\"\n",
    "lb.beautify(table_number = 5,\n",
    "            remove_control= True,\n",
    "            constraint = False,\n",
    "            city_industry = False, \n",
    "            new_row = decile,\n",
    "            table_nte =tb,\n",
    "            jupyter_preview = True, \n",
    "           resolution = 200)"
   ]
  },
  {
   "cell_type": "code",
   "execution_count": 34,
   "metadata": {
    "kernel": "Python 3"
   },
   "outputs": [
    {
     "data": {
      "image/png": "[encoded data removed]",
      "text/plain": [
       "<wand.image.Image: a2ef185 'PDF' (955x659)>"
      ]
     },
     "execution_count": 34,
     "metadata": {},
     "output_type": "execute_result"
    }
   ],
   "source": [
    "lb.beautify(table_number = 6,\n",
    "            remove_control= True,\n",
    "            constraint = False,\n",
    "            city_industry = False, \n",
    "            new_row = decile,\n",
    "            table_nte =tb,\n",
    "            jupyter_preview = True, \n",
    "            resolution = 200)"
   ]
  }
 ],
 "metadata": {
  "jupytext": {
   "formats": "ipynb,md"
  },
  "kernelspec": {
   "display_name": "SoS",
   "language": "sos",
   "name": "sos"
  },
  "language_info": {
   "codemirror_mode": "sos",
   "file_extension": ".sos",
   "mimetype": "text/x-sos",
   "name": "sos",
   "nbconvert_exporter": "sos_notebook.converter.SoS_Exporter",
   "pygments_lexer": "sos"
  },
  "sos": {
   "kernels": [
    [
     "Python 3",
     "python3",
     "python3",
     "",
     {
      "name": "ipython",
      "version": 3
     }
    ],
    [
     "R",
     "ir",
     "R",
     "#DCDCDA",
     "r"
    ],
    [
     "SoS",
     "sos",
     "",
     "",
     "sos"
    ]
   ],
   "version": "0.21.7"
  }
 },
 "nbformat": 4,
 "nbformat_minor": 4
}
