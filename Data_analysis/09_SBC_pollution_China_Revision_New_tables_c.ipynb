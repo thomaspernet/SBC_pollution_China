{
 "cells": [
  {
   "cell_type": "markdown",
   "metadata": {
    "kernel": "SoS"
   },
   "source": [
    "# New Tables\n",
    "\n",
    "* Faire les tableaux suivants:\n",
    "  * Tableau 4: Kuznet: benchmark → Revision\n",
    "      * Trouver un tableau avec les déciles pour montrer:\n",
    "        * turning point croissant pour des villes avec une dominance étatique de plus en plus large\n",
    "      * Regarder si gdp/cap prix constant\n",
    "      * Indiquer les turning points dans les tableaux\n",
    "* Partie 6:\n",
    "  * Tableau 8: \n",
    "    * estimer 2 modèles sur des échantillons differents\n",
    "      * modèle 1 →  TCZ * Polluted * Period\n",
    "      * modèle 2 → Target * polluted*Period  \n",
    "    * Echantillonnage → prendre soit industry soit city industry\n",
    "      * Big\n",
    "        * Via Herfhindal \n",
    "          * benchmark →Revision\n",
    "      * Foreign \n",
    "        * via output/capital/employment \n",
    "      * SOEs\n",
    "        * via output/capital/employment \n",
    "      * SPZ\n",
    "      * Coastal\n",
    "    * Chaque tableau avec Panel A pour supérieur threshold, Panel B pour inférieur threshold\n",
    "  * Tableau 9:\n",
    "    * Enlever SPZ & Coastal\n",
    "    * estimer 2 modèles sur des échantillons differents\n",
    "      * modèle 1 →  TCZ * Polluted * Period\n",
    "      * modèle 2 → Target * polluted*Period  \n",
    "    * Idem tableau 8"
   ]
  },
  {
   "cell_type": "code",
   "execution_count": null,
   "metadata": {
    "kernel": "SoS"
   },
   "outputs": [],
   "source": [
    "import pandas as pd\n",
    "from Fast_connectCloud import connector\n",
    "import numpy as np"
   ]
  },
  {
   "cell_type": "code",
   "execution_count": null,
   "metadata": {
    "kernel": "python3"
   },
   "outputs": [],
   "source": [
    "import functions.latex_beautify as lb\n",
    "\n",
    "%load_ext autoreload\n",
    "%autoreload 2"
   ]
  },
  {
   "cell_type": "code",
   "execution_count": null,
   "metadata": {
    "kernel": "SoS"
   },
   "outputs": [],
   "source": [
    "gs = connector.open_connection(online_connection = False,\n",
    "                              path_credential = '/Users/thomas/Google Drive/Projects/Client_Oauth/Google_auth')\n",
    "\n",
    "service = gs.connect_remote('GCP')"
   ]
  },
  {
   "cell_type": "code",
   "execution_count": null,
   "metadata": {
    "kernel": "SoS"
   },
   "outputs": [],
   "source": [
    "%put df_final --to R\n",
    "\n",
    "from GoogleDrivePy.google_platform import connect_cloud_platform\n",
    "project = 'valid-pagoda-132423'\n",
    "gcp = connect_cloud_platform.connect_console(project = project, \n",
    "                                             service_account = service['GoogleCloudP'])    \n",
    "query = (\n",
    "          \"SELECT * \"\n",
    "            \"FROM China.SBC_pollution_China \"\n",
    "\n",
    "        )\n",
    "\n",
    "df_final = gcp.upload_data_from_bigquery(query = query, location = 'US')\n",
    "df_final.head()"
   ]
  },
  {
   "cell_type": "code",
   "execution_count": null,
   "metadata": {
    "kernel": "R"
   },
   "outputs": [],
   "source": [
    "options(warn=-1)\n",
    "library(tidyverse)\n",
    "library(lfe)\n",
    "library(lazyeval)\n",
    "library('progress')\n",
    "\n",
    "path = \"functions/SBC_pollution_R.R\"\n",
    "source(path)\n",
    "path = \"functions/SBC_pollutiuon_golatex.R\"\n",
    "source(path)"
   ]
  },
  {
   "cell_type": "code",
   "execution_count": null,
   "metadata": {
    "kernel": "R"
   },
   "outputs": [],
   "source": [
    "df_final <- df_final %>% \n",
    "    mutate_if(is.character, as.factor) %>%\n",
    "    mutate_at(vars(starts_with(\"FE\")), as.factor) %>%\n",
    "    mutate(\n",
    "         Period = relevel(Period, ref='Before'),\n",
    "         TCZ_c = relevel(TCZ_c, ref='No_TCZ'),\n",
    "         effort_c = relevel(effort_c, ref='Below'),\n",
    "         polluted_di = relevel(polluted_di, ref='Below'),\n",
    "         polluted_mi = relevel(polluted_mi, ref='Below'),\n",
    "         polluted_thre = relevel(polluted_thre, ref='Below'),\n",
    "  )\n",
    "head(df_final)"
   ]
  },
  {
   "cell_type": "markdown",
   "metadata": {
    "kernel": "R"
   },
   "source": [
    "# Partie 3"
   ]
  },
  {
   "cell_type": "markdown",
   "metadata": {
    "collapsed": "true",
    "kernel": "R"
   },
   "source": [
    "## Tableau 4: Kuznet: benchmark \n",
    "\n",
    "Output latex table available here\n",
    "\n",
    "- https://www.overleaf.com/project/5deca0097e9f3a0001506527\n",
    "    - Temp_tables_revision/06_new_tables/01_kuznet\n",
    "\n",
    "In Google Drive:\n",
    "\n",
    "![](https://drive.google.com/uc?export=view&id=)\n",
    "\n",
    "Note, we download the file `df_TCZ_list_china` from Google spreadsheet because SOS kernel has trouble loading the json file to connect to the remote."
   ]
  },
  {
   "cell_type": "code",
   "execution_count": null,
   "metadata": {
    "kernel": "python3"
   },
   "outputs": [],
   "source": [
    "from Fast_connectCloud import connector\n",
    "from GoogleDrivePy.google_drive import connect_drive\n",
    "import pandas as pd\n",
    "\n",
    "gs = connector.open_connection(online_connection = False, \n",
    "\tpath_credential = '/Users/thomas/Google Drive/Projects/Client_Oauth/Google_auth/')\n",
    "\n",
    "service_gd = gs.connect_remote(engine = 'GS')\n",
    "\n",
    "gdr = connect_drive.connect_drive(service_gd['GoogleDrive'])"
   ]
  },
  {
   "cell_type": "markdown",
   "metadata": {
    "kernel": "R"
   },
   "source": [
    "### Load chinese_city_characteristics from Google Spreadsheet\n",
    "\n",
    "Feel free to add description about the dataset or any usefull information.\n",
    "\n",
    "Profiling will be available soon for this dataset"
   ]
  },
  {
   "cell_type": "code",
   "execution_count": null,
   "metadata": {
    "kernel": "python3"
   },
   "outputs": [],
   "source": [
    "# Please go here https://docs.google.com/spreadsheets/d/1-x9DCX4cun6Ed9iH5MiI4g21fXm7seRHHz7WXGiVKVU\n",
    "# To change the range\n",
    "\n",
    "sheetid = \"1-x9DCX4cun6Ed9iH5MiI4g21fXm7seRHHz7WXGiVKVU\"\n",
    "sheetname = \"chinese_city_characteristics\"\n",
    "\n",
    "df_chinese_city_characteristics = (gdr.upload_data_from_spreadsheet(\n",
    "    sheetID=sheetid, sheetName=sheetname, to_dataframe=True\n",
    ").loc[\n",
    "    lambda x: x[\"year\"].isin(\n",
    "        [\"2001\", \"2002\", \"2003\", \"2004\", \"2005\", \"2006\"])\n",
    "][\n",
    "    [\"cityen\", \"geocode4_corr\", \"year\", \"gdp\", \"population\"]\n",
    "].rename(columns={'year': 'year_lagged'})\n",
    "    .apply(pd.to_numeric, errors='ignore')\n",
    "    .assign(year=lambda x:\n",
    "            x['year_lagged'] + 1,\n",
    "            gdp_cap=lambda x: x['gdp'] / x['population']\n",
    "            )\n",
    ").to_csv('df_chinese_city_characteristics.csv', index = False)"
   ]
  },
  {
   "cell_type": "code",
   "execution_count": null,
   "metadata": {
    "kernel": "R"
   },
   "outputs": [],
   "source": [
    "df_chinese_city_characteristics = read_csv('df_chinese_city_characteristics.csv') %>% \n",
    "select(-cityen) %>%\n",
    "left_join(df_final, by = c('year', 'geocode4_corr')) %>%\n",
    "mutate(\n",
    "    ln_gdp_cap= log(gdp_cap),\n",
    "    ln_gdp_cap_sqred = ln_gdp_cap * ln_gdp_cap,\n",
    "    ln_pop = log(population)\n",
    ")"
   ]
  },
  {
   "cell_type": "code",
   "execution_count": null,
   "metadata": {
    "kernel": "R"
   },
   "outputs": [],
   "source": [
    "### Low FE\n",
    "t0 <- felm(formula=log(tso2_cit) ~ \n",
    "           TCZ_c * Period *polluted_thre * out_share_SOE\n",
    "          + ln_gdp_cap\n",
    "          + ln_gdp_cap_sqred\n",
    "          + ln_pop\n",
    "          + output_fcit + capital_fcit + labour_fcit\n",
    "                  |\n",
    "             cityen +  year + industry | 0 |\n",
    "             industry, data= df_chinese_city_characteristics,\n",
    "             exactDOF=TRUE)\n",
    "\n",
    "t1 <- felm(formula=log(tso2_cit) ~ TCZ_c * Period *polluted_thre * cap_share_SOE\n",
    "           + ln_gdp_cap\n",
    "           + ln_gdp_cap_sqred\n",
    "           + ln_pop\n",
    "           + output_fcit + capital_fcit + labour_fcit\n",
    "                  |\n",
    "             cityen +  year + industry | 0 |\n",
    "             industry, data= df_chinese_city_characteristics,\n",
    "             exactDOF=TRUE)\n",
    "\n",
    "t2 <- felm(formula=log(tso2_cit) ~ TCZ_c * Period *polluted_thre * lab_share_SOE\n",
    "          + ln_gdp_cap\n",
    "           + ln_gdp_cap_sqred\n",
    "           + ln_pop\n",
    "           + output_fcit + capital_fcit + labour_fcit\n",
    "                  |\n",
    "             cityen +  year + industry | 0 |\n",
    "             industry, data= df_chinese_city_characteristics,\n",
    "             exactDOF=TRUE)"
   ]
  },
  {
   "cell_type": "code",
   "execution_count": null,
   "metadata": {
    "kernel": "python3"
   },
   "outputs": [],
   "source": [
    "import os\n",
    "decile=['& Output','Capital', 'Labour'#,\n",
    "        #'Output','Capital', 'Labour'\n",
    "       ]\n",
    "try:\n",
    "    os.remove(\"table_1.txt\")\n",
    "except:\n",
    "    pass\n",
    "try:\n",
    "    os.remove(\"table_1.tex\")\n",
    "except:\n",
    "    pass"
   ]
  },
  {
   "cell_type": "code",
   "execution_count": null,
   "metadata": {
    "kernel": "R"
   },
   "outputs": [],
   "source": [
    "test <- list(t0, t1, t2)\n",
    "turning = c()\n",
    "turning_dol = c()\n",
    "for (c in test){\n",
    "   turning <- append(turning, round(exp(abs(c$beta[5] / (2 * c$beta[6]))), 0))\n",
    "    turning_dol <- append(turning_dol, round(exp(abs(c$beta[5] / (2 * c$beta[6])))/8.07,0))\n",
    "}\n",
    "\n",
    "fe1 <- list(\n",
    "    c('turning point RMB', turning),\n",
    "    c('turning point Dollar', turning_dol),\n",
    "    c(\"City fixed effects\", \"Yes\", \"Yes\", \"Yes\"),\n",
    "    c(\"Industry fixed effects\", \"Yes\", \"Yes\", \"Yes\"),\n",
    "    c(\"Yes fixed effects\",\"Yes\", \"Yes\", \"Yes\", \"No\")\n",
    ")\n",
    "\n",
    "table_1 <- go_latex(\n",
    "    test,\n",
    "    dep_var = \"Dependent variable: \\\\text { SO2 emission }_{i k t}\",\n",
    "    title=\"Kuznet Curve hypothesis\",\n",
    "    addFE=fe1,\n",
    "    save=TRUE,\n",
    "                    note = FALSE,\n",
    "    name=\"table_1.txt\"\n",
    ")"
   ]
  },
  {
   "cell_type": "code",
   "execution_count": null,
   "metadata": {
    "kernel": "python3"
   },
   "outputs": [],
   "source": [
    "tb = \"\"\"\\\\footnotesize{\n",
    "Due to limited space, only the coefficients of interest are presented \n",
    "for the regressions with city,industry, year fixed effect (i.e. columns 1-3).\n",
    "\\sym{*} Significance at the 10\\%, \\sym{**} Significance at the 5\\%, \\sym{***} Significance at the 1\\% \\\\\n",
    "heteroscedasticity-robust standard errors in parentheses are clustered by city \n",
    "}\n",
    "\"\"\"\n",
    "lb.beautify(table_number = 1,\n",
    "            remove_control= True,\n",
    "            constraint = True,\n",
    "            city_industry = False, \n",
    "            new_row = decile,\n",
    "            table_nte =tb)\n",
    "\n",
    "#try:\n",
    "#    os.remove(\"df_TCZ_list_china.csv\")\n",
    "#except:\n",
    "#    pass"
   ]
  },
  {
   "cell_type": "markdown",
   "metadata": {
    "kernel": "python3"
   },
   "source": [
    "# Partie 6"
   ]
  },
  {
   "cell_type": "markdown",
   "metadata": {
    "kernel": "python3"
   },
   "source": [
    "## Tableau 8 A and B \n",
    "\n",
    "Estimate the following models using different subsamples:\n",
    "\n",
    "### Model A \n",
    "\n",
    "$$\n",
    "Log SO2 emission _{i k t}=\\alpha\\left(\\text { Period } \\times \\text { TCZ }_{i} \\times \\text { Polluting sectors }_{k}\\right)+\\nu_{i k}+\\lambda_{i t}+\\phi_{k t}+\\epsilon_{i k t}\n",
    "$$\n",
    "\n",
    "### Model B\n",
    "\n",
    "$$\n",
    "Log SO2 emission _{i k t}=\\alpha\\left(\\text { Period } \\times \\text { Target }_{i} \\times \\text { Polluting sectors }_{k}\\right)+\\nu_{i k}+\\lambda_{i t}+\\phi_{k t}+\\epsilon_{i k t}\n",
    "$$\n",
    "\n",
    "* Size\n",
    "    * Via Herfhindal \n",
    "        * benchmark →Revision\n",
    "* Foreign \n",
    "    * via output/capital/employment \n",
    "* SOEs\n",
    "    * via output/capital/employment \n",
    "* SPZ\n",
    "* Coastal"
   ]
  },
  {
   "cell_type": "markdown",
   "metadata": {
    "kernel": "python3"
   },
   "source": [
    "## Load Data"
   ]
  },
  {
   "cell_type": "markdown",
   "metadata": {
    "kernel": "python3"
   },
   "source": [
    "### Compute Herfhindal: proxy Size\n",
    "\n",
    "$$\n",
    "H=\\sum_{i=1}^{N} s_{ci}^{2}\n",
    "$$\n",
    "\n",
    "where $s_i$ is the market share of firm $i$ in the market, and $N$ is the number of firms. \n",
    "\n",
    "We proceed as follow:\n",
    "- Step 1: Compute the share [output, capital, employment] by firm-industry: `market_share_fit`\n",
    "- Step 2: compute the sum of squared market share by industry: `Herfindahl_it`\n",
    "- Step 3: Compute the average across time: `Herfindahl_i`\n",
    "- Step 4: Compute the deciles of step 3: `decile_herfhindal_i`\n",
    "    - Low decile implies a low concentration within sectors\n",
    "    - High decile implies a high concentration within sectors"
   ]
  },
  {
   "cell_type": "code",
   "execution_count": null,
   "metadata": {
    "kernel": "SoS"
   },
   "outputs": [],
   "source": [
    "query = \"\"\"\n",
    "WITH sum_cit AS (\n",
    "  SELECT geocode4_corr, cic, sum(output) as sum_o_cit, year\n",
    "  FROM China.asif_firm_china \n",
    "  WHERE year >= 2002 AND year <= 2005\n",
    "  GROUP BY geocode4_corr, cic, year\n",
    ") \n",
    "SELECT * \n",
    "FROM \n",
    "  (WITH sum_ct AS (\n",
    "    SELECT geocode4_corr, SUM(sum_o_cit) as sum_o_ct, year\n",
    "    FROM sum_cit\n",
    "    WHERE year >= 2002 AND year <= 2005\n",
    "    GROUP BY year, geocode4_corr\n",
    ")\n",
    "SELECT *\n",
    "FROM\n",
    "  (WITH ms_cit AS (\n",
    "    SELECT  sum_cit.cic, sum_cit.geocode4_corr, sum_cit.year,\n",
    "    sum_cit.sum_o_cit/NULLIF(sum_ct.sum_o_ct, 0) as market_share_cit\n",
    "    FROM sum_cit\n",
    "    LEFT JOIN sum_ct\n",
    "ON (\n",
    "sum_cit.year = sum_ct.year AND \n",
    "sum_cit.geocode4_corr = sum_ct.geocode4_corr\n",
    ")\n",
    ")\n",
    "SELECT *\n",
    "FROM\n",
    "  (WITH agg_1 AS (\n",
    "SELECT geocode4_corr, SUM(POW(market_share_cit, 2)) as Herfindahl_ct,\n",
    "year\n",
    "FROM ms_cit\n",
    "GROUP BY year, geocode4_corr\n",
    "ORDER BY year, geocode4_corr \n",
    ")\n",
    "SELECT *\n",
    "FROM (\n",
    "WITH avg_H_c AS (\n",
    "SELECT geocode4_corr, AVG(Herfindahl_ct) as Herfindahl_c\n",
    "FROM agg_1\n",
    "GROUP BY geocode4_corr\n",
    ")\n",
    "SELECT geocode4_corr, Herfindahl_c ,\n",
    "NTILE(10)  OVER (ORDER BY Herfindahl_c) as\n",
    "decile_herfhindal_c\n",
    "FROM avg_H_c\n",
    "ORDER BY decile_herfhindal_c\n",
    "))))\n",
    "\"\"\"\n",
    "df_herfhindal = gcp.upload_data_from_bigquery(query = query,\n",
    "                                         location = 'US')\n",
    "df_herfhindal['decile_herfhindal_c'].value_counts()"
   ]
  },
  {
   "cell_type": "markdown",
   "metadata": {
    "kernel": "SoS"
   },
   "source": [
    "### Compute Ownership: proxy Foreign/SOE\n",
    "\n",
    "$$\\sum output_{cio}/ \\sum output_ci$$\n",
    "\n",
    "- with $i$ stands for industry\n",
    "- with $c$ stands for city\n",
    "- $o$ stands for ownership (Foreign vs Domestic or SOE vs private)\n",
    "\n"
   ]
  },
  {
   "cell_type": "markdown",
   "metadata": {
    "kernel": "SoS"
   },
   "source": [
    "#### Foreign vs domestic\n",
    "\n",
    "We proceed as follow:\n",
    "- Step 1: Compute the share [output, capital, employment] by industry, ownership (Foreign/Domestic): `Share_io`\n",
    "- Step 2: Compute the deciles of step 1 `Share_io`\n",
    "- Step 3: filter on Foreign\n",
    "    - Low decile implies sector high share of domestic firms\n",
    "    - High decile implies a high share of foreign firms"
   ]
  },
  {
   "cell_type": "code",
   "execution_count": null,
   "metadata": {
    "kernel": "SoS"
   },
   "outputs": [],
   "source": [
    "query_share_foreign = \"\"\" \n",
    "WITH sum_co AS (\n",
    "  SELECT \n",
    "    case WHEN ownership = 'Foreign' THEN 'FOREIGN' ELSE 'DOMESTIC' END AS OWNERSHIP, \n",
    "    SUM(output / 10000000) as output_co, \n",
    "    SUM(fa_net / 10000000) as fa_net_co, \n",
    "    SUM(employment / 100000) as employment_co,\n",
    "    geocode4_corr\n",
    "  FROM \n",
    "    China.asif_firm_china \n",
    "  WHERE \n",
    "    year >= 2002 \n",
    "    AND year < 2006 \n",
    "    AND output > 0 \n",
    "    AND fa_net > 0 \n",
    "    AND employment > 0 \n",
    "  GROUP BY \n",
    "    OWNERSHIP, \n",
    "    geocode4_corr\n",
    ") \n",
    "SELECT \n",
    "  * \n",
    "FROM \n",
    "  (\n",
    "    WITH sum_c AS(\n",
    "      SELECT \n",
    "        SUM(output_co) as output_c, \n",
    "        SUM(fa_net_co) as fa_net_c, \n",
    "        SUM(employment_co) as employment_c, \n",
    "        geocode4_corr AS geocode4_corr_b\n",
    "      FROM \n",
    "        sum_co \n",
    "      GROUP BY \n",
    "        geocode4_corr\n",
    "    ) \n",
    "    SELECT \n",
    "      * \n",
    "    FROM \n",
    "      (\n",
    "        WITH share_co AS(\n",
    "          SELECT \n",
    "            OWNERSHIP, \n",
    "            output_co / output_c AS share_output_co, \n",
    "            fa_net_co / fa_net_c AS share_fa_net_co, \n",
    "            employment_co / employment_c AS share_employement_co, \n",
    "            geocode4_corr\n",
    "          FROM \n",
    "            sum_co \n",
    "            LEFT JOIN sum_c ON sum_co.geocode4_corr = sum_c.geocode4_corr_b \n",
    "        ) \n",
    "        SELECT \n",
    "        * \n",
    "        FROM(\n",
    "        WITH decile_c AS (\n",
    "        SELECT \n",
    "        geocode4_corr,\n",
    "        OWNERSHIP,  \n",
    "        NTILE(10)  OVER (PARTITION BY OWNERSHIP ORDER BY share_output_co) \n",
    "          as rank_share_output_c,\n",
    "          NTILE(10)  OVER (PARTITION BY OWNERSHIP ORDER BY share_fa_net_co) \n",
    "          as rank_share_capital_c,\n",
    "          NTILE(10)  OVER (PARTITION BY OWNERSHIP ORDER BY share_employement_co) \n",
    "          as rank_share_employement_c\n",
    "        FROM share_co\n",
    "        )\n",
    "        SELECT * \n",
    "        FROM decile_c \n",
    "        WHERE OWNERSHIP = 'FOREIGN'\n",
    "        )\n",
    "        )\n",
    "        )\n",
    "\"\"\"\n",
    "df_share_foreign = gcp.upload_data_from_bigquery(query = query_share_foreign,\n",
    "                                         location = 'US')\n",
    "df_share_foreign['rank_share_output_c'].value_counts()"
   ]
  },
  {
   "cell_type": "code",
   "execution_count": null,
   "metadata": {
    "kernel": "SoS"
   },
   "outputs": [],
   "source": [
    "df_share_foreign.head()"
   ]
  },
  {
   "cell_type": "markdown",
   "metadata": {
    "kernel": "SoS"
   },
   "source": [
    "#### SOE\n",
    "\n",
    "We proceed as follow:\n",
    "- Step 1: Compute the share [output, capital, employment] by industry, ownership (SOE/Private): `Share_io`\n",
    "- Step 2: Compute the deciles of step 1 `Share_io`\n",
    "- Step 3: filter on Foreign\n",
    "    - Low decile implies sector high share of SOE firms\n",
    "    - High decile implies a high share of Private firms"
   ]
  },
  {
   "cell_type": "code",
   "execution_count": null,
   "metadata": {
    "kernel": "SoS"
   },
   "outputs": [],
   "source": [
    "query_share_soe = \"\"\" \n",
    "WITH sum_co AS (\n",
    "  SELECT \n",
    "    case WHEN ownership = 'SOE' THEN 'SOE' ELSE 'PRIVATE' END AS OWNERSHIP, \n",
    "    SUM(output / 10000000) as output_co, \n",
    "    SUM(fa_net / 10000000) as fa_net_co, \n",
    "    SUM(employment / 100000) as employment_co,\n",
    "    geocode4_corr\n",
    "  FROM \n",
    "    China.asif_firm_china \n",
    "  WHERE \n",
    "    year >= 2002 \n",
    "    AND year < 2006 \n",
    "    AND output > 0 \n",
    "    AND fa_net > 0 \n",
    "    AND employment > 0 \n",
    "  GROUP BY \n",
    "    OWNERSHIP, \n",
    "    geocode4_corr\n",
    ") \n",
    "SELECT \n",
    "  * \n",
    "FROM \n",
    "  (\n",
    "    WITH sum_c AS(\n",
    "      SELECT \n",
    "        SUM(output_co) as output_c, \n",
    "        SUM(fa_net_co) as fa_net_c, \n",
    "        SUM(employment_co) as employment_c, \n",
    "        geocode4_corr AS geocode4_corr_b\n",
    "      FROM \n",
    "        sum_co \n",
    "      GROUP BY \n",
    "        geocode4_corr\n",
    "    ) \n",
    "    SELECT \n",
    "      * \n",
    "    FROM \n",
    "      (\n",
    "        WITH share_co AS(\n",
    "          SELECT \n",
    "            OWNERSHIP, \n",
    "            output_co / output_c AS share_output_co, \n",
    "            fa_net_co / fa_net_c AS share_fa_net_co, \n",
    "            employment_co / employment_c AS share_employement_co, \n",
    "            geocode4_corr\n",
    "          FROM \n",
    "            sum_co \n",
    "            LEFT JOIN sum_c ON sum_co.geocode4_corr = sum_c.geocode4_corr_b \n",
    "        ) \n",
    "        SELECT \n",
    "        * \n",
    "        FROM(\n",
    "        WITH decile_c AS (\n",
    "        SELECT \n",
    "        geocode4_corr,\n",
    "        OWNERSHIP,  \n",
    "        NTILE(10)  OVER (PARTITION BY OWNERSHIP ORDER BY share_output_co) \n",
    "          as rank_share_output_c,\n",
    "          NTILE(10)  OVER (PARTITION BY OWNERSHIP ORDER BY share_fa_net_co) \n",
    "          as rank_share_capital_c,\n",
    "          NTILE(10)  OVER (PARTITION BY OWNERSHIP ORDER BY share_employement_co) \n",
    "          as rank_share_employement_c\n",
    "        FROM share_co\n",
    "        )\n",
    "        SELECT * \n",
    "        FROM decile_c \n",
    "        WHERE OWNERSHIP = 'SOE'\n",
    "        )\n",
    "        )\n",
    "        )\n",
    "\"\"\"\n",
    "df_share_soe = gcp.upload_data_from_bigquery(query = query_share_soe,\n",
    "                                         location = 'US')\n",
    "df_share_soe['rank_share_output_c'].value_counts()"
   ]
  },
  {
   "cell_type": "code",
   "execution_count": null,
   "metadata": {
    "kernel": "SoS"
   },
   "outputs": [],
   "source": [
    "df_share_soe.head()"
   ]
  },
  {
   "cell_type": "markdown",
   "metadata": {
    "kernel": "SoS"
   },
   "source": [
    "### Load TCZ_list_china from Google Spreadsheet\n",
    "\n",
    "Feel free to add description about the dataset or any usefull information.\n",
    "\n",
    "Profiling will be available soon for this dataset"
   ]
  },
  {
   "cell_type": "code",
   "execution_count": null,
   "metadata": {
    "kernel": "python3"
   },
   "outputs": [],
   "source": [
    "### Please go here https://docs.google.com/spreadsheets/d/15bMeS2cMfGfYJkjuY6wOMzcAUWZNRGpO03hZ8rpgv0Q\n",
    "### To change the range\n",
    "\n",
    "sheetid = '15bMeS2cMfGfYJkjuY6wOMzcAUWZNRGpO03hZ8rpgv0Q'\n",
    "sheetname = 'All_cities'\n",
    "\n",
    "df_TCZ_list_china = gdr.upload_data_from_spreadsheet(sheetID = sheetid,\n",
    "sheetName = sheetname,\n",
    "\t to_dataframe = True)\n",
    "df_TCZ_list_china.to_csv('df_TCZ_list_china.csv', index = False)"
   ]
  },
  {
   "cell_type": "code",
   "execution_count": null,
   "metadata": {
    "kernel": "R"
   },
   "outputs": [],
   "source": [
    "df_TCZ_list_china = read_csv('df_TCZ_list_china.csv') %>% \n",
    "select(-c(TCZ, Province)) %>% \n",
    "left_join(df_final)"
   ]
  },
  {
   "cell_type": "markdown",
   "metadata": {
    "kernel": "SoS"
   },
   "source": [
    "### Add to table"
   ]
  },
  {
   "cell_type": "code",
   "execution_count": null,
   "metadata": {
    "kernel": "SoS"
   },
   "outputs": [],
   "source": [
    "%put df_herfhindal_final --to R\n",
    "df_herfhindal_final = df_final.merge(df_herfhindal,\n",
    "                                     on=['geocode4_corr'],\n",
    "                                     how='left',\n",
    "                                     indicator=True\n",
    "                                     )"
   ]
  },
  {
   "cell_type": "code",
   "execution_count": null,
   "metadata": {
    "kernel": "R"
   },
   "outputs": [],
   "source": [
    "df_herfhindal_r <- df_herfhindal_final %>% \n",
    "    mutate_if(is.character, as.factor) %>%\n",
    "    mutate_at(vars(starts_with(\"FE\")), as.factor) %>%\n",
    "    mutate(\n",
    "         Period = relevel(Period, ref='Before'),\n",
    "         TCZ_c = relevel(TCZ_c, ref='No_TCZ'),\n",
    "         effort_c = relevel(effort_c, ref='Below'),\n",
    "         polluted_di = relevel(polluted_di, ref='Below'),\n",
    "         polluted_mi = relevel(polluted_mi, ref='Below'),\n",
    "         polluted_thre = relevel(polluted_thre, ref='Below'),\n",
    "  )"
   ]
  },
  {
   "cell_type": "code",
   "execution_count": null,
   "metadata": {
    "kernel": "SoS"
   },
   "outputs": [],
   "source": [
    "%put df_final_SOE --to R\n",
    "df_final_SOE = (df_final.merge(\n",
    "    df_share_soe,\n",
    "    how = 'left',\n",
    "    indicator = True\n",
    ")\n",
    "                .assign(\n",
    "                    rank_share_output_c= lambda x: \n",
    "                    x['rank_share_output_c'].fillna(0),\n",
    "                    rank_share_capital_c= lambda x: \n",
    "                    x['rank_share_output_c'].fillna(0),\n",
    "                    rank_share_employement_c= lambda x: \n",
    "                    x['rank_share_output_c'].fillna(0),\n",
    "                )\n",
    ")\n",
    "df_final_SOE['rank_share_output_c'].value_counts()"
   ]
  },
  {
   "cell_type": "code",
   "execution_count": null,
   "metadata": {
    "kernel": "R"
   },
   "outputs": [],
   "source": [
    "df_final_SOE <- df_final_SOE %>% \n",
    "    mutate_if(is.character, as.factor) %>%\n",
    "    mutate_at(vars(starts_with(\"FE\")), as.factor) %>%\n",
    "    mutate(\n",
    "         Period = relevel(Period, ref='Before'),\n",
    "         TCZ_c = relevel(TCZ_c, ref='No_TCZ'),\n",
    "         effort_c = relevel(effort_c, ref='Below'),\n",
    "         polluted_di = relevel(polluted_di, ref='Below'),\n",
    "         polluted_mi = relevel(polluted_mi, ref='Below'),\n",
    "         polluted_thre = relevel(polluted_thre, ref='Below'),\n",
    "  )"
   ]
  },
  {
   "cell_type": "code",
   "execution_count": null,
   "metadata": {
    "kernel": "SoS"
   },
   "outputs": [],
   "source": [
    "%put df_final_FOREIGN --to R\n",
    "df_final_FOREIGN = (df_final.merge(\n",
    "    df_share_foreign,\n",
    "    how = 'left',\n",
    "    on = ['geocode4_corr'],\n",
    "    indicator = True\n",
    ")\n",
    "                .assign(\n",
    "                    rank_share_output_c= lambda x: \n",
    "                    x['rank_share_output_c'].fillna(0),\n",
    "                    rank_share_capital_c= lambda x: \n",
    "                    x['rank_share_output_c'].fillna(0),\n",
    "                    rank_share_employement_c= lambda x: \n",
    "                    x['rank_share_output_c'].fillna(0),\n",
    "                )\n",
    "\n",
    ")\n",
    "df_final_FOREIGN['rank_share_output_c'].value_counts()"
   ]
  },
  {
   "cell_type": "code",
   "execution_count": null,
   "metadata": {
    "kernel": "SoS"
   },
   "outputs": [],
   "source": [
    "df_final_FOREIGN['rank_share_output_c'].isna().sum()"
   ]
  },
  {
   "cell_type": "code",
   "execution_count": null,
   "metadata": {
    "kernel": "R"
   },
   "outputs": [],
   "source": [
    "df_final_FOREIGN <- df_final_FOREIGN %>% \n",
    "    mutate_if(is.character, as.factor) %>%\n",
    "    mutate_at(vars(starts_with(\"FE\")), as.factor) %>%\n",
    "    mutate(\n",
    "         Period = relevel(Period, ref='Before'),\n",
    "         TCZ_c = relevel(TCZ_c, ref='No_TCZ'),\n",
    "         effort_c = relevel(effort_c, ref='Below'),\n",
    "         polluted_di = relevel(polluted_di, ref='Below'),\n",
    "         polluted_mi = relevel(polluted_mi, ref='Below'),\n",
    "         polluted_thre = relevel(polluted_thre, ref='Below'),\n",
    "  )"
   ]
  },
  {
   "cell_type": "markdown",
   "metadata": {
    "kernel": "SoS"
   },
   "source": [
    "## Table 8 Model A: Panel A\n",
    "\n",
    "Output latex table available here\n",
    "\n",
    "- https://www.overleaf.com/project/5deca0097e9f3a0001506527\n",
    "    - Temp_tables_revision/06_new_tables/02_table_8_model_A_panel_A\n",
    "\n",
    "In Google Drive:\n",
    "\n",
    "![](https://drive.google.com/uc?export=view&id=)\n"
   ]
  },
  {
   "cell_type": "markdown",
   "metadata": {
    "kernel": "SoS"
   },
   "source": [
    "#### Codes"
   ]
  },
  {
   "cell_type": "code",
   "execution_count": null,
   "metadata": {
    "kernel": "R"
   },
   "outputs": [],
   "source": [
    "### Big\n",
    "t1 <- felm(formula=log(tso2_cit) ~ TCZ_c * Period *polluted_thre \n",
    "                  + output_fcit + capital_fcit + labour_fcit\n",
    "                  |\n",
    "             FE_t_c + FE_t_i + FE_c_i  | 0 |\n",
    "             industry, data= df_herfhindal_r %>% filter(decile_herfhindal_c > 6),\n",
    "             exactDOF=TRUE)\n",
    "\n",
    "t2 <- felm(formula=log(tso2_cit) ~ TCZ_c * Period *polluted_thre * out_share_SOE\n",
    "                  + output_fcit + capital_fcit + labour_fcit\n",
    "                  |\n",
    "             FE_t_c + FE_t_i + FE_c_i  | 0 |\n",
    "             industry, data= df_herfhindal_r %>% filter(decile_herfhindal_c > 6),\n",
    "             exactDOF=TRUE)\n",
    "\n",
    "### Foreign\n",
    "t3 <- felm(formula=log(tso2_cit) ~ TCZ_c * Period * polluted_thre \n",
    "                  + output_fcit + capital_fcit + labour_fcit\n",
    "                  |\n",
    "             FE_t_c + FE_t_i + FE_c_i  | 0 |\n",
    "             industry, data= df_final_FOREIGN %>% filter(rank_share_output_c >6),\n",
    "             exactDOF=TRUE)\n",
    "\n",
    "t4 <- felm(formula=log(tso2_cit) ~ TCZ_c * Period * polluted_thre * out_share_SOE\n",
    "                  + output_fcit + capital_fcit + labour_fcit\n",
    "                  |\n",
    "             FE_t_c + FE_t_i + FE_c_i  | 0 |\n",
    "             industry, data= df_final_FOREIGN %>% filter(rank_share_output_c >6),\n",
    "             exactDOF=TRUE)\n",
    "\n",
    "\n",
    "### SOE\n",
    "t5 <- felm(formula=log(tso2_cit) ~ TCZ_c * Period * polluted_thre\n",
    "                  + output_fcit + capital_fcit + labour_fcit\n",
    "                  |\n",
    "             FE_t_c + FE_t_i + FE_c_i  | 0 |\n",
    "             industry, data= df_final_SOE %>% filter(rank_share_output_c >6),\n",
    "             exactDOF=TRUE)\n",
    "\n",
    "t6 <- felm(formula=log(tso2_cit) ~ TCZ_c * Period * polluted_thre* out_share_SOE\n",
    "                  + output_fcit + capital_fcit + labour_fcit\n",
    "                  |\n",
    "             FE_t_c + FE_t_i + FE_c_i  | 0 |\n",
    "             industry, data= df_final_SOE %>% filter(rank_share_output_c >6),\n",
    "             exactDOF=TRUE)\n",
    "\n",
    "### SPZ\n",
    "t7 <- felm(formula=log(tso2_cit) ~ TCZ_c * Period * polluted_thre\n",
    "                  + output_fcit + capital_fcit + labour_fcit\n",
    "                  |\n",
    "             FE_t_c + FE_t_i + FE_c_i  | 0 |\n",
    "             industry, data= df_TCZ_list_china %>% filter(SPZ == 1),\n",
    "             exactDOF=TRUE)\n",
    "\n",
    "t8 <- felm(formula=log(tso2_cit) ~ TCZ_c * Period * polluted_thre* out_share_SOE\n",
    "                  + output_fcit + capital_fcit + labour_fcit\n",
    "                  |\n",
    "             FE_t_c + FE_t_i + FE_c_i  | 0 |\n",
    "             industry, data= df_TCZ_list_china %>% filter(SPZ == 1),\n",
    "             exactDOF=TRUE)\n",
    "\n",
    "\n",
    "### Coastal\n",
    "t9 <- felm(formula=log(tso2_cit) ~ TCZ_c * Period * polluted_thre\n",
    "                  + output_fcit + capital_fcit + labour_fcit\n",
    "                  |\n",
    "             FE_t_c + FE_t_i + FE_c_i  | 0 |\n",
    "             industry, data= df_TCZ_list_china %>% filter(Coastal == TRUE),\n",
    "             exactDOF=TRUE)\n",
    "\n",
    "t10 <- felm(formula=log(tso2_cit) ~ TCZ_c * Period * polluted_thre* out_share_SOE\n",
    "                  + output_fcit + capital_fcit + labour_fcit\n",
    "                  |\n",
    "             FE_t_c + FE_t_i + FE_c_i  | 0 |\n",
    "             industry, data= df_TCZ_list_china %>% filter(Coastal == TRUE),\n",
    "             exactDOF=TRUE)\n",
    "test <- list(t1, t2, t3,t4,t5,t6,t7,t8,t9,t10\n",
    "            )\n",
    "\n",
    "file.remove(\"table_2.txt\")\n",
    "file.remove(\"table_2.tex\")\n",
    "fe1 <- list(\n",
    "    c(\"City fixed effects\", \"Yes\", \"Yes\", \"Yes\", \"Yes\", \"Yes\",\n",
    "     \"Yes\", \"Yes\", \"Yes\", \"Yes\", \"Yes\"),\n",
    "    c(\"Industry fixed effects\", \"Yes\", \"Yes\", \"Yes\", \"Yes\", \"Yes\",\n",
    "     \"Yes\", \"Yes\", \"Yes\", \"Yes\", \"Yes\"),\n",
    "    c(\"Yes fixed effects\",\"Yes\", \"Yes\", \"Yes\", \"Yes\", \"Yes\",\n",
    "     \"Yes\", \"Yes\", \"Yes\", \"Yes\", \"Yes\")\n",
    ")\n",
    "\n",
    "table_1 <- go_latex(\n",
    "    test,\n",
    "    dep_var = \"Dependent variable: \\\\text { SO2 emission }_{i k t}\",\n",
    "    title=\"Test Median industry\",\n",
    "    addFE=fe1,\n",
    "    save=TRUE,\n",
    "                    note = FALSE,\n",
    "    name=\"table_2.txt\"\n",
    ")"
   ]
  },
  {
   "cell_type": "code",
   "execution_count": null,
   "metadata": {
    "kernel": "python3"
   },
   "outputs": [],
   "source": [
    "decile=['& Size','Size', 'Foreign', 'Foreign','SOE',\n",
    "        'SOE','SPZ', 'SPZ', 'Coastal','Coastal',\n",
    "       ]\n",
    "\n",
    "tb = \"\"\"\\\\footnotesize{\n",
    "Due to limited space, only the coefficients of interest are presented \n",
    "for the regressions with city,industry, year fixed effect (i.e. columns 1-3).\n",
    "\\sym{*} Significance at the 10\\%, \\sym{**} Significance at the 5\\%, \\sym{***} Significance at the 1\\% \\\\\n",
    "heteroscedasticity-robust standard errors in parentheses are clustered by city \n",
    "}\n",
    "\"\"\"\n",
    "lb.beautify(table_number = 2,\n",
    "            remove_control= True,\n",
    "            constraint = False,\n",
    "            city_industry = False, \n",
    "            new_row = decile,\n",
    "            table_nte =tb)"
   ]
  },
  {
   "cell_type": "markdown",
   "metadata": {
    "kernel": "python3"
   },
   "source": [
    "### Test decile: Size"
   ]
  },
  {
   "cell_type": "code",
   "execution_count": null,
   "metadata": {
    "kernel": "R"
   },
   "outputs": [],
   "source": [
    "l <- list()\n",
    "l1 <- list()\n",
    "\n",
    "for (i in seq(3, 9)){\n",
    "    \n",
    "    t1 <- felm(formula=log(tso2_cit) ~ TCZ_c * Period *polluted_thre \n",
    "                  + output_fcit + capital_fcit + labour_fcit\n",
    "                  |\n",
    "             FE_t_c + FE_t_i + FE_c_i  | 0 |\n",
    "             industry, data= df_herfhindal_r %>% filter(decile_herfhindal_c > i),\n",
    "             exactDOF=TRUE)\n",
    "    \n",
    "    t2 <- felm(formula=log(tso2_cit) ~ TCZ_c * Period *polluted_thre * out_share_SOE\n",
    "                  + output_fcit + capital_fcit + labour_fcit\n",
    "                  |\n",
    "             FE_t_c + FE_t_i + FE_c_i  | 0 |\n",
    "             industry, data= df_herfhindal_r %>% filter(decile_herfhindal_c > i),\n",
    "             exactDOF=TRUE)\n",
    "    \n",
    "    l[[i - 2]] <- t1\n",
    "    l1[[i-2]] <- t2\n",
    "}\n",
    "file.remove(\"table_3.txt\")\n",
    "file.remove(\"table_3.tex\")\n",
    "file.remove(\"table_4.txt\")\n",
    "file.remove(\"table_4.tex\")\n",
    "fe1 <- list(\n",
    "    c(\"City fixed effects\", \"Yes\", \"Yes\", \"Yes\", \"Yes\", \"Yes\", \"Yes\", \"Yes\", \"Yes\", \"Yes\", \"Yes\"),\n",
    "             c(\"Industry fixed effects\", \"Yes\", \"Yes\", \"Yes\", \"Yes\", \"Yes\", \"Yes\", \"Yes\", \"Yes\", \"Yes\", \"Yes\"),\n",
    "             c(\"Year fixed effects\",\"Yes\", \"Yes\", \"Yes\", \"Yes\", \"Yes\", \"Yes\", \"Yes\", \"Yes\", \"Yes\", \"Yes\")\n",
    "             )\n",
    "\n",
    "table_1 <- go_latex(l,\n",
    "    dep_var = \"Dependent variable: \\\\text { SO2 emission }_{i k t}\",\n",
    "    title='Deciles output:Size',\n",
    "    addFE=fe1,\n",
    "    save=TRUE,\n",
    "                    note = FALSE,\n",
    "    name=\"table_3.txt\"\n",
    ")\n",
    "\n",
    "table_1 <- go_latex(l1,\n",
    "    dep_var = \"Dependent variable: \\\\text { SO2 emission }_{i k t}\",\n",
    "    title='Deciles output: Size',\n",
    "    addFE=fe1,\n",
    "    save=TRUE,\n",
    "                    note = FALSE,\n",
    "    name=\"table_4.txt\"\n",
    ")"
   ]
  },
  {
   "cell_type": "code",
   "execution_count": null,
   "metadata": {
    "kernel": "python3"
   },
   "outputs": [],
   "source": [
    "import os\n",
    "decile=['& decile .3',\n",
    "        'decile .4','decile .5', ' decile .6', \n",
    "       'decile .7','decile .8', ' decile .9']\n",
    "\n",
    "tb = \"\"\"\\\\footnotesize{\n",
    "Due to limited space, only the coefficients of interest are presented \n",
    "for the regressions with city,industry, year fixed effect (i.e. columns 1-3).\n",
    "\\sym{*} Significance at the 10\\%, \\sym{**} Significance at the 5\\%, \\sym{***} Significance at the 1\\% \\\\\n",
    "heteroscedasticity-robust standard errors in parentheses are clustered by city \n",
    "}\n",
    "\"\"\"\n",
    "lb.beautify(table_number = 3,\n",
    "            remove_control= True,\n",
    "            constraint = False,\n",
    "            city_industry = False, \n",
    "            new_row = decile,\n",
    "            table_nte =tb)\n",
    "\n",
    "lb.beautify(table_number = 4,\n",
    "            remove_control= True,\n",
    "            constraint = False,\n",
    "            city_industry = False, \n",
    "            new_row = decile,\n",
    "            table_nte =tb)"
   ]
  },
  {
   "cell_type": "markdown",
   "metadata": {
    "kernel": "python3"
   },
   "source": [
    "#### Foreign"
   ]
  },
  {
   "cell_type": "code",
   "execution_count": null,
   "metadata": {
    "kernel": "R"
   },
   "outputs": [],
   "source": [
    "l <- list()\n",
    "l1 <- list()\n",
    "\n",
    "for (i in seq(3, 9)){\n",
    "    \n",
    "    t1 <- felm(formula=log(tso2_cit) ~ TCZ_c * Period *polluted_thre \n",
    "                  + output_fcit + capital_fcit + labour_fcit\n",
    "                  |\n",
    "             FE_t_c + FE_t_i + FE_c_i  | 0 |\n",
    "             industry, data= df_final_FOREIGN %>% filter(rank_share_output_c < i),\n",
    "             exactDOF=TRUE)\n",
    "    \n",
    "    t2 <- felm(formula=log(tso2_cit) ~ TCZ_c * Period *polluted_thre * out_share_SOE\n",
    "                  + output_fcit + capital_fcit + labour_fcit\n",
    "                  |\n",
    "             FE_t_c + FE_t_i + FE_c_i  | 0 |\n",
    "             industry, data= df_final_FOREIGN %>% filter(rank_share_output_c <i),\n",
    "             exactDOF=TRUE)\n",
    "    \n",
    "    l[[i - 2]] <- t1\n",
    "    l1[[i-2]] <- t2\n",
    "}\n",
    "\n",
    "file.remove(\"table_3.txt\")\n",
    "file.remove(\"table_3.tex\")\n",
    "file.remove(\"table_4.txt\")\n",
    "file.remove(\"table_4.tex\")\n",
    "fe1 <- list(\n",
    "    c(\"City fixed effects\", \"Yes\", \"Yes\", \"Yes\", \"Yes\", \"Yes\", \"Yes\", \"Yes\", \"Yes\", \"Yes\", \"Yes\"),\n",
    "             c(\"Industry fixed effects\", \"Yes\", \"Yes\", \"Yes\", \"Yes\", \"Yes\", \"Yes\", \"Yes\", \"Yes\", \"Yes\", \"Yes\"),\n",
    "             c(\"Year fixed effects\",\"Yes\", \"Yes\", \"Yes\", \"Yes\", \"Yes\", \"Yes\", \"Yes\", \"Yes\", \"Yes\", \"Yes\")\n",
    "             )\n",
    "\n",
    "table_1 <- go_latex(l,\n",
    "    dep_var = \"Dependent variable: \\\\text { SO2 emission }_{i k t}\",\n",
    "    title='Deciles output: Foreign',\n",
    "    addFE=fe1,\n",
    "    save=TRUE,\n",
    "                    note = FALSE,\n",
    "    name=\"table_3.txt\"\n",
    ")\n",
    "\n",
    "table_1 <- go_latex(l1,\n",
    "    dep_var = \"Dependent variable: \\\\text { SO2 emission }_{i k t}\",\n",
    "    title='Deciles output: Foreign',\n",
    "    addFE=fe1,\n",
    "    save=TRUE,\n",
    "                    note = FALSE,\n",
    "    name=\"table_4.txt\"\n",
    ")"
   ]
  },
  {
   "cell_type": "code",
   "execution_count": null,
   "metadata": {
    "kernel": "python3"
   },
   "outputs": [],
   "source": [
    "import os\n",
    "decile=['& decile .3',\n",
    "        'decile .4','decile .5', ' decile .6', \n",
    "       'decile .7','decile .8', ' decile .9']\n",
    "\n",
    "tb = \"\"\"\\\\footnotesize{\n",
    "Due to limited space, only the coefficients of interest are presented \n",
    "for the regressions with city,industry, year fixed effect (i.e. columns 1-3).\n",
    "\\sym{*} Significance at the 10\\%, \\sym{**} Significance at the 5\\%, \\sym{***} Significance at the 1\\% \\\\\n",
    "heteroscedasticity-robust standard errors in parentheses are clustered by city \n",
    "}\n",
    "\"\"\"\n",
    "lb.beautify(table_number = 3,\n",
    "            remove_control= True,\n",
    "            constraint = False,\n",
    "            city_industry = False, \n",
    "            new_row = decile,\n",
    "            table_nte =tb)\n",
    "\n",
    "lb.beautify(table_number = 4,\n",
    "            remove_control= True,\n",
    "            constraint = False,\n",
    "            city_industry = False, \n",
    "            new_row = decile,\n",
    "            table_nte =tb)"
   ]
  },
  {
   "cell_type": "markdown",
   "metadata": {
    "kernel": "python3"
   },
   "source": [
    "#### SOE"
   ]
  },
  {
   "cell_type": "code",
   "execution_count": null,
   "metadata": {
    "kernel": "R"
   },
   "outputs": [],
   "source": [
    "l <- list()\n",
    "l1 <- list()\n",
    "\n",
    "for (i in seq(3, 9)){\n",
    "    \n",
    "    t1 <- felm(formula=log(tso2_cit) ~ TCZ_c * Period *polluted_thre \n",
    "                  + output_fcit + capital_fcit + labour_fcit\n",
    "                  |\n",
    "             FE_t_c + FE_t_i + FE_c_i  | 0 |\n",
    "             industry, data= df_final_SOE %>% filter(rank_share_output_c >i),\n",
    "             exactDOF=TRUE)\n",
    "    \n",
    "    t2 <- felm(formula=log(tso2_cit) ~ TCZ_c * Period *polluted_thre * out_share_SOE\n",
    "                  + output_fcit + capital_fcit + labour_fcit\n",
    "                  |\n",
    "             FE_t_c + FE_t_i + FE_c_i  | 0 |\n",
    "             industry, data= df_final_SOE %>% filter(rank_share_output_c >i),\n",
    "             exactDOF=TRUE)\n",
    "    \n",
    "    l[[i - 2]] <- t1\n",
    "    l1[[i-2]] <- t2\n",
    "}\n",
    "\n",
    "file.remove(\"table_3.txt\")\n",
    "file.remove(\"table_3.tex\")\n",
    "file.remove(\"table_4.txt\")\n",
    "file.remove(\"table_4.tex\")\n",
    "fe1 <- list(\n",
    "    c(\"City fixed effects\", \"Yes\", \"Yes\", \"Yes\", \"Yes\", \"Yes\", \"Yes\", \"Yes\", \"Yes\", \"Yes\", \"Yes\"),\n",
    "             c(\"Industry fixed effects\", \"Yes\", \"Yes\", \"Yes\", \"Yes\", \"Yes\", \"Yes\", \"Yes\", \"Yes\", \"Yes\", \"Yes\"),\n",
    "             c(\"Year fixed effects\",\"Yes\", \"Yes\", \"Yes\", \"Yes\", \"Yes\", \"Yes\", \"Yes\", \"Yes\", \"Yes\", \"Yes\")\n",
    "             )\n",
    "\n",
    "table_1 <- go_latex(l,\n",
    "    dep_var = \"Dependent variable: \\\\text { SO2 emission }_{i k t}\",\n",
    "    title='Deciles output: SOE',\n",
    "    addFE=fe1,\n",
    "    save=TRUE,\n",
    "                    note = FALSE,\n",
    "    name=\"table_3.txt\"\n",
    ")\n",
    "\n",
    "table_1 <- go_latex(l1,\n",
    "    dep_var = \"Dependent variable: \\\\text { SO2 emission }_{i k t}\",\n",
    "    title='Deciles output: SOE',\n",
    "    addFE=fe1,\n",
    "    save=TRUE,\n",
    "                    note = FALSE,\n",
    "    name=\"table_4.txt\"\n",
    ")"
   ]
  },
  {
   "cell_type": "code",
   "execution_count": null,
   "metadata": {
    "kernel": "python3"
   },
   "outputs": [],
   "source": [
    "import os\n",
    "decile=['& decile .3',\n",
    "        'decile .4','decile .5', ' decile .6', \n",
    "       'decile .7','decile .8', ' decile .9']\n",
    "\n",
    "tb = \"\"\"\\\\footnotesize{\n",
    "Due to limited space, only the coefficients of interest are presented \n",
    "for the regressions with city,industry, year fixed effect (i.e. columns 1-3).\n",
    "\\sym{*} Significance at the 10\\%, \\sym{**} Significance at the 5\\%, \\sym{***} Significance at the 1\\% \\\\\n",
    "heteroscedasticity-robust standard errors in parentheses are clustered by city \n",
    "}\n",
    "\"\"\"\n",
    "lb.beautify(table_number = 3,\n",
    "            remove_control= True,\n",
    "            constraint = False,\n",
    "            city_industry = False, \n",
    "            new_row = decile,\n",
    "            table_nte =tb)\n",
    "\n",
    "lb.beautify(table_number = 4,\n",
    "            remove_control= True,\n",
    "            constraint = False,\n",
    "            city_industry = False, \n",
    "            new_row = decile,\n",
    "            table_nte =tb)"
   ]
  },
  {
   "cell_type": "markdown",
   "metadata": {
    "kernel": "python3"
   },
   "source": [
    "## Table 8 Model A: Panel B\n",
    "\n",
    "Output latex table available here\n",
    "\n",
    "- https://www.overleaf.com/project/5deca0097e9f3a0001506527\n",
    "    - Temp_tables_revision/06_new_tables/02_table_8_model_A_panel_B\n",
    "\n",
    "In Google Drive:\n",
    "\n",
    "![](https://drive.google.com/uc?export=view&id=)"
   ]
  },
  {
   "cell_type": "code",
   "execution_count": null,
   "metadata": {
    "kernel": "R"
   },
   "outputs": [],
   "source": [
    "### Big\n",
    "t1 <- felm(formula=log(tso2_cit) ~ TCZ_c * Period *polluted_thre \n",
    "                  + output_fcit + capital_fcit + labour_fcit\n",
    "                  |\n",
    "             FE_t_c + FE_t_i + FE_c_i  | 0 |\n",
    "             industry, data= df_herfhindal_r %>% filter(decile_herfhindal_c <= 6),\n",
    "             exactDOF=TRUE)\n",
    "\n",
    "t2 <- felm(formula=log(tso2_cit) ~ TCZ_c * Period *polluted_thre * out_share_SOE\n",
    "                  + output_fcit + capital_fcit + labour_fcit\n",
    "                  |\n",
    "             FE_t_c + FE_t_i + FE_c_i  | 0 |\n",
    "             industry, data= df_herfhindal_r %>% filter(decile_herfhindal_c <= 6),\n",
    "             exactDOF=TRUE)\n",
    "\n",
    "### Foreign\n",
    "t3 <- felm(formula=log(tso2_cit) ~ TCZ_c * Period * polluted_thre \n",
    "                  + output_fcit + capital_fcit + labour_fcit\n",
    "                  |\n",
    "             FE_t_c + FE_t_i + FE_c_i  | 0 |\n",
    "             industry, data= df_final_FOREIGN %>% filter(rank_share_output_c <=6),\n",
    "             exactDOF=TRUE)\n",
    "\n",
    "t4 <- felm(formula=log(tso2_cit) ~ TCZ_c * Period * polluted_thre * out_share_SOE\n",
    "                  + output_fcit + capital_fcit + labour_fcit\n",
    "                  |\n",
    "             FE_t_c + FE_t_i + FE_c_i  | 0 |\n",
    "             industry, data= df_final_FOREIGN %>% filter(rank_share_output_c <=6),\n",
    "             exactDOF=TRUE)\n",
    "\n",
    "\n",
    "### SOE\n",
    "t5 <- felm(formula=log(tso2_cit) ~ TCZ_c * Period * polluted_thre\n",
    "                  + output_fcit + capital_fcit + labour_fcit\n",
    "                  |\n",
    "             FE_t_c + FE_t_i + FE_c_i  | 0 |\n",
    "             industry, data= df_final_SOE %>% filter(rank_share_output_c <=6),\n",
    "             exactDOF=TRUE)\n",
    "\n",
    "t6 <- felm(formula=log(tso2_cit) ~ TCZ_c * Period * polluted_thre* out_share_SOE\n",
    "                  + output_fcit + capital_fcit + labour_fcit\n",
    "                  |\n",
    "             FE_t_c + FE_t_i + FE_c_i  | 0 |\n",
    "             industry, data= df_final_SOE %>% filter(rank_share_output_c <=6),\n",
    "             exactDOF=TRUE)\n",
    "\n",
    "### SPZ\n",
    "t7 <- felm(formula=log(tso2_cit) ~ TCZ_c * Period * polluted_thre\n",
    "                  + output_fcit + capital_fcit + labour_fcit\n",
    "                  |\n",
    "             FE_t_c + FE_t_i + FE_c_i  | 0 |\n",
    "             industry, data= df_TCZ_list_china %>% filter(SPZ == 0),\n",
    "             exactDOF=TRUE)\n",
    "\n",
    "t8 <- felm(formula=log(tso2_cit) ~ TCZ_c * Period * polluted_thre* out_share_SOE\n",
    "                  + output_fcit + capital_fcit + labour_fcit\n",
    "                  |\n",
    "             FE_t_c + FE_t_i + FE_c_i  | 0 |\n",
    "             industry, data= df_TCZ_list_china %>% filter(SPZ == 0),\n",
    "             exactDOF=TRUE)\n",
    "\n",
    "\n",
    "### Coastal\n",
    "t9 <- felm(formula=log(tso2_cit) ~ TCZ_c * Period * polluted_thre\n",
    "                  + output_fcit + capital_fcit + labour_fcit\n",
    "                  |\n",
    "             FE_t_c + FE_t_i + FE_c_i  | 0 |\n",
    "             industry, data= df_TCZ_list_china %>% filter(Coastal == FALSE),\n",
    "             exactDOF=TRUE)\n",
    "\n",
    "t10 <- felm(formula=log(tso2_cit) ~ TCZ_c * Period * polluted_thre* out_share_SOE\n",
    "                  + output_fcit + capital_fcit + labour_fcit\n",
    "                  |\n",
    "             FE_t_c + FE_t_i + FE_c_i  | 0 |\n",
    "             industry, data= df_TCZ_list_china %>% filter(Coastal == FALSE),\n",
    "             exactDOF=TRUE)\n",
    "\n",
    "test <- list(t1, t2, t3,t4,t5,t6,t7,t8,t9,t10)\n",
    "\n",
    "file.remove(\"table_2.txt\")\n",
    "file.remove(\"table_2.tex\")\n",
    "fe1 <- list(\n",
    "    c(\"City fixed effects\", \"Yes\", \"Yes\", \"Yes\", \"Yes\", \"Yes\",\n",
    "     \"Yes\", \"Yes\", \"Yes\", \"Yes\", \"Yes\"),\n",
    "    c(\"Industry fixed effects\", \"Yes\", \"Yes\", \"Yes\", \"Yes\", \"Yes\",\n",
    "     \"Yes\", \"Yes\", \"Yes\", \"Yes\", \"Yes\"),\n",
    "    c(\"Yes fixed effects\",\"Yes\", \"Yes\", \"Yes\", \"Yes\", \"Yes\",\n",
    "     \"Yes\", \"Yes\", \"Yes\", \"Yes\", \"Yes\")\n",
    ")\n",
    "\n",
    "table_1 <- go_latex(\n",
    "    test,\n",
    "    dep_var = \"Dependent variable: \\\\text { SO2 emission }_{i k t}\",\n",
    "    title=\"Test Median industry\",\n",
    "    addFE=fe1,\n",
    "    save=TRUE,\n",
    "                    note = FALSE,\n",
    "    name=\"table_2.txt\"\n",
    ")"
   ]
  },
  {
   "cell_type": "code",
   "execution_count": null,
   "metadata": {
    "kernel": "python3"
   },
   "outputs": [],
   "source": [
    "tb = \"\"\"\\\\footnotesize{\n",
    "Due to limited space, only the coefficients of interest are presented \n",
    "for the regressions with city,industry, year fixed effect (i.e. columns 1-3).\n",
    "\\sym{*} Significance at the 10\\%, \\sym{**} Significance at the 5\\%, \\sym{***} Significance at the 1\\% \\\\\n",
    "heteroscedasticity-robust standard errors in parentheses are clustered by city \n",
    "}\n",
    "\"\"\"\n",
    "lb.beautify(table_number = 2,\n",
    "            remove_control= True,\n",
    "            constraint = False,\n",
    "            city_industry = False, \n",
    "            new_row = decile,\n",
    "            table_nte =tb)"
   ]
  },
  {
   "cell_type": "markdown",
   "metadata": {
    "collapsed": "true",
    "kernel": "python3"
   },
   "source": [
    "## Table 8 Model B: Panel A\n",
    "\n",
    "Output latex table available here\n",
    "\n",
    "- https://www.overleaf.com/project/5deca0097e9f3a0001506527\n",
    "    - Temp_tables_revision/06_new_tables/02_table_8_model_B_panel_A\n",
    "\n",
    "In Google Drive:\n",
    "\n",
    "![](https://drive.google.com/uc?export=view&id=)"
   ]
  },
  {
   "cell_type": "code",
   "execution_count": null,
   "metadata": {
    "kernel": "R"
   },
   "outputs": [],
   "source": [
    "### Big\n",
    "t0 <- felm(formula=log(tso2_cit) ~target_c * Period *polluted_thre * out_share_SOE\n",
    "                  + output_fcit + capital_fcit + labour_fcit\n",
    "                  |\n",
    "             FE_t_c + FE_t_i + FE_c_i  | 0 |\n",
    "             industry, data= df_herfhindal_r %>% filter(decile_herfhindal_c > 5),\n",
    "             exactDOF=TRUE)\n",
    "t1 <- felm(formula=log(tso2_cit) ~target_c * Period *polluted_thre * cap_share_SOE\n",
    "           \n",
    "                  + output_fcit + capital_fcit + labour_fcit\n",
    "                  |\n",
    "             FE_t_c + FE_t_i + FE_c_i  | 0 |\n",
    "             industry, data= df_herfhindal_r %>% filter(decile_herfhindal_c > 5),\n",
    "             exactDOF=TRUE)\n",
    "t2 <- felm(formula=log(tso2_cit) ~ target_c * Period *polluted_thre * lab_share_SOE\n",
    "                  + output_fcit + capital_fcit + labour_fcit\n",
    "                  |\n",
    "             FE_t_c + FE_t_i + FE_c_i  | 0 |\n",
    "             industry, data= df_herfhindal_r %>% filter(decile_herfhindal_c > 5),\n",
    "             exactDOF=TRUE)\n",
    "\n",
    "### Foreign\n",
    "t3 <- felm(formula=log(tso2_cit) ~ target_c * Period *polluted_thre * out_share_SOE\n",
    "                  + output_fcit + capital_fcit + labour_fcit\n",
    "                  |\n",
    "             FE_t_c + FE_t_i + FE_c_i  | 0 |\n",
    "             industry, data= df_final_FOREIGN %>% filter(foreign_output == 'Above'),\n",
    "             exactDOF=TRUE)\n",
    "t4 <- felm(formula=log(tso2_cit) ~ target_c * Period * polluted_thre\n",
    "           +target_c * Period *polluted_thre * cap_share_SOE\n",
    "                  + output_fcit + capital_fcit + labour_fcit\n",
    "                  |\n",
    "             FE_t_c + FE_t_i + FE_c_i  | 0 |\n",
    "             industry, data= df_final_FOREIGN %>% filter(foreign_capital == 'Above'),\n",
    "             exactDOF=TRUE)\n",
    "t5 <- felm(formula=log(tso2_cit) ~ target_c * Period *polluted_thre * lab_share_SOE\n",
    "                  + output_fcit + capital_fcit + labour_fcit\n",
    "                  |\n",
    "             FE_t_c + FE_t_i + FE_c_i  | 0 |\n",
    "             industry, data= df_final_FOREIGN %>% filter(foreign_employment == 'Above'),\n",
    "             exactDOF=TRUE)\n",
    "### SOE\n",
    "t6 <- felm(formula=log(tso2_cit) ~ target_c * Period *polluted_thre * out_share_SOE\n",
    "                  + output_fcit + capital_fcit + labour_fcit\n",
    "                  |\n",
    "             FE_t_c + FE_t_i + FE_c_i  | 0 |\n",
    "             industry, data= df_final_SOE %>% filter(soe_output == 'Above'),\n",
    "             exactDOF=TRUE)\n",
    "t7 <- felm(formula=log(tso2_cit) ~ target_c * Period *polluted_thre * cap_share_SOE\n",
    "                  + output_fcit + capital_fcit + labour_fcit\n",
    "                  |\n",
    "             FE_t_c + FE_t_i + FE_c_i  | 0 |\n",
    "             industry, data= df_final_SOE %>% filter(soe_capital == 'Above'),\n",
    "             exactDOF=TRUE)\n",
    "t8 <- felm(formula=log(tso2_cit) ~ target_c * Period *polluted_thre * lab_share_SOE\n",
    "                  + output_fcit + capital_fcit + labour_fcit\n",
    "                  |\n",
    "             FE_t_c + FE_t_i + FE_c_i  | 0 |\n",
    "             industry, data= df_final_SOE %>% filter(soe_employment == 'Above'),\n",
    "             exactDOF=TRUE)\n",
    "### SPZ\n",
    "t9 <- felm(formula=log(tso2_cit) ~ target_c * Period *polluted_thre * out_share_SOE\n",
    "                  + output_fcit + capital_fcit + labour_fcit\n",
    "                  |\n",
    "             FE_t_c + FE_t_i + FE_c_i  | 0 |\n",
    "             industry, data= df_TCZ_list_china %>% filter(SPZ == 1),\n",
    "             exactDOF=TRUE)\n",
    "t10 <- felm(formula=log(tso2_cit) ~target_c * Period *polluted_thre * cap_share_SOE\n",
    "                  + output_fcit + capital_fcit + labour_fcit\n",
    "                  |\n",
    "             FE_t_c + FE_t_i + FE_c_i  | 0 |\n",
    "             industry, data= df_TCZ_list_china %>% filter(SPZ == 1),\n",
    "             exactDOF=TRUE)\n",
    "t11 <- felm(formula=log(tso2_cit) ~ target_c * Period *polluted_thre * lab_share_SOE\n",
    "                  + output_fcit + capital_fcit + labour_fcit\n",
    "                  |\n",
    "             FE_t_c + FE_t_i + FE_c_i  | 0 |\n",
    "             industry, data= df_TCZ_list_china %>% filter(SPZ == 1),\n",
    "             exactDOF=TRUE)\n",
    "\n",
    "### Coastal\n",
    "t12 <- felm(formula=log(tso2_cit) ~ target_c * Period *polluted_thre * out_share_SOE\n",
    "                  + output_fcit + capital_fcit + labour_fcit\n",
    "                  |\n",
    "             FE_t_c + FE_t_i + FE_c_i  | 0 |\n",
    "             industry, data= df_TCZ_list_china %>% filter(Coastal == TRUE),\n",
    "             exactDOF=TRUE)\n",
    "t13 <- felm(formula=log(tso2_cit) ~ target_c * Period *polluted_thre * cap_share_SOE\n",
    "                  + output_fcit + capital_fcit + labour_fcit\n",
    "                  |\n",
    "             FE_t_c + FE_t_i + FE_c_i  | 0 |\n",
    "             industry, data= df_TCZ_list_china %>% filter(Coastal == TRUE),\n",
    "             exactDOF=TRUE)\n",
    "t14 <- felm(formula=log(tso2_cit) ~ target_c * Period *polluted_thre * lab_share_SOE\n",
    "                  + output_fcit + capital_fcit + labour_fcit\n",
    "                  |\n",
    "             FE_t_c + FE_t_i + FE_c_i  | 0 |\n",
    "             industry, data= df_TCZ_list_china %>% filter(Coastal == TRUE),\n",
    "             exactDOF=TRUE)"
   ]
  },
  {
   "cell_type": "code",
   "execution_count": null,
   "metadata": {
    "kernel": "R"
   },
   "outputs": [],
   "source": [
    "test <- list(t0, t1, t2, t3,t4, t5, t6, t7, t8, t9, t10, t11, t12, t13, t14)"
   ]
  },
  {
   "cell_type": "code",
   "execution_count": null,
   "metadata": {
    "kernel": "python3"
   },
   "outputs": [],
   "source": [
    "import os\n",
    "decile=['& Output','Capital', 'Labour',\n",
    "        'Output','Capital', 'Labour',\n",
    "        'Output','Capital', 'Labour',\n",
    "        'Output','Capital', 'Labour',\n",
    "        'Output','Capital', 'Labour'\n",
    "       ]\n",
    "try:\n",
    "    os.remove(\"table_4.txt\")\n",
    "except:\n",
    "    pass\n",
    "try:\n",
    "    os.remove(\"table_4.tex\")\n",
    "except:\n",
    "    pass"
   ]
  },
  {
   "cell_type": "code",
   "execution_count": null,
   "metadata": {
    "kernel": "R"
   },
   "outputs": [],
   "source": [
    "fe1 <- list(\n",
    "    c(\"City fixed effects\", \"Yes\", \"Yes\", \"Yes\", \"Yes\", \"Yes\", \"Yes\", \"Yes\",\n",
    "      \"Yes\", \"Yes\", \"Yes\", \"Yes\", \"Yes\", \"Yes\", \"Yes\", \"Yes\"),\n",
    "    c(\"Industry fixed effects\", \"Yes\", \"Yes\", \"Yes\", \"Yes\", \"Yes\", \"Yes\", \"Yes\",\n",
    "      \"Yes\", \"Yes\", \"Yes\", \"Yes\", \"Yes\", \"Yes\", \"Yes\", \"Yes\"),\n",
    "    c(\"Yes fixed effects\",\"Yes\", \"Yes\", \"Yes\", \"Yes\", \"Yes\", \"Yes\", \"Yes\",\n",
    "      \"Yes\", \"Yes\", \"Yes\", \"Yes\", \"Yes\", \"Yes\", \"Yes\", \"Yes\")\n",
    ")\n",
    "\n",
    "table_1 <- go_latex(\n",
    "    test,\n",
    "    dep_var = \"Dependent variable: \\\\text { SO2 emission }_{i k t}\",\n",
    "    title=\"Test Median city\",\n",
    "    addFE=fe1,\n",
    "    save=TRUE,\n",
    "                    note = FALSE,\n",
    "    name=\"table_4.txt\"\n",
    ")"
   ]
  },
  {
   "cell_type": "code",
   "execution_count": null,
   "metadata": {
    "kernel": "python3"
   },
   "outputs": [],
   "source": [
    "tb = \"\"\"\\\\footnotesize{\n",
    "Due to limited space, only the coefficients of interest are presented \n",
    "for the regressions with city,industry, year fixed effect (i.e. columns 1-3).\n",
    "\\sym{*} Significance at the 10\\%, \\sym{**} Significance at the 5\\%, \\sym{***} Significance at the 1\\% \\\\\n",
    "heteroscedasticity-robust standard errors in parentheses are clustered by city \n",
    "}\n",
    "\"\"\"\n",
    "lb.beautify(table_number = 4,\n",
    "            remove_control= True,\n",
    "            constraint = True,\n",
    "            city_industry = False, \n",
    "            new_row = decile,\n",
    "            table_nte =tb)"
   ]
  },
  {
   "cell_type": "markdown",
   "metadata": {
    "collapsed": "true",
    "kernel": "R"
   },
   "source": [
    "## Table 8 Model B: Panel B\n",
    "\n",
    "Output latex table available here\n",
    "\n",
    "- https://www.overleaf.com/project/5deca0097e9f3a0001506527\n",
    "    - Temp_tables_revision/06_new_tables/02_table_8_model_B_panel_B\n",
    "\n",
    "In Google Drive:\n",
    "\n",
    "![](https://drive.google.com/uc?export=view&id=)"
   ]
  },
  {
   "cell_type": "code",
   "execution_count": null,
   "metadata": {
    "kernel": "R"
   },
   "outputs": [],
   "source": [
    "### Big\n",
    "t0 <- felm(formula=log(tso2_cit) ~ target_c * Period *polluted_thre * out_share_SOE\n",
    "                  + output_fcit + capital_fcit + labour_fcit\n",
    "                  |\n",
    "             FE_t_c + FE_t_i + FE_c_i  | 0 |\n",
    "             industry, data= df_herfhindal_r %>% filter(decile_herfhindal_c <= 5),\n",
    "             exactDOF=TRUE)\n",
    "t1 <- felm(formula=log(tso2_cit) ~ target_c * Period *polluted_thre * cap_share_SOE\n",
    "                  + output_fcit + capital_fcit + labour_fcit\n",
    "                  |\n",
    "             FE_t_c + FE_t_i + FE_c_i  | 0 |\n",
    "             industry, data= df_herfhindal_r %>% filter(decile_herfhindal_c <= 5),\n",
    "             exactDOF=TRUE)\n",
    "t2 <- felm(formula=log(tso2_cit) ~ target_c * Period *polluted_thre * lab_share_SOE\n",
    "                  + output_fcit + capital_fcit + labour_fcit\n",
    "                  |\n",
    "             FE_t_c + FE_t_i + FE_c_i  | 0 |\n",
    "             industry, data= df_herfhindal_r %>% filter(decile_herfhindal_c <= 5),\n",
    "             exactDOF=TRUE)\n",
    "\n",
    "### Foreign\n",
    "t3 <- felm(formula=log(tso2_cit) ~ target_c * Period *polluted_thre * out_share_SOE\n",
    "                  + output_fcit + capital_fcit + labour_fcit\n",
    "                  |\n",
    "             FE_t_c + FE_t_i + FE_c_i  | 0 |\n",
    "             industry, data= df_final_FOREIGN %>% filter(foreign_output == 'Below'),\n",
    "             exactDOF=TRUE)\n",
    "t4 <- felm(formula=log(tso2_cit) ~target_c * Period *polluted_thre * cap_share_SOE\n",
    "                  + output_fcit + capital_fcit + labour_fcit\n",
    "                  |\n",
    "             FE_t_c + FE_t_i + FE_c_i  | 0 |\n",
    "             industry, data= df_final_FOREIGN %>% filter(foreign_capital == 'Below'),\n",
    "             exactDOF=TRUE)\n",
    "t5 <- felm(formula=log(tso2_cit) ~ target_c * Period *polluted_thre * lab_share_SOE\n",
    "                  + output_fcit + capital_fcit + labour_fcit\n",
    "                  |\n",
    "             FE_t_c + FE_t_i + FE_c_i  | 0 |\n",
    "             industry, data= df_final_FOREIGN %>% filter(foreign_employment == 'Below'),\n",
    "             exactDOF=TRUE)\n",
    "### SOE\n",
    "t6 <- felm(formula=log(tso2_cit) ~ target_c * Period *polluted_thre * out_share_SOE\n",
    "                  + output_fcit + capital_fcit + labour_fcit\n",
    "                  |\n",
    "             FE_t_c + FE_t_i + FE_c_i  | 0 |\n",
    "             industry, data= df_final_SOE %>% filter(soe_output == 'Below'),\n",
    "             exactDOF=TRUE)\n",
    "t7 <- felm(formula=log(tso2_cit) ~ target_c * Period *polluted_thre * cap_share_SOE\n",
    "                  + output_fcit + capital_fcit + labour_fcit\n",
    "                  |\n",
    "             FE_t_c + FE_t_i + FE_c_i  | 0 |\n",
    "             industry, data= df_final_SOE %>% filter(soe_capital == 'Below'),\n",
    "             exactDOF=TRUE)\n",
    "t8 <- felm(formula=log(tso2_cit) ~target_c * Period *polluted_thre * lab_share_SOE\n",
    "                  + output_fcit + capital_fcit + labour_fcit\n",
    "                  |\n",
    "             FE_t_c + FE_t_i + FE_c_i  | 0 |\n",
    "             industry, data= df_final_SOE %>% filter(soe_employment == 'Below'),\n",
    "             exactDOF=TRUE)\n",
    "### SPZ\n",
    "t9 <- felm(formula=log(tso2_cit) ~ target_c * Period *polluted_thre * out_share_SOE\n",
    "                  + output_fcit + capital_fcit + labour_fcit\n",
    "                  |\n",
    "             FE_t_c + FE_t_i + FE_c_i  | 0 |\n",
    "             industry, data= df_TCZ_list_china %>% filter(SPZ == 0),\n",
    "             exactDOF=TRUE)\n",
    "t10 <- felm(formula=log(tso2_cit) ~ target_c * Period *polluted_thre * cap_share_SOE\n",
    "                  + output_fcit + capital_fcit + labour_fcit\n",
    "                  |\n",
    "             FE_t_c + FE_t_i + FE_c_i  | 0 |\n",
    "             industry, data= df_TCZ_list_china %>% filter(SPZ == 0),\n",
    "             exactDOF=TRUE)\n",
    "t11 <- felm(formula=log(tso2_cit) ~ target_c * Period *polluted_thre * lab_share_SOE\n",
    "                  + output_fcit + capital_fcit + labour_fcit\n",
    "                  |\n",
    "             FE_t_c + FE_t_i + FE_c_i  | 0 |\n",
    "             industry, data= df_TCZ_list_china %>% filter(SPZ == 0),\n",
    "             exactDOF=TRUE)\n",
    "\n",
    "### Coastal\n",
    "t12 <- felm(formula=log(tso2_cit) ~ target_c * Period *polluted_thre * out_share_SOE\n",
    "                  + output_fcit + capital_fcit + labour_fcit\n",
    "                  |\n",
    "             FE_t_c + FE_t_i + FE_c_i  | 0 |\n",
    "             industry, data= df_TCZ_list_china %>% filter(Coastal == FALSE),\n",
    "             exactDOF=TRUE)\n",
    "t13 <- felm(formula=log(tso2_cit) ~ target_c * Period *polluted_thre * cap_share_SOE\n",
    "                  + output_fcit + capital_fcit + labour_fcit\n",
    "                  |\n",
    "             FE_t_c + FE_t_i + FE_c_i  | 0 |\n",
    "             industry, data= df_TCZ_list_china %>% filter(Coastal == FALSE),\n",
    "             exactDOF=TRUE)\n",
    "t14 <- felm(formula=log(tso2_cit) ~ target_c * Period *polluted_thre * lab_share_SOE\n",
    "                  + output_fcit + capital_fcit + labour_fcit\n",
    "                  |\n",
    "             FE_t_c + FE_t_i + FE_c_i  | 0 |\n",
    "             industry, data= df_TCZ_list_china %>% filter(Coastal == FALSE),\n",
    "             exactDOF=TRUE)"
   ]
  },
  {
   "cell_type": "code",
   "execution_count": null,
   "metadata": {
    "kernel": "R"
   },
   "outputs": [],
   "source": [
    "test <- list(t0, t1, t2, t3,t4, t5, t6, t7, t8, t9, t10, t11, t12, t13, t14)"
   ]
  },
  {
   "cell_type": "code",
   "execution_count": null,
   "metadata": {
    "kernel": "python3"
   },
   "outputs": [],
   "source": [
    "import os\n",
    "decile=['& Output','Capital', 'Labour',\n",
    "        'Output','Capital', 'Labour',\n",
    "        'Output','Capital', 'Labour',\n",
    "        'Output','Capital', 'Labour',\n",
    "        'Output','Capital', 'Labour'\n",
    "       ]\n",
    "try:\n",
    "    os.remove(\"table_5.txt\")\n",
    "except:\n",
    "    pass\n",
    "try:\n",
    "    os.remove(\"table_5.tex\")\n",
    "except:\n",
    "    pass"
   ]
  },
  {
   "cell_type": "code",
   "execution_count": null,
   "metadata": {
    "kernel": "R"
   },
   "outputs": [],
   "source": [
    "fe1 <- list(\n",
    "    c(\"City fixed effects\", \"Yes\", \"Yes\", \"Yes\", \"Yes\", \"Yes\", \"Yes\", \"Yes\",\n",
    "      \"Yes\", \"Yes\", \"Yes\", \"Yes\", \"Yes\", \"Yes\", \"Yes\", \"Yes\"),\n",
    "    c(\"Industry fixed effects\", \"Yes\", \"Yes\", \"Yes\", \"Yes\", \"Yes\", \"Yes\", \"Yes\",\n",
    "      \"Yes\", \"Yes\", \"Yes\", \"Yes\", \"Yes\", \"Yes\", \"Yes\", \"Yes\"),\n",
    "    c(\"Yes fixed effects\",\"Yes\", \"Yes\", \"Yes\", \"Yes\", \"Yes\", \"Yes\", \"Yes\",\n",
    "      \"Yes\", \"Yes\", \"Yes\", \"Yes\", \"Yes\", \"Yes\", \"Yes\", \"Yes\")\n",
    ")\n",
    "\n",
    "table_1 <- go_latex(\n",
    "    test,\n",
    "    dep_var = \"Dependent variable: \\\\text { SO2 emission }_{i k t}\",\n",
    "    title=\"Test Median city\",\n",
    "    addFE=fe1,\n",
    "    save=TRUE,\n",
    "                    note = FALSE,\n",
    "    name=\"table_5.txt\"\n",
    ")"
   ]
  },
  {
   "cell_type": "code",
   "execution_count": null,
   "metadata": {
    "kernel": "python3"
   },
   "outputs": [],
   "source": [
    "tb = \"\"\"\\\\footnotesize{\n",
    "Due to limited space, only the coefficients of interest are presented \n",
    "for the regressions with city,industry, year fixed effect (i.e. columns 1-3).\n",
    "\\sym{*} Significance at the 10\\%, \\sym{**} Significance at the 5\\%, \\sym{***} Significance at the 1\\% \\\\\n",
    "heteroscedasticity-robust standard errors in parentheses are clustered by city \n",
    "}\n",
    "\"\"\"\n",
    "lb.beautify(table_number = 5,\n",
    "            remove_control= True,\n",
    "            constraint = True,\n",
    "            city_industry = False, \n",
    "            new_row = decile,\n",
    "            table_nte =tb)"
   ]
  }
 ],
 "metadata": {
  "jupytext": {
   "formats": "ipynb,md"
  },
  "kernelspec": {
   "display_name": "SoS",
   "language": "sos",
   "name": "sos"
  },
  "language_info": {
   "codemirror_mode": "sos",
   "file_extension": ".sos",
   "mimetype": "text/x-sos",
   "name": "sos",
   "nbconvert_exporter": "sos_notebook.converter.SoS_Exporter",
   "pygments_lexer": "sos"
  },
  "sos": {
   "kernels": [
    [
     "R",
     "ir",
     "R",
     "#DCDCDA",
     "r"
    ],
    [
     "SoS",
     "sos",
     "",
     "",
     "sos"
    ],
    [
     "python3",
     "python3",
     "python3",
     "",
     {
      "name": "ipython",
      "version": 3
     }
    ]
   ],
   "version": "0.20.6"
  }
 },
 "nbformat": 4,
 "nbformat_minor": 4
}
