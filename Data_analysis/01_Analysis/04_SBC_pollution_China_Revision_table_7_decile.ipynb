{
 "cells": [
  {
   "cell_type": "markdown",
   "metadata": {
    "kernel": "SoS"
   },
   "source": [
    "# SBC_pollution_China Revision Paper\n",
    "\n",
    "Here is the link with all the revisions:\n",
    "\n",
    "- https://coda.io/d/SoftBudgetConstraint_dD-uOwatzMS/Revision_suYyi#_luGfQ\n",
    "\n",
    "- Notebook also available here in html format:\n",
    "    - https://htmlpreview.github.io/?https://github.com/thomaspernet/SBC_pollution_China/blob/master/Data_analysis/Reports/SBC_pollution_China_Revision_table_7_decile.html\n",
    "\n",
    "## Revision table 7 - Decile analysis\n",
    "\n",
    "| Comments_by | URL      | People          | Comments                                                                                                                                                                                                                                                 |\n",
    "|-------------|----------|-----------------|----------------------------------------------------------------------------------------------------------------------------------------------------------------------------------------------------------------------------------------------------------|\n",
    "| Author 1    | Revision | Thomas,Mathilde | Je réfléchis à ce que nous pourrions faire ici, c'est en effet un point intéressant.                                                                                                                                                                     |\n",
    "| Author 1    | Revision | Thomas          | Pouvez vous me rassurer sur ce point? Tos les termes d'interaction sont ils dans l'équation? Je me souviens que nous en avions parlé en effet. J'espère qu'il n'y a pas d'erreurs et que nous pouvons justifier. C'est discutable. Mais on peut essayer. |\n",
    "| Author 1    | Revision | Mathilde        | Je ré-écrirai.                                                                                                                                                                                                                                           |\n",
    "| Author 1    | Revision |                 | Avons nous ces informations? Si non peut on les trouver?                                                                                                                                                                                                 |\n",
    "| Author 1    | Revision |                 | TCZ et Target sont indépendants n'est ce pas?                                                                                                                                                                                                            |\n",
    "| Author 1    | Revision |                 |                                                                                                                                                                                                                                                          |\n",
    "| Author 1    | Revision |                 | Il faut reformuler ici.                                                                                                                                                                                                                                  |\n",
    "| Author 2    | Revision | Thomas          | Avons nous des entreprises étrangères dans l'échantillon?                                                                                                                                                                                                |\n",
    "| Author 2    | Revision | Thomas          | Oui je suppose, pouvez vous regarder?                                                                                                                                                                                                                    |\n",
    "| Author 2    | Revision | Thomas          | Pouvez vous faire ce test?                                                                                                                                                                                                                               |\n",
    "| Author 2    | Revision | Thomas          | Pouvez vous corriger ce point?                                                                                                                                                                                                                           |\n",
    "| Author 2    | Revision | Mathilde        | Très bon commentaire, je m'en occupe.                                                                                                                                                                                                                    |\n",
    "\n",
    "## Proposal \n",
    "\n",
    "The proposal is available [here](https://drive.google.com/open?id=1tmSFvdUMXcL3vMKBSNYmf5xe6OEmYNnD)\n",
    "\n",
    "### Equation to estimate\n",
    "\n",
    "$$\n",
    "\\begin{aligned} \\text { SO2 emission }_{i k t}=& \\alpha T C Z_{i} \\times \\text { Polluted sectors }_{k} \\times \\text { post } \\\\ &+\\beta T C Z_{i} \\times \\text { Polluted sectors }_{k} \\times \\text { post } \\times \\text { Share Foreign }_{k} \\\\ & +\\theta {X}_{i k t}+\\nu_{c i}+\\lambda_{t i} +\\phi_{t c} +\\epsilon_{ikt} \\end{aligned}\n",
    "$$\n",
    "\n",
    "city-industry; time-industry and time-city"
   ]
  },
  {
   "cell_type": "markdown",
   "metadata": {
    "incorrectly_encoded_metadata": "kernel=\"SoS\" toc-hr-collapsed=true toc-nb-collapsed=true",
    "kernel": "SoS"
   },
   "source": [
    "# Table 7: improvement Decile\n",
    "\n",
    "Instead of reconstructed all the data, we compute the:\n",
    "\n",
    "- share [output, capital, employment] by city, industry, ownership\n",
    "- share  [output, capital, employment] by city, industry\n",
    "- Average share  [output, capital, employment]  by city, ownership\n",
    "\n",
    "from the table `asif_firm_china` -> the one used in the paper\n",
    "\n",
    "and select the pairs city-industry dominated by the SOE.\n",
    "\n",
    "* Sum up table 7 \n",
    "  * Need to compute the [output, capital, employment] at the:\n",
    "    * city,\n",
    "    * industry\n",
    "    * industry, city\n",
    "  * Estimate table 7 with three ascending threshold (less and less private in panel B)\n",
    "  * The coefficient should be larger in absolute value for more restrictive threshold\n",
    "  \n",
    "## Objective\n",
    "\n",
    "Find the elasticities of the private sectors when the share of SOE is either higher (threshold) or increasing (cummulative), characterized by industry; city, city-industry level)\n",
    "\n",
    "Our hypothesis: \n",
    "\n",
    "- The elasticities should decrease when the share of [output, capital, employement] of the State in increasing \n",
    "    - We have two way to test it.\n",
    "        1. Use the exact decile -> Take only the industries belonging to a given decile. Note that, low decile indicate a low output share of the SOE. Say differently, there are industries with a strong output done by the private. For instance, decile 1 indicates that we keep the first 10 percent of the indsutries with the lowest share of [output, capital, employement]\n",
    "    - how to read table: Less observations -> larger coefficients in absolute values because the share is mostly done by the private. More observation implies larger operation by the SOE."
   ]
  },
  {
   "cell_type": "markdown",
   "metadata": {
    "incorrectly_encoded_metadata": "kernel=\"SoS\" toc-hr-collapsed=true toc-nb-collapsed=true",
    "kernel": "SoS"
   },
   "source": [
    "## Load the data"
   ]
  },
  {
   "cell_type": "code",
   "execution_count": null,
   "metadata": {
    "kernel": "SoS"
   },
   "outputs": [],
   "source": [
    "import pandas as pd\n",
    "from Fast_connectCloud import connector\n",
    "import numpy as np\n",
    "\n",
    "gs = connector.open_connection(online_connection = False,\n",
    "                              path_credential = '/Users/thomas/Google Drive/Projects/Data_science/Google_code_n_Oauth/Client_Oauth/Google_auth/')\n",
    "service = gs.connect_remote('GCP')"
   ]
  },
  {
   "cell_type": "code",
   "execution_count": null,
   "metadata": {
    "kernel": "python3"
   },
   "outputs": [],
   "source": [
    "import functions.latex_beautify as lb\n",
    "\n",
    "%load_ext autoreload\n",
    "%autoreload 2"
   ]
  },
  {
   "cell_type": "code",
   "execution_count": null,
   "metadata": {
    "kernel": "SoS"
   },
   "outputs": [],
   "source": [
    "%put df_final --to R\n",
    "\n",
    "from GoogleDrivePy.google_platform import connect_cloud_platform\n",
    "project = 'valid-pagoda-132423'\n",
    "gcp = connect_cloud_platform.connect_console(project = project, \n",
    "                                             service_account = service['GoogleCloudP'])    \n",
    "query = (\n",
    "          \"SELECT * \"\n",
    "            \"FROM China.SBC_pollution_China \"\n",
    "\n",
    "        )\n",
    "df_final = gcp.upload_data_from_bigquery(query = query, location = 'US')"
   ]
  },
  {
   "cell_type": "code",
   "execution_count": null,
   "metadata": {
    "kernel": "R"
   },
   "outputs": [],
   "source": [
    "options(warn=-1)\n",
    "library(tidyverse)\n",
    "library(lfe)\n",
    "library(lazyeval)\n",
    "library('progress')\n",
    "\n",
    "path = \"functions/SBC_pollution_R.R\"\n",
    "source(path)\n",
    "path = \"functions/SBC_pollutiuon_golatex.R\"\n",
    "source(path)"
   ]
  },
  {
   "cell_type": "markdown",
   "metadata": {
    "incorrectly_encoded_metadata": "kernel=\"R\" toc-hr-collapsed=true toc-nb-collapsed=true",
    "kernel": "SoS"
   },
   "source": [
    "# Foreign vs Public\n",
    "\n",
    "1.  Pour montrer que le secteur privé doit compenser l'absence de réaction du secteur public, nous allons procéder de la manière suivante: \n",
    "\n",
    "Nous avons Identifié les secteurs où la part des entreprises publiques est inférieure à un seuil critique. Nous allons comparer la réponse du secteur privé dans ces secteurs. \n",
    "\n",
    "- Il s'agit du tableau 7, panel B: deux options (si possible les faire toutes les deux): \n",
    "  \n",
    "    - on regarde les entreprises privées dans les villes-secteurs où la part étatique est plus faible, Elle devrait être plus vigoureuse. Deux estimations donc au lieu d'une seule. \n",
    "    - on change le seuil de dominance privé/public. Moins il y a de privé, plus la réaction de ce dernier doit être forte."
   ]
  },
  {
   "cell_type": "markdown",
   "metadata": {
    "incorrectly_encoded_metadata": "kernel=\"python3\" toc-hr-collapsed=true toc-nb-collapsed=true",
    "kernel": "SoS"
   },
   "source": [
    "## Level industry\n",
    "\n",
    "We proceed as follow:\n",
    "- Step 1: Compute the share [output, capital, employment] by industry, ownership: `Share_io`\n",
    "- Step 2: Compute the deciles of step 1 by  ownership: `Share_io`\n",
    "\n",
    "We only need when `ownership` is equal to `SOE`. First decile indicates a low share of SOE in these sectors. For instance, when the decile is 1, it means this is the bottom 10% of sectors with the lowest share of SOE. The larger the decile, the higher the state presences.\n",
    "\n",
    "In a nutshell, we can run estimate in two ways:\n",
    "\n",
    "- by decile \n",
    "- by cumulated decile"
   ]
  },
  {
   "cell_type": "markdown",
   "metadata": {
    "incorrectly_encoded_metadata": "kernel=\"python3\" toc-hr-collapsed=true toc-nb-collapsed=true",
    "kernel": "SoS"
   },
   "source": [
    "### Code load data"
   ]
  },
  {
   "cell_type": "code",
   "execution_count": null,
   "metadata": {
    "kernel": "SoS"
   },
   "outputs": [],
   "source": [
    "query_share = \"\"\" WITH sum_io AS (\n",
    "  SELECT \n",
    "    case WHEN ownership = 'Foreign' THEN 'FOREIGN' WHEN ownership = 'SOE' \n",
    "    THEN 'SOE' ELSE 'DOMESTIC' END AS OWNERSHIP, \n",
    "    SUM(output / 10000000) as output_io, \n",
    "    SUM(fa_net / 10000000) as fa_net_io, \n",
    "    SUM(employment / 100000) as employment_io,\n",
    "    cic \n",
    "  FROM \n",
    "    China.asif_firm_china \n",
    "  WHERE \n",
    "    year >= 2002 \n",
    "    AND year < 2006 \n",
    "    AND output > 0 \n",
    "    AND fa_net > 0 \n",
    "    AND employment > 0 \n",
    "  GROUP BY \n",
    "    OWNERSHIP, \n",
    "    cic\n",
    ") \n",
    "SELECT \n",
    "  * \n",
    "FROM \n",
    "  (\n",
    "    WITH sum_i AS(\n",
    "      SELECT \n",
    "        SUM(output_io) as output_i, \n",
    "        SUM(fa_net_io) as fa_net_i, \n",
    "        SUM(employment_io) as employment_i, \n",
    "        cic AS cic_b \n",
    "      FROM \n",
    "        sum_io \n",
    "      GROUP BY \n",
    "        cic\n",
    "    ) \n",
    "    SELECT \n",
    "      * \n",
    "    FROM \n",
    "      (\n",
    "        WITH share_io AS(\n",
    "          SELECT \n",
    "            OWNERSHIP, \n",
    "            output_io / output_i AS share_output_io, \n",
    "            fa_net_io / fa_net_i AS share_fa_net_io, \n",
    "            employment_io / employment_i AS share_employement_io, \n",
    "            cic \n",
    "          FROM \n",
    "            sum_io \n",
    "            LEFT JOIN sum_i ON sum_io.cic = sum_i.cic_b\n",
    "        ) \n",
    "        SELECT \n",
    "        cic as industry,\n",
    "        OWNERSHIP,  \n",
    "        NTILE(10)  OVER (PARTITION BY OWNERSHIP ORDER BY share_output_io) \n",
    "          as rank_share_output_io,\n",
    "          NTILE(10)  OVER (PARTITION BY OWNERSHIP ORDER BY share_fa_net_io) \n",
    "          as rank_share_capital_io,\n",
    "          NTILE(10)  OVER (PARTITION BY OWNERSHIP ORDER BY share_employement_io) \n",
    "          as rank_share_employement_io,\n",
    "        share_output_io\n",
    "        FROM share_io\n",
    " \n",
    "        )\n",
    "        )\n",
    "        \n",
    "\"\"\"\n",
    "df_share = gcp.upload_data_from_bigquery(query = query_share,\n",
    "                                         location = 'US')"
   ]
  },
  {
   "cell_type": "code",
   "execution_count": null,
   "metadata": {
    "kernel": "SoS"
   },
   "outputs": [],
   "source": [
    "%put df_final_i --to R\n",
    "df_final_i = (df_final.merge(\n",
    "    df_share.loc[lambda x: x['OWNERSHIP'].isin(['SOE'])][\n",
    "        [\n",
    "            'industry',\n",
    "            'share_output_io',\n",
    "            'rank_share_output_io',\n",
    "            'rank_share_capital_io',\n",
    "            'rank_share_employement_io'\n",
    "             ]],\n",
    "    how = 'left',\n",
    "    indicator = True\n",
    ")\n",
    ")"
   ]
  },
  {
   "cell_type": "code",
   "execution_count": null,
   "metadata": {
    "kernel": "SoS"
   },
   "outputs": [],
   "source": [
    "#temp = (pd.concat([(df_final_i[['industry', 'rank_share_output_io']]\n",
    "# .drop_duplicates()\n",
    "# .sort_values(by = 'rank_share_output_io')\n",
    "# .set_index('industry')\n",
    "#),\n",
    "#          pd.DataFrame((pd.qcut(\n",
    "#    df_share.loc[lambda x: \n",
    "#      x['OWNERSHIP'].isin(['SOE'])]\n",
    "#    .set_index('industry')['share_output_io'],\n",
    "#    10,retbins = True, precision = 5 #,labels=True\n",
    "#)\n",
    "#)\n",
    "#            ).T.drop(columns = ['Unnamed 0'])\n",
    "#         ], axis = 1)\n",
    "# .dropna(subset = ['rank_share_output_io'])\n",
    "# .sort_values(by ='rank_share_output_io')\n",
    "#        .rename(columns = {'rank_share_output_io':'rank',\n",
    "#                           'share_output_io':'decile'})\n",
    "#        .reset_index()\n",
    "#)\n",
    "#temp.loc[lambda x: x['rank'].isin([3])].head(2)"
   ]
  },
  {
   "cell_type": "code",
   "execution_count": null,
   "metadata": {
    "kernel": "SoS"
   },
   "outputs": [],
   "source": [
    "df_final_i.shape"
   ]
  },
  {
   "cell_type": "code",
   "execution_count": null,
   "metadata": {
    "kernel": "SoS"
   },
   "outputs": [],
   "source": [
    "(df_final_i\n",
    " .groupby([ 'rank_share_output_io', 'TCZ_c'])['rank_share_output_io']\n",
    " .count()\n",
    " .unstack(1))"
   ]
  },
  {
   "cell_type": "code",
   "execution_count": null,
   "metadata": {
    "kernel": "SoS"
   },
   "outputs": [],
   "source": [
    "df_final_i.groupby([ 'rank_share_output_io',\n",
    "                    'polluted_thre'])['rank_share_output_io'].count().unstack(1)"
   ]
  },
  {
   "cell_type": "code",
   "execution_count": null,
   "metadata": {
    "kernel": "R"
   },
   "outputs": [],
   "source": [
    "df_final <- df_final_i %>% \n",
    "    mutate_if(is.character, as.factor) %>%\n",
    "    mutate_at(vars(starts_with(\"FE\")), as.factor) %>%\n",
    "    mutate(\n",
    "         Period = relevel(Period, ref='Before'),\n",
    "         TCZ_c = relevel(TCZ_c, ref='No_TCZ'),\n",
    "         effort_c = relevel(effort_c, ref='Below'),\n",
    "         polluted_di = relevel(polluted_di, ref='Below'),\n",
    "         polluted_mi = relevel(polluted_mi, ref='Below'),\n",
    "         polluted_thre = relevel(polluted_thre, ref='Below'),\n",
    "  )\n",
    "head(df_final)"
   ]
  },
  {
   "cell_type": "markdown",
   "metadata": {
    "incorrectly_encoded_metadata": "kernel=\"python3\" toc-hr-collapsed=true kernel=\"SoS\" toc-hr-collapsed=true toc-nb-collapsed=true",
    "kernel": "SoS"
   },
   "source": [
    "### Output\n",
    "\n",
    "Output latex table available here\n",
    "\n",
    "- https://www.overleaf.com/project/5deca0097e9f3a0001506527\n",
    "    - 010_output_industry_thresh_\n",
    "    - 011_output_industry_cum\n",
    "    \n",
    "**Threshold**\n",
    "\n",
    "In Google Drive:\n",
    "\n",
    "![](https://drive.google.com/uc?export=view&id=1g7zQH-RkmQeY6tM5KzIU6tEdWhumsNEl)\n",
    "\n",
    "**Cumulative**\n",
    "\n",
    "![](https://drive.google.com/uc?export=view&id=1wkvLZRe8ftyqXBtY3I5iM4RFKD4Ki7al)\n"
   ]
  },
  {
   "cell_type": "markdown",
   "metadata": {
    "incorrectly_encoded_metadata": "kernel=\"R\" toc-hr-collapsed=true toc-nb-collapsed=true",
    "kernel": "SoS"
   },
   "source": [
    "#### Code"
   ]
  },
  {
   "cell_type": "markdown",
   "metadata": {
    "incorrectly_encoded_metadata": "kernel=\"R\" toc-hr-collapsed=true toc-nb-collapsed=true",
    "kernel": "SoS"
   },
   "source": [
    "##### Private - Output - threshold"
   ]
  },
  {
   "cell_type": "code",
   "execution_count": null,
   "metadata": {
    "kernel": "R"
   },
   "outputs": [],
   "source": [
    "i <- 1\n",
    "l = list()\n",
    "while(i < 10) {\n",
    "    t1 <- felm(formula=log(tso2_cit) ~ TCZ_c * Period * polluted_thre \n",
    "                  + output_fcit + capital_fcit + labour_fcit\n",
    "                  |\n",
    "             FE_t_c + FE_t_i + FE_c_i | 0 |\n",
    "             industry, data= df_final %>% filter(rank_share_output_io == i),\n",
    "             exactDOF=TRUE)\n",
    "    \n",
    "    l[[i]] <- t1\n",
    "    i <- i + 1\n",
    "}"
   ]
  },
  {
   "cell_type": "code",
   "execution_count": null,
   "metadata": {
    "kernel": "python3"
   },
   "outputs": [],
   "source": [
    "import os\n",
    "decile=['& decile .1','decile .2', ' decile .3', 'decile .4',\n",
    "        'decile .5','decile .6', ' decile .7', 'decile .8',\n",
    "        'decile .9']\n",
    "try:\n",
    "    os.remove(\"table_2.txt\")\n",
    "except:\n",
    "    pass\n",
    "try:\n",
    "    os.remove(\"table_2.tex\")\n",
    "except:\n",
    "    pass"
   ]
  },
  {
   "cell_type": "code",
   "execution_count": null,
   "metadata": {
    "kernel": "R"
   },
   "outputs": [],
   "source": [
    "fe1 <- list(c(\"City-year fixed effects\", \"Yes\", \"Yes\", \"Yes\", 'Yes',\n",
    "              \"Yes\", \"Yes\", \"Yes\", 'Yes',\n",
    "              \"Yes\", \"Yes\"),\n",
    "             c(\"Industry-year fixed effects\", \"Yes\", \"Yes\", \"Yes\", 'Yes',\n",
    "              \"Yes\", \"Yes\", \"Yes\", 'Yes',\n",
    "              \"Yes\", \"Yes\"),\n",
    "             c(\"City-industry fixed effects\", \"Yes\", \"Yes\", \"Yes\", 'Yes',\n",
    "              \"Yes\", \"Yes\", \"Yes\", 'Yes',\n",
    "              \"Yes\", \"Yes\")\n",
    "             )\n",
    "table_1 <- go_latex(l,\n",
    "    dep_var = \"Dependent variable: \\\\text { SO2 emission }_{i k t}\",\n",
    "    title='Deciles output',\n",
    "    addFE=fe1,\n",
    "    save=TRUE,\n",
    "                    note = FALSE,\n",
    "    name=\"table_2.txt\"\n",
    ")"
   ]
  },
  {
   "cell_type": "code",
   "execution_count": null,
   "metadata": {
    "kernel": "python3"
   },
   "outputs": [],
   "source": [
    "tb = \"\"\"\\\\footnotesize{\n",
    "A decile indicates the rank share of [output, capital, employement] of the SOEs \\\\\n",
    "More specifically, the low deciles means a low presence of SOEs firms in the industries. \\\\\n",
    "Deciles close to one, however, implies a stronger share of [output, capital, employement] in the \\\\\n",
    "industries belong to those deciles.\n",
    "\\sym{*} Significance at the 10\\%, \\sym{**} Significance at the 5\\%, \\sym{***} Significance at the 1\\%\n",
    "}\n",
    "\"\"\"\n",
    "lb.beautify(table_number = 2,\n",
    "    constraint = False,\n",
    "    city_industry = False, \n",
    "    new_row = decile,\n",
    "    table_nte =tb)"
   ]
  },
  {
   "cell_type": "markdown",
   "metadata": {
    "kernel": "python3"
   },
   "source": [
    "##### Private - Output - cumulative"
   ]
  },
  {
   "cell_type": "code",
   "execution_count": null,
   "metadata": {
    "kernel": "R"
   },
   "outputs": [],
   "source": [
    "i <- 1\n",
    "l = list()\n",
    "while(i < 10) {\n",
    "    t1 <- felm(formula=log(tso2_cit) ~ TCZ_c * Period * polluted_thre \n",
    "                  + output_fcit + capital_fcit + labour_fcit\n",
    "                  |\n",
    "             FE_t_c + FE_t_i + FE_c_i | 0 |\n",
    "             industry, data= df_final %>% filter(rank_share_output_io <= i),\n",
    "             exactDOF=TRUE)\n",
    "    \n",
    "    l[[i]] <- t1\n",
    "    i <- i + 1\n",
    "}"
   ]
  },
  {
   "cell_type": "code",
   "execution_count": null,
   "metadata": {
    "kernel": "python3"
   },
   "outputs": [],
   "source": [
    "import os\n",
    "decile=['& decile .1','decile .2', ' decile .3', 'decile .4',\n",
    "        'decile .5','decile .6', ' decile .7', 'decile .8',\n",
    "        'decile .9']\n",
    "try:\n",
    "    os.remove(\"table_2.txt\")\n",
    "except:\n",
    "    pass\n",
    "try:\n",
    "    os.remove(\"table_2.tex\")\n",
    "except:\n",
    "    pass"
   ]
  },
  {
   "cell_type": "code",
   "execution_count": null,
   "metadata": {
    "kernel": "R"
   },
   "outputs": [],
   "source": [
    "fe1 <- list(c(\"City-year fixed effects\", \"Yes\", \"Yes\", \"Yes\", 'Yes',\n",
    "              \"Yes\", \"Yes\", \"Yes\", 'Yes',\n",
    "              \"Yes\", \"Yes\"),\n",
    "             c(\"Industry-year fixed effects\", \"Yes\", \"Yes\", \"Yes\", 'Yes',\n",
    "              \"Yes\", \"Yes\", \"Yes\", 'Yes',\n",
    "              \"Yes\", \"Yes\"),\n",
    "             c(\"City-industry fixed effects\", \"Yes\", \"Yes\", \"Yes\", 'Yes',\n",
    "              \"Yes\", \"Yes\", \"Yes\", 'Yes',\n",
    "              \"Yes\", \"Yes\")\n",
    "             )\n",
    "table_1 <- go_latex(l,\n",
    "    dep_var = \"Dependent variable: \\\\text { SO2 emission }_{i k t}\",\n",
    "    title='Cumulative Deciles output',\n",
    "    addFE=fe1,\n",
    "    save=TRUE,\n",
    "                    note = FALSE,\n",
    "    name=\"table_2.txt\"\n",
    ")"
   ]
  },
  {
   "cell_type": "code",
   "execution_count": null,
   "metadata": {
    "kernel": "python3"
   },
   "outputs": [],
   "source": [
    "tb = \"\"\"\\\\footnotesize{\n",
    "A decile indicates the rank share of [output, capital, employement] of the SOEs \\\\\n",
    "More specifically, the low deciles means a low presence of SOEs firms in the industries. \\\\\n",
    "Deciles close to one, however, implies a stronger share of [output, capital, employement] in the \\\\\n",
    "industries belong to those deciles.\n",
    "\\sym{*} Significance at the 10\\%, \\sym{**} Significance at the 5\\%, \\sym{***} Significance at the 1\\%\n",
    "}\n",
    "\"\"\"\n",
    "lb.beautify(table_number = 2,\n",
    "    constraint = False,\n",
    "    city_industry = False, \n",
    "    new_row = decile,\n",
    "    table_nte =tb)"
   ]
  },
  {
   "cell_type": "markdown",
   "metadata": {
    "incorrectly_encoded_metadata": "kernel=\"python3\" toc-hr-collapsed=true toc-nb-collapsed=true",
    "kernel": "SoS"
   },
   "source": [
    "### Capital\n",
    "\n",
    "Output latex table available here\n",
    "\n",
    "- https://www.overleaf.com/project/5deca0097e9f3a0001506527\n",
    "    - 020_capital_industry_thresh\n",
    "    - 021_capital_industry_cum\n",
    "    \n",
    "**Threshold**\n",
    "\n",
    "In Google Drive:\n",
    "\n",
    "![](https://drive.google.com/uc?export=view&id=1SpsDjKPnS9guANOUMAdHEaZr2KxFJejg)\n",
    "\n",
    "**Cumulative**\n",
    "\n",
    "![](https://drive.google.com/uc?export=view&id=1E-A5gREVvfHxj5dKQ6Sc39zymoh8Vayc)"
   ]
  },
  {
   "cell_type": "markdown",
   "metadata": {
    "incorrectly_encoded_metadata": "kernel=\"python3\" toc-hr-collapsed=true toc-nb-collapsed=true",
    "kernel": "SoS"
   },
   "source": [
    "#### Code"
   ]
  },
  {
   "cell_type": "markdown",
   "metadata": {
    "incorrectly_encoded_metadata": "kernel=\"python3\" toc-hr-collapsed=true toc-nb-collapsed=true",
    "kernel": "SoS"
   },
   "source": [
    "##### Private - capital - threshold"
   ]
  },
  {
   "cell_type": "code",
   "execution_count": null,
   "metadata": {
    "kernel": "R"
   },
   "outputs": [],
   "source": [
    "i <- 1\n",
    "l = list()\n",
    "while(i < 10) {\n",
    "    t1 <- felm(formula=log(tso2_cit) ~ TCZ_c * Period * polluted_thre \n",
    "                  + output_fcit + capital_fcit + labour_fcit\n",
    "                  |\n",
    "             FE_t_c + FE_t_i + FE_c_i | 0 |\n",
    "             industry, data= df_final %>% filter(rank_share_capital_io == i),\n",
    "             exactDOF=TRUE)\n",
    "    \n",
    "    l[[i]] <- t1\n",
    "    i <- i + 1\n",
    "}"
   ]
  },
  {
   "cell_type": "code",
   "execution_count": null,
   "metadata": {
    "kernel": "python3"
   },
   "outputs": [],
   "source": [
    "import os\n",
    "decile=['& decile .1','decile .2', ' decile .3', 'decile .4',\n",
    "        'decile .5','decile .6', ' decile .7', 'decile .8',\n",
    "        'decile .9']\n",
    "try:\n",
    "    os.remove(\"table_2.txt\")\n",
    "except:\n",
    "    pass\n",
    "try:\n",
    "    os.remove(\"table_2.tex\")\n",
    "except:\n",
    "    pass"
   ]
  },
  {
   "cell_type": "code",
   "execution_count": null,
   "metadata": {
    "kernel": "R"
   },
   "outputs": [],
   "source": [
    "fe1 <- list(c(\"City-year fixed effects\", \"Yes\", \"Yes\", \"Yes\", 'Yes',\n",
    "              \"Yes\", \"Yes\", \"Yes\", 'Yes',\n",
    "              \"Yes\", \"Yes\"),\n",
    "             c(\"Industry-year fixed effects\", \"Yes\", \"Yes\", \"Yes\", 'Yes',\n",
    "              \"Yes\", \"Yes\", \"Yes\", 'Yes',\n",
    "              \"Yes\", \"Yes\"),\n",
    "             c(\"City-industry fixed effects\", \"Yes\", \"Yes\", \"Yes\", 'Yes',\n",
    "              \"Yes\", \"Yes\", \"Yes\", 'Yes',\n",
    "              \"Yes\", \"Yes\")\n",
    "             )\n",
    "table_1 <- go_latex(l,\n",
    "    dep_var = \"Dependent variable: \\\\text { SO2 emission }_{i k t}\",\n",
    "    title='Deciles capital',\n",
    "    addFE=fe1,\n",
    "    save=TRUE,\n",
    "                    note = FALSE,\n",
    "    name=\"table_2.txt\"\n",
    ")"
   ]
  },
  {
   "cell_type": "code",
   "execution_count": null,
   "metadata": {
    "kernel": "python3"
   },
   "outputs": [],
   "source": [
    "tb = \"\"\"\\\\footnotesize{\n",
    "A decile indicates the rank share of [output, capital, employement] of the SOEs \\\\\n",
    "More specifically, the low deciles means a low presence of SOEs firms in the industries. \\\\\n",
    "Deciles close to one, however, implies a stronger share of [output, capital, employement] in the \\\\\n",
    "industries belong to those deciles.\n",
    "\\sym{*} Significance at the 10\\%, \\sym{**} Significance at the 5\\%, \\sym{***} Significance at the 1\\%\n",
    "}\n",
    "\"\"\"\n",
    "lb.beautify(table_number = 2,\n",
    "    constraint = False,\n",
    "    city_industry = False, \n",
    "    new_row = decile,\n",
    "    table_nte =tb)"
   ]
  },
  {
   "cell_type": "markdown",
   "metadata": {
    "incorrectly_encoded_metadata": "kernel=\"python3\" toc-hr-collapsed=true toc-nb-collapsed=true",
    "kernel": "SoS"
   },
   "source": [
    "##### Private - capital - cumulative"
   ]
  },
  {
   "cell_type": "code",
   "execution_count": null,
   "metadata": {
    "kernel": "R"
   },
   "outputs": [],
   "source": [
    "i <- 1\n",
    "l = list()\n",
    "while(i < 10) {\n",
    "    t1 <- felm(formula=log(tso2_cit) ~ TCZ_c * Period * polluted_thre \n",
    "                  + output_fcit + capital_fcit + labour_fcit\n",
    "                  |\n",
    "             FE_t_c + FE_t_i + FE_c_i | 0 |\n",
    "             industry, data= df_final %>% filter(rank_share_capital_io <= i),\n",
    "             exactDOF=TRUE)\n",
    "    \n",
    "    l[[i]] <- t1\n",
    "    i <- i + 1\n",
    "}"
   ]
  },
  {
   "cell_type": "code",
   "execution_count": null,
   "metadata": {
    "kernel": "python3"
   },
   "outputs": [],
   "source": [
    "import os\n",
    "decile=['& decile .1','decile .2', ' decile .3', 'decile .4',\n",
    "        'decile .5','decile .6', ' decile .7', 'decile .8',\n",
    "        'decile .9']\n",
    "try:\n",
    "    os.remove(\"table_2.txt\")\n",
    "except:\n",
    "    pass\n",
    "try:\n",
    "    os.remove(\"table_2.tex\")\n",
    "except:\n",
    "    pass"
   ]
  },
  {
   "cell_type": "code",
   "execution_count": null,
   "metadata": {
    "kernel": "R"
   },
   "outputs": [],
   "source": [
    "fe1 <- list(c(\"City-year fixed effects\", \"Yes\", \"Yes\", \"Yes\", 'Yes',\n",
    "              \"Yes\", \"Yes\", \"Yes\", 'Yes',\n",
    "              \"Yes\", \"Yes\"),\n",
    "             c(\"Industry-year fixed effects\", \"Yes\", \"Yes\", \"Yes\", 'Yes',\n",
    "              \"Yes\", \"Yes\", \"Yes\", 'Yes',\n",
    "              \"Yes\", \"Yes\"),\n",
    "             c(\"City-industry fixed effects\", \"Yes\", \"Yes\", \"Yes\", 'Yes',\n",
    "              \"Yes\", \"Yes\", \"Yes\", 'Yes',\n",
    "              \"Yes\", \"Yes\")\n",
    "             )\n",
    "table_1 <- go_latex(l,\n",
    "    dep_var = \"Dependent variable: \\\\text { SO2 emission }_{i k t}\",\n",
    "    title='Cumulative Deciles output',\n",
    "    addFE=fe1,\n",
    "    save=TRUE,\n",
    "                    note = FALSE,\n",
    "    name=\"table_2.txt\"\n",
    ")"
   ]
  },
  {
   "cell_type": "code",
   "execution_count": null,
   "metadata": {
    "kernel": "python3"
   },
   "outputs": [],
   "source": [
    "tb = \"\"\"\\\\footnotesize{\n",
    "A decile indicates the rank share of [output, capital, employement] of the SOEs \\\\\n",
    "More specifically, the low deciles means a low presence of SOEs firms in the industries. \\\\\n",
    "Deciles close to one, however, implies a stronger share of [output, capital, employement] in the \\\\\n",
    "industries belong to those deciles.\n",
    "\\sym{*} Significance at the 10\\%, \\sym{**} Significance at the 5\\%, \\sym{***} Significance at the 1\\%\n",
    "}\n",
    "\"\"\"\n",
    "lb.beautify(table_number = 2,\n",
    "    constraint = False,\n",
    "    city_industry = False, \n",
    "    new_row = decile,\n",
    "    table_nte =tb)"
   ]
  },
  {
   "cell_type": "markdown",
   "metadata": {
    "kernel": "python3"
   },
   "source": [
    "### Employement\n",
    "\n",
    "Output latex table available here\n",
    "\n",
    "- https://www.overleaf.com/project/5deca0097e9f3a0001506527\n",
    "    - 030_employement_industry_thresh\n",
    "    - 031_employement_industry_thresh\n",
    "    \n",
    "**Threshold**\n",
    "\n",
    "In Google Drive:\n",
    "\n",
    "![](https://drive.google.com/uc?export=view&id=1uJz3NDW3hlPMscdvBAF5HPjDyqZ664HG)\n",
    "\n",
    "**Cumulative**\n",
    "\n",
    "![](https://drive.google.com/uc?export=view&id=1d_C-H8LkIrcL_cXdlLC3j1OLgefE4NfB)"
   ]
  },
  {
   "cell_type": "markdown",
   "metadata": {
    "kernel": "python3"
   },
   "source": [
    "#### Code"
   ]
  },
  {
   "cell_type": "markdown",
   "metadata": {
    "kernel": "python3"
   },
   "source": [
    "##### Private - employment - threshold"
   ]
  },
  {
   "cell_type": "code",
   "execution_count": null,
   "metadata": {
    "kernel": "R"
   },
   "outputs": [],
   "source": [
    "i <- 1\n",
    "l = list()\n",
    "while(i < 10) {\n",
    "    t1 <- felm(formula=log(tso2_cit) ~ TCZ_c * Period * polluted_thre \n",
    "                  + output_fcit + capital_fcit + labour_fcit\n",
    "                  |\n",
    "             FE_t_c + FE_t_i + FE_c_i | 0 |\n",
    "             industry, data= df_final %>% filter(rank_share_employement_io == i),\n",
    "             exactDOF=TRUE)\n",
    "    \n",
    "    l[[i]] <- t1\n",
    "    i <- i + 1\n",
    "}"
   ]
  },
  {
   "cell_type": "code",
   "execution_count": null,
   "metadata": {
    "kernel": "python3"
   },
   "outputs": [],
   "source": [
    "import os\n",
    "decile=['& decile .1','decile .2', ' decile .3', 'decile .4',\n",
    "        'decile .5','decile .6', ' decile .7', 'decile .8',\n",
    "        'decile .9']\n",
    "try:\n",
    "    os.remove(\"table_2.txt\")\n",
    "except:\n",
    "    pass\n",
    "try:\n",
    "    os.remove(\"table_2.tex\")\n",
    "except:\n",
    "    pass"
   ]
  },
  {
   "cell_type": "code",
   "execution_count": null,
   "metadata": {
    "kernel": "R"
   },
   "outputs": [],
   "source": [
    "fe1 <- list(c(\"City-year fixed effects\", \"Yes\", \"Yes\", \"Yes\", 'Yes',\n",
    "              \"Yes\", \"Yes\", \"Yes\", 'Yes',\n",
    "              \"Yes\", \"Yes\"),\n",
    "             c(\"Industry-year fixed effects\", \"Yes\", \"Yes\", \"Yes\", 'Yes',\n",
    "              \"Yes\", \"Yes\", \"Yes\", 'Yes',\n",
    "              \"Yes\", \"Yes\"),\n",
    "             c(\"City-industry fixed effects\", \"Yes\", \"Yes\", \"Yes\", 'Yes',\n",
    "              \"Yes\", \"Yes\", \"Yes\", 'Yes',\n",
    "              \"Yes\", \"Yes\")\n",
    "             )\n",
    "table_1 <- go_latex(l,\n",
    "    dep_var = \"Dependent variable: \\\\text { SO2 emission }_{i k t}\",\n",
    "    title='Deciles Employment',\n",
    "    addFE=fe1,\n",
    "    save=TRUE,\n",
    "                    note = FALSE,\n",
    "    name=\"table_2.txt\"\n",
    ")"
   ]
  },
  {
   "cell_type": "code",
   "execution_count": null,
   "metadata": {
    "kernel": "python3"
   },
   "outputs": [],
   "source": [
    "tb = \"\"\"\\\\footnotesize{\n",
    "A decile indicates the rank share of [output, capital, employement] of the SOEs \\\\\n",
    "More specifically, the low deciles means a low presence of SOEs firms in the industries. \\\\\n",
    "Deciles close to one, however, implies a stronger share of [output, capital, employement] in the \\\\\n",
    "industries belong to those deciles.\n",
    "\\sym{*} Significance at the 10\\%, \\sym{**} Significance at the 5\\%, \\sym{***} Significance at the 1\\%\n",
    "}\n",
    "\"\"\"\n",
    "lb.beautify(table_number = 2,\n",
    "    constraint = False,\n",
    "    city_industry = False, \n",
    "    new_row = decile,\n",
    "    table_nte =tb)"
   ]
  },
  {
   "cell_type": "markdown",
   "metadata": {
    "kernel": "python3"
   },
   "source": [
    "##### Private - employment - cumulative"
   ]
  },
  {
   "cell_type": "code",
   "execution_count": null,
   "metadata": {
    "kernel": "R"
   },
   "outputs": [],
   "source": [
    "i <- 1\n",
    "l = list()\n",
    "while(i < 10) {\n",
    "    t1 <- felm(formula=log(tso2_cit) ~ TCZ_c * Period * polluted_thre \n",
    "                  + output_fcit + capital_fcit + labour_fcit\n",
    "                  |\n",
    "             FE_t_c + FE_t_i + FE_c_i | 0 |\n",
    "             industry, data= df_final %>% filter(rank_share_employement_io <= i),\n",
    "             exactDOF=TRUE)\n",
    "    \n",
    "    l[[i]] <- t1\n",
    "    i <- i + 1\n",
    "}"
   ]
  },
  {
   "cell_type": "code",
   "execution_count": null,
   "metadata": {
    "kernel": "python3"
   },
   "outputs": [],
   "source": [
    "import os\n",
    "decile=['& decile .1','decile .2', ' decile .3', 'decile .4',\n",
    "        'decile .5','decile .6', ' decile .7', 'decile .8',\n",
    "        'decile .9']\n",
    "try:\n",
    "    os.remove(\"table_2.txt\")\n",
    "except:\n",
    "    pass\n",
    "try:\n",
    "    os.remove(\"table_2.tex\")\n",
    "except:\n",
    "    pass"
   ]
  },
  {
   "cell_type": "code",
   "execution_count": null,
   "metadata": {
    "kernel": "R"
   },
   "outputs": [],
   "source": [
    "fe1 <- list(c(\"City-year fixed effects\", \"Yes\", \"Yes\", \"Yes\", 'Yes',\n",
    "              \"Yes\", \"Yes\", \"Yes\", 'Yes',\n",
    "              \"Yes\", \"Yes\"),\n",
    "             c(\"Industry-year fixed effects\", \"Yes\", \"Yes\", \"Yes\", 'Yes',\n",
    "              \"Yes\", \"Yes\", \"Yes\", 'Yes',\n",
    "              \"Yes\", \"Yes\"),\n",
    "             c(\"City-industry fixed effects\", \"Yes\", \"Yes\", \"Yes\", 'Yes',\n",
    "              \"Yes\", \"Yes\", \"Yes\", 'Yes',\n",
    "              \"Yes\", \"Yes\")\n",
    "             )\n",
    "table_1 <- go_latex(l,\n",
    "    dep_var = \"Dependent variable: \\\\text { SO2 emission }_{i k t}\",\n",
    "    title='Cumulative Deciles employment',\n",
    "    addFE=fe1,\n",
    "    save=TRUE,\n",
    "                    note = FALSE,\n",
    "    name=\"table_2.txt\"\n",
    ")"
   ]
  },
  {
   "cell_type": "code",
   "execution_count": null,
   "metadata": {
    "kernel": "python3"
   },
   "outputs": [],
   "source": [
    "tb = \"\"\"\\\\footnotesize{\n",
    "A decile indicates the rank share of [output, capital, employement] of the SOEs \\\\\n",
    "More specifically, the low deciles means a low presence of SOEs firms in the industries. \\\\\n",
    "Deciles close to one, however, implies a stronger share of [output, capital, employement] in the \\\\\n",
    "industries belong to those deciles.\n",
    "\\sym{*} Significance at the 10\\%, \\sym{**} Significance at the 5\\%, \\sym{***} Significance at the 1\\%\n",
    "}\n",
    "\"\"\"\n",
    "lb.beautify(table_number = 2,\n",
    "    constraint = False,\n",
    "    city_industry = False, \n",
    "    new_row = decile,\n",
    "    table_nte =tb)"
   ]
  },
  {
   "cell_type": "markdown",
   "metadata": {
    "incorrectly_encoded_metadata": "kernel=\"python3\" toc-hr-collapsed=true toc-nb-collapsed=true",
    "kernel": "SoS"
   },
   "source": [
    "## Level City\n",
    "\n",
    "We proceed as follow:\n",
    "- Step 1: Compute the share [output, capital, employment] by industry, ownership: `Share_io`\n",
    "- Step 2: Compute the deciles of step 1 by  ownership: `Share_io`\n",
    "\n",
    "We only need when `ownership` is equal to `SOE`. First decile indicates a low share of SOE in these sectors. For instance, when the decile is 1, it means this is the bottom 10% of sectors with the lowest share of SOE. The larger the decile, the higher the state presences.\n",
    "\n",
    "In a nutshell, we can run estimate in two ways:\n",
    "\n",
    "- by decile \n",
    "- by cumulated decile"
   ]
  },
  {
   "cell_type": "markdown",
   "metadata": {
    "incorrectly_encoded_metadata": "kernel=\"python3\" toc-hr-collapsed=true",
    "kernel": "SoS"
   },
   "source": [
    "### Code load data"
   ]
  },
  {
   "cell_type": "code",
   "execution_count": 1,
   "metadata": {
    "kernel": "SoS"
   },
   "outputs": [
    {
     "name": "stderr",
     "output_type": "stream",
     "text": [
      "\n",
      "---------------------------------------------------------------------------\n",
      "NameError                                 Traceback (most recent call last)\n",
      "script_8755178067932409328 in <module>\n",
      "      \n",
      "      \"\"\"\n",
      "----> df_share = gcp.upload_data_from_bigquery(query = query_share,\n",
      "                                               location = 'US')\n",
      "      \n",
      "\n",
      "NameError: name 'gcp' is not defined\n"
     ]
    }
   ],
   "source": [
    "query_share = \"\"\" WITH sum_co AS (\n",
    "  SELECT \n",
    "    case WHEN ownership = 'Foreign' THEN 'FOREIGN' WHEN ownership = 'SOE' \n",
    "    THEN 'SOE' ELSE 'DOMESTIC' END AS OWNERSHIP, \n",
    "    SUM(output / 10000000) as output_co, \n",
    "    SUM(fa_net / 10000000) as fa_net_co, \n",
    "    SUM(employment / 100000) as employment_co,\n",
    "    geocode4_corr \n",
    "  FROM \n",
    "    China.asif_firm_china \n",
    "  WHERE \n",
    "    year >= 2002 \n",
    "    AND year < 2006 \n",
    "    AND output > 0 \n",
    "    AND fa_net > 0 \n",
    "    AND employment > 0 \n",
    "  GROUP BY \n",
    "    OWNERSHIP, \n",
    "    geocode4_corr\n",
    ") \n",
    "SELECT \n",
    "  * \n",
    "FROM \n",
    "  (\n",
    "    WITH sum_c AS(\n",
    "      SELECT \n",
    "        SUM(output_co) as output_c, \n",
    "        SUM(fa_net_co) as fa_net_c, \n",
    "        SUM(employment_co) as employment_c, \n",
    "        geocode4_corr AS geocode4_corr_b \n",
    "      FROM \n",
    "        sum_co \n",
    "      GROUP BY \n",
    "        geocode4_corr\n",
    "    ) \n",
    "    SELECT \n",
    "      * \n",
    "    FROM \n",
    "      (\n",
    "        WITH share_co AS(\n",
    "          SELECT \n",
    "            OWNERSHIP, \n",
    "            output_co / output_c AS share_output_co, \n",
    "            fa_net_co / fa_net_c AS share_fa_net_co, \n",
    "            employment_co / employment_c AS share_employement_co, \n",
    "            geocode4_corr \n",
    "          FROM \n",
    "            sum_co \n",
    "            LEFT JOIN sum_c ON sum_co.geocode4_corr = sum_c.geocode4_corr_b\n",
    "        ) \n",
    "        SELECT \n",
    "        geocode4_corr,\n",
    "        OWNERSHIP,  \n",
    "        NTILE(10)  OVER (PARTITION BY OWNERSHIP ORDER BY share_output_co) \n",
    "          as rank_share_output_co,\n",
    "          NTILE(10)  OVER (PARTITION BY OWNERSHIP ORDER BY share_fa_net_co) \n",
    "          as rank_share_capital_co,\n",
    "          NTILE(10)  OVER (PARTITION BY OWNERSHIP ORDER BY share_employement_co) \n",
    "          as rank_share_employement_co,\n",
    "        share_output_co\n",
    "        FROM share_co\n",
    " \n",
    "        )\n",
    "        )\n",
    "        \n",
    "\"\"\"\n",
    "df_share = gcp.upload_data_from_bigquery(query = query_share,\n",
    "                                         location = 'US')"
   ]
  },
  {
   "cell_type": "code",
   "execution_count": null,
   "metadata": {
    "kernel": "SoS"
   },
   "outputs": [],
   "source": [
    "%put df_final_c --to R\n",
    "df_final_c = (df_final.merge(\n",
    "    df_share.loc[lambda x: x['OWNERSHIP'].isin(['SOE'])][\n",
    "        [\n",
    "            'geocode4_corr',\n",
    "            'share_output_co',\n",
    "            'rank_share_output_co',\n",
    "            'rank_share_capital_co',\n",
    "            'rank_share_employement_co'\n",
    "             ]],\n",
    "    how = 'left',\n",
    "    indicator = True\n",
    ")\n",
    ")"
   ]
  },
  {
   "cell_type": "code",
   "execution_count": null,
   "metadata": {
    "kernel": "SoS"
   },
   "outputs": [],
   "source": [
    "df_final_c.shape"
   ]
  },
  {
   "cell_type": "code",
   "execution_count": null,
   "metadata": {
    "kernel": "R"
   },
   "outputs": [],
   "source": [
    "df_final <- df_final_c %>% \n",
    "    mutate_if(is.character, as.factor) %>%\n",
    "    mutate_at(vars(starts_with(\"FE\")), as.factor) %>%\n",
    "    mutate(\n",
    "         Period = relevel(Period, ref='Before'),\n",
    "         TCZ_c = relevel(TCZ_c, ref='No_TCZ'),\n",
    "         effort_c = relevel(effort_c, ref='Below'),\n",
    "         polluted_di = relevel(polluted_di, ref='Below'),\n",
    "         polluted_mi = relevel(polluted_mi, ref='Below'),\n",
    "         polluted_thre = relevel(polluted_thre, ref='Below'),\n",
    "  )\n",
    "head(df_final)"
   ]
  },
  {
   "cell_type": "markdown",
   "metadata": {
    "incorrectly_encoded_metadata": "kernel=\"python3\" toc-hr-collapsed=true kernel=\"SoS\" toc-hr-collapsed=true toc-nb-collapsed=true",
    "kernel": "SoS"
   },
   "source": [
    "### Output\n",
    "\n",
    "Output latex table available here\n",
    "\n",
    "- https://www.overleaf.com/project/5deca0097e9f3a0001506527\n",
    "    - 040_output_city_thresh\n",
    "    - 041_output_city_cum\n",
    "    \n",
    "**Threshold**\n",
    "\n",
    "In Google Drive:\n",
    "\n",
    "![](https://drive.google.com/uc?export=view&id=1B7yGNh6iXDAh5Otf2yd3XprDkh-OSEUp)\n",
    "\n",
    "**Cumulative**\n",
    "\n",
    "![](https://drive.google.com/uc?export=view&id=17u9cRVeTZIm_xo1XhZacgvqx2lwNQAH_)"
   ]
  },
  {
   "cell_type": "markdown",
   "metadata": {
    "incorrectly_encoded_metadata": "kernel=\"R\" toc-hr-collapsed=true",
    "kernel": "SoS"
   },
   "source": [
    "#### Code"
   ]
  },
  {
   "cell_type": "markdown",
   "metadata": {
    "kernel": "R"
   },
   "source": [
    "##### Private - Output - threshold"
   ]
  },
  {
   "cell_type": "code",
   "execution_count": null,
   "metadata": {
    "kernel": "R"
   },
   "outputs": [],
   "source": [
    "i <- 1\n",
    "l = list()\n",
    "while(i < 10) {\n",
    "    t1 <- felm(formula=log(tso2_cit) ~ TCZ_c * Period * polluted_thre \n",
    "                  + output_fcit + capital_fcit + labour_fcit\n",
    "                  |\n",
    "             FE_t_c + FE_t_i + FE_c_i | 0 |\n",
    "             industry, data= df_final %>% filter(rank_share_output_co == i),\n",
    "             exactDOF=TRUE)\n",
    "    \n",
    "    l[[i]] <- t1\n",
    "    i <- i + 1\n",
    "}"
   ]
  },
  {
   "cell_type": "code",
   "execution_count": null,
   "metadata": {
    "kernel": "python3"
   },
   "outputs": [],
   "source": [
    "import os\n",
    "decile=['& decile .1','decile .2', ' decile .3', 'decile .4',\n",
    "        'decile .5','decile .6', ' decile .7', 'decile .8',\n",
    "        'decile .9']\n",
    "try:\n",
    "    os.remove(\"table_2.txt\")\n",
    "except:\n",
    "    pass\n",
    "try:\n",
    "    os.remove(\"table_2.tex\")\n",
    "except:\n",
    "    pass"
   ]
  },
  {
   "cell_type": "code",
   "execution_count": null,
   "metadata": {
    "kernel": "R"
   },
   "outputs": [],
   "source": [
    "fe1 <- list(c(\"City-year fixed effects\", \"Yes\", \"Yes\", \"Yes\", 'Yes',\n",
    "              \"Yes\", \"Yes\", \"Yes\", 'Yes',\n",
    "              \"Yes\", \"Yes\"),\n",
    "             c(\"Industry-year fixed effects\", \"Yes\", \"Yes\", \"Yes\", 'Yes',\n",
    "              \"Yes\", \"Yes\", \"Yes\", 'Yes',\n",
    "              \"Yes\", \"Yes\"),\n",
    "             c(\"City-industry fixed effects\", \"Yes\", \"Yes\", \"Yes\", 'Yes',\n",
    "              \"Yes\", \"Yes\", \"Yes\", 'Yes',\n",
    "              \"Yes\", \"Yes\")\n",
    "             )\n",
    "table_1 <- go_latex(l,\n",
    "    dep_var = \"Dependent variable: \\\\text { SO2 emission }_{i k t}\",\n",
    "    title='Deciles output',\n",
    "    addFE=fe1,\n",
    "    save=TRUE,\n",
    "                    note = FALSE,\n",
    "    name=\"table_2.txt\"\n",
    ")"
   ]
  },
  {
   "cell_type": "code",
   "execution_count": null,
   "metadata": {
    "kernel": "python3"
   },
   "outputs": [],
   "source": [
    "tb = \"\"\"\\\\footnotesize{\n",
    "A decile indicates the rank share of [output, capital, employement] of the SOEs \\\\\n",
    "More specifically, the low deciles means a low presence of SOEs firms in the industries. \\\\\n",
    "Deciles close to one, however, implies a stronger share of [output, capital, employement] in the \\\\\n",
    "industries belong to those deciles.\n",
    "\\sym{*} Significance at the 10\\%, \\sym{**} Significance at the 5\\%, \\sym{***} Significance at the 1\\%\n",
    "}\n",
    "\"\"\"\n",
    "lb.beautify(table_number = 2,\n",
    "    constraint = False,\n",
    "    city_industry = False, \n",
    "    new_row = decile,\n",
    "    table_nte =tb)"
   ]
  },
  {
   "cell_type": "markdown",
   "metadata": {
    "kernel": "python3"
   },
   "source": [
    "##### Private - Output - cumulative"
   ]
  },
  {
   "cell_type": "code",
   "execution_count": null,
   "metadata": {
    "kernel": "R"
   },
   "outputs": [],
   "source": [
    "i <- 1\n",
    "l = list()\n",
    "while(i < 10) {\n",
    "    t1 <- felm(formula=log(tso2_cit) ~ TCZ_c * Period * polluted_thre \n",
    "                  + output_fcit + capital_fcit + labour_fcit\n",
    "                  |\n",
    "             FE_t_c + FE_t_i + FE_c_i | 0 |\n",
    "             industry, data= df_final %>% filter(rank_share_output_co <= i),\n",
    "             exactDOF=TRUE)\n",
    "    \n",
    "    l[[i]] <- t1\n",
    "    i <- i + 1\n",
    "}"
   ]
  },
  {
   "cell_type": "code",
   "execution_count": null,
   "metadata": {
    "kernel": "python3"
   },
   "outputs": [],
   "source": [
    "import os\n",
    "decile=['& decile .1','decile .2', ' decile .3', 'decile .4',\n",
    "        'decile .5','decile .6', ' decile .7', 'decile .8',\n",
    "        'decile .9']\n",
    "try:\n",
    "    os.remove(\"table_2.txt\")\n",
    "except:\n",
    "    pass\n",
    "try:\n",
    "    os.remove(\"table_2.tex\")\n",
    "except:\n",
    "    pass"
   ]
  },
  {
   "cell_type": "code",
   "execution_count": null,
   "metadata": {
    "kernel": "R"
   },
   "outputs": [],
   "source": [
    "fe1 <- list(c(\"City-year fixed effects\", \"Yes\", \"Yes\", \"Yes\", 'Yes',\n",
    "              \"Yes\", \"Yes\", \"Yes\", 'Yes',\n",
    "              \"Yes\", \"Yes\"),\n",
    "             c(\"Industry-year fixed effects\", \"Yes\", \"Yes\", \"Yes\", 'Yes',\n",
    "              \"Yes\", \"Yes\", \"Yes\", 'Yes',\n",
    "              \"Yes\", \"Yes\"),\n",
    "             c(\"City-industry fixed effects\", \"Yes\", \"Yes\", \"Yes\", 'Yes',\n",
    "              \"Yes\", \"Yes\", \"Yes\", 'Yes',\n",
    "              \"Yes\", \"Yes\")\n",
    "             )\n",
    "table_1 <- go_latex(l,\n",
    "    dep_var = \"Dependent variable: \\\\text { SO2 emission }_{i k t}\",\n",
    "    title='Cumulative Deciles output',\n",
    "    addFE=fe1,\n",
    "    save=TRUE,\n",
    "                    note = FALSE,\n",
    "    name=\"table_2.txt\"\n",
    ")"
   ]
  },
  {
   "cell_type": "code",
   "execution_count": null,
   "metadata": {
    "kernel": "python3"
   },
   "outputs": [],
   "source": [
    "tb = \"\"\"\\\\footnotesize{\n",
    "A decile indicates the rank share of [output, capital, employement] of the SOEs \\\\\n",
    "More specifically, the low deciles means a low presence of SOEs firms in the industries. \\\\\n",
    "Deciles close to one, however, implies a stronger share of [output, capital, employement] in the \\\\\n",
    "industries belong to those deciles.\n",
    "\\sym{*} Significance at the 10\\%, \\sym{**} Significance at the 5\\%, \\sym{***} Significance at the 1\\%\n",
    "}\n",
    "\"\"\"\n",
    "lb.beautify(table_number = 2,\n",
    "    constraint = False,\n",
    "    city_industry = False, \n",
    "    new_row = decile,\n",
    "    table_nte =tb)"
   ]
  },
  {
   "cell_type": "markdown",
   "metadata": {
    "incorrectly_encoded_metadata": "kernel=\"python3\" toc-hr-collapsed=true toc-nb-collapsed=true",
    "kernel": "SoS"
   },
   "source": [
    "### Capital\n",
    "\n",
    "Output latex table available here\n",
    "\n",
    "- https://www.overleaf.com/project/5deca0097e9f3a0001506527\n",
    "    - 050_capital_city_thresh\n",
    "    - 051_city_industry_cum\n",
    "    \n",
    "**Threshold**\n",
    "\n",
    "In Google Drive:\n",
    "\n",
    "![](https://drive.google.com/uc?export=view&id=1nW2NqDZ_KGWTSJGDgDoct53UauplCh2G)\n",
    "\n",
    "**Cumulative**\n",
    "\n",
    "![](https://drive.google.com/uc?export=view&id=1f-GnYoE7i5E0kOCVVP70DrCzYpd_VC9Y)"
   ]
  },
  {
   "cell_type": "markdown",
   "metadata": {
    "kernel": "python3"
   },
   "source": [
    "#### Code"
   ]
  },
  {
   "cell_type": "markdown",
   "metadata": {
    "kernel": "python3"
   },
   "source": [
    "##### Private - capital - threshold"
   ]
  },
  {
   "cell_type": "code",
   "execution_count": null,
   "metadata": {
    "kernel": "R"
   },
   "outputs": [],
   "source": [
    "i <- 1\n",
    "l = list()\n",
    "while(i < 10) {\n",
    "    t1 <- felm(formula=log(tso2_cit) ~ TCZ_c * Period * polluted_thre \n",
    "                  + output_fcit + capital_fcit + labour_fcit\n",
    "                  |\n",
    "             FE_t_c + FE_t_i + FE_c_i | 0 |\n",
    "             industry, data= df_final %>% filter(rank_share_capital_co == i),\n",
    "             exactDOF=TRUE)\n",
    "    \n",
    "    l[[i]] <- t1\n",
    "    i <- i + 1\n",
    "}"
   ]
  },
  {
   "cell_type": "code",
   "execution_count": null,
   "metadata": {
    "kernel": "python3"
   },
   "outputs": [],
   "source": [
    "import os\n",
    "decile=['& decile .1','decile .2', ' decile .3', 'decile .4',\n",
    "        'decile .5','decile .6', ' decile .7', 'decile .8',\n",
    "        'decile .9']\n",
    "try:\n",
    "    os.remove(\"table_2.txt\")\n",
    "except:\n",
    "    pass\n",
    "try:\n",
    "    os.remove(\"table_2.tex\")\n",
    "except:\n",
    "    pass"
   ]
  },
  {
   "cell_type": "code",
   "execution_count": null,
   "metadata": {
    "kernel": "R"
   },
   "outputs": [],
   "source": [
    "fe1 <- list(c(\"City-year fixed effects\", \"Yes\", \"Yes\", \"Yes\", 'Yes',\n",
    "              \"Yes\", \"Yes\", \"Yes\", 'Yes',\n",
    "              \"Yes\", \"Yes\"),\n",
    "             c(\"Industry-year fixed effects\", \"Yes\", \"Yes\", \"Yes\", 'Yes',\n",
    "              \"Yes\", \"Yes\", \"Yes\", 'Yes',\n",
    "              \"Yes\", \"Yes\"),\n",
    "             c(\"City-industry fixed effects\", \"Yes\", \"Yes\", \"Yes\", 'Yes',\n",
    "              \"Yes\", \"Yes\", \"Yes\", 'Yes',\n",
    "              \"Yes\", \"Yes\")\n",
    "             )\n",
    "table_1 <- go_latex(l,\n",
    "    dep_var = \"Dependent variable: \\\\text { SO2 emission }_{i k t}\",\n",
    "    title='Deciles capital',\n",
    "    addFE=fe1,\n",
    "    save=TRUE,\n",
    "                    note = FALSE,\n",
    "    name=\"table_2.txt\"\n",
    ")"
   ]
  },
  {
   "cell_type": "code",
   "execution_count": null,
   "metadata": {
    "kernel": "python3"
   },
   "outputs": [],
   "source": [
    "tb = \"\"\"\\\\footnotesize{\n",
    "A decile indicates the rank share of [output, capital, employement] of the SOEs \\\\\n",
    "More specifically, the low deciles means a low presence of SOEs firms in the industries. \\\\\n",
    "Deciles close to one, however, implies a stronger share of [output, capital, employement] in the \\\\\n",
    "industries belong to those deciles.\n",
    "\\sym{*} Significance at the 10\\%, \\sym{**} Significance at the 5\\%, \\sym{***} Significance at the 1\\%\n",
    "}\n",
    "\"\"\"\n",
    "lb.beautify(table_number = 2,\n",
    "    constraint = False,\n",
    "    city_industry = False, \n",
    "    new_row = decile,\n",
    "    table_nte =tb)"
   ]
  },
  {
   "cell_type": "markdown",
   "metadata": {
    "kernel": "python3"
   },
   "source": [
    "##### Private - capital - cumulative"
   ]
  },
  {
   "cell_type": "code",
   "execution_count": null,
   "metadata": {
    "kernel": "R"
   },
   "outputs": [],
   "source": [
    "i <- 1\n",
    "l = list()\n",
    "while(i < 10) {\n",
    "    t1 <- felm(formula=log(tso2_cit) ~ TCZ_c * Period * polluted_thre \n",
    "                  + output_fcit + capital_fcit + labour_fcit\n",
    "                  |\n",
    "             FE_t_c + FE_t_i + FE_c_i | 0 |\n",
    "             industry, data= df_final %>% filter(rank_share_capital_co <= i),\n",
    "             exactDOF=TRUE)\n",
    "    \n",
    "    l[[i]] <- t1\n",
    "    i <- i + 1\n",
    "}"
   ]
  },
  {
   "cell_type": "code",
   "execution_count": null,
   "metadata": {
    "kernel": "python3"
   },
   "outputs": [],
   "source": [
    "import os\n",
    "decile=['& decile .1','decile .2', ' decile .3', 'decile .4',\n",
    "        'decile .5','decile .6', ' decile .7', 'decile .8',\n",
    "        'decile .9']\n",
    "try:\n",
    "    os.remove(\"table_2.txt\")\n",
    "except:\n",
    "    pass\n",
    "try:\n",
    "    os.remove(\"table_2.tex\")\n",
    "except:\n",
    "    pass"
   ]
  },
  {
   "cell_type": "code",
   "execution_count": null,
   "metadata": {
    "kernel": "R"
   },
   "outputs": [],
   "source": [
    "fe1 <- list(c(\"City-year fixed effects\", \"Yes\", \"Yes\", \"Yes\", 'Yes',\n",
    "              \"Yes\", \"Yes\", \"Yes\", 'Yes',\n",
    "              \"Yes\", \"Yes\"),\n",
    "             c(\"Industry-year fixed effects\", \"Yes\", \"Yes\", \"Yes\", 'Yes',\n",
    "              \"Yes\", \"Yes\", \"Yes\", 'Yes',\n",
    "              \"Yes\", \"Yes\"),\n",
    "             c(\"City-industry fixed effects\", \"Yes\", \"Yes\", \"Yes\", 'Yes',\n",
    "              \"Yes\", \"Yes\", \"Yes\", 'Yes',\n",
    "              \"Yes\", \"Yes\")\n",
    "             )\n",
    "table_1 <- go_latex(l,\n",
    "    dep_var = \"Dependent variable: \\\\text { SO2 emission }_{i k t}\",\n",
    "    title='Cumulative Deciles capital',\n",
    "    addFE=fe1,\n",
    "    save=TRUE,\n",
    "                    note = FALSE,\n",
    "    name=\"table_2.txt\"\n",
    ")"
   ]
  },
  {
   "cell_type": "code",
   "execution_count": null,
   "metadata": {
    "kernel": "python3"
   },
   "outputs": [],
   "source": [
    "tb = \"\"\"\\\\footnotesize{\n",
    "A decile indicates the rank share of [output, capital, employement] of the SOEs \\\\\n",
    "More specifically, the low deciles means a low presence of SOEs firms in the industries. \\\\\n",
    "Deciles close to one, however, implies a stronger share of [output, capital, employement] in the \\\\\n",
    "industries belong to those deciles.\n",
    "\\sym{*} Significance at the 10\\%, \\sym{**} Significance at the 5\\%, \\sym{***} Significance at the 1\\%\n",
    "}\n",
    "\"\"\"\n",
    "lb.beautify(table_number = 2,\n",
    "    constraint = False,\n",
    "    city_industry = False, \n",
    "    new_row = decile,\n",
    "    table_nte =tb)"
   ]
  },
  {
   "cell_type": "markdown",
   "metadata": {
    "kernel": "python3"
   },
   "source": [
    "### Employement\n",
    "\n",
    "Output latex table available here\n",
    "\n",
    "- https://www.overleaf.com/project/5deca0097e9f3a0001506527\n",
    "    - 060_employement_city_thresh\n",
    "    - 061_employement_city_thresh\n",
    "    \n",
    "**Threshold**\n",
    "\n",
    "In Google Drive:\n",
    "\n",
    "![](https://drive.google.com/uc?export=view&id=1pUCoFUZAQ71i2PpOP4xLcXgk9ZhAMSVS)\n",
    "\n",
    "**Cumulative**\n",
    "\n",
    "![](https://drive.google.com/uc?export=view&id=1psm8mYl-wSc-T42CfLELmR5dzyRLOz6U)"
   ]
  },
  {
   "cell_type": "markdown",
   "metadata": {
    "kernel": "python3"
   },
   "source": [
    "#### Code"
   ]
  },
  {
   "cell_type": "markdown",
   "metadata": {
    "incorrectly_encoded_metadata": "kernel=\"python3\" toc-hr-collapsed=true toc-nb-collapsed=true",
    "kernel": "SoS"
   },
   "source": [
    "##### Private - employement - threshold"
   ]
  },
  {
   "cell_type": "code",
   "execution_count": null,
   "metadata": {
    "kernel": "R"
   },
   "outputs": [],
   "source": [
    "i <- 1\n",
    "l = list()\n",
    "while(i < 10) {\n",
    "    t1 <- felm(formula=log(tso2_cit) ~ TCZ_c * Period * polluted_thre \n",
    "                  + output_fcit + capital_fcit + labour_fcit\n",
    "                  |\n",
    "             FE_t_c + FE_t_i + FE_c_i | 0 |\n",
    "             industry, data= df_final %>% filter(rank_share_employement_co == i),\n",
    "             exactDOF=TRUE)\n",
    "    \n",
    "    l[[i]] <- t1\n",
    "    i <- i + 1\n",
    "}"
   ]
  },
  {
   "cell_type": "code",
   "execution_count": null,
   "metadata": {
    "kernel": "python3"
   },
   "outputs": [],
   "source": [
    "import os\n",
    "decile=['& decile .1','decile .2', ' decile .3', 'decile .4',\n",
    "        'decile .5','decile .6', ' decile .7', 'decile .8',\n",
    "        'decile .9']\n",
    "try:\n",
    "    os.remove(\"table_2.txt\")\n",
    "except:\n",
    "    pass\n",
    "try:\n",
    "    os.remove(\"table_2.tex\")\n",
    "except:\n",
    "    pass"
   ]
  },
  {
   "cell_type": "code",
   "execution_count": null,
   "metadata": {
    "kernel": "R"
   },
   "outputs": [],
   "source": [
    "fe1 <- list(c(\"City-year fixed effects\", \"Yes\", \"Yes\", \"Yes\", 'Yes',\n",
    "              \"Yes\", \"Yes\", \"Yes\", 'Yes',\n",
    "              \"Yes\", \"Yes\"),\n",
    "             c(\"Industry-year fixed effects\", \"Yes\", \"Yes\", \"Yes\", 'Yes',\n",
    "              \"Yes\", \"Yes\", \"Yes\", 'Yes',\n",
    "              \"Yes\", \"Yes\"),\n",
    "             c(\"City-industry fixed effects\", \"Yes\", \"Yes\", \"Yes\", 'Yes',\n",
    "              \"Yes\", \"Yes\", \"Yes\", 'Yes',\n",
    "              \"Yes\", \"Yes\")\n",
    "             )\n",
    "table_1 <- go_latex(l,\n",
    "    dep_var = \"Dependent variable: \\\\text { SO2 emission }_{i k t}\",\n",
    "    title='Deciles Employment',\n",
    "    addFE=fe1,\n",
    "    save=TRUE,\n",
    "                    note = FALSE,\n",
    "    name=\"table_2.txt\"\n",
    ")"
   ]
  },
  {
   "cell_type": "code",
   "execution_count": null,
   "metadata": {
    "kernel": "python3"
   },
   "outputs": [],
   "source": [
    "tb = \"\"\"\\\\footnotesize{\n",
    "A decile indicates the rank share of [output, capital, employement] of the SOEs \\\\\n",
    "More specifically, the low deciles means a low presence of SOEs firms in the industries. \\\\\n",
    "Deciles close to one, however, implies a stronger share of [output, capital, employement] in the \\\\\n",
    "industries belong to those deciles.\n",
    "\\sym{*} Significance at the 10\\%, \\sym{**} Significance at the 5\\%, \\sym{***} Significance at the 1\\%\n",
    "}\n",
    "\"\"\"\n",
    "lb.beautify(table_number = 2,\n",
    "    constraint = False,\n",
    "    city_industry = False, \n",
    "    new_row = decile,\n",
    "    table_nte =tb)"
   ]
  },
  {
   "cell_type": "markdown",
   "metadata": {
    "kernel": "python3"
   },
   "source": [
    "##### Private - employement - Cumulatice"
   ]
  },
  {
   "cell_type": "code",
   "execution_count": null,
   "metadata": {
    "kernel": "R"
   },
   "outputs": [],
   "source": [
    "i <- 1\n",
    "l = list()\n",
    "while(i < 10) {\n",
    "    t1 <- felm(formula=log(tso2_cit) ~ TCZ_c * Period * polluted_thre \n",
    "                  + output_fcit + capital_fcit + labour_fcit\n",
    "                  |\n",
    "             FE_t_c + FE_t_i + FE_c_i | 0 |\n",
    "             industry, data= df_final %>% filter(rank_share_employement_co <= i),\n",
    "             exactDOF=TRUE)\n",
    "    \n",
    "    l[[i]] <- t1\n",
    "    i <- i + 1\n",
    "}"
   ]
  },
  {
   "cell_type": "code",
   "execution_count": null,
   "metadata": {
    "kernel": "python3"
   },
   "outputs": [],
   "source": [
    "import os\n",
    "decile=['& decile .1','decile .2', ' decile .3', 'decile .4',\n",
    "        'decile .5','decile .6', ' decile .7', 'decile .8',\n",
    "        'decile .9']\n",
    "try:\n",
    "    os.remove(\"table_2.txt\")\n",
    "except:\n",
    "    pass\n",
    "try:\n",
    "    os.remove(\"table_2.tex\")\n",
    "except:\n",
    "    pass"
   ]
  },
  {
   "cell_type": "code",
   "execution_count": null,
   "metadata": {
    "kernel": "R"
   },
   "outputs": [],
   "source": [
    "fe1 <- list(c(\"City-year fixed effects\", \"Yes\", \"Yes\", \"Yes\", 'Yes',\n",
    "              \"Yes\", \"Yes\", \"Yes\", 'Yes',\n",
    "              \"Yes\", \"Yes\"),\n",
    "             c(\"Industry-year fixed effects\", \"Yes\", \"Yes\", \"Yes\", 'Yes',\n",
    "              \"Yes\", \"Yes\", \"Yes\", 'Yes',\n",
    "              \"Yes\", \"Yes\"),\n",
    "             c(\"City-industry fixed effects\", \"Yes\", \"Yes\", \"Yes\", 'Yes',\n",
    "              \"Yes\", \"Yes\", \"Yes\", 'Yes',\n",
    "              \"Yes\", \"Yes\")\n",
    "             )\n",
    "table_1 <- go_latex(l,\n",
    "    dep_var = \"Dependent variable: \\\\text { SO2 emission }_{i k t}\",\n",
    "    title='Cumulative Deciles employment',\n",
    "    addFE=fe1,\n",
    "    save=TRUE,\n",
    "                    note = FALSE,\n",
    "    name=\"table_2.txt\"\n",
    ")"
   ]
  },
  {
   "cell_type": "code",
   "execution_count": null,
   "metadata": {
    "kernel": "python3"
   },
   "outputs": [],
   "source": [
    "tb = \"\"\"\\\\footnotesize{\n",
    "A decile indicates the rank share of [output, capital, employement] of the SOEs \\\\\n",
    "More specifically, the low deciles means a low presence of SOEs firms in the industries. \\\\\n",
    "Deciles close to one, however, implies a stronger share of [output, capital, employement] in the \\\\\n",
    "industries belong to those deciles.\n",
    "\\sym{*} Significance at the 10\\%, \\sym{**} Significance at the 5\\%, \\sym{***} Significance at the 1\\%\n",
    "}\n",
    "\"\"\"\n",
    "lb.beautify(table_number = 2,\n",
    "    constraint = False,\n",
    "    city_industry = False, \n",
    "    new_row = decile,\n",
    "    table_nte =tb)"
   ]
  }
 ],
 "metadata": {
  "jupytext": {
   "formats": "ipynb,md"
  },
  "kernelspec": {
   "display_name": "SoS",
   "language": "sos",
   "name": "sos"
  },
  "language_info": {
   "codemirror_mode": "sos",
   "file_extension": ".sos",
   "mimetype": "text/x-sos",
   "name": "sos",
   "nbconvert_exporter": "sos_notebook.converter.SoS_Exporter",
   "pygments_lexer": "sos"
  },
  "sos": {
   "kernels": [
    [
     "R",
     "ir",
     "R",
     "#DCDCDA",
     "r"
    ],
    [
     "SoS",
     "sos",
     "",
     "",
     "sos"
    ],
    [
     "python3",
     "python3",
     "python3",
     "",
     {
      "name": "ipython",
      "version": 3
     }
    ]
   ],
   "version": "0.20.6"
  }
 },
 "nbformat": 4,
 "nbformat_minor": 4
}
