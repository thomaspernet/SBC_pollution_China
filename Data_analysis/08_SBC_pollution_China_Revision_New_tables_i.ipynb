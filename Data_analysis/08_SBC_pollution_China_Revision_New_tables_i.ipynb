{
 "cells": [
  {
   "cell_type": "markdown",
   "metadata": {
    "kernel": "SoS"
   },
   "source": [
    "# New Tables: Industry level\n",
    "\n",
    "* Faire les tableaux suivants:\n",
    "  * Tableau 4: Kuznet: benchmark → Revision\n",
    "      * Trouver un tableau avec les déciles pour montrer:\n",
    "        * turning point croissant pour des villes avec une dominance étatique de plus en plus large\n",
    "      * Regarder si gdp/cap prix constant\n",
    "      * Indiquer les turning points dans les tableaux\n",
    "* Partie 6:\n",
    "  * Tableau 8: \n",
    "    * estimer 2 modèles sur des échantillons differents\n",
    "      * modèle 1 →  TCZ * Polluted * Period\n",
    "      * modèle 2 → Target * polluted*Period  \n",
    "    * Echantillonnage → prendre soit industry soit city industry\n",
    "      * Big\n",
    "        * Via Herfhindal \n",
    "          * benchmark →Revision\n",
    "      * Foreign \n",
    "        * via output/capital/employment \n",
    "      * SOEs\n",
    "        * via output/capital/employment \n",
    "      * SPZ\n",
    "      * Coastal\n",
    "    * Chaque tableau avec Panel A pour supérieur threshold, Panel B pour inférieur threshold\n",
    "  * Tableau 9:\n",
    "    * Enlever SPZ & Coastal\n",
    "    * estimer 2 modèles sur des échantillons differents\n",
    "      * modèle 1 →  TCZ * Polluted * Period\n",
    "      * modèle 2 → Target * polluted*Period  \n",
    "    * Idem tableau 8"
   ]
  },
  {
   "cell_type": "code",
   "execution_count": null,
   "metadata": {
    "kernel": "SoS"
   },
   "outputs": [],
   "source": [
    "import pandas as pd\n",
    "from Fast_connectCloud import connector\n",
    "import numpy as np"
   ]
  },
  {
   "cell_type": "code",
   "execution_count": null,
   "metadata": {
    "kernel": "Python 3"
   },
   "outputs": [],
   "source": [
    "import functions.latex_beautify as lb\n",
    "\n",
    "%load_ext autoreload\n",
    "%autoreload 2"
   ]
  },
  {
   "cell_type": "code",
   "execution_count": null,
   "metadata": {
    "kernel": "SoS"
   },
   "outputs": [],
   "source": [
    "gs = connector.open_connection(online_connection = False,\n",
    "                              path_credential = '/Users/thomas/Google Drive/Projects/Client_Oauth/Google_auth')\n",
    "\n",
    "service = gs.connect_remote('GCP')"
   ]
  },
  {
   "cell_type": "code",
   "execution_count": null,
   "metadata": {
    "kernel": "SoS"
   },
   "outputs": [],
   "source": [
    "%put df_final --to R\n",
    "\n",
    "from GoogleDrivePy.google_platform import connect_cloud_platform\n",
    "project = 'valid-pagoda-132423'\n",
    "gcp = connect_cloud_platform.connect_console(project = project, \n",
    "                                             service_account = service['GoogleCloudP'])    \n",
    "query = (\n",
    "          \"SELECT * \"\n",
    "            \"FROM China.SBC_pollution_China \"\n",
    "\n",
    "        )\n",
    "\n",
    "df_final = gcp.upload_data_from_bigquery(query = query, location = 'US')\n",
    "df_final.head()"
   ]
  },
  {
   "cell_type": "code",
   "execution_count": null,
   "metadata": {
    "kernel": "R"
   },
   "outputs": [],
   "source": [
    "options(warn=-1)\n",
    "library(tidyverse)\n",
    "library(lfe)\n",
    "library(lazyeval)\n",
    "library('progress')\n",
    "\n",
    "path = \"functions/SBC_pollution_R.R\"\n",
    "source(path)\n",
    "path = \"functions/SBC_pollutiuon_golatex.R\"\n",
    "source(path)"
   ]
  },
  {
   "cell_type": "code",
   "execution_count": null,
   "metadata": {
    "kernel": "R"
   },
   "outputs": [],
   "source": [
    "df_final <- df_final %>% \n",
    "    mutate_if(is.character, as.factor) %>%\n",
    "    mutate_at(vars(starts_with(\"FE\")), as.factor) %>%\n",
    "    mutate(\n",
    "         Period = relevel(Period, ref='Before'),\n",
    "         TCZ_c = relevel(TCZ_c, ref='No_TCZ'),\n",
    "         effort_c = relevel(effort_c, ref='Below'),\n",
    "         polluted_di = relevel(polluted_di, ref='Below'),\n",
    "         polluted_mi = relevel(polluted_mi, ref='Below'),\n",
    "         polluted_thre = relevel(polluted_thre, ref='Below'),\n",
    "  )\n",
    "head(df_final)"
   ]
  },
  {
   "cell_type": "markdown",
   "metadata": {
    "kernel": "python3"
   },
   "source": [
    "# Partie 6"
   ]
  },
  {
   "cell_type": "markdown",
   "metadata": {
    "kernel": "python3"
   },
   "source": [
    "## Tableau 8 A and B \n",
    "\n",
    "Estimate the following models using different subsamples:\n",
    "\n",
    "### Model A \n",
    "\n",
    "$$\n",
    "Log SO2 emission _{i k t}=\\alpha\\left(\\text { Period } \\times \\text { TCZ }_{i} \\times \\text { Polluting sectors }_{k} \\right)+\\nu_{i k}+\\lambda_{i t}+\\phi_{k t}+\\epsilon_{i k t}\n",
    "$$\n",
    "\n",
    "$$\n",
    "Log SO2 emission _{i k t}=\\alpha\\left(\\text { Period } \\times \\text { TCZ }_{i} \\times \\text { Polluting sectors }_{k} \\times \\text{ Share X}_i \\right)+\\nu_{i k}+\\lambda_{i t}+\\phi_{k t}+\\epsilon_{i k t}\n",
    "$$\n",
    "\n",
    "### Model B\n",
    "\n",
    "$$\n",
    "Log SO2 emission _{i k t}=\\alpha\\left(\\text { Period } \\times \\text { Target }_{i} \\times \\text { Polluting sectors }_{k}\\right)+\\nu_{i k}+\\lambda_{i t}+\\phi_{k t}+\\epsilon_{i k t}\n",
    "$$\n",
    "\n",
    "* Size\n",
    "    * Via Herfhindal \n",
    "        * benchmark →Revision\n",
    "* Foreign \n",
    "    * via output/capital/employment \n",
    "* SOEs\n",
    "    * via output/capital/employment \n",
    "* SPZ\n",
    "* Coastal"
   ]
  },
  {
   "cell_type": "markdown",
   "metadata": {
    "kernel": "python3"
   },
   "source": [
    "## Load Data"
   ]
  },
  {
   "cell_type": "markdown",
   "metadata": {
    "kernel": "python3"
   },
   "source": [
    "### Compute Herfhindal: proxy Size\n",
    "\n",
    "$$\n",
    "H=\\sum_{i=1}^{N} s_{i}^{2}\n",
    "$$\n",
    "\n",
    "where $s_i$ is the market share of city $i$ in the industry, and $N$ is the number of firms. \n",
    "\n",
    "We proceed as follow:\n",
    "- Step 1: Compute the share [output, capital, employment] by city-industry: `market_share_cit`\n",
    "- Step 2: compute the sum of squared market share by industry: `Herfindahl_it`\n",
    "- Step 3: Compute the average across time: `Herfindahl_i`\n",
    "- Step 4: Compute the deciles of step 3: `decile_herfhindal_i`\n",
    "    - Low decile implies a low concentration within sectors\n",
    "    - High decile implies a high concentration within sectors"
   ]
  },
  {
   "cell_type": "code",
   "execution_count": null,
   "metadata": {
    "kernel": "SoS"
   },
   "outputs": [],
   "source": [
    "query = \"\"\"\n",
    "WITH sum_cit AS (\n",
    "  SELECT geocode4_corr, cic, sum(output) as sum_o_cit, year\n",
    "  FROM China.asif_firm_china \n",
    "  WHERE year >= 2002 AND year <= 2007\n",
    "  AND output > 0 \n",
    "    AND fa_net > 0 \n",
    "    AND employment > 0 \n",
    "  GROUP BY geocode4_corr, cic, year\n",
    ") \n",
    "SELECT * \n",
    "FROM \n",
    "  (WITH sum_it AS (\n",
    "    SELECT cic, SUM(sum_o_cit) as sum_o_it, year\n",
    "    FROM sum_cit\n",
    "    WHERE year >= 2002 AND year <= 2007\n",
    "    GROUP BY year, cic\n",
    ")\n",
    "SELECT *\n",
    "FROM\n",
    "  (WITH ms_cit AS (\n",
    "    SELECT  sum_cit.cic, sum_cit.geocode4_corr, sum_cit.year,\n",
    "    sum_cit.sum_o_cit/NULLIF(sum_it.sum_o_it, 0) as market_share_cit\n",
    "    FROM sum_cit\n",
    "    LEFT JOIN sum_it\n",
    "ON (\n",
    "sum_cit.year = sum_it.year AND \n",
    "sum_cit.cic = sum_it.cic\n",
    ")\n",
    ")\n",
    "SELECT *\n",
    "FROM\n",
    "  (WITH agg_1 AS (\n",
    "SELECT cic, SUM(POW(market_share_cit, 2)) as Herfindahl_it,\n",
    "year\n",
    "FROM ms_cit\n",
    "GROUP BY year, cic\n",
    "ORDER BY year, cic \n",
    ")\n",
    "SELECT *\n",
    "FROM (\n",
    "WITH avg_H_i AS (\n",
    "SELECT cic, AVG(Herfindahl_it) as Herfindahl_i\n",
    "FROM agg_1\n",
    "GROUP BY cic\n",
    ")\n",
    "SELECT cic as industry, Herfindahl_i ,\n",
    "NTILE(10)  OVER (ORDER BY Herfindahl_i) as\n",
    "decile_herfhindal_i\n",
    "FROM avg_H_i\n",
    "ORDER BY decile_herfhindal_i\n",
    "))))\n",
    "\"\"\"\n",
    "df_herfhindal = gcp.upload_data_from_bigquery(query = query,\n",
    "                                         location = 'US')\n",
    "df_herfhindal['decile_herfhindal_i'].value_counts().sort_index()"
   ]
  },
  {
   "cell_type": "markdown",
   "metadata": {
    "kernel": "SoS"
   },
   "source": [
    "### Compute Ownership: proxy Foreign/SOE\n",
    "\n",
    "$$\\sum output_{io}/ \\sum output_i$$\n",
    "\n",
    "- with $i$ stands for industry\n",
    "- $o$ stands for ownership (Foreign vs Domestic or SOE vs private)\n",
    "\n"
   ]
  },
  {
   "cell_type": "markdown",
   "metadata": {
    "kernel": "SoS"
   },
   "source": [
    "#### Foreign vs domestic\n",
    "\n",
    "We proceed as follow:\n",
    "- Step 1: Compute the share [output, capital, employment] by industry, ownership (Foreign/Domestic): `Share_X_io`\n",
    "- Step 2: Compute dummy when share Foreign above share domestic by industry\n"
   ]
  },
  {
   "cell_type": "code",
   "execution_count": null,
   "metadata": {
    "kernel": "SoS"
   },
   "outputs": [],
   "source": [
    "query_share_foreign = \"\"\" \n",
    "WITH sum_io AS (\n",
    "  SELECT \n",
    "    case WHEN ownership = 'Foreign' THEN 'FOREIGN' ELSE 'DOMESTIC' END AS OWNERSHIP, \n",
    "    SUM(output / 10000000) as output_io, \n",
    "    SUM(fa_net / 10000000) as fa_net_io, \n",
    "    SUM(employment / 100000) as employment_io,\n",
    "    cic\n",
    "  FROM \n",
    "    China.asif_firm_china \n",
    "  WHERE \n",
    "    year >= 2002 \n",
    "    AND year <= 2007 \n",
    "    AND output > 0 \n",
    "    AND fa_net > 0 \n",
    "    AND employment > 0 \n",
    "  GROUP BY \n",
    "    OWNERSHIP, \n",
    "    cic\n",
    ") \n",
    "SELECT \n",
    "  * \n",
    "FROM \n",
    "  (\n",
    "    WITH sum_i AS(\n",
    "      SELECT \n",
    "        SUM(output_io) as output_i, \n",
    "        SUM(fa_net_io) as fa_net_i, \n",
    "        SUM(employment_io) as employment_i, \n",
    "        cic AS cic_b\n",
    "      FROM \n",
    "        sum_io \n",
    "      GROUP BY \n",
    "        cic\n",
    "    ) \n",
    "    SELECT \n",
    "      * \n",
    "    FROM \n",
    "      (\n",
    "        WITH share_io AS(\n",
    "          SELECT \n",
    "            OWNERSHIP, \n",
    "            output_io / output_i AS share_output_io, \n",
    "            fa_net_io / fa_net_i AS share_fa_net_io, \n",
    "            employment_io / employment_i AS share_employement_io, \n",
    "            cic\n",
    "          FROM \n",
    "            sum_io \n",
    "            LEFT JOIN sum_i ON sum_io.cic = sum_i.cic_b \n",
    "        ) \n",
    "        SELECT \n",
    "        * \n",
    "        FROM(\n",
    "        WITH decile_i AS (\n",
    "        SELECT \n",
    "        cic as industry,\n",
    "        OWNERSHIP,  \n",
    "        NTILE(10)  OVER (PARTITION BY OWNERSHIP ORDER BY share_output_io) \n",
    "          as rank_share_output_i,\n",
    "          NTILE(10)  OVER (PARTITION BY OWNERSHIP ORDER BY share_fa_net_io) \n",
    "          as rank_share_capital_i,\n",
    "          NTILE(10)  OVER (PARTITION BY OWNERSHIP ORDER BY share_employement_io) \n",
    "          as rank_share_employement_i,\n",
    "          share_output_io,\n",
    "          share_fa_net_io,\n",
    "          share_employement_io\n",
    "        FROM share_io\n",
    "        )\n",
    "        SELECT * \n",
    "        FROM decile_i \n",
    "        /*WHERE OWNERSHIP = 'FOREIGN'*/\n",
    "        )\n",
    "        )\n",
    "        )\n",
    "\"\"\"\n",
    "df_share_foreign = gcp.upload_data_from_bigquery(query = query_share_foreign,\n",
    "                                         location = 'US')\n",
    "df_share_foreign['rank_share_output_i'].value_counts().sort_index()"
   ]
  },
  {
   "cell_type": "code",
   "execution_count": null,
   "metadata": {
    "kernel": "SoS"
   },
   "outputs": [],
   "source": [
    "df_share_foreign = (df_share_foreign\n",
    " .set_index(['industry', 'OWNERSHIP'])\n",
    " .drop(columns = ['rank_share_output_i',\n",
    "                  'rank_share_capital_i',\n",
    "                  'rank_share_employement_i'])\n",
    " .unstack(-1)\n",
    " .fillna(0)\n",
    " .assign(\n",
    " output = lambda x: np.where(\n",
    "     x.iloc[:,1] > x.iloc[:,0],\n",
    "     'Above', 'Below'\n",
    " ),\n",
    "     capital = lambda x: np.where(\n",
    "     x.iloc[:,3] > x.iloc[:,0],\n",
    "     'Above', 'Below'\n",
    " ),\n",
    "     employment = lambda x: np.where(\n",
    "     x.iloc[:,5] > x.iloc[:,0],\n",
    "     'Above', 'Below'\n",
    " )\n",
    " )\n",
    " .iloc[:, -3:]\n",
    " .droplevel(level = 1, axis = 1)\n",
    " .reset_index()\n",
    ")\n",
    "for i in ['output','capital', 'employment']:\n",
    "    print(df_share_foreign[i].value_counts().sort_index())"
   ]
  },
  {
   "cell_type": "markdown",
   "metadata": {
    "kernel": "SoS"
   },
   "source": [
    "#### SOE\n",
    "\n",
    "We proceed as follow:\n",
    "- Step 1: Compute the share [output, capital, employment] by industry, ownership (SOE/Private): `Share_X_io`\n",
    "- Step 2: Compute dummy when share SOE above share Private by industry"
   ]
  },
  {
   "cell_type": "code",
   "execution_count": null,
   "metadata": {
    "kernel": "SoS"
   },
   "outputs": [],
   "source": [
    "query_share_soe = \"\"\" \n",
    "WITH sum_io AS (\n",
    "  SELECT \n",
    "    case WHEN ownership = 'SOE' THEN 'SOE' ELSE 'DOMESTIC' END AS OWNERSHIP, \n",
    "    SUM(output / 10000000) as output_io, \n",
    "    SUM(fa_net / 10000000) as fa_net_io, \n",
    "    SUM(employment / 100000) as employment_io,\n",
    "    cic\n",
    "  FROM \n",
    "    China.asif_firm_china \n",
    "  WHERE \n",
    "    year >= 2002 \n",
    "    AND year <= 2007 \n",
    "    AND output > 0 \n",
    "    AND fa_net > 0 \n",
    "    AND employment > 0 \n",
    "  GROUP BY \n",
    "    OWNERSHIP, \n",
    "    cic\n",
    ") \n",
    "SELECT \n",
    "  * \n",
    "FROM \n",
    "  (\n",
    "    WITH sum_i AS(\n",
    "      SELECT \n",
    "        SUM(output_io) as output_i, \n",
    "        SUM(fa_net_io) as fa_net_i, \n",
    "        SUM(employment_io) as employment_i, \n",
    "        cic AS cic_b\n",
    "      FROM \n",
    "        sum_io \n",
    "      GROUP BY \n",
    "        cic\n",
    "    ) \n",
    "    SELECT \n",
    "      * \n",
    "    FROM \n",
    "      (\n",
    "        WITH share_io AS(\n",
    "          SELECT \n",
    "            OWNERSHIP, \n",
    "            output_io / output_i AS share_output_io, \n",
    "            fa_net_io / fa_net_i AS share_fa_net_io, \n",
    "            employment_io / employment_i AS share_employement_io, \n",
    "            cic\n",
    "          FROM \n",
    "            sum_io \n",
    "            LEFT JOIN sum_i ON sum_io.cic = sum_i.cic_b \n",
    "        ) \n",
    "        SELECT \n",
    "        * \n",
    "        FROM(\n",
    "        WITH decile_i AS (\n",
    "        SELECT \n",
    "        cic as industry,\n",
    "        OWNERSHIP,  \n",
    "        NTILE(10)  OVER (PARTITION BY OWNERSHIP ORDER BY share_output_io) \n",
    "          as rank_share_output_i,\n",
    "          NTILE(10)  OVER (PARTITION BY OWNERSHIP ORDER BY share_fa_net_io) \n",
    "          as rank_share_capital_i,\n",
    "          NTILE(10)  OVER (PARTITION BY OWNERSHIP ORDER BY share_employement_io) \n",
    "          as rank_share_employement_i,\n",
    "          share_output_io,\n",
    "          share_fa_net_io,\n",
    "          share_employement_io\n",
    "        FROM share_io\n",
    "        )\n",
    "        SELECT * \n",
    "        FROM decile_i \n",
    "        /*WHERE OWNERSHIP = 'SOE'*/\n",
    "        )\n",
    "        )\n",
    "        )\n",
    "\"\"\"\n",
    "df_share_soe = gcp.upload_data_from_bigquery(query = query_share_soe,\n",
    "                                         location = 'US')\n",
    "df_share_soe['rank_share_output_i'].value_counts().sort_index()"
   ]
  },
  {
   "cell_type": "code",
   "execution_count": null,
   "metadata": {
    "kernel": "SoS"
   },
   "outputs": [],
   "source": [
    "df_share_soe = (df_share_soe\n",
    " .set_index(['industry', 'OWNERSHIP'])\n",
    " .drop(columns = ['rank_share_output_i',\n",
    "                  'rank_share_capital_i',\n",
    "                  'rank_share_employement_i'])\n",
    " .unstack(-1)\n",
    " .fillna(0)\n",
    " .assign(\n",
    " output = lambda x: np.where(\n",
    "     x.iloc[:,1] > x.iloc[:,0],\n",
    "     'Above', 'Below'\n",
    " ),\n",
    "     capital = lambda x: np.where(\n",
    "     x.iloc[:,3] > x.iloc[:,0],\n",
    "     'Above', 'Below'\n",
    " ),\n",
    "     employment = lambda x: np.where(\n",
    "     x.iloc[:,5] > x.iloc[:,0],\n",
    "     'Above', 'Below'\n",
    " )\n",
    " )\n",
    " .iloc[:, -3:]\n",
    " .droplevel(level = 1, axis = 1)\n",
    " .reset_index()\n",
    ")\n",
    "\n",
    "for i in ['output','capital', 'employment']:\n",
    "    print(df_share_soe[i].value_counts().sort_index())"
   ]
  },
  {
   "cell_type": "markdown",
   "metadata": {
    "kernel": "SoS"
   },
   "source": [
    "### Load TCZ_list_china from Google Spreadsheet\n",
    "\n",
    "Feel free to add description about the dataset or any usefull information.\n",
    "\n",
    "Profiling will be available soon for this dataset"
   ]
  },
  {
   "cell_type": "code",
   "execution_count": null,
   "metadata": {
    "kernel": "python3"
   },
   "outputs": [],
   "source": [
    "### Please go here https://docs.google.com/spreadsheets/d/15bMeS2cMfGfYJkjuY6wOMzcAUWZNRGpO03hZ8rpgv0Q\n",
    "### To change the range\n",
    "\n",
    "#sheetid = '15bMeS2cMfGfYJkjuY6wOMzcAUWZNRGpO03hZ8rpgv0Q'\n",
    "#sheetname = 'All_cities'\n",
    "\n",
    "#df_TCZ_list_china = gdr.upload_data_from_spreadsheet(sheetID = sheetid,\n",
    "#sheetName = sheetname,\n",
    "#\t to_dataframe = True)\n",
    "#df_TCZ_list_china.to_csv('df_TCZ_list_china.csv', index = False)"
   ]
  },
  {
   "cell_type": "code",
   "execution_count": null,
   "metadata": {
    "kernel": "R"
   },
   "outputs": [],
   "source": [
    "df_TCZ_list_china = read_csv('df_TCZ_list_china.csv') %>% \n",
    "select(-c(TCZ, Province)) %>% \n",
    "left_join(df_final)"
   ]
  },
  {
   "cell_type": "markdown",
   "metadata": {
    "kernel": "SoS"
   },
   "source": [
    "### Add to table"
   ]
  },
  {
   "cell_type": "code",
   "execution_count": null,
   "metadata": {
    "kernel": "SoS"
   },
   "outputs": [],
   "source": [
    "%put df_herfhindal_final --to R\n",
    "df_herfhindal_final = df_final.merge(df_herfhindal,\n",
    "                                     on=['industry'],\n",
    "                                     how='left',\n",
    "                                     indicator=True\n",
    "                                     )"
   ]
  },
  {
   "cell_type": "code",
   "execution_count": null,
   "metadata": {
    "kernel": "R"
   },
   "outputs": [],
   "source": [
    "df_herfhindal_r <- df_herfhindal_final %>% \n",
    "    mutate_if(is.character, as.factor) %>%\n",
    "    mutate_at(vars(starts_with(\"FE\")), as.factor) %>%\n",
    "    mutate(\n",
    "         Period = relevel(Period, ref='Before'),\n",
    "         TCZ_c = relevel(TCZ_c, ref='No_TCZ'),\n",
    "         effort_c = relevel(effort_c, ref='Below'),\n",
    "         polluted_di = relevel(polluted_di, ref='Below'),\n",
    "         polluted_mi = relevel(polluted_mi, ref='Below'),\n",
    "         polluted_thre = relevel(polluted_thre, ref='Below'),\n",
    "  )"
   ]
  },
  {
   "cell_type": "code",
   "execution_count": null,
   "metadata": {
    "kernel": "SoS"
   },
   "outputs": [],
   "source": [
    "%put df_final_SOE --to R\n",
    "df_final_SOE = (df_final.merge(\n",
    "    df_share_soe,\n",
    "    how = 'left',\n",
    "    indicator = True\n",
    ")\n",
    "                #.assign(\n",
    "                #    rank_share_output_ci= lambda x: \n",
    "                #    x['rank_share_output_i'].fillna(0),\n",
    "                #    rank_share_capital_ci= lambda x: \n",
    "                #    x['rank_share_output_i'].fillna(0),\n",
    "                #    rank_share_employement_ci= lambda x: \n",
    "                #    x['rank_share_output_i'].fillna(0),\n",
    "                #)\n",
    ")\n",
    "df_final_SOE['output'].value_counts()"
   ]
  },
  {
   "cell_type": "code",
   "execution_count": null,
   "metadata": {
    "kernel": "SoS"
   },
   "outputs": [],
   "source": [
    "df_final_SOE['capital'].value_counts()"
   ]
  },
  {
   "cell_type": "code",
   "execution_count": null,
   "metadata": {
    "kernel": "SoS"
   },
   "outputs": [],
   "source": [
    "df_final_SOE['employment'].value_counts()"
   ]
  },
  {
   "cell_type": "code",
   "execution_count": null,
   "metadata": {
    "kernel": "R"
   },
   "outputs": [],
   "source": [
    "df_final_SOE <- df_final_SOE %>% \n",
    "    mutate_if(is.character, as.factor) %>%\n",
    "    mutate_at(vars(starts_with(\"FE\")), as.factor) %>%\n",
    "    mutate(\n",
    "         Period = relevel(Period, ref='Before'),\n",
    "         TCZ_c = relevel(TCZ_c, ref='No_TCZ'),\n",
    "         effort_c = relevel(effort_c, ref='Below'),\n",
    "         polluted_di = relevel(polluted_di, ref='Below'),\n",
    "         polluted_mi = relevel(polluted_mi, ref='Below'),\n",
    "         polluted_thre = relevel(polluted_thre, ref='Below'),\n",
    "  )"
   ]
  },
  {
   "cell_type": "code",
   "execution_count": null,
   "metadata": {
    "kernel": "SoS"
   },
   "outputs": [],
   "source": [
    "%put df_final_FOREIGN --to R\n",
    "df_final_FOREIGN = (df_final.merge(\n",
    "    df_share_foreign,\n",
    "    how = 'left',\n",
    "    on = ['industry'],\n",
    "    indicator = True\n",
    ")\n",
    "                #.assign(\n",
    "                #    rank_share_output_ci= lambda x: \n",
    "                #    x['rank_share_output_i'].fillna(0),\n",
    "                #    rank_share_capital_ci= lambda x: \n",
    "                #    x['rank_share_output_i'].fillna(0),\n",
    "                #    rank_share_employement_ci= lambda x: \n",
    "                #    x['rank_share_output_i'].fillna(0),\n",
    "                #)\n",
    "\n",
    ")\n",
    "df_final_FOREIGN['output'].value_counts()"
   ]
  },
  {
   "cell_type": "code",
   "execution_count": null,
   "metadata": {
    "kernel": "R"
   },
   "outputs": [],
   "source": [
    "df_final_FOREIGN <- df_final_FOREIGN %>% \n",
    "    mutate_if(is.character, as.factor) %>%\n",
    "    mutate_at(vars(starts_with(\"FE\")), as.factor) %>%\n",
    "    mutate(\n",
    "         Period = relevel(Period, ref='Before'),\n",
    "         TCZ_c = relevel(TCZ_c, ref='No_TCZ'),\n",
    "         effort_c = relevel(effort_c, ref='Below'),\n",
    "         polluted_di = relevel(polluted_di, ref='Below'),\n",
    "         polluted_mi = relevel(polluted_mi, ref='Below'),\n",
    "         polluted_thre = relevel(polluted_thre, ref='Below'),\n",
    "  )"
   ]
  },
  {
   "cell_type": "markdown",
   "metadata": {
    "kernel": "SoS"
   },
   "source": [
    "## Table 8 Model A: Panel A\n",
    "\n"
   ]
  },
  {
   "cell_type": "markdown",
   "metadata": {
    "kernel": "python3"
   },
   "source": [
    "### Test Size"
   ]
  },
  {
   "cell_type": "code",
   "execution_count": null,
   "metadata": {
    "kernel": "R"
   },
   "outputs": [],
   "source": [
    "#### Output\n",
    "l <- list()\n",
    "l1 <- list()\n",
    "for (i in seq(3, 9)){\n",
    "    \n",
    "    t1 <- felm(formula=log(tso2_cit) ~ TCZ_c * Period * polluted_thre \n",
    "                  + output_fcit + capital_fcit + labour_fcit\n",
    "                  |\n",
    "             FE_t_c + FE_t_i + FE_c_i  | 0 |\n",
    "             industry, data= df_herfhindal_r %>% filter(decile_herfhindal_i < i),\n",
    "             exactDOF=TRUE)\n",
    "    \n",
    "    t2 <- felm(formula=log(tso2_cit) ~ TCZ_c * Period *polluted_thre * out_share_SOE\n",
    "                  + output_fcit + capital_fcit + labour_fcit\n",
    "                  |\n",
    "             FE_t_c + FE_t_i + FE_c_i  | 0 |\n",
    "             industry, data= df_herfhindal_r %>% filter(decile_herfhindal_i < i),\n",
    "             exactDOF=TRUE)\n",
    "    \n",
    "    l[[i - 2]] <- t1\n",
    "    l1[[i-2]] <- t2\n",
    "}\n",
    "\n",
    "#### Capital\n",
    "l2 <- list()\n",
    "for (i in seq(3, 9)){\n",
    "    \n",
    "    t1 <- felm(formula=log(tso2_cit) ~ TCZ_c * Period *polluted_thre * cap_share_SOE\n",
    "                  + output_fcit + capital_fcit + labour_fcit\n",
    "                  |\n",
    "             FE_t_c + FE_t_i + FE_c_i  | 0 |\n",
    "             industry, data= df_herfhindal_r %>% filter(decile_herfhindal_i < i),\n",
    "             exactDOF=TRUE)\n",
    "\n",
    "    l2[[i - 2]] <- t1\n",
    "}\n",
    "\n",
    "#### Employment\n",
    "l3 <- list()\n",
    "for (i in seq(3, 9)){\n",
    "    \n",
    "    t1 <- felm(formula=log(tso2_cit) ~ TCZ_c * Period *polluted_thre * lab_share_SOE\n",
    "                  + output_fcit + capital_fcit + labour_fcit\n",
    "                  |\n",
    "             FE_t_c + FE_t_i + FE_c_i  | 0 |\n",
    "             industry, data= df_herfhindal_r %>% filter(decile_herfhindal_i < i),\n",
    "             exactDOF=TRUE)\n",
    "    \n",
    "    l3[[i - 2]] <- t1\n",
    "}\n",
    "\n",
    "file.remove(\"table_1.txt\")\n",
    "file.remove(\"table_1.tex\")\n",
    "file.remove(\"table_2.txt\")\n",
    "file.remove(\"table_2.tex\")\n",
    "file.remove(\"table_3.txt\")\n",
    "file.remove(\"table_3.tex\")\n",
    "file.remove(\"table_4.txt\")\n",
    "file.remove(\"table_4.tex\")\n",
    "\n",
    "fe1 <- list(\n",
    "    c(\"City fixed effects\", \"Yes\", \"Yes\", \"Yes\", \"Yes\", \"Yes\", \"Yes\", \"Yes\", \"Yes\", \"Yes\", \"Yes\"),\n",
    "             c(\"Industry fixed effects\", \"Yes\", \"Yes\", \"Yes\", \"Yes\", \"Yes\", \"Yes\", \"Yes\", \"Yes\", \"Yes\", \"Yes\"),\n",
    "             c(\"Year fixed effects\",\"Yes\", \"Yes\", \"Yes\", \"Yes\", \"Yes\", \"Yes\", \"Yes\", \"Yes\", \"Yes\", \"Yes\")\n",
    "             )\n",
    "\n",
    "table_1 <- go_latex(l,\n",
    "    dep_var = \"Dependent variable: \\\\text { SO2 emission }_{i k t}\",\n",
    "    title='Deciles output: Size',\n",
    "    addFE=fe1,\n",
    "    save=TRUE,\n",
    "                    note = FALSE,\n",
    "    name=\"table_1.txt\"\n",
    ")\n",
    "\n",
    "table_1 <- go_latex(l1,\n",
    "    dep_var = \"Dependent variable: \\\\text { SO2 emission }_{i k t}\",\n",
    "    title='Deciles output: Size',\n",
    "    addFE=fe1,\n",
    "    save=TRUE,\n",
    "                    note = FALSE,\n",
    "    name=\"table_2.txt\"\n",
    ")\n",
    "\n",
    "table_1 <- go_latex(l2,\n",
    "    dep_var = \"Dependent variable: \\\\text { SO2 emission }_{i k t}\",\n",
    "    title='Deciles Capital: Size',\n",
    "    addFE=fe1,\n",
    "    save=TRUE,\n",
    "                    note = FALSE,\n",
    "    name=\"table_3.txt\"\n",
    ")\n",
    "table_1 <- go_latex(l3,\n",
    "    dep_var = \"Dependent variable: \\\\text { SO2 emission }_{i k t}\",\n",
    "    title='Deciles Employement: Size',\n",
    "    addFE=fe1,\n",
    "    save=TRUE,\n",
    "                    note = FALSE,\n",
    "    name=\"table_4.txt\"\n",
    ")"
   ]
  },
  {
   "cell_type": "code",
   "execution_count": null,
   "metadata": {
    "kernel": "python3"
   },
   "outputs": [],
   "source": [
    "import os\n",
    "decile=['& decile .3', 'decile .4',\n",
    "        'decile .5','decile .6', ' decile .7', \n",
    "       'decile .8','decile .9']\n",
    "\n",
    "tb = \"\"\"\\\\footnotesize{\n",
    "Due to limited space, only the coefficients of interest are presented \n",
    "for the regressions with city,industry, year fixed effect (i.e. columns 1-3).\n",
    "\\sym{*} Significance at the 10\\%, \\sym{**} Significance at the 5\\%, \\sym{***} Significance at the 1\\% \\\\\n",
    "heteroscedasticity-robust standard errors in parentheses are clustered by city \n",
    "}\n",
    "\"\"\"\n",
    "lb.beautify(table_number = 1,\n",
    "            remove_control= True,\n",
    "            constraint = False,\n",
    "            city_industry = False, \n",
    "            new_row = decile,\n",
    "            table_nte =tb,\n",
    "           jupyter_preview = True,\n",
    "           resolution = 200)"
   ]
  },
  {
   "cell_type": "code",
   "execution_count": null,
   "metadata": {
    "kernel": "python3"
   },
   "outputs": [],
   "source": [
    "lb.beautify(table_number = 2,\n",
    "            remove_control= True,\n",
    "            constraint = False,\n",
    "            city_industry = False, \n",
    "            new_row = decile,\n",
    "            table_nte =tb,\n",
    "           jupyter_preview = True, \n",
    "           resolution = 200)"
   ]
  },
  {
   "cell_type": "code",
   "execution_count": null,
   "metadata": {
    "kernel": "python3"
   },
   "outputs": [],
   "source": [
    "lb.beautify(table_number = 3,\n",
    "            remove_control= True,\n",
    "            constraint = False,\n",
    "            city_industry = False, \n",
    "            new_row = decile,\n",
    "            table_nte =tb,\n",
    "           jupyter_preview = True, \n",
    "           resolution = 200)"
   ]
  },
  {
   "cell_type": "code",
   "execution_count": null,
   "metadata": {
    "kernel": "python3"
   },
   "outputs": [],
   "source": [
    "lb.beautify(table_number = 4,\n",
    "            remove_control= True,\n",
    "            constraint = False,\n",
    "            city_industry = False, \n",
    "            new_row = decile,\n",
    "            table_nte =tb,\n",
    "           jupyter_preview = True, \n",
    "           resolution = 200)"
   ]
  },
  {
   "cell_type": "markdown",
   "metadata": {
    "kernel": "python3"
   },
   "source": [
    "#### Foreign: Not applicable\n",
    "\n",
    "Not enough observation, or say differently, no sectors are dominated by Foreign firms solenly"
   ]
  },
  {
   "cell_type": "markdown",
   "metadata": {
    "kernel": "python3"
   },
   "source": [
    "#### SOE\n",
    "\n",
    "Reminder, in the table below, we include sectors solenly dominated by SOE -> Share output/cap/emp of SOE stricly superior with Private"
   ]
  },
  {
   "cell_type": "code",
   "execution_count": null,
   "metadata": {
    "kernel": "R"
   },
   "outputs": [],
   "source": [
    "##### Panel A\n",
    "## Output\n",
    "t1 <- felm(formula=log(tso2_cit) ~ TCZ_c * Period *polluted_thre \n",
    "                  + output_fcit + capital_fcit + labour_fcit\n",
    "                  |\n",
    "             FE_t_c + FE_t_i + FE_c_i  | 0 |\n",
    "             industry, data= df_final_SOE %>% filter(output =='Above'),\n",
    "             exactDOF=TRUE)\n",
    "    \n",
    "t2 <- felm(formula=log(tso2_cit) ~ TCZ_c * Period *polluted_thre * out_share_SOE\n",
    "                  + output_fcit + capital_fcit + labour_fcit\n",
    "                  |\n",
    "             FE_t_c + FE_t_i + FE_c_i  | 0 |\n",
    "             industry, data= df_final_SOE %>% filter(output =='Above'),\n",
    "             exactDOF=TRUE)\n",
    "## Capital\n",
    "t3 <- felm(formula=log(tso2_cit) ~ TCZ_c * Period *polluted_thre \n",
    "                  + output_fcit + capital_fcit + labour_fcit\n",
    "                  |\n",
    "             FE_t_c + FE_t_i + FE_c_i  | 0 |\n",
    "             industry, data= df_final_SOE %>% filter(capital =='Above'),\n",
    "             exactDOF=TRUE)\n",
    "    \n",
    "t4 <- felm(formula=log(tso2_cit) ~ TCZ_c * Period *polluted_thre * cap_share_SOE\n",
    "                  + output_fcit + capital_fcit + labour_fcit\n",
    "                  |\n",
    "             FE_t_c + FE_t_i + FE_c_i  | 0 |\n",
    "             industry, data= df_final_SOE %>% filter(capital =='Above'),\n",
    "             exactDOF=TRUE)\n",
    "\n",
    "## Employment\n",
    "t5 <- felm(formula=log(tso2_cit) ~ TCZ_c * Period *polluted_thre \n",
    "                  + output_fcit + capital_fcit + labour_fcit\n",
    "                  |\n",
    "             FE_t_c + FE_t_i + FE_c_i  | 0 |\n",
    "             industry, data= df_final_SOE %>% filter(employment =='Above'),\n",
    "             exactDOF=TRUE)\n",
    "    \n",
    "t6 <- felm(formula=log(tso2_cit) ~ TCZ_c * Period *polluted_thre * lab_share_SOE\n",
    "                  + output_fcit + capital_fcit + labour_fcit\n",
    "                  |\n",
    "             FE_t_c + FE_t_i + FE_c_i  | 0 |\n",
    "             industry, data= df_final_SOE %>% filter(employment =='Above'),\n",
    "             exactDOF=TRUE)\n",
    "la <- list(t1, t2, t3, t4, t5, t6)\n",
    "##### ##### ##### ##### ##### ##### ##### ##### ##### ##### ##### ##### ##### \n",
    "##### ##### ##### ##### ##### ##### ##### ##### ##### ##### ##### ##### ##### \n",
    "##### Panel B\n",
    "t1 <- felm(formula=log(tso2_cit) ~ TCZ_c * Period *polluted_thre \n",
    "                  + output_fcit + capital_fcit + labour_fcit\n",
    "                  |\n",
    "             FE_t_c + FE_t_i + FE_c_i  | 0 |\n",
    "             industry, data= df_final_SOE %>% filter(output =='Below'),\n",
    "             exactDOF=TRUE)\n",
    "    \n",
    "t2 <- felm(formula=log(tso2_cit) ~ TCZ_c * Period *polluted_thre * out_share_SOE\n",
    "                  + output_fcit + capital_fcit + labour_fcit\n",
    "                  |\n",
    "             FE_t_c + FE_t_i + FE_c_i  | 0 |\n",
    "             industry, data= df_final_SOE %>% filter(output =='Below'),\n",
    "             exactDOF=TRUE)\n",
    "## Capital\n",
    "t3 <- felm(formula=log(tso2_cit) ~ TCZ_c * Period *polluted_thre \n",
    "                  + output_fcit + capital_fcit + labour_fcit\n",
    "                  |\n",
    "             FE_t_c + FE_t_i + FE_c_i  | 0 |\n",
    "             industry, data= df_final_SOE %>% filter(capital =='Below'),\n",
    "             exactDOF=TRUE)\n",
    "    \n",
    "t4 <- felm(formula=log(tso2_cit) ~ TCZ_c * Period *polluted_thre * cap_share_SOE\n",
    "                  + output_fcit + capital_fcit + labour_fcit\n",
    "                  |\n",
    "             FE_t_c + FE_t_i + FE_c_i  | 0 |\n",
    "             industry, data= df_final_SOE %>% filter(capital =='Below'),\n",
    "             exactDOF=TRUE)\n",
    "\n",
    "## Employment\n",
    "t5 <- felm(formula=log(tso2_cit) ~ TCZ_c * Period *polluted_thre \n",
    "                  + output_fcit + capital_fcit + labour_fcit\n",
    "                  |\n",
    "             FE_t_c + FE_t_i + FE_c_i  | 0 |\n",
    "             industry, data= df_final_SOE %>% filter(employment =='Below'),\n",
    "             exactDOF=TRUE)\n",
    "    \n",
    "t6 <- felm(formula=log(tso2_cit) ~ TCZ_c * Period *polluted_thre * lab_share_SOE\n",
    "                  + output_fcit + capital_fcit + labour_fcit\n",
    "                  |\n",
    "             FE_t_c + FE_t_i + FE_c_i  | 0 |\n",
    "             industry, data= df_final_SOE %>% filter(employment =='Below'),\n",
    "             exactDOF=TRUE)\n",
    "lb <- list(t1, t2, t3, t4, t5, t6)\n",
    "\n",
    "file.remove(\"table_5.txt\")\n",
    "file.remove(\"table_5.tex\")\n",
    "file.remove(\"table_6.txt\")\n",
    "file.remove(\"table_6.tex\")\n",
    "fe1 <- list(\n",
    "    c(\"City fixed effects\", \"Yes\", \"Yes\", \"Yes\", \"Yes\", \"Yes\", \"Yes\"),\n",
    "             c(\"Industry fixed effects\", \"Yes\", \"Yes\", \"Yes\", \"Yes\", \"Yes\", \"Yes\"),\n",
    "             c(\"Year fixed effects\", \"Yes\", \"Yes\", \"Yes\", \"Yes\", \"Yes\", \"Yes\")\n",
    "             )\n",
    "\n",
    "table_1 <- go_latex(la,\n",
    "    dep_var = \"Dependent variable: \\\\text { SO2 emission }_{i k t}\",\n",
    "    title='Panel A: SOE',\n",
    "    addFE=fe1,\n",
    "    save=TRUE,\n",
    "                    note = FALSE,\n",
    "    name=\"table_5.txt\"\n",
    ")\n",
    "table_1 <- go_latex(lb,\n",
    "    dep_var = \"Dependent variable: \\\\text { SO2 emission }_{i k t}\",\n",
    "    title='Panel B: SOE',\n",
    "    addFE=fe1,\n",
    "    save=TRUE,\n",
    "                    note = FALSE,\n",
    "    name=\"table_6.txt\"\n",
    ")"
   ]
  },
  {
   "cell_type": "code",
   "execution_count": null,
   "metadata": {
    "kernel": "python3"
   },
   "outputs": [],
   "source": [
    "import os\n",
    "decile=['& Output','Output',\n",
    "        'Capital', 'Capital',\n",
    "       'Employment','Employment']\n",
    "\n",
    "tb = \"\"\"\\\\footnotesize{\n",
    "Due to limited space, only the coefficients of interest are presented \n",
    "for the regressions with city,industry, year fixed effect (i.e. columns 1-3).\n",
    "\\sym{*} Significance at the 10\\%, \\sym{**} Significance at the 5\\%, \\sym{***} Significance at the 1\\% \\\\\n",
    "heteroscedasticity-robust standard errors in parentheses are clustered by city \n",
    "}\n",
    "\"\"\"\n",
    "lb.beautify(table_number = 5,\n",
    "            remove_control= True,\n",
    "            constraint = False,\n",
    "            city_industry = False, \n",
    "            new_row = decile,\n",
    "            table_nte =tb,\n",
    "            jupyter_preview = True, \n",
    "           resolution = 200)"
   ]
  },
  {
   "cell_type": "code",
   "execution_count": null,
   "metadata": {
    "kernel": "python3"
   },
   "outputs": [],
   "source": [
    "lb.beautify(table_number = 6,\n",
    "            remove_control= True,\n",
    "            constraint = False,\n",
    "            city_industry = False, \n",
    "            new_row = decile,\n",
    "            table_nte =tb,\n",
    "            jupyter_preview = True, \n",
    "            resolution = 200)"
   ]
  },
  {
   "cell_type": "markdown",
   "metadata": {
    "kernel": "python3"
   },
   "source": [
    "### Coastal"
   ]
  },
  {
   "cell_type": "code",
   "execution_count": null,
   "metadata": {
    "kernel": "R"
   },
   "outputs": [],
   "source": [
    "##### Panel A: Coastal\n",
    "## Output\n",
    "t1 <- felm(formula=log(tso2_cit) ~ TCZ_c * Period *polluted_thre \n",
    "                  + output_fcit + capital_fcit + labour_fcit\n",
    "                  |\n",
    "             FE_t_c + FE_t_i + FE_c_i  | 0 |\n",
    "             industry, data= df_TCZ_list_china %>% filter(Coastal == TRUE),\n",
    "             exactDOF=TRUE)\n",
    "    \n",
    "t2 <- felm(formula=log(tso2_cit) ~ TCZ_c * Period *polluted_thre * out_share_SOE\n",
    "                  + output_fcit + capital_fcit + labour_fcit\n",
    "                  |\n",
    "             FE_t_c + FE_t_i + FE_c_i  | 0 |\n",
    "             industry, data= df_TCZ_list_china %>% filter(Coastal == TRUE),\n",
    "             exactDOF=TRUE)\n",
    "## Capital\n",
    "t3 <- felm(formula=log(tso2_cit) ~ TCZ_c * Period *polluted_thre \n",
    "                  + output_fcit + capital_fcit + labour_fcit\n",
    "                  |\n",
    "             FE_t_c + FE_t_i + FE_c_i  | 0 |\n",
    "             industry, data= df_TCZ_list_china %>% filter(Coastal == TRUE),\n",
    "             exactDOF=TRUE)\n",
    "    \n",
    "t4 <- felm(formula=log(tso2_cit) ~ TCZ_c * Period *polluted_thre * cap_share_SOE\n",
    "                  + output_fcit + capital_fcit + labour_fcit\n",
    "                  |\n",
    "             FE_t_c + FE_t_i + FE_c_i  | 0 |\n",
    "             industry, data= df_TCZ_list_china %>% filter(Coastal == TRUE),\n",
    "             exactDOF=TRUE)\n",
    "\n",
    "## Employment\n",
    "t5 <- felm(formula=log(tso2_cit) ~ TCZ_c * Period *polluted_thre \n",
    "                  + output_fcit + capital_fcit + labour_fcit\n",
    "                  |\n",
    "             FE_t_c + FE_t_i + FE_c_i  | 0 |\n",
    "             industry, data= df_TCZ_list_china %>% filter(Coastal == TRUE),\n",
    "             exactDOF=TRUE)\n",
    "    \n",
    "t6 <- felm(formula=log(tso2_cit) ~ TCZ_c * Period *polluted_thre * lab_share_SOE\n",
    "                  + output_fcit + capital_fcit + labour_fcit\n",
    "                  |\n",
    "             FE_t_c + FE_t_i + FE_c_i  | 0 |\n",
    "             industry, data= df_TCZ_list_china %>% filter(Coastal == TRUE),\n",
    "             exactDOF=TRUE)\n",
    "la <- list(t1, t2, t3, t4, t5, t6)\n",
    "##### ##### ##### ##### ##### ##### ##### ##### ##### ##### ##### ##### ##### \n",
    "##### ##### ##### ##### ##### ##### ##### ##### ##### ##### ##### ##### ##### \n",
    "##### Panel B\n",
    "t1 <- felm(formula=log(tso2_cit) ~ TCZ_c * Period *polluted_thre \n",
    "                  + output_fcit + capital_fcit + labour_fcit\n",
    "                  |\n",
    "             FE_t_c + FE_t_i + FE_c_i  | 0 |\n",
    "             industry, data= df_TCZ_list_china %>% filter(Coastal == FALSE),\n",
    "             exactDOF=TRUE)\n",
    "    \n",
    "t2 <- felm(formula=log(tso2_cit) ~ TCZ_c * Period *polluted_thre * out_share_SOE\n",
    "                  + output_fcit + capital_fcit + labour_fcit\n",
    "                  |\n",
    "             FE_t_c + FE_t_i + FE_c_i  | 0 |\n",
    "             industry, data= df_TCZ_list_china %>% filter(Coastal == FALSE),\n",
    "             exactDOF=TRUE)\n",
    "## Capital\n",
    "t3 <- felm(formula=log(tso2_cit) ~ TCZ_c * Period *polluted_thre \n",
    "                  + output_fcit + capital_fcit + labour_fcit\n",
    "                  |\n",
    "             FE_t_c + FE_t_i + FE_c_i  | 0 |\n",
    "             industry, data= df_TCZ_list_china %>% filter(Coastal == FALSE),\n",
    "             exactDOF=TRUE)\n",
    "    \n",
    "t4 <- felm(formula=log(tso2_cit) ~ TCZ_c * Period *polluted_thre * cap_share_SOE\n",
    "                  + output_fcit + capital_fcit + labour_fcit\n",
    "                  |\n",
    "             FE_t_c + FE_t_i + FE_c_i  | 0 |\n",
    "             industry, data= df_TCZ_list_china %>% filter(Coastal == FALSE),\n",
    "             exactDOF=TRUE)\n",
    "\n",
    "## Employment\n",
    "t5 <- felm(formula=log(tso2_cit) ~ TCZ_c * Period *polluted_thre \n",
    "                  + output_fcit + capital_fcit + labour_fcit\n",
    "                  |\n",
    "             FE_t_c + FE_t_i + FE_c_i  | 0 |\n",
    "             industry, data= df_TCZ_list_china %>% filter(Coastal == FALSE),\n",
    "             exactDOF=TRUE)\n",
    "    \n",
    "t6 <- felm(formula=log(tso2_cit) ~ TCZ_c * Period *polluted_thre * lab_share_SOE\n",
    "                  + output_fcit + capital_fcit + labour_fcit\n",
    "                  |\n",
    "             FE_t_c + FE_t_i + FE_c_i  | 0 |\n",
    "             industry, data= df_TCZ_list_china %>% filter(Coastal == FALSE),\n",
    "             exactDOF=TRUE)\n",
    "lb <- list(t1, t2, t3, t4, t5, t6)\n",
    "\n",
    "file.remove(\"table_7.txt\")\n",
    "file.remove(\"table_7.tex\")\n",
    "file.remove(\"table_8.txt\")\n",
    "file.remove(\"table_8.tex\")\n",
    "fe1 <- list(\n",
    "    c(\"City fixed effects\", \"Yes\", \"Yes\", \"Yes\", \"Yes\", \"Yes\", \"Yes\"),\n",
    "             c(\"Industry fixed effects\", \"Yes\", \"Yes\", \"Yes\", \"Yes\", \"Yes\", \"Yes\"),\n",
    "             c(\"Year fixed effects\", \"Yes\", \"Yes\", \"Yes\", \"Yes\", \"Yes\", \"Yes\")\n",
    "             )\n",
    "\n",
    "table_1 <- go_latex(la,\n",
    "    dep_var = \"Dependent variable: \\\\text { SO2 emission }_{i k t}\",\n",
    "    title='Panel A: Coastal',\n",
    "    addFE=fe1,\n",
    "    save=TRUE,\n",
    "                    note = FALSE,\n",
    "    name=\"table_7.txt\"\n",
    ")\n",
    "table_1 <- go_latex(lb,\n",
    "    dep_var = \"Dependent variable: \\\\text { SO2 emission }_{i k t}\",\n",
    "    title='Panel B: Coastal',\n",
    "    addFE=fe1,\n",
    "    save=TRUE,\n",
    "                    note = FALSE,\n",
    "    name=\"table_8.txt\"\n",
    ")"
   ]
  },
  {
   "cell_type": "code",
   "execution_count": null,
   "metadata": {
    "kernel": "python3"
   },
   "outputs": [],
   "source": [
    "import os\n",
    "decile=['& Output','Output',\n",
    "        'Capital', 'Capital',\n",
    "       'Employment','Employment']\n",
    "\n",
    "tb = \"\"\"\\\\footnotesize{\n",
    "Due to limited space, only the coefficients of interest are presented \n",
    "for the regressions with city,industry, year fixed effect (i.e. columns 1-3).\n",
    "\\sym{*} Significance at the 10\\%, \\sym{**} Significance at the 5\\%, \\sym{***} Significance at the 1\\% \\\\\n",
    "heteroscedasticity-robust standard errors in parentheses are clustered by city \n",
    "}\n",
    "\"\"\"\n",
    "lb.beautify(table_number = 7,\n",
    "            remove_control= True,\n",
    "            constraint = False,\n",
    "            city_industry = False, \n",
    "            new_row = decile,\n",
    "            table_nte =tb,\n",
    "            jupyter_preview = True, \n",
    "           resolution = 200)"
   ]
  },
  {
   "cell_type": "code",
   "execution_count": null,
   "metadata": {
    "kernel": "python3"
   },
   "outputs": [],
   "source": [
    "import os\n",
    "decile=['& Output','Output',\n",
    "        'Capital', 'Capital',\n",
    "       'Employment','Employment']\n",
    "\n",
    "tb = \"\"\"\\\\footnotesize{\n",
    "Due to limited space, only the coefficients of interest are presented \n",
    "for the regressions with city,industry, year fixed effect (i.e. columns 1-3).\n",
    "\\sym{*} Significance at the 10\\%, \\sym{**} Significance at the 5\\%, \\sym{***} Significance at the 1\\% \\\\\n",
    "heteroscedasticity-robust standard errors in parentheses are clustered by city \n",
    "}\n",
    "\"\"\"\n",
    "lb.beautify(table_number = 8,\n",
    "            remove_control= True,\n",
    "            constraint = False,\n",
    "            city_industry = False, \n",
    "            new_row = decile,\n",
    "            table_nte =tb,\n",
    "            jupyter_preview = True, \n",
    "           resolution = 200)"
   ]
  },
  {
   "cell_type": "markdown",
   "metadata": {
    "kernel": "python3"
   },
   "source": [
    "### SPZ"
   ]
  },
  {
   "cell_type": "code",
   "execution_count": null,
   "metadata": {
    "kernel": "R"
   },
   "outputs": [],
   "source": [
    "##### Panel A: Coastal\n",
    "## Output\n",
    "t1 <- felm(formula=log(tso2_cit) ~ TCZ_c * Period *polluted_thre \n",
    "                  + output_fcit + capital_fcit + labour_fcit\n",
    "                  |\n",
    "             FE_t_c + FE_t_i + FE_c_i  | 0 |\n",
    "             industry, data= df_TCZ_list_china %>% filter(SPZ == 1),\n",
    "             exactDOF=TRUE)\n",
    "    \n",
    "t2 <- felm(formula=log(tso2_cit) ~ TCZ_c * Period *polluted_thre * out_share_SOE\n",
    "                  + output_fcit + capital_fcit + labour_fcit\n",
    "                  |\n",
    "             FE_t_c + FE_t_i + FE_c_i  | 0 |\n",
    "             industry, data= df_TCZ_list_china %>% filter(SPZ == 1),\n",
    "             exactDOF=TRUE)\n",
    "## Capital\n",
    "t3 <- felm(formula=log(tso2_cit) ~ TCZ_c * Period *polluted_thre \n",
    "                  + output_fcit + capital_fcit + labour_fcit\n",
    "                  |\n",
    "             FE_t_c + FE_t_i + FE_c_i  | 0 |\n",
    "             industry, data= df_TCZ_list_china %>% filter(SPZ == 1),\n",
    "             exactDOF=TRUE)\n",
    "    \n",
    "t4 <- felm(formula=log(tso2_cit) ~ TCZ_c * Period *polluted_thre * cap_share_SOE\n",
    "                  + output_fcit + capital_fcit + labour_fcit\n",
    "                  |\n",
    "             FE_t_c + FE_t_i + FE_c_i  | 0 |\n",
    "             industry, data= df_TCZ_list_china %>% filter(SPZ == 1),\n",
    "             exactDOF=TRUE)\n",
    "\n",
    "## Employment\n",
    "t5 <- felm(formula=log(tso2_cit) ~ TCZ_c * Period *polluted_thre \n",
    "                  + output_fcit + capital_fcit + labour_fcit\n",
    "                  |\n",
    "             FE_t_c + FE_t_i + FE_c_i  | 0 |\n",
    "             industry, data= df_TCZ_list_china %>% filter(SPZ == 1),\n",
    "             exactDOF=TRUE)\n",
    "    \n",
    "t6 <- felm(formula=log(tso2_cit) ~ TCZ_c * Period *polluted_thre * lab_share_SOE\n",
    "                  + output_fcit + capital_fcit + labour_fcit\n",
    "                  |\n",
    "             FE_t_c + FE_t_i + FE_c_i  | 0 |\n",
    "             industry, data=df_TCZ_list_china %>% filter(SPZ == 1),\n",
    "             exactDOF=TRUE)\n",
    "la <- list(t1, t2, t3, t4, t5, t6)\n",
    "##### ##### ##### ##### ##### ##### ##### ##### ##### ##### ##### ##### ##### \n",
    "##### ##### ##### ##### ##### ##### ##### ##### ##### ##### ##### ##### ##### \n",
    "##### Panel B\n",
    "t1 <- felm(formula=log(tso2_cit) ~ TCZ_c * Period *polluted_thre \n",
    "                  + output_fcit + capital_fcit + labour_fcit\n",
    "                  |\n",
    "             FE_t_c + FE_t_i + FE_c_i  | 0 |\n",
    "             industry, data= df_TCZ_list_china %>% filter(SPZ == 0),\n",
    "             exactDOF=TRUE)\n",
    "    \n",
    "t2 <- felm(formula=log(tso2_cit) ~ TCZ_c * Period *polluted_thre * out_share_SOE\n",
    "                  + output_fcit + capital_fcit + labour_fcit\n",
    "                  |\n",
    "             FE_t_c + FE_t_i + FE_c_i  | 0 |\n",
    "             industry, data= df_TCZ_list_china %>% filter(SPZ == 0),\n",
    "             exactDOF=TRUE)\n",
    "## Capital\n",
    "t3 <- felm(formula=log(tso2_cit) ~ TCZ_c * Period *polluted_thre \n",
    "                  + output_fcit + capital_fcit + labour_fcit\n",
    "                  |\n",
    "             FE_t_c + FE_t_i + FE_c_i  | 0 |\n",
    "             industry, data= df_TCZ_list_china %>% filter(SPZ == 0),\n",
    "             exactDOF=TRUE)\n",
    "    \n",
    "t4 <- felm(formula=log(tso2_cit) ~ TCZ_c * Period *polluted_thre * cap_share_SOE\n",
    "                  + output_fcit + capital_fcit + labour_fcit\n",
    "                  |\n",
    "             FE_t_c + FE_t_i + FE_c_i  | 0 |\n",
    "             industry, data= df_TCZ_list_china %>% filter(SPZ == 0),\n",
    "             exactDOF=TRUE)\n",
    "\n",
    "## Employment\n",
    "t5 <- felm(formula=log(tso2_cit) ~ TCZ_c * Period *polluted_thre \n",
    "                  + output_fcit + capital_fcit + labour_fcit\n",
    "                  |\n",
    "             FE_t_c + FE_t_i + FE_c_i  | 0 |\n",
    "             industry, data= df_TCZ_list_china %>% filter(SPZ == 0),\n",
    "             exactDOF=TRUE)\n",
    "    \n",
    "t6 <- felm(formula=log(tso2_cit) ~ TCZ_c * Period *polluted_thre * lab_share_SOE\n",
    "                  + output_fcit + capital_fcit + labour_fcit\n",
    "                  |\n",
    "             FE_t_c + FE_t_i + FE_c_i  | 0 |\n",
    "             industry, data= df_TCZ_list_china %>% filter(SPZ == 0),\n",
    "             exactDOF=TRUE)\n",
    "lb <- list(t1, t2, t3, t4, t5, t6)\n",
    "\n",
    "file.remove(\"table_9.txt\")\n",
    "file.remove(\"table_9.tex\")\n",
    "file.remove(\"table_10.txt\")\n",
    "file.remove(\"table_10.tex\")\n",
    "fe1 <- list(\n",
    "    c(\"City fixed effects\", \"Yes\", \"Yes\", \"Yes\", \"Yes\", \"Yes\", \"Yes\"),\n",
    "             c(\"Industry fixed effects\", \"Yes\", \"Yes\", \"Yes\", \"Yes\", \"Yes\", \"Yes\"),\n",
    "             c(\"Year fixed effects\", \"Yes\", \"Yes\", \"Yes\", \"Yes\", \"Yes\", \"Yes\")\n",
    "             )\n",
    "\n",
    "table_1 <- go_latex(la,\n",
    "    dep_var = \"Dependent variable: \\\\text { SO2 emission }_{i k t}\",\n",
    "    title='Panel A: SPZ',\n",
    "    addFE=fe1,\n",
    "    save=TRUE,\n",
    "                    note = FALSE,\n",
    "    name=\"table_9.txt\"\n",
    ")\n",
    "table_1 <- go_latex(lb,\n",
    "    dep_var = \"Dependent variable: \\\\text { SO2 emission }_{i k t}\",\n",
    "    title='Panel B: SPZ',\n",
    "    addFE=fe1,\n",
    "    save=TRUE,\n",
    "                    note = FALSE,\n",
    "    name=\"table_10.txt\"\n",
    ")"
   ]
  },
  {
   "cell_type": "code",
   "execution_count": null,
   "metadata": {
    "kernel": "python3"
   },
   "outputs": [],
   "source": [
    "import os\n",
    "decile=['& Output','Output',\n",
    "        'Capital', 'Capital',\n",
    "       'Employment','Employment']\n",
    "\n",
    "tb = \"\"\"\\\\footnotesize{\n",
    "Due to limited space, only the coefficients of interest are presented \n",
    "for the regressions with city,industry, year fixed effect (i.e. columns 1-3).\n",
    "\\sym{*} Significance at the 10\\%, \\sym{**} Significance at the 5\\%, \\sym{***} Significance at the 1\\% \\\\\n",
    "heteroscedasticity-robust standard errors in parentheses are clustered by city \n",
    "}\n",
    "\"\"\"\n",
    "lb.beautify(table_number = 9,\n",
    "            remove_control= True,\n",
    "            constraint = False,\n",
    "            city_industry = False, \n",
    "            new_row = decile,\n",
    "            table_nte =tb,\n",
    "            jupyter_preview = True, \n",
    "           resolution = 200)"
   ]
  },
  {
   "cell_type": "code",
   "execution_count": null,
   "metadata": {
    "kernel": "python3"
   },
   "outputs": [],
   "source": [
    "import os\n",
    "decile=['& Output','Output',\n",
    "        'Capital', 'Capital',\n",
    "       'Employment','Employment']\n",
    "\n",
    "tb = \"\"\"\\\\footnotesize{\n",
    "Due to limited space, only the coefficients of interest are presented \n",
    "for the regressions with city,industry, year fixed effect (i.e. columns 1-3).\n",
    "\\sym{*} Significance at the 10\\%, \\sym{**} Significance at the 5\\%, \\sym{***} Significance at the 1\\% \\\\\n",
    "heteroscedasticity-robust standard errors in parentheses are clustered by city \n",
    "}\n",
    "\"\"\"\n",
    "lb.beautify(table_number = 10,\n",
    "            remove_control= True,\n",
    "            constraint = False,\n",
    "            city_industry = False, \n",
    "            new_row = decile,\n",
    "            table_nte =tb,\n",
    "            jupyter_preview = True, \n",
    "           resolution = 200)"
   ]
  }
 ],
 "metadata": {
  "jupytext": {
   "formats": "ipynb,md"
  },
  "kernelspec": {
   "display_name": "SoS",
   "language": "sos",
   "name": "sos"
  },
  "language_info": {
   "codemirror_mode": "sos",
   "file_extension": ".sos",
   "mimetype": "text/x-sos",
   "name": "sos",
   "nbconvert_exporter": "sos_notebook.converter.SoS_Exporter",
   "pygments_lexer": "sos"
  },
  "sos": {
   "kernels": [
    [
     "Python 3",
     "python3",
     "python3",
     "",
     {
      "name": "ipython",
      "version": 3
     }
    ],
    [
     "R",
     "ir",
     "R",
     "#DCDCDA",
     "r"
    ],
    [
     "SoS",
     "sos",
     "",
     "",
     "sos"
    ],
    [
     "Python 3",
     "python3",
     "python3",
     "",
     {
      "name": "ipython",
      "version": 3
     }
    ]
   ],
   "version": "0.21.7"
  }
 },
 "nbformat": 4,
 "nbformat_minor": 4
}
