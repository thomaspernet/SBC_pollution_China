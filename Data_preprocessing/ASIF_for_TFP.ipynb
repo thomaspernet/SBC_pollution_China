{
 "cells": [
  {
   "cell_type": "markdown",
   "metadata": {
    "Collapsed": "false"
   },
   "source": [
    "# Prepare ASIF dataset for OP productivity\n",
    "\n",
    "This notebook has been generated on 2019-10-05 07:45 \n",
    "\n",
    "The objective of this notebook is to YYY\n",
    "\n",
    "## Global steps \n",
    "\n",
    "The global steps to construct the dataset are the following:\n",
    "\n",
    "\n",
    "- From BigQuery\n",
    "    - Select year 1998-2007 ASIF\n",
    "\n",
    "\n",
    "## Data source \n",
    "\n",
    "The data source to construct the dataset are the following:\n",
    "\n",
    "### Big Query Dataset \n",
    " \n",
    " - asif_firm_china "
   ]
  },
  {
   "cell_type": "code",
   "execution_count": null,
   "metadata": {
    "Collapsed": "false"
   },
   "outputs": [],
   "source": [
    "from Fast_connectCloud import connector\n",
    "from GoogleDrivePy.google_drive import connect_drive\n",
    "from GoogleDrivePy.google_platform import connect_cloud_platform\n",
    "import pandas as pd \n",
    "import numpy as np\n",
    "import pandas_profiling\n",
    "import plotly.express as px"
   ]
  },
  {
   "cell_type": "code",
   "execution_count": null,
   "metadata": {
    "Collapsed": "false"
   },
   "outputs": [],
   "source": [
    "gs = connector.open_connection(online_connection = False, \n",
    "\tpath_credential = '/Users/Thomas/Google Drive/Projects/Data_science/Google_code_n_Oauth/Client_Oauth/Google_auth/')\n",
    "\n",
    "service_gd = gs.connect_remote(engine = 'GS')\n",
    "service_gcp = gs.connect_remote(engine = 'GCP')\n",
    "\n",
    "gdr = connect_drive.connect_drive(service_gd['GoogleDrive'])\n",
    "\n",
    "project = 'valid-pagoda-132423'\n",
    "gcp = connect_cloud_platform.connect_console(project = project,\n",
    "\t\t\t\t\t\t\t\t\t\t\t service_account = service_gcp['GoogleCloudP'])"
   ]
  },
  {
   "cell_type": "markdown",
   "metadata": {
    "Collapsed": "false"
   },
   "source": [
    "## Load asif_firm_china from Google Big Query\n",
    "\n",
    "Feel free to add description about the dataset or any usefull information."
   ]
  },
  {
   "cell_type": "code",
   "execution_count": null,
   "metadata": {
    "Collapsed": "false"
   },
   "outputs": [],
   "source": [
    "query = (\n",
    "    \"SELECT newID, year,bdat, geocode4_corr, cityen_correct,cic, ownership, output, employment, fa_net \"\n",
    "    \"FROM China.asif_firm_china \"\n",
    "    \"WHERE year > 1997 AND year < 2009\"\n",
    ")\n",
    "\n",
    "df_asif_firm_china = gcp.upload_data_from_bigquery(query=query, location=\"US\")\n",
    "df_asif_firm_china.head()"
   ]
  },
  {
   "cell_type": "markdown",
   "metadata": {
    "Collapsed": "false"
   },
   "source": [
    "## Step 1: Clean up switching firms\n",
    "\n",
    "1. Keep corresponding year defined in the parameter part \n",
    "2. Create SOE vs Private\n",
    "\n",
    "- Clean up:\n",
    "    - multi ownership\n",
    "    - city\n",
    "    - industry"
   ]
  },
  {
   "cell_type": "code",
   "execution_count": null,
   "metadata": {
    "Collapsed": "false"
   },
   "outputs": [],
   "source": [
    "df_no_switch = (\n",
    "    df_asif_firm_china\n",
    "    .assign(SOE=lambda x: np.where(x[\"ownership\"] == \"SOE\", \"SOE\", \"Private\"))\n",
    ")\n",
    "\n",
    "for x in ['SOE', 'cityen_correct']:\n",
    "\n",
    "    index_ = df_no_switch.groupby(\n",
    "        'newID')[x].nunique().loc[lambda x: x > 1].index\n",
    "\n",
    "    df_no_switch = df_no_switch[~df_no_switch['newID'].isin(\n",
    "        index_)]\n",
    "\n",
    "    print('There is {} firms switching {}'.format(len(index_), x))\n"
   ]
  },
  {
   "cell_type": "markdown",
   "metadata": {
    "Collapsed": "false"
   },
   "source": [
    "## Step 2: Remove single year\n",
    "\n",
    "We exclude the firms appearing only for one year"
   ]
  },
  {
   "cell_type": "code",
   "execution_count": null,
   "metadata": {
    "Collapsed": "false"
   },
   "outputs": [],
   "source": [
    "single_year = (df_no_switch\n",
    " .groupby(['newID'])['newID']\n",
    " .count()\n",
    " .loc[lambda x: x ==1]\n",
    ").index\n",
    "single_year.shape\n",
    "df_multi_year = df_no_switch[~df_no_switch['newID'].isin(single_year)]\n",
    "df_multi_year.shape"
   ]
  },
  {
   "cell_type": "markdown",
   "metadata": {
    "Collapsed": "false"
   },
   "source": [
    "## Step 3: Compute additional variables\n",
    "\n",
    "We compute age and investment. Investment is the difference between $\\text{fa_net}_t - \\text{fa_net}_{t-1}$"
   ]
  },
  {
   "cell_type": "code",
   "execution_count": null,
   "metadata": {
    "Collapsed": "false"
   },
   "outputs": [],
   "source": [
    "df_final = (df_multi_year\n",
    "           .loc[lambda x:\n",
    "                (x['fa_net'] >\n",
    "                 x['fa_net'].quantile([.05, .98]).loc[(0.05)]) &\n",
    "                (x['fa_net'] <\n",
    "                    x['fa_net'].quantile([.05, .98]).loc[(0.98)])\n",
    "                ]\n",
    "           .loc[lambda x:\n",
    "                (x['employment'] >\n",
    "                 x['employment'].quantile([.05, .98]).loc[(0.05)]) &\n",
    "                (x['employment'] <\n",
    "                 x['employment'].quantile([.05, .98]).loc[(0.98)])\n",
    "                ]\n",
    "           .loc[lambda x:\n",
    "                (x['output'] >\n",
    "                 x['output'].quantile([.05, .98]).loc[(0.05)]) &\n",
    "                (x['output'] <\n",
    "                 x['output'].quantile([.05, .98]).loc[(0.98)])\n",
    "                ]\n",
    "           .loc[lambda x: (x['bdat'] > 1800) & (x['bdat'] < 2008)]\n",
    "           .assign(age = lambda x: x['year'] - x['bdat'])\n",
    "           .loc[lambda x: (x['age'] > 0)] \n",
    "           )\n",
    "df_final['invesment'] = df_drop.groupby(\"newID\")['fa_net'].shift(1)\n",
    "df_final = df_final.dropna()\n",
    "df_final.head()"
   ]
  },
  {
   "cell_type": "code",
   "execution_count": null,
   "metadata": {
    "Collapsed": "false"
   },
   "outputs": [],
   "source": [
    "df_final.describe()"
   ]
  },
  {
   "cell_type": "markdown",
   "metadata": {
    "Collapsed": "false"
   },
   "source": [
    "# Upload to cloud\n",
    "\n",
    "The dataset is ready to be shared with your colleagues. "
   ]
  },
  {
   "cell_type": "markdown",
   "metadata": {
    "Collapsed": "false"
   },
   "source": [
    "### Move to GCS and BigQuery\n",
    "\n",
    "We move the dataset to the following:\n",
    "\n",
    "- **bucket**: *NEED TO DEFINE*\n",
    "\n",
    "- **Destination_blob**: *XXXXX/Processed_*\n",
    "- **name**:  *SBC_pollution_china.gz*\n",
    "- **Dataset**: *China*\n",
    "\n",
    "- **table**: *SBC_pollution_china*\n",
    "\n",
    "### GCS\n",
    "\n",
    "We first need to save *SBC_pollution_china* with `.gz` extension locally then we can move it\n",
    "to GCS"
   ]
  },
  {
   "cell_type": "code",
   "execution_count": null,
   "metadata": {
    "Collapsed": "false"
   },
   "outputs": [],
   "source": [
    "bucket_name = 'chinese_data'\n",
    "destination_blob_name = 'Panel_china/Asif_panel_china/Processed_/asif_for_tfp.gz'\n",
    "\n",
    "gcp.delete_blob(bucket_name = bucket_name,\n",
    "                destination_blob_name= destination_blob_name)\n",
    "gcp.delete_table(dataset_name = 'China', name_table = 'asif_for_tfp')"
   ]
  },
  {
   "cell_type": "code",
   "execution_count": null,
   "metadata": {
    "Collapsed": "false"
   },
   "outputs": [],
   "source": [
    "\n",
    "### First save locally\n",
    "df_final.to_csv(\n",
    "\t'asif_for_tfp.gz',\n",
    "\tsep=',',\n",
    "\theader=True,\n",
    "\tindex=False,\n",
    "\tchunksize=100000,\n",
    "\tcompression='gzip',\n",
    "\tencoding='utf-8')\n",
    "\n",
    "### Then upload to GCS\n",
    "bucket_name = 'chinese_data'\n",
    "destination_blob_name = 'Panel_china/Asif_panel_china/Processed_'\n",
    "source_file_name = 'asif_for_tfp.gz'\n",
    "gcp.upload_blob(bucket_name, destination_blob_name, source_file_name)"
   ]
  },
  {
   "cell_type": "code",
   "execution_count": null,
   "metadata": {
    "Collapsed": "false"
   },
   "outputs": [],
   "source": [
    "import os\n",
    "os.remove(source_file_name)"
   ]
  }
 ],
 "metadata": {
  "kernelspec": {
   "display_name": "Python 3",
   "language": "python",
   "name": "python3"
  },
  "language_info": {
   "codemirror_mode": {
    "name": "ipython",
    "version": 3
   },
   "file_extension": ".py",
   "mimetype": "text/x-python",
   "name": "python",
   "nbconvert_exporter": "python",
   "pygments_lexer": "ipython3",
   "version": "3.7.3"
  }
 },
 "nbformat": 4,
 "nbformat_minor": 4
}
