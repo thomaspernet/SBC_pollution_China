{
  "cells": [
    {
      "cell_type": "markdown",
      "source": [
        "# TITLE data preprocessing\n",
        "\n",
        "This notebook has been generated on XX\n",
        "\n",
        "The objective of this notebook is to YYY\n",
        "\n",
        "## Global steps \n",
        "\n",
        "The global steps to construct the dataset are the following:\n",
        "\n",
        "- Lorem ipsum dolor sit amet\n",
        "- Lorem ipsum dolor sit amet\n",
        "- Lorem ipsum dolor sit amet\n",
        "\n",
        "## Data source \n",
        "\n",
        "The data source to construct the dataset are the following:"
      ],
      "metadata": {}
    },
    {
      "cell_type": "markdown",
      "source": [],
      "metadata": {}
    },
    {
      "cell_type": "markdown",
      "source": [
        "## Destination\n",
        "\n",
        "The new dataset is available from XXX\n",
        "\n",
        "- GS: None\n",
        "- GCS: None\n",
        "- BG: None"
      ],
      "metadata": {
        "heading_collapsed": true
      }
    },
    {
      "cell_type": "markdown",
      "source": [
        "# Load Dataset\n"
      ],
      "metadata": {}
    },
    {
      "cell_type": "code",
      "source": [
        "from Fast_connectCloud import connector\n",
        "from GoogleDrivePy.google_drive import connect_drive\n",
        "from GoogleDrivePy.google_platform import connect_cloud_platform\n",
        "import pandas as pd \n",
        "import numpy as np\n",
        "import pandas_profiling"
      ],
      "outputs": [],
      "execution_count": null,
      "metadata": {
        "collapsed": false,
        "outputHidden": false,
        "inputHidden": false
      }
    },
    {
      "cell_type": "code",
      "source": [
        "gs = connector.open_connection(online_connection = False, \n",
        "\tpath_credential = '/PATH_TOKEN/')\n",
        "\n",
        "service_gd = gs.connect_remote(engine = 'GS')\n",
        "service_gcp = gs.connect_remote(engine = 'GCP')\n",
        "\n",
        "gdr = connect_drive.connect_drive(service_gd['GoogleDrive'])\n",
        "\n",
        "project = 'PROJECTNAME'\n",
        "gcp = connect_cloud_platform.connect_console(project = project,\n",
        "\t\t\t\t\t\t\t\t\t\t\t service_account = service_gcp['GoogleCloudP'])"
      ],
      "outputs": [],
      "execution_count": null,
      "metadata": {
        "collapsed": false,
        "outputHidden": false,
        "inputHidden": false
      }
    },
    {
      "cell_type": "markdown",
      "source": [
        "# Workflow\n",
        "\n",
        "In this section, we will construct the dataset, and document each step of the workflow.\n",
        "\n",
        "Please use the following format for the documentation:\n",
        "\n",
        "- `##` Step 1: XXX\n",
        "- `###` (optional) Underlying process description\n",
        "- `##` Step 2: YYY\n",
        "- `###` (optional) Underlying process description\n",
        "\n",
        "Note: **You need to rename the last dataframe `df_final`**"
      ],
      "metadata": {
        "heading_collapsed": true
      }
    },
    {
      "cell_type": "code",
      "source": [],
      "outputs": [],
      "execution_count": null,
      "metadata": {
        "collapsed": false,
        "outputHidden": false,
        "inputHidden": false
      }
    },
    {
      "cell_type": "markdown",
      "source": [
        "# Profiling\n",
        "\n",
        "In order to get a quick summary statistic of the data, we generate an HTML file with the profiling of the dataset we've just created. \n",
        "\n",
        "The profiling will be available at this URL after you commit a push to GitHub. \n",
        "\n",
        "**You need to rename the final dataframe `df_final` in the previous section to generate the profiling.**"
      ],
      "metadata": {}
    },
    {
      "cell_type": "code",
      "source": [
        "#### make sure the final dataframe is stored as df_final\n",
        "### Overide the default value: \n",
        "#https://github.com/pandas-profiling/pandas-profiling/blob/master/pandas_profiling/config_default.yaml\n",
        "\n",
        "profile = pandas_profiling.ProfileReport(df_final,\n",
        "                                        check_correlation_pearson = False)\n",
        "name_html = \"NAME.html\"\n",
        "profile.to_file(output_file=name_html)"
      ],
      "outputs": [],
      "execution_count": null,
      "metadata": {}
    },
    {
      "cell_type": "markdown",
      "source": [
        "# Upload to cloud\n",
        "\n",
        "The dataset is ready to be shared with your colleagues. \n",
        "\n"
      ],
      "metadata": {}
    }
  ],
  "metadata": {
    "kernelspec": {
      "name": "python3",
      "language": "python",
      "display_name": "Python 3"
    },
    "language_info": {
      "name": "python",
      "version": "3.7.4",
      "mimetype": "text/x-python",
      "codemirror_mode": {
        "name": "ipython",
        "version": 3
      },
      "pygments_lexer": "ipython3",
      "nbconvert_exporter": "python",
      "file_extension": ".py"
    },
    "toc": {
      "toc_position": {},
      "skip_h1_title": false,
      "number_sections": true,
      "title_cell": "Table of Contents",
      "toc_window_display": false,
      "base_numbering": 1,
      "toc_section_display": true,
      "title_sidebar": "Contents",
      "toc_cell": false,
      "nav_menu": {},
      "sideBar": true
    },
    "kernel_info": {
      "name": "python3"
    },
    "nteract": {
      "version": "0.15.0"
    }
  },
  "nbformat": 4,
  "nbformat_minor": 2
}