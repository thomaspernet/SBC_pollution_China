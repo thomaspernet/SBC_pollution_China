{
 "cells": [
  {
   "cell_type": "markdown",
   "metadata": {
    "incorrectly_encoded_metadata": "Collapsed=\"false\" kernel=\"SoS\" toc-hr-collapsed=false",
    "kernel": "SoS"
   },
   "source": [
    "# SBC_pollution_china data preprocessing\n",
    "\n",
    "This notebook has been generated on 2019-10-05 07:45 \n",
    "\n",
    "The objective of this notebook is to YYY\n",
    "\n",
    "## Proposal \n",
    "\n",
    "The proposal is available [here](https://drive.google.com/open?id=1tmSFvdUMXcL3vMKBSNYmf5xe6OEmYNnD)\n",
    "\n",
    "### Equation to estimate\n",
    "\n",
    "$$\n",
    "\\begin{aligned} \\text { SO2 emission }_{i k t}=& \\alpha T C Z_{i} \\times \\text { Polluted sectors }_{k} \\times \\text { post } \\\\ & +\\theta {X}_{i k t}+\\nu_{c i}+\\lambda_{t i} +\\phi_{t c} \\end{aligned}\n",
    "$$\n",
    "\n",
    "city-industry; time-industry and time-city\n",
    "\n",
    "## Global steps \n",
    "\n",
    "The global steps to construct the dataset are the following:\n",
    "\n",
    "\n",
    "- From BigQuery\n",
    "    - Select year 1998-2007 ASIF\n",
    "    \n",
    "- Set parameters:\n",
    "    - Choice of aggregation\n",
    "    - Keep used variables in SO2 dataset\n",
    "    \n",
    "## Data source \n",
    "\n",
    "The data source to construct the dataset are the following:"
   ]
  },
  {
   "cell_type": "markdown",
   "metadata": {
    "collapsed": "false",
    "kernel": "SoS"
   },
   "source": [
    "\n",
    "### Big Query Dataset \n",
    " \n",
    " - asif_firm_china \n",
    " - China_city_pollution_98_2007 \n",
    " \n",
    "### Google Cloud Storage Dataset \n",
    " \n",
    "### Google Spreadsheet Dataset \n",
    " \n",
    " - [TCZ_list_china](https://docs.google.com/spreadsheets/d/15bMeS2cMfGfYJkjuY6wOMzcAUWZNRGpO03hZ8rpgv0Q) \n",
    " - [cityname_and_code](https://docs.google.com/spreadsheets/d/1fIziz-Xt99-Rj6NLm52-i6jScOLXgAY20KJi8k3DruA) "
   ]
  },
  {
   "cell_type": "markdown",
   "metadata": {
    "collapsed": "false",
    "kernel": "SoS"
   },
   "source": [
    "## Destination\n",
    "\n",
    "The new dataset is available from XXX\n",
    "\n",
    "- GS: None\n",
    "- GCS: SBC_pollution_china.gz\n",
    "- BG: SBC_pollution_china"
   ]
  },
  {
   "cell_type": "code",
   "execution_count": null,
   "metadata": {
    "kernel": "Python3"
   },
   "outputs": [],
   "source": [
    "from Fast_connectCloud import connector\n",
    "from GoogleDrivePy.google_drive import connect_drive\n",
    "from GoogleDrivePy.google_platform import connect_cloud_platform\n",
    "import pandas as pd \n",
    "import numpy as np\n",
    "#import pandas_profiling\n",
    "import Pollution.SBC_pollution as sbc"
   ]
  },
  {
   "cell_type": "code",
   "execution_count": null,
   "metadata": {
    "kernel": "Python3"
   },
   "outputs": [],
   "source": [
    "gs = connector.open_connection(online_connection = False, \n",
    "\tpath_credential = '/Users/thomas/Google Drive/Projects/Client_Oauth/Google_auth/')\n",
    "\n",
    "service_gd = gs.connect_remote(engine = 'GS')\n",
    "service_gcp = gs.connect_remote(engine = 'GCP')\n",
    "\n",
    "gdr = connect_drive.connect_drive(service_gd['GoogleDrive'])\n",
    "\n",
    "project = 'valid-pagoda-132423'\n",
    "gcp = connect_cloud_platform.connect_console(project = project,\n",
    "\t\t\t\t\t\t\t\t\t\t\t service_account = service_gcp['GoogleCloudP'])"
   ]
  },
  {
   "cell_type": "markdown",
   "metadata": {
    "collapsed": "false",
    "kernel": "python3"
   },
   "source": [
    "## Load asif_firm_china from Google Big Query\n",
    "\n",
    "Data studio for this dataset available [here](https://drive.google.com/open?id=1ppXfCw73EGVmUQdcM5MI_S9RbtjunhQ_)\n",
    "\n",
    "Feel free to add description about the dataset or any usefull information.\n",
    "\n",
    "### Format Data:\n",
    "\n",
    "- Output: in trillions RMB\n",
    "- Employement: in trillions RMB\n",
    "- Fixed Asset: in millions of workers.\n",
    "\n",
    "### Preprocess original data\n",
    "\n",
    "- Rescale output; employment and capital\n",
    "- Remove firms with zeroes values\n",
    "- Keep year 2002-2007"
   ]
  },
  {
   "cell_type": "code",
   "execution_count": null,
   "metadata": {
    "kernel": "Python3"
   },
   "outputs": [],
   "source": [
    "query = (\n",
    "    \"\"\"SELECT case \n",
    "    WHEN ownership = 'SOE' THEN 'SOE' ELSE 'PRIVATE' END AS SOE, \n",
    "       SUM(output/10000000) as output_fcit, \n",
    "       SUM(fa_net/10000000) as capital_fcit, \n",
    "       SUM(employment/100000) as labour_fcit, \n",
    "       Province_en,\n",
    "       cityen_correct as cityen,\n",
    "       citycn_correct as citycn,\n",
    "       geocode4_corr, \n",
    "       Lower_location,\n",
    "       Larger_location,\n",
    "       Coastal, \n",
    "       CAST(year AS STRING) as year,\n",
    "       CAST(cic AS STRING) as industry,\n",
    "       Short \n",
    "FROM China.asif_firm_china \n",
    "WHERE year >= 2002 AND year < 2008 AND output > 0 AND fa_net > 0 \n",
    "    AND employment > 0 \n",
    "GROUP BY Province_en, cityen,citycn, geocode4_corr, \n",
    "    Lower_location, Larger_location, Coastal, \n",
    "    year, SOE, cic,industry, Short \"\"\"\n",
    ")\n",
    "\n",
    "df_asif_firm_china = gcp.upload_data_from_bigquery(query=query, location=\"US\")\n",
    "df_asif_firm_china.head()"
   ]
  },
  {
   "cell_type": "markdown",
   "metadata": {
    "collapsed": "false",
    "kernel": "python3"
   },
   "source": [
    "## Load df_China_city_pollution_03_2007 from Google Big Query\n",
    "\n",
    "Feel free to add description about the dataset or any usefull information.\n"
   ]
  },
  {
   "cell_type": "code",
   "execution_count": null,
   "metadata": {
    "kernel": "Python3"
   },
   "outputs": [],
   "source": [
    "query = (\n",
    "    \"\"\"SELECT \n",
    "    CAST(year AS STRING) as year,\n",
    "    cityen,\n",
    "    CAST(indus_code AS STRING) as industry,\n",
    "    SUM(tso2) as tso2,\n",
    "    SUM(ttoutput) as toutput\n",
    "    FROM China.China_city_pollution_98_2007 \n",
    "    WHERE year >= 2002 AND year <= 2007 \n",
    "    GROUP BY year, cityen,industry\"\"\"\n",
    ")\n",
    "\n",
    "df_China_city_pollution_03_2007 = gcp.upload_data_from_bigquery(\n",
    "    query=query, location='US')\n",
    "df_China_city_pollution_03_2007.head()"
   ]
  },
  {
   "cell_type": "markdown",
   "metadata": {
    "collapsed": "false",
    "kernel": "python3"
   },
   "source": [
    "## Load TCZ_list_china from Google Spreadsheet\n",
    "\n",
    "Feel free to add description about the dataset or any usefull information.\n",
    "\n",
    "We use the sheet `paper` because it's the geocode we originaly used. After the dataset has been created, we changed some geocode to match the correspondance table. In order to make the replication possible, we use the geocode from the paper https://drive.google.com/file/d/1-SXSlRoS_2ZW7CK6XMhcXpJDPxAEF1xG/view\n",
    "\n",
    "Profiling will be available soon for this dataset"
   ]
  },
  {
   "cell_type": "code",
   "execution_count": null,
   "metadata": {
    "kernel": "Python3"
   },
   "outputs": [],
   "source": [
    "### Please go here https://docs.google.com/spreadsheets/d/15bMeS2cMfGfYJkjuY6wOMzcAUWZNRGpO03hZ8rpgv0Q\n",
    "### To change the range\n",
    "\n",
    "sheetid = '15bMeS2cMfGfYJkjuY6wOMzcAUWZNRGpO03hZ8rpgv0Q'\n",
    "sheetname = 'paper'\n",
    "\n",
    "df_TCZ_list_china = (gdr.upload_data_from_spreadsheet(sheetID = sheetid,\n",
    "sheetName = sheetname,\n",
    "\t to_dataframe = True)\n",
    "                     .assign(geocode4_corr=lambda x: \n",
    "                             x['geocode4_corr'].astype('int')\n",
    "                    )\n",
    "                    )\n",
    "df_TCZ_list_china.head()"
   ]
  },
  {
   "cell_type": "markdown",
   "metadata": {
    "collapsed": "false",
    "kernel": "python3"
   },
   "source": [
    "## Load China_cities_target_so2 from Google Spreadsheet\n",
    "\n",
    "Feel free to add description about the dataset or any usefull information.\n",
    "\n",
    "Profiling will be available soon for this dataset"
   ]
  },
  {
   "cell_type": "code",
   "execution_count": null,
   "metadata": {
    "collapsed": true,
    "jupyter": {
     "outputs_hidden": true
    },
    "kernel": "Python3"
   },
   "outputs": [],
   "source": [
    "### Please go here https://docs.google.com/spreadsheets/d/1z3A_I8_StdyNL5O38s2l9hx6W3VR49CGVmaosypjFMA\n",
    "### To change the range\n",
    "\n",
    "sheetid = '1z3A_I8_StdyNL5O38s2l9hx6W3VR49CGVmaosypjFMA'\n",
    "sheetname = 'China_cities_target_so2'\n",
    "\n",
    "df_China_cities_target_so2 = (gdr.upload_data_from_spreadsheet(sheetID = \n",
    "                                                              sheetid,\n",
    "sheetName = sheetname,\n",
    "\t to_dataframe = True)\n",
    "                              .drop(\n",
    "        columns=[\n",
    "            \"prov2013\",\n",
    "            \"citycn\",\n",
    "            \"ttoutput\",\n",
    "            \"SO2_05_city_reconstructed\",\n",
    "            \"SO2_obj_2010\",\n",
    "            \"SO2_perc_reduction_c\",\n",
    "            \"in_10_000tonnes\"\n",
    "        ]\n",
    "    )\n",
    "                             )\n",
    "df_China_cities_target_so2.head()"
   ]
  },
  {
   "cell_type": "markdown",
   "metadata": {
    "incorrectly_encoded_metadata": "Collapsed=\"false\" kernel=\"python3\" toc-hr-collapsed=false",
    "kernel": "SoS"
   },
   "source": [
    "# Workflow\n",
    "\n",
    "In this section, we will construct the dataset, and document each step of the workflow.\n",
    "\n",
    "Please use the following format for the documentation:\n",
    "\n",
    "- `##` Step 1: XXX\n",
    "- `###` (optional) Underlying process description\n",
    "- `##` Step 2: YYY\n",
    "- `###` (optional) Underlying process description\n",
    "\n",
    "Note: **You need to rename the last dataframe `df_final`**"
   ]
  },
  {
   "cell_type": "markdown",
   "metadata": {
    "incorrectly_encoded_metadata": "Collapsed=\"false\" kernel=\"python3\" toc-hr-collapsed=true",
    "kernel": "SoS"
   },
   "source": [
    "## Steps \n",
    "\n",
    "The program works as follow:\n",
    "\n",
    "- Step 1: Compute share SOE by industry\n",
    "- Step 2: Compute polluted sectors\n",
    "- Step 3: Merge dataframe \n",
    "    - For TCZ, `left_join` -> Cities not matched become no tcz"
   ]
  },
  {
   "cell_type": "markdown",
   "metadata": {
    "collapsed": "false",
    "kernel": "python3"
   },
   "source": [
    "### 1. Prepapre  `df_asif_firm_china`\n",
    "\n",
    "There is some preprocessing to perform on the original dataframe:"
   ]
  },
  {
   "cell_type": "code",
   "execution_count": null,
   "metadata": {
    "kernel": "Python3"
   },
   "outputs": [],
   "source": [
    "dic_ = {'var': [],\n",
    "       'count':[],\n",
    "       'values': []}\n",
    "for v in df_asif_firm_china.select_dtypes(include='object').columns:\n",
    "    cat = df_asif_firm_china[v].nunique()\n",
    "    value_cat  = df_asif_firm_china[v].unique()\n",
    "    dic_['var'].append(v)\n",
    "    dic_['count'].append(cat)\n",
    "    dic_['values'].append(value_cat)\n",
    "\n",
    "(pd.DataFrame(dic_)\n",
    " .sort_values(by = ['count'])\n",
    " .set_index('var')\n",
    ")"
   ]
  },
  {
   "cell_type": "code",
   "execution_count": null,
   "metadata": {
    "kernel": "Python3"
   },
   "outputs": [],
   "source": [
    "share_SOE = (df_asif_firm_china\n",
    "                     .groupby(['year',\n",
    "                               'industry',\n",
    "                               'SOE'\n",
    "                               ]\n",
    "                              )\n",
    "                     .agg(\n",
    "                         output_fcit=('output_fcit', 'sum'),\n",
    "                         capital_fcit=('capital_fcit', 'sum'),\n",
    "                         labour_fcit=('labour_fcit', 'sum')\n",
    "                     )\n",
    "                     .unstack(fill_value=0)\n",
    "                     .assign( \n",
    "                         total_o=lambda x: x.iloc[:, 0] + x.iloc[:, 1],\n",
    "                         total_k=lambda x: x.iloc[:, 2] + x.iloc[:, 3],\n",
    "                         total_l=lambda x: x.iloc[:, 4] + x.iloc[:, 5],\n",
    "                         out_share_SOE=lambda x: x.iloc[:, 1] / x['total_o'],\n",
    "                         cap_share_SOE=lambda x: x.iloc[:, 3] / x['total_k'],\n",
    "                         lab_share_SOE=lambda x: x.iloc[:, 5] / x['total_l'],\n",
    "                     )\n",
    "                     .groupby(level=1)\n",
    "                     .agg( \n",
    "                         out_share_SOE=('out_share_SOE', 'mean'),\n",
    "                         cap_share_SOE=('cap_share_SOE', 'mean'),\n",
    "                         lab_share_SOE=('lab_share_SOE', 'mean'),\n",
    "                     )\n",
    "                     .reset_index()\n",
    "                     )\n",
    "share_SOE.head()"
   ]
  },
  {
   "cell_type": "code",
   "execution_count": null,
   "metadata": {
    "kernel": "Python3"
   },
   "outputs": [],
   "source": [
    "# Polluted sectors\n",
    "pollution_ind = (df_China_city_pollution_03_2007\n",
    "                     .loc[lambda x: ~x['tso2'].isin([0])]\n",
    "                     .loc[lambda x: x['year'].isin(['2002'])]\n",
    "                     #.rename(columns={'indus_code': 'industry'})\n",
    "                     .groupby('industry')[['tso2', 'toutput']]\n",
    "                     .mean()\n",
    "                     .reset_index()\n",
    "                     .assign(\n",
    "                         polluted_di=lambda x: np.where(\n",
    "                             x[\"tso2\"] > x[\"tso2\"].quantile(\n",
    "                                 [0.75]).loc[(0.75)],\n",
    "                             \"Above\",\n",
    "                             \"Below\",\n",
    "                         ),\n",
    "                         polluted_mi=lambda x: np.where(\n",
    "                             x[\"tso2\"] > x[\"tso2\"].mean(),\n",
    "                             \"Above\",\n",
    "                             \"Below\",\n",
    "                         ),\n",
    "                         polluted_thre=lambda x: np.where(\n",
    "                             x[\"tso2\"] > 68070.78,\n",
    "                             \"Above\",\n",
    "                             \"Below\",\n",
    "                         ),\n",
    "                     )\n",
    "                     .drop(columns = ['toutput'])\n",
    "                     .rename(columns={\n",
    "                         'tso2': 'tso2_i'\n",
    "                     })\n",
    "                     )\n",
    "pollution_ind.head()"
   ]
  },
  {
   "cell_type": "code",
   "execution_count": null,
   "metadata": {
    "kernel": "Python3"
   },
   "outputs": [],
   "source": [
    "df_China_city_pollution_03_2007.loc[lambda x: x['tso2']<=0].shape"
   ]
  },
  {
   "cell_type": "code",
   "execution_count": null,
   "metadata": {
    "kernel": "Python3"
   },
   "outputs": [],
   "source": [
    "df_temp = (df_asif_firm_china\n",
    " .merge(df_China_city_pollution_03_2007)\n",
    " .merge(pollution_ind)\n",
    " .merge(df_China_cities_target_so2)\n",
    " .merge(df_TCZ_list_china, on = ['geocode4_corr'], how = 'left')\n",
    " .loc[lambda x: ~x['tso2'].isin([0])]\n",
    " .assign(\n",
    "     TCZ = lambda x: x['TCZ'].fillna('0'),\n",
    "     Period=lambda x: np.where(x[\"year\"] > \"2005\",\"After\", \"Before\"),\n",
    " )\n",
    "           .rename(columns={\n",
    "            \"TCZ\": \"TCZ_c\",\n",
    "            \"tso2_mandate_c\": \"target_c\",\n",
    "            'tso2': 'tso2_cit'\n",
    "        })\n",
    ".replace({'TCZ_c': {\"1\": 'TCZ', \"0\": 'No_TCZ'}})\n",
    ")\n",
    "\n",
    "# Compute fixed effect\n",
    "df_final = df_temp.copy()\n",
    "\n",
    "df_final[\"FE_c_i\"] = pd.factorize(df_final[\"cityen\"] +\n",
    "                                      df_final['industry'])[0]\n",
    "\n",
    "df_final[\"FE_t_i\"] = pd.factorize(df_final[\"year\"] +\n",
    "                                      df_final['industry'])[0]\n",
    "\n",
    "df_final[\"FE_t_c\"] = pd.factorize(df_final[\"year\"] + \n",
    "                                  df_final[\"cityen\"])[0]"
   ]
  },
  {
   "cell_type": "code",
   "execution_count": null,
   "metadata": {
    "kernel": "Python3"
   },
   "outputs": [],
   "source": [
    "df_final.groupby('year')['tso2'].sum()"
   ]
  },
  {
   "cell_type": "code",
   "execution_count": null,
   "metadata": {
    "collapsed": true,
    "jupyter": {
     "outputs_hidden": true
    },
    "kernel": "Python3"
   },
   "outputs": [],
   "source": [
    "df_final.describe()"
   ]
  },
  {
   "cell_type": "code",
   "execution_count": null,
   "metadata": {
    "collapsed": true,
    "jupyter": {
     "outputs_hidden": true
    },
    "kernel": "python3"
   },
   "outputs": [],
   "source": [
    "df_final.to_csv(\n",
    "\t'SBC_pollution_China.gz',\n",
    "\tsep=',',\n",
    "\theader=True,\n",
    "\tindex=False,\n",
    "\tchunksize=100000,\n",
    "\tcompression='gzip',\n",
    "\tencoding='utf-8')"
   ]
  },
  {
   "cell_type": "markdown",
   "metadata": {
    "kernel": "python3"
   },
   "source": [
    "# Profiling\n",
    "\n",
    "In order to get a quick summary statistic of the data, we generate an HTML file with the profiling of the dataset we've just created. \n",
    "\n",
    "The profiling will be available at this URL after you commit a push to GitHub. \n",
    "\n",
    "**You need to rename the final dataframe `df_final` in the previous section to generate the profiling.**"
   ]
  },
  {
   "cell_type": "code",
   "execution_count": null,
   "metadata": {
    "collapsed": true,
    "jupyter": {
     "outputs_hidden": true
    },
    "kernel": "python3"
   },
   "outputs": [],
   "source": [
    "#### make sure the final dataframe is stored as df_final\n",
    "### Overide the default value: \n",
    "#https://github.com/pandas-profiling/pandas-profiling/blob/master/pandas_profiling/config_default.yaml\n",
    "\n",
    "profile = pandas_profiling.ProfileReport(df_final,\n",
    "                                        check_correlation_pearson = False)\n",
    "name_html = \"Dataset_profiling/SBC_pollution_China.html\"\n",
    "profile.to_file(output_file=name_html)"
   ]
  },
  {
   "cell_type": "markdown",
   "metadata": {
    "kernel": "python3"
   },
   "source": [
    "# Upload to cloud\n",
    "\n",
    "The dataset is ready to be shared with your colleagues. "
   ]
  },
  {
   "cell_type": "markdown",
   "metadata": {
    "collapsed": "false",
    "kernel": "python3"
   },
   "source": [
    "### Move to GCS and BigQuery\n",
    "\n",
    "We move the dataset to the following:\n",
    "\n",
    "- **bucket**: *chinese_data*\n",
    "\n",
    "- **Destination_blob**: *Environmental_Statistics_china/Processed_ES*\n",
    "- **name**:  *SBC_pollution_China.gz*\n",
    "- **Dataset**: *China*\n",
    "\n",
    "- **table**: *SBC_pollution_China*\n",
    "\n",
    "### GCS\n",
    "\n",
    "We first need to save *SBC_pollution_China* with `.gz` extension locally then we can move it\n",
    "to GCS"
   ]
  },
  {
   "cell_type": "markdown",
   "metadata": {
    "collapsed": "false",
    "kernel": "python3"
   },
   "source": [
    "## Delete previous dataset"
   ]
  },
  {
   "cell_type": "code",
   "execution_count": null,
   "metadata": {
    "collapsed": true,
    "jupyter": {
     "outputs_hidden": true
    },
    "kernel": "Python3"
   },
   "outputs": [],
   "source": [
    "bucket_name = 'chinese_data'\n",
    "destination_blob_name = 'paper_project/SBC_pollution_China_not_constraint.gz'\n",
    "\n",
    "#gcp.delete_blob(bucket_name = bucket_name,\n",
    "#                destination_blob_name= destination_blob_name)\n",
    "#gcp.delete_table(dataset_name = 'China', name_table = 'SBC_pollution_China')"
   ]
  },
  {
   "cell_type": "code",
   "execution_count": null,
   "metadata": {
    "collapsed": true,
    "jupyter": {
     "outputs_hidden": true
    },
    "kernel": "Python3"
   },
   "outputs": [],
   "source": [
    "### First save locally\n",
    "df_final.to_csv(\n",
    "\t'SBC_pollution_China_not_constraint.gz',\n",
    "\tsep=',',\n",
    "\theader=True,\n",
    "\tindex=False,\n",
    "\tchunksize=100000,\n",
    "\tcompression='gzip',\n",
    "\tencoding='utf-8')\n",
    "\n",
    "### Then upload to GCS\n",
    "bucket_name = 'chinese_data'\n",
    "destination_blob_name = 'paper_project'\n",
    "source_file_name = 'SBC_pollution_China_not_constraint.gz'\n",
    "gcp.upload_blob(bucket_name, destination_blob_name, source_file_name)"
   ]
  },
  {
   "cell_type": "code",
   "execution_count": null,
   "metadata": {
    "collapsed": true,
    "jupyter": {
     "outputs_hidden": true
    },
    "kernel": "Python3"
   },
   "outputs": [],
   "source": [
    "### Move to bigquery\n",
    "bucket_gcs ='chinese_data/paper_project/SBC_pollution_China_not_constraint.gz'\n",
    "gcp.move_to_bq_autodetect(dataset_name= 'China',\n",
    "\t\t\t\t\t\t\t name_table= 'SBC_pollution_China_not_constraint',\n",
    "\t\t\t\t\t\t\t bucket_gcs=bucket_gcs)"
   ]
  }
 ],
 "metadata": {
  "jupytext": {
   "formats": "ipynb,md"
  },
  "kernel_info": {
   "name": "sos"
  },
  "kernelspec": {
   "display_name": "Python 3",
   "language": "python",
   "name": "python3"
  },
  "language_info": {
   "codemirror_mode": {
    "name": "ipython",
    "version": 3
   },
   "file_extension": ".py",
   "mimetype": "text/x-python",
   "name": "python",
   "nbconvert_exporter": "python",
   "pygments_lexer": "ipython3",
   "version": "3.7.7"
  },
  "nteract": {
   "version": "0.15.0"
  },
  "sos": {
   "kernels": [
    [
     "Python3",
     "python3",
     "python3",
     "",
     {
      "name": "ipython",
      "version": 3
     }
    ],
    [
     "Python3",
     "python3",
     "python3",
     "",
     {
      "name": "ipython",
      "version": 3
     }
    ]
   ],
   "version": "0.20.1"
  }
 },
 "nbformat": 4,
 "nbformat_minor": 4
}
