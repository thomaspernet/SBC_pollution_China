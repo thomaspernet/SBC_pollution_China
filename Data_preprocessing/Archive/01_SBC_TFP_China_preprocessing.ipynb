{
 "cells": [
  {
   "cell_type": "markdown",
   "metadata": {
    "kernel": "SoS"
   },
   "source": [
    "# TEST TFP\n",
    "\n",
    "## Objective\n",
    "\n",
    "* Prepare data for TFP model\n",
    "  * Compute TFP using OP or LP algorithm using ASIF panel data\n",
    "* Steps:\n",
    "  * Import data 2001-2007\n",
    "  * Select cities and industries from the paper's table\n",
    "  * Exclude outliers\n",
    "  * Remove firm with different:\n",
    "    *  ownership, cities and industries over time\n",
    "  * Compute TFP using 2 ways:\n",
    "    * full samples\n",
    "    * Split by ownership"
   ]
  },
  {
   "cell_type": "code",
   "execution_count": null,
   "metadata": {
    "kernel": "SoS"
   },
   "outputs": [],
   "source": [
    "from Fast_connectCloud import connector\n",
    "from GoogleDrivePy.google_drive import connect_drive\n",
    "from GoogleDrivePy.google_platform import connect_cloud_platform\n",
    "import pandas as pd \n",
    "import numpy as np\n",
    "import pandas_profiling"
   ]
  },
  {
   "cell_type": "code",
   "execution_count": null,
   "metadata": {
    "kernel": "SoS"
   },
   "outputs": [],
   "source": [
    "gs = connector.open_connection(online_connection = False, \n",
    "\tpath_credential = '/Users/thomas/Google Drive/Projects/Client_Oauth/Google_auth/')\n",
    "\n",
    "#service_gd = gs.connect_remote(engine = 'GS')\n",
    "service_gcp = gs.connect_remote(engine = 'GCP')\n",
    "\n",
    "#gdr = connect_drive.connect_drive(service_gd['GoogleDrive'])\n",
    "\n",
    "project = 'valid-pagoda-132423'\n",
    "gcp = connect_cloud_platform.connect_console(project = project,\n",
    "\t\t\t\t\t\t\t\t\t\t\t service_account = service_gcp['GoogleCloudP'])"
   ]
  },
  {
   "cell_type": "code",
   "execution_count": null,
   "metadata": {
    "kernel": "Python 3"
   },
   "outputs": [],
   "source": [
    "query = \"\"\"\n",
    "SELECT year, geocode4_corr, cic as industry,\n",
    "SUM(output / 10000000) as output_agg_o, \n",
    "SUM(fa_net / 10000000) as fa_net_agg_o, \n",
    "SUM(employment / 100000) as employment_agg_o,\n",
    "SUM(input / 10000000) as input_agg_o,\n",
    "  FROM China.asif_firm_china \n",
    "  WHERE year >= 2002 AND year <= 2007\n",
    "  AND output > 0 \n",
    "    AND fa_net > 0 \n",
    "    AND employment > 0 \n",
    "    AND input > 0 \n",
    "  GROUP BY year, geocode4_corr, cic\n",
    "\"\"\"\n",
    "\n",
    "df_asif_firm_china = gcp.upload_data_from_bigquery(query = query, location = 'US')\n",
    "df_asif_firm_china.head()"
   ]
  },
  {
   "cell_type": "code",
   "execution_count": null,
   "metadata": {
    "kernel": "Python 3"
   },
   "outputs": [],
   "source": [
    "df_asif_firm_china.to_csv('test.csv', index = False)"
   ]
  },
  {
   "cell_type": "markdown",
   "metadata": {
    "kernel": "Python 3"
   },
   "source": [
    "Issue with `prodest` librairie, so I moved to EC2 to compute it"
   ]
  },
  {
   "cell_type": "code",
   "execution_count": null,
   "metadata": {
    "kernel": "SoS"
   },
   "outputs": [],
   "source": [
    "query = (\n",
    "          \"SELECT * \"\n",
    "            \"FROM China.SBC_pollution_China \"\n",
    "\n",
    "        )\n",
    "\n",
    "df_temp = gcp.upload_data_from_bigquery(query = query, location = 'US')\n",
    "df_temp.head()"
   ]
  },
  {
   "cell_type": "code",
   "execution_count": null,
   "metadata": {
    "kernel": "SoS"
   },
   "outputs": [],
   "source": [
    "OWNERSHIP = 'Foreign'\n",
    "aggregation_param = 'geocode4_corr'\n",
    "list_agg = df_temp[aggregation_param].to_list()\n",
    "\n",
    "threshold_full = 6\n",
    "query_share_ = \"\"\" \n",
    "WITH sum_agg_o AS (\n",
    "  SELECT \n",
    "    case WHEN ownership = '{2}' THEN '{2}' ELSE '{3}' END AS OWNERSHIP, \n",
    "    SUM(output / 10000000) as output_agg_o, \n",
    "    SUM(fa_net / 10000000) as fa_net_agg_o, \n",
    "    SUM(employment / 100000) as employment_agg_o,\n",
    "    {1} as {0}\n",
    "  FROM \n",
    "    China.asif_firm_china \n",
    "  WHERE \n",
    "    year >= 2002 \n",
    "    AND year <= 2007 \n",
    "    AND output > 0 \n",
    "    AND fa_net > 0 \n",
    "    AND employment > 0 \n",
    "  GROUP BY \n",
    "    OWNERSHIP, \n",
    "    {0}\n",
    ") \n",
    "SELECT \n",
    "  * \n",
    "FROM \n",
    "  (\n",
    "    WITH sum_agg AS(\n",
    "      SELECT \n",
    "        SUM(output_agg_o) as output_agg, \n",
    "        SUM(fa_net_agg_o) as fa_net_agg, \n",
    "        SUM(employment_agg_o) as employment_agg, \n",
    "        {0} AS {0}_b\n",
    "      FROM \n",
    "        sum_agg_o \n",
    "      GROUP BY \n",
    "        {0}\n",
    "    ) \n",
    "    SELECT \n",
    "      * \n",
    "    FROM \n",
    "      (\n",
    "        WITH share_agg_o AS(\n",
    "          SELECT \n",
    "            OWNERSHIP, \n",
    "            output_agg_o / output_agg AS share_output_agg_o, \n",
    "            fa_net_agg_o / fa_net_agg AS share_fa_net_agg_o, \n",
    "            employment_agg_o / employment_agg AS share_employement_agg_o, \n",
    "            {0}\n",
    "          FROM \n",
    "            sum_agg_o \n",
    "            LEFT JOIN sum_agg ON sum_agg_o.{0} = sum_agg.{0}_b \n",
    "        ) \n",
    "        SELECT \n",
    "        {0},\n",
    "        OWNERSHIP,  \n",
    "        share_output_agg_o,\n",
    "        share_fa_net_agg_o,\n",
    "        share_employement_agg_o\n",
    "        FROM share_agg_o\n",
    "        WHERE OWNERSHIP = '{2}'\n",
    "        )\n",
    "        )\n",
    "\"\"\"\n",
    "if aggregation_param == 'industry':\n",
    "    if OWNERSHIP == 'Foreign':\n",
    "        counterpart = 'DOMESTIC'\n",
    "    else:\n",
    "        counterpart = 'PRIVATE'\n",
    "    query_share_foreign= query_share_.format(aggregation_param,\n",
    "                                             'cic',\n",
    "                                             OWNERSHIP,\n",
    "                                            counterpart)\n",
    "else:\n",
    "    if OWNERSHIP == 'Foreign':\n",
    "        counterpart = 'DOMESTIC'\n",
    "    else:\n",
    "        counterpart = 'PRIVATE'\n",
    "    query_share_foreign = query_share_.format(aggregation_param,\n",
    "                                              aggregation_param,\n",
    "                                              OWNERSHIP,\n",
    "                                             counterpart)\n",
    "        \n",
    "OWNERSHIP = 'SOE'\n",
    "if aggregation_param == 'industry':\n",
    "    if OWNERSHIP == 'Foreign':\n",
    "        counterpart = 'DOMESTIC'\n",
    "    else:\n",
    "        counterpart = 'PRIVATE'\n",
    "    df_share_soe= query_share_.format(aggregation_param,\n",
    "                                             'cic',\n",
    "                                             OWNERSHIP,\n",
    "                                            counterpart)\n",
    "else:\n",
    "    if OWNERSHIP == 'Foreign':\n",
    "        counterpart = 'DOMESTIC'\n",
    "    else:\n",
    "        counterpart = 'PRIVATE'\n",
    "    df_share_soe = query_share_.format(aggregation_param,\n",
    "                                              aggregation_param,\n",
    "                                              OWNERSHIP,\n",
    "                                             counterpart)\n",
    "    \n",
    "df_share_soe = (gcp.upload_data_from_bigquery(query = df_share_soe,\n",
    "                                         location = 'US')\n",
    "                    .loc[lambda x: x[aggregation_param].isin(list_agg)]\n",
    "                   )"
   ]
  },
  {
   "cell_type": "code",
   "execution_count": null,
   "metadata": {
    "kernel": "SoS"
   },
   "outputs": [],
   "source": [
    "#%put df_final_SOE --to R\n",
    "#### If industry, we need to use out_share_SOE, cap_share_SOE,lab_share_SOE\n",
    "##### Output share already computed in the paper's table for industry but not\n",
    "##### for city, in the later case, we use the data from ASIF\n",
    "if aggregation_param== 'industry':\n",
    "    out = \"out_share_SOE\"\n",
    "    cap = \"cap_share_SOE\"\n",
    "    emp = \"lab_share_SOE\"\n",
    "else:\n",
    "    out = \"share_output_agg_o\"\n",
    "    cap = \"share_fa_net_agg_o\"\n",
    "    emp = \"share_employement_agg_o\"\n",
    "    \n",
    "df_final_SOE = (df_temp.merge(\n",
    "    df_share_soe,\n",
    "    on = [aggregation_param],\n",
    "    how = 'left',\n",
    "    indicator = True\n",
    ")\n",
    "                .assign(\n",
    "                       output = lambda x:\n",
    "                           pd.qcut(x[out],10, labels=False),\n",
    "                       capital = lambda x:\n",
    "                           pd.qcut(x[cap],10, labels=False),\n",
    "                       employment = lambda x:\n",
    "                           pd.qcut(x[emp],10, labels=False),\n",
    "                       mean_output = lambda x:np.where(\n",
    "                    x[out] > x[out].drop_duplicates().mean(),\n",
    "                           1,0\n",
    "                       ),\n",
    "                    mean_capital = lambda x:np.where(\n",
    "                    x[cap] > x[cap].drop_duplicates().mean(),\n",
    "                           1,0\n",
    "                       ),\n",
    "                    mean_employment = lambda x:np.where(\n",
    "                    x[emp] > x[emp].drop_duplicates().mean(),\n",
    "                           1,0\n",
    "                       )\n",
    "                    )\n",
    "    #.merge(\n",
    "    #                       pd.read_csv('../df_chinese_city_characteristics.csv'),\n",
    "    #                   on = ['year', 'geocode4_corr'],\n",
    "    #                   how = 'left'\n",
    "                       )"
   ]
  },
  {
   "cell_type": "code",
   "execution_count": null,
   "metadata": {
    "kernel": "SoS"
   },
   "outputs": [],
   "source": [
    "%put df_final_tfp --to R\n",
    "df_final_tfp = (pd.read_csv('TFP_computed_ASIF_china.csv')[\n",
    "    ['year','geocode4_corr', 'industry','tfp_OP']\n",
    "]\n",
    " #.rename(columns= {'cic': 'industry'})\n",
    " .merge(df_final_SOE.drop(columns = \n",
    "                     ['FE_c_i', 'FE_t_i', 'FE_t_c']), \n",
    "                     on = ['year', 'geocode4_corr', 'industry'])\n",
    " .assign(\n",
    "        year=lambda x: x['year'].astype('str'),\n",
    "        industry=lambda x: x['industry'].astype('str')\n",
    " )\n",
    " #.groupby(['Period','year','Coastal','TCZ_c',\"cityen\", 'geocode4_corr',\n",
    " #          'polluted_thre','industry'])[['tfp', 'target_c']]\n",
    " #               .mean()\n",
    " #               .reset_index()\n",
    ")\n",
    "\n",
    "df_final_tfp[\"FE_c_i\"] = pd.factorize(df_final_tfp[\"cityen\"] +\n",
    "                                      df_final_tfp['industry'])[0]\n",
    "\n",
    "df_final_tfp[\"FE_t_i\"] = pd.factorize(df_final_tfp[\"year\"] +\n",
    "                                      df_final_tfp['industry'])[0]\n",
    "\n",
    "df_final_tfp[\"FE_t_c\"] = pd.factorize(df_final_tfp[\"year\"] + \n",
    "                                      df_final_tfp[\"cityen\"])[0]\n",
    "\n",
    "df_final_tfp.shape"
   ]
  },
  {
   "cell_type": "code",
   "execution_count": null,
   "metadata": {
    "kernel": "R"
   },
   "outputs": [],
   "source": [
    "library(tidyverse)\n",
    "library(lfe)\n",
    "\n",
    "df_final <- df_final_tfp %>% \n",
    "    mutate_if(is.character, as.factor) %>%\n",
    "    mutate_at(vars(starts_with(\"FE\")), as.factor) %>%\n",
    "    mutate(\n",
    "         Period = relevel(Period, ref='Before'),\n",
    "         TCZ_c = relevel(TCZ_c, ref='No_TCZ'),\n",
    "         #effort_c = relevel(effort_c, ref='Below'),\n",
    "         #polluted_di = relevel(polluted_di, ref='Below'),\n",
    "         #polluted_mi = relevel(polluted_mi, ref='Below'),\n",
    "         polluted_thre = relevel(polluted_thre, ref='Below'),\n",
    "  )\n",
    "head(df_final)"
   ]
  },
  {
   "cell_type": "code",
   "execution_count": null,
   "metadata": {
    "kernel": "R"
   },
   "outputs": [],
   "source": [
    "summary(felm(formula= tfp_OP ~ \n",
    "          target_c * Period * polluted_thre\n",
    "        #+ SPZ  * polluted_thre * Period\n",
    "        #+ Coastal * polluted_thre* Period \n",
    "                  |\n",
    "             FE_t_c + FE_t_i + FE_c_i | 0 |\n",
    "             industry, data= df_final %>% filter(output <6)\n",
    "             ,\n",
    "             exactDOF=TRUE))"
   ]
  },
  {
   "cell_type": "code",
   "execution_count": null,
   "metadata": {
    "kernel": "R"
   },
   "outputs": [],
   "source": [
    "summary(felm(formula= scale(tfp_OP) ~ \n",
    "          target_c * polluted_thre * Period \n",
    "        #+ SPZ  * polluted_thre * Period\n",
    "        #+ Coastal * polluted_thre* Period \n",
    "                  |\n",
    "             FE_t_c + FE_t_i + FE_c_i | 0 |\n",
    "             industry, data= df_final %>% filter(TCZ_c != 'TCZ')\n",
    "             ,\n",
    "             exactDOF=TRUE))"
   ]
  }
 ],
 "metadata": {
  "jupytext": {
   "formats": "ipynb,md"
  },
  "kernelspec": {
   "display_name": "SoS",
   "language": "sos",
   "name": "sos"
  },
  "language_info": {
   "codemirror_mode": "sos",
   "file_extension": ".sos",
   "mimetype": "text/x-sos",
   "name": "sos",
   "nbconvert_exporter": "sos_notebook.converter.SoS_Exporter",
   "pygments_lexer": "sos"
  },
  "sos": {
   "kernels": [
    [
     "Python 3",
     "python3",
     "python3",
     "",
     {
      "name": "ipython",
      "version": 3
     }
    ],
    [
     "R",
     "ir",
     "R",
     "#DCDCDA",
     "r"
    ]
   ],
   "version": "0.21.7"
  }
 },
 "nbformat": 4,
 "nbformat_minor": 4
}
