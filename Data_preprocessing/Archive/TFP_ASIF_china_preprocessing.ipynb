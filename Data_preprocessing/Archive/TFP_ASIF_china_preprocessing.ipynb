{
 "cells": [
  {
   "cell_type": "markdown",
   "metadata": {
    "kernel": "SoS"
   },
   "source": [
    "# TFP_ASIF_china data preprocessing\n",
    "\n",
    "This notebook has been generated on 2019-11-19 16:41 \n",
    "\n",
    "The objective of this notebook is to create the dataframe to compute the TFP from ASIF dataset. The library to compute the TFP with R is [prodest](https://cran.r-project.org/web/packages/prodest/prodest.pdf). With Mac, there are some issues installing the package, so we move to the AWS R server.\n",
    "\n",
    "## Global steps \n",
    "\n",
    "The global steps to construct the dataset are the following:\n",
    "\n",
    "- Import the ASIF data from 98 to 07 and deflated data\n",
    "- Construct deflated variables\n",
    "\n",
    "## Data source \n",
    "\n",
    "The data source to construct the dataset are the following:"
   ]
  },
  {
   "cell_type": "markdown",
   "metadata": {
    "collapsed": "false",
    "kernel": "SoS"
   },
   "source": [
    "\n",
    " ### Big Query Dataset \n",
    " \n",
    " - asif_firm_china9807 \n",
    " ### Google Cloud Storage Dataset \n",
    " \n",
    " ### Google Spreadsheet Dataset \n",
    " \n",
    " Original source: https://feb.kuleuven.be/public/N07057/China/\n",
    " \n",
    " Original paper: https://docs.google.com/file/d/16agSbxO7cYuEn1v2bvw16ZRAx9gg7-Zm/edit\n",
    " \n",
    " - [benchmark_input_deflator_updated](https://docs.google.com/spreadsheets/d/1-9v7OuAFXFqkXpPJl-4xqfi1T0j4j0oG0vCkLMx6OK8) \n",
    " - [benchmark_output_deflator](https://docs.google.com/spreadsheets/d/1O4tgEvhgytMUyNnXqwa0Cven3YfX9d_7TiO01b0-Zyg) \n",
    " - [Brandt_Rawski investment deflator](https://docs.google.com/spreadsheets/d/1U8H799pbu2z6WF5aQgSzelqmiIrUpARIYtfrf5N4RfY)"
   ]
  },
  {
   "cell_type": "markdown",
   "metadata": {
    "collapsed": "false",
    "kernel": "SoS"
   },
   "source": [
    "## Destination\n",
    "\n",
    "The new dataset is available from XXX\n",
    "\n",
    "- GS: None\n",
    "- GCS: TFP_ASIF_china.gz\n",
    "- BG: TFP_ASIF_china"
   ]
  },
  {
   "cell_type": "markdown",
   "metadata": {
    "kernel": "SoS"
   },
   "source": [
    "# Load Dataset\n"
   ]
  },
  {
   "cell_type": "code",
   "execution_count": null,
   "metadata": {
    "kernel": "python3"
   },
   "outputs": [],
   "source": [
    "from Fast_connectCloud import connector\n",
    "from GoogleDrivePy.google_drive import connect_drive\n",
    "from GoogleDrivePy.google_platform import connect_cloud_platform\n",
    "import pandas as pd \n",
    "import numpy as np\n",
    "import pandas_profiling"
   ]
  },
  {
   "cell_type": "code",
   "execution_count": null,
   "metadata": {
    "kernel": "python3"
   },
   "outputs": [],
   "source": [
    "gs = connector.open_connection(online_connection = False, \n",
    "\tpath_credential = '/Users/Thomas/Google Drive/Projects/Data_science/Google_code_n_Oauth/Client_Oauth/Google_auth/')\n",
    "\n",
    "service_gd = gs.connect_remote(engine = 'GS')\n",
    "service_gcp = gs.connect_remote(engine = 'GCP')\n",
    "\n",
    "gdr = connect_drive.connect_drive(service_gd['GoogleDrive'])\n",
    "\n",
    "project = 'valid-pagoda-132423'\n",
    "gcp = connect_cloud_platform.connect_console(project = project,\n",
    "\t\t\t\t\t\t\t\t\t\t\t service_account = service_gcp['GoogleCloudP'])"
   ]
  },
  {
   "cell_type": "markdown",
   "metadata": {
    "collapsed": "false",
    "kernel": "SoS"
   },
   "source": [
    "\n",
    "## Load asif_firm_china9807 from Google Big Query\n",
    "\n",
    "Feel free to add description about the dataset or any usefull information.\n",
    "\n"
   ]
  },
  {
   "cell_type": "code",
   "execution_count": null,
   "metadata": {
    "collapsed": true,
    "jupyter": {
     "outputs_hidden": true
    },
    "kernel": "python3"
   },
   "outputs": [],
   "source": [
    "\n",
    "  query = (\n",
    "          \"SELECT id, year,cic, output, input, fa_net, employment \"\n",
    "            \"FROM China.asif_firm_china9807Clean \"\n",
    "\n",
    "        )\n",
    "\n",
    "df_asif_firm_china9807 = gcp.upload_data_from_bigquery(query = query, location = 'US')\n",
    "df_asif_firm_china9807.head()\n"
   ]
  },
  {
   "cell_type": "code",
   "execution_count": null,
   "metadata": {
    "collapsed": true,
    "jupyter": {
     "outputs_hidden": true
    },
    "kernel": "python3"
   },
   "outputs": [],
   "source": [
    "df_asif_firm_china9807 = df_asif_firm_china9807.assign(year=lambda x: x['year'].astype('str'),\n",
    "                                                       cic=lambda x: x['cic'].astype(\n",
    "                                                           'str')\n",
    "                                                       )\n",
    "df_asif_firm_china9807.head()"
   ]
  },
  {
   "cell_type": "code",
   "execution_count": null,
   "metadata": {
    "collapsed": true,
    "jupyter": {
     "outputs_hidden": true
    },
    "kernel": "python3"
   },
   "outputs": [],
   "source": [
    "df_asif_firm_china9807.shape"
   ]
  },
  {
   "cell_type": "markdown",
   "metadata": {
    "collapsed": "false",
    "kernel": "SoS"
   },
   "source": [
    "\n",
    "## Load benchmark_input_deflator_updated from Google Spreadsheet\n",
    "\n",
    "Feel free to add description about the dataset or any usefull information.\n",
    "\n",
    "Profiling will be available soon for this dataset\n",
    "\n"
   ]
  },
  {
   "cell_type": "code",
   "execution_count": null,
   "metadata": {
    "collapsed": true,
    "jupyter": {
     "outputs_hidden": true
    },
    "kernel": "python3"
   },
   "outputs": [],
   "source": [
    "\n",
    "### Please go here https://docs.google.com/spreadsheets/d/1-9v7OuAFXFqkXpPJl-4xqfi1T0j4j0oG0vCkLMx6OK8\n",
    "### To change the range\n",
    "\n",
    "sheetid = '1-9v7OuAFXFqkXpPJl-4xqfi1T0j4j0oG0vCkLMx6OK8'\n",
    "sheetname = 'benchmark_input_deflator_updated'\n",
    "\n",
    "df_benchmark_input_deflator_updated = gdr.upload_data_from_spreadsheet(sheetID = sheetid,\n",
    "sheetName = sheetname,\n",
    "\t to_dataframe = True)\n",
    "df_benchmark_input_deflator_updated.head()\n"
   ]
  },
  {
   "cell_type": "markdown",
   "metadata": {
    "collapsed": "false",
    "kernel": "SoS"
   },
   "source": [
    "\n",
    "## Load benchmark_output_deflator from Google Spreadsheet\n",
    "\n",
    "Feel free to add description about the dataset or any usefull information.\n",
    "\n",
    "Profiling will be available soon for this dataset\n",
    "\n"
   ]
  },
  {
   "cell_type": "code",
   "execution_count": null,
   "metadata": {
    "collapsed": true,
    "jupyter": {
     "outputs_hidden": true
    },
    "kernel": "python3"
   },
   "outputs": [],
   "source": [
    "\n",
    "### Please go here https://docs.google.com/spreadsheets/d/1O4tgEvhgytMUyNnXqwa0Cven3YfX9d_7TiO01b0-Zyg\n",
    "### To change the range\n",
    "\n",
    "sheetid = '1O4tgEvhgytMUyNnXqwa0Cven3YfX9d_7TiO01b0-Zyg'\n",
    "sheetname = 'benchmark_output_deflator'\n",
    "\n",
    "df_benchmark_output_deflator = gdr.upload_data_from_spreadsheet(sheetID = sheetid,\n",
    "sheetName = sheetname,\n",
    "\t to_dataframe = True)\n",
    "\n",
    "df_benchmark_output_deflator.head()\n"
   ]
  },
  {
   "cell_type": "markdown",
   "metadata": {
    "collapsed": "false",
    "kernel": "SoS"
   },
   "source": [
    "\n",
    "## Load Brandt_Rawski investment deflator from Google Spreadsheet\n",
    "\n",
    "Feel free to add description about the dataset or any usefull information.\n",
    "\n",
    "Profiling will be available soon for this dataset\n",
    "\n"
   ]
  },
  {
   "cell_type": "code",
   "execution_count": null,
   "metadata": {
    "collapsed": true,
    "jupyter": {
     "outputs_hidden": true
    },
    "kernel": "python3"
   },
   "outputs": [],
   "source": [
    "\n",
    "### Please go here https://docs.google.com/spreadsheets/d/1U8H799pbu2z6WF5aQgSzelqmiIrUpARIYtfrf5N4RfY\n",
    "### To change the range\n",
    "\n",
    "sheetid = '1U8H799pbu2z6WF5aQgSzelqmiIrUpARIYtfrf5N4RfY'\n",
    "sheetname = 'Brandt_Rawski investment deflator'\n",
    "\n",
    "df_Brandt_Rawski_investment_deflator = gdr.upload_data_from_spreadsheet(sheetID = sheetid,\n",
    "sheetName = sheetname,\n",
    "\t to_dataframe = True)\n",
    "df_Brandt_Rawski_investment_deflator.head()\n"
   ]
  },
  {
   "cell_type": "markdown",
   "metadata": {
    "kernel": "SoS"
   },
   "source": [
    "# Workflow\n",
    "\n",
    "In this section, we will construct the dataset, and document each step of the workflow.\n",
    "\n",
    "Please use the following format for the documentation:\n",
    "\n",
    "- `##` Step 1: XXX\n",
    "- `###` (optional) Underlying process description\n",
    "- `##` Step 2: YYY\n",
    "- `###` (optional) Underlying process description\n",
    "\n",
    "Note: **You need to rename the last dataframe `df_final`**"
   ]
  },
  {
   "cell_type": "markdown",
   "metadata": {
    "collapsed": "false",
    "kernel": "SoS"
   },
   "source": [
    "## Create deflated variables:\n",
    "\n",
    "- output deflated = value added / output deflated\n",
    "- input deflated = input /deflated input\n",
    "- capital deflated = fixed asset/ deflated capital"
   ]
  },
  {
   "cell_type": "code",
   "execution_count": null,
   "metadata": {
    "collapsed": true,
    "jupyter": {
     "outputs_hidden": true
    },
    "kernel": "python3"
   },
   "outputs": [],
   "source": [
    "df_asif_firm_china9807.shape"
   ]
  },
  {
   "cell_type": "code",
   "execution_count": null,
   "metadata": {
    "collapsed": true,
    "jupyter": {
     "outputs_hidden": true
    },
    "kernel": "python3"
   },
   "outputs": [],
   "source": [
    "df_final = (df_asif_firm_china9807\n",
    "            .merge(df_benchmark_input_deflator_updated,\n",
    "                   on=['cic', 'year'])\n",
    "            .merge(df_benchmark_output_deflator,\n",
    "                   on=['cic', 'year'])\n",
    "            .merge(df_Brandt_Rawski_investment_deflator,\n",
    "                   on=['year'])\n",
    "            .assign(\n",
    "                output_deflator=lambda x: x['output_deflator'].astype('float'),\n",
    "                deflator_input=lambda x: x['deflator_input'].astype('float'),\n",
    "                BR_deflator=lambda x: x['BR_deflator'].astype('float'),\n",
    "                output_deflated=lambda x: x['input']/x['output_deflator'],\n",
    "                input_deflated=lambda x: x['input']/x['deflator_input'],\n",
    "                capital_deflated=lambda x: x['fa_net']/x['BR_deflator'],\n",
    "            )\n",
    "            #.drop(columns=['output', 'input', 'va', 'fa_net'])\n",
    "            .set_index(['id', 'year', 'cic'])\n",
    "            .loc[lambda x: (x > 0).all(1)]\n",
    "            .reset_index()\n",
    "            )\n",
    "df_final[\"id_\"] = pd.factorize(df_final[\"id\"])[0]\n",
    "df_final.sort_values(by = 'id_').head()"
   ]
  },
  {
   "cell_type": "code",
   "execution_count": null,
   "metadata": {
    "collapsed": true,
    "jupyter": {
     "outputs_hidden": true
    },
    "kernel": "python3"
   },
   "outputs": [],
   "source": [
    "output_ = df_final['output'].quantile([.05, .98])\n",
    "input_ = df_final['input'].quantile([.05, .98])\n",
    "#va_ = df_final['va'].quantile([.05, .98])\n",
    "fa_net_ = df_final['fa_net'].quantile([.05, .98])\n",
    "employment_ = df_final['employment'].quantile([.05, .98])"
   ]
  },
  {
   "cell_type": "code",
   "execution_count": null,
   "metadata": {
    "collapsed": true,
    "jupyter": {
     "outputs_hidden": true
    },
    "kernel": "python3"
   },
   "outputs": [],
   "source": [
    "### Bottom\n",
    "outliers = True\n",
    "if outliers:\n",
    "    for n in [output_, input_, fa_net_, employment_]:\n",
    "        name  = n.name\n",
    "        df_final = df_final.loc[ lambda x:\n",
    "        x[name] > n.iloc[0]\n",
    "                ]\n",
    "### Top\n",
    "    for n in [output_, input_, fa_net_\n",
    "         ]:\n",
    "        name  = n.name\n",
    "        df_final = df_final.loc[ lambda x:\n",
    "        x[name] < n.iloc[1]\n",
    "                ]\n",
    "df_final.describe().style.format('{0:,.0f}')"
   ]
  },
  {
   "cell_type": "code",
   "execution_count": null,
   "metadata": {
    "collapsed": true,
    "jupyter": {
     "outputs_hidden": true
    },
    "kernel": "python3"
   },
   "outputs": [],
   "source": [
    "total_id_year = (df_final\n",
    " .groupby(['id'])['id']\n",
    " .count()\n",
    " .reset_index(name = 'count')\n",
    " .groupby('count')\n",
    " .count()\n",
    " .assign(total_obs = lambda x:\n",
    "        x.index.get_level_values(0) * x['id'])\n",
    ")\n",
    "total_id_year['id'].plot.bar(title = 'count by # of year')"
   ]
  },
  {
   "cell_type": "code",
   "execution_count": null,
   "metadata": {
    "collapsed": true,
    "jupyter": {
     "outputs_hidden": true
    },
    "kernel": "python3"
   },
   "outputs": [],
   "source": [
    "#df_final = df_final.loc[lambda x: x['year'] > '2001']"
   ]
  },
  {
   "cell_type": "code",
   "execution_count": null,
   "metadata": {
    "collapsed": true,
    "jupyter": {
     "outputs_hidden": true
    },
    "kernel": "python3"
   },
   "outputs": [],
   "source": [
    "df_final.shape"
   ]
  },
  {
   "cell_type": "code",
   "execution_count": null,
   "metadata": {
    "kernel": "python3"
   },
   "outputs": [],
   "source": [
    "#df_final['year'].unique()"
   ]
  },
  {
   "cell_type": "code",
   "execution_count": null,
   "metadata": {
    "kernel": "python3"
   },
   "outputs": [],
   "source": [
    "sample = df_final['id'].sample(n=int(df_final['id'].nunique() * .4),\n",
    "                               random_state=1).tolist()\n",
    "len(sample)"
   ]
  },
  {
   "cell_type": "code",
   "execution_count": null,
   "metadata": {
    "collapsed": true,
    "jupyter": {
     "outputs_hidden": true
    },
    "kernel": "python3"
   },
   "outputs": [],
   "source": [
    "df_final_ = df_final.loc[lambda x :x['id'].isin(sample)]\n",
    "df_final_.shape"
   ]
  },
  {
   "cell_type": "code",
   "execution_count": null,
   "metadata": {
    "collapsed": true,
    "jupyter": {
     "outputs_hidden": true
    },
    "kernel": "python3"
   },
   "outputs": [],
   "source": [
    "### First save locally: Sample\n",
    "df_final_.to_csv(\n",
    "\t'TFP_ASIF_china_sample.gz',\n",
    "\tsep=',',\n",
    "\theader=True,\n",
    "\tindex=False,\n",
    "\tchunksize=100000,\n",
    "\tcompression='gzip',\n",
    "\tencoding='utf-8')"
   ]
  },
  {
   "cell_type": "code",
   "execution_count": null,
   "metadata": {
    "collapsed": true,
    "jupyter": {
     "outputs_hidden": true
    },
    "kernel": "python3"
   },
   "outputs": [],
   "source": [
    "### First save locally: Full\n",
    "df_final.to_csv(\n",
    "\t'TFP_ASIF_china.gz',\n",
    "\tsep=',',\n",
    "\theader=True,\n",
    "\tindex=False,\n",
    "\tchunksize=100000,\n",
    "\tcompression='gzip',\n",
    "\tencoding='utf-8')"
   ]
  },
  {
   "cell_type": "markdown",
   "metadata": {
    "collapsed": "false",
    "kernel": "python3"
   },
   "source": [
    "## Computation TFP\n",
    "\n",
    "Computation is done with the `prodest` library.\n",
    "\n",
    "```\n",
    "# https://cran.r-project.org/web/packages/prodest/prodest.pdf\n",
    "\n",
    "### Dependencies\n",
    "# https://anaconda.org/conda-forge/parallel\n",
    "# https://anaconda.org/r/r-matrix\n",
    "# https://anaconda.org/conda-forge/r-rsolnp\n",
    "# https://anaconda.org/russh/r-rcppde\n",
    "# https://anaconda.org/conda-forge/r-aer\n",
    "# https://anaconda.org/conda-forge/r-zip\n",
    "# https://anaconda.org/bioconda/r-openxlsx\n",
    "# https://anaconda.org/conda-forge/r-nloptr\n",
    "# https://anaconda.org/conda-forge/r-pbkrtest\n",
    "# https://anaconda.org/conda-forge/r-rio\n",
    "# https://anaconda.org/conda-forge/r-lme4\n",
    "```\n",
    "\n",
    "The function `prodestLP` has the following arguments need to be passed. For simplicity, we keep only the deflated output, employment, capital and input. \n",
    "\n",
    "```\n",
    "Y the vector of value added log output.\n",
    "fX the vector/matrix/dataframe of log free variables.\n",
    "sX the vector/matrix/dataframe of log state variables.\n",
    "pX the vector/matrix/dataframe of log proxy variables.\n",
    "cX the vector/matrix/dataframe of control variables. By default cX= NULL.\n",
    "idvar the vector/matrix/dataframe identifying individual panels.\n",
    "timevar the vector/matrix/dataframe identifying time\n",
    "```\n",
    "\n",
    "The TFP is the residual of the function"
   ]
  },
  {
   "cell_type": "code",
   "execution_count": null,
   "metadata": {
    "collapsed": true,
    "jupyter": {
     "outputs_hidden": true
    },
    "kernel": "R"
   },
   "outputs": [],
   "source": [
    "library(prodest)\n",
    "df <- read.csv(\"TFP_ASIF_china_sample.gz\") "
   ]
  },
  {
   "cell_type": "code",
   "execution_count": null,
   "metadata": {
    "collapsed": true,
    "jupyter": {
     "outputs_hidden": true
    },
    "kernel": "R"
   },
   "outputs": [],
   "source": [
    "dim(df)"
   ]
  },
  {
   "cell_type": "markdown",
   "metadata": {
    "collapsed": "false",
    "kernel": "R"
   },
   "source": [
    "### Sample\n",
    "\n",
    "To speed up time, we select half of the data. Coefficients won't change much\n",
    "\n",
    "![](https://drive.google.com/uc?export=view&id=1W5rA8DYE8G4j5euJ0MwM_QpwjhQr2SK3)"
   ]
  },
  {
   "cell_type": "code",
   "execution_count": null,
   "metadata": {
    "collapsed": true,
    "jupyter": {
     "outputs_hidden": true
    },
    "kernel": "R"
   },
   "outputs": [],
   "source": [
    "LP.fit <- prodestLP(Y = log(df$output),\n",
    "                    fX = log(df$employment),\n",
    "                    sX= log(df$capital),\n",
    "                    pX = log(df$input),\n",
    "                    idvar = df$id_,\n",
    "                    timevar = df$year)"
   ]
  },
  {
   "cell_type": "code",
   "execution_count": null,
   "metadata": {
    "collapsed": true,
    "jupyter": {
     "outputs_hidden": true
    },
    "kernel": "R"
   },
   "outputs": [],
   "source": [
    "summary(LP.fit)"
   ]
  },
  {
   "cell_type": "markdown",
   "metadata": {
    "collapsed": "false",
    "kernel": "SoS"
   },
   "source": [
    "![](https://drive.google.com/uc?export=view&id=1CtXSXp7rO_dgGbsJ-qvfmLir1B58WhG9)"
   ]
  },
  {
   "cell_type": "code",
   "execution_count": null,
   "metadata": {
    "collapsed": true,
    "jupyter": {
     "outputs_hidden": true
    },
    "kernel": "R"
   },
   "outputs": [],
   "source": [
    "LP.fit1_def <- prodestLP(Y=log(df$output_deflated),\n",
    "                          fX=log(df$employment),\n",
    "                          sX=log(df$capital_deflated),\n",
    "                          pX=log(df$input_deflated),\n",
    "                          idvar=df$id_,\n",
    "                          timevar=df$year)"
   ]
  },
  {
   "cell_type": "code",
   "execution_count": null,
   "metadata": {
    "collapsed": true,
    "jupyter": {
     "outputs_hidden": true
    },
    "kernel": "R"
   },
   "outputs": [],
   "source": [
    "summary(LP.fit1_def)"
   ]
  },
  {
   "cell_type": "markdown",
   "metadata": {
    "collapsed": "true",
    "kernel": "R"
   },
   "source": [
    "### Full\n",
    "\n",
    "to long to compute, avoid"
   ]
  },
  {
   "cell_type": "code",
   "execution_count": null,
   "metadata": {
    "Collapsed": "false",
    "kernel": "R"
   },
   "outputs": [],
   "source": [
    "#df_ <- read.csv(\"TFP_ASIF_china.gz\") "
   ]
  },
  {
   "cell_type": "code",
   "execution_count": null,
   "metadata": {
    "Collapsed": "false",
    "kernel": "R"
   },
   "outputs": [],
   "source": [
    "#LP.fit_ <- prodestLP(Y = log(df_$output),\n",
    "#                    fX = log(df_$employment),\n",
    "#                    sX= log(df_$capital),\n",
    "#                    pX = log(df_$input),\n",
    "#                    idvar = df_$id_,\n",
    "#                    timevar = df_$year)\n",
    "#summary(LP.fit_)"
   ]
  },
  {
   "cell_type": "code",
   "execution_count": null,
   "metadata": {
    "Collapsed": "false",
    "kernel": "R"
   },
   "outputs": [],
   "source": [
    "#LP.fit1_def_ <- prodestLP(Y=log(df_$output_deflated),\n",
    "#                          fX=log(df_$employment),\n",
    "#                          sX=log(df_$capital_deflated),\n",
    "#                          pX=log(df_$input_deflated),\n",
    "#                          idvar=df_$id_,\n",
    "#                          timevar=df_$year)\n",
    "#summary(LP.fit1_def_)"
   ]
  },
  {
   "cell_type": "code",
   "execution_count": null,
   "metadata": {
    "Collapsed": "false",
    "kernel": "R"
   },
   "outputs": [],
   "source": [
    "#head(df)"
   ]
  },
  {
   "cell_type": "markdown",
   "metadata": {
    "collapsed": "false",
    "kernel": "R"
   },
   "source": [
    "### add TFP"
   ]
  },
  {
   "cell_type": "code",
   "execution_count": null,
   "metadata": {
    "collapsed": true,
    "jupyter": {
     "outputs_hidden": true
    },
    "kernel": "R"
   },
   "outputs": [],
   "source": [
    "df_ <- read.csv(\"TFP_ASIF_china.gz\") "
   ]
  },
  {
   "cell_type": "code",
   "execution_count": null,
   "metadata": {
    "collapsed": true,
    "jupyter": {
     "outputs_hidden": true
    },
    "kernel": "R"
   },
   "outputs": [],
   "source": [
    "dim(df_)"
   ]
  },
  {
   "cell_type": "code",
   "execution_count": null,
   "metadata": {
    "collapsed": true,
    "jupyter": {
     "outputs_hidden": true
    },
    "kernel": "R"
   },
   "outputs": [],
   "source": [
    "#### predict TFP\n",
    "df_$tfp <- log(df_$output_deflated) - (log(df_$employment) * LP.fit@Estimates$pars[1] +\n",
    "       log(df_$capital_deflated) * LP.fit@Estimates$pars[2])"
   ]
  },
  {
   "cell_type": "code",
   "execution_count": null,
   "metadata": {
    "collapsed": true,
    "jupyter": {
     "outputs_hidden": true
    },
    "kernel": "R"
   },
   "outputs": [],
   "source": [
    "#### predict TFP\n",
    "df_$tfp_def <- log(df_$output_deflated) - (log(df_$employment) * LP.fit1_def@Estimates$pars[1] +\n",
    "       log(df_$capital_deflated) * LP.fit1_def@Estimates$pars[2])"
   ]
  },
  {
   "cell_type": "code",
   "execution_count": null,
   "metadata": {
    "collapsed": true,
    "jupyter": {
     "outputs_hidden": true
    },
    "kernel": "R"
   },
   "outputs": [],
   "source": [
    "write.csv(df_, \"TFP_computed_ASIF_china.csv\", row.names=FALSE)"
   ]
  },
  {
   "cell_type": "code",
   "execution_count": null,
   "metadata": {
    "collapsed": true,
    "jupyter": {
     "outputs_hidden": true
    },
    "kernel": "R"
   },
   "outputs": [],
   "source": [
    "### check summary stat\n",
    "summary(df_)"
   ]
  },
  {
   "cell_type": "code",
   "execution_count": null,
   "metadata": {
    "collapsed": true,
    "jupyter": {
     "outputs_hidden": true
    },
    "kernel": "R"
   },
   "outputs": [],
   "source": [
    "library(ggplot2)\n",
    "# Basic density\n",
    "ggplot(df_, aes(x=tfp)) + \n",
    "  geom_density() +\n",
    "    labs(title=\"TFP density with LP method\",\n",
    "       x=\"TFP LP Method\",\n",
    "       y = \"Density\")"
   ]
  },
  {
   "cell_type": "code",
   "execution_count": null,
   "metadata": {
    "collapsed": true,
    "jupyter": {
     "outputs_hidden": true
    },
    "kernel": "R"
   },
   "outputs": [],
   "source": [
    "ggplot(df_, aes(x=tfp_def)) + \n",
    "  geom_density() +\n",
    "    labs(title=\"TFP density with LP method\",\n",
    "       x=\"TFP LP Method\",\n",
    "       y = \"Density\")"
   ]
  },
  {
   "cell_type": "markdown",
   "metadata": {
    "collapsed": "false",
    "kernel": "R"
   },
   "source": [
    "## Add TFP To ASIF 9807"
   ]
  },
  {
   "cell_type": "code",
   "execution_count": null,
   "metadata": {
    "collapsed": true,
    "jupyter": {
     "outputs_hidden": true
    },
    "kernel": "python3"
   },
   "outputs": [],
   "source": [
    "df_tfp = (pd.read_csv('TFP_computed_ASIF_china.csv', usecols = ['id', 'year', 'cic',\n",
    "                                                              'tfp', 'tfp_def'])\n",
    "          .assign(year = lambda x : x['year'].astype('str'),\n",
    "                  cic = lambda x : x['cic'].astype('str')\n",
    "                 )\n",
    "          .merge(df_final)\n",
    "         )\n",
    "df_tfp.head()"
   ]
  },
  {
   "cell_type": "code",
   "execution_count": null,
   "metadata": {
    "collapsed": true,
    "jupyter": {
     "outputs_hidden": true
    },
    "kernel": "python3"
   },
   "outputs": [],
   "source": [
    "df_tfp.shape"
   ]
  },
  {
   "cell_type": "markdown",
   "metadata": {
    "kernel": "SoS"
   },
   "source": [
    "# Profiling\n",
    "\n",
    "In order to get a quick summary statistic of the data, we generate an HTML file with the profiling of the dataset we've just created. \n",
    "\n",
    "The profiling will be available at this URL after you commit a push to GitHub. \n",
    "\n",
    "**You need to rename the final dataframe `df_final` in the previous section to generate the profiling.**"
   ]
  },
  {
   "cell_type": "code",
   "execution_count": null,
   "metadata": {
    "collapsed": true,
    "jupyter": {
     "outputs_hidden": true
    },
    "kernel": "python3"
   },
   "outputs": [],
   "source": [
    "df_tfp['year'].unique()"
   ]
  },
  {
   "cell_type": "code",
   "execution_count": null,
   "metadata": {
    "collapsed": true,
    "jupyter": {
     "outputs_hidden": true
    },
    "kernel": "python3"
   },
   "outputs": [],
   "source": [
    "#### make sure the final dataframe is stored as df_final\n",
    "### Overide the default value: \n",
    "#https://github.com/pandas-profiling/pandas-profiling/blob/master/pandas_profiling/config_default.yaml\n",
    "\n",
    "profile = pandas_profiling.ProfileReport(df_tfp,\n",
    "                                        check_correlation_pearson = False)\n",
    "name_html = \"TFP_ASIF_china.html\"\n",
    "profile.to_file(output_file=name_html)"
   ]
  },
  {
   "cell_type": "markdown",
   "metadata": {
    "kernel": "SoS"
   },
   "source": [
    "# Upload to cloud\n",
    "\n",
    "The dataset is ready to be shared with your colleagues. \n",
    "\n"
   ]
  },
  {
   "cell_type": "markdown",
   "metadata": {
    "collapsed": "false",
    "kernel": "SoS"
   },
   "source": [
    "\n",
    "\n",
    "### Move to GCS and BigQuery\n",
    "\n",
    "We move the dataset to the following:\n",
    "\n",
    "- **bucket**: *NEED TO DEFINE*\n",
    "\n",
    "- **Destination_blob**: *XXXXX/Processed_*\n",
    "- **name**:  *TFP_ASIF_china.gz*\n",
    "- **Dataset**: *China*\n",
    "\n",
    "- **table**: *TFP_ASIF_china*\n",
    "\n",
    "### GCS\n",
    "\n",
    "We first need to save *TFP_ASIF_china* with `.gz` extension locally then we can move it\n",
    "to GCS\n"
   ]
  },
  {
   "cell_type": "code",
   "execution_count": null,
   "metadata": {
    "collapsed": true,
    "jupyter": {
     "outputs_hidden": true
    },
    "kernel": "python3"
   },
   "outputs": [],
   "source": [
    "bucket_name = 'chinese_data'\n",
    "destination_blob_name = 'Panel_china/Asif_panel_china/Processed_/TFP_asif_china.gz'\n",
    "\n",
    "gcp.delete_blob(bucket_name = bucket_name,\n",
    "                destination_blob_name= destination_blob_name)\n",
    "gcp.delete_table(dataset_name = 'China', name_table = 'TFP_asif_china')"
   ]
  },
  {
   "cell_type": "code",
   "execution_count": null,
   "metadata": {
    "collapsed": true,
    "jupyter": {
     "outputs_hidden": true
    },
    "kernel": "python3"
   },
   "outputs": [],
   "source": [
    "\n",
    "### First save locally\n",
    "df_tfp.to_csv(\n",
    "\t'TFP_ASIF_china.gz',\n",
    "\tsep=',',\n",
    "\theader=True,\n",
    "\tindex=False,\n",
    "\tchunksize=100000,\n",
    "\tcompression='gzip',\n",
    "\tencoding='utf-8')\n",
    "\n",
    "### Then upload to GCS\n",
    "bucket_name = 'chinese_data'\n",
    "destination_blob_name = 'Panel_china/Asif_panel_china/Processed_'\n",
    "source_file_name = 'TFP_asif_china.gz'\n",
    "gcp.upload_blob(bucket_name, destination_blob_name, source_file_name)\n"
   ]
  },
  {
   "cell_type": "code",
   "execution_count": null,
   "metadata": {
    "collapsed": true,
    "jupyter": {
     "outputs_hidden": true
    },
    "kernel": "python3"
   },
   "outputs": [],
   "source": [
    "\n",
    "\n",
    "### Move to bigquery\n",
    "bucket_gcs ='chinese_data/Panel_china/Asif_panel_china/Processed_/TFP_asif_china.gz'\n",
    "gcp.move_to_bq_autodetect(dataset_name= 'China',\n",
    "\t\t\t\t\t\t\t name_table= 'TFP_asif_china',\n",
    "\t\t\t\t\t\t\t bucket_gcs=bucket_gcs)\n"
   ]
  },
  {
   "cell_type": "code",
   "execution_count": null,
   "metadata": {
    "collapsed": true,
    "jupyter": {
     "outputs_hidden": true
    },
    "kernel": "python3"
   },
   "outputs": [],
   "source": [
    "import os\n",
    "os.remove(\"TFP_computed_ASIF_china.csv\")\n",
    "os.remove(\"TFP_ASIF_china.gz\")"
   ]
  }
 ],
 "metadata": {
  "kernel_info": {
   "name": "sos"
  },
  "kernelspec": {
   "display_name": "SoS",
   "language": "sos",
   "name": "sos"
  },
  "language_info": {
   "codemirror_mode": "sos",
   "file_extension": ".sos",
   "mimetype": "text/x-sos",
   "name": "sos",
   "nbconvert_exporter": "sos_notebook.converter.SoS_Exporter",
   "pygments_lexer": "sos"
  },
  "nteract": {
   "version": "0.15.0"
  },
  "sos": {
   "kernels": [
    [
     "R",
     "ir",
     "R",
     "#DCDCDA",
     "r"
    ],
    [
     "python3",
     "python3",
     "python3",
     "",
     {
      "name": "ipython",
      "version": 3
     }
    ]
   ],
   "version": "0.21.7"
  }
 },
 "nbformat": 4,
 "nbformat_minor": 4
}
