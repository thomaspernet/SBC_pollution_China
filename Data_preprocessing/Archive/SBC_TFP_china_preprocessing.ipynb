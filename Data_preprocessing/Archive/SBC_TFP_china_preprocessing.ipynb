{
 "cells": [
  {
   "cell_type": "markdown",
   "metadata": {
    "kernel": "SoS"
   },
   "source": [
    "# SBC_TFP_china data preprocessing\n",
    "\n",
    "This notebook has been generated on 2019-11-21 07:59 \n",
    "\n",
    "The objective of this notebook is to YYY\n",
    "\n",
    "## Global steps \n",
    "\n",
    "The global steps to construct the dataset are the following:\n",
    "\n",
    "- Lorem ipsum dolor sit amet\n",
    "- Lorem ipsum dolor sit amet\n",
    "- Lorem ipsum dolor sit amet\n",
    "\n",
    "## Data source \n",
    "\n",
    "The data source to construct the dataset are the following:"
   ]
  },
  {
   "cell_type": "markdown",
   "metadata": {
    "kernel": "SoS"
   },
   "source": [
    "\n",
    " ### Big Query Dataset \n",
    " \n",
    " - asif_firm_china9807 \n",
    " - TFP_asif_china \n",
    " ### Google Cloud Storage Dataset \n",
    " \n",
    " ### Google Spreadsheet Dataset \n",
    " \n",
    " - [TCZ_list_china](https://docs.google.com/spreadsheets/d/15bMeS2cMfGfYJkjuY6wOMzcAUWZNRGpO03hZ8rpgv0Q) \n",
    " - [cityname_and_code](https://docs.google.com/spreadsheets/d/1fIziz-Xt99-Rj6NLm52-i6jScOLXgAY20KJi8k3DruA) \n",
    " - [provinces_location](https://docs.google.com/spreadsheets/d/1pNMYAannF0g47Vrecu9tzrQ83XaaYmnXJeSuIFwr26g)"
   ]
  },
  {
   "cell_type": "markdown",
   "metadata": {
    "kernel": "SoS"
   },
   "source": [
    "## Destination\n",
    "\n",
    "The new dataset is available from XXX\n",
    "\n",
    "- GS: None\n",
    "- GCS: SBC_TFP_china.gz\n",
    "- BG: SBC_TFP_china"
   ]
  },
  {
   "cell_type": "markdown",
   "metadata": {
    "kernel": "SoS"
   },
   "source": [
    "# Load Dataset\n"
   ]
  },
  {
   "cell_type": "code",
   "execution_count": 1,
   "metadata": {
    "kernel": "python3"
   },
   "outputs": [],
   "source": [
    "from Fast_connectCloud import connector\n",
    "from GoogleDrivePy.google_drive import connect_drive\n",
    "from GoogleDrivePy.google_platform import connect_cloud_platform\n",
    "import pandas as pd \n",
    "import numpy as np\n",
    "import pandas_profiling"
   ]
  },
  {
   "cell_type": "code",
   "execution_count": 3,
   "metadata": {
    "kernel": "python3"
   },
   "outputs": [
    {
     "name": "stdout",
     "output_type": "stream",
     "text": [
      "Service Google Drive and Docs, Sheet are now connected. \n",
      "Service Google Drive is stored as <googleapiclient.discovery.Resource object at 0x1a1e7134d0> and accessible with \"drive\" \n",
      "Service Google Doc is stored as <googleapiclient.discovery.Resource object at 0x1a1e78c710> and accessible with \"doc\" \n",
      "Service Google Sheet is stored as <googleapiclient.discovery.Resource object at 0x1a1e81c7d0>and accessible with \"sheet\"\n",
      "Service account storage and Bigquery are now connected. \n",
      "Service account storage is stored as <google.cloud.storage.client.Client object at 0x1a1e650d10> and accessible with \"Storage_account\" \n",
      "Service account Bigquery is stored as <google.cloud.bigquery.client.Client object at 0x1a1e824310> and accessible with \"bigquery_account\"\n"
     ]
    }
   ],
   "source": [
    "gs = connector.open_connection(online_connection = False, \n",
    "\tpath_credential = '/Users/thomas/Google Drive/Projects/Client_Oauth/Google_auth/')\n",
    "\n",
    "service_gd = gs.connect_remote(engine = 'GS')\n",
    "service_gcp = gs.connect_remote(engine = 'GCP')\n",
    "\n",
    "gdr = connect_drive.connect_drive(service_gd['GoogleDrive'])\n",
    "\n",
    "project = 'valid-pagoda-132423'\n",
    "gcp = connect_cloud_platform.connect_console(project = project,\n",
    "\t\t\t\t\t\t\t\t\t\t\t service_account = service_gcp['GoogleCloudP'])"
   ]
  },
  {
   "cell_type": "markdown",
   "metadata": {
    "kernel": "SoS"
   },
   "source": [
    "\n",
    "## Load asif_firm_china9807 from Google Big Query\n",
    "\n",
    "Feel free to add description about the dataset or any usefull information.\n",
    "\n"
   ]
  },
  {
   "cell_type": "code",
   "execution_count": 4,
   "metadata": {
    "kernel": "python3"
   },
   "outputs": [
    {
     "data": {
      "text/html": [
       "<div>\n",
       "<style scoped>\n",
       "    .dataframe tbody tr th:only-of-type {\n",
       "        vertical-align: middle;\n",
       "    }\n",
       "\n",
       "    .dataframe tbody tr th {\n",
       "        vertical-align: top;\n",
       "    }\n",
       "\n",
       "    .dataframe thead th {\n",
       "        text-align: right;\n",
       "    }\n",
       "</style>\n",
       "<table border=\"1\" class=\"dataframe\">\n",
       "  <thead>\n",
       "    <tr style=\"text-align: right;\">\n",
       "      <th></th>\n",
       "      <th>id</th>\n",
       "      <th>year</th>\n",
       "      <th>bdat</th>\n",
       "      <th>geocode4_corr</th>\n",
       "      <th>cityen_correct</th>\n",
       "      <th>Province_en</th>\n",
       "      <th>Lower_location</th>\n",
       "      <th>Larger_location</th>\n",
       "      <th>Coastal</th>\n",
       "      <th>SOE</th>\n",
       "      <th>cic</th>\n",
       "      <th>indu_2</th>\n",
       "      <th>Industry_Name</th>\n",
       "      <th>Short</th>\n",
       "      <th>output</th>\n",
       "      <th>fa_net</th>\n",
       "      <th>employment</th>\n",
       "      <th>input</th>\n",
       "      <th>ownership</th>\n",
       "    </tr>\n",
       "  </thead>\n",
       "  <tbody>\n",
       "    <tr>\n",
       "      <th>0</th>\n",
       "      <td>729806463</td>\n",
       "      <td>2003</td>\n",
       "      <td>1987</td>\n",
       "      <td>5120</td>\n",
       "      <td>Ziyang</td>\n",
       "      <td>Sichuan</td>\n",
       "      <td>Southwest</td>\n",
       "      <td>Western</td>\n",
       "      <td>False</td>\n",
       "      <td>PRIVATE</td>\n",
       "      <td>1620</td>\n",
       "      <td>16</td>\n",
       "      <td>Tobacco</td>\n",
       "      <td>Tobacco</td>\n",
       "      <td>14346</td>\n",
       "      <td>6339</td>\n",
       "      <td>164</td>\n",
       "      <td>10177.0</td>\n",
       "      <td>Collective</td>\n",
       "    </tr>\n",
       "    <tr>\n",
       "      <th>1</th>\n",
       "      <td>729806463</td>\n",
       "      <td>2005</td>\n",
       "      <td>1987</td>\n",
       "      <td>5120</td>\n",
       "      <td>Ziyang</td>\n",
       "      <td>Sichuan</td>\n",
       "      <td>Southwest</td>\n",
       "      <td>Western</td>\n",
       "      <td>False</td>\n",
       "      <td>PRIVATE</td>\n",
       "      <td>1620</td>\n",
       "      <td>16</td>\n",
       "      <td>Tobacco</td>\n",
       "      <td>Tobacco</td>\n",
       "      <td>36196</td>\n",
       "      <td>4783</td>\n",
       "      <td>188</td>\n",
       "      <td>33288.0</td>\n",
       "      <td>Collective</td>\n",
       "    </tr>\n",
       "    <tr>\n",
       "      <th>2</th>\n",
       "      <td>729806463</td>\n",
       "      <td>2004</td>\n",
       "      <td>1987</td>\n",
       "      <td>5120</td>\n",
       "      <td>Ziyang</td>\n",
       "      <td>Sichuan</td>\n",
       "      <td>Southwest</td>\n",
       "      <td>Western</td>\n",
       "      <td>False</td>\n",
       "      <td>PRIVATE</td>\n",
       "      <td>1620</td>\n",
       "      <td>16</td>\n",
       "      <td>Tobacco</td>\n",
       "      <td>Tobacco</td>\n",
       "      <td>24087</td>\n",
       "      <td>5782</td>\n",
       "      <td>198</td>\n",
       "      <td>14636.0</td>\n",
       "      <td>Collective</td>\n",
       "    </tr>\n",
       "    <tr>\n",
       "      <th>3</th>\n",
       "      <td>206800679</td>\n",
       "      <td>2006</td>\n",
       "      <td>1987</td>\n",
       "      <td>5120</td>\n",
       "      <td>Ziyang</td>\n",
       "      <td>Sichuan</td>\n",
       "      <td>Southwest</td>\n",
       "      <td>Western</td>\n",
       "      <td>False</td>\n",
       "      <td>PRIVATE</td>\n",
       "      <td>1620</td>\n",
       "      <td>16</td>\n",
       "      <td>Tobacco</td>\n",
       "      <td>Tobacco</td>\n",
       "      <td>20976</td>\n",
       "      <td>4803</td>\n",
       "      <td>177</td>\n",
       "      <td>16361.0</td>\n",
       "      <td>Collective</td>\n",
       "    </tr>\n",
       "    <tr>\n",
       "      <th>4</th>\n",
       "      <td>206800679</td>\n",
       "      <td>2000</td>\n",
       "      <td>1987</td>\n",
       "      <td>5120</td>\n",
       "      <td>Ziyang</td>\n",
       "      <td>Sichuan</td>\n",
       "      <td>Southwest</td>\n",
       "      <td>Western</td>\n",
       "      <td>False</td>\n",
       "      <td>PRIVATE</td>\n",
       "      <td>1620</td>\n",
       "      <td>16</td>\n",
       "      <td>Tobacco</td>\n",
       "      <td>Tobacco</td>\n",
       "      <td>17199</td>\n",
       "      <td>7209</td>\n",
       "      <td>211</td>\n",
       "      <td>10499.0</td>\n",
       "      <td>Collective</td>\n",
       "    </tr>\n",
       "  </tbody>\n",
       "</table>\n",
       "</div>"
      ],
      "text/plain": [
       "          id  year  bdat  geocode4_corr cityen_correct Province_en  \\\n",
       "0  729806463  2003  1987           5120         Ziyang    Sichuan    \n",
       "1  729806463  2005  1987           5120         Ziyang    Sichuan    \n",
       "2  729806463  2004  1987           5120         Ziyang    Sichuan    \n",
       "3  206800679  2006  1987           5120         Ziyang    Sichuan    \n",
       "4  206800679  2000  1987           5120         Ziyang    Sichuan    \n",
       "\n",
       "  Lower_location Larger_location  Coastal      SOE   cic  indu_2  \\\n",
       "0      Southwest         Western    False  PRIVATE  1620      16   \n",
       "1      Southwest         Western    False  PRIVATE  1620      16   \n",
       "2      Southwest         Western    False  PRIVATE  1620      16   \n",
       "3      Southwest         Western    False  PRIVATE  1620      16   \n",
       "4      Southwest         Western    False  PRIVATE  1620      16   \n",
       "\n",
       "  Industry_Name    Short  output  fa_net  employment    input   ownership  \n",
       "0       Tobacco  Tobacco   14346    6339         164  10177.0  Collective  \n",
       "1       Tobacco  Tobacco   36196    4783         188  33288.0  Collective  \n",
       "2       Tobacco  Tobacco   24087    5782         198  14636.0  Collective  \n",
       "3       Tobacco  Tobacco   20976    4803         177  16361.0  Collective  \n",
       "4       Tobacco  Tobacco   17199    7209         211  10499.0  Collective  "
      ]
     },
     "execution_count": 4,
     "metadata": {},
     "output_type": "execute_result"
    }
   ],
   "source": [
    "query = (\n",
    "          \"\"\"\n",
    "SELECT id, year, bdat, geocode4_corr, cityen_correct, Province_en, Lower_location,  \n",
    "           Larger_location, Coastal, SOE, cic, indu_2, Industry_Name, Short, output, fa_net,  \n",
    "           employment, input, ownership \n",
    "           FROM China.asif_firm_china9807Clean \n",
    "           WHERE year >= 2002 AND year <= 2007\n",
    "          \n",
    "          \"\"\"\n",
    "\n",
    "        )\n",
    "\n",
    "df_asif_firm_china9807 = gcp.upload_data_from_bigquery(query = query, location = 'US')\n",
    "df_asif_firm_china9807.head()\n",
    "    "
   ]
  },
  {
   "cell_type": "code",
   "execution_count": 8,
   "metadata": {
    "kernel": "python3"
   },
   "outputs": [],
   "source": [
    "df_asif_firm_china9807 = df_asif_firm_china9807.loc[\n",
    "    lambda x: x['year'].isin(['2002', '2003',\n",
    "                              '2004', '2005',\n",
    "                              '2006', '2007'])]"
   ]
  },
  {
   "cell_type": "code",
   "execution_count": 9,
   "metadata": {
    "kernel": "python3"
   },
   "outputs": [
    {
     "data": {
      "text/plain": [
       "(1132196, 19)"
      ]
     },
     "execution_count": 9,
     "metadata": {},
     "output_type": "execute_result"
    }
   ],
   "source": [
    "df_asif_firm_china9807.shape"
   ]
  },
  {
   "cell_type": "code",
   "execution_count": 10,
   "metadata": {
    "kernel": "python3"
   },
   "outputs": [
    {
     "data": {
      "text/plain": [
       "array(['Collective', 'SOE', 'Private', 'Foreign', 'HTM'], dtype=object)"
      ]
     },
     "execution_count": 10,
     "metadata": {},
     "output_type": "execute_result"
    }
   ],
   "source": [
    "df_asif_firm_china9807['ownership'].unique()"
   ]
  },
  {
   "cell_type": "code",
   "execution_count": 11,
   "metadata": {
    "kernel": "python3"
   },
   "outputs": [
    {
     "data": {
      "text/html": [
       "<style  type=\"text/css\" >\n",
       "</style><table id=\"T_69e672f0_8067_11ea_a7e4_acde48001122\" ><thead>    <tr>        <th class=\"blank\" ></th>        <th class=\"blank level0\" ></th>        <th class=\"col_heading level0 col0\" >count</th>        <th class=\"col_heading level0 col1\" >mean</th>        <th class=\"col_heading level0 col2\" >std</th>        <th class=\"col_heading level0 col3\" >min</th>        <th class=\"col_heading level0 col4\" >25%</th>        <th class=\"col_heading level0 col5\" >50%</th>        <th class=\"col_heading level0 col6\" >75%</th>        <th class=\"col_heading level0 col7\" >max</th>    </tr>    <tr>        <th class=\"index_name level0\" >year</th>        <th class=\"index_name level1\" >SOE</th>        <th class=\"blank\" ></th>        <th class=\"blank\" ></th>        <th class=\"blank\" ></th>        <th class=\"blank\" ></th>        <th class=\"blank\" ></th>        <th class=\"blank\" ></th>        <th class=\"blank\" ></th>        <th class=\"blank\" ></th>    </tr></thead><tbody>\n",
       "                <tr>\n",
       "                        <th id=\"T_69e672f0_8067_11ea_a7e4_acde48001122level0_row0\" class=\"row_heading level0 row0\" rowspan=2>2002</th>\n",
       "                        <th id=\"T_69e672f0_8067_11ea_a7e4_acde48001122level1_row0\" class=\"row_heading level1 row0\" >PRIVATE</th>\n",
       "                        <td id=\"T_69e672f0_8067_11ea_a7e4_acde48001122row0_col0\" class=\"data row0 col0\" >104,721</td>\n",
       "                        <td id=\"T_69e672f0_8067_11ea_a7e4_acde48001122row0_col1\" class=\"data row0 col1\" >50,538</td>\n",
       "                        <td id=\"T_69e672f0_8067_11ea_a7e4_acde48001122row0_col2\" class=\"data row0 col2\" >357,443</td>\n",
       "                        <td id=\"T_69e672f0_8067_11ea_a7e4_acde48001122row0_col3\" class=\"data row0 col3\" >1</td>\n",
       "                        <td id=\"T_69e672f0_8067_11ea_a7e4_acde48001122row0_col4\" class=\"data row0 col4\" >8,519</td>\n",
       "                        <td id=\"T_69e672f0_8067_11ea_a7e4_acde48001122row0_col5\" class=\"data row0 col5\" >16,099</td>\n",
       "                        <td id=\"T_69e672f0_8067_11ea_a7e4_acde48001122row0_col6\" class=\"data row0 col6\" >35,962</td>\n",
       "                        <td id=\"T_69e672f0_8067_11ea_a7e4_acde48001122row0_col7\" class=\"data row0 col7\" >47,152,820</td>\n",
       "            </tr>\n",
       "            <tr>\n",
       "                                <th id=\"T_69e672f0_8067_11ea_a7e4_acde48001122level1_row1\" class=\"row_heading level1 row1\" >SOE</th>\n",
       "                        <td id=\"T_69e672f0_8067_11ea_a7e4_acde48001122row1_col0\" class=\"data row1 col0\" >17,435</td>\n",
       "                        <td id=\"T_69e672f0_8067_11ea_a7e4_acde48001122row1_col1\" class=\"data row1 col1\" >98,733</td>\n",
       "                        <td id=\"T_69e672f0_8067_11ea_a7e4_acde48001122row1_col2\" class=\"data row1 col2\" >732,772</td>\n",
       "                        <td id=\"T_69e672f0_8067_11ea_a7e4_acde48001122row1_col3\" class=\"data row1 col3\" >1</td>\n",
       "                        <td id=\"T_69e672f0_8067_11ea_a7e4_acde48001122row1_col4\" class=\"data row1 col4\" >2,674</td>\n",
       "                        <td id=\"T_69e672f0_8067_11ea_a7e4_acde48001122row1_col5\" class=\"data row1 col5\" >10,500</td>\n",
       "                        <td id=\"T_69e672f0_8067_11ea_a7e4_acde48001122row1_col6\" class=\"data row1 col6\" >37,545</td>\n",
       "                        <td id=\"T_69e672f0_8067_11ea_a7e4_acde48001122row1_col7\" class=\"data row1 col7\" >49,071,600</td>\n",
       "            </tr>\n",
       "            <tr>\n",
       "                        <th id=\"T_69e672f0_8067_11ea_a7e4_acde48001122level0_row2\" class=\"row_heading level0 row2\" rowspan=2>2003</th>\n",
       "                        <th id=\"T_69e672f0_8067_11ea_a7e4_acde48001122level1_row2\" class=\"row_heading level1 row2\" >PRIVATE</th>\n",
       "                        <td id=\"T_69e672f0_8067_11ea_a7e4_acde48001122row2_col0\" class=\"data row2 col0\" >126,761</td>\n",
       "                        <td id=\"T_69e672f0_8067_11ea_a7e4_acde48001122row2_col1\" class=\"data row2 col1\" >57,943</td>\n",
       "                        <td id=\"T_69e672f0_8067_11ea_a7e4_acde48001122row2_col2\" class=\"data row2 col2\" >450,979</td>\n",
       "                        <td id=\"T_69e672f0_8067_11ea_a7e4_acde48001122row2_col3\" class=\"data row2 col3\" >2</td>\n",
       "                        <td id=\"T_69e672f0_8067_11ea_a7e4_acde48001122row2_col4\" class=\"data row2 col4\" >9,030</td>\n",
       "                        <td id=\"T_69e672f0_8067_11ea_a7e4_acde48001122row2_col5\" class=\"data row2 col5\" >17,500</td>\n",
       "                        <td id=\"T_69e672f0_8067_11ea_a7e4_acde48001122row2_col6\" class=\"data row2 col6\" >39,480</td>\n",
       "                        <td id=\"T_69e672f0_8067_11ea_a7e4_acde48001122row2_col7\" class=\"data row2 col7\" >54,856,548</td>\n",
       "            </tr>\n",
       "            <tr>\n",
       "                                <th id=\"T_69e672f0_8067_11ea_a7e4_acde48001122level1_row3\" class=\"row_heading level1 row3\" >SOE</th>\n",
       "                        <td id=\"T_69e672f0_8067_11ea_a7e4_acde48001122row3_col0\" class=\"data row3 col0\" >14,047</td>\n",
       "                        <td id=\"T_69e672f0_8067_11ea_a7e4_acde48001122row3_col1\" class=\"data row3 col1\" >132,507</td>\n",
       "                        <td id=\"T_69e672f0_8067_11ea_a7e4_acde48001122row3_col2\" class=\"data row3 col2\" >949,535</td>\n",
       "                        <td id=\"T_69e672f0_8067_11ea_a7e4_acde48001122row3_col3\" class=\"data row3 col3\" >2</td>\n",
       "                        <td id=\"T_69e672f0_8067_11ea_a7e4_acde48001122row3_col4\" class=\"data row3 col4\" >3,282</td>\n",
       "                        <td id=\"T_69e672f0_8067_11ea_a7e4_acde48001122row3_col5\" class=\"data row3 col5\" >12,370</td>\n",
       "                        <td id=\"T_69e672f0_8067_11ea_a7e4_acde48001122row3_col6\" class=\"data row3 col6\" >44,084</td>\n",
       "                        <td id=\"T_69e672f0_8067_11ea_a7e4_acde48001122row3_col7\" class=\"data row3 col7\" >51,004,880</td>\n",
       "            </tr>\n",
       "            <tr>\n",
       "                        <th id=\"T_69e672f0_8067_11ea_a7e4_acde48001122level0_row4\" class=\"row_heading level0 row4\" rowspan=2>2004</th>\n",
       "                        <th id=\"T_69e672f0_8067_11ea_a7e4_acde48001122level1_row4\" class=\"row_heading level1 row4\" >PRIVATE</th>\n",
       "                        <td id=\"T_69e672f0_8067_11ea_a7e4_acde48001122row4_col0\" class=\"data row4 col0\" >187,151</td>\n",
       "                        <td id=\"T_69e672f0_8067_11ea_a7e4_acde48001122row4_col1\" class=\"data row4 col1\" >55,997</td>\n",
       "                        <td id=\"T_69e672f0_8067_11ea_a7e4_acde48001122row4_col2\" class=\"data row4 col2\" >475,655</td>\n",
       "                        <td id=\"T_69e672f0_8067_11ea_a7e4_acde48001122row4_col3\" class=\"data row4 col3\" >20</td>\n",
       "                        <td id=\"T_69e672f0_8067_11ea_a7e4_acde48001122row4_col4\" class=\"data row4 col4\" >8,250</td>\n",
       "                        <td id=\"T_69e672f0_8067_11ea_a7e4_acde48001122row4_col5\" class=\"data row4 col5\" >15,328</td>\n",
       "                        <td id=\"T_69e672f0_8067_11ea_a7e4_acde48001122row4_col6\" class=\"data row4 col6\" >35,460</td>\n",
       "                        <td id=\"T_69e672f0_8067_11ea_a7e4_acde48001122row4_col7\" class=\"data row4 col7\" >73,010,095</td>\n",
       "            </tr>\n",
       "            <tr>\n",
       "                                <th id=\"T_69e672f0_8067_11ea_a7e4_acde48001122level1_row5\" class=\"row_heading level1 row5\" >SOE</th>\n",
       "                        <td id=\"T_69e672f0_8067_11ea_a7e4_acde48001122row5_col0\" class=\"data row5 col0\" >13,028</td>\n",
       "                        <td id=\"T_69e672f0_8067_11ea_a7e4_acde48001122row5_col1\" class=\"data row5 col1\" >139,415</td>\n",
       "                        <td id=\"T_69e672f0_8067_11ea_a7e4_acde48001122row5_col2\" class=\"data row5 col2\" >1,098,919</td>\n",
       "                        <td id=\"T_69e672f0_8067_11ea_a7e4_acde48001122row5_col3\" class=\"data row5 col3\" >4</td>\n",
       "                        <td id=\"T_69e672f0_8067_11ea_a7e4_acde48001122row5_col4\" class=\"data row5 col4\" >2,455</td>\n",
       "                        <td id=\"T_69e672f0_8067_11ea_a7e4_acde48001122row5_col5\" class=\"data row5 col5\" >10,052</td>\n",
       "                        <td id=\"T_69e672f0_8067_11ea_a7e4_acde48001122row5_col6\" class=\"data row5 col6\" >39,672</td>\n",
       "                        <td id=\"T_69e672f0_8067_11ea_a7e4_acde48001122row5_col7\" class=\"data row5 col7\" >46,347,740</td>\n",
       "            </tr>\n",
       "            <tr>\n",
       "                        <th id=\"T_69e672f0_8067_11ea_a7e4_acde48001122level0_row6\" class=\"row_heading level0 row6\" rowspan=2>2005</th>\n",
       "                        <th id=\"T_69e672f0_8067_11ea_a7e4_acde48001122level1_row6\" class=\"row_heading level1 row6\" >PRIVATE</th>\n",
       "                        <td id=\"T_69e672f0_8067_11ea_a7e4_acde48001122row6_col0\" class=\"data row6 col0\" >188,197</td>\n",
       "                        <td id=\"T_69e672f0_8067_11ea_a7e4_acde48001122row6_col1\" class=\"data row6 col1\" >69,577</td>\n",
       "                        <td id=\"T_69e672f0_8067_11ea_a7e4_acde48001122row6_col2\" class=\"data row6 col2\" >585,505</td>\n",
       "                        <td id=\"T_69e672f0_8067_11ea_a7e4_acde48001122row6_col3\" class=\"data row6 col3\" >2</td>\n",
       "                        <td id=\"T_69e672f0_8067_11ea_a7e4_acde48001122row6_col4\" class=\"data row6 col4\" >9,860</td>\n",
       "                        <td id=\"T_69e672f0_8067_11ea_a7e4_acde48001122row6_col5\" class=\"data row6 col5\" >19,760</td>\n",
       "                        <td id=\"T_69e672f0_8067_11ea_a7e4_acde48001122row6_col6\" class=\"data row6 col6\" >45,528</td>\n",
       "                        <td id=\"T_69e672f0_8067_11ea_a7e4_acde48001122row6_col7\" class=\"data row6 col7\" >126,000,000</td>\n",
       "            </tr>\n",
       "            <tr>\n",
       "                                <th id=\"T_69e672f0_8067_11ea_a7e4_acde48001122level1_row7\" class=\"row_heading level1 row7\" >SOE</th>\n",
       "                        <td id=\"T_69e672f0_8067_11ea_a7e4_acde48001122row7_col0\" class=\"data row7 col0\" >9,619</td>\n",
       "                        <td id=\"T_69e672f0_8067_11ea_a7e4_acde48001122row7_col1\" class=\"data row7 col1\" >224,409</td>\n",
       "                        <td id=\"T_69e672f0_8067_11ea_a7e4_acde48001122row7_col2\" class=\"data row7 col2\" >1,566,271</td>\n",
       "                        <td id=\"T_69e672f0_8067_11ea_a7e4_acde48001122row7_col3\" class=\"data row7 col3\" >3</td>\n",
       "                        <td id=\"T_69e672f0_8067_11ea_a7e4_acde48001122row7_col4\" class=\"data row7 col4\" >4,421</td>\n",
       "                        <td id=\"T_69e672f0_8067_11ea_a7e4_acde48001122row7_col5\" class=\"data row7 col5\" >15,709</td>\n",
       "                        <td id=\"T_69e672f0_8067_11ea_a7e4_acde48001122row7_col6\" class=\"data row7 col6\" >61,682</td>\n",
       "                        <td id=\"T_69e672f0_8067_11ea_a7e4_acde48001122row7_col7\" class=\"data row7 col7\" >52,295,649</td>\n",
       "            </tr>\n",
       "            <tr>\n",
       "                        <th id=\"T_69e672f0_8067_11ea_a7e4_acde48001122level0_row8\" class=\"row_heading level0 row8\" rowspan=2>2006</th>\n",
       "                        <th id=\"T_69e672f0_8067_11ea_a7e4_acde48001122level1_row8\" class=\"row_heading level1 row8\" >PRIVATE</th>\n",
       "                        <td id=\"T_69e672f0_8067_11ea_a7e4_acde48001122row8_col0\" class=\"data row8 col0\" >213,115</td>\n",
       "                        <td id=\"T_69e672f0_8067_11ea_a7e4_acde48001122row8_col1\" class=\"data row8 col1\" >79,589</td>\n",
       "                        <td id=\"T_69e672f0_8067_11ea_a7e4_acde48001122row8_col2\" class=\"data row8 col2\" >678,630</td>\n",
       "                        <td id=\"T_69e672f0_8067_11ea_a7e4_acde48001122row8_col3\" class=\"data row8 col3\" >18</td>\n",
       "                        <td id=\"T_69e672f0_8067_11ea_a7e4_acde48001122row8_col4\" class=\"data row8 col4\" >10,620</td>\n",
       "                        <td id=\"T_69e672f0_8067_11ea_a7e4_acde48001122row8_col5\" class=\"data row8 col5\" >22,030</td>\n",
       "                        <td id=\"T_69e672f0_8067_11ea_a7e4_acde48001122row8_col6\" class=\"data row8 col6\" >52,000</td>\n",
       "                        <td id=\"T_69e672f0_8067_11ea_a7e4_acde48001122row8_col7\" class=\"data row8 col7\" >158,000,000</td>\n",
       "            </tr>\n",
       "            <tr>\n",
       "                                <th id=\"T_69e672f0_8067_11ea_a7e4_acde48001122level1_row9\" class=\"row_heading level1 row9\" >SOE</th>\n",
       "                        <td id=\"T_69e672f0_8067_11ea_a7e4_acde48001122row9_col0\" class=\"data row9 col0\" >8,176</td>\n",
       "                        <td id=\"T_69e672f0_8067_11ea_a7e4_acde48001122row9_col1\" class=\"data row9 col1\" >280,732</td>\n",
       "                        <td id=\"T_69e672f0_8067_11ea_a7e4_acde48001122row9_col2\" class=\"data row9 col2\" >1,921,752</td>\n",
       "                        <td id=\"T_69e672f0_8067_11ea_a7e4_acde48001122row9_col3\" class=\"data row9 col3\" >2</td>\n",
       "                        <td id=\"T_69e672f0_8067_11ea_a7e4_acde48001122row9_col4\" class=\"data row9 col4\" >5,305</td>\n",
       "                        <td id=\"T_69e672f0_8067_11ea_a7e4_acde48001122row9_col5\" class=\"data row9 col5\" >18,828</td>\n",
       "                        <td id=\"T_69e672f0_8067_11ea_a7e4_acde48001122row9_col6\" class=\"data row9 col6\" >73,538</td>\n",
       "                        <td id=\"T_69e672f0_8067_11ea_a7e4_acde48001122row9_col7\" class=\"data row9 col7\" >57,496,720</td>\n",
       "            </tr>\n",
       "            <tr>\n",
       "                        <th id=\"T_69e672f0_8067_11ea_a7e4_acde48001122level0_row10\" class=\"row_heading level0 row10\" rowspan=2>2007</th>\n",
       "                        <th id=\"T_69e672f0_8067_11ea_a7e4_acde48001122level1_row10\" class=\"row_heading level1 row10\" >PRIVATE</th>\n",
       "                        <td id=\"T_69e672f0_8067_11ea_a7e4_acde48001122row10_col0\" class=\"data row10 col0\" >243,760</td>\n",
       "                        <td id=\"T_69e672f0_8067_11ea_a7e4_acde48001122row10_col1\" class=\"data row10 col1\" >91,343</td>\n",
       "                        <td id=\"T_69e672f0_8067_11ea_a7e4_acde48001122row10_col2\" class=\"data row10 col2\" >766,759</td>\n",
       "                        <td id=\"T_69e672f0_8067_11ea_a7e4_acde48001122row10_col3\" class=\"data row10 col3\" >10</td>\n",
       "                        <td id=\"T_69e672f0_8067_11ea_a7e4_acde48001122row10_col4\" class=\"data row10 col4\" >11,834</td>\n",
       "                        <td id=\"T_69e672f0_8067_11ea_a7e4_acde48001122row10_col5\" class=\"data row10 col5\" >25,392</td>\n",
       "                        <td id=\"T_69e672f0_8067_11ea_a7e4_acde48001122row10_col6\" class=\"data row10 col6\" >60,700</td>\n",
       "                        <td id=\"T_69e672f0_8067_11ea_a7e4_acde48001122row10_col7\" class=\"data row10 col7\" >186,000,000</td>\n",
       "            </tr>\n",
       "            <tr>\n",
       "                                <th id=\"T_69e672f0_8067_11ea_a7e4_acde48001122level1_row11\" class=\"row_heading level1 row11\" >SOE</th>\n",
       "                        <td id=\"T_69e672f0_8067_11ea_a7e4_acde48001122row11_col0\" class=\"data row11 col0\" >6,186</td>\n",
       "                        <td id=\"T_69e672f0_8067_11ea_a7e4_acde48001122row11_col1\" class=\"data row11 col1\" >460,685</td>\n",
       "                        <td id=\"T_69e672f0_8067_11ea_a7e4_acde48001122row11_col2\" class=\"data row11 col2\" >2,796,941</td>\n",
       "                        <td id=\"T_69e672f0_8067_11ea_a7e4_acde48001122row11_col3\" class=\"data row11 col3\" >10</td>\n",
       "                        <td id=\"T_69e672f0_8067_11ea_a7e4_acde48001122row11_col4\" class=\"data row11 col4\" >13,371</td>\n",
       "                        <td id=\"T_69e672f0_8067_11ea_a7e4_acde48001122row11_col5\" class=\"data row11 col5\" >37,690</td>\n",
       "                        <td id=\"T_69e672f0_8067_11ea_a7e4_acde48001122row11_col6\" class=\"data row11 col6\" >135,448</td>\n",
       "                        <td id=\"T_69e672f0_8067_11ea_a7e4_acde48001122row11_col7\" class=\"data row11 col7\" >69,330,182</td>\n",
       "            </tr>\n",
       "    </tbody></table>"
      ],
      "text/plain": [
       "<pandas.io.formats.style.Styler at 0x1a607c81d0>"
      ]
     },
     "execution_count": 11,
     "metadata": {},
     "output_type": "execute_result"
    }
   ],
   "source": [
    "(df_asif_firm_china9807\n",
    " #.loc[lambda x: x['output'] > 0]\n",
    " .groupby(['year', 'SOE'])['output']\n",
    " .describe()\n",
    " .style\n",
    " .format('{0:,.0f}')\n",
    ")"
   ]
  },
  {
   "cell_type": "code",
   "execution_count": 12,
   "metadata": {
    "kernel": "python3"
   },
   "outputs": [
    {
     "data": {
      "text/plain": [
       "<matplotlib.axes._subplots.AxesSubplot at 0x1a457aa110>"
      ]
     },
     "execution_count": 12,
     "metadata": {},
     "output_type": "execute_result"
    },
    {
     "data": {
      "image/png": "[encoded data removed]",
      "text/plain": [
       "<Figure size 576x396 with 1 Axes>"
      ]
     },
     "metadata": {},
     "output_type": "display_data"
    }
   ],
   "source": [
    "(df_asif_firm_china9807\n",
    " # .loc[lambda x: x['output'] > 1000]\n",
    " .groupby(['year', 'SOE'])['output']\n",
    " .median()\n",
    " .unstack(-1)\n",
    " .plot()\n",
    " )"
   ]
  },
  {
   "cell_type": "code",
   "execution_count": 13,
   "metadata": {
    "kernel": "python3"
   },
   "outputs": [
    {
     "data": {
      "text/html": [
       "<div>\n",
       "<style scoped>\n",
       "    .dataframe tbody tr th:only-of-type {\n",
       "        vertical-align: middle;\n",
       "    }\n",
       "\n",
       "    .dataframe tbody tr th {\n",
       "        vertical-align: top;\n",
       "    }\n",
       "\n",
       "    .dataframe thead th {\n",
       "        text-align: right;\n",
       "    }\n",
       "</style>\n",
       "<table border=\"1\" class=\"dataframe\">\n",
       "  <thead>\n",
       "    <tr style=\"text-align: right;\">\n",
       "      <th>SOE</th>\n",
       "      <th>PRIVATE</th>\n",
       "      <th>SOE</th>\n",
       "    </tr>\n",
       "    <tr>\n",
       "      <th>year</th>\n",
       "      <th></th>\n",
       "      <th></th>\n",
       "    </tr>\n",
       "  </thead>\n",
       "  <tbody>\n",
       "    <tr>\n",
       "      <th>2002</th>\n",
       "      <td>44082</td>\n",
       "      <td>13016</td>\n",
       "    </tr>\n",
       "    <tr>\n",
       "      <th>2003</th>\n",
       "      <td>51473</td>\n",
       "      <td>11220</td>\n",
       "    </tr>\n",
       "    <tr>\n",
       "      <th>2004</th>\n",
       "      <td>62106</td>\n",
       "      <td>10102</td>\n",
       "    </tr>\n",
       "    <tr>\n",
       "      <th>2005</th>\n",
       "      <td>70127</td>\n",
       "      <td>8308</td>\n",
       "    </tr>\n",
       "    <tr>\n",
       "      <th>2006</th>\n",
       "      <td>80836</td>\n",
       "      <td>7321</td>\n",
       "    </tr>\n",
       "    <tr>\n",
       "      <th>2007</th>\n",
       "      <td>94038</td>\n",
       "      <td>5859</td>\n",
       "    </tr>\n",
       "  </tbody>\n",
       "</table>\n",
       "</div>"
      ],
      "text/plain": [
       "SOE   PRIVATE    SOE\n",
       "year                \n",
       "2002    44082  13016\n",
       "2003    51473  11220\n",
       "2004    62106  10102\n",
       "2005    70127   8308\n",
       "2006    80836   7321\n",
       "2007    94038   5859"
      ]
     },
     "execution_count": 13,
     "metadata": {},
     "output_type": "execute_result"
    }
   ],
   "source": [
    "(df_asif_firm_china9807.groupby(['year', 'SOE'])['output']\n",
    "     .nunique()\n",
    "     .unstack(-1)\n",
    "     #.plot()\n",
    "    )"
   ]
  },
  {
   "cell_type": "markdown",
   "metadata": {
    "kernel": "SoS"
   },
   "source": [
    "\n",
    "## Load TFP_asif_china from Google Big Query\n",
    "\n",
    "Feel free to add description about the dataset or any usefull information.\n",
    "\n"
   ]
  },
  {
   "cell_type": "code",
   "execution_count": 14,
   "metadata": {
    "kernel": "python3"
   },
   "outputs": [
    {
     "data": {
      "text/html": [
       "<div>\n",
       "<style scoped>\n",
       "    .dataframe tbody tr th:only-of-type {\n",
       "        vertical-align: middle;\n",
       "    }\n",
       "\n",
       "    .dataframe tbody tr th {\n",
       "        vertical-align: top;\n",
       "    }\n",
       "\n",
       "    .dataframe thead th {\n",
       "        text-align: right;\n",
       "    }\n",
       "</style>\n",
       "<table border=\"1\" class=\"dataframe\">\n",
       "  <thead>\n",
       "    <tr style=\"text-align: right;\">\n",
       "      <th></th>\n",
       "      <th>id</th>\n",
       "      <th>year</th>\n",
       "      <th>cic</th>\n",
       "      <th>tfp</th>\n",
       "      <th>tfp_def</th>\n",
       "    </tr>\n",
       "  </thead>\n",
       "  <tbody>\n",
       "    <tr>\n",
       "      <th>0</th>\n",
       "      <td>170197977</td>\n",
       "      <td>2002</td>\n",
       "      <td>1620</td>\n",
       "      <td>4.357380</td>\n",
       "      <td>4.650860</td>\n",
       "    </tr>\n",
       "    <tr>\n",
       "      <th>1</th>\n",
       "      <td>124881014</td>\n",
       "      <td>2002</td>\n",
       "      <td>1620</td>\n",
       "      <td>5.579128</td>\n",
       "      <td>5.794009</td>\n",
       "    </tr>\n",
       "    <tr>\n",
       "      <th>2</th>\n",
       "      <td>143048247</td>\n",
       "      <td>2002</td>\n",
       "      <td>1620</td>\n",
       "      <td>7.788592</td>\n",
       "      <td>7.973028</td>\n",
       "    </tr>\n",
       "    <tr>\n",
       "      <th>3</th>\n",
       "      <td>130382625</td>\n",
       "      <td>2002</td>\n",
       "      <td>1620</td>\n",
       "      <td>5.028827</td>\n",
       "      <td>5.248624</td>\n",
       "    </tr>\n",
       "    <tr>\n",
       "      <th>4</th>\n",
       "      <td>194724620</td>\n",
       "      <td>2002</td>\n",
       "      <td>1690</td>\n",
       "      <td>4.473667</td>\n",
       "      <td>4.610231</td>\n",
       "    </tr>\n",
       "  </tbody>\n",
       "</table>\n",
       "</div>"
      ],
      "text/plain": [
       "          id  year   cic       tfp   tfp_def\n",
       "0  170197977  2002  1620  4.357380  4.650860\n",
       "1  124881014  2002  1620  5.579128  5.794009\n",
       "2  143048247  2002  1620  7.788592  7.973028\n",
       "3  130382625  2002  1620  5.028827  5.248624\n",
       "4  194724620  2002  1690  4.473667  4.610231"
      ]
     },
     "execution_count": 14,
     "metadata": {},
     "output_type": "execute_result"
    }
   ],
   "source": [
    "query = (\n",
    "          \"\"\"SELECT id, year, cic, tfp, tfp_def\n",
    "            FROM China.TFP_asif_china \n",
    "            WHERE year >= 2002 AND year <= 2007\n",
    "            \"\"\"\n",
    "\n",
    "        )\n",
    "\n",
    "df_TFP_asif_china = gcp.upload_data_from_bigquery(query = query, location = 'US')\n",
    "df_TFP_asif_china.head()\n",
    "    "
   ]
  },
  {
   "cell_type": "code",
   "execution_count": 15,
   "metadata": {
    "kernel": "python3"
   },
   "outputs": [
    {
     "data": {
      "text/plain": [
       "year\n",
       "2002         NaN\n",
       "2003    2.604031\n",
       "2004   -0.958761\n",
       "2005    3.992409\n",
       "2006    1.932197\n",
       "2007    2.717964\n",
       "Name: tfp, dtype: float64"
      ]
     },
     "execution_count": 15,
     "metadata": {},
     "output_type": "execute_result"
    }
   ],
   "source": [
    "df_TFP_asif_china.groupby(['year'])['tfp'].mean().pct_change() * 100"
   ]
  },
  {
   "cell_type": "code",
   "execution_count": 16,
   "metadata": {
    "kernel": "python3"
   },
   "outputs": [
    {
     "data": {
      "text/plain": [
       "year\n",
       "2002    4.060387\n",
       "2003    4.166121\n",
       "2004    4.126178\n",
       "2005    4.290912\n",
       "2006    4.373821\n",
       "2007    4.492700\n",
       "Name: tfp, dtype: float64"
      ]
     },
     "execution_count": 16,
     "metadata": {},
     "output_type": "execute_result"
    }
   ],
   "source": [
    "df_TFP_asif_china.groupby(['year'])['tfp'].mean()#.pct_change() * 100"
   ]
  },
  {
   "cell_type": "code",
   "execution_count": 17,
   "metadata": {
    "kernel": "python3"
   },
   "outputs": [],
   "source": [
    "test = df_TFP_asif_china.merge(df_asif_firm_china9807)"
   ]
  },
  {
   "cell_type": "code",
   "execution_count": 18,
   "metadata": {
    "kernel": "python3"
   },
   "outputs": [
    {
     "data": {
      "text/plain": [
       "(1000472, 21)"
      ]
     },
     "execution_count": 18,
     "metadata": {},
     "output_type": "execute_result"
    }
   ],
   "source": [
    "test.shape"
   ]
  },
  {
   "cell_type": "code",
   "execution_count": 19,
   "metadata": {
    "kernel": "python3"
   },
   "outputs": [
    {
     "data": {
      "text/plain": [
       "<matplotlib.axes._subplots.AxesSubplot at 0x1a5c802110>"
      ]
     },
     "execution_count": 19,
     "metadata": {},
     "output_type": "execute_result"
    },
    {
     "data": {
      "image/png": "[encoded data removed]",
      "text/plain": [
       "<Figure size 576x396 with 1 Axes>"
      ]
     },
     "metadata": {},
     "output_type": "display_data"
    }
   ],
   "source": [
    "test.groupby(['year'])['tfp'].median().plot()"
   ]
  },
  {
   "cell_type": "code",
   "execution_count": 20,
   "metadata": {
    "kernel": "python3"
   },
   "outputs": [
    {
     "data": {
      "text/plain": [
       "<matplotlib.axes._subplots.AxesSubplot at 0x1a55416750>"
      ]
     },
     "execution_count": 20,
     "metadata": {},
     "output_type": "execute_result"
    },
    {
     "data": {
      "image/png": "[encoded data removed]",
      "text/plain": [
       "<Figure size 576x396 with 1 Axes>"
      ]
     },
     "metadata": {},
     "output_type": "display_data"
    }
   ],
   "source": [
    "test.groupby(['year', 'SOE'])['tfp'].median().unstack(-1).plot()"
   ]
  },
  {
   "cell_type": "code",
   "execution_count": 21,
   "metadata": {
    "kernel": "python3"
   },
   "outputs": [
    {
     "data": {
      "text/plain": [
       "Index(['id', 'year', 'cic', 'tfp', 'tfp_def', 'bdat', 'geocode4_corr',\n",
       "       'cityen_correct', 'Province_en', 'Lower_location', 'Larger_location',\n",
       "       'Coastal', 'SOE', 'indu_2', 'Industry_Name', 'Short', 'output',\n",
       "       'fa_net', 'employment', 'input', 'ownership'],\n",
       "      dtype='object')"
      ]
     },
     "execution_count": 21,
     "metadata": {},
     "output_type": "execute_result"
    }
   ],
   "source": [
    "test.columns"
   ]
  },
  {
   "cell_type": "code",
   "execution_count": 27,
   "metadata": {
    "kernel": "python3"
   },
   "outputs": [
    {
     "data": {
      "text/plain": [
       "<matplotlib.axes._subplots.AxesSubplot at 0x1a27e94110>"
      ]
     },
     "execution_count": 27,
     "metadata": {},
     "output_type": "execute_result"
    },
    {
     "data": {
      "image/png": "[encoded data removed]",
      "text/plain": [
       "<Figure size 576x396 with 1 Axes>"
      ]
     },
     "metadata": {},
     "output_type": "display_data"
    }
   ],
   "source": [
    "test.groupby(['year', 'SOE', 'Larger_location'])['tfp'].median().unstack([1, 2]).plot()"
   ]
  },
  {
   "cell_type": "markdown",
   "metadata": {
    "kernel": "SoS"
   },
   "source": [
    "\n",
    "## Load TCZ_list_china from Google Spreadsheet\n",
    "\n",
    "Feel free to add description about the dataset or any usefull information.\n",
    "\n",
    "Profiling will be available soon for this dataset\n",
    "\n"
   ]
  },
  {
   "cell_type": "code",
   "execution_count": 28,
   "metadata": {
    "kernel": "python3"
   },
   "outputs": [
    {
     "data": {
      "text/html": [
       "<div>\n",
       "<style scoped>\n",
       "    .dataframe tbody tr th:only-of-type {\n",
       "        vertical-align: middle;\n",
       "    }\n",
       "\n",
       "    .dataframe tbody tr th {\n",
       "        vertical-align: top;\n",
       "    }\n",
       "\n",
       "    .dataframe thead th {\n",
       "        text-align: right;\n",
       "    }\n",
       "</style>\n",
       "<table border=\"1\" class=\"dataframe\">\n",
       "  <thead>\n",
       "    <tr style=\"text-align: right;\">\n",
       "      <th></th>\n",
       "      <th>Province</th>\n",
       "      <th>City</th>\n",
       "      <th>geocode4_corr</th>\n",
       "      <th>TCZ</th>\n",
       "    </tr>\n",
       "  </thead>\n",
       "  <tbody>\n",
       "    <tr>\n",
       "      <th>1</th>\n",
       "      <td>Beijing</td>\n",
       "      <td>Beijing</td>\n",
       "      <td>1101</td>\n",
       "      <td>1</td>\n",
       "    </tr>\n",
       "    <tr>\n",
       "      <th>2</th>\n",
       "      <td>Tianjin</td>\n",
       "      <td>Tianjin</td>\n",
       "      <td>1201</td>\n",
       "      <td>1</td>\n",
       "    </tr>\n",
       "    <tr>\n",
       "      <th>3</th>\n",
       "      <td>Hebei</td>\n",
       "      <td>Shijiazhuang</td>\n",
       "      <td>1301</td>\n",
       "      <td>1</td>\n",
       "    </tr>\n",
       "    <tr>\n",
       "      <th>4</th>\n",
       "      <td>Hebei</td>\n",
       "      <td>Tangshan</td>\n",
       "      <td>1302</td>\n",
       "      <td>1</td>\n",
       "    </tr>\n",
       "    <tr>\n",
       "      <th>5</th>\n",
       "      <td>Hebei</td>\n",
       "      <td>Qinhuangdao</td>\n",
       "      <td>1303</td>\n",
       "      <td>0</td>\n",
       "    </tr>\n",
       "  </tbody>\n",
       "</table>\n",
       "</div>"
      ],
      "text/plain": [
       "  Province          City geocode4_corr TCZ\n",
       "1  Beijing       Beijing          1101   1\n",
       "2  Tianjin       Tianjin          1201   1\n",
       "3    Hebei  Shijiazhuang          1301   1\n",
       "4    Hebei      Tangshan          1302   1\n",
       "5    Hebei   Qinhuangdao          1303   0"
      ]
     },
     "execution_count": 28,
     "metadata": {},
     "output_type": "execute_result"
    }
   ],
   "source": [
    "\n",
    "### Please go here https://docs.google.com/spreadsheets/d/15bMeS2cMfGfYJkjuY6wOMzcAUWZNRGpO03hZ8rpgv0Q\n",
    "### To change the range\n",
    "\n",
    "sheetid = '15bMeS2cMfGfYJkjuY6wOMzcAUWZNRGpO03hZ8rpgv0Q'\n",
    "sheetname = 'TCZ'\n",
    "\n",
    "df_TCZ_list_china = gdr.upload_data_from_spreadsheet(sheetID = sheetid,\n",
    "sheetName = sheetname,\n",
    "\t to_dataframe = True)\n",
    "df_TCZ_list_china.head()\n"
   ]
  },
  {
   "cell_type": "markdown",
   "metadata": {
    "kernel": "python3"
   },
   "source": [
    "## Load CIC_4_digit_average_SO2 from Google Spreadsheet\n",
    "\n",
    "Feel free to add description about the dataset or any usefull information.\n",
    "\n",
    "Profiling will be available soon for this dataset"
   ]
  },
  {
   "cell_type": "code",
   "execution_count": 29,
   "metadata": {
    "kernel": "python3"
   },
   "outputs": [
    {
     "data": {
      "text/html": [
       "<div>\n",
       "<style scoped>\n",
       "    .dataframe tbody tr th:only-of-type {\n",
       "        vertical-align: middle;\n",
       "    }\n",
       "\n",
       "    .dataframe tbody tr th {\n",
       "        vertical-align: top;\n",
       "    }\n",
       "\n",
       "    .dataframe thead th {\n",
       "        text-align: right;\n",
       "    }\n",
       "</style>\n",
       "<table border=\"1\" class=\"dataframe\">\n",
       "  <thead>\n",
       "    <tr style=\"text-align: right;\">\n",
       "      <th></th>\n",
       "      <th>cic</th>\n",
       "      <th>tso2_i</th>\n",
       "      <th>polluted_di</th>\n",
       "      <th>polluted_mi</th>\n",
       "      <th>polluted_thre</th>\n",
       "    </tr>\n",
       "  </thead>\n",
       "  <tbody>\n",
       "    <tr>\n",
       "      <th>1</th>\n",
       "      <td>3821</td>\n",
       "      <td>18146000</td>\n",
       "      <td>Above</td>\n",
       "      <td>Above</td>\n",
       "      <td>Above</td>\n",
       "    </tr>\n",
       "    <tr>\n",
       "      <th>2</th>\n",
       "      <td>3314</td>\n",
       "      <td>15324829.29</td>\n",
       "      <td>Above</td>\n",
       "      <td>Above</td>\n",
       "      <td>Above</td>\n",
       "    </tr>\n",
       "    <tr>\n",
       "      <th>3</th>\n",
       "      <td>3351</td>\n",
       "      <td>10926060</td>\n",
       "      <td>Above</td>\n",
       "      <td>Above</td>\n",
       "      <td>Above</td>\n",
       "    </tr>\n",
       "    <tr>\n",
       "      <th>4</th>\n",
       "      <td>3311</td>\n",
       "      <td>7474953.73</td>\n",
       "      <td>Above</td>\n",
       "      <td>Above</td>\n",
       "      <td>Above</td>\n",
       "    </tr>\n",
       "    <tr>\n",
       "      <th>5</th>\n",
       "      <td>2824</td>\n",
       "      <td>5277988.667</td>\n",
       "      <td>Above</td>\n",
       "      <td>Above</td>\n",
       "      <td>Above</td>\n",
       "    </tr>\n",
       "  </tbody>\n",
       "</table>\n",
       "</div>"
      ],
      "text/plain": [
       "    cic       tso2_i polluted_di polluted_mi polluted_thre\n",
       "1  3821     18146000       Above       Above         Above\n",
       "2  3314  15324829.29       Above       Above         Above\n",
       "3  3351     10926060       Above       Above         Above\n",
       "4  3311   7474953.73       Above       Above         Above\n",
       "5  2824  5277988.667       Above       Above         Above"
      ]
     },
     "execution_count": 29,
     "metadata": {},
     "output_type": "execute_result"
    }
   ],
   "source": [
    "### Please go here https://docs.google.com/spreadsheets/d/1MdHt1EKUexT9J1ISyo8TJXbq0BRhIxyML6t9dZItFuw\n",
    "### To change the range\n",
    "\n",
    "sheetid = '1MdHt1EKUexT9J1ISyo8TJXbq0BRhIxyML6t9dZItFuw'\n",
    "sheetname = 'cic_avg_so2'\n",
    "\n",
    "df_CIC_4_digit_average_SO2 = gdr.upload_data_from_spreadsheet(sheetID = sheetid,\n",
    "sheetName = sheetname,\n",
    "\t to_dataframe = True)\n",
    "df_CIC_4_digit_average_SO2.head()"
   ]
  },
  {
   "cell_type": "markdown",
   "metadata": {
    "kernel": "python3"
   },
   "source": [
    "## Load China_cities_target_so2 from Google Spreadsheet\n",
    "\n",
    "Feel free to add description about the dataset or any usefull information.\n",
    "\n",
    "Profiling will be available soon for this dataset"
   ]
  },
  {
   "cell_type": "code",
   "execution_count": 30,
   "metadata": {
    "kernel": "python3"
   },
   "outputs": [
    {
     "data": {
      "text/html": [
       "<div>\n",
       "<style scoped>\n",
       "    .dataframe tbody tr th:only-of-type {\n",
       "        vertical-align: middle;\n",
       "    }\n",
       "\n",
       "    .dataframe tbody tr th {\n",
       "        vertical-align: top;\n",
       "    }\n",
       "\n",
       "    .dataframe thead th {\n",
       "        text-align: right;\n",
       "    }\n",
       "</style>\n",
       "<table border=\"1\" class=\"dataframe\">\n",
       "  <thead>\n",
       "    <tr style=\"text-align: right;\">\n",
       "      <th></th>\n",
       "      <th>citycn</th>\n",
       "      <th>cityen</th>\n",
       "      <th>prov2013</th>\n",
       "      <th>SO2_05_city_reconstructed</th>\n",
       "      <th>SO2_obj_2010</th>\n",
       "      <th>tso2_mandate_c</th>\n",
       "      <th>SO2_perc_reduction_c</th>\n",
       "      <th>ttoutput</th>\n",
       "    </tr>\n",
       "  </thead>\n",
       "  <tbody>\n",
       "    <tr>\n",
       "      <th>1</th>\n",
       "      <td>上海</td>\n",
       "      <td>Shanghai</td>\n",
       "      <td>上海市</td>\n",
       "      <td>5.121931736</td>\n",
       "      <td>3.794023508</td>\n",
       "      <td>1.327908228</td>\n",
       "      <td>25.89%</td>\n",
       "      <td>230979744.8</td>\n",
       "    </tr>\n",
       "    <tr>\n",
       "      <th>2</th>\n",
       "      <td>昆明</td>\n",
       "      <td>Kunming</td>\n",
       "      <td>云南省</td>\n",
       "      <td>2.237456274</td>\n",
       "      <td>2.147443665</td>\n",
       "      <td>0.09001260872</td>\n",
       "      <td>1.72%</td>\n",
       "      <td>6370188.23</td>\n",
       "    </tr>\n",
       "    <tr>\n",
       "      <th>3</th>\n",
       "      <td>曲靖</td>\n",
       "      <td>Qujing</td>\n",
       "      <td>云南省</td>\n",
       "      <td>1.223687618</td>\n",
       "      <td>1.174458806</td>\n",
       "      <td>0.04922881224</td>\n",
       "      <td>0.94%</td>\n",
       "      <td>1871252.789</td>\n",
       "    </tr>\n",
       "    <tr>\n",
       "      <th>4</th>\n",
       "      <td>玉溪</td>\n",
       "      <td>Yuxi</td>\n",
       "      <td>云南省</td>\n",
       "      <td>0.7709518273</td>\n",
       "      <td>0.7399365239</td>\n",
       "      <td>0.0310153034</td>\n",
       "      <td>0.59%</td>\n",
       "      <td>2821705.393</td>\n",
       "    </tr>\n",
       "    <tr>\n",
       "      <th>5</th>\n",
       "      <td>思茅</td>\n",
       "      <td>Simao</td>\n",
       "      <td>云南省</td>\n",
       "      <td>0.2493996689</td>\n",
       "      <td>0.2393663489</td>\n",
       "      <td>0.01003332001</td>\n",
       "      <td>0.19%</td>\n",
       "      <td>240283.799</td>\n",
       "    </tr>\n",
       "  </tbody>\n",
       "</table>\n",
       "</div>"
      ],
      "text/plain": [
       "  citycn    cityen prov2013 SO2_05_city_reconstructed  SO2_obj_2010  \\\n",
       "1     上海  Shanghai      上海市               5.121931736   3.794023508   \n",
       "2     昆明   Kunming      云南省               2.237456274   2.147443665   \n",
       "3     曲靖    Qujing      云南省               1.223687618   1.174458806   \n",
       "4     玉溪      Yuxi      云南省              0.7709518273  0.7399365239   \n",
       "5     思茅     Simao      云南省              0.2493996689  0.2393663489   \n",
       "\n",
       "  tso2_mandate_c SO2_perc_reduction_c     ttoutput  \n",
       "1    1.327908228               25.89%  230979744.8  \n",
       "2  0.09001260872                1.72%   6370188.23  \n",
       "3  0.04922881224                0.94%  1871252.789  \n",
       "4   0.0310153034                0.59%  2821705.393  \n",
       "5  0.01003332001                0.19%   240283.799  "
      ]
     },
     "execution_count": 30,
     "metadata": {},
     "output_type": "execute_result"
    }
   ],
   "source": [
    "### Please go here https://docs.google.com/spreadsheets/d/1z3A_I8_StdyNL5O38s2l9hx6W3VR49CGVmaosypjFMA\n",
    "### To change the range\n",
    "\n",
    "sheetid = '1z3A_I8_StdyNL5O38s2l9hx6W3VR49CGVmaosypjFMA'\n",
    "sheetname = 'China_cities_target_so2'\n",
    "\n",
    "df_China_cities_target_so2 = gdr.upload_data_from_spreadsheet(sheetID = sheetid,\n",
    "sheetName = sheetname,\n",
    "\t to_dataframe = True)\n",
    "df_China_cities_target_so2.head()"
   ]
  },
  {
   "cell_type": "markdown",
   "metadata": {
    "kernel": "SoS"
   },
   "source": [
    "# Workflow\n",
    "\n",
    "In this section, we will construct the dataset, and document each step of the workflow.\n",
    "\n",
    "Please use the following format for the documentation:\n",
    "\n",
    "- `##` Step 1: XXX\n",
    "- `###` (optional) Underlying process description\n",
    "- `##` Step 2: YYY\n",
    "- `###` (optional) Underlying process description\n",
    "\n",
    "Note: **You need to rename the last dataframe `df_final`**"
   ]
  },
  {
   "cell_type": "code",
   "execution_count": 31,
   "metadata": {
    "kernel": "python3"
   },
   "outputs": [
    {
     "data": {
      "text/html": [
       "<div>\n",
       "<style scoped>\n",
       "    .dataframe tbody tr th:only-of-type {\n",
       "        vertical-align: middle;\n",
       "    }\n",
       "\n",
       "    .dataframe tbody tr th {\n",
       "        vertical-align: top;\n",
       "    }\n",
       "\n",
       "    .dataframe thead th {\n",
       "        text-align: right;\n",
       "    }\n",
       "</style>\n",
       "<table border=\"1\" class=\"dataframe\">\n",
       "  <thead>\n",
       "    <tr style=\"text-align: right;\">\n",
       "      <th></th>\n",
       "      <th>year</th>\n",
       "      <th>Period</th>\n",
       "      <th>Province_en</th>\n",
       "      <th>Lower_location</th>\n",
       "      <th>Larger_location</th>\n",
       "      <th>Coastal</th>\n",
       "      <th>cityen</th>\n",
       "      <th>geocode4_corr</th>\n",
       "      <th>TCZ_c</th>\n",
       "      <th>target_c</th>\n",
       "      <th>...</th>\n",
       "      <th>tso2_cit</th>\n",
       "      <th>tso2_i</th>\n",
       "      <th>tCOD_cit</th>\n",
       "      <th>twaste_water_cit</th>\n",
       "      <th>polluted_di</th>\n",
       "      <th>polluted_mi</th>\n",
       "      <th>polluted_thre</th>\n",
       "      <th>FE_c_i</th>\n",
       "      <th>FE_t_i</th>\n",
       "      <th>FE_t_c</th>\n",
       "    </tr>\n",
       "  </thead>\n",
       "  <tbody>\n",
       "    <tr>\n",
       "      <th>0</th>\n",
       "      <td>2002</td>\n",
       "      <td>Before</td>\n",
       "      <td>Shanxi</td>\n",
       "      <td>Central</td>\n",
       "      <td>Central</td>\n",
       "      <td>False</td>\n",
       "      <td>Yuncheng</td>\n",
       "      <td>1408</td>\n",
       "      <td>TCZ</td>\n",
       "      <td>0.485030</td>\n",
       "      <td>...</td>\n",
       "      <td>24500</td>\n",
       "      <td>168934.454545</td>\n",
       "      <td>0.0</td>\n",
       "      <td>500</td>\n",
       "      <td>Above</td>\n",
       "      <td>Below</td>\n",
       "      <td>Above</td>\n",
       "      <td>11104</td>\n",
       "      <td>1573</td>\n",
       "      <td>889</td>\n",
       "    </tr>\n",
       "    <tr>\n",
       "      <th>1</th>\n",
       "      <td>2006</td>\n",
       "      <td>After</td>\n",
       "      <td>Hunan</td>\n",
       "      <td>Central</td>\n",
       "      <td>Central</td>\n",
       "      <td>False</td>\n",
       "      <td>Xiangtan</td>\n",
       "      <td>4303</td>\n",
       "      <td>TCZ</td>\n",
       "      <td>0.092754</td>\n",
       "      <td>...</td>\n",
       "      <td>2304</td>\n",
       "      <td>168934.454545</td>\n",
       "      <td>0.0</td>\n",
       "      <td>300</td>\n",
       "      <td>Above</td>\n",
       "      <td>Below</td>\n",
       "      <td>Above</td>\n",
       "      <td>11105</td>\n",
       "      <td>1574</td>\n",
       "      <td>420</td>\n",
       "    </tr>\n",
       "    <tr>\n",
       "      <th>2</th>\n",
       "      <td>2007</td>\n",
       "      <td>After</td>\n",
       "      <td>Hunan</td>\n",
       "      <td>Central</td>\n",
       "      <td>Central</td>\n",
       "      <td>False</td>\n",
       "      <td>Xiangtan</td>\n",
       "      <td>4303</td>\n",
       "      <td>TCZ</td>\n",
       "      <td>0.092754</td>\n",
       "      <td>...</td>\n",
       "      <td>2304</td>\n",
       "      <td>168934.454545</td>\n",
       "      <td>0.0</td>\n",
       "      <td>240</td>\n",
       "      <td>Above</td>\n",
       "      <td>Below</td>\n",
       "      <td>Above</td>\n",
       "      <td>11105</td>\n",
       "      <td>1572</td>\n",
       "      <td>421</td>\n",
       "    </tr>\n",
       "    <tr>\n",
       "      <th>3</th>\n",
       "      <td>2007</td>\n",
       "      <td>After</td>\n",
       "      <td>Liaoning</td>\n",
       "      <td>Northeast</td>\n",
       "      <td>Eastern</td>\n",
       "      <td>True</td>\n",
       "      <td>Jinzhou</td>\n",
       "      <td>2107</td>\n",
       "      <td>TCZ</td>\n",
       "      <td>0.080512</td>\n",
       "      <td>...</td>\n",
       "      <td>3200</td>\n",
       "      <td>168934.454545</td>\n",
       "      <td>0.0</td>\n",
       "      <td>0</td>\n",
       "      <td>Above</td>\n",
       "      <td>Below</td>\n",
       "      <td>Above</td>\n",
       "      <td>11103</td>\n",
       "      <td>1572</td>\n",
       "      <td>287</td>\n",
       "    </tr>\n",
       "    <tr>\n",
       "      <th>4</th>\n",
       "      <td>2002</td>\n",
       "      <td>Before</td>\n",
       "      <td>Liaoning</td>\n",
       "      <td>Northeast</td>\n",
       "      <td>Eastern</td>\n",
       "      <td>True</td>\n",
       "      <td>Shenyang</td>\n",
       "      <td>2101</td>\n",
       "      <td>TCZ</td>\n",
       "      <td>0.230076</td>\n",
       "      <td>...</td>\n",
       "      <td>3840</td>\n",
       "      <td>168934.454545</td>\n",
       "      <td>0.0</td>\n",
       "      <td>3500</td>\n",
       "      <td>Above</td>\n",
       "      <td>Below</td>\n",
       "      <td>Above</td>\n",
       "      <td>11106</td>\n",
       "      <td>1573</td>\n",
       "      <td>432</td>\n",
       "    </tr>\n",
       "  </tbody>\n",
       "</table>\n",
       "<p>5 rows × 30 columns</p>\n",
       "</div>"
      ],
      "text/plain": [
       "   year  Period Province_en Lower_location Larger_location  Coastal    cityen  \\\n",
       "0  2002  Before      Shanxi        Central         Central    False  Yuncheng   \n",
       "1  2006   After       Hunan        Central         Central    False  Xiangtan   \n",
       "2  2007   After       Hunan        Central         Central    False  Xiangtan   \n",
       "3  2007   After    Liaoning      Northeast         Eastern     True   Jinzhou   \n",
       "4  2002  Before    Liaoning      Northeast         Eastern     True  Shenyang   \n",
       "\n",
       "   geocode4_corr TCZ_c  target_c  ... tso2_cit         tso2_i  tCOD_cit  \\\n",
       "0           1408   TCZ  0.485030  ...    24500  168934.454545       0.0   \n",
       "1           4303   TCZ  0.092754  ...     2304  168934.454545       0.0   \n",
       "2           4303   TCZ  0.092754  ...     2304  168934.454545       0.0   \n",
       "3           2107   TCZ  0.080512  ...     3200  168934.454545       0.0   \n",
       "4           2101   TCZ  0.230076  ...     3840  168934.454545       0.0   \n",
       "\n",
       "  twaste_water_cit  polluted_di  polluted_mi  polluted_thre  FE_c_i  FE_t_i  \\\n",
       "0              500        Above        Below          Above   11104    1573   \n",
       "1              300        Above        Below          Above   11105    1574   \n",
       "2              240        Above        Below          Above   11105    1572   \n",
       "3                0        Above        Below          Above   11103    1572   \n",
       "4             3500        Above        Below          Above   11106    1573   \n",
       "\n",
       "   FE_t_c  \n",
       "0     889  \n",
       "1     420  \n",
       "2     421  \n",
       "3     287  \n",
       "4     432  \n",
       "\n",
       "[5 rows x 30 columns]"
      ]
     },
     "execution_count": 31,
     "metadata": {},
     "output_type": "execute_result"
    }
   ],
   "source": [
    " query = (\n",
    "          \"SELECT * \"\n",
    "            \"FROM China.SBC_pollution_China \"\n",
    "\n",
    "        )\n",
    "\n",
    "df_temp = gcp.upload_data_from_bigquery(query = query, location = 'US')\n",
    "df_temp.head()"
   ]
  },
  {
   "cell_type": "code",
   "execution_count": 47,
   "metadata": {
    "kernel": "python3"
   },
   "outputs": [
    {
     "data": {
      "text/plain": [
       "Index(['year', 'Period', 'Province_en', 'Lower_location', 'Larger_location',\n",
       "       'Coastal', 'cityen', 'geocode4_corr', 'TCZ_c', 'target_c', 'effort_c',\n",
       "       'industry', 'ind2', 'Short', 'output_fcit', 'capital_fcit',\n",
       "       'labour_fcit', 'out_share_SOE', 'cap_share_SOE', 'lab_share_SOE',\n",
       "       'tso2_cit', 'tso2_i', 'tCOD_cit', 'twaste_water_cit', 'polluted_di',\n",
       "       'polluted_mi', 'polluted_thre', 'FE_c_i', 'FE_t_i', 'FE_t_c'],\n",
       "      dtype='object')"
      ]
     },
     "execution_count": 47,
     "metadata": {},
     "output_type": "execute_result"
    }
   ],
   "source": [
    "df_temp.columns"
   ]
  },
  {
   "cell_type": "code",
   "execution_count": 91,
   "metadata": {
    "kernel": "python3"
   },
   "outputs": [
    {
     "data": {
      "text/plain": [
       "(36434, 11)"
      ]
     },
     "execution_count": 91,
     "metadata": {},
     "output_type": "execute_result"
    }
   ],
   "source": [
    "df_final_tfp = (test[['id', 'year','geocode4_corr', 'cic', 'SOE','tfp',\n",
    "                      'tfp_def']]\n",
    " .rename(columns= {'cic': 'industry'})\n",
    " .merge(df_temp.drop(columns = \n",
    "                     ['FE_c_i', 'FE_t_i', 'FE_t_c']), \n",
    "                     on = ['year', 'geocode4_corr', 'industry'])\n",
    " .assign(\n",
    "        year=lambda x: x['year'].astype('str'),\n",
    "        industry=lambda x: x['industry'].astype('str')\n",
    " )\n",
    " .groupby(['Period','year','Coastal','TCZ_c',\"cityen\", 'geocode4_corr',\n",
    "           'polluted_thre','industry', 'SOE'])[['tfp', 'target_c']]\n",
    "                .mean()\n",
    "                .reset_index()\n",
    ")\n",
    "df_final_tfp.shape"
   ]
  },
  {
   "cell_type": "code",
   "execution_count": 92,
   "metadata": {
    "kernel": "python3"
   },
   "outputs": [
    {
     "data": {
      "text/plain": [
       "228"
      ]
     },
     "execution_count": 92,
     "metadata": {},
     "output_type": "execute_result"
    }
   ],
   "source": [
    "len(df_final_tfp['cityen'].unique())"
   ]
  },
  {
   "cell_type": "code",
   "execution_count": 88,
   "metadata": {
    "kernel": "python3"
   },
   "outputs": [
    {
     "data": {
      "text/plain": [
       "273"
      ]
     },
     "execution_count": 88,
     "metadata": {},
     "output_type": "execute_result"
    }
   ],
   "source": [
    "len(df_final_tfp['industry'].unique())"
   ]
  },
  {
   "cell_type": "code",
   "execution_count": 93,
   "metadata": {
    "kernel": "python3"
   },
   "outputs": [],
   "source": [
    "df_final_tfp[\"FE_c_i\"] = pd.factorize(df_final_tfp[\"cityen\"] +\n",
    "                                      df_final_tfp['industry'])[0]\n",
    "\n",
    "df_final_tfp[\"FE_t_i\"] = pd.factorize(df_final_tfp[\"year\"] +\n",
    "                                      df_final_tfp['industry'])[0]\n",
    "\n",
    "df_final_tfp[\"FE_t_c\"] = pd.factorize(df_final_tfp[\"year\"] + \n",
    "                                      df_final_tfp[\"cityen\"])[0]\n",
    "\n",
    "df_final_tfp[\"FE_c_i_o\"] = pd.factorize(df_final_tfp[\"cityen\"] + \n",
    "                                        df_final_tfp[\"industry\"] +\n",
    "                                        df_final_tfp[\"SOE\"])[0]\n",
    "\n",
    "df_final_tfp[\"FE_t_o\"] = pd.factorize(\n",
    "        df_final_tfp[\"year\"] + df_final_tfp[\"SOE\"])[0]"
   ]
  },
  {
   "cell_type": "code",
   "execution_count": 94,
   "metadata": {
    "kernel": "python3"
   },
   "outputs": [
    {
     "data": {
      "text/plain": [
       "(36434, 16)"
      ]
     },
     "execution_count": 94,
     "metadata": {},
     "output_type": "execute_result"
    }
   ],
   "source": [
    "df_final_tfp.shape"
   ]
  },
  {
   "cell_type": "code",
   "execution_count": 95,
   "metadata": {
    "kernel": "python3"
   },
   "outputs": [
    {
     "data": {
      "text/plain": [
       "PRIVATE    27738\n",
       "SOE         8696\n",
       "Name: SOE, dtype: int64"
      ]
     },
     "execution_count": 95,
     "metadata": {},
     "output_type": "execute_result"
    }
   ],
   "source": [
    "df_final_tfp['SOE'].value_counts()"
   ]
  },
  {
   "cell_type": "code",
   "execution_count": 96,
   "metadata": {
    "kernel": "python3"
   },
   "outputs": [
    {
     "data": {
      "text/html": [
       "<div>\n",
       "<style scoped>\n",
       "    .dataframe tbody tr th:only-of-type {\n",
       "        vertical-align: middle;\n",
       "    }\n",
       "\n",
       "    .dataframe tbody tr th {\n",
       "        vertical-align: top;\n",
       "    }\n",
       "\n",
       "    .dataframe thead th {\n",
       "        text-align: right;\n",
       "    }\n",
       "</style>\n",
       "<table border=\"1\" class=\"dataframe\">\n",
       "  <thead>\n",
       "    <tr style=\"text-align: right;\">\n",
       "      <th>SOE</th>\n",
       "      <th>PRIVATE</th>\n",
       "      <th>SOE</th>\n",
       "    </tr>\n",
       "    <tr>\n",
       "      <th>year</th>\n",
       "      <th></th>\n",
       "      <th></th>\n",
       "    </tr>\n",
       "  </thead>\n",
       "  <tbody>\n",
       "    <tr>\n",
       "      <th>2002</th>\n",
       "      <td>2150</td>\n",
       "      <td>1185</td>\n",
       "    </tr>\n",
       "    <tr>\n",
       "      <th>2003</th>\n",
       "      <td>3555</td>\n",
       "      <td>1534</td>\n",
       "    </tr>\n",
       "    <tr>\n",
       "      <th>2004</th>\n",
       "      <td>4805</td>\n",
       "      <td>1744</td>\n",
       "    </tr>\n",
       "    <tr>\n",
       "      <th>2005</th>\n",
       "      <td>5159</td>\n",
       "      <td>1564</td>\n",
       "    </tr>\n",
       "    <tr>\n",
       "      <th>2006</th>\n",
       "      <td>5561</td>\n",
       "      <td>1382</td>\n",
       "    </tr>\n",
       "    <tr>\n",
       "      <th>2007</th>\n",
       "      <td>6508</td>\n",
       "      <td>1287</td>\n",
       "    </tr>\n",
       "  </tbody>\n",
       "</table>\n",
       "</div>"
      ],
      "text/plain": [
       "SOE   PRIVATE   SOE\n",
       "year               \n",
       "2002     2150  1185\n",
       "2003     3555  1534\n",
       "2004     4805  1744\n",
       "2005     5159  1564\n",
       "2006     5561  1382\n",
       "2007     6508  1287"
      ]
     },
     "execution_count": 96,
     "metadata": {},
     "output_type": "execute_result"
    }
   ],
   "source": [
    "(df_final_tfp\n",
    " .groupby([ 'year', 'SOE'])['SOE']\n",
    " .count()\n",
    " .unstack()\n",
    " #.plot(kind='bar',stacked=True)\n",
    ")"
   ]
  },
  {
   "cell_type": "code",
   "execution_count": 97,
   "metadata": {
    "kernel": "python3"
   },
   "outputs": [
    {
     "data": {
      "text/plain": [
       "<matplotlib.axes._subplots.AxesSubplot at 0x1a44dfe050>"
      ]
     },
     "execution_count": 97,
     "metadata": {},
     "output_type": "execute_result"
    },
    {
     "data": {
      "image/png": "[encoded data removed]",
      "text/plain": [
       "<Figure size 576x396 with 1 Axes>"
      ]
     },
     "metadata": {},
     "output_type": "display_data"
    }
   ],
   "source": [
    "df_final_tfp.groupby(['year', 'SOE'])['tfp'].median().unstack(-1).plot()"
   ]
  },
  {
   "cell_type": "code",
   "execution_count": 98,
   "metadata": {
    "kernel": "python3"
   },
   "outputs": [
    {
     "data": {
      "text/plain": [
       "<matplotlib.axes._subplots.AxesSubplot at 0x1a3eb8f650>"
      ]
     },
     "execution_count": 98,
     "metadata": {},
     "output_type": "execute_result"
    },
    {
     "data": {
      "image/png": "[encoded data removed]",
      "text/plain": [
       "<Figure size 576x396 with 1 Axes>"
      ]
     },
     "metadata": {},
     "output_type": "display_data"
    }
   ],
   "source": [
    "df_final_tfp.groupby(['year', 'SOE', 'TCZ_c'])['tfp'].median().unstack([1, 2]).plot()"
   ]
  },
  {
   "cell_type": "code",
   "execution_count": 100,
   "metadata": {
    "kernel": "python3"
   },
   "outputs": [
    {
     "data": {
      "text/plain": [
       "<matplotlib.axes._subplots.AxesSubplot at 0x1a3aee3990>"
      ]
     },
     "execution_count": 100,
     "metadata": {},
     "output_type": "execute_result"
    },
    {
     "data": {
      "image/png": "[encoded data removed]",
      "text/plain": [
       "<Figure size 576x396 with 1 Axes>"
      ]
     },
     "metadata": {},
     "output_type": "display_data"
    }
   ],
   "source": [
    "df_final_tfp.groupby(['year', 'SOE', 'Coastal'])['tfp'].median().unstack([1, 2]).plot()"
   ]
  },
  {
   "cell_type": "code",
   "execution_count": 101,
   "metadata": {
    "kernel": "python3"
   },
   "outputs": [],
   "source": [
    "df_final_tfp.to_csv('temp.csv', index = False)"
   ]
  },
  {
   "cell_type": "code",
   "execution_count": 103,
   "metadata": {
    "kernel": "R"
   },
   "outputs": [
    {
     "data": {
      "text/html": [
       "<table>\n",
       "<caption>A data.frame: 6 × 16</caption>\n",
       "<thead>\n",
       "\t<tr><th></th><th scope=col>Period</th><th scope=col>year</th><th scope=col>Coastal</th><th scope=col>TCZ_c</th><th scope=col>cityen</th><th scope=col>geocode4_corr</th><th scope=col>polluted_thre</th><th scope=col>industry</th><th scope=col>SOE</th><th scope=col>tfp</th><th scope=col>target_c</th><th scope=col>FE_c_i</th><th scope=col>FE_t_i</th><th scope=col>FE_t_c</th><th scope=col>FE_c_i_o</th><th scope=col>FE_t_o</th></tr>\n",
       "\t<tr><th></th><th scope=col>&lt;fct&gt;</th><th scope=col>&lt;int&gt;</th><th scope=col>&lt;fct&gt;</th><th scope=col>&lt;fct&gt;</th><th scope=col>&lt;fct&gt;</th><th scope=col>&lt;int&gt;</th><th scope=col>&lt;fct&gt;</th><th scope=col>&lt;int&gt;</th><th scope=col>&lt;fct&gt;</th><th scope=col>&lt;dbl&gt;</th><th scope=col>&lt;dbl&gt;</th><th scope=col>&lt;fct&gt;</th><th scope=col>&lt;fct&gt;</th><th scope=col>&lt;fct&gt;</th><th scope=col>&lt;fct&gt;</th><th scope=col>&lt;fct&gt;</th></tr>\n",
       "</thead>\n",
       "<tbody>\n",
       "\t<tr><th scope=row>1</th><td>After</td><td>2006</td><td>False</td><td>No_TCZ</td><td>Baoji</td><td>6103</td><td>Above</td><td>1331</td><td>PRIVATE</td><td>4.336147</td><td>0.1608424</td><td>0</td><td>0</td><td>0</td><td>0</td><td>0</td></tr>\n",
       "\t<tr><th scope=row>2</th><td>After</td><td>2006</td><td>False</td><td>No_TCZ</td><td>Baoji</td><td>6103</td><td>Above</td><td>2221</td><td>PRIVATE</td><td>4.509104</td><td>0.1608424</td><td>1</td><td>1</td><td>0</td><td>1</td><td>0</td></tr>\n",
       "\t<tr><th scope=row>3</th><td>After</td><td>2006</td><td>False</td><td>No_TCZ</td><td>Baoji</td><td>6103</td><td>Above</td><td>2520</td><td>PRIVATE</td><td>6.411337</td><td>0.1608424</td><td>2</td><td>2</td><td>0</td><td>2</td><td>0</td></tr>\n",
       "\t<tr><th scope=row>4</th><td>After</td><td>2006</td><td>False</td><td>No_TCZ</td><td>Baoji</td><td>6103</td><td>Above</td><td>2621</td><td>SOE    </td><td>3.922854</td><td>0.1608424</td><td>3</td><td>3</td><td>0</td><td>3</td><td>1</td></tr>\n",
       "\t<tr><th scope=row>5</th><td>After</td><td>2006</td><td>False</td><td>No_TCZ</td><td>Baoji</td><td>6103</td><td>Above</td><td>2720</td><td>PRIVATE</td><td>4.595932</td><td>0.1608424</td><td>4</td><td>4</td><td>0</td><td>4</td><td>0</td></tr>\n",
       "\t<tr><th scope=row>6</th><td>After</td><td>2006</td><td>False</td><td>No_TCZ</td><td>Baoji</td><td>6103</td><td>Above</td><td>2730</td><td>PRIVATE</td><td>2.150654</td><td>0.1608424</td><td>5</td><td>5</td><td>0</td><td>5</td><td>0</td></tr>\n",
       "</tbody>\n",
       "</table>\n"
      ],
      "text/latex": [
       "A data.frame: 6 × 16\n",
       "\\begin{tabular}{r|llllllllllllllll}\n",
       "  & Period & year & Coastal & TCZ\\_c & cityen & geocode4\\_corr & polluted\\_thre & industry & SOE & tfp & target\\_c & FE\\_c\\_i & FE\\_t\\_i & FE\\_t\\_c & FE\\_c\\_i\\_o & FE\\_t\\_o\\\\\n",
       "  & <fct> & <int> & <fct> & <fct> & <fct> & <int> & <fct> & <int> & <fct> & <dbl> & <dbl> & <fct> & <fct> & <fct> & <fct> & <fct>\\\\\n",
       "\\hline\n",
       "\t1 & After & 2006 & False & No\\_TCZ & Baoji & 6103 & Above & 1331 & PRIVATE & 4.336147 & 0.1608424 & 0 & 0 & 0 & 0 & 0\\\\\n",
       "\t2 & After & 2006 & False & No\\_TCZ & Baoji & 6103 & Above & 2221 & PRIVATE & 4.509104 & 0.1608424 & 1 & 1 & 0 & 1 & 0\\\\\n",
       "\t3 & After & 2006 & False & No\\_TCZ & Baoji & 6103 & Above & 2520 & PRIVATE & 6.411337 & 0.1608424 & 2 & 2 & 0 & 2 & 0\\\\\n",
       "\t4 & After & 2006 & False & No\\_TCZ & Baoji & 6103 & Above & 2621 & SOE     & 3.922854 & 0.1608424 & 3 & 3 & 0 & 3 & 1\\\\\n",
       "\t5 & After & 2006 & False & No\\_TCZ & Baoji & 6103 & Above & 2720 & PRIVATE & 4.595932 & 0.1608424 & 4 & 4 & 0 & 4 & 0\\\\\n",
       "\t6 & After & 2006 & False & No\\_TCZ & Baoji & 6103 & Above & 2730 & PRIVATE & 2.150654 & 0.1608424 & 5 & 5 & 0 & 5 & 0\\\\\n",
       "\\end{tabular}\n"
      ],
      "text/markdown": [
       "\n",
       "A data.frame: 6 × 16\n",
       "\n",
       "| <!--/--> | Period &lt;fct&gt; | year &lt;int&gt; | Coastal &lt;fct&gt; | TCZ_c &lt;fct&gt; | cityen &lt;fct&gt; | geocode4_corr &lt;int&gt; | polluted_thre &lt;fct&gt; | industry &lt;int&gt; | SOE &lt;fct&gt; | tfp &lt;dbl&gt; | target_c &lt;dbl&gt; | FE_c_i &lt;fct&gt; | FE_t_i &lt;fct&gt; | FE_t_c &lt;fct&gt; | FE_c_i_o &lt;fct&gt; | FE_t_o &lt;fct&gt; |\n",
       "|---|---|---|---|---|---|---|---|---|---|---|---|---|---|---|---|---|\n",
       "| 1 | After | 2006 | False | No_TCZ | Baoji | 6103 | Above | 1331 | PRIVATE | 4.336147 | 0.1608424 | 0 | 0 | 0 | 0 | 0 |\n",
       "| 2 | After | 2006 | False | No_TCZ | Baoji | 6103 | Above | 2221 | PRIVATE | 4.509104 | 0.1608424 | 1 | 1 | 0 | 1 | 0 |\n",
       "| 3 | After | 2006 | False | No_TCZ | Baoji | 6103 | Above | 2520 | PRIVATE | 6.411337 | 0.1608424 | 2 | 2 | 0 | 2 | 0 |\n",
       "| 4 | After | 2006 | False | No_TCZ | Baoji | 6103 | Above | 2621 | SOE     | 3.922854 | 0.1608424 | 3 | 3 | 0 | 3 | 1 |\n",
       "| 5 | After | 2006 | False | No_TCZ | Baoji | 6103 | Above | 2720 | PRIVATE | 4.595932 | 0.1608424 | 4 | 4 | 0 | 4 | 0 |\n",
       "| 6 | After | 2006 | False | No_TCZ | Baoji | 6103 | Above | 2730 | PRIVATE | 2.150654 | 0.1608424 | 5 | 5 | 0 | 5 | 0 |\n",
       "\n"
      ],
      "text/plain": [
       "  Period year Coastal TCZ_c  cityen geocode4_corr polluted_thre industry\n",
       "1 After  2006 False   No_TCZ Baoji  6103          Above         1331    \n",
       "2 After  2006 False   No_TCZ Baoji  6103          Above         2221    \n",
       "3 After  2006 False   No_TCZ Baoji  6103          Above         2520    \n",
       "4 After  2006 False   No_TCZ Baoji  6103          Above         2621    \n",
       "5 After  2006 False   No_TCZ Baoji  6103          Above         2720    \n",
       "6 After  2006 False   No_TCZ Baoji  6103          Above         2730    \n",
       "  SOE     tfp      target_c  FE_c_i FE_t_i FE_t_c FE_c_i_o FE_t_o\n",
       "1 PRIVATE 4.336147 0.1608424 0      0      0      0        0     \n",
       "2 PRIVATE 4.509104 0.1608424 1      1      0      1        0     \n",
       "3 PRIVATE 6.411337 0.1608424 2      2      0      2        0     \n",
       "4 SOE     3.922854 0.1608424 3      3      0      3        1     \n",
       "5 PRIVATE 4.595932 0.1608424 4      4      0      4        0     \n",
       "6 PRIVATE 2.150654 0.1608424 5      5      0      5        0     "
      ]
     },
     "metadata": {},
     "output_type": "display_data"
    }
   ],
   "source": [
    "library(tidyverse)\n",
    "library(lfe)\n",
    "\n",
    "df_final <-  read.csv(\"temp.csv\") %>% \n",
    "    mutate_if(is.character, as.factor) %>%\n",
    "    mutate_at(vars(starts_with(\"FE\")), as.factor) %>%\n",
    "    mutate(\n",
    "         Period = relevel(Period, ref='Before'),\n",
    "         TCZ_c = relevel(TCZ_c, ref='No_TCZ'),\n",
    "         #effort_c = relevel(effort_c, ref='Below'),\n",
    "         #polluted_di = relevel(polluted_di, ref='Below'),\n",
    "         #polluted_mi = relevel(polluted_mi, ref='Below'),\n",
    "         polluted_thre = relevel(polluted_thre, ref='Below'),\n",
    "  )\n",
    "head(df_final)"
   ]
  },
  {
   "cell_type": "code",
   "execution_count": 104,
   "metadata": {
    "kernel": "R"
   },
   "outputs": [
    {
     "name": "stderr",
     "output_type": "stream",
     "text": [
      "Warning message in chol.default(mat, pivot = TRUE, tol = tol):\n",
      "“the matrix is either rank-deficient or indefinite”\n",
      "Warning message in chol.default(mat, pivot = TRUE, tol = tol):\n",
      "“the matrix is either rank-deficient or indefinite”\n"
     ]
    },
    {
     "data": {
      "text/plain": [
       "\n",
       "Call:\n",
       "   felm(formula = tfp ~ target_c * polluted_thre * Period | FE_c_i_o +      FE_t_o + FE_t_c + FE_t_i + FE_c_i | 0 | industry, data = df_final,      exactDOF = TRUE) \n",
       "\n",
       "Residuals:\n",
       "    Min      1Q  Median      3Q     Max \n",
       "-5.4063 -0.1568  0.0000  0.1682  4.5672 \n",
       "\n",
       "Coefficients:\n",
       "                                        Estimate Cluster s.e. t value Pr(>|t|)\n",
       "target_c                                      NA      0.00000      NA       NA\n",
       "polluted_threAbove                            NA      0.00000      NA       NA\n",
       "PeriodAfter                                   NA      0.00000      NA       NA\n",
       "target_c:polluted_threAbove                   NA      0.00000      NA       NA\n",
       "target_c:PeriodAfter                          NA      0.00000      NA       NA\n",
       "polluted_threAbove:PeriodAfter                NA      0.00000      NA       NA\n",
       "target_c:polluted_threAbove:PeriodAfter -0.02736      0.05230  -0.523    0.601\n",
       "\n",
       "Residual standard error: 0.5614 on 20282 degrees of freedom\n",
       "Multiple R-squared(full model): 0.8588   Adjusted R-squared: 0.7463 \n",
       "Multiple R-squared(proj model): 1.313e-05   Adjusted R-squared: -0.7963 \n",
       "F-statistic(full model, *iid*):7.636 on 16151 and 20282 DF, p-value: < 2.2e-16 \n",
       "F-statistic(proj model): 0.03909 on 7 and 272 DF, p-value: 0.9999 \n",
       "\n"
      ]
     },
     "metadata": {},
     "output_type": "display_data"
    }
   ],
   "source": [
    "summary(felm(formula= tfp ~ \n",
    "          target_c * polluted_thre * Period \n",
    "        #+ SPZ  * polluted_thre * Period\n",
    "        #+ Coastal * polluted_thre* Period \n",
    "                  |\n",
    "             FE_c_i_o +FE_t_o+FE_t_c + FE_t_i + FE_c_i | 0 |\n",
    "             industry, data= df_final\n",
    "             ,\n",
    "             exactDOF=TRUE))"
   ]
  },
  {
   "cell_type": "code",
   "execution_count": 107,
   "metadata": {
    "kernel": "R"
   },
   "outputs": [
    {
     "name": "stderr",
     "output_type": "stream",
     "text": [
      "Warning message in chol.default(mat, pivot = TRUE, tol = tol):\n",
      "“the matrix is either rank-deficient or indefinite”\n",
      "Warning message in chol.default(mat, pivot = TRUE, tol = tol):\n",
      "“the matrix is either rank-deficient or indefinite”\n"
     ]
    },
    {
     "data": {
      "text/plain": [
       "\n",
       "Call:\n",
       "   felm(formula = tfp ~ target_c * polluted_thre * Period | FE_t_c +      FE_t_i + FE_c_i | 0 | industry, data = df_final %>% filter(TCZ_c ==      \"TCZ\"), exactDOF = TRUE) \n",
       "\n",
       "Residuals:\n",
       "    Min      1Q  Median      3Q     Max \n",
       "-7.0916 -0.2619  0.0000  0.2918  5.5435 \n",
       "\n",
       "Coefficients:\n",
       "                                        Estimate Cluster s.e. t value Pr(>|t|)\n",
       "target_c                                      NA      0.00000      NA       NA\n",
       "polluted_threAbove                            NA      0.00000      NA       NA\n",
       "PeriodAfter                                   NA      0.00000      NA       NA\n",
       "target_c:polluted_threAbove                   NA      0.00000      NA       NA\n",
       "target_c:PeriodAfter                          NA      0.00000      NA       NA\n",
       "polluted_threAbove:PeriodAfter                NA      0.00000      NA       NA\n",
       "target_c:polluted_threAbove:PeriodAfter -0.02375      0.05779  -0.411    0.681\n",
       "\n",
       "Residual standard error: 0.8347 on 18454 degrees of freedom\n",
       "Multiple R-squared(full model): 0.6213   Adjusted R-squared: 0.4255 \n",
       "Multiple R-squared(proj model): 4.535e-06   Adjusted R-squared: -0.5169 \n",
       "F-statistic(full model, *iid*):3.174 on 9539 and 18454 DF, p-value: < 2.2e-16 \n",
       "F-statistic(proj model): 0.02413 on 7 and 272 DF, p-value: 1 \n",
       "\n"
      ]
     },
     "metadata": {},
     "output_type": "display_data"
    }
   ],
   "source": [
    "summary(felm(formula= tfp ~ \n",
    "          target_c * polluted_thre * Period \n",
    "        #+ SPZ  * polluted_thre * Period\n",
    "        #+ Coastal * polluted_thre* Period \n",
    "                  |\n",
    "             FE_t_c + FE_t_i + FE_c_i | 0 |\n",
    "             industry, data= df_final %>% filter(TCZ_c =='TCZ')\n",
    "             ,\n",
    "             exactDOF=TRUE))"
   ]
  },
  {
   "cell_type": "code",
   "execution_count": null,
   "metadata": {
    "kernel": "R"
   },
   "outputs": [],
   "source": []
  },
  {
   "cell_type": "code",
   "execution_count": null,
   "metadata": {
    "kernel": "python3"
   },
   "outputs": [],
   "source": [
    "%load_ext autoreload\n",
    "%autoreload 2"
   ]
  },
  {
   "cell_type": "code",
   "execution_count": null,
   "metadata": {
    "kernel": "python3"
   },
   "outputs": [],
   "source": [
    "import python_programs.Pollution.SBC_pollution as tfp"
   ]
  },
  {
   "cell_type": "code",
   "execution_count": null,
   "metadata": {
    "kernel": "python3"
   },
   "outputs": [],
   "source": [
    "df_final = tfp.metafunctionTFP(df_original=df_asif_firm_china9807,\n",
    "                               SBC_pollution_China= df_temp,\n",
    "                               df_TCZ_list_china=df_TCZ_list_china,\n",
    "                               df_TFP_asif_china='',\n",
    "                               df_China_cities_target_so2=df_China_cities_target_so2,\n",
    "                               df_CIC_4_digit_average_SO2=df_CIC_4_digit_average_SO2,\n",
    "                               #order_columns=order_columns,\n",
    "                               industry_agg='cic',\n",
    "                               agg_t_c_i_o=False,\n",
    "                               panel = False,\n",
    "                               bounce=False)"
   ]
  },
  {
   "cell_type": "code",
   "execution_count": null,
   "metadata": {
    "kernel": "python3"
   },
   "outputs": [],
   "source": [
    "df_final.shape"
   ]
  },
  {
   "cell_type": "code",
   "execution_count": null,
   "metadata": {
    "kernel": "python3"
   },
   "outputs": [],
   "source": [
    "(df_asif_firm_china9807\n",
    " .groupby([ 'year', 'SOE'])['SOE']\n",
    " .count()\n",
    " .unstack()\n",
    " #.plot(kind='bar',stacked=True)\n",
    ")\n",
    "\n",
    "pd.concat([\n",
    "    (df_asif_firm_china9807\n",
    " .groupby(['year', 'SOE'])['SOE']\n",
    " .count()\n",
    " .unstack(-1)\n",
    " .rename(columns={'PRIVATE': 'PRIVATE_Raw',\n",
    "                     'SOE': \"SOE_Raw\"})\n",
    " ),\n",
    "(df_final\n",
    " .assign(year = lambda x:x['year'].astype('int'))\n",
    " .groupby(['year', 'SOE'])['SOE']\n",
    " .count()\n",
    " .unstack(-1))\n",
    ".rename(columns={'PRIVATE': 'PRIVATE_New',\n",
    "                     'SOE': \"SOE_New\"})], axis= 1\n",
    " ).dropna().reindex(columns = ['SOE_Raw', \n",
    "                     'SOE_New',\n",
    "                     'PRIVATE_Raw',\n",
    "                     'PRIVATE_New']).plot(title = 'median')"
   ]
  },
  {
   "cell_type": "code",
   "execution_count": null,
   "metadata": {
    "kernel": "python3"
   },
   "outputs": [],
   "source": [
    "pd.concat([\n",
    "    (df_asif_firm_china9807\n",
    " .groupby(['year', 'SOE'])['output']\n",
    " .median()\n",
    " .unstack(-1)\n",
    " .rename(columns={'PRIVATE': 'PRIVATE_Raw',\n",
    "                     'SOE': \"SOE_Raw\"})\n",
    " ),\n",
    "(df_final\n",
    " .assign(year = lambda x:x['year'].astype('int'))\n",
    " .groupby(['year', 'SOE'])['output_fcit']\n",
    " .median()\n",
    " .unstack(-1))\n",
    ".rename(columns={'PRIVATE': 'PRIVATE_New',\n",
    "                     'SOE': \"SOE_New\"})], axis= 1\n",
    " ).dropna().reindex(columns = ['SOE_Raw', \n",
    "                     'SOE_New',\n",
    "                     'PRIVATE_Raw',\n",
    "                     'PRIVATE_New']).plot(title = 'median')"
   ]
  },
  {
   "cell_type": "markdown",
   "metadata": {
    "kernel": "python3"
   },
   "source": [
    "### Test "
   ]
  },
  {
   "cell_type": "code",
   "execution_count": null,
   "metadata": {
    "kernel": "python3"
   },
   "outputs": [],
   "source": [
    "output_ = df_final['output_fcit'].quantile([.05, .98])\n",
    "input_ = df_final['input'].quantile([.05, .98])\n",
    "#va_ = df_final['va'].quantile([.05, .98])\n",
    "fa_net_ = df_final['capital_fcit'].quantile([.05, .98])\n",
    "employment_ = df_final['labour_fcit'].quantile([.05, .98])\n",
    "\n",
    "### Bottom\n",
    "outliers = False\n",
    "if outliers:\n",
    "    for n in [output_, input_, fa_net_, employment_]:\n",
    "        name  = n.name\n",
    "        df_final = df_final.loc[ lambda x:\n",
    "        df_final[name] > n.iloc[0]\n",
    "                ]\n",
    "### Top\n",
    "    for n in [output_, input_, va_, fa_net_\n",
    "         ]:\n",
    "        name  = x.name\n",
    "        df_final = df_final.loc[ lambda x:\n",
    "        x[name] < n.iloc[1]\n",
    "                ]\n",
    "\n",
    "df_final[\"id_\"] = pd.factorize(df_final[\"id\"])[0]\n",
    "\n",
    "df_final.to_csv(\n",
    "\t'temp.gz',\n",
    "\tsep=',',\n",
    "\theader=True,\n",
    "\tindex=False,\n",
    "\tchunksize=100000,\n",
    "\tcompression='gzip',\n",
    "\tencoding='utf-8')\n",
    "\n",
    "df_final.shape"
   ]
  },
  {
   "cell_type": "code",
   "execution_count": null,
   "metadata": {
    "kernel": "python3"
   },
   "outputs": [],
   "source": [
    "df_final.describe()"
   ]
  },
  {
   "cell_type": "code",
   "execution_count": null,
   "metadata": {
    "kernel": "R"
   },
   "outputs": [],
   "source": [
    "library(prodest)\n",
    "df <- read.csv(\"temp.gz\") %>% arrange(id_, year)\n",
    "head(df)"
   ]
  },
  {
   "cell_type": "code",
   "execution_count": null,
   "metadata": {
    "kernel": "R"
   },
   "outputs": [],
   "source": [
    "dim(df)"
   ]
  },
  {
   "cell_type": "code",
   "execution_count": null,
   "metadata": {
    "kernel": "R"
   },
   "outputs": [],
   "source": [
    "LP.fit <- prodestLP(Y = log(df$output_fcit),\n",
    "                    fX = log(df$labour_fcit),\n",
    "                    sX= log(df$capital_fcit),\n",
    "                    pX = log(df$input),\n",
    "                    idvar = df$id_,\n",
    "                    timevar = df$year)\n",
    "#prodestOP"
   ]
  },
  {
   "cell_type": "code",
   "execution_count": null,
   "metadata": {
    "kernel": "R"
   },
   "outputs": [],
   "source": [
    "OP.fit <- prodestOP(Y = log(df$output_fcit),\n",
    "                    fX = log(df$labour_fcit),\n",
    "                    sX= log(df$capital_fcit),\n",
    "                    pX = log(df$input),\n",
    "                    idvar = df$id_,\n",
    "                    timevar = df$year,\n",
    "                   exit = TRUE)"
   ]
  },
  {
   "cell_type": "code",
   "execution_count": null,
   "metadata": {
    "kernel": "R"
   },
   "outputs": [],
   "source": [
    "summary(LP.fit)"
   ]
  },
  {
   "cell_type": "code",
   "execution_count": null,
   "metadata": {
    "kernel": "R"
   },
   "outputs": [],
   "source": [
    "summary(OP.fit)"
   ]
  },
  {
   "cell_type": "code",
   "execution_count": null,
   "metadata": {
    "kernel": "R"
   },
   "outputs": [],
   "source": [
    "df$tfp_LP <- log(df$output_fcit) - (log(df$labour_fcit) * LP.fit@Estimates$pars[1] +\n",
    "       log(df$capital_fcit) * LP.fit@Estimates$pars[2])"
   ]
  },
  {
   "cell_type": "code",
   "execution_count": null,
   "metadata": {
    "kernel": "R"
   },
   "outputs": [],
   "source": [
    "df$tfp_OP <- log(df$output_fcit) - (log(df$labour_fcit) * OP.fit@Estimates$pars[1] +\n",
    "       log(df$capital_fcit) * OP.fit@Estimates$pars[2])"
   ]
  },
  {
   "cell_type": "code",
   "execution_count": null,
   "metadata": {
    "kernel": "R"
   },
   "outputs": [],
   "source": [
    "df %>% group_by(year, SOE) %>% summarize(mean_tfpLP = mean(tfp_LP), \n",
    "                                        mean_tfpOP = mean(tfp_OP)\n",
    "                                        )"
   ]
  },
  {
   "cell_type": "code",
   "execution_count": null,
   "metadata": {
    "kernel": "R"
   },
   "outputs": [],
   "source": [
    "write.csv(df, \"TFP_computed_ASIF_china.csv\", row.names=FALSE)"
   ]
  },
  {
   "cell_type": "markdown",
   "metadata": {
    "kernel": "R"
   },
   "source": [
    "### Summary check Python"
   ]
  },
  {
   "cell_type": "markdown",
   "metadata": {
    "kernel": "python3"
   },
   "source": [
    "### Make Panel\n",
    "\n",
    "First, send the TFP for all observation in GCS"
   ]
  },
  {
   "cell_type": "code",
   "execution_count": null,
   "metadata": {
    "kernel": "python3"
   },
   "outputs": [],
   "source": [
    "### First save locally\n",
    "### Then upload to GCS\n",
    "bucket_name = 'chinese_data'\n",
    "destination_blob_name = 'paper_project'\n",
    "source_file_name = 'TFP_computed_ASIF_china.csv'\n",
    "gcp.upload_blob(bucket_name, destination_blob_name, source_file_name)"
   ]
  },
  {
   "cell_type": "code",
   "execution_count": null,
   "metadata": {
    "kernel": "python3"
   },
   "outputs": [],
   "source": [
    "import pandas as pd\n",
    "df_ = pd.read_csv(\"TFP_computed_ASIF_china.csv\")\n",
    "df_final = (df_\n",
    "                   .groupby(['year', 'cityen', 'industry', 'SOE'])['cityen']\n",
    "                   .count()\n",
    "                   .unstack(0)\n",
    "                   .dropna(axis=0)\n",
    "                   .reset_index('SOE')\n",
    "                   .groupby(level=[0, 1])['SOE']\n",
    "                   .count()\n",
    "                   .loc[lambda x: x == 2]\n",
    "                   .reset_index()\n",
    "                   .rename(columns={'SOE': 'count'})\n",
    "                   ).merge(df_)\n",
    "df_final.shape"
   ]
  },
  {
   "cell_type": "markdown",
   "metadata": {
    "kernel": "python3"
   },
   "source": [
    "# Archive"
   ]
  },
  {
   "cell_type": "code",
   "execution_count": null,
   "metadata": {
    "kernel": "python3"
   },
   "outputs": [],
   "source": [
    "df_ = pd.read_csv(\"TFP_computed_ASIF_china.csv\")\n",
    "print(df_.shape)\n",
    "keep = True\n",
    "while keep:\n",
    "    for i in ['FE_c_i', 'FE_t_i', 'FE_t_c']:\n",
    "        # test\n",
    "        try:\n",
    "            test = (df_.groupby([i])[i]\n",
    "                .count()\n",
    "                .reset_index(name='count')\n",
    "                .groupby(['count'])['count']\n",
    "                .count()\n",
    "                .loc[1]\n",
    "                )\n",
    "            keep = True\n",
    "        except:\n",
    "            keep = False\n",
    "        \n",
    "        df_ = (df_.groupby([i])[i]\n",
    "               .count()\n",
    "               .reset_index(name='count')\n",
    "               .merge(df_)\n",
    "               .loc[lambda x: ~x['count'].isin([1])]\n",
    "               .drop(columns='count')\n",
    "               )\n",
    "df_.shape"
   ]
  },
  {
   "cell_type": "code",
   "execution_count": null,
   "metadata": {
    "kernel": "python3"
   },
   "outputs": [],
   "source": [
    "for i in ['FE_c_i', 'FE_t_i', 'FE_t_c']:\n",
    "    test = (df_.groupby([i])[i]\n",
    "            .count()\n",
    "            .reset_index(name='count')\n",
    "            .groupby(['count'])['count']\n",
    "            .count()\n",
    "            )\n",
    "    print(test)"
   ]
  },
  {
   "cell_type": "code",
   "execution_count": null,
   "metadata": {
    "kernel": "python3"
   },
   "outputs": [],
   "source": [
    "(df_.groupby(['id'])['id']\n",
    " .count()\n",
    " .reset_index(name = 'count')\n",
    " .groupby('count')['count']\n",
    " .count()\n",
    ")"
   ]
  },
  {
   "cell_type": "code",
   "execution_count": null,
   "metadata": {
    "kernel": "python3"
   },
   "outputs": [],
   "source": [
    "(df_.groupby(['id', 'SOE'])['id']\n",
    " .count()\n",
    " .reset_index(name = 'count')\n",
    " .groupby(['SOE','count'])['count']\n",
    " .count()\n",
    " .unstack(0)\n",
    ")"
   ]
  },
  {
   "cell_type": "code",
   "execution_count": null,
   "metadata": {
    "kernel": "python3"
   },
   "outputs": [],
   "source": [
    "df_[\"FE_i_tcz\"] = (pd.factorize(df_[\"polluted_thre\"] +\n",
    "                                      df_['TCZ_c'])[0]) +1\n",
    "\n",
    "(df_.groupby([\"FE_i_tcz\"])[\"FE_i_tcz\"]\n",
    "            .count()\n",
    "            .reset_index(name='count')\n",
    "            #.groupby(['count'])['count']\n",
    "            #.count()\n",
    "            )"
   ]
  },
  {
   "cell_type": "code",
   "execution_count": null,
   "metadata": {
    "kernel": "python3"
   },
   "outputs": [],
   "source": [
    "(df_.groupby([\"FE_i_tcz\", 'cityen'])[\"FE_i_tcz\"]\n",
    "            .count()\n",
    "            .reset_index(name='count')\n",
    "            .sort_values(by = 'count')\n",
    "            #.groupby(['count'])['count']\n",
    "            #.count()\n",
    "            )"
   ]
  },
  {
   "cell_type": "code",
   "execution_count": null,
   "metadata": {
    "kernel": "python3"
   },
   "outputs": [],
   "source": [
    "df_.groupby(\"cityen\")['FE_i_tcz'].nunique().loc[lambda x : x == 1]"
   ]
  },
  {
   "cell_type": "code",
   "execution_count": null,
   "metadata": {
    "kernel": "python3"
   },
   "outputs": [],
   "source": [
    "df_test = df_.loc[lambda x: ~x['cityen'].isin(['Fangchenggang',\n",
    "                                     'Liupanshui',\n",
    "                                     'Tongchuan',\n",
    "                                     'Yingtan'])]"
   ]
  },
  {
   "cell_type": "code",
   "execution_count": null,
   "metadata": {
    "kernel": "python3"
   },
   "outputs": [],
   "source": [
    "df_test.to_csv(\"test.csv\", index = False)"
   ]
  },
  {
   "cell_type": "markdown",
   "metadata": {
    "kernel": "R"
   },
   "source": [
    "### Temporary test"
   ]
  },
  {
   "cell_type": "code",
   "execution_count": null,
   "metadata": {
    "kernel": "python3"
   },
   "outputs": [],
   "source": [
    "### Please go here https://docs.google.com/spreadsheets/d/15bMeS2cMfGfYJkjuY6wOMzcAUWZNRGpO03hZ8rpgv0Q\n",
    "### To change the range\n",
    "\n",
    "sheetid = '15bMeS2cMfGfYJkjuY6wOMzcAUWZNRGpO03hZ8rpgv0Q'\n",
    "sheetname = 'All_cities'\n",
    "\n",
    "df_TCZ_list_china = gdr.upload_data_from_spreadsheet(sheetID = sheetid,\n",
    "sheetName = sheetname,\n",
    "\t to_dataframe = True).to_csv('df_TCZ_list_china.csv', index = False)"
   ]
  },
  {
   "cell_type": "code",
   "execution_count": null,
   "metadata": {
    "kernel": "R"
   },
   "outputs": [],
   "source": [
    "library(tidyverse)\n",
    "library(lfe)\n",
    "\n",
    "df_TCZ_list_china = read_csv('df_TCZ_list_china.csv') %>% \n",
    "select(-c(TCZ, Province))\n",
    "\n",
    "df_final <-  read.csv(\"test.csv\") %>% \n",
    "    mutate_if(is.character, as.factor) %>%\n",
    "    mutate_at(vars(starts_with(\"FE\")), as.factor) %>%\n",
    "    mutate(\n",
    "         Period = relevel(Period, ref='Before'),\n",
    "         TCZ_c = relevel(TCZ_c, ref='No_TCZ'),\n",
    "         effort_c = relevel(effort_c, ref='Below'),\n",
    "         #polluted_di = relevel(polluted_di, ref='Below'),\n",
    "         #polluted_mi = relevel(polluted_mi, ref='Below'),\n",
    "         polluted_thre = relevel(polluted_thre, ref='Below'),\n",
    "  ) %>% left_join(df_TCZ_list_china)\n",
    "head(df_final)"
   ]
  },
  {
   "cell_type": "code",
   "execution_count": null,
   "metadata": {
    "kernel": "R"
   },
   "outputs": [],
   "source": [
    "t1 = felm(formula= tfp_OP ~ TCZ_c * polluted_thre * Period\n",
    "                  |\n",
    "          FE_c_i + FE_t_i + FE_t_c\n",
    "          | 0 |\n",
    "             cityen, data= df_final,\n",
    "             exactDOF=TRUE)\n",
    "summary(t1)"
   ]
  },
  {
   "cell_type": "code",
   "execution_count": null,
   "metadata": {
    "kernel": "R"
   },
   "outputs": [],
   "source": [
    "summary(felm(formula= tfp_OP ~ \n",
    "          TCZ_c * polluted_thre * Period \n",
    "        #+ SPZ  * polluted_thre * Period\n",
    "        #+ Coastal * polluted_thre* Period \n",
    "                  |\n",
    "             FE_t_c + FE_t_i + FE_c_i | 0 |\n",
    "             cityen, data= df_final %>% filter(SOE == \"SOE\")\n",
    "             ,\n",
    "             exactDOF=TRUE))"
   ]
  },
  {
   "cell_type": "code",
   "execution_count": null,
   "metadata": {
    "kernel": "R"
   },
   "outputs": [],
   "source": [
    "summary(felm(formula= tfp_OP ~ \n",
    "          TCZ_c * polluted_thre * Period \n",
    "        #+ SPZ  * polluted_thre * Period\n",
    "        #+ Coastal * polluted_thre* Period \n",
    "                  |\n",
    "             FE_t_c + FE_t_i + FE_c_i | 0 |\n",
    "             cityen, data= df_final %>% filter(SOE != \"SOE\")\n",
    "             ,\n",
    "             exactDOF=TRUE))"
   ]
  },
  {
   "cell_type": "code",
   "execution_count": null,
   "metadata": {
    "kernel": "R"
   },
   "outputs": [],
   "source": [
    "summary(felm(formula= tfp_OP ~ \n",
    "          #TCZ_c * polluted_thre * Period \n",
    "            SPZ  * polluted_thre * Period\n",
    "        #+ Coastal * polluted_thre* Period \n",
    "                  |\n",
    "             FE_t_c + FE_t_i + FE_c_i | 0 |\n",
    "             cityen, data= df_final %>% filter(SOE == \"SOE\")\n",
    "             ,\n",
    "             exactDOF=TRUE))"
   ]
  },
  {
   "cell_type": "code",
   "execution_count": null,
   "metadata": {
    "kernel": "R"
   },
   "outputs": [],
   "source": [
    "summary(felm(formula= tfp_OP ~ \n",
    "          #TCZ_c * polluted_thre * Period \n",
    "            SPZ  * polluted_thre * Period\n",
    "        #+ Coastal * polluted_thre* Period \n",
    "                  |\n",
    "             FE_t_c + FE_t_i + FE_c_i | 0 |\n",
    "             cityen, data= df_final %>% filter(SOE != \"SOE\")\n",
    "             ,\n",
    "             exactDOF=TRUE))"
   ]
  },
  {
   "cell_type": "code",
   "execution_count": null,
   "metadata": {
    "kernel": "R"
   },
   "outputs": [],
   "source": [
    "summary(felm(formula= tfp_OP ~ \n",
    "          #TCZ_c * polluted_thre * Period \n",
    "            #SPZ  * polluted_thre * Period\n",
    "            Coastal * polluted_thre* Period \n",
    "                  |\n",
    "             FE_t_c + FE_t_i + FE_c_i | 0 |\n",
    "             cityen, data= df_final %>% filter(SOE == \"SOE\")\n",
    "             ,\n",
    "             exactDOF=TRUE))"
   ]
  },
  {
   "cell_type": "code",
   "execution_count": null,
   "metadata": {
    "kernel": "R"
   },
   "outputs": [],
   "source": [
    "summary(felm(formula= tfp_OP ~ \n",
    "          #TCZ_c * polluted_thre * Period \n",
    "            #SPZ  * polluted_thre * Period\n",
    "            Coastal * polluted_thre* Period \n",
    "                  |\n",
    "             FE_t_c + FE_t_i + FE_c_i | 0 |\n",
    "             cityen, data= df_final %>% filter(SOE != \"SOE\")\n",
    "             ,\n",
    "             exactDOF=TRUE))"
   ]
  },
  {
   "cell_type": "code",
   "execution_count": null,
   "metadata": {
    "kernel": "R"
   },
   "outputs": [],
   "source": [
    "summary(felm(formula= tfp_OP ~ \n",
    "            TCZ_c * polluted_thre * Period +\n",
    "            SPZ  * polluted_thre * Period +\n",
    "            Coastal * polluted_thre* Period \n",
    "                  |\n",
    "             FE_t_c + FE_t_i + FE_c_i | 0 |\n",
    "             cityen, data= df_final %>% filter(SOE == \"SOE\")\n",
    "             ,\n",
    "             exactDOF=TRUE))"
   ]
  },
  {
   "cell_type": "code",
   "execution_count": null,
   "metadata": {
    "kernel": "R"
   },
   "outputs": [],
   "source": [
    "summary(felm(formula= tfp_OP ~ \n",
    "            TCZ_c * polluted_thre * Period +\n",
    "            SPZ  * polluted_thre * Period +\n",
    "            Coastal * polluted_thre* Period \n",
    "                  |\n",
    "             FE_t_c + FE_t_i + FE_c_i | 0 |\n",
    "             cityen, data= df_final %>% filter(SOE != \"SOE\")\n",
    "             ,\n",
    "             exactDOF=TRUE))"
   ]
  },
  {
   "cell_type": "code",
   "execution_count": null,
   "metadata": {
    "kernel": "python3"
   },
   "outputs": [],
   "source": [
    "df_final.describe()"
   ]
  },
  {
   "cell_type": "code",
   "execution_count": null,
   "metadata": {
    "kernel": "python3"
   },
   "outputs": [],
   "source": [
    "### First save locally\n",
    "df_final.to_csv(\n",
    "\t'SBC_TFP_china.gz',\n",
    "\tsep=',',\n",
    "\theader=True,\n",
    "\tindex=False,\n",
    "\tchunksize=100000,\n",
    "\tcompression='gzip',\n",
    "\tencoding='utf-8')"
   ]
  },
  {
   "cell_type": "markdown",
   "metadata": {
    "kernel": "SoS"
   },
   "source": [
    "# Profiling\n",
    "\n",
    "In order to get a quick summary statistic of the data, we generate an HTML file with the profiling of the dataset we've just created. \n",
    "\n",
    "The profiling will be available at this URL after you commit a push to GitHub. \n",
    "\n",
    "**You need to rename the final dataframe `df_final` in the previous section to generate the profiling.**"
   ]
  },
  {
   "cell_type": "code",
   "execution_count": null,
   "metadata": {
    "kernel": "SoS"
   },
   "outputs": [],
   "source": [
    "#### make sure the final dataframe is stored as df_final\n",
    "### Overide the default value: \n",
    "#https://github.com/pandas-profiling/pandas-profiling/blob/master/pandas_profiling/config_default.yaml\n",
    "\n",
    "profile = pandas_profiling.ProfileReport(df_final,\n",
    "                                        check_correlation_pearson = False)\n",
    "name_html = \"NAME.html\"\n",
    "profile.to_file(output_file=name_html)"
   ]
  },
  {
   "cell_type": "markdown",
   "metadata": {
    "kernel": "SoS"
   },
   "source": [
    "# Upload to cloud\n",
    "\n",
    "The dataset is ready to be shared with your colleagues. \n",
    "\n"
   ]
  },
  {
   "cell_type": "markdown",
   "metadata": {
    "kernel": "SoS"
   },
   "source": [
    "\n",
    "\n",
    "### Move to GCS and BigQuery\n",
    "\n",
    "We move the dataset to the following:\n",
    "\n",
    "- **bucket**: *NEED TO DEFINE*\n",
    "\n",
    "- **Destination_blob**: *XXXXX/Processed_*\n",
    "- **name**:  *SBC_TFP_china.gz*\n",
    "- **Dataset**: *China*\n",
    "\n",
    "- **table**: *SBC_TFP_china*\n",
    "\n",
    "### GCS\n",
    "\n",
    "We first need to save *SBC_TFP_china* with `.gz` extension locally then we can move it\n",
    "to GCS\n"
   ]
  },
  {
   "cell_type": "markdown",
   "metadata": {
    "kernel": "SoS"
   },
   "source": [
    "### Delete previous dataset"
   ]
  },
  {
   "cell_type": "code",
   "execution_count": null,
   "metadata": {
    "kernel": "python3"
   },
   "outputs": [],
   "source": [
    "bucket_name = 'chinese_data'\n",
    "destination_blob_name = 'paper_project/SBC_TFP_china.gz'\n",
    "\n",
    "gcp.delete_blob(bucket_name = bucket_name,\n",
    "                destination_blob_name= destination_blob_name)\n",
    "gcp.delete_table(dataset_name = 'China', name_table = 'SBC_TFP_china')"
   ]
  },
  {
   "cell_type": "code",
   "execution_count": null,
   "metadata": {
    "kernel": "python3"
   },
   "outputs": [],
   "source": [
    "\n",
    "### First save locally\n",
    "df_final.to_csv(\n",
    "\t'SBC_TFP_china.gz',\n",
    "\tsep=',',\n",
    "\theader=True,\n",
    "\tindex=False,\n",
    "\tchunksize=100000,\n",
    "\tcompression='gzip',\n",
    "\tencoding='utf-8')\n",
    "\n",
    "### Then upload to GCS\n",
    "bucket_name = 'chinese_data'\n",
    "destination_blob_name = 'paper_project'\n",
    "source_file_name = 'SBC_TFP_china.gz'\n",
    "gcp.upload_blob(bucket_name, destination_blob_name, source_file_name)"
   ]
  },
  {
   "cell_type": "code",
   "execution_count": null,
   "metadata": {
    "kernel": "python3"
   },
   "outputs": [],
   "source": [
    "\n",
    "\n",
    "### Move to bigquery\n",
    "bucket_gcs ='chinese_data/paper_project/SBC_TFP_china.gz'\n",
    "gcp.move_to_bq_autodetect(dataset_name= 'China',\n",
    "\t\t\t\t\t\t\t name_table= 'SBC_TFP_china',\n",
    "\t\t\t\t\t\t\t bucket_gcs=bucket_gcs)\n"
   ]
  }
 ],
 "metadata": {
  "kernel_info": {
   "name": "sos"
  },
  "kernelspec": {
   "display_name": "SoS",
   "language": "sos",
   "name": "sos"
  },
  "language_info": {
   "codemirror_mode": "sos",
   "file_extension": ".sos",
   "mimetype": "text/x-sos",
   "name": "sos",
   "nbconvert_exporter": "sos_notebook.converter.SoS_Exporter",
   "pygments_lexer": "sos"
  },
  "nteract": {
   "version": "0.15.0"
  },
  "sos": {
   "kernels": [
    [
     "R",
     "ir",
     "R",
     "#DCDCDA",
     "r"
    ],
    [
     "SoS",
     "sos",
     "",
     "",
     "sos"
    ],
    [
     "python3",
     "python3",
     "python3",
     "",
     {
      "name": "ipython",
      "version": 3
     }
    ]
   ],
   "version": "0.21.7"
  }
 },
 "nbformat": 4,
 "nbformat_minor": 4
}
