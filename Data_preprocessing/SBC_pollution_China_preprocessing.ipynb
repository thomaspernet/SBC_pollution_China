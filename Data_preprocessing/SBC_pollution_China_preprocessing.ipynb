{
 "cells": [
  {
   "cell_type": "markdown",
   "metadata": {
    "Collapsed": "false",
    "kernel": "SoS",
    "toc-hr-collapsed": false
   },
   "source": [
    "# SBC_pollution_china data preprocessing\n",
    "\n",
    "This notebook has been generated on 2019-10-05 07:45 \n",
    "\n",
    "The objective of this notebook is to YYY\n",
    "\n",
    "## Proposal \n",
    "\n",
    "The proposal is available [here](https://drive.google.com/open?id=1tmSFvdUMXcL3vMKBSNYmf5xe6OEmYNnD)\n",
    "\n",
    "### Equation to estimate\n",
    "\n",
    "$$\n",
    "\\begin{aligned} \\text { SO2 emission }_{i k t}=& \\alpha T C Z_{i} \\times \\text { Polluted sectors }_{k} \\times \\text { post } \\\\ &+\\beta T C Z_{i} \\times \\text { Polluted sectors }_{k} \\times \\text { post } \\times \\text { Share SOE }_{k} \\\\ & +\\theta {X}_{i k t}+\\nu_{c i}+\\lambda_{t i} +\\phi_{t c} \\end{aligned}\n",
    "$$\n",
    "\n",
    "city-industry; time-industry and time-city\n",
    "\n",
    "## Global steps \n",
    "\n",
    "The global steps to construct the dataset are the following:\n",
    "\n",
    "\n",
    "- From BigQuery\n",
    "    - Select year 1998-2007 ASIF\n",
    "    \n",
    "- Set parameters:\n",
    "    - Choice of aggregation\n",
    "    - Keep used variables in SO2 dataset\n",
    "    - Exclude cities not operation 7 years in a row\n",
    "    \n",
    "## Data source \n",
    "\n",
    "The data source to construct the dataset are the following:"
   ]
  },
  {
   "cell_type": "markdown",
   "metadata": {
    "Collapsed": "false",
    "kernel": "SoS"
   },
   "source": [
    "\n",
    "### Big Query Dataset \n",
    " \n",
    " - asif_firm_china \n",
    " - China_city_pollution_98_2007 \n",
    " \n",
    "### Google Cloud Storage Dataset \n",
    " \n",
    "### Google Spreadsheet Dataset \n",
    " \n",
    " - [TCZ_list_china](https://docs.google.com/spreadsheets/d/15bMeS2cMfGfYJkjuY6wOMzcAUWZNRGpO03hZ8rpgv0Q) \n",
    " - [cityname_and_code](https://docs.google.com/spreadsheets/d/1fIziz-Xt99-Rj6NLm52-i6jScOLXgAY20KJi8k3DruA) \n",
    " - [provinces_location](https://docs.google.com/spreadsheets/d/1pNMYAannF0g47Vrecu9tzrQ83XaaYmnXJeSuIFwr26g)"
   ]
  },
  {
   "cell_type": "markdown",
   "metadata": {
    "Collapsed": "false",
    "kernel": "SoS"
   },
   "source": [
    "## Destination\n",
    "\n",
    "The new dataset is available from XXX\n",
    "\n",
    "- GS: None\n",
    "- GCS: SBC_pollution_china.gz\n",
    "- BG: SBC_pollution_china"
   ]
  },
  {
   "cell_type": "code",
   "execution_count": 12,
   "metadata": {
    "Collapsed": "false",
    "kernel": "python3"
   },
   "outputs": [],
   "source": [
    "from Fast_connectCloud import connector\n",
    "from GoogleDrivePy.google_drive import connect_drive\n",
    "from GoogleDrivePy.google_platform import connect_cloud_platform\n",
    "import pandas as pd \n",
    "import numpy as np\n",
    "import pandas_profiling\n",
    "import Pollution.SBC_pollution as sbc"
   ]
  },
  {
   "cell_type": "code",
   "execution_count": 13,
   "metadata": {
    "Collapsed": "false",
    "kernel": "python3"
   },
   "outputs": [
    {
     "name": "stdout",
     "output_type": "stream",
     "text": [
      "Service Google Drive and Docs, Sheet are now connected. \n",
      "Service Google Drive is stored as <googleapiclient.discovery.Resource object at 0x1a6e827e90> and accessible with \"drive\" \n",
      "Service Google Doc is stored as <googleapiclient.discovery.Resource object at 0x1a6e027f90> and accessible with \"doc\" \n",
      "Service Google Sheet is stored as <googleapiclient.discovery.Resource object at 0x1a6da82f90>and accessible with \"sheet\"\n",
      "Service account storage and Bigquery are now connected. \n",
      "Service account storage is stored as <google.cloud.storage.client.Client object at 0x1a6da74410> and accessible with \"Storage_account\" \n",
      "Service account Bigquery is stored as <google.cloud.bigquery.client.Client object at 0x1a6da74450> and accessible with \"bigquery_account\"\n"
     ]
    }
   ],
   "source": [
    "gs = connector.open_connection(online_connection = False, \n",
    "\tpath_credential = '/Users/Thomas/Google Drive/Projects/Data_science/Google_code_n_Oauth/Client_Oauth/Google_auth/')\n",
    "\n",
    "service_gd = gs.connect_remote(engine = 'GS')\n",
    "service_gcp = gs.connect_remote(engine = 'GCP')\n",
    "\n",
    "gdr = connect_drive.connect_drive(service_gd['GoogleDrive'])\n",
    "\n",
    "project = 'valid-pagoda-132423'\n",
    "gcp = connect_cloud_platform.connect_console(project = project,\n",
    "\t\t\t\t\t\t\t\t\t\t\t service_account = service_gcp['GoogleCloudP'])"
   ]
  },
  {
   "cell_type": "markdown",
   "metadata": {
    "Collapsed": "false",
    "kernel": "python3"
   },
   "source": [
    "## Load asif_firm_china from Google Big Query\n",
    "\n",
    "Data studio for this dataset available [here](https://drive.google.com/open?id=1ppXfCw73EGVmUQdcM5MI_S9RbtjunhQ_)\n",
    "\n",
    "Feel free to add description about the dataset or any usefull information.\n",
    "\n",
    "### Format Data:\n",
    "\n",
    "- Output: in trillions RMB\n",
    "- Employement: in trillions RMB\n",
    "- Fixed Asset: in millions of workers.\n",
    "\n",
    "### Preprocess original data\n",
    "\n",
    "- Rescale output; employment and capital\n",
    "- Remove firms with zeroes values\n",
    "- Aggregate by CIC 2 digits\n",
    "- Keep year 2002-2008"
   ]
  },
  {
   "cell_type": "code",
   "execution_count": 14,
   "metadata": {
    "Collapsed": "false",
    "kernel": "python3"
   },
   "outputs": [
    {
     "data": {
      "text/html": [
       "<div>\n",
       "<style scoped>\n",
       "    .dataframe tbody tr th:only-of-type {\n",
       "        vertical-align: middle;\n",
       "    }\n",
       "\n",
       "    .dataframe tbody tr th {\n",
       "        vertical-align: top;\n",
       "    }\n",
       "\n",
       "    .dataframe thead th {\n",
       "        text-align: right;\n",
       "    }\n",
       "</style>\n",
       "<table border=\"1\" class=\"dataframe\">\n",
       "  <thead>\n",
       "    <tr style=\"text-align: right;\">\n",
       "      <th></th>\n",
       "      <th>SOE</th>\n",
       "      <th>output</th>\n",
       "      <th>fa_net</th>\n",
       "      <th>employment</th>\n",
       "      <th>input</th>\n",
       "      <th>newID</th>\n",
       "      <th>Province_en</th>\n",
       "      <th>cityen_correct</th>\n",
       "      <th>geocode4_corr</th>\n",
       "      <th>Lower_location</th>\n",
       "      <th>Larger_location</th>\n",
       "      <th>Coastal</th>\n",
       "      <th>year</th>\n",
       "      <th>cic</th>\n",
       "      <th>indu_2</th>\n",
       "      <th>Short</th>\n",
       "    </tr>\n",
       "  </thead>\n",
       "  <tbody>\n",
       "    <tr>\n",
       "      <th>0</th>\n",
       "      <td>PRIVATE</td>\n",
       "      <td>0.000832</td>\n",
       "      <td>0.000080</td>\n",
       "      <td>0.00095</td>\n",
       "      <td>0.000625</td>\n",
       "      <td>K7DDzQFZ3ckX9K2BAlZUPsZTskqbV6</td>\n",
       "      <td>Zhejiang</td>\n",
       "      <td>Táizhōu</td>\n",
       "      <td>3310</td>\n",
       "      <td>Coastal</td>\n",
       "      <td>Eastern</td>\n",
       "      <td>True</td>\n",
       "      <td>2005</td>\n",
       "      <td>3544</td>\n",
       "      <td>35</td>\n",
       "      <td>Machinery</td>\n",
       "    </tr>\n",
       "    <tr>\n",
       "      <th>1</th>\n",
       "      <td>PRIVATE</td>\n",
       "      <td>0.004580</td>\n",
       "      <td>0.001233</td>\n",
       "      <td>0.00191</td>\n",
       "      <td>0.003144</td>\n",
       "      <td>9Xwcqt4Re91yMN0LGUxQBo35OCM0BC</td>\n",
       "      <td>Zhejiang</td>\n",
       "      <td>Hangzhou</td>\n",
       "      <td>3301</td>\n",
       "      <td>Coastal</td>\n",
       "      <td>Eastern</td>\n",
       "      <td>True</td>\n",
       "      <td>2007</td>\n",
       "      <td>3583</td>\n",
       "      <td>35</td>\n",
       "      <td>Machinery</td>\n",
       "    </tr>\n",
       "    <tr>\n",
       "      <th>2</th>\n",
       "      <td>PRIVATE</td>\n",
       "      <td>0.000623</td>\n",
       "      <td>0.000128</td>\n",
       "      <td>0.00049</td>\n",
       "      <td>0.000491</td>\n",
       "      <td>6UJ0p6mffKCL31WxZqOX1WjsX2IDLJ</td>\n",
       "      <td>Zhejiang</td>\n",
       "      <td>Jiaxing</td>\n",
       "      <td>3304</td>\n",
       "      <td>Coastal</td>\n",
       "      <td>Eastern</td>\n",
       "      <td>True</td>\n",
       "      <td>2003</td>\n",
       "      <td>3551</td>\n",
       "      <td>35</td>\n",
       "      <td>Machinery</td>\n",
       "    </tr>\n",
       "    <tr>\n",
       "      <th>3</th>\n",
       "      <td>PRIVATE</td>\n",
       "      <td>0.000573</td>\n",
       "      <td>0.000004</td>\n",
       "      <td>0.00013</td>\n",
       "      <td>0.000487</td>\n",
       "      <td>6HOkbkJUs61lho1MX1DZUC7qFNuqbn</td>\n",
       "      <td>Zhejiang</td>\n",
       "      <td>Jiaxing</td>\n",
       "      <td>3304</td>\n",
       "      <td>Coastal</td>\n",
       "      <td>Eastern</td>\n",
       "      <td>True</td>\n",
       "      <td>2004</td>\n",
       "      <td>3582</td>\n",
       "      <td>35</td>\n",
       "      <td>Machinery</td>\n",
       "    </tr>\n",
       "    <tr>\n",
       "      <th>4</th>\n",
       "      <td>PRIVATE</td>\n",
       "      <td>0.002742</td>\n",
       "      <td>0.000200</td>\n",
       "      <td>0.00128</td>\n",
       "      <td>0.002171</td>\n",
       "      <td>ytwpLhe1N7k8FNbzPCbDTuEl3kYHDi</td>\n",
       "      <td>Zhejiang</td>\n",
       "      <td>Ningbo</td>\n",
       "      <td>3302</td>\n",
       "      <td>Coastal</td>\n",
       "      <td>Eastern</td>\n",
       "      <td>True</td>\n",
       "      <td>2005</td>\n",
       "      <td>3582</td>\n",
       "      <td>35</td>\n",
       "      <td>Machinery</td>\n",
       "    </tr>\n",
       "  </tbody>\n",
       "</table>\n",
       "</div>"
      ],
      "text/plain": [
       "       SOE    output    fa_net  employment     input  \\\n",
       "0  PRIVATE  0.000832  0.000080     0.00095  0.000625   \n",
       "1  PRIVATE  0.004580  0.001233     0.00191  0.003144   \n",
       "2  PRIVATE  0.000623  0.000128     0.00049  0.000491   \n",
       "3  PRIVATE  0.000573  0.000004     0.00013  0.000487   \n",
       "4  PRIVATE  0.002742  0.000200     0.00128  0.002171   \n",
       "\n",
       "                            newID Province_en cityen_correct  geocode4_corr  \\\n",
       "0  K7DDzQFZ3ckX9K2BAlZUPsZTskqbV6   Zhejiang         Táizhōu           3310   \n",
       "1  9Xwcqt4Re91yMN0LGUxQBo35OCM0BC   Zhejiang        Hangzhou           3301   \n",
       "2  6UJ0p6mffKCL31WxZqOX1WjsX2IDLJ   Zhejiang         Jiaxing           3304   \n",
       "3  6HOkbkJUs61lho1MX1DZUC7qFNuqbn   Zhejiang         Jiaxing           3304   \n",
       "4  ytwpLhe1N7k8FNbzPCbDTuEl3kYHDi   Zhejiang          Ningbo           3302   \n",
       "\n",
       "  Lower_location Larger_location  Coastal  year   cic  indu_2      Short  \n",
       "0        Coastal         Eastern     True  2005  3544      35  Machinery  \n",
       "1        Coastal         Eastern     True  2007  3583      35  Machinery  \n",
       "2        Coastal         Eastern     True  2003  3551      35  Machinery  \n",
       "3        Coastal         Eastern     True  2004  3582      35  Machinery  \n",
       "4        Coastal         Eastern     True  2005  3582      35  Machinery  "
      ]
     },
     "execution_count": 14,
     "metadata": {},
     "output_type": "execute_result"
    }
   ],
   "source": [
    "query = (\n",
    "    \"SELECT case \\\n",
    "    WHEN ownership = 'SOE' THEN 'SOE' ELSE 'PRIVATE' END AS SOE, \\\n",
    "       SUM(output/10000000) as output, \\\n",
    "       SUM(fa_net/10000000) as fa_net, \\\n",
    "       SUM(employment/100000) as employment, \\\n",
    "       SUM(input/10000000) as input, \\\n",
    "    newID,Province_en, cityen_correct, geocode4_corr, \\\n",
    "    Lower_location, Larger_location, Coastal, \\\n",
    "    year, cic,indu_2, Short \\\n",
    "FROM China.asif_firm_china \\\n",
    "WHERE year >= 2001 AND year < 2008 AND output > 0 AND fa_net > 0 \\\n",
    "    AND employment > 0 \\\n",
    "GROUP BY newID,Province_en, cityen_correct, geocode4_corr, \\\n",
    "    Lower_location, Larger_location, Coastal, \\\n",
    "    year, SOE, cic,indu_2, Short \"\n",
    ")\n",
    "\n",
    "df_asif_firm_china = gcp.upload_data_from_bigquery(query=query, location=\"US\")\n",
    "df_asif_firm_china.head()"
   ]
  },
  {
   "cell_type": "markdown",
   "metadata": {
    "Collapsed": "false",
    "kernel": "python3"
   },
   "source": [
    "## Load China_city_pollution_98_2007 from Google Big Query\n",
    "\n",
    "Feel free to add description about the dataset or any usefull information.\n"
   ]
  },
  {
   "cell_type": "code",
   "execution_count": 15,
   "metadata": {
    "Collapsed": "false",
    "kernel": "python3"
   },
   "outputs": [
    {
     "data": {
      "text/html": [
       "<div>\n",
       "<style scoped>\n",
       "    .dataframe tbody tr th:only-of-type {\n",
       "        vertical-align: middle;\n",
       "    }\n",
       "\n",
       "    .dataframe tbody tr th {\n",
       "        vertical-align: top;\n",
       "    }\n",
       "\n",
       "    .dataframe thead th {\n",
       "        text-align: right;\n",
       "    }\n",
       "</style>\n",
       "<table border=\"1\" class=\"dataframe\">\n",
       "  <thead>\n",
       "    <tr style=\"text-align: right;\">\n",
       "      <th></th>\n",
       "      <th>year</th>\n",
       "      <th>cityen</th>\n",
       "      <th>indus_code</th>\n",
       "      <th>ind2</th>\n",
       "      <th>tso2</th>\n",
       "      <th>tCOD</th>\n",
       "      <th>twaste_water</th>\n",
       "      <th>toutput</th>\n",
       "    </tr>\n",
       "  </thead>\n",
       "  <tbody>\n",
       "    <tr>\n",
       "      <th>0</th>\n",
       "      <td>2002</td>\n",
       "      <td>Shijiazhuang</td>\n",
       "      <td>3515</td>\n",
       "      <td>35</td>\n",
       "      <td>52500</td>\n",
       "      <td>66696.0</td>\n",
       "      <td>175340</td>\n",
       "      <td>44966.398</td>\n",
       "    </tr>\n",
       "    <tr>\n",
       "      <th>1</th>\n",
       "      <td>2002</td>\n",
       "      <td>Shijiazhuang</td>\n",
       "      <td>3151</td>\n",
       "      <td>31</td>\n",
       "      <td>79152</td>\n",
       "      <td>25200.0</td>\n",
       "      <td>182000</td>\n",
       "      <td>6200.000</td>\n",
       "    </tr>\n",
       "    <tr>\n",
       "      <th>2</th>\n",
       "      <td>2002</td>\n",
       "      <td>Shijiazhuang</td>\n",
       "      <td>3672</td>\n",
       "      <td>36</td>\n",
       "      <td>54600</td>\n",
       "      <td>10330.0</td>\n",
       "      <td>148000</td>\n",
       "      <td>11317.000</td>\n",
       "    </tr>\n",
       "    <tr>\n",
       "      <th>3</th>\n",
       "      <td>2002</td>\n",
       "      <td>Shijiazhuang</td>\n",
       "      <td>3121</td>\n",
       "      <td>31</td>\n",
       "      <td>490</td>\n",
       "      <td>14939.0</td>\n",
       "      <td>296992</td>\n",
       "      <td>22000.000</td>\n",
       "    </tr>\n",
       "    <tr>\n",
       "      <th>4</th>\n",
       "      <td>2002</td>\n",
       "      <td>Shijiazhuang</td>\n",
       "      <td>2520</td>\n",
       "      <td>25</td>\n",
       "      <td>1960745</td>\n",
       "      <td>476000.0</td>\n",
       "      <td>4000000</td>\n",
       "      <td>451676.000</td>\n",
       "    </tr>\n",
       "  </tbody>\n",
       "</table>\n",
       "</div>"
      ],
      "text/plain": [
       "   year        cityen  indus_code  ind2     tso2      tCOD  twaste_water  \\\n",
       "0  2002  Shijiazhuang        3515    35    52500   66696.0        175340   \n",
       "1  2002  Shijiazhuang        3151    31    79152   25200.0        182000   \n",
       "2  2002  Shijiazhuang        3672    36    54600   10330.0        148000   \n",
       "3  2002  Shijiazhuang        3121    31      490   14939.0        296992   \n",
       "4  2002  Shijiazhuang        2520    25  1960745  476000.0       4000000   \n",
       "\n",
       "      toutput  \n",
       "0   44966.398  \n",
       "1    6200.000  \n",
       "2   11317.000  \n",
       "3   22000.000  \n",
       "4  451676.000  "
      ]
     },
     "execution_count": 15,
     "metadata": {},
     "output_type": "execute_result"
    }
   ],
   "source": [
    "query = (\n",
    "    \"SELECT year,cityen, indus_code, ind2, SUM(tso2) as tso2, SUM(tCOD) as tCOD,\\\n",
    "    SUM(twaste_water) as twaste_water, SUM(ttoutput) as toutput \"\n",
    "    \"FROM China.China_city_pollution_98_2007 \"\n",
    "    \"WHERE year > 2001 AND year <= 2007 \"\n",
    "    \"GROUP BY year, cityen,indus_code, ind2\"\n",
    "    \n",
    "\n",
    ")\n",
    "\n",
    "df_China_city_pollution_98_2007 = gcp.upload_data_from_bigquery(\n",
    "    query=query, location='US')\n",
    "df_China_city_pollution_98_2007.head()"
   ]
  },
  {
   "cell_type": "markdown",
   "metadata": {
    "Collapsed": "false",
    "kernel": "python3"
   },
   "source": [
    "## Load TCZ_list_china from Google Spreadsheet\n",
    "\n",
    "Feel free to add description about the dataset or any usefull information.\n",
    "\n",
    "We use the sheet `paper` because it's the geocode we originaly used. After the dataset has been created, we changed some geocode to match the correspondance table. In order to make the replication possible, we use the geocode from the paper https://drive.google.com/file/d/1-SXSlRoS_2ZW7CK6XMhcXpJDPxAEF1xG/view\n",
    "\n",
    "Profiling will be available soon for this dataset"
   ]
  },
  {
   "cell_type": "code",
   "execution_count": 16,
   "metadata": {
    "Collapsed": "false",
    "kernel": "python3"
   },
   "outputs": [
    {
     "data": {
      "text/html": [
       "<div>\n",
       "<style scoped>\n",
       "    .dataframe tbody tr th:only-of-type {\n",
       "        vertical-align: middle;\n",
       "    }\n",
       "\n",
       "    .dataframe tbody tr th {\n",
       "        vertical-align: top;\n",
       "    }\n",
       "\n",
       "    .dataframe thead th {\n",
       "        text-align: right;\n",
       "    }\n",
       "</style>\n",
       "<table border=\"1\" class=\"dataframe\">\n",
       "  <thead>\n",
       "    <tr style=\"text-align: right;\">\n",
       "      <th></th>\n",
       "      <th>Province</th>\n",
       "      <th>City</th>\n",
       "      <th>geocode4_corr</th>\n",
       "      <th>TCZ</th>\n",
       "    </tr>\n",
       "  </thead>\n",
       "  <tbody>\n",
       "    <tr>\n",
       "      <th>1</th>\n",
       "      <td>Beijing</td>\n",
       "      <td>Beijing</td>\n",
       "      <td>1101</td>\n",
       "      <td>1</td>\n",
       "    </tr>\n",
       "    <tr>\n",
       "      <th>2</th>\n",
       "      <td>Tianjin</td>\n",
       "      <td>Tianjin</td>\n",
       "      <td>1201</td>\n",
       "      <td>1</td>\n",
       "    </tr>\n",
       "    <tr>\n",
       "      <th>3</th>\n",
       "      <td>Hebei</td>\n",
       "      <td>Shijiazhuang</td>\n",
       "      <td>1301</td>\n",
       "      <td>1</td>\n",
       "    </tr>\n",
       "    <tr>\n",
       "      <th>4</th>\n",
       "      <td>Hebei</td>\n",
       "      <td>Tangshan</td>\n",
       "      <td>1302</td>\n",
       "      <td>1</td>\n",
       "    </tr>\n",
       "    <tr>\n",
       "      <th>5</th>\n",
       "      <td>Hebei</td>\n",
       "      <td>Handan</td>\n",
       "      <td>1304</td>\n",
       "      <td>1</td>\n",
       "    </tr>\n",
       "  </tbody>\n",
       "</table>\n",
       "</div>"
      ],
      "text/plain": [
       "  Province          City geocode4_corr TCZ\n",
       "1  Beijing       Beijing          1101   1\n",
       "2  Tianjin       Tianjin          1201   1\n",
       "3    Hebei  Shijiazhuang          1301   1\n",
       "4    Hebei      Tangshan          1302   1\n",
       "5    Hebei        Handan          1304   1"
      ]
     },
     "execution_count": 16,
     "metadata": {},
     "output_type": "execute_result"
    }
   ],
   "source": [
    "### Please go here https://docs.google.com/spreadsheets/d/15bMeS2cMfGfYJkjuY6wOMzcAUWZNRGpO03hZ8rpgv0Q\n",
    "### To change the range\n",
    "\n",
    "sheetid = '15bMeS2cMfGfYJkjuY6wOMzcAUWZNRGpO03hZ8rpgv0Q'\n",
    "sheetname = 'paper'\n",
    "\n",
    "df_TCZ_list_china = gdr.upload_data_from_spreadsheet(sheetID = sheetid,\n",
    "sheetName = sheetname,\n",
    "\t to_dataframe = True)\n",
    "df_TCZ_list_china.head()"
   ]
  },
  {
   "cell_type": "markdown",
   "metadata": {
    "Collapsed": "false",
    "kernel": "python3"
   },
   "source": [
    "## Load cityname_and_code from Google Spreadsheet\n",
    "\n",
    "Feel free to add description about the dataset or any usefull information.\n",
    "\n",
    "Profiling will be available soon for this dataset"
   ]
  },
  {
   "cell_type": "code",
   "execution_count": 17,
   "metadata": {
    "Collapsed": "false",
    "kernel": "python3"
   },
   "outputs": [
    {
     "data": {
      "text/html": [
       "<div>\n",
       "<style scoped>\n",
       "    .dataframe tbody tr th:only-of-type {\n",
       "        vertical-align: middle;\n",
       "    }\n",
       "\n",
       "    .dataframe tbody tr th {\n",
       "        vertical-align: top;\n",
       "    }\n",
       "\n",
       "    .dataframe thead th {\n",
       "        text-align: right;\n",
       "    }\n",
       "</style>\n",
       "<table border=\"1\" class=\"dataframe\">\n",
       "  <thead>\n",
       "    <tr style=\"text-align: right;\">\n",
       "      <th></th>\n",
       "      <th>extra_coda</th>\n",
       "      <th>geocode4_corr</th>\n",
       "      <th>citycn</th>\n",
       "      <th>cityen</th>\n",
       "      <th>citycn_correct</th>\n",
       "      <th>cityen_correct</th>\n",
       "      <th>Province_cn</th>\n",
       "      <th>Province_en</th>\n",
       "    </tr>\n",
       "  </thead>\n",
       "  <tbody>\n",
       "    <tr>\n",
       "      <th>1</th>\n",
       "      <td>1100</td>\n",
       "      <td>1101</td>\n",
       "      <td>北京</td>\n",
       "      <td>Beijing</td>\n",
       "      <td>北京</td>\n",
       "      <td>Beijing</td>\n",
       "      <td>北京市</td>\n",
       "      <td>Beijing</td>\n",
       "    </tr>\n",
       "    <tr>\n",
       "      <th>2</th>\n",
       "      <td>1101</td>\n",
       "      <td>1101</td>\n",
       "      <td>北京</td>\n",
       "      <td>Beijing</td>\n",
       "      <td>北京</td>\n",
       "      <td>Beijing</td>\n",
       "      <td>北京市</td>\n",
       "      <td>Beijing</td>\n",
       "    </tr>\n",
       "    <tr>\n",
       "      <th>3</th>\n",
       "      <td>1102</td>\n",
       "      <td>1101</td>\n",
       "      <td>北京</td>\n",
       "      <td>Beijing</td>\n",
       "      <td>北京</td>\n",
       "      <td>Beijing</td>\n",
       "      <td>北京市</td>\n",
       "      <td>Beijing</td>\n",
       "    </tr>\n",
       "    <tr>\n",
       "      <th>4</th>\n",
       "      <td>1200</td>\n",
       "      <td>1201</td>\n",
       "      <td>天津</td>\n",
       "      <td>Tianjin</td>\n",
       "      <td>天津</td>\n",
       "      <td>Tianjin</td>\n",
       "      <td>天津市</td>\n",
       "      <td>Tianjin</td>\n",
       "    </tr>\n",
       "    <tr>\n",
       "      <th>5</th>\n",
       "      <td>1201</td>\n",
       "      <td>1201</td>\n",
       "      <td>天津</td>\n",
       "      <td>Tianjin</td>\n",
       "      <td>天津</td>\n",
       "      <td>Tianjin</td>\n",
       "      <td>天津市</td>\n",
       "      <td>Tianjin</td>\n",
       "    </tr>\n",
       "  </tbody>\n",
       "</table>\n",
       "</div>"
      ],
      "text/plain": [
       "  extra_coda geocode4_corr citycn   cityen citycn_correct cityen_correct  \\\n",
       "1       1100          1101     北京  Beijing             北京        Beijing   \n",
       "2       1101          1101     北京  Beijing             北京        Beijing   \n",
       "3       1102          1101     北京  Beijing             北京        Beijing   \n",
       "4       1200          1201     天津  Tianjin             天津        Tianjin   \n",
       "5       1201          1201     天津  Tianjin             天津        Tianjin   \n",
       "\n",
       "  Province_cn Province_en  \n",
       "1         北京市     Beijing  \n",
       "2         北京市     Beijing  \n",
       "3         北京市     Beijing  \n",
       "4         天津市     Tianjin  \n",
       "5         天津市     Tianjin  "
      ]
     },
     "execution_count": 17,
     "metadata": {},
     "output_type": "execute_result"
    }
   ],
   "source": [
    "### Please go here https://docs.google.com/spreadsheets/d/1fIziz-Xt99-Rj6NLm52-i6jScOLXgAY20KJi8k3DruA\n",
    "### To change the range\n",
    "\n",
    "sheetid = '1fIziz-Xt99-Rj6NLm52-i6jScOLXgAY20KJi8k3DruA'\n",
    "sheetname = 'final'\n",
    "\n",
    "df_cityname_and_code = gdr.upload_data_from_spreadsheet(sheetID = sheetid,\n",
    "sheetName = sheetname,\n",
    "\t to_dataframe = True)\n",
    "df_cityname_and_code.head()"
   ]
  },
  {
   "cell_type": "markdown",
   "metadata": {
    "Collapsed": "false",
    "kernel": "python3"
   },
   "source": [
    "## Load provinces_location from Google Spreadsheet\n",
    "\n",
    "Feel free to add description about the dataset or any usefull information.\n",
    "\n",
    "Profiling will be available soon for this dataset"
   ]
  },
  {
   "cell_type": "code",
   "execution_count": 18,
   "metadata": {
    "Collapsed": "false",
    "kernel": "python3"
   },
   "outputs": [
    {
     "data": {
      "text/html": [
       "<div>\n",
       "<style scoped>\n",
       "    .dataframe tbody tr th:only-of-type {\n",
       "        vertical-align: middle;\n",
       "    }\n",
       "\n",
       "    .dataframe tbody tr th {\n",
       "        vertical-align: top;\n",
       "    }\n",
       "\n",
       "    .dataframe thead th {\n",
       "        text-align: right;\n",
       "    }\n",
       "</style>\n",
       "<table border=\"1\" class=\"dataframe\">\n",
       "  <thead>\n",
       "    <tr style=\"text-align: right;\">\n",
       "      <th></th>\n",
       "      <th>prov2013</th>\n",
       "      <th>Provinces</th>\n",
       "      <th>Lower_location</th>\n",
       "      <th>Larger_location</th>\n",
       "      <th>Coastal</th>\n",
       "    </tr>\n",
       "  </thead>\n",
       "  <tbody>\n",
       "    <tr>\n",
       "      <th>1</th>\n",
       "      <td>安徽省</td>\n",
       "      <td>Anhui</td>\n",
       "      <td>Central</td>\n",
       "      <td>Central</td>\n",
       "      <td>No</td>\n",
       "    </tr>\n",
       "    <tr>\n",
       "      <th>2</th>\n",
       "      <td>河南省</td>\n",
       "      <td>Henan</td>\n",
       "      <td>Central</td>\n",
       "      <td>Central</td>\n",
       "      <td>No</td>\n",
       "    </tr>\n",
       "    <tr>\n",
       "      <th>3</th>\n",
       "      <td>湖北省</td>\n",
       "      <td>Hubei</td>\n",
       "      <td>Central</td>\n",
       "      <td>Central</td>\n",
       "      <td>No</td>\n",
       "    </tr>\n",
       "    <tr>\n",
       "      <th>4</th>\n",
       "      <td>湖南省</td>\n",
       "      <td>Hunan</td>\n",
       "      <td>Central</td>\n",
       "      <td>Central</td>\n",
       "      <td>No</td>\n",
       "    </tr>\n",
       "    <tr>\n",
       "      <th>5</th>\n",
       "      <td>江西省</td>\n",
       "      <td>Jiangxi</td>\n",
       "      <td>Central</td>\n",
       "      <td>Central</td>\n",
       "      <td>No</td>\n",
       "    </tr>\n",
       "  </tbody>\n",
       "</table>\n",
       "</div>"
      ],
      "text/plain": [
       "  prov2013 Provinces Lower_location Larger_location Coastal\n",
       "1      安徽省     Anhui        Central         Central      No\n",
       "2      河南省     Henan        Central         Central      No\n",
       "3      湖北省     Hubei        Central         Central      No\n",
       "4      湖南省     Hunan        Central         Central      No\n",
       "5      江西省   Jiangxi        Central         Central      No"
      ]
     },
     "execution_count": 18,
     "metadata": {},
     "output_type": "execute_result"
    }
   ],
   "source": [
    "### Please go here https://docs.google.com/spreadsheets/d/1pNMYAannF0g47Vrecu9tzrQ83XaaYmnXJeSuIFwr26g\n",
    "### To change the range\n",
    "\n",
    "sheetid = '1pNMYAannF0g47Vrecu9tzrQ83XaaYmnXJeSuIFwr26g'\n",
    "sheetname = 'provinces_location.csv'\n",
    "\n",
    "df_provinces_location = gdr.upload_data_from_spreadsheet(sheetID = sheetid,\n",
    "sheetName = sheetname,\n",
    "\t to_dataframe = True)\n",
    "df_provinces_location.head()"
   ]
  },
  {
   "cell_type": "markdown",
   "metadata": {
    "Collapsed": "false",
    "kernel": "python3"
   },
   "source": [
    "## Load China_cities_target_so2 from Google Spreadsheet\n",
    "\n",
    "Feel free to add description about the dataset or any usefull information.\n",
    "\n",
    "Profiling will be available soon for this dataset"
   ]
  },
  {
   "cell_type": "code",
   "execution_count": 19,
   "metadata": {
    "Collapsed": "false",
    "kernel": "python3"
   },
   "outputs": [
    {
     "data": {
      "text/html": [
       "<div>\n",
       "<style scoped>\n",
       "    .dataframe tbody tr th:only-of-type {\n",
       "        vertical-align: middle;\n",
       "    }\n",
       "\n",
       "    .dataframe tbody tr th {\n",
       "        vertical-align: top;\n",
       "    }\n",
       "\n",
       "    .dataframe thead th {\n",
       "        text-align: right;\n",
       "    }\n",
       "</style>\n",
       "<table border=\"1\" class=\"dataframe\">\n",
       "  <thead>\n",
       "    <tr style=\"text-align: right;\">\n",
       "      <th></th>\n",
       "      <th>citycn</th>\n",
       "      <th>cityen</th>\n",
       "      <th>prov2013</th>\n",
       "      <th>SO2_05_city_reconstructed</th>\n",
       "      <th>SO2_obj_2010</th>\n",
       "      <th>tso2_mandate_c</th>\n",
       "      <th>SO2_perc_reduction_c</th>\n",
       "      <th>ttoutput</th>\n",
       "    </tr>\n",
       "  </thead>\n",
       "  <tbody>\n",
       "    <tr>\n",
       "      <th>1</th>\n",
       "      <td>上海</td>\n",
       "      <td>Shanghai</td>\n",
       "      <td>上海市</td>\n",
       "      <td>5.121931736</td>\n",
       "      <td>3.794023508</td>\n",
       "      <td>1.327908228</td>\n",
       "      <td>25.89%</td>\n",
       "      <td>230979744.8</td>\n",
       "    </tr>\n",
       "    <tr>\n",
       "      <th>2</th>\n",
       "      <td>昆明</td>\n",
       "      <td>Kunming</td>\n",
       "      <td>云南省</td>\n",
       "      <td>2.237456274</td>\n",
       "      <td>2.147443665</td>\n",
       "      <td>0.09001260872</td>\n",
       "      <td>1.72%</td>\n",
       "      <td>6370188.23</td>\n",
       "    </tr>\n",
       "    <tr>\n",
       "      <th>3</th>\n",
       "      <td>曲靖</td>\n",
       "      <td>Qujing</td>\n",
       "      <td>云南省</td>\n",
       "      <td>1.223687618</td>\n",
       "      <td>1.174458806</td>\n",
       "      <td>0.04922881224</td>\n",
       "      <td>0.94%</td>\n",
       "      <td>1871252.789</td>\n",
       "    </tr>\n",
       "    <tr>\n",
       "      <th>4</th>\n",
       "      <td>玉溪</td>\n",
       "      <td>Yuxi</td>\n",
       "      <td>云南省</td>\n",
       "      <td>0.7709518273</td>\n",
       "      <td>0.7399365239</td>\n",
       "      <td>0.0310153034</td>\n",
       "      <td>0.59%</td>\n",
       "      <td>2821705.393</td>\n",
       "    </tr>\n",
       "    <tr>\n",
       "      <th>5</th>\n",
       "      <td>思茅</td>\n",
       "      <td>Simao</td>\n",
       "      <td>云南省</td>\n",
       "      <td>0.2493996689</td>\n",
       "      <td>0.2393663489</td>\n",
       "      <td>0.01003332001</td>\n",
       "      <td>0.19%</td>\n",
       "      <td>240283.799</td>\n",
       "    </tr>\n",
       "  </tbody>\n",
       "</table>\n",
       "</div>"
      ],
      "text/plain": [
       "  citycn    cityen prov2013 SO2_05_city_reconstructed  SO2_obj_2010  \\\n",
       "1     上海  Shanghai      上海市               5.121931736   3.794023508   \n",
       "2     昆明   Kunming      云南省               2.237456274   2.147443665   \n",
       "3     曲靖    Qujing      云南省               1.223687618   1.174458806   \n",
       "4     玉溪      Yuxi      云南省              0.7709518273  0.7399365239   \n",
       "5     思茅     Simao      云南省              0.2493996689  0.2393663489   \n",
       "\n",
       "  tso2_mandate_c SO2_perc_reduction_c     ttoutput  \n",
       "1    1.327908228               25.89%  230979744.8  \n",
       "2  0.09001260872                1.72%   6370188.23  \n",
       "3  0.04922881224                0.94%  1871252.789  \n",
       "4   0.0310153034                0.59%  2821705.393  \n",
       "5  0.01003332001                0.19%   240283.799  "
      ]
     },
     "execution_count": 19,
     "metadata": {},
     "output_type": "execute_result"
    }
   ],
   "source": [
    "### Please go here https://docs.google.com/spreadsheets/d/1z3A_I8_StdyNL5O38s2l9hx6W3VR49CGVmaosypjFMA\n",
    "### To change the range\n",
    "\n",
    "sheetid = '1z3A_I8_StdyNL5O38s2l9hx6W3VR49CGVmaosypjFMA'\n",
    "sheetname = 'China_cities_target_so2'\n",
    "\n",
    "df_China_cities_target_so2 = gdr.upload_data_from_spreadsheet(sheetID = sheetid,\n",
    "sheetName = sheetname,\n",
    "\t to_dataframe = True)\n",
    "df_China_cities_target_so2.head()"
   ]
  },
  {
   "cell_type": "markdown",
   "metadata": {
    "Collapsed": "false",
    "kernel": "python3",
    "toc-hr-collapsed": false
   },
   "source": [
    "# Workflow\n",
    "\n",
    "In this section, we will construct the dataset, and document each step of the workflow.\n",
    "\n",
    "Please use the following format for the documentation:\n",
    "\n",
    "- `##` Step 1: XXX\n",
    "- `###` (optional) Underlying process description\n",
    "- `##` Step 2: YYY\n",
    "- `###` (optional) Underlying process description\n",
    "\n",
    "Note: **You need to rename the last dataframe `df_final`**"
   ]
  },
  {
   "cell_type": "markdown",
   "metadata": {
    "Collapsed": "false",
    "kernel": "python3",
    "toc-hr-collapsed": true
   },
   "source": [
    "## Parameters\n",
    "\n",
    "For each change we will modify the original dataset `df_asif_firm_china`\n",
    "\n",
    "Parameteres contains 3 parts:\n",
    "\n",
    "1. Choice of aggregation\n",
    "\n",
    "We are left with two options to aggregate the data:\n",
    "\n",
    "- Indu 2 digits or CIC\n",
    "- `to_group`: Aggregate the data during the first part of the chain: from firm to industry\n",
    "- `to_group_reshape`:  Group the data to create a squared dataframe. The dataset has all industries for each city. If the city does not produce anything, we fill by one. \n",
    "\n",
    "2. Format data\n",
    "\n",
    "Change the format of the city variable in the TCZ data and keep the variables needed in the pollution data\n",
    "\n",
    "3. Exclude city not operating during the 7 years of our analysis: Fill list excluded:\n",
    "\n",
    "- 'Bayannaoer', 'Dingxi', 'Jiuquan', 'Lijiang', 'Lincang', 'Longnan',\n",
    "- 'Luliang', 'Pingliang', 'Qingyang', 'Simao', 'Wulanchabu', 'Wuwei',\n",
    "- 'Zhangye', 'Zhongwei'\n",
    "\n",
    "\n",
    "The program allows the users to pass two parameters. The first parameter `bounce. The exclude firms that enter and leave the market mutliple time through the year. The second parameter, `symmetric` gives the possibility to keep only industries available during both period (10/11th FYP). \n",
    "\n",
    "\n",
    "## Steps \n",
    "\n",
    "The program works as follow:\n",
    "\n",
    "- Step 1: If `bounce` is true, then the program exclude firms bouncing back on and on in the dataset\n",
    "- Step 2: Keep a set of year and create the period dummy variable. The dummy takes the value of `After` all year after 2005. \n",
    "- Step 3: Remove all cities not available every years\n",
    "- Step 4: Prepare the SOE industries. More precisely, the program computes the numbers of SOE firms for each year during 2002-2005 by industry (either HS2 or CIC), and get the average output;capital and labour at the same level. Then, the share by industry is computed.\n",
    "- Step 5: Define the polluted sectors in three difference ways. First, the program computes the average SO2 emission by industries for the year 2002. Then, polluted sectors are defined whether the average is above the national average, the third decile or 68070.\n",
    "- Step 6: Remove the city-industry with null value for SO2 emission\n",
    "- Step 7: Aggregate the control variable at the city-industry-year level\n",
    "- Step 8: Merge TCZ, Share SOE, pollution, pollution by industry\n",
    "- Step 9 (optional): If the user choose to get a symmetric dataset, then the program excludes industries which are not available in both period\n",
    "- Step 10: Remove outliers : when SO2 emissions are below 500 and above 2276992 (about .5 and .95 of the distribution)\n",
    "- Step 11: Create 3 bunches of fixed effect:  city-industry; time-industry and time-city"
   ]
  },
  {
   "cell_type": "code",
   "execution_count": 20,
   "metadata": {
    "Collapsed": "false",
    "kernel": "python3"
   },
   "outputs": [],
   "source": [
    "# industry_agg = ['indu_2']\n",
    "industry_agg = [\"indu_2\"]\n",
    "\n",
    "years = [\"2002\", \"2003\", \"2004\", \"2005\", \"2006\", \"2007\"]\n",
    "\n",
    "\n",
    "order_columns = [\n",
    "    \"year\",\n",
    "    \"Period\",\n",
    "    \"Province_en\",\n",
    "    \"Lower_location\",\n",
    "    \"Larger_location\",\n",
    "    \"Coastal\",\n",
    "    \"cityen\",\n",
    "    \"geocode4_corr\",\n",
    "    \"TCZ_c\",\n",
    "    \"target_c\",\n",
    "    \"effort_c\",\n",
    "    \"industry\",\n",
    "    \"ind2\",\n",
    "    \"Short\",\n",
    "    \"output_fcit\",\n",
    "    \"capital_fcit\",\n",
    "    \"labour_fcit\",\n",
    "    \"out_share_SOE\",\n",
    "    \"cap_share_SOE\",\n",
    "    \"lab_share_SOE\",\n",
    "    #\"count_SOE\",\n",
    "    \"tso2_cit\",\n",
    "    \"tso2_i\",\n",
    "    \"input_i\",\n",
    "    \"output_i\",\n",
    "    \"va_i\",\n",
    "    \"tCOD_cit\",\n",
    "    \"twaste_water_cit\",\n",
    "    \"polluted_di\",\n",
    "    \"polluted_mi\",\n",
    "    \"polluted_thre\",\n",
    "    \"pollution_intensity_i\",\n",
    "    \"FE_c_i\",\n",
    "    \"FE_t_i\",\n",
    "    \"FE_t_c\",\n",
    "]"
   ]
  },
  {
   "cell_type": "code",
   "execution_count": 21,
   "metadata": {
    "Collapsed": "false",
    "kernel": "python3"
   },
   "outputs": [
    {
     "data": {
      "text/html": [
       "<div>\n",
       "<style scoped>\n",
       "    .dataframe tbody tr th:only-of-type {\n",
       "        vertical-align: middle;\n",
       "    }\n",
       "\n",
       "    .dataframe tbody tr th {\n",
       "        vertical-align: top;\n",
       "    }\n",
       "\n",
       "    .dataframe thead th {\n",
       "        text-align: right;\n",
       "    }\n",
       "</style>\n",
       "<table border=\"1\" class=\"dataframe\">\n",
       "  <thead>\n",
       "    <tr style=\"text-align: right;\">\n",
       "      <th></th>\n",
       "      <th>industry</th>\n",
       "      <th>output_i</th>\n",
       "      <th>input_i</th>\n",
       "      <th>va_i</th>\n",
       "    </tr>\n",
       "  </thead>\n",
       "  <tbody>\n",
       "    <tr>\n",
       "      <th>0</th>\n",
       "      <td>1311</td>\n",
       "      <td>1.707179</td>\n",
       "      <td>1.304311</td>\n",
       "      <td>0.402868</td>\n",
       "    </tr>\n",
       "    <tr>\n",
       "      <th>1</th>\n",
       "      <td>1312</td>\n",
       "      <td>2.874229</td>\n",
       "      <td>2.263119</td>\n",
       "      <td>0.611111</td>\n",
       "    </tr>\n",
       "    <tr>\n",
       "      <th>2</th>\n",
       "      <td>1313</td>\n",
       "      <td>0.419786</td>\n",
       "      <td>0.325510</td>\n",
       "      <td>0.094275</td>\n",
       "    </tr>\n",
       "    <tr>\n",
       "      <th>3</th>\n",
       "      <td>1314</td>\n",
       "      <td>5.446960</td>\n",
       "      <td>4.358765</td>\n",
       "      <td>1.088195</td>\n",
       "    </tr>\n",
       "    <tr>\n",
       "      <th>4</th>\n",
       "      <td>1315</td>\n",
       "      <td>0.163080</td>\n",
       "      <td>0.129547</td>\n",
       "      <td>0.033532</td>\n",
       "    </tr>\n",
       "    <tr>\n",
       "      <th>...</th>\n",
       "      <td>...</td>\n",
       "      <td>...</td>\n",
       "      <td>...</td>\n",
       "      <td>...</td>\n",
       "    </tr>\n",
       "    <tr>\n",
       "      <th>521</th>\n",
       "      <td>4257</td>\n",
       "      <td>0.747720</td>\n",
       "      <td>0.629695</td>\n",
       "      <td>0.118025</td>\n",
       "    </tr>\n",
       "    <tr>\n",
       "      <th>522</th>\n",
       "      <td>4259</td>\n",
       "      <td>0.103850</td>\n",
       "      <td>0.077735</td>\n",
       "      <td>0.026115</td>\n",
       "    </tr>\n",
       "    <tr>\n",
       "      <th>523</th>\n",
       "      <td>4260</td>\n",
       "      <td>0.780618</td>\n",
       "      <td>0.567456</td>\n",
       "      <td>0.213162</td>\n",
       "    </tr>\n",
       "    <tr>\n",
       "      <th>524</th>\n",
       "      <td>4280</td>\n",
       "      <td>0.011696</td>\n",
       "      <td>0.008628</td>\n",
       "      <td>0.003069</td>\n",
       "    </tr>\n",
       "    <tr>\n",
       "      <th>525</th>\n",
       "      <td>4290</td>\n",
       "      <td>0.170085</td>\n",
       "      <td>0.124666</td>\n",
       "      <td>0.045419</td>\n",
       "    </tr>\n",
       "  </tbody>\n",
       "</table>\n",
       "<p>526 rows × 4 columns</p>\n",
       "</div>"
      ],
      "text/plain": [
       "    industry  output_i   input_i      va_i\n",
       "0       1311  1.707179  1.304311  0.402868\n",
       "1       1312  2.874229  2.263119  0.611111\n",
       "2       1313  0.419786  0.325510  0.094275\n",
       "3       1314  5.446960  4.358765  1.088195\n",
       "4       1315  0.163080  0.129547  0.033532\n",
       "..       ...       ...       ...       ...\n",
       "521     4257  0.747720  0.629695  0.118025\n",
       "522     4259  0.103850  0.077735  0.026115\n",
       "523     4260  0.780618  0.567456  0.213162\n",
       "524     4280  0.011696  0.008628  0.003069\n",
       "525     4290  0.170085  0.124666  0.045419\n",
       "\n",
       "[526 rows x 4 columns]"
      ]
     },
     "execution_count": 21,
     "metadata": {},
     "output_type": "execute_result"
    }
   ],
   "source": [
    "(sbc.prepare_ASIF(df_original=df_asif_firm_china,\n",
    "                  industry_agg='cic')\n",
    " .loc[lambda x: x['year'].isin(['2002'])]\n",
    " .groupby('industry')[['output_fcit', 'input_fcit']]\n",
    " .sum()\n",
    " .assign(va_i=lambda x: x['output_fcit'] - x['input_fcit'])\n",
    " .rename(columns={'output_fcit': 'output_i',\n",
    "                  'input_fcit': 'input_i'})\n",
    " .reset_index()\n",
    " )"
   ]
  },
  {
   "cell_type": "markdown",
   "metadata": {
    "Collapsed": "false",
    "kernel": "python3"
   },
   "source": [
    "### 1. Prepapre  `df_asif_firm_china`\n",
    "\n",
    "There is some preprocessing to perform on the original dataframe:"
   ]
  },
  {
   "cell_type": "code",
   "execution_count": null,
   "metadata": {
    "Collapsed": "false",
    "kernel": "python3"
   },
   "outputs": [],
   "source": [
    "df_asif_firm_china.shape"
   ]
  },
  {
   "cell_type": "markdown",
   "metadata": {
    "Collapsed": "false",
    "kernel": "python3"
   },
   "source": [
    "### Run metafunction"
   ]
  },
  {
   "cell_type": "code",
   "execution_count": null,
   "metadata": {
    "Collapsed": "false",
    "kernel": "python3"
   },
   "outputs": [],
   "source": [
    "import datetime\n",
    "import Pollution.SBC_pollution as sbc"
   ]
  },
  {
   "cell_type": "code",
   "execution_count": null,
   "metadata": {
    "Collapsed": "false",
    "kernel": "python3"
   },
   "outputs": [],
   "source": [
    "%load_ext autoreload\n",
    "%autoreload 2"
   ]
  },
  {
   "cell_type": "code",
   "execution_count": null,
   "metadata": {
    "Collapsed": "false",
    "kernel": "python3"
   },
   "outputs": [],
   "source": [
    "%%time\n",
    "df_final, va_sector = sbc.metafunction(df_original=df_asif_firm_china,\n",
    "                            df_TCZ_list_china=df_TCZ_list_china,\n",
    "                            df_China_city_pollution_98_2007=df_China_city_pollution_98_2007,\n",
    "                            df_China_cities_target_so2=df_China_cities_target_so2,\n",
    "                            order_columns=order_columns,\n",
    "                            industry_agg='cic',\n",
    "                            symetric=True,\n",
    "                            bounce=True,\n",
    "                            soe=True)"
   ]
  },
  {
   "cell_type": "code",
   "execution_count": null,
   "metadata": {
    "Collapsed": "false",
    "kernel": "python3"
   },
   "outputs": [],
   "source": [
    "df_final.shape"
   ]
  },
  {
   "cell_type": "code",
   "execution_count": null,
   "metadata": {
    "Collapsed": "false",
    "kernel": "python3"
   },
   "outputs": [],
   "source": [
    "df_final.head()"
   ]
  },
  {
   "cell_type": "code",
   "execution_count": null,
   "metadata": {
    "Collapsed": "false",
    "kernel": "python3"
   },
   "outputs": [],
   "source": [
    "df_final['year'].unique()"
   ]
  },
  {
   "cell_type": "code",
   "execution_count": null,
   "metadata": {
    "Collapsed": "false",
    "kernel": "python3"
   },
   "outputs": [],
   "source": [
    "df_final['industry'].nunique()"
   ]
  },
  {
   "cell_type": "code",
   "execution_count": null,
   "metadata": {
    "Collapsed": "false",
    "kernel": "python3"
   },
   "outputs": [],
   "source": [
    "df_final['cityen'].nunique()"
   ]
  },
  {
   "cell_type": "code",
   "execution_count": null,
   "metadata": {
    "Collapsed": "false",
    "kernel": "python3"
   },
   "outputs": [],
   "source": [
    "df_final.describe()"
   ]
  },
  {
   "cell_type": "code",
   "execution_count": null,
   "metadata": {
    "Collapsed": "false",
    "kernel": "python3"
   },
   "outputs": [],
   "source": [
    "df_final.to_csv(\n",
    "\t'SBC_pollution_China.gz',\n",
    "\tsep=',',\n",
    "\theader=True,\n",
    "\tindex=False,\n",
    "\tchunksize=100000,\n",
    "\tcompression='gzip',\n",
    "\tencoding='utf-8')"
   ]
  },
  {
   "cell_type": "markdown",
   "metadata": {
    "Collapsed": "false",
    "kernel": "python3"
   },
   "source": [
    "# Profiling\n",
    "\n",
    "In order to get a quick summary statistic of the data, we generate an HTML file with the profiling of the dataset we've just created. \n",
    "\n",
    "The profiling will be available at this URL after you commit a push to GitHub. \n",
    "\n",
    "**You need to rename the final dataframe `df_final` in the previous section to generate the profiling.**"
   ]
  },
  {
   "cell_type": "code",
   "execution_count": null,
   "metadata": {
    "Collapsed": "false",
    "kernel": "python3"
   },
   "outputs": [],
   "source": [
    "#### make sure the final dataframe is stored as df_final\n",
    "### Overide the default value: \n",
    "#https://github.com/pandas-profiling/pandas-profiling/blob/master/pandas_profiling/config_default.yaml\n",
    "\n",
    "profile = pandas_profiling.ProfileReport(df_final,\n",
    "                                        check_correlation_pearson = False)\n",
    "name_html = \"Dataset_profiling/SBC_pollution_China.html\"\n",
    "profile.to_file(output_file=name_html)"
   ]
  },
  {
   "cell_type": "markdown",
   "metadata": {
    "Collapsed": "false",
    "kernel": "python3"
   },
   "source": [
    "# Upload to cloud\n",
    "\n",
    "The dataset is ready to be shared with your colleagues. "
   ]
  },
  {
   "cell_type": "markdown",
   "metadata": {
    "Collapsed": "false",
    "kernel": "python3"
   },
   "source": [
    "### Move to GCS and BigQuery\n",
    "\n",
    "We move the dataset to the following:\n",
    "\n",
    "- **bucket**: *chinese_data*\n",
    "\n",
    "- **Destination_blob**: *Environmental_Statistics_china/Processed_ES*\n",
    "- **name**:  *SBC_pollution_China.gz*\n",
    "- **Dataset**: *China*\n",
    "\n",
    "- **table**: *SBC_pollution_China*\n",
    "\n",
    "### GCS\n",
    "\n",
    "We first need to save *SBC_pollution_China* with `.gz` extension locally then we can move it\n",
    "to GCS"
   ]
  },
  {
   "cell_type": "markdown",
   "metadata": {
    "Collapsed": "false",
    "kernel": "python3"
   },
   "source": [
    "## Delete previous dataset"
   ]
  },
  {
   "cell_type": "code",
   "execution_count": null,
   "metadata": {
    "Collapsed": "false",
    "kernel": "python3"
   },
   "outputs": [],
   "source": [
    "bucket_name = 'chinese_data'\n",
    "destination_blob_name = 'paper_project/SBC_pollution_China.gz'\n",
    "\n",
    "gcp.delete_blob(bucket_name = bucket_name,\n",
    "                destination_blob_name= destination_blob_name)\n",
    "gcp.delete_table(dataset_name = 'China', name_table = 'SBC_pollution_China')"
   ]
  },
  {
   "cell_type": "code",
   "execution_count": null,
   "metadata": {
    "Collapsed": "false",
    "kernel": "python3"
   },
   "outputs": [],
   "source": [
    "### First save locally\n",
    "df_final.to_csv(\n",
    "\t'SBC_pollution_China.gz',\n",
    "\tsep=',',\n",
    "\theader=True,\n",
    "\tindex=False,\n",
    "\tchunksize=100000,\n",
    "\tcompression='gzip',\n",
    "\tencoding='utf-8')\n",
    "\n",
    "### Then upload to GCS\n",
    "bucket_name = 'chinese_data'\n",
    "destination_blob_name = 'paper_project'\n",
    "source_file_name = 'SBC_pollution_China.gz'\n",
    "gcp.upload_blob(bucket_name, destination_blob_name, source_file_name)"
   ]
  },
  {
   "cell_type": "code",
   "execution_count": null,
   "metadata": {
    "Collapsed": "false",
    "kernel": "python3"
   },
   "outputs": [],
   "source": [
    "### Move to bigquery\n",
    "bucket_gcs ='chinese_data/paper_project/SBC_pollution_China.gz'\n",
    "gcp.move_to_bq_autodetect(dataset_name= 'China',\n",
    "\t\t\t\t\t\t\t name_table= 'SBC_pollution_China',\n",
    "\t\t\t\t\t\t\t bucket_gcs=bucket_gcs)"
   ]
  }
 ],
 "metadata": {
  "jupytext": {
   "formats": "ipynb,md"
  },
  "kernel_info": {
   "name": "sos"
  },
  "kernelspec": {
   "display_name": "SoS",
   "language": "sos",
   "name": "sos"
  },
  "language_info": {
   "codemirror_mode": "sos",
   "file_extension": ".sos",
   "mimetype": "text/x-sos",
   "name": "sos",
   "nbconvert_exporter": "sos_notebook.converter.SoS_Exporter",
   "pygments_lexer": "sos"
  },
  "nteract": {
   "version": "0.15.0"
  },
  "sos": {
   "kernels": [
    [
     "R",
     "ir",
     "R",
     "#DCDCDA",
     ""
    ],
    [
     "python3",
     "python3",
     "python3",
     "",
     {
      "name": "ipython",
      "version": 3
     }
    ]
   ],
   "version": "0.20.6"
  }
 },
 "nbformat": 4,
 "nbformat_minor": 4
}
