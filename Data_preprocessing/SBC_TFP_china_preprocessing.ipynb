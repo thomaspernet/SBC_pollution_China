{
 "cells": [
  {
   "cell_type": "markdown",
   "metadata": {
    "kernel": "SoS"
   },
   "source": [
    "# SBC_TFP_china data preprocessing\n",
    "\n",
    "This notebook has been generated on 2019-11-21 07:59 \n",
    "\n",
    "The objective of this notebook is to YYY\n",
    "\n",
    "## Global steps \n",
    "\n",
    "The global steps to construct the dataset are the following:\n",
    "\n",
    "- Lorem ipsum dolor sit amet\n",
    "- Lorem ipsum dolor sit amet\n",
    "- Lorem ipsum dolor sit amet\n",
    "\n",
    "## Data source \n",
    "\n",
    "The data source to construct the dataset are the following:"
   ]
  },
  {
   "cell_type": "markdown",
   "metadata": {
    "collapsed": "false",
    "kernel": "SoS"
   },
   "source": [
    "\n",
    " ### Big Query Dataset \n",
    " \n",
    " - asif_firm_china9807 \n",
    " - TFP_asif_china \n",
    " ### Google Cloud Storage Dataset \n",
    " \n",
    " ### Google Spreadsheet Dataset \n",
    " \n",
    " - [TCZ_list_china](https://docs.google.com/spreadsheets/d/15bMeS2cMfGfYJkjuY6wOMzcAUWZNRGpO03hZ8rpgv0Q) \n",
    " - [cityname_and_code](https://docs.google.com/spreadsheets/d/1fIziz-Xt99-Rj6NLm52-i6jScOLXgAY20KJi8k3DruA) \n",
    " - [provinces_location](https://docs.google.com/spreadsheets/d/1pNMYAannF0g47Vrecu9tzrQ83XaaYmnXJeSuIFwr26g)"
   ]
  },
  {
   "cell_type": "markdown",
   "metadata": {
    "collapsed": "false",
    "kernel": "SoS"
   },
   "source": [
    "## Destination\n",
    "\n",
    "The new dataset is available from XXX\n",
    "\n",
    "- GS: None\n",
    "- GCS: SBC_TFP_china.gz\n",
    "- BG: SBC_TFP_china"
   ]
  },
  {
   "cell_type": "markdown",
   "metadata": {
    "kernel": "SoS"
   },
   "source": [
    "# Load Dataset\n"
   ]
  },
  {
   "cell_type": "code",
   "execution_count": 149,
   "metadata": {
    "kernel": "python3"
   },
   "outputs": [],
   "source": [
    "from Fast_connectCloud import connector\n",
    "from GoogleDrivePy.google_drive import connect_drive\n",
    "from GoogleDrivePy.google_platform import connect_cloud_platform\n",
    "import pandas as pd \n",
    "import numpy as np\n",
    "import pandas_profiling"
   ]
  },
  {
   "cell_type": "code",
   "execution_count": 150,
   "metadata": {
    "kernel": "python3"
   },
   "outputs": [
    {
     "name": "stdout",
     "output_type": "stream",
     "text": [
      "Service Google Drive and Docs, Sheet are now connected. \n",
      "Service Google Drive is stored as <googleapiclient.discovery.Resource object at 0x13c892cd0> and accessible with \"drive\" \n",
      "Service Google Doc is stored as <googleapiclient.discovery.Resource object at 0x13c910a50> and accessible with \"doc\" \n",
      "Service Google Sheet is stored as <googleapiclient.discovery.Resource object at 0x13ca01290>and accessible with \"sheet\"\n",
      "Service account storage and Bigquery are now connected. \n",
      "Service account storage is stored as <google.cloud.storage.client.Client object at 0x13ca01790> and accessible with \"Storage_account\" \n",
      "Service account Bigquery is stored as <google.cloud.bigquery.client.Client object at 0x13ca01710> and accessible with \"bigquery_account\"\n"
     ]
    }
   ],
   "source": [
    "gs = connector.open_connection(online_connection = False, \n",
    "\tpath_credential = '/Users/thomas/Google Drive/Projects/Data_science/Google_code_n_Oauth/Client_Oauth/Google_auth/')\n",
    "\n",
    "service_gd = gs.connect_remote(engine = 'GS')\n",
    "service_gcp = gs.connect_remote(engine = 'GCP')\n",
    "\n",
    "gdr = connect_drive.connect_drive(service_gd['GoogleDrive'])\n",
    "\n",
    "project = 'valid-pagoda-132423'\n",
    "gcp = connect_cloud_platform.connect_console(project = project,\n",
    "\t\t\t\t\t\t\t\t\t\t\t service_account = service_gcp['GoogleCloudP'])"
   ]
  },
  {
   "cell_type": "markdown",
   "metadata": {
    "collapsed": "false",
    "kernel": "SoS"
   },
   "source": [
    "\n",
    "## Load asif_firm_china9807 from Google Big Query\n",
    "\n",
    "Feel free to add description about the dataset or any usefull information.\n",
    "\n"
   ]
  },
  {
   "cell_type": "code",
   "execution_count": null,
   "metadata": {
    "kernel": "python3"
   },
   "outputs": [],
   "source": [
    "\n",
    "  query = (\n",
    "          \"SELECT id, year, bdat, geocode4_corr, cityen_correct, Province_en, Lower_location,  \\\n",
    "           Larger_location, Coastal, SOE, cic, indu_2, Industry_Name, Short, output, fa_net,  \\\n",
    "           employment, input, ownership \\\n",
    "           FROM China.asif_firm_china9807Clean \"\n",
    "\n",
    "        )\n",
    "\n",
    "df_asif_firm_china9807 = gcp.upload_data_from_bigquery(query = query, location = 'US')\n",
    "df_asif_firm_china9807.head()\n",
    "    "
   ]
  },
  {
   "cell_type": "code",
   "execution_count": null,
   "metadata": {
    "kernel": "python3"
   },
   "outputs": [],
   "source": [
    "df_asif_firm_china9807['ownership'].unique()"
   ]
  },
  {
   "cell_type": "code",
   "execution_count": null,
   "metadata": {
    "kernel": "python3"
   },
   "outputs": [],
   "source": [
    "(df_asif_firm_china9807\n",
    " #.loc[lambda x: x['output'] > 0]\n",
    " .groupby(['year', 'SOE'])['output']\n",
    " .describe()\n",
    " .style\n",
    " .format('{0:,.0f}')\n",
    ")"
   ]
  },
  {
   "cell_type": "code",
   "execution_count": null,
   "metadata": {
    "kernel": "python3"
   },
   "outputs": [],
   "source": [
    "(df_asif_firm_china9807\n",
    " # .loc[lambda x: x['output'] > 1000]\n",
    " .groupby(['year', 'SOE'])['output']\n",
    " .median()\n",
    " .unstack(-1)\n",
    " .plot()\n",
    " )"
   ]
  },
  {
   "cell_type": "code",
   "execution_count": null,
   "metadata": {
    "collapsed": true,
    "jupyter": {
     "outputs_hidden": true
    },
    "kernel": "python3"
   },
   "outputs": [],
   "source": [
    "(df_asif_firm_china9807.groupby(['year', 'SOE'])['output']\n",
    "     .nunique()\n",
    "     .unstack(-1)\n",
    "     #.plot()\n",
    "    )"
   ]
  },
  {
   "cell_type": "markdown",
   "metadata": {
    "collapsed": "false",
    "kernel": "SoS"
   },
   "source": [
    "\n",
    "## Load TFP_asif_china from Google Big Query\n",
    "\n",
    "Feel free to add description about the dataset or any usefull information.\n",
    "\n"
   ]
  },
  {
   "cell_type": "code",
   "execution_count": null,
   "metadata": {
    "collapsed": true,
    "jupyter": {
     "outputs_hidden": true
    },
    "kernel": "python3"
   },
   "outputs": [],
   "source": [
    "\n",
    "  query = (\n",
    "          \"SELECT id, year, cic, tfp, tfp_def \"\n",
    "            \"FROM China.TFP_asif_china \"\n",
    "\n",
    "        )\n",
    "\n",
    "df_TFP_asif_china = gcp.upload_data_from_bigquery(query = query, location = 'US')\n",
    "df_TFP_asif_china.head()\n",
    "    "
   ]
  },
  {
   "cell_type": "code",
   "execution_count": null,
   "metadata": {
    "collapsed": true,
    "jupyter": {
     "outputs_hidden": true
    },
    "kernel": "python3"
   },
   "outputs": [],
   "source": [
    "df_TFP_asif_china.groupby(['year'])['tfp'].mean().pct_change() * 100"
   ]
  },
  {
   "cell_type": "code",
   "execution_count": null,
   "metadata": {
    "collapsed": true,
    "jupyter": {
     "outputs_hidden": true
    },
    "kernel": "python3"
   },
   "outputs": [],
   "source": [
    "df_TFP_asif_china.groupby(['year'])['tfp'].mean()#.pct_change() * 100"
   ]
  },
  {
   "cell_type": "code",
   "execution_count": null,
   "metadata": {
    "collapsed": true,
    "jupyter": {
     "outputs_hidden": true
    },
    "kernel": "python3"
   },
   "outputs": [],
   "source": [
    "test = df_TFP_asif_china.merge(df_asif_firm_china9807)"
   ]
  },
  {
   "cell_type": "code",
   "execution_count": null,
   "metadata": {
    "collapsed": true,
    "jupyter": {
     "outputs_hidden": true
    },
    "kernel": "python3"
   },
   "outputs": [],
   "source": [
    "test.groupby(['year'])['tfp'].median().plot()"
   ]
  },
  {
   "cell_type": "code",
   "execution_count": null,
   "metadata": {
    "collapsed": true,
    "jupyter": {
     "outputs_hidden": true
    },
    "kernel": "python3"
   },
   "outputs": [],
   "source": [
    "test.groupby(['year', 'SOE'])['tfp'].median().unstack(-1).plot()"
   ]
  },
  {
   "cell_type": "markdown",
   "metadata": {
    "collapsed": "false",
    "kernel": "SoS"
   },
   "source": [
    "\n",
    "## Load TCZ_list_china from Google Spreadsheet\n",
    "\n",
    "Feel free to add description about the dataset or any usefull information.\n",
    "\n",
    "Profiling will be available soon for this dataset\n",
    "\n"
   ]
  },
  {
   "cell_type": "code",
   "execution_count": null,
   "metadata": {
    "collapsed": true,
    "jupyter": {
     "outputs_hidden": true
    },
    "kernel": "python3"
   },
   "outputs": [],
   "source": [
    "\n",
    "### Please go here https://docs.google.com/spreadsheets/d/15bMeS2cMfGfYJkjuY6wOMzcAUWZNRGpO03hZ8rpgv0Q\n",
    "### To change the range\n",
    "\n",
    "sheetid = '15bMeS2cMfGfYJkjuY6wOMzcAUWZNRGpO03hZ8rpgv0Q'\n",
    "sheetname = 'TCZ'\n",
    "\n",
    "df_TCZ_list_china = gdr.upload_data_from_spreadsheet(sheetID = sheetid,\n",
    "sheetName = sheetname,\n",
    "\t to_dataframe = True)\n",
    "df_TCZ_list_china.head()\n"
   ]
  },
  {
   "cell_type": "markdown",
   "metadata": {
    "collapsed": "false",
    "kernel": "python3"
   },
   "source": [
    "## Load CIC_4_digit_average_SO2 from Google Spreadsheet\n",
    "\n",
    "Feel free to add description about the dataset or any usefull information.\n",
    "\n",
    "Profiling will be available soon for this dataset"
   ]
  },
  {
   "cell_type": "code",
   "execution_count": null,
   "metadata": {
    "collapsed": true,
    "jupyter": {
     "outputs_hidden": true
    },
    "kernel": "python3"
   },
   "outputs": [],
   "source": [
    "### Please go here https://docs.google.com/spreadsheets/d/1MdHt1EKUexT9J1ISyo8TJXbq0BRhIxyML6t9dZItFuw\n",
    "### To change the range\n",
    "\n",
    "sheetid = '1MdHt1EKUexT9J1ISyo8TJXbq0BRhIxyML6t9dZItFuw'\n",
    "sheetname = 'cic_avg_so2'\n",
    "\n",
    "df_CIC_4_digit_average_SO2 = gdr.upload_data_from_spreadsheet(sheetID = sheetid,\n",
    "sheetName = sheetname,\n",
    "\t to_dataframe = True)\n",
    "df_CIC_4_digit_average_SO2.head()"
   ]
  },
  {
   "cell_type": "markdown",
   "metadata": {
    "collapsed": "false",
    "kernel": "python3"
   },
   "source": [
    "## Load China_cities_target_so2 from Google Spreadsheet\n",
    "\n",
    "Feel free to add description about the dataset or any usefull information.\n",
    "\n",
    "Profiling will be available soon for this dataset"
   ]
  },
  {
   "cell_type": "code",
   "execution_count": null,
   "metadata": {
    "collapsed": true,
    "jupyter": {
     "outputs_hidden": true
    },
    "kernel": "python3"
   },
   "outputs": [],
   "source": [
    "### Please go here https://docs.google.com/spreadsheets/d/1z3A_I8_StdyNL5O38s2l9hx6W3VR49CGVmaosypjFMA\n",
    "### To change the range\n",
    "\n",
    "sheetid = '1z3A_I8_StdyNL5O38s2l9hx6W3VR49CGVmaosypjFMA'\n",
    "sheetname = 'China_cities_target_so2'\n",
    "\n",
    "df_China_cities_target_so2 = gdr.upload_data_from_spreadsheet(sheetID = sheetid,\n",
    "sheetName = sheetname,\n",
    "\t to_dataframe = True)\n",
    "df_China_cities_target_so2.head()"
   ]
  },
  {
   "cell_type": "markdown",
   "metadata": {
    "kernel": "SoS"
   },
   "source": [
    "# Workflow\n",
    "\n",
    "In this section, we will construct the dataset, and document each step of the workflow.\n",
    "\n",
    "Please use the following format for the documentation:\n",
    "\n",
    "- `##` Step 1: XXX\n",
    "- `###` (optional) Underlying process description\n",
    "- `##` Step 2: YYY\n",
    "- `###` (optional) Underlying process description\n",
    "\n",
    "Note: **You need to rename the last dataframe `df_final`**"
   ]
  },
  {
   "cell_type": "code",
   "execution_count": null,
   "metadata": {
    "collapsed": true,
    "jupyter": {
     "outputs_hidden": true
    },
    "kernel": "python3"
   },
   "outputs": [],
   "source": [
    " query = (\n",
    "          \"SELECT * \"\n",
    "            \"FROM China.SBC_pollution_China \"\n",
    "\n",
    "        )\n",
    "\n",
    "df_temp = gcp.upload_data_from_bigquery(query = query, location = 'US')\n",
    "df_temp.head()"
   ]
  },
  {
   "cell_type": "code",
   "execution_count": null,
   "metadata": {
    "collapsed": true,
    "jupyter": {
     "outputs_hidden": true
    },
    "kernel": "python3"
   },
   "outputs": [],
   "source": [
    "%load_ext autoreload\n",
    "%autoreload 2"
   ]
  },
  {
   "cell_type": "code",
   "execution_count": null,
   "metadata": {
    "collapsed": true,
    "jupyter": {
     "outputs_hidden": true
    },
    "kernel": "python3"
   },
   "outputs": [],
   "source": [
    "import python_programs.Pollution.SBC_pollution as tfp"
   ]
  },
  {
   "cell_type": "code",
   "execution_count": null,
   "metadata": {
    "collapsed": true,
    "jupyter": {
     "outputs_hidden": true
    },
    "kernel": "python3"
   },
   "outputs": [],
   "source": [
    "df_final = tfp.metafunctionTFP(df_original=df_asif_firm_china9807,\n",
    "                               SBC_pollution_China= df_temp,\n",
    "                               df_TCZ_list_china=df_TCZ_list_china,\n",
    "                               df_TFP_asif_china='',\n",
    "                               df_China_cities_target_so2=df_China_cities_target_so2,\n",
    "                               df_CIC_4_digit_average_SO2=df_CIC_4_digit_average_SO2,\n",
    "                               #order_columns=order_columns,\n",
    "                               industry_agg='cic',\n",
    "                               agg_t_c_i_o=False,\n",
    "                               panel = False,\n",
    "                               bounce=False)"
   ]
  },
  {
   "cell_type": "code",
   "execution_count": null,
   "metadata": {
    "collapsed": true,
    "jupyter": {
     "outputs_hidden": true
    },
    "kernel": "python3"
   },
   "outputs": [],
   "source": [
    "df_final.shape"
   ]
  },
  {
   "cell_type": "code",
   "execution_count": null,
   "metadata": {
    "collapsed": true,
    "jupyter": {
     "outputs_hidden": true
    },
    "kernel": "python3"
   },
   "outputs": [],
   "source": [
    "(df_asif_firm_china9807\n",
    " .groupby([ 'year', 'SOE'])['SOE']\n",
    " .count()\n",
    " .unstack()\n",
    " #.plot(kind='bar',stacked=True)\n",
    ")\n",
    "\n",
    "pd.concat([\n",
    "    (df_asif_firm_china9807\n",
    " .groupby(['year', 'SOE'])['SOE']\n",
    " .count()\n",
    " .unstack(-1)\n",
    " .rename(columns={'PRIVATE': 'PRIVATE_Raw',\n",
    "                     'SOE': \"SOE_Raw\"})\n",
    " ),\n",
    "(df_final\n",
    " .assign(year = lambda x:x['year'].astype('int'))\n",
    " .groupby(['year', 'SOE'])['SOE']\n",
    " .count()\n",
    " .unstack(-1))\n",
    ".rename(columns={'PRIVATE': 'PRIVATE_New',\n",
    "                     'SOE': \"SOE_New\"})], axis= 1\n",
    " ).dropna().reindex(columns = ['SOE_Raw', \n",
    "                     'SOE_New',\n",
    "                     'PRIVATE_Raw',\n",
    "                     'PRIVATE_New']).plot(title = 'median')"
   ]
  },
  {
   "cell_type": "code",
   "execution_count": null,
   "metadata": {
    "collapsed": true,
    "jupyter": {
     "outputs_hidden": true
    },
    "kernel": "python3"
   },
   "outputs": [],
   "source": [
    "pd.concat([\n",
    "    (df_asif_firm_china9807\n",
    " .groupby(['year', 'SOE'])['output']\n",
    " .median()\n",
    " .unstack(-1)\n",
    " .rename(columns={'PRIVATE': 'PRIVATE_Raw',\n",
    "                     'SOE': \"SOE_Raw\"})\n",
    " ),\n",
    "(df_final\n",
    " .assign(year = lambda x:x['year'].astype('int'))\n",
    " .groupby(['year', 'SOE'])['output_fcit']\n",
    " .median()\n",
    " .unstack(-1))\n",
    ".rename(columns={'PRIVATE': 'PRIVATE_New',\n",
    "                     'SOE': \"SOE_New\"})], axis= 1\n",
    " ).dropna().reindex(columns = ['SOE_Raw', \n",
    "                     'SOE_New',\n",
    "                     'PRIVATE_Raw',\n",
    "                     'PRIVATE_New']).plot(title = 'median')"
   ]
  },
  {
   "cell_type": "markdown",
   "metadata": {
    "collapsed": "false",
    "kernel": "python3"
   },
   "source": [
    "### Test "
   ]
  },
  {
   "cell_type": "code",
   "execution_count": null,
   "metadata": {
    "collapsed": true,
    "jupyter": {
     "outputs_hidden": true
    },
    "kernel": "python3"
   },
   "outputs": [],
   "source": [
    "output_ = df_final['output_fcit'].quantile([.05, .98])\n",
    "input_ = df_final['input'].quantile([.05, .98])\n",
    "#va_ = df_final['va'].quantile([.05, .98])\n",
    "fa_net_ = df_final['capital_fcit'].quantile([.05, .98])\n",
    "employment_ = df_final['labour_fcit'].quantile([.05, .98])\n",
    "\n",
    "### Bottom\n",
    "outliers = False\n",
    "if outliers:\n",
    "    for n in [output_, input_, fa_net_, employment_]:\n",
    "        name  = n.name\n",
    "        df_final = df_final.loc[ lambda x:\n",
    "        df_final[name] > n.iloc[0]\n",
    "                ]\n",
    "### Top\n",
    "    for n in [output_, input_, va_, fa_net_\n",
    "         ]:\n",
    "        name  = x.name\n",
    "        df_final = df_final.loc[ lambda x:\n",
    "        x[name] < n.iloc[1]\n",
    "                ]\n",
    "\n",
    "df_final[\"id_\"] = pd.factorize(df_final[\"id\"])[0]\n",
    "\n",
    "df_final.to_csv(\n",
    "\t'temp.gz',\n",
    "\tsep=',',\n",
    "\theader=True,\n",
    "\tindex=False,\n",
    "\tchunksize=100000,\n",
    "\tcompression='gzip',\n",
    "\tencoding='utf-8')\n",
    "\n",
    "df_final.shape"
   ]
  },
  {
   "cell_type": "code",
   "execution_count": null,
   "metadata": {
    "collapsed": true,
    "jupyter": {
     "outputs_hidden": true
    },
    "kernel": "python3"
   },
   "outputs": [],
   "source": [
    "df_final.describe()"
   ]
  },
  {
   "cell_type": "code",
   "execution_count": null,
   "metadata": {
    "collapsed": true,
    "jupyter": {
     "outputs_hidden": true
    },
    "kernel": "R"
   },
   "outputs": [],
   "source": [
    "library(prodest)\n",
    "df <- read.csv(\"temp.gz\") %>% arrange(id_, year)\n",
    "head(df)"
   ]
  },
  {
   "cell_type": "code",
   "execution_count": null,
   "metadata": {
    "collapsed": true,
    "jupyter": {
     "outputs_hidden": true
    },
    "kernel": "R"
   },
   "outputs": [],
   "source": [
    "dim(df)"
   ]
  },
  {
   "cell_type": "code",
   "execution_count": null,
   "metadata": {
    "collapsed": true,
    "jupyter": {
     "outputs_hidden": true
    },
    "kernel": "R"
   },
   "outputs": [],
   "source": [
    "LP.fit <- prodestLP(Y = log(df$output_fcit),\n",
    "                    fX = log(df$labour_fcit),\n",
    "                    sX= log(df$capital_fcit),\n",
    "                    pX = log(df$input),\n",
    "                    idvar = df$id_,\n",
    "                    timevar = df$year)\n",
    "#prodestOP"
   ]
  },
  {
   "cell_type": "code",
   "execution_count": null,
   "metadata": {
    "collapsed": true,
    "jupyter": {
     "outputs_hidden": true
    },
    "kernel": "R"
   },
   "outputs": [],
   "source": [
    "OP.fit <- prodestOP(Y = log(df$output_fcit),\n",
    "                    fX = log(df$labour_fcit),\n",
    "                    sX= log(df$capital_fcit),\n",
    "                    pX = log(df$input),\n",
    "                    idvar = df$id_,\n",
    "                    timevar = df$year,\n",
    "                   exit = TRUE)"
   ]
  },
  {
   "cell_type": "code",
   "execution_count": null,
   "metadata": {
    "collapsed": true,
    "jupyter": {
     "outputs_hidden": true
    },
    "kernel": "R"
   },
   "outputs": [],
   "source": [
    "summary(LP.fit)"
   ]
  },
  {
   "cell_type": "code",
   "execution_count": null,
   "metadata": {
    "collapsed": true,
    "jupyter": {
     "outputs_hidden": true
    },
    "kernel": "R"
   },
   "outputs": [],
   "source": [
    "summary(OP.fit)"
   ]
  },
  {
   "cell_type": "code",
   "execution_count": null,
   "metadata": {
    "collapsed": true,
    "jupyter": {
     "outputs_hidden": true
    },
    "kernel": "R"
   },
   "outputs": [],
   "source": [
    "df$tfp_LP <- log(df$output_fcit) - (log(df$labour_fcit) * LP.fit@Estimates$pars[1] +\n",
    "       log(df$capital_fcit) * LP.fit@Estimates$pars[2])"
   ]
  },
  {
   "cell_type": "code",
   "execution_count": null,
   "metadata": {
    "collapsed": true,
    "jupyter": {
     "outputs_hidden": true
    },
    "kernel": "R"
   },
   "outputs": [],
   "source": [
    "df$tfp_OP <- log(df$output_fcit) - (log(df$labour_fcit) * OP.fit@Estimates$pars[1] +\n",
    "       log(df$capital_fcit) * OP.fit@Estimates$pars[2])"
   ]
  },
  {
   "cell_type": "code",
   "execution_count": null,
   "metadata": {
    "collapsed": true,
    "jupyter": {
     "outputs_hidden": true
    },
    "kernel": "R"
   },
   "outputs": [],
   "source": [
    "df %>% group_by(year, SOE) %>% summarize(mean_tfpLP = mean(tfp_LP), \n",
    "                                        mean_tfpOP = mean(tfp_OP)\n",
    "                                        )"
   ]
  },
  {
   "cell_type": "code",
   "execution_count": null,
   "metadata": {
    "collapsed": true,
    "jupyter": {
     "outputs_hidden": true
    },
    "kernel": "R"
   },
   "outputs": [],
   "source": [
    "write.csv(df, \"TFP_computed_ASIF_china.csv\", row.names=FALSE)"
   ]
  },
  {
   "cell_type": "markdown",
   "metadata": {
    "collapsed": "false",
    "kernel": "R"
   },
   "source": [
    "### Summary check Python"
   ]
  },
  {
   "cell_type": "markdown",
   "metadata": {
    "collapsed": "false",
    "kernel": "python3"
   },
   "source": [
    "### Make Panel\n",
    "\n",
    "First, send the TFP for all observation in GCS"
   ]
  },
  {
   "cell_type": "code",
   "execution_count": 169,
   "metadata": {
    "collapsed": true,
    "jupyter": {
     "outputs_hidden": true
    },
    "kernel": "python3"
   },
   "outputs": [
    {
     "name": "stdout",
     "output_type": "stream",
     "text": [
      "File TFP_computed_ASIF_china.csv uploaded to paper_project.\n"
     ]
    }
   ],
   "source": [
    "### First save locally\n",
    "### Then upload to GCS\n",
    "bucket_name = 'chinese_data'\n",
    "destination_blob_name = 'paper_project'\n",
    "source_file_name = 'TFP_computed_ASIF_china.csv'\n",
    "gcp.upload_blob(bucket_name, destination_blob_name, source_file_name)"
   ]
  },
  {
   "cell_type": "code",
   "execution_count": 170,
   "metadata": {
    "collapsed": true,
    "jupyter": {
     "outputs_hidden": true
    },
    "kernel": "python3"
   },
   "outputs": [
    {
     "data": {
      "text/plain": [
       "(36852, 38)"
      ]
     },
     "execution_count": 170,
     "metadata": {},
     "output_type": "execute_result"
    }
   ],
   "source": [
    "import pandas as pd\n",
    "df_ = pd.read_csv(\"TFP_computed_ASIF_china.csv\")\n",
    "df_final = (df_\n",
    "                   .groupby(['year', 'cityen', 'industry', 'SOE'])['cityen']\n",
    "                   .count()\n",
    "                   .unstack(0)\n",
    "                   .dropna(axis=0)\n",
    "                   .reset_index('SOE')\n",
    "                   .groupby(level=[0, 1])['SOE']\n",
    "                   .count()\n",
    "                   .loc[lambda x: x == 2]\n",
    "                   .reset_index()\n",
    "                   .rename(columns={'SOE': 'count'})\n",
    "                   ).merge(df_)\n",
    "df_final.shape"
   ]
  },
  {
   "cell_type": "markdown",
   "metadata": {
    "collapsed": "true",
    "kernel": "python3"
   },
   "source": [
    "# Archive"
   ]
  },
  {
   "cell_type": "code",
   "execution_count": 89,
   "metadata": {
    "Collapsed": "false",
    "kernel": "python3"
   },
   "outputs": [
    {
     "name": "stdout",
     "output_type": "stream",
     "text": [
      "(344950, 37)\n"
     ]
    },
    {
     "data": {
      "text/plain": [
       "(343638, 37)"
      ]
     },
     "execution_count": 89,
     "metadata": {},
     "output_type": "execute_result"
    }
   ],
   "source": [
    "df_ = pd.read_csv(\"TFP_computed_ASIF_china.csv\")\n",
    "print(df_.shape)\n",
    "keep = True\n",
    "while keep:\n",
    "    for i in ['FE_c_i', 'FE_t_i', 'FE_t_c']:\n",
    "        # test\n",
    "        try:\n",
    "            test = (df_.groupby([i])[i]\n",
    "                .count()\n",
    "                .reset_index(name='count')\n",
    "                .groupby(['count'])['count']\n",
    "                .count()\n",
    "                .loc[1]\n",
    "                )\n",
    "            keep = True\n",
    "        except:\n",
    "            keep = False\n",
    "        \n",
    "        df_ = (df_.groupby([i])[i]\n",
    "               .count()\n",
    "               .reset_index(name='count')\n",
    "               .merge(df_)\n",
    "               .loc[lambda x: ~x['count'].isin([1])]\n",
    "               .drop(columns='count')\n",
    "               )\n",
    "df_.shape"
   ]
  },
  {
   "cell_type": "code",
   "execution_count": 82,
   "metadata": {
    "Collapsed": "false",
    "kernel": "python3"
   },
   "outputs": [
    {
     "name": "stdout",
     "output_type": "stream",
     "text": [
      "count\n",
      "2       1119\n",
      "3        840\n",
      "4        695\n",
      "5        486\n",
      "6        424\n",
      "        ... \n",
      "2347       1\n",
      "2382       1\n",
      "2427       1\n",
      "2438       1\n",
      "5278       1\n",
      "Name: count, Length: 395, dtype: int64\n",
      "count\n",
      "2       47\n",
      "3       24\n",
      "4       32\n",
      "5       31\n",
      "6       24\n",
      "        ..\n",
      "6803     1\n",
      "7361     1\n",
      "7959     1\n",
      "8403     1\n",
      "9600     1\n",
      "Name: count, Length: 494, dtype: int64\n",
      "count\n",
      "2        8\n",
      "3       16\n",
      "4       10\n",
      "5        8\n",
      "6       10\n",
      "        ..\n",
      "5155     1\n",
      "6977     1\n",
      "7017     1\n",
      "7146     1\n",
      "7249     1\n",
      "Name: count, Length: 460, dtype: int64\n"
     ]
    }
   ],
   "source": [
    "for i in ['FE_c_i', 'FE_t_i', 'FE_t_c']:\n",
    "    test = (df_.groupby([i])[i]\n",
    "            .count()\n",
    "            .reset_index(name='count')\n",
    "            .groupby(['count'])['count']\n",
    "            .count()\n",
    "            )\n",
    "    print(test)"
   ]
  },
  {
   "cell_type": "code",
   "execution_count": 83,
   "metadata": {
    "Collapsed": "false",
    "kernel": "python3"
   },
   "outputs": [
    {
     "data": {
      "text/plain": [
       "count\n",
       "1    60832\n",
       "2    33062\n",
       "3    21038\n",
       "4    20091\n",
       "5     9488\n",
       "6     4294\n",
       "Name: count, dtype: int64"
      ]
     },
     "execution_count": 83,
     "metadata": {},
     "output_type": "execute_result"
    }
   ],
   "source": [
    "(df_.groupby(['id'])['id']\n",
    " .count()\n",
    " .reset_index(name = 'count')\n",
    " .groupby('count')['count']\n",
    " .count()\n",
    ")"
   ]
  },
  {
   "cell_type": "code",
   "execution_count": 105,
   "metadata": {
    "Collapsed": "false",
    "kernel": "python3"
   },
   "outputs": [
    {
     "data": {
      "text/html": [
       "<div>\n",
       "<style scoped>\n",
       "    .dataframe tbody tr th:only-of-type {\n",
       "        vertical-align: middle;\n",
       "    }\n",
       "\n",
       "    .dataframe tbody tr th {\n",
       "        vertical-align: top;\n",
       "    }\n",
       "\n",
       "    .dataframe thead th {\n",
       "        text-align: right;\n",
       "    }\n",
       "</style>\n",
       "<table border=\"1\" class=\"dataframe\">\n",
       "  <thead>\n",
       "    <tr style=\"text-align: right;\">\n",
       "      <th>SOE</th>\n",
       "      <th>PRIVATE</th>\n",
       "      <th>SOE</th>\n",
       "    </tr>\n",
       "    <tr>\n",
       "      <th>count</th>\n",
       "      <th></th>\n",
       "      <th></th>\n",
       "    </tr>\n",
       "  </thead>\n",
       "  <tbody>\n",
       "    <tr>\n",
       "      <th>1</th>\n",
       "      <td>57040</td>\n",
       "      <td>4425</td>\n",
       "    </tr>\n",
       "    <tr>\n",
       "      <th>2</th>\n",
       "      <td>31424</td>\n",
       "      <td>1794</td>\n",
       "    </tr>\n",
       "    <tr>\n",
       "      <th>3</th>\n",
       "      <td>20003</td>\n",
       "      <td>1032</td>\n",
       "    </tr>\n",
       "    <tr>\n",
       "      <th>4</th>\n",
       "      <td>19377</td>\n",
       "      <td>694</td>\n",
       "    </tr>\n",
       "    <tr>\n",
       "      <th>5</th>\n",
       "      <td>8905</td>\n",
       "      <td>467</td>\n",
       "    </tr>\n",
       "    <tr>\n",
       "      <th>6</th>\n",
       "      <td>4080</td>\n",
       "      <td>168</td>\n",
       "    </tr>\n",
       "  </tbody>\n",
       "</table>\n",
       "</div>"
      ],
      "text/plain": [
       "SOE    PRIVATE   SOE\n",
       "count               \n",
       "1        57040  4425\n",
       "2        31424  1794\n",
       "3        20003  1032\n",
       "4        19377   694\n",
       "5         8905   467\n",
       "6         4080   168"
      ]
     },
     "execution_count": 105,
     "metadata": {},
     "output_type": "execute_result"
    }
   ],
   "source": [
    "(df_.groupby(['id', 'SOE'])['id']\n",
    " .count()\n",
    " .reset_index(name = 'count')\n",
    " .groupby(['SOE','count'])['count']\n",
    " .count()\n",
    " .unstack(0)\n",
    ")"
   ]
  },
  {
   "cell_type": "code",
   "execution_count": 123,
   "metadata": {
    "Collapsed": "false",
    "kernel": "python3"
   },
   "outputs": [
    {
     "data": {
      "text/html": [
       "<div>\n",
       "<style scoped>\n",
       "    .dataframe tbody tr th:only-of-type {\n",
       "        vertical-align: middle;\n",
       "    }\n",
       "\n",
       "    .dataframe tbody tr th {\n",
       "        vertical-align: top;\n",
       "    }\n",
       "\n",
       "    .dataframe thead th {\n",
       "        text-align: right;\n",
       "    }\n",
       "</style>\n",
       "<table border=\"1\" class=\"dataframe\">\n",
       "  <thead>\n",
       "    <tr style=\"text-align: right;\">\n",
       "      <th></th>\n",
       "      <th>FE_i_tcz</th>\n",
       "      <th>count</th>\n",
       "    </tr>\n",
       "  </thead>\n",
       "  <tbody>\n",
       "    <tr>\n",
       "      <th>0</th>\n",
       "      <td>1</td>\n",
       "      <td>19684</td>\n",
       "    </tr>\n",
       "    <tr>\n",
       "      <th>1</th>\n",
       "      <td>2</td>\n",
       "      <td>18768</td>\n",
       "    </tr>\n",
       "    <tr>\n",
       "      <th>2</th>\n",
       "      <td>3</td>\n",
       "      <td>105394</td>\n",
       "    </tr>\n",
       "    <tr>\n",
       "      <th>3</th>\n",
       "      <td>4</td>\n",
       "      <td>199792</td>\n",
       "    </tr>\n",
       "  </tbody>\n",
       "</table>\n",
       "</div>"
      ],
      "text/plain": [
       "   FE_i_tcz   count\n",
       "0         1   19684\n",
       "1         2   18768\n",
       "2         3  105394\n",
       "3         4  199792"
      ]
     },
     "execution_count": 123,
     "metadata": {},
     "output_type": "execute_result"
    }
   ],
   "source": [
    "df_[\"FE_i_tcz\"] = (pd.factorize(df_[\"polluted_thre\"] +\n",
    "                                      df_['TCZ_c'])[0]) +1\n",
    "\n",
    "(df_.groupby([\"FE_i_tcz\"])[\"FE_i_tcz\"]\n",
    "            .count()\n",
    "            .reset_index(name='count')\n",
    "            #.groupby(['count'])['count']\n",
    "            #.count()\n",
    "            )"
   ]
  },
  {
   "cell_type": "code",
   "execution_count": 121,
   "metadata": {
    "Collapsed": "false",
    "kernel": "python3"
   },
   "outputs": [
    {
     "data": {
      "text/html": [
       "<div>\n",
       "<style scoped>\n",
       "    .dataframe tbody tr th:only-of-type {\n",
       "        vertical-align: middle;\n",
       "    }\n",
       "\n",
       "    .dataframe tbody tr th {\n",
       "        vertical-align: top;\n",
       "    }\n",
       "\n",
       "    .dataframe thead th {\n",
       "        text-align: right;\n",
       "    }\n",
       "</style>\n",
       "<table border=\"1\" class=\"dataframe\">\n",
       "  <thead>\n",
       "    <tr style=\"text-align: right;\">\n",
       "      <th></th>\n",
       "      <th>FE_i_tcz</th>\n",
       "      <th>cityen</th>\n",
       "      <th>count</th>\n",
       "    </tr>\n",
       "  </thead>\n",
       "  <tbody>\n",
       "    <tr>\n",
       "      <th>94</th>\n",
       "      <td>1</td>\n",
       "      <td>Huainan</td>\n",
       "      <td>2</td>\n",
       "    </tr>\n",
       "    <tr>\n",
       "      <th>136</th>\n",
       "      <td>1</td>\n",
       "      <td>Yan'an</td>\n",
       "      <td>2</td>\n",
       "    </tr>\n",
       "    <tr>\n",
       "      <th>99</th>\n",
       "      <td>1</td>\n",
       "      <td>Jingdezhen</td>\n",
       "      <td>3</td>\n",
       "    </tr>\n",
       "    <tr>\n",
       "      <th>371</th>\n",
       "      <td>3</td>\n",
       "      <td>Wuhai</td>\n",
       "      <td>3</td>\n",
       "    </tr>\n",
       "    <tr>\n",
       "      <th>65</th>\n",
       "      <td>0</td>\n",
       "      <td>Yan'an</td>\n",
       "      <td>7</td>\n",
       "    </tr>\n",
       "    <tr>\n",
       "      <th>...</th>\n",
       "      <td>...</td>\n",
       "      <td>...</td>\n",
       "      <td>...</td>\n",
       "    </tr>\n",
       "    <tr>\n",
       "      <th>365</th>\n",
       "      <td>3</td>\n",
       "      <td>Tianjin</td>\n",
       "      <td>8078</td>\n",
       "    </tr>\n",
       "    <tr>\n",
       "      <th>303</th>\n",
       "      <td>3</td>\n",
       "      <td>Hangzhou</td>\n",
       "      <td>8411</td>\n",
       "    </tr>\n",
       "    <tr>\n",
       "      <th>338</th>\n",
       "      <td>3</td>\n",
       "      <td>Ningbo</td>\n",
       "      <td>9452</td>\n",
       "    </tr>\n",
       "    <tr>\n",
       "      <th>218</th>\n",
       "      <td>2</td>\n",
       "      <td>Shanghai</td>\n",
       "      <td>10504</td>\n",
       "    </tr>\n",
       "    <tr>\n",
       "      <th>349</th>\n",
       "      <td>3</td>\n",
       "      <td>Shanghai</td>\n",
       "      <td>26439</td>\n",
       "    </tr>\n",
       "  </tbody>\n",
       "</table>\n",
       "<p>404 rows × 3 columns</p>\n",
       "</div>"
      ],
      "text/plain": [
       "     FE_i_tcz      cityen  count\n",
       "94          1     Huainan      2\n",
       "136         1      Yan'an      2\n",
       "99          1  Jingdezhen      3\n",
       "371         3       Wuhai      3\n",
       "65          0      Yan'an      7\n",
       "..        ...         ...    ...\n",
       "365         3     Tianjin   8078\n",
       "303         3    Hangzhou   8411\n",
       "338         3      Ningbo   9452\n",
       "218         2    Shanghai  10504\n",
       "349         3    Shanghai  26439\n",
       "\n",
       "[404 rows x 3 columns]"
      ]
     },
     "execution_count": 121,
     "metadata": {},
     "output_type": "execute_result"
    }
   ],
   "source": [
    "(df_.groupby([\"FE_i_tcz\", 'cityen'])[\"FE_i_tcz\"]\n",
    "            .count()\n",
    "            .reset_index(name='count')\n",
    "            .sort_values(by = 'count')\n",
    "            #.groupby(['count'])['count']\n",
    "            #.count()\n",
    "            )"
   ]
  },
  {
   "cell_type": "code",
   "execution_count": 130,
   "metadata": {
    "Collapsed": "false",
    "kernel": "python3"
   },
   "outputs": [
    {
     "data": {
      "text/plain": [
       "cityen\n",
       "Fangchenggang    1\n",
       "Liupanshui       1\n",
       "Tongchuan        1\n",
       "Yingtan          1\n",
       "Name: FE_i_tcz, dtype: int64"
      ]
     },
     "execution_count": 130,
     "metadata": {},
     "output_type": "execute_result"
    }
   ],
   "source": [
    "df_.groupby(\"cityen\")['FE_i_tcz'].nunique().loc[lambda x : x == 1]"
   ]
  },
  {
   "cell_type": "code",
   "execution_count": 132,
   "metadata": {
    "Collapsed": "false",
    "kernel": "python3"
   },
   "outputs": [],
   "source": [
    "df_test = df_.loc[lambda x: ~x['cityen'].isin(['Fangchenggang',\n",
    "                                     'Liupanshui',\n",
    "                                     'Tongchuan',\n",
    "                                     'Yingtan'])]"
   ]
  },
  {
   "cell_type": "code",
   "execution_count": 138,
   "metadata": {
    "Collapsed": "false",
    "kernel": "python3"
   },
   "outputs": [],
   "source": [
    "df_test.to_csv(\"test.csv\", index = False)"
   ]
  },
  {
   "cell_type": "markdown",
   "metadata": {
    "collapsed": "false",
    "kernel": "R"
   },
   "source": [
    "### Temporary test"
   ]
  },
  {
   "cell_type": "code",
   "execution_count": 151,
   "metadata": {
    "Collapsed": "false",
    "kernel": "python3"
   },
   "outputs": [],
   "source": [
    "### Please go here https://docs.google.com/spreadsheets/d/15bMeS2cMfGfYJkjuY6wOMzcAUWZNRGpO03hZ8rpgv0Q\n",
    "### To change the range\n",
    "\n",
    "sheetid = '15bMeS2cMfGfYJkjuY6wOMzcAUWZNRGpO03hZ8rpgv0Q'\n",
    "sheetname = 'All_cities'\n",
    "\n",
    "df_TCZ_list_china = gdr.upload_data_from_spreadsheet(sheetID = sheetid,\n",
    "sheetName = sheetname,\n",
    "\t to_dataframe = True).to_csv('df_TCZ_list_china.csv', index = False)"
   ]
  },
  {
   "cell_type": "code",
   "execution_count": 153,
   "metadata": {
    "Collapsed": "false",
    "kernel": "R"
   },
   "outputs": [
    {
     "name": "stderr",
     "output_type": "stream",
     "text": [
      "Parsed with column specification:\n",
      "cols(\n",
      "  Province = \u001b[31mcol_character()\u001b[39m,\n",
      "  City = \u001b[31mcol_character()\u001b[39m,\n",
      "  geocode4_corr = \u001b[32mcol_double()\u001b[39m,\n",
      "  TCZ = \u001b[32mcol_double()\u001b[39m,\n",
      "  SPZ = \u001b[32mcol_double()\u001b[39m\n",
      ")\n",
      "Joining, by = \"geocode4_corr\""
     ]
    },
    {
     "data": {
      "text/html": [
       "<table>\n",
       "<caption>A data.frame: 6 × 40</caption>\n",
       "<thead>\n",
       "\t<tr><th scope=col>cityen</th><th scope=col>industry</th><th scope=col>count</th><th scope=col>id</th><th scope=col>year</th><th scope=col>bdat</th><th scope=col>geocode4_corr</th><th scope=col>Province_en</th><th scope=col>Lower_location</th><th scope=col>Larger_location</th><th scope=col>⋯</th><th scope=col>FE_t_i</th><th scope=col>FE_t_c</th><th scope=col>FE_c_i_o</th><th scope=col>FE_t_o</th><th scope=col>id_</th><th scope=col>tfp</th><th scope=col>tfp_OP</th><th scope=col>tfp_LP</th><th scope=col>City</th><th scope=col>SPZ</th></tr>\n",
       "\t<tr><th scope=col>&lt;fct&gt;</th><th scope=col>&lt;int&gt;</th><th scope=col>&lt;int&gt;</th><th scope=col>&lt;fct&gt;</th><th scope=col>&lt;int&gt;</th><th scope=col>&lt;int&gt;</th><th scope=col>&lt;dbl&gt;</th><th scope=col>&lt;fct&gt;</th><th scope=col>&lt;fct&gt;</th><th scope=col>&lt;fct&gt;</th><th scope=col>⋯</th><th scope=col>&lt;fct&gt;</th><th scope=col>&lt;fct&gt;</th><th scope=col>&lt;fct&gt;</th><th scope=col>&lt;fct&gt;</th><th scope=col>&lt;int&gt;</th><th scope=col>&lt;dbl&gt;</th><th scope=col>&lt;dbl&gt;</th><th scope=col>&lt;dbl&gt;</th><th scope=col>&lt;chr&gt;</th><th scope=col>&lt;dbl&gt;</th></tr>\n",
       "</thead>\n",
       "<tbody>\n",
       "\t<tr><td>Cangzhou</td><td>3131</td><td>2</td><td>CH720999X</td><td>2004</td><td>1975</td><td>1309</td><td>Hebei</td><td>Coastal</td><td>Eastern</td><td>⋯</td><td>48 </td><td>603</td><td>8759</td><td>2 </td><td>99040</td><td>7.580176</td><td>7.479918</td><td>7.580176</td><td>Cangzhou</td><td>0</td></tr>\n",
       "\t<tr><td>Cangzhou</td><td>3131</td><td>2</td><td>CH720999X</td><td>2005</td><td>1980</td><td>1309</td><td>Hebei</td><td>Coastal</td><td>Eastern</td><td>⋯</td><td>418</td><td>607</td><td>8759</td><td>4 </td><td>99040</td><td>7.762242</td><td>7.642168</td><td>7.762242</td><td>Cangzhou</td><td>0</td></tr>\n",
       "\t<tr><td>Cangzhou</td><td>3131</td><td>2</td><td>106600397</td><td>2002</td><td>1958</td><td>1309</td><td>Hebei</td><td>Coastal</td><td>Eastern</td><td>⋯</td><td>373</td><td>605</td><td>8760</td><td>11</td><td>99041</td><td>7.745019</td><td>7.645365</td><td>7.745019</td><td>Cangzhou</td><td>0</td></tr>\n",
       "\t<tr><td>Cangzhou</td><td>3131</td><td>2</td><td>106600397</td><td>2003</td><td>1958</td><td>1309</td><td>Hebei</td><td>Coastal</td><td>Eastern</td><td>⋯</td><td>49 </td><td>608</td><td>8760</td><td>5 </td><td>99041</td><td>7.394833</td><td>7.296383</td><td>7.394833</td><td>Cangzhou</td><td>0</td></tr>\n",
       "\t<tr><td>Cangzhou</td><td>3131</td><td>2</td><td>106600397</td><td>2004</td><td>1984</td><td>1309</td><td>Hebei</td><td>Coastal</td><td>Eastern</td><td>⋯</td><td>48 </td><td>603</td><td>8760</td><td>8 </td><td>99041</td><td>7.751758</td><td>7.652611</td><td>7.751758</td><td>Cangzhou</td><td>0</td></tr>\n",
       "\t<tr><td>Cangzhou</td><td>3131</td><td>2</td><td>106600397</td><td>2005</td><td>1984</td><td>1309</td><td>Hebei</td><td>Coastal</td><td>Eastern</td><td>⋯</td><td>418</td><td>607</td><td>8760</td><td>9 </td><td>99041</td><td>7.950730</td><td>7.848543</td><td>7.950730</td><td>Cangzhou</td><td>0</td></tr>\n",
       "</tbody>\n",
       "</table>\n"
      ],
      "text/latex": [
       "A data.frame: 6 × 40\n",
       "\\begin{tabular}{r|llllllllllllllllllllllllllllllllllllllll}\n",
       " cityen & industry & count & id & year & bdat & geocode4\\_corr & Province\\_en & Lower\\_location & Larger\\_location & Coastal & SOE & cic & indu\\_2 & Industry\\_Name & Short & output\\_fcit & capital\\_fcit & labour\\_fcit & input & ownership & Period & TCZ\\_c & tso2\\_i & polluted\\_di & polluted\\_mi & polluted\\_thre & target\\_c & effort\\_c & FE\\_c\\_i & FE\\_t\\_i & FE\\_t\\_c & FE\\_c\\_i\\_o & FE\\_t\\_o & id\\_ & tfp & tfp\\_OP & tfp\\_LP & City & SPZ\\\\\n",
       " <fct> & <int> & <int> & <fct> & <int> & <int> & <dbl> & <fct> & <fct> & <fct> & <fct> & <fct> & <int> & <int> & <fct> & <fct> & <int> & <int> & <int> & <dbl> & <fct> & <fct> & <fct> & <dbl> & <fct> & <fct> & <fct> & <dbl> & <fct> & <fct> & <fct> & <fct> & <fct> & <fct> & <int> & <dbl> & <dbl> & <dbl> & <chr> & <dbl>\\\\\n",
       "\\hline\n",
       "\t Cangzhou & 3131 & 2 & CH720999X & 2004 & 1975 & 1309 & Hebei & Coastal & Eastern & True & PRIVATE & 3131 & 31 & Non-metallic Mineral Products & Non-metallic Products &  8670 &  2440 &  56 & 5600 & Collective & Before & No\\_TCZ & 1134685 & Above & Above & Above & 0.1590958 & Above & 6311 & 48  & 603 & 8759 & 2  & 99040 & 7.580176 & 7.479918 & 7.580176 & Cangzhou & 0\\\\\n",
       "\t Cangzhou & 3131 & 2 & CH720999X & 2005 & 1980 & 1309 & Hebei & Coastal & Eastern & True & PRIVATE & 3131 & 31 & Non-metallic Mineral Products & Non-metallic Products & 13500 & 11400 &  70 & 6930 & Collective & Before & No\\_TCZ & 1134685 & Above & Above & Above & 0.1590958 & Above & 6311 & 418 & 607 & 8759 & 4  & 99040 & 7.762242 & 7.642168 & 7.762242 & Cangzhou & 0\\\\\n",
       "\t Cangzhou & 3131 & 2 & 106600397 & 2002 & 1958 & 1309 & Hebei & Coastal & Eastern & True & SOE     & 3131 & 31 & Non-metallic Mineral Products & Non-metallic Products & 11267 &  2328 & 340 & 6480 & SOE        & Before & No\\_TCZ & 1134685 & Above & Above & Above & 0.1590958 & Above & 6311 & 373 & 605 & 8760 & 11 & 99041 & 7.745019 & 7.645365 & 7.745019 & Cangzhou & 0\\\\\n",
       "\t Cangzhou & 3131 & 2 & 106600397 & 2003 & 1958 & 1309 & Hebei & Coastal & Eastern & True & SOE     & 3131 & 31 & Non-metallic Mineral Products & Non-metallic Products &  7852 &  2120 & 365 & 4850 & SOE        & Before & No\\_TCZ & 1134685 & Above & Above & Above & 0.1590958 & Above & 6311 & 49  & 608 & 8760 & 5  & 99041 & 7.394833 & 7.296383 & 7.394833 & Cangzhou & 0\\\\\n",
       "\t Cangzhou & 3131 & 2 & 106600397 & 2004 & 1984 & 1309 & Hebei & Coastal & Eastern & True & SOE     & 3131 & 31 & Non-metallic Mineral Products & Non-metallic Products & 10769 &  2238 & 155 & 4033 & SOE        & Before & No\\_TCZ & 1134685 & Above & Above & Above & 0.1590958 & Above & 6311 & 48  & 603 & 8760 & 8  & 99041 & 7.751758 & 7.652611 & 7.751758 & Cangzhou & 0\\\\\n",
       "\t Cangzhou & 3131 & 2 & 106600397 & 2005 & 1984 & 1309 & Hebei & Coastal & Eastern & True & SOE     & 3131 & 31 & Non-metallic Mineral Products & Non-metallic Products & 13664 &  2835 & 158 & 4912 & SOE        & Before & No\\_TCZ & 1134685 & Above & Above & Above & 0.1590958 & Above & 6311 & 418 & 607 & 8760 & 9  & 99041 & 7.950730 & 7.848543 & 7.950730 & Cangzhou & 0\\\\\n",
       "\\end{tabular}\n"
      ],
      "text/markdown": [
       "\n",
       "A data.frame: 6 × 40\n",
       "\n",
       "| cityen &lt;fct&gt; | industry &lt;int&gt; | count &lt;int&gt; | id &lt;fct&gt; | year &lt;int&gt; | bdat &lt;int&gt; | geocode4_corr &lt;dbl&gt; | Province_en &lt;fct&gt; | Lower_location &lt;fct&gt; | Larger_location &lt;fct&gt; | ⋯ ⋯ | FE_t_i &lt;fct&gt; | FE_t_c &lt;fct&gt; | FE_c_i_o &lt;fct&gt; | FE_t_o &lt;fct&gt; | id_ &lt;int&gt; | tfp &lt;dbl&gt; | tfp_OP &lt;dbl&gt; | tfp_LP &lt;dbl&gt; | City &lt;chr&gt; | SPZ &lt;dbl&gt; |\n",
       "|---|---|---|---|---|---|---|---|---|---|---|---|---|---|---|---|---|---|---|---|---|\n",
       "| Cangzhou | 3131 | 2 | CH720999X | 2004 | 1975 | 1309 | Hebei | Coastal | Eastern | ⋯ | 48  | 603 | 8759 | 2  | 99040 | 7.580176 | 7.479918 | 7.580176 | Cangzhou | 0 |\n",
       "| Cangzhou | 3131 | 2 | CH720999X | 2005 | 1980 | 1309 | Hebei | Coastal | Eastern | ⋯ | 418 | 607 | 8759 | 4  | 99040 | 7.762242 | 7.642168 | 7.762242 | Cangzhou | 0 |\n",
       "| Cangzhou | 3131 | 2 | 106600397 | 2002 | 1958 | 1309 | Hebei | Coastal | Eastern | ⋯ | 373 | 605 | 8760 | 11 | 99041 | 7.745019 | 7.645365 | 7.745019 | Cangzhou | 0 |\n",
       "| Cangzhou | 3131 | 2 | 106600397 | 2003 | 1958 | 1309 | Hebei | Coastal | Eastern | ⋯ | 49  | 608 | 8760 | 5  | 99041 | 7.394833 | 7.296383 | 7.394833 | Cangzhou | 0 |\n",
       "| Cangzhou | 3131 | 2 | 106600397 | 2004 | 1984 | 1309 | Hebei | Coastal | Eastern | ⋯ | 48  | 603 | 8760 | 8  | 99041 | 7.751758 | 7.652611 | 7.751758 | Cangzhou | 0 |\n",
       "| Cangzhou | 3131 | 2 | 106600397 | 2005 | 1984 | 1309 | Hebei | Coastal | Eastern | ⋯ | 418 | 607 | 8760 | 9  | 99041 | 7.950730 | 7.848543 | 7.950730 | Cangzhou | 0 |\n",
       "\n"
      ],
      "text/plain": [
       "  cityen   industry count id        year bdat geocode4_corr Province_en\n",
       "1 Cangzhou 3131     2     CH720999X 2004 1975 1309          Hebei      \n",
       "2 Cangzhou 3131     2     CH720999X 2005 1980 1309          Hebei      \n",
       "3 Cangzhou 3131     2     106600397 2002 1958 1309          Hebei      \n",
       "4 Cangzhou 3131     2     106600397 2003 1958 1309          Hebei      \n",
       "5 Cangzhou 3131     2     106600397 2004 1984 1309          Hebei      \n",
       "6 Cangzhou 3131     2     106600397 2005 1984 1309          Hebei      \n",
       "  Lower_location Larger_location ⋯ FE_t_i FE_t_c FE_c_i_o FE_t_o id_   tfp     \n",
       "1 Coastal        Eastern         ⋯ 48     603    8759     2      99040 7.580176\n",
       "2 Coastal        Eastern         ⋯ 418    607    8759     4      99040 7.762242\n",
       "3 Coastal        Eastern         ⋯ 373    605    8760     11     99041 7.745019\n",
       "4 Coastal        Eastern         ⋯ 49     608    8760     5      99041 7.394833\n",
       "5 Coastal        Eastern         ⋯ 48     603    8760     8      99041 7.751758\n",
       "6 Coastal        Eastern         ⋯ 418    607    8760     9      99041 7.950730\n",
       "  tfp_OP   tfp_LP   City     SPZ\n",
       "1 7.479918 7.580176 Cangzhou 0  \n",
       "2 7.642168 7.762242 Cangzhou 0  \n",
       "3 7.645365 7.745019 Cangzhou 0  \n",
       "4 7.296383 7.394833 Cangzhou 0  \n",
       "5 7.652611 7.751758 Cangzhou 0  \n",
       "6 7.848543 7.950730 Cangzhou 0  "
      ]
     },
     "metadata": {},
     "output_type": "display_data"
    }
   ],
   "source": [
    "library(tidyverse)\n",
    "library(lfe)\n",
    "\n",
    "df_TCZ_list_china = read_csv('df_TCZ_list_china.csv') %>% \n",
    "select(-c(TCZ, Province))\n",
    "\n",
    "df_final <-  read.csv(\"test.csv\") %>% \n",
    "    mutate_if(is.character, as.factor) %>%\n",
    "    mutate_at(vars(starts_with(\"FE\")), as.factor) %>%\n",
    "    mutate(\n",
    "         Period = relevel(Period, ref='Before'),\n",
    "         TCZ_c = relevel(TCZ_c, ref='No_TCZ'),\n",
    "         effort_c = relevel(effort_c, ref='Below'),\n",
    "         #polluted_di = relevel(polluted_di, ref='Below'),\n",
    "         #polluted_mi = relevel(polluted_mi, ref='Below'),\n",
    "         polluted_thre = relevel(polluted_thre, ref='Below'),\n",
    "  ) %>% left_join(df_TCZ_list_china)\n",
    "head(df_final)"
   ]
  },
  {
   "cell_type": "code",
   "execution_count": 158,
   "metadata": {
    "Collapsed": "false",
    "kernel": "R"
   },
   "outputs": [
    {
     "name": "stderr",
     "output_type": "stream",
     "text": [
      "Warning message in chol.default(mat, pivot = TRUE, tol = tol):\n",
      "“矩阵的秩亏或不确定”Warning message in chol.default(mat, pivot = TRUE, tol = tol):\n",
      "“矩阵的秩亏或不确定”"
     ]
    },
    {
     "data": {
      "text/plain": [
       "\n",
       "Call:\n",
       "   felm(formula = tfp_OP ~ TCZ_c * polluted_thre * Period | FE_c_i +      FE_t_i + FE_t_c | 0 | cityen, data = df_final, exactDOF = TRUE) \n",
       "\n",
       "Residuals:\n",
       "    Min      1Q  Median      3Q     Max \n",
       "-7.7402 -0.6200 -0.0572  0.5683  5.1486 \n",
       "\n",
       "Coefficients:\n",
       "                                        Estimate Cluster s.e. t value Pr(>|t|)\n",
       "TCZ_cTCZ                                      NA      0.00000      NA       NA\n",
       "polluted_threAbove                            NA      0.00000      NA       NA\n",
       "PeriodAfter                                   NA      0.00000      NA       NA\n",
       "TCZ_cTCZ:polluted_threAbove                   NA      0.00000      NA       NA\n",
       "TCZ_cTCZ:PeriodAfter                          NA      0.00000      NA       NA\n",
       "polluted_threAbove:PeriodAfter                NA      0.00000      NA       NA\n",
       "TCZ_cTCZ:polluted_threAbove:PeriodAfter  0.70761      0.04423      16   <2e-16\n",
       "                                           \n",
       "TCZ_cTCZ                                   \n",
       "polluted_threAbove                         \n",
       "PeriodAfter                                \n",
       "TCZ_cTCZ:polluted_threAbove                \n",
       "TCZ_cTCZ:PeriodAfter                       \n",
       "polluted_threAbove:PeriodAfter             \n",
       "TCZ_cTCZ:polluted_threAbove:PeriodAfter ***\n",
       "---\n",
       "Signif. codes:  0 ‘***’ 0.001 ‘**’ 0.01 ‘*’ 0.05 ‘.’ 0.1 ‘ ’ 1\n",
       "\n",
       "Residual standard error: 0.935 on 36251 degrees of freedom\n",
       "Multiple R-squared(full model): 0.1275   Adjusted R-squared: 0.1131 \n",
       "Multiple R-squared(proj model): 0.0003635   Adjusted R-squared: -0.01618 \n",
       "F-statistic(full model, *iid*):8.831 on 600 and 36251 DF, p-value: < 2.2e-16 \n",
       "F-statistic(proj model): 36.57 on 7 and 53 DF, p-value: < 2.2e-16 \n",
       "\n"
      ]
     },
     "metadata": {},
     "output_type": "display_data"
    }
   ],
   "source": [
    "t1 = felm(formula= tfp_OP ~ TCZ_c * polluted_thre * Period\n",
    "                  |\n",
    "          FE_c_i + FE_t_i + FE_t_c\n",
    "          | 0 |\n",
    "             cityen, data= df_final,\n",
    "             exactDOF=TRUE)\n",
    "summary(t1)"
   ]
  },
  {
   "cell_type": "code",
   "execution_count": 159,
   "metadata": {
    "Collapsed": "false",
    "kernel": "R"
   },
   "outputs": [
    {
     "name": "stderr",
     "output_type": "stream",
     "text": [
      "Warning message in chol.default(mat, pivot = TRUE, tol = tol):\n",
      "“矩阵的秩亏或不确定”Warning message in chol.default(mat, pivot = TRUE, tol = tol):\n",
      "“矩阵的秩亏或不确定”"
     ]
    },
    {
     "data": {
      "text/plain": [
       "\n",
       "Call:\n",
       "   felm(formula = tfp_OP ~ TCZ_c * polluted_thre * Period | FE_t_c +      FE_t_i + FE_c_i | 0 | cityen, data = df_final %>% filter(SOE ==      \"SOE\"), exactDOF = TRUE) \n",
       "\n",
       "Residuals:\n",
       "    Min      1Q  Median      3Q     Max \n",
       "-5.8309 -0.6455  0.0000  0.7105  5.1492 \n",
       "\n",
       "Coefficients:\n",
       "                                        Estimate Cluster s.e. t value Pr(>|t|)\n",
       "TCZ_cTCZ                                      NA       0.0000      NA       NA\n",
       "polluted_threAbove                            NA       0.0000      NA       NA\n",
       "PeriodAfter                                   NA       0.0000      NA       NA\n",
       "TCZ_cTCZ:polluted_threAbove                   NA       0.0000      NA       NA\n",
       "TCZ_cTCZ:PeriodAfter                          NA       0.0000      NA       NA\n",
       "polluted_threAbove:PeriodAfter                NA       0.0000      NA       NA\n",
       "TCZ_cTCZ:polluted_threAbove:PeriodAfter   0.5060       0.2054   2.463   0.0139\n",
       "                                         \n",
       "TCZ_cTCZ                                 \n",
       "polluted_threAbove                       \n",
       "PeriodAfter                              \n",
       "TCZ_cTCZ:polluted_threAbove              \n",
       "TCZ_cTCZ:PeriodAfter                     \n",
       "polluted_threAbove:PeriodAfter           \n",
       "TCZ_cTCZ:polluted_threAbove:PeriodAfter *\n",
       "---\n",
       "Signif. codes:  0 ‘***’ 0.001 ‘**’ 0.01 ‘*’ 0.05 ‘.’ 0.1 ‘ ’ 1\n",
       "\n",
       "Residual standard error: 1.349 on 1814 degrees of freedom\n",
       "Multiple R-squared(full model): 0.4816   Adjusted R-squared: 0.3102 \n",
       "Multiple R-squared(proj model): 0.0002869   Adjusted R-squared: -0.3304 \n",
       "F-statistic(full model, *iid*):2.809 on 600 and 1814 DF, p-value: < 2.2e-16 \n",
       "F-statistic(proj model): 0.8666 on 7 and 53 DF, p-value: 0.5388 \n",
       "\n"
      ]
     },
     "metadata": {},
     "output_type": "display_data"
    }
   ],
   "source": [
    "summary(felm(formula= tfp_OP ~ \n",
    "          TCZ_c * polluted_thre * Period \n",
    "        #+ SPZ  * polluted_thre * Period\n",
    "        #+ Coastal * polluted_thre* Period \n",
    "                  |\n",
    "             FE_t_c + FE_t_i + FE_c_i | 0 |\n",
    "             cityen, data= df_final %>% filter(SOE == \"SOE\")\n",
    "             ,\n",
    "             exactDOF=TRUE))"
   ]
  },
  {
   "cell_type": "code",
   "execution_count": 160,
   "metadata": {
    "Collapsed": "false",
    "kernel": "R"
   },
   "outputs": [
    {
     "name": "stderr",
     "output_type": "stream",
     "text": [
      "Warning message in chol.default(mat, pivot = TRUE, tol = tol):\n",
      "“矩阵的秩亏或不确定”Warning message in chol.default(mat, pivot = TRUE, tol = tol):\n",
      "“矩阵的秩亏或不确定”"
     ]
    },
    {
     "data": {
      "text/plain": [
       "\n",
       "Call:\n",
       "   felm(formula = tfp_OP ~ TCZ_c * polluted_thre * Period | FE_t_c +      FE_t_i + FE_c_i | 0 | cityen, data = df_final %>% filter(SOE !=      \"SOE\"), exactDOF = TRUE) \n",
       "\n",
       "Residuals:\n",
       "    Min      1Q  Median      3Q     Max \n",
       "-7.4441 -0.6109 -0.0651  0.5375  5.0620 \n",
       "\n",
       "Coefficients:\n",
       "                                        Estimate Cluster s.e. t value Pr(>|t|)\n",
       "TCZ_cTCZ                                      NA      0.00000      NA       NA\n",
       "polluted_threAbove                            NA      0.00000      NA       NA\n",
       "PeriodAfter                                   NA      0.00000      NA       NA\n",
       "TCZ_cTCZ:polluted_threAbove                   NA      0.00000      NA       NA\n",
       "TCZ_cTCZ:PeriodAfter                          NA      0.00000      NA       NA\n",
       "polluted_threAbove:PeriodAfter                NA      0.00000      NA       NA\n",
       "TCZ_cTCZ:polluted_threAbove:PeriodAfter  0.53602      0.02287   23.44   <2e-16\n",
       "                                           \n",
       "TCZ_cTCZ                                   \n",
       "polluted_threAbove                         \n",
       "PeriodAfter                                \n",
       "TCZ_cTCZ:polluted_threAbove                \n",
       "TCZ_cTCZ:PeriodAfter                       \n",
       "polluted_threAbove:PeriodAfter             \n",
       "TCZ_cTCZ:polluted_threAbove:PeriodAfter ***\n",
       "---\n",
       "Signif. codes:  0 ‘***’ 0.001 ‘**’ 0.01 ‘*’ 0.05 ‘.’ 0.1 ‘ ’ 1\n",
       "\n",
       "Residual standard error: 0.8848 on 33836 degrees of freedom\n",
       "Multiple R-squared(full model): 0.1036   Adjusted R-squared: 0.0877 \n",
       "Multiple R-squared(proj model): 0.0001787   Adjusted R-squared: -0.01755 \n",
       "F-statistic(full model, *iid*):6.518 on 600 and 33836 DF, p-value: < 2.2e-16 \n",
       "F-statistic(proj model):  78.5 on 7 and 53 DF, p-value: < 2.2e-16 \n",
       "\n"
      ]
     },
     "metadata": {},
     "output_type": "display_data"
    }
   ],
   "source": [
    "summary(felm(formula= tfp_OP ~ \n",
    "          TCZ_c * polluted_thre * Period \n",
    "        #+ SPZ  * polluted_thre * Period\n",
    "        #+ Coastal * polluted_thre* Period \n",
    "                  |\n",
    "             FE_t_c + FE_t_i + FE_c_i | 0 |\n",
    "             cityen, data= df_final %>% filter(SOE != \"SOE\")\n",
    "             ,\n",
    "             exactDOF=TRUE))"
   ]
  },
  {
   "cell_type": "code",
   "execution_count": 161,
   "metadata": {
    "Collapsed": "false",
    "kernel": "R"
   },
   "outputs": [
    {
     "name": "stderr",
     "output_type": "stream",
     "text": [
      "Warning message in chol.default(mat, pivot = TRUE, tol = tol):\n",
      "“矩阵的秩亏或不确定”Warning message in chol.default(mat, pivot = TRUE, tol = tol):\n",
      "“矩阵的秩亏或不确定”"
     ]
    },
    {
     "data": {
      "text/plain": [
       "\n",
       "Call:\n",
       "   felm(formula = tfp_OP ~ SPZ * polluted_thre * Period | FE_t_c +      FE_t_i + FE_c_i | 0 | cityen, data = df_final %>% filter(SOE ==      \"SOE\"), exactDOF = TRUE) \n",
       "\n",
       "Residuals:\n",
       "    Min      1Q  Median      3Q     Max \n",
       "-5.8295 -0.6514  0.0000  0.7012  5.1464 \n",
       "\n",
       "Coefficients:\n",
       "                                   Estimate Cluster s.e. t value Pr(>|t|)    \n",
       "SPZ                                      NA      0.00000      NA       NA    \n",
       "polluted_threAbove                       NA      0.00000      NA       NA    \n",
       "PeriodAfter                              NA      0.00000      NA       NA    \n",
       "SPZ:polluted_threAbove                   NA      0.00000      NA       NA    \n",
       "SPZ:PeriodAfter                          NA      0.00000      NA       NA    \n",
       "polluted_threAbove:PeriodAfter           NA      0.00000      NA       NA    \n",
       "SPZ:polluted_threAbove:PeriodAfter  0.06987      0.01573   4.442 9.45e-06 ***\n",
       "---\n",
       "Signif. codes:  0 ‘***’ 0.001 ‘**’ 0.01 ‘*’ 0.05 ‘.’ 0.1 ‘ ’ 1\n",
       "\n",
       "Residual standard error: 1.35 on 1814 degrees of freedom\n",
       "Multiple R-squared(full model): 0.4815   Adjusted R-squared:  0.31 \n",
       "Multiple R-squared(proj model): 5.985e-07   Adjusted R-squared: -0.3308 \n",
       "F-statistic(full model, *iid*):2.807 on 600 and 1814 DF, p-value: < 2.2e-16 \n",
       "F-statistic(proj model): 2.819 on 7 and 53 DF, p-value: 0.01426 \n",
       "\n"
      ]
     },
     "metadata": {},
     "output_type": "display_data"
    }
   ],
   "source": [
    "summary(felm(formula= tfp_OP ~ \n",
    "          #TCZ_c * polluted_thre * Period \n",
    "            SPZ  * polluted_thre * Period\n",
    "        #+ Coastal * polluted_thre* Period \n",
    "                  |\n",
    "             FE_t_c + FE_t_i + FE_c_i | 0 |\n",
    "             cityen, data= df_final %>% filter(SOE == \"SOE\")\n",
    "             ,\n",
    "             exactDOF=TRUE))"
   ]
  },
  {
   "cell_type": "code",
   "execution_count": 162,
   "metadata": {
    "Collapsed": "false",
    "kernel": "R"
   },
   "outputs": [
    {
     "name": "stderr",
     "output_type": "stream",
     "text": [
      "Warning message in chol.default(mat, pivot = TRUE, tol = tol):\n",
      "“矩阵的秩亏或不确定”Warning message in chol.default(mat, pivot = TRUE, tol = tol):\n",
      "“矩阵的秩亏或不确定”"
     ]
    },
    {
     "data": {
      "text/plain": [
       "\n",
       "Call:\n",
       "   felm(formula = tfp_OP ~ SPZ * polluted_thre * Period | FE_t_c +      FE_t_i + FE_c_i | 0 | cityen, data = df_final %>% filter(SOE !=      \"SOE\"), exactDOF = TRUE) \n",
       "\n",
       "Residuals:\n",
       "    Min      1Q  Median      3Q     Max \n",
       "-7.4421 -0.6114 -0.0654  0.5376  5.0620 \n",
       "\n",
       "Coefficients:\n",
       "                                    Estimate Cluster s.e. t value Pr(>|t|)    \n",
       "SPZ                                       NA    0.0000000      NA       NA    \n",
       "polluted_threAbove                        NA    0.0000000      NA       NA    \n",
       "PeriodAfter                               NA    0.0000000      NA       NA    \n",
       "SPZ:polluted_threAbove                    NA    0.0000000      NA       NA    \n",
       "SPZ:PeriodAfter                           NA    0.0000000      NA       NA    \n",
       "polluted_threAbove:PeriodAfter            NA    0.0000000      NA       NA    \n",
       "SPZ:polluted_threAbove:PeriodAfter 0.1467668    0.0007653   191.8   <2e-16 ***\n",
       "---\n",
       "Signif. codes:  0 ‘***’ 0.001 ‘**’ 0.01 ‘*’ 0.05 ‘.’ 0.1 ‘ ’ 1\n",
       "\n",
       "Residual standard error: 0.8848 on 33836 degrees of freedom\n",
       "Multiple R-squared(full model): 0.1034   Adjusted R-squared: 0.08755 \n",
       "Multiple R-squared(proj model): 7.43e-06   Adjusted R-squared: -0.01773 \n",
       "F-statistic(full model, *iid*):6.507 on 600 and 33836 DF, p-value: < 2.2e-16 \n",
       "F-statistic(proj model):  5254 on 7 and 53 DF, p-value: < 2.2e-16 \n",
       "\n"
      ]
     },
     "metadata": {},
     "output_type": "display_data"
    }
   ],
   "source": [
    "summary(felm(formula= tfp_OP ~ \n",
    "          #TCZ_c * polluted_thre * Period \n",
    "            SPZ  * polluted_thre * Period\n",
    "        #+ Coastal * polluted_thre* Period \n",
    "                  |\n",
    "             FE_t_c + FE_t_i + FE_c_i | 0 |\n",
    "             cityen, data= df_final %>% filter(SOE != \"SOE\")\n",
    "             ,\n",
    "             exactDOF=TRUE))"
   ]
  },
  {
   "cell_type": "code",
   "execution_count": 163,
   "metadata": {
    "Collapsed": "false",
    "kernel": "R"
   },
   "outputs": [
    {
     "name": "stderr",
     "output_type": "stream",
     "text": [
      "Warning message in chol.default(mat, pivot = TRUE, tol = tol):\n",
      "“矩阵的秩亏或不确定”Warning message in chol.default(mat, pivot = TRUE, tol = tol):\n",
      "“矩阵的秩亏或不确定”"
     ]
    },
    {
     "data": {
      "text/plain": [
       "\n",
       "Call:\n",
       "   felm(formula = tfp_OP ~ Coastal * polluted_thre * Period | FE_t_c +      FE_t_i + FE_c_i | 0 | cityen, data = df_final %>% filter(SOE ==      \"SOE\"), exactDOF = TRUE) \n",
       "\n",
       "Residuals:\n",
       "    Min      1Q  Median      3Q     Max \n",
       "-5.8367 -0.6439  0.0000  0.7102  5.1474 \n",
       "\n",
       "Coefficients:\n",
       "                                           Estimate Cluster s.e. t value\n",
       "CoastalTrue                                      NA       0.0000      NA\n",
       "polluted_threAbove                               NA       0.0000      NA\n",
       "PeriodAfter                                      NA       0.0000      NA\n",
       "CoastalTrue:polluted_threAbove                   NA       0.0000      NA\n",
       "CoastalTrue:PeriodAfter                          NA       0.0000      NA\n",
       "polluted_threAbove:PeriodAfter                   NA       0.0000      NA\n",
       "CoastalTrue:polluted_threAbove:PeriodAfter   0.5133       0.1591   3.226\n",
       "                                           Pr(>|t|)   \n",
       "CoastalTrue                                      NA   \n",
       "polluted_threAbove                               NA   \n",
       "PeriodAfter                                      NA   \n",
       "CoastalTrue:polluted_threAbove                   NA   \n",
       "CoastalTrue:PeriodAfter                          NA   \n",
       "polluted_threAbove:PeriodAfter                   NA   \n",
       "CoastalTrue:polluted_threAbove:PeriodAfter  0.00128 **\n",
       "---\n",
       "Signif. codes:  0 ‘***’ 0.001 ‘**’ 0.01 ‘*’ 0.05 ‘.’ 0.1 ‘ ’ 1\n",
       "\n",
       "Residual standard error: 1.349 on 1814 degrees of freedom\n",
       "Multiple R-squared(full model): 0.4817   Adjusted R-squared: 0.3103 \n",
       "Multiple R-squared(proj model): 0.0004732   Adjusted R-squared: -0.3301 \n",
       "F-statistic(full model, *iid*): 2.81 on 600 and 1814 DF, p-value: < 2.2e-16 \n",
       "F-statistic(proj model): 1.487 on 7 and 53 DF, p-value: 0.1921 \n",
       "\n"
      ]
     },
     "metadata": {},
     "output_type": "display_data"
    }
   ],
   "source": [
    "summary(felm(formula= tfp_OP ~ \n",
    "          #TCZ_c * polluted_thre * Period \n",
    "            #SPZ  * polluted_thre * Period\n",
    "            Coastal * polluted_thre* Period \n",
    "                  |\n",
    "             FE_t_c + FE_t_i + FE_c_i | 0 |\n",
    "             cityen, data= df_final %>% filter(SOE == \"SOE\")\n",
    "             ,\n",
    "             exactDOF=TRUE))"
   ]
  },
  {
   "cell_type": "code",
   "execution_count": 164,
   "metadata": {
    "Collapsed": "false",
    "kernel": "R"
   },
   "outputs": [
    {
     "name": "stderr",
     "output_type": "stream",
     "text": [
      "Warning message in chol.default(mat, pivot = TRUE, tol = tol):\n",
      "“矩阵的秩亏或不确定”Warning message in chol.default(mat, pivot = TRUE, tol = tol):\n",
      "“矩阵的秩亏或不确定”"
     ]
    },
    {
     "data": {
      "text/plain": [
       "\n",
       "Call:\n",
       "   felm(formula = tfp_OP ~ Coastal * polluted_thre * Period | FE_t_c +      FE_t_i + FE_c_i | 0 | cityen, data = df_final %>% filter(SOE !=      \"SOE\"), exactDOF = TRUE) \n",
       "\n",
       "Residuals:\n",
       "    Min      1Q  Median      3Q     Max \n",
       "-7.4437 -0.6112 -0.0651  0.5375  5.0620 \n",
       "\n",
       "Coefficients:\n",
       "                                           Estimate Cluster s.e. t value\n",
       "CoastalTrue                                      NA       0.0000      NA\n",
       "polluted_threAbove                               NA       0.0000      NA\n",
       "PeriodAfter                                      NA       0.0000      NA\n",
       "CoastalTrue:polluted_threAbove                   NA       0.0000      NA\n",
       "CoastalTrue:PeriodAfter                          NA       0.0000      NA\n",
       "polluted_threAbove:PeriodAfter                   NA       0.0000      NA\n",
       "CoastalTrue:polluted_threAbove:PeriodAfter   0.3818       0.1162   3.286\n",
       "                                           Pr(>|t|)   \n",
       "CoastalTrue                                      NA   \n",
       "polluted_threAbove                               NA   \n",
       "PeriodAfter                                      NA   \n",
       "CoastalTrue:polluted_threAbove                   NA   \n",
       "CoastalTrue:PeriodAfter                          NA   \n",
       "polluted_threAbove:PeriodAfter                   NA   \n",
       "CoastalTrue:polluted_threAbove:PeriodAfter  0.00102 **\n",
       "---\n",
       "Signif. codes:  0 ‘***’ 0.001 ‘**’ 0.01 ‘*’ 0.05 ‘.’ 0.1 ‘ ’ 1\n",
       "\n",
       "Residual standard error: 0.8848 on 33836 degrees of freedom\n",
       "Multiple R-squared(full model): 0.1036   Adjusted R-squared: 0.08769 \n",
       "Multiple R-squared(proj model): 0.0001639   Adjusted R-squared: -0.01757 \n",
       "F-statistic(full model, *iid*):6.517 on 600 and 33836 DF, p-value: < 2.2e-16 \n",
       "F-statistic(proj model): 1.543 on 7 and 53 DF, p-value: 0.1733 \n",
       "\n"
      ]
     },
     "metadata": {},
     "output_type": "display_data"
    }
   ],
   "source": [
    "summary(felm(formula= tfp_OP ~ \n",
    "          #TCZ_c * polluted_thre * Period \n",
    "            #SPZ  * polluted_thre * Period\n",
    "            Coastal * polluted_thre* Period \n",
    "                  |\n",
    "             FE_t_c + FE_t_i + FE_c_i | 0 |\n",
    "             cityen, data= df_final %>% filter(SOE != \"SOE\")\n",
    "             ,\n",
    "             exactDOF=TRUE))"
   ]
  },
  {
   "cell_type": "code",
   "execution_count": 166,
   "metadata": {
    "Collapsed": "false",
    "kernel": "R"
   },
   "outputs": [
    {
     "name": "stderr",
     "output_type": "stream",
     "text": [
      "Warning message in chol.default(mat, pivot = TRUE, tol = tol):\n",
      "“矩阵的秩亏或不确定”Warning message in chol.default(mat, pivot = TRUE, tol = tol):\n",
      "“矩阵的秩亏或不确定”"
     ]
    },
    {
     "data": {
      "text/plain": [
       "\n",
       "Call:\n",
       "   felm(formula = tfp_OP ~ TCZ_c * polluted_thre * Period + SPZ *      polluted_thre * Period + Coastal * polluted_thre * Period |      FE_t_c + FE_t_i + FE_c_i | 0 | cityen, data = df_final %>%      filter(SOE == \"SOE\"), exactDOF = TRUE) \n",
       "\n",
       "Residuals:\n",
       "    Min      1Q  Median      3Q     Max \n",
       "-5.8366 -0.6438  0.0000  0.7102  5.1474 \n",
       "\n",
       "Coefficients:\n",
       "                                           Estimate Cluster s.e. t value\n",
       "TCZ_cTCZ                                         NA     0.000000      NA\n",
       "polluted_threAbove                               NA     0.000000      NA\n",
       "PeriodAfter                                      NA     0.000000      NA\n",
       "SPZ                                              NA     0.000000      NA\n",
       "CoastalTrue                                      NA     0.000000      NA\n",
       "TCZ_cTCZ:polluted_threAbove                      NA     0.000000      NA\n",
       "TCZ_cTCZ:PeriodAfter                             NA     0.000000      NA\n",
       "polluted_threAbove:PeriodAfter                   NA     0.000000      NA\n",
       "polluted_threAbove:SPZ                           NA     0.000000      NA\n",
       "PeriodAfter:SPZ                                  NA     0.000000      NA\n",
       "polluted_threAbove:CoastalTrue                   NA     0.000000      NA\n",
       "PeriodAfter:CoastalTrue                          NA     0.000000      NA\n",
       "TCZ_cTCZ:polluted_threAbove:PeriodAfter    0.005362     0.212814   0.025\n",
       "polluted_threAbove:PeriodAfter:SPZ         0.069869     0.015738   4.440\n",
       "polluted_threAbove:PeriodAfter:CoastalTrue 0.509996     0.171431   2.975\n",
       "                                           Pr(>|t|)    \n",
       "TCZ_cTCZ                                         NA    \n",
       "polluted_threAbove                               NA    \n",
       "PeriodAfter                                      NA    \n",
       "SPZ                                              NA    \n",
       "CoastalTrue                                      NA    \n",
       "TCZ_cTCZ:polluted_threAbove                      NA    \n",
       "TCZ_cTCZ:PeriodAfter                             NA    \n",
       "polluted_threAbove:PeriodAfter                   NA    \n",
       "polluted_threAbove:SPZ                           NA    \n",
       "PeriodAfter:SPZ                                  NA    \n",
       "polluted_threAbove:CoastalTrue                   NA    \n",
       "PeriodAfter:CoastalTrue                          NA    \n",
       "TCZ_cTCZ:polluted_threAbove:PeriodAfter     0.97990    \n",
       "polluted_threAbove:PeriodAfter:SPZ         9.56e-06 ***\n",
       "polluted_threAbove:PeriodAfter:CoastalTrue  0.00297 ** \n",
       "---\n",
       "Signif. codes:  0 ‘***’ 0.001 ‘**’ 0.01 ‘*’ 0.05 ‘.’ 0.1 ‘ ’ 1\n",
       "\n",
       "Residual standard error: 1.35 on 1812 degrees of freedom\n",
       "Multiple R-squared(full model): 0.4817   Adjusted R-squared: 0.3095 \n",
       "Multiple R-squared(proj model): 0.0004738   Adjusted R-squared: -0.3316 \n",
       "F-statistic(full model, *iid*):2.798 on 602 and 1812 DF, p-value: < 2.2e-16 \n",
       "F-statistic(proj model): 2.075 on 15 and 53 DF, p-value: 0.0264 \n",
       "\n"
      ]
     },
     "metadata": {},
     "output_type": "display_data"
    }
   ],
   "source": [
    "summary(felm(formula= tfp_OP ~ \n",
    "            TCZ_c * polluted_thre * Period +\n",
    "            SPZ  * polluted_thre * Period +\n",
    "            Coastal * polluted_thre* Period \n",
    "                  |\n",
    "             FE_t_c + FE_t_i + FE_c_i | 0 |\n",
    "             cityen, data= df_final %>% filter(SOE == \"SOE\")\n",
    "             ,\n",
    "             exactDOF=TRUE))"
   ]
  },
  {
   "cell_type": "code",
   "execution_count": 167,
   "metadata": {
    "Collapsed": "false",
    "kernel": "R"
   },
   "outputs": [
    {
     "name": "stderr",
     "output_type": "stream",
     "text": [
      "Warning message in chol.default(mat, pivot = TRUE, tol = tol):\n",
      "“矩阵的秩亏或不确定”Warning message in chol.default(mat, pivot = TRUE, tol = tol):\n",
      "“矩阵的秩亏或不确定”"
     ]
    },
    {
     "data": {
      "text/plain": [
       "\n",
       "Call:\n",
       "   felm(formula = tfp_OP ~ TCZ_c * polluted_thre * Period + SPZ *      polluted_thre * Period + Coastal * polluted_thre * Period |      FE_t_c + FE_t_i + FE_c_i | 0 | cityen, data = df_final %>%      filter(SOE != \"SOE\"), exactDOF = TRUE) \n",
       "\n",
       "Residuals:\n",
       "    Min      1Q  Median      3Q     Max \n",
       "-7.4441 -0.6108 -0.0651  0.5375  5.0620 \n",
       "\n",
       "Coefficients:\n",
       "                                            Estimate Cluster s.e. t value\n",
       "TCZ_cTCZ                                          NA    0.0000000      NA\n",
       "polluted_threAbove                                NA    0.0000000      NA\n",
       "PeriodAfter                                       NA    0.0000000      NA\n",
       "SPZ                                               NA    0.0000000      NA\n",
       "CoastalTrue                                       NA    0.0000000      NA\n",
       "TCZ_cTCZ:polluted_threAbove                       NA    0.0000000      NA\n",
       "TCZ_cTCZ:PeriodAfter                              NA    0.0000000      NA\n",
       "polluted_threAbove:PeriodAfter                    NA    0.0000000      NA\n",
       "polluted_threAbove:SPZ                            NA    0.0000000      NA\n",
       "PeriodAfter:SPZ                                   NA    0.0000000      NA\n",
       "polluted_threAbove:CoastalTrue                    NA    0.0000000      NA\n",
       "PeriodAfter:CoastalTrue                           NA    0.0000000      NA\n",
       "TCZ_cTCZ:polluted_threAbove:PeriodAfter    0.3451455    0.1109724   3.110\n",
       "polluted_threAbove:PeriodAfter:SPZ         0.1467668    0.0007653 191.766\n",
       "polluted_threAbove:PeriodAfter:CoastalTrue 0.1912632    0.1119770   1.708\n",
       "                                           Pr(>|t|)    \n",
       "TCZ_cTCZ                                         NA    \n",
       "polluted_threAbove                               NA    \n",
       "PeriodAfter                                      NA    \n",
       "SPZ                                              NA    \n",
       "CoastalTrue                                      NA    \n",
       "TCZ_cTCZ:polluted_threAbove                      NA    \n",
       "TCZ_cTCZ:PeriodAfter                             NA    \n",
       "polluted_threAbove:PeriodAfter                   NA    \n",
       "polluted_threAbove:SPZ                           NA    \n",
       "PeriodAfter:SPZ                                  NA    \n",
       "polluted_threAbove:CoastalTrue                   NA    \n",
       "PeriodAfter:CoastalTrue                          NA    \n",
       "TCZ_cTCZ:polluted_threAbove:PeriodAfter     0.00187 ** \n",
       "polluted_threAbove:PeriodAfter:SPZ          < 2e-16 ***\n",
       "polluted_threAbove:PeriodAfter:CoastalTrue  0.08763 .  \n",
       "---\n",
       "Signif. codes:  0 ‘***’ 0.001 ‘**’ 0.01 ‘*’ 0.05 ‘.’ 0.1 ‘ ’ 1\n",
       "\n",
       "Residual standard error: 0.8848 on 33834 degrees of freedom\n",
       "Multiple R-squared(full model): 0.1036   Adjusted R-squared: 0.08767 \n",
       "Multiple R-squared(proj model): 0.0002046   Adjusted R-squared: -0.01758 \n",
       "F-statistic(full model, *iid*):6.497 on 602 and 33834 DF, p-value: < 2.2e-16 \n",
       "F-statistic(proj model):  2489 on 15 and 53 DF, p-value: < 2.2e-16 \n",
       "\n"
      ]
     },
     "metadata": {},
     "output_type": "display_data"
    }
   ],
   "source": [
    "summary(felm(formula= tfp_OP ~ \n",
    "            TCZ_c * polluted_thre * Period +\n",
    "            SPZ  * polluted_thre * Period +\n",
    "            Coastal * polluted_thre* Period \n",
    "                  |\n",
    "             FE_t_c + FE_t_i + FE_c_i | 0 |\n",
    "             cityen, data= df_final %>% filter(SOE != \"SOE\")\n",
    "             ,\n",
    "             exactDOF=TRUE))"
   ]
  },
  {
   "cell_type": "code",
   "execution_count": null,
   "metadata": {
    "Collapsed": "false",
    "kernel": "python3"
   },
   "outputs": [],
   "source": [
    "df_final.describe()"
   ]
  },
  {
   "cell_type": "code",
   "execution_count": 171,
   "metadata": {
    "Collapsed": "false",
    "kernel": "python3"
   },
   "outputs": [],
   "source": [
    "### First save locally\n",
    "df_final.to_csv(\n",
    "\t'SBC_TFP_china.gz',\n",
    "\tsep=',',\n",
    "\theader=True,\n",
    "\tindex=False,\n",
    "\tchunksize=100000,\n",
    "\tcompression='gzip',\n",
    "\tencoding='utf-8')"
   ]
  },
  {
   "cell_type": "markdown",
   "metadata": {
    "collapsed": "true",
    "kernel": "SoS"
   },
   "source": [
    "# Profiling\n",
    "\n",
    "In order to get a quick summary statistic of the data, we generate an HTML file with the profiling of the dataset we've just created. \n",
    "\n",
    "The profiling will be available at this URL after you commit a push to GitHub. \n",
    "\n",
    "**You need to rename the final dataframe `df_final` in the previous section to generate the profiling.**"
   ]
  },
  {
   "cell_type": "code",
   "execution_count": null,
   "metadata": {
    "Collapsed": "false",
    "kernel": "SoS"
   },
   "outputs": [],
   "source": [
    "#### make sure the final dataframe is stored as df_final\n",
    "### Overide the default value: \n",
    "#https://github.com/pandas-profiling/pandas-profiling/blob/master/pandas_profiling/config_default.yaml\n",
    "\n",
    "profile = pandas_profiling.ProfileReport(df_final,\n",
    "                                        check_correlation_pearson = False)\n",
    "name_html = \"NAME.html\"\n",
    "profile.to_file(output_file=name_html)"
   ]
  },
  {
   "cell_type": "markdown",
   "metadata": {
    "kernel": "SoS"
   },
   "source": [
    "# Upload to cloud\n",
    "\n",
    "The dataset is ready to be shared with your colleagues. \n",
    "\n"
   ]
  },
  {
   "cell_type": "markdown",
   "metadata": {
    "collapsed": "false",
    "kernel": "SoS"
   },
   "source": [
    "\n",
    "\n",
    "### Move to GCS and BigQuery\n",
    "\n",
    "We move the dataset to the following:\n",
    "\n",
    "- **bucket**: *NEED TO DEFINE*\n",
    "\n",
    "- **Destination_blob**: *XXXXX/Processed_*\n",
    "- **name**:  *SBC_TFP_china.gz*\n",
    "- **Dataset**: *China*\n",
    "\n",
    "- **table**: *SBC_TFP_china*\n",
    "\n",
    "### GCS\n",
    "\n",
    "We first need to save *SBC_TFP_china* with `.gz` extension locally then we can move it\n",
    "to GCS\n"
   ]
  },
  {
   "cell_type": "markdown",
   "metadata": {
    "collapsed": "false",
    "kernel": "SoS"
   },
   "source": [
    "### Delete previous dataset"
   ]
  },
  {
   "cell_type": "code",
   "execution_count": 172,
   "metadata": {
    "collapsed": true,
    "jupyter": {
     "outputs_hidden": true
    },
    "kernel": "python3"
   },
   "outputs": [
    {
     "name": "stdout",
     "output_type": "stream",
     "text": [
      "Blob paper_project/SBC_TFP_china.gz deleted.\n",
      "Table China:SBC_TFP_china deleted.\n"
     ]
    }
   ],
   "source": [
    "bucket_name = 'chinese_data'\n",
    "destination_blob_name = 'paper_project/SBC_TFP_china.gz'\n",
    "\n",
    "gcp.delete_blob(bucket_name = bucket_name,\n",
    "                destination_blob_name= destination_blob_name)\n",
    "gcp.delete_table(dataset_name = 'China', name_table = 'SBC_TFP_china')"
   ]
  },
  {
   "cell_type": "code",
   "execution_count": 173,
   "metadata": {
    "collapsed": true,
    "jupyter": {
     "outputs_hidden": true
    },
    "kernel": "python3"
   },
   "outputs": [
    {
     "name": "stdout",
     "output_type": "stream",
     "text": [
      "File SBC_TFP_china.gz uploaded to paper_project.\n"
     ]
    }
   ],
   "source": [
    "\n",
    "### First save locally\n",
    "df_final.to_csv(\n",
    "\t'SBC_TFP_china.gz',\n",
    "\tsep=',',\n",
    "\theader=True,\n",
    "\tindex=False,\n",
    "\tchunksize=100000,\n",
    "\tcompression='gzip',\n",
    "\tencoding='utf-8')\n",
    "\n",
    "### Then upload to GCS\n",
    "bucket_name = 'chinese_data'\n",
    "destination_blob_name = 'paper_project'\n",
    "source_file_name = 'SBC_TFP_china.gz'\n",
    "gcp.upload_blob(bucket_name, destination_blob_name, source_file_name)"
   ]
  },
  {
   "cell_type": "code",
   "execution_count": 174,
   "metadata": {
    "collapsed": true,
    "jupyter": {
     "outputs_hidden": true
    },
    "kernel": "python3"
   },
   "outputs": [
    {
     "name": "stdout",
     "output_type": "stream",
     "text": [
      "Starting job 196af144-0b43-4ff8-936c-3d5dfe259d51\n",
      "Finished job 196af144-0b43-4ff8-936c-3d5dfe259d51\n"
     ]
    }
   ],
   "source": [
    "\n",
    "\n",
    "### Move to bigquery\n",
    "bucket_gcs ='chinese_data/paper_project/SBC_TFP_china.gz'\n",
    "gcp.move_to_bq_autodetect(dataset_name= 'China',\n",
    "\t\t\t\t\t\t\t name_table= 'SBC_TFP_china',\n",
    "\t\t\t\t\t\t\t bucket_gcs=bucket_gcs)\n"
   ]
  }
 ],
 "metadata": {
  "kernel_info": {
   "name": "sos"
  },
  "kernelspec": {
   "display_name": "SoS",
   "language": "sos",
   "name": "sos"
  },
  "language_info": {
   "codemirror_mode": "sos",
   "file_extension": ".sos",
   "mimetype": "text/x-sos",
   "name": "sos",
   "nbconvert_exporter": "sos_notebook.converter.SoS_Exporter",
   "pygments_lexer": "sos"
  },
  "nteract": {
   "version": "0.15.0"
  },
  "sos": {
   "kernels": [
    [
     "R",
     "ir",
     "R",
     "#DCDCDA",
     "r"
    ],
    [
     "SoS",
     "sos",
     "",
     "",
     "sos"
    ],
    [
     "python3",
     "python3",
     "python3",
     "",
     {
      "name": "ipython",
      "version": 3
     }
    ]
   ],
   "version": "0.21.7"
  }
 },
 "nbformat": 4,
 "nbformat_minor": 4
}
