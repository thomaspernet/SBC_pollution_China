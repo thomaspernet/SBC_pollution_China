{
 "cells": [
  {
   "cell_type": "markdown",
   "metadata": {
    "Collapsed": "false"
   },
   "source": [
    "# Raw Asif Dataset\n",
    "\n",
    "The objective of this notebook is to perfom a first cleaning of the dataset and save it to CSV.\n",
    "\n",
    "The raw data is a large Stata file. About 1.2gb, for year 1998 to 2007. \n",
    "\n",
    "Note that, the raw dataset is saved in Stata 13. There is no way to read the chinese encoding. The variables \n",
    "`product1_`, `village`, `street`,`town`, `legal_person` are loaded but all gibberish.\n",
    "\n",
    "Variables: \n",
    "\n",
    "From [Brandt paper- Challenges of working with the Chinese NBS firm-level data](https://docs.google.com/file/d/16agSbxO7cYuEn1v2bvw16ZRAx9gg7-Zm/edit)\n",
    "\n",
    "Online files are availble [here](https://feb.kuleuven.be/public/u0044468//CHINA/appendix/)\n",
    "\n",
    "![table2.png](https://dynalist.io/u/gN4m5XOn0VjotFYpiuWkrJ_d)\n",
    "\n",
    "Variables kept: \n",
    "\n",
    "|  Brands          | 2008       | 2009               | Label           |\n",
    "| ---------------- | ---------- | ------------------ |------------------\n",
    "| bdat             | 开业(成立)时间--年       | 开业(成立)时间--年        | Birth date|\n",
    "| cic              | 行业代码        | 行业代码               | Industrial 2 digits codes|\n",
    "| dq               | 新行政代码 (6 digits)        |                    | City code, large number of digits |\n",
    "| e_HMT            | 登记注册类型 | -                  | share HTM in equity |\n",
    "| e_collective     | 登记注册类型        | -                  |share collective in equity|\n",
    "| e_foreign        | 登记注册类型        | -                  |share foreign in equity|\n",
    "| e_individual     | 登记注册类型        | -                  |share individual in equity|\n",
    "| e_legal_person   | 登记注册类型        | -                  |share legal persone in equity|\n",
    "| e_state          | 登记注册类型        | -                  |share state in equity|\n",
    "| employment       | 全部从业人员年平均人数      | 全部从业人员年平均人数        | employement, in XX|\n",
    "| export           | 出口交货值        | 出口交货值              | Export, in XX|\n",
    "| fa_net           | 固定资产合计         |                    | Net fixed asset, in XX|\n",
    "| fa_original      |            |                    |Original fixed asset, in XX |\n",
    "| a_dep            |            |                    |Amortization|\n",
    "| c_dep            |            |                    |Depreciation|\n",
    "| id               | B00        | 法人代码               |Firm ID|\n",
    "| input            |            |                    |Input, in XX|\n",
    "| legal_person     | B03        |                    |Legal person|\n",
    "| name             | 法人单位    |                    |Company's name|\n",
    "| new_product      |            |                    |??|\n",
    "| output           | 工业总产值（当年价格）        | 工业总产值(当年价格)        |Industrial output, in XX|\n",
    "| phone            | 电话号码       | 电话号码               |Phone number|\n",
    "| product1_        |  主营产品1          |                    |??|\n",
    "| profit           | 营业利润       | 营业利润               |Profit, in XX|\n",
    "| revenue          | 主营业务收入       | 主营业务收入             |Revenue, in XX|\n",
    "| street           | 街道办事处       | 街道办事处              |Street name|\n",
    "| town             | 乡（镇）       | 乡（镇）               |Town name|\n",
    "| type             | 登记注册类型        | 登记注册类型             |Company's type|\n",
    "| va               | V08 - OS06 | 工业总产值(当年价格) - 营业费用 |Value added|\n",
    "| village          | 街（村）、门牌号       | 街（村）、门牌号           |Village name|\n",
    "| wage             |        |                    |Wage, in XX|\n",
    "| zip              | 邮政编码       | 邮政编码               |Zip Code|\n",
    "|citycode |citycode | citycode| First four digits of `dq`|\n",
    "\n",
    "Note `va` is excluded since we don't have the variable to compute it\n",
    "\n",
    "## Steps\n",
    "\n",
    "### Step 1: \n",
    "\n",
    "- Read stata file in batch of 100000 rows at a time\n",
    "\n",
    "### Step 2:\n",
    "\n",
    "- change lower case to upper case in \"firm id\"\n",
    "\n",
    "### Step 3:\n",
    "\n",
    "- Clean bdat: birthdate/ zip and Phone\n",
    "    - There are non numeric observation. They are changed to NaN\n",
    "    - For bdat:\n",
    "        - Change to NaN all year lower than 999\n",
    "    \n",
    "### Step 4:\n",
    "\n",
    "- Create citycode and clean it\n",
    "    - citycode is first four digit of `dq`\n",
    "    - Remove all non numeric observations\n",
    "    - Remove all observation with less than 4 digits\n",
    "    \n",
    "### Step 5\n",
    "\n",
    "- Remove all observation for type with less than 2 digits and more than 3 digit\n",
    "\n",
    "In 2008, about 212 observations have more than 3 digits\n",
    "\n",
    "### Step 6\n",
    "\n",
    "- Remove all non numeric output: about 279092\n",
    "\n",
    "### Step 7: Compute Value added: EXCLUDED\n",
    "\n",
    "$va  = output - input + vaaddtax$\n",
    "\n",
    "### Step 8\n",
    "\n",
    "- deal with duplicates of IDs (there are a few firms that have same IDs)\n"
   ]
  },
  {
   "cell_type": "code",
   "execution_count": 8,
   "metadata": {
    "Collapsed": "false"
   },
   "outputs": [],
   "source": [
    "import pandas as pd\n",
    "import numpy as np\n",
    "import tqdm\n",
    "import time\n",
    "from Fast_connectCloud import connector\n",
    "from GoogleDrivePy.google_platform import connect_cloud_platform"
   ]
  },
  {
   "cell_type": "code",
   "execution_count": 2,
   "metadata": {
    "Collapsed": "false"
   },
   "outputs": [
    {
     "name": "stdout",
     "output_type": "stream",
     "text": [
      "Service account storage and Bigquery are now connected. \n",
      "Service account storage is stored as <google.cloud.storage.client.Client object at 0x121e8a510> and accessible with \"Storage_account\" \n",
      "Service account Bigquery is stored as <google.cloud.bigquery.client.Client object at 0x121e8aad0> and accessible with \"bigquery_account\"\n"
     ]
    }
   ],
   "source": [
    "gs = connector.open_connection(online_connection = False, \n",
    "\tpath_credential = '/Users/Thomas/Google Drive/Projects/Data_science/Google_code_n_Oauth/Client_Oauth/Google_auth/')\n",
    "\n",
    "service_gcp = gs.connect_remote(engine = 'GCP')\n",
    "\n",
    "project = 'valid-pagoda-132423'\n",
    "gcp = connect_cloud_platform.connect_console(project = project,\n",
    "\t\t\t\t\t\t\t\t\t\t\t service_account = service_gcp['GoogleCloudP'])"
   ]
  },
  {
   "cell_type": "markdown",
   "metadata": {
    "Collapsed": "false"
   },
   "source": [
    "## Wrap up function\n",
    "\n",
    "Recall \n",
    "\n",
    "```\n",
    " If ‘raise’, then invalid parsing will raise an exception\n",
    " If ‘coerce’, then invalid parsing will be set as NaN\n",
    " If ‘ignore’, then invalid parsing will return the input\n",
    "```"
   ]
  },
  {
   "cell_type": "code",
   "execution_count": 3,
   "metadata": {
    "Collapsed": "false"
   },
   "outputs": [],
   "source": [
    "def prepareData(data, dropna = True): \n",
    "    \n",
    "    \"\"\"\n",
    "    Steps:\n",
    "    1. change lower case to upper case in \"firm id\"\n",
    "    2. bdat/zip/phone/cic: Change non numeric to nan\n",
    "    3. Clean wrong date: if len year inf to 3 digits\n",
    "    4. Clean wrong city: if len city inf to 4 digits\n",
    "    5. Clean wrong type: if len type inf to 2 digits\n",
    "    6. Remove NaN for 'id','citycode' & 'type'\n",
    "   \n",
    "    \"\"\"\n",
    "    #change lower case to upper case in \"firm id\"\n",
    "    data['id'] = data['id'].str.upper()\n",
    "    data['year'] = data['year'].astype('str')\n",
    "    data['year'] = data['year'].str.split('.').str[0]\n",
    "    \n",
    "    #### Clean bdat/ phone and zip\n",
    "    ##### Change non numeric to nan\n",
    "    ##### \n",
    "    \n",
    "    for n in ['bdat', 'zip', 'phone', 'cic', 'dq']:\n",
    "    ### Need to do like this because \n",
    "    ### Cannot convert non-finite values (NA or inf) to integer\n",
    "        index = data.columns.get_loc(n)\n",
    "        data[n] = pd.to_numeric(data.iloc[:, index],\n",
    "                                errors='coerce'\n",
    "                               )\n",
    "        data[n] = data[n].astype('str')\n",
    "        data[n] = data[n].str.split('.').str[0]\n",
    "        \n",
    "    #### Clean wrong date: if len year inf to 3 digits, then nan\n",
    "    data.loc[(data['bdat'] != np.nan) &\n",
    "          (data['bdat'].astype('str').str.len() < 3),\n",
    "         'code'\n",
    "         ] = np.nan\n",
    "\n",
    "    #### Deal with dq: city code\n",
    "    data['citycode'] = data['dq'].str.slice(start=None, stop=4)\n",
    "\n",
    "    #### Remove whitespace\n",
    "    data['citycode']  = data['citycode'].str.replace(\" \",\"\")\n",
    "    data.loc[#(data['citycode'] != np.nan) &\n",
    "          data['citycode'].astype('str').str.len() < 4,\n",
    "         'citycode'\n",
    "         ] = np.nan\n",
    "    \n",
    "    #### Deal with type\n",
    "    data.loc[(data['type'] != np.nan) &\n",
    "            (data['type'].astype('str').str.len() < 2) |\n",
    "            (data['type'].astype('str').str.len() > 3),\n",
    "         'type'\n",
    "         ] = np.nan\n",
    "    \n",
    "    if dropna:\n",
    "        data = data.dropna(subset=['id','citycode', 'type', 'profit'])\n",
    "    \n",
    "    data = data.drop(columns =['dq', 'code'])  \n",
    "    \n",
    "    return data"
   ]
  },
  {
   "cell_type": "markdown",
   "metadata": {
    "Collapsed": "false"
   },
   "source": [
    "## Download Data 1998- 2009\n",
    "\n",
    "Note that file `stata_year_2008.csv` does not come from stata but Excel. We have two versions of year 2008.\n",
    "\n",
    "One's come from Zhao Ruili: missing 70% of the data. Another one comes from Chen Zhao. Missing some vars and firm's ID"
   ]
  },
  {
   "cell_type": "code",
   "execution_count": 19,
   "metadata": {
    "Collapsed": "false"
   },
   "outputs": [],
   "source": [
    "list_data = ['stata_year_1998.csv', 'stata_year_1999.csv',\n",
    "                'stata_year_2000.csv', 'stata_year_2001.csv',\n",
    "                'stata_year_2002.csv', 'stata_year_2003.csv',\n",
    "                'stata_year_2004.csv', 'stata_year_2005.csv', \n",
    "                'stata_year_2006.csv', 'stata_year_2007.csv',\n",
    "                'stata_year_2008.csv','stata_year_2009.csv'\n",
    "            ]"
   ]
  },
  {
   "cell_type": "code",
   "execution_count": 5,
   "metadata": {
    "Collapsed": "false"
   },
   "outputs": [
    {
     "name": "stdout",
     "output_type": "stream",
     "text": [
      "File Panel_china/Asif_panel_china/Raw_/stata_year_1998.csv uploaded locally\n",
      "File Panel_china/Asif_panel_china/Raw_/stata_year_1999.csv uploaded locally\n",
      "File Panel_china/Asif_panel_china/Raw_/stata_year_2000.csv uploaded locally\n",
      "File Panel_china/Asif_panel_china/Raw_/stata_year_2001.csv uploaded locally\n",
      "File Panel_china/Asif_panel_china/Raw_/stata_year_2002.csv uploaded locally\n",
      "File Panel_china/Asif_panel_china/Raw_/stata_year_2003.csv uploaded locally\n",
      "File Panel_china/Asif_panel_china/Raw_/stata_year_2004.csv uploaded locally\n",
      "File Panel_china/Asif_panel_china/Raw_/stata_year_2005.csv uploaded locally\n",
      "File Panel_china/Asif_panel_china/Raw_/stata_year_2006.csv uploaded locally\n",
      "File Panel_china/Asif_panel_china/Raw_/stata_year_2007.csv uploaded locally\n"
     ]
    }
   ],
   "source": [
    "for dataset in list_data:\n",
    "    gcp.download_blob(bucket_name = 'chinese_data',\n",
    "                  destination_blob_name = 'Panel_china/Asif_panel_china/Raw_',\n",
    "                  source_file_name = dataset)"
   ]
  },
  {
   "cell_type": "markdown",
   "metadata": {
    "Collapsed": "false"
   },
   "source": [
    "### Original data \n",
    "\n",
    "The original paper has the following obs before cleaning\n",
    "\n",
    "![table1.png](https://dynalist.io/u/YV6JdMqFuJDxlg1ty2ewKi_-)\n",
    "\n",
    "We compare the raw data we have with the raw data from the paper\n",
    "\n",
    "1998-2007"
   ]
  },
  {
   "cell_type": "code",
   "execution_count": 9,
   "metadata": {
    "Collapsed": "false"
   },
   "outputs": [
    {
     "data": {
      "application/vnd.jupyter.widget-view+json": {
       "model_id": "42e43b7da4b4435b913d340d5ff8da2b",
       "version_major": 2,
       "version_minor": 0
      },
      "text/plain": [
       "HBox(children=(IntProgress(value=0, max=10), HTML(value='')))"
      ]
     },
     "metadata": {},
     "output_type": "display_data"
    },
    {
     "name": "stdout",
     "output_type": "stream",
     "text": [
      "\n"
     ]
    }
   ],
   "source": [
    "df_raw = pd.DataFrame()\n",
    "for year in tqdm.notebook.tqdm(range(1998, 2008, 1)):\n",
    "    #print(year)\n",
    "    df_ = pd.read_csv(\n",
    "        'stata_year_{0}.csv'.format(year),\n",
    "        usecols = ['id'],\n",
    "        )\n",
    "    df_['year'] = year\n",
    "    \n",
    "    df_raw = df_raw.append(df_, sort = False)"
   ]
  },
  {
   "cell_type": "markdown",
   "metadata": {
    "Collapsed": "false"
   },
   "source": [
    "2008-2009\n",
    "\n",
    "2008 does not have firm's ID"
   ]
  },
  {
   "cell_type": "code",
   "execution_count": null,
   "metadata": {
    "Collapsed": "false"
   },
   "outputs": [],
   "source": [
    "df_2008 = pd.read_csv(\n",
    "        'stata_year_2008.csv'.format(year),\n",
    "        )\n",
    "df_2008['id'] = df_2008.index\n",
    "df_2008['year'] = '2008'\n",
    "df_2008 = df_2008[['year', 'id']]\n",
    "df_raw = df_raw.append(df_2008, sort = False)"
   ]
  },
  {
   "cell_type": "code",
   "execution_count": null,
   "metadata": {
    "Collapsed": "false"
   },
   "outputs": [],
   "source": [
    "df_2009 = pd.read_csv(\n",
    "        'stata_year_2009.csv'.format(year),\n",
    "    usecols = ['法人代码'],\n",
    "        )\n",
    "df_2009['year'] = '2009'\n",
    "df_2009 = df_2009.rename(columns={'法人代码': \"id\"})\n",
    "df_raw = df_raw.append(df_2009, sort = False)"
   ]
  },
  {
   "cell_type": "code",
   "execution_count": 10,
   "metadata": {
    "Collapsed": "false"
   },
   "outputs": [],
   "source": [
    "def compare_raw_Brandt(raw):\n",
    "    \"\"\"\n",
    "    function to compare the raw count\n",
    "    from Brandt paper\n",
    "    \"\"\"\n",
    "\n",
    "    df_raw = raw.dropna(subset=[\"id\"])\n",
    "    df_raw_count = df_raw.groupby(\"year\")[\"id\"].count()\n",
    "    \n",
    "    if len(df_raw_count.index) == 10:\n",
    "        s = [165118,162033,162883,169030,\n",
    "             181557,196222,279092,271835,\n",
    "             301961,336768,#327853,np.nan,\n",
    "                    ]\n",
    "    elif len(df_raw_count.index) == 11:\n",
    "        s = [165118,162033,162883,169030,\n",
    "             181557,196222,279092,271835,\n",
    "             301961,336768,327853#,np.nan,\n",
    "                    ]\n",
    "    else:\n",
    "        s = [165118,162033,162883,169030,\n",
    "             181557,196222,279092,271835,\n",
    "             301961,336768,327853,np.nan,\n",
    "                    ]\n",
    "\n",
    "    temp = (\n",
    "        pd.concat(\n",
    "            [\n",
    "                pd.Series(\n",
    "                    s\n",
    "                    ,\n",
    "                    index=df_raw_count.index,\n",
    "                    name=\"Brandt\",\n",
    "                ),\n",
    "                df_raw_count,\n",
    "            ],\n",
    "            axis=1,\n",
    "        )\n",
    "        # .reset_index()\n",
    "        # .apply(lambda x: x['Brandt'] - x['id'], axis = 1)\n",
    "    )\n",
    "    \n",
    "    temp['diff'] = temp['Brandt'] - temp['id']\n",
    "    \n",
    "    #temp.iloc[:,[2]].plot(kind='bar')\n",
    "    \n",
    "    return temp.iloc[:,:2].plot(kind='bar')"
   ]
  },
  {
   "cell_type": "code",
   "execution_count": 11,
   "metadata": {
    "Collapsed": "false"
   },
   "outputs": [
    {
     "data": {
      "text/plain": [
       "<matplotlib.axes._subplots.AxesSubplot at 0x123267510>"
      ]
     },
     "execution_count": 11,
     "metadata": {},
     "output_type": "execute_result"
    },
    {
     "data": {
      "image/png": "[encoded data removed]",
      "text/plain": [
       "<Figure size 432x288 with 1 Axes>"
      ]
     },
     "metadata": {
      "needs_background": "light"
     },
     "output_type": "display_data"
    }
   ],
   "source": [
    "compare_raw_Brandt(raw= df_raw)"
   ]
  },
  {
   "cell_type": "markdown",
   "metadata": {
    "Collapsed": "false"
   },
   "source": [
    "## Prepare Data"
   ]
  },
  {
   "cell_type": "markdown",
   "metadata": {
    "Collapsed": "false"
   },
   "source": [
    "### 1998 - 2007 \n",
    "\n",
    "We specify the type for each variable so that we avoid the warning `DtypeWarning: Columns (X) have mixed types.`\n",
    "\n",
    "We load equity share, output, employement, export, fa_original, fa_net, profit a_dep, c_dep, wage, input as object because so observations have formating issue (infinity, NaN, especially for year 2005, 2006, 2007). We tackle it in the `prepareData` function.\n",
    "\n",
    "The program runs for about 12 minutes to clean up the data"
   ]
  },
  {
   "cell_type": "code",
   "execution_count": 20,
   "metadata": {
    "Collapsed": "false"
   },
   "outputs": [
    {
     "data": {
      "application/vnd.jupyter.widget-view+json": {
       "model_id": "57736e424505474499fbf121c3fc043d",
       "version_major": 2,
       "version_minor": 0
      },
      "text/plain": [
       "HBox(children=(IntProgress(value=0, max=10), HTML(value='')))"
      ]
     },
     "metadata": {},
     "output_type": "display_data"
    },
    {
     "name": "stdout",
     "output_type": "stream",
     "text": [
      "\n",
      "Done Appending, begin to convert to numeric\n",
      "Var va has 445502 missing values\n",
      "Var e_HMT has 0 missing values\n",
      "Var e_collective has 0 missing values\n",
      "Var e_foreign has 0 missing values\n",
      "Var e_legal_person has 0 missing values\n",
      "Var e_state has 0 missing values\n",
      "Var e_individual has 0 missing values\n",
      "Var employment has 0 missing values\n",
      "Var export has 0 missing values\n",
      "Var fa_net has 0 missing values\n",
      "Var fa_original has 0 missing values\n",
      "Var a_dep has 0 missing values\n",
      "Var c_dep has 0 missing values\n",
      "Var input has 0 missing values\n",
      "Var output has 0 missing values\n",
      "Var profit has 0 missing values\n",
      "Var revenue has 0 missing values\n",
      "Var wage has 0 missing values\n",
      "\n",
      "The following variables [445502] contain NaN, hence removed.\n",
      "A total of 0 obs have been dropped.\n",
      "Time elasped to prepare data 1998-2007:13.69 minutes\n"
     ]
    }
   ],
   "source": [
    "#https://pandas.pydata.org/pandas-docs/stable/reference/api/pandas.read_stata.html\n",
    "list_convert = ['va','e_HMT', 'e_collective', 'e_foreign',\n",
    "                'e_legal_person', 'e_state', 'e_individual',\n",
    "                'employment', 'export', 'fa_net', 'fa_original',\n",
    "                'a_dep', 'c_dep','input', 'output', 'profit',\n",
    "                'revenue', 'wage',\n",
    "                ]\n",
    "dtypes = {\n",
    "    'id':'str',\n",
    "    'year':'str',\n",
    "    'name':'str',\n",
    "    'bdat':'str',\n",
    "    'cic':'str',\n",
    "    'dq':'str',\n",
    "    'e_HMT':'str',\n",
    "    'e_collective':'str',\n",
    "    'e_foreign':'str',\n",
    "    'e_individual':'str',\n",
    "    'e_legal_person':'str',\n",
    "    'e_state':'str',\n",
    "    'employment':'str',\n",
    "    'output':'str',\n",
    "    'profit':'str',\n",
    "    'revenue':'str',\n",
    "    'wage':'str',\n",
    "    'export':'str',\n",
    "    'fa_net':'str',\n",
    "    'fa_original':'str',\n",
    "    'a_dep':'str',\n",
    "    'c_dep':'str',\n",
    "    'input':'str',\n",
    "    'new_product':'str',\n",
    "    'phone':'str',\n",
    "    'type':'str',\n",
    "    'zip':'str',\n",
    "    'town':'str',\n",
    "    'product1_':'str'\n",
    "}\n",
    "\n",
    "df_9807 = pd.DataFrame()\n",
    "\n",
    "start_time = time.time()\n",
    "\n",
    "#for chunk in progressbar.progressbar(itr):\n",
    "for load in tqdm.notebook.tqdm(list_data[:-2]):\n",
    "    \n",
    "    df_csv = pd.read_csv(load, dtype = dtypes)\n",
    "    ### Drop Value added\n",
    "    #df_csv = df_csv.drop(columns = 'va')\n",
    "    \n",
    "    \n",
    "    df_temp = prepareData(data = df_csv)    \n",
    "\n",
    "    df_9807 = df_9807.append(df_temp, sort=False)\n",
    "    \n",
    "df_9807 = df_9807[df_9807['year'] != 'nan']   \n",
    "\n",
    "print('Done Appending, begin to convert to numeric') \n",
    "shape_before = df_9807.shape[0]\n",
    "list_missing = []\n",
    "for name in list_convert:\n",
    "    df_9807[name] = df_9807[name].apply(pd.to_numeric,\n",
    "                                errors='coerce'\n",
    "                             )\n",
    "    \n",
    "    count_missing = df_9807[name].isna().sum()\n",
    "    print(\"Var {} has {} missing values\".format(name, \n",
    "                                                count_missing)\n",
    "                                                )\n",
    "    \n",
    "    if count_missing >0:\n",
    "        list_missing.append(count_missing)\n",
    "    \n",
    "#df_ = df_.dropna(subset=list_missing)\n",
    "shape_after = df_9807.shape[0]\n",
    "\n",
    "dropped = shape_after - shape_after\n",
    "\n",
    "print(\"\"\"\n",
    "The following variables {0} contain NaN, hence removed.\n",
    "A total of {1} obs have been dropped.\"\"\".format(\n",
    "    list_missing,\n",
    "    dropped)\n",
    "     )\n",
    "\n",
    "#deal with duplicates of IDs (there are a few firms that have same IDs)*\n",
    "df_9807 = df_9807.drop_duplicates(['year', 'id'])\n",
    "\n",
    "print('Time elasped to prepare data 1998-2007:{0:.2f} minutes'.format(\n",
    "    (time.time() - start_time)/60.0)\n",
    "     )"
   ]
  },
  {
   "cell_type": "code",
   "execution_count": 21,
   "metadata": {
    "Collapsed": "false"
   },
   "outputs": [
    {
     "data": {
      "text/plain": [
       "array(['1998', '1999', '2000', '2001', '2002', '2003', '2004', '2005',\n",
       "       '2006', '2007'], dtype=object)"
      ]
     },
     "execution_count": 21,
     "metadata": {},
     "output_type": "execute_result"
    }
   ],
   "source": [
    "df_9807['year'].unique()"
   ]
  },
  {
   "cell_type": "code",
   "execution_count": 22,
   "metadata": {
    "Collapsed": "false"
   },
   "outputs": [
    {
     "data": {
      "text/plain": [
       "<matplotlib.axes._subplots.AxesSubplot at 0x130bd9450>"
      ]
     },
     "execution_count": 22,
     "metadata": {},
     "output_type": "execute_result"
    },
    {
     "data": {
      "image/png": "[encoded data removed]",
      "text/plain": [
       "<Figure size 432x288 with 1 Axes>"
      ]
     },
     "metadata": {
      "needs_background": "light"
     },
     "output_type": "display_data"
    }
   ],
   "source": [
    "df_raw = df_9807[['id', 'year']]\n",
    "compare_raw_Brandt(raw= df_raw)"
   ]
  },
  {
   "cell_type": "markdown",
   "metadata": {
    "Collapsed": "false"
   },
   "source": [
    "### Original data \n",
    "\n",
    "The original paper has the following obs before cleaning\n",
    "\n",
    "![table1.png](https://dynalist.io/u/YV6JdMqFuJDxlg1ty2ewKi_-)\n",
    "\n",
    "And after matching and cleaning. Note in this notebook, we don't do the matching\n",
    "\n",
    "![table4.png](https://dynalist.io/u/lYSk2vVt4mgp8tTzMW1khS2Y)\n"
   ]
  },
  {
   "cell_type": "code",
   "execution_count": 23,
   "metadata": {
    "Collapsed": "false"
   },
   "outputs": [
    {
     "data": {
      "text/plain": [
       "year\n",
       "1998    165108\n",
       "1999    162012\n",
       "2000    162791\n",
       "2001    169013\n",
       "2002    181540\n",
       "2003    196156\n",
       "2004    276448\n",
       "2005    271811\n",
       "2006    301913\n",
       "2007    336717\n",
       "Name: id, dtype: int64"
      ]
     },
     "execution_count": 23,
     "metadata": {},
     "output_type": "execute_result"
    }
   ],
   "source": [
    "df_9807.groupby('year')['id'].count()"
   ]
  },
  {
   "cell_type": "code",
   "execution_count": 86,
   "metadata": {
    "Collapsed": "false"
   },
   "outputs": [
    {
     "data": {
      "text/plain": [
       "count_brand           int64\n",
       "output_brand        float64\n",
       "va_brand            float64\n",
       "employment_brand    float64\n",
       "dtype: object"
      ]
     },
     "execution_count": 86,
     "metadata": {},
     "output_type": "execute_result"
    }
   ],
   "source": [
    "dic_ = {\n",
    "    'year': [\"1998\",\n",
    "             \"1999\",\n",
    "             \"2000\",\n",
    "             \"2001\",\n",
    "             \"2002\",\n",
    "             \"2003\",\n",
    "             \"2004\",\n",
    "             \"2005\",\n",
    "             \"2006\",\n",
    "             \"2007\"\n",
    "             ],\n",
    "    'count_brand':\n",
    "        [165118,\n",
    "         162033,\n",
    "         162883,\n",
    "         169030,\n",
    "         181557,\n",
    "         196222,\n",
    "         279092,\n",
    "         271835,\n",
    "         301961,\n",
    "         336768\n",
    "         ],\n",
    "\n",
    "    'output_brand':\n",
    "    [\n",
    "        6.77,\n",
    "        7.27,\n",
    "        8.57,\n",
    "        9.41,\n",
    "        11.08,\n",
    "        14.23,\n",
    "        20.16,\n",
    "        25.16,\n",
    "        31.66,\n",
    "        40.52\n",
    "    ],\n",
    "    'va_brand':\n",
    "    [\n",
    "        1.94,\n",
    "        2.16,\n",
    "        2.54,\n",
    "        2.79,\n",
    "        3.30,\n",
    "        4.20,\n",
    "        6.62,\n",
    "        7.22,\n",
    "        9.11,\n",
    "        11.70\n",
    "    ],\n",
    "    'employment_brand':\n",
    "    [\n",
    "        56.44,\n",
    "        58.05,\n",
    "        53.68,\n",
    "        52.97,\n",
    "        55.21,\n",
    "        57.49,\n",
    "        66.27,\n",
    "        68.96,\n",
    "        73.58,\n",
    "        78.75\n",
    "\n",
    "    ]\n",
    "}\n",
    "brand = pd.DataFrame(dic_).set_index('year')\n",
    "brand.dtypes"
   ]
  },
  {
   "cell_type": "code",
   "execution_count": 91,
   "metadata": {
    "Collapsed": "false"
   },
   "outputs": [],
   "source": [
    "count = df_9807.groupby('year')['id'].count().rename('count')\n",
    "output = (df_9807.groupby('year')['output'].sum()/ 1000000000).round(1)\n",
    "va = (df_9807.groupby('year')['va'].sum()/ 1000000000).round(1)\n",
    "emp = (df_9807.groupby('year')['employment'].sum()/ 1000000).round(2)"
   ]
  },
  {
   "cell_type": "code",
   "execution_count": 97,
   "metadata": {
    "Collapsed": "false"
   },
   "outputs": [
    {
     "data": {
      "text/html": [
       "<div>\n",
       "<style scoped>\n",
       "    .dataframe tbody tr th:only-of-type {\n",
       "        vertical-align: middle;\n",
       "    }\n",
       "\n",
       "    .dataframe tbody tr th {\n",
       "        vertical-align: top;\n",
       "    }\n",
       "\n",
       "    .dataframe thead th {\n",
       "        text-align: right;\n",
       "    }\n",
       "</style>\n",
       "<table border=\"1\" class=\"dataframe\">\n",
       "  <thead>\n",
       "    <tr style=\"text-align: right;\">\n",
       "      <th></th>\n",
       "      <th>count_brand</th>\n",
       "      <th>count</th>\n",
       "      <th>output_brand</th>\n",
       "      <th>output</th>\n",
       "      <th>va_brand</th>\n",
       "      <th>va</th>\n",
       "      <th>employment_brand</th>\n",
       "      <th>employment</th>\n",
       "    </tr>\n",
       "    <tr>\n",
       "      <th>year</th>\n",
       "      <th></th>\n",
       "      <th></th>\n",
       "      <th></th>\n",
       "      <th></th>\n",
       "      <th></th>\n",
       "      <th></th>\n",
       "      <th></th>\n",
       "      <th></th>\n",
       "    </tr>\n",
       "  </thead>\n",
       "  <tbody>\n",
       "    <tr>\n",
       "      <th>1998</th>\n",
       "      <td>165118</td>\n",
       "      <td>165108</td>\n",
       "      <td>6.77</td>\n",
       "      <td>6.8</td>\n",
       "      <td>1.94</td>\n",
       "      <td>1.9</td>\n",
       "      <td>56.44</td>\n",
       "      <td>56.44</td>\n",
       "    </tr>\n",
       "    <tr>\n",
       "      <th>1999</th>\n",
       "      <td>162033</td>\n",
       "      <td>162012</td>\n",
       "      <td>7.27</td>\n",
       "      <td>7.3</td>\n",
       "      <td>2.16</td>\n",
       "      <td>2.2</td>\n",
       "      <td>58.05</td>\n",
       "      <td>58.04</td>\n",
       "    </tr>\n",
       "    <tr>\n",
       "      <th>2000</th>\n",
       "      <td>162883</td>\n",
       "      <td>162791</td>\n",
       "      <td>8.57</td>\n",
       "      <td>8.6</td>\n",
       "      <td>2.54</td>\n",
       "      <td>2.5</td>\n",
       "      <td>53.68</td>\n",
       "      <td>55.57</td>\n",
       "    </tr>\n",
       "    <tr>\n",
       "      <th>2001</th>\n",
       "      <td>169030</td>\n",
       "      <td>169013</td>\n",
       "      <td>9.41</td>\n",
       "      <td>9.4</td>\n",
       "      <td>2.79</td>\n",
       "      <td>0.0</td>\n",
       "      <td>52.97</td>\n",
       "      <td>52.96</td>\n",
       "    </tr>\n",
       "    <tr>\n",
       "      <th>2002</th>\n",
       "      <td>181557</td>\n",
       "      <td>181540</td>\n",
       "      <td>11.08</td>\n",
       "      <td>11.1</td>\n",
       "      <td>3.30</td>\n",
       "      <td>3.3</td>\n",
       "      <td>55.21</td>\n",
       "      <td>55.20</td>\n",
       "    </tr>\n",
       "    <tr>\n",
       "      <th>2003</th>\n",
       "      <td>196222</td>\n",
       "      <td>196156</td>\n",
       "      <td>14.23</td>\n",
       "      <td>14.2</td>\n",
       "      <td>4.20</td>\n",
       "      <td>4.2</td>\n",
       "      <td>57.49</td>\n",
       "      <td>57.45</td>\n",
       "    </tr>\n",
       "    <tr>\n",
       "      <th>2004</th>\n",
       "      <td>279092</td>\n",
       "      <td>276448</td>\n",
       "      <td>20.16</td>\n",
       "      <td>20.2</td>\n",
       "      <td>6.62</td>\n",
       "      <td>0.0</td>\n",
       "      <td>66.27</td>\n",
       "      <td>66.18</td>\n",
       "    </tr>\n",
       "    <tr>\n",
       "      <th>2005</th>\n",
       "      <td>271835</td>\n",
       "      <td>271811</td>\n",
       "      <td>25.16</td>\n",
       "      <td>25.2</td>\n",
       "      <td>7.22</td>\n",
       "      <td>7.2</td>\n",
       "      <td>68.96</td>\n",
       "      <td>68.94</td>\n",
       "    </tr>\n",
       "    <tr>\n",
       "      <th>2006</th>\n",
       "      <td>301961</td>\n",
       "      <td>301913</td>\n",
       "      <td>31.66</td>\n",
       "      <td>31.6</td>\n",
       "      <td>9.11</td>\n",
       "      <td>9.1</td>\n",
       "      <td>73.58</td>\n",
       "      <td>73.56</td>\n",
       "    </tr>\n",
       "    <tr>\n",
       "      <th>2007</th>\n",
       "      <td>336768</td>\n",
       "      <td>336717</td>\n",
       "      <td>40.52</td>\n",
       "      <td>40.5</td>\n",
       "      <td>11.70</td>\n",
       "      <td>11.7</td>\n",
       "      <td>78.75</td>\n",
       "      <td>78.73</td>\n",
       "    </tr>\n",
       "  </tbody>\n",
       "</table>\n",
       "</div>"
      ],
      "text/plain": [
       "      count_brand   count  output_brand  output  va_brand    va  \\\n",
       "year                                                              \n",
       "1998       165118  165108          6.77     6.8      1.94   1.9   \n",
       "1999       162033  162012          7.27     7.3      2.16   2.2   \n",
       "2000       162883  162791          8.57     8.6      2.54   2.5   \n",
       "2001       169030  169013          9.41     9.4      2.79   0.0   \n",
       "2002       181557  181540         11.08    11.1      3.30   3.3   \n",
       "2003       196222  196156         14.23    14.2      4.20   4.2   \n",
       "2004       279092  276448         20.16    20.2      6.62   0.0   \n",
       "2005       271835  271811         25.16    25.2      7.22   7.2   \n",
       "2006       301961  301913         31.66    31.6      9.11   9.1   \n",
       "2007       336768  336717         40.52    40.5     11.70  11.7   \n",
       "\n",
       "      employment_brand  employment  \n",
       "year                                \n",
       "1998             56.44       56.44  \n",
       "1999             58.05       58.04  \n",
       "2000             53.68       55.57  \n",
       "2001             52.97       52.96  \n",
       "2002             55.21       55.20  \n",
       "2003             57.49       57.45  \n",
       "2004             66.27       66.18  \n",
       "2005             68.96       68.94  \n",
       "2006             73.58       73.56  \n",
       "2007             78.75       78.73  "
      ]
     },
     "execution_count": 97,
     "metadata": {},
     "output_type": "execute_result"
    }
   ],
   "source": [
    "asif = pd.concat(\n",
    "    [brand, count, output, va, emp],\n",
    "    axis=1).reindex(\n",
    "    columns=['count_brand', 'count',\n",
    "             'output_brand', 'output',\n",
    "             'va_brand', 'va',\n",
    "             'employment_brand', 'employment'])\n",
    "asif"
   ]
  },
  {
   "cell_type": "markdown",
   "metadata": {
    "Collapsed": "true"
   },
   "source": [
    "### 2008\n",
    "\n",
    "Note that, the variable 法人代 (firm's ID) is missing\n",
    "\n",
    "For `dq` needs to use the concordance table from: \n",
    "\n",
    "- \n",
    "- \n",
    "\n",
    "\n",
    "Variables names 1998-2009 available [here](https://docs.google.com/spreadsheets/d/1gfdmBKzZ1h93atSMFcj_6YgLxC7xX62BCxOngJwf7qE/edit#gid=1504397597) \n",
    "\n",
    "|  Brands          | 2008       |\n",
    "| ---------------- | ---------- |\n",
    "| bdat             | 开业(成立)时间--年       |\n",
    "| cic              | 行业代码        |\n",
    "| dq               | 行政区别/新行政代码        |\n",
    "| e_HMT            |         |\n",
    "| e_collective     |         |\n",
    "| e_foreign        |         |\n",
    "| e_individual     |         |\n",
    "| e_legal_person   |         |\n",
    "| e_state          |         |\n",
    "| employment       | 全部从业人员年平均人数      |\n",
    "| export           | 出口交货值        |\n",
    "| fa_net           | 固定资产合计       |\n",
    "| fa_original      |        |\n",
    "| a_dep            |        |\n",
    "| c_dep            |        |\n",
    "| id               |        |\n",
    "| input            |        |\n",
    "| legal_person     |        |\n",
    "| name             | 法人单位     |\n",
    "| new_product      | 新产品产值           |\n",
    "| output           | 工业总产值（当年价格）        |\n",
    "| phone            | 电话号码       |\n",
    "| product1_        | 主营产品1         |\n",
    "| profit           | 利润总额       |\n",
    "| revenue          | 工业销售产值（当年价格）       |\n",
    "| street           | 街道办事处       |\n",
    "| town             | 乡（镇）       |\n",
    "| type             | 登记注册类型        |\n",
    "| va               |  |\n",
    "| village          | 街（村）、门牌号       |\n",
    "| wage             |        |\n",
    "| zip              | 邮政编码       |"
   ]
  },
  {
   "cell_type": "code",
   "execution_count": null,
   "metadata": {
    "Collapsed": "false"
   },
   "outputs": [],
   "source": [
    "#list_keep = [\n",
    "#    'B131','B07','B05','E06','E03',\n",
    "#    'E02','E05','E04','E01','B2001',\n",
    "#    'V12','BS06','BS07','BS09','BS11',\n",
    "#    '法人代码','法人','法人单位','V08','B062',\n",
    "#    'OS25','OS03','B053','B051','B10',\n",
    "#    'B052','OS35','邮政编码'\n",
    "#]\n",
    "\n",
    "list_keep = ['开业(成立)时间--年', '行业代码', '行政区别',\n",
    "          '全部从业人员年平均人数', '出口交货值', '固定资产合计',\n",
    "          '法人单位', '新产品产值', '工业总产值（当年价格）',\n",
    "          '电话号码', '主营产品1', '利润总额',\n",
    "           '工业销售产值（当年价格）', '街道办事处', '乡（镇）',\n",
    "          '登记注册类型', '街（村）、门牌号', '邮政编码']\n",
    "\n",
    "dtypes = {\n",
    "    '开业(成立)时间--年':'str',\n",
    "    '行业代码':'str',\n",
    "    '行政区别':'str',\n",
    "    '全部从业人员年平均人数':'str',\n",
    "    '邮政编码':'str', \n",
    "    '出口交货值':'str',\n",
    "    '固定资产合计':'str',\n",
    "    '法人单位':'str',\n",
    "    '新产品产值': 'str',\n",
    "    '工业总产值（当年价格）':'str',\n",
    "    '电话号码':'str', \n",
    "    '主营产品1':'str', ## As nan\n",
    "    '利润总额':'str', ## As nan              \n",
    "    '工业销售产值（当年价格）':np.int32, \n",
    "    '街道办事处':'str', ## As nan\n",
    "    '乡（镇）':'str', ## As nan\n",
    "    '登记注册类型':'str', ## As nan\n",
    "    '街（村）、门牌号':'str', ## As nan\n",
    "    '邮政编码':'str', ## As nan\n",
    "}\n",
    "\n",
    "#dtypes = {\n",
    "#    '法人代码':'str',\n",
    "#    'B131':'str',\n",
    "#    'B10':'str',\n",
    "#    'B07':'str',\n",
    "#    '邮政编码':'str', \n",
    "#    'B062':'str',\n",
    "#    'B051':'str',\n",
    "#    '法人':'str',\n",
    "#    'B05': 'str',\n",
    "#    'V08':'str',\n",
    "#    'V12':'str', \n",
    "#    'OS03':'str', ## As nan\n",
    "#    'OS25':'str', ## As nan              \n",
    "#    'B2001':np.int32, \n",
    "#    'E06':'str', ## As nan\n",
    "#    'E02':'str', ## As nan\n",
    "#    'E03':'str', ## As nan\n",
    "#    'E05':'str', ## As nan\n",
    "#    'E04':'str', ## As nan\n",
    "#    'E01':'str', ## As nan\n",
    "#    'BS06': 'str',\n",
    "#    'BS07': 'str',\n",
    "#    'BS09': 'str',\n",
    "#    'BS11': 'str',\n",
    "#    'OS35': 'str',\n",
    "#    'B2001': np.int32\n",
    "#}\n",
    "df_2008 = pd.read_csv(\"stata_year_2008.csv\",\n",
    "                      usecols = list_keep,\n",
    "                      dtype = dtypes\n",
    "                     )"
   ]
  },
  {
   "cell_type": "code",
   "execution_count": null,
   "metadata": {
    "Collapsed": "false"
   },
   "outputs": [],
   "source": [
    "#df_2008 = df_2008.rename(\n",
    "#            index=str,\n",
    "#            columns={\n",
    "#                \"B131\": 'bdat',\n",
    "#                \"B07\": 'cic',\n",
    "#                \"B05\": 'dq',\n",
    "#                \"E06\": 'e_HMT',\n",
    "#                \"E02\": 'e_foreign',\n",
    "#                \"E03\": 'e_collective',\n",
    "#                \"E05\": 'e_individual',\n",
    "#                \"E04\": 'e_legal_person',\n",
    "#                \"E01\": 'e_state',\n",
    "#                \"B2001\": 'employment',\n",
    "#                \"B062\": 'phone',\n",
    "#                \"V12\": 'export',\n",
    "#                \"BS06\": 'fa_net',\n",
    "#                \"BS07\": 'fa_original',\n",
    "#                \"BS09\": 'a_dep',\n",
    "#                \"BS11\": 'c_dep',\n",
    "#                \"法人代码\": 'id',\n",
    "#                \"法人\": 'legal_person',\n",
    "#                \"法人单位\": 'name',\n",
    "#                \"V08\": 'output',\n",
    "#                \"OS25\": 'profit',\n",
    "#                \"OS03\": 'revenue',\n",
    "#                \"B053\": 'street',\n",
    "#                \"B051\": 'town',\n",
    "#                \"B10\": 'type',\n",
    "#                \"B052\": 'village',\n",
    "#                \"OS35\": 'wage',\n",
    "#                \"邮政编码\": 'zip'\n",
    "#            })\n",
    "\n",
    "df_2008 = df_2008.rename(\n",
    "            index=str,\n",
    "            columns={\n",
    "                \"开业(成立)时间--年\": 'bdat',\n",
    "                \"行业代码\": 'cic',\n",
    "                \"行政区别\": 'dq',\n",
    "                \"全部从业人员年平均人数\": 'employment',\n",
    "                \"邮政编码\": 'zip',\n",
    "                \"出口交货值\": 'export',\n",
    "                \"固定资产合计\": 'fa_net',\n",
    "                \"法人单位\": 'name',\n",
    "                \"新产品产值\": 'new_product',\n",
    "                \"工业总产值（当年价格）\": 'output',\n",
    "                \"电话号码\": 'phone',\n",
    "                \"主营产品1\": 'product1_',\n",
    "                \"利润总额\": 'profit',\n",
    "                \"工业销售产值（当年价格）\": 'revenue',\n",
    "                \"街道办事处\": 'street',\n",
    "                \"乡（镇）\": 'town',\n",
    "                \"登记注册类型\": 'type',\n",
    "                \"街（村）、门牌号\": 'village',\n",
    "            })\n",
    "df_2008['year'] = '2008'\n",
    "df_2008['id'] = ''"
   ]
  },
  {
   "cell_type": "code",
   "execution_count": null,
   "metadata": {
    "Collapsed": "false"
   },
   "outputs": [],
   "source": [
    "start_time = time.time()\n",
    "df_08 = prepareData(data = df_2008)  \n",
    "list_convert = [#'e_HMT', 'e_collective', 'e_foreign', 'e_legal_person', 'e_state',\n",
    "'employment', 'export', 'fa_net', \n",
    "    #'fa_original', 'a_dep', 'c_dep',\n",
    "                'output', 'profit', 'revenue', \n",
    "    #'wage'\n",
    "                #'va'\n",
    "                ]\n",
    "\n",
    "shape_before = df_08.shape[0]\n",
    "list_missing = []\n",
    "for name in list_convert:\n",
    "    df_08[name] = df_08[name].apply(pd.to_numeric,\n",
    "                                errors='coerce'\n",
    "                             )\n",
    "    \n",
    "    count_missing = df_08[name].isna().sum()\n",
    "    print(\"Var {} has {} missing values\".format(name, \n",
    "                                                count_missing)\n",
    "                                                )\n",
    "    \n",
    "    if count_missing >0:\n",
    "        list_missing.append(name)\n",
    "    \n",
    "#df_ = df_.dropna(subset=list_missing)\n",
    "shape_after = df_08.shape[0]\n",
    "\n",
    "dropped = shape_after - shape_after\n",
    "\n",
    "print(\"\"\"\n",
    "The following variables {0} contain NaN, hence removed.\n",
    "A total of {1} obs have been dropped.\"\"\".format(\n",
    "    list_missing,\n",
    "    dropped)\n",
    "     )\n",
    "\n",
    "#deal with duplicates of IDs (there are a few firms that have same IDs)*\n",
    "#df_08 = df_08.drop_duplicates(['year', 'id'])\n",
    "\n",
    "print('Time elasped to prepare data 2008:{0:.2f} minutes'.format(\n",
    "    (time.time() - start_time)/60.0)\n",
    "     )"
   ]
  },
  {
   "cell_type": "markdown",
   "metadata": {
    "Collapsed": "true"
   },
   "source": [
    "### Clean up 2008\n",
    "\n",
    "The equity share variables's missing value will be converted to 0 along with export. Output, revenue, wage will be dropped.\n",
    "\n",
    "About 212 observations have wrong formating for the type, ie more than 3 digits. The function `preparationData` handles it "
   ]
  },
  {
   "cell_type": "code",
   "execution_count": null,
   "metadata": {
    "Collapsed": "false"
   },
   "outputs": [],
   "source": [
    "#list_to_zero = [\n",
    "#    'e_HMT',\n",
    "# 'e_collective',\n",
    "# 'e_foreign',\n",
    "# 'e_legal_person',\n",
    "# 'e_state',\n",
    "# 'e_individual',\n",
    "# 'export',\n",
    "# 'a_dep',\n",
    "# 'c_dep'\n",
    "#]\n",
    "\n",
    "#list_to_drop = ['output', 'profit', 'revenue',\n",
    "#                'wage', 'fa_net', 'fa_original']\n",
    "\n",
    "#for zero in list_to_zero:\n",
    "#    df_08[zero] =  df_08[zero].fillna(0)\n",
    "    \n",
    "#df_08 = df_08.dropna(subset = list_to_drop)"
   ]
  },
  {
   "cell_type": "code",
   "execution_count": null,
   "metadata": {
    "Collapsed": "false"
   },
   "outputs": [],
   "source": [
    "df_raw_08 = df_08[['id', 'year']]\n",
    "#### Data 2008 does not have ID, so we create a fake one\n",
    "df_raw_08['id'] = df_raw_08.index\n",
    " \n",
    "df_raw = df_raw.append(df_raw_08)\n",
    "compare_raw_Brandt(raw= df_raw)"
   ]
  },
  {
   "cell_type": "code",
   "execution_count": null,
   "metadata": {
    "Collapsed": "false"
   },
   "outputs": [],
   "source": [
    "df_08.groupby('year')['id'].count()"
   ]
  },
  {
   "cell_type": "code",
   "execution_count": null,
   "metadata": {
    "Collapsed": "false"
   },
   "outputs": [],
   "source": [
    "df_08['type'].unique()"
   ]
  },
  {
   "cell_type": "markdown",
   "metadata": {
    "Collapsed": "true"
   },
   "source": [
    "### 2009\n",
    "\n",
    "Variables names 1998-2009 available [here](https://docs.google.com/spreadsheets/d/1gfdmBKzZ1h93atSMFcj_6YgLxC7xX62BCxOngJwf7qE/edit#gid=1504397597) \n",
    "\n",
    "|  Brands          | 2009               |\n",
    "| ---------------- | ------------------ |\n",
    "| bdat             | 开业(成立)时间--年        |\n",
    "| cic              | 行业代码               |\n",
    "| dq               |                    |\n",
    "| e_HMT            | -                  |\n",
    "| e_collective     | -                  |\n",
    "| e_foreign        | -                  |\n",
    "| e_individual     | -                  |\n",
    "| e_legal_person   | -                  |\n",
    "| e_state          | -                  |\n",
    "| employment       | 全部从业人员年平均人数        |\n",
    "| export           | 出口交货值              |\n",
    "| fa_net           |                    |\n",
    "| fa_original      |                    |\n",
    "| a_dep            |                    |\n",
    "| c_dep            |                    |\n",
    "| id               | 法人代码               |\n",
    "| input            |                    |\n",
    "| legal_person     |                    |\n",
    "| name             |                    |\n",
    "| new_product      |                    |\n",
    "| output           | 工业总产值(当年价格)        |\n",
    "| phone            | 电话号码               |\n",
    "| product1_        |                    |\n",
    "| profit           | 营业利润               |\n",
    "| revenue          | 主营业务收入             |\n",
    "| street           | 街道办事处              |\n",
    "| town             | 乡（镇）               |\n",
    "| type             | 登记注册类型             |\n",
    "| va               | 工业总产值(当年价格) - 营业费用 |\n",
    "| village          | 街（村）、门牌号           |\n",
    "| wage             |                    |\n",
    "| zip              | 邮政编码               |"
   ]
  },
  {
   "cell_type": "code",
   "execution_count": null,
   "metadata": {
    "Collapsed": "false"
   },
   "outputs": [],
   "source": [
    "list_keep = [\n",
    "    '开业(成立)时间--年','行业代码','行政区别',\n",
    "    '全部从业人员年平均人数', '出口交货值', '法人代码','法人单位',\n",
    "    '工业总产值(当年价格)','电话号码','主营产品1',\n",
    "    '营业利润','街道办事处','乡（镇）',\n",
    "    '登记注册类型','街（村）、门牌号','邮政编码'\n",
    "]\n",
    "\n",
    "dtypes = {\n",
    "    '开业(成立)时间--年':'str',\n",
    "    '行业代码':'str',\n",
    "    '行政区别':'str',\n",
    "    '全部从业人员年平均人数':np.int32,\n",
    "    '出口交货值': np.int32,\n",
    "    '邮政编码':'str', \n",
    "    '法人代码':'str',\n",
    "    '法人单位': 'str',\n",
    "    '工业总产值(当年价格)':np.int32,\n",
    "    '电话号码':'str', \n",
    "    '主营产品1':'str', ## As nan\n",
    "    '主营业务收入':np.int32,\n",
    "    '营业利润':np.int32, ## As nan              \n",
    "    '街道办事处':'str', ## As nan\n",
    "    '乡（镇）':'str', ## As nan\n",
    "    '登记注册类型':'str', ## As nan\n",
    "    '街（村）、门牌号':'str', ## As nan\n",
    "    '邮政编码':'str', ## As nan\n",
    "}\n",
    "\n",
    "df_2009 = pd.read_csv(\"stata_year_2009.csv\",\n",
    "                      usecols = list_keep,\n",
    "                      dtype = dtypes)\n",
    "df_2009.shape"
   ]
  },
  {
   "cell_type": "code",
   "execution_count": null,
   "metadata": {
    "Collapsed": "false"
   },
   "outputs": [],
   "source": [
    "df_2009 = df_2009.rename(\n",
    "            index=str,\n",
    "            columns={\n",
    "                \"开业(成立)时间--年\": 'bdat',\n",
    "                \"行业代码\": 'cic',\n",
    "                \"行政区别\": 'dq',\n",
    "                \"全部从业人员年平均人数\": 'employment',\n",
    "                \"邮政编码\": 'zip',\n",
    "                \"法人代码\": 'id',\n",
    "                \"法人单位\": 'name',\n",
    "                \"工业总产值(当年价格)\": 'output',\n",
    "                \"主营业务收入\": 'revenue',\n",
    "                \"出口交货值\": 'export',\n",
    "                \"电话号码\": 'phone',\n",
    "                \"主营产品1\": 'product1_',\n",
    "                \"营业利润\": 'profit',\n",
    "                \"街道办事处\": 'street',\n",
    "                \"乡（镇）\": 'town',\n",
    "                \"登记注册类型\": 'type',\n",
    "                \"街（村）、门牌号\": 'village',\n",
    "                \"邮政编码\": 'zip',\n",
    "            })\n",
    "df_2009['year'] = '2009'"
   ]
  },
  {
   "cell_type": "code",
   "execution_count": null,
   "metadata": {
    "Collapsed": "false"
   },
   "outputs": [],
   "source": [
    "df_09 = prepareData(data = df_2009, dropna = True)  \n",
    "df_09.shape"
   ]
  },
  {
   "cell_type": "code",
   "execution_count": null,
   "metadata": {
    "Collapsed": "false"
   },
   "outputs": [],
   "source": [
    "df_2009.shape"
   ]
  },
  {
   "cell_type": "code",
   "execution_count": null,
   "metadata": {
    "Collapsed": "false"
   },
   "outputs": [],
   "source": [
    "start_time = time.time()\n",
    "\n",
    "df_09 = prepareData(data = df_2009, dropna = False)  \n",
    "list_convert = [\n",
    "'employment', 'export',  'output', 'profit',\n",
    "                #'va'\n",
    "                ]\n",
    "\n",
    "shape_before = df_09.shape[0]\n",
    "list_missing = []\n",
    "for name in list_convert:\n",
    "    df_09[name] = df_09[name].apply(pd.to_numeric,\n",
    "                                errors='coerce'\n",
    "                             )\n",
    "    \n",
    "    count_missing = df_09[name].isna().sum()\n",
    "    print(\"Var {} has {} missing values\".format(name, \n",
    "                                                count_missing)\n",
    "                                                )\n",
    "    \n",
    "    if count_missing >0:\n",
    "        list_missing.append(name)\n",
    "    \n",
    "#df_ = df_.dropna(subset=list_missing)\n",
    "shape_after = df_09.shape[0]\n",
    "dropped = shape_before - shape_after\n",
    "\n",
    "print(\"\"\"\n",
    "The following variables {0} contain NaN, hence removed.\n",
    "A total of {1} obs have been dropped.\"\"\".format(\n",
    "    list_missing,\n",
    "    dropped)\n",
    "     )\n",
    "\n",
    "#deal with duplicates of IDs (there are a few firms that have same IDs)*\n",
    "### Many missing ID\n",
    "#df_09 = df_09.drop_duplicates(['year', 'id'])\n",
    "\n",
    "print('Time elasped to prepare data 2009:{0:.2f} minutes'.format(\n",
    "    (time.time() - start_time)/60.0)\n",
    "     )"
   ]
  },
  {
   "cell_type": "code",
   "execution_count": null,
   "metadata": {
    "Collapsed": "false"
   },
   "outputs": [],
   "source": [
    "df_09.shape"
   ]
  },
  {
   "cell_type": "code",
   "execution_count": null,
   "metadata": {
    "Collapsed": "false"
   },
   "outputs": [],
   "source": [
    "df_09.groupby('year')['id'].count()"
   ]
  },
  {
   "cell_type": "code",
   "execution_count": null,
   "metadata": {
    "Collapsed": "false"
   },
   "outputs": [],
   "source": [
    "### Missing values\n",
    "df_09.shape[0] - df_09.groupby('year')['id'].count().values[0]"
   ]
  },
  {
   "cell_type": "markdown",
   "metadata": {
    "Collapsed": "true"
   },
   "source": [
    "## Append All\n",
    "\n",
    "- No need to include 2009. Data is too poor"
   ]
  },
  {
   "cell_type": "code",
   "execution_count": null,
   "metadata": {
    "Collapsed": "false"
   },
   "outputs": [],
   "source": [
    "df_final = pd.DataFrame()\n",
    "\n",
    "for dataframe in tqdm([df_9807, df_08,\n",
    "                                          #df_09\n",
    "                                         ]):\n",
    "    df_final = df_final.append(dataframe, sort = False)"
   ]
  },
  {
   "cell_type": "code",
   "execution_count": null,
   "metadata": {
    "Collapsed": "false"
   },
   "outputs": [],
   "source": [
    "df_final.shape"
   ]
  },
  {
   "cell_type": "code",
   "execution_count": null,
   "metadata": {
    "Collapsed": "false"
   },
   "outputs": [],
   "source": [
    "df_final.groupby(['year']).size().plot()"
   ]
  },
  {
   "cell_type": "code",
   "execution_count": null,
   "metadata": {
    "Collapsed": "false"
   },
   "outputs": [],
   "source": [
    "df_raw_all = df_final[['id', 'year']]\n",
    "#### Data 2008 does not have ID, so we create a fake one\n",
    "#df_raw_08['id'] = df_raw_08.index\n",
    " \n",
    "#df_raw = df_raw.append(df_raw_08)\n",
    "compare_raw_Brandt(raw= df_raw_all)"
   ]
  },
  {
   "cell_type": "code",
   "execution_count": null,
   "metadata": {
    "Collapsed": "false"
   },
   "outputs": [],
   "source": [
    "df_final.groupby('year')['id'].count()"
   ]
  },
  {
   "cell_type": "markdown",
   "metadata": {
    "Collapsed": "false"
   },
   "source": [
    "## Move to the cloud"
   ]
  },
  {
   "cell_type": "code",
   "execution_count": 99,
   "metadata": {
    "Collapsed": "false"
   },
   "outputs": [
    {
     "name": "stdout",
     "output_type": "stream",
     "text": [
      "data asif_year_1998.gz is saved locally and being moved to Storage\n",
      "File asif_year_1998.gz uploaded to Panel_china/Asif_panel_china/Raw_.\n",
      "data asif_year_1999.gz is saved locally and being moved to Storage\n",
      "File asif_year_1999.gz uploaded to Panel_china/Asif_panel_china/Raw_.\n",
      "data asif_year_2000.gz is saved locally and being moved to Storage\n",
      "File asif_year_2000.gz uploaded to Panel_china/Asif_panel_china/Raw_.\n",
      "data asif_year_2001.gz is saved locally and being moved to Storage\n",
      "File asif_year_2001.gz uploaded to Panel_china/Asif_panel_china/Raw_.\n",
      "data asif_year_2002.gz is saved locally and being moved to Storage\n",
      "File asif_year_2002.gz uploaded to Panel_china/Asif_panel_china/Raw_.\n",
      "data asif_year_2003.gz is saved locally and being moved to Storage\n",
      "File asif_year_2003.gz uploaded to Panel_china/Asif_panel_china/Raw_.\n",
      "data asif_year_2004.gz is saved locally and being moved to Storage\n",
      "File asif_year_2004.gz uploaded to Panel_china/Asif_panel_china/Raw_.\n",
      "data asif_year_2005.gz is saved locally and being moved to Storage\n",
      "File asif_year_2005.gz uploaded to Panel_china/Asif_panel_china/Raw_.\n",
      "data asif_year_2006.gz is saved locally and being moved to Storage\n",
      "File asif_year_2006.gz uploaded to Panel_china/Asif_panel_china/Raw_.\n",
      "data asif_year_2007.gz is saved locally and being moved to Storage\n",
      "File asif_year_2007.gz uploaded to Panel_china/Asif_panel_china/Raw_.\n"
     ]
    }
   ],
   "source": [
    "move_to_cloud = True\n",
    "\n",
    "### Need to change df_9807 to df_final if include 2008/2009\n",
    "for year in range(1998, 2008):\n",
    "    df = df_9807[df_9807['year'] == str(year)]\n",
    "    \n",
    "    data = 'asif_year_{}.gz'.format(year)\n",
    "    \n",
    "    df.to_csv(\n",
    "\tdata,\n",
    "\tsep=',',\n",
    "\theader=True,\n",
    "\tindex=False,\n",
    "\tchunksize=100000,\n",
    "\tcompression='gzip',\n",
    "\tencoding='utf-8')\n",
    "    \n",
    "    print('data {} is saved locally and being moved to Storage'.format(data))\n",
    "    \n",
    "    ### Then upload to GCS\n",
    "    if move_to_cloud:\n",
    "        bucket_name = 'chinese_data'\n",
    "        destination_blob_name = 'Panel_china/Asif_panel_china/Raw_'\n",
    "        source_file_name = data\n",
    "        gcp.upload_blob(bucket_name, destination_blob_name, source_file_name)"
   ]
  },
  {
   "cell_type": "markdown",
   "metadata": {
    "Collapsed": "false"
   },
   "source": [
    "## Remove Files"
   ]
  },
  {
   "cell_type": "code",
   "execution_count": 100,
   "metadata": {
    "Collapsed": "false"
   },
   "outputs": [],
   "source": [
    "import glob\n",
    "import os"
   ]
  },
  {
   "cell_type": "code",
   "execution_count": 101,
   "metadata": {
    "Collapsed": "false"
   },
   "outputs": [],
   "source": [
    "list_stata = glob.glob('stata_year_*.csv')\n",
    "list_gz = glob.glob('asif_year_*.gz')"
   ]
  },
  {
   "cell_type": "code",
   "execution_count": 102,
   "metadata": {
    "Collapsed": "false"
   },
   "outputs": [
    {
     "data": {
      "text/plain": [
       "[None, None, None, None, None, None, None, None, None, None]"
      ]
     },
     "execution_count": 102,
     "metadata": {},
     "output_type": "execute_result"
    }
   ],
   "source": [
    "[os.remove(item) for item in list_stata]"
   ]
  },
  {
   "cell_type": "code",
   "execution_count": 103,
   "metadata": {
    "Collapsed": "false"
   },
   "outputs": [
    {
     "data": {
      "text/plain": [
       "[None, None, None, None, None, None, None, None, None, None]"
      ]
     },
     "execution_count": 103,
     "metadata": {},
     "output_type": "execute_result"
    }
   ],
   "source": [
    "[os.remove(item) for item in list_gz]"
   ]
  }
 ],
 "metadata": {
  "kernel_info": {
   "name": "python3"
  },
  "kernelspec": {
   "display_name": "Python 3",
   "language": "python",
   "name": "python3"
  },
  "language_info": {
   "codemirror_mode": {
    "name": "ipython",
    "version": 3
   },
   "file_extension": ".py",
   "mimetype": "text/x-python",
   "name": "python",
   "nbconvert_exporter": "python",
   "pygments_lexer": "ipython3",
   "version": "3.7.4"
  },
  "nteract": {
   "version": "0.15.0"
  }
 },
 "nbformat": 4,
 "nbformat_minor": 4
}
